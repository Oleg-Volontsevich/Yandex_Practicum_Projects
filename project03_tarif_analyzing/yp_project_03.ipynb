{
 "cells": [
  {
   "cell_type": "markdown",
   "metadata": {},
   "source": [
    "Привет, меня зовут Гребенюк Артём. Сегодня я буду делать ревью твоего проекта!\\\n",
    "В Практикуме принято общаться на \"ты\", однако если это неудобно - дай знать, и можем перейти на более официальное общение.\n",
    "\n",
    "Я буду оставлять комментарии по ходу работы, их можно найти в зеленых, жёлтых и красных ячейках, таких как эти:\n",
    "\n",
    "<div class=\"alert alert-block alert-success\">\n",
    "<b>Success:</b> Если все сделано хорошо.</div>\n",
    "\n",
    "<div class=\"alert alert-block alert-warning\">\n",
    "<b>Remarks:</b> Некритичное замечание; если таких замечаний меньше трех — проект может быть принят без их отработки.</div>\n",
    "\n",
    "<div class=\"alert alert-block alert-danger\">\n",
    "<b>Needs fixing:</b> Грубая ошибка, необходимо исправить, иначе проект не будет принят.\n",
    "</div>\n",
    "\n",
    "Очень важно, чтобы ты сохранил мои комментари без изменений при доработке проекта, а также реагировал на них - описывал изменения в отдельных ячейках, помечая их другим цветом. \n",
    "Например так:\n",
    "<div class=\"alert alert-block alert-info\">\n",
    "<b>Fixed:</b> \n",
    "Графики подписаны\n",
    "</div>\n",
    "\n",
    "Или можешь использовать эту галочку ✔ в моих комментариях, если писать особо нечего.\n",
    "\n",
    "<div class=\"alert alert-block alert-warning\">\n",
    "<b>Общее впечатление:</b> \n",
    "    \n",
    "- Спасибо за работу, определенно могу сказать, что справился ты хорошо и проверять твою работу было приятно :)\n",
    "- Код оформлен хорошо, его легко было читать.\n",
    "- Здорово, что ты используешь маркадун-ячейки, заголовки, жирные шрифты и т.д. Читать хорошо структурированную работу - одно удовольствие. Так держать!\n",
    "- Пробегись по моим жёлтым комментариям, исправь недочёты и всё будет отлично :)\n",
    "    \n",
    "<div class=\"alert alert-block alert-info\">\n",
    "<b>Fixed:</b> \n",
    "Артем, привет. Спасибо за ревью. Всё ёмко и по делу.\n",
    "</div>"
   ]
  },
  {
   "cell_type": "markdown",
   "metadata": {},
   "source": [
    "<div class=\"alert alert-block alert-success\">\n",
    "<b>Общее впечатление v.2:</b> \n",
    "    \n",
    "- все правки выглядят отлично, хорошая работа!\n",
    "- помни, что любые замечания - это возможности для профессионального роста :)\n",
    "- удачи в дальнейшем обучении и в целом по жизни :)"
   ]
  },
  {
   "cell_type": "markdown",
   "metadata": {},
   "source": [
    "## Определение перспективного тарифа для телеком компании"
   ]
  },
  {
   "cell_type": "markdown",
   "metadata": {},
   "source": [
    "## План:  \n",
    "#### 1. [Изучение общей информации. Импорт библиотек, определение проблем](#import)  \n",
    "\n",
    "#### 2. [Подготовка данных](#pre)  \n",
    "* [Распределение по месяцам](#pre_1)  \n",
    "    * [Суммарное количество Звонки](#pre_1_2)  \n",
    "    * [Суммарное количество Интернет-сессии](#pre_1_2)\n",
    "    * [Суммарное количество СМС](#pre_1_3)\n",
    "* [Подсчет количества по месяцам](#pre_1_4)    \n",
    "    * [сделанных звонков по месяцам](#pre_1_4)\n",
    "    * [израсходованных минут по месяцам](#pre_1_5)\n",
    "    * [израсходованных СМС по месяцам](#pre_1_6)\n",
    "    * [израсходованных Мб по месяцам](#pre_1_8)\n",
    "    * [израсходованных Гб по месяцам](#pre_1_9)\n",
    "* [Функция для подсчета выручки по месяцам](#pre_1_10)\n",
    "    * [Подсчет выручки за звонки по месяцам](#pre_1_11)\n",
    "    * [Подсчет выручки за СМС  по месяцам](#pre_1_12)\n",
    "    * [Подсчет выручки за трафик  по месяцам](#pre_1_13)\n",
    "* [функция для абонентской платы](#pre_1_14)\n",
    "    * [Подсчет абонентской платы  по месяцам](#pre_1_15)  \n",
    "* [Подсчет суммарной выручки по месяцам](#pre_1_16)  \n",
    "\n",
    "#### 3. [Анализ](#Analysis)  \n",
    "* [Суммарная выручка Москва / не Москва](#Analysis_1)  \n",
    "* [Количество и средняя выручка по тарифам Москав / не Москва](#Analysis_2)\n",
    "* [Суммарная выручка smart / ultra](#Analysis_3)\n",
    "* [Звонки](#Analysis_4)\n",
    "    * [Минут smart / ultra](#Analysis_4)\n",
    "    * [Выручка за звонки smart / ultra](#Analysis_5)\n",
    "* [СМС](#Analysis_6)      \n",
    "    * [Количество СМС smart / ultra](#Analysis_6)\n",
    "    * [Выручка за СМС smart / ultra](#Analysis_7)\n",
    "* [Интернет-трафик smart / ultra](#Analysis_8)      \n",
    "    * [Трафик smart / ultra](#Analysis_8)\n",
    "    * [Выручка за трафик smart / ultra](#Analysis_9)\n",
    "* [Сравнительная таблица тарифов](#Table)\n",
    "\n",
    "#### 4. [Проверка гипотез](#step4)\n",
    "* [средняя выручка пользователей тарифов «Ультра» и «Смарт» различается](#step4_1)\n",
    "* [средняя выручка пользователей из Москвы отличается от выручки пользователей из других регионов](#step4_2)  \n",
    "\n",
    "#### 5. [Выод](#End)"
   ]
  },
  {
   "cell_type": "markdown",
   "metadata": {},
   "source": [
    "<div class=\"alert alert-block alert-warning\">\n",
    "<b>Remarks:</b> \n",
    "\n",
    "Давай попробуем сделать это оглавление ссылочной навигацией, маркдаун может и такое :) \n",
    "    \n",
    "Я дам тебе ссылки на полезные гайды, которые могут помочь:\n",
    "    \n",
    "<a href=\"https://markdown-guide.readthedocs.io/en/latest/basics.html\">guide1.</a>\n",
    "<a href=\"https://paulradzkov.com/2014/markdown_cheatsheet/\">guide2.</a>\n",
    "    \n",
    "А также советую тебе взглянуть на <a href=\"https://www.kaggle.com/notebooks/\">работы</a> профессиональных аналитиков, чтобы оценить, как другие люди оформляют и проводят исследования.\n",
    "    \n",
    "</div>"
   ]
  },
  {
   "cell_type": "markdown",
   "metadata": {},
   "source": [
    "<div class=\"alert alert-block alert-info\">\n",
    "<b>Fixed:</b> \n",
    "Освоил.\n",
    "</div>"
   ]
  },
  {
   "cell_type": "markdown",
   "metadata": {},
   "source": [
    "### Описание проекта\n",
    "Вы аналитик компании «Мегалайн» — федерального оператора сотовой связи. Клиентам предлагают два тарифных плана: «Смарт» и «Ультра». Чтобы скорректировать рекламный бюджет, коммерческий департамент хочет понять, какой тариф приносит больше денег.\n",
    "Вам предстоит сделать предварительный анализ тарифов на небольшой выборке клиентов. В вашем распоряжении данные 500 пользователей «Мегалайна»: кто они, откуда, каким тарифом пользуются, сколько звонков и сообщений каждый отправил за 2018 год. Нужно проанализировать поведение клиентов и сделать вывод — какой тариф лучше."
   ]
  },
  {
   "cell_type": "markdown",
   "metadata": {},
   "source": [
    "### Описание данных\n",
    "\n",
    "#### Таблица users (информация о пользователях):\n",
    "\n",
    "    user_id — уникальный идентификатор пользователя\n",
    "    first_name — имя пользователя\n",
    "    last_name — фамилия пользователя\n",
    "    age — возраст пользователя (годы)\n",
    "    reg_date — дата подключения тарифа (день, месяц, год)\n",
    "    churn_date — дата прекращения пользования тарифом (если значение пропущено, то тариф ещё действовал на момент выгрузки данных)\n",
    "    city — город проживания пользователя\n",
    "    tariff — название тарифного плана\n",
    "\n",
    "#### Таблица calls (информация о звонках):\n",
    "\n",
    "    id — уникальный номер звонка\n",
    "    call_date — дата звонка\n",
    "    duration — длительность звонка в минутах\n",
    "    user_id — идентификатор пользователя, сделавшего звонок\n",
    "\n",
    "#### Таблица messages (информация о сообщениях):\n",
    "\n",
    "    id — уникальный номер сообщения\n",
    "    message_date — дата сообщения\n",
    "    user_id — идентификатор пользователя, отправившего сообщение\n",
    "\n",
    "#### Таблица internet (информация об интернет-сессиях):\n",
    "\n",
    "    id — уникальный номер сессии\n",
    "    mb_used — объём потраченного за сессию интернет-трафика (в мегабайтах)\n",
    "    session_date — дата интернет-сессии\n",
    "    user_id — идентификатор пользователя\n",
    "\n",
    "#### Таблица tariffs (информация о тарифах):\n",
    "\n",
    "    tariff_name — название тарифа\n",
    "    rub_monthly_fee — ежемесячная абонентская плата в рублях\n",
    "    minutes_included — количество минут разговора в месяц, включённых в абонентскую плату\n",
    "    messages_included — количество сообщений в месяц, включённых в абонентскую плату\n",
    "    mb_per_month_included — объём интернет-трафика, включённого в абонентскую плату (в мегабайтах)\n",
    "    rub_per_minute — стоимость минуты разговора сверх тарифного пакета (например, если в тарифе 100 минут разговора в месяц, то со 101 минуты будет взиматься плата)\n",
    "    rub_per_message — стоимость отправки сообщения сверх тарифного пакета\n",
    "    rub_per_gb — стоимость дополнительного гигабайта интернет-трафика сверх тарифного пакета (1 гигабайт = 1024 мегабайта)\n",
    "\n",
    "Примечание. Если объединение таблиц методом merge приводит к ошибке dead kernell, примените метод join — это облегчит нагрузку на Jupyter Notebook."
   ]
  },
  {
   "cell_type": "markdown",
   "metadata": {},
   "source": [
    "### Описание тарифов\n",
    "#### Тариф «Смарт»\n",
    "\n",
    "    Ежемесячная плата: 550 рублей\n",
    "    Включено 500 минут разговора, 50 сообщений и 15 Гб интернет-трафика\n",
    "    Стоимость услуг сверх тарифного пакета:\n",
    "\n",
    "    минута разговора: 3 рубля\n",
    "    сообщение: 3 рубля\n",
    "    1 Гб интернет-трафика: 200 рублей\n",
    "\n",
    "#### Тариф «Ультра»\n",
    "\n",
    "    Ежемесячная плата: 1950 рублей\n",
    "    Включено 3000 минут разговора, 1000 сообщений и 30 Гб интернет-трафика\n",
    "    Стоимость услуг сверх тарифного пакета:\n",
    "\n",
    "    минута разговора: 1 рубль\n",
    "    сообщение: 1 рубль\n",
    "    1 Гб интернет-трафика: 150 рублей\n",
    "\n",
    "«Мегалайн» всегда округляет вверх значения минут и мегабайтов. Если пользователь проговорил всего 1 секунду, в тарифе засчитывается целая минута.\n",
    "Инструкция по выполнению проекта"
   ]
  },
  {
   "cell_type": "markdown",
   "metadata": {},
   "source": [
    "<a name=\"import\"></a>\n",
    "### Шаг 1. Изучение общей информации\n",
    "Путь к файлам:\n",
    "\n",
    "    /datasets/calls.csv. Скачать датасет\n",
    "    /datasets/internet.csv. Скачать датасет\n",
    "    /datasets/messages.csv. Скачать датасет\n",
    "    /datasets/tariffs.csv. Скачать датасет\n",
    "    /datasets/users.csv. Скачать датасет"
   ]
  },
  {
   "cell_type": "code",
   "execution_count": 2,
   "metadata": {},
   "outputs": [],
   "source": [
    "import pandas as pd\n",
    "import numpy as np\n",
    "import matplotlib.pyplot as plt\n",
    "from scipy import stats as st\n",
    "from IPython.display import display\n",
    "#pd.set_option('mode.chained_assignment', None) #отключим предупреждения после проверки что всё работает как надо"
   ]
  },
  {
   "cell_type": "code",
   "execution_count": 18,
   "metadata": {},
   "outputs": [],
   "source": [
    "calls=pd.read_csv('/datasets/calls.csv')\n",
    "internet=pd.read_csv('/datasets/internet.csv') \n",
    "messages=pd.read_csv('/datasets/messages.csv') \n",
    "tariffs=pd.read_csv('/datasets/tariffs.csv') \n",
    "users=pd.read_csv('/datasets/users.csv') "
   ]
  },
  {
   "cell_type": "markdown",
   "metadata": {},
   "source": [
    "<div class=\"alert alert-block alert-warning\">\n",
    "<b>Remarks:</b> \n",
    "\n",
    "Здорово, что все импорты собраны в первой ячейке, но я советую отделять их от остального кода. Делается это для того, чтобы при необходимости иметь возможность импортировать новую библиотеку, перезапустить первую ячейку и продолжить работу с того момента, на котором остановились, не перетирая датасет "
   ]
  },
  {
   "cell_type": "markdown",
   "metadata": {},
   "source": [
    "<div class=\"alert alert-block alert-info\">\n",
    "<b>Fixed:</b> \n",
    "Спасибо. Принял, поправил.\n",
    "</div>"
   ]
  },
  {
   "cell_type": "markdown",
   "metadata": {},
   "source": [
    "#### информация"
   ]
  },
  {
   "cell_type": "markdown",
   "metadata": {},
   "source": [
    "##### users:\n",
    "* 500 строк с уникальными user_id.   \n",
    "* 76 уникальных городов. Москва - 99 строк, разных видов написания нет.     \n",
    "* 38 клиентов прекратили пользоваться тарифом на момент выгрузки.  \n",
    "* smart - 351 строка (70%), ultra - 149 строк (30%).  \n",
    "* 58 значений возраста. Распределены от 17 до 75 без перекосов.   \n",
    "* churn_date и reg_date необходимо преобразовать в datetime  \n",
    "* reg_date - без перекосов, \n",
    "* churn_date с увеличением даты встречается чаще (похоже на нормальный отток)  \n",
    "\n",
    "##### calls:\n",
    "* 202607 строк с уникальными id.   \n",
    "* 492 уникальных user_id. 8 пользователей не осуществляли звонки. \n",
    "* 39613 звонков длительностью (duration) = 0, среднее время 6.76 мин., медиана 6.00 мин.\n",
    "* Вероятно duration=0 обозначает что user_id не дозвонился, звонок сорвался, был сброшен. Такие звонки не тарифицируются и учитывать их в исследовании не имеет смысла.\n",
    "* Без звонков 0 продолжительности среднее увеличивается до 8.40, медиана до 7.74 \n",
    "* call_date необходимо преобразовать в datetime \n",
    "* необходимо учитывать что длительность звонка округляется в большую сторону  \n",
    "\n",
    "##### messages:\n",
    "* 123036 строк с уникальными id.   \n",
    "* 426 уникальных user_id. 74 пользователя как Мачете - не СМСят.\n",
    "\n",
    "##### internet:\n",
    "* 149396 строк с уникальными id.   \n",
    "* 497 уникальных user_id. 3 пользователя не используют мобильный интернет.\n",
    "* 19598 сессий с 0 интернет-трафиком, средний расход 370 Мбайт., медиана 348 Мбайт\n",
    "* По аналогии со звонками 0 трафик необходимо исключить.\n",
    "* После удаления средний расход 426 Мбайт., медиана 400 Мбайт\n",
    "* Нужно уточнить в какой момент округляется трафик. Пока считаем что траффик округляется по окончании каждой сессии.\n",
    "* В данные подтягивается лишний столбец с индексами 'Unnamed: 0'.\n"
   ]
  },
  {
   "cell_type": "markdown",
   "metadata": {},
   "source": [
    "<div class=\"alert alert-block alert-warning\">\n",
    "<b>Remarks:</b> \n",
    "\n",
    "Я так понимаю, эта информация добыта при помощи `info()` и `describe()`. Но почему ты удалил ячейки с этими функциями из проекта?"
   ]
  },
  {
   "cell_type": "markdown",
   "metadata": {},
   "source": [
    "<div class=\"alert alert-block alert-info\">\n",
    "<b>Fixed:</b> \n",
    "Использовал info(), describe(), value_counts() для разных df и столбцов.\n",
    "Можно было оставить, но в предыдущих проектах советовали удалять лишний код...\n",
    "</div>"
   ]
  },
  {
   "cell_type": "markdown",
   "metadata": {},
   "source": [
    "<a name=\"pre\"></a>\n",
    "### Шаг 2. Подготовка данных\n",
    "\n",
    "    Приведите данные к нужным типам;\n",
    "    Найдите и исправьте ошибки в данных.\n",
    "\n",
    "Поясните, какие ошибки вы нашли и как их исправили. Обратите внимание, что длительность многих звонков — 0.0 минут. Это могут быть пропущенные звонки. Обрабатывать ли эти нулевые значения, решать вам — оцените, как их отсутствие повлияет на результаты анализа.\n",
    "Посчитайте для каждого пользователя:\n",
    "\n",
    "  *  количество сделанных звонков и израсходованных минут разговора по месяцам;\n",
    "  *  количество отправленных сообщений по месяцам;\n",
    "  *  объем израсходованного интернет-трафика по месяцам;\n",
    "  *  помесячную выручку с каждого пользователя (вычтите бесплатный лимит из суммарного количества звонков, сообщений и интернет-трафика; остаток умножьте на значение из тарифного плана; прибавьте абонентскую плату, соответствующую тарифному плану)."
   ]
  },
  {
   "cell_type": "code",
   "execution_count": 4,
   "metadata": {},
   "outputs": [
    {
     "data": {
      "image/png": "[encoded data removed]",
      "text/plain": [
       "<Figure size 432x288 with 1 Axes>"
      ]
     },
     "metadata": {
      "needs_background": "light"
     },
     "output_type": "display_data"
    },
    {
     "data": {
      "image/png": "[encoded data removed]",
      "text/plain": [
       "<Figure size 432x288 with 1 Axes>"
      ]
     },
     "metadata": {
      "needs_background": "light"
     },
     "output_type": "display_data"
    }
   ],
   "source": [
    "users['churn_date']=pd.to_datetime(users['churn_date'], format='%Y-%m-%d') #переводим значение в datetime\n",
    "users['reg_date']=pd.to_datetime(users['reg_date'], format='%Y-%m-%d') #переводим значение в datetime\n",
    "\n",
    "calls=calls.loc[calls.loc[:, 'duration']>0] #удаляем строки с 0 продолжительностью звонка\n",
    "calls['duration']=np.ceil(calls['duration']) #округляем в большую сторону\n",
    "calls['call_date']=pd.to_datetime(calls['call_date'], format='%Y-%m-%d') #переводим значение в datetime\n",
    "calls.hist(column='duration', bins=38, edgecolor = 'black') #строим распределение продолжительности звонков\n",
    "plt.title(\"распределение продолжительности звонков\")\n",
    "plt.ylabel(\"Количество звонков, шт.\")\n",
    "plt.xlabel(\"Продолжительность звонка, мин.\");\n",
    "\n",
    "messages['message_date']=pd.to_datetime(messages['message_date'], format='%Y-%m-%d') #переводим значение в datetime\n",
    "\n",
    "internet=internet.loc[internet.loc[:, 'mb_used']>0] #удаляем строки с 0 трафиком\n",
    "#Считаем что траффик необходимо округлять до целых Мб по окончании каждой сессии.\n",
    "internet['mb_used']=np.ceil(internet['mb_used']) #округляем в большую сторону. \n",
    "internet['session_date']=pd.to_datetime(internet['session_date'], format='%Y-%m-%d') #переводим значение в datetime\n",
    "internet.drop(['Unnamed: 0'], axis='columns', inplace=True) #удаляю лишний столбец 'Unnamed: 0'\n",
    "internet.hist(column='mb_used', bins=50, edgecolor = 'black') #строим распределение трафика за 1 сессию\n",
    "plt.title(\"распределение интернет-трафика за 1 сессию\"); \n",
    "plt.ylabel(\"Количество сессий, шт.\")\n",
    "plt.xlabel(\"Трафик, МБ\");\n",
    "\n",
    "#internet.info()\n",
    "#display(internet)"
   ]
  },
  {
   "cell_type": "markdown",
   "metadata": {},
   "source": [
    "Графики без перекосов, распределения нормальные, выбросы в норме."
   ]
  },
  {
   "cell_type": "markdown",
   "metadata": {},
   "source": [
    "<div class=\"alert alert-block alert-warning\">\n",
    "<b>Remarks:</b> \n",
    "\n",
    "- Нужно пояснение, почему решили удалять звонки с нулевой продолжительностью и анализ, как это повлияет на исследование.\n",
    "- У всех графиков должны быть подписаны все оси.\n",
    "- Аналогично с трафиком.\n",
    "- Комментарии к исследованию следует писать в маркдаун-ячейках, а через # только комментировать код.\n",
    "- По распределениям не хватает вывода, иначе зачем было их строить.\n",
    "- Следует тщательнее проработать типы данных, в том числе для экономии памяти."
   ]
  },
  {
   "cell_type": "markdown",
   "metadata": {},
   "source": [
    "<div class=\"alert alert-block alert-info\">\n",
    "<b>Fixed:</b> \n",
    "    \n",
    "_Нужно пояснение, почему решили удалять звонки с нулевой продолжительностью_\n",
    "- Писал об этом в описании df:  \n",
    "- 39613 звонков длительностью (duration) = 0, среднее время 6.76 мин., медиана 6.00 мин.  \n",
    "- Вероятно duration=0 обозначает что user_id не дозвонился, звонок сорвался, был сброшен. Такие звонки не тарифицируются и учитывать их в исследовании не имеет смысла.  \n",
    "- Без звонков 0 продолжительности среднее увеличивается до 8.40, медиана до 7.74  \n",
    "\n",
    "_У всех графиков должны быть подписаны все оси_   \n",
    "- Все исправил по критериям следующего комментария\n",
    "    \n",
    "Остальные замечания учел.\n",
    "</div>"
   ]
  },
  {
   "cell_type": "markdown",
   "metadata": {},
   "source": [
    "<a name=\"pre_1\"></a>\n",
    "### Распределение по месяцам\n",
    "Посмотрим как ведут себя данные в зависимости от месяца."
   ]
  },
  {
   "cell_type": "markdown",
   "metadata": {},
   "source": [
    "<a name=\"pre_1_1\"></a>\n",
    "#### Суммарное количество Звонки"
   ]
  },
  {
   "cell_type": "code",
   "execution_count": 5,
   "metadata": {
    "scrolled": true
   },
   "outputs": [
    {
     "name": "stdout",
     "output_type": "stream",
     "text": [
      "           count      mean  median       sum\n",
      "call_date                                   \n",
      "1           1164  9.264605     9.0   10784.0\n",
      "2           2705  9.040665     8.0   24455.0\n",
      "3           5383  8.945012     8.0   48151.0\n",
      "4           7504  8.836620     8.0   66310.0\n",
      "5          10116  8.779162     8.0   88810.0\n",
      "6          11833  8.888701     8.0  105180.0\n",
      "7          14780  8.913802     8.0  131746.0\n",
      "8          17257  8.906415     8.0  153698.0\n",
      "9          19446  8.920858     8.0  173475.0\n",
      "10         21757  8.913361     8.0  193928.0\n",
      "11         23664  8.878000     8.0  210089.0\n",
      "12         27385  8.898119     8.0  243675.0\n"
     ]
    },
    {
     "data": {
      "text/plain": [
       "Text(0.5, 0, 'Месяц')"
      ]
     },
     "execution_count": 5,
     "metadata": {},
     "output_type": "execute_result"
    },
    {
     "data": {
      "image/png": "[encoded data removed]",
      "text/plain": [
       "<Figure size 432x288 with 1 Axes>"
      ]
     },
     "metadata": {
      "needs_background": "light"
     },
     "output_type": "display_data"
    },
    {
     "data": {
      "image/png": "[encoded data removed]",
      "text/plain": [
       "<Figure size 432x288 with 1 Axes>"
      ]
     },
     "metadata": {
      "needs_background": "light"
     },
     "output_type": "display_data"
    }
   ],
   "source": [
    "print(calls.pivot_table(index=calls['call_date'].dt.month, values='duration', aggfunc=('count', 'sum', 'mean', 'median')))\n",
    "calls.pivot_table(index=calls['call_date'].dt.month, values='call_date', aggfunc=('count')).plot(\n",
    "    kind=\"bar\", grid=True, legend=False);\n",
    "plt.title(\"Количество звонков\"); \n",
    "plt.ylabel(\"Количество, шт.\")\n",
    "plt.xlabel(\"Месяц\")\n",
    "calls.pivot_table(index=calls['call_date'].dt.month, values='duration', aggfunc=('mean')).plot(\n",
    "    title='Средняя продолжительность звонка (округленная)', grid=True, legend=False)\n",
    "plt.ylabel(\"Продолжительность звонка, мин.\")\n",
    "plt.xlabel(\"Месяц\")"
   ]
  },
  {
   "cell_type": "markdown",
   "metadata": {},
   "source": [
    "<div class=\"alert alert-block alert-warning\">\n",
    "<b>Remarks:</b> \n",
    "\n",
    "Проверь и исправь все графики в проекте по следующим критериям:\n",
    "- оси подписаны\n",
    "- есть единицы измерения\n",
    "- есть тайтл \n",
    "- все подписи на одном языке\n",
    "- графики информативны"
   ]
  },
  {
   "cell_type": "markdown",
   "metadata": {},
   "source": [
    "<a name=\"pre_1_2\"></a>\n",
    "#### Суммарное количество Интернет-сессии"
   ]
  },
  {
   "cell_type": "code",
   "execution_count": 6,
   "metadata": {
    "scrolled": true
   },
   "outputs": [
    {
     "name": "stdout",
     "output_type": "stream",
     "text": [
      "              count        mean  median        sum\n",
      "session_date                                      \n",
      "1               966  422.580745   397.5   408213.0\n",
      "2              2263  422.601856   394.0   956348.0\n",
      "3              4262  425.612389   401.5  1813960.0\n",
      "4              5692  427.988580   402.0  2436111.0\n",
      "5              8209  430.002802   405.0  3529893.0\n",
      "6              9656  433.385460   405.0  4184770.0\n",
      "7             11788  427.154649   402.0  5035299.0\n",
      "8             14009  428.662003   404.0  6005126.0\n",
      "9             15198  424.722398   399.0  6454931.0\n",
      "10            17367  426.138884   400.0  7400754.0\n",
      "11            18910  423.048757   399.0  7999852.0\n",
      "12            21478  425.747369   398.0  9144202.0\n"
     ]
    },
    {
     "data": {
      "text/plain": [
       "Text(0.5, 0, 'Месяц')"
      ]
     },
     "execution_count": 6,
     "metadata": {},
     "output_type": "execute_result"
    },
    {
     "data": {
      "image/png": "[encoded data removed]",
      "text/plain": [
       "<Figure size 432x288 with 1 Axes>"
      ]
     },
     "metadata": {
      "needs_background": "light"
     },
     "output_type": "display_data"
    }
   ],
   "source": [
    "print(internet.pivot_table(index=internet['session_date'].dt.month, values='mb_used', \n",
    "                           aggfunc=('count', 'sum', 'mean', 'median')))\n",
    "internet.pivot_table(index=internet['session_date'].dt.month, values='session_date',\n",
    "        aggfunc=('count')).plot(title='Количество интернет-сессий', kind=\"bar\", grid=True);\n",
    "plt.ylabel(\"Количество интернет-сессий, шт.\")\n",
    "plt.xlabel(\"Месяц\")\n",
    "#internet.pivot_table(index=internet['session_date'].dt.month, values='mb_used', \n",
    "#        aggfunc=('mean', 'median')).plot(title='Среднее и медиана трафика за 1 сессию', grid=True);"
   ]
  },
  {
   "cell_type": "markdown",
   "metadata": {},
   "source": [
    "<a name=\"pre_1_3\"></a>\n",
    "#### Суммарное количество СМС"
   ]
  },
  {
   "cell_type": "code",
   "execution_count": 7,
   "metadata": {},
   "outputs": [
    {
     "name": "stdout",
     "output_type": "stream",
     "text": [
      "                 id\n",
      "message_date       \n",
      "1               924\n",
      "2              1924\n",
      "3              3648\n",
      "4              5179\n",
      "5              7298\n",
      "6              8983\n",
      "7             11320\n",
      "8             13088\n",
      "9             14759\n",
      "10            17114\n",
      "11            18244\n",
      "12            20555\n"
     ]
    },
    {
     "data": {
      "text/plain": [
       "Text(0.5, 0, 'Месяц')"
      ]
     },
     "execution_count": 7,
     "metadata": {},
     "output_type": "execute_result"
    },
    {
     "data": {
      "image/png": "[encoded data removed]",
      "text/plain": [
       "<Figure size 432x288 with 1 Axes>"
      ]
     },
     "metadata": {
      "needs_background": "light"
     },
     "output_type": "display_data"
    }
   ],
   "source": [
    "print(messages.pivot_table(index=messages['message_date'].dt.month, values='id', aggfunc=('count')))\n",
    "messages.pivot_table(index=messages['message_date'].dt.month, values='message_date', aggfunc=('count')).plot(\n",
    "    title='количество СМС', kind=\"bar\", grid=True, legend=False);\n",
    "plt.ylabel(\"Количество, шт.\")\n",
    "plt.xlabel(\"Месяц\")"
   ]
  },
  {
   "cell_type": "markdown",
   "metadata": {},
   "source": [
    "Видно почти линейный рост количества звонков, интернет-сессий и СМС в течении года."
   ]
  },
  {
   "cell_type": "markdown",
   "metadata": {},
   "source": [
    "\n",
    "<div class=\"alert alert-block alert-success\">\n",
    "<b>Success:</b> Верно. Число новых пользователей растет, общие метрики растут"
   ]
  },
  {
   "cell_type": "code",
   "execution_count": 8,
   "metadata": {},
   "outputs": [
    {
     "name": "stdout",
     "output_type": "stream",
     "text": [
      "call_month\n",
      "1      42\n",
      "2      81\n",
      "3     114\n",
      "4     164\n",
      "5     205\n",
      "6     244\n",
      "7     288\n",
      "8     336\n",
      "9     369\n",
      "10    411\n",
      "11    444\n",
      "12    470\n",
      "Name: user_id, dtype: int64\n"
     ]
    },
    {
     "data": {
      "text/plain": [
       "Text(0.5, 0, 'Месяц')"
      ]
     },
     "execution_count": 8,
     "metadata": {},
     "output_type": "execute_result"
    },
    {
     "data": {
      "image/png": "[encoded data removed]",
      "text/plain": [
       "<Figure size 432x288 with 1 Axes>"
      ]
     },
     "metadata": {
      "needs_background": "light"
     },
     "output_type": "display_data"
    }
   ],
   "source": [
    "#проверим количество уникальных пользователей, совершавших звонки в каждом месяце\n",
    "calls['call_month']=calls['call_date'].dt.month #добавляем столбец с месяцем\n",
    "print(calls.groupby('call_month')['user_id'].nunique()) #сколько пользователей совершали звонки по месяцам\n",
    "calls.groupby('call_month')['user_id'].nunique().plot(\n",
    "    kind=\"bar\", title='количество звонивших абонентов', grid=True);\n",
    "plt.ylabel(\"Количество, чел.\")\n",
    "plt.xlabel(\"Месяц\")"
   ]
  },
  {
   "cell_type": "markdown",
   "metadata": {},
   "source": [
    "Количество абонентов тарифных планов «Смарт» и «Ультра» лучшего оператора сотовой связи в РФ ежемесячно увеличивается.  \n",
    "Это объясняет линейный рост количественных показателей (звонков, интернет-сессий и СМС) в течении года. "
   ]
  },
  {
   "cell_type": "code",
   "execution_count": 9,
   "metadata": {},
   "outputs": [
    {
     "data": {
      "text/plain": [
       "Text(0.5, 0, 'Месяц')"
      ]
     },
     "execution_count": 9,
     "metadata": {},
     "output_type": "execute_result"
    },
    {
     "data": {
      "image/png": "[encoded data removed]",
      "text/plain": [
       "<Figure size 432x288 with 1 Axes>"
      ]
     },
     "metadata": {
      "needs_background": "light"
     },
     "output_type": "display_data"
    }
   ],
   "source": [
    "users[users['tariff']=='smart']['reg_date'].dt.month.plot(kind='hist', y='reg_date', color='lime', \n",
    " histtype='step', linewidth=2, bins=12, range=(1, 12), label='подключено smart', legend=True)\n",
    "users[users['tariff']=='ultra']['reg_date'].dt.month.plot(kind='hist', y='reg_date', color='gold',\n",
    " histtype='step', linewidth=2, bins=12, range=(1, 12), label='подключено ultra', legend=True)\n",
    "users[users['tariff']=='smart']['churn_date'].dt.month.plot(kind='hist', y='reg_date', color='green',\n",
    " histtype='step', bins=12, range=(1, 12), label='отключено smart', legend=True)\n",
    "users[users['tariff']=='ultra']['churn_date'].dt.month.plot(kind='hist', y='reg_date', color='orange',\n",
    " histtype='step', bins=12, range=(1, 12), label='отключено ultra', legend=True, ylim=(0, 54));\n",
    "plt.title(\"количество подключений и отключений тарифов по месяцам\") \n",
    "plt.ylabel(\"Количество, шт.\")\n",
    "plt.xlabel(\"Месяц\")"
   ]
  },
  {
   "cell_type": "markdown",
   "metadata": {},
   "source": [
    "\n",
    "<div class=\"alert alert-block alert-success\">\n",
    "<b>Success:</b> Отличная визуализация, хоть и оформленна не совсем по стандартам."
   ]
  },
  {
   "cell_type": "markdown",
   "metadata": {},
   "source": [
    "<a name=\"pre_1_4\"></a>\n",
    "#### Подсчет количества сделанных звонков по месяцам\n",
    "Соберем в сводную таблицу количество сделанных звонков по месяцам"
   ]
  },
  {
   "cell_type": "code",
   "execution_count": 10,
   "metadata": {},
   "outputs": [
    {
     "data": {
      "text/html": [
       "<div>\n",
       "<style scoped>\n",
       "    .dataframe tbody tr th:only-of-type {\n",
       "        vertical-align: middle;\n",
       "    }\n",
       "\n",
       "    .dataframe tbody tr th {\n",
       "        vertical-align: top;\n",
       "    }\n",
       "\n",
       "    .dataframe thead th {\n",
       "        text-align: right;\n",
       "    }\n",
       "</style>\n",
       "<table border=\"1\" class=\"dataframe\">\n",
       "  <thead>\n",
       "    <tr style=\"text-align: right;\">\n",
       "      <th>call_month</th>\n",
       "      <th>1</th>\n",
       "      <th>2</th>\n",
       "      <th>3</th>\n",
       "      <th>4</th>\n",
       "      <th>5</th>\n",
       "      <th>6</th>\n",
       "      <th>7</th>\n",
       "      <th>8</th>\n",
       "      <th>9</th>\n",
       "      <th>10</th>\n",
       "      <th>11</th>\n",
       "      <th>12</th>\n",
       "    </tr>\n",
       "    <tr>\n",
       "      <th>user_id</th>\n",
       "      <th></th>\n",
       "      <th></th>\n",
       "      <th></th>\n",
       "      <th></th>\n",
       "      <th></th>\n",
       "      <th></th>\n",
       "      <th></th>\n",
       "      <th></th>\n",
       "      <th></th>\n",
       "      <th></th>\n",
       "      <th></th>\n",
       "      <th></th>\n",
       "    </tr>\n",
       "  </thead>\n",
       "  <tbody>\n",
       "    <tr>\n",
       "      <td>1000</td>\n",
       "      <td>NaN</td>\n",
       "      <td>NaN</td>\n",
       "      <td>NaN</td>\n",
       "      <td>NaN</td>\n",
       "      <td>17.0</td>\n",
       "      <td>28.0</td>\n",
       "      <td>41.0</td>\n",
       "      <td>42.0</td>\n",
       "      <td>46.0</td>\n",
       "      <td>44.0</td>\n",
       "      <td>37.0</td>\n",
       "      <td>38.0</td>\n",
       "    </tr>\n",
       "    <tr>\n",
       "      <td>1001</td>\n",
       "      <td>NaN</td>\n",
       "      <td>NaN</td>\n",
       "      <td>NaN</td>\n",
       "      <td>NaN</td>\n",
       "      <td>NaN</td>\n",
       "      <td>NaN</td>\n",
       "      <td>NaN</td>\n",
       "      <td>NaN</td>\n",
       "      <td>NaN</td>\n",
       "      <td>NaN</td>\n",
       "      <td>45.0</td>\n",
       "      <td>47.0</td>\n",
       "    </tr>\n",
       "    <tr>\n",
       "      <td>1002</td>\n",
       "      <td>NaN</td>\n",
       "      <td>NaN</td>\n",
       "      <td>NaN</td>\n",
       "      <td>NaN</td>\n",
       "      <td>NaN</td>\n",
       "      <td>14.0</td>\n",
       "      <td>21.0</td>\n",
       "      <td>37.0</td>\n",
       "      <td>25.0</td>\n",
       "      <td>24.0</td>\n",
       "      <td>25.0</td>\n",
       "      <td>27.0</td>\n",
       "    </tr>\n",
       "  </tbody>\n",
       "</table>\n",
       "</div>"
      ],
      "text/plain": [
       "call_month  1   2   3   4     5     6     7     8     9     10    11    12\n",
       "user_id                                                                   \n",
       "1000       NaN NaN NaN NaN  17.0  28.0  41.0  42.0  46.0  44.0  37.0  38.0\n",
       "1001       NaN NaN NaN NaN   NaN   NaN   NaN   NaN   NaN   NaN  45.0  47.0\n",
       "1002       NaN NaN NaN NaN   NaN  14.0  21.0  37.0  25.0  24.0  25.0  27.0"
      ]
     },
     "metadata": {},
     "output_type": "display_data"
    }
   ],
   "source": [
    "calls_count=calls.pivot_table(\n",
    "    index='user_id', columns='call_month', values='duration', aggfunc=('count'))\n",
    "# NaT в churn_date обозначает что клиент не отказался от тарифа на конец 2018г.\n",
    "end_2018=pd.datetime.strptime('2018-12-31', '%Y-%m-%d') #31 декабря 2018г\n",
    "users['churn_date']=users['churn_date'].fillna(end_2018) # Заполним пропуски концом исследуемого периода\n",
    "#выделим тарифы user_id и даты регистрации/отключения в отдельный df\n",
    "user_id_tariff=users.loc[:, ['user_id', 'tariff', 'reg_date', 'churn_date']]\n",
    "display(calls_count.head(3))"
   ]
  },
  {
   "cell_type": "markdown",
   "metadata": {},
   "source": [
    "<a name=\"pre_1_5\"></a>\n",
    "#### Подсчет количества израсходованных минут по месяцам"
   ]
  },
  {
   "cell_type": "code",
   "execution_count": 11,
   "metadata": {
    "scrolled": true
   },
   "outputs": [
    {
     "data": {
      "text/html": [
       "<div>\n",
       "<style scoped>\n",
       "    .dataframe tbody tr th:only-of-type {\n",
       "        vertical-align: middle;\n",
       "    }\n",
       "\n",
       "    .dataframe tbody tr th {\n",
       "        vertical-align: top;\n",
       "    }\n",
       "\n",
       "    .dataframe thead th {\n",
       "        text-align: right;\n",
       "    }\n",
       "</style>\n",
       "<table border=\"1\" class=\"dataframe\">\n",
       "  <thead>\n",
       "    <tr style=\"text-align: right;\">\n",
       "      <th></th>\n",
       "      <th>user_id</th>\n",
       "      <th>tariff</th>\n",
       "      <th>reg_date</th>\n",
       "      <th>churn_date</th>\n",
       "      <th>1</th>\n",
       "      <th>2</th>\n",
       "      <th>3</th>\n",
       "      <th>4</th>\n",
       "      <th>5</th>\n",
       "      <th>6</th>\n",
       "      <th>7</th>\n",
       "      <th>8</th>\n",
       "      <th>9</th>\n",
       "      <th>10</th>\n",
       "      <th>11</th>\n",
       "      <th>12</th>\n",
       "    </tr>\n",
       "  </thead>\n",
       "  <tbody>\n",
       "    <tr>\n",
       "      <td>0</td>\n",
       "      <td>1000</td>\n",
       "      <td>ultra</td>\n",
       "      <td>2018-05-25</td>\n",
       "      <td>2018-12-31</td>\n",
       "      <td>NaN</td>\n",
       "      <td>NaN</td>\n",
       "      <td>NaN</td>\n",
       "      <td>NaN</td>\n",
       "      <td>159.0</td>\n",
       "      <td>172.0</td>\n",
       "      <td>340.0</td>\n",
       "      <td>408.0</td>\n",
       "      <td>466.0</td>\n",
       "      <td>350.0</td>\n",
       "      <td>338.0</td>\n",
       "      <td>333.0</td>\n",
       "    </tr>\n",
       "    <tr>\n",
       "      <td>1</td>\n",
       "      <td>1001</td>\n",
       "      <td>smart</td>\n",
       "      <td>2018-11-01</td>\n",
       "      <td>2018-12-31</td>\n",
       "      <td>NaN</td>\n",
       "      <td>NaN</td>\n",
       "      <td>NaN</td>\n",
       "      <td>NaN</td>\n",
       "      <td>NaN</td>\n",
       "      <td>NaN</td>\n",
       "      <td>NaN</td>\n",
       "      <td>NaN</td>\n",
       "      <td>NaN</td>\n",
       "      <td>NaN</td>\n",
       "      <td>430.0</td>\n",
       "      <td>414.0</td>\n",
       "    </tr>\n",
       "    <tr>\n",
       "      <td>2</td>\n",
       "      <td>1002</td>\n",
       "      <td>smart</td>\n",
       "      <td>2018-06-17</td>\n",
       "      <td>2018-12-31</td>\n",
       "      <td>NaN</td>\n",
       "      <td>NaN</td>\n",
       "      <td>NaN</td>\n",
       "      <td>NaN</td>\n",
       "      <td>NaN</td>\n",
       "      <td>117.0</td>\n",
       "      <td>214.0</td>\n",
       "      <td>289.0</td>\n",
       "      <td>206.0</td>\n",
       "      <td>212.0</td>\n",
       "      <td>243.0</td>\n",
       "      <td>236.0</td>\n",
       "    </tr>\n",
       "  </tbody>\n",
       "</table>\n",
       "</div>"
      ],
      "text/plain": [
       "   user_id tariff   reg_date churn_date   1   2   3   4      5      6      7  \\\n",
       "0     1000  ultra 2018-05-25 2018-12-31 NaN NaN NaN NaN  159.0  172.0  340.0   \n",
       "1     1001  smart 2018-11-01 2018-12-31 NaN NaN NaN NaN    NaN    NaN    NaN   \n",
       "2     1002  smart 2018-06-17 2018-12-31 NaN NaN NaN NaN    NaN  117.0  214.0   \n",
       "\n",
       "       8      9     10     11     12  \n",
       "0  408.0  466.0  350.0  338.0  333.0  \n",
       "1    NaN    NaN    NaN  430.0  414.0  \n",
       "2  289.0  206.0  212.0  243.0  236.0  "
      ]
     },
     "metadata": {},
     "output_type": "display_data"
    }
   ],
   "source": [
    "calls_sum=calls.pivot_table(index='user_id', columns='call_month', values='duration', aggfunc=('sum')).reset_index()\n",
    "#добавим тариф. how ='left' добавит строки не звонивших в течении всего года \n",
    "calls_sum=pd.merge(user_id_tariff, calls_sum, how ='left', on ='user_id')\n",
    "calls_sum.set_axis(\n",
    "    ['user_id', 'tariff', 'reg_date', 'churn_date', '1', '2', '3', '4', '5', '6', '7', '8', '9', '10', '11', '12']\n",
    "    , axis='columns', inplace=True)\n",
    "display(calls_sum.head(3))"
   ]
  },
  {
   "cell_type": "markdown",
   "metadata": {},
   "source": [
    "<div class=\"alert alert-info\" role=\"alert\">\n",
    "Что-то не разобрался как можно построить общую гистограмму по значениям 12 столбцов для такой сводной таблицы. Поэтому собираю её значения в один столбец.  \n",
    "    \n",
    "Можно было сразу сгруппировать pivot_table(index=('user_id', 'call_month'), values='duration', aggfunc=('sum')) в один столбец, но в дальнейшем обрабатываю \"широкие\" pivot_table (как более наглядные) - поэтому везде строю \"широкие\" и потом собираю из них обратно \"узкие\".\n",
    "    \n",
    "Еще можно было посчитать средние значения в месяц по каждому user_id и работать с ними, но насколько я понимаю это более \"грязный\" вариант.\n",
    "</div>"
   ]
  },
  {
   "cell_type": "markdown",
   "metadata": {},
   "source": [
    "<div class=\"alert alert-block alert-warning\">\n",
    "Тут можно было бы смерджить user_id и calls, не делая pivot, а по такой таблице агрегировать"
   ]
  },
  {
   "cell_type": "code",
   "execution_count": 12,
   "metadata": {},
   "outputs": [
    {
     "data": {
      "text/html": [
       "<div>\n",
       "<style scoped>\n",
       "    .dataframe tbody tr th:only-of-type {\n",
       "        vertical-align: middle;\n",
       "    }\n",
       "\n",
       "    .dataframe tbody tr th {\n",
       "        vertical-align: top;\n",
       "    }\n",
       "\n",
       "    .dataframe thead th {\n",
       "        text-align: right;\n",
       "    }\n",
       "</style>\n",
       "<table border=\"1\" class=\"dataframe\">\n",
       "  <thead>\n",
       "    <tr style=\"text-align: right;\">\n",
       "      <th></th>\n",
       "      <th>user_id</th>\n",
       "      <th>tariff</th>\n",
       "      <th>calls_sum</th>\n",
       "    </tr>\n",
       "  </thead>\n",
       "  <tbody>\n",
       "    <tr>\n",
       "      <td>5499</td>\n",
       "      <td>1499</td>\n",
       "      <td>smart</td>\n",
       "      <td>612.0</td>\n",
       "    </tr>\n",
       "    <tr>\n",
       "      <td>5500</td>\n",
       "      <td>1000</td>\n",
       "      <td>ultra</td>\n",
       "      <td>333.0</td>\n",
       "    </tr>\n",
       "    <tr>\n",
       "      <td>5501</td>\n",
       "      <td>1001</td>\n",
       "      <td>smart</td>\n",
       "      <td>414.0</td>\n",
       "    </tr>\n",
       "    <tr>\n",
       "      <td>5502</td>\n",
       "      <td>1002</td>\n",
       "      <td>smart</td>\n",
       "      <td>236.0</td>\n",
       "    </tr>\n",
       "  </tbody>\n",
       "</table>\n",
       "</div>"
      ],
      "text/plain": [
       "      user_id tariff  calls_sum\n",
       "5499     1499  smart      612.0\n",
       "5500     1000  ultra      333.0\n",
       "5501     1001  smart      414.0\n",
       "5502     1002  smart      236.0"
      ]
     },
     "metadata": {},
     "output_type": "display_data"
    }
   ],
   "source": [
    "calls_sum_12=pd.DataFrame() #соберем обратно в один стролбец\n",
    "for col in range (1, 13):\n",
    "    calls_sum_n=calls_sum.loc[:, ['user_id', 'tariff', str(col)]]\n",
    "    calls_sum_n.set_axis(['user_id', 'tariff', 'calls_sum'], axis='columns', inplace=True)\n",
    "    calls_sum_12=calls_sum_12.append(calls_sum_n, ignore_index=True)\n",
    "display(calls_sum_12.loc[5499:5502])"
   ]
  },
  {
   "cell_type": "code",
   "execution_count": 13,
   "metadata": {},
   "outputs": [
    {
     "data": {
      "image/png": "[encoded data removed]",
      "text/plain": [
       "<Figure size 432x288 with 1 Axes>"
      ]
     },
     "metadata": {
      "needs_background": "light"
     },
     "output_type": "display_data"
    },
    {
     "data": {
      "image/png": "[encoded data removed]",
      "text/plain": [
       "<Figure size 432x288 with 6 Axes>"
      ]
     },
     "metadata": {
      "needs_background": "light"
     },
     "output_type": "display_data"
    }
   ],
   "source": [
    "#строим распределение суммы звонков в месяц по году\n",
    "calls_sum_12.hist(column='calls_sum', bins=15, range=(0, 1500), edgecolor = 'black')\n",
    "calls_sum_12['calls_sum'].describe()\n",
    "plt.title(\"Распределение количества звонков\"); \n",
    "plt.ylabel(\"Количество пользователей, чел.\")\n",
    "plt.xlabel(\"Количество звонков, шт.\")\n",
    "\n",
    "#строим распределение суммы звонков в месяц помесячно\n",
    "calls_sum.loc[:, ['1', '2', '3', '5', '7', '9']].hist(bins=15, range=(0, 1500), edgecolor = 'black');"
   ]
  },
  {
   "cell_type": "markdown",
   "metadata": {},
   "source": [
    "В начале года новые клиенты (совершающие звонки не с начала месяца) заметно влияют на суммарную продолжительность разговоров. Начиная с марта, а также по году отчетливо виден пик в районе 400-500 минут."
   ]
  },
  {
   "cell_type": "markdown",
   "metadata": {},
   "source": [
    "<a name=\"pre_1_6\"></a>\n",
    "#### Подсчет количества израсходованных СМС по месяцам"
   ]
  },
  {
   "cell_type": "code",
   "execution_count": 14,
   "metadata": {
    "scrolled": false
   },
   "outputs": [
    {
     "data": {
      "text/html": [
       "<div>\n",
       "<style scoped>\n",
       "    .dataframe tbody tr th:only-of-type {\n",
       "        vertical-align: middle;\n",
       "    }\n",
       "\n",
       "    .dataframe tbody tr th {\n",
       "        vertical-align: top;\n",
       "    }\n",
       "\n",
       "    .dataframe thead th {\n",
       "        text-align: right;\n",
       "    }\n",
       "</style>\n",
       "<table border=\"1\" class=\"dataframe\">\n",
       "  <thead>\n",
       "    <tr style=\"text-align: right;\">\n",
       "      <th></th>\n",
       "      <th>user_id</th>\n",
       "      <th>tariff</th>\n",
       "      <th>reg_date</th>\n",
       "      <th>churn_date</th>\n",
       "      <th>1</th>\n",
       "      <th>2</th>\n",
       "      <th>3</th>\n",
       "      <th>4</th>\n",
       "      <th>5</th>\n",
       "      <th>6</th>\n",
       "      <th>7</th>\n",
       "      <th>8</th>\n",
       "      <th>9</th>\n",
       "      <th>10</th>\n",
       "      <th>11</th>\n",
       "      <th>12</th>\n",
       "    </tr>\n",
       "  </thead>\n",
       "  <tbody>\n",
       "    <tr>\n",
       "      <td>0</td>\n",
       "      <td>1000</td>\n",
       "      <td>ultra</td>\n",
       "      <td>2018-05-25</td>\n",
       "      <td>2018-12-31</td>\n",
       "      <td>NaN</td>\n",
       "      <td>NaN</td>\n",
       "      <td>NaN</td>\n",
       "      <td>NaN</td>\n",
       "      <td>22.0</td>\n",
       "      <td>60.0</td>\n",
       "      <td>75.0</td>\n",
       "      <td>81.0</td>\n",
       "      <td>57.0</td>\n",
       "      <td>73.0</td>\n",
       "      <td>58.0</td>\n",
       "      <td>70.0</td>\n",
       "    </tr>\n",
       "    <tr>\n",
       "      <td>1</td>\n",
       "      <td>1001</td>\n",
       "      <td>smart</td>\n",
       "      <td>2018-11-01</td>\n",
       "      <td>2018-12-31</td>\n",
       "      <td>NaN</td>\n",
       "      <td>NaN</td>\n",
       "      <td>NaN</td>\n",
       "      <td>NaN</td>\n",
       "      <td>NaN</td>\n",
       "      <td>NaN</td>\n",
       "      <td>NaN</td>\n",
       "      <td>NaN</td>\n",
       "      <td>NaN</td>\n",
       "      <td>NaN</td>\n",
       "      <td>NaN</td>\n",
       "      <td>NaN</td>\n",
       "    </tr>\n",
       "    <tr>\n",
       "      <td>2</td>\n",
       "      <td>1002</td>\n",
       "      <td>smart</td>\n",
       "      <td>2018-06-17</td>\n",
       "      <td>2018-12-31</td>\n",
       "      <td>NaN</td>\n",
       "      <td>NaN</td>\n",
       "      <td>NaN</td>\n",
       "      <td>NaN</td>\n",
       "      <td>NaN</td>\n",
       "      <td>4.0</td>\n",
       "      <td>11.0</td>\n",
       "      <td>13.0</td>\n",
       "      <td>4.0</td>\n",
       "      <td>10.0</td>\n",
       "      <td>16.0</td>\n",
       "      <td>12.0</td>\n",
       "    </tr>\n",
       "    <tr>\n",
       "      <td>3</td>\n",
       "      <td>1003</td>\n",
       "      <td>ultra</td>\n",
       "      <td>2018-08-17</td>\n",
       "      <td>2018-12-31</td>\n",
       "      <td>NaN</td>\n",
       "      <td>NaN</td>\n",
       "      <td>NaN</td>\n",
       "      <td>NaN</td>\n",
       "      <td>NaN</td>\n",
       "      <td>NaN</td>\n",
       "      <td>NaN</td>\n",
       "      <td>37.0</td>\n",
       "      <td>91.0</td>\n",
       "      <td>83.0</td>\n",
       "      <td>94.0</td>\n",
       "      <td>75.0</td>\n",
       "    </tr>\n",
       "    <tr>\n",
       "      <td>4</td>\n",
       "      <td>1004</td>\n",
       "      <td>ultra</td>\n",
       "      <td>2018-05-14</td>\n",
       "      <td>2018-12-31</td>\n",
       "      <td>NaN</td>\n",
       "      <td>NaN</td>\n",
       "      <td>NaN</td>\n",
       "      <td>NaN</td>\n",
       "      <td>95.0</td>\n",
       "      <td>134.0</td>\n",
       "      <td>181.0</td>\n",
       "      <td>151.0</td>\n",
       "      <td>146.0</td>\n",
       "      <td>165.0</td>\n",
       "      <td>158.0</td>\n",
       "      <td>162.0</td>\n",
       "    </tr>\n",
       "    <tr>\n",
       "      <td>5</td>\n",
       "      <td>1005</td>\n",
       "      <td>smart</td>\n",
       "      <td>2018-01-25</td>\n",
       "      <td>2018-12-31</td>\n",
       "      <td>7.0</td>\n",
       "      <td>38.0</td>\n",
       "      <td>56.0</td>\n",
       "      <td>41.0</td>\n",
       "      <td>42.0</td>\n",
       "      <td>47.0</td>\n",
       "      <td>56.0</td>\n",
       "      <td>64.0</td>\n",
       "      <td>52.0</td>\n",
       "      <td>44.0</td>\n",
       "      <td>51.0</td>\n",
       "      <td>54.0</td>\n",
       "    </tr>\n",
       "    <tr>\n",
       "      <td>6</td>\n",
       "      <td>1006</td>\n",
       "      <td>smart</td>\n",
       "      <td>2018-02-26</td>\n",
       "      <td>2018-12-31</td>\n",
       "      <td>NaN</td>\n",
       "      <td>NaN</td>\n",
       "      <td>NaN</td>\n",
       "      <td>NaN</td>\n",
       "      <td>NaN</td>\n",
       "      <td>NaN</td>\n",
       "      <td>NaN</td>\n",
       "      <td>NaN</td>\n",
       "      <td>NaN</td>\n",
       "      <td>NaN</td>\n",
       "      <td>NaN</td>\n",
       "      <td>NaN</td>\n",
       "    </tr>\n",
       "    <tr>\n",
       "      <td>7</td>\n",
       "      <td>1007</td>\n",
       "      <td>smart</td>\n",
       "      <td>2018-04-19</td>\n",
       "      <td>2018-12-31</td>\n",
       "      <td>NaN</td>\n",
       "      <td>NaN</td>\n",
       "      <td>NaN</td>\n",
       "      <td>11.0</td>\n",
       "      <td>39.0</td>\n",
       "      <td>26.0</td>\n",
       "      <td>26.0</td>\n",
       "      <td>27.0</td>\n",
       "      <td>31.0</td>\n",
       "      <td>18.0</td>\n",
       "      <td>21.0</td>\n",
       "      <td>26.0</td>\n",
       "    </tr>\n",
       "    <tr>\n",
       "      <td>8</td>\n",
       "      <td>1008</td>\n",
       "      <td>smart</td>\n",
       "      <td>2018-12-19</td>\n",
       "      <td>2018-12-31</td>\n",
       "      <td>NaN</td>\n",
       "      <td>NaN</td>\n",
       "      <td>NaN</td>\n",
       "      <td>NaN</td>\n",
       "      <td>NaN</td>\n",
       "      <td>NaN</td>\n",
       "      <td>NaN</td>\n",
       "      <td>NaN</td>\n",
       "      <td>NaN</td>\n",
       "      <td>NaN</td>\n",
       "      <td>NaN</td>\n",
       "      <td>56.0</td>\n",
       "    </tr>\n",
       "    <tr>\n",
       "      <td>9</td>\n",
       "      <td>1009</td>\n",
       "      <td>smart</td>\n",
       "      <td>2018-03-22</td>\n",
       "      <td>2018-12-31</td>\n",
       "      <td>NaN</td>\n",
       "      <td>NaN</td>\n",
       "      <td>2.0</td>\n",
       "      <td>14.0</td>\n",
       "      <td>7.0</td>\n",
       "      <td>14.0</td>\n",
       "      <td>14.0</td>\n",
       "      <td>9.0</td>\n",
       "      <td>12.0</td>\n",
       "      <td>15.0</td>\n",
       "      <td>11.0</td>\n",
       "      <td>12.0</td>\n",
       "    </tr>\n",
       "  </tbody>\n",
       "</table>\n",
       "</div>"
      ],
      "text/plain": [
       "   user_id tariff   reg_date churn_date    1     2     3     4     5      6  \\\n",
       "0     1000  ultra 2018-05-25 2018-12-31  NaN   NaN   NaN   NaN  22.0   60.0   \n",
       "1     1001  smart 2018-11-01 2018-12-31  NaN   NaN   NaN   NaN   NaN    NaN   \n",
       "2     1002  smart 2018-06-17 2018-12-31  NaN   NaN   NaN   NaN   NaN    4.0   \n",
       "3     1003  ultra 2018-08-17 2018-12-31  NaN   NaN   NaN   NaN   NaN    NaN   \n",
       "4     1004  ultra 2018-05-14 2018-12-31  NaN   NaN   NaN   NaN  95.0  134.0   \n",
       "5     1005  smart 2018-01-25 2018-12-31  7.0  38.0  56.0  41.0  42.0   47.0   \n",
       "6     1006  smart 2018-02-26 2018-12-31  NaN   NaN   NaN   NaN   NaN    NaN   \n",
       "7     1007  smart 2018-04-19 2018-12-31  NaN   NaN   NaN  11.0  39.0   26.0   \n",
       "8     1008  smart 2018-12-19 2018-12-31  NaN   NaN   NaN   NaN   NaN    NaN   \n",
       "9     1009  smart 2018-03-22 2018-12-31  NaN   NaN   2.0  14.0   7.0   14.0   \n",
       "\n",
       "       7      8      9     10     11     12  \n",
       "0   75.0   81.0   57.0   73.0   58.0   70.0  \n",
       "1    NaN    NaN    NaN    NaN    NaN    NaN  \n",
       "2   11.0   13.0    4.0   10.0   16.0   12.0  \n",
       "3    NaN   37.0   91.0   83.0   94.0   75.0  \n",
       "4  181.0  151.0  146.0  165.0  158.0  162.0  \n",
       "5   56.0   64.0   52.0   44.0   51.0   54.0  \n",
       "6    NaN    NaN    NaN    NaN    NaN    NaN  \n",
       "7   26.0   27.0   31.0   18.0   21.0   26.0  \n",
       "8    NaN    NaN    NaN    NaN    NaN   56.0  \n",
       "9   14.0    9.0   12.0   15.0   11.0   12.0  "
      ]
     },
     "metadata": {},
     "output_type": "display_data"
    },
    {
     "data": {
      "text/html": [
       "<div>\n",
       "<style scoped>\n",
       "    .dataframe tbody tr th:only-of-type {\n",
       "        vertical-align: middle;\n",
       "    }\n",
       "\n",
       "    .dataframe tbody tr th {\n",
       "        vertical-align: top;\n",
       "    }\n",
       "\n",
       "    .dataframe thead th {\n",
       "        text-align: right;\n",
       "    }\n",
       "</style>\n",
       "<table border=\"1\" class=\"dataframe\">\n",
       "  <thead>\n",
       "    <tr style=\"text-align: right;\">\n",
       "      <th></th>\n",
       "      <th>user_id</th>\n",
       "      <th>tariff</th>\n",
       "      <th>messages_count</th>\n",
       "    </tr>\n",
       "  </thead>\n",
       "  <tbody>\n",
       "    <tr>\n",
       "      <td>0</td>\n",
       "      <td>1000</td>\n",
       "      <td>ultra</td>\n",
       "      <td>NaN</td>\n",
       "    </tr>\n",
       "    <tr>\n",
       "      <td>1</td>\n",
       "      <td>1001</td>\n",
       "      <td>smart</td>\n",
       "      <td>NaN</td>\n",
       "    </tr>\n",
       "    <tr>\n",
       "      <td>2</td>\n",
       "      <td>1002</td>\n",
       "      <td>smart</td>\n",
       "      <td>NaN</td>\n",
       "    </tr>\n",
       "    <tr>\n",
       "      <td>3</td>\n",
       "      <td>1003</td>\n",
       "      <td>ultra</td>\n",
       "      <td>NaN</td>\n",
       "    </tr>\n",
       "    <tr>\n",
       "      <td>4</td>\n",
       "      <td>1004</td>\n",
       "      <td>ultra</td>\n",
       "      <td>NaN</td>\n",
       "    </tr>\n",
       "    <tr>\n",
       "      <td>5</td>\n",
       "      <td>1005</td>\n",
       "      <td>smart</td>\n",
       "      <td>7.0</td>\n",
       "    </tr>\n",
       "    <tr>\n",
       "      <td>6</td>\n",
       "      <td>1006</td>\n",
       "      <td>smart</td>\n",
       "      <td>NaN</td>\n",
       "    </tr>\n",
       "    <tr>\n",
       "      <td>7</td>\n",
       "      <td>1007</td>\n",
       "      <td>smart</td>\n",
       "      <td>NaN</td>\n",
       "    </tr>\n",
       "    <tr>\n",
       "      <td>8</td>\n",
       "      <td>1008</td>\n",
       "      <td>smart</td>\n",
       "      <td>NaN</td>\n",
       "    </tr>\n",
       "    <tr>\n",
       "      <td>9</td>\n",
       "      <td>1009</td>\n",
       "      <td>smart</td>\n",
       "      <td>NaN</td>\n",
       "    </tr>\n",
       "  </tbody>\n",
       "</table>\n",
       "</div>"
      ],
      "text/plain": [
       "   user_id tariff  messages_count\n",
       "0     1000  ultra             NaN\n",
       "1     1001  smart             NaN\n",
       "2     1002  smart             NaN\n",
       "3     1003  ultra             NaN\n",
       "4     1004  ultra             NaN\n",
       "5     1005  smart             7.0\n",
       "6     1006  smart             NaN\n",
       "7     1007  smart             NaN\n",
       "8     1008  smart             NaN\n",
       "9     1009  smart             NaN"
      ]
     },
     "metadata": {},
     "output_type": "display_data"
    }
   ],
   "source": [
    "messages['message_month']=messages['message_date'].dt.month #добавляем столбец с месяцем\n",
    "messages_count=messages.pivot_table(index='user_id', columns='message_month', values='id', aggfunc=('count')).reset_index()\n",
    "#добавим тариф. how ='left' добавит строки не отправлявших СМС \n",
    "messages_count=pd.merge(user_id_tariff, messages_count, how ='left', on ='user_id')\n",
    "messages_count.set_axis(\n",
    "    ['user_id', 'tariff', 'reg_date', 'churn_date', '1', '2', '3', '4', '5', '6', '7', '8', '9', '10', '11', '12']\n",
    "    , axis='columns', inplace=True)\n",
    "display(messages_count.head(10))\n",
    "\n",
    "messages_count_12=pd.DataFrame() #соберем обратно в один стролбец\n",
    "for col in range (1, 13):\n",
    "    messages_count_n=messages_count.loc[:, ['user_id', 'tariff', str(col)]]\n",
    "    messages_count_n.set_axis(['user_id', 'tariff', 'messages_count'], axis='columns', inplace=True)\n",
    "    messages_count_12=messages_count_12.append(messages_count_n, ignore_index=True)\n",
    "# display(messages_count_12.loc[5499:5502])\n",
    "display(messages_count_12.head(10))"
   ]
  },
  {
   "cell_type": "markdown",
   "metadata": {},
   "source": [
    "<div class=\"alert alert-block alert-warning\">\n",
    "<b>Remarks:</b>\n",
    "    \n",
    "если я правильн опонял идею - в `messages_count_12` должна лежать сумма сооббщений каждого пользователя (аналогично с остальными таблицами). не выйдет сразу записать сумму в последний столбец? чтобы была стрктура вида \"id - tariff - count_sum\"?"
   ]
  },
  {
   "cell_type": "markdown",
   "metadata": {},
   "source": [
    "<div class=\"alert alert-block alert-info\">\n",
    "<b>Fixed:</b> \n",
    "Изначально была именно такая идея (или среднее в месяц), но в дальнейшем необходимо помесячно анализировать разные показатели (минуты, СМС, Мб) для разных пользователей и такой подход не подошел.  \n",
    "    \n",
    "В `messages_count_12` сумма сообщений по каждому пользователю отдельно по каждому из 12 месяцев + NaN для месяцев до подключения/после отключения и 0 в месяцы когда пользователь просто не отправлял СМС\n",
    "</div>"
   ]
  },
  {
   "cell_type": "markdown",
   "metadata": {},
   "source": [
    "<a name=\"pre_1_8\"></a>\n",
    "#### Подсчет количества израсходованных Мб по месяцам"
   ]
  },
  {
   "cell_type": "code",
   "execution_count": 15,
   "metadata": {
    "scrolled": true
   },
   "outputs": [
    {
     "data": {
      "text/html": [
       "<div>\n",
       "<style scoped>\n",
       "    .dataframe tbody tr th:only-of-type {\n",
       "        vertical-align: middle;\n",
       "    }\n",
       "\n",
       "    .dataframe tbody tr th {\n",
       "        vertical-align: top;\n",
       "    }\n",
       "\n",
       "    .dataframe thead th {\n",
       "        text-align: right;\n",
       "    }\n",
       "</style>\n",
       "<table border=\"1\" class=\"dataframe\">\n",
       "  <thead>\n",
       "    <tr style=\"text-align: right;\">\n",
       "      <th></th>\n",
       "      <th>user_id</th>\n",
       "      <th>tariff</th>\n",
       "      <th>reg_date</th>\n",
       "      <th>churn_date</th>\n",
       "      <th>1</th>\n",
       "      <th>2</th>\n",
       "      <th>3</th>\n",
       "      <th>4</th>\n",
       "      <th>5</th>\n",
       "      <th>6</th>\n",
       "      <th>7</th>\n",
       "      <th>8</th>\n",
       "      <th>9</th>\n",
       "      <th>10</th>\n",
       "      <th>11</th>\n",
       "      <th>12</th>\n",
       "    </tr>\n",
       "  </thead>\n",
       "  <tbody>\n",
       "    <tr>\n",
       "      <td>0</td>\n",
       "      <td>1000</td>\n",
       "      <td>ultra</td>\n",
       "      <td>2018-05-25</td>\n",
       "      <td>2018-12-31</td>\n",
       "      <td>NaN</td>\n",
       "      <td>NaN</td>\n",
       "      <td>NaN</td>\n",
       "      <td>NaN</td>\n",
       "      <td>2256.0</td>\n",
       "      <td>23257.0</td>\n",
       "      <td>14016.0</td>\n",
       "      <td>14070.0</td>\n",
       "      <td>14581.0</td>\n",
       "      <td>14717.0</td>\n",
       "      <td>14768.0</td>\n",
       "      <td>9827.0</td>\n",
       "    </tr>\n",
       "    <tr>\n",
       "      <td>1</td>\n",
       "      <td>1001</td>\n",
       "      <td>smart</td>\n",
       "      <td>2018-11-01</td>\n",
       "      <td>2018-12-31</td>\n",
       "      <td>NaN</td>\n",
       "      <td>NaN</td>\n",
       "      <td>NaN</td>\n",
       "      <td>NaN</td>\n",
       "      <td>NaN</td>\n",
       "      <td>NaN</td>\n",
       "      <td>NaN</td>\n",
       "      <td>NaN</td>\n",
       "      <td>NaN</td>\n",
       "      <td>NaN</td>\n",
       "      <td>18452.0</td>\n",
       "      <td>14053.0</td>\n",
       "    </tr>\n",
       "    <tr>\n",
       "      <td>2</td>\n",
       "      <td>1002</td>\n",
       "      <td>smart</td>\n",
       "      <td>2018-06-17</td>\n",
       "      <td>2018-12-31</td>\n",
       "      <td>NaN</td>\n",
       "      <td>NaN</td>\n",
       "      <td>NaN</td>\n",
       "      <td>NaN</td>\n",
       "      <td>NaN</td>\n",
       "      <td>10871.0</td>\n",
       "      <td>17601.0</td>\n",
       "      <td>20347.0</td>\n",
       "      <td>16712.0</td>\n",
       "      <td>13905.0</td>\n",
       "      <td>18610.0</td>\n",
       "      <td>18137.0</td>\n",
       "    </tr>\n",
       "  </tbody>\n",
       "</table>\n",
       "</div>"
      ],
      "text/plain": [
       "   user_id tariff   reg_date churn_date   1   2   3   4       5        6  \\\n",
       "0     1000  ultra 2018-05-25 2018-12-31 NaN NaN NaN NaN  2256.0  23257.0   \n",
       "1     1001  smart 2018-11-01 2018-12-31 NaN NaN NaN NaN     NaN      NaN   \n",
       "2     1002  smart 2018-06-17 2018-12-31 NaN NaN NaN NaN     NaN  10871.0   \n",
       "\n",
       "         7        8        9       10       11       12  \n",
       "0  14016.0  14070.0  14581.0  14717.0  14768.0   9827.0  \n",
       "1      NaN      NaN      NaN      NaN  18452.0  14053.0  \n",
       "2  17601.0  20347.0  16712.0  13905.0  18610.0  18137.0  "
      ]
     },
     "metadata": {},
     "output_type": "display_data"
    },
    {
     "data": {
      "text/html": [
       "<div>\n",
       "<style scoped>\n",
       "    .dataframe tbody tr th:only-of-type {\n",
       "        vertical-align: middle;\n",
       "    }\n",
       "\n",
       "    .dataframe tbody tr th {\n",
       "        vertical-align: top;\n",
       "    }\n",
       "\n",
       "    .dataframe thead th {\n",
       "        text-align: right;\n",
       "    }\n",
       "</style>\n",
       "<table border=\"1\" class=\"dataframe\">\n",
       "  <thead>\n",
       "    <tr style=\"text-align: right;\">\n",
       "      <th></th>\n",
       "      <th>user_id</th>\n",
       "      <th>tariff</th>\n",
       "      <th>internet_mb_sum</th>\n",
       "    </tr>\n",
       "  </thead>\n",
       "  <tbody>\n",
       "    <tr>\n",
       "      <td>5499</td>\n",
       "      <td>1499</td>\n",
       "      <td>smart</td>\n",
       "      <td>17984.0</td>\n",
       "    </tr>\n",
       "    <tr>\n",
       "      <td>5500</td>\n",
       "      <td>1000</td>\n",
       "      <td>ultra</td>\n",
       "      <td>9827.0</td>\n",
       "    </tr>\n",
       "    <tr>\n",
       "      <td>5501</td>\n",
       "      <td>1001</td>\n",
       "      <td>smart</td>\n",
       "      <td>14053.0</td>\n",
       "    </tr>\n",
       "    <tr>\n",
       "      <td>5502</td>\n",
       "      <td>1002</td>\n",
       "      <td>smart</td>\n",
       "      <td>18137.0</td>\n",
       "    </tr>\n",
       "  </tbody>\n",
       "</table>\n",
       "</div>"
      ],
      "text/plain": [
       "      user_id tariff  internet_mb_sum\n",
       "5499     1499  smart          17984.0\n",
       "5500     1000  ultra           9827.0\n",
       "5501     1001  smart          14053.0\n",
       "5502     1002  smart          18137.0"
      ]
     },
     "metadata": {},
     "output_type": "display_data"
    }
   ],
   "source": [
    "internet['session_month']=internet['session_date'].dt.month #добавляем столбец с месяцем\n",
    "internet_mb_sum=internet.pivot_table(index='user_id', columns='session_month', values='mb_used', aggfunc=('sum')).reset_index()\n",
    "#добавим тариф. how ='left' добавит строки не пользовавшихся мобильным интернетом в течении года \n",
    "internet_mb_sum=pd.merge(user_id_tariff, internet_mb_sum, how ='left', on ='user_id')\n",
    "internet_mb_sum.set_axis(\n",
    "    ['user_id', 'tariff', 'reg_date', 'churn_date', '1', '2', '3', '4', '5', '6', '7', '8', '9', '10', '11', '12']\n",
    "    , axis='columns', inplace=True)\n",
    "display(internet_mb_sum.head(3))\n",
    "\n",
    "internet_mb_sum_12=pd.DataFrame() #соберем обратно в один стролбец\n",
    "for col in range (1, 13):\n",
    "    internet_mb_sum_n=internet_mb_sum.loc[:, ['user_id', 'tariff', str(col)]]\n",
    "    internet_mb_sum_n.set_axis(['user_id', 'tariff', 'internet_mb_sum'], axis='columns', inplace=True)\n",
    "    internet_mb_sum_12=internet_mb_sum_12.append(internet_mb_sum_n, ignore_index=True)\n",
    "display(internet_mb_sum_12.loc[5499:5502])"
   ]
  },
  {
   "cell_type": "markdown",
   "metadata": {},
   "source": [
    "<a name=\"pre_1_9\"></a>\n",
    "#### Подсчет количества израсходованных Гб по месяцам\n",
    "Включенный в тарифы трафик кратен целым Гб. В случае превышения включенного в тариф (или оплаченного пакета) трафика происходит автоматическое подключение и оплата пакета = 1 Гб. Таким образом интернет-трафик (включенный и превышенный) можно учитывать кратно 1 Гб с округлением в большую сторону."
   ]
  },
  {
   "cell_type": "code",
   "execution_count": 16,
   "metadata": {},
   "outputs": [
    {
     "data": {
      "text/html": [
       "<div>\n",
       "<style scoped>\n",
       "    .dataframe tbody tr th:only-of-type {\n",
       "        vertical-align: middle;\n",
       "    }\n",
       "\n",
       "    .dataframe tbody tr th {\n",
       "        vertical-align: top;\n",
       "    }\n",
       "\n",
       "    .dataframe thead th {\n",
       "        text-align: right;\n",
       "    }\n",
       "</style>\n",
       "<table border=\"1\" class=\"dataframe\">\n",
       "  <thead>\n",
       "    <tr style=\"text-align: right;\">\n",
       "      <th></th>\n",
       "      <th>user_id</th>\n",
       "      <th>tariff</th>\n",
       "      <th>reg_date</th>\n",
       "      <th>churn_date</th>\n",
       "      <th>1</th>\n",
       "      <th>2</th>\n",
       "      <th>3</th>\n",
       "      <th>4</th>\n",
       "      <th>5</th>\n",
       "      <th>6</th>\n",
       "      <th>7</th>\n",
       "      <th>8</th>\n",
       "      <th>9</th>\n",
       "      <th>10</th>\n",
       "      <th>11</th>\n",
       "      <th>12</th>\n",
       "    </tr>\n",
       "  </thead>\n",
       "  <tbody>\n",
       "    <tr>\n",
       "      <td>0</td>\n",
       "      <td>1000</td>\n",
       "      <td>ultra</td>\n",
       "      <td>2018-05-25</td>\n",
       "      <td>2018-12-31</td>\n",
       "      <td>NaN</td>\n",
       "      <td>NaN</td>\n",
       "      <td>NaN</td>\n",
       "      <td>NaN</td>\n",
       "      <td>3.0</td>\n",
       "      <td>23.0</td>\n",
       "      <td>14.0</td>\n",
       "      <td>14.0</td>\n",
       "      <td>15.0</td>\n",
       "      <td>15.0</td>\n",
       "      <td>15.0</td>\n",
       "      <td>10.0</td>\n",
       "    </tr>\n",
       "    <tr>\n",
       "      <td>1</td>\n",
       "      <td>1001</td>\n",
       "      <td>smart</td>\n",
       "      <td>2018-11-01</td>\n",
       "      <td>2018-12-31</td>\n",
       "      <td>NaN</td>\n",
       "      <td>NaN</td>\n",
       "      <td>NaN</td>\n",
       "      <td>NaN</td>\n",
       "      <td>NaN</td>\n",
       "      <td>NaN</td>\n",
       "      <td>NaN</td>\n",
       "      <td>NaN</td>\n",
       "      <td>NaN</td>\n",
       "      <td>NaN</td>\n",
       "      <td>19.0</td>\n",
       "      <td>14.0</td>\n",
       "    </tr>\n",
       "    <tr>\n",
       "      <td>2</td>\n",
       "      <td>1002</td>\n",
       "      <td>smart</td>\n",
       "      <td>2018-06-17</td>\n",
       "      <td>2018-12-31</td>\n",
       "      <td>NaN</td>\n",
       "      <td>NaN</td>\n",
       "      <td>NaN</td>\n",
       "      <td>NaN</td>\n",
       "      <td>NaN</td>\n",
       "      <td>11.0</td>\n",
       "      <td>18.0</td>\n",
       "      <td>20.0</td>\n",
       "      <td>17.0</td>\n",
       "      <td>14.0</td>\n",
       "      <td>19.0</td>\n",
       "      <td>18.0</td>\n",
       "    </tr>\n",
       "  </tbody>\n",
       "</table>\n",
       "</div>"
      ],
      "text/plain": [
       "   user_id tariff   reg_date churn_date   1   2   3   4    5     6     7  \\\n",
       "0     1000  ultra 2018-05-25 2018-12-31 NaN NaN NaN NaN  3.0  23.0  14.0   \n",
       "1     1001  smart 2018-11-01 2018-12-31 NaN NaN NaN NaN  NaN   NaN   NaN   \n",
       "2     1002  smart 2018-06-17 2018-12-31 NaN NaN NaN NaN  NaN  11.0  18.0   \n",
       "\n",
       "      8     9    10    11    12  \n",
       "0  14.0  15.0  15.0  15.0  10.0  \n",
       "1   NaN   NaN   NaN  19.0  14.0  \n",
       "2  20.0  17.0  14.0  19.0  18.0  "
      ]
     },
     "metadata": {},
     "output_type": "display_data"
    }
   ],
   "source": [
    "internet_gb_sum=internet_mb_sum.copy(deep=True)\n",
    "for col in list(internet_gb_sum.loc[:, '1':'12']):\n",
    "    internet_gb_sum[col]=np.ceil(internet_gb_sum[col]/1024) #Считаем  кол-во Гб и округляем\n",
    "display(internet_gb_sum.head(3))    "
   ]
  },
  {
   "cell_type": "markdown",
   "metadata": {},
   "source": [
    "#### Поправим информацию о тарифах"
   ]
  },
  {
   "cell_type": "code",
   "execution_count": 19,
   "metadata": {},
   "outputs": [
    {
     "data": {
      "text/html": [
       "<div>\n",
       "<style scoped>\n",
       "    .dataframe tbody tr th:only-of-type {\n",
       "        vertical-align: middle;\n",
       "    }\n",
       "\n",
       "    .dataframe tbody tr th {\n",
       "        vertical-align: top;\n",
       "    }\n",
       "\n",
       "    .dataframe thead th {\n",
       "        text-align: right;\n",
       "    }\n",
       "</style>\n",
       "<table border=\"1\" class=\"dataframe\">\n",
       "  <thead>\n",
       "    <tr style=\"text-align: right;\">\n",
       "      <th></th>\n",
       "      <th>messages_included</th>\n",
       "      <th>mb_per_month_included</th>\n",
       "      <th>minutes_included</th>\n",
       "      <th>rub_monthly_fee</th>\n",
       "      <th>rub_per_gb</th>\n",
       "      <th>rub_per_message</th>\n",
       "      <th>rub_per_minute</th>\n",
       "      <th>tariff_name</th>\n",
       "      <th>gb_per_month_included</th>\n",
       "    </tr>\n",
       "  </thead>\n",
       "  <tbody>\n",
       "    <tr>\n",
       "      <td>0</td>\n",
       "      <td>50</td>\n",
       "      <td>15360</td>\n",
       "      <td>500</td>\n",
       "      <td>550</td>\n",
       "      <td>200</td>\n",
       "      <td>3</td>\n",
       "      <td>3</td>\n",
       "      <td>smart</td>\n",
       "      <td>15.0</td>\n",
       "    </tr>\n",
       "    <tr>\n",
       "      <td>1</td>\n",
       "      <td>1000</td>\n",
       "      <td>30720</td>\n",
       "      <td>3000</td>\n",
       "      <td>1950</td>\n",
       "      <td>150</td>\n",
       "      <td>1</td>\n",
       "      <td>1</td>\n",
       "      <td>ultra</td>\n",
       "      <td>30.0</td>\n",
       "    </tr>\n",
       "  </tbody>\n",
       "</table>\n",
       "</div>"
      ],
      "text/plain": [
       "   messages_included  mb_per_month_included  minutes_included  \\\n",
       "0                 50                  15360               500   \n",
       "1               1000                  30720              3000   \n",
       "\n",
       "   rub_monthly_fee  rub_per_gb  rub_per_message  rub_per_minute tariff_name  \\\n",
       "0              550         200                3               3       smart   \n",
       "1             1950         150                1               1       ultra   \n",
       "\n",
       "   gb_per_month_included  \n",
       "0                   15.0  \n",
       "1                   30.0  "
      ]
     },
     "metadata": {},
     "output_type": "display_data"
    },
    {
     "data": {
      "text/html": [
       "<div>\n",
       "<style scoped>\n",
       "    .dataframe tbody tr th:only-of-type {\n",
       "        vertical-align: middle;\n",
       "    }\n",
       "\n",
       "    .dataframe tbody tr th {\n",
       "        vertical-align: top;\n",
       "    }\n",
       "\n",
       "    .dataframe thead th {\n",
       "        text-align: right;\n",
       "    }\n",
       "</style>\n",
       "<table border=\"1\" class=\"dataframe\">\n",
       "  <thead>\n",
       "    <tr style=\"text-align: right;\">\n",
       "      <th></th>\n",
       "      <th>messages_included</th>\n",
       "      <th>mb_per_month_included</th>\n",
       "      <th>minutes_included</th>\n",
       "      <th>rub_monthly_fee</th>\n",
       "      <th>rub_per_gb</th>\n",
       "      <th>rub_per_message</th>\n",
       "      <th>rub_per_minute</th>\n",
       "      <th>gb_per_month_included</th>\n",
       "    </tr>\n",
       "    <tr>\n",
       "      <th>tariff_name</th>\n",
       "      <th></th>\n",
       "      <th></th>\n",
       "      <th></th>\n",
       "      <th></th>\n",
       "      <th></th>\n",
       "      <th></th>\n",
       "      <th></th>\n",
       "      <th></th>\n",
       "    </tr>\n",
       "  </thead>\n",
       "  <tbody>\n",
       "    <tr>\n",
       "      <td>smart</td>\n",
       "      <td>50</td>\n",
       "      <td>15360</td>\n",
       "      <td>500</td>\n",
       "      <td>550</td>\n",
       "      <td>200</td>\n",
       "      <td>3</td>\n",
       "      <td>3</td>\n",
       "      <td>15.0</td>\n",
       "    </tr>\n",
       "    <tr>\n",
       "      <td>ultra</td>\n",
       "      <td>1000</td>\n",
       "      <td>30720</td>\n",
       "      <td>3000</td>\n",
       "      <td>1950</td>\n",
       "      <td>150</td>\n",
       "      <td>1</td>\n",
       "      <td>1</td>\n",
       "      <td>30.0</td>\n",
       "    </tr>\n",
       "  </tbody>\n",
       "</table>\n",
       "</div>"
      ],
      "text/plain": [
       "             messages_included  mb_per_month_included  minutes_included  \\\n",
       "tariff_name                                                               \n",
       "smart                       50                  15360               500   \n",
       "ultra                     1000                  30720              3000   \n",
       "\n",
       "             rub_monthly_fee  rub_per_gb  rub_per_message  rub_per_minute  \\\n",
       "tariff_name                                                                 \n",
       "smart                    550         200                3               3   \n",
       "ultra                   1950         150                1               1   \n",
       "\n",
       "             gb_per_month_included  \n",
       "tariff_name                         \n",
       "smart                         15.0  \n",
       "ultra                         30.0  "
      ]
     },
     "metadata": {},
     "output_type": "display_data"
    },
    {
     "data": {
      "text/html": [
       "<div>\n",
       "<style scoped>\n",
       "    .dataframe tbody tr th:only-of-type {\n",
       "        vertical-align: middle;\n",
       "    }\n",
       "\n",
       "    .dataframe tbody tr th {\n",
       "        vertical-align: top;\n",
       "    }\n",
       "\n",
       "    .dataframe thead th {\n",
       "        text-align: right;\n",
       "    }\n",
       "</style>\n",
       "<table border=\"1\" class=\"dataframe\">\n",
       "  <thead>\n",
       "    <tr style=\"text-align: right;\">\n",
       "      <th></th>\n",
       "      <th>messages_included</th>\n",
       "      <th>mb_per_month_included</th>\n",
       "      <th>minutes_included</th>\n",
       "      <th>rub_monthly_fee</th>\n",
       "      <th>rub_per_gb</th>\n",
       "      <th>rub_per_message</th>\n",
       "      <th>rub_per_minute</th>\n",
       "      <th>gb_per_month_included</th>\n",
       "    </tr>\n",
       "  </thead>\n",
       "  <tbody>\n",
       "    <tr>\n",
       "      <td>smart</td>\n",
       "      <td>50</td>\n",
       "      <td>15360</td>\n",
       "      <td>500</td>\n",
       "      <td>550</td>\n",
       "      <td>200</td>\n",
       "      <td>3</td>\n",
       "      <td>3</td>\n",
       "      <td>15.0</td>\n",
       "    </tr>\n",
       "    <tr>\n",
       "      <td>ultra</td>\n",
       "      <td>1000</td>\n",
       "      <td>30720</td>\n",
       "      <td>3000</td>\n",
       "      <td>1950</td>\n",
       "      <td>150</td>\n",
       "      <td>1</td>\n",
       "      <td>1</td>\n",
       "      <td>30.0</td>\n",
       "    </tr>\n",
       "  </tbody>\n",
       "</table>\n",
       "</div>"
      ],
      "text/plain": [
       "       messages_included  mb_per_month_included  minutes_included  \\\n",
       "smart                 50                  15360               500   \n",
       "ultra               1000                  30720              3000   \n",
       "\n",
       "       rub_monthly_fee  rub_per_gb  rub_per_message  rub_per_minute  \\\n",
       "smart              550         200                3               3   \n",
       "ultra             1950         150                1               1   \n",
       "\n",
       "       gb_per_month_included  \n",
       "smart                   15.0  \n",
       "ultra                   30.0  "
      ]
     },
     "metadata": {},
     "output_type": "display_data"
    }
   ],
   "source": [
    "#добавим столбец с количеством включенных гигабайт\n",
    "tariffs['gb_per_month_included']=tariffs['mb_per_month_included']/1024\n",
    "#установим названия тарифов в качестве индексов\n",
    "display(tariffs)\n",
    "tariffs=tariffs.set_index('tariff_name')\n",
    "display(tariffs)\n",
    "tariffs.index.name = None\n",
    "display(tariffs)"
   ]
  },
  {
   "cell_type": "markdown",
   "metadata": {},
   "source": [
    "<a name=\"pre_1_10\"></a>\n",
    "#### Функция для подсчета выручки по месяцам"
   ]
  },
  {
   "cell_type": "code",
   "execution_count": 17,
   "metadata": {},
   "outputs": [],
   "source": [
    "#блок обрабатывает таблицы значений по месяцам\n",
    "#parametr='minutes_included'               #столбец тарифа с количеством включенных минут, СМС, гигабайт\n",
    "#parametr2='rub_per_minute'                #столбец тарифа с ценой минуты, СМС, гигабайта сверх лимита\n",
    "def month_pay(row):                        #функция получает строку\n",
    "    _tar=row['tariff']                     #\"выдергиваем# тариф\n",
    "    _included=tariffs.loc[_tar, parametr]  #количество включенных минут/СМС/гигабайт соответствующего тарифа\n",
    "    _rub=tariffs.loc[_tar, parametr2]      #стоимость превышения минут/СМС/гигабайт для соответствующего тарифа\n",
    "    _in=row['reg_date'].month              #месяц подключения (int)\n",
    "    _out=row['churn_date'].month           #месяц отключения (int)\n",
    "    _z=row[str(col)]                       #проверяемое значение (str)\n",
    "    try:\n",
    "        if _in<=col and col<=_out:         #если месяц между регистрацией и отключением (int)\n",
    "            if _z<=_included or _z!=_z:    #если лимит не превышен или не было звонков, СМС, использования интернета (NaN)\n",
    "                _z=0                       #дополнительная плата не взымается (присваиваем 0)\n",
    "            else:                          #иначе\n",
    "                _z=(_z-_included)*_rub     #превышение считаем по тарифу\n",
    "        else:                              #момент до регистрации/после отключения\n",
    "            if _z==_z:                     #в ячейке не NaN\n",
    "                return 'ошибка дат'\n",
    "        return _z            \n",
    "    except:\n",
    "        return 'error z' "
   ]
  },
  {
   "cell_type": "markdown",
   "metadata": {},
   "source": [
    "\n",
    "<div class=\"alert alert-block alert-success\">\n",
    "<b>Success:</b> Очень хорошая автоматизация. Аннотации к функциям гораздо удобнее писать в начале, а не к каждой строке, используя докстринги."
   ]
  },
  {
   "cell_type": "markdown",
   "metadata": {},
   "source": [
    "<a name=\"pre_1_11\"></a>\n",
    "#### Подсчет выручки за звонки по месяцам"
   ]
  },
  {
   "cell_type": "code",
   "execution_count": 18,
   "metadata": {},
   "outputs": [
    {
     "data": {
      "text/html": [
       "<div>\n",
       "<style scoped>\n",
       "    .dataframe tbody tr th:only-of-type {\n",
       "        vertical-align: middle;\n",
       "    }\n",
       "\n",
       "    .dataframe tbody tr th {\n",
       "        vertical-align: top;\n",
       "    }\n",
       "\n",
       "    .dataframe thead th {\n",
       "        text-align: right;\n",
       "    }\n",
       "</style>\n",
       "<table border=\"1\" class=\"dataframe\">\n",
       "  <thead>\n",
       "    <tr style=\"text-align: right;\">\n",
       "      <th></th>\n",
       "      <th>tariff</th>\n",
       "      <th>reg_date</th>\n",
       "      <th>churn_date</th>\n",
       "      <th>1</th>\n",
       "      <th>2</th>\n",
       "      <th>3</th>\n",
       "      <th>4</th>\n",
       "      <th>5</th>\n",
       "      <th>6</th>\n",
       "      <th>7</th>\n",
       "      <th>8</th>\n",
       "      <th>9</th>\n",
       "      <th>10</th>\n",
       "      <th>11</th>\n",
       "      <th>12</th>\n",
       "    </tr>\n",
       "  </thead>\n",
       "  <tbody>\n",
       "    <tr>\n",
       "      <td>1000</td>\n",
       "      <td>ultra</td>\n",
       "      <td>2018-05-25</td>\n",
       "      <td>2018-12-31</td>\n",
       "      <td>NaN</td>\n",
       "      <td>NaN</td>\n",
       "      <td>NaN</td>\n",
       "      <td>NaN</td>\n",
       "      <td>0.0</td>\n",
       "      <td>0.0</td>\n",
       "      <td>0.0</td>\n",
       "      <td>0.0</td>\n",
       "      <td>0.0</td>\n",
       "      <td>0.0</td>\n",
       "      <td>0.0</td>\n",
       "      <td>0.0</td>\n",
       "    </tr>\n",
       "    <tr>\n",
       "      <td>1001</td>\n",
       "      <td>smart</td>\n",
       "      <td>2018-11-01</td>\n",
       "      <td>2018-12-31</td>\n",
       "      <td>NaN</td>\n",
       "      <td>NaN</td>\n",
       "      <td>NaN</td>\n",
       "      <td>NaN</td>\n",
       "      <td>NaN</td>\n",
       "      <td>NaN</td>\n",
       "      <td>NaN</td>\n",
       "      <td>NaN</td>\n",
       "      <td>NaN</td>\n",
       "      <td>NaN</td>\n",
       "      <td>0.0</td>\n",
       "      <td>0.0</td>\n",
       "    </tr>\n",
       "    <tr>\n",
       "      <td>1002</td>\n",
       "      <td>smart</td>\n",
       "      <td>2018-06-17</td>\n",
       "      <td>2018-12-31</td>\n",
       "      <td>NaN</td>\n",
       "      <td>NaN</td>\n",
       "      <td>NaN</td>\n",
       "      <td>NaN</td>\n",
       "      <td>NaN</td>\n",
       "      <td>0.0</td>\n",
       "      <td>0.0</td>\n",
       "      <td>0.0</td>\n",
       "      <td>0.0</td>\n",
       "      <td>0.0</td>\n",
       "      <td>0.0</td>\n",
       "      <td>0.0</td>\n",
       "    </tr>\n",
       "  </tbody>\n",
       "</table>\n",
       "</div>"
      ],
      "text/plain": [
       "     tariff   reg_date churn_date   1   2   3   4    5    6    7    8    9  \\\n",
       "1000  ultra 2018-05-25 2018-12-31 NaN NaN NaN NaN  0.0  0.0  0.0  0.0  0.0   \n",
       "1001  smart 2018-11-01 2018-12-31 NaN NaN NaN NaN  NaN  NaN  NaN  NaN  NaN   \n",
       "1002  smart 2018-06-17 2018-12-31 NaN NaN NaN NaN  NaN  0.0  0.0  0.0  0.0   \n",
       "\n",
       "       10   11   12  \n",
       "1000  0.0  0.0  0.0  \n",
       "1001  NaN  0.0  0.0  \n",
       "1002  0.0  0.0  0.0  "
      ]
     },
     "metadata": {},
     "output_type": "display_data"
    }
   ],
   "source": [
    "calls_pay=calls_sum.copy(deep=True)\n",
    "parametr='minutes_included'                                  #столбец тарифа с количеством включенных минут\n",
    "parametr2='rub_per_minute'                                   #столбец тарифа с ценой минуты сверх лимита\n",
    "for col in range (1, 13):                                    #для столбцов суммарных значений по месяцам\n",
    "    calls_pay[str(col)]=calls_pay.apply(month_pay, axis=1)   #применяем функцию\n",
    "calls_pay=calls_pay.set_index('user_id')                     #устанавливаем user_id в качестве индекса\n",
    "calls_pay.index.name = None\n",
    "display(calls_pay.head(3))"
   ]
  },
  {
   "cell_type": "code",
   "execution_count": 19,
   "metadata": {},
   "outputs": [
    {
     "data": {
      "text/html": [
       "<div>\n",
       "<style scoped>\n",
       "    .dataframe tbody tr th:only-of-type {\n",
       "        vertical-align: middle;\n",
       "    }\n",
       "\n",
       "    .dataframe tbody tr th {\n",
       "        vertical-align: top;\n",
       "    }\n",
       "\n",
       "    .dataframe thead th {\n",
       "        text-align: right;\n",
       "    }\n",
       "</style>\n",
       "<table border=\"1\" class=\"dataframe\">\n",
       "  <thead>\n",
       "    <tr style=\"text-align: right;\">\n",
       "      <th></th>\n",
       "      <th>tariff</th>\n",
       "      <th>calls_pay</th>\n",
       "    </tr>\n",
       "  </thead>\n",
       "  <tbody>\n",
       "    <tr>\n",
       "      <td>5499</td>\n",
       "      <td>smart</td>\n",
       "      <td>336.0</td>\n",
       "    </tr>\n",
       "    <tr>\n",
       "      <td>5500</td>\n",
       "      <td>ultra</td>\n",
       "      <td>0.0</td>\n",
       "    </tr>\n",
       "    <tr>\n",
       "      <td>5501</td>\n",
       "      <td>smart</td>\n",
       "      <td>0.0</td>\n",
       "    </tr>\n",
       "    <tr>\n",
       "      <td>5502</td>\n",
       "      <td>smart</td>\n",
       "      <td>0.0</td>\n",
       "    </tr>\n",
       "  </tbody>\n",
       "</table>\n",
       "</div>"
      ],
      "text/plain": [
       "     tariff  calls_pay\n",
       "5499  smart      336.0\n",
       "5500  ultra        0.0\n",
       "5501  smart        0.0\n",
       "5502  smart        0.0"
      ]
     },
     "metadata": {},
     "output_type": "display_data"
    }
   ],
   "source": [
    "calls_pay_12=pd.DataFrame() #соберем обратно в один стролбец\n",
    "for col in range (1, 13):\n",
    "    calls_pay_n=calls_pay.loc[:, ['tariff', str(col)]]\n",
    "    calls_pay_n.set_axis(['tariff', 'calls_pay'], axis='columns', inplace=True)\n",
    "    calls_pay_12=calls_pay_12.append(calls_pay_n, ignore_index=True)\n",
    "display(calls_pay_12.loc[5499:5502])"
   ]
  },
  {
   "cell_type": "markdown",
   "metadata": {},
   "source": [
    "<a name=\"pre_1_12\"></a>\n",
    "#### Подсчет выручки за СМС по месяцам"
   ]
  },
  {
   "cell_type": "code",
   "execution_count": 20,
   "metadata": {},
   "outputs": [
    {
     "data": {
      "text/html": [
       "<div>\n",
       "<style scoped>\n",
       "    .dataframe tbody tr th:only-of-type {\n",
       "        vertical-align: middle;\n",
       "    }\n",
       "\n",
       "    .dataframe tbody tr th {\n",
       "        vertical-align: top;\n",
       "    }\n",
       "\n",
       "    .dataframe thead th {\n",
       "        text-align: right;\n",
       "    }\n",
       "</style>\n",
       "<table border=\"1\" class=\"dataframe\">\n",
       "  <thead>\n",
       "    <tr style=\"text-align: right;\">\n",
       "      <th></th>\n",
       "      <th>tariff</th>\n",
       "      <th>reg_date</th>\n",
       "      <th>churn_date</th>\n",
       "      <th>1</th>\n",
       "      <th>2</th>\n",
       "      <th>3</th>\n",
       "      <th>4</th>\n",
       "      <th>5</th>\n",
       "      <th>6</th>\n",
       "      <th>7</th>\n",
       "      <th>8</th>\n",
       "      <th>9</th>\n",
       "      <th>10</th>\n",
       "      <th>11</th>\n",
       "      <th>12</th>\n",
       "    </tr>\n",
       "  </thead>\n",
       "  <tbody>\n",
       "    <tr>\n",
       "      <td>1000</td>\n",
       "      <td>ultra</td>\n",
       "      <td>2018-05-25</td>\n",
       "      <td>2018-12-31</td>\n",
       "      <td>NaN</td>\n",
       "      <td>NaN</td>\n",
       "      <td>NaN</td>\n",
       "      <td>NaN</td>\n",
       "      <td>0.0</td>\n",
       "      <td>0.0</td>\n",
       "      <td>0.0</td>\n",
       "      <td>0.0</td>\n",
       "      <td>0.0</td>\n",
       "      <td>0.0</td>\n",
       "      <td>0.0</td>\n",
       "      <td>0.0</td>\n",
       "    </tr>\n",
       "    <tr>\n",
       "      <td>1001</td>\n",
       "      <td>smart</td>\n",
       "      <td>2018-11-01</td>\n",
       "      <td>2018-12-31</td>\n",
       "      <td>NaN</td>\n",
       "      <td>NaN</td>\n",
       "      <td>NaN</td>\n",
       "      <td>NaN</td>\n",
       "      <td>NaN</td>\n",
       "      <td>NaN</td>\n",
       "      <td>NaN</td>\n",
       "      <td>NaN</td>\n",
       "      <td>NaN</td>\n",
       "      <td>NaN</td>\n",
       "      <td>0.0</td>\n",
       "      <td>0.0</td>\n",
       "    </tr>\n",
       "    <tr>\n",
       "      <td>1002</td>\n",
       "      <td>smart</td>\n",
       "      <td>2018-06-17</td>\n",
       "      <td>2018-12-31</td>\n",
       "      <td>NaN</td>\n",
       "      <td>NaN</td>\n",
       "      <td>NaN</td>\n",
       "      <td>NaN</td>\n",
       "      <td>NaN</td>\n",
       "      <td>0.0</td>\n",
       "      <td>0.0</td>\n",
       "      <td>0.0</td>\n",
       "      <td>0.0</td>\n",
       "      <td>0.0</td>\n",
       "      <td>0.0</td>\n",
       "      <td>0.0</td>\n",
       "    </tr>\n",
       "  </tbody>\n",
       "</table>\n",
       "</div>"
      ],
      "text/plain": [
       "     tariff   reg_date churn_date   1   2   3   4    5    6    7    8    9  \\\n",
       "1000  ultra 2018-05-25 2018-12-31 NaN NaN NaN NaN  0.0  0.0  0.0  0.0  0.0   \n",
       "1001  smart 2018-11-01 2018-12-31 NaN NaN NaN NaN  NaN  NaN  NaN  NaN  NaN   \n",
       "1002  smart 2018-06-17 2018-12-31 NaN NaN NaN NaN  NaN  0.0  0.0  0.0  0.0   \n",
       "\n",
       "       10   11   12  \n",
       "1000  0.0  0.0  0.0  \n",
       "1001  NaN  0.0  0.0  \n",
       "1002  0.0  0.0  0.0  "
      ]
     },
     "metadata": {},
     "output_type": "display_data"
    }
   ],
   "source": [
    "messages_pay=messages_count.copy(deep=True)\n",
    "parametr='messages_included'                                    #столбец тарифа с количеством включенных СМС\n",
    "parametr2='rub_per_message'                                     #столбец тарифа с ценой СМС сверх лимита\n",
    "for col in range (1, 13):                                       #для столбцов суммарных значений по месяцам\n",
    "    messages_pay[str(col)]=messages_pay.apply(month_pay, axis=1)#применяем функцию\n",
    "messages_pay=messages_pay.set_index('user_id')                  #устанавливаем user_id в качестве индекса\n",
    "messages_pay.index.name = None\n",
    "display(messages_pay.head(3))"
   ]
  },
  {
   "cell_type": "code",
   "execution_count": 21,
   "metadata": {},
   "outputs": [
    {
     "data": {
      "text/html": [
       "<div>\n",
       "<style scoped>\n",
       "    .dataframe tbody tr th:only-of-type {\n",
       "        vertical-align: middle;\n",
       "    }\n",
       "\n",
       "    .dataframe tbody tr th {\n",
       "        vertical-align: top;\n",
       "    }\n",
       "\n",
       "    .dataframe thead th {\n",
       "        text-align: right;\n",
       "    }\n",
       "</style>\n",
       "<table border=\"1\" class=\"dataframe\">\n",
       "  <thead>\n",
       "    <tr style=\"text-align: right;\">\n",
       "      <th></th>\n",
       "      <th>tariff</th>\n",
       "      <th>messages_pay</th>\n",
       "    </tr>\n",
       "  </thead>\n",
       "  <tbody>\n",
       "    <tr>\n",
       "      <td>5499</td>\n",
       "      <td>smart</td>\n",
       "      <td>27.0</td>\n",
       "    </tr>\n",
       "    <tr>\n",
       "      <td>5500</td>\n",
       "      <td>ultra</td>\n",
       "      <td>0.0</td>\n",
       "    </tr>\n",
       "    <tr>\n",
       "      <td>5501</td>\n",
       "      <td>smart</td>\n",
       "      <td>0.0</td>\n",
       "    </tr>\n",
       "    <tr>\n",
       "      <td>5502</td>\n",
       "      <td>smart</td>\n",
       "      <td>0.0</td>\n",
       "    </tr>\n",
       "  </tbody>\n",
       "</table>\n",
       "</div>"
      ],
      "text/plain": [
       "     tariff  messages_pay\n",
       "5499  smart          27.0\n",
       "5500  ultra           0.0\n",
       "5501  smart           0.0\n",
       "5502  smart           0.0"
      ]
     },
     "metadata": {},
     "output_type": "display_data"
    }
   ],
   "source": [
    "messages_pay_12=pd.DataFrame() #соберем обратно в один стролбец\n",
    "for col in range (1, 13):\n",
    "    messages_pay_n=messages_pay.loc[:, ['tariff', str(col)]]\n",
    "    messages_pay_n.set_axis(['tariff', 'messages_pay'], axis='columns', inplace=True)\n",
    "    messages_pay_12=messages_pay_12.append(messages_pay_n, ignore_index=True)\n",
    "display(messages_pay_12.loc[5499:5502])"
   ]
  },
  {
   "cell_type": "markdown",
   "metadata": {},
   "source": [
    "<a name=\"pre_1_13\"></a>\n",
    "#### Подсчет выручки за трафик по месяцам"
   ]
  },
  {
   "cell_type": "code",
   "execution_count": 22,
   "metadata": {},
   "outputs": [
    {
     "data": {
      "text/html": [
       "<div>\n",
       "<style scoped>\n",
       "    .dataframe tbody tr th:only-of-type {\n",
       "        vertical-align: middle;\n",
       "    }\n",
       "\n",
       "    .dataframe tbody tr th {\n",
       "        vertical-align: top;\n",
       "    }\n",
       "\n",
       "    .dataframe thead th {\n",
       "        text-align: right;\n",
       "    }\n",
       "</style>\n",
       "<table border=\"1\" class=\"dataframe\">\n",
       "  <thead>\n",
       "    <tr style=\"text-align: right;\">\n",
       "      <th></th>\n",
       "      <th>tariff</th>\n",
       "      <th>reg_date</th>\n",
       "      <th>churn_date</th>\n",
       "      <th>1</th>\n",
       "      <th>2</th>\n",
       "      <th>3</th>\n",
       "      <th>4</th>\n",
       "      <th>5</th>\n",
       "      <th>6</th>\n",
       "      <th>7</th>\n",
       "      <th>8</th>\n",
       "      <th>9</th>\n",
       "      <th>10</th>\n",
       "      <th>11</th>\n",
       "      <th>12</th>\n",
       "    </tr>\n",
       "  </thead>\n",
       "  <tbody>\n",
       "    <tr>\n",
       "      <td>1000</td>\n",
       "      <td>ultra</td>\n",
       "      <td>2018-05-25</td>\n",
       "      <td>2018-12-31</td>\n",
       "      <td>NaN</td>\n",
       "      <td>NaN</td>\n",
       "      <td>NaN</td>\n",
       "      <td>NaN</td>\n",
       "      <td>0.0</td>\n",
       "      <td>0.0</td>\n",
       "      <td>0.0</td>\n",
       "      <td>0.0</td>\n",
       "      <td>0.0</td>\n",
       "      <td>0.0</td>\n",
       "      <td>0.0</td>\n",
       "      <td>0.0</td>\n",
       "    </tr>\n",
       "    <tr>\n",
       "      <td>1001</td>\n",
       "      <td>smart</td>\n",
       "      <td>2018-11-01</td>\n",
       "      <td>2018-12-31</td>\n",
       "      <td>NaN</td>\n",
       "      <td>NaN</td>\n",
       "      <td>NaN</td>\n",
       "      <td>NaN</td>\n",
       "      <td>NaN</td>\n",
       "      <td>NaN</td>\n",
       "      <td>NaN</td>\n",
       "      <td>NaN</td>\n",
       "      <td>NaN</td>\n",
       "      <td>NaN</td>\n",
       "      <td>800.0</td>\n",
       "      <td>0.0</td>\n",
       "    </tr>\n",
       "    <tr>\n",
       "      <td>1002</td>\n",
       "      <td>smart</td>\n",
       "      <td>2018-06-17</td>\n",
       "      <td>2018-12-31</td>\n",
       "      <td>NaN</td>\n",
       "      <td>NaN</td>\n",
       "      <td>NaN</td>\n",
       "      <td>NaN</td>\n",
       "      <td>NaN</td>\n",
       "      <td>0.0</td>\n",
       "      <td>600.0</td>\n",
       "      <td>1000.0</td>\n",
       "      <td>400.0</td>\n",
       "      <td>0.0</td>\n",
       "      <td>800.0</td>\n",
       "      <td>600.0</td>\n",
       "    </tr>\n",
       "  </tbody>\n",
       "</table>\n",
       "</div>"
      ],
      "text/plain": [
       "     tariff   reg_date churn_date   1   2   3   4    5    6      7       8  \\\n",
       "1000  ultra 2018-05-25 2018-12-31 NaN NaN NaN NaN  0.0  0.0    0.0     0.0   \n",
       "1001  smart 2018-11-01 2018-12-31 NaN NaN NaN NaN  NaN  NaN    NaN     NaN   \n",
       "1002  smart 2018-06-17 2018-12-31 NaN NaN NaN NaN  NaN  0.0  600.0  1000.0   \n",
       "\n",
       "          9   10     11     12  \n",
       "1000    0.0  0.0    0.0    0.0  \n",
       "1001    NaN  NaN  800.0    0.0  \n",
       "1002  400.0  0.0  800.0  600.0  "
      ]
     },
     "metadata": {},
     "output_type": "display_data"
    }
   ],
   "source": [
    "internet_pay=internet_gb_sum.copy(deep=True)\n",
    "parametr='gb_per_month_included'                                   #столбец тарифа с количеством включенных гигабайт\n",
    "parametr2='rub_per_gb'                                             #столбец тарифа с ценой гигабайта сверх лимита\n",
    "for col in range (1, 13):                                          #для столбцов суммарных значений по месяцам\n",
    "    internet_pay[str(col)]=internet_gb_sum.apply(month_pay, axis=1)#применяем функцию\n",
    "internet_pay=internet_pay.set_index('user_id')                     #устанавливаем user_id в качестве индекса\n",
    "internet_pay.index.name = None\n",
    "display(internet_pay.head(3))"
   ]
  },
  {
   "cell_type": "code",
   "execution_count": 23,
   "metadata": {},
   "outputs": [
    {
     "data": {
      "text/html": [
       "<div>\n",
       "<style scoped>\n",
       "    .dataframe tbody tr th:only-of-type {\n",
       "        vertical-align: middle;\n",
       "    }\n",
       "\n",
       "    .dataframe tbody tr th {\n",
       "        vertical-align: top;\n",
       "    }\n",
       "\n",
       "    .dataframe thead th {\n",
       "        text-align: right;\n",
       "    }\n",
       "</style>\n",
       "<table border=\"1\" class=\"dataframe\">\n",
       "  <thead>\n",
       "    <tr style=\"text-align: right;\">\n",
       "      <th></th>\n",
       "      <th>tariff</th>\n",
       "      <th>internet_pay</th>\n",
       "    </tr>\n",
       "  </thead>\n",
       "  <tbody>\n",
       "    <tr>\n",
       "      <td>5499</td>\n",
       "      <td>smart</td>\n",
       "      <td>600.0</td>\n",
       "    </tr>\n",
       "    <tr>\n",
       "      <td>5500</td>\n",
       "      <td>ultra</td>\n",
       "      <td>0.0</td>\n",
       "    </tr>\n",
       "    <tr>\n",
       "      <td>5501</td>\n",
       "      <td>smart</td>\n",
       "      <td>0.0</td>\n",
       "    </tr>\n",
       "    <tr>\n",
       "      <td>5502</td>\n",
       "      <td>smart</td>\n",
       "      <td>600.0</td>\n",
       "    </tr>\n",
       "  </tbody>\n",
       "</table>\n",
       "</div>"
      ],
      "text/plain": [
       "     tariff  internet_pay\n",
       "5499  smart         600.0\n",
       "5500  ultra           0.0\n",
       "5501  smart           0.0\n",
       "5502  smart         600.0"
      ]
     },
     "metadata": {},
     "output_type": "display_data"
    }
   ],
   "source": [
    "internet_pay_12=pd.DataFrame() #соберем обратно в один стролбец\n",
    "for col in range (1, 13):\n",
    "    internet_pay_n=internet_pay.loc[:, ['tariff', str(col)]]\n",
    "    internet_pay_n.set_axis(['tariff', 'internet_pay'], axis='columns', inplace=True)\n",
    "    internet_pay_12=internet_pay_12.append(internet_pay_n, ignore_index=True)\n",
    "display(internet_pay_12.loc[5499:5502])"
   ]
  },
  {
   "cell_type": "markdown",
   "metadata": {},
   "source": [
    "<a name=\"pre_1_14\"></a>\n",
    "#### функция для абонентской платы"
   ]
  },
  {
   "cell_type": "code",
   "execution_count": 24,
   "metadata": {},
   "outputs": [],
   "source": [
    "def month_abonent_pay(row):                                             #функция получает строку\n",
    "    _tar=row['tariff']                                                  #\"выдергиваем тариф\"\n",
    "    _rub=tariffs.loc[_tar, 'rub_monthly_fee']                           #абонентская плата соответствующего тарифа\n",
    "    try:\n",
    "        if row['reg_date'].month<=col and col<=row['churn_date'].month: #если месяц в нужном диапазоне\n",
    "            return _rub                                                 #считаем абонентскую плату\n",
    "    except:\n",
    "        return 'error _rub'    \n",
    "\n"
   ]
  },
  {
   "cell_type": "markdown",
   "metadata": {},
   "source": [
    "<a name=\"pre_1_15\"></a>\n",
    "#### Подсчет выручки за трафик по месяцам"
   ]
  },
  {
   "cell_type": "code",
   "execution_count": 25,
   "metadata": {
    "scrolled": true
   },
   "outputs": [
    {
     "data": {
      "text/html": [
       "<div>\n",
       "<style scoped>\n",
       "    .dataframe tbody tr th:only-of-type {\n",
       "        vertical-align: middle;\n",
       "    }\n",
       "\n",
       "    .dataframe tbody tr th {\n",
       "        vertical-align: top;\n",
       "    }\n",
       "\n",
       "    .dataframe thead th {\n",
       "        text-align: right;\n",
       "    }\n",
       "</style>\n",
       "<table border=\"1\" class=\"dataframe\">\n",
       "  <thead>\n",
       "    <tr style=\"text-align: right;\">\n",
       "      <th></th>\n",
       "      <th>age</th>\n",
       "      <th>churn_date</th>\n",
       "      <th>city</th>\n",
       "      <th>first_name</th>\n",
       "      <th>last_name</th>\n",
       "      <th>reg_date</th>\n",
       "      <th>tariff</th>\n",
       "      <th>1</th>\n",
       "      <th>2</th>\n",
       "      <th>3</th>\n",
       "      <th>4</th>\n",
       "      <th>5</th>\n",
       "      <th>6</th>\n",
       "      <th>7</th>\n",
       "      <th>8</th>\n",
       "      <th>9</th>\n",
       "      <th>10</th>\n",
       "      <th>11</th>\n",
       "      <th>12</th>\n",
       "    </tr>\n",
       "  </thead>\n",
       "  <tbody>\n",
       "    <tr>\n",
       "      <td>1000</td>\n",
       "      <td>52</td>\n",
       "      <td>2018-12-31</td>\n",
       "      <td>Краснодар</td>\n",
       "      <td>Рафаил</td>\n",
       "      <td>Верещагин</td>\n",
       "      <td>2018-05-25</td>\n",
       "      <td>ultra</td>\n",
       "      <td>NaN</td>\n",
       "      <td>NaN</td>\n",
       "      <td>NaN</td>\n",
       "      <td>NaN</td>\n",
       "      <td>1950.0</td>\n",
       "      <td>1950.0</td>\n",
       "      <td>1950.0</td>\n",
       "      <td>1950.0</td>\n",
       "      <td>1950.0</td>\n",
       "      <td>1950.0</td>\n",
       "      <td>1950.0</td>\n",
       "      <td>1950.0</td>\n",
       "    </tr>\n",
       "    <tr>\n",
       "      <td>1001</td>\n",
       "      <td>41</td>\n",
       "      <td>2018-12-31</td>\n",
       "      <td>Москва</td>\n",
       "      <td>Иван</td>\n",
       "      <td>Ежов</td>\n",
       "      <td>2018-11-01</td>\n",
       "      <td>smart</td>\n",
       "      <td>NaN</td>\n",
       "      <td>NaN</td>\n",
       "      <td>NaN</td>\n",
       "      <td>NaN</td>\n",
       "      <td>NaN</td>\n",
       "      <td>NaN</td>\n",
       "      <td>NaN</td>\n",
       "      <td>NaN</td>\n",
       "      <td>NaN</td>\n",
       "      <td>NaN</td>\n",
       "      <td>550.0</td>\n",
       "      <td>550.0</td>\n",
       "    </tr>\n",
       "    <tr>\n",
       "      <td>1002</td>\n",
       "      <td>59</td>\n",
       "      <td>2018-12-31</td>\n",
       "      <td>Стерлитамак</td>\n",
       "      <td>Евгений</td>\n",
       "      <td>Абрамович</td>\n",
       "      <td>2018-06-17</td>\n",
       "      <td>smart</td>\n",
       "      <td>NaN</td>\n",
       "      <td>NaN</td>\n",
       "      <td>NaN</td>\n",
       "      <td>NaN</td>\n",
       "      <td>NaN</td>\n",
       "      <td>550.0</td>\n",
       "      <td>550.0</td>\n",
       "      <td>550.0</td>\n",
       "      <td>550.0</td>\n",
       "      <td>550.0</td>\n",
       "      <td>550.0</td>\n",
       "      <td>550.0</td>\n",
       "    </tr>\n",
       "  </tbody>\n",
       "</table>\n",
       "</div>"
      ],
      "text/plain": [
       "      age churn_date         city first_name  last_name   reg_date tariff   1  \\\n",
       "1000   52 2018-12-31    Краснодар     Рафаил  Верещагин 2018-05-25  ultra NaN   \n",
       "1001   41 2018-12-31       Москва       Иван       Ежов 2018-11-01  smart NaN   \n",
       "1002   59 2018-12-31  Стерлитамак    Евгений  Абрамович 2018-06-17  smart NaN   \n",
       "\n",
       "       2   3   4       5       6       7       8       9      10      11  \\\n",
       "1000 NaN NaN NaN  1950.0  1950.0  1950.0  1950.0  1950.0  1950.0  1950.0   \n",
       "1001 NaN NaN NaN     NaN     NaN     NaN     NaN     NaN     NaN   550.0   \n",
       "1002 NaN NaN NaN     NaN   550.0   550.0   550.0   550.0   550.0   550.0   \n",
       "\n",
       "          12  \n",
       "1000  1950.0  \n",
       "1001   550.0  \n",
       "1002   550.0  "
      ]
     },
     "metadata": {},
     "output_type": "display_data"
    }
   ],
   "source": [
    "abonent_pay=users.copy(deep=True)\n",
    "\n",
    "for col in range (1, 13):                                               #для каждого из 12 месяцев\n",
    "    abonent_pay[str(col)]=abonent_pay.apply(month_abonent_pay, axis=1)  #применяем функцию\n",
    "\n",
    "abonent_pay=abonent_pay.set_index('user_id')                            #устанавливаем user_id в качестве индекса\n",
    "abonent_pay.index.name = None\n",
    "\n",
    "display(abonent_pay.head(3))"
   ]
  },
  {
   "cell_type": "markdown",
   "metadata": {},
   "source": [
    "<a name=\"pre_1_16\"></a>\n",
    "#### Подсчет суммарной выручки по месяцам"
   ]
  },
  {
   "cell_type": "code",
   "execution_count": 26,
   "metadata": {},
   "outputs": [
    {
     "data": {
      "text/html": [
       "<div>\n",
       "<style scoped>\n",
       "    .dataframe tbody tr th:only-of-type {\n",
       "        vertical-align: middle;\n",
       "    }\n",
       "\n",
       "    .dataframe tbody tr th {\n",
       "        vertical-align: top;\n",
       "    }\n",
       "\n",
       "    .dataframe thead th {\n",
       "        text-align: right;\n",
       "    }\n",
       "</style>\n",
       "<table border=\"1\" class=\"dataframe\">\n",
       "  <thead>\n",
       "    <tr style=\"text-align: right;\">\n",
       "      <th></th>\n",
       "      <th>user_id</th>\n",
       "      <th>city</th>\n",
       "      <th>tariff</th>\n",
       "      <th>1</th>\n",
       "      <th>2</th>\n",
       "      <th>3</th>\n",
       "      <th>4</th>\n",
       "      <th>5</th>\n",
       "      <th>6</th>\n",
       "      <th>7</th>\n",
       "      <th>8</th>\n",
       "      <th>9</th>\n",
       "      <th>10</th>\n",
       "      <th>11</th>\n",
       "      <th>12</th>\n",
       "    </tr>\n",
       "  </thead>\n",
       "  <tbody>\n",
       "    <tr>\n",
       "      <td>0</td>\n",
       "      <td>1000</td>\n",
       "      <td>Краснодар</td>\n",
       "      <td>ultra</td>\n",
       "      <td>NaN</td>\n",
       "      <td>NaN</td>\n",
       "      <td>NaN</td>\n",
       "      <td>NaN</td>\n",
       "      <td>1950.0</td>\n",
       "      <td>1950.0</td>\n",
       "      <td>1950.0</td>\n",
       "      <td>1950.0</td>\n",
       "      <td>1950.0</td>\n",
       "      <td>1950.0</td>\n",
       "      <td>1950.0</td>\n",
       "      <td>1950.0</td>\n",
       "    </tr>\n",
       "    <tr>\n",
       "      <td>1</td>\n",
       "      <td>1001</td>\n",
       "      <td>Москва</td>\n",
       "      <td>smart</td>\n",
       "      <td>NaN</td>\n",
       "      <td>NaN</td>\n",
       "      <td>NaN</td>\n",
       "      <td>NaN</td>\n",
       "      <td>NaN</td>\n",
       "      <td>NaN</td>\n",
       "      <td>NaN</td>\n",
       "      <td>NaN</td>\n",
       "      <td>NaN</td>\n",
       "      <td>NaN</td>\n",
       "      <td>1350.0</td>\n",
       "      <td>550.0</td>\n",
       "    </tr>\n",
       "    <tr>\n",
       "      <td>2</td>\n",
       "      <td>1002</td>\n",
       "      <td>Стерлитамак</td>\n",
       "      <td>smart</td>\n",
       "      <td>NaN</td>\n",
       "      <td>NaN</td>\n",
       "      <td>NaN</td>\n",
       "      <td>NaN</td>\n",
       "      <td>NaN</td>\n",
       "      <td>550.0</td>\n",
       "      <td>1150.0</td>\n",
       "      <td>1550.0</td>\n",
       "      <td>950.0</td>\n",
       "      <td>550.0</td>\n",
       "      <td>1350.0</td>\n",
       "      <td>1150.0</td>\n",
       "    </tr>\n",
       "    <tr>\n",
       "      <td>3</td>\n",
       "      <td>1003</td>\n",
       "      <td>Москва</td>\n",
       "      <td>ultra</td>\n",
       "      <td>NaN</td>\n",
       "      <td>NaN</td>\n",
       "      <td>NaN</td>\n",
       "      <td>NaN</td>\n",
       "      <td>NaN</td>\n",
       "      <td>NaN</td>\n",
       "      <td>NaN</td>\n",
       "      <td>1950.0</td>\n",
       "      <td>1950.0</td>\n",
       "      <td>1950.0</td>\n",
       "      <td>1950.0</td>\n",
       "      <td>1950.0</td>\n",
       "    </tr>\n",
       "    <tr>\n",
       "      <td>4</td>\n",
       "      <td>1004</td>\n",
       "      <td>Новокузнецк</td>\n",
       "      <td>ultra</td>\n",
       "      <td>NaN</td>\n",
       "      <td>NaN</td>\n",
       "      <td>NaN</td>\n",
       "      <td>NaN</td>\n",
       "      <td>1950.0</td>\n",
       "      <td>1950.0</td>\n",
       "      <td>1950.0</td>\n",
       "      <td>1950.0</td>\n",
       "      <td>1950.0</td>\n",
       "      <td>1950.0</td>\n",
       "      <td>1950.0</td>\n",
       "      <td>1950.0</td>\n",
       "    </tr>\n",
       "    <tr>\n",
       "      <td>5</td>\n",
       "      <td>1005</td>\n",
       "      <td>Набережные Челны</td>\n",
       "      <td>smart</td>\n",
       "      <td>550.0</td>\n",
       "      <td>550.0</td>\n",
       "      <td>886.0</td>\n",
       "      <td>1186.0</td>\n",
       "      <td>835.0</td>\n",
       "      <td>886.0</td>\n",
       "      <td>775.0</td>\n",
       "      <td>949.0</td>\n",
       "      <td>556.0</td>\n",
       "      <td>1219.0</td>\n",
       "      <td>694.0</td>\n",
       "      <td>838.0</td>\n",
       "    </tr>\n",
       "    <tr>\n",
       "      <td>6</td>\n",
       "      <td>1006</td>\n",
       "      <td>Ульяновск</td>\n",
       "      <td>smart</td>\n",
       "      <td>NaN</td>\n",
       "      <td>550.0</td>\n",
       "      <td>950.0</td>\n",
       "      <td>550.0</td>\n",
       "      <td>550.0</td>\n",
       "      <td>550.0</td>\n",
       "      <td>1550.0</td>\n",
       "      <td>1350.0</td>\n",
       "      <td>750.0</td>\n",
       "      <td>1550.0</td>\n",
       "      <td>550.0</td>\n",
       "      <td>1350.0</td>\n",
       "    </tr>\n",
       "    <tr>\n",
       "      <td>7</td>\n",
       "      <td>1007</td>\n",
       "      <td>Москва</td>\n",
       "      <td>smart</td>\n",
       "      <td>NaN</td>\n",
       "      <td>NaN</td>\n",
       "      <td>NaN</td>\n",
       "      <td>550.0</td>\n",
       "      <td>1150.0</td>\n",
       "      <td>685.0</td>\n",
       "      <td>981.0</td>\n",
       "      <td>1750.0</td>\n",
       "      <td>1015.0</td>\n",
       "      <td>550.0</td>\n",
       "      <td>1190.0</td>\n",
       "      <td>550.0</td>\n",
       "    </tr>\n",
       "    <tr>\n",
       "      <td>8</td>\n",
       "      <td>1008</td>\n",
       "      <td>Челябинск</td>\n",
       "      <td>smart</td>\n",
       "      <td>NaN</td>\n",
       "      <td>NaN</td>\n",
       "      <td>NaN</td>\n",
       "      <td>NaN</td>\n",
       "      <td>NaN</td>\n",
       "      <td>NaN</td>\n",
       "      <td>NaN</td>\n",
       "      <td>NaN</td>\n",
       "      <td>NaN</td>\n",
       "      <td>NaN</td>\n",
       "      <td>NaN</td>\n",
       "      <td>568.0</td>\n",
       "    </tr>\n",
       "    <tr>\n",
       "      <td>9</td>\n",
       "      <td>1009</td>\n",
       "      <td>Пермь</td>\n",
       "      <td>smart</td>\n",
       "      <td>NaN</td>\n",
       "      <td>NaN</td>\n",
       "      <td>550.0</td>\n",
       "      <td>550.0</td>\n",
       "      <td>550.0</td>\n",
       "      <td>750.0</td>\n",
       "      <td>2550.0</td>\n",
       "      <td>2350.0</td>\n",
       "      <td>1950.0</td>\n",
       "      <td>1550.0</td>\n",
       "      <td>950.0</td>\n",
       "      <td>1350.0</td>\n",
       "    </tr>\n",
       "  </tbody>\n",
       "</table>\n",
       "</div>"
      ],
      "text/plain": [
       "   user_id              city tariff      1      2      3       4       5  \\\n",
       "0     1000         Краснодар  ultra    NaN    NaN    NaN     NaN  1950.0   \n",
       "1     1001            Москва  smart    NaN    NaN    NaN     NaN     NaN   \n",
       "2     1002       Стерлитамак  smart    NaN    NaN    NaN     NaN     NaN   \n",
       "3     1003            Москва  ultra    NaN    NaN    NaN     NaN     NaN   \n",
       "4     1004       Новокузнецк  ultra    NaN    NaN    NaN     NaN  1950.0   \n",
       "5     1005  Набережные Челны  smart  550.0  550.0  886.0  1186.0   835.0   \n",
       "6     1006         Ульяновск  smart    NaN  550.0  950.0   550.0   550.0   \n",
       "7     1007            Москва  smart    NaN    NaN    NaN   550.0  1150.0   \n",
       "8     1008         Челябинск  smart    NaN    NaN    NaN     NaN     NaN   \n",
       "9     1009             Пермь  smart    NaN    NaN  550.0   550.0   550.0   \n",
       "\n",
       "        6       7       8       9      10      11      12  \n",
       "0  1950.0  1950.0  1950.0  1950.0  1950.0  1950.0  1950.0  \n",
       "1     NaN     NaN     NaN     NaN     NaN  1350.0   550.0  \n",
       "2   550.0  1150.0  1550.0   950.0   550.0  1350.0  1150.0  \n",
       "3     NaN     NaN  1950.0  1950.0  1950.0  1950.0  1950.0  \n",
       "4  1950.0  1950.0  1950.0  1950.0  1950.0  1950.0  1950.0  \n",
       "5   886.0   775.0   949.0   556.0  1219.0   694.0   838.0  \n",
       "6   550.0  1550.0  1350.0   750.0  1550.0   550.0  1350.0  \n",
       "7   685.0   981.0  1750.0  1015.0   550.0  1190.0   550.0  \n",
       "8     NaN     NaN     NaN     NaN     NaN     NaN   568.0  \n",
       "9   750.0  2550.0  2350.0  1950.0  1550.0   950.0  1350.0  "
      ]
     },
     "metadata": {},
     "output_type": "display_data"
    }
   ],
   "source": [
    "total_pay=calls_pay.loc[:, '1':'12']+messages_pay.loc[:, '1':'12']+internet_pay.loc[:, '1':'12']+abonent_pay.loc[:, '1':'12']\n",
    "#добавим столбец 'user_id'\n",
    "total_pay['user_id']=total_pay.index\n",
    "#добавим тариф и город\n",
    "total_pay=pd.merge(users.loc[:, ['user_id', 'city', 'tariff']], total_pay, how ='left', on ='user_id')\n",
    "display(total_pay.head(10))"
   ]
  },
  {
   "cell_type": "code",
   "execution_count": 27,
   "metadata": {},
   "outputs": [
    {
     "data": {
      "text/html": [
       "<div>\n",
       "<style scoped>\n",
       "    .dataframe tbody tr th:only-of-type {\n",
       "        vertical-align: middle;\n",
       "    }\n",
       "\n",
       "    .dataframe tbody tr th {\n",
       "        vertical-align: top;\n",
       "    }\n",
       "\n",
       "    .dataframe thead th {\n",
       "        text-align: right;\n",
       "    }\n",
       "</style>\n",
       "<table border=\"1\" class=\"dataframe\">\n",
       "  <thead>\n",
       "    <tr style=\"text-align: right;\">\n",
       "      <th></th>\n",
       "      <th>user_id</th>\n",
       "      <th>city</th>\n",
       "      <th>tariff</th>\n",
       "      <th>total_pay</th>\n",
       "    </tr>\n",
       "  </thead>\n",
       "  <tbody>\n",
       "    <tr>\n",
       "      <td>5499</td>\n",
       "      <td>1499</td>\n",
       "      <td>Пермь</td>\n",
       "      <td>smart</td>\n",
       "      <td>1513.0</td>\n",
       "    </tr>\n",
       "    <tr>\n",
       "      <td>5500</td>\n",
       "      <td>1000</td>\n",
       "      <td>Краснодар</td>\n",
       "      <td>ultra</td>\n",
       "      <td>1950.0</td>\n",
       "    </tr>\n",
       "    <tr>\n",
       "      <td>5501</td>\n",
       "      <td>1001</td>\n",
       "      <td>Москва</td>\n",
       "      <td>smart</td>\n",
       "      <td>550.0</td>\n",
       "    </tr>\n",
       "    <tr>\n",
       "      <td>5502</td>\n",
       "      <td>1002</td>\n",
       "      <td>Стерлитамак</td>\n",
       "      <td>smart</td>\n",
       "      <td>1150.0</td>\n",
       "    </tr>\n",
       "  </tbody>\n",
       "</table>\n",
       "</div>"
      ],
      "text/plain": [
       "      user_id         city tariff  total_pay\n",
       "5499     1499        Пермь  smart     1513.0\n",
       "5500     1000    Краснодар  ultra     1950.0\n",
       "5501     1001       Москва  smart      550.0\n",
       "5502     1002  Стерлитамак  smart     1150.0"
      ]
     },
     "metadata": {},
     "output_type": "display_data"
    }
   ],
   "source": [
    "total_pay_12=pd.DataFrame() #соберем обратно в один стролбец\n",
    "for col in range (1, 13):\n",
    "    total_pay_n=total_pay.loc[:, ['user_id', 'city', 'tariff', str(col)]]\n",
    "    total_pay_n.set_axis(['user_id', 'city', 'tariff', 'total_pay'], axis='columns', inplace=True)\n",
    "    total_pay_12=total_pay_12.append(total_pay_n, ignore_index=True)\n",
    "display(total_pay_12.loc[5499:5502])"
   ]
  },
  {
   "cell_type": "markdown",
   "metadata": {},
   "source": [
    "<div class=\"alert alert-block alert-warning\">\n",
    "<b>Remarks:</b> хоть мне и кажется, что подход с созданием таких датасетов чрезмерене, с задачей ты справился. однако каждый раз используется аналогичный код. Было бы здорово такие задачи автоматизировать"
   ]
  },
  {
   "cell_type": "markdown",
   "metadata": {},
   "source": [
    "<div class=\"alert alert-block alert-info\">\n",
    "<b>Fixed:</b> \n",
    "Согласен. Сейчас выбрал бы более простую последовательность действий для обработки данных, и вижу как можно было автоматизировать мой подход. \n",
    "</div>"
   ]
  },
  {
   "cell_type": "markdown",
   "metadata": {},
   "source": [
    "<a name=\"Analysis\"></a>\n",
    "### Шаг 3. Анализ данных\n",
    "Опишите поведение клиентов оператора, исходя из выборки. Сколько минут разговора, сколько сообщений и какой объём интернет-трафика требуется пользователям каждого тарифа в месяц? Посчитайте среднее количество, дисперсию и стандартное отклонение. Постройте гистограммы. Опишите распределения."
   ]
  },
  {
   "cell_type": "markdown",
   "metadata": {},
   "source": [
    "<a name=\"Analysis_1\"></a>\n",
    "#### Суммарная выручка Москва / не Москва"
   ]
  },
  {
   "cell_type": "code",
   "execution_count": 28,
   "metadata": {
    "scrolled": true
   },
   "outputs": [
    {
     "data": {
      "text/html": [
       "<div>\n",
       "<style scoped>\n",
       "    .dataframe tbody tr th:only-of-type {\n",
       "        vertical-align: middle;\n",
       "    }\n",
       "\n",
       "    .dataframe tbody tr th {\n",
       "        vertical-align: top;\n",
       "    }\n",
       "\n",
       "    .dataframe thead th {\n",
       "        text-align: right;\n",
       "    }\n",
       "</style>\n",
       "<table border=\"1\" class=\"dataframe\">\n",
       "  <thead>\n",
       "    <tr style=\"text-align: right;\">\n",
       "      <th></th>\n",
       "      <th>count</th>\n",
       "      <th>mean</th>\n",
       "      <th>std</th>\n",
       "      <th>min</th>\n",
       "      <th>25%</th>\n",
       "      <th>50%</th>\n",
       "      <th>75%</th>\n",
       "      <th>max</th>\n",
       "    </tr>\n",
       "    <tr>\n",
       "      <th>city</th>\n",
       "      <th></th>\n",
       "      <th></th>\n",
       "      <th></th>\n",
       "      <th></th>\n",
       "      <th></th>\n",
       "      <th></th>\n",
       "      <th></th>\n",
       "      <th></th>\n",
       "    </tr>\n",
       "  </thead>\n",
       "  <tbody>\n",
       "    <tr>\n",
       "      <td>Москва</td>\n",
       "      <td>611.0</td>\n",
       "      <td>1550.805237</td>\n",
       "      <td>752.451347</td>\n",
       "      <td>550.0</td>\n",
       "      <td>798.0</td>\n",
       "      <td>1750.0</td>\n",
       "      <td>1950.0</td>\n",
       "      <td>5321.0</td>\n",
       "    </tr>\n",
       "    <tr>\n",
       "      <td>Не Москва</td>\n",
       "      <td>2605.0</td>\n",
       "      <td>1528.103263</td>\n",
       "      <td>810.369026</td>\n",
       "      <td>550.0</td>\n",
       "      <td>750.0</td>\n",
       "      <td>1587.0</td>\n",
       "      <td>1950.0</td>\n",
       "      <td>6770.0</td>\n",
       "    </tr>\n",
       "  </tbody>\n",
       "</table>\n",
       "</div>"
      ],
      "text/plain": [
       "            count         mean         std    min    25%     50%     75%  \\\n",
       "city                                                                       \n",
       "Москва      611.0  1550.805237  752.451347  550.0  798.0  1750.0  1950.0   \n",
       "Не Москва  2605.0  1528.103263  810.369026  550.0  750.0  1587.0  1950.0   \n",
       "\n",
       "              max  \n",
       "city               \n",
       "Москва     5321.0  \n",
       "Не Москва  6770.0  "
      ]
     },
     "execution_count": 28,
     "metadata": {},
     "output_type": "execute_result"
    },
    {
     "data": {
      "image/png": "[encoded data removed]",
      "text/plain": [
       "<Figure size 432x288 with 1 Axes>"
      ]
     },
     "metadata": {
      "needs_background": "light"
     },
     "output_type": "display_data"
    }
   ],
   "source": [
    "region_total_pay_12=total_pay_12.copy(deep=True)\n",
    "\n",
    "region_total_pay_12['city']=region_total_pay_12['city'].where(\n",
    "    region_total_pay_12['city']=='Москва', 'Не Москва') \n",
    "\n",
    "region_total_pay_12.groupby('city')['total_pay'].plot(kind='hist', y='total_pay', histtype='step',\n",
    "    linewidth=2, bins=14, range=(500, 4000), density=True, title='Распределение суммарной выручка в месяц', legend=True)\n",
    "\n",
    "plt.ylabel(\"Доля пользователей тарифа\")\n",
    "plt.xlabel(\"Выручка, руб.\")\n",
    "\n",
    "region_total_pay_12.groupby('city')['total_pay'].describe()"
   ]
  },
  {
   "cell_type": "markdown",
   "metadata": {},
   "source": [
    "\n",
    "<div class=\"alert alert-block alert-success\">\n",
    "<b>Success:</b> Очень хорошо"
   ]
  },
  {
   "cell_type": "markdown",
   "metadata": {},
   "source": [
    "Видны явные пики в районе абонентской платы обозначающие что большинство пользователей не выходят за рамки включенных в тариф минут/СМС/Мб. Также видно что доля smart (первый пик) и ultra (второй пик) для москвы и регионов различается."
   ]
  },
  {
   "cell_type": "markdown",
   "metadata": {},
   "source": [
    "<a name=\"Analysis_2\"></a>\n",
    "#### Количество и средняя выручка по тарифам Москав / не Москва"
   ]
  },
  {
   "cell_type": "code",
   "execution_count": 29,
   "metadata": {
    "scrolled": true
   },
   "outputs": [
    {
     "data": {
      "text/html": [
       "<div>\n",
       "<style scoped>\n",
       "    .dataframe tbody tr th:only-of-type {\n",
       "        vertical-align: middle;\n",
       "    }\n",
       "\n",
       "    .dataframe tbody tr th {\n",
       "        vertical-align: top;\n",
       "    }\n",
       "\n",
       "    .dataframe thead th {\n",
       "        text-align: right;\n",
       "    }\n",
       "</style>\n",
       "<table border=\"1\" class=\"dataframe\">\n",
       "  <thead>\n",
       "    <tr style=\"text-align: right;\">\n",
       "      <th></th>\n",
       "      <th></th>\n",
       "      <th>count</th>\n",
       "      <th>mean</th>\n",
       "    </tr>\n",
       "    <tr>\n",
       "      <th>city</th>\n",
       "      <th>tariff</th>\n",
       "      <th></th>\n",
       "      <th></th>\n",
       "    </tr>\n",
       "  </thead>\n",
       "  <tbody>\n",
       "    <tr>\n",
       "      <td rowspan=\"2\" valign=\"top\">Москва</td>\n",
       "      <td>smart</td>\n",
       "      <td>386</td>\n",
       "      <td>1245.056995</td>\n",
       "    </tr>\n",
       "    <tr>\n",
       "      <td>ultra</td>\n",
       "      <td>225</td>\n",
       "      <td>2075.333333</td>\n",
       "    </tr>\n",
       "    <tr>\n",
       "      <td rowspan=\"2\" valign=\"top\">Не Москва</td>\n",
       "      <td>smart</td>\n",
       "      <td>1844</td>\n",
       "      <td>1304.614425</td>\n",
       "    </tr>\n",
       "    <tr>\n",
       "      <td>ultra</td>\n",
       "      <td>761</td>\n",
       "      <td>2069.645204</td>\n",
       "    </tr>\n",
       "  </tbody>\n",
       "</table>\n",
       "</div>"
      ],
      "text/plain": [
       "                  count         mean\n",
       "city      tariff                    \n",
       "Москва    smart     386  1245.056995\n",
       "          ultra     225  2075.333333\n",
       "Не Москва smart    1844  1304.614425\n",
       "          ultra     761  2069.645204"
      ]
     },
     "execution_count": 29,
     "metadata": {},
     "output_type": "execute_result"
    }
   ],
   "source": [
    "region_total_pay_12.pivot_table(\n",
    "    index=('city', 'tariff'), values='total_pay', aggfunc=('count', 'mean',))"
   ]
  },
  {
   "cell_type": "code",
   "execution_count": 30,
   "metadata": {},
   "outputs": [
    {
     "data": {
      "image/png": "[encoded data removed]",
      "text/plain": [
       "<Figure size 216x216 with 1 Axes>"
      ]
     },
     "metadata": {},
     "output_type": "display_data"
    },
    {
     "data": {
      "image/png": "[encoded data removed]",
      "text/plain": [
       "<Figure size 216x216 with 1 Axes>"
      ]
     },
     "metadata": {},
     "output_type": "display_data"
    }
   ],
   "source": [
    "region_total_pay_12.query('city==\"Москва\" and total_pay>=0')['tariff'].value_counts().plot.pie(\n",
    "    figsize=(3, 3), title='Соотношение тарифов пользователей в Москве', autopct='%.1f')\n",
    "plt.ylabel(\"Тариф\")\n",
    "plt.show()\n",
    "region_total_pay_12.query('city!=\"Москва\" and total_pay>=0')['tariff'].value_counts().plot.pie(\n",
    "    figsize=(3, 3), title='Соотношение тарифов пользователей в регионах', autopct='%.1f')\n",
    "plt.ylabel(\"Тариф\");"
   ]
  },
  {
   "cell_type": "markdown",
   "metadata": {},
   "source": [
    "В Москве бОльшая доля пользователей тарифа ultra чем в регионах.  \n",
    "Средний платеж по каждому тарифу для Москвы почти не отличается от других регионов."
   ]
  },
  {
   "cell_type": "markdown",
   "metadata": {},
   "source": [
    "<div class=\"alert alert-info\" role=\"alert\">\n",
    "Можно выводить plot одной строкой после groupby (как выше), но для такого варианта не сообразил как назначить цвета линий (а хочется smart - зеленый, ultra - золотой) - поэтому дальше вывожу двумя plot. Комментарии не пишу - всё однотипно.\n",
    "</div>"
   ]
  },
  {
   "cell_type": "markdown",
   "metadata": {},
   "source": [
    "<div class=\"alert alert-block alert-warning\">\n",
    "<b>Remarks:</b> опять же, однотипно - значит следует автоматизировать :)"
   ]
  },
  {
   "cell_type": "markdown",
   "metadata": {},
   "source": [
    "<a name=\"Analysis_3\"></a>\n",
    "#### Суммарная выручка smart / ultra"
   ]
  },
  {
   "cell_type": "code",
   "execution_count": 31,
   "metadata": {
    "scrolled": true
   },
   "outputs": [
    {
     "data": {
      "text/html": [
       "<div>\n",
       "<style scoped>\n",
       "    .dataframe tbody tr th:only-of-type {\n",
       "        vertical-align: middle;\n",
       "    }\n",
       "\n",
       "    .dataframe tbody tr th {\n",
       "        vertical-align: top;\n",
       "    }\n",
       "\n",
       "    .dataframe thead th {\n",
       "        text-align: right;\n",
       "    }\n",
       "</style>\n",
       "<table border=\"1\" class=\"dataframe\">\n",
       "  <thead>\n",
       "    <tr style=\"text-align: right;\">\n",
       "      <th></th>\n",
       "      <th>count</th>\n",
       "      <th>mean</th>\n",
       "      <th>std</th>\n",
       "      <th>min</th>\n",
       "      <th>25%</th>\n",
       "      <th>50%</th>\n",
       "      <th>75%</th>\n",
       "      <th>max</th>\n",
       "    </tr>\n",
       "    <tr>\n",
       "      <th>tariff</th>\n",
       "      <th></th>\n",
       "      <th></th>\n",
       "      <th></th>\n",
       "      <th></th>\n",
       "      <th></th>\n",
       "      <th></th>\n",
       "      <th></th>\n",
       "      <th></th>\n",
       "    </tr>\n",
       "  </thead>\n",
       "  <tbody>\n",
       "    <tr>\n",
       "      <td>smart</td>\n",
       "      <td>2230.0</td>\n",
       "      <td>1294.305381</td>\n",
       "      <td>820.900496</td>\n",
       "      <td>550.0</td>\n",
       "      <td>550.0</td>\n",
       "      <td>1037.0</td>\n",
       "      <td>1750.0</td>\n",
       "      <td>6770.0</td>\n",
       "    </tr>\n",
       "    <tr>\n",
       "      <td>ultra</td>\n",
       "      <td>986.0</td>\n",
       "      <td>2070.943205</td>\n",
       "      <td>378.629673</td>\n",
       "      <td>1950.0</td>\n",
       "      <td>1950.0</td>\n",
       "      <td>1950.0</td>\n",
       "      <td>1950.0</td>\n",
       "      <td>4800.0</td>\n",
       "    </tr>\n",
       "  </tbody>\n",
       "</table>\n",
       "</div>"
      ],
      "text/plain": [
       "         count         mean         std     min     25%     50%     75%  \\\n",
       "tariff                                                                    \n",
       "smart   2230.0  1294.305381  820.900496   550.0   550.0  1037.0  1750.0   \n",
       "ultra    986.0  2070.943205  378.629673  1950.0  1950.0  1950.0  1950.0   \n",
       "\n",
       "           max  \n",
       "tariff          \n",
       "smart   6770.0  \n",
       "ultra   4800.0  "
      ]
     },
     "execution_count": 31,
     "metadata": {},
     "output_type": "execute_result"
    },
    {
     "data": {
      "image/png": "[encoded data removed]",
      "text/plain": [
       "<Figure size 432x288 with 1 Axes>"
      ]
     },
     "metadata": {
      "needs_background": "light"
     },
     "output_type": "display_data"
    }
   ],
   "source": [
    "p_smart=total_pay_12.reset_index().query('tariff==\"smart\"')\n",
    "p_ultra=total_pay_12.reset_index().query('tariff==\"ultra\"')\n",
    "\n",
    "ax=p_smart.plot(kind='hist', y='total_pay', color='lime', histtype='step', linewidth=2, \n",
    "    bins=14, range=(500, 4000), density=True, label='Выручка в месяц smart', legend=True)\n",
    "p_ultra.plot(kind='hist', y='total_pay', color='gold', histtype='step', linewidth=2, \n",
    "    bins=14, range=(500, 4000), density=True, label='Выручка в месяц ultra', legend=True, ax=ax)\n",
    "plt.title(\"Распределение суммарной выручки smart / ultra\"); \n",
    "plt.ylabel(\"Доля пользователей тарифа\")\n",
    "plt.xlabel(\"Выручка, руб.\");\n",
    "total_pay_12.groupby('tariff')['total_pay'].describe()"
   ]
  },
  {
   "cell_type": "markdown",
   "metadata": {},
   "source": [
    "<a name=\"Analysis_4\"></a>\n",
    "#### Минут smart / ultra"
   ]
  },
  {
   "cell_type": "code",
   "execution_count": 32,
   "metadata": {
    "scrolled": true
   },
   "outputs": [
    {
     "data": {
      "text/html": [
       "<div>\n",
       "<style scoped>\n",
       "    .dataframe tbody tr th:only-of-type {\n",
       "        vertical-align: middle;\n",
       "    }\n",
       "\n",
       "    .dataframe tbody tr th {\n",
       "        vertical-align: top;\n",
       "    }\n",
       "\n",
       "    .dataframe thead th {\n",
       "        text-align: right;\n",
       "    }\n",
       "</style>\n",
       "<table border=\"1\" class=\"dataframe\">\n",
       "  <thead>\n",
       "    <tr style=\"text-align: right;\">\n",
       "      <th></th>\n",
       "      <th>count</th>\n",
       "      <th>mean</th>\n",
       "      <th>std</th>\n",
       "      <th>min</th>\n",
       "      <th>25%</th>\n",
       "      <th>50%</th>\n",
       "      <th>75%</th>\n",
       "      <th>max</th>\n",
       "    </tr>\n",
       "    <tr>\n",
       "      <th>tariff</th>\n",
       "      <th></th>\n",
       "      <th></th>\n",
       "      <th></th>\n",
       "      <th></th>\n",
       "      <th></th>\n",
       "      <th></th>\n",
       "      <th></th>\n",
       "      <th></th>\n",
       "    </tr>\n",
       "  </thead>\n",
       "  <tbody>\n",
       "    <tr>\n",
       "      <td>smart</td>\n",
       "      <td>2221.0</td>\n",
       "      <td>419.440342</td>\n",
       "      <td>188.992403</td>\n",
       "      <td>2.0</td>\n",
       "      <td>285.0</td>\n",
       "      <td>423.0</td>\n",
       "      <td>546.0</td>\n",
       "      <td>1435.0</td>\n",
       "    </tr>\n",
       "    <tr>\n",
       "      <td>ultra</td>\n",
       "      <td>947.0</td>\n",
       "      <td>547.755016</td>\n",
       "      <td>305.513385</td>\n",
       "      <td>1.0</td>\n",
       "      <td>311.0</td>\n",
       "      <td>529.0</td>\n",
       "      <td>758.0</td>\n",
       "      <td>1673.0</td>\n",
       "    </tr>\n",
       "  </tbody>\n",
       "</table>\n",
       "</div>"
      ],
      "text/plain": [
       "         count        mean         std  min    25%    50%    75%     max\n",
       "tariff                                                                  \n",
       "smart   2221.0  419.440342  188.992403  2.0  285.0  423.0  546.0  1435.0\n",
       "ultra    947.0  547.755016  305.513385  1.0  311.0  529.0  758.0  1673.0"
      ]
     },
     "execution_count": 32,
     "metadata": {},
     "output_type": "execute_result"
    },
    {
     "data": {
      "image/png": "[encoded data removed]",
      "text/plain": [
       "<Figure size 432x288 with 1 Axes>"
      ]
     },
     "metadata": {
      "needs_background": "light"
     },
     "output_type": "display_data"
    }
   ],
   "source": [
    "с_smart=calls_sum_12.query('tariff==\"smart\"')\n",
    "с_ultra=calls_sum_12.query('tariff==\"ultra\"')\n",
    "ax=с_smart.plot(kind='hist', y='calls_sum', color='lime', histtype='step', linewidth=2, \n",
    "        bins=15, range=(0, 1500), density=True, label='Минут в месяц smart', legend=True)\n",
    "с_ultra.plot(kind='hist', y='calls_sum', color='gold', histtype='step', linewidth=2, \n",
    "        bins=15, range=(0, 1500), density=True, label='Минут в месяц ultra', legend=True, ax=ax)\n",
    "plt.title(\"Распределение количества минут разговоров в месяц smart / ultra\"); \n",
    "plt.ylabel(\"Доля пользователей тарифа\")\n",
    "plt.xlabel(\"Продолжительность разговоров в месяц, мин.\");\n",
    "calls_sum_12.groupby('tariff')['calls_sum'].describe()"
   ]
  },
  {
   "cell_type": "code",
   "execution_count": 33,
   "metadata": {},
   "outputs": [
    {
     "name": "stdout",
     "output_type": "stream",
     "text": [
      "smart минуты\n",
      "Среднее количество минут для тарифа smart : 419 минут\n",
      "Дисперсия для тарифа smart : 35718 квадратных минут\n",
      "Стандартное отклонение для тарифа smart : 189 минут\n",
      "ultra минуты\n",
      "Среднее количество минут для тарифа ultra : 548 минут\n",
      "Дисперсия для тарифа ultra : 93338 квадратных минут\n",
      "Стандартное отклонение для тарифа ultra : 306 минут\n"
     ]
    }
   ],
   "source": [
    "for _tarif in tariffs.index:\n",
    "    print(_tarif, 'минуты')\n",
    "    \n",
    "    print('Среднее количество минут для тарифа', _tarif, ': {:.0f} минут'.format(\n",
    "        calls_sum_12[calls_sum_12['tariff']==_tarif]['calls_sum'].mean()))   \n",
    "    \n",
    "    print('Дисперсия для тарифа', _tarif, ': {:.0f} квадратных минут'.format(\n",
    "        np.var(calls_sum_12[calls_sum_12['tariff']==_tarif]['calls_sum'], ddof=1)))\n",
    "    \n",
    "    print('Стандартное отклонение для тарифа', _tarif, ': {:.0f} минут'.format(\n",
    "        np.std(calls_sum_12[calls_sum_12['tariff']==_tarif]['calls_sum'], ddof=1)))"
   ]
  },
  {
   "cell_type": "markdown",
   "metadata": {},
   "source": [
    "<a name=\"Analysis_5\"></a>\n",
    "#### Выручка за звонки smart / ultra"
   ]
  },
  {
   "cell_type": "code",
   "execution_count": 34,
   "metadata": {},
   "outputs": [
    {
     "data": {
      "text/html": [
       "<div>\n",
       "<style scoped>\n",
       "    .dataframe tbody tr th:only-of-type {\n",
       "        vertical-align: middle;\n",
       "    }\n",
       "\n",
       "    .dataframe tbody tr th {\n",
       "        vertical-align: top;\n",
       "    }\n",
       "\n",
       "    .dataframe thead th {\n",
       "        text-align: right;\n",
       "    }\n",
       "</style>\n",
       "<table border=\"1\" class=\"dataframe\">\n",
       "  <thead>\n",
       "    <tr style=\"text-align: right;\">\n",
       "      <th></th>\n",
       "      <th>count</th>\n",
       "      <th>mean</th>\n",
       "      <th>std</th>\n",
       "      <th>min</th>\n",
       "      <th>25%</th>\n",
       "      <th>50%</th>\n",
       "      <th>75%</th>\n",
       "      <th>max</th>\n",
       "    </tr>\n",
       "    <tr>\n",
       "      <th>tariff</th>\n",
       "      <th></th>\n",
       "      <th></th>\n",
       "      <th></th>\n",
       "      <th></th>\n",
       "      <th></th>\n",
       "      <th></th>\n",
       "      <th></th>\n",
       "      <th></th>\n",
       "    </tr>\n",
       "  </thead>\n",
       "  <tbody>\n",
       "    <tr>\n",
       "      <td>smart</td>\n",
       "      <td>2230.0</td>\n",
       "      <td>124.760987</td>\n",
       "      <td>253.992481</td>\n",
       "      <td>0.0</td>\n",
       "      <td>0.0</td>\n",
       "      <td>0.0</td>\n",
       "      <td>135.0</td>\n",
       "      <td>2805.0</td>\n",
       "    </tr>\n",
       "    <tr>\n",
       "      <td>ultra</td>\n",
       "      <td>986.0</td>\n",
       "      <td>0.000000</td>\n",
       "      <td>0.000000</td>\n",
       "      <td>0.0</td>\n",
       "      <td>0.0</td>\n",
       "      <td>0.0</td>\n",
       "      <td>0.0</td>\n",
       "      <td>0.0</td>\n",
       "    </tr>\n",
       "  </tbody>\n",
       "</table>\n",
       "</div>"
      ],
      "text/plain": [
       "         count        mean         std  min  25%  50%    75%     max\n",
       "tariff                                                              \n",
       "smart   2230.0  124.760987  253.992481  0.0  0.0  0.0  135.0  2805.0\n",
       "ultra    986.0    0.000000    0.000000  0.0  0.0  0.0    0.0     0.0"
      ]
     },
     "execution_count": 34,
     "metadata": {},
     "output_type": "execute_result"
    },
    {
     "data": {
      "image/png": "[encoded data removed]",
      "text/plain": [
       "<Figure size 432x288 with 1 Axes>"
      ]
     },
     "metadata": {
      "needs_background": "light"
     },
     "output_type": "display_data"
    }
   ],
   "source": [
    "cp_smart=calls_pay_12.reset_index().query('tariff==\"smart\"')\n",
    "cp_ultra=calls_pay_12.reset_index().query('tariff==\"ultra\"')\n",
    "\n",
    "ax=cp_smart.plot(kind='hist', y='calls_pay', color='lime', histtype='step', linewidth=2, \n",
    "    bins=20, range=(1, 1001), label='Выручка за звонки в месяц smart', legend=True)\n",
    "cp_ultra.plot(kind='hist', y='calls_pay', color='gold', histtype='step', linewidth=2, \n",
    "    bins=20, range=(1, 1001), label='Выручка за звонки в месяц ultra', legend=True, ax=ax)\n",
    "plt.title(\"Распределение суммарной выручки за звонки smart / ultra\"); \n",
    "plt.ylabel(\"Доля пользователей тарифа\")\n",
    "plt.xlabel(\"Выручка, руб.\");\n",
    "calls_pay_12.groupby('tariff')['calls_pay'].describe()"
   ]
  },
  {
   "cell_type": "markdown",
   "metadata": {},
   "source": [
    "<a name=\"Analysis_6\"></a>\n",
    "#### СМС smart / ultra"
   ]
  },
  {
   "cell_type": "code",
   "execution_count": 35,
   "metadata": {},
   "outputs": [
    {
     "data": {
      "text/html": [
       "<div>\n",
       "<style scoped>\n",
       "    .dataframe tbody tr th:only-of-type {\n",
       "        vertical-align: middle;\n",
       "    }\n",
       "\n",
       "    .dataframe tbody tr th {\n",
       "        vertical-align: top;\n",
       "    }\n",
       "\n",
       "    .dataframe thead th {\n",
       "        text-align: right;\n",
       "    }\n",
       "</style>\n",
       "<table border=\"1\" class=\"dataframe\">\n",
       "  <thead>\n",
       "    <tr style=\"text-align: right;\">\n",
       "      <th></th>\n",
       "      <th>count</th>\n",
       "      <th>mean</th>\n",
       "      <th>std</th>\n",
       "      <th>min</th>\n",
       "      <th>25%</th>\n",
       "      <th>50%</th>\n",
       "      <th>75%</th>\n",
       "      <th>max</th>\n",
       "    </tr>\n",
       "    <tr>\n",
       "      <th>tariff</th>\n",
       "      <th></th>\n",
       "      <th></th>\n",
       "      <th></th>\n",
       "      <th></th>\n",
       "      <th></th>\n",
       "      <th></th>\n",
       "      <th></th>\n",
       "      <th></th>\n",
       "    </tr>\n",
       "  </thead>\n",
       "  <tbody>\n",
       "    <tr>\n",
       "      <td>smart</td>\n",
       "      <td>1922.0</td>\n",
       "      <td>38.716441</td>\n",
       "      <td>26.787949</td>\n",
       "      <td>1.0</td>\n",
       "      <td>17.0</td>\n",
       "      <td>34.0</td>\n",
       "      <td>55.0</td>\n",
       "      <td>143.0</td>\n",
       "    </tr>\n",
       "    <tr>\n",
       "      <td>ultra</td>\n",
       "      <td>795.0</td>\n",
       "      <td>61.161006</td>\n",
       "      <td>45.931026</td>\n",
       "      <td>1.0</td>\n",
       "      <td>24.0</td>\n",
       "      <td>51.0</td>\n",
       "      <td>87.5</td>\n",
       "      <td>224.0</td>\n",
       "    </tr>\n",
       "  </tbody>\n",
       "</table>\n",
       "</div>"
      ],
      "text/plain": [
       "         count       mean        std  min   25%   50%   75%    max\n",
       "tariff                                                            \n",
       "smart   1922.0  38.716441  26.787949  1.0  17.0  34.0  55.0  143.0\n",
       "ultra    795.0  61.161006  45.931026  1.0  24.0  51.0  87.5  224.0"
      ]
     },
     "execution_count": 35,
     "metadata": {},
     "output_type": "execute_result"
    },
    {
     "data": {
      "image/png": "[encoded data removed]",
      "text/plain": [
       "<Figure size 432x288 with 1 Axes>"
      ]
     },
     "metadata": {
      "needs_background": "light"
     },
     "output_type": "display_data"
    }
   ],
   "source": [
    "m_smart=messages_count_12.query('tariff==\"smart\"')\n",
    "m_ultra=messages_count_12.query('tariff==\"ultra\"')\n",
    "ax=m_smart.plot(kind='hist', y='messages_count', color='lime', histtype='step', linewidth=2, \n",
    "        bins=13, range=(0, 260), density=True, label='СМС в месяц smart', legend=True)\n",
    "m_ultra.plot(kind='hist', y='messages_count', color='gold', histtype='step', linewidth=2, \n",
    "        bins=13, range=(0, 260), density=True, label='СМС в месяц ultra', legend=True, ax=ax)\n",
    "plt.title(\"Распределение количества СМС в месяц smart / ultra\"); \n",
    "plt.ylabel(\"Доля пользователей тарифа\")\n",
    "plt.xlabel(\"Количество СМС в месяц, шт.\");\n",
    "messages_count_12.groupby('tariff')['messages_count'].describe()"
   ]
  },
  {
   "cell_type": "code",
   "execution_count": 36,
   "metadata": {
    "scrolled": true
   },
   "outputs": [
    {
     "name": "stdout",
     "output_type": "stream",
     "text": [
      "smart СМС\n",
      "Среднее количество сообщений для тарифа smart : 39 шт.\n",
      "Дисперсия для тарифа smart : 718 квадратных сообщений\n",
      "Стандартное отклонение для тарифа smart : 27 сообщений\n",
      "ultra СМС\n",
      "Среднее количество сообщений для тарифа ultra : 61 шт.\n",
      "Дисперсия для тарифа ultra : 2110 квадратных сообщений\n",
      "Стандартное отклонение для тарифа ultra : 46 сообщений\n"
     ]
    }
   ],
   "source": [
    "for _tarif in tariffs.index:\n",
    "    print(_tarif, 'СМС')\n",
    "    \n",
    "    print('Среднее количество сообщений для тарифа', _tarif, ': {:.0f} шт.'.format(\n",
    "        messages_count_12[messages_count_12['tariff']==_tarif]['messages_count'].mean())) \n",
    "    \n",
    "    print('Дисперсия для тарифа', _tarif, ': {:.0f} квадратных сообщений'.format(\n",
    "        np.var(messages_count_12[messages_count_12['tariff']==_tarif]['messages_count'], ddof=1)))\n",
    "    \n",
    "    print('Стандартное отклонение для тарифа', _tarif, ': {:.0f} сообщений'.format(\n",
    "        np.std(messages_count_12[messages_count_12['tariff']==_tarif]['messages_count'], ddof=1)))"
   ]
  },
  {
   "cell_type": "markdown",
   "metadata": {},
   "source": [
    "<a name=\"Analysis_7\"></a>\n",
    "#### Выручка за СМС smart / ultra"
   ]
  },
  {
   "cell_type": "code",
   "execution_count": 37,
   "metadata": {},
   "outputs": [
    {
     "data": {
      "text/html": [
       "<div>\n",
       "<style scoped>\n",
       "    .dataframe tbody tr th:only-of-type {\n",
       "        vertical-align: middle;\n",
       "    }\n",
       "\n",
       "    .dataframe tbody tr th {\n",
       "        vertical-align: top;\n",
       "    }\n",
       "\n",
       "    .dataframe thead th {\n",
       "        text-align: right;\n",
       "    }\n",
       "</style>\n",
       "<table border=\"1\" class=\"dataframe\">\n",
       "  <thead>\n",
       "    <tr style=\"text-align: right;\">\n",
       "      <th></th>\n",
       "      <th>count</th>\n",
       "      <th>mean</th>\n",
       "      <th>std</th>\n",
       "      <th>min</th>\n",
       "      <th>25%</th>\n",
       "      <th>50%</th>\n",
       "      <th>75%</th>\n",
       "      <th>max</th>\n",
       "    </tr>\n",
       "    <tr>\n",
       "      <th>tariff</th>\n",
       "      <th></th>\n",
       "      <th></th>\n",
       "      <th></th>\n",
       "      <th></th>\n",
       "      <th></th>\n",
       "      <th></th>\n",
       "      <th></th>\n",
       "      <th></th>\n",
       "    </tr>\n",
       "  </thead>\n",
       "  <tbody>\n",
       "    <tr>\n",
       "      <td>smart</td>\n",
       "      <td>2230.0</td>\n",
       "      <td>17.391928</td>\n",
       "      <td>40.320004</td>\n",
       "      <td>0.0</td>\n",
       "      <td>0.0</td>\n",
       "      <td>0.0</td>\n",
       "      <td>3.0</td>\n",
       "      <td>279.0</td>\n",
       "    </tr>\n",
       "    <tr>\n",
       "      <td>ultra</td>\n",
       "      <td>986.0</td>\n",
       "      <td>0.000000</td>\n",
       "      <td>0.000000</td>\n",
       "      <td>0.0</td>\n",
       "      <td>0.0</td>\n",
       "      <td>0.0</td>\n",
       "      <td>0.0</td>\n",
       "      <td>0.0</td>\n",
       "    </tr>\n",
       "  </tbody>\n",
       "</table>\n",
       "</div>"
      ],
      "text/plain": [
       "         count       mean        std  min  25%  50%  75%    max\n",
       "tariff                                                         \n",
       "smart   2230.0  17.391928  40.320004  0.0  0.0  0.0  3.0  279.0\n",
       "ultra    986.0   0.000000   0.000000  0.0  0.0  0.0  0.0    0.0"
      ]
     },
     "execution_count": 37,
     "metadata": {},
     "output_type": "execute_result"
    },
    {
     "data": {
      "image/png": "[encoded data removed]",
      "text/plain": [
       "<Figure size 432x288 with 1 Axes>"
      ]
     },
     "metadata": {
      "needs_background": "light"
     },
     "output_type": "display_data"
    }
   ],
   "source": [
    "mp_smart=messages_pay_12.reset_index().query('tariff==\"smart\"')\n",
    "mp_ultra=messages_pay_12.reset_index().query('tariff==\"ultra\"')\n",
    "\n",
    "ax=mp_smart.plot(kind='hist', y='messages_pay', color='lime', histtype='step', linewidth=2, \n",
    "    bins=15, range=(1, 301), label='Выручка за СМС в месяц smart', legend=True)\n",
    "mp_ultra.plot(kind='hist', y='messages_pay', color='gold', histtype='step', linewidth=2, \n",
    "    bins=15, range=(1, 301), label='Выручка за СМС в месяц ultra', legend=True, ax=ax)\n",
    "plt.title(\"Распределение суммарной выручки за СМС smart / ultra\"); \n",
    "plt.ylabel(\"Доля пользователей тарифа\")\n",
    "plt.xlabel(\"Выручка, руб.\");\n",
    "messages_pay_12.groupby('tariff')['messages_pay'].describe()"
   ]
  },
  {
   "cell_type": "markdown",
   "metadata": {},
   "source": [
    "<a name=\"Analysis_8\"></a>\n",
    "#### Трафик smart / ultra"
   ]
  },
  {
   "cell_type": "code",
   "execution_count": 38,
   "metadata": {},
   "outputs": [
    {
     "data": {
      "text/html": [
       "<div>\n",
       "<style scoped>\n",
       "    .dataframe tbody tr th:only-of-type {\n",
       "        vertical-align: middle;\n",
       "    }\n",
       "\n",
       "    .dataframe tbody tr th {\n",
       "        vertical-align: top;\n",
       "    }\n",
       "\n",
       "    .dataframe thead th {\n",
       "        text-align: right;\n",
       "    }\n",
       "</style>\n",
       "<table border=\"1\" class=\"dataframe\">\n",
       "  <thead>\n",
       "    <tr style=\"text-align: right;\">\n",
       "      <th></th>\n",
       "      <th>count</th>\n",
       "      <th>mean</th>\n",
       "      <th>std</th>\n",
       "      <th>min</th>\n",
       "      <th>25%</th>\n",
       "      <th>50%</th>\n",
       "      <th>75%</th>\n",
       "      <th>max</th>\n",
       "    </tr>\n",
       "    <tr>\n",
       "      <th>tariff</th>\n",
       "      <th></th>\n",
       "      <th></th>\n",
       "      <th></th>\n",
       "      <th></th>\n",
       "      <th></th>\n",
       "      <th></th>\n",
       "      <th></th>\n",
       "      <th></th>\n",
       "    </tr>\n",
       "  </thead>\n",
       "  <tbody>\n",
       "    <tr>\n",
       "      <td>smart</td>\n",
       "      <td>2227.0</td>\n",
       "      <td>16243.763359</td>\n",
       "      <td>5860.041941</td>\n",
       "      <td>202.0</td>\n",
       "      <td>12677.00</td>\n",
       "      <td>16533.0</td>\n",
       "      <td>20068.00</td>\n",
       "      <td>38610.0</td>\n",
       "    </tr>\n",
       "    <tr>\n",
       "      <td>ultra</td>\n",
       "      <td>974.0</td>\n",
       "      <td>19706.979466</td>\n",
       "      <td>9937.127298</td>\n",
       "      <td>366.0</td>\n",
       "      <td>12073.75</td>\n",
       "      <td>19427.5</td>\n",
       "      <td>26936.25</td>\n",
       "      <td>49789.0</td>\n",
       "    </tr>\n",
       "  </tbody>\n",
       "</table>\n",
       "</div>"
      ],
      "text/plain": [
       "         count          mean          std    min       25%      50%       75%  \\\n",
       "tariff                                                                          \n",
       "smart   2227.0  16243.763359  5860.041941  202.0  12677.00  16533.0  20068.00   \n",
       "ultra    974.0  19706.979466  9937.127298  366.0  12073.75  19427.5  26936.25   \n",
       "\n",
       "            max  \n",
       "tariff           \n",
       "smart   38610.0  \n",
       "ultra   49789.0  "
      ]
     },
     "execution_count": 38,
     "metadata": {},
     "output_type": "execute_result"
    },
    {
     "data": {
      "image/png": "[encoded data removed]",
      "text/plain": [
       "<Figure size 432x288 with 1 Axes>"
      ]
     },
     "metadata": {
      "needs_background": "light"
     },
     "output_type": "display_data"
    }
   ],
   "source": [
    "i_smart=internet_mb_sum_12.query('tariff==\"smart\"')\n",
    "i_ultra=internet_mb_sum_12.query('tariff==\"ultra\"')\n",
    "ax=i_smart.plot(kind='hist', y='internet_mb_sum', color='lime', histtype='step', linewidth=2, \n",
    "        bins=16, range=(0, 48000), density=True, label='Мб в месяц smart', legend=True)\n",
    "i_ultra.plot(kind='hist', y='internet_mb_sum', color='gold', histtype='step', linewidth=2, \n",
    "        bins=16, range=(0, 48000), density=True, label='Мб в месяц ultra', legend=True, ax=ax);\n",
    "plt.title(\"Распределение интернет-трафика в месяц smart / ultra\"); \n",
    "plt.ylabel(\"Доля пользователей тарифа\")\n",
    "plt.xlabel(\"Трафик в месяц, Мб\");\n",
    "internet_mb_sum_12.groupby('tariff')['internet_mb_sum'].describe()"
   ]
  },
  {
   "cell_type": "code",
   "execution_count": 39,
   "metadata": {},
   "outputs": [
    {
     "name": "stdout",
     "output_type": "stream",
     "text": [
      "smart трафик\n",
      "Средний трафик для тарифа smart : 16244 Мб.\n",
      "Дисперсия для тарифа smart : 34340092 квадратных Мб\n",
      "Стандартное отклонение для тарифа smart : 5860 Мб\n",
      "ultra трафик\n",
      "Средний трафик для тарифа ultra : 19707 Мб.\n",
      "Дисперсия для тарифа ultra : 98746499 квадратных Мб\n",
      "Стандартное отклонение для тарифа ultra : 9937 Мб\n"
     ]
    }
   ],
   "source": [
    "for _tarif in tariffs.index:\n",
    "    print(_tarif, 'трафик')\n",
    "    \n",
    "    print('Средний трафик для тарифа', _tarif, ': {:.0f} Мб.'.format(\n",
    "        internet_mb_sum_12[internet_mb_sum_12['tariff']==_tarif]['internet_mb_sum'].mean())) \n",
    "    \n",
    "    print('Дисперсия для тарифа', _tarif, ': {:.0f} квадратных Мб'.format(np.var(\n",
    "        internet_mb_sum_12[internet_mb_sum_12['tariff']==_tarif]['internet_mb_sum'], ddof=1)))\n",
    "    \n",
    "    print('Стандартное отклонение для тарифа', _tarif, ': {:.0f} Мб'.format(np.std(\n",
    "        internet_mb_sum_12[internet_mb_sum_12['tariff']==_tarif]['internet_mb_sum'], ddof=1)))"
   ]
  },
  {
   "cell_type": "markdown",
   "metadata": {},
   "source": [
    "<a name=\"Analysis_9\"></a>\n",
    "#### Выручка за трафик smart / ultra"
   ]
  },
  {
   "cell_type": "code",
   "execution_count": 40,
   "metadata": {
    "scrolled": true
   },
   "outputs": [
    {
     "data": {
      "text/html": [
       "<div>\n",
       "<style scoped>\n",
       "    .dataframe tbody tr th:only-of-type {\n",
       "        vertical-align: middle;\n",
       "    }\n",
       "\n",
       "    .dataframe tbody tr th {\n",
       "        vertical-align: top;\n",
       "    }\n",
       "\n",
       "    .dataframe thead th {\n",
       "        text-align: right;\n",
       "    }\n",
       "</style>\n",
       "<table border=\"1\" class=\"dataframe\">\n",
       "  <thead>\n",
       "    <tr style=\"text-align: right;\">\n",
       "      <th></th>\n",
       "      <th>count</th>\n",
       "      <th>mean</th>\n",
       "      <th>std</th>\n",
       "      <th>min</th>\n",
       "      <th>25%</th>\n",
       "      <th>50%</th>\n",
       "      <th>75%</th>\n",
       "      <th>max</th>\n",
       "    </tr>\n",
       "    <tr>\n",
       "      <th>tariff</th>\n",
       "      <th></th>\n",
       "      <th></th>\n",
       "      <th></th>\n",
       "      <th></th>\n",
       "      <th></th>\n",
       "      <th></th>\n",
       "      <th></th>\n",
       "      <th></th>\n",
       "    </tr>\n",
       "  </thead>\n",
       "  <tbody>\n",
       "    <tr>\n",
       "      <td>smart</td>\n",
       "      <td>2230.0</td>\n",
       "      <td>602.152466</td>\n",
       "      <td>739.378101</td>\n",
       "      <td>0.0</td>\n",
       "      <td>0.0</td>\n",
       "      <td>400.0</td>\n",
       "      <td>1000.0</td>\n",
       "      <td>4600.0</td>\n",
       "    </tr>\n",
       "    <tr>\n",
       "      <td>ultra</td>\n",
       "      <td>986.0</td>\n",
       "      <td>120.943205</td>\n",
       "      <td>378.629673</td>\n",
       "      <td>0.0</td>\n",
       "      <td>0.0</td>\n",
       "      <td>0.0</td>\n",
       "      <td>0.0</td>\n",
       "      <td>2850.0</td>\n",
       "    </tr>\n",
       "  </tbody>\n",
       "</table>\n",
       "</div>"
      ],
      "text/plain": [
       "         count        mean         std  min  25%    50%     75%     max\n",
       "tariff                                                                 \n",
       "smart   2230.0  602.152466  739.378101  0.0  0.0  400.0  1000.0  4600.0\n",
       "ultra    986.0  120.943205  378.629673  0.0  0.0    0.0     0.0  2850.0"
      ]
     },
     "execution_count": 40,
     "metadata": {},
     "output_type": "execute_result"
    },
    {
     "data": {
      "image/png": "[encoded data removed]",
      "text/plain": [
       "<Figure size 432x288 with 1 Axes>"
      ]
     },
     "metadata": {
      "needs_background": "light"
     },
     "output_type": "display_data"
    }
   ],
   "source": [
    "ip_smart=internet_pay_12.reset_index().query('tariff==\"smart\"')\n",
    "ip_ultra=internet_pay_12.reset_index().query('tariff==\"ultra\"')\n",
    "\n",
    "ax=ip_smart.plot(kind='hist', y='internet_pay', color='lime', histtype='step', linewidth=2, \n",
    "    bins=20, range=(1, 4001), label='Выручка за трафик в месяц smart', legend=True)\n",
    "ip_ultra.plot(kind='hist', y='internet_pay', color='gold', histtype='step', linewidth=2, \n",
    "    bins=20, range=(1, 4001), label='Выручка за трафик в месяц ultra', legend=True, ax=ax)\n",
    "plt.title(\"Распределение суммарной выручки за интернет-трафик smart / ultra\"); \n",
    "plt.ylabel(\"Доля пользователей тарифа\")\n",
    "plt.xlabel(\"Выручка, руб.\");\n",
    "internet_pay_12.groupby('tariff')['internet_pay'].describe()"
   ]
  },
  {
   "cell_type": "markdown",
   "metadata": {},
   "source": [
    "<a name=\"Table\"></a>\n",
    "#### Сравнительная таблица тарифов"
   ]
  },
  {
   "cell_type": "markdown",
   "metadata": {},
   "source": [
    "Исходя из выборки имеем следующие показатели для тарифов:  \n",
    "\n",
    "Характеристика | Тариф | smart | ultra\n",
    "--- |--- | --- | ---\n",
    "Минуты |Среднее количество минут | 419 | 548\n",
    " |Стандартное отклонение | 189 | 306\n",
    " |Включено в тариф | 500 мин. | 3000 мин.\n",
    " |Укладываются в лимит | более половины | все\n",
    " |Средняя плата за превышение | 125 руб. | 0 руб.\n",
    "--- |--- | --- | ---\n",
    "Сообщения |Среднее количество сообщений | 39 | 61 \n",
    " |Стандартное отклонение | 27 | 46\n",
    " |Включено в тариф | 50 | 1000\n",
    " |Укладываются в лимит | большинство | все\n",
    " |Средняя плата за превышение | 17 руб. | 0 руб.\n",
    "--- |--- | --- | ---\n",
    "Трафик |Средний трафик Мб | 16244 | 19707 \n",
    " |Стандартное отклонение | 5860 | 9937\n",
    " |Включено в тариф | 15360 Мб | 30720 Мб\n",
    " |Укладываются в лимит | меньше половины | большинство\n",
    " |Средняя плата за превышение | 602 руб. | 121 руб.\n",
    "--- |--- | --- | ---\n",
    "Абонентская плата | Ежемесячная плата | 550 руб. | 1950 руб.  \n",
    "--- --- --- |--- --- --- | --- --- --- | --- --- ---\n",
    "**Итого:** | **Средняя выручка всего** | **1294 руб.** | **2071 руб.** \n",
    "\n",
    "Распределения нормальные. Экстремальные значения в пределах разумного.\n",
    "БОльшая часть пользователей используют включенные в тариф услуги или незначительно привышают лимит, хотя есть и любители \"поболтать\" (1673 минут в месяц - это почти по часу в день) и СМС-сообщения (224 сообщения в месяц - возможно в бизнес-целях). Заметнее прочего превышение интернет-трафика на тарифе smart (среднее и медианное значения трафика выше включенного пакета)."
   ]
  },
  {
   "cell_type": "markdown",
   "metadata": {},
   "source": [
    "\n",
    "<div class=\"alert alert-block alert-success\">\n",
    "<b>Success:</b> Отличная аналитика! Вот теперь видно, что все преобразования даатфреймов были не зря :)"
   ]
  },
  {
   "cell_type": "markdown",
   "metadata": {},
   "source": [
    "<a name=\"step4\"></a>\n",
    "### Шаг 4. Проверка гипотез\n",
    "\n",
    "    средняя выручка пользователей тарифов «Ультра» и «Смарт» различается;\n",
    "    средняя выручка пользователей из Москвы отличается от выручки пользователей из других регионов;\n",
    "\n",
    "Пороговое значение alpha задайте самостоятельно.\n",
    "Поясните:\n",
    "\n",
    "    как вы формулировали нулевую и альтернативную гипотезы;\n",
    "    какой критерий использовали для проверки гипотез и почему."
   ]
  },
  {
   "cell_type": "markdown",
   "metadata": {},
   "source": [
    "<a name=\"step4_1\"></a>\n",
    "#### Проверим различается ли средняя выручка для тарифов «Ультра» и «Смарт»\n",
    "\n",
    "Сформулируем нулевую гипотезу следующим образом: средняя выручка тарифа ultra и тарифа smart равны.\n",
    "Тогда альтернативная гипотеза будет звучать как: средняя выручка тарифа ultra отличается от средней выручки тарифа smart."
   ]
  },
  {
   "cell_type": "code",
   "execution_count": 41,
   "metadata": {
    "scrolled": true
   },
   "outputs": [
    {
     "name": "stdout",
     "output_type": "stream",
     "text": [
      "p-значение: 1.2414049931248708e-246\n",
      "Отвергаем нулевую гипотезу\n"
     ]
    }
   ],
   "source": [
    "alpha = .05\n",
    "\n",
    "results = st.ttest_ind(p_smart['total_pay'].dropna(), p_ultra['total_pay'].dropna(), \n",
    "                       equal_var = False) #т.к. дисперсии для тарифов различны\n",
    "\n",
    "print('p-значение:', results.pvalue)\n",
    "\n",
    "if (results.pvalue < alpha):\n",
    "    print(\"Отвергаем нулевую гипотезу\")\n",
    "else:\n",
    "    print(\"Не получилось отвергнуть нулевую гипотезу\")"
   ]
  },
  {
   "cell_type": "markdown",
   "metadata": {},
   "source": [
    "Средняя выручка тарифа ultra и тарифа smart отличаются с ОЧЕНЬ БОЛЬШОЙ вероятностью. Случайность такого вывода почти невозможна."
   ]
  },
  {
   "cell_type": "markdown",
   "metadata": {},
   "source": [
    "<a name=\"step4_2\"></a>\n",
    "#### Проверим различается ли средняя выручка для Москвы и других городов\n",
    "\n",
    "Сформулируем нулевую гипотезу следующим образом: средняя выручка пользователей из Москвы и пользователей из других регионов равны.\n",
    "Тогда альтернативная гипотеза будет звучать как: средняя выручка пользователей из Москвы отличается от выручки пользователей из других регионов."
   ]
  },
  {
   "cell_type": "code",
   "execution_count": 42,
   "metadata": {},
   "outputs": [
    {
     "name": "stdout",
     "output_type": "stream",
     "text": [
      "p-значение: 0.5086199993481282\n",
      "Не получилось отвергнуть нулевую гипотезу\n"
     ]
    }
   ],
   "source": [
    "alpha = .05\n",
    "\n",
    "\n",
    "moscow_total_pay_12=region_total_pay_12.query('city==\"Москва\" and total_pay>=0')\n",
    "another_total_pay_12=region_total_pay_12.query('city==\"Не Москва\" and total_pay>=0')\n",
    "\n",
    "#лучше перестрахуемся и посчитаем разницу между стандартными отклонениями (752 и 810) значительной.\n",
    "results = st.ttest_ind(moscow_total_pay_12['total_pay'], another_total_pay_12['total_pay'], equal_var = False) \n",
    "\n",
    "\n",
    "print('p-значение:', results.pvalue)\n",
    "\n",
    "if (results.pvalue < alpha):\n",
    "    print(\"Отвергаем нулевую гипотезу\")\n",
    "else:\n",
    "    print(\"Не получилось отвергнуть нулевую гипотезу\")"
   ]
  },
  {
   "cell_type": "markdown",
   "metadata": {},
   "source": [
    "Не смотря на то что нулевая гипотеза не отвергнута на основании выборки утверждать что либо нельзя.\n",
    "Средняя выручка пользователей из Москвы и пользователей из других регионов могут оказаться близки или значительно отличаться."
   ]
  },
  {
   "cell_type": "markdown",
   "metadata": {},
   "source": [
    "\n",
    "<div class=\"alert alert-block alert-success\">\n",
    "<b>Success:</b> Гипотезы проработаны корректно"
   ]
  },
  {
   "cell_type": "markdown",
   "metadata": {},
   "source": [
    "<a name=\"End\"></a>\n",
    "### Шаг 5. Общий вывод"
   ]
  },
  {
   "cell_type": "markdown",
   "metadata": {},
   "source": [
    "Однозначно определить какой тариф лучше нельзя. Тариф ultra (хоть и приносит больше выручки) изначально ориентирован на более активных и состоятельных пользователей. У тарифа smart больше абонентов.\n",
    "\n",
    "Сравнительная таблица тарифов по ссылке:\n",
    "[Сравнительная таблица тарифов](#Table)\n",
    "\n",
    "Графики распределений доступны по ссылкам:\n",
    "* [Суммарная выручка Москва / не Москва](#Analysis_1)\n",
    "* [Количество и средняя выручка по тарифам Москав / не Москва](#Analysis_2)\n",
    "* [Суммарная выручка smart / ultra](#Analysis_3)  \n",
    "* [Звонки](#Analysis_4)  \n",
    " * [Минут smart / ultra](#Analysis_4)  \n",
    " * [Выручка за звонки smart / ultra](#Analysis_5)  \n",
    "* [СМС](#Analysis_6)       \n",
    " * [Количество СМС smart / ultra](#Analysis_6)  \n",
    " * [Выручка за СМС smart / ultra](#Analysis_7)  \n",
    "* [Интернет-трафик smart / ultra](#Analysis_8)       \n",
    " * [Трафик smart / ultra](#Analysis_8)  \n",
    " * [Выручка за трафик smart / ultra](#Analysis_9)  \n",
    "\n",
    "Гипотеза \"средняя выручка тарифа ultra отличается от средней выручки тарифа smart\" подтверждена.\n",
    "Гипотеза \"средняя выручка пользователей из Москвы отличается от выручки пользователей из других регионов\" не подтверждена - необходима другая формулировка или больше данных.\n",
    "\n",
    "В Москве бОльшая доля пользователей тарифа ultra чем в регионах.  \n",
    "Средний платеж по каждому тарифу для Москвы почти не отличается от других регионов.\n",
    "\n",
    "Наиболее перспективная точка роста - интернет-трафик. "
   ]
  },
  {
   "cell_type": "markdown",
   "metadata": {},
   "source": [
    "\n",
    "<div class=\"alert alert-block alert-warning\">\n",
    "<b>Remarks:</b> Общий вывод - резюме работы. Следует писать его так, чтоы ни один инсайд не прошел мимо :) Да и большинство заказчиков начинают (а многие и заканчивают) читать исследование именно с общего вывода."
   ]
  },
  {
   "cell_type": "markdown",
   "metadata": {},
   "source": [
    "Спасибо за замечания - все серьезные поправил, остальные буду увитыать в дальнейшем."
   ]
  }
 ],
 "metadata": {
  "kernelspec": {
   "display_name": "Python 3",
   "language": "python",
   "name": "python3"
  },
  "language_info": {
   "codemirror_mode": {
    "name": "ipython",
    "version": 3
   },
   "file_extension": ".py",
   "mimetype": "text/x-python",
   "name": "python",
   "nbconvert_exporter": "python",
   "pygments_lexer": "ipython3",
   "version": "3.7.8"
  },
  "toc": {
   "base_numbering": 1,
   "nav_menu": {},
   "number_sections": true,
   "sideBar": true,
   "skip_h1_title": false,
   "title_cell": "Table of Contents",
   "title_sidebar": "Contents",
   "toc_cell": false,
   "toc_position": {},
   "toc_section_display": true,
   "toc_window_display": false
  }
 },
 "nbformat": 4,
 "nbformat_minor": 2
}
