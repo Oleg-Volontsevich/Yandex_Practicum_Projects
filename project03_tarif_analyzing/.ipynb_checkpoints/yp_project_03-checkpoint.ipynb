{
 "cells": [
  {
   "cell_type": "markdown",
   "metadata": {},
   "source": [
    "|  |  |  |\n",
    "| ---: | :--- | :--- |\n",
    "| Курс:| Статистический анализ данных | 03 |\n",
    "| Срок обучения на момент сдачи: | 6 недель |\n",
    "\n",
    "# Определение перспективного тарифа для телеком компании\n",
    "\n",
    "Вы аналитик компании «Мегалайн» — федерального оператора сотовой связи. Клиентам предлагают два тарифных плана: «Смарт» и «Ультра». Чтобы скорректировать рекламный бюджет, коммерческий департамент хочет понять, какой тариф приносит больше денег.\n",
    "Вам предстоит сделать предварительный анализ тарифов на небольшой выборке клиентов. В вашем распоряжении данные 500 пользователей «Мегалайна»: кто они, откуда, каким тарифом пользуются, сколько звонков и сообщений каждый отправил за 2018 год. Нужно проанализировать поведение клиентов и сделать вывод — какой тариф лучше."
   ]
  },
  {
   "cell_type": "markdown",
   "metadata": {},
   "source": [
    "# План:  \n",
    "1  [Вводные данные](#1)\n",
    "*  1.1 [Описание данных](#11)\n",
    "*  1.2 [Описание тарифов](#12)\n",
    "*  1.3 [Инструкция по выполнению проекта](#13)\n",
    "\n",
    "2  [Изучение данных](#2)  \n",
    "\n",
    "3  [Подготовка данных](#3)  \n",
    "* 3.1  [Распределение по месяцам](#31)  \n",
    "  * 3.1.1  [Суммарные данные (общие) - количество звонков, выходов в интернет, смс](#311)  \n",
    "  * 3.1.2  [Данные по пользователям - количество звонков, израсходованных минут, смс, Гб траффика](#312)    \n",
    "* 3.2  [Подсчет выручки по месяцам](#32)\n",
    "* 3.3  [Подсчет абонентской платы](#33)\n",
    "\n",
    "4  [Анализ данных.](#Analysis_1)  \n",
    "* 4.1  [Суммарная выручка Москва / не Москва](#Analysis_2)  \n",
    "* 4.2  [Количество и средняя выручка по тарифам Москав / не Москва](#Analysis_3)\n",
    "* 4.3  [Сравнение smart / ultra](#Analysis_3)\n",
    "  * 4.3.1  [Суммарная выручка smart / ultra](#Analysis_3)\n",
    "  * 4.3.2  [Минут smart / ultra](#Analysis_4)\n",
    "  * 4.3.3  [Выручка за звонки smart / ultra](#Analysis_5)\n",
    "  * 4.3.4  [Количество СМС smart / ultra](#Analysis_6)\n",
    "  * 4.3.5  [Выручка за СМС smart / ultra](#Analysis_7)\n",
    "  * 4.3.6  [Интернет-трафик smart / ultra](#Analysis_8)      \n",
    "  * 4.3.7  [Трафик smart / ultra](#Analysis_8)\n",
    "  * 4.3.8  [Выручка за трафик smart / ultra](#Analysis_9)\n",
    "* [Сравнительная таблица тарифов](#Table)\n",
    "\n",
    "5  [Проверка гипотез](#step4)\n",
    "* 5.1  [средняя выручка пользователей тарифов «Ультра» и «Смарт» различается](#step4_1)\n",
    "* 5.2  [средняя выручка пользователей из Москвы отличается от выручки пользователей из других регионов](#step4_2)  \n",
    "\n",
    "6.  [Общий выод](#End)"
   ]
  },
  {
   "cell_type": "markdown",
   "metadata": {},
   "source": [
    "<a name=\"1\"></a>\n",
    "## Вводные данные"
   ]
  },
  {
   "cell_type": "markdown",
   "metadata": {},
   "source": [
    "<a name=\"11\"></a>\n",
    "### Описание данных\n",
    "\n",
    "**Таблица users (информация о пользователях):**\n",
    "\n",
    "    user_id — уникальный идентификатор пользователя\n",
    "    first_name — имя пользователя\n",
    "    last_name — фамилия пользователя\n",
    "    age — возраст пользователя (годы)\n",
    "    reg_date — дата подключения тарифа (день, месяц, год)\n",
    "    churn_date — дата прекращения пользования тарифом (если значение пропущено, то тариф ещё действовал на момент выгрузки данных)\n",
    "    city — город проживания пользователя\n",
    "    tariff — название тарифного плана\n",
    "\n",
    "**Таблица calls (информация о звонках):**\n",
    "\n",
    "    id — уникальный номер звонка\n",
    "    call_date — дата звонка\n",
    "    duration — длительность звонка в минутах\n",
    "    user_id — идентификатор пользователя, сделавшего звонок\n",
    "\n",
    "**Таблица messages (информация о сообщениях):**\n",
    "\n",
    "    id — уникальный номер сообщения\n",
    "    message_date — дата сообщения\n",
    "    user_id — идентификатор пользователя, отправившего сообщение\n",
    "\n",
    "**Таблица internet (информация об интернет-сессиях):**\n",
    "\n",
    "    id — уникальный номер сессии\n",
    "    mb_used — объём потраченного за сессию интернет-трафика (в мегабайтах)\n",
    "    session_date — дата интернет-сессии\n",
    "    user_id — идентификатор пользователя\n",
    "\n",
    "**Таблица tariffs (информация о тарифах):**\n",
    "\n",
    "    tariff_name — название тарифа\n",
    "    rub_monthly_fee — ежемесячная абонентская плата в рублях\n",
    "    minutes_included — количество минут разговора в месяц, включённых в абонентскую плату\n",
    "    messages_included — количество сообщений в месяц, включённых в абонентскую плату\n",
    "    mb_per_month_included — объём интернет-трафика, включённого в абонентскую плату (в мегабайтах)\n",
    "    rub_per_minute — стоимость минуты разговора сверх тарифного пакета (например, если в тарифе 100 минут разговора в месяц, то со 101 минуты будет взиматься плата)\n",
    "    rub_per_message — стоимость отправки сообщения сверх тарифного пакета\n",
    "    rub_per_gb — стоимость дополнительного гигабайта интернет-трафика сверх тарифного пакета (1 гигабайт = 1024 мегабайта)"
   ]
  },
  {
   "cell_type": "markdown",
   "metadata": {},
   "source": [
    "<a name=\"12\"></a>\n",
    "### Описание тарифов\n",
    "**Тариф «Смарт»**\n",
    "\n",
    "    Ежемесячная плата: 550 рублей\n",
    "    Включено 500 минут разговора, 50 сообщений и 15 Гб интернет-трафика\n",
    "    Стоимость услуг сверх тарифного пакета:\n",
    "\n",
    "    минута разговора: 3 рубля\n",
    "    сообщение: 3 рубля\n",
    "    1 Гб интернет-трафика: 200 рублей\n",
    "\n",
    "**Тариф «Ультра»**\n",
    "\n",
    "    Ежемесячная плата: 1950 рублей\n",
    "    Включено 3000 минут разговора, 1000 сообщений и 30 Гб интернет-трафика\n",
    "    Стоимость услуг сверх тарифного пакета:\n",
    "\n",
    "    минута разговора: 1 рубль\n",
    "    сообщение: 1 рубль\n",
    "    1 Гб интернет-трафика: 150 рублей\n",
    "\n",
    "«Мегалайн» всегда округляет вверх значения минут и мегабайтов. Если пользователь проговорил всего 1 секунду, в тарифе засчитывается целая минута.\n",
    "Инструкция по выполнению проекта"
   ]
  },
  {
   "cell_type": "markdown",
   "metadata": {},
   "source": [
    "<a name=\"13\"></a>\n",
    "### Инструкция по выполнению проекта\n",
    "\n",
    "*В этом проекте задачи сформулированы в виде подробной инструкции.*\n",
    "\n",
    "Шаг 1. Откройте файл с данными и изучите общую информацию\n",
    "\n",
    "Шаг 2. Подготовьте данные\n",
    "\n",
    "*    Приведите данные к нужным типам\n",
    "*    Найдите и исправьте ошибки в данных, если они есть\n",
    "\n",
    "Поясните, какие ошибки вы нашли и как их исправили. \n",
    "\n",
    "Посчитайте для каждого пользователя:\n",
    "\n",
    "*    количество сделанных звонков и израсходованных минут разговора по месяцам\n",
    "*    количество отправленных сообщений по месяцам\n",
    "*    объем израсходованного интернет-трафика по месяцам\n",
    "*    помесячную выручку с каждого пользователя\n",
    "\n",
    "Шаг 3. Проанализируйте данные\n",
    "\n",
    "Опишите поведение клиентов оператора, исходя из выборки. Сколько минут разговора, сколько сообщений и какой объём интернет-трафика требуется пользователям каждого тарифа в месяц? Посчитайте среднее количество, дисперсию и стандартное отклонение. Постройте гистограммы. Опишите распределения.\n",
    "\n",
    "Шаг 4. Проверьте гипотезы\n",
    "\n",
    "*    средняя выручка пользователей тарифов «Ультра» и «Смарт» различаются;\n",
    "*    средняя выручка пользователи из Москвы отличается от выручки пользователей из других регионов.\n",
    "\n",
    "Пороговое значение alpha задайте самостоятельно.\n",
    "\n",
    "Поясните:\n",
    "\n",
    "*    как вы формулировали нулевую и альтернативную гипотезы\n",
    "*    какой критерий использовали для проверки гипотез и почему\n",
    "\n",
    "Шаг 5. Напишите общий вывод"
   ]
  },
  {
   "cell_type": "markdown",
   "metadata": {},
   "source": [
    "<a name=\"2\"></a>\n",
    "## Изучение данных"
   ]
  },
  {
   "cell_type": "code",
   "execution_count": 1,
   "metadata": {},
   "outputs": [],
   "source": [
    "import pandas as pd\n",
    "import numpy as np\n",
    "import matplotlib.pyplot as plt\n",
    "from scipy import stats as st\n",
    "from IPython.display import display\n",
    "# pd.set_option('mode.chained_assignment', None) #отключим предупреждения после проверки что всё работает как надо"
   ]
  },
  {
   "cell_type": "code",
   "execution_count": 2,
   "metadata": {},
   "outputs": [],
   "source": [
    "calls = pd.read_csv('calls.csv')  # /datasets/\n",
    "internet = pd.read_csv('internet.csv')\n",
    "messages = pd.read_csv('messages.csv')\n",
    "tariffs = pd.read_csv('tariffs.csv')\n",
    "users = pd.read_csv('users.csv')"
   ]
  },
  {
   "cell_type": "code",
   "execution_count": 3,
   "metadata": {
    "scrolled": false
   },
   "outputs": [
    {
     "data": {
      "text/html": [
       "<div>\n",
       "<style scoped>\n",
       "    .dataframe tbody tr th:only-of-type {\n",
       "        vertical-align: middle;\n",
       "    }\n",
       "\n",
       "    .dataframe tbody tr th {\n",
       "        vertical-align: top;\n",
       "    }\n",
       "\n",
       "    .dataframe thead th {\n",
       "        text-align: right;\n",
       "    }\n",
       "</style>\n",
       "<table border=\"1\" class=\"dataframe\">\n",
       "  <thead>\n",
       "    <tr style=\"text-align: right;\">\n",
       "      <th></th>\n",
       "      <th>id</th>\n",
       "      <th>call_date</th>\n",
       "      <th>duration</th>\n",
       "      <th>user_id</th>\n",
       "    </tr>\n",
       "  </thead>\n",
       "  <tbody>\n",
       "    <tr>\n",
       "      <th>0</th>\n",
       "      <td>1000_0</td>\n",
       "      <td>2018-07-25</td>\n",
       "      <td>0.00</td>\n",
       "      <td>1000</td>\n",
       "    </tr>\n",
       "    <tr>\n",
       "      <th>1</th>\n",
       "      <td>1000_1</td>\n",
       "      <td>2018-08-17</td>\n",
       "      <td>0.00</td>\n",
       "      <td>1000</td>\n",
       "    </tr>\n",
       "    <tr>\n",
       "      <th>2</th>\n",
       "      <td>1000_2</td>\n",
       "      <td>2018-06-11</td>\n",
       "      <td>2.85</td>\n",
       "      <td>1000</td>\n",
       "    </tr>\n",
       "  </tbody>\n",
       "</table>\n",
       "</div>"
      ],
      "text/plain": [
       "       id   call_date  duration  user_id\n",
       "0  1000_0  2018-07-25      0.00     1000\n",
       "1  1000_1  2018-08-17      0.00     1000\n",
       "2  1000_2  2018-06-11      2.85     1000"
      ]
     },
     "metadata": {},
     "output_type": "display_data"
    },
    {
     "name": "stdout",
     "output_type": "stream",
     "text": [
      "<class 'pandas.core.frame.DataFrame'>\n",
      "RangeIndex: 202607 entries, 0 to 202606\n",
      "Data columns (total 4 columns):\n",
      " #   Column     Non-Null Count   Dtype  \n",
      "---  ------     --------------   -----  \n",
      " 0   id         202607 non-null  object \n",
      " 1   call_date  202607 non-null  object \n",
      " 2   duration   202607 non-null  float64\n",
      " 3   user_id    202607 non-null  int64  \n",
      "dtypes: float64(1), int64(1), object(2)\n",
      "memory usage: 6.2+ MB\n"
     ]
    },
    {
     "data": {
      "text/html": [
       "<div>\n",
       "<style scoped>\n",
       "    .dataframe tbody tr th:only-of-type {\n",
       "        vertical-align: middle;\n",
       "    }\n",
       "\n",
       "    .dataframe tbody tr th {\n",
       "        vertical-align: top;\n",
       "    }\n",
       "\n",
       "    .dataframe thead th {\n",
       "        text-align: right;\n",
       "    }\n",
       "</style>\n",
       "<table border=\"1\" class=\"dataframe\">\n",
       "  <thead>\n",
       "    <tr style=\"text-align: right;\">\n",
       "      <th></th>\n",
       "      <th>duration</th>\n",
       "      <th>user_id</th>\n",
       "    </tr>\n",
       "  </thead>\n",
       "  <tbody>\n",
       "    <tr>\n",
       "      <th>count</th>\n",
       "      <td>202607.000000</td>\n",
       "      <td>202607.000000</td>\n",
       "    </tr>\n",
       "    <tr>\n",
       "      <th>mean</th>\n",
       "      <td>6.755887</td>\n",
       "      <td>1253.940619</td>\n",
       "    </tr>\n",
       "    <tr>\n",
       "      <th>std</th>\n",
       "      <td>5.843365</td>\n",
       "      <td>144.722751</td>\n",
       "    </tr>\n",
       "    <tr>\n",
       "      <th>min</th>\n",
       "      <td>0.000000</td>\n",
       "      <td>1000.000000</td>\n",
       "    </tr>\n",
       "    <tr>\n",
       "      <th>25%</th>\n",
       "      <td>1.300000</td>\n",
       "      <td>1126.000000</td>\n",
       "    </tr>\n",
       "    <tr>\n",
       "      <th>50%</th>\n",
       "      <td>6.000000</td>\n",
       "      <td>1260.000000</td>\n",
       "    </tr>\n",
       "    <tr>\n",
       "      <th>75%</th>\n",
       "      <td>10.700000</td>\n",
       "      <td>1379.000000</td>\n",
       "    </tr>\n",
       "    <tr>\n",
       "      <th>max</th>\n",
       "      <td>38.000000</td>\n",
       "      <td>1499.000000</td>\n",
       "    </tr>\n",
       "  </tbody>\n",
       "</table>\n",
       "</div>"
      ],
      "text/plain": [
       "            duration        user_id\n",
       "count  202607.000000  202607.000000\n",
       "mean        6.755887    1253.940619\n",
       "std         5.843365     144.722751\n",
       "min         0.000000    1000.000000\n",
       "25%         1.300000    1126.000000\n",
       "50%         6.000000    1260.000000\n",
       "75%        10.700000    1379.000000\n",
       "max        38.000000    1499.000000"
      ]
     },
     "metadata": {},
     "output_type": "display_data"
    },
    {
     "data": {
      "text/html": [
       "<div>\n",
       "<style scoped>\n",
       "    .dataframe tbody tr th:only-of-type {\n",
       "        vertical-align: middle;\n",
       "    }\n",
       "\n",
       "    .dataframe tbody tr th {\n",
       "        vertical-align: top;\n",
       "    }\n",
       "\n",
       "    .dataframe thead th {\n",
       "        text-align: right;\n",
       "    }\n",
       "</style>\n",
       "<table border=\"1\" class=\"dataframe\">\n",
       "  <thead>\n",
       "    <tr style=\"text-align: right;\">\n",
       "      <th></th>\n",
       "      <th>Unnamed: 0</th>\n",
       "      <th>id</th>\n",
       "      <th>mb_used</th>\n",
       "      <th>session_date</th>\n",
       "      <th>user_id</th>\n",
       "    </tr>\n",
       "  </thead>\n",
       "  <tbody>\n",
       "    <tr>\n",
       "      <th>0</th>\n",
       "      <td>0</td>\n",
       "      <td>1000_0</td>\n",
       "      <td>112.95</td>\n",
       "      <td>2018-11-25</td>\n",
       "      <td>1000</td>\n",
       "    </tr>\n",
       "    <tr>\n",
       "      <th>1</th>\n",
       "      <td>1</td>\n",
       "      <td>1000_1</td>\n",
       "      <td>1052.81</td>\n",
       "      <td>2018-09-07</td>\n",
       "      <td>1000</td>\n",
       "    </tr>\n",
       "    <tr>\n",
       "      <th>2</th>\n",
       "      <td>2</td>\n",
       "      <td>1000_2</td>\n",
       "      <td>1197.26</td>\n",
       "      <td>2018-06-25</td>\n",
       "      <td>1000</td>\n",
       "    </tr>\n",
       "  </tbody>\n",
       "</table>\n",
       "</div>"
      ],
      "text/plain": [
       "   Unnamed: 0      id  mb_used session_date  user_id\n",
       "0           0  1000_0   112.95   2018-11-25     1000\n",
       "1           1  1000_1  1052.81   2018-09-07     1000\n",
       "2           2  1000_2  1197.26   2018-06-25     1000"
      ]
     },
     "metadata": {},
     "output_type": "display_data"
    },
    {
     "name": "stdout",
     "output_type": "stream",
     "text": [
      "<class 'pandas.core.frame.DataFrame'>\n",
      "RangeIndex: 149396 entries, 0 to 149395\n",
      "Data columns (total 5 columns):\n",
      " #   Column        Non-Null Count   Dtype  \n",
      "---  ------        --------------   -----  \n",
      " 0   Unnamed: 0    149396 non-null  int64  \n",
      " 1   id            149396 non-null  object \n",
      " 2   mb_used       149396 non-null  float64\n",
      " 3   session_date  149396 non-null  object \n",
      " 4   user_id       149396 non-null  int64  \n",
      "dtypes: float64(1), int64(2), object(2)\n",
      "memory usage: 5.7+ MB\n"
     ]
    },
    {
     "data": {
      "text/html": [
       "<div>\n",
       "<style scoped>\n",
       "    .dataframe tbody tr th:only-of-type {\n",
       "        vertical-align: middle;\n",
       "    }\n",
       "\n",
       "    .dataframe tbody tr th {\n",
       "        vertical-align: top;\n",
       "    }\n",
       "\n",
       "    .dataframe thead th {\n",
       "        text-align: right;\n",
       "    }\n",
       "</style>\n",
       "<table border=\"1\" class=\"dataframe\">\n",
       "  <thead>\n",
       "    <tr style=\"text-align: right;\">\n",
       "      <th></th>\n",
       "      <th>Unnamed: 0</th>\n",
       "      <th>mb_used</th>\n",
       "      <th>user_id</th>\n",
       "    </tr>\n",
       "  </thead>\n",
       "  <tbody>\n",
       "    <tr>\n",
       "      <th>count</th>\n",
       "      <td>149396.000000</td>\n",
       "      <td>149396.000000</td>\n",
       "      <td>149396.000000</td>\n",
       "    </tr>\n",
       "    <tr>\n",
       "      <th>mean</th>\n",
       "      <td>74697.500000</td>\n",
       "      <td>370.192426</td>\n",
       "      <td>1252.099842</td>\n",
       "    </tr>\n",
       "    <tr>\n",
       "      <th>std</th>\n",
       "      <td>43127.054745</td>\n",
       "      <td>278.300951</td>\n",
       "      <td>144.050823</td>\n",
       "    </tr>\n",
       "    <tr>\n",
       "      <th>min</th>\n",
       "      <td>0.000000</td>\n",
       "      <td>0.000000</td>\n",
       "      <td>1000.000000</td>\n",
       "    </tr>\n",
       "    <tr>\n",
       "      <th>25%</th>\n",
       "      <td>37348.750000</td>\n",
       "      <td>138.187500</td>\n",
       "      <td>1130.000000</td>\n",
       "    </tr>\n",
       "    <tr>\n",
       "      <th>50%</th>\n",
       "      <td>74697.500000</td>\n",
       "      <td>348.015000</td>\n",
       "      <td>1251.000000</td>\n",
       "    </tr>\n",
       "    <tr>\n",
       "      <th>75%</th>\n",
       "      <td>112046.250000</td>\n",
       "      <td>559.552500</td>\n",
       "      <td>1380.000000</td>\n",
       "    </tr>\n",
       "    <tr>\n",
       "      <th>max</th>\n",
       "      <td>149395.000000</td>\n",
       "      <td>1724.830000</td>\n",
       "      <td>1499.000000</td>\n",
       "    </tr>\n",
       "  </tbody>\n",
       "</table>\n",
       "</div>"
      ],
      "text/plain": [
       "          Unnamed: 0        mb_used        user_id\n",
       "count  149396.000000  149396.000000  149396.000000\n",
       "mean    74697.500000     370.192426    1252.099842\n",
       "std     43127.054745     278.300951     144.050823\n",
       "min         0.000000       0.000000    1000.000000\n",
       "25%     37348.750000     138.187500    1130.000000\n",
       "50%     74697.500000     348.015000    1251.000000\n",
       "75%    112046.250000     559.552500    1380.000000\n",
       "max    149395.000000    1724.830000    1499.000000"
      ]
     },
     "metadata": {},
     "output_type": "display_data"
    },
    {
     "data": {
      "text/html": [
       "<div>\n",
       "<style scoped>\n",
       "    .dataframe tbody tr th:only-of-type {\n",
       "        vertical-align: middle;\n",
       "    }\n",
       "\n",
       "    .dataframe tbody tr th {\n",
       "        vertical-align: top;\n",
       "    }\n",
       "\n",
       "    .dataframe thead th {\n",
       "        text-align: right;\n",
       "    }\n",
       "</style>\n",
       "<table border=\"1\" class=\"dataframe\">\n",
       "  <thead>\n",
       "    <tr style=\"text-align: right;\">\n",
       "      <th></th>\n",
       "      <th>id</th>\n",
       "      <th>message_date</th>\n",
       "      <th>user_id</th>\n",
       "    </tr>\n",
       "  </thead>\n",
       "  <tbody>\n",
       "    <tr>\n",
       "      <th>0</th>\n",
       "      <td>1000_0</td>\n",
       "      <td>2018-06-27</td>\n",
       "      <td>1000</td>\n",
       "    </tr>\n",
       "    <tr>\n",
       "      <th>1</th>\n",
       "      <td>1000_1</td>\n",
       "      <td>2018-10-08</td>\n",
       "      <td>1000</td>\n",
       "    </tr>\n",
       "    <tr>\n",
       "      <th>2</th>\n",
       "      <td>1000_2</td>\n",
       "      <td>2018-08-04</td>\n",
       "      <td>1000</td>\n",
       "    </tr>\n",
       "  </tbody>\n",
       "</table>\n",
       "</div>"
      ],
      "text/plain": [
       "       id message_date  user_id\n",
       "0  1000_0   2018-06-27     1000\n",
       "1  1000_1   2018-10-08     1000\n",
       "2  1000_2   2018-08-04     1000"
      ]
     },
     "metadata": {},
     "output_type": "display_data"
    },
    {
     "name": "stdout",
     "output_type": "stream",
     "text": [
      "<class 'pandas.core.frame.DataFrame'>\n",
      "RangeIndex: 123036 entries, 0 to 123035\n",
      "Data columns (total 3 columns):\n",
      " #   Column        Non-Null Count   Dtype \n",
      "---  ------        --------------   ----- \n",
      " 0   id            123036 non-null  object\n",
      " 1   message_date  123036 non-null  object\n",
      " 2   user_id       123036 non-null  int64 \n",
      "dtypes: int64(1), object(2)\n",
      "memory usage: 2.8+ MB\n"
     ]
    },
    {
     "data": {
      "text/html": [
       "<div>\n",
       "<style scoped>\n",
       "    .dataframe tbody tr th:only-of-type {\n",
       "        vertical-align: middle;\n",
       "    }\n",
       "\n",
       "    .dataframe tbody tr th {\n",
       "        vertical-align: top;\n",
       "    }\n",
       "\n",
       "    .dataframe thead th {\n",
       "        text-align: right;\n",
       "    }\n",
       "</style>\n",
       "<table border=\"1\" class=\"dataframe\">\n",
       "  <thead>\n",
       "    <tr style=\"text-align: right;\">\n",
       "      <th></th>\n",
       "      <th>user_id</th>\n",
       "    </tr>\n",
       "  </thead>\n",
       "  <tbody>\n",
       "    <tr>\n",
       "      <th>count</th>\n",
       "      <td>123036.000000</td>\n",
       "    </tr>\n",
       "    <tr>\n",
       "      <th>mean</th>\n",
       "      <td>1256.989410</td>\n",
       "    </tr>\n",
       "    <tr>\n",
       "      <th>std</th>\n",
       "      <td>143.523967</td>\n",
       "    </tr>\n",
       "    <tr>\n",
       "      <th>min</th>\n",
       "      <td>1000.000000</td>\n",
       "    </tr>\n",
       "    <tr>\n",
       "      <th>25%</th>\n",
       "      <td>1134.000000</td>\n",
       "    </tr>\n",
       "    <tr>\n",
       "      <th>50%</th>\n",
       "      <td>1271.000000</td>\n",
       "    </tr>\n",
       "    <tr>\n",
       "      <th>75%</th>\n",
       "      <td>1381.000000</td>\n",
       "    </tr>\n",
       "    <tr>\n",
       "      <th>max</th>\n",
       "      <td>1499.000000</td>\n",
       "    </tr>\n",
       "  </tbody>\n",
       "</table>\n",
       "</div>"
      ],
      "text/plain": [
       "             user_id\n",
       "count  123036.000000\n",
       "mean     1256.989410\n",
       "std       143.523967\n",
       "min      1000.000000\n",
       "25%      1134.000000\n",
       "50%      1271.000000\n",
       "75%      1381.000000\n",
       "max      1499.000000"
      ]
     },
     "metadata": {},
     "output_type": "display_data"
    },
    {
     "data": {
      "text/html": [
       "<div>\n",
       "<style scoped>\n",
       "    .dataframe tbody tr th:only-of-type {\n",
       "        vertical-align: middle;\n",
       "    }\n",
       "\n",
       "    .dataframe tbody tr th {\n",
       "        vertical-align: top;\n",
       "    }\n",
       "\n",
       "    .dataframe thead th {\n",
       "        text-align: right;\n",
       "    }\n",
       "</style>\n",
       "<table border=\"1\" class=\"dataframe\">\n",
       "  <thead>\n",
       "    <tr style=\"text-align: right;\">\n",
       "      <th></th>\n",
       "      <th>messages_included</th>\n",
       "      <th>mb_per_month_included</th>\n",
       "      <th>minutes_included</th>\n",
       "      <th>rub_monthly_fee</th>\n",
       "      <th>rub_per_gb</th>\n",
       "      <th>rub_per_message</th>\n",
       "      <th>rub_per_minute</th>\n",
       "      <th>tariff_name</th>\n",
       "    </tr>\n",
       "  </thead>\n",
       "  <tbody>\n",
       "    <tr>\n",
       "      <th>0</th>\n",
       "      <td>50</td>\n",
       "      <td>15360</td>\n",
       "      <td>500</td>\n",
       "      <td>550</td>\n",
       "      <td>200</td>\n",
       "      <td>3</td>\n",
       "      <td>3</td>\n",
       "      <td>smart</td>\n",
       "    </tr>\n",
       "    <tr>\n",
       "      <th>1</th>\n",
       "      <td>1000</td>\n",
       "      <td>30720</td>\n",
       "      <td>3000</td>\n",
       "      <td>1950</td>\n",
       "      <td>150</td>\n",
       "      <td>1</td>\n",
       "      <td>1</td>\n",
       "      <td>ultra</td>\n",
       "    </tr>\n",
       "  </tbody>\n",
       "</table>\n",
       "</div>"
      ],
      "text/plain": [
       "   messages_included  mb_per_month_included  minutes_included  \\\n",
       "0                 50                  15360               500   \n",
       "1               1000                  30720              3000   \n",
       "\n",
       "   rub_monthly_fee  rub_per_gb  rub_per_message  rub_per_minute tariff_name  \n",
       "0              550         200                3               3       smart  \n",
       "1             1950         150                1               1       ultra  "
      ]
     },
     "metadata": {},
     "output_type": "display_data"
    },
    {
     "name": "stdout",
     "output_type": "stream",
     "text": [
      "<class 'pandas.core.frame.DataFrame'>\n",
      "RangeIndex: 2 entries, 0 to 1\n",
      "Data columns (total 8 columns):\n",
      " #   Column                 Non-Null Count  Dtype \n",
      "---  ------                 --------------  ----- \n",
      " 0   messages_included      2 non-null      int64 \n",
      " 1   mb_per_month_included  2 non-null      int64 \n",
      " 2   minutes_included       2 non-null      int64 \n",
      " 3   rub_monthly_fee        2 non-null      int64 \n",
      " 4   rub_per_gb             2 non-null      int64 \n",
      " 5   rub_per_message        2 non-null      int64 \n",
      " 6   rub_per_minute         2 non-null      int64 \n",
      " 7   tariff_name            2 non-null      object\n",
      "dtypes: int64(7), object(1)\n",
      "memory usage: 256.0+ bytes\n"
     ]
    },
    {
     "data": {
      "text/html": [
       "<div>\n",
       "<style scoped>\n",
       "    .dataframe tbody tr th:only-of-type {\n",
       "        vertical-align: middle;\n",
       "    }\n",
       "\n",
       "    .dataframe tbody tr th {\n",
       "        vertical-align: top;\n",
       "    }\n",
       "\n",
       "    .dataframe thead th {\n",
       "        text-align: right;\n",
       "    }\n",
       "</style>\n",
       "<table border=\"1\" class=\"dataframe\">\n",
       "  <thead>\n",
       "    <tr style=\"text-align: right;\">\n",
       "      <th></th>\n",
       "      <th>messages_included</th>\n",
       "      <th>mb_per_month_included</th>\n",
       "      <th>minutes_included</th>\n",
       "      <th>rub_monthly_fee</th>\n",
       "      <th>rub_per_gb</th>\n",
       "      <th>rub_per_message</th>\n",
       "      <th>rub_per_minute</th>\n",
       "    </tr>\n",
       "  </thead>\n",
       "  <tbody>\n",
       "    <tr>\n",
       "      <th>count</th>\n",
       "      <td>2.000000</td>\n",
       "      <td>2.000000</td>\n",
       "      <td>2.000000</td>\n",
       "      <td>2.000000</td>\n",
       "      <td>2.000000</td>\n",
       "      <td>2.000000</td>\n",
       "      <td>2.000000</td>\n",
       "    </tr>\n",
       "    <tr>\n",
       "      <th>mean</th>\n",
       "      <td>525.000000</td>\n",
       "      <td>23040.000000</td>\n",
       "      <td>1750.000000</td>\n",
       "      <td>1250.000000</td>\n",
       "      <td>175.000000</td>\n",
       "      <td>2.000000</td>\n",
       "      <td>2.000000</td>\n",
       "    </tr>\n",
       "    <tr>\n",
       "      <th>std</th>\n",
       "      <td>671.751442</td>\n",
       "      <td>10861.160159</td>\n",
       "      <td>1767.766953</td>\n",
       "      <td>989.949494</td>\n",
       "      <td>35.355339</td>\n",
       "      <td>1.414214</td>\n",
       "      <td>1.414214</td>\n",
       "    </tr>\n",
       "    <tr>\n",
       "      <th>min</th>\n",
       "      <td>50.000000</td>\n",
       "      <td>15360.000000</td>\n",
       "      <td>500.000000</td>\n",
       "      <td>550.000000</td>\n",
       "      <td>150.000000</td>\n",
       "      <td>1.000000</td>\n",
       "      <td>1.000000</td>\n",
       "    </tr>\n",
       "    <tr>\n",
       "      <th>25%</th>\n",
       "      <td>287.500000</td>\n",
       "      <td>19200.000000</td>\n",
       "      <td>1125.000000</td>\n",
       "      <td>900.000000</td>\n",
       "      <td>162.500000</td>\n",
       "      <td>1.500000</td>\n",
       "      <td>1.500000</td>\n",
       "    </tr>\n",
       "    <tr>\n",
       "      <th>50%</th>\n",
       "      <td>525.000000</td>\n",
       "      <td>23040.000000</td>\n",
       "      <td>1750.000000</td>\n",
       "      <td>1250.000000</td>\n",
       "      <td>175.000000</td>\n",
       "      <td>2.000000</td>\n",
       "      <td>2.000000</td>\n",
       "    </tr>\n",
       "    <tr>\n",
       "      <th>75%</th>\n",
       "      <td>762.500000</td>\n",
       "      <td>26880.000000</td>\n",
       "      <td>2375.000000</td>\n",
       "      <td>1600.000000</td>\n",
       "      <td>187.500000</td>\n",
       "      <td>2.500000</td>\n",
       "      <td>2.500000</td>\n",
       "    </tr>\n",
       "    <tr>\n",
       "      <th>max</th>\n",
       "      <td>1000.000000</td>\n",
       "      <td>30720.000000</td>\n",
       "      <td>3000.000000</td>\n",
       "      <td>1950.000000</td>\n",
       "      <td>200.000000</td>\n",
       "      <td>3.000000</td>\n",
       "      <td>3.000000</td>\n",
       "    </tr>\n",
       "  </tbody>\n",
       "</table>\n",
       "</div>"
      ],
      "text/plain": [
       "       messages_included  mb_per_month_included  minutes_included  \\\n",
       "count           2.000000               2.000000          2.000000   \n",
       "mean          525.000000           23040.000000       1750.000000   \n",
       "std           671.751442           10861.160159       1767.766953   \n",
       "min            50.000000           15360.000000        500.000000   \n",
       "25%           287.500000           19200.000000       1125.000000   \n",
       "50%           525.000000           23040.000000       1750.000000   \n",
       "75%           762.500000           26880.000000       2375.000000   \n",
       "max          1000.000000           30720.000000       3000.000000   \n",
       "\n",
       "       rub_monthly_fee  rub_per_gb  rub_per_message  rub_per_minute  \n",
       "count         2.000000    2.000000         2.000000        2.000000  \n",
       "mean       1250.000000  175.000000         2.000000        2.000000  \n",
       "std         989.949494   35.355339         1.414214        1.414214  \n",
       "min         550.000000  150.000000         1.000000        1.000000  \n",
       "25%         900.000000  162.500000         1.500000        1.500000  \n",
       "50%        1250.000000  175.000000         2.000000        2.000000  \n",
       "75%        1600.000000  187.500000         2.500000        2.500000  \n",
       "max        1950.000000  200.000000         3.000000        3.000000  "
      ]
     },
     "metadata": {},
     "output_type": "display_data"
    },
    {
     "data": {
      "text/html": [
       "<div>\n",
       "<style scoped>\n",
       "    .dataframe tbody tr th:only-of-type {\n",
       "        vertical-align: middle;\n",
       "    }\n",
       "\n",
       "    .dataframe tbody tr th {\n",
       "        vertical-align: top;\n",
       "    }\n",
       "\n",
       "    .dataframe thead th {\n",
       "        text-align: right;\n",
       "    }\n",
       "</style>\n",
       "<table border=\"1\" class=\"dataframe\">\n",
       "  <thead>\n",
       "    <tr style=\"text-align: right;\">\n",
       "      <th></th>\n",
       "      <th>user_id</th>\n",
       "      <th>age</th>\n",
       "      <th>churn_date</th>\n",
       "      <th>city</th>\n",
       "      <th>first_name</th>\n",
       "      <th>last_name</th>\n",
       "      <th>reg_date</th>\n",
       "      <th>tariff</th>\n",
       "    </tr>\n",
       "  </thead>\n",
       "  <tbody>\n",
       "    <tr>\n",
       "      <th>0</th>\n",
       "      <td>1000</td>\n",
       "      <td>52</td>\n",
       "      <td>NaN</td>\n",
       "      <td>Краснодар</td>\n",
       "      <td>Рафаил</td>\n",
       "      <td>Верещагин</td>\n",
       "      <td>2018-05-25</td>\n",
       "      <td>ultra</td>\n",
       "    </tr>\n",
       "    <tr>\n",
       "      <th>1</th>\n",
       "      <td>1001</td>\n",
       "      <td>41</td>\n",
       "      <td>NaN</td>\n",
       "      <td>Москва</td>\n",
       "      <td>Иван</td>\n",
       "      <td>Ежов</td>\n",
       "      <td>2018-11-01</td>\n",
       "      <td>smart</td>\n",
       "    </tr>\n",
       "    <tr>\n",
       "      <th>2</th>\n",
       "      <td>1002</td>\n",
       "      <td>59</td>\n",
       "      <td>NaN</td>\n",
       "      <td>Стерлитамак</td>\n",
       "      <td>Евгений</td>\n",
       "      <td>Абрамович</td>\n",
       "      <td>2018-06-17</td>\n",
       "      <td>smart</td>\n",
       "    </tr>\n",
       "  </tbody>\n",
       "</table>\n",
       "</div>"
      ],
      "text/plain": [
       "   user_id  age churn_date         city first_name  last_name    reg_date  \\\n",
       "0     1000   52        NaN    Краснодар     Рафаил  Верещагин  2018-05-25   \n",
       "1     1001   41        NaN       Москва       Иван       Ежов  2018-11-01   \n",
       "2     1002   59        NaN  Стерлитамак    Евгений  Абрамович  2018-06-17   \n",
       "\n",
       "  tariff  \n",
       "0  ultra  \n",
       "1  smart  \n",
       "2  smart  "
      ]
     },
     "metadata": {},
     "output_type": "display_data"
    },
    {
     "name": "stdout",
     "output_type": "stream",
     "text": [
      "<class 'pandas.core.frame.DataFrame'>\n",
      "RangeIndex: 500 entries, 0 to 499\n",
      "Data columns (total 8 columns):\n",
      " #   Column      Non-Null Count  Dtype \n",
      "---  ------      --------------  ----- \n",
      " 0   user_id     500 non-null    int64 \n",
      " 1   age         500 non-null    int64 \n",
      " 2   churn_date  38 non-null     object\n",
      " 3   city        500 non-null    object\n",
      " 4   first_name  500 non-null    object\n",
      " 5   last_name   500 non-null    object\n",
      " 6   reg_date    500 non-null    object\n",
      " 7   tariff      500 non-null    object\n",
      "dtypes: int64(2), object(6)\n",
      "memory usage: 31.4+ KB\n"
     ]
    },
    {
     "data": {
      "text/html": [
       "<div>\n",
       "<style scoped>\n",
       "    .dataframe tbody tr th:only-of-type {\n",
       "        vertical-align: middle;\n",
       "    }\n",
       "\n",
       "    .dataframe tbody tr th {\n",
       "        vertical-align: top;\n",
       "    }\n",
       "\n",
       "    .dataframe thead th {\n",
       "        text-align: right;\n",
       "    }\n",
       "</style>\n",
       "<table border=\"1\" class=\"dataframe\">\n",
       "  <thead>\n",
       "    <tr style=\"text-align: right;\">\n",
       "      <th></th>\n",
       "      <th>user_id</th>\n",
       "      <th>age</th>\n",
       "    </tr>\n",
       "  </thead>\n",
       "  <tbody>\n",
       "    <tr>\n",
       "      <th>count</th>\n",
       "      <td>500.000000</td>\n",
       "      <td>500.00000</td>\n",
       "    </tr>\n",
       "    <tr>\n",
       "      <th>mean</th>\n",
       "      <td>1249.500000</td>\n",
       "      <td>46.58800</td>\n",
       "    </tr>\n",
       "    <tr>\n",
       "      <th>std</th>\n",
       "      <td>144.481833</td>\n",
       "      <td>16.66763</td>\n",
       "    </tr>\n",
       "    <tr>\n",
       "      <th>min</th>\n",
       "      <td>1000.000000</td>\n",
       "      <td>18.00000</td>\n",
       "    </tr>\n",
       "    <tr>\n",
       "      <th>25%</th>\n",
       "      <td>1124.750000</td>\n",
       "      <td>32.00000</td>\n",
       "    </tr>\n",
       "    <tr>\n",
       "      <th>50%</th>\n",
       "      <td>1249.500000</td>\n",
       "      <td>46.00000</td>\n",
       "    </tr>\n",
       "    <tr>\n",
       "      <th>75%</th>\n",
       "      <td>1374.250000</td>\n",
       "      <td>62.00000</td>\n",
       "    </tr>\n",
       "    <tr>\n",
       "      <th>max</th>\n",
       "      <td>1499.000000</td>\n",
       "      <td>75.00000</td>\n",
       "    </tr>\n",
       "  </tbody>\n",
       "</table>\n",
       "</div>"
      ],
      "text/plain": [
       "           user_id        age\n",
       "count   500.000000  500.00000\n",
       "mean   1249.500000   46.58800\n",
       "std     144.481833   16.66763\n",
       "min    1000.000000   18.00000\n",
       "25%    1124.750000   32.00000\n",
       "50%    1249.500000   46.00000\n",
       "75%    1374.250000   62.00000\n",
       "max    1499.000000   75.00000"
      ]
     },
     "metadata": {},
     "output_type": "display_data"
    }
   ],
   "source": [
    "for df in [calls, internet, messages, tariffs, users]:\n",
    "    display(df.head(3))\n",
    "    df.info()\n",
    "    display(df.describe())"
   ]
  },
  {
   "cell_type": "code",
   "execution_count": 4,
   "metadata": {},
   "outputs": [
    {
     "data": {
      "image/png": "[encoded data removed]",
      "text/plain": [
       "<Figure size 1008x432 with 1 Axes>"
      ]
     },
     "metadata": {
      "needs_background": "light"
     },
     "output_type": "display_data"
    }
   ],
   "source": [
    "users['age'].plot.hist(bins=58, edgecolor='black',figsize=(14, 6), grid=True, alpha=0.4)\n",
    "plt.title('Распределение возраста пользователей')\n",
    "plt.ylabel('Частота')\n",
    "plt.xlabel('Возраст, лет');"
   ]
  },
  {
   "cell_type": "code",
   "execution_count": 5,
   "metadata": {},
   "outputs": [
    {
     "data": {
      "text/plain": [
       "smart    351\n",
       "ultra    149\n",
       "Name: tariff, dtype: int64"
      ]
     },
     "execution_count": 5,
     "metadata": {},
     "output_type": "execute_result"
    }
   ],
   "source": [
    "users['tariff'].value_counts()"
   ]
  },
  {
   "cell_type": "markdown",
   "metadata": {},
   "source": [
    "**Вывод по данным:**\n",
    "\n",
    "Предоставлена информация по звонкам, смс и интернет-траффику 500 пользователей за 2018 год. Имеются данные по пользователям и тарифам.\n",
    "\n",
    "**users:**\n",
    "* 500 строк с уникальными user_id.   \n",
    "* 76 уникальных городов. Москва - 99 строк, разных видов написания нет.     \n",
    "* 38 клиентов прекратили пользоваться тарифом на момент выгрузки.  \n",
    "* smart - 351 строка (70%), ultra - 149 строк (30%).  \n",
    "* 58 значений возраста. Распределены от 17 до 75 без перекосов.   \n",
    "* churn_date и reg_date необходимо преобразовать в datetime  \n",
    "* reg_date - без перекосов, \n",
    "* churn_date с увеличением даты встречается чаще (похоже на нормальный отток)  \n",
    "\n",
    "**calls:**\n",
    "* 202607 строк с уникальными id.   \n",
    "* 492 уникальных user_id. 8 пользователей не осуществляли звонки. \n",
    "* 39613 звонков длительностью (duration) = 0, среднее время 6.76 мин., медиана 6.00 мин.\n",
    "* Вероятно duration=0 обозначает что user_id не дозвонился, звонок сорвался, был сброшен. Такие звонки не тарифицируются и учитывать их в исследовании не имеет смысла.\n",
    "* Без звонков 0 продолжительности среднее увеличивается до 8.40, медиана до 7.74 \n",
    "* call_date необходимо преобразовать в datetime \n",
    "* необходимо учитывать что длительность звонка округляется в большую сторону  \n",
    "\n",
    "**messages:**\n",
    "* 123036 строк с уникальными id.   \n",
    "* 426 уникальных user_id. 74 пользователя не СМСят - прямо как Мачете.\n",
    "\n",
    "**internet:**\n",
    "* 149396 строк с уникальными id.   \n",
    "* 497 уникальных user_id. 3 пользователя не используют мобильный интернет.\n",
    "* 19598 сессий с 0 интернет-трафиком, средний расход 370 Мбайт., медиана 348 Мбайт\n",
    "* По аналогии со звонками 0 трафик необходимо исключить.\n",
    "* После удаления средний расход 426 Мбайт., медиана 400 Мбайт\n",
    "* Нужно уточнить в какой момент округляется трафик. Пока считаем что траффик округляется по окончании каждой сессии.\n",
    "* В данные подтягивается лишний столбец с индексами 'Unnamed: 0'.\n"
   ]
  },
  {
   "cell_type": "markdown",
   "metadata": {},
   "source": [
    "<a name=\"3\"></a>\n",
    "## Подготовка данных"
   ]
  },
  {
   "cell_type": "code",
   "execution_count": 6,
   "metadata": {},
   "outputs": [],
   "source": [
    "users['churn_date'] = pd.to_datetime(users['churn_date'], format='%Y-%m-%d')\n",
    "users['reg_date'] = pd.to_datetime(users['reg_date'], format='%Y-%m-%d')"
   ]
  },
  {
   "cell_type": "markdown",
   "metadata": {},
   "source": [
    "Удалим строки с 0 продолжительностью звонка. Причины и последствия см. выше (вывод по данным calls)."
   ]
  },
  {
   "cell_type": "code",
   "execution_count": 7,
   "metadata": {},
   "outputs": [
    {
     "data": {
      "image/png": "[encoded data removed]",
      "text/plain": [
       "<Figure size 1008x288 with 1 Axes>"
      ]
     },
     "metadata": {
      "needs_background": "light"
     },
     "output_type": "display_data"
    }
   ],
   "source": [
    "calls = calls.loc[calls.loc[:, 'duration'] > 0]\n",
    "calls['duration'] = np.ceil(calls['duration'])  # округляем в большую сторону\n",
    "calls['call_date'] = pd.to_datetime(calls['call_date'], format='%Y-%m-%d')\n",
    "\n",
    "calls['duration'].hist(bins=38, edgecolor='black', figsize=(14, 4), grid=True, alpha=0.4)\n",
    "plt.title('Распределение продолжительности звонков')\n",
    "plt.ylabel('Количество звонков, шт.')\n",
    "plt.xlabel('Продолжительность звонка, мин.');"
   ]
  },
  {
   "cell_type": "code",
   "execution_count": 8,
   "metadata": {},
   "outputs": [],
   "source": [
    "messages['message_date'] = pd.to_datetime(messages['message_date'], format='%Y-%m-%d')"
   ]
  },
  {
   "cell_type": "code",
   "execution_count": 9,
   "metadata": {},
   "outputs": [
    {
     "data": {
      "image/png": "[encoded data removed]",
      "text/plain": [
       "<Figure size 1008x288 with 1 Axes>"
      ]
     },
     "metadata": {
      "needs_background": "light"
     },
     "output_type": "display_data"
    }
   ],
   "source": [
    "internet = internet.loc[internet.loc[:, 'mb_used'] > 0]\n",
    "\n",
    "# Считаем что траффик необходимо округлять до целых Мб по окончании каждой сессии в большую сторону.\n",
    "internet['mb_used'] = np.ceil(internet['mb_used'])\n",
    "internet['session_date'] = pd.to_datetime(internet['session_date'], format='%Y-%m-%d')\n",
    "\n",
    "# удаляю лишний столбец 'Unnamed: 0'\n",
    "internet.drop(['Unnamed: 0'], axis='columns', inplace=True)\n",
    "\n",
    "internet.hist(column='mb_used', bins=50, edgecolor='black', figsize=(14, 4), grid=True, alpha=0.4)\n",
    "plt.title('Распределение интернет-трафика за 1 сессию')\n",
    "plt.ylabel('Количество сессий, шт.')\n",
    "plt.xlabel('Трафик, МБ');"
   ]
  },
  {
   "cell_type": "markdown",
   "metadata": {},
   "source": [
    "Графики без перекосов, распределения нормальные, выбросы в норме."
   ]
  },
  {
   "cell_type": "markdown",
   "metadata": {},
   "source": [
    "<a name=\"31\"></a>\n",
    "### Распределение по месяцам\n",
    "Посмотрим как ведут себя данные в зависимости от месяца."
   ]
  },
  {
   "cell_type": "markdown",
   "metadata": {},
   "source": [
    "<a name=\"311\"></a>\n",
    "#### Суммарные данные (общие) - количество звонков, выходов в интернет, смс\n",
    "**Звонки**"
   ]
  },
  {
   "cell_type": "code",
   "execution_count": 10,
   "metadata": {
    "scrolled": false
   },
   "outputs": [
    {
     "data": {
      "image/png": "[encoded data removed]",
      "text/plain": [
       "<Figure size 432x288 with 1 Axes>"
      ]
     },
     "metadata": {
      "needs_background": "light"
     },
     "output_type": "display_data"
    },
    {
     "data": {
      "image/png": "[encoded data removed]",
      "text/plain": [
       "<Figure size 432x288 with 1 Axes>"
      ]
     },
     "metadata": {
      "needs_background": "light"
     },
     "output_type": "display_data"
    }
   ],
   "source": [
    "calls_pivot = calls.pivot_table(index=calls['call_date'].dt.month, \n",
    "                                values='duration', \n",
    "                                aggfunc=('count', 'sum', 'mean', 'median'))\n",
    "\n",
    "calls_pivot['count'].plot(kind=\"bar\", grid=True, legend=False)\n",
    "plt.title('Количество звонков')\n",
    "plt.ylabel('Количество, шт.')\n",
    "plt.xlabel('Месяц')\n",
    "plt.show()\n",
    "\n",
    "calls_pivot['sum'].plot(grid=True, legend=False)\n",
    "plt.title('Средняя продолжительность звонка (округленная)') \n",
    "plt.ylabel('Продолжительность звонка, мин.')\n",
    "plt.xlabel('Месяц');"
   ]
  },
  {
   "cell_type": "code",
   "execution_count": 11,
   "metadata": {},
   "outputs": [
    {
     "data": {
      "text/html": [
       "<style  type=\"text/css\" >\n",
       "#T_761b97d6_fc00_11eb_9b48_90e6ba2ecf06row0_col0{\n",
       "            width:  10em;\n",
       "             height:  80%;\n",
       "            background:  linear-gradient(90deg,Chartreuse 4.3%, transparent 4.3%);\n",
       "        }#T_761b97d6_fc00_11eb_9b48_90e6ba2ecf06row0_col3{\n",
       "            width:  10em;\n",
       "             height:  80%;\n",
       "            background:  linear-gradient(90deg,Chartreuse 4.4%, transparent 4.4%);\n",
       "        }#T_761b97d6_fc00_11eb_9b48_90e6ba2ecf06row1_col0{\n",
       "            width:  10em;\n",
       "             height:  80%;\n",
       "            background:  linear-gradient(90deg,Chartreuse 9.9%, transparent 9.9%);\n",
       "        }#T_761b97d6_fc00_11eb_9b48_90e6ba2ecf06row1_col3{\n",
       "            width:  10em;\n",
       "             height:  80%;\n",
       "            background:  linear-gradient(90deg,Chartreuse 10.0%, transparent 10.0%);\n",
       "        }#T_761b97d6_fc00_11eb_9b48_90e6ba2ecf06row2_col0{\n",
       "            width:  10em;\n",
       "             height:  80%;\n",
       "            background:  linear-gradient(90deg,Chartreuse 19.7%, transparent 19.7%);\n",
       "        }#T_761b97d6_fc00_11eb_9b48_90e6ba2ecf06row2_col3{\n",
       "            width:  10em;\n",
       "             height:  80%;\n",
       "            background:  linear-gradient(90deg,Chartreuse 19.8%, transparent 19.8%);\n",
       "        }#T_761b97d6_fc00_11eb_9b48_90e6ba2ecf06row3_col0{\n",
       "            width:  10em;\n",
       "             height:  80%;\n",
       "            background:  linear-gradient(90deg,Chartreuse 27.4%, transparent 27.4%);\n",
       "        }#T_761b97d6_fc00_11eb_9b48_90e6ba2ecf06row3_col3{\n",
       "            width:  10em;\n",
       "             height:  80%;\n",
       "            background:  linear-gradient(90deg,Chartreuse 27.2%, transparent 27.2%);\n",
       "        }#T_761b97d6_fc00_11eb_9b48_90e6ba2ecf06row4_col0{\n",
       "            width:  10em;\n",
       "             height:  80%;\n",
       "            background:  linear-gradient(90deg,Chartreuse 36.9%, transparent 36.9%);\n",
       "        }#T_761b97d6_fc00_11eb_9b48_90e6ba2ecf06row4_col3{\n",
       "            width:  10em;\n",
       "             height:  80%;\n",
       "            background:  linear-gradient(90deg,Chartreuse 36.4%, transparent 36.4%);\n",
       "        }#T_761b97d6_fc00_11eb_9b48_90e6ba2ecf06row5_col0,#T_761b97d6_fc00_11eb_9b48_90e6ba2ecf06row5_col3{\n",
       "            width:  10em;\n",
       "             height:  80%;\n",
       "            background:  linear-gradient(90deg,Chartreuse 43.2%, transparent 43.2%);\n",
       "        }#T_761b97d6_fc00_11eb_9b48_90e6ba2ecf06row6_col0{\n",
       "            width:  10em;\n",
       "             height:  80%;\n",
       "            background:  linear-gradient(90deg,Chartreuse 54.0%, transparent 54.0%);\n",
       "        }#T_761b97d6_fc00_11eb_9b48_90e6ba2ecf06row6_col3{\n",
       "            width:  10em;\n",
       "             height:  80%;\n",
       "            background:  linear-gradient(90deg,Chartreuse 54.1%, transparent 54.1%);\n",
       "        }#T_761b97d6_fc00_11eb_9b48_90e6ba2ecf06row7_col0{\n",
       "            width:  10em;\n",
       "             height:  80%;\n",
       "            background:  linear-gradient(90deg,Chartreuse 63.0%, transparent 63.0%);\n",
       "        }#T_761b97d6_fc00_11eb_9b48_90e6ba2ecf06row7_col3{\n",
       "            width:  10em;\n",
       "             height:  80%;\n",
       "            background:  linear-gradient(90deg,Chartreuse 63.1%, transparent 63.1%);\n",
       "        }#T_761b97d6_fc00_11eb_9b48_90e6ba2ecf06row8_col0{\n",
       "            width:  10em;\n",
       "             height:  80%;\n",
       "            background:  linear-gradient(90deg,Chartreuse 71.0%, transparent 71.0%);\n",
       "        }#T_761b97d6_fc00_11eb_9b48_90e6ba2ecf06row8_col3{\n",
       "            width:  10em;\n",
       "             height:  80%;\n",
       "            background:  linear-gradient(90deg,Chartreuse 71.2%, transparent 71.2%);\n",
       "        }#T_761b97d6_fc00_11eb_9b48_90e6ba2ecf06row9_col0{\n",
       "            width:  10em;\n",
       "             height:  80%;\n",
       "            background:  linear-gradient(90deg,Chartreuse 79.4%, transparent 79.4%);\n",
       "        }#T_761b97d6_fc00_11eb_9b48_90e6ba2ecf06row9_col3{\n",
       "            width:  10em;\n",
       "             height:  80%;\n",
       "            background:  linear-gradient(90deg,Chartreuse 79.6%, transparent 79.6%);\n",
       "        }#T_761b97d6_fc00_11eb_9b48_90e6ba2ecf06row10_col0{\n",
       "            width:  10em;\n",
       "             height:  80%;\n",
       "            background:  linear-gradient(90deg,Chartreuse 86.4%, transparent 86.4%);\n",
       "        }#T_761b97d6_fc00_11eb_9b48_90e6ba2ecf06row10_col3{\n",
       "            width:  10em;\n",
       "             height:  80%;\n",
       "            background:  linear-gradient(90deg,Chartreuse 86.2%, transparent 86.2%);\n",
       "        }#T_761b97d6_fc00_11eb_9b48_90e6ba2ecf06row11_col0,#T_761b97d6_fc00_11eb_9b48_90e6ba2ecf06row11_col3{\n",
       "            width:  10em;\n",
       "             height:  80%;\n",
       "            background:  linear-gradient(90deg,Chartreuse 100.0%, transparent 100.0%);\n",
       "        }</style><table id=\"T_761b97d6_fc00_11eb_9b48_90e6ba2ecf06\" ><caption>Количество, средняя, медианная и суммарная продолжительность звонков по месяцам</caption><thead>    <tr>        <th class=\"blank level0\" ></th>        <th class=\"col_heading level0 col0\" >count</th>        <th class=\"col_heading level0 col1\" >mean</th>        <th class=\"col_heading level0 col2\" >median</th>        <th class=\"col_heading level0 col3\" >sum</th>    </tr>    <tr>        <th class=\"index_name level0\" >call_date</th>        <th class=\"blank\" ></th>        <th class=\"blank\" ></th>        <th class=\"blank\" ></th>        <th class=\"blank\" ></th>    </tr></thead><tbody>\n",
       "                <tr>\n",
       "                        <th id=\"T_761b97d6_fc00_11eb_9b48_90e6ba2ecf06level0_row0\" class=\"row_heading level0 row0\" >1</th>\n",
       "                        <td id=\"T_761b97d6_fc00_11eb_9b48_90e6ba2ecf06row0_col0\" class=\"data row0 col0\" >1164</td>\n",
       "                        <td id=\"T_761b97d6_fc00_11eb_9b48_90e6ba2ecf06row0_col1\" class=\"data row0 col1\" >9.264605</td>\n",
       "                        <td id=\"T_761b97d6_fc00_11eb_9b48_90e6ba2ecf06row0_col2\" class=\"data row0 col2\" >9.000000</td>\n",
       "                        <td id=\"T_761b97d6_fc00_11eb_9b48_90e6ba2ecf06row0_col3\" class=\"data row0 col3\" >10784.000000</td>\n",
       "            </tr>\n",
       "            <tr>\n",
       "                        <th id=\"T_761b97d6_fc00_11eb_9b48_90e6ba2ecf06level0_row1\" class=\"row_heading level0 row1\" >2</th>\n",
       "                        <td id=\"T_761b97d6_fc00_11eb_9b48_90e6ba2ecf06row1_col0\" class=\"data row1 col0\" >2705</td>\n",
       "                        <td id=\"T_761b97d6_fc00_11eb_9b48_90e6ba2ecf06row1_col1\" class=\"data row1 col1\" >9.040665</td>\n",
       "                        <td id=\"T_761b97d6_fc00_11eb_9b48_90e6ba2ecf06row1_col2\" class=\"data row1 col2\" >8.000000</td>\n",
       "                        <td id=\"T_761b97d6_fc00_11eb_9b48_90e6ba2ecf06row1_col3\" class=\"data row1 col3\" >24455.000000</td>\n",
       "            </tr>\n",
       "            <tr>\n",
       "                        <th id=\"T_761b97d6_fc00_11eb_9b48_90e6ba2ecf06level0_row2\" class=\"row_heading level0 row2\" >3</th>\n",
       "                        <td id=\"T_761b97d6_fc00_11eb_9b48_90e6ba2ecf06row2_col0\" class=\"data row2 col0\" >5383</td>\n",
       "                        <td id=\"T_761b97d6_fc00_11eb_9b48_90e6ba2ecf06row2_col1\" class=\"data row2 col1\" >8.945012</td>\n",
       "                        <td id=\"T_761b97d6_fc00_11eb_9b48_90e6ba2ecf06row2_col2\" class=\"data row2 col2\" >8.000000</td>\n",
       "                        <td id=\"T_761b97d6_fc00_11eb_9b48_90e6ba2ecf06row2_col3\" class=\"data row2 col3\" >48151.000000</td>\n",
       "            </tr>\n",
       "            <tr>\n",
       "                        <th id=\"T_761b97d6_fc00_11eb_9b48_90e6ba2ecf06level0_row3\" class=\"row_heading level0 row3\" >4</th>\n",
       "                        <td id=\"T_761b97d6_fc00_11eb_9b48_90e6ba2ecf06row3_col0\" class=\"data row3 col0\" >7504</td>\n",
       "                        <td id=\"T_761b97d6_fc00_11eb_9b48_90e6ba2ecf06row3_col1\" class=\"data row3 col1\" >8.836620</td>\n",
       "                        <td id=\"T_761b97d6_fc00_11eb_9b48_90e6ba2ecf06row3_col2\" class=\"data row3 col2\" >8.000000</td>\n",
       "                        <td id=\"T_761b97d6_fc00_11eb_9b48_90e6ba2ecf06row3_col3\" class=\"data row3 col3\" >66310.000000</td>\n",
       "            </tr>\n",
       "            <tr>\n",
       "                        <th id=\"T_761b97d6_fc00_11eb_9b48_90e6ba2ecf06level0_row4\" class=\"row_heading level0 row4\" >5</th>\n",
       "                        <td id=\"T_761b97d6_fc00_11eb_9b48_90e6ba2ecf06row4_col0\" class=\"data row4 col0\" >10116</td>\n",
       "                        <td id=\"T_761b97d6_fc00_11eb_9b48_90e6ba2ecf06row4_col1\" class=\"data row4 col1\" >8.779162</td>\n",
       "                        <td id=\"T_761b97d6_fc00_11eb_9b48_90e6ba2ecf06row4_col2\" class=\"data row4 col2\" >8.000000</td>\n",
       "                        <td id=\"T_761b97d6_fc00_11eb_9b48_90e6ba2ecf06row4_col3\" class=\"data row4 col3\" >88810.000000</td>\n",
       "            </tr>\n",
       "            <tr>\n",
       "                        <th id=\"T_761b97d6_fc00_11eb_9b48_90e6ba2ecf06level0_row5\" class=\"row_heading level0 row5\" >6</th>\n",
       "                        <td id=\"T_761b97d6_fc00_11eb_9b48_90e6ba2ecf06row5_col0\" class=\"data row5 col0\" >11833</td>\n",
       "                        <td id=\"T_761b97d6_fc00_11eb_9b48_90e6ba2ecf06row5_col1\" class=\"data row5 col1\" >8.888701</td>\n",
       "                        <td id=\"T_761b97d6_fc00_11eb_9b48_90e6ba2ecf06row5_col2\" class=\"data row5 col2\" >8.000000</td>\n",
       "                        <td id=\"T_761b97d6_fc00_11eb_9b48_90e6ba2ecf06row5_col3\" class=\"data row5 col3\" >105180.000000</td>\n",
       "            </tr>\n",
       "            <tr>\n",
       "                        <th id=\"T_761b97d6_fc00_11eb_9b48_90e6ba2ecf06level0_row6\" class=\"row_heading level0 row6\" >7</th>\n",
       "                        <td id=\"T_761b97d6_fc00_11eb_9b48_90e6ba2ecf06row6_col0\" class=\"data row6 col0\" >14780</td>\n",
       "                        <td id=\"T_761b97d6_fc00_11eb_9b48_90e6ba2ecf06row6_col1\" class=\"data row6 col1\" >8.913802</td>\n",
       "                        <td id=\"T_761b97d6_fc00_11eb_9b48_90e6ba2ecf06row6_col2\" class=\"data row6 col2\" >8.000000</td>\n",
       "                        <td id=\"T_761b97d6_fc00_11eb_9b48_90e6ba2ecf06row6_col3\" class=\"data row6 col3\" >131746.000000</td>\n",
       "            </tr>\n",
       "            <tr>\n",
       "                        <th id=\"T_761b97d6_fc00_11eb_9b48_90e6ba2ecf06level0_row7\" class=\"row_heading level0 row7\" >8</th>\n",
       "                        <td id=\"T_761b97d6_fc00_11eb_9b48_90e6ba2ecf06row7_col0\" class=\"data row7 col0\" >17257</td>\n",
       "                        <td id=\"T_761b97d6_fc00_11eb_9b48_90e6ba2ecf06row7_col1\" class=\"data row7 col1\" >8.906415</td>\n",
       "                        <td id=\"T_761b97d6_fc00_11eb_9b48_90e6ba2ecf06row7_col2\" class=\"data row7 col2\" >8.000000</td>\n",
       "                        <td id=\"T_761b97d6_fc00_11eb_9b48_90e6ba2ecf06row7_col3\" class=\"data row7 col3\" >153698.000000</td>\n",
       "            </tr>\n",
       "            <tr>\n",
       "                        <th id=\"T_761b97d6_fc00_11eb_9b48_90e6ba2ecf06level0_row8\" class=\"row_heading level0 row8\" >9</th>\n",
       "                        <td id=\"T_761b97d6_fc00_11eb_9b48_90e6ba2ecf06row8_col0\" class=\"data row8 col0\" >19446</td>\n",
       "                        <td id=\"T_761b97d6_fc00_11eb_9b48_90e6ba2ecf06row8_col1\" class=\"data row8 col1\" >8.920858</td>\n",
       "                        <td id=\"T_761b97d6_fc00_11eb_9b48_90e6ba2ecf06row8_col2\" class=\"data row8 col2\" >8.000000</td>\n",
       "                        <td id=\"T_761b97d6_fc00_11eb_9b48_90e6ba2ecf06row8_col3\" class=\"data row8 col3\" >173475.000000</td>\n",
       "            </tr>\n",
       "            <tr>\n",
       "                        <th id=\"T_761b97d6_fc00_11eb_9b48_90e6ba2ecf06level0_row9\" class=\"row_heading level0 row9\" >10</th>\n",
       "                        <td id=\"T_761b97d6_fc00_11eb_9b48_90e6ba2ecf06row9_col0\" class=\"data row9 col0\" >21757</td>\n",
       "                        <td id=\"T_761b97d6_fc00_11eb_9b48_90e6ba2ecf06row9_col1\" class=\"data row9 col1\" >8.913361</td>\n",
       "                        <td id=\"T_761b97d6_fc00_11eb_9b48_90e6ba2ecf06row9_col2\" class=\"data row9 col2\" >8.000000</td>\n",
       "                        <td id=\"T_761b97d6_fc00_11eb_9b48_90e6ba2ecf06row9_col3\" class=\"data row9 col3\" >193928.000000</td>\n",
       "            </tr>\n",
       "            <tr>\n",
       "                        <th id=\"T_761b97d6_fc00_11eb_9b48_90e6ba2ecf06level0_row10\" class=\"row_heading level0 row10\" >11</th>\n",
       "                        <td id=\"T_761b97d6_fc00_11eb_9b48_90e6ba2ecf06row10_col0\" class=\"data row10 col0\" >23664</td>\n",
       "                        <td id=\"T_761b97d6_fc00_11eb_9b48_90e6ba2ecf06row10_col1\" class=\"data row10 col1\" >8.878000</td>\n",
       "                        <td id=\"T_761b97d6_fc00_11eb_9b48_90e6ba2ecf06row10_col2\" class=\"data row10 col2\" >8.000000</td>\n",
       "                        <td id=\"T_761b97d6_fc00_11eb_9b48_90e6ba2ecf06row10_col3\" class=\"data row10 col3\" >210089.000000</td>\n",
       "            </tr>\n",
       "            <tr>\n",
       "                        <th id=\"T_761b97d6_fc00_11eb_9b48_90e6ba2ecf06level0_row11\" class=\"row_heading level0 row11\" >12</th>\n",
       "                        <td id=\"T_761b97d6_fc00_11eb_9b48_90e6ba2ecf06row11_col0\" class=\"data row11 col0\" >27385</td>\n",
       "                        <td id=\"T_761b97d6_fc00_11eb_9b48_90e6ba2ecf06row11_col1\" class=\"data row11 col1\" >8.898119</td>\n",
       "                        <td id=\"T_761b97d6_fc00_11eb_9b48_90e6ba2ecf06row11_col2\" class=\"data row11 col2\" >8.000000</td>\n",
       "                        <td id=\"T_761b97d6_fc00_11eb_9b48_90e6ba2ecf06row11_col3\" class=\"data row11 col3\" >243675.000000</td>\n",
       "            </tr>\n",
       "    </tbody></table>"
      ],
      "text/plain": [
       "<pandas.io.formats.style.Styler at 0x190d4072d30>"
      ]
     },
     "execution_count": 11,
     "metadata": {},
     "output_type": "execute_result"
    }
   ],
   "source": [
    "calls_pivot.style.bar(subset=['count', 'sum'], color='Chartreuse', vmin=0).set_caption(\n",
    "    'Количество, средняя, медианная и суммарная продолжительность звонков по месяцам') #color='skyblue'"
   ]
  },
  {
   "cell_type": "markdown",
   "metadata": {},
   "source": [
    "**Интернет-сессии**"
   ]
  },
  {
   "cell_type": "code",
   "execution_count": 12,
   "metadata": {
    "scrolled": false
   },
   "outputs": [
    {
     "data": {
      "text/html": [
       "<div>\n",
       "<style scoped>\n",
       "    .dataframe tbody tr th:only-of-type {\n",
       "        vertical-align: middle;\n",
       "    }\n",
       "\n",
       "    .dataframe tbody tr th {\n",
       "        vertical-align: top;\n",
       "    }\n",
       "\n",
       "    .dataframe thead th {\n",
       "        text-align: right;\n",
       "    }\n",
       "</style>\n",
       "<table border=\"1\" class=\"dataframe\">\n",
       "  <thead>\n",
       "    <tr style=\"text-align: right;\">\n",
       "      <th></th>\n",
       "      <th>count</th>\n",
       "      <th>mean</th>\n",
       "      <th>median</th>\n",
       "      <th>sum</th>\n",
       "    </tr>\n",
       "    <tr>\n",
       "      <th>session_date</th>\n",
       "      <th></th>\n",
       "      <th></th>\n",
       "      <th></th>\n",
       "      <th></th>\n",
       "    </tr>\n",
       "  </thead>\n",
       "  <tbody>\n",
       "    <tr>\n",
       "      <th>1</th>\n",
       "      <td>966</td>\n",
       "      <td>422.580745</td>\n",
       "      <td>397.5</td>\n",
       "      <td>408213.0</td>\n",
       "    </tr>\n",
       "    <tr>\n",
       "      <th>2</th>\n",
       "      <td>2263</td>\n",
       "      <td>422.601856</td>\n",
       "      <td>394.0</td>\n",
       "      <td>956348.0</td>\n",
       "    </tr>\n",
       "    <tr>\n",
       "      <th>3</th>\n",
       "      <td>4262</td>\n",
       "      <td>425.612389</td>\n",
       "      <td>401.5</td>\n",
       "      <td>1813960.0</td>\n",
       "    </tr>\n",
       "    <tr>\n",
       "      <th>4</th>\n",
       "      <td>5692</td>\n",
       "      <td>427.988580</td>\n",
       "      <td>402.0</td>\n",
       "      <td>2436111.0</td>\n",
       "    </tr>\n",
       "    <tr>\n",
       "      <th>5</th>\n",
       "      <td>8209</td>\n",
       "      <td>430.002802</td>\n",
       "      <td>405.0</td>\n",
       "      <td>3529893.0</td>\n",
       "    </tr>\n",
       "    <tr>\n",
       "      <th>6</th>\n",
       "      <td>9656</td>\n",
       "      <td>433.385460</td>\n",
       "      <td>405.0</td>\n",
       "      <td>4184770.0</td>\n",
       "    </tr>\n",
       "    <tr>\n",
       "      <th>7</th>\n",
       "      <td>11788</td>\n",
       "      <td>427.154649</td>\n",
       "      <td>402.0</td>\n",
       "      <td>5035299.0</td>\n",
       "    </tr>\n",
       "    <tr>\n",
       "      <th>8</th>\n",
       "      <td>14009</td>\n",
       "      <td>428.662003</td>\n",
       "      <td>404.0</td>\n",
       "      <td>6005126.0</td>\n",
       "    </tr>\n",
       "    <tr>\n",
       "      <th>9</th>\n",
       "      <td>15198</td>\n",
       "      <td>424.722398</td>\n",
       "      <td>399.0</td>\n",
       "      <td>6454931.0</td>\n",
       "    </tr>\n",
       "    <tr>\n",
       "      <th>10</th>\n",
       "      <td>17367</td>\n",
       "      <td>426.138884</td>\n",
       "      <td>400.0</td>\n",
       "      <td>7400754.0</td>\n",
       "    </tr>\n",
       "    <tr>\n",
       "      <th>11</th>\n",
       "      <td>18910</td>\n",
       "      <td>423.048757</td>\n",
       "      <td>399.0</td>\n",
       "      <td>7999852.0</td>\n",
       "    </tr>\n",
       "    <tr>\n",
       "      <th>12</th>\n",
       "      <td>21478</td>\n",
       "      <td>425.747369</td>\n",
       "      <td>398.0</td>\n",
       "      <td>9144202.0</td>\n",
       "    </tr>\n",
       "  </tbody>\n",
       "</table>\n",
       "</div>"
      ],
      "text/plain": [
       "              count        mean  median        sum\n",
       "session_date                                      \n",
       "1               966  422.580745   397.5   408213.0\n",
       "2              2263  422.601856   394.0   956348.0\n",
       "3              4262  425.612389   401.5  1813960.0\n",
       "4              5692  427.988580   402.0  2436111.0\n",
       "5              8209  430.002802   405.0  3529893.0\n",
       "6              9656  433.385460   405.0  4184770.0\n",
       "7             11788  427.154649   402.0  5035299.0\n",
       "8             14009  428.662003   404.0  6005126.0\n",
       "9             15198  424.722398   399.0  6454931.0\n",
       "10            17367  426.138884   400.0  7400754.0\n",
       "11            18910  423.048757   399.0  7999852.0\n",
       "12            21478  425.747369   398.0  9144202.0"
      ]
     },
     "metadata": {},
     "output_type": "display_data"
    },
    {
     "data": {
      "image/png": "[encoded data removed]",
      "text/plain": [
       "<Figure size 432x288 with 1 Axes>"
      ]
     },
     "metadata": {
      "needs_background": "light"
     },
     "output_type": "display_data"
    }
   ],
   "source": [
    "display(internet.pivot_table(index=internet['session_date'].dt.month, \n",
    "                             values='mb_used',\n",
    "                             aggfunc=('count', 'sum', 'mean', 'median')))\n",
    "\n",
    "internet.pivot_table(index=internet['session_date'].dt.month, \n",
    "                     values='session_date',\n",
    "                     aggfunc=('count')).plot(kind=\"bar\", grid=True)\n",
    "plt.title('Количество интернет-сессий')\n",
    "plt.ylabel('Количество интернет-сессий, шт.')\n",
    "plt.xlabel('Месяц');"
   ]
  },
  {
   "cell_type": "markdown",
   "metadata": {},
   "source": [
    "**СМС**"
   ]
  },
  {
   "cell_type": "code",
   "execution_count": 13,
   "metadata": {},
   "outputs": [
    {
     "data": {
      "text/html": [
       "<div>\n",
       "<style scoped>\n",
       "    .dataframe tbody tr th:only-of-type {\n",
       "        vertical-align: middle;\n",
       "    }\n",
       "\n",
       "    .dataframe tbody tr th {\n",
       "        vertical-align: top;\n",
       "    }\n",
       "\n",
       "    .dataframe thead th {\n",
       "        text-align: right;\n",
       "    }\n",
       "</style>\n",
       "<table border=\"1\" class=\"dataframe\">\n",
       "  <thead>\n",
       "    <tr style=\"text-align: right;\">\n",
       "      <th></th>\n",
       "      <th>id</th>\n",
       "    </tr>\n",
       "    <tr>\n",
       "      <th>message_date</th>\n",
       "      <th></th>\n",
       "    </tr>\n",
       "  </thead>\n",
       "  <tbody>\n",
       "    <tr>\n",
       "      <th>1</th>\n",
       "      <td>924</td>\n",
       "    </tr>\n",
       "    <tr>\n",
       "      <th>2</th>\n",
       "      <td>1924</td>\n",
       "    </tr>\n",
       "    <tr>\n",
       "      <th>3</th>\n",
       "      <td>3648</td>\n",
       "    </tr>\n",
       "    <tr>\n",
       "      <th>4</th>\n",
       "      <td>5179</td>\n",
       "    </tr>\n",
       "    <tr>\n",
       "      <th>5</th>\n",
       "      <td>7298</td>\n",
       "    </tr>\n",
       "    <tr>\n",
       "      <th>6</th>\n",
       "      <td>8983</td>\n",
       "    </tr>\n",
       "    <tr>\n",
       "      <th>7</th>\n",
       "      <td>11320</td>\n",
       "    </tr>\n",
       "    <tr>\n",
       "      <th>8</th>\n",
       "      <td>13088</td>\n",
       "    </tr>\n",
       "    <tr>\n",
       "      <th>9</th>\n",
       "      <td>14759</td>\n",
       "    </tr>\n",
       "    <tr>\n",
       "      <th>10</th>\n",
       "      <td>17114</td>\n",
       "    </tr>\n",
       "    <tr>\n",
       "      <th>11</th>\n",
       "      <td>18244</td>\n",
       "    </tr>\n",
       "    <tr>\n",
       "      <th>12</th>\n",
       "      <td>20555</td>\n",
       "    </tr>\n",
       "  </tbody>\n",
       "</table>\n",
       "</div>"
      ],
      "text/plain": [
       "                 id\n",
       "message_date       \n",
       "1               924\n",
       "2              1924\n",
       "3              3648\n",
       "4              5179\n",
       "5              7298\n",
       "6              8983\n",
       "7             11320\n",
       "8             13088\n",
       "9             14759\n",
       "10            17114\n",
       "11            18244\n",
       "12            20555"
      ]
     },
     "metadata": {},
     "output_type": "display_data"
    },
    {
     "data": {
      "image/png": "[encoded data removed]",
      "text/plain": [
       "<Figure size 432x288 with 1 Axes>"
      ]
     },
     "metadata": {
      "needs_background": "light"
     },
     "output_type": "display_data"
    }
   ],
   "source": [
    "display(messages.pivot_table(index=messages['message_date'].dt.month,\n",
    "                             values='id',\n",
    "                             aggfunc=('count')))\n",
    "\n",
    "messages.pivot_table(index=messages['message_date'].dt.month, \n",
    "                     values='message_date', \n",
    "                     aggfunc=('count')).plot(kind=\"bar\", grid=True, legend=False)\n",
    "plt.title('Количество СМС')\n",
    "plt.ylabel('Количество, шт.')\n",
    "plt.xlabel('Месяц');"
   ]
  },
  {
   "cell_type": "markdown",
   "metadata": {},
   "source": [
    "Видно почти линейный рост количества звонков, интернет-сессий и СМС в течении года."
   ]
  },
  {
   "cell_type": "markdown",
   "metadata": {},
   "source": [
    "Проверим количество уникальных пользователей, совершавших звонки в каждом месяце"
   ]
  },
  {
   "cell_type": "code",
   "execution_count": 14,
   "metadata": {},
   "outputs": [
    {
     "name": "stdout",
     "output_type": "stream",
     "text": [
      "call_month\n",
      "1      42\n",
      "2      81\n",
      "3     114\n",
      "4     164\n",
      "5     205\n",
      "6     244\n",
      "7     288\n",
      "8     336\n",
      "9     369\n",
      "10    411\n",
      "11    444\n",
      "12    470\n",
      "Name: user_id, dtype: int64\n"
     ]
    },
    {
     "data": {
      "image/png": "[encoded data removed]",
      "text/plain": [
       "<Figure size 432x288 with 1 Axes>"
      ]
     },
     "metadata": {
      "needs_background": "light"
     },
     "output_type": "display_data"
    }
   ],
   "source": [
    "calls['call_month']=calls['call_date'].dt.month #добавляем столбец с месяцем\n",
    "print(calls.groupby('call_month')['user_id'].nunique())\n",
    "calls.groupby('call_month')['user_id'].nunique().plot(\n",
    "    kind='bar', grid=True);\n",
    "plt.title('количество звонивших абонентов')\n",
    "plt.ylabel('Количество, чел.')\n",
    "plt.xlabel('Месяц');"
   ]
  },
  {
   "cell_type": "code",
   "execution_count": null,
   "metadata": {},
   "outputs": [],
   "source": [
    "(calls.sort_values(by='call_month', ascending=False).reset_index(drop=True).style\n",
    "                                        .bar(subset=['user_id'], color='#97F0AA', vmin=0, width=100)\n",
    "                                        .set_caption('Данные по количеству совершенных полетов по каждой модели самолета')\n",
    ")"
   ]
  },
  {
   "cell_type": "markdown",
   "metadata": {},
   "source": [
    "Количество абонентов тарифных планов «Смарт» и «Ультра» ежемесячно увеличивается.  \n",
    "Это объясняет линейный рост количественных показателей (звонков, интернет-сессий и СМС) в течении года. "
   ]
  },
  {
   "cell_type": "code",
   "execution_count": null,
   "metadata": {},
   "outputs": [],
   "source": [
    "users[users['tariff']=='smart']['reg_date'].dt.month.plot(kind='hist', y='reg_date', color='lime', \n",
    " histtype='step', linewidth=2, bins=12, range=(1, 12), label='подключено smart', legend=True)\n",
    "users[users['tariff']=='ultra']['reg_date'].dt.month.plot(kind='hist', y='reg_date', color='gold',\n",
    " histtype='step', linewidth=2, bins=12, range=(1, 12), label='подключено ultra', legend=True)\n",
    "users[users['tariff']=='smart']['churn_date'].dt.month.plot(kind='hist', y='reg_date', color='green',\n",
    " histtype='step', bins=12, range=(1, 12), label='отключено smart', legend=True)\n",
    "users[users['tariff']=='ultra']['churn_date'].dt.month.plot(kind='hist', y='reg_date', color='orange',\n",
    " histtype='step', bins=12, range=(1, 12), label='отключено ultra', legend=True, ylim=(0, 54));\n",
    "plt.title(\"количество подключений и отключений тарифов по месяцам\") \n",
    "plt.ylabel(\"Количество, шт.\")\n",
    "plt.xlabel(\"Месяц\");"
   ]
  },
  {
   "cell_type": "markdown",
   "metadata": {},
   "source": [
    "\n",
    "<div class=\"alert alert-block alert-success\">\n",
    "<b>Success:</b> Отличная визуализация, хоть и оформленна не совсем по стандартам."
   ]
  },
  {
   "cell_type": "code",
   "execution_count": null,
   "metadata": {},
   "outputs": [],
   "source": [
    "тут"
   ]
  },
  {
   "cell_type": "markdown",
   "metadata": {},
   "source": [
    "<a name=\"312\"></a>\n",
    "#### Данные по пользователям - количество звонков, израсходованных минут, смс, Гб траффика\n",
    "**Количество звонков**"
   ]
  },
  {
   "cell_type": "code",
   "execution_count": null,
   "metadata": {},
   "outputs": [],
   "source": [
    "calls_count=calls.pivot_table(\n",
    "    index='user_id', columns='call_month', values='duration', aggfunc=('count'))\n",
    "# NaT в churn_date обозначает что клиент не отказался от тарифа на конец 2018г.\n",
    "end_2018=pd.datetime.strptime('2018-12-31', '%Y-%m-%d') #31 декабря 2018г\n",
    "users['churn_date']=users['churn_date'].fillna(end_2018) # Заполним пропуски концом исследуемого периода\n",
    "#выделим тарифы user_id и даты регистрации/отключения в отдельный df\n",
    "user_id_tariff=users.loc[:, ['user_id', 'tariff', 'reg_date', 'churn_date']]\n",
    "display(calls_count.head(3))"
   ]
  },
  {
   "cell_type": "markdown",
   "metadata": {},
   "source": [
    "<a name=\"pre_1_5\"></a>\n",
    "**Количество израсходованных минут**"
   ]
  },
  {
   "cell_type": "code",
   "execution_count": null,
   "metadata": {
    "scrolled": true
   },
   "outputs": [],
   "source": [
    "calls_sum=calls.pivot_table(index='user_id', columns='call_month', values='duration', aggfunc=('sum')).reset_index()\n",
    "#добавим тариф. how ='left' добавит строки не звонивших в течении всего года \n",
    "calls_sum=pd.merge(user_id_tariff, calls_sum, how ='left', on ='user_id')\n",
    "calls_sum.set_axis(\n",
    "    ['user_id', 'tariff', 'reg_date', 'churn_date', '1', '2', '3', '4', '5', '6', '7', '8', '9', '10', '11', '12']\n",
    "    , axis='columns', inplace=True)\n",
    "display(calls_sum.head(3))"
   ]
  },
  {
   "cell_type": "markdown",
   "metadata": {},
   "source": [
    "<div class=\"alert alert-info\" role=\"alert\">\n",
    "Что-то не разобрался как можно построить общую гистограмму по значениям 12 столбцов для такой сводной таблицы. Поэтому собираю её значения в один столбец.  \n",
    "    \n",
    "Можно было сразу сгруппировать pivot_table(index=('user_id', 'call_month'), values='duration', aggfunc=('sum')) в один столбец, но в дальнейшем обрабатываю \"широкие\" pivot_table (как более наглядные) - поэтому везде строю \"широкие\" и потом собираю из них обратно \"узкие\".\n",
    "    \n",
    "Еще можно было посчитать средние значения в месяц по каждому user_id и работать с ними, но насколько я понимаю это более \"грязный\" вариант.\n",
    "</div>"
   ]
  },
  {
   "cell_type": "markdown",
   "metadata": {},
   "source": [
    "<div class=\"alert alert-block alert-warning\">\n",
    "Тут можно было бы смерджить user_id и calls, не делая pivot, а по такой таблице агрегировать"
   ]
  },
  {
   "cell_type": "code",
   "execution_count": null,
   "metadata": {},
   "outputs": [],
   "source": [
    "calls_sum_12=pd.DataFrame() #соберем обратно в один стролбец\n",
    "for col in range (1, 13):\n",
    "    calls_sum_n=calls_sum.loc[:, ['user_id', 'tariff', str(col)]]\n",
    "    calls_sum_n.set_axis(['user_id', 'tariff', 'calls_sum'], axis='columns', inplace=True)\n",
    "    calls_sum_12=calls_sum_12.append(calls_sum_n, ignore_index=True)\n",
    "display(calls_sum_12.loc[5499:5502])"
   ]
  },
  {
   "cell_type": "code",
   "execution_count": null,
   "metadata": {},
   "outputs": [],
   "source": [
    "#строим распределение суммы звонков в месяц по году\n",
    "calls_sum_12.hist(column='calls_sum', bins=15, range=(0, 1500), edgecolor = 'black')\n",
    "calls_sum_12['calls_sum'].describe()\n",
    "plt.title(\"Распределение количества звонков\"); \n",
    "plt.ylabel(\"Количество пользователей, чел.\")\n",
    "plt.xlabel(\"Количество звонков, шт.\")\n",
    "\n",
    "#строим распределение суммы звонков в месяц помесячно\n",
    "calls_sum.loc[:, ['1', '2', '3', '5', '7', '9']].hist(bins=15, range=(0, 1500), edgecolor = 'black');"
   ]
  },
  {
   "cell_type": "markdown",
   "metadata": {},
   "source": [
    "В начале года новые клиенты (совершающие звонки не с начала месяца) заметно влияют на суммарную продолжительность разговоров. Начиная с марта, а также по году отчетливо виден пик в районе 400-500 минут."
   ]
  },
  {
   "cell_type": "markdown",
   "metadata": {},
   "source": [
    "<a name=\"pre_1_6\"></a>\n",
    "**Количество израсходованных СМС**"
   ]
  },
  {
   "cell_type": "code",
   "execution_count": null,
   "metadata": {
    "scrolled": false
   },
   "outputs": [],
   "source": [
    "messages['message_month']=messages['message_date'].dt.month #добавляем столбец с месяцем\n",
    "messages_count=messages.pivot_table(index='user_id', columns='message_month', values='id', aggfunc=('count')).reset_index()\n",
    "#добавим тариф. how ='left' добавит строки не отправлявших СМС \n",
    "messages_count=pd.merge(user_id_tariff, messages_count, how ='left', on ='user_id')\n",
    "messages_count.set_axis(\n",
    "    ['user_id', 'tariff', 'reg_date', 'churn_date', '1', '2', '3', '4', '5', '6', '7', '8', '9', '10', '11', '12']\n",
    "    , axis='columns', inplace=True)\n",
    "display(messages_count.head(10))\n",
    "\n",
    "messages_count_12=pd.DataFrame() #соберем обратно в один стролбец\n",
    "for col in range (1, 13):\n",
    "    messages_count_n=messages_count.loc[:, ['user_id', 'tariff', str(col)]]\n",
    "    messages_count_n.set_axis(['user_id', 'tariff', 'messages_count'], axis='columns', inplace=True)\n",
    "    messages_count_12=messages_count_12.append(messages_count_n, ignore_index=True)\n",
    "# display(messages_count_12.loc[5499:5502])\n",
    "display(messages_count_12.head(10))"
   ]
  },
  {
   "cell_type": "markdown",
   "metadata": {},
   "source": [
    "<div class=\"alert alert-block alert-warning\">\n",
    "<b>Remarks:</b>\n",
    "    \n",
    "если я правильн опонял идею - в `messages_count_12` должна лежать сумма сооббщений каждого пользователя (аналогично с остальными таблицами). не выйдет сразу записать сумму в последний столбец? чтобы была стрктура вида \"id - tariff - count_sum\"?"
   ]
  },
  {
   "cell_type": "markdown",
   "metadata": {},
   "source": [
    "<div class=\"alert alert-block alert-info\">\n",
    "<b>Fixed:</b> \n",
    "Изначально была именно такая идея (или среднее в месяц), но в дальнейшем необходимо помесячно анализировать разные показатели (минуты, СМС, Мб) для разных пользователей и такой подход не подошел.  \n",
    "    \n",
    "В `messages_count_12` сумма сообщений по каждому пользователю отдельно по каждому из 12 месяцев + NaN для месяцев до подключения/после отключения и 0 в месяцы когда пользователь просто не отправлял СМС\n",
    "</div>"
   ]
  },
  {
   "cell_type": "markdown",
   "metadata": {},
   "source": [
    "<a name=\"pre_1_8\"></a>\n",
    "**Количество израсходованных Мб**"
   ]
  },
  {
   "cell_type": "code",
   "execution_count": null,
   "metadata": {
    "scrolled": true
   },
   "outputs": [],
   "source": [
    "internet['session_month']=internet['session_date'].dt.month #добавляем столбец с месяцем\n",
    "internet_mb_sum=internet.pivot_table(index='user_id', columns='session_month', values='mb_used', aggfunc=('sum')).reset_index()\n",
    "#добавим тариф. how ='left' добавит строки не пользовавшихся мобильным интернетом в течении года \n",
    "internet_mb_sum=pd.merge(user_id_tariff, internet_mb_sum, how ='left', on ='user_id')\n",
    "internet_mb_sum.set_axis(\n",
    "    ['user_id', 'tariff', 'reg_date', 'churn_date', '1', '2', '3', '4', '5', '6', '7', '8', '9', '10', '11', '12']\n",
    "    , axis='columns', inplace=True)\n",
    "display(internet_mb_sum.head(3))\n",
    "\n",
    "internet_mb_sum_12=pd.DataFrame() #соберем обратно в один стролбец\n",
    "for col in range (1, 13):\n",
    "    internet_mb_sum_n=internet_mb_sum.loc[:, ['user_id', 'tariff', str(col)]]\n",
    "    internet_mb_sum_n.set_axis(['user_id', 'tariff', 'internet_mb_sum'], axis='columns', inplace=True)\n",
    "    internet_mb_sum_12=internet_mb_sum_12.append(internet_mb_sum_n, ignore_index=True)\n",
    "display(internet_mb_sum_12.loc[5499:5502])"
   ]
  },
  {
   "cell_type": "markdown",
   "metadata": {},
   "source": [
    "<a name=\"pre_1_9\"></a>\n",
    "**Количество израсходованных Гб**\n",
    "\n",
    "Включенный в тарифы трафик кратен целым Гб. В случае превышения включенного в тариф (или оплаченного пакета) трафика происходит автоматическое подключение и оплата пакета = 1 Гб. Таким образом интернет-трафик (включенный и превышенный) можно учитывать кратно 1 Гб с округлением в большую сторону."
   ]
  },
  {
   "cell_type": "code",
   "execution_count": null,
   "metadata": {},
   "outputs": [],
   "source": [
    "internet_gb_sum=internet_mb_sum.copy(deep=True)\n",
    "for col in list(internet_gb_sum.loc[:, '1':'12']):\n",
    "    internet_gb_sum[col]=np.ceil(internet_gb_sum[col]/1024) #Считаем  кол-во Гб и округляем\n",
    "display(internet_gb_sum.head(3))    "
   ]
  },
  {
   "cell_type": "markdown",
   "metadata": {},
   "source": [
    "**Поправим информацию о тарифах**"
   ]
  },
  {
   "cell_type": "code",
   "execution_count": null,
   "metadata": {},
   "outputs": [],
   "source": [
    "#добавим столбец с количеством включенных гигабайт\n",
    "tariffs['gb_per_month_included']=tariffs['mb_per_month_included']/1024\n",
    "#установим названия тарифов в качестве индексов\n",
    "display(tariffs)\n",
    "tariffs=tariffs.set_index('tariff_name')\n",
    "display(tariffs)\n",
    "tariffs.index.name = None\n",
    "display(tariffs)"
   ]
  },
  {
   "cell_type": "markdown",
   "metadata": {},
   "source": [
    "<a name=\"32\"></a>\n",
    "### Подсчет выручки по месяцам"
   ]
  },
  {
   "cell_type": "code",
   "execution_count": null,
   "metadata": {},
   "outputs": [],
   "source": [
    "#блок обрабатывает таблицы значений по месяцам\n",
    "#parametr='minutes_included'               #столбец тарифа с количеством включенных минут, СМС, гигабайт\n",
    "#parametr2='rub_per_minute'                #столбец тарифа с ценой минуты, СМС, гигабайта сверх лимита\n",
    "def month_pay(row):                        #функция получает строку\n",
    "    _tar=row['tariff']                     #\"выдергиваем# тариф\n",
    "    _included=tariffs.loc[_tar, parametr]  #количество включенных минут/СМС/гигабайт соответствующего тарифа\n",
    "    _rub=tariffs.loc[_tar, parametr2]      #стоимость превышения минут/СМС/гигабайт для соответствующего тарифа\n",
    "    _in=row['reg_date'].month              #месяц подключения (int)\n",
    "    _out=row['churn_date'].month           #месяц отключения (int)\n",
    "    _z=row[str(col)]                       #проверяемое значение (str)\n",
    "    try:\n",
    "        if _in<=col and col<=_out:         #если месяц между регистрацией и отключением (int)\n",
    "            if _z<=_included or _z!=_z:    #если лимит не превышен или не было звонков, СМС, использования интернета (NaN)\n",
    "                _z=0                       #дополнительная плата не взымается (присваиваем 0)\n",
    "            else:                          #иначе\n",
    "                _z=(_z-_included)*_rub     #превышение считаем по тарифу\n",
    "        else:                              #момент до регистрации/после отключения\n",
    "            if _z==_z:                     #в ячейке не NaN\n",
    "                return 'ошибка дат'\n",
    "        return _z            \n",
    "    except:\n",
    "        return 'error z' "
   ]
  },
  {
   "cell_type": "markdown",
   "metadata": {},
   "source": [
    "\n",
    "<div class=\"alert alert-block alert-success\">\n",
    "<b>Success:</b> Очень хорошая автоматизация. Аннотации к функциям гораздо удобнее писать в начале, а не к каждой строке, используя докстринги."
   ]
  },
  {
   "cell_type": "markdown",
   "metadata": {},
   "source": [
    "**Подсчет выручки за звонки по месяцам**"
   ]
  },
  {
   "cell_type": "code",
   "execution_count": null,
   "metadata": {},
   "outputs": [],
   "source": [
    "calls_pay=calls_sum.copy(deep=True)\n",
    "parametr='minutes_included'                                  #столбец тарифа с количеством включенных минут\n",
    "parametr2='rub_per_minute'                                   #столбец тарифа с ценой минуты сверх лимита\n",
    "for col in range (1, 13):                                    #для столбцов суммарных значений по месяцам\n",
    "    calls_pay[str(col)]=calls_pay.apply(month_pay, axis=1)   #применяем функцию\n",
    "calls_pay=calls_pay.set_index('user_id')                     #устанавливаем user_id в качестве индекса\n",
    "calls_pay.index.name = None\n",
    "display(calls_pay.head(3))"
   ]
  },
  {
   "cell_type": "code",
   "execution_count": null,
   "metadata": {},
   "outputs": [],
   "source": [
    "calls_pay_12=pd.DataFrame() #соберем обратно в один стролбец\n",
    "for col in range (1, 13):\n",
    "    calls_pay_n=calls_pay.loc[:, ['tariff', str(col)]]\n",
    "    calls_pay_n.set_axis(['tariff', 'calls_pay'], axis='columns', inplace=True)\n",
    "    calls_pay_12=calls_pay_12.append(calls_pay_n, ignore_index=True)\n",
    "display(calls_pay_12.loc[5499:5502])"
   ]
  },
  {
   "cell_type": "markdown",
   "metadata": {},
   "source": [
    "**Подсчет выручки за СМС по месяцам**"
   ]
  },
  {
   "cell_type": "code",
   "execution_count": null,
   "metadata": {},
   "outputs": [],
   "source": [
    "messages_pay=messages_count.copy(deep=True)\n",
    "parametr='messages_included'                                    #столбец тарифа с количеством включенных СМС\n",
    "parametr2='rub_per_message'                                     #столбец тарифа с ценой СМС сверх лимита\n",
    "for col in range (1, 13):                                       #для столбцов суммарных значений по месяцам\n",
    "    messages_pay[str(col)]=messages_pay.apply(month_pay, axis=1)#применяем функцию\n",
    "messages_pay=messages_pay.set_index('user_id')                  #устанавливаем user_id в качестве индекса\n",
    "messages_pay.index.name = None\n",
    "display(messages_pay.head(3))"
   ]
  },
  {
   "cell_type": "code",
   "execution_count": null,
   "metadata": {},
   "outputs": [],
   "source": [
    "messages_pay_12=pd.DataFrame() #соберем обратно в один стролбец\n",
    "for col in range (1, 13):\n",
    "    messages_pay_n=messages_pay.loc[:, ['tariff', str(col)]]\n",
    "    messages_pay_n.set_axis(['tariff', 'messages_pay'], axis='columns', inplace=True)\n",
    "    messages_pay_12=messages_pay_12.append(messages_pay_n, ignore_index=True)\n",
    "display(messages_pay_12.loc[5499:5502])"
   ]
  },
  {
   "cell_type": "markdown",
   "metadata": {},
   "source": [
    "**Подсчет выручки за трафик по месяцам**"
   ]
  },
  {
   "cell_type": "code",
   "execution_count": null,
   "metadata": {},
   "outputs": [],
   "source": [
    "internet_pay=internet_gb_sum.copy(deep=True)\n",
    "parametr='gb_per_month_included'                                   #столбец тарифа с количеством включенных гигабайт\n",
    "parametr2='rub_per_gb'                                             #столбец тарифа с ценой гигабайта сверх лимита\n",
    "for col in range (1, 13):                                          #для столбцов суммарных значений по месяцам\n",
    "    internet_pay[str(col)]=internet_gb_sum.apply(month_pay, axis=1)#применяем функцию\n",
    "internet_pay=internet_pay.set_index('user_id')                     #устанавливаем user_id в качестве индекса\n",
    "internet_pay.index.name = None\n",
    "display(internet_pay.head(3))"
   ]
  },
  {
   "cell_type": "code",
   "execution_count": null,
   "metadata": {},
   "outputs": [],
   "source": [
    "internet_pay_12=pd.DataFrame() #соберем обратно в один стролбец\n",
    "for col in range (1, 13):\n",
    "    internet_pay_n=internet_pay.loc[:, ['tariff', str(col)]]\n",
    "    internet_pay_n.set_axis(['tariff', 'internet_pay'], axis='columns', inplace=True)\n",
    "    internet_pay_12=internet_pay_12.append(internet_pay_n, ignore_index=True)\n",
    "display(internet_pay_12.loc[5499:5502])"
   ]
  },
  {
   "cell_type": "markdown",
   "metadata": {},
   "source": [
    "<a name=\"33\"></a>\n",
    "### Подсчет абонентской платы"
   ]
  },
  {
   "cell_type": "code",
   "execution_count": null,
   "metadata": {},
   "outputs": [],
   "source": [
    "def month_abonent_pay(row):                                             #функция получает строку\n",
    "    _tar=row['tariff']                                                  #\"выдергиваем тариф\"\n",
    "    _rub=tariffs.loc[_tar, 'rub_monthly_fee']                           #абонентская плата соответствующего тарифа\n",
    "    try:\n",
    "        if row['reg_date'].month<=col and col<=row['churn_date'].month: #если месяц в нужном диапазоне\n",
    "            return _rub                                                 #считаем абонентскую плату\n",
    "    except:\n",
    "        return 'error _rub'    \n",
    "\n"
   ]
  },
  {
   "cell_type": "markdown",
   "metadata": {},
   "source": [
    "**Абонентская плата по месяцам"
   ]
  },
  {
   "cell_type": "code",
   "execution_count": null,
   "metadata": {
    "scrolled": true
   },
   "outputs": [],
   "source": [
    "abonent_pay=users.copy(deep=True)\n",
    "\n",
    "for col in range (1, 13):                                               #для каждого из 12 месяцев\n",
    "    abonent_pay[str(col)]=abonent_pay.apply(month_abonent_pay, axis=1)  #применяем функцию\n",
    "\n",
    "abonent_pay=abonent_pay.set_index('user_id')                            #устанавливаем user_id в качестве индекса\n",
    "abonent_pay.index.name = None\n",
    "\n",
    "display(abonent_pay.head(3))"
   ]
  },
  {
   "cell_type": "markdown",
   "metadata": {},
   "source": [
    "**Подсчет суммарной выручки по месяцам.**"
   ]
  },
  {
   "cell_type": "code",
   "execution_count": null,
   "metadata": {},
   "outputs": [],
   "source": [
    "total_pay=calls_pay.loc[:, '1':'12']+messages_pay.loc[:, '1':'12']+internet_pay.loc[:, '1':'12']+abonent_pay.loc[:, '1':'12']\n",
    "#добавим столбец 'user_id'\n",
    "total_pay['user_id']=total_pay.index\n",
    "#добавим тариф и город\n",
    "total_pay=pd.merge(users.loc[:, ['user_id', 'city', 'tariff']], total_pay, how ='left', on ='user_id')\n",
    "display(total_pay.head(10))"
   ]
  },
  {
   "cell_type": "code",
   "execution_count": null,
   "metadata": {},
   "outputs": [],
   "source": [
    "total_pay_12=pd.DataFrame() #соберем обратно в один стролбец\n",
    "for col in range (1, 13):\n",
    "    total_pay_n=total_pay.loc[:, ['user_id', 'city', 'tariff', str(col)]]\n",
    "    total_pay_n.set_axis(['user_id', 'city', 'tariff', 'total_pay'], axis='columns', inplace=True)\n",
    "    total_pay_12=total_pay_12.append(total_pay_n, ignore_index=True)\n",
    "display(total_pay_12.loc[5499:5502])"
   ]
  },
  {
   "cell_type": "markdown",
   "metadata": {},
   "source": [
    "<div class=\"alert alert-block alert-warning\">\n",
    "<b>Remarks:</b> хоть мне и кажется, что подход с созданием таких датасетов чрезмерене, с задачей ты справился. однако каждый раз используется аналогичный код. Было бы здорово такие задачи автоматизировать"
   ]
  },
  {
   "cell_type": "markdown",
   "metadata": {},
   "source": [
    "<div class=\"alert alert-block alert-info\">\n",
    "<b>Fixed:</b> \n",
    "Согласен. Сейчас выбрал бы более простую последовательность действий для обработки данных, и вижу как можно было автоматизировать мой подход. \n",
    "</div>"
   ]
  },
  {
   "cell_type": "markdown",
   "metadata": {},
   "source": [
    "<a name=\"Analysis\"></a>\n",
    "## Анализ данных\n",
    "Опишите поведение клиентов оператора, исходя из выборки. Сколько минут разговора, сколько сообщений и какой объём интернет-трафика требуется пользователям каждого тарифа в месяц? Посчитайте среднее количество, дисперсию и стандартное отклонение. Постройте гистограммы. Опишите распределения."
   ]
  },
  {
   "cell_type": "markdown",
   "metadata": {},
   "source": [
    "<a name=\"Analysis_1\"></a>\n",
    "### Суммарная выручка Москва / не Москва"
   ]
  },
  {
   "cell_type": "code",
   "execution_count": null,
   "metadata": {
    "scrolled": true
   },
   "outputs": [],
   "source": [
    "region_total_pay_12=total_pay_12.copy(deep=True)\n",
    "\n",
    "region_total_pay_12['city']=region_total_pay_12['city'].where(\n",
    "    region_total_pay_12['city']=='Москва', 'Не Москва') \n",
    "\n",
    "region_total_pay_12.groupby('city')['total_pay'].plot(kind='hist', y='total_pay', histtype='step',\n",
    "    linewidth=2, bins=14, range=(500, 4000), density=True, title='Распределение суммарной выручка в месяц', legend=True)\n",
    "\n",
    "plt.ylabel(\"Доля пользователей тарифа\")\n",
    "plt.xlabel(\"Выручка, руб.\")\n",
    "\n",
    "region_total_pay_12.groupby('city')['total_pay'].describe()"
   ]
  },
  {
   "cell_type": "markdown",
   "metadata": {},
   "source": [
    "\n",
    "<div class=\"alert alert-block alert-success\">\n",
    "<b>Success:</b> Очень хорошо"
   ]
  },
  {
   "cell_type": "markdown",
   "metadata": {},
   "source": [
    "Видны явные пики в районе абонентской платы обозначающие что большинство пользователей не выходят за рамки включенных в тариф минут/СМС/Мб. Также видно что доля smart (первый пик) и ultra (второй пик) для москвы и регионов различается."
   ]
  },
  {
   "cell_type": "markdown",
   "metadata": {},
   "source": [
    "<a name=\"Analysis_2\"></a>\n",
    "### Количество и средняя выручка по тарифам Москав / не Москва"
   ]
  },
  {
   "cell_type": "code",
   "execution_count": null,
   "metadata": {
    "scrolled": true
   },
   "outputs": [],
   "source": [
    "region_total_pay_12.pivot_table(\n",
    "    index=('city', 'tariff'), values='total_pay', aggfunc=('count', 'mean',))"
   ]
  },
  {
   "cell_type": "code",
   "execution_count": null,
   "metadata": {},
   "outputs": [],
   "source": [
    "region_total_pay_12.query('city==\"Москва\" and total_pay>=0')['tariff'].value_counts().plot.pie(\n",
    "    figsize=(3, 3), title='Соотношение тарифов пользователей в Москве', autopct='%.1f')\n",
    "plt.ylabel(\"Тариф\")\n",
    "plt.show()\n",
    "region_total_pay_12.query('city!=\"Москва\" and total_pay>=0')['tariff'].value_counts().plot.pie(\n",
    "    figsize=(3, 3), title='Соотношение тарифов пользователей в регионах', autopct='%.1f')\n",
    "plt.ylabel(\"Тариф\");"
   ]
  },
  {
   "cell_type": "markdown",
   "metadata": {},
   "source": [
    "В Москве бОльшая доля пользователей тарифа ultra чем в регионах.  \n",
    "Средний платеж по каждому тарифу для Москвы почти не отличается от других регионов."
   ]
  },
  {
   "cell_type": "markdown",
   "metadata": {},
   "source": [
    "<div class=\"alert alert-info\" role=\"alert\">\n",
    "Можно выводить plot одной строкой после groupby (как выше), но для такого варианта не сообразил как назначить цвета линий (а хочется smart - зеленый, ultra - золотой) - поэтому дальше вывожу двумя plot. Комментарии не пишу - всё однотипно.\n",
    "</div>"
   ]
  },
  {
   "cell_type": "markdown",
   "metadata": {},
   "source": [
    "<div class=\"alert alert-block alert-warning\">\n",
    "<b>Remarks:</b> опять же, однотипно - значит следует автоматизировать :)"
   ]
  },
  {
   "cell_type": "markdown",
   "metadata": {},
   "source": [
    "<a name=\"Analysis_3\"></a>\n",
    "### Сравнение smart / ultra"
   ]
  },
  {
   "cell_type": "markdown",
   "metadata": {},
   "source": [
    "#### Суммарная выручка smart / ultra"
   ]
  },
  {
   "cell_type": "code",
   "execution_count": null,
   "metadata": {
    "scrolled": true
   },
   "outputs": [],
   "source": [
    "p_smart=total_pay_12.reset_index().query('tariff==\"smart\"')\n",
    "p_ultra=total_pay_12.reset_index().query('tariff==\"ultra\"')\n",
    "\n",
    "ax=p_smart.plot(kind='hist', y='total_pay', color='lime', histtype='step', linewidth=2, \n",
    "    bins=14, range=(500, 4000), density=True, label='Выручка в месяц smart', legend=True)\n",
    "p_ultra.plot(kind='hist', y='total_pay', color='gold', histtype='step', linewidth=2, \n",
    "    bins=14, range=(500, 4000), density=True, label='Выручка в месяц ultra', legend=True, ax=ax)\n",
    "plt.title(\"Распределение суммарной выручки smart / ultra\"); \n",
    "plt.ylabel(\"Доля пользователей тарифа\")\n",
    "plt.xlabel(\"Выручка, руб.\");\n",
    "total_pay_12.groupby('tariff')['total_pay'].describe()"
   ]
  },
  {
   "cell_type": "markdown",
   "metadata": {},
   "source": [
    "<a name=\"Analysis_4\"></a>\n",
    "#### Минут smart / ultra"
   ]
  },
  {
   "cell_type": "code",
   "execution_count": null,
   "metadata": {
    "scrolled": true
   },
   "outputs": [],
   "source": [
    "с_smart=calls_sum_12.query('tariff==\"smart\"')\n",
    "с_ultra=calls_sum_12.query('tariff==\"ultra\"')\n",
    "ax=с_smart.plot(kind='hist', y='calls_sum', color='lime', histtype='step', linewidth=2, \n",
    "        bins=15, range=(0, 1500), density=True, label='Минут в месяц smart', legend=True)\n",
    "с_ultra.plot(kind='hist', y='calls_sum', color='gold', histtype='step', linewidth=2, \n",
    "        bins=15, range=(0, 1500), density=True, label='Минут в месяц ultra', legend=True, ax=ax)\n",
    "plt.title(\"Распределение количества минут разговоров в месяц smart / ultra\"); \n",
    "plt.ylabel(\"Доля пользователей тарифа\")\n",
    "plt.xlabel(\"Продолжительность разговоров в месяц, мин.\");\n",
    "calls_sum_12.groupby('tariff')['calls_sum'].describe()"
   ]
  },
  {
   "cell_type": "code",
   "execution_count": null,
   "metadata": {},
   "outputs": [],
   "source": [
    "for _tarif in tariffs.index:\n",
    "    print(_tarif, 'минуты')\n",
    "    \n",
    "    print('Среднее количество минут для тарифа', _tarif, ': {:.0f} минут'.format(\n",
    "        calls_sum_12[calls_sum_12['tariff']==_tarif]['calls_sum'].mean()))   \n",
    "    \n",
    "    print('Дисперсия для тарифа', _tarif, ': {:.0f} квадратных минут'.format(\n",
    "        np.var(calls_sum_12[calls_sum_12['tariff']==_tarif]['calls_sum'], ddof=1)))\n",
    "    \n",
    "    print('Стандартное отклонение для тарифа', _tarif, ': {:.0f} минут'.format(\n",
    "        np.std(calls_sum_12[calls_sum_12['tariff']==_tarif]['calls_sum'], ddof=1)))"
   ]
  },
  {
   "cell_type": "markdown",
   "metadata": {},
   "source": [
    "<a name=\"Analysis_5\"></a>\n",
    "#### Выручка за звонки smart / ultra"
   ]
  },
  {
   "cell_type": "code",
   "execution_count": null,
   "metadata": {},
   "outputs": [],
   "source": [
    "cp_smart=calls_pay_12.reset_index().query('tariff==\"smart\"')\n",
    "cp_ultra=calls_pay_12.reset_index().query('tariff==\"ultra\"')\n",
    "\n",
    "ax=cp_smart.plot(kind='hist', y='calls_pay', color='lime', histtype='step', linewidth=2, \n",
    "    bins=20, range=(1, 1001), label='Выручка за звонки в месяц smart', legend=True)\n",
    "cp_ultra.plot(kind='hist', y='calls_pay', color='gold', histtype='step', linewidth=2, \n",
    "    bins=20, range=(1, 1001), label='Выручка за звонки в месяц ultra', legend=True, ax=ax)\n",
    "plt.title(\"Распределение суммарной выручки за звонки smart / ultra\"); \n",
    "plt.ylabel(\"Доля пользователей тарифа\")\n",
    "plt.xlabel(\"Выручка, руб.\");\n",
    "calls_pay_12.groupby('tariff')['calls_pay'].describe()"
   ]
  },
  {
   "cell_type": "markdown",
   "metadata": {},
   "source": [
    "<a name=\"Analysis_6\"></a>\n",
    "#### СМС smart / ultra"
   ]
  },
  {
   "cell_type": "code",
   "execution_count": null,
   "metadata": {},
   "outputs": [],
   "source": [
    "m_smart=messages_count_12.query('tariff==\"smart\"')\n",
    "m_ultra=messages_count_12.query('tariff==\"ultra\"')\n",
    "ax=m_smart.plot(kind='hist', y='messages_count', color='lime', histtype='step', linewidth=2, \n",
    "        bins=13, range=(0, 260), density=True, label='СМС в месяц smart', legend=True)\n",
    "m_ultra.plot(kind='hist', y='messages_count', color='gold', histtype='step', linewidth=2, \n",
    "        bins=13, range=(0, 260), density=True, label='СМС в месяц ultra', legend=True, ax=ax)\n",
    "plt.title(\"Распределение количества СМС в месяц smart / ultra\"); \n",
    "plt.ylabel(\"Доля пользователей тарифа\")\n",
    "plt.xlabel(\"Количество СМС в месяц, шт.\");\n",
    "messages_count_12.groupby('tariff')['messages_count'].describe()"
   ]
  },
  {
   "cell_type": "code",
   "execution_count": null,
   "metadata": {
    "scrolled": true
   },
   "outputs": [],
   "source": [
    "for _tarif in tariffs.index:\n",
    "    print(_tarif, 'СМС')\n",
    "    \n",
    "    print('Среднее количество сообщений для тарифа', _tarif, ': {:.0f} шт.'.format(\n",
    "        messages_count_12[messages_count_12['tariff']==_tarif]['messages_count'].mean())) \n",
    "    \n",
    "    print('Дисперсия для тарифа', _tarif, ': {:.0f} квадратных сообщений'.format(\n",
    "        np.var(messages_count_12[messages_count_12['tariff']==_tarif]['messages_count'], ddof=1)))\n",
    "    \n",
    "    print('Стандартное отклонение для тарифа', _tarif, ': {:.0f} сообщений'.format(\n",
    "        np.std(messages_count_12[messages_count_12['tariff']==_tarif]['messages_count'], ddof=1)))"
   ]
  },
  {
   "cell_type": "markdown",
   "metadata": {},
   "source": [
    "<a name=\"Analysis_7\"></a>\n",
    "#### Выручка за СМС smart / ultra"
   ]
  },
  {
   "cell_type": "code",
   "execution_count": null,
   "metadata": {},
   "outputs": [],
   "source": [
    "mp_smart=messages_pay_12.reset_index().query('tariff==\"smart\"')\n",
    "mp_ultra=messages_pay_12.reset_index().query('tariff==\"ultra\"')\n",
    "\n",
    "ax=mp_smart.plot(kind='hist', y='messages_pay', color='lime', histtype='step', linewidth=2, \n",
    "    bins=15, range=(1, 301), label='Выручка за СМС в месяц smart', legend=True)\n",
    "mp_ultra.plot(kind='hist', y='messages_pay', color='gold', histtype='step', linewidth=2, \n",
    "    bins=15, range=(1, 301), label='Выручка за СМС в месяц ultra', legend=True, ax=ax)\n",
    "plt.title(\"Распределение суммарной выручки за СМС smart / ultra\"); \n",
    "plt.ylabel(\"Доля пользователей тарифа\")\n",
    "plt.xlabel(\"Выручка, руб.\");\n",
    "messages_pay_12.groupby('tariff')['messages_pay'].describe()"
   ]
  },
  {
   "cell_type": "markdown",
   "metadata": {},
   "source": [
    "<a name=\"Analysis_8\"></a>\n",
    "#### Трафик smart / ultra"
   ]
  },
  {
   "cell_type": "code",
   "execution_count": null,
   "metadata": {},
   "outputs": [],
   "source": [
    "i_smart=internet_mb_sum_12.query('tariff==\"smart\"')\n",
    "i_ultra=internet_mb_sum_12.query('tariff==\"ultra\"')\n",
    "ax=i_smart.plot(kind='hist', y='internet_mb_sum', color='lime', histtype='step', linewidth=2, \n",
    "        bins=16, range=(0, 48000), density=True, label='Мб в месяц smart', legend=True)\n",
    "i_ultra.plot(kind='hist', y='internet_mb_sum', color='gold', histtype='step', linewidth=2, \n",
    "        bins=16, range=(0, 48000), density=True, label='Мб в месяц ultra', legend=True, ax=ax);\n",
    "plt.title(\"Распределение интернет-трафика в месяц smart / ultra\"); \n",
    "plt.ylabel(\"Доля пользователей тарифа\")\n",
    "plt.xlabel(\"Трафик в месяц, Мб\");\n",
    "internet_mb_sum_12.groupby('tariff')['internet_mb_sum'].describe()"
   ]
  },
  {
   "cell_type": "code",
   "execution_count": null,
   "metadata": {},
   "outputs": [],
   "source": [
    "for _tarif in tariffs.index:\n",
    "    print(_tarif, 'трафик')\n",
    "    \n",
    "    print('Средний трафик для тарифа', _tarif, ': {:.0f} Мб.'.format(\n",
    "        internet_mb_sum_12[internet_mb_sum_12['tariff']==_tarif]['internet_mb_sum'].mean())) \n",
    "    \n",
    "    print('Дисперсия для тарифа', _tarif, ': {:.0f} квадратных Мб'.format(np.var(\n",
    "        internet_mb_sum_12[internet_mb_sum_12['tariff']==_tarif]['internet_mb_sum'], ddof=1)))\n",
    "    \n",
    "    print('Стандартное отклонение для тарифа', _tarif, ': {:.0f} Мб'.format(np.std(\n",
    "        internet_mb_sum_12[internet_mb_sum_12['tariff']==_tarif]['internet_mb_sum'], ddof=1)))"
   ]
  },
  {
   "cell_type": "markdown",
   "metadata": {},
   "source": [
    "<a name=\"Analysis_9\"></a>\n",
    "#### Выручка за трафик smart / ultra"
   ]
  },
  {
   "cell_type": "code",
   "execution_count": null,
   "metadata": {
    "scrolled": true
   },
   "outputs": [],
   "source": [
    "ip_smart=internet_pay_12.reset_index().query('tariff==\"smart\"')\n",
    "ip_ultra=internet_pay_12.reset_index().query('tariff==\"ultra\"')\n",
    "\n",
    "ax=ip_smart.plot(kind='hist', y='internet_pay', color='lime', histtype='step', linewidth=2, \n",
    "    bins=20, range=(1, 4001), label='Выручка за трафик в месяц smart', legend=True)\n",
    "ip_ultra.plot(kind='hist', y='internet_pay', color='gold', histtype='step', linewidth=2, \n",
    "    bins=20, range=(1, 4001), label='Выручка за трафик в месяц ultra', legend=True, ax=ax)\n",
    "plt.title(\"Распределение суммарной выручки за интернет-трафик smart / ultra\"); \n",
    "plt.ylabel(\"Доля пользователей тарифа\")\n",
    "plt.xlabel(\"Выручка, руб.\");\n",
    "internet_pay_12.groupby('tariff')['internet_pay'].describe()"
   ]
  },
  {
   "cell_type": "markdown",
   "metadata": {},
   "source": [
    "<a name=\"Table\"></a>\n",
    "#### Сравнительная таблица тарифов"
   ]
  },
  {
   "cell_type": "markdown",
   "metadata": {},
   "source": [
    "Исходя из выборки имеем следующие показатели для тарифов:  \n",
    "\n",
    "Характеристика | Тариф | smart | ultra\n",
    "--- |--- | --- | ---\n",
    "Минуты |Среднее количество минут | 419 | 548\n",
    " |Стандартное отклонение | 189 | 306\n",
    " |Включено в тариф | 500 мин. | 3000 мин.\n",
    " |Укладываются в лимит | более половины | все\n",
    " |Средняя плата за превышение | 125 руб. | 0 руб.\n",
    "--- |--- | --- | ---\n",
    "Сообщения |Среднее количество сообщений | 39 | 61 \n",
    " |Стандартное отклонение | 27 | 46\n",
    " |Включено в тариф | 50 | 1000\n",
    " |Укладываются в лимит | большинство | все\n",
    " |Средняя плата за превышение | 17 руб. | 0 руб.\n",
    "--- |--- | --- | ---\n",
    "Трафик |Средний трафик Мб | 16244 | 19707 \n",
    " |Стандартное отклонение | 5860 | 9937\n",
    " |Включено в тариф | 15360 Мб | 30720 Мб\n",
    " |Укладываются в лимит | меньше половины | большинство\n",
    " |Средняя плата за превышение | 602 руб. | 121 руб.\n",
    "--- |--- | --- | ---\n",
    "Абонентская плата | Ежемесячная плата | 550 руб. | 1950 руб.  \n",
    "--- --- --- |--- --- --- | --- --- --- | --- --- ---\n",
    "**Итого:** | **Средняя выручка всего** | **1294 руб.** | **2071 руб.** \n",
    "\n",
    "Распределения нормальные. Экстремальные значения в пределах разумного.\n",
    "БОльшая часть пользователей используют включенные в тариф услуги или незначительно привышают лимит, хотя есть и любители \"поболтать\" (1673 минут в месяц - это почти по часу в день) и СМС-сообщения (224 сообщения в месяц - возможно в бизнес-целях). Заметнее прочего превышение интернет-трафика на тарифе smart (среднее и медианное значения трафика выше включенного пакета)."
   ]
  },
  {
   "cell_type": "markdown",
   "metadata": {},
   "source": [
    "\n",
    "<div class=\"alert alert-block alert-success\">\n",
    "<b>Success:</b> Отличная аналитика! Вот теперь видно, что все преобразования даатфреймов были не зря :)"
   ]
  },
  {
   "cell_type": "markdown",
   "metadata": {},
   "source": [
    "<a name=\"step4\"></a>\n",
    "## Проверка гипотез.\n",
    "\n",
    "    средняя выручка пользователей тарифов «Ультра» и «Смарт» различается;\n",
    "    средняя выручка пользователей из Москвы отличается от выручки пользователей из других регионов;\n",
    "\n",
    "Пороговое значение alpha задайте самостоятельно.\n",
    "Поясните:\n",
    "\n",
    "    как вы формулировали нулевую и альтернативную гипотезы;\n",
    "    какой критерий использовали для проверки гипотез и почему."
   ]
  },
  {
   "cell_type": "markdown",
   "metadata": {},
   "source": [
    "<a name=\"step4_1\"></a>\n",
    "### Проверим различается ли средняя выручка для тарифов «Ультра» и «Смарт»\n",
    "\n",
    "Сформулируем нулевую гипотезу следующим образом: средняя выручка тарифа ultra и тарифа smart равны.\n",
    "Тогда альтернативная гипотеза будет звучать как: средняя выручка тарифа ultra отличается от средней выручки тарифа smart."
   ]
  },
  {
   "cell_type": "code",
   "execution_count": null,
   "metadata": {
    "scrolled": true
   },
   "outputs": [],
   "source": [
    "alpha = .05\n",
    "\n",
    "results = st.ttest_ind(p_smart['total_pay'].dropna(), p_ultra['total_pay'].dropna(), \n",
    "                       equal_var = False) #т.к. дисперсии для тарифов различны\n",
    "\n",
    "print('p-значение:', results.pvalue)\n",
    "\n",
    "if (results.pvalue < alpha):\n",
    "    print(\"Отвергаем нулевую гипотезу\")\n",
    "else:\n",
    "    print(\"Не получилось отвергнуть нулевую гипотезу\")"
   ]
  },
  {
   "cell_type": "markdown",
   "metadata": {},
   "source": [
    "Средняя выручка тарифа ultra и тарифа smart отличаются с ОЧЕНЬ БОЛЬШОЙ вероятностью. Случайность такого вывода почти невозможна."
   ]
  },
  {
   "cell_type": "markdown",
   "metadata": {},
   "source": [
    "<a name=\"step4_2\"></a>\n",
    "### Проверим различается ли средняя выручка для Москвы и других городов\n",
    "\n",
    "Сформулируем нулевую гипотезу следующим образом: средняя выручка пользователей из Москвы и пользователей из других регионов равны.\n",
    "Тогда альтернативная гипотеза будет звучать как: средняя выручка пользователей из Москвы отличается от выручки пользователей из других регионов."
   ]
  },
  {
   "cell_type": "code",
   "execution_count": null,
   "metadata": {},
   "outputs": [],
   "source": [
    "alpha = .05\n",
    "\n",
    "\n",
    "moscow_total_pay_12=region_total_pay_12.query('city==\"Москва\" and total_pay>=0')\n",
    "another_total_pay_12=region_total_pay_12.query('city==\"Не Москва\" and total_pay>=0')\n",
    "\n",
    "#лучше перестрахуемся и посчитаем разницу между стандартными отклонениями (752 и 810) значительной.\n",
    "results = st.ttest_ind(moscow_total_pay_12['total_pay'], another_total_pay_12['total_pay'], equal_var = False) \n",
    "\n",
    "\n",
    "print('p-значение:', results.pvalue)\n",
    "\n",
    "if (results.pvalue < alpha):\n",
    "    print(\"Отвергаем нулевую гипотезу\")\n",
    "else:\n",
    "    print(\"Не получилось отвергнуть нулевую гипотезу\")"
   ]
  },
  {
   "cell_type": "markdown",
   "metadata": {},
   "source": [
    "Не смотря на то что нулевая гипотеза не отвергнута на основании выборки утверждать что либо нельзя.\n",
    "Средняя выручка пользователей из Москвы и пользователей из других регионов могут оказаться близки или значительно отличаться."
   ]
  },
  {
   "cell_type": "markdown",
   "metadata": {},
   "source": [
    "\n",
    "<div class=\"alert alert-block alert-success\">\n",
    "<b>Success:</b> Гипотезы проработаны корректно"
   ]
  },
  {
   "cell_type": "markdown",
   "metadata": {},
   "source": [
    "<a name=\"End\"></a>\n",
    "## Общий вывод"
   ]
  },
  {
   "cell_type": "markdown",
   "metadata": {},
   "source": [
    "Однозначно определить какой тариф лучше нельзя. Тариф ultra (хоть и приносит больше выручки) изначально ориентирован на более активных и состоятельных пользователей. У тарифа smart больше абонентов.\n",
    "\n",
    "Сравнительная таблица тарифов по ссылке:\n",
    "[Сравнительная таблица тарифов](#Table)\n",
    "\n",
    "Графики распределений доступны по ссылкам:\n",
    "* [Суммарная выручка Москва / не Москва](#Analysis_1)\n",
    "* [Количество и средняя выручка по тарифам Москав / не Москва](#Analysis_2)\n",
    "* [Суммарная выручка smart / ultra](#Analysis_3)  \n",
    "* [Звонки](#Analysis_4)  \n",
    " * [Минут smart / ultra](#Analysis_4)  \n",
    " * [Выручка за звонки smart / ultra](#Analysis_5)  \n",
    "* [СМС](#Analysis_6)       \n",
    " * [Количество СМС smart / ultra](#Analysis_6)  \n",
    " * [Выручка за СМС smart / ultra](#Analysis_7)  \n",
    "* [Интернет-трафик smart / ultra](#Analysis_8)       \n",
    " * [Трафик smart / ultra](#Analysis_8)  \n",
    " * [Выручка за трафик smart / ultra](#Analysis_9)  \n",
    "\n",
    "Гипотеза \"средняя выручка тарифа ultra отличается от средней выручки тарифа smart\" подтверждена.\n",
    "Гипотеза \"средняя выручка пользователей из Москвы отличается от выручки пользователей из других регионов\" не подтверждена - необходима другая формулировка или больше данных.\n",
    "\n",
    "В Москве бОльшая доля пользователей тарифа ultra чем в регионах.  \n",
    "Средний платеж по каждому тарифу для Москвы почти не отличается от других регионов.\n",
    "\n",
    "Наиболее перспективная точка роста - интернет-трафик. "
   ]
  },
  {
   "cell_type": "markdown",
   "metadata": {},
   "source": [
    "\n",
    "<div class=\"alert alert-block alert-warning\">\n",
    "<b>Remarks:</b> Общий вывод - резюме работы. Следует писать его так, чтоы ни один инсайд не прошел мимо :) Да и большинство заказчиков начинают (а многие и заканчивают) читать исследование именно с общего вывода."
   ]
  },
  {
   "cell_type": "markdown",
   "metadata": {},
   "source": [
    "Спасибо за замечания - все серьезные поправил, остальные буду увитыать в дальнейшем."
   ]
  }
 ],
 "metadata": {
  "kernelspec": {
   "display_name": "Python 3",
   "language": "python",
   "name": "python3"
  },
  "language_info": {
   "codemirror_mode": {
    "name": "ipython",
    "version": 3
   },
   "file_extension": ".py",
   "mimetype": "text/x-python",
   "name": "python",
   "nbconvert_exporter": "python",
   "pygments_lexer": "ipython3",
   "version": "3.8.5"
  },
  "toc": {
   "base_numbering": 1,
   "nav_menu": {
    "height": "591px",
    "width": "476px"
   },
   "number_sections": true,
   "sideBar": true,
   "skip_h1_title": true,
   "title_cell": "Table of Contents",
   "title_sidebar": "Contents",
   "toc_cell": false,
   "toc_position": {
    "height": "calc(100% - 180px)",
    "left": "10px",
    "top": "150px",
    "width": "384px"
   },
   "toc_section_display": true,
   "toc_window_display": true
  }
 },
 "nbformat": 4,
 "nbformat_minor": 2
}
