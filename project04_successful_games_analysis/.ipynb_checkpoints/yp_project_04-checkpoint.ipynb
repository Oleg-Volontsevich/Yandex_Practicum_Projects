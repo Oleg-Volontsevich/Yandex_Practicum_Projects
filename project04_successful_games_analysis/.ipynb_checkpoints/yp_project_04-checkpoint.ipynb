{
 "cells": [
  {
   "cell_type": "markdown",
   "metadata": {},
   "source": [
    "|  |  |  |\n",
    "| ---: | :--- | :--- |\n",
    "| Проект:| Сборный проект - 1 | 04 |\n",
    "| Срок обучения на момент сдачи: | 2 месяца |\n",
    "В связи с тем, что GitHub отображает не весь функционал Jupyter Notebook, просмотр доступен в nbviewer по [ссылке](https://nbviewer.jupyter.org/github/Oleg-Volontsevich/Yandex_Practicum_Projects/blob/master/project04_successful_games_analysis/yp_project_04.ipynb).\n",
    "\n",
    "# Анализ успешности компьютерных игр\n",
    "\n",
    "Вы работаете в интернет-магазине «Стримчик», который продаёт по всему миру компьютерные игры. Из открытых источников доступны исторические данные о продажах игр, оценки пользователей и экспертов, жанры и платформы (например, Xbox или PlayStation). Вам нужно выявить определяющие успешность игры закономерности. Это позволит сделать ставку на потенциально популярный продукт и спланировать рекламные кампании.\n",
    "Перед вами данные до 2016 года. Представим, что сейчас декабрь 2016 г., и вы планируете кампанию на 2017-й. Нужно отработать принцип работы с данными. Неважно, прогнозируете ли вы продажи на 2017 год по данным 2016-го или же 2027-й — по данным 2026 года."
   ]
  },
  {
   "cell_type": "markdown",
   "metadata": {},
   "source": [
    "<a name=\"plan\"></a>\n",
    "# План:  \n",
    "1. [Изучение общей информации. Импорт библиотек, определение проблем.](#s1)  \n",
    "2. [Подготовка данных.](#s2)  \n",
    "3. [Исследовательский анализ данных.](#s3)  \n",
    "*  [Выпуск игр по годам и их продажи.](#s3)  \n",
    "*  [Изменение популярности жанров с течением времени.](#s3_2)  \n",
    "*  [\"Рождение\" и \"смерть\" платформы.](#s3_3)  \n",
    "*  [Продажи и релизы разных платформ по годам релиза. ТОП 2008-2016.](#s3_4)  \n",
    "*  [Продажи игр по платформе.](#s3_5)  \n",
    "*  [Зависимость отзывов и продаж.](#s3_6)  \n",
    "*  [Успешность игр в зависимости от жанров.](#s3_7)\n",
    "\n",
    "[Портрет пользователя каждого региона.](#s4)    \n",
    "*  [Самые популярные платформы.](#s4)    \n",
    "*  [Самые популярные жанры.](#s4_2)    \n",
    "*  [Рейтинг ESRB и продажи в регионах.](#s4_3)    \n",
    "\n",
    "[Проверка гипотез.](#s5)  \n",
    "[Общий вывод.](#s6)  "
   ]
  },
  {
   "cell_type": "markdown",
   "metadata": {},
   "source": [
    "<a name=\"1\"></a>\n",
    "## Вводные данные\n",
    "\n",
    "<a name=\"11\"></a>\n",
    "### Описание данных\n",
    "\n",
    "* Name — название игры\n",
    "* Platform — платформа\n",
    "* Year_of_Release — год выпуска\n",
    "* Genre — жанр игры\n",
    "* NA_sales — продажи в Северной Америке (миллионы проданных копий)\n",
    "* EU_sales — продажи в Европе (миллионы проданных копий)\n",
    "* JP_sales — продажи в Японии (миллионы проданных копий)\n",
    "* Other_sales — продажи в других странах (миллионы проданных копий)\n",
    "* Critic_Score — оценка критиков (максимум 100)\n",
    "* User_Score — оценка пользователей (максимум 10)\n",
    "* Rating — рейтинг от организации ESRB (возрастная категория).\n",
    "\n",
    "В наборе данных попадается аббревиатура ESRB (Entertainment Software Rating Board) — это ассоциация, определяющая возрастной рейтинг компьютерных игр. ESRB оценивает игровой контент и присваивает ему подходящую возрастную категорию, например, «Для взрослых», «Для детей младшего возраста» или «Для подростков»."
   ]
  },
  {
   "cell_type": "markdown",
   "metadata": {},
   "source": [
    "<a name=\"12\"></a>\n",
    "### Инструкция по выполнению проекта\n",
    "\n",
    "*В этом проекте задачи сформулированы в виде подробной инструкции.*\n",
    "\n",
    "Шаг 1. Откройте файл с данными и изучите общую информацию\n",
    "\n",
    "Шаг 2. Подготовьте данные\n",
    "\n",
    "Шаг 3. Проведите исследовательский анализ данных\n",
    "\n",
    "*    Посмотрите, сколько игр выпускалось в разные годы. Важны ли данные за все периоды?\n",
    "*    Посмотрите, как менялись продажи по платформам. Выберите платформы с наибольшими суммарными продажами и постройте распределение по годам. За какой характерный срок появляются новые и исчезают старые платформы?\n",
    "*    Возьмите данные за соответствующий актуальный период. Актуальный период определите самостоятельно в результате исследования предыдущих вопросов. Основной фактор — эти данные помогут построить прогноз на 2017 год. Не учитывайте в работе данные за предыдущие годы.\n",
    "*    Какие платформы лидируют по продажам, растут или падают? Выберите несколько потенциально прибыльных платформ.\n",
    "*    Постройте график «ящик с усами» по глобальным продажам игр в разбивке по платформам. Опишите результат.\n",
    "*    Посмотрите, как влияют на продажи внутри одной популярной платформы отзывы пользователей и критиков. Постройте диаграмму рассеяния и посчитайте корреляцию между отзывами и продажами. Сформулируйте выводы.\n",
    "*    Соотнесите выводы с продажами игр на других платформах.\n",
    "*    Посмотрите на общее распределение игр по жанрам. Что можно сказать о самых прибыльных жанрах? Выделяются ли жанры с высокими и низкими продажами?\n",
    "\n",
    "Шаг 4. Составьте портрет пользователя каждого региона\n",
    "Определите для пользователя каждого региона (NA, EU, JP):\n",
    "\n",
    "*    Самые популярные платформы (топ-5). Опишите различия в долях продаж.\n",
    "*    Самые популярные жанры (топ-5). Поясните разницу.\n",
    "*    Влияет ли рейтинг ESRB на продажи в отдельном регионе?\n",
    "\n",
    "Шаг 5. Проверьте гипотезы\n",
    "\n",
    "*    Средние пользовательские рейтинги платформ Xbox One и PC одинаковые;\n",
    "*    Средние пользовательские рейтинги жанров Action и Sports разные.\n",
    "\n",
    "Задайте самостоятельно пороговое значение alpha.\n",
    "Поясните:\n",
    "\n",
    "*    Как вы сформулировали нулевую и альтернативную гипотезы;\n",
    "*    Какой критерий применили для проверки гипотез и почему.\n",
    "\n",
    "Шаг 6. Напишите общий вывод"
   ]
  },
  {
   "cell_type": "markdown",
   "metadata": {},
   "source": [
    "<a name=\"2\"></a>\n",
    "## Изучение данных, определение проблем."
   ]
  },
  {
   "cell_type": "code",
   "execution_count": 1,
   "metadata": {},
   "outputs": [],
   "source": [
    "import pandas as pd\n",
    "import numpy as np\n",
    "import matplotlib.pyplot as plt\n",
    "from scipy import stats as st\n",
    "from IPython.display import display\n",
    "import seaborn as sns\n",
    "#np.warnings.filterwarnings('ignore', category=np.VisibleDeprecationWarning) \n",
    "#pd.set_option('mode.chained_assignment', None) #отключим предупреждения после проверки что всё работает как надо"
   ]
  },
  {
   "cell_type": "code",
   "execution_count": 2,
   "metadata": {},
   "outputs": [],
   "source": [
    "data = pd.read_csv('games.csv')"
   ]
  },
  {
   "cell_type": "code",
   "execution_count": 3,
   "metadata": {},
   "outputs": [
    {
     "name": "stdout",
     "output_type": "stream",
     "text": [
      "<class 'pandas.core.frame.DataFrame'>\n",
      "RangeIndex: 16715 entries, 0 to 16714\n",
      "Data columns (total 11 columns):\n",
      " #   Column           Non-Null Count  Dtype  \n",
      "---  ------           --------------  -----  \n",
      " 0   Name             16713 non-null  object \n",
      " 1   Platform         16715 non-null  object \n",
      " 2   Year_of_Release  16446 non-null  float64\n",
      " 3   Genre            16713 non-null  object \n",
      " 4   NA_sales         16715 non-null  float64\n",
      " 5   EU_sales         16715 non-null  float64\n",
      " 6   JP_sales         16715 non-null  float64\n",
      " 7   Other_sales      16715 non-null  float64\n",
      " 8   Critic_Score     8137 non-null   float64\n",
      " 9   User_Score       10014 non-null  object \n",
      " 10  Rating           9949 non-null   object \n",
      "dtypes: float64(6), object(5)\n",
      "memory usage: 1.4+ MB\n"
     ]
    },
    {
     "data": {
      "text/html": [
       "<div>\n",
       "<style scoped>\n",
       "    .dataframe tbody tr th:only-of-type {\n",
       "        vertical-align: middle;\n",
       "    }\n",
       "\n",
       "    .dataframe tbody tr th {\n",
       "        vertical-align: top;\n",
       "    }\n",
       "\n",
       "    .dataframe thead th {\n",
       "        text-align: right;\n",
       "    }\n",
       "</style>\n",
       "<table border=\"1\" class=\"dataframe\">\n",
       "  <thead>\n",
       "    <tr style=\"text-align: right;\">\n",
       "      <th></th>\n",
       "      <th>Name</th>\n",
       "      <th>Platform</th>\n",
       "      <th>Year_of_Release</th>\n",
       "      <th>Genre</th>\n",
       "      <th>NA_sales</th>\n",
       "      <th>EU_sales</th>\n",
       "      <th>JP_sales</th>\n",
       "      <th>Other_sales</th>\n",
       "      <th>Critic_Score</th>\n",
       "      <th>User_Score</th>\n",
       "      <th>Rating</th>\n",
       "    </tr>\n",
       "  </thead>\n",
       "  <tbody>\n",
       "    <tr>\n",
       "      <th>0</th>\n",
       "      <td>Wii Sports</td>\n",
       "      <td>Wii</td>\n",
       "      <td>2006.0</td>\n",
       "      <td>Sports</td>\n",
       "      <td>41.36</td>\n",
       "      <td>28.96</td>\n",
       "      <td>3.77</td>\n",
       "      <td>8.45</td>\n",
       "      <td>76.0</td>\n",
       "      <td>8</td>\n",
       "      <td>E</td>\n",
       "    </tr>\n",
       "    <tr>\n",
       "      <th>1</th>\n",
       "      <td>Super Mario Bros.</td>\n",
       "      <td>NES</td>\n",
       "      <td>1985.0</td>\n",
       "      <td>Platform</td>\n",
       "      <td>29.08</td>\n",
       "      <td>3.58</td>\n",
       "      <td>6.81</td>\n",
       "      <td>0.77</td>\n",
       "      <td>NaN</td>\n",
       "      <td>NaN</td>\n",
       "      <td>NaN</td>\n",
       "    </tr>\n",
       "    <tr>\n",
       "      <th>2</th>\n",
       "      <td>Mario Kart Wii</td>\n",
       "      <td>Wii</td>\n",
       "      <td>2008.0</td>\n",
       "      <td>Racing</td>\n",
       "      <td>15.68</td>\n",
       "      <td>12.76</td>\n",
       "      <td>3.79</td>\n",
       "      <td>3.29</td>\n",
       "      <td>82.0</td>\n",
       "      <td>8.3</td>\n",
       "      <td>E</td>\n",
       "    </tr>\n",
       "    <tr>\n",
       "      <th>3</th>\n",
       "      <td>Wii Sports Resort</td>\n",
       "      <td>Wii</td>\n",
       "      <td>2009.0</td>\n",
       "      <td>Sports</td>\n",
       "      <td>15.61</td>\n",
       "      <td>10.93</td>\n",
       "      <td>3.28</td>\n",
       "      <td>2.95</td>\n",
       "      <td>80.0</td>\n",
       "      <td>8</td>\n",
       "      <td>E</td>\n",
       "    </tr>\n",
       "    <tr>\n",
       "      <th>4</th>\n",
       "      <td>Pokemon Red/Pokemon Blue</td>\n",
       "      <td>GB</td>\n",
       "      <td>1996.0</td>\n",
       "      <td>Role-Playing</td>\n",
       "      <td>11.27</td>\n",
       "      <td>8.89</td>\n",
       "      <td>10.22</td>\n",
       "      <td>1.00</td>\n",
       "      <td>NaN</td>\n",
       "      <td>NaN</td>\n",
       "      <td>NaN</td>\n",
       "    </tr>\n",
       "    <tr>\n",
       "      <th>...</th>\n",
       "      <td>...</td>\n",
       "      <td>...</td>\n",
       "      <td>...</td>\n",
       "      <td>...</td>\n",
       "      <td>...</td>\n",
       "      <td>...</td>\n",
       "      <td>...</td>\n",
       "      <td>...</td>\n",
       "      <td>...</td>\n",
       "      <td>...</td>\n",
       "      <td>...</td>\n",
       "    </tr>\n",
       "    <tr>\n",
       "      <th>16710</th>\n",
       "      <td>Samurai Warriors: Sanada Maru</td>\n",
       "      <td>PS3</td>\n",
       "      <td>2016.0</td>\n",
       "      <td>Action</td>\n",
       "      <td>0.00</td>\n",
       "      <td>0.00</td>\n",
       "      <td>0.01</td>\n",
       "      <td>0.00</td>\n",
       "      <td>NaN</td>\n",
       "      <td>NaN</td>\n",
       "      <td>NaN</td>\n",
       "    </tr>\n",
       "    <tr>\n",
       "      <th>16711</th>\n",
       "      <td>LMA Manager 2007</td>\n",
       "      <td>X360</td>\n",
       "      <td>2006.0</td>\n",
       "      <td>Sports</td>\n",
       "      <td>0.00</td>\n",
       "      <td>0.01</td>\n",
       "      <td>0.00</td>\n",
       "      <td>0.00</td>\n",
       "      <td>NaN</td>\n",
       "      <td>NaN</td>\n",
       "      <td>NaN</td>\n",
       "    </tr>\n",
       "    <tr>\n",
       "      <th>16712</th>\n",
       "      <td>Haitaka no Psychedelica</td>\n",
       "      <td>PSV</td>\n",
       "      <td>2016.0</td>\n",
       "      <td>Adventure</td>\n",
       "      <td>0.00</td>\n",
       "      <td>0.00</td>\n",
       "      <td>0.01</td>\n",
       "      <td>0.00</td>\n",
       "      <td>NaN</td>\n",
       "      <td>NaN</td>\n",
       "      <td>NaN</td>\n",
       "    </tr>\n",
       "    <tr>\n",
       "      <th>16713</th>\n",
       "      <td>Spirits &amp; Spells</td>\n",
       "      <td>GBA</td>\n",
       "      <td>2003.0</td>\n",
       "      <td>Platform</td>\n",
       "      <td>0.01</td>\n",
       "      <td>0.00</td>\n",
       "      <td>0.00</td>\n",
       "      <td>0.00</td>\n",
       "      <td>NaN</td>\n",
       "      <td>NaN</td>\n",
       "      <td>NaN</td>\n",
       "    </tr>\n",
       "    <tr>\n",
       "      <th>16714</th>\n",
       "      <td>Winning Post 8 2016</td>\n",
       "      <td>PSV</td>\n",
       "      <td>2016.0</td>\n",
       "      <td>Simulation</td>\n",
       "      <td>0.00</td>\n",
       "      <td>0.00</td>\n",
       "      <td>0.01</td>\n",
       "      <td>0.00</td>\n",
       "      <td>NaN</td>\n",
       "      <td>NaN</td>\n",
       "      <td>NaN</td>\n",
       "    </tr>\n",
       "  </tbody>\n",
       "</table>\n",
       "<p>16715 rows × 11 columns</p>\n",
       "</div>"
      ],
      "text/plain": [
       "                                Name Platform  Year_of_Release         Genre  \\\n",
       "0                         Wii Sports      Wii           2006.0        Sports   \n",
       "1                  Super Mario Bros.      NES           1985.0      Platform   \n",
       "2                     Mario Kart Wii      Wii           2008.0        Racing   \n",
       "3                  Wii Sports Resort      Wii           2009.0        Sports   \n",
       "4           Pokemon Red/Pokemon Blue       GB           1996.0  Role-Playing   \n",
       "...                              ...      ...              ...           ...   \n",
       "16710  Samurai Warriors: Sanada Maru      PS3           2016.0        Action   \n",
       "16711               LMA Manager 2007     X360           2006.0        Sports   \n",
       "16712        Haitaka no Psychedelica      PSV           2016.0     Adventure   \n",
       "16713               Spirits & Spells      GBA           2003.0      Platform   \n",
       "16714            Winning Post 8 2016      PSV           2016.0    Simulation   \n",
       "\n",
       "       NA_sales  EU_sales  JP_sales  Other_sales  Critic_Score User_Score  \\\n",
       "0         41.36     28.96      3.77         8.45          76.0          8   \n",
       "1         29.08      3.58      6.81         0.77           NaN        NaN   \n",
       "2         15.68     12.76      3.79         3.29          82.0        8.3   \n",
       "3         15.61     10.93      3.28         2.95          80.0          8   \n",
       "4         11.27      8.89     10.22         1.00           NaN        NaN   \n",
       "...         ...       ...       ...          ...           ...        ...   \n",
       "16710      0.00      0.00      0.01         0.00           NaN        NaN   \n",
       "16711      0.00      0.01      0.00         0.00           NaN        NaN   \n",
       "16712      0.00      0.00      0.01         0.00           NaN        NaN   \n",
       "16713      0.01      0.00      0.00         0.00           NaN        NaN   \n",
       "16714      0.00      0.00      0.01         0.00           NaN        NaN   \n",
       "\n",
       "      Rating  \n",
       "0          E  \n",
       "1        NaN  \n",
       "2          E  \n",
       "3          E  \n",
       "4        NaN  \n",
       "...      ...  \n",
       "16710    NaN  \n",
       "16711    NaN  \n",
       "16712    NaN  \n",
       "16713    NaN  \n",
       "16714    NaN  \n",
       "\n",
       "[16715 rows x 11 columns]"
      ]
     },
     "metadata": {},
     "output_type": "display_data"
    },
    {
     "data": {
      "text/html": [
       "<div>\n",
       "<style scoped>\n",
       "    .dataframe tbody tr th:only-of-type {\n",
       "        vertical-align: middle;\n",
       "    }\n",
       "\n",
       "    .dataframe tbody tr th {\n",
       "        vertical-align: top;\n",
       "    }\n",
       "\n",
       "    .dataframe thead th {\n",
       "        text-align: right;\n",
       "    }\n",
       "</style>\n",
       "<table border=\"1\" class=\"dataframe\">\n",
       "  <thead>\n",
       "    <tr style=\"text-align: right;\">\n",
       "      <th></th>\n",
       "      <th>Name</th>\n",
       "      <th>Platform</th>\n",
       "      <th>Year_of_Release</th>\n",
       "      <th>Genre</th>\n",
       "      <th>NA_sales</th>\n",
       "      <th>EU_sales</th>\n",
       "      <th>JP_sales</th>\n",
       "      <th>Other_sales</th>\n",
       "      <th>Critic_Score</th>\n",
       "      <th>User_Score</th>\n",
       "      <th>Rating</th>\n",
       "    </tr>\n",
       "  </thead>\n",
       "  <tbody>\n",
       "    <tr>\n",
       "      <th>659</th>\n",
       "      <td>NaN</td>\n",
       "      <td>GEN</td>\n",
       "      <td>1993.0</td>\n",
       "      <td>NaN</td>\n",
       "      <td>1.78</td>\n",
       "      <td>0.53</td>\n",
       "      <td>0.00</td>\n",
       "      <td>0.08</td>\n",
       "      <td>NaN</td>\n",
       "      <td>NaN</td>\n",
       "      <td>NaN</td>\n",
       "    </tr>\n",
       "    <tr>\n",
       "      <th>14244</th>\n",
       "      <td>NaN</td>\n",
       "      <td>GEN</td>\n",
       "      <td>1993.0</td>\n",
       "      <td>NaN</td>\n",
       "      <td>0.00</td>\n",
       "      <td>0.00</td>\n",
       "      <td>0.03</td>\n",
       "      <td>0.00</td>\n",
       "      <td>NaN</td>\n",
       "      <td>NaN</td>\n",
       "      <td>NaN</td>\n",
       "    </tr>\n",
       "  </tbody>\n",
       "</table>\n",
       "</div>"
      ],
      "text/plain": [
       "      Name Platform  Year_of_Release Genre  NA_sales  EU_sales  JP_sales  \\\n",
       "659    NaN      GEN           1993.0   NaN      1.78      0.53      0.00   \n",
       "14244  NaN      GEN           1993.0   NaN      0.00      0.00      0.03   \n",
       "\n",
       "       Other_sales  Critic_Score User_Score Rating  \n",
       "659           0.08           NaN        NaN    NaN  \n",
       "14244         0.00           NaN        NaN    NaN  "
      ]
     },
     "metadata": {},
     "output_type": "display_data"
    },
    {
     "name": "stdout",
     "output_type": "stream",
     "text": [
      "E       3990\n",
      "T       2961\n",
      "M       1563\n",
      "E10+    1420\n",
      "EC         8\n",
      "RP         3\n",
      "K-A        3\n",
      "AO         1\n",
      "Name: Rating, dtype: int64\n"
     ]
    }
   ],
   "source": [
    "data.info()\n",
    "display(data)\n",
    "display(data[data['Name'].isna()])\n",
    "print(data['Rating'].value_counts())"
   ]
  },
  {
   "cell_type": "code",
   "execution_count": 4,
   "metadata": {},
   "outputs": [
    {
     "data": {
      "image/png": "[encoded data removed]",
      "text/plain": [
       "<Figure size 1008x432 with 1 Axes>"
      ]
     },
     "metadata": {
      "needs_background": "light"
     },
     "output_type": "display_data"
    }
   ],
   "source": [
    "data['Critic_Score'].hist(bins=100, range=(0, 100), edgecolor='black',figsize=(14, 6), grid=True, alpha=0.4)\n",
    "plt.title('Распределение оценок критиков', fontsize=20)\n",
    "plt.ylabel('Количество оценок, шт.', fontsize=16)\n",
    "plt.xlabel('Оценка, балл.', fontsize=16);"
   ]
  },
  {
   "cell_type": "code",
   "execution_count": 5,
   "metadata": {},
   "outputs": [
    {
     "name": "stdout",
     "output_type": "stream",
     "text": [
      "count    8137.000000\n",
      "mean       68.967679\n",
      "std        13.938165\n",
      "min        13.000000\n",
      "25%        60.000000\n",
      "50%        71.000000\n",
      "75%        79.000000\n",
      "max        98.000000\n",
      "Name: Critic_Score, dtype: float64\n"
     ]
    }
   ],
   "source": [
    "print(data['Critic_Score'].describe())"
   ]
  },
  {
   "cell_type": "code",
   "execution_count": 6,
   "metadata": {
    "scrolled": false
   },
   "outputs": [
    {
     "data": {
      "image/png": "[encoded data removed]",
      "text/plain": [
       "<Figure size 1008x432 with 1 Axes>"
      ]
     },
     "metadata": {
      "needs_background": "light"
     },
     "output_type": "display_data"
    }
   ],
   "source": [
    "data['NA_sales'].hist(bins=100, range=(0.2, 10), edgecolor='black',figsize=(14, 6), grid=True, alpha=0.4)\n",
    "plt.title('Распределение  игр по количеству проданных копий (Северная Америка)', fontsize=20)\n",
    "plt.ylabel('Частота (количество игр)', fontsize=16)\n",
    "plt.xlabel('Продажи, млн экз.', fontsize=16);"
   ]
  },
  {
   "cell_type": "code",
   "execution_count": 7,
   "metadata": {},
   "outputs": [
    {
     "data": {
      "text/html": [
       "<div>\n",
       "<style scoped>\n",
       "    .dataframe tbody tr th:only-of-type {\n",
       "        vertical-align: middle;\n",
       "    }\n",
       "\n",
       "    .dataframe tbody tr th {\n",
       "        vertical-align: top;\n",
       "    }\n",
       "\n",
       "    .dataframe thead th {\n",
       "        text-align: right;\n",
       "    }\n",
       "</style>\n",
       "<table border=\"1\" class=\"dataframe\">\n",
       "  <thead>\n",
       "    <tr style=\"text-align: right;\">\n",
       "      <th></th>\n",
       "      <th>Name</th>\n",
       "      <th>Platform</th>\n",
       "      <th>Year_of_Release</th>\n",
       "      <th>Genre</th>\n",
       "      <th>NA_sales</th>\n",
       "      <th>EU_sales</th>\n",
       "      <th>JP_sales</th>\n",
       "      <th>Other_sales</th>\n",
       "      <th>Critic_Score</th>\n",
       "      <th>User_Score</th>\n",
       "      <th>Rating</th>\n",
       "    </tr>\n",
       "  </thead>\n",
       "  <tbody>\n",
       "    <tr>\n",
       "      <th>85</th>\n",
       "      <td>The Sims 3</td>\n",
       "      <td>PC</td>\n",
       "      <td>2009.0</td>\n",
       "      <td>Simulation</td>\n",
       "      <td>0.99</td>\n",
       "      <td>6.42</td>\n",
       "      <td>0.00</td>\n",
       "      <td>0.60</td>\n",
       "      <td>86.0</td>\n",
       "      <td>7.6</td>\n",
       "      <td>T</td>\n",
       "    </tr>\n",
       "    <tr>\n",
       "      <th>138</th>\n",
       "      <td>World of Warcraft</td>\n",
       "      <td>PC</td>\n",
       "      <td>2004.0</td>\n",
       "      <td>Role-Playing</td>\n",
       "      <td>0.08</td>\n",
       "      <td>6.21</td>\n",
       "      <td>0.00</td>\n",
       "      <td>0.00</td>\n",
       "      <td>93.0</td>\n",
       "      <td>7.3</td>\n",
       "      <td>T</td>\n",
       "    </tr>\n",
       "    <tr>\n",
       "      <th>192</th>\n",
       "      <td>Diablo III</td>\n",
       "      <td>PC</td>\n",
       "      <td>2012.0</td>\n",
       "      <td>Role-Playing</td>\n",
       "      <td>2.44</td>\n",
       "      <td>2.16</td>\n",
       "      <td>0.00</td>\n",
       "      <td>0.54</td>\n",
       "      <td>88.0</td>\n",
       "      <td>4</td>\n",
       "      <td>M</td>\n",
       "    </tr>\n",
       "    <tr>\n",
       "      <th>195</th>\n",
       "      <td>Microsoft Flight Simulator</td>\n",
       "      <td>PC</td>\n",
       "      <td>1996.0</td>\n",
       "      <td>Simulation</td>\n",
       "      <td>3.22</td>\n",
       "      <td>1.69</td>\n",
       "      <td>0.00</td>\n",
       "      <td>0.20</td>\n",
       "      <td>NaN</td>\n",
       "      <td>NaN</td>\n",
       "      <td>NaN</td>\n",
       "    </tr>\n",
       "    <tr>\n",
       "      <th>218</th>\n",
       "      <td>StarCraft II: Wings of Liberty</td>\n",
       "      <td>PC</td>\n",
       "      <td>2010.0</td>\n",
       "      <td>Strategy</td>\n",
       "      <td>2.57</td>\n",
       "      <td>1.68</td>\n",
       "      <td>0.00</td>\n",
       "      <td>0.58</td>\n",
       "      <td>93.0</td>\n",
       "      <td>8.2</td>\n",
       "      <td>T</td>\n",
       "    </tr>\n",
       "    <tr>\n",
       "      <th>273</th>\n",
       "      <td>Warcraft II: Tides of Darkness</td>\n",
       "      <td>PC</td>\n",
       "      <td>1995.0</td>\n",
       "      <td>Strategy</td>\n",
       "      <td>1.70</td>\n",
       "      <td>2.27</td>\n",
       "      <td>0.00</td>\n",
       "      <td>0.23</td>\n",
       "      <td>NaN</td>\n",
       "      <td>NaN</td>\n",
       "      <td>NaN</td>\n",
       "    </tr>\n",
       "    <tr>\n",
       "      <th>284</th>\n",
       "      <td>Half-Life</td>\n",
       "      <td>PC</td>\n",
       "      <td>1997.0</td>\n",
       "      <td>Shooter</td>\n",
       "      <td>4.03</td>\n",
       "      <td>0.00</td>\n",
       "      <td>0.09</td>\n",
       "      <td>0.00</td>\n",
       "      <td>96.0</td>\n",
       "      <td>9.1</td>\n",
       "      <td>M</td>\n",
       "    </tr>\n",
       "    <tr>\n",
       "      <th>288</th>\n",
       "      <td>World of Warcraft: The Burning Crusade</td>\n",
       "      <td>PC</td>\n",
       "      <td>2007.0</td>\n",
       "      <td>Role-Playing</td>\n",
       "      <td>2.57</td>\n",
       "      <td>1.52</td>\n",
       "      <td>0.00</td>\n",
       "      <td>0.00</td>\n",
       "      <td>91.0</td>\n",
       "      <td>7.9</td>\n",
       "      <td>T</td>\n",
       "    </tr>\n",
       "    <tr>\n",
       "      <th>313</th>\n",
       "      <td>The Elder Scrolls V: Skyrim</td>\n",
       "      <td>PC</td>\n",
       "      <td>2011.0</td>\n",
       "      <td>Role-Playing</td>\n",
       "      <td>1.16</td>\n",
       "      <td>2.12</td>\n",
       "      <td>0.00</td>\n",
       "      <td>0.60</td>\n",
       "      <td>94.0</td>\n",
       "      <td>8.1</td>\n",
       "      <td>M</td>\n",
       "    </tr>\n",
       "    <tr>\n",
       "      <th>330</th>\n",
       "      <td>The Sims: Unleashed</td>\n",
       "      <td>PC</td>\n",
       "      <td>2002.0</td>\n",
       "      <td>Simulation</td>\n",
       "      <td>2.03</td>\n",
       "      <td>1.56</td>\n",
       "      <td>0.00</td>\n",
       "      <td>0.17</td>\n",
       "      <td>79.0</td>\n",
       "      <td>8</td>\n",
       "      <td>T</td>\n",
       "    </tr>\n",
       "  </tbody>\n",
       "</table>\n",
       "</div>"
      ],
      "text/plain": [
       "                                       Name Platform  Year_of_Release  \\\n",
       "85                               The Sims 3       PC           2009.0   \n",
       "138                       World of Warcraft       PC           2004.0   \n",
       "192                              Diablo III       PC           2012.0   \n",
       "195              Microsoft Flight Simulator       PC           1996.0   \n",
       "218          StarCraft II: Wings of Liberty       PC           2010.0   \n",
       "273          Warcraft II: Tides of Darkness       PC           1995.0   \n",
       "284                               Half-Life       PC           1997.0   \n",
       "288  World of Warcraft: The Burning Crusade       PC           2007.0   \n",
       "313             The Elder Scrolls V: Skyrim       PC           2011.0   \n",
       "330                     The Sims: Unleashed       PC           2002.0   \n",
       "\n",
       "            Genre  NA_sales  EU_sales  JP_sales  Other_sales  Critic_Score  \\\n",
       "85     Simulation      0.99      6.42      0.00         0.60          86.0   \n",
       "138  Role-Playing      0.08      6.21      0.00         0.00          93.0   \n",
       "192  Role-Playing      2.44      2.16      0.00         0.54          88.0   \n",
       "195    Simulation      3.22      1.69      0.00         0.20           NaN   \n",
       "218      Strategy      2.57      1.68      0.00         0.58          93.0   \n",
       "273      Strategy      1.70      2.27      0.00         0.23           NaN   \n",
       "284       Shooter      4.03      0.00      0.09         0.00          96.0   \n",
       "288  Role-Playing      2.57      1.52      0.00         0.00          91.0   \n",
       "313  Role-Playing      1.16      2.12      0.00         0.60          94.0   \n",
       "330    Simulation      2.03      1.56      0.00         0.17          79.0   \n",
       "\n",
       "    User_Score Rating  \n",
       "85         7.6      T  \n",
       "138        7.3      T  \n",
       "192          4      M  \n",
       "195        NaN    NaN  \n",
       "218        8.2      T  \n",
       "273        NaN    NaN  \n",
       "284        9.1      M  \n",
       "288        7.9      T  \n",
       "313        8.1      M  \n",
       "330          8      T  "
      ]
     },
     "metadata": {},
     "output_type": "display_data"
    },
    {
     "name": "stdout",
     "output_type": "stream",
     "text": [
      "count    16715.000000\n",
      "mean         0.263377\n",
      "std          0.813604\n",
      "min          0.000000\n",
      "25%          0.000000\n",
      "50%          0.080000\n",
      "75%          0.240000\n",
      "max         41.360000\n",
      "Name: NA_sales, dtype: float64\n"
     ]
    }
   ],
   "source": [
    "display(data.query('Platform==\"PC\"').head(10))\n",
    "print(data['NA_sales'].describe())"
   ]
  },
  {
   "cell_type": "markdown",
   "metadata": {},
   "source": [
    "**Выводы по данным:**\n",
    "\n",
    "* Названия столбцов необходимо привести к нижнему регистру.\n",
    "* В 'Name' и 'Genre' 2 пропуска - можно без проблем удалить.\n",
    "* В 'Platform' 31 значение. 11 \"хвостовых\" (менее 100 строк каждая) дают суммарно 308 строк (менее 2%) - удалить?\n",
    "* Некоторые игры переиздавались (Need for Speed: Most Wanted 2005 года была переиздана для PC и X360 а также новых платформ в 2012-13 г.) - необходимо подумать как это может повлиять на результаты (нужно ли с этим что-то делать).\n",
    "* Годы выпуска: до 1994 менее 100 релизов в год, до 2002 менее 500 релизов в год.\n",
    "* Genre: всё хорошо, 12 жанров.\n",
    "* Sales: лидер продаж (Wii Sports) везде за исключением Японии и Южной Кореи входил в стартовый комплект к приставке. Вероятно есть и другие аналогичные продукты. Необходима дополнительная информация.\n",
    "* В 'Year_of_Release' и 'Critic_Score' тип float можно заменить на int.\n",
    "* Пропуски в годе выпуска могут обозначать что игра еще не вышла (НЕТ). Можно заполнить медианой года по другим платформам.\n",
    "* Critic_Score: шкала от 0 до 100, почти у половины есть оценка. Средняя - 69, медиана 71. Распределение близко к нормальному.\n",
    "* User_Score: шкала от 0.0 до 10.0 Необходимо избавиться от статуса 'tbd' и привести к float. \n",
    "* Rating:   \n",
    "\n",
    "Обозначение | Кол-во | Описание | Возраст | Комментарий\n",
    "--- |--- | --- | --- | ---\n",
    "E   | 3990 | («Everyone») — «Для всех» | от 6\n",
    "T   | 2961 | («Teen») — «Подросткам» | от 13\n",
    "M   | 1563 | («Mature») — «Для взрослых» | от 17\n",
    "E10+| 1420 | («Everyone 10 and older») — «Для всех от 10 лет и старше» | от 10\n",
    "EC  |    8 | («Early childhood») — «Для детей младшего возраста» | от 3 | можно заменить E\n",
    "K-A |    3 | | от 6 | соответствует E\n",
    "RP  |    3 | («Rating Pending») — «Рейтинг ожидается» | --- | (2 стратегии и гонки) можно заменить E\n",
    "AO  |    1 | («Adults Only 18+») — «Только для взрослых» | от 18 | можно заменить M"
   ]
  },
  {
   "cell_type": "markdown",
   "metadata": {},
   "source": [
    "<a name=\"3\"></a>\n",
    "## Подготовка данных."
   ]
  },
  {
   "cell_type": "code",
   "execution_count": 8,
   "metadata": {
    "scrolled": true
   },
   "outputs": [],
   "source": [
    "data.columns = data.columns.str.lower() #приводим названия столбцов к нижнему регистру\n",
    "data.dropna(subset=['name', 'genre'], inplace=True) #удаляем 2 строки без названия и жанра"
   ]
  },
  {
   "cell_type": "markdown",
   "metadata": {},
   "source": [
    "*Далее следует code reuse из проекта 1, поэтому присутствуют лишние переменные, которые можно было напрямую прописать в функцию и строку с apply.*"
   ]
  },
  {
   "cell_type": "code",
   "execution_count": 9,
   "metadata": {},
   "outputs": [],
   "source": [
    "# блок где возможно заполняет пропуски в 'year_of_release' медианой года выхода на других платформах\n",
    "nan_col = 'year_of_release' # переменная задает столбец с пропуском\n",
    "group_col = 'name' # переменная задает столбец по которому будем группировать для поиска медианы\n",
    "median_series = data.groupby(group_col)[nan_col].median() # series со значениями медиан по группе\n",
    "\n",
    "\n",
    "def median_groupby(row):\n",
    "    '''\n",
    "    функция для заполнения пропусков в столбце медианами по группе \n",
    "\n",
    "    получает строку, выдергивает значение столбца группировки (group_colomn) \n",
    "    возвращает значение соответствующей ему медианы\n",
    "\n",
    "    До использования необходимо определить:\n",
    "    nan_col - переменная задает столбец с пропуском\n",
    "    group_col - переменная задает столбец с признаком по которому будем группировать для поиска медианы\n",
    "    median_series - series со значениями медиан по группе\n",
    "    '''\n",
    "    try:\n",
    "        group_col_value = row[group_col]\n",
    "        median_value = median_series[group_col_value]\n",
    "        return median_value\n",
    "    except:\n",
    "        return 'error median_value'\n",
    "\n",
    "\n",
    "# Заполняем 'year_of_release' медианой года выхода на других платформах\n",
    "data[nan_col] = data[nan_col].fillna(data.apply(median_groupby, axis=1))"
   ]
  },
  {
   "cell_type": "markdown",
   "metadata": {},
   "source": [
    "Из 269 пропусков осталось 146 - их корректно заполнить не чем - оставлю NaN."
   ]
  },
  {
   "cell_type": "code",
   "execution_count": 10,
   "metadata": {},
   "outputs": [],
   "source": [
    "#тест для сравнения memory usage float, int и Int\n",
    "#data.memory_usage()\n",
    "#data['critic_score'] = data['critic_score'].fillna(0).astype('int16')\n",
    "#data['year_of_release'] = data['year_of_release'].fillna(0).astype('int16')\n",
    "#data.memory_usage()"
   ]
  },
  {
   "cell_type": "code",
   "execution_count": 11,
   "metadata": {
    "scrolled": true
   },
   "outputs": [
    {
     "name": "stdout",
     "output_type": "stream",
     "text": [
      "<class 'pandas.core.frame.DataFrame'>\n",
      "Int64Index: 16713 entries, 0 to 16714\n",
      "Data columns (total 11 columns):\n",
      " #   Column           Non-Null Count  Dtype  \n",
      "---  ------           --------------  -----  \n",
      " 0   name             16713 non-null  object \n",
      " 1   platform         16713 non-null  object \n",
      " 2   year_of_release  16567 non-null  Int16  \n",
      " 3   genre            16713 non-null  object \n",
      " 4   na_sales         16713 non-null  float64\n",
      " 5   eu_sales         16713 non-null  float64\n",
      " 6   jp_sales         16713 non-null  float64\n",
      " 7   other_sales      16713 non-null  float64\n",
      " 8   critic_score     8137 non-null   Int8   \n",
      " 9   user_score       10014 non-null  object \n",
      " 10  rating           9949 non-null   object \n",
      "dtypes: Int16(1), Int8(1), float64(4), object(5)\n",
      "memory usage: 1.4+ MB\n"
     ]
    },
    {
     "data": {
      "text/plain": [
       "Index              133704\n",
       "name               133704\n",
       "platform           133704\n",
       "year_of_release     50139\n",
       "genre              133704\n",
       "na_sales           133704\n",
       "eu_sales           133704\n",
       "jp_sales           133704\n",
       "other_sales        133704\n",
       "critic_score        33426\n",
       "user_score         133704\n",
       "rating             133704\n",
       "dtype: int64"
      ]
     },
     "execution_count": 11,
     "metadata": {},
     "output_type": "execute_result"
    }
   ],
   "source": [
    "# Приведем 'critic_score' и 'year_of_release' к целочисленным значениям в целях экономии.\n",
    "# Для приведения к целочисленным типам используем 'Int' (Nullable integer) \n",
    "# т.к. 'int' \"не умеет работать\" с NaN и в series c пропусками оставит 'float'.\n",
    "#Для игнорирования NaN пропишем errors='ignore'.\n",
    "data['critic_score'] = data['critic_score'].astype('Int8', errors='ignore')\n",
    "# В случае с годом медиана дала несколько дробных значений (2002.5, 2001.5 и т.д.) \n",
    "# astype('Int64') \"боится\" их обрабатывать - поэтому предварительно округлим значения.\n",
    "data['year_of_release'] = data['year_of_release'].round().astype('Int16', errors='ignore')\n",
    "data.info()\n",
    "data.memory_usage()"
   ]
  },
  {
   "cell_type": "markdown",
   "metadata": {},
   "source": [
    "На основании memory_usage() можно сделать вывод что столбцы dtype: object, float64, int64 используют одинаковое количество памяти, а Int64 даже немного больше. Для экономии ресурсов необходимо сокращать разрядность числовых типов."
   ]
  },
  {
   "cell_type": "markdown",
   "metadata": {},
   "source": [
    "*оставлю себе ссылочку...* https://pandas.pydata.org/pandas-docs/stable/user_guide/gotchas.html#support-for-integer-na%23support-for-integer-na"
   ]
  },
  {
   "cell_type": "code",
   "execution_count": 12,
   "metadata": {},
   "outputs": [],
   "source": [
    "# Для удобства укажем возраст в дополнение к букве рейтинга.\n",
    "data['rating'] = data['rating'].where(data['rating']!='E', '06+ (E)')\n",
    "data['rating'] = data['rating'].where(data['rating']!='T', '13+ (T)')\n",
    "data['rating'] = data['rating'].where(data['rating']!='M', '17+ (M)')\n",
    "data['rating'] = data['rating'].where(data['rating']!='E10+', '10+ (E10+)')\n",
    "\n",
    "# Заменим редкие значения rating на близкие/совпадающие.\n",
    "data['rating'] = data['rating'].where(data['rating']!='EC', '06+ (E)')\n",
    "data['rating'] = data['rating'].where(data['rating']!='K-A', '06+ (E)')\n",
    "data['rating'] = data['rating'].where(data['rating']!='RP', '06+ (E)')\n",
    "data['rating'] = data['rating'].where(data['rating']!='AO', '17+ (M)')\n"
   ]
  },
  {
   "cell_type": "markdown",
   "metadata": {},
   "source": [
    "Статус 'tbd' в пользовательских оценках вероятно обозначает To Be Determined (будет определено) - логично заменить на NaN."
   ]
  },
  {
   "cell_type": "code",
   "execution_count": 13,
   "metadata": {},
   "outputs": [
    {
     "data": {
      "image/png": "[encoded data removed]",
      "text/plain": [
       "<Figure size 1008x432 with 1 Axes>"
      ]
     },
     "metadata": {
      "needs_background": "light"
     },
     "output_type": "display_data"
    }
   ],
   "source": [
    "data['user_score'] = data['user_score'].where(data['user_score']!='tbd', np.NaN).astype('float16')\n",
    "data['user_score'].hist(bins=100, range=(0, 10), edgecolor='black',figsize=(14, 6), grid=True, alpha=0.4)\n",
    "plt.title('Распределение оценок пользователей', fontsize=20)\n",
    "plt.ylabel('Частота (количество оценок)', fontsize=16)\n",
    "plt.xlabel('Оценка, балл.', fontsize=16);"
   ]
  },
  {
   "cell_type": "code",
   "execution_count": 14,
   "metadata": {},
   "outputs": [
    {
     "name": "stdout",
     "output_type": "stream",
     "text": [
      "count    7590.000000\n",
      "mean        7.125000\n",
      "std         1.500000\n",
      "min         0.000000\n",
      "25%         6.398438\n",
      "50%         7.500000\n",
      "75%         8.203125\n",
      "max         9.703125\n",
      "Name: user_score, dtype: float64\n"
     ]
    },
    {
     "data": {
      "text/plain": [
       "Index              133704\n",
       "name               133704\n",
       "platform           133704\n",
       "year_of_release     50139\n",
       "genre              133704\n",
       "na_sales           133704\n",
       "eu_sales           133704\n",
       "jp_sales           133704\n",
       "other_sales        133704\n",
       "critic_score        33426\n",
       "user_score          33426\n",
       "rating             133704\n",
       "dtype: int64"
      ]
     },
     "execution_count": 14,
     "metadata": {},
     "output_type": "execute_result"
    }
   ],
   "source": [
    "print(data['user_score'].describe())\n",
    "data.memory_usage()"
   ]
  },
  {
   "cell_type": "code",
   "execution_count": 15,
   "metadata": {},
   "outputs": [],
   "source": [
    "data['all_sales'] = data['na_sales'] + data['eu_sales'] + data['jp_sales'] + data['other_sales'] # суммарные продажи"
   ]
  },
  {
   "cell_type": "markdown",
   "metadata": {},
   "source": [
    "<a name=\"s4\"></a>\n",
    "## Исследовательский анализ данных.\n",
    "<a name=\"s41\"></a>\n",
    "### Выпуск игр по годам и их продажи."
   ]
  },
  {
   "cell_type": "code",
   "execution_count": 16,
   "metadata": {},
   "outputs": [
    {
     "data": {
      "image/png": "[encoded data removed]",
      "text/plain": [
       "<Figure size 1008x288 with 1 Axes>"
      ]
     },
     "metadata": {
      "needs_background": "light"
     },
     "output_type": "display_data"
    }
   ],
   "source": [
    "data['year_of_release'].hist(bins=37, color='gold', edgecolor = 'black', figsize=(14, 4));\n",
    "plt.title('Распределение количества выпускаемых игр по годам', fontsize=20)\n",
    "plt.ylabel('Количество релизов, шт.', fontsize=16)\n",
    "plt.xlabel('Год', fontsize=16);"
   ]
  },
  {
   "cell_type": "code",
   "execution_count": 17,
   "metadata": {
    "scrolled": false
   },
   "outputs": [
    {
     "data": {
      "image/png": "[encoded data removed]",
      "text/plain": [
       "<Figure size 1008x288 with 1 Axes>"
      ]
     },
     "metadata": {
      "needs_background": "light"
     },
     "output_type": "display_data"
    }
   ],
   "source": [
    "data.pivot_table(index='year_of_release', values='all_sales', aggfunc=('sum')).plot(\n",
    "    kind='bar', grid=True, figsize=(14, 4))\n",
    "plt.title('Продажи игр (за все годы) по годам релиза', fontsize=20)\n",
    "plt.ylabel('Продано копий, млн шт.', fontsize=16)\n",
    "plt.xlabel('Год релиза', fontsize=16);"
   ]
  },
  {
   "cell_type": "code",
   "execution_count": 18,
   "metadata": {},
   "outputs": [
    {
     "name": "stdout",
     "output_type": "stream",
     "text": [
      "<class 'pandas.core.frame.DataFrame'>\n",
      "Int64Index: 16713 entries, 0 to 16714\n",
      "Data columns (total 12 columns):\n",
      " #   Column           Non-Null Count  Dtype  \n",
      "---  ------           --------------  -----  \n",
      " 0   name             16713 non-null  object \n",
      " 1   platform         16713 non-null  object \n",
      " 2   year_of_release  16567 non-null  Int16  \n",
      " 3   genre            16713 non-null  object \n",
      " 4   na_sales         16713 non-null  float64\n",
      " 5   eu_sales         16713 non-null  float64\n",
      " 6   jp_sales         16713 non-null  float64\n",
      " 7   other_sales      16713 non-null  float64\n",
      " 8   critic_score     8137 non-null   Int8   \n",
      " 9   user_score       7590 non-null   float16\n",
      " 10  rating           9949 non-null   object \n",
      " 11  all_sales        16713 non-null  float64\n",
      "dtypes: Int16(1), Int8(1), float16(1), float64(5), object(4)\n",
      "memory usage: 1.4+ MB\n"
     ]
    }
   ],
   "source": [
    "data.info()"
   ]
  },
  {
   "cell_type": "code",
   "execution_count": 19,
   "metadata": {},
   "outputs": [
    {
     "data": {
      "text/html": [
       "<div>\n",
       "<style scoped>\n",
       "    .dataframe tbody tr th:only-of-type {\n",
       "        vertical-align: middle;\n",
       "    }\n",
       "\n",
       "    .dataframe tbody tr th {\n",
       "        vertical-align: top;\n",
       "    }\n",
       "\n",
       "    .dataframe thead th {\n",
       "        text-align: right;\n",
       "    }\n",
       "</style>\n",
       "<table border=\"1\" class=\"dataframe\">\n",
       "  <thead>\n",
       "    <tr style=\"text-align: right;\">\n",
       "      <th></th>\n",
       "      <th>name</th>\n",
       "      <th>platform</th>\n",
       "      <th>year_of_release</th>\n",
       "      <th>genre</th>\n",
       "      <th>na_sales</th>\n",
       "      <th>eu_sales</th>\n",
       "      <th>jp_sales</th>\n",
       "      <th>other_sales</th>\n",
       "      <th>critic_score</th>\n",
       "      <th>user_score</th>\n",
       "      <th>rating</th>\n",
       "      <th>all_sales</th>\n",
       "    </tr>\n",
       "  </thead>\n",
       "  <tbody>\n",
       "    <tr>\n",
       "      <th>1</th>\n",
       "      <td>Super Mario Bros.</td>\n",
       "      <td>NES</td>\n",
       "      <td>1985</td>\n",
       "      <td>Platform</td>\n",
       "      <td>29.08</td>\n",
       "      <td>3.58</td>\n",
       "      <td>6.81</td>\n",
       "      <td>0.77</td>\n",
       "      <td>&lt;NA&gt;</td>\n",
       "      <td>NaN</td>\n",
       "      <td>NaN</td>\n",
       "      <td>40.24</td>\n",
       "    </tr>\n",
       "    <tr>\n",
       "      <th>5</th>\n",
       "      <td>Tetris</td>\n",
       "      <td>GB</td>\n",
       "      <td>1989</td>\n",
       "      <td>Puzzle</td>\n",
       "      <td>23.20</td>\n",
       "      <td>2.26</td>\n",
       "      <td>4.22</td>\n",
       "      <td>0.58</td>\n",
       "      <td>&lt;NA&gt;</td>\n",
       "      <td>NaN</td>\n",
       "      <td>NaN</td>\n",
       "      <td>30.26</td>\n",
       "    </tr>\n",
       "    <tr>\n",
       "      <th>9</th>\n",
       "      <td>Duck Hunt</td>\n",
       "      <td>NES</td>\n",
       "      <td>1984</td>\n",
       "      <td>Shooter</td>\n",
       "      <td>26.93</td>\n",
       "      <td>0.63</td>\n",
       "      <td>0.28</td>\n",
       "      <td>0.47</td>\n",
       "      <td>&lt;NA&gt;</td>\n",
       "      <td>NaN</td>\n",
       "      <td>NaN</td>\n",
       "      <td>28.31</td>\n",
       "    </tr>\n",
       "    <tr>\n",
       "      <th>18</th>\n",
       "      <td>Super Mario World</td>\n",
       "      <td>SNES</td>\n",
       "      <td>1990</td>\n",
       "      <td>Platform</td>\n",
       "      <td>12.78</td>\n",
       "      <td>3.75</td>\n",
       "      <td>3.54</td>\n",
       "      <td>0.55</td>\n",
       "      <td>&lt;NA&gt;</td>\n",
       "      <td>NaN</td>\n",
       "      <td>NaN</td>\n",
       "      <td>20.62</td>\n",
       "    </tr>\n",
       "    <tr>\n",
       "      <th>21</th>\n",
       "      <td>Super Mario Land</td>\n",
       "      <td>GB</td>\n",
       "      <td>1989</td>\n",
       "      <td>Platform</td>\n",
       "      <td>10.83</td>\n",
       "      <td>2.71</td>\n",
       "      <td>4.18</td>\n",
       "      <td>0.42</td>\n",
       "      <td>&lt;NA&gt;</td>\n",
       "      <td>NaN</td>\n",
       "      <td>NaN</td>\n",
       "      <td>18.14</td>\n",
       "    </tr>\n",
       "    <tr>\n",
       "      <th>...</th>\n",
       "      <td>...</td>\n",
       "      <td>...</td>\n",
       "      <td>...</td>\n",
       "      <td>...</td>\n",
       "      <td>...</td>\n",
       "      <td>...</td>\n",
       "      <td>...</td>\n",
       "      <td>...</td>\n",
       "      <td>...</td>\n",
       "      <td>...</td>\n",
       "      <td>...</td>\n",
       "      <td>...</td>\n",
       "    </tr>\n",
       "    <tr>\n",
       "      <th>15692</th>\n",
       "      <td>Empire Deluxe</td>\n",
       "      <td>PC</td>\n",
       "      <td>1992</td>\n",
       "      <td>Strategy</td>\n",
       "      <td>0.02</td>\n",
       "      <td>0.00</td>\n",
       "      <td>0.00</td>\n",
       "      <td>0.00</td>\n",
       "      <td>&lt;NA&gt;</td>\n",
       "      <td>NaN</td>\n",
       "      <td>NaN</td>\n",
       "      <td>0.02</td>\n",
       "    </tr>\n",
       "    <tr>\n",
       "      <th>15788</th>\n",
       "      <td>World Class Rugby 2: Kokunai Gekitou Hen '93</td>\n",
       "      <td>SNES</td>\n",
       "      <td>1994</td>\n",
       "      <td>Sports</td>\n",
       "      <td>0.00</td>\n",
       "      <td>0.00</td>\n",
       "      <td>0.02</td>\n",
       "      <td>0.00</td>\n",
       "      <td>&lt;NA&gt;</td>\n",
       "      <td>NaN</td>\n",
       "      <td>NaN</td>\n",
       "      <td>0.02</td>\n",
       "    </tr>\n",
       "    <tr>\n",
       "      <th>15957</th>\n",
       "      <td>Strongest Tokyo University Shogi DS</td>\n",
       "      <td>DS</td>\n",
       "      <td>1985</td>\n",
       "      <td>Action</td>\n",
       "      <td>0.00</td>\n",
       "      <td>0.00</td>\n",
       "      <td>0.02</td>\n",
       "      <td>0.00</td>\n",
       "      <td>&lt;NA&gt;</td>\n",
       "      <td>NaN</td>\n",
       "      <td>NaN</td>\n",
       "      <td>0.02</td>\n",
       "    </tr>\n",
       "    <tr>\n",
       "      <th>16207</th>\n",
       "      <td>Rock N' Roll Racing</td>\n",
       "      <td>SNES</td>\n",
       "      <td>1993</td>\n",
       "      <td>Racing</td>\n",
       "      <td>0.00</td>\n",
       "      <td>0.00</td>\n",
       "      <td>0.01</td>\n",
       "      <td>0.00</td>\n",
       "      <td>&lt;NA&gt;</td>\n",
       "      <td>NaN</td>\n",
       "      <td>NaN</td>\n",
       "      <td>0.01</td>\n",
       "    </tr>\n",
       "    <tr>\n",
       "      <th>16666</th>\n",
       "      <td>Psychic Detective</td>\n",
       "      <td>PS</td>\n",
       "      <td>1995</td>\n",
       "      <td>Adventure</td>\n",
       "      <td>0.01</td>\n",
       "      <td>0.00</td>\n",
       "      <td>0.00</td>\n",
       "      <td>0.00</td>\n",
       "      <td>&lt;NA&gt;</td>\n",
       "      <td>NaN</td>\n",
       "      <td>NaN</td>\n",
       "      <td>0.01</td>\n",
       "    </tr>\n",
       "  </tbody>\n",
       "</table>\n",
       "<p>705 rows × 12 columns</p>\n",
       "</div>"
      ],
      "text/plain": [
       "                                               name platform  year_of_release  \\\n",
       "1                                 Super Mario Bros.      NES             1985   \n",
       "5                                            Tetris       GB             1989   \n",
       "9                                         Duck Hunt      NES             1984   \n",
       "18                                Super Mario World     SNES             1990   \n",
       "21                                 Super Mario Land       GB             1989   \n",
       "...                                             ...      ...              ...   \n",
       "15692                                 Empire Deluxe       PC             1992   \n",
       "15788  World Class Rugby 2: Kokunai Gekitou Hen '93     SNES             1994   \n",
       "15957           Strongest Tokyo University Shogi DS       DS             1985   \n",
       "16207                           Rock N' Roll Racing     SNES             1993   \n",
       "16666                             Psychic Detective       PS             1995   \n",
       "\n",
       "           genre  na_sales  eu_sales  jp_sales  other_sales  critic_score  \\\n",
       "1       Platform     29.08      3.58      6.81         0.77          <NA>   \n",
       "5         Puzzle     23.20      2.26      4.22         0.58          <NA>   \n",
       "9        Shooter     26.93      0.63      0.28         0.47          <NA>   \n",
       "18      Platform     12.78      3.75      3.54         0.55          <NA>   \n",
       "21      Platform     10.83      2.71      4.18         0.42          <NA>   \n",
       "...          ...       ...       ...       ...          ...           ...   \n",
       "15692   Strategy      0.02      0.00      0.00         0.00          <NA>   \n",
       "15788     Sports      0.00      0.00      0.02         0.00          <NA>   \n",
       "15957     Action      0.00      0.00      0.02         0.00          <NA>   \n",
       "16207     Racing      0.00      0.00      0.01         0.00          <NA>   \n",
       "16666  Adventure      0.01      0.00      0.00         0.00          <NA>   \n",
       "\n",
       "       user_score rating  all_sales  \n",
       "1             NaN    NaN      40.24  \n",
       "5             NaN    NaN      30.26  \n",
       "9             NaN    NaN      28.31  \n",
       "18            NaN    NaN      20.62  \n",
       "21            NaN    NaN      18.14  \n",
       "...           ...    ...        ...  \n",
       "15692         NaN    NaN       0.02  \n",
       "15788         NaN    NaN       0.02  \n",
       "15957         NaN    NaN       0.02  \n",
       "16207         NaN    NaN       0.01  \n",
       "16666         NaN    NaN       0.01  \n",
       "\n",
       "[705 rows x 12 columns]"
      ]
     },
     "execution_count": 19,
     "metadata": {},
     "output_type": "execute_result"
    }
   ],
   "source": [
    "data[data['year_of_release'] < 1996]"
   ]
  },
  {
   "cell_type": "code",
   "execution_count": 20,
   "metadata": {
    "scrolled": true
   },
   "outputs": [
    {
     "data": {
      "text/plain": [
       "0.04218273200502603"
      ]
     },
     "execution_count": 20,
     "metadata": {},
     "output_type": "execute_result"
    }
   ],
   "source": [
    "len(data[data['year_of_release'] < 1996].index)/len(data.index) #доля игр выпущенных до 1996г."
   ]
  },
  {
   "cell_type": "markdown",
   "metadata": {},
   "source": [
    "Очевидно что рассматривать игры выпущенные до 1996г. (менее 5%) в данном исследовании не целесообразно, но возможно стоит \"ужать\" временные рамки до еще меньшего интервала? Посмотрим на количество и продажи игр, выпущенных до 2001г."
   ]
  },
  {
   "cell_type": "code",
   "execution_count": 21,
   "metadata": {},
   "outputs": [
    {
     "data": {
      "text/plain": [
       "0.13923293244779514"
      ]
     },
     "execution_count": 21,
     "metadata": {},
     "output_type": "execute_result"
    }
   ],
   "source": [
    "len(data[data['year_of_release'] < 2001].index)/len(data.index) #доля игр, выпущенных до 2001г."
   ]
  },
  {
   "cell_type": "code",
   "execution_count": 22,
   "metadata": {},
   "outputs": [
    {
     "data": {
      "text/plain": [
       "0.20862891255641852"
      ]
     },
     "execution_count": 22,
     "metadata": {},
     "output_type": "execute_result"
    }
   ],
   "source": [
    "data[data['year_of_release']<2001]['all_sales'].sum()/data['all_sales'].sum() #доля игр, выпущенных до 2001г. в продажах"
   ]
  },
  {
   "cell_type": "markdown",
   "metadata": {},
   "source": [
    "<a name=\"s3_2\"></a>\n",
    "### Изменение популярности жанров с течением времени\n",
    "\n",
    "Без анализа отбросить почти 14% строк и более 20% продаж было бы неосмотрительно. Посмотрим как изменились жанры выпускаемых игр:"
   ]
  },
  {
   "cell_type": "code",
   "execution_count": 23,
   "metadata": {},
   "outputs": [
    {
     "data": {
      "text/html": [
       "<div>\n",
       "<style scoped>\n",
       "    .dataframe tbody tr th:only-of-type {\n",
       "        vertical-align: middle;\n",
       "    }\n",
       "\n",
       "    .dataframe tbody tr th {\n",
       "        vertical-align: top;\n",
       "    }\n",
       "\n",
       "    .dataframe thead th {\n",
       "        text-align: right;\n",
       "    }\n",
       "</style>\n",
       "<table border=\"1\" class=\"dataframe\">\n",
       "  <thead>\n",
       "    <tr style=\"text-align: right;\">\n",
       "      <th></th>\n",
       "      <th>1980-1995_releases</th>\n",
       "      <th>1996-2000_releases</th>\n",
       "      <th>2001-2016_releases</th>\n",
       "    </tr>\n",
       "    <tr>\n",
       "      <th>genre</th>\n",
       "      <th></th>\n",
       "      <th></th>\n",
       "      <th></th>\n",
       "    </tr>\n",
       "  </thead>\n",
       "  <tbody>\n",
       "    <tr>\n",
       "      <th>Action</th>\n",
       "      <td>13.191489</td>\n",
       "      <td>11.097411</td>\n",
       "      <td>21.551966</td>\n",
       "    </tr>\n",
       "    <tr>\n",
       "      <th>Adventure</th>\n",
       "      <td>3.687943</td>\n",
       "      <td>5.487053</td>\n",
       "      <td>8.279494</td>\n",
       "    </tr>\n",
       "    <tr>\n",
       "      <th>Fighting</th>\n",
       "      <td>10.496454</td>\n",
       "      <td>9.371147</td>\n",
       "      <td>4.325843</td>\n",
       "    </tr>\n",
       "    <tr>\n",
       "      <th>Misc</th>\n",
       "      <td>5.957447</td>\n",
       "      <td>6.288533</td>\n",
       "      <td>11.172753</td>\n",
       "    </tr>\n",
       "    <tr>\n",
       "      <th>Platform</th>\n",
       "      <td>11.773050</td>\n",
       "      <td>6.103576</td>\n",
       "      <td>4.894663</td>\n",
       "    </tr>\n",
       "    <tr>\n",
       "      <th>Puzzle</th>\n",
       "      <td>6.808511</td>\n",
       "      <td>3.329223</td>\n",
       "      <td>3.307584</td>\n",
       "    </tr>\n",
       "    <tr>\n",
       "      <th>Racing</th>\n",
       "      <td>4.964539</td>\n",
       "      <td>12.268804</td>\n",
       "      <td>7.036517</td>\n",
       "    </tr>\n",
       "    <tr>\n",
       "      <th>Role-Playing</th>\n",
       "      <td>10.070922</td>\n",
       "      <td>8.569667</td>\n",
       "      <td>8.946629</td>\n",
       "    </tr>\n",
       "    <tr>\n",
       "      <th>Shooter</th>\n",
       "      <td>11.063830</td>\n",
       "      <td>6.781751</td>\n",
       "      <td>7.886236</td>\n",
       "    </tr>\n",
       "    <tr>\n",
       "      <th>Simulation</th>\n",
       "      <td>4.113475</td>\n",
       "      <td>4.623921</td>\n",
       "      <td>5.308989</td>\n",
       "    </tr>\n",
       "    <tr>\n",
       "      <th>Sports</th>\n",
       "      <td>13.758865</td>\n",
       "      <td>19.235512</td>\n",
       "      <td>13.511236</td>\n",
       "    </tr>\n",
       "    <tr>\n",
       "      <th>Strategy</th>\n",
       "      <td>4.113475</td>\n",
       "      <td>6.843403</td>\n",
       "      <td>3.778090</td>\n",
       "    </tr>\n",
       "  </tbody>\n",
       "</table>\n",
       "</div>"
      ],
      "text/plain": [
       "              1980-1995_releases  1996-2000_releases  2001-2016_releases\n",
       "genre                                                                   \n",
       "Action                 13.191489           11.097411           21.551966\n",
       "Adventure               3.687943            5.487053            8.279494\n",
       "Fighting               10.496454            9.371147            4.325843\n",
       "Misc                    5.957447            6.288533           11.172753\n",
       "Platform               11.773050            6.103576            4.894663\n",
       "Puzzle                  6.808511            3.329223            3.307584\n",
       "Racing                  4.964539           12.268804            7.036517\n",
       "Role-Playing           10.070922            8.569667            8.946629\n",
       "Shooter                11.063830            6.781751            7.886236\n",
       "Simulation              4.113475            4.623921            5.308989\n",
       "Sports                 13.758865           19.235512           13.511236\n",
       "Strategy                4.113475            6.843403            3.778090"
      ]
     },
     "metadata": {},
     "output_type": "display_data"
    },
    {
     "data": {
      "text/html": [
       "<div>\n",
       "<style scoped>\n",
       "    .dataframe tbody tr th:only-of-type {\n",
       "        vertical-align: middle;\n",
       "    }\n",
       "\n",
       "    .dataframe tbody tr th {\n",
       "        vertical-align: top;\n",
       "    }\n",
       "\n",
       "    .dataframe thead th {\n",
       "        text-align: right;\n",
       "    }\n",
       "</style>\n",
       "<table border=\"1\" class=\"dataframe\">\n",
       "  <thead>\n",
       "    <tr style=\"text-align: right;\">\n",
       "      <th></th>\n",
       "      <th>1980-1995_sales</th>\n",
       "      <th>1996-2000_sales</th>\n",
       "      <th>2001-2016_sales</th>\n",
       "    </tr>\n",
       "    <tr>\n",
       "      <th>genre</th>\n",
       "      <th></th>\n",
       "      <th></th>\n",
       "      <th></th>\n",
       "    </tr>\n",
       "  </thead>\n",
       "  <tbody>\n",
       "    <tr>\n",
       "      <th>Action</th>\n",
       "      <td>10.036384</td>\n",
       "      <td>13.439869</td>\n",
       "      <td>21.557031</td>\n",
       "    </tr>\n",
       "    <tr>\n",
       "      <th>Adventure</th>\n",
       "      <td>3.182268</td>\n",
       "      <td>2.586354</td>\n",
       "      <td>2.579169</td>\n",
       "    </tr>\n",
       "    <tr>\n",
       "      <th>Fighting</th>\n",
       "      <td>7.347709</td>\n",
       "      <td>8.641265</td>\n",
       "      <td>4.173603</td>\n",
       "    </tr>\n",
       "    <tr>\n",
       "      <th>Misc</th>\n",
       "      <td>3.079269</td>\n",
       "      <td>5.797714</td>\n",
       "      <td>10.084436</td>\n",
       "    </tr>\n",
       "    <tr>\n",
       "      <th>Platform</th>\n",
       "      <td>30.820782</td>\n",
       "      <td>10.500994</td>\n",
       "      <td>6.830946</td>\n",
       "    </tr>\n",
       "    <tr>\n",
       "      <th>Puzzle</th>\n",
       "      <td>11.264346</td>\n",
       "      <td>1.916384</td>\n",
       "      <td>1.926103</td>\n",
       "    </tr>\n",
       "    <tr>\n",
       "      <th>Racing</th>\n",
       "      <td>4.972043</td>\n",
       "      <td>13.063067</td>\n",
       "      <td>7.751629</td>\n",
       "    </tr>\n",
       "    <tr>\n",
       "      <th>Role-Playing</th>\n",
       "      <td>7.608550</td>\n",
       "      <td>15.470463</td>\n",
       "      <td>10.026519</td>\n",
       "    </tr>\n",
       "    <tr>\n",
       "      <th>Shooter</th>\n",
       "      <td>10.376147</td>\n",
       "      <td>5.436200</td>\n",
       "      <td>13.009967</td>\n",
       "    </tr>\n",
       "    <tr>\n",
       "      <th>Simulation</th>\n",
       "      <td>1.740282</td>\n",
       "      <td>3.858848</td>\n",
       "      <td>4.743788</td>\n",
       "    </tr>\n",
       "    <tr>\n",
       "      <th>Sports</th>\n",
       "      <td>7.936274</td>\n",
       "      <td>14.449770</td>\n",
       "      <td>15.787424</td>\n",
       "    </tr>\n",
       "    <tr>\n",
       "      <th>Strategy</th>\n",
       "      <td>1.635945</td>\n",
       "      <td>4.839072</td>\n",
       "      <td>1.529384</td>\n",
       "    </tr>\n",
       "  </tbody>\n",
       "</table>\n",
       "</div>"
      ],
      "text/plain": [
       "              1980-1995_sales  1996-2000_sales  2001-2016_sales\n",
       "genre                                                          \n",
       "Action              10.036384        13.439869        21.557031\n",
       "Adventure            3.182268         2.586354         2.579169\n",
       "Fighting             7.347709         8.641265         4.173603\n",
       "Misc                 3.079269         5.797714        10.084436\n",
       "Platform            30.820782        10.500994         6.830946\n",
       "Puzzle              11.264346         1.916384         1.926103\n",
       "Racing               4.972043        13.063067         7.751629\n",
       "Role-Playing         7.608550        15.470463        10.026519\n",
       "Shooter             10.376147         5.436200        13.009967\n",
       "Simulation           1.740282         3.858848         4.743788\n",
       "Sports               7.936274        14.449770        15.787424\n",
       "Strategy             1.635945         4.839072         1.529384"
      ]
     },
     "metadata": {},
     "output_type": "display_data"
    }
   ],
   "source": [
    "years = pd.cut(data['year_of_release'], [1979, 1995, 2000, 2016]) #разобьем годы выпуска игр на 3 периода\n",
    "# посчитаем количество релизов каждого жанра в этих временных границах\n",
    "janres_releases = data.pivot_table(index='genre', columns=years, values='name', aggfunc='count')\n",
    "janres_releases.set_axis(['1980-1995_releases', '1996-2000_releases', '2001-2016_releases'], axis='columns', inplace=True)\n",
    "# найдем долю релизов каждого жанра\n",
    "for column in janres_releases.columns:\n",
    "    janres_releases[column] = janres_releases[column]/janres_releases[column].sum()*100\n",
    "display(janres_releases)\n",
    "\n",
    "# посчитаем продажи по каждому жанру\n",
    "janres_sales = data.pivot_table(index='genre', columns=years, values='all_sales', aggfunc='sum')\n",
    "janres_sales.set_axis(['1980-1995_sales', '1996-2000_sales', '2001-2016_sales'], axis='columns', inplace=True)\n",
    "# доля продаж\n",
    "for column in janres_sales.columns:\n",
    "    janres_sales[column] = janres_sales[column]/janres_sales[column].sum()*100\n",
    "display(janres_sales)"
   ]
  },
  {
   "cell_type": "markdown",
   "metadata": {},
   "source": [
    "Жанровые предпочтения значительно изменились. Безусловно стоит \"отсечь\" игры выпущенные ранее 2001г. "
   ]
  },
  {
   "cell_type": "markdown",
   "metadata": {},
   "source": [
    "<a name=\"s3_3\"></a>\n",
    "### \"Рождение\" и \"смерть\" платформы\n",
    "\n",
    "Рассмотрим наиболее популярные платформы."
   ]
  },
  {
   "cell_type": "code",
   "execution_count": 24,
   "metadata": {
    "scrolled": false
   },
   "outputs": [
    {
     "name": "stdout",
     "output_type": "stream",
     "text": [
      "platform\n",
      "PS2     1255.77\n",
      "X360     971.42\n",
      "PS3      939.65\n",
      "Wii      907.51\n",
      "DS       806.12\n",
      "PS       730.86\n",
      "Name: all_sales, dtype: float64\n"
     ]
    },
    {
     "data": {
      "text/html": [
       "<div>\n",
       "<style scoped>\n",
       "    .dataframe tbody tr th:only-of-type {\n",
       "        vertical-align: middle;\n",
       "    }\n",
       "\n",
       "    .dataframe tbody tr th {\n",
       "        vertical-align: top;\n",
       "    }\n",
       "\n",
       "    .dataframe thead th {\n",
       "        text-align: right;\n",
       "    }\n",
       "</style>\n",
       "<table border=\"1\" class=\"dataframe\">\n",
       "  <thead>\n",
       "    <tr style=\"text-align: right;\">\n",
       "      <th>platform</th>\n",
       "      <th>2600</th>\n",
       "      <th>3DO</th>\n",
       "      <th>3DS</th>\n",
       "      <th>DC</th>\n",
       "      <th>DS</th>\n",
       "      <th>GB</th>\n",
       "      <th>GBA</th>\n",
       "      <th>GC</th>\n",
       "      <th>GEN</th>\n",
       "      <th>GG</th>\n",
       "      <th>...</th>\n",
       "      <th>SAT</th>\n",
       "      <th>SCD</th>\n",
       "      <th>SNES</th>\n",
       "      <th>TG16</th>\n",
       "      <th>WS</th>\n",
       "      <th>Wii</th>\n",
       "      <th>WiiU</th>\n",
       "      <th>X360</th>\n",
       "      <th>XB</th>\n",
       "      <th>XOne</th>\n",
       "    </tr>\n",
       "    <tr>\n",
       "      <th>year_of_release</th>\n",
       "      <th></th>\n",
       "      <th></th>\n",
       "      <th></th>\n",
       "      <th></th>\n",
       "      <th></th>\n",
       "      <th></th>\n",
       "      <th></th>\n",
       "      <th></th>\n",
       "      <th></th>\n",
       "      <th></th>\n",
       "      <th></th>\n",
       "      <th></th>\n",
       "      <th></th>\n",
       "      <th></th>\n",
       "      <th></th>\n",
       "      <th></th>\n",
       "      <th></th>\n",
       "      <th></th>\n",
       "      <th></th>\n",
       "      <th></th>\n",
       "      <th></th>\n",
       "    </tr>\n",
       "  </thead>\n",
       "  <tbody>\n",
       "    <tr>\n",
       "      <th>2014</th>\n",
       "      <td>NaN</td>\n",
       "      <td>NaN</td>\n",
       "      <td>43.76</td>\n",
       "      <td>NaN</td>\n",
       "      <td>NaN</td>\n",
       "      <td>NaN</td>\n",
       "      <td>NaN</td>\n",
       "      <td>NaN</td>\n",
       "      <td>NaN</td>\n",
       "      <td>NaN</td>\n",
       "      <td>...</td>\n",
       "      <td>NaN</td>\n",
       "      <td>NaN</td>\n",
       "      <td>NaN</td>\n",
       "      <td>NaN</td>\n",
       "      <td>NaN</td>\n",
       "      <td>3.75</td>\n",
       "      <td>22.03</td>\n",
       "      <td>34.74</td>\n",
       "      <td>NaN</td>\n",
       "      <td>54.07</td>\n",
       "    </tr>\n",
       "    <tr>\n",
       "      <th>2015</th>\n",
       "      <td>NaN</td>\n",
       "      <td>NaN</td>\n",
       "      <td>27.78</td>\n",
       "      <td>NaN</td>\n",
       "      <td>NaN</td>\n",
       "      <td>NaN</td>\n",
       "      <td>NaN</td>\n",
       "      <td>NaN</td>\n",
       "      <td>NaN</td>\n",
       "      <td>NaN</td>\n",
       "      <td>...</td>\n",
       "      <td>NaN</td>\n",
       "      <td>NaN</td>\n",
       "      <td>NaN</td>\n",
       "      <td>NaN</td>\n",
       "      <td>NaN</td>\n",
       "      <td>1.14</td>\n",
       "      <td>16.35</td>\n",
       "      <td>11.96</td>\n",
       "      <td>NaN</td>\n",
       "      <td>60.14</td>\n",
       "    </tr>\n",
       "    <tr>\n",
       "      <th>2016</th>\n",
       "      <td>NaN</td>\n",
       "      <td>NaN</td>\n",
       "      <td>15.14</td>\n",
       "      <td>NaN</td>\n",
       "      <td>NaN</td>\n",
       "      <td>NaN</td>\n",
       "      <td>NaN</td>\n",
       "      <td>NaN</td>\n",
       "      <td>NaN</td>\n",
       "      <td>NaN</td>\n",
       "      <td>...</td>\n",
       "      <td>NaN</td>\n",
       "      <td>NaN</td>\n",
       "      <td>NaN</td>\n",
       "      <td>NaN</td>\n",
       "      <td>NaN</td>\n",
       "      <td>0.18</td>\n",
       "      <td>4.60</td>\n",
       "      <td>1.52</td>\n",
       "      <td>NaN</td>\n",
       "      <td>26.15</td>\n",
       "    </tr>\n",
       "  </tbody>\n",
       "</table>\n",
       "<p>3 rows × 31 columns</p>\n",
       "</div>"
      ],
      "text/plain": [
       "platform         2600  3DO    3DS  DC  DS  GB  GBA  GC  GEN  GG  ...  SAT  \\\n",
       "year_of_release                                                  ...        \n",
       "2014              NaN  NaN  43.76 NaN NaN NaN  NaN NaN  NaN NaN  ...  NaN   \n",
       "2015              NaN  NaN  27.78 NaN NaN NaN  NaN NaN  NaN NaN  ...  NaN   \n",
       "2016              NaN  NaN  15.14 NaN NaN NaN  NaN NaN  NaN NaN  ...  NaN   \n",
       "\n",
       "platform         SCD  SNES  TG16  WS   Wii   WiiU   X360  XB   XOne  \n",
       "year_of_release                                                      \n",
       "2014             NaN   NaN   NaN NaN  3.75  22.03  34.74 NaN  54.07  \n",
       "2015             NaN   NaN   NaN NaN  1.14  16.35  11.96 NaN  60.14  \n",
       "2016             NaN   NaN   NaN NaN  0.18   4.60   1.52 NaN  26.15  \n",
       "\n",
       "[3 rows x 31 columns]"
      ]
     },
     "metadata": {},
     "output_type": "display_data"
    },
    {
     "data": {
      "image/png": "[encoded data removed]",
      "text/plain": [
       "<Figure size 1008x288 with 1 Axes>"
      ]
     },
     "metadata": {
      "needs_background": "light"
     },
     "output_type": "display_data"
    }
   ],
   "source": [
    "top_platform_sales = data.groupby('platform')['all_sales'].sum().sort_values(ascending=False).head(6)\n",
    "print(top_platform_sales)\n",
    "\n",
    "# продажи платформ по годам релиза\n",
    "platform_sales_by_years = data.pivot_table(index='year_of_release', \n",
    "                                           columns='platform', values='all_sales', aggfunc='sum')\n",
    "display(platform_sales_by_years.tail(3))\n",
    "\n",
    "# продажи топовых платформ по годам релиза\n",
    "top_platform_sales_by_years = platform_sales_by_years.loc[:, top_platform_sales.index]\n",
    "\n",
    "top_platform_sales_by_years.plot.area(stacked=False, figsize=(14, 4))\n",
    "plt.title('Продажи топовых платформ (за все годы) по годам релиза 1980-2015', fontsize=20)\n",
    "plt.ylabel('Продано копий, млн шт.', fontsize=16)\n",
    "plt.xlabel('Год релиза', fontsize=16);"
   ]
  },
  {
   "cell_type": "markdown",
   "metadata": {},
   "source": [
    "Из графиков видно что от \"рождения\" до \"смерти\" платформы проходит около 10 лет.  "
   ]
  },
  {
   "cell_type": "code",
   "execution_count": 25,
   "metadata": {},
   "outputs": [
    {
     "data": {
      "text/html": [
       "<div>\n",
       "<style scoped>\n",
       "    .dataframe tbody tr th:only-of-type {\n",
       "        vertical-align: middle;\n",
       "    }\n",
       "\n",
       "    .dataframe tbody tr th {\n",
       "        vertical-align: top;\n",
       "    }\n",
       "\n",
       "    .dataframe thead th {\n",
       "        text-align: right;\n",
       "    }\n",
       "</style>\n",
       "<table border=\"1\" class=\"dataframe\">\n",
       "  <thead>\n",
       "    <tr style=\"text-align: right;\">\n",
       "      <th>platform</th>\n",
       "      <th>2600</th>\n",
       "      <th>3DO</th>\n",
       "      <th>3DS</th>\n",
       "      <th>DC</th>\n",
       "      <th>DS</th>\n",
       "      <th>GB</th>\n",
       "      <th>GBA</th>\n",
       "      <th>GC</th>\n",
       "      <th>GEN</th>\n",
       "      <th>GG</th>\n",
       "      <th>...</th>\n",
       "      <th>SAT</th>\n",
       "      <th>SCD</th>\n",
       "      <th>SNES</th>\n",
       "      <th>TG16</th>\n",
       "      <th>WS</th>\n",
       "      <th>Wii</th>\n",
       "      <th>WiiU</th>\n",
       "      <th>X360</th>\n",
       "      <th>XB</th>\n",
       "      <th>XOne</th>\n",
       "    </tr>\n",
       "    <tr>\n",
       "      <th>name</th>\n",
       "      <th></th>\n",
       "      <th></th>\n",
       "      <th></th>\n",
       "      <th></th>\n",
       "      <th></th>\n",
       "      <th></th>\n",
       "      <th></th>\n",
       "      <th></th>\n",
       "      <th></th>\n",
       "      <th></th>\n",
       "      <th></th>\n",
       "      <th></th>\n",
       "      <th></th>\n",
       "      <th></th>\n",
       "      <th></th>\n",
       "      <th></th>\n",
       "      <th></th>\n",
       "      <th></th>\n",
       "      <th></th>\n",
       "      <th></th>\n",
       "      <th></th>\n",
       "    </tr>\n",
       "  </thead>\n",
       "  <tbody>\n",
       "    <tr>\n",
       "      <th>Beyblade Burst</th>\n",
       "      <td>NaN</td>\n",
       "      <td>NaN</td>\n",
       "      <td>2016.0</td>\n",
       "      <td>NaN</td>\n",
       "      <td>NaN</td>\n",
       "      <td>NaN</td>\n",
       "      <td>NaN</td>\n",
       "      <td>NaN</td>\n",
       "      <td>NaN</td>\n",
       "      <td>NaN</td>\n",
       "      <td>...</td>\n",
       "      <td>NaN</td>\n",
       "      <td>NaN</td>\n",
       "      <td>NaN</td>\n",
       "      <td>NaN</td>\n",
       "      <td>NaN</td>\n",
       "      <td>NaN</td>\n",
       "      <td>NaN</td>\n",
       "      <td>NaN</td>\n",
       "      <td>NaN</td>\n",
       "      <td>NaN</td>\n",
       "    </tr>\n",
       "    <tr>\n",
       "      <th>Fire Emblem Fates</th>\n",
       "      <td>NaN</td>\n",
       "      <td>NaN</td>\n",
       "      <td>2015.0</td>\n",
       "      <td>NaN</td>\n",
       "      <td>NaN</td>\n",
       "      <td>NaN</td>\n",
       "      <td>NaN</td>\n",
       "      <td>NaN</td>\n",
       "      <td>NaN</td>\n",
       "      <td>NaN</td>\n",
       "      <td>...</td>\n",
       "      <td>NaN</td>\n",
       "      <td>NaN</td>\n",
       "      <td>NaN</td>\n",
       "      <td>NaN</td>\n",
       "      <td>NaN</td>\n",
       "      <td>NaN</td>\n",
       "      <td>NaN</td>\n",
       "      <td>NaN</td>\n",
       "      <td>NaN</td>\n",
       "      <td>NaN</td>\n",
       "    </tr>\n",
       "    <tr>\n",
       "      <th>Frozen: Olaf's Quest</th>\n",
       "      <td>NaN</td>\n",
       "      <td>NaN</td>\n",
       "      <td>2013.0</td>\n",
       "      <td>NaN</td>\n",
       "      <td>2013.0</td>\n",
       "      <td>NaN</td>\n",
       "      <td>NaN</td>\n",
       "      <td>NaN</td>\n",
       "      <td>NaN</td>\n",
       "      <td>NaN</td>\n",
       "      <td>...</td>\n",
       "      <td>NaN</td>\n",
       "      <td>NaN</td>\n",
       "      <td>NaN</td>\n",
       "      <td>NaN</td>\n",
       "      <td>NaN</td>\n",
       "      <td>NaN</td>\n",
       "      <td>NaN</td>\n",
       "      <td>NaN</td>\n",
       "      <td>NaN</td>\n",
       "      <td>NaN</td>\n",
       "    </tr>\n",
       "  </tbody>\n",
       "</table>\n",
       "<p>3 rows × 31 columns</p>\n",
       "</div>"
      ],
      "text/plain": [
       "platform               2600  3DO     3DS  DC      DS  GB  GBA  GC  GEN  GG  \\\n",
       "name                                                                         \n",
       " Beyblade Burst         NaN  NaN  2016.0 NaN     NaN NaN  NaN NaN  NaN NaN   \n",
       " Fire Emblem Fates      NaN  NaN  2015.0 NaN     NaN NaN  NaN NaN  NaN NaN   \n",
       " Frozen: Olaf's Quest   NaN  NaN  2013.0 NaN  2013.0 NaN  NaN NaN  NaN NaN   \n",
       "\n",
       "platform               ...  SAT  SCD  SNES  TG16  WS  Wii  WiiU  X360  XB  \\\n",
       "name                   ...                                                  \n",
       " Beyblade Burst        ...  NaN  NaN   NaN   NaN NaN  NaN   NaN   NaN NaN   \n",
       " Fire Emblem Fates     ...  NaN  NaN   NaN   NaN NaN  NaN   NaN   NaN NaN   \n",
       " Frozen: Olaf's Quest  ...  NaN  NaN   NaN   NaN NaN  NaN   NaN   NaN NaN   \n",
       "\n",
       "platform               XOne  \n",
       "name                         \n",
       " Beyblade Burst         NaN  \n",
       " Fire Emblem Fates      NaN  \n",
       " Frozen: Olaf's Quest   NaN  \n",
       "\n",
       "[3 rows x 31 columns]"
      ]
     },
     "metadata": {},
     "output_type": "display_data"
    }
   ],
   "source": [
    "game_release_by_platform = data.pivot_table(index='name', columns='platform', values='year_of_release')\n",
    "display(game_release_by_platform.head(3))"
   ]
  },
  {
   "cell_type": "code",
   "execution_count": 26,
   "metadata": {},
   "outputs": [
    {
     "data": {
      "text/html": [
       "<div>\n",
       "<style scoped>\n",
       "    .dataframe tbody tr th:only-of-type {\n",
       "        vertical-align: middle;\n",
       "    }\n",
       "\n",
       "    .dataframe tbody tr th {\n",
       "        vertical-align: top;\n",
       "    }\n",
       "\n",
       "    .dataframe thead th {\n",
       "        text-align: right;\n",
       "    }\n",
       "</style>\n",
       "<table border=\"1\" class=\"dataframe\">\n",
       "  <thead>\n",
       "    <tr style=\"text-align: right;\">\n",
       "      <th></th>\n",
       "      <th>count</th>\n",
       "      <th>mean</th>\n",
       "      <th>std</th>\n",
       "      <th>min</th>\n",
       "      <th>25%</th>\n",
       "      <th>50%</th>\n",
       "      <th>75%</th>\n",
       "      <th>max</th>\n",
       "      <th>lifetime</th>\n",
       "    </tr>\n",
       "    <tr>\n",
       "      <th>platform</th>\n",
       "      <th></th>\n",
       "      <th></th>\n",
       "      <th></th>\n",
       "      <th></th>\n",
       "      <th></th>\n",
       "      <th></th>\n",
       "      <th></th>\n",
       "      <th></th>\n",
       "      <th></th>\n",
       "    </tr>\n",
       "  </thead>\n",
       "  <tbody>\n",
       "    <tr>\n",
       "      <th>2600</th>\n",
       "      <td>117.0</td>\n",
       "      <td>1982.282051</td>\n",
       "      <td>2.521788</td>\n",
       "      <td>1980.0</td>\n",
       "      <td>1981.0</td>\n",
       "      <td>1982.0</td>\n",
       "      <td>1982.0</td>\n",
       "      <td>1999.0</td>\n",
       "      <td>20.0</td>\n",
       "    </tr>\n",
       "    <tr>\n",
       "      <th>3DO</th>\n",
       "      <td>3.0</td>\n",
       "      <td>1994.666667</td>\n",
       "      <td>0.577350</td>\n",
       "      <td>1994.0</td>\n",
       "      <td>1994.5</td>\n",
       "      <td>1995.0</td>\n",
       "      <td>1995.0</td>\n",
       "      <td>1995.0</td>\n",
       "      <td>2.0</td>\n",
       "    </tr>\n",
       "    <tr>\n",
       "      <th>3DS</th>\n",
       "      <td>515.0</td>\n",
       "      <td>2013.093204</td>\n",
       "      <td>1.747442</td>\n",
       "      <td>2000.0</td>\n",
       "      <td>2012.0</td>\n",
       "      <td>2013.0</td>\n",
       "      <td>2015.0</td>\n",
       "      <td>2016.0</td>\n",
       "      <td>17.0</td>\n",
       "    </tr>\n",
       "  </tbody>\n",
       "</table>\n",
       "</div>"
      ],
      "text/plain": [
       "          count         mean       std     min     25%     50%     75%  \\\n",
       "platform                                                                 \n",
       "2600      117.0  1982.282051  2.521788  1980.0  1981.0  1982.0  1982.0   \n",
       "3DO         3.0  1994.666667  0.577350  1994.0  1994.5  1995.0  1995.0   \n",
       "3DS       515.0  2013.093204  1.747442  2000.0  2012.0  2013.0  2015.0   \n",
       "\n",
       "             max  lifetime  \n",
       "platform                    \n",
       "2600      1999.0      20.0  \n",
       "3DO       1995.0       2.0  \n",
       "3DS       2016.0      17.0  "
      ]
     },
     "metadata": {},
     "output_type": "display_data"
    }
   ],
   "source": [
    "lifetime = game_release_by_platform.describe().T\n",
    "lifetime['lifetime'] = lifetime['max']-lifetime['min']+1\n",
    "display(lifetime.head(3))"
   ]
  },
  {
   "cell_type": "markdown",
   "metadata": {},
   "source": [
    "так как нас не интересуют \"древние\" платформы, а актуальные платформы еще \"живы\" отсечем их по условию: первая игра появилась с 1990 по 2009."
   ]
  },
  {
   "cell_type": "code",
   "execution_count": 27,
   "metadata": {},
   "outputs": [
    {
     "data": {
      "text/html": [
       "<div>\n",
       "<style scoped>\n",
       "    .dataframe tbody tr th:only-of-type {\n",
       "        vertical-align: middle;\n",
       "    }\n",
       "\n",
       "    .dataframe tbody tr th {\n",
       "        vertical-align: top;\n",
       "    }\n",
       "\n",
       "    .dataframe thead th {\n",
       "        text-align: right;\n",
       "    }\n",
       "</style>\n",
       "<table border=\"1\" class=\"dataframe\">\n",
       "  <thead>\n",
       "    <tr style=\"text-align: right;\">\n",
       "      <th></th>\n",
       "      <th>count</th>\n",
       "      <th>mean</th>\n",
       "      <th>std</th>\n",
       "      <th>min</th>\n",
       "      <th>25%</th>\n",
       "      <th>50%</th>\n",
       "      <th>75%</th>\n",
       "      <th>max</th>\n",
       "      <th>lifetime</th>\n",
       "    </tr>\n",
       "    <tr>\n",
       "      <th>platform</th>\n",
       "      <th></th>\n",
       "      <th></th>\n",
       "      <th></th>\n",
       "      <th></th>\n",
       "      <th></th>\n",
       "      <th></th>\n",
       "      <th></th>\n",
       "      <th></th>\n",
       "      <th></th>\n",
       "    </tr>\n",
       "  </thead>\n",
       "  <tbody>\n",
       "    <tr>\n",
       "      <th>3DO</th>\n",
       "      <td>3.0</td>\n",
       "      <td>1994.666667</td>\n",
       "      <td>0.577350</td>\n",
       "      <td>1994.0</td>\n",
       "      <td>1994.50</td>\n",
       "      <td>1995.0</td>\n",
       "      <td>1995.00</td>\n",
       "      <td>1995.0</td>\n",
       "      <td>2.0</td>\n",
       "    </tr>\n",
       "    <tr>\n",
       "      <th>3DS</th>\n",
       "      <td>515.0</td>\n",
       "      <td>2013.093204</td>\n",
       "      <td>1.747442</td>\n",
       "      <td>2000.0</td>\n",
       "      <td>2012.00</td>\n",
       "      <td>2013.0</td>\n",
       "      <td>2015.00</td>\n",
       "      <td>2016.0</td>\n",
       "      <td>17.0</td>\n",
       "    </tr>\n",
       "    <tr>\n",
       "      <th>DC</th>\n",
       "      <td>52.0</td>\n",
       "      <td>1999.942308</td>\n",
       "      <td>1.808623</td>\n",
       "      <td>1998.0</td>\n",
       "      <td>1999.00</td>\n",
       "      <td>2000.0</td>\n",
       "      <td>2000.00</td>\n",
       "      <td>2008.0</td>\n",
       "      <td>11.0</td>\n",
       "    </tr>\n",
       "    <tr>\n",
       "      <th>GBA</th>\n",
       "      <td>813.0</td>\n",
       "      <td>2003.216482</td>\n",
       "      <td>1.477207</td>\n",
       "      <td>2000.0</td>\n",
       "      <td>2002.00</td>\n",
       "      <td>2003.0</td>\n",
       "      <td>2004.00</td>\n",
       "      <td>2007.0</td>\n",
       "      <td>8.0</td>\n",
       "    </tr>\n",
       "    <tr>\n",
       "      <th>GC</th>\n",
       "      <td>552.0</td>\n",
       "      <td>2003.394928</td>\n",
       "      <td>1.392165</td>\n",
       "      <td>2001.0</td>\n",
       "      <td>2002.00</td>\n",
       "      <td>2003.0</td>\n",
       "      <td>2005.00</td>\n",
       "      <td>2007.0</td>\n",
       "      <td>7.0</td>\n",
       "    </tr>\n",
       "    <tr>\n",
       "      <th>GEN</th>\n",
       "      <td>27.0</td>\n",
       "      <td>1993.037037</td>\n",
       "      <td>1.091276</td>\n",
       "      <td>1990.0</td>\n",
       "      <td>1992.00</td>\n",
       "      <td>1993.0</td>\n",
       "      <td>1994.00</td>\n",
       "      <td>1994.0</td>\n",
       "      <td>5.0</td>\n",
       "    </tr>\n",
       "    <tr>\n",
       "      <th>GG</th>\n",
       "      <td>1.0</td>\n",
       "      <td>1992.000000</td>\n",
       "      <td>NaN</td>\n",
       "      <td>1992.0</td>\n",
       "      <td>1992.00</td>\n",
       "      <td>1992.0</td>\n",
       "      <td>1992.00</td>\n",
       "      <td>1992.0</td>\n",
       "      <td>1.0</td>\n",
       "    </tr>\n",
       "    <tr>\n",
       "      <th>N64</th>\n",
       "      <td>318.0</td>\n",
       "      <td>1998.550314</td>\n",
       "      <td>1.256773</td>\n",
       "      <td>1996.0</td>\n",
       "      <td>1998.00</td>\n",
       "      <td>1999.0</td>\n",
       "      <td>1999.00</td>\n",
       "      <td>2004.0</td>\n",
       "      <td>9.0</td>\n",
       "    </tr>\n",
       "    <tr>\n",
       "      <th>NG</th>\n",
       "      <td>12.0</td>\n",
       "      <td>1994.500000</td>\n",
       "      <td>1.000000</td>\n",
       "      <td>1993.0</td>\n",
       "      <td>1994.00</td>\n",
       "      <td>1994.5</td>\n",
       "      <td>1995.00</td>\n",
       "      <td>1996.0</td>\n",
       "      <td>4.0</td>\n",
       "    </tr>\n",
       "    <tr>\n",
       "      <th>PCFX</th>\n",
       "      <td>1.0</td>\n",
       "      <td>1996.000000</td>\n",
       "      <td>NaN</td>\n",
       "      <td>1996.0</td>\n",
       "      <td>1996.00</td>\n",
       "      <td>1996.0</td>\n",
       "      <td>1996.00</td>\n",
       "      <td>1996.0</td>\n",
       "      <td>1.0</td>\n",
       "    </tr>\n",
       "    <tr>\n",
       "      <th>PS</th>\n",
       "      <td>1190.0</td>\n",
       "      <td>1998.005882</td>\n",
       "      <td>1.848091</td>\n",
       "      <td>1994.0</td>\n",
       "      <td>1997.00</td>\n",
       "      <td>1998.0</td>\n",
       "      <td>1999.00</td>\n",
       "      <td>2003.0</td>\n",
       "      <td>10.0</td>\n",
       "    </tr>\n",
       "    <tr>\n",
       "      <th>PS2</th>\n",
       "      <td>2140.0</td>\n",
       "      <td>2004.579907</td>\n",
       "      <td>2.564670</td>\n",
       "      <td>2000.0</td>\n",
       "      <td>2002.00</td>\n",
       "      <td>2004.5</td>\n",
       "      <td>2007.00</td>\n",
       "      <td>2011.0</td>\n",
       "      <td>12.0</td>\n",
       "    </tr>\n",
       "    <tr>\n",
       "      <th>PS3</th>\n",
       "      <td>1318.0</td>\n",
       "      <td>2010.830804</td>\n",
       "      <td>2.455569</td>\n",
       "      <td>2005.0</td>\n",
       "      <td>2009.00</td>\n",
       "      <td>2011.0</td>\n",
       "      <td>2013.00</td>\n",
       "      <td>2016.0</td>\n",
       "      <td>12.0</td>\n",
       "    </tr>\n",
       "    <tr>\n",
       "      <th>PSP</th>\n",
       "      <td>1203.0</td>\n",
       "      <td>2008.729011</td>\n",
       "      <td>2.432390</td>\n",
       "      <td>2004.0</td>\n",
       "      <td>2006.50</td>\n",
       "      <td>2009.0</td>\n",
       "      <td>2011.00</td>\n",
       "      <td>2015.0</td>\n",
       "      <td>12.0</td>\n",
       "    </tr>\n",
       "    <tr>\n",
       "      <th>SAT</th>\n",
       "      <td>173.0</td>\n",
       "      <td>1996.028902</td>\n",
       "      <td>1.291420</td>\n",
       "      <td>1994.0</td>\n",
       "      <td>1995.00</td>\n",
       "      <td>1996.0</td>\n",
       "      <td>1997.00</td>\n",
       "      <td>1999.0</td>\n",
       "      <td>6.0</td>\n",
       "    </tr>\n",
       "    <tr>\n",
       "      <th>SCD</th>\n",
       "      <td>6.0</td>\n",
       "      <td>1993.833333</td>\n",
       "      <td>0.408248</td>\n",
       "      <td>1993.0</td>\n",
       "      <td>1994.00</td>\n",
       "      <td>1994.0</td>\n",
       "      <td>1994.00</td>\n",
       "      <td>1994.0</td>\n",
       "      <td>2.0</td>\n",
       "    </tr>\n",
       "    <tr>\n",
       "      <th>SNES</th>\n",
       "      <td>239.0</td>\n",
       "      <td>1993.845188</td>\n",
       "      <td>1.679426</td>\n",
       "      <td>1990.0</td>\n",
       "      <td>1993.00</td>\n",
       "      <td>1994.0</td>\n",
       "      <td>1995.00</td>\n",
       "      <td>1999.0</td>\n",
       "      <td>10.0</td>\n",
       "    </tr>\n",
       "    <tr>\n",
       "      <th>TG16</th>\n",
       "      <td>2.0</td>\n",
       "      <td>1995.000000</td>\n",
       "      <td>0.000000</td>\n",
       "      <td>1995.0</td>\n",
       "      <td>1995.00</td>\n",
       "      <td>1995.0</td>\n",
       "      <td>1995.00</td>\n",
       "      <td>1995.0</td>\n",
       "      <td>1.0</td>\n",
       "    </tr>\n",
       "    <tr>\n",
       "      <th>WS</th>\n",
       "      <td>6.0</td>\n",
       "      <td>2000.000000</td>\n",
       "      <td>0.894427</td>\n",
       "      <td>1999.0</td>\n",
       "      <td>1999.25</td>\n",
       "      <td>2000.0</td>\n",
       "      <td>2000.75</td>\n",
       "      <td>2001.0</td>\n",
       "      <td>3.0</td>\n",
       "    </tr>\n",
       "    <tr>\n",
       "      <th>Wii</th>\n",
       "      <td>1301.0</td>\n",
       "      <td>2008.959262</td>\n",
       "      <td>1.550395</td>\n",
       "      <td>2006.0</td>\n",
       "      <td>2008.00</td>\n",
       "      <td>2009.0</td>\n",
       "      <td>2010.00</td>\n",
       "      <td>2016.0</td>\n",
       "      <td>11.0</td>\n",
       "    </tr>\n",
       "    <tr>\n",
       "      <th>X360</th>\n",
       "      <td>1249.0</td>\n",
       "      <td>2009.873098</td>\n",
       "      <td>2.454904</td>\n",
       "      <td>2005.0</td>\n",
       "      <td>2008.00</td>\n",
       "      <td>2010.0</td>\n",
       "      <td>2011.00</td>\n",
       "      <td>2016.0</td>\n",
       "      <td>12.0</td>\n",
       "    </tr>\n",
       "    <tr>\n",
       "      <th>XB</th>\n",
       "      <td>817.0</td>\n",
       "      <td>2003.613219</td>\n",
       "      <td>1.372782</td>\n",
       "      <td>2000.0</td>\n",
       "      <td>2003.00</td>\n",
       "      <td>2004.0</td>\n",
       "      <td>2005.00</td>\n",
       "      <td>2008.0</td>\n",
       "      <td>9.0</td>\n",
       "    </tr>\n",
       "  </tbody>\n",
       "</table>\n",
       "</div>"
      ],
      "text/plain": [
       "           count         mean       std     min      25%     50%      75%  \\\n",
       "platform                                                                    \n",
       "3DO          3.0  1994.666667  0.577350  1994.0  1994.50  1995.0  1995.00   \n",
       "3DS        515.0  2013.093204  1.747442  2000.0  2012.00  2013.0  2015.00   \n",
       "DC          52.0  1999.942308  1.808623  1998.0  1999.00  2000.0  2000.00   \n",
       "GBA        813.0  2003.216482  1.477207  2000.0  2002.00  2003.0  2004.00   \n",
       "GC         552.0  2003.394928  1.392165  2001.0  2002.00  2003.0  2005.00   \n",
       "GEN         27.0  1993.037037  1.091276  1990.0  1992.00  1993.0  1994.00   \n",
       "GG           1.0  1992.000000       NaN  1992.0  1992.00  1992.0  1992.00   \n",
       "N64        318.0  1998.550314  1.256773  1996.0  1998.00  1999.0  1999.00   \n",
       "NG          12.0  1994.500000  1.000000  1993.0  1994.00  1994.5  1995.00   \n",
       "PCFX         1.0  1996.000000       NaN  1996.0  1996.00  1996.0  1996.00   \n",
       "PS        1190.0  1998.005882  1.848091  1994.0  1997.00  1998.0  1999.00   \n",
       "PS2       2140.0  2004.579907  2.564670  2000.0  2002.00  2004.5  2007.00   \n",
       "PS3       1318.0  2010.830804  2.455569  2005.0  2009.00  2011.0  2013.00   \n",
       "PSP       1203.0  2008.729011  2.432390  2004.0  2006.50  2009.0  2011.00   \n",
       "SAT        173.0  1996.028902  1.291420  1994.0  1995.00  1996.0  1997.00   \n",
       "SCD          6.0  1993.833333  0.408248  1993.0  1994.00  1994.0  1994.00   \n",
       "SNES       239.0  1993.845188  1.679426  1990.0  1993.00  1994.0  1995.00   \n",
       "TG16         2.0  1995.000000  0.000000  1995.0  1995.00  1995.0  1995.00   \n",
       "WS           6.0  2000.000000  0.894427  1999.0  1999.25  2000.0  2000.75   \n",
       "Wii       1301.0  2008.959262  1.550395  2006.0  2008.00  2009.0  2010.00   \n",
       "X360      1249.0  2009.873098  2.454904  2005.0  2008.00  2010.0  2011.00   \n",
       "XB         817.0  2003.613219  1.372782  2000.0  2003.00  2004.0  2005.00   \n",
       "\n",
       "             max  lifetime  \n",
       "platform                    \n",
       "3DO       1995.0       2.0  \n",
       "3DS       2016.0      17.0  \n",
       "DC        2008.0      11.0  \n",
       "GBA       2007.0       8.0  \n",
       "GC        2007.0       7.0  \n",
       "GEN       1994.0       5.0  \n",
       "GG        1992.0       1.0  \n",
       "N64       2004.0       9.0  \n",
       "NG        1996.0       4.0  \n",
       "PCFX      1996.0       1.0  \n",
       "PS        2003.0      10.0  \n",
       "PS2       2011.0      12.0  \n",
       "PS3       2016.0      12.0  \n",
       "PSP       2015.0      12.0  \n",
       "SAT       1999.0       6.0  \n",
       "SCD       1994.0       2.0  \n",
       "SNES      1999.0      10.0  \n",
       "TG16      1995.0       1.0  \n",
       "WS        2001.0       3.0  \n",
       "Wii       2016.0      11.0  \n",
       "X360      2016.0      12.0  \n",
       "XB        2008.0       9.0  "
      ]
     },
     "metadata": {},
     "output_type": "display_data"
    }
   ],
   "source": [
    "lifetime = lifetime[lifetime['min']>1989]\n",
    "lifetime = lifetime[lifetime['min']<2010]\n",
    "display(lifetime)"
   ]
  },
  {
   "cell_type": "code",
   "execution_count": 28,
   "metadata": {
    "scrolled": false
   },
   "outputs": [
    {
     "data": {
      "image/png": "[encoded data removed]",
      "text/plain": [
       "<Figure size 792x288 with 1 Axes>"
      ]
     },
     "metadata": {
      "needs_background": "light"
     },
     "output_type": "display_data"
    }
   ],
   "source": [
    "lifetime['lifetime'].hist(bins=18 ,range =(1, 17), edgecolor='black',figsize=(11, 4), grid=True, alpha=0.4);\n",
    "plt.title('Распределение продолжительности \"жизни\" платформы', fontsize=20)\n",
    "plt.ylabel('Частота', fontsize=16)\n",
    "plt.xlabel('Продолжительность \"жизни\", лет', fontsize=16);"
   ]
  },
  {
   "cell_type": "markdown",
   "metadata": {},
   "source": [
    "Есть \"неудачные\" платформы живущие 1-2 года, но в основном игры для одной консоли выпускают в течении 10-12 лет. Отдельно можно сказать про 3DS, появившуюся в 2000 году и сохранившую поклонников до сегодняшнего дня (17 лет)."
   ]
  },
  {
   "cell_type": "markdown",
   "metadata": {},
   "source": [
    "Игровая индустрия - область изменчивая как в плане моды на определенные жанры (очевидно увеличение популярности жанра 'Action' и угасание 'Platform' и пр.), так и в техническом плане (изменение возможностей современных ПК и выход новых игровых консолей). \n",
    "##### В исследовании целесообразно учесть тенденции последних 6-8 лет (с 2008 года)."
   ]
  },
  {
   "cell_type": "code",
   "execution_count": 29,
   "metadata": {},
   "outputs": [
    {
     "ename": "ValueError",
     "evalue": "unknown type object",
     "output_type": "error",
     "traceback": [
      "\u001b[1;31m---------------------------------------------------------------------------\u001b[0m",
      "\u001b[1;31mValueError\u001b[0m                                Traceback (most recent call last)",
      "\u001b[1;32m<ipython-input-29-6eeaaf9d187d>\u001b[0m in \u001b[0;36m<module>\u001b[1;34m\u001b[0m\n\u001b[1;32m----> 1\u001b[1;33m \u001b[0mdata_2008\u001b[0m \u001b[1;33m=\u001b[0m \u001b[0mdata\u001b[0m\u001b[1;33m.\u001b[0m\u001b[0mquery\u001b[0m\u001b[1;33m(\u001b[0m\u001b[1;34m'year_of_release>2007'\u001b[0m\u001b[1;33m)\u001b[0m\u001b[1;33m\u001b[0m\u001b[1;33m\u001b[0m\u001b[0m\n\u001b[0m\u001b[0;32m      2\u001b[0m \u001b[0mdisplay\u001b[0m\u001b[1;33m(\u001b[0m\u001b[0mdata_2008\u001b[0m\u001b[1;33m.\u001b[0m\u001b[0mhead\u001b[0m\u001b[1;33m(\u001b[0m\u001b[1;36m50\u001b[0m\u001b[1;33m)\u001b[0m\u001b[1;33m)\u001b[0m\u001b[1;33m\u001b[0m\u001b[1;33m\u001b[0m\u001b[0m\n\u001b[0;32m      3\u001b[0m \u001b[0mdata_2008\u001b[0m\u001b[1;33m.\u001b[0m\u001b[0minfo\u001b[0m\u001b[1;33m(\u001b[0m\u001b[1;33m)\u001b[0m\u001b[1;33m\u001b[0m\u001b[1;33m\u001b[0m\u001b[0m\n",
      "\u001b[1;32m~\\anaconda3\\lib\\site-packages\\pandas\\core\\frame.py\u001b[0m in \u001b[0;36mquery\u001b[1;34m(self, expr, inplace, **kwargs)\u001b[0m\n\u001b[0;32m   3339\u001b[0m         \u001b[0mkwargs\u001b[0m\u001b[1;33m[\u001b[0m\u001b[1;34m\"level\"\u001b[0m\u001b[1;33m]\u001b[0m \u001b[1;33m=\u001b[0m \u001b[0mkwargs\u001b[0m\u001b[1;33m.\u001b[0m\u001b[0mpop\u001b[0m\u001b[1;33m(\u001b[0m\u001b[1;34m\"level\"\u001b[0m\u001b[1;33m,\u001b[0m \u001b[1;36m0\u001b[0m\u001b[1;33m)\u001b[0m \u001b[1;33m+\u001b[0m \u001b[1;36m1\u001b[0m\u001b[1;33m\u001b[0m\u001b[1;33m\u001b[0m\u001b[0m\n\u001b[0;32m   3340\u001b[0m         \u001b[0mkwargs\u001b[0m\u001b[1;33m[\u001b[0m\u001b[1;34m\"target\"\u001b[0m\u001b[1;33m]\u001b[0m \u001b[1;33m=\u001b[0m \u001b[1;32mNone\u001b[0m\u001b[1;33m\u001b[0m\u001b[1;33m\u001b[0m\u001b[0m\n\u001b[1;32m-> 3341\u001b[1;33m         \u001b[0mres\u001b[0m \u001b[1;33m=\u001b[0m \u001b[0mself\u001b[0m\u001b[1;33m.\u001b[0m\u001b[0meval\u001b[0m\u001b[1;33m(\u001b[0m\u001b[0mexpr\u001b[0m\u001b[1;33m,\u001b[0m \u001b[1;33m**\u001b[0m\u001b[0mkwargs\u001b[0m\u001b[1;33m)\u001b[0m\u001b[1;33m\u001b[0m\u001b[1;33m\u001b[0m\u001b[0m\n\u001b[0m\u001b[0;32m   3342\u001b[0m \u001b[1;33m\u001b[0m\u001b[0m\n\u001b[0;32m   3343\u001b[0m         \u001b[1;32mtry\u001b[0m\u001b[1;33m:\u001b[0m\u001b[1;33m\u001b[0m\u001b[1;33m\u001b[0m\u001b[0m\n",
      "\u001b[1;32m~\\anaconda3\\lib\\site-packages\\pandas\\core\\frame.py\u001b[0m in \u001b[0;36meval\u001b[1;34m(self, expr, inplace, **kwargs)\u001b[0m\n\u001b[0;32m   3469\u001b[0m         \u001b[0mkwargs\u001b[0m\u001b[1;33m[\u001b[0m\u001b[1;34m\"resolvers\"\u001b[0m\u001b[1;33m]\u001b[0m \u001b[1;33m=\u001b[0m \u001b[0mkwargs\u001b[0m\u001b[1;33m.\u001b[0m\u001b[0mget\u001b[0m\u001b[1;33m(\u001b[0m\u001b[1;34m\"resolvers\"\u001b[0m\u001b[1;33m,\u001b[0m \u001b[1;33m(\u001b[0m\u001b[1;33m)\u001b[0m\u001b[1;33m)\u001b[0m \u001b[1;33m+\u001b[0m \u001b[0mtuple\u001b[0m\u001b[1;33m(\u001b[0m\u001b[0mresolvers\u001b[0m\u001b[1;33m)\u001b[0m\u001b[1;33m\u001b[0m\u001b[1;33m\u001b[0m\u001b[0m\n\u001b[0;32m   3470\u001b[0m \u001b[1;33m\u001b[0m\u001b[0m\n\u001b[1;32m-> 3471\u001b[1;33m         \u001b[1;32mreturn\u001b[0m \u001b[0m_eval\u001b[0m\u001b[1;33m(\u001b[0m\u001b[0mexpr\u001b[0m\u001b[1;33m,\u001b[0m \u001b[0minplace\u001b[0m\u001b[1;33m=\u001b[0m\u001b[0minplace\u001b[0m\u001b[1;33m,\u001b[0m \u001b[1;33m**\u001b[0m\u001b[0mkwargs\u001b[0m\u001b[1;33m)\u001b[0m\u001b[1;33m\u001b[0m\u001b[1;33m\u001b[0m\u001b[0m\n\u001b[0m\u001b[0;32m   3472\u001b[0m \u001b[1;33m\u001b[0m\u001b[0m\n\u001b[0;32m   3473\u001b[0m     \u001b[1;32mdef\u001b[0m \u001b[0mselect_dtypes\u001b[0m\u001b[1;33m(\u001b[0m\u001b[0mself\u001b[0m\u001b[1;33m,\u001b[0m \u001b[0minclude\u001b[0m\u001b[1;33m=\u001b[0m\u001b[1;32mNone\u001b[0m\u001b[1;33m,\u001b[0m \u001b[0mexclude\u001b[0m\u001b[1;33m=\u001b[0m\u001b[1;32mNone\u001b[0m\u001b[1;33m)\u001b[0m \u001b[1;33m->\u001b[0m \u001b[1;34m\"DataFrame\"\u001b[0m\u001b[1;33m:\u001b[0m\u001b[1;33m\u001b[0m\u001b[1;33m\u001b[0m\u001b[0m\n",
      "\u001b[1;32m~\\anaconda3\\lib\\site-packages\\pandas\\core\\computation\\eval.py\u001b[0m in \u001b[0;36meval\u001b[1;34m(expr, parser, engine, truediv, local_dict, global_dict, resolvers, level, target, inplace)\u001b[0m\n\u001b[0;32m    344\u001b[0m         \u001b[0meng\u001b[0m \u001b[1;33m=\u001b[0m \u001b[0m_engines\u001b[0m\u001b[1;33m[\u001b[0m\u001b[0mengine\u001b[0m\u001b[1;33m]\u001b[0m\u001b[1;33m\u001b[0m\u001b[1;33m\u001b[0m\u001b[0m\n\u001b[0;32m    345\u001b[0m         \u001b[0meng_inst\u001b[0m \u001b[1;33m=\u001b[0m \u001b[0meng\u001b[0m\u001b[1;33m(\u001b[0m\u001b[0mparsed_expr\u001b[0m\u001b[1;33m)\u001b[0m\u001b[1;33m\u001b[0m\u001b[1;33m\u001b[0m\u001b[0m\n\u001b[1;32m--> 346\u001b[1;33m         \u001b[0mret\u001b[0m \u001b[1;33m=\u001b[0m \u001b[0meng_inst\u001b[0m\u001b[1;33m.\u001b[0m\u001b[0mevaluate\u001b[0m\u001b[1;33m(\u001b[0m\u001b[1;33m)\u001b[0m\u001b[1;33m\u001b[0m\u001b[1;33m\u001b[0m\u001b[0m\n\u001b[0m\u001b[0;32m    347\u001b[0m \u001b[1;33m\u001b[0m\u001b[0m\n\u001b[0;32m    348\u001b[0m         \u001b[1;32mif\u001b[0m \u001b[0mparsed_expr\u001b[0m\u001b[1;33m.\u001b[0m\u001b[0massigner\u001b[0m \u001b[1;32mis\u001b[0m \u001b[1;32mNone\u001b[0m\u001b[1;33m:\u001b[0m\u001b[1;33m\u001b[0m\u001b[1;33m\u001b[0m\u001b[0m\n",
      "\u001b[1;32m~\\anaconda3\\lib\\site-packages\\pandas\\core\\computation\\engines.py\u001b[0m in \u001b[0;36mevaluate\u001b[1;34m(self)\u001b[0m\n\u001b[0;32m     71\u001b[0m \u001b[1;33m\u001b[0m\u001b[0m\n\u001b[0;32m     72\u001b[0m         \u001b[1;31m# make sure no names in resolvers and locals/globals clash\u001b[0m\u001b[1;33m\u001b[0m\u001b[1;33m\u001b[0m\u001b[1;33m\u001b[0m\u001b[0m\n\u001b[1;32m---> 73\u001b[1;33m         \u001b[0mres\u001b[0m \u001b[1;33m=\u001b[0m \u001b[0mself\u001b[0m\u001b[1;33m.\u001b[0m\u001b[0m_evaluate\u001b[0m\u001b[1;33m(\u001b[0m\u001b[1;33m)\u001b[0m\u001b[1;33m\u001b[0m\u001b[1;33m\u001b[0m\u001b[0m\n\u001b[0m\u001b[0;32m     74\u001b[0m         return reconstruct_object(\n\u001b[0;32m     75\u001b[0m             \u001b[0mself\u001b[0m\u001b[1;33m.\u001b[0m\u001b[0mresult_type\u001b[0m\u001b[1;33m,\u001b[0m \u001b[0mres\u001b[0m\u001b[1;33m,\u001b[0m \u001b[0mself\u001b[0m\u001b[1;33m.\u001b[0m\u001b[0maligned_axes\u001b[0m\u001b[1;33m,\u001b[0m \u001b[0mself\u001b[0m\u001b[1;33m.\u001b[0m\u001b[0mexpr\u001b[0m\u001b[1;33m.\u001b[0m\u001b[0mterms\u001b[0m\u001b[1;33m.\u001b[0m\u001b[0mreturn_type\u001b[0m\u001b[1;33m\u001b[0m\u001b[1;33m\u001b[0m\u001b[0m\n",
      "\u001b[1;32m~\\anaconda3\\lib\\site-packages\\pandas\\core\\computation\\engines.py\u001b[0m in \u001b[0;36m_evaluate\u001b[1;34m(self)\u001b[0m\n\u001b[0;32m    112\u001b[0m         \u001b[0mscope\u001b[0m \u001b[1;33m=\u001b[0m \u001b[0menv\u001b[0m\u001b[1;33m.\u001b[0m\u001b[0mfull_scope\u001b[0m\u001b[1;33m\u001b[0m\u001b[1;33m\u001b[0m\u001b[0m\n\u001b[0;32m    113\u001b[0m         \u001b[0m_check_ne_builtin_clash\u001b[0m\u001b[1;33m(\u001b[0m\u001b[0mself\u001b[0m\u001b[1;33m.\u001b[0m\u001b[0mexpr\u001b[0m\u001b[1;33m)\u001b[0m\u001b[1;33m\u001b[0m\u001b[1;33m\u001b[0m\u001b[0m\n\u001b[1;32m--> 114\u001b[1;33m         \u001b[1;32mreturn\u001b[0m \u001b[0mne\u001b[0m\u001b[1;33m.\u001b[0m\u001b[0mevaluate\u001b[0m\u001b[1;33m(\u001b[0m\u001b[0ms\u001b[0m\u001b[1;33m,\u001b[0m \u001b[0mlocal_dict\u001b[0m\u001b[1;33m=\u001b[0m\u001b[0mscope\u001b[0m\u001b[1;33m)\u001b[0m\u001b[1;33m\u001b[0m\u001b[1;33m\u001b[0m\u001b[0m\n\u001b[0m\u001b[0;32m    115\u001b[0m \u001b[1;33m\u001b[0m\u001b[0m\n\u001b[0;32m    116\u001b[0m \u001b[1;33m\u001b[0m\u001b[0m\n",
      "\u001b[1;32m~\\anaconda3\\lib\\site-packages\\numexpr\\necompiler.py\u001b[0m in \u001b[0;36mevaluate\u001b[1;34m(ex, local_dict, global_dict, out, order, casting, **kwargs)\u001b[0m\n\u001b[0;32m    819\u001b[0m \u001b[1;33m\u001b[0m\u001b[0m\n\u001b[0;32m    820\u001b[0m     \u001b[1;31m# Create a signature\u001b[0m\u001b[1;33m\u001b[0m\u001b[1;33m\u001b[0m\u001b[1;33m\u001b[0m\u001b[0m\n\u001b[1;32m--> 821\u001b[1;33m     signature = [(name, getType(arg)) for (name, arg) in\n\u001b[0m\u001b[0;32m    822\u001b[0m                  zip(names, arguments)]\n\u001b[0;32m    823\u001b[0m \u001b[1;33m\u001b[0m\u001b[0m\n",
      "\u001b[1;32m~\\anaconda3\\lib\\site-packages\\numexpr\\necompiler.py\u001b[0m in \u001b[0;36m<listcomp>\u001b[1;34m(.0)\u001b[0m\n\u001b[0;32m    819\u001b[0m \u001b[1;33m\u001b[0m\u001b[0m\n\u001b[0;32m    820\u001b[0m     \u001b[1;31m# Create a signature\u001b[0m\u001b[1;33m\u001b[0m\u001b[1;33m\u001b[0m\u001b[1;33m\u001b[0m\u001b[0m\n\u001b[1;32m--> 821\u001b[1;33m     signature = [(name, getType(arg)) for (name, arg) in\n\u001b[0m\u001b[0;32m    822\u001b[0m                  zip(names, arguments)]\n\u001b[0;32m    823\u001b[0m \u001b[1;33m\u001b[0m\u001b[0m\n",
      "\u001b[1;32m~\\anaconda3\\lib\\site-packages\\numexpr\\necompiler.py\u001b[0m in \u001b[0;36mgetType\u001b[1;34m(a)\u001b[0m\n\u001b[0;32m    701\u001b[0m     \u001b[1;32mif\u001b[0m \u001b[0mkind\u001b[0m \u001b[1;33m==\u001b[0m \u001b[1;34m'S'\u001b[0m\u001b[1;33m:\u001b[0m\u001b[1;33m\u001b[0m\u001b[1;33m\u001b[0m\u001b[0m\n\u001b[0;32m    702\u001b[0m         \u001b[1;32mreturn\u001b[0m \u001b[0mbytes\u001b[0m\u001b[1;33m\u001b[0m\u001b[1;33m\u001b[0m\u001b[0m\n\u001b[1;32m--> 703\u001b[1;33m     \u001b[1;32mraise\u001b[0m \u001b[0mValueError\u001b[0m\u001b[1;33m(\u001b[0m\u001b[1;34m\"unknown type %s\"\u001b[0m \u001b[1;33m%\u001b[0m \u001b[0ma\u001b[0m\u001b[1;33m.\u001b[0m\u001b[0mdtype\u001b[0m\u001b[1;33m.\u001b[0m\u001b[0mname\u001b[0m\u001b[1;33m)\u001b[0m\u001b[1;33m\u001b[0m\u001b[1;33m\u001b[0m\u001b[0m\n\u001b[0m\u001b[0;32m    704\u001b[0m \u001b[1;33m\u001b[0m\u001b[0m\n\u001b[0;32m    705\u001b[0m \u001b[1;33m\u001b[0m\u001b[0m\n",
      "\u001b[1;31mValueError\u001b[0m: unknown type object"
     ]
    }
   ],
   "source": [
    "data_2008 = data.query('year_of_release>2007')\n",
    "display(data_2008.head(50))\n",
    "data_2008.info()"
   ]
  },
  {
   "cell_type": "markdown",
   "metadata": {},
   "source": [
    "Отсеяв строки с датой релиза до 2008 года имеем 8192 строки (чуть меньше половины перврначального сета - 16713). "
   ]
  },
  {
   "cell_type": "code",
   "execution_count": null,
   "metadata": {},
   "outputs": [],
   "source": [
    "# Рассмотрим наиболее популярные платформы.\n",
    "top_platform_sales_2008 = data_2008.groupby('platform')['all_sales'].sum().sort_values(ascending=False).head(7)\n",
    "print(top_platform_sales_2008)"
   ]
  },
  {
   "cell_type": "markdown",
   "metadata": {},
   "source": [
    "<div class=\"alert alert-danger\">\n",
    "<h2> Комментарий ревьюера </h2>\n",
    "\n",
    "Актуальный период назван. Лучше его уменьшить. Сейчас у тебя в периоде содержится 2 этапа развития индустрии: пик 2008 и 2009 годов, а также сокращение рынка последних годов. Также большей части платформ уже нет в 2016 году, в построении прогноза на 2017 год они нам не помогут. При уменьшении периода в рассмотрение попадут только последние поколения платформ, а также будем рассматривать только конечный на данный момент интервал развития игровой индустрии. \n",
    "\n",
    "</div>"
   ]
  },
  {
   "cell_type": "markdown",
   "metadata": {},
   "source": [
    "<div class=\"alert alert-block alert-info\">\n",
    "<b>Fixed:</b> \n",
    "Сголасен, но обрубив данные более поздним годом в частности потеряем портативные консоли 3DS (уступила позиции, но еще жива и занимает свою нишу) и безусловного лидера Wii (в настоящее время не поддерживается, но внесла серьезный вклад). Также не будет видна приемственность PS3/PS4 и X360/XOne и изменчивость пользовательских предпочтений. В дальнейшем анализе использую данные 2008-2016гг. и где требуется отдельно анализирую 2013-2016гг.\n",
    "</div>"
   ]
  },
  {
   "cell_type": "markdown",
   "metadata": {},
   "source": [
    "<div class=\"alert alert-success\">\n",
    "<h2> Комментарий ревьюера 2</h2>\n",
    "\n",
    "Ок, с твоей позицией также согласен. Но тогда встает вопрос: как определить, в каком анализе какой период брать? Все же основная задача исследования - построить прогноз на 2017 год. Это мы можем сделать лишь при анализе данных последнего времени.  \n",
    "\n",
    "</div>"
   ]
  },
  {
   "cell_type": "markdown",
   "metadata": {},
   "source": [
    "<a name=\"s3_4\"></a>\n",
    "#### Продажи и релизы разных платформ по годам релиза. ТОП 2008-2016"
   ]
  },
  {
   "cell_type": "code",
   "execution_count": null,
   "metadata": {},
   "outputs": [],
   "source": [
    "# Продажи платформ по годам релиза\n",
    "platform_sales_2008_by_years = data_2008.pivot_table(index='year_of_release', columns='platform', values='all_sales', aggfunc='sum')\n",
    "display(platform_sales_2008_by_years.tail(3))\n",
    "\n",
    "# Продажи топовых платформ по годам релиза\n",
    "top_platform_sales_2008_by_years = platform_sales_2008_by_years.loc[:, top_platform_sales_2008.index]\n",
    "\n",
    "\n",
    "# Год ограничен 2015 т.к. данные по 2016 не полные и графики дают обманчивое представление\n",
    "top_platform_sales_2008_by_years.query('year_of_release<2016').plot.area(stacked=False, grid=True, figsize=(12, 4)) #\n",
    "plt.title(\"Продажи топовых платформ по годам релиза 2008-2015\")\n",
    "plt.ylabel(\"Количество проданных копий (за все годы), млн. шт.\")\n",
    "plt.xlabel(\"Год релиза\");"
   ]
  },
  {
   "cell_type": "code",
   "execution_count": null,
   "metadata": {},
   "outputs": [],
   "source": [
    "# Релизы по годам\n",
    "platform_releases_2008_by_years = data_2008.pivot_table(index='year_of_release', columns='platform', values='name', aggfunc='count')\n",
    "top_platform_releases_2008_by_years = platform_releases_2008_by_years.loc[:, top_platform_sales_2008.index]\n",
    "top_platform_releases_2008_by_years.plot.area(stacked=False, grid=True, figsize=(14, 6))\n",
    "plt.title(\"Релизы топовых платформ по годам 2008-2016\")\n",
    "plt.ylabel(\"Количество выпущенных игр. шт.\")\n",
    "plt.xlabel(\"Год релиза\");"
   ]
  },
  {
   "cell_type": "markdown",
   "metadata": {},
   "source": [
    "#### Среди популярных платформ имеем следующую картину:  \n",
    "* В 2009 году явно лидирует Wii с рекордными 200 млн. продаж., результаты падающей DS и растущих PS3 и X360 в районе 125 млн. \n",
    "* с 2010 по 2013 в лидерах PS3 и X360 и на заднем плане 3DS\n",
    "* c 2013 набирают популярность PS4 и XOne  \n",
    "\n",
    "Можно предположить что в 2017 или немного позже PS4 и XOne достигнут пика популярности. Далее необходимо отслеживать появление консолей которые придут им на замену."
   ]
  },
  {
   "cell_type": "markdown",
   "metadata": {},
   "source": [
    "<div class=\"alert alert-success\">\n",
    "<h2> Комментарий ревьюера </h2>\n",
    "\n",
    "Да, именно вышеназванные платформы мы и можем назвать перспективными на 2017 год. \n",
    "\n",
    "</div>"
   ]
  },
  {
   "cell_type": "markdown",
   "metadata": {},
   "source": [
    "<a name=\"s3_5\"></a>\n",
    "#### Продажи игр по платформе"
   ]
  },
  {
   "cell_type": "code",
   "execution_count": null,
   "metadata": {
    "scrolled": false
   },
   "outputs": [],
   "source": [
    "platform_sales_2008_by_name = data_2008.pivot_table(index='name', columns='platform', values='all_sales')\n",
    "top_platform_sales_2008_by_name = platform_sales_2008_by_name.loc[:, top_platform_sales_2008.index]\n",
    "display(top_platform_sales_2008_by_name.head(3))\n",
    "top_platform_sales_2008_by_name.plot.box(figsize=(8, 10), ylim=(0, 2), grid=True)\n",
    "plt.title(\"Диаграмма размаха продаж игр 2008-2016 для основных платформ\")\n",
    "plt.ylabel(\"Продано, млн. шт.\")\n",
    "plt.xlabel(\"Платформа\");\n",
    "top_platform_sales_2008_by_name.describe()"
   ]
  },
  {
   "cell_type": "markdown",
   "metadata": {},
   "source": [
    "<div class=\"alert alert-success\">\n",
    "<h2> Комментарий ревьюера </h2>\n",
    "\n",
    "С предупреждениями также стоит разобраться. Иногда их бывает слишком много, поэтому важно уметь их скрывать. В этом тебе поможет библиотека warnings. Попробуй найти подходящий метод и убрать предупреждения.  \n",
    "\n",
    "</div>"
   ]
  },
  {
   "cell_type": "markdown",
   "metadata": {},
   "source": [
    "<div class=\"alert alert-block alert-info\">\n",
    "<b>Fixed:</b>\n",
    "</div>"
   ]
  },
  {
   "cell_type": "markdown",
   "metadata": {},
   "source": [
    "<div class=\"alert alert-success\">\n",
    "<h2> Комментарий ревьюера 2</h2>\n",
    "\n",
    "👍 \n",
    "\n",
    "</div>"
   ]
  },
  {
   "cell_type": "markdown",
   "metadata": {},
   "source": [
    "Медианы между 0,1 и 0,3 млн. (средняя игра продается в количестве 200 тыс. экземпляров). Разброс очень большой. Популярные игры (не говоря уже про \"хиты\") продаются с большим отрывом от медианных и средних значений. "
   ]
  },
  {
   "cell_type": "markdown",
   "metadata": {},
   "source": [
    "<div class=\"alert alert-warning\">\n",
    "<h2> Комментарий ревьюера</h2>\n",
    " \n",
    "Подумай, из-за чего формируется разница между платформами. Старайся не только описывать результат, но и трактовать его. \n",
    "\n",
    "</div>"
   ]
  },
  {
   "cell_type": "markdown",
   "metadata": {},
   "source": [
    "<div class=\"alert alert-block alert-info\">\n",
    "<b>Fixed:</b> \n",
    "    \n",
    " * 3DS - нишевая портативная консоль с не очень высокими продажами, \n",
    "    \n",
    " * для DS выпускалось огромное количество игр, между которыми \"размазаны\" высокие в целом продажи, что дает невысокие средние показатели,  \n",
    "    \n",
    " * Wii имеет безусловных лидеров с огромными продажами, но продажи большинства игр ниже среднего. \n",
    "</div>"
   ]
  },
  {
   "cell_type": "markdown",
   "metadata": {},
   "source": [
    "<div class=\"alert alert-success\">\n",
    "<h2> Комментарий ревьюера 2</h2>\n",
    "\n",
    "Форм-фактор оказывает свое влияние. Верное наблюдение. Также влияет и число активных платформ на рынке. \n",
    "</div>"
   ]
  },
  {
   "cell_type": "markdown",
   "metadata": {},
   "source": [
    "<a name=\"s3_6\"></a>\n",
    "#### Зависимость отзывов и продаж"
   ]
  },
  {
   "cell_type": "code",
   "execution_count": null,
   "metadata": {},
   "outputs": [],
   "source": [
    "data_08_15_PS3 = data_2008.query('platform==\"PS3\"')\n",
    "data_08_15_PS3.plot.scatter(x='critic_score', y='all_sales', ylim=(0, 6), figsize=(14, 6));\n",
    "plt.title(\"Диаграмма рассеяния продаж/оценок критиков 2008-2015 для 'PS3'\")\n",
    "plt.ylabel(\"Продано, млн. шт.\")\n",
    "plt.xlabel(\"Оценка критиков (0-100)\")\n",
    "plt.show()\n",
    "corr1 = data_08_15_PS3['all_sales'].corr(data_08_15_PS3['critic_score'].astype('float'))\n",
    "print('Коэффицициент корреляции Пирсона (продажи и оценки критиков) для PS3:', corr1)"
   ]
  },
  {
   "cell_type": "code",
   "execution_count": null,
   "metadata": {
    "scrolled": false
   },
   "outputs": [],
   "source": [
    "data_08_15_PS3.plot.scatter(x='user_score', y='all_sales', ylim=(0, 6), figsize=(14, 6));\n",
    "plt.title(\"Диаграмма рассеяния продаж/оценок пользователей 2008-2015 для 'PS3'\")\n",
    "plt.ylabel(\"Продано, млн. шт.\")\n",
    "plt.xlabel(\"Оценка пользователей (0-10)\")\n",
    "plt.show()\n",
    "corr1 = data_08_15_PS3['all_sales'].corr(data_08_15_PS3['user_score'])\n",
    "print('Коэффицициент корреляции Пирсона (продажи и оценки пользователей) для PS3:', corr1)"
   ]
  },
  {
   "cell_type": "markdown",
   "metadata": {},
   "source": [
    "Диаграммы (для PS3 в 2008-2015гг.) показывают что зависимость успешности игры и её оценок прослеживается, но не всегда очевидна.  \n",
    "При принятии решения о покупке (или не покупке) игры рейтинг чаще не является весомым фактором.  \n",
    "Сравнивая оценки критиков и пользователей можно сделать вывод что критики более объективны. Вероятно на оценки пользователей влияют личные предпочтения и прочие субъективные факторы. Подобная картина характерна также для других платформ."
   ]
  },
  {
   "cell_type": "markdown",
   "metadata": {},
   "source": [
    "<div class=\"alert alert-danger\">\n",
    "<h2> Комментарий ревьюера </h2>\n",
    "\n",
    "Результат получен. Здорово, что ты проанализировал причины появления такого результата. Однако стоит оценить и результаты по другим платформам. Сделать надежные выводы лишь по одной платформе мы не можем. \n",
    "</div>"
   ]
  },
  {
   "cell_type": "code",
   "execution_count": null,
   "metadata": {
    "scrolled": false
   },
   "outputs": [],
   "source": [
    "for platf in top_platform_sales_2008.index:\n",
    "    data_corr = data_2008[data_2008['platform']==platf]\n",
    "    corr1 = data_corr['all_sales'].corr(data_corr['critic_score'].astype('float'))\n",
    "    print('Коэффицициент корреляции Пирсона (продажи и оценки критиков) для', platf, ':', corr1)\n",
    "print()\n",
    "for platf in top_platform_sales_2008.index:\n",
    "    data_corr = data_2008[data_2008['platform']==platf]\n",
    "    corr1 = data_corr['all_sales'].corr(data_corr['user_score'])\n",
    "    print('Коэффицициент корреляции Пирсона (продажи и оценки пользователей) для', platf, ':', corr1)"
   ]
  },
  {
   "cell_type": "code",
   "execution_count": null,
   "metadata": {},
   "outputs": [],
   "source": [
    "data_08_15_PS3 = data_2008.query('platform==\"XOne\"')\n",
    "data_08_15_PS3.plot.scatter(x='user_score', y='all_sales', ylim=(0, 5), figsize=(14, 6));\n",
    "plt.title(\"Диаграмма рассеяния продаж/оценок пользователей 2008-2015 для 'XOne'\")\n",
    "plt.ylabel(\"Продано, млн. шт.\")\n",
    "plt.xlabel(\"Оценка пользователей (0-10)\")\n",
    "plt.show()\n",
    "corr1 = data_08_15_PS3['all_sales'].corr(data_08_15_PS3['user_score'].astype('float'))\n",
    "print('Коэффицициент корреляции Пирсона (продажи и оценки пользователей) для XOne:', corr1)"
   ]
  },
  {
   "cell_type": "markdown",
   "metadata": {},
   "source": [
    "<div class=\"alert alert-block alert-info\">\n",
    "<b>Fixed:</b> \n",
    "Подобная картина характерна также для других платформ.  \n",
    "Ориентироваться на оценки пользователей для новых платформ (PS-4, XOne) нельзя. Возможно связано с высокими оценками до покупки или на старте продаж.\n",
    "</div>"
   ]
  },
  {
   "cell_type": "markdown",
   "metadata": {},
   "source": [
    "<div class=\"alert alert-success\">\n",
    "<h2> Комментарий ревьюера 2</h2>\n",
    "\n",
    "Анализ иных платформ проведен. Так мы можем подтвердить выводы, сделанные ранее. \n",
    "\n",
    "</div>"
   ]
  },
  {
   "cell_type": "code",
   "execution_count": null,
   "metadata": {},
   "outputs": [],
   "source": [
    "data_2008.query(\"platform=='PS3'\")"
   ]
  },
  {
   "cell_type": "markdown",
   "metadata": {},
   "source": [
    "<a name=\"s3_7\"></a>\n",
    "#### Успешность игр в зависимости от жанров"
   ]
  },
  {
   "cell_type": "code",
   "execution_count": null,
   "metadata": {},
   "outputs": [],
   "source": [
    "# Количество игр и суммарные продажи по жанрам\n",
    "world_janres_2008 = data_2008.pivot_table(index='genre', values='all_sales', aggfunc=('count', 'sum', 'mean'))\n",
    "world_janres_2008.set_axis(['games_quantity', 'average_sales', 'sum_sales'], axis='columns', inplace=True)\n",
    "display(world_janres_2008)\n",
    "print()\n"
   ]
  },
  {
   "cell_type": "markdown",
   "metadata": {},
   "source": [
    "Статистика по продажам игр разного жанра (по миру):\n",
    "* Наиболее популярные жанры (по убыванию): Action, Shooter, Sports. \n",
    "* Менее популярные: Role-Playing, Misc, Racing, Platform\n",
    "* Редкие: Fighting, Simulation, Adventure, Strategy, Puzzle  \n",
    "\n",
    "При этом \"средний\" Shooter почти в двое популярнее \"средней\" игры жанра Action (из за разного количества выпускаемых игр разных жанров).\n",
    "\n",
    "<a name=\"s3_7_1\"></a>\n",
    "Посмотрим какая картина среди лидеров продаж (игры с продажами более 2 млн.)."
   ]
  },
  {
   "cell_type": "code",
   "execution_count": null,
   "metadata": {},
   "outputs": [],
   "source": [
    "world_janres_2008_TOP = data_2008.query('all_sales>2').pivot_table(index='genre', values='all_sales', \n",
    "                                                                   aggfunc=('count', 'sum', 'mean')).reset_index()\n",
    "world_janres_2008_TOP.set_axis(['genre', 'games_quantity', 'average_sales', 'sum_sales'], axis='columns', inplace=True)\n",
    "world_janres_2008_TOP['sales_%']=world_janres_2008_TOP['sum_sales']/world_janres_2008_TOP['sum_sales'].sum()*100\n",
    "display(world_janres_2008_TOP)\n",
    "# world_janres_2008_TOP.plot.bar(y='sum_sales', figsize=(6, 6), legend=False, color='lime',\n",
    "#                title='Продажи по жанрам среди игр с продажами свыше 2 млн. за 2008-2016гг.'); # .pie autopct='%.1f'"
   ]
  },
  {
   "cell_type": "code",
   "execution_count": null,
   "metadata": {},
   "outputs": [],
   "source": [
    "ax = sns.barplot(y='genre', x=\"sales_%\", data=world_janres_2008_TOP, dodge=False)\n",
    "plt.xticks(rotation=90)\n",
    "plt.title(\"Продажи по жанрам среди игр с продажами свыше 2 млн. за 2008-2016гг.\")\n",
    "plt.ylabel(\"Жанр\")\n",
    "plt.xlabel(\"Доля, %\");"
   ]
  },
  {
   "cell_type": "markdown",
   "metadata": {},
   "source": [
    "Для популярных игр картина уже немного иная: лидируют Shooter, за ними Action и Sports"
   ]
  },
  {
   "cell_type": "markdown",
   "metadata": {},
   "source": [
    "<div class=\"alert alert-success\">\n",
    "<h2> Комментарий ревьюера </h2>\n",
    "\n",
    "Анализ популярности жанров проведен. Однако не стоит забывать, что производство игр в жанрах Action или Shooter обходится сильно дороже, чем производство Puzzle-игр. \n",
    "\n",
    "</div>"
   ]
  },
  {
   "cell_type": "markdown",
   "metadata": {},
   "source": [
    "<div class=\"alert alert-warning\">\n",
    "<h2> Комментарий ревьюера</h2>\n",
    " \n",
    "Не советую использовать пироговые диаграммы (pie-charts). Такая диаграмма затрудняет понимание, особенно если сегментов будет больше 4х. Также, на этом типе диаграмм сложно визуально увидеть разницу между сегментами. Рекомендую использовать обычные столбчатые диаграммы вместо пироговых диаграмм. \n",
    "\n",
    "</div>"
   ]
  },
  {
   "cell_type": "markdown",
   "metadata": {},
   "source": [
    "<div class=\"alert alert-block alert-info\">\n",
    "<b>Fixed:</b>\n",
    "</div>"
   ]
  },
  {
   "cell_type": "markdown",
   "metadata": {},
   "source": [
    "[вернуться к оглавлению](#plan) \n",
    "<a name=\"s4\"></a>\n",
    "### Шаг 4. Портрет пользователя каждого региона.\n",
    "#### Самые популярные платформы\n",
    "В данной части учитывать устаревшие платформы будет неправильно. Посмотрим ТОП-5 актуальных на 2016г. платформ и оценим продажи за 2013-2016гг."
   ]
  },
  {
   "cell_type": "code",
   "execution_count": null,
   "metadata": {},
   "outputs": [],
   "source": [
    "# ТОП-5 платформ по проданным играм в 2016г.\n",
    "top5_platform = data_2008.query(\n",
    "    'year_of_release==2016').groupby('platform')['all_sales'].sum().sort_values(ascending=False).head(5)\n",
    "print(top5_platform)"
   ]
  },
  {
   "cell_type": "code",
   "execution_count": null,
   "metadata": {},
   "outputs": [],
   "source": [
    "print('Доля продаж игр для разных платформ по регионам 2013-2016гг.')\n",
    "# Продажи по регионам 2013-2016г. \n",
    "platform_by_region = data_2008.query('year_of_release>2012').pivot_table(\n",
    "    index='platform', values=['all_sales', 'na_sales', 'eu_sales', 'jp_sales'], aggfunc='sum')\n",
    "\n",
    "# Продажи по регионам для 5 актуальных платформ 2013-2016г. \n",
    "platform_by_region5 = data_2008.query('year_of_release>2012 and platform in @top5_platform.index').pivot_table(\n",
    "    index='platform', values=['all_sales', 'na_sales', 'eu_sales', 'jp_sales'], aggfunc='sum')\n",
    "\n",
    "print()\n",
    "# Доля в процентах с учетом не вошедших в ТОП-5\n",
    "for column in platform_by_region5.columns:\n",
    "    platform_by_region5[column] = platform_by_region5[column]/platform_by_region[column].sum()*100\n",
    "platform_by_region5.set_axis(['all_sales_%', 'eu_sales_%', 'jp_sales_%', 'na_sales_%'], axis='columns', inplace=True)\n",
    "display(platform_by_region5)"
   ]
  },
  {
   "cell_type": "code",
   "execution_count": null,
   "metadata": {},
   "outputs": [],
   "source": [
    "platform_by_region5.plot.bar(figsize=(10, 6))\n",
    "plt.title('Диаграмма распределения доли платформ для разных регионов')\n",
    "plt.ylabel('доля, %')\n",
    "plt.xlabel('платформа')\n",
    "plt.xticks(rotation=0);"
   ]
  },
  {
   "cell_type": "markdown",
   "metadata": {},
   "source": [
    "* В Японии не принято играть на PC. Из-за высокого ритма жизни там чаще используют для игр портативные консоли (3DS, реже WiiU), позволяющие играть в транспорте, общественных местах и \"на бегу\". Для дома выбирают PS4. Родина игровых девайсов (Nintendo, Sony и пр.) в заморской диковинке XOne от Microsoft не нуждается.\n",
    "* Северная Америка разделилась между PS4 и конкурирующей с ней XOne, также свою нишу портативных консолей занимают 3DS и WiiU.\n",
    "* Европе \"милее\" PS4, доля XOne почти втрое меньше. Как и в США+Канаде есть продажи игр для портативных консолей, но есть и любители игр для персонального компьютера."
   ]
  },
  {
   "cell_type": "markdown",
   "metadata": {},
   "source": [
    "<a name=\"s4_2\"></a>\n",
    "#### Самые популярные жанры."
   ]
  },
  {
   "cell_type": "markdown",
   "metadata": {},
   "source": [
    "Вкусовые предпочтения игроков меняются медленнее чем консоли - поэтому можно анализировать 2008-2016гг."
   ]
  },
  {
   "cell_type": "code",
   "execution_count": null,
   "metadata": {},
   "outputs": [],
   "source": [
    "# ТОП-5 жанров по продажам с 2008г. по 2016г.\n",
    "top5_genres = data_2008.groupby('genre')['all_sales'].sum().sort_values(ascending=False).head(5)\n",
    "print(top5_genres)"
   ]
  },
  {
   "cell_type": "code",
   "execution_count": null,
   "metadata": {},
   "outputs": [],
   "source": [
    "print('Доля продаж игр ТОП-5 жанров по регионам 2008-2016гг.')\n",
    "# Продажи по жанрам 2008-2016г. \n",
    "genres_by_region = data_2008.pivot_table(\n",
    "    index='genre', values=['all_sales', 'na_sales', 'eu_sales', 'jp_sales'], aggfunc='sum')\n",
    "\n",
    "# Продажи по жанрам из ТОП-5 2008-2016г.\n",
    "genres_by_region5 = data_2008.query('genre in @top5_genres.index').pivot_table(\n",
    "    index='genre', values=['all_sales', 'na_sales', 'eu_sales', 'jp_sales'], aggfunc='sum')\n",
    "\n",
    "# Доля в процентах с учетом не вошедших в ТОП-5\n",
    "for column in genres_by_region.columns:\n",
    "    genres_by_region5[column] = genres_by_region5[column]/genres_by_region[column].sum()*100\n",
    "genres_by_region5.set_axis(['all_sales_%', 'eu_sales_%', 'jp_sales_%', 'na_sales_%'], axis='columns', inplace=True)\n",
    "display(genres_by_region5)\n",
    "\n",
    "print()\n",
    "print ('Доля продаж игр ТОП-5 жанров по регионам 2013-2016гг.')\n",
    "# Продажи по жанрам 2013-2016г. \n",
    "genres_by_region = data_2008.query('year_of_release>2012').pivot_table(\n",
    "    index='genre', values=['all_sales', 'na_sales', 'eu_sales', 'jp_sales'], aggfunc='sum')\n",
    "\n",
    "# Продажи по жанрам из ТОП-5 2013-2016г.\n",
    "genres_by_region5 = data_2008.query('year_of_release>2012 and genre in @top5_genres.index').pivot_table(\n",
    "    index='genre', values=['all_sales', 'na_sales', 'eu_sales', 'jp_sales'], aggfunc='sum')\n",
    "\n",
    "# Доля в процентах с учетом не вошедших в ТОП-5\n",
    "for column in genres_by_region.columns:\n",
    "    genres_by_region5[column] = genres_by_region5[column]/genres_by_region[column].sum()*100\n",
    "genres_by_region5.set_axis(['all_sales_%', 'eu_sales_%', 'jp_sales_%', 'na_sales_%'], axis='columns', inplace=True)\n",
    "display(genres_by_region5)"
   ]
  },
  {
   "cell_type": "code",
   "execution_count": null,
   "metadata": {},
   "outputs": [],
   "source": [
    "genres_by_region5.plot.bar(figsize=(10, 6))\n",
    "plt.title('Диаграмма распределения доли жанров для разных регионов')\n",
    "plt.ylabel('доля, %')\n",
    "plt.xlabel('жанр')\n",
    "plt.xticks(rotation=0);"
   ]
  },
  {
   "cell_type": "markdown",
   "metadata": {},
   "source": [
    "Все любят Action. Северная америка и Европа кроме того играют в Shooter и Sports, а в Японии эти два жанра отдают свои проценты в пользу Role-Playing - традиционно Японского жанра, занимающего там 1 место.  \n",
    "За последние 4 года интерес игроков немного сместился от Misc и Sports к Action, Shooter и Role-Playing."
   ]
  },
  {
   "cell_type": "markdown",
   "metadata": {},
   "source": [
    "<div class=\"alert alert-success\">\n",
    "<h2> Комментарий ревьюера </h2>\n",
    " \n",
    "Из-за чего японский рынок игр так сильно отличается от других? \n",
    "\n",
    "</div>"
   ]
  },
  {
   "cell_type": "markdown",
   "metadata": {},
   "source": [
    "<div class=\"alert alert-block alert-info\">\n",
    "<b>Fixed:</b>\n",
    "    Тема для отдельного исследования.\n",
    "</div>"
   ]
  },
  {
   "cell_type": "markdown",
   "metadata": {},
   "source": [
    "<div class=\"alert alert-success\">\n",
    "<h2> Комментарий ревьюера 2</h2>\n",
    "\n",
    "В целом, мы можем сказать, что культура данной страны отличается от других, что и влияет на игровой рынок. \n",
    "\n",
    "</div>"
   ]
  },
  {
   "cell_type": "markdown",
   "metadata": {},
   "source": [
    "<a name=\"s4_3\"></a>\n",
    "#### Рейтинг ESRB и продажи в регионах."
   ]
  },
  {
   "cell_type": "code",
   "execution_count": null,
   "metadata": {},
   "outputs": [],
   "source": [
    "data_2008['rating']=data_2008['rating'].fillna('0')"
   ]
  },
  {
   "cell_type": "code",
   "execution_count": null,
   "metadata": {},
   "outputs": [],
   "source": [
    "print('Доля продаж игр разного рейтинга ESRB по регионам 2008-2016гг.')\n",
    "# Продажи по рейтингу ESRB 2008-2016г.\n",
    "ESRB_by_region = data_2008.pivot_table(\n",
    "    index='rating', values=['all_sales', 'na_sales', 'eu_sales', 'jp_sales'], aggfunc='sum')\n",
    "#display(ESRB_by_region)\n",
    "\n",
    "# Доля в процентах\n",
    "for column in ESRB_by_region.columns:\n",
    "    ESRB_by_region[column] = ESRB_by_region[column]/ESRB_by_region[column].sum()*100\n",
    "ESRB_by_region.set_axis(['all_sales_%', 'eu_sales_%', 'jp_sales_%', 'na_sales_%'], axis='columns', inplace=True)\n",
    "display(ESRB_by_region)\n",
    "\n",
    "print()\n",
    "print ('Доля продаж игр разного рейтинга ESRB по регионам 2013-2016гг.')\n",
    "# Продажи по рейтингу ESRB 2013-2016г.\n",
    "ESRB_by_region = data_2008.query('year_of_release>2012').pivot_table(\n",
    "    index='rating', values=['all_sales', 'na_sales', 'eu_sales', 'jp_sales'], aggfunc='sum')\n",
    "\n",
    "# Доля в процентах\n",
    "for column in ESRB_by_region.columns:\n",
    "    ESRB_by_region[column] = ESRB_by_region[column]/ESRB_by_region[column].sum()*100\n",
    "ESRB_by_region.set_axis(['all_sales_%', 'eu_sales_%', 'jp_sales_%', 'na_sales_%'], axis='columns', inplace=True)\n",
    "display(ESRB_by_region)"
   ]
  },
  {
   "cell_type": "markdown",
   "metadata": {},
   "source": [
    "В Японии предпочтения по возрастному рейтингу смещены от игр 17+(M) к играм 13+(T) а также от 10+(E10+) к 06+(E).  \n",
    "В целом (для 2013-2016 по отношению к 2008-2016) можно отметить рост доли \"взрослых\" (17+) игр за счет снижения \"детских\" (6+). Возможно это связано с \"взрослением\" среднего геймера."
   ]
  },
  {
   "cell_type": "code",
   "execution_count": null,
   "metadata": {},
   "outputs": [],
   "source": [
    "ESRB_by_region.plot.bar(figsize=(10, 6))\n",
    "plt.title('Диаграмма распределения доли рейтинга игр для разных регионов')\n",
    "plt.ylabel('доля, %')\n",
    "plt.xlabel('рейтинг')\n",
    "plt.xticks(rotation=0)"
   ]
  },
  {
   "cell_type": "markdown",
   "metadata": {},
   "source": [
    "<div class=\"alert alert-danger\">\n",
    "<h2> Комментарий ревьюера</h2>\n",
    "\n",
    "Обрати внимание - ты не учитываешь игры без рейтинга. В результате огромная часть игр просто выпадает из анализа. Найди способ учесть их при группировке значений по рейтингу.\n",
    "    \n",
    "</div>"
   ]
  },
  {
   "cell_type": "markdown",
   "metadata": {},
   "source": [
    "<div class=\"alert alert-block alert-info\">\n",
    "<b>Fixed:</b>\n",
    "    Заполнил '0'. Наличие большого количества пропусков в Японии возможно связано с популярностью там жанра Role-Playing и игр собственной разработки. Такие игры в основном нацелены на \"внутренний рынок\" и не требуют обязательной оценки по американской системе рейтингов ESRB.\n",
    "</div>"
   ]
  },
  {
   "cell_type": "markdown",
   "metadata": {},
   "source": [
    "<div class=\"alert alert-success\">\n",
    "<h2> Комментарий ревьюера 2</h2>\n",
    "\n",
    "Круто, что ты не просто отметил особенность японского региона, но и обосновал причину появления такого результата, молодец. \n",
    "\n",
    "</div>"
   ]
  },
  {
   "cell_type": "markdown",
   "metadata": {},
   "source": [
    "<div class=\"alert alert-danger\">\n",
    "<h2> Комментарий ревьюера </h2>\n",
    "\n",
    "Портрет типичного пользователя каждого из регионов получен. Стоит визуализировать все полученные таблицы. Уж очень не хватает графиков в данном разделе работы. \n",
    "\n",
    "</div>"
   ]
  },
  {
   "cell_type": "markdown",
   "metadata": {},
   "source": [
    "<div class=\"alert alert-block alert-info\">\n",
    "<b>Fixed:</b>\n",
    "    Готово.\n",
    "</div>"
   ]
  },
  {
   "cell_type": "markdown",
   "metadata": {},
   "source": [
    "<div class=\"alert alert-success\">\n",
    "<h2> Комментарий ревьюера 2</h2>\n",
    "\n",
    "Старайся всегда визуализировать получаемую в работе информацию.\n",
    "\n",
    "</div>"
   ]
  },
  {
   "cell_type": "markdown",
   "metadata": {},
   "source": [
    "[вернуться к оглавлению](#plan) \n",
    "<a name=\"s5\"></a>\n",
    "### Шаг 5. Проверка гипотез.\n",
    "#### Средние пользовательские рейтинги платформ Xbox One и PC одинаковые?\n",
    "Сформулируем нулевую гипотезу следующим образом: средние пользовательские рейтинги платформ Xbox One и PC равны.\n",
    "Тогда альтернативная гипотеза будет звучать так: средние пользовательские рейтинги платформ Xbox One и PC разные."
   ]
  },
  {
   "cell_type": "code",
   "execution_count": null,
   "metadata": {},
   "outputs": [],
   "source": [
    "print('Дисперсия пользовательских рейтингов для XOne: {:.2f} баллов в квадрате'.format(np.var(\n",
    "        data_2008.query('platform==\"XOne\"')['user_score'], ddof=1)))\n",
    "\n",
    "print('Дисперсия пользовательских рейтингов для PC: {:.2f} баллов в квадрате'.format(np.var(\n",
    "        data_2008.query('platform==\"PC\"')['user_score'], ddof=1)))"
   ]
  },
  {
   "cell_type": "code",
   "execution_count": null,
   "metadata": {},
   "outputs": [],
   "source": [
    "alpha = .05\n",
    "\n",
    "results = st.ttest_ind(\n",
    "    data_2008.query('platform==\"XOne\"')['user_score'].dropna(), \n",
    "    data_2008.query('platform==\"PC\"')['user_score'].dropna(), \n",
    "    equal_var = False) #т.к. дисперсии для тарифов различны\n",
    "\n",
    "print('p-значение:', results.pvalue)\n",
    "\n",
    "if (results.pvalue < alpha):\n",
    "    print(\"Отвергаем нулевую гипотезу\")\n",
    "else:\n",
    "    print(\"Не получилось отвергнуть нулевую гипотезу\")"
   ]
  },
  {
   "cell_type": "markdown",
   "metadata": {},
   "source": [
    "Возможно средние пользовательские рейтинги платформ Xbox One и PC одинаковые."
   ]
  },
  {
   "cell_type": "markdown",
   "metadata": {},
   "source": [
    "<div class=\"alert alert-success\">\n",
    "<h2> Комментарий ревьюера </h2>\n",
    "\n",
    "Гипотезы сформулированы и проверены верно.\n",
    "\n",
    "</div>"
   ]
  },
  {
   "cell_type": "markdown",
   "metadata": {},
   "source": [
    "<a name=\"s5_2\"></a>\n",
    "#### Средние пользовательские рейтинги жанров Action и Sports разные?\n",
    "Сформулируем нулевую гипотезу следующим образом: средние пользовательские рейтинги жанров Action и Sports равны.\n",
    "Тогда альтернативная гипотеза будет звучать так: средние пользовательские рейтинги жанров Action и Sports разные."
   ]
  },
  {
   "cell_type": "code",
   "execution_count": null,
   "metadata": {},
   "outputs": [],
   "source": [
    "print('Дисперсия пользовательских рейтингов жанра Action: {:.2f} баллов в квадрате'.format(np.var(\n",
    "        data_2008.query('genre==\"Action\"')['user_score'], ddof=1)))\n",
    "\n",
    "print('Дисперсия пользовательских рейтингов жанра Sports: {:.2f} баллов в квадрате'.format(np.var(\n",
    "        data_2008.query('genre==\"Sports\"')['user_score'], ddof=1)))"
   ]
  },
  {
   "cell_type": "code",
   "execution_count": null,
   "metadata": {},
   "outputs": [],
   "source": [
    "alpha = .05\n",
    "\n",
    "results = st.ttest_ind(\n",
    "    data_2008.query('genre==\"Action\"')['user_score'].dropna(), \n",
    "    data_2008.query('genre==\"Sports\"')['user_score'].dropna(), \n",
    "    equal_var = False) #т.к. дисперсии для тарифов различны\n",
    "\n",
    "print('p-значение:', results.pvalue)\n",
    "\n",
    "if (results.pvalue < alpha):\n",
    "    print(\"Отвергаем нулевую гипотезу\")\n",
    "else:\n",
    "    print(\"Не получилось отвергнуть нулевую гипотезу\")"
   ]
  },
  {
   "cell_type": "markdown",
   "metadata": {},
   "source": [
    "Средние пользовательские рейтинги жанров Action и Sports отличаются с очень большой вероятностью. Случайность такого вывода крайне мала."
   ]
  },
  {
   "cell_type": "markdown",
   "metadata": {},
   "source": [
    "<div class=\"alert alert-success\">\n",
    "<h2> Комментарий ревьюера </h2>\n",
    "\n",
    "Проверка второй гипотезы также осуществлена правильно. Уточнение параметра equal_var позволяет нам увеличить точность проводимых тестов. \n",
    "</div>"
   ]
  },
  {
   "cell_type": "markdown",
   "metadata": {},
   "source": [
    "[вернуться к оглавлению](#plan) \n",
    "<a name=\"s6\"></a>\n",
    "### Шаг 6. Общий вывод."
   ]
  },
  {
   "cell_type": "markdown",
   "metadata": {},
   "source": [
    "Игровая индустрия очень изменчива. Пользовательские предпочтения и вкусы быстро меняются, возможности современных консолей и ПК поражают, а что будет завтра? В 2016 году было выпущено более 1100 игр для различных консолей и ПК. Топовые игры продаются десятками млн. копий, а 90% игр не \"осилят\" и 1 млн. Как не ошибиться? На что ориентироваться при выборе потенциально прибыльного продукта и планировании рекламной компании? \n",
    "\n",
    "При использовании исторических данных о продажах игр для определения особенностей потенциально успешной игры необходимо ориентироваться на \"свежие\" данные. Общие тенденции видны при анализе информации за последние 6-8 лет, а в части игрового \"железа\" ситуация может измениться за 2-3 года.\n",
    "\n",
    "На сегодняшний день (2016г.) можно выделить 2 перспективные консоли с хорошей возможностью потенциального роста в 2017г: PS4 от Sony и наступающую ей на пятки в Америке и Европе XOne от Microsoft. Определенная доля рынка (особенно в Японии) перспективно сохранится за портативными консолями 3DS и WiiU. Но необходимо учитывать что \"жизнь\" консоли быстротечна, и своевременно отслеживать появление новинок.\n",
    "\n",
    "Отзывы пользователей и рейтинги критиков не самый надежный фактор при выборе продукта. Исследование показало что зависимость успешности игры и её оценок прослеживается, но не всегда очевидна. Сравнивая оценки критиков и пользователей можно сделать вывод что критики более объективны.\n",
    "\n",
    "Сравнивая различные жанры можно сформировать представление о предпочтениях пользователя:\n",
    "*    Наиболее популярные жанры (по убыванию): Action, Shooter, Sports.\n",
    "*    Менее популярные: Role-Playing, Misc, Racing, Platform\n",
    "*    Редкие: Fighting, Simulation, Adventure, Strategy, Puzzle  \n",
    "\n",
    "При этом \"средний\" Shooter почти в двое популярнее \"средней\" игры жанра Action (из за разного количества выпускаемых игр разных жанров).\n",
    "Для игр с продажами свыше 2 млн. картина уже немного иная: лидируют Shooter (22,6%), Action (22,0%) и Sports (15,4%)\n",
    "[Круговая диаграмма](#s3_7_1)\n",
    "\n",
    "Анализируя региональные продажи можно выделить следующие особенности:\n",
    "1. [Есть различия в используемых платформах](#s4) \n",
    " *    В Японии не принято играть на PC. Из-за высокого ритма жизни там чаще используют для игр портативные консоли (3DS, реже WiiU), позволяющие играть в транспорте, общественных местах и \"на бегу\". Для дома выбирают PS4. Родина игровых девайсов (Nintendo, Sony и пр.) в заморской диковинке XOne от Microsoft не нуждается.\n",
    " *    Северная Америка разделилась между PS4 и конкурирующей с ней XOne, также свою нишу портативных консолей занимают 3DS и WiiU.\n",
    " *    Европе \"милее\" PS4, доля XOne почти втрое меньше. Как и в США+Канаде есть продажи игр для портативных консолей, но есть и любители игр для персонального компьютера.\n",
    "2. [Отличаются любимые жанры](s4_2)\n",
    " *    Все любят Action. Северная америка и Европа кроме того играют в Shooter и Sports, а в Японии эти два жанра отдают свои проценты в пользу Role-Playing - традиционно Японского жанра, занимающего там 1 место.\n",
    "3. [Есть рейтинговые особенности](s4_3)\n",
    " *    В Японии предпочтения по возрастному рейтингу смещены от игр 17+(M) к играм 13+(T) а также от 10+(E10+) к 06+(E).\n",
    "\n",
    "Несмотря на невысокое доверие к утверждению \"средние пользовательские рейтинги платформ Xbox One и PC равны\" опровергнуть его не удалось.\n",
    "\n",
    "А вот утверждение \"средние пользовательские рейтинги жанров Action и Sports отличаются\" скорее всего соответствует действительности.\n",
    "\n",
    "Было приятно работать с такой темой. Спасибо что выбираете нас. Успехов в Новом 2017 году!\n",
    "[вернуться к оглавлению](#plan)"
   ]
  },
  {
   "cell_type": "markdown",
   "metadata": {},
   "source": [
    "<div class=\"alert alert-success\">\n",
    "<h2> Комментарий ревьюера </h2>\n",
    "\n",
    "Выводы описаны грамотно. Приведены ответы на главные вопросы проекта. В выводах можно приводить полученные ранее значения, правильно. Здорово, что по каждому пункту работы приведен вывод, а также то, что ты дал рекомендации для компании.   \n",
    "\n",
    "</div>"
   ]
  },
  {
   "cell_type": "markdown",
   "metadata": {},
   "source": [
    "<div class=\"alert alert-warning\">\n",
    "<h2> Комментарий ревьюера </h2>\n",
    "\n",
    "Если тебе нравится тема визуализации, то можешь изучить другие методы библиотеки seaborn. Она позволяет строить довольно презентабельные графики.\n",
    "\n",
    "Ты проделал большую работу, молодец! Критических замечаний немного. Однако с ними важно поработать. Также есть достаточное число желтых комментариев. Думаю, исправить их тебе не составит труда. Жду твою работу :)\n",
    "\n",
    "</div>"
   ]
  },
  {
   "cell_type": "markdown",
   "metadata": {},
   "source": [
    "<div class=\"alert alert-block alert-info\">\n",
    "<b>Fixed:</b>\n",
    "Спасибо за ревью. Всё ёмко и по делу. Визуализацию обязательно поковыряю за рамками проекта.\n",
    "</div>"
   ]
  },
  {
   "cell_type": "markdown",
   "metadata": {},
   "source": [
    "<div class=\"alert alert-success\">\n",
    "<h2> Комментарий ревьюера 2</h2>\n",
    "\n",
    "Помарки исправлены, и теперь работа выполнена хорошо. Проект получился крутым, молодец. Поздравляю со сданным проектом. Надеюсь, он был интересен и познавателен. Спасибо за оставленные комментарии по исправлениям. Успехов в дальнейшем пути :)\n",
    "\n",
    "</div>"
   ]
  }
 ],
 "metadata": {
  "kernelspec": {
   "display_name": "Python 3",
   "language": "python",
   "name": "python3"
  },
  "language_info": {
   "codemirror_mode": {
    "name": "ipython",
    "version": 3
   },
   "file_extension": ".py",
   "mimetype": "text/x-python",
   "name": "python",
   "nbconvert_exporter": "python",
   "pygments_lexer": "ipython3",
   "version": "3.8.5"
  },
  "toc": {
   "base_numbering": 1,
   "nav_menu": {},
   "number_sections": true,
   "sideBar": true,
   "skip_h1_title": true,
   "title_cell": "Table of Contents",
   "title_sidebar": "Contents",
   "toc_cell": false,
   "toc_position": {
    "height": "calc(100% - 180px)",
    "left": "10px",
    "top": "150px",
    "width": "384px"
   },
   "toc_section_display": true,
   "toc_window_display": true
  }
 },
 "nbformat": 4,
 "nbformat_minor": 2
}
