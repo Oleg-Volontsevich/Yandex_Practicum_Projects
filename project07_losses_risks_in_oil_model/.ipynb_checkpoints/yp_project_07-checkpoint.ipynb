{
 "cells": [
  {
   "cell_type": "markdown",
   "metadata": {},
   "source": [
    "|  |  |  |\n",
    "| ---: | :--- | :--- |\n",
    "| Курс:| Машинное обучение в бизнесе | 07 |\n",
    "| Срок обучения на момент сдачи: | 3,5 месяца |\n",
    "\n",
    "# Выбор локации для скважины."
   ]
  },
  {
   "cell_type": "markdown",
   "metadata": {},
   "source": [
    "### Описание проекта и постановка задачи."
   ]
  },
  {
   "cell_type": "markdown",
   "metadata": {},
   "source": [
    "Допустим, вы работаете в добывающей компании «ГлавРосГосНефть». Нужно решить, где бурить новую скважину.\n",
    "\n",
    "Вам предоставлены пробы нефти в трёх регионах: в каждом 10 000 месторождений, где измерили качество нефти и объём её запасов. Постройте модель машинного обучения, которая поможет определить регион, где добыча принесёт наибольшую прибыль. Проанализируйте возможную прибыль и риски техникой *Bootstrap.*\n",
    "\n",
    "Шаги для выбора локации:\n",
    "\n",
    "- В избранном регионе ищут месторождения, для каждого определяют значения признаков;\n",
    "- Строят модель и оценивают объём запасов;\n",
    "- Выбирают месторождения с самым высокими оценками значений. Количество месторождений зависит от бюджета компании и стоимости разработки одной скважины;\n",
    "- Прибыль равна суммарной прибыли отобранных месторождений."
   ]
  },
  {
   "cell_type": "markdown",
   "metadata": {},
   "source": [
    "### Описание данных."
   ]
  },
  {
   "cell_type": "markdown",
   "metadata": {},
   "source": [
    "Данные геологоразведки трёх регионов находятся в файлах:\n",
    "\n",
    "    /datasets/geo_data_0.csv. Скачать датасет\n",
    "    /datasets/geo_data_1.csv. Скачать датасет\n",
    "    /datasets/geo_data_2.csv. Скачать датасет\n",
    "* id — уникальный идентификатор скважины;\n",
    "* f0, f1, f2 — три признака точек (неважно, что они означают, но сами признаки значимы);\n",
    "* product — объём запасов в скважине (тыс. баррелей)."
   ]
  },
  {
   "cell_type": "markdown",
   "metadata": {},
   "source": [
    "### Условия задачи:"
   ]
  },
  {
   "cell_type": "markdown",
   "metadata": {},
   "source": [
    "* Для обучения модели подходит только линейная регрессия (остальные — недостаточно предсказуемые).\n",
    "* При разведке региона исследуют 500 точек, из которых с помощью машинного обучения выбирают 200 лучших для разработки.\n",
    "* Бюджет на разработку скважин в регионе — 10 млрд рублей.\n",
    "* При нынешних ценах один баррель сырья приносит 450 рублей дохода. Доход с каждой единицы продукта составляет 450 тыс. рублей, поскольку объём указан в тысячах баррелей.\n",
    "* После оценки рисков нужно оставить лишь те регионы, в которых вероятность убытков меньше 2.5%. Среди них выбирают регион с наибольшей средней прибылью.\n",
    "\n",
    "Данные синтетические: детали контрактов и характеристики месторождений не разглашаются."
   ]
  },
  {
   "cell_type": "markdown",
   "metadata": {},
   "source": [
    "   \n",
    "    \n",
    "    "
   ]
  },
  {
   "cell_type": "markdown",
   "metadata": {},
   "source": [
    "## Загрузка и подготовка данных\n",
    "Загрузите и подготовьте данные. Поясните порядок действий."
   ]
  },
  {
   "cell_type": "markdown",
   "metadata": {},
   "source": [
    "### Импорт библиотек"
   ]
  },
  {
   "cell_type": "code",
   "execution_count": 1,
   "metadata": {},
   "outputs": [],
   "source": [
    "import pandas as pd\n",
    "import numpy as np\n",
    "import matplotlib.pyplot as plt\n",
    "#from scipy import stats as st\n",
    "from IPython.display import display\n",
    "import seaborn as sns\n",
    "#from sklearn.tree import DecisionTreeClassifier, plot_tree\n",
    "from sklearn.metrics import mean_squared_error, r2_score #, accuracy_score, f1_score, confusion_matrix, roc_auc_score\n",
    "#from sklearn.ensemble import RandomForestClassifier\n",
    "from sklearn.linear_model import LinearRegression #,LogisticRegression \n",
    "from sklearn.model_selection import train_test_split, GridSearchCV\n",
    "from sklearn.dummy import DummyClassifier\n",
    "from sklearn.preprocessing import StandardScaler \n",
    "from sklearn.utils import shuffle"
   ]
  },
  {
   "cell_type": "markdown",
   "metadata": {},
   "source": [
    "### Загрузка данных"
   ]
  },
  {
   "cell_type": "code",
   "execution_count": 2,
   "metadata": {},
   "outputs": [],
   "source": [
    "data_0 = pd.read_csv('/datasets/geo_data_0.csv')\n",
    "data_1 = pd.read_csv('/datasets/geo_data_1.csv')\n",
    "data_2 = pd.read_csv('/datasets/geo_data_2.csv')"
   ]
  },
  {
   "cell_type": "markdown",
   "metadata": {},
   "source": [
    "### Изучение данных"
   ]
  },
  {
   "cell_type": "code",
   "execution_count": 3,
   "metadata": {
    "scrolled": true
   },
   "outputs": [
    {
     "data": {
      "text/html": [
       "<div>\n",
       "<style scoped>\n",
       "    .dataframe tbody tr th:only-of-type {\n",
       "        vertical-align: middle;\n",
       "    }\n",
       "\n",
       "    .dataframe tbody tr th {\n",
       "        vertical-align: top;\n",
       "    }\n",
       "\n",
       "    .dataframe thead th {\n",
       "        text-align: right;\n",
       "    }\n",
       "</style>\n",
       "<table border=\"1\" class=\"dataframe\">\n",
       "  <thead>\n",
       "    <tr style=\"text-align: right;\">\n",
       "      <th></th>\n",
       "      <th>id</th>\n",
       "      <th>f0</th>\n",
       "      <th>f1</th>\n",
       "      <th>f2</th>\n",
       "      <th>product</th>\n",
       "    </tr>\n",
       "  </thead>\n",
       "  <tbody>\n",
       "    <tr>\n",
       "      <td>90434</td>\n",
       "      <td>36VlG</td>\n",
       "      <td>0.619362</td>\n",
       "      <td>-0.536860</td>\n",
       "      <td>-0.578965</td>\n",
       "      <td>41.009119</td>\n",
       "    </tr>\n",
       "    <tr>\n",
       "      <td>9158</td>\n",
       "      <td>fUe7u</td>\n",
       "      <td>-0.781894</td>\n",
       "      <td>0.493633</td>\n",
       "      <td>2.649996</td>\n",
       "      <td>58.191962</td>\n",
       "    </tr>\n",
       "    <tr>\n",
       "      <td>21729</td>\n",
       "      <td>BQHMK</td>\n",
       "      <td>-0.279342</td>\n",
       "      <td>0.847408</td>\n",
       "      <td>4.236423</td>\n",
       "      <td>146.067700</td>\n",
       "    </tr>\n",
       "  </tbody>\n",
       "</table>\n",
       "</div>"
      ],
      "text/plain": [
       "          id        f0        f1        f2     product\n",
       "90434  36VlG  0.619362 -0.536860 -0.578965   41.009119\n",
       "9158   fUe7u -0.781894  0.493633  2.649996   58.191962\n",
       "21729  BQHMK -0.279342  0.847408  4.236423  146.067700"
      ]
     },
     "metadata": {},
     "output_type": "display_data"
    }
   ],
   "source": [
    "display(data_0.sample(3))"
   ]
  },
  {
   "cell_type": "code",
   "execution_count": 4,
   "metadata": {
    "scrolled": false
   },
   "outputs": [
    {
     "name": "stdout",
     "output_type": "stream",
     "text": [
      "<class 'pandas.core.frame.DataFrame'>\n",
      "RangeIndex: 100000 entries, 0 to 99999\n",
      "Data columns (total 5 columns):\n",
      "id         100000 non-null object\n",
      "f0         100000 non-null float64\n",
      "f1         100000 non-null float64\n",
      "f2         100000 non-null float64\n",
      "product    100000 non-null float64\n",
      "dtypes: float64(4), object(1)\n",
      "memory usage: 3.8+ MB\n"
     ]
    }
   ],
   "source": [
    "data_0.info()\n",
    "#data_1.info()\n",
    "#data_2.info()"
   ]
  },
  {
   "cell_type": "code",
   "execution_count": 5,
   "metadata": {},
   "outputs": [
    {
     "name": "stdout",
     "output_type": "stream",
     "text": [
      "0\n",
      "0\n",
      "0\n"
     ]
    }
   ],
   "source": [
    "print(data_0.duplicated().sum())\n",
    "print(data_1.duplicated().sum())\n",
    "print(data_2.duplicated().sum())  "
   ]
  },
  {
   "cell_type": "code",
   "execution_count": 6,
   "metadata": {},
   "outputs": [
    {
     "data": {
      "text/html": [
       "<div>\n",
       "<style scoped>\n",
       "    .dataframe tbody tr th:only-of-type {\n",
       "        vertical-align: middle;\n",
       "    }\n",
       "\n",
       "    .dataframe tbody tr th {\n",
       "        vertical-align: top;\n",
       "    }\n",
       "\n",
       "    .dataframe thead th {\n",
       "        text-align: right;\n",
       "    }\n",
       "</style>\n",
       "<table border=\"1\" class=\"dataframe\">\n",
       "  <thead>\n",
       "    <tr style=\"text-align: right;\">\n",
       "      <th></th>\n",
       "      <th>f0</th>\n",
       "      <th>f1</th>\n",
       "      <th>f2</th>\n",
       "      <th>product</th>\n",
       "    </tr>\n",
       "  </thead>\n",
       "  <tbody>\n",
       "    <tr>\n",
       "      <td>count</td>\n",
       "      <td>100000.000000</td>\n",
       "      <td>100000.000000</td>\n",
       "      <td>100000.000000</td>\n",
       "      <td>100000.000000</td>\n",
       "    </tr>\n",
       "    <tr>\n",
       "      <td>mean</td>\n",
       "      <td>0.500419</td>\n",
       "      <td>0.250143</td>\n",
       "      <td>2.502647</td>\n",
       "      <td>92.500000</td>\n",
       "    </tr>\n",
       "    <tr>\n",
       "      <td>std</td>\n",
       "      <td>0.871832</td>\n",
       "      <td>0.504433</td>\n",
       "      <td>3.248248</td>\n",
       "      <td>44.288691</td>\n",
       "    </tr>\n",
       "    <tr>\n",
       "      <td>min</td>\n",
       "      <td>-1.408605</td>\n",
       "      <td>-0.848218</td>\n",
       "      <td>-12.088328</td>\n",
       "      <td>0.000000</td>\n",
       "    </tr>\n",
       "    <tr>\n",
       "      <td>25%</td>\n",
       "      <td>-0.072580</td>\n",
       "      <td>-0.200881</td>\n",
       "      <td>0.287748</td>\n",
       "      <td>56.497507</td>\n",
       "    </tr>\n",
       "    <tr>\n",
       "      <td>50%</td>\n",
       "      <td>0.502360</td>\n",
       "      <td>0.250252</td>\n",
       "      <td>2.515969</td>\n",
       "      <td>91.849972</td>\n",
       "    </tr>\n",
       "    <tr>\n",
       "      <td>75%</td>\n",
       "      <td>1.073581</td>\n",
       "      <td>0.700646</td>\n",
       "      <td>4.715088</td>\n",
       "      <td>128.564089</td>\n",
       "    </tr>\n",
       "    <tr>\n",
       "      <td>max</td>\n",
       "      <td>2.362331</td>\n",
       "      <td>1.343769</td>\n",
       "      <td>16.003790</td>\n",
       "      <td>185.364347</td>\n",
       "    </tr>\n",
       "  </tbody>\n",
       "</table>\n",
       "</div>"
      ],
      "text/plain": [
       "                  f0             f1             f2        product\n",
       "count  100000.000000  100000.000000  100000.000000  100000.000000\n",
       "mean        0.500419       0.250143       2.502647      92.500000\n",
       "std         0.871832       0.504433       3.248248      44.288691\n",
       "min        -1.408605      -0.848218     -12.088328       0.000000\n",
       "25%        -0.072580      -0.200881       0.287748      56.497507\n",
       "50%         0.502360       0.250252       2.515969      91.849972\n",
       "75%         1.073581       0.700646       4.715088     128.564089\n",
       "max         2.362331       1.343769      16.003790     185.364347"
      ]
     },
     "metadata": {},
     "output_type": "display_data"
    }
   ],
   "source": [
    "display(data_0.describe())\n",
    "# display(data_1.describe())\n",
    "# display(data_2.describe())"
   ]
  },
  {
   "cell_type": "code",
   "execution_count": 7,
   "metadata": {
    "scrolled": false
   },
   "outputs": [
    {
     "data": {
      "image/png": "[encoded data removed]",
      "text/plain": [
       "<Figure size 432x288 with 4 Axes>"
      ]
     },
     "metadata": {
      "needs_background": "light"
     },
     "output_type": "display_data"
    },
    {
     "data": {
      "image/png": "[encoded data removed]",
      "text/plain": [
       "<Figure size 432x288 with 4 Axes>"
      ]
     },
     "metadata": {
      "needs_background": "light"
     },
     "output_type": "display_data"
    },
    {
     "data": {
      "image/png": "[encoded data removed]",
      "text/plain": [
       "<Figure size 432x288 with 4 Axes>"
      ]
     },
     "metadata": {
      "needs_background": "light"
     },
     "output_type": "display_data"
    }
   ],
   "source": [
    "data_0.hist(bins=100)\n",
    "data_1.hist(bins=100, color='green')\n",
    "data_2.hist(bins=100, color='gold');"
   ]
  },
  {
   "cell_type": "code",
   "execution_count": 8,
   "metadata": {},
   "outputs": [
    {
     "data": {
      "image/png": "[encoded data removed]",
      "text/plain": [
       "<Figure size 360x144 with 2 Axes>"
      ]
     },
     "metadata": {
      "needs_background": "light"
     },
     "output_type": "display_data"
    },
    {
     "data": {
      "image/png": "[encoded data removed]",
      "text/plain": [
       "<Figure size 360x144 with 2 Axes>"
      ]
     },
     "metadata": {
      "needs_background": "light"
     },
     "output_type": "display_data"
    },
    {
     "data": {
      "image/png": "[encoded data removed]",
      "text/plain": [
       "<Figure size 360x144 with 2 Axes>"
      ]
     },
     "metadata": {
      "needs_background": "light"
     },
     "output_type": "display_data"
    }
   ],
   "source": [
    "fig, ax = plt.subplots(figsize=(5,2))\n",
    "sns.heatmap(data_0.corr(), annot = True, vmin=-1, vmax=1, center= 0, cmap= 'coolwarm', fmt='.2g')\n",
    "fig, ax = plt.subplots(figsize=(5,2))\n",
    "sns.heatmap(data_1.corr(), annot = True, vmin=-1, vmax=1, center= 0, cmap= 'coolwarm', fmt='.2g')\n",
    "fig, ax = plt.subplots(figsize=(5,2))\n",
    "sns.heatmap(data_2.corr(), annot = True, vmin=-1, vmax=1, center= 0, cmap= 'coolwarm', fmt='.2g');"
   ]
  },
  {
   "cell_type": "code",
   "execution_count": 9,
   "metadata": {},
   "outputs": [
    {
     "data": {
      "text/plain": [
       "0.9993969704906548"
      ]
     },
     "execution_count": 9,
     "metadata": {},
     "output_type": "execute_result"
    }
   ],
   "source": [
    "data_1['f2'].corr(data_1['product'])"
   ]
  },
  {
   "cell_type": "markdown",
   "metadata": {},
   "source": [
    "### Выводы по данным"
   ]
  },
  {
   "cell_type": "markdown",
   "metadata": {},
   "source": [
    "* 3 набора данных (региона) по 100тыс. строк без пропусков и дубликатов  \n",
    "* id для построения модели будет бесполезен  \n",
    "* f0, f1, f2 содержат численные признаки, масштабы признаков различаются - необходима нормализация.  \n",
    "* product - целевой признак  \n",
    "* Выбросов нет. \n",
    "* Распределение плотности признаков нормальное только для региона 2. Для регионов 0 и 1 нет.\n",
    "* Распределение целевого признака во всех случаях имеет ярко выделенные \"пики\".\n",
    "* Корреляция признаков (f0, f1, f2) между собой для всех регионов незначительна.\n",
    "* Признак f2 региона data_1 коррелирует с целевым признаком. Я бы посчитал это утечкой целевого признака, но преподаватель по проектам (Ян Анисимов) при обсуждении в slack описал такое поведение признаков как \"очень хорошая фича\". Оставляем."
   ]
  },
  {
   "cell_type": "markdown",
   "metadata": {},
   "source": [
    "### Подготовка данных"
   ]
  },
  {
   "cell_type": "code",
   "execution_count": 10,
   "metadata": {},
   "outputs": [],
   "source": [
    "#установим в качестве индексов идентификаторы скважин - в дальнейшем помешает обратиться к индексам - так что откажусь\n",
    "#data_0 = data_0.set_index('id') \n",
    "#data_0.index.name = None\n",
    "#data_1 = data_1.set_index('id')\n",
    "#data_1.index.name = None\n",
    "#data_2 = data_2.set_index('id')\n",
    "#data_2.index.name = None"
   ]
  },
  {
   "cell_type": "code",
   "execution_count": 11,
   "metadata": {},
   "outputs": [],
   "source": [
    "data_0 = data_0.drop(['id'], axis=1)\n",
    "data_1 = data_1.drop(['id'], axis=1)\n",
    "data_2 = data_2.drop(['id'], axis=1)"
   ]
  },
  {
   "cell_type": "code",
   "execution_count": 12,
   "metadata": {},
   "outputs": [],
   "source": [
    "scaler = StandardScaler() #масштабируем признаки\n",
    "numeric = ['f0', 'f1', 'f2']\n",
    "\n",
    "scaler.fit(data_0[numeric])\n",
    "data_0[numeric] = scaler.transform(data_0[numeric])\n",
    "\n",
    "scaler.fit(data_1[numeric])\n",
    "data_1[numeric] = scaler.transform(data_1[numeric])\n",
    "\n",
    "scaler.fit(data_2[numeric])\n",
    "data_2[numeric] = scaler.transform(data_2[numeric])"
   ]
  },
  {
   "cell_type": "markdown",
   "metadata": {},
   "source": [
    "## Обучение и проверка модели\n",
    "    Обучите и проверьте модель для каждого региона:\n",
    "    2.1. Разбейте данные на обучающую и валидационную выборки в соотношении 75:25.\n",
    "    2.2. Обучите модель и сделайте предсказания на валидационной выборке.\n",
    "    2.3. Сохраните предсказания и правильные ответы на валидационной выборке.\n",
    "    2.4. Напечатайте на экране средний запас предсказанного сырья и RMSE модели.\n",
    "    2.5. Проанализируйте результаты.\n",
    "* Для обучения модели подходит только линейная регрессия (остальные — недостаточно предсказуемые)."
   ]
  },
  {
   "cell_type": "markdown",
   "metadata": {},
   "source": [
    "### Разделение данных на обучающую и валидационную выборки"
   ]
  },
  {
   "cell_type": "code",
   "execution_count": 13,
   "metadata": {},
   "outputs": [],
   "source": [
    "features_train_0, features_valid_0, target_train_0, target_valid_0 = train_test_split(\n",
    "    data_0.drop(['product'], axis=1), data_0['product'], test_size=0.25, random_state=123)\n",
    "\n",
    "features_train_1, features_valid_1, target_train_1, target_valid_1 = train_test_split(\n",
    "    data_1.drop(['product'], axis=1), data_1['product'], test_size=0.25, random_state=123)\n",
    "\n",
    "features_train_2, features_valid_2, target_train_2, target_valid_2 = train_test_split(\n",
    "    data_2.drop(['product'], axis=1), data_2['product'], test_size=0.25, random_state=123)"
   ]
  },
  {
   "cell_type": "code",
   "execution_count": 14,
   "metadata": {
    "scrolled": true
   },
   "outputs": [
    {
     "data": {
      "image/png": "[encoded data removed]",
      "text/plain": [
       "<Figure size 432x288 with 1 Axes>"
      ]
     },
     "metadata": {
      "needs_background": "light"
     },
     "output_type": "display_data"
    }
   ],
   "source": [
    "target_train_0.hist(bins=25) #проверим как распределился целевой признак в тренировочную и валидационную выборку\n",
    "target_valid_0.hist(bins=25);"
   ]
  },
  {
   "cell_type": "markdown",
   "metadata": {},
   "source": [
    "### Обучение моделей"
   ]
  },
  {
   "cell_type": "code",
   "execution_count": 16,
   "metadata": {
    "scrolled": true
   },
   "outputs": [
    {
     "name": "stdout",
     "output_type": "stream",
     "text": [
      "Регион 0.  Cредний запас предсказанного сырья: 92.5  RMSE модели: 37.6\n",
      "Регион 1.  Cредний запас предсказанного сырья: 69.3  RMSE модели: 0.9\n",
      "Регион 2.  Cредний запас предсказанного сырья: 95.1  RMSE модели: 40.1\n",
      "\n",
      "Регион 0.  Cредний запас сырья (факт): 92.9  R2 модели: 0.2813\n",
      "Регион 1.  Cредний запас сырья (факт): 69.3  R2 модели: 0.9996\n",
      "Регион 2.  Cредний запас сырья (факт): 94.9  R2 модели: 0.1931\n"
     ]
    }
   ],
   "source": [
    "model = LinearRegression()\n",
    "\n",
    "model.fit(features_train_0, target_train_0)\n",
    "predictions_valid_0 = model.predict(features_valid_0)\n",
    "pred_0_mean = predictions_valid_0.mean()\n",
    "RMSE_0 = mean_squared_error(target_valid_0, predictions_valid_0)**0.5\n",
    "R2_0 = r2_score(target_valid_0, predictions_valid_0)\n",
    "print('Регион 0.  Cредний запас предсказанного сырья: %.1f' %pred_0_mean, ' RMSE модели: %.1f' %RMSE_0)\n",
    "predictions_valid_0=pd.Series(predictions_valid_0, index=target_valid_0.index)\n",
    "\n",
    "model.fit(features_train_1, target_train_1)\n",
    "predictions_valid_1 = model.predict(features_valid_1)\n",
    "pred_1_mean = predictions_valid_1.mean()\n",
    "RMSE_1 = mean_squared_error(target_valid_1, predictions_valid_1)**0.5\n",
    "R2_1 = r2_score(target_valid_1, predictions_valid_1)\n",
    "print('Регион 1.  Cредний запас предсказанного сырья: %.1f' %pred_1_mean, ' RMSE модели: %.1f' %RMSE_1)\n",
    "predictions_valid_1=pd.Series(predictions_valid_1, index=target_valid_1.index)\n",
    "\n",
    "model.fit(features_train_2, target_train_2)\n",
    "predictions_valid_2 = model.predict(features_valid_2)\n",
    "pred_2_mean = predictions_valid_2.mean()\n",
    "RMSE_2 = mean_squared_error(target_valid_2, predictions_valid_2)**0.5\n",
    "R2_2 = r2_score(target_valid_2, predictions_valid_2)\n",
    "print('Регион 2.  Cредний запас предсказанного сырья: %.1f' %pred_2_mean, ' RMSE модели: %.1f' %RMSE_2)\n",
    "predictions_valid_2=pd.Series(predictions_valid_2, index=target_valid_2.index)\n",
    "print()\n",
    "print('Регион 0.  Cредний запас сырья (факт): %.1f' %target_valid_0.mean(), ' R2 модели: %.4f' %R2_0)\n",
    "print('Регион 1.  Cредний запас сырья (факт): %.1f' %target_valid_1.mean(), ' R2 модели: %.4f' %R2_1)\n",
    "print('Регион 2.  Cредний запас сырья (факт): %.1f' %target_valid_2.mean(), ' R2 модели: %.4f' %R2_2)"
   ]
  },
  {
   "cell_type": "markdown",
   "metadata": {},
   "source": [
    "### Выводы по моделям для регионов"
   ]
  },
  {
   "cell_type": "markdown",
   "metadata": {},
   "source": [
    "* Модели региона 0 и 2 предсказывают чуть лучше чем константная модель.  \n",
    "* Модель 2 очень точна (вероятно за счет признака f2)."
   ]
  },
  {
   "cell_type": "markdown",
   "metadata": {},
   "source": [
    "## Подготовка к расчёту прибыли\n",
    "    Подготовьтесь к расчёту прибыли:  \n",
    "    3.1. Все ключевые значения для расчётов сохраните в отдельных переменных.\n",
    "    3.2. Рассчитайте достаточный объём сырья для безубыточной разработки новой скважины. Сравните полученный объём сырья со средним запасом в каждом регионе.\n",
    "    3.3. Напишите выводы по этапу подготовки расчёта прибыли.\n",
    "    \n",
    "    При разведке региона исследуют 500 точек, из которых с помощью машинного обучения выбирают 200 лучших для разработки.\n",
    "    Бюджет на разработку скважин в регионе — 10 млрд рублей.\n",
    "    При нынешних ценах один баррель сырья приносит 450 рублей дохода. Доход с каждой единицы продукта составляет 450 тыс. рублей, поскольку объём указан в тысячах баррелей."
   ]
  },
  {
   "cell_type": "code",
   "execution_count": 17,
   "metadata": {},
   "outputs": [
    {
     "name": "stdout",
     "output_type": "stream",
     "text": [
      "Минимальный объём сырья для безубыточной разработки новой скважины 111.1\n"
     ]
    }
   ],
   "source": [
    "budget = 10000000000 #Бюджет на разработку скважин в регионе руб.\n",
    "income_by_1000_barrel = 450000 #Доход с единицы продукта.\n",
    "wells = 200 #Количество скважин на регион (включенных в бюджет)\n",
    "min_volume = budget/(income_by_1000_barrel*wells) #Минимальный объём сырья для безубыточной разработки новой скважины\n",
    "print('Минимальный объём сырья для безубыточной разработки новой скважины %.1f' %min_volume)"
   ]
  },
  {
   "cell_type": "markdown",
   "metadata": {},
   "source": [
    "## Функция для расчёта прибыли \n",
    "    Напишите функцию для расчёта прибыли по выбранным скважинам и предсказаниям модели:\n",
    "    4.1. Выберите скважины с максимальными значениями предсказаний.\n",
    "    4.2. Просуммируйте целевое значение объёма сырья, соответствующее этим предсказаниям.\n",
    "    4.3. Рассчитайте прибыль для полученного объёма сырья.  \n",
    "* При разведке региона исследуют 500 точек, из которых с помощью машинного обучения выбирают 200 лучших для разработки.\n",
    "* Бюджет на разработку скважин в регионе — 10 млрд рублей.\n",
    "* При нынешних ценах один баррель сырья приносит 450 рублей дохода. Доход с каждой единицы продукта составляет 450 тыс. рублей, поскольку объём указан в тысячах баррелей."
   ]
  },
  {
   "cell_type": "code",
   "execution_count": 18,
   "metadata": {},
   "outputs": [],
   "source": [
    "def revenue(targets, predictions, wells):\n",
    "\n",
    "#функция принимает значения целевого признака, предсказанные значения и count\n",
    "#отбирает wells наибольших предсказанных значений и считает прибыль по соответствующим фактическим значениям \n",
    "    \n",
    "    predictions_sorted = predictions.sort_values(ascending=False)\n",
    "    selected = targets[predictions_sorted.index][:wells]\n",
    "    return income_by_1000_barrel * selected.sum() - budget\n",
    "\n"
   ]
  },
  {
   "cell_type": "markdown",
   "metadata": {},
   "source": [
    "## Расчет прибыли и оценка рисков \n",
    "    Посчитайте риски и прибыль для каждого региона:\n",
    "    5.1. Примените технику Bootstrap с 1000 выборок, чтобы найти распределение прибыли.\n",
    "    5.2. Найдите среднюю прибыль, 95%-й доверительный интервал и риск убытков. Убыток — это отрицательная прибыль.\n",
    "    5.3. Напишите выводы: предложите регион для разработки скважин и обоснуйте выбор.\n",
    "* После оценки рисков нужно оставить лишь те регионы, в которых вероятность убытков меньше 2.5%. Среди них выбирают регион с наибольшей средней прибылью."
   ]
  },
  {
   "cell_type": "markdown",
   "metadata": {},
   "source": [
    "### Регион 0"
   ]
  },
  {
   "cell_type": "code",
   "execution_count": 19,
   "metadata": {
    "scrolled": true
   },
   "outputs": [
    {
     "name": "stdout",
     "output_type": "stream",
     "text": [
      "Регион 0\n",
      "Средняя предсказанная прибыль: 501.7 млн.\n",
      "95 процентный доверительный интервал: от -17.8 до 998.3 млн.\n",
      "Вероятность убытков: 0.027\n"
     ]
    }
   ],
   "source": [
    "state = np.random.RandomState(1234)\n",
    "\n",
    "values = []\n",
    "for i in range(1000):\n",
    "    target_subsample = target_valid_0.sample(n=500, replace=True, random_state=state)\n",
    "    predict_subsample = predictions_valid_0[target_subsample.index]\n",
    "    values.append(revenue(target_subsample, predict_subsample, wells))\n",
    "\n",
    "values = pd.Series(values)\n",
    "q025 = (values.quantile(0.025))/1000000\n",
    "q975 = (values.quantile(0.975))/1000000\n",
    "mean = values.mean()/1000000\n",
    "loss_prob = values[values<0].count()/values.count()\n",
    "\n",
    "print('Регион 0')\n",
    "print('Средняя предсказанная прибыль: %.1f' %mean, 'млн.')\n",
    "print('95 процентный доверительный интервал: от %.1f' %q025, 'до %.1f' %q975, 'млн.')\n",
    "print('Вероятность убытков:', loss_prob)"
   ]
  },
  {
   "cell_type": "markdown",
   "metadata": {},
   "source": [
    "### Регион 1"
   ]
  },
  {
   "cell_type": "code",
   "execution_count": 20,
   "metadata": {},
   "outputs": [
    {
     "name": "stdout",
     "output_type": "stream",
     "text": [
      "Регион 1\n",
      "Средняя предсказанная прибыль: 520.4 млн.\n",
      "95 процентный доверительный интервал: от 106.7 до 952.1 млн.\n",
      "Вероятность убытков: 0.002\n"
     ]
    }
   ],
   "source": [
    "values = []\n",
    "for i in range(1000):\n",
    "    target_subsample = target_valid_1.sample(n=500, replace=True, random_state=state)\n",
    "    predict_subsample = predictions_valid_1[target_subsample.index]\n",
    "    values.append(revenue(target_subsample, predict_subsample, 200))\n",
    "\n",
    "values = pd.Series(values)\n",
    "q025 = (values.quantile(0.025))/1000000\n",
    "q975 = (values.quantile(0.975))/1000000\n",
    "mean = values.mean()/1000000\n",
    "loss_prob = values[values<0].count()/values.count()\n",
    "\n",
    "print('Регион 1')\n",
    "print('Средняя предсказанная прибыль: %.1f' %mean, 'млн.')\n",
    "print('95 процентный доверительный интервал: от %.1f' %q025, 'до %.1f' %q975, 'млн.')\n",
    "print('Вероятность убытков:', loss_prob)"
   ]
  },
  {
   "cell_type": "markdown",
   "metadata": {},
   "source": [
    "### Регион 2"
   ]
  },
  {
   "cell_type": "code",
   "execution_count": 21,
   "metadata": {},
   "outputs": [
    {
     "name": "stdout",
     "output_type": "stream",
     "text": [
      "Регион 2\n",
      "Средняя предсказанная прибыль: 375.7 млн.\n",
      "95 процентный доверительный интервал: от -173.8 до 912.8 млн.\n",
      "Вероятность убытков: 0.095\n"
     ]
    }
   ],
   "source": [
    "values = []\n",
    "for i in range(1000):\n",
    "    target_subsample = target_valid_2.sample(n=500, replace=True, random_state=state)\n",
    "    predict_subsample = predictions_valid_2[target_subsample.index]\n",
    "    values.append(revenue(target_subsample, predict_subsample, 200))\n",
    "\n",
    "values = pd.Series(values)\n",
    "q025 = (values.quantile(0.025))/1000000\n",
    "q975 = (values.quantile(0.975))/1000000\n",
    "mean = values.mean()/1000000\n",
    "loss_prob = values[values<0].count()/values.count()\n",
    "\n",
    "print('Регион 2')\n",
    "print('Средняя предсказанная прибыль: %.1f' %mean, 'млн.')\n",
    "print('95 процентный доверительный интервал: от %.1f' %q025, 'до %.1f' %q975, 'млн.')\n",
    "print('Вероятность убытков:', loss_prob)"
   ]
  },
  {
   "cell_type": "markdown",
   "metadata": {},
   "source": [
    "### Сравнение регинонов"
   ]
  },
  {
   "cell_type": "markdown",
   "metadata": {},
   "source": [
    "В ходе исследования получены следующие характеристики:  \n",
    "\n",
    "Характеристика | Регион 0 | Регион 1 | Регион 2\n",
    "--- |--- | --- | ---\n",
    "Cредний запас сырья (факт) (тыс. бар) | 92,9 | 69,3 | 94,9\n",
    "--- |--- | --- | ---\n",
    "LinearRegression() |--- | --- | ---\n",
    "Cредний запас предсказанного сырья (тыс. бар)  | 92,5 | 69,3 | 95,1\n",
    "RMSE (тыс. бар) | 37,6 | 0,9 | 40,1\n",
    "R2 | 0.2813 | 0.9996 | 0.1931\n",
    "--- |--- | --- | ---\n",
    "Прибыль и риски |--- | --- | --- \n",
    "Средняя предсказанная прибыль (млн. руб.) |501.7 | 520.4 | 375.7\n",
    "95 процентный доверительный интервал (млн. руб.) |-17.8  /  998.3 | 106.7  /  952.1 | -173.8  /  912.8\n",
    "Вероятность убытков (млн. руб.) | 0.027| 0.002 | 0.095"
   ]
  },
  {
   "cell_type": "markdown",
   "metadata": {},
   "source": [
    "## Выводы"
   ]
  },
  {
   "cell_type": "markdown",
   "metadata": {},
   "source": [
    "Скважины региона 1 в среднем на 25% \"беднее\" чем в регионах 0 и 2. Но не смотря на это модель для региона 1, позволяющая более точно предсказать запасы, способна по данным разведки лучше отобрать районы для последующей разработки. По результатам исследования только модель для региона 1 может обеспечить вероятность убытков на уровне 0,2%, что ниже порогового значения 2,5%. С 95% вероятностью прибыль при разработке этого региона составит 106,7 - 952,1 млн. руб. Средняя предсказанная прибыль (520,4 млн. руб.) максимальна также для региона 1.  \n",
    "\n",
    "Что касается регионов 0 и 2 - увеличение точности предсказаний в перспективе позволит рассматривать и их."
   ]
  },
  {
   "cell_type": "markdown",
   "metadata": {},
   "source": [
    "## Чек-лист готовности проекта"
   ]
  },
  {
   "cell_type": "markdown",
   "metadata": {},
   "source": [
    "Поставьте 'x' в выполненных пунктах. Далее нажмите Shift+Enter."
   ]
  },
  {
   "cell_type": "markdown",
   "metadata": {},
   "source": [
    "- [x]  Jupyter Notebook открыт\n",
    "- [x]  Весь код выполняется без ошибок\n",
    "- [x]  Ячейки с кодом расположены в порядке исполнения\n",
    "- [x]  Выполнен шаг 1: данные подготовлены\n",
    "- [x]  Выполнен шаг 2: модели обучены и проверены\n",
    "    - [x]  Данные корректно разбиты на обучающую и валидационную выборки\n",
    "    - [x]  Модели обучены, предсказания сделаны\n",
    "    - [x]  Предсказания и правильные ответы на валидационной выборке сохранены\n",
    "    - [x]  На экране напечатаны результаты\n",
    "    - [x]  Сделаны выводы\n",
    "- [x]  Выполнен шаг 3: проведена подготовка к расчёту прибыли\n",
    "    - [x]  Для всех ключевых значений созданы константы Python\n",
    "    - [x]  Посчитано минимальное среднее количество продукта в месторождениях региона, достаточное для разработки\n",
    "    - [x]  По предыдущему пункту сделаны выводы\n",
    "    - [x]  Написана функция расчёта прибыли\n",
    "- [x]  Выполнен шаг 4: посчитаны риски и прибыль\n",
    "    - [x]  Проведена процедура *Bootstrap*\n",
    "    - [x]  Все параметры бутстрепа соответствуют условию\n",
    "    - [x]  Найдены все нужные величины\n",
    "    - [x]  Предложен регион для разработки месторождения\n",
    "    - [x]  Выбор региона обоснован"
   ]
  },
  {
   "cell_type": "code",
   "execution_count": null,
   "metadata": {},
   "outputs": [],
   "source": []
  }
 ],
 "metadata": {
  "kernelspec": {
   "display_name": "Python 3",
   "language": "python",
   "name": "python3"
  },
  "language_info": {
   "codemirror_mode": {
    "name": "ipython",
    "version": 3
   },
   "file_extension": ".py",
   "mimetype": "text/x-python",
   "name": "python",
   "nbconvert_exporter": "python",
   "pygments_lexer": "ipython3",
   "version": "3.8.5"
  },
  "toc": {
   "base_numbering": 1,
   "nav_menu": {
    "height": "386px",
    "width": "404px"
   },
   "number_sections": true,
   "sideBar": true,
   "skip_h1_title": true,
   "title_cell": "Table of Contents",
   "title_sidebar": "Contents",
   "toc_cell": false,
   "toc_position": {},
   "toc_section_display": true,
   "toc_window_display": true
  }
 },
 "nbformat": 4,
 "nbformat_minor": 2
}
