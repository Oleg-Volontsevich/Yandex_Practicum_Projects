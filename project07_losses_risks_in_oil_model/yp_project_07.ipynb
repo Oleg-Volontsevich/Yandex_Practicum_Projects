{
 "cells": [
  {
   "cell_type": "markdown",
   "metadata": {},
   "source": [
    "|  |  |  |\n",
    "| ---: | :--- | :--- |\n",
    "| Курс:| Машинное обучение в бизнесе | 07 |\n",
    "| Срок обучения на момент сдачи: | 3,5 месяца |\n",
    "\n",
    "# Выбор локации для скважины\n",
    "\n",
    "Вы работаете в добывающей компании «ГлавРосГосНефть». Нужно решить, где бурить новую скважину.\n",
    "\n",
    "Вам предоставлены пробы нефти в трёх регионах: в каждом 10 000 месторождений, где измерили качество нефти и объём её запасов. Постройте модель машинного обучения, которая поможет определить регион, где добыча принесёт наибольшую прибыль. Проанализируйте возможную прибыль и риски техникой *Bootstrap.*\n",
    "\n",
    "Шаги для выбора локации:\n",
    "\n",
    "* В избранном регионе ищут месторождения, для каждого определяют значения признаков;\n",
    "* Строят модель и оценивают объём запасов;\n",
    "* Выбирают месторождения с самым высокими оценками значений. Количество месторождений зависит от бюджета компании и стоимости разработки одной скважины;\n",
    "* Прибыль равна суммарной прибыли отобранных месторождений."
   ]
  },
  {
   "cell_type": "markdown",
   "metadata": {},
   "source": [
    "# План:  \n",
    "\n",
    "1  [Вводные данные](#1)\n",
    "\n",
    "*    1.1  [Описание данных](#11)\n",
    "*    1.2  [Условия задачи](#12)\n",
    "\n",
    "2  [Изучение и подготовка данных](#2)\n",
    "\n",
    "3  [Обучение и проверка модели](#3)\n",
    "\n",
    "4  [Подготовка к расчёту прибыли](#4)\n",
    "\n",
    "5  [Функция для расчёта прибыли](#5)\n",
    "\n",
    "6  [Расчет прибыли и оценка рисков](#6)\n",
    "\n",
    "*    6.1  [Регион 0](#61)\n",
    "*    6.2  [Регион 1](#62)\n",
    "*    6.3  [Регион 2](#63)\n",
    "*    6.4  [Сравнение регинонов](#64)\n",
    "\n",
    "7  [Выводы](#7)"
   ]
  },
  {
   "cell_type": "markdown",
   "metadata": {},
   "source": [
    "<a name=\"1\"></a>\n",
    "## Вводные данные\n",
    "\n",
    "<a name=\"11\"></a>\n",
    "### Описание данных\n",
    "\n",
    "Данные геологоразведки трёх регионов находятся в файлах:\n",
    "geo_data_0.csv, \n",
    "geo_data_1.csv, \n",
    "geo_data_2.csv\n",
    "\n",
    "* id — уникальный идентификатор скважины;\n",
    "* f0, f1, f2 — три признака точек (неважно, что они означают, но сами признаки значимы);\n",
    "* product — объём запасов в скважине (тыс. баррелей)."
   ]
  },
  {
   "cell_type": "markdown",
   "metadata": {},
   "source": [
    "<a name=\"12\"></a>\n",
    "### Условия задачи"
   ]
  },
  {
   "cell_type": "markdown",
   "metadata": {},
   "source": [
    "* Для обучения модели подходит только линейная регрессия (остальные — недостаточно предсказуемые).\n",
    "* При разведке региона исследуют 500 точек, из которых с помощью машинного обучения выбирают 200 лучших для разработки.\n",
    "* Бюджет на разработку скважин в регионе — 10 млрд рублей.\n",
    "* При нынешних ценах один баррель сырья приносит 450 рублей дохода. Доход с каждой единицы продукта составляет 450 тыс. рублей, поскольку объём указан в тысячах баррелей.\n",
    "* После оценки рисков нужно оставить лишь те регионы, в которых вероятность убытков меньше 2.5%. Среди них выбирают регион с наибольшей средней прибылью.\n",
    "\n",
    "Данные синтетические: детали контрактов и характеристики месторождений не разглашаются."
   ]
  },
  {
   "cell_type": "markdown",
   "metadata": {},
   "source": [
    "   \n",
    "    \n",
    "    "
   ]
  },
  {
   "cell_type": "markdown",
   "metadata": {},
   "source": [
    "<a name=\"2\"></a>\n",
    "## Изучение и подготовка данных"
   ]
  },
  {
   "cell_type": "code",
   "execution_count": 1,
   "metadata": {},
   "outputs": [],
   "source": [
    "import pandas as pd\n",
    "import numpy as np\n",
    "import matplotlib.pyplot as plt\n",
    "\n",
    "from IPython.display import display\n",
    "import seaborn as sns\n",
    "\n",
    "from sklearn.metrics import mean_squared_error, r2_score\n",
    "from sklearn.linear_model import LinearRegression\n",
    "from sklearn.model_selection import train_test_split, GridSearchCV\n",
    "from sklearn.dummy import DummyClassifier\n",
    "from sklearn.preprocessing import StandardScaler \n",
    "from sklearn.utils import shuffle"
   ]
  },
  {
   "cell_type": "code",
   "execution_count": 2,
   "metadata": {},
   "outputs": [],
   "source": [
    "data_0 = pd.read_csv('geo_data_0.csv')\n",
    "data_1 = pd.read_csv('geo_data_1.csv')\n",
    "data_2 = pd.read_csv('geo_data_2.csv')"
   ]
  },
  {
   "cell_type": "markdown",
   "metadata": {},
   "source": [
    "**Изучение данных**"
   ]
  },
  {
   "cell_type": "code",
   "execution_count": 3,
   "metadata": {
    "scrolled": true
   },
   "outputs": [
    {
     "data": {
      "text/html": [
       "<div>\n",
       "<style scoped>\n",
       "    .dataframe tbody tr th:only-of-type {\n",
       "        vertical-align: middle;\n",
       "    }\n",
       "\n",
       "    .dataframe tbody tr th {\n",
       "        vertical-align: top;\n",
       "    }\n",
       "\n",
       "    .dataframe thead th {\n",
       "        text-align: right;\n",
       "    }\n",
       "</style>\n",
       "<table border=\"1\" class=\"dataframe\">\n",
       "  <thead>\n",
       "    <tr style=\"text-align: right;\">\n",
       "      <th></th>\n",
       "      <th>id</th>\n",
       "      <th>f0</th>\n",
       "      <th>f1</th>\n",
       "      <th>f2</th>\n",
       "      <th>product</th>\n",
       "    </tr>\n",
       "  </thead>\n",
       "  <tbody>\n",
       "    <tr>\n",
       "      <th>18183</th>\n",
       "      <td>e3Vfq</td>\n",
       "      <td>1.919773</td>\n",
       "      <td>-0.074991</td>\n",
       "      <td>2.071430</td>\n",
       "      <td>101.420848</td>\n",
       "    </tr>\n",
       "    <tr>\n",
       "      <th>38294</th>\n",
       "      <td>P8VLH</td>\n",
       "      <td>-0.058191</td>\n",
       "      <td>0.154952</td>\n",
       "      <td>5.791194</td>\n",
       "      <td>113.556765</td>\n",
       "    </tr>\n",
       "    <tr>\n",
       "      <th>65750</th>\n",
       "      <td>0xZR1</td>\n",
       "      <td>2.018028</td>\n",
       "      <td>0.439153</td>\n",
       "      <td>2.852042</td>\n",
       "      <td>102.587710</td>\n",
       "    </tr>\n",
       "  </tbody>\n",
       "</table>\n",
       "</div>"
      ],
      "text/plain": [
       "          id        f0        f1        f2     product\n",
       "18183  e3Vfq  1.919773 -0.074991  2.071430  101.420848\n",
       "38294  P8VLH -0.058191  0.154952  5.791194  113.556765\n",
       "65750  0xZR1  2.018028  0.439153  2.852042  102.587710"
      ]
     },
     "metadata": {},
     "output_type": "display_data"
    }
   ],
   "source": [
    "display(data_0.sample(3))"
   ]
  },
  {
   "cell_type": "code",
   "execution_count": 4,
   "metadata": {
    "scrolled": false
   },
   "outputs": [
    {
     "name": "stdout",
     "output_type": "stream",
     "text": [
      "<class 'pandas.core.frame.DataFrame'>\n",
      "RangeIndex: 100000 entries, 0 to 99999\n",
      "Data columns (total 5 columns):\n",
      " #   Column   Non-Null Count   Dtype  \n",
      "---  ------   --------------   -----  \n",
      " 0   id       100000 non-null  object \n",
      " 1   f0       100000 non-null  float64\n",
      " 2   f1       100000 non-null  float64\n",
      " 3   f2       100000 non-null  float64\n",
      " 4   product  100000 non-null  float64\n",
      "dtypes: float64(4), object(1)\n",
      "memory usage: 3.8+ MB\n"
     ]
    }
   ],
   "source": [
    "data_0.info()\n",
    "#data_1.info()\n",
    "#data_2.info()"
   ]
  },
  {
   "cell_type": "code",
   "execution_count": 5,
   "metadata": {},
   "outputs": [
    {
     "name": "stdout",
     "output_type": "stream",
     "text": [
      "дубликатов: 0\n",
      "дубликатов: 0\n",
      "дубликатов: 0\n"
     ]
    }
   ],
   "source": [
    "print('дубликатов:', data_0.duplicated().sum())\n",
    "print('дубликатов:', data_1.duplicated().sum())\n",
    "print('дубликатов:', data_2.duplicated().sum())  "
   ]
  },
  {
   "cell_type": "code",
   "execution_count": 6,
   "metadata": {},
   "outputs": [
    {
     "data": {
      "text/html": [
       "<div>\n",
       "<style scoped>\n",
       "    .dataframe tbody tr th:only-of-type {\n",
       "        vertical-align: middle;\n",
       "    }\n",
       "\n",
       "    .dataframe tbody tr th {\n",
       "        vertical-align: top;\n",
       "    }\n",
       "\n",
       "    .dataframe thead th {\n",
       "        text-align: right;\n",
       "    }\n",
       "</style>\n",
       "<table border=\"1\" class=\"dataframe\">\n",
       "  <thead>\n",
       "    <tr style=\"text-align: right;\">\n",
       "      <th></th>\n",
       "      <th>f0</th>\n",
       "      <th>f1</th>\n",
       "      <th>f2</th>\n",
       "      <th>product</th>\n",
       "    </tr>\n",
       "  </thead>\n",
       "  <tbody>\n",
       "    <tr>\n",
       "      <th>count</th>\n",
       "      <td>100000.000000</td>\n",
       "      <td>100000.000000</td>\n",
       "      <td>100000.000000</td>\n",
       "      <td>100000.000000</td>\n",
       "    </tr>\n",
       "    <tr>\n",
       "      <th>mean</th>\n",
       "      <td>0.500419</td>\n",
       "      <td>0.250143</td>\n",
       "      <td>2.502647</td>\n",
       "      <td>92.500000</td>\n",
       "    </tr>\n",
       "    <tr>\n",
       "      <th>std</th>\n",
       "      <td>0.871832</td>\n",
       "      <td>0.504433</td>\n",
       "      <td>3.248248</td>\n",
       "      <td>44.288691</td>\n",
       "    </tr>\n",
       "    <tr>\n",
       "      <th>min</th>\n",
       "      <td>-1.408605</td>\n",
       "      <td>-0.848218</td>\n",
       "      <td>-12.088328</td>\n",
       "      <td>0.000000</td>\n",
       "    </tr>\n",
       "    <tr>\n",
       "      <th>25%</th>\n",
       "      <td>-0.072580</td>\n",
       "      <td>-0.200881</td>\n",
       "      <td>0.287748</td>\n",
       "      <td>56.497507</td>\n",
       "    </tr>\n",
       "    <tr>\n",
       "      <th>50%</th>\n",
       "      <td>0.502360</td>\n",
       "      <td>0.250252</td>\n",
       "      <td>2.515969</td>\n",
       "      <td>91.849972</td>\n",
       "    </tr>\n",
       "    <tr>\n",
       "      <th>75%</th>\n",
       "      <td>1.073581</td>\n",
       "      <td>0.700646</td>\n",
       "      <td>4.715088</td>\n",
       "      <td>128.564089</td>\n",
       "    </tr>\n",
       "    <tr>\n",
       "      <th>max</th>\n",
       "      <td>2.362331</td>\n",
       "      <td>1.343769</td>\n",
       "      <td>16.003790</td>\n",
       "      <td>185.364347</td>\n",
       "    </tr>\n",
       "  </tbody>\n",
       "</table>\n",
       "</div>"
      ],
      "text/plain": [
       "                  f0             f1             f2        product\n",
       "count  100000.000000  100000.000000  100000.000000  100000.000000\n",
       "mean        0.500419       0.250143       2.502647      92.500000\n",
       "std         0.871832       0.504433       3.248248      44.288691\n",
       "min        -1.408605      -0.848218     -12.088328       0.000000\n",
       "25%        -0.072580      -0.200881       0.287748      56.497507\n",
       "50%         0.502360       0.250252       2.515969      91.849972\n",
       "75%         1.073581       0.700646       4.715088     128.564089\n",
       "max         2.362331       1.343769      16.003790     185.364347"
      ]
     },
     "metadata": {},
     "output_type": "display_data"
    }
   ],
   "source": [
    "display(data_0.describe())\n",
    "# display(data_1.describe())\n",
    "# display(data_2.describe())"
   ]
  },
  {
   "cell_type": "code",
   "execution_count": 7,
   "metadata": {
    "scrolled": false
   },
   "outputs": [
    {
     "data": {
      "image/png": "[encoded data removed]",
      "text/plain": [
       "<Figure size 432x288 with 4 Axes>"
      ]
     },
     "metadata": {
      "needs_background": "light"
     },
     "output_type": "display_data"
    },
    {
     "data": {
      "image/png": "[encoded data removed]",
      "text/plain": [
       "<Figure size 432x288 with 4 Axes>"
      ]
     },
     "metadata": {
      "needs_background": "light"
     },
     "output_type": "display_data"
    },
    {
     "data": {
      "image/png": "[encoded data removed]",
      "text/plain": [
       "<Figure size 432x288 with 4 Axes>"
      ]
     },
     "metadata": {
      "needs_background": "light"
     },
     "output_type": "display_data"
    }
   ],
   "source": [
    "data_0.hist(bins=100)\n",
    "data_1.hist(bins=100, color='green')\n",
    "data_2.hist(bins=100, color='gold');"
   ]
  },
  {
   "cell_type": "code",
   "execution_count": 8,
   "metadata": {},
   "outputs": [
    {
     "data": {
      "image/png": "[encoded data removed]",
      "text/plain": [
       "<Figure size 360x144 with 2 Axes>"
      ]
     },
     "metadata": {
      "needs_background": "light"
     },
     "output_type": "display_data"
    },
    {
     "data": {
      "image/png": "[encoded data removed]",
      "text/plain": [
       "<Figure size 360x144 with 2 Axes>"
      ]
     },
     "metadata": {
      "needs_background": "light"
     },
     "output_type": "display_data"
    },
    {
     "data": {
      "image/png": "[encoded data removed]",
      "text/plain": [
       "<Figure size 360x144 with 2 Axes>"
      ]
     },
     "metadata": {
      "needs_background": "light"
     },
     "output_type": "display_data"
    }
   ],
   "source": [
    "fig, ax = plt.subplots(figsize=(5,2))\n",
    "sns.heatmap(data_0.corr(), annot = True, vmin=-1, vmax=1, center= 0, cmap= 'coolwarm', fmt='.3g')\n",
    "fig, ax = plt.subplots(figsize=(5,2))\n",
    "sns.heatmap(data_1.corr(), annot = True, vmin=-1, vmax=1, center= 0, cmap= 'coolwarm', fmt='.3g')\n",
    "fig, ax = plt.subplots(figsize=(5,2))\n",
    "sns.heatmap(data_2.corr(), annot = True, vmin=-1, vmax=1, center= 0, cmap= 'coolwarm', fmt='.3g');"
   ]
  },
  {
   "cell_type": "code",
   "execution_count": 9,
   "metadata": {},
   "outputs": [
    {
     "data": {
      "text/plain": [
       "0.9993969704906539"
      ]
     },
     "execution_count": 9,
     "metadata": {},
     "output_type": "execute_result"
    }
   ],
   "source": [
    "data_1['f2'].corr(data_1['product'])"
   ]
  },
  {
   "cell_type": "markdown",
   "metadata": {},
   "source": [
    "**Выводы по данным:**"
   ]
  },
  {
   "cell_type": "markdown",
   "metadata": {},
   "source": [
    "* 3 набора данных (региона) по 100тыс. строк без пропусков и дубликатов  \n",
    "* id для построения модели будет бесполезен  \n",
    "* f0, f1, f2 содержат численные признаки, масштабы признаков различаются - необходима нормализация.  \n",
    "* product - целевой признак  \n",
    "* Выбросов нет. \n",
    "* Распределение плотности признаков нормальное только для региона 2. Для регионов 0 и 1 нет.\n",
    "* Распределение целевого признака во всех случаях имеет ярко выделенные \"пики\".\n",
    "* Корреляция признаков (f0, f1, f2) между собой для всех регионов незначительна.\n",
    "* Признак f2 региона data_1 коррелирует с целевым признаком. Я бы посчитал это утечкой целевого признака, но в данном проекте такое поведение признаков необходимо воспринимать как \"очень хорошая фича\". Оставляем."
   ]
  },
  {
   "cell_type": "markdown",
   "metadata": {},
   "source": [
    "**Подготовка данных**"
   ]
  },
  {
   "cell_type": "code",
   "execution_count": 10,
   "metadata": {},
   "outputs": [],
   "source": [
    "data_0 = data_0.drop(['id'], axis=1)\n",
    "data_1 = data_1.drop(['id'], axis=1)\n",
    "data_2 = data_2.drop(['id'], axis=1)"
   ]
  },
  {
   "cell_type": "code",
   "execution_count": 11,
   "metadata": {},
   "outputs": [],
   "source": [
    "scaler = StandardScaler() #масштабируем признаки\n",
    "numeric = ['f0', 'f1', 'f2']\n",
    "\n",
    "scaler.fit(data_0[numeric])\n",
    "data_0[numeric] = scaler.transform(data_0[numeric])\n",
    "\n",
    "scaler.fit(data_1[numeric])\n",
    "data_1[numeric] = scaler.transform(data_1[numeric])\n",
    "\n",
    "scaler.fit(data_2[numeric])\n",
    "data_2[numeric] = scaler.transform(data_2[numeric])"
   ]
  },
  {
   "cell_type": "markdown",
   "metadata": {},
   "source": [
    "<a name=\"3\"></a>\n",
    "## Обучение и проверка модели\n",
    "\n",
    "* Для обучения модели подходит только линейная регрессия (остальные — недостаточно предсказуемые)."
   ]
  },
  {
   "cell_type": "markdown",
   "metadata": {},
   "source": [
    "**Разделение данных на обучающую и валидационную выборки**"
   ]
  },
  {
   "cell_type": "code",
   "execution_count": 12,
   "metadata": {},
   "outputs": [],
   "source": [
    "features_train_0, features_valid_0, target_train_0, target_valid_0 = train_test_split(\n",
    "    data_0.drop(['product'], axis=1), data_0['product'], test_size=0.25, random_state=123)\n",
    "\n",
    "features_train_1, features_valid_1, target_train_1, target_valid_1 = train_test_split(\n",
    "    data_1.drop(['product'], axis=1), data_1['product'], test_size=0.25, random_state=123)\n",
    "\n",
    "features_train_2, features_valid_2, target_train_2, target_valid_2 = train_test_split(\n",
    "    data_2.drop(['product'], axis=1), data_2['product'], test_size=0.25, random_state=123)"
   ]
  },
  {
   "cell_type": "markdown",
   "metadata": {},
   "source": [
    "Проверим как распределился целевой признак в тренировочную и валидационную выборку."
   ]
  },
  {
   "cell_type": "code",
   "execution_count": 13,
   "metadata": {
    "scrolled": true
   },
   "outputs": [
    {
     "data": {
      "image/png": "[encoded data removed]",
      "text/plain": [
       "<Figure size 1008x288 with 1 Axes>"
      ]
     },
     "metadata": {
      "needs_background": "light"
     },
     "output_type": "display_data"
    }
   ],
   "source": [
    "target_train_0.hist(bins=50, edgecolor='black',figsize=(14, 4), grid=True, alpha=0.4)\n",
    "target_valid_0.hist(bins=50, edgecolor='black',figsize=(14, 4), grid=True, alpha=0.4)\n",
    "plt.title('Распределение запасов сырья в тренировочной и валидационной выборках', fontsize=20)\n",
    "plt.ylabel('Количество строк', fontsize=16)\n",
    "plt.xlabel('Объём запасов в скважине (тыс. баррелей)', fontsize=16);"
   ]
  },
  {
   "cell_type": "markdown",
   "metadata": {},
   "source": [
    "Распределения идентичны - можно перейти к обучению."
   ]
  },
  {
   "cell_type": "markdown",
   "metadata": {},
   "source": [
    "**Обучение моделей**"
   ]
  },
  {
   "cell_type": "code",
   "execution_count": 14,
   "metadata": {
    "scrolled": true
   },
   "outputs": [
    {
     "name": "stdout",
     "output_type": "stream",
     "text": [
      "Регион 0.  Cредний запас предсказанного сырья: 92.5  RMSE модели: 37.6\n",
      "Регион 1.  Cредний запас предсказанного сырья: 69.3  RMSE модели: 0.9\n",
      "Регион 2.  Cредний запас предсказанного сырья: 95.1  RMSE модели: 40.1\n",
      "\n",
      "Регион 0.  Cредний запас сырья (факт): 92.9  R2 модели: 0.2813\n",
      "Регион 1.  Cредний запас сырья (факт): 69.3  R2 модели: 0.9996\n",
      "Регион 2.  Cредний запас сырья (факт): 94.9  R2 модели: 0.1931\n"
     ]
    }
   ],
   "source": [
    "model = LinearRegression()\n",
    "\n",
    "model.fit(features_train_0, target_train_0)\n",
    "predictions_valid_0 = model.predict(features_valid_0)\n",
    "pred_0_mean = predictions_valid_0.mean()\n",
    "RMSE_0 = mean_squared_error(target_valid_0, predictions_valid_0)**0.5\n",
    "R2_0 = r2_score(target_valid_0, predictions_valid_0)\n",
    "print('Регион 0.  Cредний запас предсказанного сырья: %.1f' %pred_0_mean, ' RMSE модели: %.1f' %RMSE_0)\n",
    "predictions_valid_0=pd.Series(predictions_valid_0, index=target_valid_0.index)\n",
    "\n",
    "model.fit(features_train_1, target_train_1)\n",
    "predictions_valid_1 = model.predict(features_valid_1)\n",
    "pred_1_mean = predictions_valid_1.mean()\n",
    "RMSE_1 = mean_squared_error(target_valid_1, predictions_valid_1)**0.5\n",
    "R2_1 = r2_score(target_valid_1, predictions_valid_1)\n",
    "print('Регион 1.  Cредний запас предсказанного сырья: %.1f' %pred_1_mean, ' RMSE модели: %.1f' %RMSE_1)\n",
    "predictions_valid_1=pd.Series(predictions_valid_1, index=target_valid_1.index)\n",
    "\n",
    "model.fit(features_train_2, target_train_2)\n",
    "predictions_valid_2 = model.predict(features_valid_2)\n",
    "pred_2_mean = predictions_valid_2.mean()\n",
    "RMSE_2 = mean_squared_error(target_valid_2, predictions_valid_2)**0.5\n",
    "R2_2 = r2_score(target_valid_2, predictions_valid_2)\n",
    "print('Регион 2.  Cредний запас предсказанного сырья: %.1f' %pred_2_mean, ' RMSE модели: %.1f' %RMSE_2)\n",
    "predictions_valid_2=pd.Series(predictions_valid_2, index=target_valid_2.index)\n",
    "print()\n",
    "print('Регион 0.  Cредний запас сырья (факт): %.1f' %target_valid_0.mean(), ' R2 модели: %.4f' %R2_0)\n",
    "print('Регион 1.  Cредний запас сырья (факт): %.1f' %target_valid_1.mean(), ' R2 модели: %.4f' %R2_1)\n",
    "print('Регион 2.  Cредний запас сырья (факт): %.1f' %target_valid_2.mean(), ' R2 модели: %.4f' %R2_2)"
   ]
  },
  {
   "cell_type": "markdown",
   "metadata": {},
   "source": [
    "**Выводы по моделям для регионов**"
   ]
  },
  {
   "cell_type": "markdown",
   "metadata": {},
   "source": [
    "* Модели региона 0 и 2 предсказывают чуть лучше чем константная модель.  \n",
    "* Модель 2 очень точна (вероятно за счет признака f2)."
   ]
  },
  {
   "cell_type": "markdown",
   "metadata": {},
   "source": [
    "<a name=\"4\"></a>\n",
    "## Подготовка к расчёту прибыли\n",
    "\n",
    "    При разведке региона исследуют 500 точек, из которых с помощью машинного обучения выбирают 200 лучших для разработки.\n",
    "    Бюджет на разработку скважин в регионе — 10 млрд рублей.\n",
    "    При нынешних ценах один баррель сырья приносит 450 рублей дохода. Доход с каждой единицы продукта составляет 450 тыс. рублей, поскольку объём указан в тысячах баррелей."
   ]
  },
  {
   "cell_type": "code",
   "execution_count": 15,
   "metadata": {},
   "outputs": [
    {
     "name": "stdout",
     "output_type": "stream",
     "text": [
      "Минимальный объём сырья для безубыточной разработки новой скважины: 111.1\n"
     ]
    }
   ],
   "source": [
    "budget = 10000000000 # бюджет на разработку скважин в регионе руб.\n",
    "income_by_1000_barrel = 450000 # доход с единицы продукта.\n",
    "wells = 200 # количество скважин на регион (включенных в бюджет)\n",
    "min_volume = budget/(income_by_1000_barrel*wells) # минимальный объём сырья для безубыточной разработки новой скважины\n",
    "print('Минимальный объём сырья для безубыточной разработки новой скважины: %.1f' %min_volume)"
   ]
  },
  {
   "cell_type": "markdown",
   "metadata": {},
   "source": [
    "<a name=\"5\"></a>\n",
    "## Функция для расчёта прибыли "
   ]
  },
  {
   "cell_type": "code",
   "execution_count": 16,
   "metadata": {},
   "outputs": [
    {
     "ename": "IndentationError",
     "evalue": "expected an indented block (<ipython-input-16-36e293037cdc>, line 5)",
     "output_type": "error",
     "traceback": [
      "\u001b[1;36m  File \u001b[1;32m\"<ipython-input-16-36e293037cdc>\"\u001b[1;36m, line \u001b[1;32m5\u001b[0m\n\u001b[1;33m    '''\u001b[0m\n\u001b[1;37m    ^\u001b[0m\n\u001b[1;31mIndentationError\u001b[0m\u001b[1;31m:\u001b[0m expected an indented block\n"
     ]
    }
   ],
   "source": [
    "def revenue(targets, predictions, wells):\n",
    "'''\n",
    "функция принимает значения целевого признака, предсказанные значения и wells\n",
    "отбирает wells наибольших предсказанных значений и считает прибыль по соответствующим фактическим значениям \n",
    "'''\n",
    "    predictions_sorted = predictions.sort_values(ascending=False)\n",
    "    selected = targets[predictions_sorted.index][:wells]\n",
    "    return income_by_1000_barrel * selected.sum() - budget"
   ]
  },
  {
   "cell_type": "markdown",
   "metadata": {},
   "source": [
    "<a name=\"6\"></a>\n",
    "## Расчет прибыли и оценка рисков \n",
    "\n",
    "* После оценки рисков нужно оставить лишь те регионы, в которых вероятность убытков меньше 2.5%. Среди них выбирают регион с наибольшей средней прибылью."
   ]
  },
  {
   "cell_type": "markdown",
   "metadata": {},
   "source": [
    "<a name=\"61\"></a>\n",
    "### Регион 0"
   ]
  },
  {
   "cell_type": "code",
   "execution_count": null,
   "metadata": {
    "scrolled": true
   },
   "outputs": [],
   "source": [
    "state = np.random.RandomState(1234)\n",
    "\n",
    "values = []\n",
    "for i in range(1000):\n",
    "    target_subsample = target_valid_0.sample(n=500, replace=True, random_state=state)\n",
    "    predict_subsample = predictions_valid_0[target_subsample.index]\n",
    "    values.append(revenue(target_subsample, predict_subsample, wells))\n",
    "\n",
    "values = pd.Series(values)\n",
    "q025 = (values.quantile(0.025))/1000000\n",
    "q975 = (values.quantile(0.975))/1000000\n",
    "mean = values.mean()/1000000\n",
    "loss_prob = values[values<0].count()/values.count()\n",
    "\n",
    "print('Регион 0')\n",
    "print('Средняя предсказанная прибыль: %.1f' %mean, 'млн.')\n",
    "print('95 процентный доверительный интервал: от %.1f' %q025, 'до %.1f' %q975, 'млн.')\n",
    "print('Вероятность убытков:', loss_prob)"
   ]
  },
  {
   "cell_type": "markdown",
   "metadata": {},
   "source": [
    "<a name=\"62\"></a>\n",
    "### Регион 1"
   ]
  },
  {
   "cell_type": "code",
   "execution_count": null,
   "metadata": {},
   "outputs": [],
   "source": [
    "values = []\n",
    "for i in range(1000):\n",
    "    target_subsample = target_valid_1.sample(n=500, replace=True, random_state=state)\n",
    "    predict_subsample = predictions_valid_1[target_subsample.index]\n",
    "    values.append(revenue(target_subsample, predict_subsample, 200))\n",
    "\n",
    "values = pd.Series(values)\n",
    "q025 = (values.quantile(0.025))/1000000\n",
    "q975 = (values.quantile(0.975))/1000000\n",
    "mean = values.mean()/1000000\n",
    "loss_prob = values[values<0].count()/values.count()\n",
    "\n",
    "print('Регион 1')\n",
    "print('Средняя предсказанная прибыль: %.1f' %mean, 'млн.')\n",
    "print('95 процентный доверительный интервал: от %.1f' %q025, 'до %.1f' %q975, 'млн.')\n",
    "print('Вероятность убытков:', loss_prob)"
   ]
  },
  {
   "cell_type": "markdown",
   "metadata": {},
   "source": [
    "<a name=\"63\"></a>\n",
    "### Регион 2"
   ]
  },
  {
   "cell_type": "code",
   "execution_count": null,
   "metadata": {},
   "outputs": [],
   "source": [
    "values = []\n",
    "for i in range(1000):\n",
    "    target_subsample = target_valid_2.sample(n=500, replace=True, random_state=state)\n",
    "    predict_subsample = predictions_valid_2[target_subsample.index]\n",
    "    values.append(revenue(target_subsample, predict_subsample, 200))\n",
    "\n",
    "values = pd.Series(values)\n",
    "q025 = (values.quantile(0.025))/1000000\n",
    "q975 = (values.quantile(0.975))/1000000\n",
    "mean = values.mean()/1000000\n",
    "loss_prob = values[values<0].count()/values.count()\n",
    "\n",
    "print('Регион 2')\n",
    "print('Средняя предсказанная прибыль: %.1f' %mean, 'млн.')\n",
    "print('95 процентный доверительный интервал: от %.1f' %q025, 'до %.1f' %q975, 'млн.')\n",
    "print('Вероятность убытков:', loss_prob)"
   ]
  },
  {
   "cell_type": "markdown",
   "metadata": {},
   "source": [
    "<a name=\"64\"></a>\n",
    "### Сравнение регинонов"
   ]
  },
  {
   "cell_type": "markdown",
   "metadata": {},
   "source": [
    "В ходе исследования получены следующие характеристики:  \n",
    "\n",
    "Характеристика | Регион 0 | Регион 1 | Регион 2\n",
    "--- |--- | --- | ---\n",
    "Cредний запас сырья (факт) (тыс. бар) | 92,9 | 69,3 | 94,9\n",
    "--- |--- | --- | ---\n",
    "LinearRegression() |--- | --- | ---\n",
    "Cредний запас предсказанного сырья (тыс. бар)  | 92,5 | 69,3 | 95,1\n",
    "RMSE (тыс. бар) | 37,6 | 0,9 | 40,1\n",
    "R2 | 0.2813 | 0.9996 | 0.1931\n",
    "--- |--- | --- | ---\n",
    "Прибыль и риски |--- | --- | --- \n",
    "Средняя предсказанная прибыль (млн. руб.) |501.7 | 520.4 | 375.7\n",
    "95 процентный доверительный интервал (млн. руб.) |-17.8  /  998.3 | 106.7  /  952.1 | -173.8  /  912.8\n",
    "Вероятность убытков (млн. руб.) | 0.027| 0.002 | 0.095"
   ]
  },
  {
   "cell_type": "markdown",
   "metadata": {},
   "source": [
    "<a name=\"7\"></a>\n",
    "## Выводы"
   ]
  },
  {
   "cell_type": "markdown",
   "metadata": {},
   "source": [
    "Скважины региона 1 в среднем на 25% \"беднее\" чем в регионах 0 и 2. Но не смотря на это модель для региона 1, позволяющая более точно предсказать запасы, способна по данным разведки лучше отобрать районы для последующей разработки. По результатам исследования только модель для региона 1 может обеспечить вероятность убытков на уровне 0,2%, что ниже порогового значения 2,5%. С 95% вероятностью прибыль при разработке этого региона составит 106,7 - 952,1 млн. руб. Средняя предсказанная прибыль (520,4 млн. руб.) максимальна также для региона 1.  \n",
    "\n",
    "Что касается регионов 0 и 2 - увеличение точности предсказаний в перспективе позволит рассматривать и их."
   ]
  },
  {
   "cell_type": "markdown",
   "metadata": {},
   "source": [
    "**Чек-лист готовности проекта**"
   ]
  },
  {
   "cell_type": "markdown",
   "metadata": {},
   "source": [
    "- [x]  Jupyter Notebook открыт\n",
    "- [x]  Весь код выполняется без ошибок\n",
    "- [x]  Ячейки с кодом расположены в порядке исполнения\n",
    "- [x]  Выполнен шаг 1: данные подготовлены\n",
    "- [x]  Выполнен шаг 2: модели обучены и проверены\n",
    "    - [x]  Данные корректно разбиты на обучающую и валидационную выборки\n",
    "    - [x]  Модели обучены, предсказания сделаны\n",
    "    - [x]  Предсказания и правильные ответы на валидационной выборке сохранены\n",
    "    - [x]  На экране напечатаны результаты\n",
    "    - [x]  Сделаны выводы\n",
    "- [x]  Выполнен шаг 3: проведена подготовка к расчёту прибыли\n",
    "    - [x]  Для всех ключевых значений созданы константы Python\n",
    "    - [x]  Посчитано минимальное среднее количество продукта в месторождениях региона, достаточное для разработки\n",
    "    - [x]  По предыдущему пункту сделаны выводы\n",
    "    - [x]  Написана функция расчёта прибыли\n",
    "- [x]  Выполнен шаг 4: посчитаны риски и прибыль\n",
    "    - [x]  Проведена процедура *Bootstrap*\n",
    "    - [x]  Все параметры бутстрепа соответствуют условию\n",
    "    - [x]  Найдены все нужные величины\n",
    "    - [x]  Предложен регион для разработки месторождения\n",
    "    - [x]  Выбор региона обоснован"
   ]
  }
 ],
 "metadata": {
  "kernelspec": {
   "display_name": "Python 3",
   "language": "python",
   "name": "python3"
  },
  "language_info": {
   "codemirror_mode": {
    "name": "ipython",
    "version": 3
   },
   "file_extension": ".py",
   "mimetype": "text/x-python",
   "name": "python",
   "nbconvert_exporter": "python",
   "pygments_lexer": "ipython3",
   "version": "3.8.5"
  },
  "toc": {
   "base_numbering": 1,
   "nav_menu": {
    "height": "386px",
    "width": "404px"
   },
   "number_sections": true,
   "sideBar": true,
   "skip_h1_title": true,
   "title_cell": "Table of Contents",
   "title_sidebar": "Contents",
   "toc_cell": false,
   "toc_position": {},
   "toc_section_display": true,
   "toc_window_display": true
  }
 },
 "nbformat": 4,
 "nbformat_minor": 2
}
