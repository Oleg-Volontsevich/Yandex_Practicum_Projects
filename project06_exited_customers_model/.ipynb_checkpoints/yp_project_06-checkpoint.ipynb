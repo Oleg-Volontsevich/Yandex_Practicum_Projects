{
 "cells": [
  {
   "cell_type": "markdown",
   "metadata": {},
   "source": [
    "|  |  |  |\n",
    "| ---: | :--- | :--- |\n",
    "| Курс:| Обучение с учителем | 06 |\n",
    "| Срок обучения на момент сдачи: | 3 месяца |\n",
    "\n",
    "# Отток клиентов\n",
    "\n",
    "Из «Бета-Банка» стали уходить клиенты. Каждый месяц. Немного, но заметно. Банковские маркетологи посчитали: сохранять текущих клиентов дешевле, чем привлекать новых.\n",
    "\n",
    "Нужно спрогнозировать, уйдёт клиент из банка в ближайшее время или нет. Вам предоставлены исторические данные о поведении клиентов и расторжении договоров с банком. "
   ]
  },
  {
   "cell_type": "markdown",
   "metadata": {},
   "source": [
    "# План:  \n",
    "\n",
    "1  [Вводные данные](#1)\n",
    "\n",
    "*    1.1  [Описание данных](#11)\n",
    "*    1.2  [Инструкция по выполнению проекта](#12)\n",
    "\n",
    "2  [Изучение и подготовка данных](#2)\n",
    "\n",
    "3  [Модели без устранения дисбаланса](#3)\n",
    "\n",
    "*    3.1  [Решающее дерево (несбалансированные классы)](#31)\n",
    "\n",
    "4  [Борьба с дисбалансом](#4)\n",
    "\n",
    "*    4.1  [Решающее дерево (class_weight='balanced')](#41)\n",
    "*    4.2  [Случайный лес (class_weight='balanced')](#42)\n",
    "*    4.3  [Увеличение выборки](#43)\n",
    "*    4.4  [Решающее дерево (с увеличенным минорным классом)](#44)\n",
    "*    4.5  [Случайный лес (с увеличенным минорным классом)](#45)\n",
    "*    4.6  [Логистическая регрессия (с увеличенным минорным классом)](#46)\n",
    "*    4.7  [Сравнение моделей](#47)\n",
    "\n",
    "5  [Тестирование модели](#5)\n",
    "\n",
    "6  [Вывод](#6)"
   ]
  },
  {
   "cell_type": "markdown",
   "metadata": {},
   "source": [
    "<a name=\"1\"></a>\n",
    "## Вводные данные\n",
    "\n",
    "Источник данных: [https://www.kaggle.com/barelydedicated/bank-customer-churn-modeling](https://www.kaggle.com/barelydedicated/bank-customer-churn-modeling)"
   ]
  },
  {
   "cell_type": "markdown",
   "metadata": {},
   "source": [
    "<a name=\"11\"></a>\n",
    "### Описание данных\n",
    "\n",
    "**Признаки:**\n",
    "\n",
    "*    RowNumber — индекс строки в данных\n",
    "*    CustomerId — уникальный идентификатор клиента\n",
    "*    Surname — фамилия\n",
    "*    CreditScore — кредитный рейтинг\n",
    "*    Geography — страна проживания\n",
    "*    Gender — пол\n",
    "*    Age — возраст\n",
    "*    Tenure — количество недвижимости у клиента\n",
    "*    Balance — баланс на счёте\n",
    "*    NumOfProducts — количество продуктов банка, используемых клиентом\n",
    "*    HasCrCard — наличие кредитной карты\n",
    "*    IsActiveMember — активность клиента\n",
    "*    EstimatedSalary — предполагаемая зарплата\n",
    "\n",
    "**Целевой признак:**\n",
    "\n",
    "*    Exited — факт ухода клиента"
   ]
  },
  {
   "cell_type": "markdown",
   "metadata": {},
   "source": [
    "<a name=\"12\"></a>\n",
    "### Инструкция по выполнению проекта\n",
    "\n",
    "Постройте модель с предельно большим значением *F1*-меры. Чтобы сдать проект успешно, нужно довести метрику до 0.59. Проверьте *F1*-меру на тестовой выборке самостоятельно.\n",
    "\n",
    "Дополнительно измеряйте *AUC-ROC*, сравнивайте её значение с *F1*-мерой.\n",
    "\n",
    "*    Загрузите и подготовьте данные. Поясните порядок действий.\n",
    "*    Исследуйте баланс классов, обучите модель без учёта дисбаланса. Кратко опишите выводы.\n",
    "*    Улучшите качество модели, учитывая дисбаланс классов. Обучите разные модели и найдите лучшую. Кратко опишите выводы.\n",
    "*    Проведите финальное тестирование."
   ]
  },
  {
   "cell_type": "markdown",
   "metadata": {},
   "source": [
    "<a name=\"2\"></a>\n",
    "## Изучение и подготовка данных"
   ]
  },
  {
   "cell_type": "code",
   "execution_count": 1,
   "metadata": {},
   "outputs": [],
   "source": [
    "import pandas as pd\n",
    "import numpy as np\n",
    "import matplotlib.pyplot as plt\n",
    "from IPython.display import display\n",
    "import seaborn as sns\n",
    "\n",
    "from sklearn.tree import DecisionTreeClassifier, plot_tree\n",
    "from sklearn.metrics import accuracy_score, f1_score, confusion_matrix, roc_auc_score\n",
    "from sklearn.ensemble import RandomForestClassifier\n",
    "from sklearn.linear_model import LogisticRegression \n",
    "from sklearn.model_selection import train_test_split, GridSearchCV\n",
    "from sklearn.dummy import DummyClassifier\n",
    "from sklearn.preprocessing import StandardScaler \n",
    "from sklearn.utils import shuffle"
   ]
  },
  {
   "cell_type": "code",
   "execution_count": 2,
   "metadata": {},
   "outputs": [],
   "source": [
    "data = pd.read_csv('Churn.csv')"
   ]
  },
  {
   "cell_type": "code",
   "execution_count": 3,
   "metadata": {
    "scrolled": false
   },
   "outputs": [
    {
     "name": "stdout",
     "output_type": "stream",
     "text": [
      "<class 'pandas.core.frame.DataFrame'>\n",
      "RangeIndex: 10000 entries, 0 to 9999\n",
      "Data columns (total 14 columns):\n",
      " #   Column           Non-Null Count  Dtype  \n",
      "---  ------           --------------  -----  \n",
      " 0   RowNumber        10000 non-null  int64  \n",
      " 1   CustomerId       10000 non-null  int64  \n",
      " 2   Surname          10000 non-null  object \n",
      " 3   CreditScore      10000 non-null  int64  \n",
      " 4   Geography        10000 non-null  object \n",
      " 5   Gender           10000 non-null  object \n",
      " 6   Age              10000 non-null  int64  \n",
      " 7   Tenure           9091 non-null   float64\n",
      " 8   Balance          10000 non-null  float64\n",
      " 9   NumOfProducts    10000 non-null  int64  \n",
      " 10  HasCrCard        10000 non-null  int64  \n",
      " 11  IsActiveMember   10000 non-null  int64  \n",
      " 12  EstimatedSalary  10000 non-null  float64\n",
      " 13  Exited           10000 non-null  int64  \n",
      "dtypes: float64(3), int64(8), object(3)\n",
      "memory usage: 1.1+ MB\n"
     ]
    },
    {
     "data": {
      "text/html": [
       "<div>\n",
       "<style scoped>\n",
       "    .dataframe tbody tr th:only-of-type {\n",
       "        vertical-align: middle;\n",
       "    }\n",
       "\n",
       "    .dataframe tbody tr th {\n",
       "        vertical-align: top;\n",
       "    }\n",
       "\n",
       "    .dataframe thead th {\n",
       "        text-align: right;\n",
       "    }\n",
       "</style>\n",
       "<table border=\"1\" class=\"dataframe\">\n",
       "  <thead>\n",
       "    <tr style=\"text-align: right;\">\n",
       "      <th></th>\n",
       "      <th>RowNumber</th>\n",
       "      <th>CustomerId</th>\n",
       "      <th>Surname</th>\n",
       "      <th>CreditScore</th>\n",
       "      <th>Geography</th>\n",
       "      <th>Gender</th>\n",
       "      <th>Age</th>\n",
       "      <th>Tenure</th>\n",
       "      <th>Balance</th>\n",
       "      <th>NumOfProducts</th>\n",
       "      <th>HasCrCard</th>\n",
       "      <th>IsActiveMember</th>\n",
       "      <th>EstimatedSalary</th>\n",
       "      <th>Exited</th>\n",
       "    </tr>\n",
       "  </thead>\n",
       "  <tbody>\n",
       "    <tr>\n",
       "      <th>0</th>\n",
       "      <td>1</td>\n",
       "      <td>15634602</td>\n",
       "      <td>Hargrave</td>\n",
       "      <td>619</td>\n",
       "      <td>France</td>\n",
       "      <td>Female</td>\n",
       "      <td>42</td>\n",
       "      <td>2.0</td>\n",
       "      <td>0.00</td>\n",
       "      <td>1</td>\n",
       "      <td>1</td>\n",
       "      <td>1</td>\n",
       "      <td>101348.88</td>\n",
       "      <td>1</td>\n",
       "    </tr>\n",
       "    <tr>\n",
       "      <th>1</th>\n",
       "      <td>2</td>\n",
       "      <td>15647311</td>\n",
       "      <td>Hill</td>\n",
       "      <td>608</td>\n",
       "      <td>Spain</td>\n",
       "      <td>Female</td>\n",
       "      <td>41</td>\n",
       "      <td>1.0</td>\n",
       "      <td>83807.86</td>\n",
       "      <td>1</td>\n",
       "      <td>0</td>\n",
       "      <td>1</td>\n",
       "      <td>112542.58</td>\n",
       "      <td>0</td>\n",
       "    </tr>\n",
       "    <tr>\n",
       "      <th>2</th>\n",
       "      <td>3</td>\n",
       "      <td>15619304</td>\n",
       "      <td>Onio</td>\n",
       "      <td>502</td>\n",
       "      <td>France</td>\n",
       "      <td>Female</td>\n",
       "      <td>42</td>\n",
       "      <td>8.0</td>\n",
       "      <td>159660.80</td>\n",
       "      <td>3</td>\n",
       "      <td>1</td>\n",
       "      <td>0</td>\n",
       "      <td>113931.57</td>\n",
       "      <td>1</td>\n",
       "    </tr>\n",
       "  </tbody>\n",
       "</table>\n",
       "</div>"
      ],
      "text/plain": [
       "   RowNumber  CustomerId   Surname  CreditScore Geography  Gender  Age  \\\n",
       "0          1    15634602  Hargrave          619    France  Female   42   \n",
       "1          2    15647311      Hill          608     Spain  Female   41   \n",
       "2          3    15619304      Onio          502    France  Female   42   \n",
       "\n",
       "   Tenure    Balance  NumOfProducts  HasCrCard  IsActiveMember  \\\n",
       "0     2.0       0.00              1          1               1   \n",
       "1     1.0   83807.86              1          0               1   \n",
       "2     8.0  159660.80              3          1               0   \n",
       "\n",
       "   EstimatedSalary  Exited  \n",
       "0        101348.88       1  \n",
       "1        112542.58       0  \n",
       "2        113931.57       1  "
      ]
     },
     "metadata": {},
     "output_type": "display_data"
    },
    {
     "data": {
      "text/html": [
       "<div>\n",
       "<style scoped>\n",
       "    .dataframe tbody tr th:only-of-type {\n",
       "        vertical-align: middle;\n",
       "    }\n",
       "\n",
       "    .dataframe tbody tr th {\n",
       "        vertical-align: top;\n",
       "    }\n",
       "\n",
       "    .dataframe thead th {\n",
       "        text-align: right;\n",
       "    }\n",
       "</style>\n",
       "<table border=\"1\" class=\"dataframe\">\n",
       "  <thead>\n",
       "    <tr style=\"text-align: right;\">\n",
       "      <th></th>\n",
       "      <th>RowNumber</th>\n",
       "      <th>CustomerId</th>\n",
       "      <th>CreditScore</th>\n",
       "      <th>Age</th>\n",
       "      <th>Tenure</th>\n",
       "      <th>Balance</th>\n",
       "      <th>NumOfProducts</th>\n",
       "      <th>HasCrCard</th>\n",
       "      <th>IsActiveMember</th>\n",
       "      <th>EstimatedSalary</th>\n",
       "      <th>Exited</th>\n",
       "    </tr>\n",
       "  </thead>\n",
       "  <tbody>\n",
       "    <tr>\n",
       "      <th>count</th>\n",
       "      <td>10000.00000</td>\n",
       "      <td>1.000000e+04</td>\n",
       "      <td>10000.000000</td>\n",
       "      <td>10000.000000</td>\n",
       "      <td>9091.000000</td>\n",
       "      <td>10000.000000</td>\n",
       "      <td>10000.000000</td>\n",
       "      <td>10000.00000</td>\n",
       "      <td>10000.000000</td>\n",
       "      <td>10000.000000</td>\n",
       "      <td>10000.000000</td>\n",
       "    </tr>\n",
       "    <tr>\n",
       "      <th>mean</th>\n",
       "      <td>5000.50000</td>\n",
       "      <td>1.569094e+07</td>\n",
       "      <td>650.528800</td>\n",
       "      <td>38.921800</td>\n",
       "      <td>4.997690</td>\n",
       "      <td>76485.889288</td>\n",
       "      <td>1.530200</td>\n",
       "      <td>0.70550</td>\n",
       "      <td>0.515100</td>\n",
       "      <td>100090.239881</td>\n",
       "      <td>0.203700</td>\n",
       "    </tr>\n",
       "    <tr>\n",
       "      <th>std</th>\n",
       "      <td>2886.89568</td>\n",
       "      <td>7.193619e+04</td>\n",
       "      <td>96.653299</td>\n",
       "      <td>10.487806</td>\n",
       "      <td>2.894723</td>\n",
       "      <td>62397.405202</td>\n",
       "      <td>0.581654</td>\n",
       "      <td>0.45584</td>\n",
       "      <td>0.499797</td>\n",
       "      <td>57510.492818</td>\n",
       "      <td>0.402769</td>\n",
       "    </tr>\n",
       "    <tr>\n",
       "      <th>min</th>\n",
       "      <td>1.00000</td>\n",
       "      <td>1.556570e+07</td>\n",
       "      <td>350.000000</td>\n",
       "      <td>18.000000</td>\n",
       "      <td>0.000000</td>\n",
       "      <td>0.000000</td>\n",
       "      <td>1.000000</td>\n",
       "      <td>0.00000</td>\n",
       "      <td>0.000000</td>\n",
       "      <td>11.580000</td>\n",
       "      <td>0.000000</td>\n",
       "    </tr>\n",
       "    <tr>\n",
       "      <th>25%</th>\n",
       "      <td>2500.75000</td>\n",
       "      <td>1.562853e+07</td>\n",
       "      <td>584.000000</td>\n",
       "      <td>32.000000</td>\n",
       "      <td>2.000000</td>\n",
       "      <td>0.000000</td>\n",
       "      <td>1.000000</td>\n",
       "      <td>0.00000</td>\n",
       "      <td>0.000000</td>\n",
       "      <td>51002.110000</td>\n",
       "      <td>0.000000</td>\n",
       "    </tr>\n",
       "    <tr>\n",
       "      <th>50%</th>\n",
       "      <td>5000.50000</td>\n",
       "      <td>1.569074e+07</td>\n",
       "      <td>652.000000</td>\n",
       "      <td>37.000000</td>\n",
       "      <td>5.000000</td>\n",
       "      <td>97198.540000</td>\n",
       "      <td>1.000000</td>\n",
       "      <td>1.00000</td>\n",
       "      <td>1.000000</td>\n",
       "      <td>100193.915000</td>\n",
       "      <td>0.000000</td>\n",
       "    </tr>\n",
       "    <tr>\n",
       "      <th>75%</th>\n",
       "      <td>7500.25000</td>\n",
       "      <td>1.575323e+07</td>\n",
       "      <td>718.000000</td>\n",
       "      <td>44.000000</td>\n",
       "      <td>7.000000</td>\n",
       "      <td>127644.240000</td>\n",
       "      <td>2.000000</td>\n",
       "      <td>1.00000</td>\n",
       "      <td>1.000000</td>\n",
       "      <td>149388.247500</td>\n",
       "      <td>0.000000</td>\n",
       "    </tr>\n",
       "    <tr>\n",
       "      <th>max</th>\n",
       "      <td>10000.00000</td>\n",
       "      <td>1.581569e+07</td>\n",
       "      <td>850.000000</td>\n",
       "      <td>92.000000</td>\n",
       "      <td>10.000000</td>\n",
       "      <td>250898.090000</td>\n",
       "      <td>4.000000</td>\n",
       "      <td>1.00000</td>\n",
       "      <td>1.000000</td>\n",
       "      <td>199992.480000</td>\n",
       "      <td>1.000000</td>\n",
       "    </tr>\n",
       "  </tbody>\n",
       "</table>\n",
       "</div>"
      ],
      "text/plain": [
       "         RowNumber    CustomerId   CreditScore           Age       Tenure  \\\n",
       "count  10000.00000  1.000000e+04  10000.000000  10000.000000  9091.000000   \n",
       "mean    5000.50000  1.569094e+07    650.528800     38.921800     4.997690   \n",
       "std     2886.89568  7.193619e+04     96.653299     10.487806     2.894723   \n",
       "min        1.00000  1.556570e+07    350.000000     18.000000     0.000000   \n",
       "25%     2500.75000  1.562853e+07    584.000000     32.000000     2.000000   \n",
       "50%     5000.50000  1.569074e+07    652.000000     37.000000     5.000000   \n",
       "75%     7500.25000  1.575323e+07    718.000000     44.000000     7.000000   \n",
       "max    10000.00000  1.581569e+07    850.000000     92.000000    10.000000   \n",
       "\n",
       "             Balance  NumOfProducts    HasCrCard  IsActiveMember  \\\n",
       "count   10000.000000   10000.000000  10000.00000    10000.000000   \n",
       "mean    76485.889288       1.530200      0.70550        0.515100   \n",
       "std     62397.405202       0.581654      0.45584        0.499797   \n",
       "min         0.000000       1.000000      0.00000        0.000000   \n",
       "25%         0.000000       1.000000      0.00000        0.000000   \n",
       "50%     97198.540000       1.000000      1.00000        1.000000   \n",
       "75%    127644.240000       2.000000      1.00000        1.000000   \n",
       "max    250898.090000       4.000000      1.00000        1.000000   \n",
       "\n",
       "       EstimatedSalary        Exited  \n",
       "count     10000.000000  10000.000000  \n",
       "mean     100090.239881      0.203700  \n",
       "std       57510.492818      0.402769  \n",
       "min          11.580000      0.000000  \n",
       "25%       51002.110000      0.000000  \n",
       "50%      100193.915000      0.000000  \n",
       "75%      149388.247500      0.000000  \n",
       "max      199992.480000      1.000000  "
      ]
     },
     "metadata": {},
     "output_type": "display_data"
    },
    {
     "name": "stdout",
     "output_type": "stream",
     "text": [
      "дубликатов: 0\n"
     ]
    }
   ],
   "source": [
    "data.info()\n",
    "display(data.head(3))\n",
    "display(data.describe())\n",
    "print('дубликатов:', data.duplicated().sum())"
   ]
  },
  {
   "cell_type": "code",
   "execution_count": 4,
   "metadata": {},
   "outputs": [
    {
     "name": "stdout",
     "output_type": "stream",
     "text": [
      "France     5014\n",
      "Germany    2509\n",
      "Spain      2477\n",
      "Name: Geography, dtype: int64\n",
      "\n",
      "Male      5457\n",
      "Female    4543\n",
      "Name: Gender, dtype: int64\n"
     ]
    }
   ],
   "source": [
    "print(data['Geography'].value_counts())\n",
    "print()\n",
    "print(data['Gender'].value_counts())"
   ]
  },
  {
   "cell_type": "markdown",
   "metadata": {},
   "source": [
    "10000 строк, 909 строк (9%) с пропусками в Tenure.  \n",
    "14 столбцов: \n",
    "\n",
    "    RowNumber, CustomerId, Surname для построения модели будут бесполезны\n",
    "    Geography, Gender содержат категориальные признаки\n",
    "    \n",
    "Целевой признак несбалансирован (факт ухода клиента в 20% случаев).\n",
    "\n",
    "Дубликатов нет."
   ]
  },
  {
   "cell_type": "markdown",
   "metadata": {},
   "source": [
    "Разберемся с пропусками в столбце с информацией о недвижимости (Tenure)."
   ]
  },
  {
   "cell_type": "code",
   "execution_count": 5,
   "metadata": {
    "scrolled": true
   },
   "outputs": [
    {
     "name": "stdout",
     "output_type": "stream",
     "text": [
      "1.0     952\n",
      "2.0     950\n",
      "8.0     933\n",
      "3.0     928\n",
      "5.0     927\n",
      "7.0     925\n",
      "4.0     885\n",
      "9.0     882\n",
      "6.0     881\n",
      "10.0    446\n",
      "0.0     382\n",
      "Name: Tenure, dtype: int64\n"
     ]
    },
    {
     "data": {
      "text/html": [
       "<div>\n",
       "<style scoped>\n",
       "    .dataframe tbody tr th:only-of-type {\n",
       "        vertical-align: middle;\n",
       "    }\n",
       "\n",
       "    .dataframe tbody tr th {\n",
       "        vertical-align: top;\n",
       "    }\n",
       "\n",
       "    .dataframe thead th {\n",
       "        text-align: right;\n",
       "    }\n",
       "</style>\n",
       "<table border=\"1\" class=\"dataframe\">\n",
       "  <thead>\n",
       "    <tr style=\"text-align: right;\">\n",
       "      <th></th>\n",
       "      <th>RowNumber</th>\n",
       "      <th>CustomerId</th>\n",
       "      <th>CreditScore</th>\n",
       "      <th>Age</th>\n",
       "      <th>Tenure</th>\n",
       "      <th>Balance</th>\n",
       "      <th>NumOfProducts</th>\n",
       "      <th>HasCrCard</th>\n",
       "      <th>IsActiveMember</th>\n",
       "      <th>EstimatedSalary</th>\n",
       "      <th>Exited</th>\n",
       "    </tr>\n",
       "  </thead>\n",
       "  <tbody>\n",
       "    <tr>\n",
       "      <th>count</th>\n",
       "      <td>909.000000</td>\n",
       "      <td>9.090000e+02</td>\n",
       "      <td>909.000000</td>\n",
       "      <td>909.000000</td>\n",
       "      <td>0.0</td>\n",
       "      <td>909.000000</td>\n",
       "      <td>909.000000</td>\n",
       "      <td>909.000000</td>\n",
       "      <td>909.000000</td>\n",
       "      <td>909.000000</td>\n",
       "      <td>909.000000</td>\n",
       "    </tr>\n",
       "    <tr>\n",
       "      <th>mean</th>\n",
       "      <td>4866.386139</td>\n",
       "      <td>1.568981e+07</td>\n",
       "      <td>648.451045</td>\n",
       "      <td>38.647965</td>\n",
       "      <td>NaN</td>\n",
       "      <td>76117.341474</td>\n",
       "      <td>1.530253</td>\n",
       "      <td>0.710671</td>\n",
       "      <td>0.510451</td>\n",
       "      <td>99180.389373</td>\n",
       "      <td>0.201320</td>\n",
       "    </tr>\n",
       "    <tr>\n",
       "      <th>std</th>\n",
       "      <td>2909.604343</td>\n",
       "      <td>7.511225e+04</td>\n",
       "      <td>99.079381</td>\n",
       "      <td>9.785438</td>\n",
       "      <td>NaN</td>\n",
       "      <td>63105.690715</td>\n",
       "      <td>0.588452</td>\n",
       "      <td>0.453701</td>\n",
       "      <td>0.500166</td>\n",
       "      <td>56378.063765</td>\n",
       "      <td>0.401207</td>\n",
       "    </tr>\n",
       "    <tr>\n",
       "      <th>min</th>\n",
       "      <td>31.000000</td>\n",
       "      <td>1.556581e+07</td>\n",
       "      <td>359.000000</td>\n",
       "      <td>18.000000</td>\n",
       "      <td>NaN</td>\n",
       "      <td>0.000000</td>\n",
       "      <td>1.000000</td>\n",
       "      <td>0.000000</td>\n",
       "      <td>0.000000</td>\n",
       "      <td>106.670000</td>\n",
       "      <td>0.000000</td>\n",
       "    </tr>\n",
       "    <tr>\n",
       "      <th>25%</th>\n",
       "      <td>2311.000000</td>\n",
       "      <td>1.562658e+07</td>\n",
       "      <td>580.000000</td>\n",
       "      <td>32.000000</td>\n",
       "      <td>NaN</td>\n",
       "      <td>0.000000</td>\n",
       "      <td>1.000000</td>\n",
       "      <td>0.000000</td>\n",
       "      <td>0.000000</td>\n",
       "      <td>49872.330000</td>\n",
       "      <td>0.000000</td>\n",
       "    </tr>\n",
       "    <tr>\n",
       "      <th>50%</th>\n",
       "      <td>4887.000000</td>\n",
       "      <td>1.568687e+07</td>\n",
       "      <td>647.000000</td>\n",
       "      <td>37.000000</td>\n",
       "      <td>NaN</td>\n",
       "      <td>96674.550000</td>\n",
       "      <td>1.000000</td>\n",
       "      <td>1.000000</td>\n",
       "      <td>1.000000</td>\n",
       "      <td>99444.020000</td>\n",
       "      <td>0.000000</td>\n",
       "    </tr>\n",
       "    <tr>\n",
       "      <th>75%</th>\n",
       "      <td>7306.000000</td>\n",
       "      <td>1.575680e+07</td>\n",
       "      <td>718.000000</td>\n",
       "      <td>43.000000</td>\n",
       "      <td>NaN</td>\n",
       "      <td>128554.980000</td>\n",
       "      <td>2.000000</td>\n",
       "      <td>1.000000</td>\n",
       "      <td>1.000000</td>\n",
       "      <td>145759.700000</td>\n",
       "      <td>0.000000</td>\n",
       "    </tr>\n",
       "    <tr>\n",
       "      <th>max</th>\n",
       "      <td>10000.000000</td>\n",
       "      <td>1.581569e+07</td>\n",
       "      <td>850.000000</td>\n",
       "      <td>92.000000</td>\n",
       "      <td>NaN</td>\n",
       "      <td>206663.750000</td>\n",
       "      <td>4.000000</td>\n",
       "      <td>1.000000</td>\n",
       "      <td>1.000000</td>\n",
       "      <td>199390.450000</td>\n",
       "      <td>1.000000</td>\n",
       "    </tr>\n",
       "  </tbody>\n",
       "</table>\n",
       "</div>"
      ],
      "text/plain": [
       "          RowNumber    CustomerId  CreditScore         Age  Tenure  \\\n",
       "count    909.000000  9.090000e+02   909.000000  909.000000     0.0   \n",
       "mean    4866.386139  1.568981e+07   648.451045   38.647965     NaN   \n",
       "std     2909.604343  7.511225e+04    99.079381    9.785438     NaN   \n",
       "min       31.000000  1.556581e+07   359.000000   18.000000     NaN   \n",
       "25%     2311.000000  1.562658e+07   580.000000   32.000000     NaN   \n",
       "50%     4887.000000  1.568687e+07   647.000000   37.000000     NaN   \n",
       "75%     7306.000000  1.575680e+07   718.000000   43.000000     NaN   \n",
       "max    10000.000000  1.581569e+07   850.000000   92.000000     NaN   \n",
       "\n",
       "             Balance  NumOfProducts   HasCrCard  IsActiveMember  \\\n",
       "count     909.000000     909.000000  909.000000      909.000000   \n",
       "mean    76117.341474       1.530253    0.710671        0.510451   \n",
       "std     63105.690715       0.588452    0.453701        0.500166   \n",
       "min         0.000000       1.000000    0.000000        0.000000   \n",
       "25%         0.000000       1.000000    0.000000        0.000000   \n",
       "50%     96674.550000       1.000000    1.000000        1.000000   \n",
       "75%    128554.980000       2.000000    1.000000        1.000000   \n",
       "max    206663.750000       4.000000    1.000000        1.000000   \n",
       "\n",
       "       EstimatedSalary      Exited  \n",
       "count       909.000000  909.000000  \n",
       "mean      99180.389373    0.201320  \n",
       "std       56378.063765    0.401207  \n",
       "min         106.670000    0.000000  \n",
       "25%       49872.330000    0.000000  \n",
       "50%       99444.020000    0.000000  \n",
       "75%      145759.700000    0.000000  \n",
       "max      199390.450000    1.000000  "
      ]
     },
     "metadata": {},
     "output_type": "display_data"
    },
    {
     "data": {
      "text/html": [
       "<div>\n",
       "<style scoped>\n",
       "    .dataframe tbody tr th:only-of-type {\n",
       "        vertical-align: middle;\n",
       "    }\n",
       "\n",
       "    .dataframe tbody tr th {\n",
       "        vertical-align: top;\n",
       "    }\n",
       "\n",
       "    .dataframe thead th {\n",
       "        text-align: right;\n",
       "    }\n",
       "</style>\n",
       "<table border=\"1\" class=\"dataframe\">\n",
       "  <thead>\n",
       "    <tr style=\"text-align: right;\">\n",
       "      <th></th>\n",
       "      <th>RowNumber</th>\n",
       "      <th>CustomerId</th>\n",
       "      <th>CreditScore</th>\n",
       "      <th>Age</th>\n",
       "      <th>Tenure</th>\n",
       "      <th>Balance</th>\n",
       "      <th>NumOfProducts</th>\n",
       "      <th>HasCrCard</th>\n",
       "      <th>IsActiveMember</th>\n",
       "      <th>EstimatedSalary</th>\n",
       "      <th>Exited</th>\n",
       "    </tr>\n",
       "  </thead>\n",
       "  <tbody>\n",
       "    <tr>\n",
       "      <th>count</th>\n",
       "      <td>382.000000</td>\n",
       "      <td>3.820000e+02</td>\n",
       "      <td>382.000000</td>\n",
       "      <td>382.000000</td>\n",
       "      <td>382.0</td>\n",
       "      <td>382.000000</td>\n",
       "      <td>382.000000</td>\n",
       "      <td>382.000000</td>\n",
       "      <td>382.000000</td>\n",
       "      <td>382.000000</td>\n",
       "      <td>382.000000</td>\n",
       "    </tr>\n",
       "    <tr>\n",
       "      <th>mean</th>\n",
       "      <td>5089.172775</td>\n",
       "      <td>1.569618e+07</td>\n",
       "      <td>651.913613</td>\n",
       "      <td>39.306283</td>\n",
       "      <td>0.0</td>\n",
       "      <td>80135.307277</td>\n",
       "      <td>1.437173</td>\n",
       "      <td>0.651832</td>\n",
       "      <td>0.531414</td>\n",
       "      <td>99565.395157</td>\n",
       "      <td>0.235602</td>\n",
       "    </tr>\n",
       "    <tr>\n",
       "      <th>std</th>\n",
       "      <td>2821.087244</td>\n",
       "      <td>7.187497e+04</td>\n",
       "      <td>95.741781</td>\n",
       "      <td>10.418181</td>\n",
       "      <td>0.0</td>\n",
       "      <td>62233.212461</td>\n",
       "      <td>0.522442</td>\n",
       "      <td>0.477014</td>\n",
       "      <td>0.499667</td>\n",
       "      <td>57360.554103</td>\n",
       "      <td>0.424931</td>\n",
       "    </tr>\n",
       "    <tr>\n",
       "      <th>min</th>\n",
       "      <td>30.000000</td>\n",
       "      <td>1.556647e+07</td>\n",
       "      <td>350.000000</td>\n",
       "      <td>19.000000</td>\n",
       "      <td>0.0</td>\n",
       "      <td>0.000000</td>\n",
       "      <td>1.000000</td>\n",
       "      <td>0.000000</td>\n",
       "      <td>0.000000</td>\n",
       "      <td>332.810000</td>\n",
       "      <td>0.000000</td>\n",
       "    </tr>\n",
       "    <tr>\n",
       "      <th>25%</th>\n",
       "      <td>2626.750000</td>\n",
       "      <td>1.563546e+07</td>\n",
       "      <td>592.250000</td>\n",
       "      <td>32.000000</td>\n",
       "      <td>0.0</td>\n",
       "      <td>0.000000</td>\n",
       "      <td>1.000000</td>\n",
       "      <td>0.000000</td>\n",
       "      <td>0.000000</td>\n",
       "      <td>47574.687500</td>\n",
       "      <td>0.000000</td>\n",
       "    </tr>\n",
       "    <tr>\n",
       "      <th>50%</th>\n",
       "      <td>5107.500000</td>\n",
       "      <td>1.569641e+07</td>\n",
       "      <td>653.000000</td>\n",
       "      <td>38.000000</td>\n",
       "      <td>0.0</td>\n",
       "      <td>101050.445000</td>\n",
       "      <td>1.000000</td>\n",
       "      <td>1.000000</td>\n",
       "      <td>1.000000</td>\n",
       "      <td>102160.510000</td>\n",
       "      <td>0.000000</td>\n",
       "    </tr>\n",
       "    <tr>\n",
       "      <th>75%</th>\n",
       "      <td>7503.500000</td>\n",
       "      <td>1.575880e+07</td>\n",
       "      <td>714.750000</td>\n",
       "      <td>44.750000</td>\n",
       "      <td>0.0</td>\n",
       "      <td>129638.762500</td>\n",
       "      <td>2.000000</td>\n",
       "      <td>1.000000</td>\n",
       "      <td>1.000000</td>\n",
       "      <td>149577.825000</td>\n",
       "      <td>0.000000</td>\n",
       "    </tr>\n",
       "    <tr>\n",
       "      <th>max</th>\n",
       "      <td>9920.000000</td>\n",
       "      <td>1.581553e+07</td>\n",
       "      <td>850.000000</td>\n",
       "      <td>79.000000</td>\n",
       "      <td>0.0</td>\n",
       "      <td>197041.800000</td>\n",
       "      <td>3.000000</td>\n",
       "      <td>1.000000</td>\n",
       "      <td>1.000000</td>\n",
       "      <td>199478.050000</td>\n",
       "      <td>1.000000</td>\n",
       "    </tr>\n",
       "  </tbody>\n",
       "</table>\n",
       "</div>"
      ],
      "text/plain": [
       "         RowNumber    CustomerId  CreditScore         Age  Tenure  \\\n",
       "count   382.000000  3.820000e+02   382.000000  382.000000   382.0   \n",
       "mean   5089.172775  1.569618e+07   651.913613   39.306283     0.0   \n",
       "std    2821.087244  7.187497e+04    95.741781   10.418181     0.0   \n",
       "min      30.000000  1.556647e+07   350.000000   19.000000     0.0   \n",
       "25%    2626.750000  1.563546e+07   592.250000   32.000000     0.0   \n",
       "50%    5107.500000  1.569641e+07   653.000000   38.000000     0.0   \n",
       "75%    7503.500000  1.575880e+07   714.750000   44.750000     0.0   \n",
       "max    9920.000000  1.581553e+07   850.000000   79.000000     0.0   \n",
       "\n",
       "             Balance  NumOfProducts   HasCrCard  IsActiveMember  \\\n",
       "count     382.000000     382.000000  382.000000      382.000000   \n",
       "mean    80135.307277       1.437173    0.651832        0.531414   \n",
       "std     62233.212461       0.522442    0.477014        0.499667   \n",
       "min         0.000000       1.000000    0.000000        0.000000   \n",
       "25%         0.000000       1.000000    0.000000        0.000000   \n",
       "50%    101050.445000       1.000000    1.000000        1.000000   \n",
       "75%    129638.762500       2.000000    1.000000        1.000000   \n",
       "max    197041.800000       3.000000    1.000000        1.000000   \n",
       "\n",
       "       EstimatedSalary      Exited  \n",
       "count       382.000000  382.000000  \n",
       "mean      99565.395157    0.235602  \n",
       "std       57360.554103    0.424931  \n",
       "min         332.810000    0.000000  \n",
       "25%       47574.687500    0.000000  \n",
       "50%      102160.510000    0.000000  \n",
       "75%      149577.825000    0.000000  \n",
       "max      199478.050000    1.000000  "
      ]
     },
     "metadata": {},
     "output_type": "display_data"
    }
   ],
   "source": [
    "print(data['Tenure'].value_counts())\n",
    "display(data.query('Tenure != Tenure').describe())\n",
    "display(data.query('Tenure == 0').describe())"
   ]
  },
  {
   "cell_type": "markdown",
   "metadata": {},
   "source": [
    "Удалим лишние столбцы. "
   ]
  },
  {
   "cell_type": "code",
   "execution_count": 6,
   "metadata": {},
   "outputs": [],
   "source": [
    "data = data.drop(['RowNumber', 'CustomerId', 'Surname'], axis=1)"
   ]
  },
  {
   "cell_type": "markdown",
   "metadata": {},
   "source": [
    "Пропуски в столбце Tenure (9%) вероятно не могут обозначать Tenure = 0 и распределены случайно."
   ]
  },
  {
   "cell_type": "code",
   "execution_count": 7,
   "metadata": {},
   "outputs": [
    {
     "data": {
      "image/png": "[encoded data removed]",
      "text/plain": [
       "<Figure size 72x432 with 2 Axes>"
      ]
     },
     "metadata": {
      "needs_background": "light"
     },
     "output_type": "display_data"
    }
   ],
   "source": [
    "fig, ax = plt.subplots(figsize=(1,6))\n",
    "sns.heatmap(data.corr()[['Tenure']].sort_values(by='Tenure', ascending=False), \n",
    "            annot = True, vmin=-1, vmax=1, center= 0, cmap= 'coolwarm', fmt='.2g');"
   ]
  },
  {
   "cell_type": "markdown",
   "metadata": {},
   "source": [
    "Явной связи нет - заменим медианой."
   ]
  },
  {
   "cell_type": "code",
   "execution_count": 8,
   "metadata": {},
   "outputs": [],
   "source": [
    "data = data.fillna(data['Tenure'].median())"
   ]
  },
  {
   "cell_type": "markdown",
   "metadata": {},
   "source": [
    "Переведем категориальные признаки Geography и Gender в численные."
   ]
  },
  {
   "cell_type": "code",
   "execution_count": 9,
   "metadata": {
    "scrolled": false
   },
   "outputs": [
    {
     "data": {
      "text/html": [
       "<div>\n",
       "<style scoped>\n",
       "    .dataframe tbody tr th:only-of-type {\n",
       "        vertical-align: middle;\n",
       "    }\n",
       "\n",
       "    .dataframe tbody tr th {\n",
       "        vertical-align: top;\n",
       "    }\n",
       "\n",
       "    .dataframe thead th {\n",
       "        text-align: right;\n",
       "    }\n",
       "</style>\n",
       "<table border=\"1\" class=\"dataframe\">\n",
       "  <thead>\n",
       "    <tr style=\"text-align: right;\">\n",
       "      <th></th>\n",
       "      <th>CreditScore</th>\n",
       "      <th>Age</th>\n",
       "      <th>Tenure</th>\n",
       "      <th>Balance</th>\n",
       "      <th>NumOfProducts</th>\n",
       "      <th>HasCrCard</th>\n",
       "      <th>IsActiveMember</th>\n",
       "      <th>EstimatedSalary</th>\n",
       "      <th>Exited</th>\n",
       "      <th>Geography_Germany</th>\n",
       "      <th>Geography_Spain</th>\n",
       "      <th>Gender_Male</th>\n",
       "    </tr>\n",
       "  </thead>\n",
       "  <tbody>\n",
       "    <tr>\n",
       "      <th>0</th>\n",
       "      <td>619</td>\n",
       "      <td>42</td>\n",
       "      <td>2.0</td>\n",
       "      <td>0.00</td>\n",
       "      <td>1</td>\n",
       "      <td>1</td>\n",
       "      <td>1</td>\n",
       "      <td>101348.88</td>\n",
       "      <td>1</td>\n",
       "      <td>0</td>\n",
       "      <td>0</td>\n",
       "      <td>0</td>\n",
       "    </tr>\n",
       "    <tr>\n",
       "      <th>1</th>\n",
       "      <td>608</td>\n",
       "      <td>41</td>\n",
       "      <td>1.0</td>\n",
       "      <td>83807.86</td>\n",
       "      <td>1</td>\n",
       "      <td>0</td>\n",
       "      <td>1</td>\n",
       "      <td>112542.58</td>\n",
       "      <td>0</td>\n",
       "      <td>0</td>\n",
       "      <td>1</td>\n",
       "      <td>0</td>\n",
       "    </tr>\n",
       "    <tr>\n",
       "      <th>2</th>\n",
       "      <td>502</td>\n",
       "      <td>42</td>\n",
       "      <td>8.0</td>\n",
       "      <td>159660.80</td>\n",
       "      <td>3</td>\n",
       "      <td>1</td>\n",
       "      <td>0</td>\n",
       "      <td>113931.57</td>\n",
       "      <td>1</td>\n",
       "      <td>0</td>\n",
       "      <td>0</td>\n",
       "      <td>0</td>\n",
       "    </tr>\n",
       "  </tbody>\n",
       "</table>\n",
       "</div>"
      ],
      "text/plain": [
       "   CreditScore  Age  Tenure    Balance  NumOfProducts  HasCrCard  \\\n",
       "0          619   42     2.0       0.00              1          1   \n",
       "1          608   41     1.0   83807.86              1          0   \n",
       "2          502   42     8.0  159660.80              3          1   \n",
       "\n",
       "   IsActiveMember  EstimatedSalary  Exited  Geography_Germany  \\\n",
       "0               1        101348.88       1                  0   \n",
       "1               1        112542.58       0                  0   \n",
       "2               0        113931.57       1                  0   \n",
       "\n",
       "   Geography_Spain  Gender_Male  \n",
       "0                0            0  \n",
       "1                1            0  \n",
       "2                0            0  "
      ]
     },
     "metadata": {},
     "output_type": "display_data"
    }
   ],
   "source": [
    "data = pd.get_dummies(data, drop_first=True)\n",
    "display(data.head(3))"
   ]
  },
  {
   "cell_type": "markdown",
   "metadata": {},
   "source": [
    "Проверим на мультиколлинеарность."
   ]
  },
  {
   "cell_type": "code",
   "execution_count": 10,
   "metadata": {
    "scrolled": false
   },
   "outputs": [
    {
     "data": {
      "image/png": "[encoded data removed]",
      "text/plain": [
       "<Figure size 1152x432 with 2 Axes>"
      ]
     },
     "metadata": {
      "needs_background": "light"
     },
     "output_type": "display_data"
    }
   ],
   "source": [
    "fig, ax = plt.subplots(figsize=(16,6))\n",
    "sns.heatmap(data.corr(), annot = True, vmin=-1, vmax=1, center= 0, cmap= 'coolwarm', fmt='.2g');"
   ]
  },
  {
   "cell_type": "markdown",
   "metadata": {},
   "source": [
    "Откровенно зависимых признаков нет.\n",
    "\n",
    "Разобъем данные на тренировочную, валидационную и тестовую выборки в соотношении 60/20/20."
   ]
  },
  {
   "cell_type": "code",
   "execution_count": 11,
   "metadata": {},
   "outputs": [],
   "source": [
    "data_train, data_testvalid = train_test_split(\n",
    "    data, test_size=0.4, random_state=123, stratify=data['Exited'])\n",
    "\n",
    "data_test, data_valid = train_test_split(\n",
    "    data_testvalid, test_size=0.5, random_state=12345, stratify=data_testvalid['Exited'])\n",
    "\n",
    "features_train = data_train.drop(['Exited'], axis=1)\n",
    "target_train = data_train['Exited']\n",
    "\n",
    "features_valid = data_valid.drop(['Exited'], axis=1)\n",
    "target_valid = data_valid['Exited']\n",
    "\n",
    "features_test = data_test.drop(['Exited'], axis=1)\n",
    "target_test = data_test['Exited']"
   ]
  },
  {
   "cell_type": "markdown",
   "metadata": {},
   "source": [
    "Масштабируем признаки (стандартизируем)."
   ]
  },
  {
   "cell_type": "code",
   "execution_count": 12,
   "metadata": {},
   "outputs": [],
   "source": [
    "scaler = StandardScaler()\n",
    "numeric = list(features_train.columns)\n",
    "scaler.fit(features_train[numeric])\n",
    "\n",
    "features_train[numeric] = scaler.transform(features_train[numeric])\n",
    "features_valid[numeric] = scaler.transform(features_valid[numeric])\n",
    "features_test[numeric] = scaler.transform(features_test[numeric])"
   ]
  },
  {
   "cell_type": "code",
   "execution_count": 13,
   "metadata": {},
   "outputs": [
    {
     "data": {
      "text/html": [
       "<div>\n",
       "<style scoped>\n",
       "    .dataframe tbody tr th:only-of-type {\n",
       "        vertical-align: middle;\n",
       "    }\n",
       "\n",
       "    .dataframe tbody tr th {\n",
       "        vertical-align: top;\n",
       "    }\n",
       "\n",
       "    .dataframe thead th {\n",
       "        text-align: right;\n",
       "    }\n",
       "</style>\n",
       "<table border=\"1\" class=\"dataframe\">\n",
       "  <thead>\n",
       "    <tr style=\"text-align: right;\">\n",
       "      <th></th>\n",
       "      <th>CreditScore</th>\n",
       "      <th>Age</th>\n",
       "      <th>Tenure</th>\n",
       "      <th>Balance</th>\n",
       "      <th>NumOfProducts</th>\n",
       "      <th>HasCrCard</th>\n",
       "      <th>IsActiveMember</th>\n",
       "      <th>EstimatedSalary</th>\n",
       "      <th>Geography_Germany</th>\n",
       "      <th>Geography_Spain</th>\n",
       "      <th>Gender_Male</th>\n",
       "    </tr>\n",
       "  </thead>\n",
       "  <tbody>\n",
       "    <tr>\n",
       "      <th>6255</th>\n",
       "      <td>-1.081763</td>\n",
       "      <td>1.561078</td>\n",
       "      <td>0.005267</td>\n",
       "      <td>0.567612</td>\n",
       "      <td>2.552230</td>\n",
       "      <td>0.654913</td>\n",
       "      <td>-1.020885</td>\n",
       "      <td>-1.444757</td>\n",
       "      <td>1.740560</td>\n",
       "      <td>-0.574271</td>\n",
       "      <td>0.904839</td>\n",
       "    </tr>\n",
       "    <tr>\n",
       "      <th>7141</th>\n",
       "      <td>1.083241</td>\n",
       "      <td>-0.091611</td>\n",
       "      <td>-1.447571</td>\n",
       "      <td>0.097622</td>\n",
       "      <td>-0.926107</td>\n",
       "      <td>-1.526919</td>\n",
       "      <td>0.979543</td>\n",
       "      <td>-1.559126</td>\n",
       "      <td>1.740560</td>\n",
       "      <td>-0.574271</td>\n",
       "      <td>-1.105169</td>\n",
       "    </tr>\n",
       "    <tr>\n",
       "      <th>3824</th>\n",
       "      <td>0.167278</td>\n",
       "      <td>0.491691</td>\n",
       "      <td>0.005267</td>\n",
       "      <td>0.751314</td>\n",
       "      <td>-0.926107</td>\n",
       "      <td>-1.526919</td>\n",
       "      <td>-1.020885</td>\n",
       "      <td>-1.476028</td>\n",
       "      <td>-0.574528</td>\n",
       "      <td>-0.574271</td>\n",
       "      <td>0.904839</td>\n",
       "    </tr>\n",
       "  </tbody>\n",
       "</table>\n",
       "</div>"
      ],
      "text/plain": [
       "      CreditScore       Age    Tenure   Balance  NumOfProducts  HasCrCard  \\\n",
       "6255    -1.081763  1.561078  0.005267  0.567612       2.552230   0.654913   \n",
       "7141     1.083241 -0.091611 -1.447571  0.097622      -0.926107  -1.526919   \n",
       "3824     0.167278  0.491691  0.005267  0.751314      -0.926107  -1.526919   \n",
       "\n",
       "      IsActiveMember  EstimatedSalary  Geography_Germany  Geography_Spain  \\\n",
       "6255       -1.020885        -1.444757           1.740560        -0.574271   \n",
       "7141        0.979543        -1.559126           1.740560        -0.574271   \n",
       "3824       -1.020885        -1.476028          -0.574528        -0.574271   \n",
       "\n",
       "      Gender_Male  \n",
       "6255     0.904839  \n",
       "7141    -1.105169  \n",
       "3824     0.904839  "
      ]
     },
     "metadata": {},
     "output_type": "display_data"
    }
   ],
   "source": [
    "display(features_train.head(3))"
   ]
  },
  {
   "cell_type": "markdown",
   "metadata": {},
   "source": [
    "<a name=\"3\"></a>\n",
    "## Модели без устранения дисбаланса"
   ]
  },
  {
   "cell_type": "markdown",
   "metadata": {},
   "source": [
    "Исследуем баланс классов."
   ]
  },
  {
   "cell_type": "code",
   "execution_count": 14,
   "metadata": {
    "scrolled": true
   },
   "outputs": [
    {
     "name": "stdout",
     "output_type": "stream",
     "text": [
      "0    0.7963\n",
      "1    0.2037\n",
      "Name: Exited, dtype: float64\n"
     ]
    }
   ],
   "source": [
    "print(data['Exited'].value_counts(normalize=True))"
   ]
  },
  {
   "cell_type": "code",
   "execution_count": 15,
   "metadata": {},
   "outputs": [
    {
     "data": {
      "text/plain": [
       "0    0.796333\n",
       "1    0.203667\n",
       "Name: Exited, dtype: float64"
      ]
     },
     "execution_count": 15,
     "metadata": {},
     "output_type": "execute_result"
    }
   ],
   "source": [
    "target_train.value_counts(normalize=True)"
   ]
  },
  {
   "cell_type": "code",
   "execution_count": 16,
   "metadata": {},
   "outputs": [
    {
     "data": {
      "text/plain": [
       "0    0.7965\n",
       "1    0.2035\n",
       "Name: Exited, dtype: float64"
      ]
     },
     "execution_count": 16,
     "metadata": {},
     "output_type": "execute_result"
    }
   ],
   "source": [
    "target_valid.value_counts(normalize=True)"
   ]
  },
  {
   "cell_type": "code",
   "execution_count": 17,
   "metadata": {
    "scrolled": true
   },
   "outputs": [
    {
     "data": {
      "text/plain": [
       "0    0.796\n",
       "1    0.204\n",
       "Name: Exited, dtype: float64"
      ]
     },
     "execution_count": 17,
     "metadata": {},
     "output_type": "execute_result"
    }
   ],
   "source": [
    "target_test.value_counts(normalize=True)"
   ]
  },
  {
   "cell_type": "markdown",
   "metadata": {},
   "source": [
    "Значения целевого признака везде распределены в соотношении 80/20."
   ]
  },
  {
   "cell_type": "markdown",
   "metadata": {},
   "source": [
    "<a name=\"31\"></a>\n",
    "### Решающее дерево (несбалансированные классы)"
   ]
  },
  {
   "cell_type": "code",
   "execution_count": 18,
   "metadata": {},
   "outputs": [
    {
     "name": "stdout",
     "output_type": "stream",
     "text": [
      "accuracy-> 0.8505 модель: решающее дерево глубиной 5\n",
      "f1-------> 0.5710 модель: решающее дерево глубиной 5\n",
      "auc_roc--> 0.8314 модель: решающее дерево глубиной 5\n"
     ]
    }
   ],
   "source": [
    "best_acc_model = None\n",
    "best_acc = 0\n",
    "best_acc_depth = 0\n",
    "best_f1_model = None\n",
    "best_f1 = 0\n",
    "best_f1_depth = 0\n",
    "best_auc_roc_model = None\n",
    "best_auc_roc = 0\n",
    "best_auc_roc_depth = 0\n",
    "\n",
    "\n",
    "\n",
    "for depth in range(2, 25): \n",
    "    \n",
    "    model = DecisionTreeClassifier(random_state=123, max_depth=depth) #, class_weight='balanced' будет ниже\n",
    "    model.fit(features_train, target_train)\n",
    "\n",
    "    predicted_valid = model.predict(features_valid)\n",
    "    \n",
    "    acc = accuracy_score(target_valid, predicted_valid)\n",
    "    f1 = f1_score(target_valid, predicted_valid)\n",
    "    \n",
    "    probabilities_valid = model.predict_proba(features_valid) # вероятности классов\n",
    "    probabilities_1_valid = probabilities_valid[:, 1] # вероятность класса 1\n",
    "    auc_roc = roc_auc_score(target_valid, probabilities_1_valid)\n",
    "    \n",
    "    if acc > best_acc: \n",
    "        best_acc_model = model\n",
    "        best_acc = acc\n",
    "        best_acc_depth = depth\n",
    "\n",
    "    if f1 > best_f1:\n",
    "        best_f1_model = model\n",
    "        best_f1 = f1\n",
    "        best_f1_depth = depth        \n",
    "        \n",
    "    if auc_roc > best_auc_roc:\n",
    "        best_auc_roc_model = model\n",
    "        best_auc_roc = auc_roc\n",
    "        best_auc_roc_depth = depth\n",
    "        \n",
    "print('accuracy-> {:.4f}'.format(best_acc), 'модель: решающее дерево глубиной', best_acc_depth)\n",
    "print('f1-------> {:.4f}'.format(best_f1), 'модель: решающее дерево глубиной', best_f1_depth)\n",
    "print('auc_roc--> {:.4f}'.format(best_auc_roc), 'модель: решающее дерево глубиной', best_auc_roc_depth)"
   ]
  },
  {
   "cell_type": "code",
   "execution_count": 19,
   "metadata": {},
   "outputs": [
    {
     "name": "stdout",
     "output_type": "stream",
     "text": [
      "[[1502   91]\n",
      " [ 208  199]]\n"
     ]
    }
   ],
   "source": [
    "print(confusion_matrix(target_valid, best_acc_model.predict(features_valid)))"
   ]
  },
  {
   "cell_type": "markdown",
   "metadata": {},
   "source": [
    "Модель плохо распознает меньший класс (ошибок и правильных ответов 50/50). "
   ]
  },
  {
   "cell_type": "markdown",
   "metadata": {},
   "source": [
    "<a name=\"4\"></a>\n",
    "## Борьба с дисбалансом"
   ]
  },
  {
   "cell_type": "markdown",
   "metadata": {},
   "source": [
    "Посмотрим как поменяется качество модели после устранения дисбаланса классов."
   ]
  },
  {
   "cell_type": "markdown",
   "metadata": {},
   "source": [
    "<a name=\"41\"></a>\n",
    "### Решающее дерево (class_weight='balanced')"
   ]
  },
  {
   "cell_type": "code",
   "execution_count": 20,
   "metadata": {
    "scrolled": false
   },
   "outputs": [
    {
     "name": "stdout",
     "output_type": "stream",
     "text": [
      "accuracy-> 0.7955 модель: решающее дерево (balanced) глубиной 23\n",
      "f1-------> 0.5685 модель: решающее дерево (balanced) глубиной 6\n",
      "auc_roc--> 0.8393 модель: решающее дерево (balanced) глубиной 5\n"
     ]
    }
   ],
   "source": [
    "best_acc_model = None\n",
    "best_acc = 0\n",
    "best_acc_depth = 0\n",
    "best_f1_model = None\n",
    "best_f1 = 0\n",
    "best_f1_depth = 0\n",
    "best_auc_roc_model = None\n",
    "best_auc_roc = 0\n",
    "best_auc_roc_depth = 0\n",
    "\n",
    "for depth in range(2, 25): \n",
    "    \n",
    "    model = DecisionTreeClassifier(random_state=123, max_depth=depth, class_weight='balanced')\n",
    "    model.fit(features_train, target_train)\n",
    "\n",
    "    predicted_valid = model.predict(features_valid)\n",
    "    \n",
    "    acc = accuracy_score(target_valid, predicted_valid)\n",
    "    \n",
    "    f1 = f1_score(target_valid, predicted_valid)\n",
    "    \n",
    "    probabilities_valid = model.predict_proba(features_valid) # вероятности классов\n",
    "    probabilities_1_valid = probabilities_valid[:, 1] # вероятность класса 1\n",
    "    auc_roc = roc_auc_score(target_valid, probabilities_1_valid)\n",
    "    \n",
    "    if acc > best_acc: \n",
    "        best_acc_model = model\n",
    "        best_acc = acc\n",
    "        best_acc_depth = depth\n",
    "\n",
    "    if f1 > best_f1:\n",
    "        best_f1_model = model\n",
    "        best_f1 = f1\n",
    "        best_f1_depth = depth\n",
    "    \n",
    "    if auc_roc > best_auc_roc:\n",
    "        best_auc_roc_model = model\n",
    "        best_auc_roc = auc_roc\n",
    "        best_auc_roc_depth = depth\n",
    "        \n",
    "print('accuracy-> {:.4f}'.format(best_acc), 'модель: решающее дерево (balanced) глубиной', best_acc_depth)\n",
    "print('f1-------> {:.4f}'.format(best_f1), 'модель: решающее дерево (balanced) глубиной', best_f1_depth)\n",
    "print('auc_roc--> {:.4f}'.format(best_auc_roc), 'модель: решающее дерево (balanced) глубиной', best_auc_roc_depth)"
   ]
  },
  {
   "cell_type": "markdown",
   "metadata": {},
   "source": [
    "<a name=\"42\"></a>\n",
    "### Случайный лес (class_weight='balanced')"
   ]
  },
  {
   "cell_type": "code",
   "execution_count": 21,
   "metadata": {},
   "outputs": [
    {
     "name": "stdout",
     "output_type": "stream",
     "text": [
      "f1-------> 0.6169 модель: случайный лес (balanced) 17 деревьев глубиной 9\n",
      "auc_roc--> 0.8575 модель: случайный лес (balanced) 19 деревьев глубиной 7\n"
     ]
    }
   ],
   "source": [
    "best_model = None\n",
    "best_result = 0\n",
    "best_est = 0\n",
    "best_depth = 0\n",
    "best_auc_roc_model = None\n",
    "best_auc_roc = 0\n",
    "best_auc_roc_est = 0\n",
    "best_auc_roc_depth = 0\n",
    "\n",
    "for est in range(1, 20):\n",
    "    for depth in range(1, 20):\n",
    "        model = RandomForestClassifier(random_state=123, n_estimators=est, max_depth=depth, class_weight='balanced')\n",
    "        model.fit(features_train, target_train) \n",
    "        predicted_valid = model.predict(features_valid)\n",
    "        result = f1_score(target_valid, predicted_valid)\n",
    "        probabilities_valid = model.predict_proba(features_valid) # вероятности классов\n",
    "        probabilities_1_valid = probabilities_valid[:, 1] # вероятность класса 1\n",
    "        auc_roc = roc_auc_score(target_valid, probabilities_1_valid)\n",
    "\n",
    "        if result > best_result:\n",
    "            best_RandomForest_model = model\n",
    "            best_est = est\n",
    "            best_result = result\n",
    "            best_depth = depth\n",
    "            \n",
    "        if auc_roc > best_auc_roc:\n",
    "            best_auc_roc_model = model\n",
    "            best_auc_roc_est = est\n",
    "            best_auc_roc = auc_roc\n",
    "            best_auc_roc_depth = depth\n",
    "\n",
    "print('f1-------> {:.4f}'.format(best_result), \n",
    "      'модель: случайный лес (balanced)', best_est, 'деревьев глубиной', best_depth)\n",
    "print('auc_roc--> {:.4f}'.format(best_auc_roc),\n",
    "      'модель: случайный лес (balanced)', best_auc_roc_est, 'деревьев глубиной', best_auc_roc_depth)"
   ]
  },
  {
   "cell_type": "markdown",
   "metadata": {},
   "source": [
    "<a name=\"43\"></a>\n",
    "### Увеличение выборки"
   ]
  },
  {
   "cell_type": "markdown",
   "metadata": {},
   "source": [
    "Увеличим тренировочную выборку за счет дублирования строк со значением целевого признака = 1."
   ]
  },
  {
   "cell_type": "code",
   "execution_count": 22,
   "metadata": {},
   "outputs": [
    {
     "name": "stdout",
     "output_type": "stream",
     "text": [
      "4778 1222 4778 1222\n",
      "\n",
      "1    4888\n",
      "0    4778\n",
      "Name: Exited, dtype: int64\n",
      "\n"
     ]
    }
   ],
   "source": [
    "features_0 = features_train[target_train==0]\n",
    "features_1 = features_train[target_train==1]\n",
    "target_0 = target_train[target_train==0]\n",
    "target_1 = target_train[target_train==1]\n",
    "\n",
    "print(len(features_0), len(features_1), len(target_0), len(target_1))\n",
    "print()\n",
    "\n",
    "features_train_up = pd.concat([features_0] + [features_1] * 4)\n",
    "target_train_up = pd.concat([target_0] + [target_1] * 4) \n",
    "print(target_train_up.value_counts())\n",
    "print()\n",
    "\n",
    "features_train_up, target_train_up = shuffle(features_train_up, target_train_up, random_state=123)"
   ]
  },
  {
   "cell_type": "markdown",
   "metadata": {},
   "source": [
    "<a name=\"44\"></a>\n",
    "### Решающее дерево (с увеличенным минорным классом)"
   ]
  },
  {
   "cell_type": "code",
   "execution_count": 23,
   "metadata": {},
   "outputs": [
    {
     "name": "stdout",
     "output_type": "stream",
     "text": [
      "accuracy-> 0.7945 модель: решающее дерево (с увеличенным минорным классом) глубиной 20\n",
      "f1-------> 0.5672 модель: решающее дерево (с увеличенным минорным классом) глубиной 6\n",
      "auc_roc--> 0.8393 модель: решающее дерево (с увеличенным минорным классом) глубиной 5\n"
     ]
    }
   ],
   "source": [
    "best_acc_model = None\n",
    "best_acc = 0\n",
    "best_acc_depth = 0\n",
    "best_f1_model = None\n",
    "best_f1 = 0\n",
    "best_f1_depth = 0\n",
    "best_auc_roc_model = None\n",
    "best_auc_roc = 0\n",
    "best_auc_roc_depth = 0\n",
    "\n",
    "for depth in range(2, 25): \n",
    "    \n",
    "    model = DecisionTreeClassifier(random_state=123, max_depth=depth) # class_weight='balanced' не улучшает модель\n",
    "    model.fit(features_train_up, target_train_up)\n",
    "\n",
    "    predicted_valid = model.predict(features_valid)\n",
    "    \n",
    "    acc = accuracy_score(target_valid, predicted_valid)\n",
    "    \n",
    "    f1 = f1_score(target_valid, predicted_valid)\n",
    "    \n",
    "    probabilities_valid = model.predict_proba(features_valid) # вероятности классов\n",
    "    probabilities_1_valid = probabilities_valid[:, 1] # вероятность класса 1\n",
    "    auc_roc = roc_auc_score(target_valid, probabilities_1_valid)\n",
    "    \n",
    "    if acc > best_acc: \n",
    "        best_acc_model = model\n",
    "        best_acc = acc\n",
    "        best_acc_depth = depth\n",
    "\n",
    "    if f1 > best_f1:\n",
    "        best_f1_model = model\n",
    "        best_f1 = f1\n",
    "        best_f1_depth = depth\n",
    "        \n",
    "    if auc_roc > best_auc_roc:\n",
    "        best_auc_roc_model = model\n",
    "        best_auc_roc = auc_roc\n",
    "        best_auc_roc_depth = depth\n",
    "        \n",
    "print('accuracy-> {:.4f}'.format(best_acc),\n",
    "      'модель: решающее дерево (с увеличенным минорным классом) глубиной', best_acc_depth)\n",
    "print('f1-------> {:.4f}'.format(best_f1),\n",
    "      'модель: решающее дерево (с увеличенным минорным классом) глубиной', best_f1_depth)\n",
    "print('auc_roc--> {:.4f}'.format(best_auc_roc),\n",
    "      'модель: решающее дерево (с увеличенным минорным классом) глубиной', best_auc_roc_depth)"
   ]
  },
  {
   "cell_type": "markdown",
   "metadata": {},
   "source": [
    "<a name=\"45\"></a>\n",
    "### Случайный лес (с увеличенным минорным классом)"
   ]
  },
  {
   "cell_type": "code",
   "execution_count": 24,
   "metadata": {},
   "outputs": [
    {
     "name": "stdout",
     "output_type": "stream",
     "text": [
      "f1-------> 0.6069 модель: случайный лес (с увеличенным минорным классом) 13 деревьев глубиной 13\n",
      "auc_roc--> 0.8614 модель: случайный лес (с увеличенным минорным классом) 17 деревьев глубиной 8\n"
     ]
    }
   ],
   "source": [
    "best_model = None\n",
    "best_result = 0\n",
    "best_est = 0\n",
    "best_depth = 0\n",
    "best_auc_roc_model = None\n",
    "best_auc_roc = 0\n",
    "best_auc_roc_est = 0\n",
    "best_auc_roc_depth = 0\n",
    "\n",
    "\n",
    "for est in range(1, 20):\n",
    "    for depth in range(1, 20):\n",
    "        model = RandomForestClassifier(random_state=123, n_estimators=est, max_depth=depth) \n",
    "        model.fit(features_train_up, target_train_up) \n",
    "        predicted_valid = model.predict(features_valid)\n",
    "        result = f1_score(target_valid, predicted_valid)\n",
    "        probabilities_valid = model.predict_proba(features_valid) # вероятности классов\n",
    "        probabilities_1_valid = probabilities_valid[:, 1] # вероятность класса 1\n",
    "        auc_roc = roc_auc_score(target_valid, probabilities_1_valid)\n",
    "\n",
    "        if result > best_result:\n",
    "            best_RandomForest_model = model\n",
    "            best_est = est\n",
    "            best_result = result\n",
    "            best_depth = depth\n",
    "            best_model = model\n",
    "\n",
    "        if auc_roc > best_auc_roc:\n",
    "            best_auc_roc_model = model\n",
    "            best_auc_roc_est = est\n",
    "            best_auc_roc = auc_roc\n",
    "            best_auc_roc_depth = depth\n",
    "\n",
    "print('f1-------> {:.4f}'.format(best_result), 'модель: случайный лес (с увеличенным минорным классом)',\n",
    "      best_est, 'деревьев глубиной', best_depth)\n",
    "print('auc_roc--> {:.4f}'.format(best_auc_roc), 'модель: случайный лес (с увеличенным минорным классом)', \n",
    "      best_auc_roc_est, 'деревьев глубиной', best_auc_roc_depth)"
   ]
  },
  {
   "cell_type": "code",
   "execution_count": 25,
   "metadata": {},
   "outputs": [
    {
     "name": "stdout",
     "output_type": "stream",
     "text": [
      "[[1417  176]\n",
      " [ 153  254]]\n"
     ]
    }
   ],
   "source": [
    "print(confusion_matrix(target_valid, best_model.predict(features_valid)))"
   ]
  },
  {
   "cell_type": "markdown",
   "metadata": {},
   "source": [
    "<a name=\"46\"></a>\n",
    "### Логистическая регрессия (с увеличенным минорным классом)"
   ]
  },
  {
   "cell_type": "code",
   "execution_count": 26,
   "metadata": {},
   "outputs": [
    {
     "name": "stdout",
     "output_type": "stream",
     "text": [
      "f1-------> 0.4822 модель: логистическая регрессия (с увеличенным минорным классом)\n"
     ]
    }
   ],
   "source": [
    "model = LogisticRegression(random_state=123, solver='liblinear')\n",
    "model.fit(features_train_up, target_train_up)\n",
    "predicted_valid = model.predict(features_valid)\n",
    "result = f1_score(target_valid, predicted_valid)\n",
    "\n",
    "print('f1-------> {:.4f}'.format(result), 'модель: логистическая регрессия (с увеличенным минорным классом)')"
   ]
  },
  {
   "cell_type": "code",
   "execution_count": 27,
   "metadata": {},
   "outputs": [
    {
     "name": "stdout",
     "output_type": "stream",
     "text": [
      "[[1125  468]\n",
      " [ 129  278]]\n"
     ]
    }
   ],
   "source": [
    "print(confusion_matrix(target_valid, predicted_valid))"
   ]
  },
  {
   "cell_type": "code",
   "execution_count": 28,
   "metadata": {},
   "outputs": [],
   "source": [
    "probabilities_valid = model.predict_proba(features_valid) # вероятности классов\n",
    "probabilities_1_valid = probabilities_valid[:, 1] # вероятность класса 1\n",
    "auc_roc = roc_auc_score(target_valid, probabilities_1_valid)"
   ]
  },
  {
   "cell_type": "code",
   "execution_count": 29,
   "metadata": {
    "scrolled": true
   },
   "outputs": [
    {
     "name": "stdout",
     "output_type": "stream",
     "text": [
      "f1-------> 0.4976 модель: логистическая регрессия (с увеличенным минорным классом) и порогом = 0.5500000000000002\n",
      "auc_roc--> 0.7611 модель: логистическая регрессия (с увеличенным минорным классом)\n"
     ]
    }
   ],
   "source": [
    "best_threshold = 0\n",
    "best_result = 0\n",
    "best_predicted_valid = predicted_valid\n",
    "\n",
    "for threshold in np.arange(0.4, 0.6, 0.01):  # зададим порог\n",
    "    predicted_valid = probabilities_1_valid > threshold # вероятность выше порога ?\n",
    "    result = f1_score(target_valid, predicted_valid)\n",
    "    \n",
    "    if result > best_result: \n",
    "        best_result = result\n",
    "        best_threshold = threshold\n",
    "        best_predicted_valid = predicted_valid\n",
    "\n",
    "print('f1-------> {:.4f}'.format(best_result),\n",
    "      'модель: логистическая регрессия (с увеличенным минорным классом) и порогом =', best_threshold)\n",
    "print('auc_roc--> {:.4f}'.format(auc_roc),\n",
    "      'модель: логистическая регрессия (с увеличенным минорным классом)')"
   ]
  },
  {
   "cell_type": "code",
   "execution_count": 30,
   "metadata": {
    "scrolled": false
   },
   "outputs": [
    {
     "name": "stdout",
     "output_type": "stream",
     "text": [
      "[[1218  375]\n",
      " [ 148  259]]\n"
     ]
    }
   ],
   "source": [
    "print(confusion_matrix(target_valid, best_predicted_valid))"
   ]
  },
  {
   "cell_type": "markdown",
   "metadata": {},
   "source": [
    "<a name=\"47\"></a>\n",
    "### Сравнение моделей"
   ]
  },
  {
   "cell_type": "markdown",
   "metadata": {},
   "source": [
    "Модели показали следующие результаты:\n",
    "\n",
    "accuracy\n",
    "\n",
    "* 0.8505 модель: решающее дерево глубиной 5\n",
    "* 0.7955 модель: решающее дерево (balanced) глубиной 23\n",
    "* 0.7945 модель: решающее дерево (с увеличенным минорным классом) глубиной 20 \n",
    "\n",
    "f1\n",
    "\n",
    "* 0.5710 модель: решающее дерево глубиной 5\n",
    "* 0.5685 модель: решающее дерево (balanced) глубиной 6\n",
    "* 0.6169 модель: случайный лес (balanced) 17 деревьев глубиной 9\n",
    "* 0.5672 модель: решающее дерево (с увеличенным минорным классом) глубиной 6\n",
    "* 0.6069 модель: случайный лес (с увеличенным минорным классом) 13 деревьев глубиной 13\n",
    "* 0.4976 модель: логистическая регрессия (с увеличенным минорным классом) и порогом = 0.55\n",
    "\n",
    "auc_roc\n",
    "\n",
    "* 0.8314 модель: решающее дерево глубиной 5\n",
    "* 0.8393 модель: решающее дерево (balanced) глубиной 5\n",
    "* 0.8575 модель: случайный лес (balanced) 19 деревьев глубиной 7\n",
    "* 0.8393 модель: решающее дерево (с увеличенным минорным классом) глубиной 5\n",
    "* 0.8614 модель: случайный лес (с увеличенным минорным классом) 17 деревьев глубиной 8\n",
    "* 0.7611 модель: логистическая регрессия (с увеличенным минорным классом)"
   ]
  },
  {
   "cell_type": "markdown",
   "metadata": {},
   "source": [
    "Наилучшие показатели f1 у случайного леса (balanced) с параметрами: n_estimators=17, max_depth=9, но при этом наибольшее значение auc_roc у 19 деревьев глубиной 7 - её и возьмем в тест."
   ]
  },
  {
   "cell_type": "markdown",
   "metadata": {},
   "source": [
    "Решающее дерево на несбалансированной выборке \"выдает\" accuracy и f1 выше, auc_roc при этом все-же немного хуже.  "
   ]
  },
  {
   "cell_type": "markdown",
   "metadata": {},
   "source": [
    "<a name=\"5\"></a>\n",
    "## Тестирование модели"
   ]
  },
  {
   "cell_type": "markdown",
   "metadata": {},
   "source": [
    "Проведите финальное тестирование."
   ]
  },
  {
   "cell_type": "code",
   "execution_count": 31,
   "metadata": {},
   "outputs": [
    {
     "name": "stdout",
     "output_type": "stream",
     "text": [
      "Выбранная модель дает следующие значения метрик на тестовой выборке: f1=0.6008 auc_roc=0.8527\n"
     ]
    }
   ],
   "source": [
    "model = RandomForestClassifier(random_state=123, n_estimators=19, max_depth=7) \n",
    "model.fit(features_train_up, target_train_up) \n",
    "predicted_test = model.predict(features_test)\n",
    "f1 = f1_score(target_test, predicted_test)\n",
    "probabilities_test = model.predict_proba(features_test)\n",
    "probabilities_1_test = probabilities_test[:, 1]\n",
    "auc_roc = roc_auc_score(target_test, probabilities_1_test)\n",
    "\n",
    "print('Выбранная модель дает следующие значения метрик на тестовой выборке: f1={:.4f}'.format(f1),\n",
    "      'auc_roc={:.4f}'.format(auc_roc))"
   ]
  },
  {
   "cell_type": "markdown",
   "metadata": {},
   "source": [
    "<a name=\"6\"></a>\n",
    "## Вывод"
   ]
  },
  {
   "cell_type": "markdown",
   "metadata": {},
   "source": [
    "Выбранная модель позволила достичь следующих значения метрик на тестовой выборке:   \n",
    "* f1= 0.6008\n",
    "* auc_roc= 0.8527"
   ]
  },
  {
   "cell_type": "markdown",
   "metadata": {},
   "source": [
    "**Чек-лист готовности проекта**"
   ]
  },
  {
   "cell_type": "markdown",
   "metadata": {},
   "source": [
    "Поставьте 'x' в выполненных пунктах. Далее нажмите Shift+Enter."
   ]
  },
  {
   "cell_type": "markdown",
   "metadata": {},
   "source": [
    "- [x]  Jupyter Notebook открыт\n",
    "- [x]  Весь код выполняется без ошибок\n",
    "- [x]  Ячейки с кодом расположены в порядке исполнения\n",
    "- [x]  Выполнен шаг 1: данные подготовлены\n",
    "- [x]  Выполнен шаг 2: задача исследована\n",
    "    - [x]  Исследован баланс классов\n",
    "    - [x]  Изучены модели без учёта дисбаланса\n",
    "    - [x]  Написаны выводы по результатам исследования\n",
    "- [x]  Выполнен шаг 3: учтён дисбаланс\n",
    "    - [x]  Применено несколько способов борьбы с дисбалансом\n",
    "    - [x]  Написаны выводы по результатам исследования\n",
    "- [x]  Выполнен шаг 4: проведено тестирование\n",
    "- [x]  Удалось достичь *F1*-меры не менее 0.59\n",
    "- [x]  Исследована метрика *AUC-ROC*"
   ]
  }
 ],
 "metadata": {
  "kernelspec": {
   "display_name": "Python 3",
   "language": "python",
   "name": "python3"
  },
  "language_info": {
   "codemirror_mode": {
    "name": "ipython",
    "version": 3
   },
   "file_extension": ".py",
   "mimetype": "text/x-python",
   "name": "python",
   "nbconvert_exporter": "python",
   "pygments_lexer": "ipython3",
   "version": "3.8.5"
  },
  "toc": {
   "base_numbering": 1,
   "nav_menu": {
    "height": "438px",
    "width": "381px"
   },
   "number_sections": true,
   "sideBar": true,
   "skip_h1_title": true,
   "title_cell": "Table of Contents",
   "title_sidebar": "Contents",
   "toc_cell": false,
   "toc_position": {
    "height": "calc(100% - 180px)",
    "left": "10px",
    "top": "150px",
    "width": "384px"
   },
   "toc_section_display": true,
   "toc_window_display": true
  }
 },
 "nbformat": 4,
 "nbformat_minor": 2
}
