{
 "cells": [
  {
   "cell_type": "markdown",
   "metadata": {},
   "source": [
    "# КОММЕНТАРИЙ РЕВЬЮВЕРА\n",
    "Привет, Олег👋!)\n",
    "\n",
    "Меня зовут Обидин Андрей, я осуществлял проверку проекта. \n",
    "\n",
    "Благодарю тебя за то, что вовремя всё сдал и хорошо поработал!)\n",
    "\n",
    "`Олег, ты классно выполнил проект, у меня нет к тебе замечаний! Нравятся твои рассуждения и модельки, которые ты получил. Я оставил небольшие дополнения, думаю тебе будет интересно изучить их. Желаю успехов в дальнейшем обучении, так держать!`\n",
    "\n",
    "Далее по ходу работы ты сможешь встретить мои комментарии, они будут отмечены разными цветами:\n",
    "\n",
    "<div class=\"alert alert-block alert-success\">\n",
    "Похвала и возможности развития\n",
    "</div>\n",
    "<div class=\"alert alert-block alert-warning\">\n",
    "Некритичные замечания, но стоит обратить внимание\n",
    "</div>\n",
    "<div class=\"alert alert-block alert-danger\">\n",
    "Грубая ошибка, необходимо исправить\n",
    "</div>\n",
    "\n",
    "\n",
    "Заранее прошу не удалять мои комментарии, это важно. Если у тебя возникнут вопросы, обозначь их, я с радостью тебе помогу!)\n",
    "\n",
    "Как вариант, можешь обозначить их так:\n",
    "<div class=\"alert alert-block alert-info\">\n",
    "<b>КОММЕНТАРИЙ СТУДЕНТА:</b>\n",
    "</div>"
   ]
  },
  {
   "cell_type": "markdown",
   "metadata": {},
   "source": [
    "|  |  |  |\n",
    "| ---: | :--- | :--- |\n",
    "| Курс:| Введение в машинное обучение | 05 |\n",
    "| Срок обучения на момент сдачи: | 2,5 месяца |\n",
    "\n",
    "# Рекомендация тарифов"
   ]
  },
  {
   "cell_type": "markdown",
   "metadata": {},
   "source": [
    "Оператор мобильной связи «Мегалайн» выяснил: многие клиенты пользуются архивными тарифами. Они хотят построить систему, способную проанализировать поведение клиентов и предложить пользователям новый тариф: «Смарт» или «Ультра»."
   ]
  },
  {
   "cell_type": "markdown",
   "metadata": {},
   "source": [
    "В вашем распоряжении данные о поведении клиентов, которые уже перешли на эти тарифы (из проекта курса «Статистический анализ данных»). Нужно построить модель для задачи классификации, которая выберет подходящий тариф. Предобработка данных не понадобится — вы её уже сделали.\n",
    "\n",
    "Постройте модель с максимально большим значением *accuracy*. Чтобы сдать проект успешно, нужно довести долю правильных ответов по крайней мере до 0.75. Проверьте *accuracy* на тестовой выборке самостоятельно."
   ]
  },
  {
   "cell_type": "markdown",
   "metadata": {},
   "source": [
    "## Описание данных\n",
    "Каждый объект в наборе данных — это информация о поведении одного пользователя за месяц. Известно:\n",
    "\n",
    "    сalls — количество звонков,\n",
    "    minutes — суммарная длительность звонков в минутах,\n",
    "    messages — количество sms-сообщений,\n",
    "    mb_used — израсходованный интернет-трафик в Мб,\n",
    "    is_ultra — каким тарифом пользовался в течение месяца («Ультра» — 1, «Смарт» — 0)."
   ]
  },
  {
   "cell_type": "markdown",
   "metadata": {},
   "source": [
    "<a name=\"plan\"></a>\n",
    "## План:  \n",
    "#### 1. [Изучение общей информации. Импорт библиотек, определение проблем.](#s1)  \n",
    "#### 2. [Подготовка данных.](#s2)  \n",
    "#### 3. [Исследование моделей.](#s3)  \n",
    "*  [Решающее дерево.](#s3)  \n",
    "*  [Случайный лес.](#s3_2)  \n",
    "*  [Логистическая регрессия.](#s3_3)  \n",
    "*  [Выбор модели.](#s3_4)  \n",
    "\n",
    "#### 4. [Проверка модели на тестовой выборке.](#s4)    \n",
    "\n",
    "#### 5. [Проверка модели на адекватность.](#s5)  \n",
    "#### 6. [Заключение.](#s6)  "
   ]
  },
  {
   "cell_type": "markdown",
   "metadata": {},
   "source": [
    "<a name=\"s1\"></a>\n",
    "## 1. Изучение общей информации. Импорт библиотек, определение проблем."
   ]
  },
  {
   "cell_type": "code",
   "execution_count": 11,
   "metadata": {},
   "outputs": [],
   "source": [
    "import pandas as pd\n",
    "import numpy as np\n",
    "import matplotlib.pyplot as plt\n",
    "#from scipy import stats as st\n",
    "from IPython.display import display\n",
    "#import seaborn as sns\n",
    "from sklearn.tree import DecisionTreeClassifier, plot_tree\n",
    "from sklearn.metrics import accuracy_score\n",
    "from sklearn.ensemble import RandomForestClassifier\n",
    "from sklearn.linear_model import LogisticRegression \n",
    "from sklearn.model_selection import train_test_split\n",
    "from sklearn.dummy import DummyClassifier"
   ]
  },
  {
   "cell_type": "code",
   "execution_count": 12,
   "metadata": {},
   "outputs": [],
   "source": [
    "data = pd.read_csv('/datasets/users_behavior.csv')"
   ]
  },
  {
   "cell_type": "code",
   "execution_count": 13,
   "metadata": {},
   "outputs": [
    {
     "name": "stdout",
     "output_type": "stream",
     "text": [
      "<class 'pandas.core.frame.DataFrame'>\n",
      "RangeIndex: 3214 entries, 0 to 3213\n",
      "Data columns (total 5 columns):\n",
      "calls       3214 non-null float64\n",
      "minutes     3214 non-null float64\n",
      "messages    3214 non-null float64\n",
      "mb_used     3214 non-null float64\n",
      "is_ultra    3214 non-null int64\n",
      "dtypes: float64(4), int64(1)\n",
      "memory usage: 125.7 KB\n"
     ]
    },
    {
     "data": {
      "text/html": [
       "<div>\n",
       "<style scoped>\n",
       "    .dataframe tbody tr th:only-of-type {\n",
       "        vertical-align: middle;\n",
       "    }\n",
       "\n",
       "    .dataframe tbody tr th {\n",
       "        vertical-align: top;\n",
       "    }\n",
       "\n",
       "    .dataframe thead th {\n",
       "        text-align: right;\n",
       "    }\n",
       "</style>\n",
       "<table border=\"1\" class=\"dataframe\">\n",
       "  <thead>\n",
       "    <tr style=\"text-align: right;\">\n",
       "      <th></th>\n",
       "      <th>calls</th>\n",
       "      <th>minutes</th>\n",
       "      <th>messages</th>\n",
       "      <th>mb_used</th>\n",
       "      <th>is_ultra</th>\n",
       "    </tr>\n",
       "  </thead>\n",
       "  <tbody>\n",
       "    <tr>\n",
       "      <td>0</td>\n",
       "      <td>40.0</td>\n",
       "      <td>311.90</td>\n",
       "      <td>83.0</td>\n",
       "      <td>19915.42</td>\n",
       "      <td>0</td>\n",
       "    </tr>\n",
       "    <tr>\n",
       "      <td>1</td>\n",
       "      <td>85.0</td>\n",
       "      <td>516.75</td>\n",
       "      <td>56.0</td>\n",
       "      <td>22696.96</td>\n",
       "      <td>0</td>\n",
       "    </tr>\n",
       "    <tr>\n",
       "      <td>2</td>\n",
       "      <td>77.0</td>\n",
       "      <td>467.66</td>\n",
       "      <td>86.0</td>\n",
       "      <td>21060.45</td>\n",
       "      <td>0</td>\n",
       "    </tr>\n",
       "    <tr>\n",
       "      <td>3</td>\n",
       "      <td>106.0</td>\n",
       "      <td>745.53</td>\n",
       "      <td>81.0</td>\n",
       "      <td>8437.39</td>\n",
       "      <td>1</td>\n",
       "    </tr>\n",
       "  </tbody>\n",
       "</table>\n",
       "</div>"
      ],
      "text/plain": [
       "   calls  minutes  messages   mb_used  is_ultra\n",
       "0   40.0   311.90      83.0  19915.42         0\n",
       "1   85.0   516.75      56.0  22696.96         0\n",
       "2   77.0   467.66      86.0  21060.45         0\n",
       "3  106.0   745.53      81.0   8437.39         1"
      ]
     },
     "metadata": {},
     "output_type": "display_data"
    },
    {
     "name": "stdout",
     "output_type": "stream",
     "text": [
      "0    2229\n",
      "1     985\n",
      "Name: is_ultra, dtype: int64\n"
     ]
    },
    {
     "data": {
      "text/html": [
       "<div>\n",
       "<style scoped>\n",
       "    .dataframe tbody tr th:only-of-type {\n",
       "        vertical-align: middle;\n",
       "    }\n",
       "\n",
       "    .dataframe tbody tr th {\n",
       "        vertical-align: top;\n",
       "    }\n",
       "\n",
       "    .dataframe thead th {\n",
       "        text-align: right;\n",
       "    }\n",
       "</style>\n",
       "<table border=\"1\" class=\"dataframe\">\n",
       "  <thead>\n",
       "    <tr style=\"text-align: right;\">\n",
       "      <th></th>\n",
       "      <th>calls</th>\n",
       "      <th>minutes</th>\n",
       "      <th>messages</th>\n",
       "      <th>mb_used</th>\n",
       "      <th>is_ultra</th>\n",
       "    </tr>\n",
       "  </thead>\n",
       "  <tbody>\n",
       "    <tr>\n",
       "      <td>count</td>\n",
       "      <td>3214.000000</td>\n",
       "      <td>3214.000000</td>\n",
       "      <td>3214.000000</td>\n",
       "      <td>3214.000000</td>\n",
       "      <td>3214.000000</td>\n",
       "    </tr>\n",
       "    <tr>\n",
       "      <td>mean</td>\n",
       "      <td>63.038892</td>\n",
       "      <td>438.208787</td>\n",
       "      <td>38.281269</td>\n",
       "      <td>17207.673836</td>\n",
       "      <td>0.306472</td>\n",
       "    </tr>\n",
       "    <tr>\n",
       "      <td>std</td>\n",
       "      <td>33.236368</td>\n",
       "      <td>234.569872</td>\n",
       "      <td>36.148326</td>\n",
       "      <td>7570.968246</td>\n",
       "      <td>0.461100</td>\n",
       "    </tr>\n",
       "    <tr>\n",
       "      <td>min</td>\n",
       "      <td>0.000000</td>\n",
       "      <td>0.000000</td>\n",
       "      <td>0.000000</td>\n",
       "      <td>0.000000</td>\n",
       "      <td>0.000000</td>\n",
       "    </tr>\n",
       "    <tr>\n",
       "      <td>25%</td>\n",
       "      <td>40.000000</td>\n",
       "      <td>274.575000</td>\n",
       "      <td>9.000000</td>\n",
       "      <td>12491.902500</td>\n",
       "      <td>0.000000</td>\n",
       "    </tr>\n",
       "    <tr>\n",
       "      <td>50%</td>\n",
       "      <td>62.000000</td>\n",
       "      <td>430.600000</td>\n",
       "      <td>30.000000</td>\n",
       "      <td>16943.235000</td>\n",
       "      <td>0.000000</td>\n",
       "    </tr>\n",
       "    <tr>\n",
       "      <td>75%</td>\n",
       "      <td>82.000000</td>\n",
       "      <td>571.927500</td>\n",
       "      <td>57.000000</td>\n",
       "      <td>21424.700000</td>\n",
       "      <td>1.000000</td>\n",
       "    </tr>\n",
       "    <tr>\n",
       "      <td>max</td>\n",
       "      <td>244.000000</td>\n",
       "      <td>1632.060000</td>\n",
       "      <td>224.000000</td>\n",
       "      <td>49745.730000</td>\n",
       "      <td>1.000000</td>\n",
       "    </tr>\n",
       "  </tbody>\n",
       "</table>\n",
       "</div>"
      ],
      "text/plain": [
       "             calls      minutes     messages       mb_used     is_ultra\n",
       "count  3214.000000  3214.000000  3214.000000   3214.000000  3214.000000\n",
       "mean     63.038892   438.208787    38.281269  17207.673836     0.306472\n",
       "std      33.236368   234.569872    36.148326   7570.968246     0.461100\n",
       "min       0.000000     0.000000     0.000000      0.000000     0.000000\n",
       "25%      40.000000   274.575000     9.000000  12491.902500     0.000000\n",
       "50%      62.000000   430.600000    30.000000  16943.235000     0.000000\n",
       "75%      82.000000   571.927500    57.000000  21424.700000     1.000000\n",
       "max     244.000000  1632.060000   224.000000  49745.730000     1.000000"
      ]
     },
     "metadata": {},
     "output_type": "display_data"
    }
   ],
   "source": [
    "data.info()\n",
    "display(data.head(4))\n",
    "print(data['is_ultra'].value_counts())\n",
    "display(data.describe())"
   ]
  },
  {
   "cell_type": "markdown",
   "metadata": {},
   "source": [
    "Данные без пропусков. Признаки: calls, minutes,\tmessages, mb_used. Целевой признак: is_ultra. 30% клиентов перешли на ultra."
   ]
  },
  {
   "cell_type": "markdown",
   "metadata": {},
   "source": [
    "<div class=\"alert alert-block alert-success\">\n",
    "<b>КОММЕНТАРИЙ РЕВЬЮВЕРА:</b> \n",
    "    \n",
    "    \n",
    "Молодец, обзор хороший)\n",
    "    \n",
    "Классно, что ты решил изучить распределение классов, это полезно, так как помогает детектировать проблему дисбаланса, которая негативно сказывается на моделях. Как справляться с этой проблемой ты узнаешь в следующем курсе)\n",
    "\n",
    "</div>"
   ]
  },
  {
   "cell_type": "markdown",
   "metadata": {},
   "source": [
    "[вернуться к оглавлению](#plan) \n",
    "<a name=\"s2\"></a>\n",
    "## 2. Подготовка данных.\n",
    "Разделим исходные данные на обучающую, валидационную и тестовую выборки."
   ]
  },
  {
   "cell_type": "code",
   "execution_count": 14,
   "metadata": {},
   "outputs": [],
   "source": [
    "data_train, data_testvalid = train_test_split(data, test_size=0.4, random_state=123)\n",
    "data_test, data_valid = train_test_split(data_testvalid, test_size=0.5, random_state=123)"
   ]
  },
  {
   "cell_type": "code",
   "execution_count": 15,
   "metadata": {
    "scrolled": true
   },
   "outputs": [
    {
     "data": {
      "text/html": [
       "<div>\n",
       "<style scoped>\n",
       "    .dataframe tbody tr th:only-of-type {\n",
       "        vertical-align: middle;\n",
       "    }\n",
       "\n",
       "    .dataframe tbody tr th {\n",
       "        vertical-align: top;\n",
       "    }\n",
       "\n",
       "    .dataframe thead th {\n",
       "        text-align: right;\n",
       "    }\n",
       "</style>\n",
       "<table border=\"1\" class=\"dataframe\">\n",
       "  <thead>\n",
       "    <tr style=\"text-align: right;\">\n",
       "      <th></th>\n",
       "      <th>calls</th>\n",
       "      <th>minutes</th>\n",
       "      <th>messages</th>\n",
       "      <th>mb_used</th>\n",
       "      <th>is_ultra</th>\n",
       "    </tr>\n",
       "  </thead>\n",
       "  <tbody>\n",
       "    <tr>\n",
       "      <td>count</td>\n",
       "      <td>1928.000000</td>\n",
       "      <td>1928.000000</td>\n",
       "      <td>1928.000000</td>\n",
       "      <td>1928.000000</td>\n",
       "      <td>1928.000000</td>\n",
       "    </tr>\n",
       "    <tr>\n",
       "      <td>mean</td>\n",
       "      <td>63.117220</td>\n",
       "      <td>439.033734</td>\n",
       "      <td>38.156120</td>\n",
       "      <td>17203.078242</td>\n",
       "      <td>0.308091</td>\n",
       "    </tr>\n",
       "    <tr>\n",
       "      <td>std</td>\n",
       "      <td>33.439266</td>\n",
       "      <td>236.342509</td>\n",
       "      <td>36.684478</td>\n",
       "      <td>7556.799702</td>\n",
       "      <td>0.461824</td>\n",
       "    </tr>\n",
       "    <tr>\n",
       "      <td>min</td>\n",
       "      <td>0.000000</td>\n",
       "      <td>0.000000</td>\n",
       "      <td>0.000000</td>\n",
       "      <td>0.000000</td>\n",
       "      <td>0.000000</td>\n",
       "    </tr>\n",
       "    <tr>\n",
       "      <td>25%</td>\n",
       "      <td>40.000000</td>\n",
       "      <td>276.607500</td>\n",
       "      <td>9.000000</td>\n",
       "      <td>12472.822500</td>\n",
       "      <td>0.000000</td>\n",
       "    </tr>\n",
       "    <tr>\n",
       "      <td>50%</td>\n",
       "      <td>62.000000</td>\n",
       "      <td>430.090000</td>\n",
       "      <td>29.000000</td>\n",
       "      <td>16849.685000</td>\n",
       "      <td>0.000000</td>\n",
       "    </tr>\n",
       "    <tr>\n",
       "      <td>75%</td>\n",
       "      <td>82.000000</td>\n",
       "      <td>578.700000</td>\n",
       "      <td>56.000000</td>\n",
       "      <td>21326.615000</td>\n",
       "      <td>1.000000</td>\n",
       "    </tr>\n",
       "    <tr>\n",
       "      <td>max</td>\n",
       "      <td>203.000000</td>\n",
       "      <td>1566.450000</td>\n",
       "      <td>224.000000</td>\n",
       "      <td>48351.610000</td>\n",
       "      <td>1.000000</td>\n",
       "    </tr>\n",
       "  </tbody>\n",
       "</table>\n",
       "</div>"
      ],
      "text/plain": [
       "             calls      minutes     messages       mb_used     is_ultra\n",
       "count  1928.000000  1928.000000  1928.000000   1928.000000  1928.000000\n",
       "mean     63.117220   439.033734    38.156120  17203.078242     0.308091\n",
       "std      33.439266   236.342509    36.684478   7556.799702     0.461824\n",
       "min       0.000000     0.000000     0.000000      0.000000     0.000000\n",
       "25%      40.000000   276.607500     9.000000  12472.822500     0.000000\n",
       "50%      62.000000   430.090000    29.000000  16849.685000     0.000000\n",
       "75%      82.000000   578.700000    56.000000  21326.615000     1.000000\n",
       "max     203.000000  1566.450000   224.000000  48351.610000     1.000000"
      ]
     },
     "metadata": {},
     "output_type": "display_data"
    },
    {
     "data": {
      "text/html": [
       "<div>\n",
       "<style scoped>\n",
       "    .dataframe tbody tr th:only-of-type {\n",
       "        vertical-align: middle;\n",
       "    }\n",
       "\n",
       "    .dataframe tbody tr th {\n",
       "        vertical-align: top;\n",
       "    }\n",
       "\n",
       "    .dataframe thead th {\n",
       "        text-align: right;\n",
       "    }\n",
       "</style>\n",
       "<table border=\"1\" class=\"dataframe\">\n",
       "  <thead>\n",
       "    <tr style=\"text-align: right;\">\n",
       "      <th></th>\n",
       "      <th>calls</th>\n",
       "      <th>minutes</th>\n",
       "      <th>messages</th>\n",
       "      <th>mb_used</th>\n",
       "      <th>is_ultra</th>\n",
       "    </tr>\n",
       "  </thead>\n",
       "  <tbody>\n",
       "    <tr>\n",
       "      <td>count</td>\n",
       "      <td>643.000000</td>\n",
       "      <td>643.000000</td>\n",
       "      <td>643.000000</td>\n",
       "      <td>643.000000</td>\n",
       "      <td>643.000000</td>\n",
       "    </tr>\n",
       "    <tr>\n",
       "      <td>mean</td>\n",
       "      <td>63.570762</td>\n",
       "      <td>442.875801</td>\n",
       "      <td>37.388802</td>\n",
       "      <td>17156.622877</td>\n",
       "      <td>0.306376</td>\n",
       "    </tr>\n",
       "    <tr>\n",
       "      <td>std</td>\n",
       "      <td>32.937388</td>\n",
       "      <td>230.857527</td>\n",
       "      <td>34.698990</td>\n",
       "      <td>7428.841067</td>\n",
       "      <td>0.461347</td>\n",
       "    </tr>\n",
       "    <tr>\n",
       "      <td>min</td>\n",
       "      <td>0.000000</td>\n",
       "      <td>0.000000</td>\n",
       "      <td>0.000000</td>\n",
       "      <td>0.000000</td>\n",
       "      <td>0.000000</td>\n",
       "    </tr>\n",
       "    <tr>\n",
       "      <td>25%</td>\n",
       "      <td>41.000000</td>\n",
       "      <td>281.270000</td>\n",
       "      <td>8.000000</td>\n",
       "      <td>12706.160000</td>\n",
       "      <td>0.000000</td>\n",
       "    </tr>\n",
       "    <tr>\n",
       "      <td>50%</td>\n",
       "      <td>63.000000</td>\n",
       "      <td>447.070000</td>\n",
       "      <td>30.000000</td>\n",
       "      <td>16917.440000</td>\n",
       "      <td>0.000000</td>\n",
       "    </tr>\n",
       "    <tr>\n",
       "      <td>75%</td>\n",
       "      <td>82.500000</td>\n",
       "      <td>571.150000</td>\n",
       "      <td>58.500000</td>\n",
       "      <td>21584.375000</td>\n",
       "      <td>1.000000</td>\n",
       "    </tr>\n",
       "    <tr>\n",
       "      <td>max</td>\n",
       "      <td>244.000000</td>\n",
       "      <td>1632.060000</td>\n",
       "      <td>188.000000</td>\n",
       "      <td>43931.390000</td>\n",
       "      <td>1.000000</td>\n",
       "    </tr>\n",
       "  </tbody>\n",
       "</table>\n",
       "</div>"
      ],
      "text/plain": [
       "            calls      minutes    messages       mb_used    is_ultra\n",
       "count  643.000000   643.000000  643.000000    643.000000  643.000000\n",
       "mean    63.570762   442.875801   37.388802  17156.622877    0.306376\n",
       "std     32.937388   230.857527   34.698990   7428.841067    0.461347\n",
       "min      0.000000     0.000000    0.000000      0.000000    0.000000\n",
       "25%     41.000000   281.270000    8.000000  12706.160000    0.000000\n",
       "50%     63.000000   447.070000   30.000000  16917.440000    0.000000\n",
       "75%     82.500000   571.150000   58.500000  21584.375000    1.000000\n",
       "max    244.000000  1632.060000  188.000000  43931.390000    1.000000"
      ]
     },
     "metadata": {},
     "output_type": "display_data"
    },
    {
     "data": {
      "text/html": [
       "<div>\n",
       "<style scoped>\n",
       "    .dataframe tbody tr th:only-of-type {\n",
       "        vertical-align: middle;\n",
       "    }\n",
       "\n",
       "    .dataframe tbody tr th {\n",
       "        vertical-align: top;\n",
       "    }\n",
       "\n",
       "    .dataframe thead th {\n",
       "        text-align: right;\n",
       "    }\n",
       "</style>\n",
       "<table border=\"1\" class=\"dataframe\">\n",
       "  <thead>\n",
       "    <tr style=\"text-align: right;\">\n",
       "      <th></th>\n",
       "      <th>calls</th>\n",
       "      <th>minutes</th>\n",
       "      <th>messages</th>\n",
       "      <th>mb_used</th>\n",
       "      <th>is_ultra</th>\n",
       "    </tr>\n",
       "  </thead>\n",
       "  <tbody>\n",
       "    <tr>\n",
       "      <td>count</td>\n",
       "      <td>643.000000</td>\n",
       "      <td>643.000000</td>\n",
       "      <td>643.000000</td>\n",
       "      <td>643.000000</td>\n",
       "      <td>643.000000</td>\n",
       "    </tr>\n",
       "    <tr>\n",
       "      <td>mean</td>\n",
       "      <td>62.272162</td>\n",
       "      <td>431.068212</td>\n",
       "      <td>39.548989</td>\n",
       "      <td>17272.504432</td>\n",
       "      <td>0.301711</td>\n",
       "    </tr>\n",
       "    <tr>\n",
       "      <td>std</td>\n",
       "      <td>32.960360</td>\n",
       "      <td>233.113206</td>\n",
       "      <td>35.969293</td>\n",
       "      <td>7763.148353</td>\n",
       "      <td>0.459358</td>\n",
       "    </tr>\n",
       "    <tr>\n",
       "      <td>min</td>\n",
       "      <td>0.000000</td>\n",
       "      <td>0.000000</td>\n",
       "      <td>0.000000</td>\n",
       "      <td>0.000000</td>\n",
       "      <td>0.000000</td>\n",
       "    </tr>\n",
       "    <tr>\n",
       "      <td>25%</td>\n",
       "      <td>38.000000</td>\n",
       "      <td>263.295000</td>\n",
       "      <td>10.000000</td>\n",
       "      <td>12453.180000</td>\n",
       "      <td>0.000000</td>\n",
       "    </tr>\n",
       "    <tr>\n",
       "      <td>50%</td>\n",
       "      <td>60.000000</td>\n",
       "      <td>419.720000</td>\n",
       "      <td>31.000000</td>\n",
       "      <td>17275.470000</td>\n",
       "      <td>0.000000</td>\n",
       "    </tr>\n",
       "    <tr>\n",
       "      <td>75%</td>\n",
       "      <td>83.000000</td>\n",
       "      <td>557.580000</td>\n",
       "      <td>57.500000</td>\n",
       "      <td>21515.760000</td>\n",
       "      <td>1.000000</td>\n",
       "    </tr>\n",
       "    <tr>\n",
       "      <td>max</td>\n",
       "      <td>189.000000</td>\n",
       "      <td>1364.830000</td>\n",
       "      <td>201.000000</td>\n",
       "      <td>49745.730000</td>\n",
       "      <td>1.000000</td>\n",
       "    </tr>\n",
       "  </tbody>\n",
       "</table>\n",
       "</div>"
      ],
      "text/plain": [
       "            calls      minutes    messages       mb_used    is_ultra\n",
       "count  643.000000   643.000000  643.000000    643.000000  643.000000\n",
       "mean    62.272162   431.068212   39.548989  17272.504432    0.301711\n",
       "std     32.960360   233.113206   35.969293   7763.148353    0.459358\n",
       "min      0.000000     0.000000    0.000000      0.000000    0.000000\n",
       "25%     38.000000   263.295000   10.000000  12453.180000    0.000000\n",
       "50%     60.000000   419.720000   31.000000  17275.470000    0.000000\n",
       "75%     83.000000   557.580000   57.500000  21515.760000    1.000000\n",
       "max    189.000000  1364.830000  201.000000  49745.730000    1.000000"
      ]
     },
     "metadata": {},
     "output_type": "display_data"
    }
   ],
   "source": [
    "display(data_train.describe())\n",
    "display(data_valid.describe())\n",
    "display(data_test.describe()) "
   ]
  },
  {
   "cell_type": "markdown",
   "metadata": {},
   "source": [
    "Целевой признак в обучающую, валидационную и тестовую выборки распределился равномерно."
   ]
  },
  {
   "cell_type": "code",
   "execution_count": 16,
   "metadata": {},
   "outputs": [],
   "source": [
    "features_train = data_train.drop(['is_ultra'], axis=1)\n",
    "target_train = data_train['is_ultra']\n",
    "\n",
    "features_valid = data_valid.drop(['is_ultra'], axis=1)\n",
    "target_valid = data_valid['is_ultra']\n",
    "\n",
    "features_test = data_test.drop(['is_ultra'], axis=1)\n",
    "target_test = data_test['is_ultra']"
   ]
  },
  {
   "cell_type": "markdown",
   "metadata": {},
   "source": [
    "<div class=\"alert alert-block alert-success\">\n",
    "<b>КОММЕНТАРИЙ РЕВЬЮВЕРА:</b> \n",
    "    \n",
    "    \n",
    "Отлично, что ты не забыл разбить датафрейм именно на три выборки!\n",
    "\n",
    "</div>"
   ]
  },
  {
   "cell_type": "markdown",
   "metadata": {},
   "source": [
    "[вернуться к оглавлению](#plan) \n",
    "<a name=\"s3\"></a>\n",
    "## 3. Исследование моделей.\n",
    "Исследуйте качество разных моделей, меняя гиперпараметры. Кратко напишите выводы исследования."
   ]
  },
  {
   "cell_type": "markdown",
   "metadata": {},
   "source": [
    "<a name=\"s3\"></a>\n",
    "### Решающее дерево."
   ]
  },
  {
   "cell_type": "code",
   "execution_count": 17,
   "metadata": {},
   "outputs": [
    {
     "name": "stdout",
     "output_type": "stream",
     "text": [
      "max_depth = 1 , accuracy_score = 0.7558320373250389\n",
      "max_depth = 2 , accuracy_score = 0.7900466562986003\n",
      "max_depth = 3 , accuracy_score = 0.7962674961119751\n",
      "max_depth = 4 , accuracy_score = 0.7838258164852255\n"
     ]
    }
   ],
   "source": [
    "for depth in range (1, 5):\n",
    "    model = DecisionTreeClassifier(random_state=123, max_depth=depth)\n",
    "    model.fit(features_train, target_train)\n",
    "    predictions_valid = model.predict(features_valid)\n",
    "    print(\"max_depth =\", depth, \", accuracy_score =\", accuracy_score(target_valid, predictions_valid))"
   ]
  },
  {
   "cell_type": "markdown",
   "metadata": {},
   "source": [
    "Наилучший результат на валидационной выборке для решающего дерева с глубиной 3."
   ]
  },
  {
   "cell_type": "markdown",
   "metadata": {},
   "source": [
    "<div class=\"alert alert-block alert-success\">\n",
    "<b>КОММЕНТАРИЙ РЕВЬЮВЕРА:</b> \n",
    "    \n",
    "    \n",
    "Ради интереса я бы взял чуть больший диапазон глубины, так как в пределах 2-4 доля правильных ответов существенно не меняется, давай посмотим, мало ли?\n",
    "\n",
    "</div>"
   ]
  },
  {
   "cell_type": "code",
   "execution_count": 18,
   "metadata": {},
   "outputs": [
    {
     "name": "stdout",
     "output_type": "stream",
     "text": [
      "Дерево ревьювера\n",
      "-------> глубина 3\n",
      "-------> accuracy 0.7962674961119751\n"
     ]
    }
   ],
   "source": [
    "# КОД РЕВЬЮВЕРА\n",
    "\n",
    "rev_tree = None\n",
    "rev_tree_depth = 0\n",
    "accuracy_best = 0.5 # психологически порог случайной модели, который наше дерево в любом случае должно преодолеть, чтобы мы его не срубили с корнями))\n",
    "\n",
    "for depth in range(2, 15): \n",
    "    \n",
    "    tree = DecisionTreeClassifier(random_state = 500, max_depth = depth)\n",
    "    tree.fit(features_train, target_train)\n",
    "    \n",
    "    acc = tree.score(features_valid, target_valid)\n",
    "    \n",
    "    if acc > accuracy_best:\n",
    "        \n",
    "        accuracy_best = acc\n",
    "        rev_tree = tree\n",
    "        rev_tree_depth = depth\n",
    "        \n",
    "print('Дерево ревьювера')\n",
    "print('-------> глубина', rev_tree_depth)\n",
    "print('-------> accuracy', accuracy_best)\n"
   ]
  },
  {
   "cell_type": "markdown",
   "metadata": {},
   "source": [
    "<div class=\"alert alert-block alert-success\">\n",
    "<b>КОММЕНТАРИЙ РЕВЬЮВЕРА:</b> \n",
    "    \n",
    "    \n",
    "Глубина три в данном случае судя по всему является оптимальной\n",
    "\n",
    "</div>"
   ]
  },
  {
   "cell_type": "markdown",
   "metadata": {},
   "source": [
    "<a name=\"s3_2\"></a> \n",
    "### Случайный лес."
   ]
  },
  {
   "cell_type": "code",
   "execution_count": 24,
   "metadata": {},
   "outputs": [
    {
     "name": "stdout",
     "output_type": "stream",
     "text": [
      "Accuracy лучшей модели: 0.807153965785381 для леса из 12 деревьев глубиной 2 .\n"
     ]
    }
   ],
   "source": [
    "best_model = None\n",
    "best_result = 0\n",
    "best_est = 0\n",
    "best_depth = 0\n",
    "for est in range(1, 17):\n",
    "    for depth in range(1, 5):\n",
    "        model = RandomForestClassifier(random_state=123, n_estimators=est, max_depth=depth)\n",
    "        model.fit(features_train, target_train) \n",
    "        result = model.score(features_valid, target_valid)\n",
    "        if result > best_result:\n",
    "            best_RandomForest_model = model\n",
    "            best_est = est\n",
    "            best_result = result\n",
    "            best_depth = depth\n",
    "\n",
    "print(\"Accuracy лучшей модели:\", best_result, \"для леса из\", best_est, \"деревьев глубиной\", best_depth, \".\")"
   ]
  },
  {
   "cell_type": "markdown",
   "metadata": {},
   "source": [
    "Качество у случайного леса (80.7%) не сильно выше чем для решающего дерева (80.6%)."
   ]
  },
  {
   "cell_type": "markdown",
   "metadata": {},
   "source": [
    "<div class=\"alert alert-block alert-success\">\n",
    "<b>КОММЕНТАРИЙ РЕВЬЮВЕРА:</b> \n",
    "    \n",
    "    \n",
    "Лес действительно дает большее качество, но и работает дольше\n",
    "\n",
    "</div>"
   ]
  },
  {
   "cell_type": "markdown",
   "metadata": {},
   "source": [
    "<a name=\"s3_3\"></a> \n",
    "### Логистическая регрессия."
   ]
  },
  {
   "cell_type": "code",
   "execution_count": 25,
   "metadata": {},
   "outputs": [
    {
     "name": "stdout",
     "output_type": "stream",
     "text": [
      "Accuracy модели логистической регрессии: 0.7620528771384136\n"
     ]
    }
   ],
   "source": [
    "model = LogisticRegression(random_state=123, solver='liblinear')\n",
    "model.fit(features_train, target_train)\n",
    "result = model.score(features_valid, target_valid)\n",
    "\n",
    "print(\"Accuracy модели логистической регрессии:\", result)"
   ]
  },
  {
   "cell_type": "markdown",
   "metadata": {},
   "source": [
    "<a name=\"s3_4\"></a> \n",
    "### Выбор модели."
   ]
  },
  {
   "cell_type": "markdown",
   "metadata": {},
   "source": [
    "Хуже всего на валидационной выборке себя показала логистическая регрессия (76,2%). Результаты для решающего дерева и случайного леса практически одинаковые (80,6% и 80,7% соответственно). Для поставленных целей разница в точности в 0,1% не будет являеться решающей. В качестве модели можно выбрать решающее дерево глубиной 3."
   ]
  },
  {
   "cell_type": "markdown",
   "metadata": {},
   "source": [
    "<div class=\"alert alert-block alert-success\">\n",
    "<b>КОММЕНТАРИЙ РЕВЬЮВЕРА:</b> \n",
    "    \n",
    "    \n",
    "Да, регрессия действительно работает плоховато, а вот если говорить про лес \\ дерево, то они явно конкурируют и я бы тоже выбрал дерево, так как эта модель является балансом между скоростью работы и качеством\n",
    "\n",
    "</div>"
   ]
  },
  {
   "cell_type": "markdown",
   "metadata": {},
   "source": [
    "[вернуться к оглавлению](#plan) \n",
    "<a name=\"s4\"></a>\n",
    "## 4. Проверка модели на тестовой выборке.\n",
    "Исследуйте качество разных моделей, меняя гиперпараметры. Кратко напишите выводы исследования."
   ]
  },
  {
   "cell_type": "code",
   "execution_count": 40,
   "metadata": {},
   "outputs": [
    {
     "name": "stdout",
     "output_type": "stream",
     "text": [
      "Точность на тестовой выборке: 0.7589424572317263\n"
     ]
    }
   ],
   "source": [
    "model = DecisionTreeClassifier(random_state=123, max_depth=3)\n",
    "model.fit(features_train, target_train)\n",
    "predictions_test = model.predict(features_test)\n",
    "print(\"Точность на тестовой выборке:\", accuracy_score(target_test, predictions_test))"
   ]
  },
  {
   "cell_type": "markdown",
   "metadata": {},
   "source": [
    "<div class=\"alert alert-block alert-success\">\n",
    "<b>КОММЕНТАРИЙ РЕВЬЮВЕРА:</b> \n",
    "    \n",
    "    \n",
    "Видим, что порог мы преодолели, но давай посмотрим, как покажет себя лес?\n",
    "\n",
    "</div>"
   ]
  },
  {
   "cell_type": "code",
   "execution_count": 19,
   "metadata": {},
   "outputs": [
    {
     "name": "stdout",
     "output_type": "stream",
     "text": [
      "0.7807153965785381\n"
     ]
    }
   ],
   "source": [
    "# КОД РЕВЬЮВЕРА\n",
    "\n",
    "forest = RandomForestClassifier(random_state = 500, n_estimators = 12, max_depth = 2)\n",
    "forest.fit(features_train, target_train)\n",
    "\n",
    "print(forest.score(features_test, target_test))"
   ]
  },
  {
   "cell_type": "markdown",
   "metadata": {},
   "source": [
    "<div class=\"alert alert-block alert-success\">\n",
    "<b>КОММЕНТАРИЙ РЕВЬЮВЕРА:</b> \n",
    "    \n",
    "    \n",
    "Работает лучше, чем дерево\n",
    "\n",
    "</div>"
   ]
  },
  {
   "cell_type": "markdown",
   "metadata": {},
   "source": [
    "[вернуться к оглавлению](#plan) \n",
    "<a name=\"s5\"></a>\n",
    "## 5. (бонус) Проверка модели на адекватность."
   ]
  },
  {
   "cell_type": "markdown",
   "metadata": {},
   "source": [
    "Очевидно, что заполнив предсказание нулями получим точность 70%. \n",
    "Первым делом была мысль попробовать создать предсказание по собственному алгоритму (например заполнить единицами 30% наиболее активных абонентов) и посмотреть результат, но не уверен что это то, что подразумевалось в этом задании.  \n",
    "Попробуем псевдопредсказатель DummyClassifier. \n",
    "  'most_frequent' - заполнит предсказание наиболее распространенным значением \n",
    "  'stratified' - заполнит значениями с сохранением доли в тестовой выборке\n",
    "  'uniform' - заполнит значениями в равной пропорции"
   ]
  },
  {
   "cell_type": "code",
   "execution_count": 43,
   "metadata": {},
   "outputs": [
    {
     "name": "stdout",
     "output_type": "stream",
     "text": [
      "most_frequent 0.7091757387247278\n",
      "stratified 0.5925349922239502\n",
      "uniform 0.46500777604976673\n"
     ]
    }
   ],
   "source": [
    "strategies = ['most_frequent', 'stratified', 'uniform']\n",
    "for s in strategies:\n",
    "    dclf = DummyClassifier(strategy = s, random_state = 123) \n",
    "    dclf.fit(features_train, target_train)\n",
    "    result = dclf.score(features_valid, target_valid)\n",
    "    print(s, result)"
   ]
  },
  {
   "cell_type": "markdown",
   "metadata": {},
   "source": [
    "[вернуться к оглавлению](#plan) \n",
    "<a name=\"s6\"></a>\n",
    "## 5. Заключение."
   ]
  },
  {
   "cell_type": "markdown",
   "metadata": {},
   "source": [
    "Модель решающее дерево глубиной 3 дает точность более 75%. Это на 5% лучше чем во всех случаях предсказывать наиболее популярный тариф. Для поставленной задачи такой точности достаточно, но для более серьезных целей необходимо увеличивать точность."
   ]
  },
  {
   "cell_type": "markdown",
   "metadata": {},
   "source": [
    "<div class=\"alert alert-block alert-success\">\n",
    "<b>КОММЕНТАРИЙ РЕВЬЮВЕРА:</b> \n",
    "    \n",
    "    \n",
    "У тебя довольно разумная проверка на адекватность, молодец!\n",
    "\n",
    "Хочу обратить твое внимание на регрессию, как ты помнишь доля правильных ответов по ней на валидации была 0.76, а у модели, которая предсказывает только наиболее популярный класс 0.7, недалеко уехали.\n",
    "    \n",
    "Хочу еще рассказать тебе о метрике auc, о ней ты узнаешь уже буквально в следующих курсах. На данный момент скажу, что auc случайной модели равен 0.5, чем выше и дальше auc  нашей модели от этого показателя, тем лучше.\n",
    "    \n",
    "Подсчитаем:\n",
    "\n",
    "</div>"
   ]
  },
  {
   "cell_type": "code",
   "execution_count": 21,
   "metadata": {},
   "outputs": [
    {
     "name": "stdout",
     "output_type": "stream",
     "text": [
      "AUC 0.7397423828438914\n"
     ]
    }
   ],
   "source": [
    "# КОД РЕВЬЮВЕРА\n",
    "\n",
    "# для интереса я возьму тот лес, что обучил выше\n",
    "\n",
    "from sklearn.metrics import roc_auc_score\n",
    "\n",
    "# для подсчета auc нам нужны не предсказания, а вероятность принадлежность объекта к классу\n",
    "\n",
    "prob = forest.predict_proba(features_test)[:, 1]\n",
    "\n",
    "print('AUC', roc_auc_score(target_test, prob))\n",
    "\n",
    "# ВЫВОД: видим, что метрика куда выше 0.5, делаем вывод, что модель леса работает вполне адекватно"
   ]
  },
  {
   "cell_type": "markdown",
   "metadata": {},
   "source": [
    "<div class=\"alert alert-block alert-success\">\n",
    "<b>КОММЕНТАРИЙ РЕВЬЮВЕРА:</b> \n",
    "    \n",
    "    \n",
    "`Олег, ты классно выполнил проект, у меня нет к тебе замечаний, молодец! Ради подогревания твоего интереса скажу, как можно было еще улучшить модели: 1. У нас есть проблема дисбаланса классов(можно было установить параметр class_weight = 'balanced' \\ провести upsampling (увеличение объектов меньшего класса) \\ downsampling (уменьшить кол-во объектов большего класса) 2. Провести масштабирование признаков. Обо всем этом ты узнаешь уже в следующем курсе, желаю удачи!`\n",
    "\n",
    "</div>"
   ]
  },
  {
   "cell_type": "markdown",
   "metadata": {},
   "source": [
    "## Чек-лист готовности проекта"
   ]
  },
  {
   "cell_type": "markdown",
   "metadata": {},
   "source": [
    "Поставьте 'x' в выполненных пунктах. Далее нажмите Shift+Enter."
   ]
  },
  {
   "cell_type": "markdown",
   "metadata": {},
   "source": [
    "- [x] Jupyter Notebook открыт\n",
    "- [x] Весь код исполняется без ошибок\n",
    "- [x] Ячейки с кодом расположены в порядке исполнения\n",
    "- [x] Выполнено задание 1: данные загружены и изучены\n",
    "- [x] Выполнено задание 2: данные разбиты на три выборки\n",
    "- [x] Выполнено задание 3: проведено исследование моделей\n",
    "    - [x] Рассмотрено больше одной модели\n",
    "    - [x] Рассмотрено хотя бы 3 значения гипепараметров для какой-нибудь модели\n",
    "    - [x] Написаны выводы по результатам исследования\n",
    "- [x] Выполнено задание 3: Проведено тестирование\n",
    "- [x] Удалось достичь accuracy не меньше 0.75\n"
   ]
  },
  {
   "cell_type": "code",
   "execution_count": null,
   "metadata": {},
   "outputs": [],
   "source": []
  }
 ],
 "metadata": {
  "kernelspec": {
   "display_name": "Python 3",
   "language": "python",
   "name": "python3"
  },
  "language_info": {
   "codemirror_mode": {
    "name": "ipython",
    "version": 3
   },
   "file_extension": ".py",
   "mimetype": "text/x-python",
   "name": "python",
   "nbconvert_exporter": "python",
   "pygments_lexer": "ipython3",
   "version": "3.8.5"
  },
  "toc": {
   "base_numbering": 1,
   "nav_menu": {},
   "number_sections": true,
   "sideBar": true,
   "skip_h1_title": true,
   "title_cell": "Table of Contents",
   "title_sidebar": "Contents",
   "toc_cell": false,
   "toc_position": {},
   "toc_section_display": true,
   "toc_window_display": true
  }
 },
 "nbformat": 4,
 "nbformat_minor": 2
}
