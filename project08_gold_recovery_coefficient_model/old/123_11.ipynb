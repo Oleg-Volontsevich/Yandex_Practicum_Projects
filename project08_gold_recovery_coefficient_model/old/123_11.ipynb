{
 "cells": [
  {
   "cell_type": "markdown",
   "metadata": {},
   "source": [
    "# Проект 8. Сбореый_проект_2. Добыча золота."
   ]
  },
  {
   "cell_type": "markdown",
   "metadata": {},
   "source": [
    "<div class=\"alert alert-block alert-info\">\n",
    "Добрый день reviewer_name. До ЯП от области IT я был достаточно далёк - поэтому в коде вероятно есть \"детские\" ошибки. В связи с тем что в процессе обучения календарь (график обучения) нашей когорты был сдвинут на 1 неделю вперед, а я успел запланировать отпуск, пришлось заранее выпросить задание проекта и получилось позаниматься им раньше других. Часть инструментов используемых мной пробую впервые. Заранее благодарю за ревью. "
   ]
  },
  {
   "cell_type": "markdown",
   "metadata": {},
   "source": [
    "## Содержание"
   ]
  },
  {
   "cell_type": "markdown",
   "metadata": {},
   "source": [
    "    1  Содержание\n",
    "    2  Описание проекта и постановка задачи.\n",
    "        2.1  Описание данных.\n",
    "        2.2  Таблица имен DataFrame\n",
    "    3  Загрузка и подготовка данных\n",
    "        3.1  Импорт библиотек\n",
    "        3.2  Загрузка данных\n",
    "        3.3  Изучение данных\n",
    "        3.4  Проверка правильности расчета rougher.output.recovery\n",
    "        3.5  Проверка правильности расчета final.output.recovery\n",
    "        3.6  Анализ признаков, недоступных в тестовой выборке.\n",
    "        3.7  Выводы по данным\n",
    "    4  Подготовка данных\n",
    "        4.1  Тип данных\n",
    "        4.2  Замена пропусков интерполяцией\n",
    "        4.3  Замена пропусков нулями\n",
    "        4.4  Удаление пропусков\n",
    "    5  Анализ данных\n",
    "        5.1  Сравнение концентрации металлов (Au, Ag, Pb) на различных этапах очистки\n",
    "            5.1.1  Золото\n",
    "            5.1.2  Серебро\n",
    "            5.1.3  Свинец\n",
    "        5.2  Сравнение распределения размеров гранул сырья на обучающей и тестовой выборках\n",
    "        5.3  Исследование суммарных концентраций веществ на разных стадиях\n",
    "    6  Удаление выбросов\n",
    "        6.1  В тренировочных данных\n",
    "            6.1.1  Не удаляем\n",
    "            6.1.2  Удаляем строки с концентрацией < 0.05\n",
    "        6.2  В тестовых данных ????\n",
    "            6.2.1  Удаляем NaN\n",
    "            6.2.2  Заполняем NaN нулями\n",
    "            6.2.3  Удаляем строки с концентрацией во входящем сырье < 0.05 и заполняем NaN интерполяцией\n",
    "        6.3  Выбор и масштабирование признаков\n",
    "    7  Функция для вычисления sMAPE\n",
    "    8  Обучение и проверка модели\n",
    "        8.1  Линейная регрессия\n",
    "        8.2  Дерево решений\n",
    "        8.3  Случайный лес\n",
    "        8.4  DummyRegressor\n",
    "        8.5  Сравнение моделей\n",
    "    9  Проверка на тестовой выборке\n",
    "    10  Выводы"
   ]
  },
  {
   "cell_type": "markdown",
   "metadata": {},
   "source": [
    "## Описание проекта и постановка задачи."
   ]
  },
  {
   "cell_type": "markdown",
   "metadata": {},
   "source": [
    "Подготовьте прототип модели машинного обучения для «Цифры». Компания разрабатывает решения для эффективной работы промышленных предприятий.\n",
    "Модель должна предсказать коэффициент восстановления золота из золотосодержащей руды. В вашем распоряжении данные с параметрами добычи и очистки.\n",
    "Модель поможет оптимизировать производство, чтобы не запускать предприятие с убыточными характеристиками.\n",
    "Вам нужно:\n",
    "* Подготовить данные;\n",
    "* Провести исследовательский анализ данных;\n",
    "* Построить и обучить модель.\n",
    "\n",
    "Чтобы выполнить проект, обращайтесь к библиотекам pandas, matplotlib и sklearn. Вам поможет их документация.\n",
    "Следующий урок посвящён технологическому процессу очистки руды.\n",
    "Решите сами, какие детали нужны для построения модели, а какие — нет."
   ]
  },
  {
   "cell_type": "markdown",
   "metadata": {},
   "source": [
    "### Описание данных."
   ]
  },
  {
   "cell_type": "markdown",
   "metadata": {},
   "source": [
    "Данные находятся в трёх файлах:\n",
    "* gold_recovery_train.csv — обучающая выборка;\n",
    "* gold_recovery_test.csv — тестовая выборка;\n",
    "* gold_recovery_full.csv — исходные данные.\n",
    "\n",
    "Данные индексируются датой и временем получения информации (признак date).  \n",
    "Соседние по времени параметры часто похожи.  \n",
    "Некоторые параметры недоступны, потому что замеряются и/или рассчитываются значительно позже. Из-за этого в тестовой выборке отсутствуют некоторые признаки, которые могут быть в обучающей. Также в тестовом наборе нет целевых признаков.  \n",
    "Исходный датасет содержит обучающую и тестовую выборки со всеми признаками.  \n",
    "В вашем распоряжении сырые данные: их просто выгрузили из хранилища. Прежде чем приступить к построению модели, проверьте по нашей инструкции их на корректность."
   ]
  },
  {
   "cell_type": "markdown",
   "metadata": {},
   "source": [
    "<a name=\"DataFrame_names\"></a>\n",
    "### Таблица имен DataFrame"
   ]
  },
  {
   "cell_type": "markdown",
   "metadata": {},
   "source": [
    "В проекте используются следующие имена для DataFrame:"
   ]
  },
  {
   "cell_type": "markdown",
   "metadata": {},
   "source": [
    "\n",
    "\n",
    "Этап загрузки | Этап замены NaN | Этап удаления выбросов | Количество строк | Доля потерь\n",
    "--- |--- | --- | --- | ---\n",
    " | | | |\n",
    "data_train | data_train_int | data_train_int_nodrop | 16 860 |\n",
    " | | data_train_int_drop2 | 15 418 | (-8.6%)\n",
    " | | | |\n",
    " | data_train_fillna0 | data_train_fillna0_nodrop | 16 860 |\n",
    " | | data_train_fillna0_drop2 | 15 405 | (-8.6%)\n",
    " | | | |\n",
    " | data_train_dropNA | data_train_dropNA_nodrop | 11 017 | (-34.7%)\n",
    " |  | data_train_dropNA_drop2 | 11 017 | (-34.7%)\n",
    " --- |--- | --- | --- | ---\n",
    "data_test | | | 5 856 |"
   ]
  },
  {
   "cell_type": "markdown",
   "metadata": {},
   "source": [
    "## Загрузка и подготовка данных\n",
    "1.1. Откройте файлы и изучите их.\n",
    "Путь к файлам:\n",
    "* /datasets/gold_recovery_train.csv.\n",
    "* /datasets/gold_recovery_test.csv.\n",
    "* /datasets/gold_recovery_full.csv.  \n",
    "\n",
    "1.2. Проверьте, что эффективность обогащения рассчитана правильно.\n",
    "Вычислите её на обучающей выборке для признака rougher.output.recovery.\n",
    "Найдите MAE между вашими расчётами и значением признака. Опишите\n",
    "выводы.  \n",
    "1.3. Проанализируйте признаки, недоступные в тестовой выборке. Что это\n",
    "за параметры? К какому типу относятся?  \n",
    "1.4. Проведите предобработку данных."
   ]
  },
  {
   "cell_type": "markdown",
   "metadata": {},
   "source": [
    "### Импорт библиотек"
   ]
  },
  {
   "cell_type": "code",
   "execution_count": 1,
   "metadata": {},
   "outputs": [],
   "source": [
    "import pandas as pd\n",
    "import numpy as np\n",
    "import matplotlib.pyplot as plt\n",
    "import seaborn as sns\n",
    "\n",
    "from IPython.display import display\n",
    "#from scipy import stats as st\n",
    "\n",
    "from sklearn.preprocessing import StandardScaler \n",
    "from sklearn.utils import shuffle\n",
    "from sklearn.model_selection import GridSearchCV, KFold, cross_val_score #, train_test_split\n",
    "from sklearn.tree import DecisionTreeRegressor #,DecisionTreeClassifier, plot_tree\n",
    "from sklearn.ensemble import RandomForestRegressor #RandomForestClassifier\n",
    "from sklearn.linear_model import LinearRegression #,LogisticRegression \n",
    "from sklearn.dummy import DummyRegressor#, DummyClassifier\n",
    "from sklearn.metrics import mean_absolute_error, make_scorer #, mean_squared_error, r2_score, accuracy_score, f1_score, confusion_matrix, roc_auc_score\n"
   ]
  },
  {
   "cell_type": "markdown",
   "metadata": {},
   "source": [
    "### Загрузка данных"
   ]
  },
  {
   "cell_type": "code",
   "execution_count": 2,
   "metadata": {},
   "outputs": [],
   "source": [
    "data_train = pd.read_csv('https://code.s3.yandex.net/datasets/gold_recovery_train.csv')\n",
    "data_test = pd.read_csv('https://code.s3.yandex.net/datasets/gold_recovery_test.csv')\n",
    "data_full = pd.read_csv('https://code.s3.yandex.net/datasets/gold_recovery_full.csv')"
   ]
  },
  {
   "cell_type": "markdown",
   "metadata": {},
   "source": [
    "### Изучение данных"
   ]
  },
  {
   "cell_type": "code",
   "execution_count": 3,
   "metadata": {},
   "outputs": [
    {
     "data": {
      "text/html": [
       "<div>\n",
       "<style scoped>\n",
       "    .dataframe tbody tr th:only-of-type {\n",
       "        vertical-align: middle;\n",
       "    }\n",
       "\n",
       "    .dataframe tbody tr th {\n",
       "        vertical-align: top;\n",
       "    }\n",
       "\n",
       "    .dataframe thead th {\n",
       "        text-align: right;\n",
       "    }\n",
       "</style>\n",
       "<table border=\"1\" class=\"dataframe\">\n",
       "  <thead>\n",
       "    <tr style=\"text-align: right;\">\n",
       "      <th></th>\n",
       "      <th>9939</th>\n",
       "      <th>5850</th>\n",
       "      <th>13901</th>\n",
       "    </tr>\n",
       "  </thead>\n",
       "  <tbody>\n",
       "    <tr>\n",
       "      <td>date</td>\n",
       "      <td>2017-07-04 02:59:59</td>\n",
       "      <td>2017-01-14 17:59:59</td>\n",
       "      <td>2018-04-17 04:59:59</td>\n",
       "    </tr>\n",
       "    <tr>\n",
       "      <td>final.output.concentrate_ag</td>\n",
       "      <td>3.4409</td>\n",
       "      <td>0</td>\n",
       "      <td>5.63519</td>\n",
       "    </tr>\n",
       "    <tr>\n",
       "      <td>final.output.concentrate_pb</td>\n",
       "      <td>9.90126</td>\n",
       "      <td>0</td>\n",
       "      <td>8.64796</td>\n",
       "    </tr>\n",
       "    <tr>\n",
       "      <td>final.output.concentrate_sol</td>\n",
       "      <td>8.10889</td>\n",
       "      <td>0</td>\n",
       "      <td>7.85479</td>\n",
       "    </tr>\n",
       "    <tr>\n",
       "      <td>final.output.concentrate_au</td>\n",
       "      <td>48.2737</td>\n",
       "      <td>0</td>\n",
       "      <td>46.8532</td>\n",
       "    </tr>\n",
       "    <tr>\n",
       "      <td>final.output.recovery</td>\n",
       "      <td>66.2147</td>\n",
       "      <td>NaN</td>\n",
       "      <td>69.6025</td>\n",
       "    </tr>\n",
       "    <tr>\n",
       "      <td>final.output.tail_ag</td>\n",
       "      <td>8.05744</td>\n",
       "      <td>0</td>\n",
       "      <td>12.8272</td>\n",
       "    </tr>\n",
       "    <tr>\n",
       "      <td>final.output.tail_pb</td>\n",
       "      <td>3.01376</td>\n",
       "      <td>0</td>\n",
       "      <td>1.85161</td>\n",
       "    </tr>\n",
       "    <tr>\n",
       "      <td>final.output.tail_sol</td>\n",
       "      <td>11.1059</td>\n",
       "      <td>0</td>\n",
       "      <td>5.32683</td>\n",
       "    </tr>\n",
       "    <tr>\n",
       "      <td>final.output.tail_au</td>\n",
       "      <td>2.69657</td>\n",
       "      <td>0</td>\n",
       "      <td>2.12929</td>\n",
       "    </tr>\n",
       "    <tr>\n",
       "      <td>primary_cleaner.input.sulfate</td>\n",
       "      <td>139.365</td>\n",
       "      <td>0.0301903</td>\n",
       "      <td>96.8874</td>\n",
       "    </tr>\n",
       "    <tr>\n",
       "      <td>primary_cleaner.input.depressant</td>\n",
       "      <td>8.45574</td>\n",
       "      <td>0</td>\n",
       "      <td>10.0027</td>\n",
       "    </tr>\n",
       "    <tr>\n",
       "      <td>primary_cleaner.input.feed_size</td>\n",
       "      <td>7.63</td>\n",
       "      <td>7.05</td>\n",
       "      <td>6.29667</td>\n",
       "    </tr>\n",
       "    <tr>\n",
       "      <td>primary_cleaner.input.xanthate</td>\n",
       "      <td>0.704683</td>\n",
       "      <td>0.00280995</td>\n",
       "      <td>0.990438</td>\n",
       "    </tr>\n",
       "    <tr>\n",
       "      <td>primary_cleaner.output.concentrate_ag</td>\n",
       "      <td>6.39379</td>\n",
       "      <td>0</td>\n",
       "      <td>10.4916</td>\n",
       "    </tr>\n",
       "    <tr>\n",
       "      <td>primary_cleaner.output.concentrate_pb</td>\n",
       "      <td>11.3255</td>\n",
       "      <td>0</td>\n",
       "      <td>6.37904</td>\n",
       "    </tr>\n",
       "    <tr>\n",
       "      <td>primary_cleaner.output.concentrate_sol</td>\n",
       "      <td>8.75455</td>\n",
       "      <td>0</td>\n",
       "      <td>7.76313</td>\n",
       "    </tr>\n",
       "    <tr>\n",
       "      <td>primary_cleaner.output.concentrate_au</td>\n",
       "      <td>37.4424</td>\n",
       "      <td>0</td>\n",
       "      <td>29.0509</td>\n",
       "    </tr>\n",
       "    <tr>\n",
       "      <td>primary_cleaner.output.tail_ag</td>\n",
       "      <td>13.579</td>\n",
       "      <td>0</td>\n",
       "      <td>21.7512</td>\n",
       "    </tr>\n",
       "    <tr>\n",
       "      <td>primary_cleaner.output.tail_pb</td>\n",
       "      <td>2.31954</td>\n",
       "      <td>0</td>\n",
       "      <td>4.81526</td>\n",
       "    </tr>\n",
       "    <tr>\n",
       "      <td>primary_cleaner.output.tail_sol</td>\n",
       "      <td>8.60071</td>\n",
       "      <td>0</td>\n",
       "      <td>6.33554</td>\n",
       "    </tr>\n",
       "    <tr>\n",
       "      <td>primary_cleaner.output.tail_au</td>\n",
       "      <td>2.72646</td>\n",
       "      <td>0</td>\n",
       "      <td>2.98005</td>\n",
       "    </tr>\n",
       "    <tr>\n",
       "      <td>primary_cleaner.state.floatbank8_a_air</td>\n",
       "      <td>1698.21</td>\n",
       "      <td>0</td>\n",
       "      <td>1635.76</td>\n",
       "    </tr>\n",
       "    <tr>\n",
       "      <td>primary_cleaner.state.floatbank8_a_level</td>\n",
       "      <td>-498.725</td>\n",
       "      <td>-796.956</td>\n",
       "      <td>-500.82</td>\n",
       "    </tr>\n",
       "    <tr>\n",
       "      <td>primary_cleaner.state.floatbank8_b_air</td>\n",
       "      <td>1699.49</td>\n",
       "      <td>0</td>\n",
       "      <td>1701.98</td>\n",
       "    </tr>\n",
       "    <tr>\n",
       "      <td>primary_cleaner.state.floatbank8_b_level</td>\n",
       "      <td>-499.811</td>\n",
       "      <td>-799.967</td>\n",
       "      <td>-499.009</td>\n",
       "    </tr>\n",
       "    <tr>\n",
       "      <td>primary_cleaner.state.floatbank8_c_air</td>\n",
       "      <td>1698.96</td>\n",
       "      <td>0</td>\n",
       "      <td>1699.37</td>\n",
       "    </tr>\n",
       "    <tr>\n",
       "      <td>primary_cleaner.state.floatbank8_c_level</td>\n",
       "      <td>-500.112</td>\n",
       "      <td>-799.942</td>\n",
       "      <td>-500.959</td>\n",
       "    </tr>\n",
       "    <tr>\n",
       "      <td>primary_cleaner.state.floatbank8_d_air</td>\n",
       "      <td>1703.17</td>\n",
       "      <td>0</td>\n",
       "      <td>1469.45</td>\n",
       "    </tr>\n",
       "    <tr>\n",
       "      <td>primary_cleaner.state.floatbank8_d_level</td>\n",
       "      <td>-502.397</td>\n",
       "      <td>-799.818</td>\n",
       "      <td>-718.765</td>\n",
       "    </tr>\n",
       "    <tr>\n",
       "      <td>rougher.calculation.sulfate_to_au_concentrate</td>\n",
       "      <td>49985.4</td>\n",
       "      <td>-712.457</td>\n",
       "      <td>48203.4</td>\n",
       "    </tr>\n",
       "    <tr>\n",
       "      <td>rougher.calculation.floatbank10_sulfate_to_au_feed</td>\n",
       "      <td>4538.73</td>\n",
       "      <td>-0.188349</td>\n",
       "      <td>2510.2</td>\n",
       "    </tr>\n",
       "    <tr>\n",
       "      <td>rougher.calculation.floatbank11_sulfate_to_au_feed</td>\n",
       "      <td>4538.62</td>\n",
       "      <td>-0.396757</td>\n",
       "      <td>2510.1</td>\n",
       "    </tr>\n",
       "    <tr>\n",
       "      <td>rougher.calculation.au_pb_ratio</td>\n",
       "      <td>2.1098</td>\n",
       "      <td>NaN</td>\n",
       "      <td>2.52417</td>\n",
       "    </tr>\n",
       "    <tr>\n",
       "      <td>rougher.input.feed_ag</td>\n",
       "      <td>7.60513</td>\n",
       "      <td>0</td>\n",
       "      <td>10.5862</td>\n",
       "    </tr>\n",
       "    <tr>\n",
       "      <td>rougher.input.feed_pb</td>\n",
       "      <td>3.40977</td>\n",
       "      <td>0</td>\n",
       "      <td>2.51354</td>\n",
       "    </tr>\n",
       "    <tr>\n",
       "      <td>rougher.input.feed_rate</td>\n",
       "      <td>501.501</td>\n",
       "      <td>0.219044</td>\n",
       "      <td>378.859</td>\n",
       "    </tr>\n",
       "    <tr>\n",
       "      <td>rougher.input.feed_size</td>\n",
       "      <td>55.0955</td>\n",
       "      <td>45.1835</td>\n",
       "      <td>55.6913</td>\n",
       "    </tr>\n",
       "    <tr>\n",
       "      <td>rougher.input.feed_sol</td>\n",
       "      <td>37.9579</td>\n",
       "      <td>0</td>\n",
       "      <td>39.777</td>\n",
       "    </tr>\n",
       "    <tr>\n",
       "      <td>rougher.input.feed_au</td>\n",
       "      <td>7.19393</td>\n",
       "      <td>0</td>\n",
       "      <td>6.3446</td>\n",
       "    </tr>\n",
       "    <tr>\n",
       "      <td>rougher.input.floatbank10_sulfate</td>\n",
       "      <td>17.0014</td>\n",
       "      <td>0.0172462</td>\n",
       "      <td>5.02535</td>\n",
       "    </tr>\n",
       "    <tr>\n",
       "      <td>rougher.input.floatbank10_xanthate</td>\n",
       "      <td>5.39759</td>\n",
       "      <td>0.0101824</td>\n",
       "      <td>7.59752</td>\n",
       "    </tr>\n",
       "    <tr>\n",
       "      <td>rougher.input.floatbank11_sulfate</td>\n",
       "      <td>17.0005</td>\n",
       "      <td>0.0361401</td>\n",
       "      <td>5.02479</td>\n",
       "    </tr>\n",
       "    <tr>\n",
       "      <td>rougher.input.floatbank11_xanthate</td>\n",
       "      <td>5.39964</td>\n",
       "      <td>NaN</td>\n",
       "      <td>7.59903</td>\n",
       "    </tr>\n",
       "    <tr>\n",
       "      <td>rougher.output.concentrate_ag</td>\n",
       "      <td>9.56283</td>\n",
       "      <td>0</td>\n",
       "      <td>15.6455</td>\n",
       "    </tr>\n",
       "    <tr>\n",
       "      <td>rougher.output.concentrate_pb</td>\n",
       "      <td>8.11536</td>\n",
       "      <td>0</td>\n",
       "      <td>6.20615</td>\n",
       "    </tr>\n",
       "    <tr>\n",
       "      <td>rougher.output.concentrate_sol</td>\n",
       "      <td>31.1983</td>\n",
       "      <td>0</td>\n",
       "      <td>23.7149</td>\n",
       "    </tr>\n",
       "    <tr>\n",
       "      <td>rougher.output.concentrate_au</td>\n",
       "      <td>21.6677</td>\n",
       "      <td>0</td>\n",
       "      <td>20.1794</td>\n",
       "    </tr>\n",
       "    <tr>\n",
       "      <td>rougher.output.recovery</td>\n",
       "      <td>78.6496</td>\n",
       "      <td>NaN</td>\n",
       "      <td>93.5913</td>\n",
       "    </tr>\n",
       "    <tr>\n",
       "      <td>rougher.output.tail_ag</td>\n",
       "      <td>6.21746</td>\n",
       "      <td>NaN</td>\n",
       "      <td>4.17797</td>\n",
       "    </tr>\n",
       "    <tr>\n",
       "      <td>rougher.output.tail_pb</td>\n",
       "      <td>0.696047</td>\n",
       "      <td>0</td>\n",
       "      <td>0.26567</td>\n",
       "    </tr>\n",
       "    <tr>\n",
       "      <td>rougher.output.tail_sol</td>\n",
       "      <td>17.2914</td>\n",
       "      <td>NaN</td>\n",
       "      <td>17.2051</td>\n",
       "    </tr>\n",
       "    <tr>\n",
       "      <td>rougher.output.tail_au</td>\n",
       "      <td>2.07875</td>\n",
       "      <td>NaN</td>\n",
       "      <td>0.576142</td>\n",
       "    </tr>\n",
       "    <tr>\n",
       "      <td>rougher.state.floatbank10_a_air</td>\n",
       "      <td>999.359</td>\n",
       "      <td>-0.0264535</td>\n",
       "      <td>1101.02</td>\n",
       "    </tr>\n",
       "    <tr>\n",
       "      <td>rougher.state.floatbank10_a_level</td>\n",
       "      <td>-300.235</td>\n",
       "      <td>-649.801</td>\n",
       "      <td>-299.812</td>\n",
       "    </tr>\n",
       "    <tr>\n",
       "      <td>rougher.state.floatbank10_b_air</td>\n",
       "      <td>1402.31</td>\n",
       "      <td>-0.692376</td>\n",
       "      <td>1100.86</td>\n",
       "    </tr>\n",
       "    <tr>\n",
       "      <td>rougher.state.floatbank10_b_level</td>\n",
       "      <td>-400.587</td>\n",
       "      <td>-650.113</td>\n",
       "      <td>-499.545</td>\n",
       "    </tr>\n",
       "    <tr>\n",
       "      <td>rougher.state.floatbank10_c_air</td>\n",
       "      <td>1401.9</td>\n",
       "      <td>-0.0238632</td>\n",
       "      <td>1000.58</td>\n",
       "    </tr>\n",
       "    <tr>\n",
       "      <td>rougher.state.floatbank10_c_level</td>\n",
       "      <td>-399.885</td>\n",
       "      <td>-646.219</td>\n",
       "      <td>-499.704</td>\n",
       "    </tr>\n",
       "    <tr>\n",
       "      <td>rougher.state.floatbank10_d_air</td>\n",
       "      <td>1298.23</td>\n",
       "      <td>-0.843367</td>\n",
       "      <td>951.626</td>\n",
       "    </tr>\n",
       "    <tr>\n",
       "      <td>rougher.state.floatbank10_d_level</td>\n",
       "      <td>-397.476</td>\n",
       "      <td>-599.064</td>\n",
       "      <td>-500.084</td>\n",
       "    </tr>\n",
       "    <tr>\n",
       "      <td>rougher.state.floatbank10_e_air</td>\n",
       "      <td>1202.13</td>\n",
       "      <td>-1.96512</td>\n",
       "      <td>950.798</td>\n",
       "    </tr>\n",
       "    <tr>\n",
       "      <td>rougher.state.floatbank10_e_level</td>\n",
       "      <td>-398.903</td>\n",
       "      <td>-641.634</td>\n",
       "      <td>-499.706</td>\n",
       "    </tr>\n",
       "    <tr>\n",
       "      <td>rougher.state.floatbank10_f_air</td>\n",
       "      <td>1103.23</td>\n",
       "      <td>-2.37808</td>\n",
       "      <td>900.654</td>\n",
       "    </tr>\n",
       "    <tr>\n",
       "      <td>rougher.state.floatbank10_f_level</td>\n",
       "      <td>-401.002</td>\n",
       "      <td>-649.891</td>\n",
       "      <td>-500.368</td>\n",
       "    </tr>\n",
       "    <tr>\n",
       "      <td>secondary_cleaner.output.tail_ag</td>\n",
       "      <td>16.8303</td>\n",
       "      <td>0</td>\n",
       "      <td>20.1469</td>\n",
       "    </tr>\n",
       "    <tr>\n",
       "      <td>secondary_cleaner.output.tail_pb</td>\n",
       "      <td>6.92022</td>\n",
       "      <td>0</td>\n",
       "      <td>6.08992</td>\n",
       "    </tr>\n",
       "    <tr>\n",
       "      <td>secondary_cleaner.output.tail_sol</td>\n",
       "      <td>3.35787</td>\n",
       "      <td>0</td>\n",
       "      <td>2.22196</td>\n",
       "    </tr>\n",
       "    <tr>\n",
       "      <td>secondary_cleaner.output.tail_au</td>\n",
       "      <td>3.32847</td>\n",
       "      <td>0</td>\n",
       "      <td>4.02658</td>\n",
       "    </tr>\n",
       "    <tr>\n",
       "      <td>secondary_cleaner.state.floatbank2_a_air</td>\n",
       "      <td>35.0842</td>\n",
       "      <td>0.00287135</td>\n",
       "      <td>29.9507</td>\n",
       "    </tr>\n",
       "    <tr>\n",
       "      <td>secondary_cleaner.state.floatbank2_a_level</td>\n",
       "      <td>-499.815</td>\n",
       "      <td>-799.572</td>\n",
       "      <td>-500.715</td>\n",
       "    </tr>\n",
       "    <tr>\n",
       "      <td>secondary_cleaner.state.floatbank2_b_air</td>\n",
       "      <td>27.0437</td>\n",
       "      <td>0</td>\n",
       "      <td>27.9813</td>\n",
       "    </tr>\n",
       "    <tr>\n",
       "      <td>secondary_cleaner.state.floatbank2_b_level</td>\n",
       "      <td>-499.758</td>\n",
       "      <td>-736.211</td>\n",
       "      <td>-500.277</td>\n",
       "    </tr>\n",
       "    <tr>\n",
       "      <td>secondary_cleaner.state.floatbank3_a_air</td>\n",
       "      <td>24.9518</td>\n",
       "      <td>0</td>\n",
       "      <td>32.0357</td>\n",
       "    </tr>\n",
       "    <tr>\n",
       "      <td>secondary_cleaner.state.floatbank3_a_level</td>\n",
       "      <td>-499.569</td>\n",
       "      <td>-470.856</td>\n",
       "      <td>-500</td>\n",
       "    </tr>\n",
       "    <tr>\n",
       "      <td>secondary_cleaner.state.floatbank3_b_air</td>\n",
       "      <td>19.9474</td>\n",
       "      <td>0</td>\n",
       "      <td>20.0004</td>\n",
       "    </tr>\n",
       "    <tr>\n",
       "      <td>secondary_cleaner.state.floatbank3_b_level</td>\n",
       "      <td>-499.429</td>\n",
       "      <td>-756.587</td>\n",
       "      <td>-500.049</td>\n",
       "    </tr>\n",
       "    <tr>\n",
       "      <td>secondary_cleaner.state.floatbank4_a_air</td>\n",
       "      <td>19.4062</td>\n",
       "      <td>0</td>\n",
       "      <td>27</td>\n",
       "    </tr>\n",
       "    <tr>\n",
       "      <td>secondary_cleaner.state.floatbank4_a_level</td>\n",
       "      <td>-499.432</td>\n",
       "      <td>-799.71</td>\n",
       "      <td>-499.043</td>\n",
       "    </tr>\n",
       "    <tr>\n",
       "      <td>secondary_cleaner.state.floatbank4_b_air</td>\n",
       "      <td>13.0358</td>\n",
       "      <td>0</td>\n",
       "      <td>20.107</td>\n",
       "    </tr>\n",
       "    <tr>\n",
       "      <td>secondary_cleaner.state.floatbank4_b_level</td>\n",
       "      <td>-379.423</td>\n",
       "      <td>-799.866</td>\n",
       "      <td>-498.985</td>\n",
       "    </tr>\n",
       "    <tr>\n",
       "      <td>secondary_cleaner.state.floatbank5_a_air</td>\n",
       "      <td>17.9488</td>\n",
       "      <td>-0.294042</td>\n",
       "      <td>17.9931</td>\n",
       "    </tr>\n",
       "    <tr>\n",
       "      <td>secondary_cleaner.state.floatbank5_a_level</td>\n",
       "      <td>-499.233</td>\n",
       "      <td>-796.484</td>\n",
       "      <td>-500.13</td>\n",
       "    </tr>\n",
       "    <tr>\n",
       "      <td>secondary_cleaner.state.floatbank5_b_air</td>\n",
       "      <td>12.9841</td>\n",
       "      <td>0.648129</td>\n",
       "      <td>12.0112</td>\n",
       "    </tr>\n",
       "    <tr>\n",
       "      <td>secondary_cleaner.state.floatbank5_b_level</td>\n",
       "      <td>-499.917</td>\n",
       "      <td>-800.027</td>\n",
       "      <td>-499.966</td>\n",
       "    </tr>\n",
       "    <tr>\n",
       "      <td>secondary_cleaner.state.floatbank6_a_air</td>\n",
       "      <td>15.0041</td>\n",
       "      <td>0.160417</td>\n",
       "      <td>15.0027</td>\n",
       "    </tr>\n",
       "    <tr>\n",
       "      <td>secondary_cleaner.state.floatbank6_a_level</td>\n",
       "      <td>-499.085</td>\n",
       "      <td>-809.71</td>\n",
       "      <td>-500.332</td>\n",
       "    </tr>\n",
       "  </tbody>\n",
       "</table>\n",
       "</div>"
      ],
      "text/plain": [
       "                                                                  9939   \\\n",
       "date                                                2017-07-04 02:59:59   \n",
       "final.output.concentrate_ag                                      3.4409   \n",
       "final.output.concentrate_pb                                     9.90126   \n",
       "final.output.concentrate_sol                                    8.10889   \n",
       "final.output.concentrate_au                                     48.2737   \n",
       "final.output.recovery                                           66.2147   \n",
       "final.output.tail_ag                                            8.05744   \n",
       "final.output.tail_pb                                            3.01376   \n",
       "final.output.tail_sol                                           11.1059   \n",
       "final.output.tail_au                                            2.69657   \n",
       "primary_cleaner.input.sulfate                                   139.365   \n",
       "primary_cleaner.input.depressant                                8.45574   \n",
       "primary_cleaner.input.feed_size                                    7.63   \n",
       "primary_cleaner.input.xanthate                                 0.704683   \n",
       "primary_cleaner.output.concentrate_ag                           6.39379   \n",
       "primary_cleaner.output.concentrate_pb                           11.3255   \n",
       "primary_cleaner.output.concentrate_sol                          8.75455   \n",
       "primary_cleaner.output.concentrate_au                           37.4424   \n",
       "primary_cleaner.output.tail_ag                                   13.579   \n",
       "primary_cleaner.output.tail_pb                                  2.31954   \n",
       "primary_cleaner.output.tail_sol                                 8.60071   \n",
       "primary_cleaner.output.tail_au                                  2.72646   \n",
       "primary_cleaner.state.floatbank8_a_air                          1698.21   \n",
       "primary_cleaner.state.floatbank8_a_level                       -498.725   \n",
       "primary_cleaner.state.floatbank8_b_air                          1699.49   \n",
       "primary_cleaner.state.floatbank8_b_level                       -499.811   \n",
       "primary_cleaner.state.floatbank8_c_air                          1698.96   \n",
       "primary_cleaner.state.floatbank8_c_level                       -500.112   \n",
       "primary_cleaner.state.floatbank8_d_air                          1703.17   \n",
       "primary_cleaner.state.floatbank8_d_level                       -502.397   \n",
       "rougher.calculation.sulfate_to_au_concentrate                   49985.4   \n",
       "rougher.calculation.floatbank10_sulfate_to_au_feed              4538.73   \n",
       "rougher.calculation.floatbank11_sulfate_to_au_feed              4538.62   \n",
       "rougher.calculation.au_pb_ratio                                  2.1098   \n",
       "rougher.input.feed_ag                                           7.60513   \n",
       "rougher.input.feed_pb                                           3.40977   \n",
       "rougher.input.feed_rate                                         501.501   \n",
       "rougher.input.feed_size                                         55.0955   \n",
       "rougher.input.feed_sol                                          37.9579   \n",
       "rougher.input.feed_au                                           7.19393   \n",
       "rougher.input.floatbank10_sulfate                               17.0014   \n",
       "rougher.input.floatbank10_xanthate                              5.39759   \n",
       "rougher.input.floatbank11_sulfate                               17.0005   \n",
       "rougher.input.floatbank11_xanthate                              5.39964   \n",
       "rougher.output.concentrate_ag                                   9.56283   \n",
       "rougher.output.concentrate_pb                                   8.11536   \n",
       "rougher.output.concentrate_sol                                  31.1983   \n",
       "rougher.output.concentrate_au                                   21.6677   \n",
       "rougher.output.recovery                                         78.6496   \n",
       "rougher.output.tail_ag                                          6.21746   \n",
       "rougher.output.tail_pb                                         0.696047   \n",
       "rougher.output.tail_sol                                         17.2914   \n",
       "rougher.output.tail_au                                          2.07875   \n",
       "rougher.state.floatbank10_a_air                                 999.359   \n",
       "rougher.state.floatbank10_a_level                              -300.235   \n",
       "rougher.state.floatbank10_b_air                                 1402.31   \n",
       "rougher.state.floatbank10_b_level                              -400.587   \n",
       "rougher.state.floatbank10_c_air                                  1401.9   \n",
       "rougher.state.floatbank10_c_level                              -399.885   \n",
       "rougher.state.floatbank10_d_air                                 1298.23   \n",
       "rougher.state.floatbank10_d_level                              -397.476   \n",
       "rougher.state.floatbank10_e_air                                 1202.13   \n",
       "rougher.state.floatbank10_e_level                              -398.903   \n",
       "rougher.state.floatbank10_f_air                                 1103.23   \n",
       "rougher.state.floatbank10_f_level                              -401.002   \n",
       "secondary_cleaner.output.tail_ag                                16.8303   \n",
       "secondary_cleaner.output.tail_pb                                6.92022   \n",
       "secondary_cleaner.output.tail_sol                               3.35787   \n",
       "secondary_cleaner.output.tail_au                                3.32847   \n",
       "secondary_cleaner.state.floatbank2_a_air                        35.0842   \n",
       "secondary_cleaner.state.floatbank2_a_level                     -499.815   \n",
       "secondary_cleaner.state.floatbank2_b_air                        27.0437   \n",
       "secondary_cleaner.state.floatbank2_b_level                     -499.758   \n",
       "secondary_cleaner.state.floatbank3_a_air                        24.9518   \n",
       "secondary_cleaner.state.floatbank3_a_level                     -499.569   \n",
       "secondary_cleaner.state.floatbank3_b_air                        19.9474   \n",
       "secondary_cleaner.state.floatbank3_b_level                     -499.429   \n",
       "secondary_cleaner.state.floatbank4_a_air                        19.4062   \n",
       "secondary_cleaner.state.floatbank4_a_level                     -499.432   \n",
       "secondary_cleaner.state.floatbank4_b_air                        13.0358   \n",
       "secondary_cleaner.state.floatbank4_b_level                     -379.423   \n",
       "secondary_cleaner.state.floatbank5_a_air                        17.9488   \n",
       "secondary_cleaner.state.floatbank5_a_level                     -499.233   \n",
       "secondary_cleaner.state.floatbank5_b_air                        12.9841   \n",
       "secondary_cleaner.state.floatbank5_b_level                     -499.917   \n",
       "secondary_cleaner.state.floatbank6_a_air                        15.0041   \n",
       "secondary_cleaner.state.floatbank6_a_level                     -499.085   \n",
       "\n",
       "                                                                  5850   \\\n",
       "date                                                2017-01-14 17:59:59   \n",
       "final.output.concentrate_ag                                           0   \n",
       "final.output.concentrate_pb                                           0   \n",
       "final.output.concentrate_sol                                          0   \n",
       "final.output.concentrate_au                                           0   \n",
       "final.output.recovery                                               NaN   \n",
       "final.output.tail_ag                                                  0   \n",
       "final.output.tail_pb                                                  0   \n",
       "final.output.tail_sol                                                 0   \n",
       "final.output.tail_au                                                  0   \n",
       "primary_cleaner.input.sulfate                                 0.0301903   \n",
       "primary_cleaner.input.depressant                                      0   \n",
       "primary_cleaner.input.feed_size                                    7.05   \n",
       "primary_cleaner.input.xanthate                               0.00280995   \n",
       "primary_cleaner.output.concentrate_ag                                 0   \n",
       "primary_cleaner.output.concentrate_pb                                 0   \n",
       "primary_cleaner.output.concentrate_sol                                0   \n",
       "primary_cleaner.output.concentrate_au                                 0   \n",
       "primary_cleaner.output.tail_ag                                        0   \n",
       "primary_cleaner.output.tail_pb                                        0   \n",
       "primary_cleaner.output.tail_sol                                       0   \n",
       "primary_cleaner.output.tail_au                                        0   \n",
       "primary_cleaner.state.floatbank8_a_air                                0   \n",
       "primary_cleaner.state.floatbank8_a_level                       -796.956   \n",
       "primary_cleaner.state.floatbank8_b_air                                0   \n",
       "primary_cleaner.state.floatbank8_b_level                       -799.967   \n",
       "primary_cleaner.state.floatbank8_c_air                                0   \n",
       "primary_cleaner.state.floatbank8_c_level                       -799.942   \n",
       "primary_cleaner.state.floatbank8_d_air                                0   \n",
       "primary_cleaner.state.floatbank8_d_level                       -799.818   \n",
       "rougher.calculation.sulfate_to_au_concentrate                  -712.457   \n",
       "rougher.calculation.floatbank10_sulfate_to_au_feed            -0.188349   \n",
       "rougher.calculation.floatbank11_sulfate_to_au_feed            -0.396757   \n",
       "rougher.calculation.au_pb_ratio                                     NaN   \n",
       "rougher.input.feed_ag                                                 0   \n",
       "rougher.input.feed_pb                                                 0   \n",
       "rougher.input.feed_rate                                        0.219044   \n",
       "rougher.input.feed_size                                         45.1835   \n",
       "rougher.input.feed_sol                                                0   \n",
       "rougher.input.feed_au                                                 0   \n",
       "rougher.input.floatbank10_sulfate                             0.0172462   \n",
       "rougher.input.floatbank10_xanthate                            0.0101824   \n",
       "rougher.input.floatbank11_sulfate                             0.0361401   \n",
       "rougher.input.floatbank11_xanthate                                  NaN   \n",
       "rougher.output.concentrate_ag                                         0   \n",
       "rougher.output.concentrate_pb                                         0   \n",
       "rougher.output.concentrate_sol                                        0   \n",
       "rougher.output.concentrate_au                                         0   \n",
       "rougher.output.recovery                                             NaN   \n",
       "rougher.output.tail_ag                                              NaN   \n",
       "rougher.output.tail_pb                                                0   \n",
       "rougher.output.tail_sol                                             NaN   \n",
       "rougher.output.tail_au                                              NaN   \n",
       "rougher.state.floatbank10_a_air                              -0.0264535   \n",
       "rougher.state.floatbank10_a_level                              -649.801   \n",
       "rougher.state.floatbank10_b_air                               -0.692376   \n",
       "rougher.state.floatbank10_b_level                              -650.113   \n",
       "rougher.state.floatbank10_c_air                              -0.0238632   \n",
       "rougher.state.floatbank10_c_level                              -646.219   \n",
       "rougher.state.floatbank10_d_air                               -0.843367   \n",
       "rougher.state.floatbank10_d_level                              -599.064   \n",
       "rougher.state.floatbank10_e_air                                -1.96512   \n",
       "rougher.state.floatbank10_e_level                              -641.634   \n",
       "rougher.state.floatbank10_f_air                                -2.37808   \n",
       "rougher.state.floatbank10_f_level                              -649.891   \n",
       "secondary_cleaner.output.tail_ag                                      0   \n",
       "secondary_cleaner.output.tail_pb                                      0   \n",
       "secondary_cleaner.output.tail_sol                                     0   \n",
       "secondary_cleaner.output.tail_au                                      0   \n",
       "secondary_cleaner.state.floatbank2_a_air                     0.00287135   \n",
       "secondary_cleaner.state.floatbank2_a_level                     -799.572   \n",
       "secondary_cleaner.state.floatbank2_b_air                              0   \n",
       "secondary_cleaner.state.floatbank2_b_level                     -736.211   \n",
       "secondary_cleaner.state.floatbank3_a_air                              0   \n",
       "secondary_cleaner.state.floatbank3_a_level                     -470.856   \n",
       "secondary_cleaner.state.floatbank3_b_air                              0   \n",
       "secondary_cleaner.state.floatbank3_b_level                     -756.587   \n",
       "secondary_cleaner.state.floatbank4_a_air                              0   \n",
       "secondary_cleaner.state.floatbank4_a_level                      -799.71   \n",
       "secondary_cleaner.state.floatbank4_b_air                              0   \n",
       "secondary_cleaner.state.floatbank4_b_level                     -799.866   \n",
       "secondary_cleaner.state.floatbank5_a_air                      -0.294042   \n",
       "secondary_cleaner.state.floatbank5_a_level                     -796.484   \n",
       "secondary_cleaner.state.floatbank5_b_air                       0.648129   \n",
       "secondary_cleaner.state.floatbank5_b_level                     -800.027   \n",
       "secondary_cleaner.state.floatbank6_a_air                       0.160417   \n",
       "secondary_cleaner.state.floatbank6_a_level                      -809.71   \n",
       "\n",
       "                                                                  13901  \n",
       "date                                                2018-04-17 04:59:59  \n",
       "final.output.concentrate_ag                                     5.63519  \n",
       "final.output.concentrate_pb                                     8.64796  \n",
       "final.output.concentrate_sol                                    7.85479  \n",
       "final.output.concentrate_au                                     46.8532  \n",
       "final.output.recovery                                           69.6025  \n",
       "final.output.tail_ag                                            12.8272  \n",
       "final.output.tail_pb                                            1.85161  \n",
       "final.output.tail_sol                                           5.32683  \n",
       "final.output.tail_au                                            2.12929  \n",
       "primary_cleaner.input.sulfate                                   96.8874  \n",
       "primary_cleaner.input.depressant                                10.0027  \n",
       "primary_cleaner.input.feed_size                                 6.29667  \n",
       "primary_cleaner.input.xanthate                                 0.990438  \n",
       "primary_cleaner.output.concentrate_ag                           10.4916  \n",
       "primary_cleaner.output.concentrate_pb                           6.37904  \n",
       "primary_cleaner.output.concentrate_sol                          7.76313  \n",
       "primary_cleaner.output.concentrate_au                           29.0509  \n",
       "primary_cleaner.output.tail_ag                                  21.7512  \n",
       "primary_cleaner.output.tail_pb                                  4.81526  \n",
       "primary_cleaner.output.tail_sol                                 6.33554  \n",
       "primary_cleaner.output.tail_au                                  2.98005  \n",
       "primary_cleaner.state.floatbank8_a_air                          1635.76  \n",
       "primary_cleaner.state.floatbank8_a_level                        -500.82  \n",
       "primary_cleaner.state.floatbank8_b_air                          1701.98  \n",
       "primary_cleaner.state.floatbank8_b_level                       -499.009  \n",
       "primary_cleaner.state.floatbank8_c_air                          1699.37  \n",
       "primary_cleaner.state.floatbank8_c_level                       -500.959  \n",
       "primary_cleaner.state.floatbank8_d_air                          1469.45  \n",
       "primary_cleaner.state.floatbank8_d_level                       -718.765  \n",
       "rougher.calculation.sulfate_to_au_concentrate                   48203.4  \n",
       "rougher.calculation.floatbank10_sulfate_to_au_feed               2510.2  \n",
       "rougher.calculation.floatbank11_sulfate_to_au_feed               2510.1  \n",
       "rougher.calculation.au_pb_ratio                                 2.52417  \n",
       "rougher.input.feed_ag                                           10.5862  \n",
       "rougher.input.feed_pb                                           2.51354  \n",
       "rougher.input.feed_rate                                         378.859  \n",
       "rougher.input.feed_size                                         55.6913  \n",
       "rougher.input.feed_sol                                           39.777  \n",
       "rougher.input.feed_au                                            6.3446  \n",
       "rougher.input.floatbank10_sulfate                               5.02535  \n",
       "rougher.input.floatbank10_xanthate                              7.59752  \n",
       "rougher.input.floatbank11_sulfate                               5.02479  \n",
       "rougher.input.floatbank11_xanthate                              7.59903  \n",
       "rougher.output.concentrate_ag                                   15.6455  \n",
       "rougher.output.concentrate_pb                                   6.20615  \n",
       "rougher.output.concentrate_sol                                  23.7149  \n",
       "rougher.output.concentrate_au                                   20.1794  \n",
       "rougher.output.recovery                                         93.5913  \n",
       "rougher.output.tail_ag                                          4.17797  \n",
       "rougher.output.tail_pb                                          0.26567  \n",
       "rougher.output.tail_sol                                         17.2051  \n",
       "rougher.output.tail_au                                         0.576142  \n",
       "rougher.state.floatbank10_a_air                                 1101.02  \n",
       "rougher.state.floatbank10_a_level                              -299.812  \n",
       "rougher.state.floatbank10_b_air                                 1100.86  \n",
       "rougher.state.floatbank10_b_level                              -499.545  \n",
       "rougher.state.floatbank10_c_air                                 1000.58  \n",
       "rougher.state.floatbank10_c_level                              -499.704  \n",
       "rougher.state.floatbank10_d_air                                 951.626  \n",
       "rougher.state.floatbank10_d_level                              -500.084  \n",
       "rougher.state.floatbank10_e_air                                 950.798  \n",
       "rougher.state.floatbank10_e_level                              -499.706  \n",
       "rougher.state.floatbank10_f_air                                 900.654  \n",
       "rougher.state.floatbank10_f_level                              -500.368  \n",
       "secondary_cleaner.output.tail_ag                                20.1469  \n",
       "secondary_cleaner.output.tail_pb                                6.08992  \n",
       "secondary_cleaner.output.tail_sol                               2.22196  \n",
       "secondary_cleaner.output.tail_au                                4.02658  \n",
       "secondary_cleaner.state.floatbank2_a_air                        29.9507  \n",
       "secondary_cleaner.state.floatbank2_a_level                     -500.715  \n",
       "secondary_cleaner.state.floatbank2_b_air                        27.9813  \n",
       "secondary_cleaner.state.floatbank2_b_level                     -500.277  \n",
       "secondary_cleaner.state.floatbank3_a_air                        32.0357  \n",
       "secondary_cleaner.state.floatbank3_a_level                         -500  \n",
       "secondary_cleaner.state.floatbank3_b_air                        20.0004  \n",
       "secondary_cleaner.state.floatbank3_b_level                     -500.049  \n",
       "secondary_cleaner.state.floatbank4_a_air                             27  \n",
       "secondary_cleaner.state.floatbank4_a_level                     -499.043  \n",
       "secondary_cleaner.state.floatbank4_b_air                         20.107  \n",
       "secondary_cleaner.state.floatbank4_b_level                     -498.985  \n",
       "secondary_cleaner.state.floatbank5_a_air                        17.9931  \n",
       "secondary_cleaner.state.floatbank5_a_level                      -500.13  \n",
       "secondary_cleaner.state.floatbank5_b_air                        12.0112  \n",
       "secondary_cleaner.state.floatbank5_b_level                     -499.966  \n",
       "secondary_cleaner.state.floatbank6_a_air                        15.0027  \n",
       "secondary_cleaner.state.floatbank6_a_level                     -500.332  "
      ]
     },
     "metadata": {},
     "output_type": "display_data"
    }
   ],
   "source": [
    "with pd.option_context('display.max_rows', None, 'display.max_columns', 3):\n",
    "    display(data_train.sample(3).T)\n",
    "#display(data_test.sample(3))\n",
    "#display(data_full.sample(3))"
   ]
  },
  {
   "cell_type": "code",
   "execution_count": 4,
   "metadata": {
    "scrolled": true
   },
   "outputs": [
    {
     "name": "stdout",
     "output_type": "stream",
     "text": [
      "<class 'pandas.core.frame.DataFrame'>\n",
      "RangeIndex: 22716 entries, 0 to 22715\n",
      "Data columns (total 87 columns):\n",
      "date                                                  22716 non-null object\n",
      "final.output.concentrate_ag                           22627 non-null float64\n",
      "final.output.concentrate_pb                           22629 non-null float64\n",
      "final.output.concentrate_sol                          22331 non-null float64\n",
      "final.output.concentrate_au                           22630 non-null float64\n",
      "final.output.recovery                                 20753 non-null float64\n",
      "final.output.tail_ag                                  22633 non-null float64\n",
      "final.output.tail_pb                                  22516 non-null float64\n",
      "final.output.tail_sol                                 22445 non-null float64\n",
      "final.output.tail_au                                  22635 non-null float64\n",
      "primary_cleaner.input.sulfate                         21107 non-null float64\n",
      "primary_cleaner.input.depressant                      21170 non-null float64\n",
      "primary_cleaner.input.feed_size                       22716 non-null float64\n",
      "primary_cleaner.input.xanthate                        21565 non-null float64\n",
      "primary_cleaner.output.concentrate_ag                 22618 non-null float64\n",
      "primary_cleaner.output.concentrate_pb                 22268 non-null float64\n",
      "primary_cleaner.output.concentrate_sol                21918 non-null float64\n",
      "primary_cleaner.output.concentrate_au                 22618 non-null float64\n",
      "primary_cleaner.output.tail_ag                        22614 non-null float64\n",
      "primary_cleaner.output.tail_pb                        22594 non-null float64\n",
      "primary_cleaner.output.tail_sol                       22365 non-null float64\n",
      "primary_cleaner.output.tail_au                        22617 non-null float64\n",
      "primary_cleaner.state.floatbank8_a_air                22660 non-null float64\n",
      "primary_cleaner.state.floatbank8_a_level              22667 non-null float64\n",
      "primary_cleaner.state.floatbank8_b_air                22660 non-null float64\n",
      "primary_cleaner.state.floatbank8_b_level              22673 non-null float64\n",
      "primary_cleaner.state.floatbank8_c_air                22662 non-null float64\n",
      "primary_cleaner.state.floatbank8_c_level              22673 non-null float64\n",
      "primary_cleaner.state.floatbank8_d_air                22661 non-null float64\n",
      "primary_cleaner.state.floatbank8_d_level              22673 non-null float64\n",
      "rougher.calculation.sulfate_to_au_concentrate         22672 non-null float64\n",
      "rougher.calculation.floatbank10_sulfate_to_au_feed    22672 non-null float64\n",
      "rougher.calculation.floatbank11_sulfate_to_au_feed    22672 non-null float64\n",
      "rougher.calculation.au_pb_ratio                       21089 non-null float64\n",
      "rougher.input.feed_ag                                 22618 non-null float64\n",
      "rougher.input.feed_pb                                 22472 non-null float64\n",
      "rougher.input.feed_rate                               22163 non-null float64\n",
      "rougher.input.feed_size                               22277 non-null float64\n",
      "rougher.input.feed_sol                                22357 non-null float64\n",
      "rougher.input.feed_au                                 22617 non-null float64\n",
      "rougher.input.floatbank10_sulfate                     21415 non-null float64\n",
      "rougher.input.floatbank10_xanthate                    22247 non-null float64\n",
      "rougher.input.floatbank11_sulfate                     22038 non-null float64\n",
      "rougher.input.floatbank11_xanthate                    20459 non-null float64\n",
      "rougher.output.concentrate_ag                         22618 non-null float64\n",
      "rougher.output.concentrate_pb                         22618 non-null float64\n",
      "rougher.output.concentrate_sol                        22526 non-null float64\n",
      "rougher.output.concentrate_au                         22618 non-null float64\n",
      "rougher.output.recovery                               19597 non-null float64\n",
      "rougher.output.tail_ag                                19979 non-null float64\n",
      "rougher.output.tail_pb                                22618 non-null float64\n",
      "rougher.output.tail_sol                               19980 non-null float64\n",
      "rougher.output.tail_au                                19980 non-null float64\n",
      "rougher.state.floatbank10_a_air                       22646 non-null float64\n",
      "rougher.state.floatbank10_a_level                     22647 non-null float64\n",
      "rougher.state.floatbank10_b_air                       22646 non-null float64\n",
      "rougher.state.floatbank10_b_level                     22647 non-null float64\n",
      "rougher.state.floatbank10_c_air                       22646 non-null float64\n",
      "rougher.state.floatbank10_c_level                     22654 non-null float64\n",
      "rougher.state.floatbank10_d_air                       22641 non-null float64\n",
      "rougher.state.floatbank10_d_level                     22649 non-null float64\n",
      "rougher.state.floatbank10_e_air                       22096 non-null float64\n",
      "rougher.state.floatbank10_e_level                     22649 non-null float64\n",
      "rougher.state.floatbank10_f_air                       22641 non-null float64\n",
      "rougher.state.floatbank10_f_level                     22642 non-null float64\n",
      "secondary_cleaner.output.tail_ag                      22616 non-null float64\n",
      "secondary_cleaner.output.tail_pb                      22600 non-null float64\n",
      "secondary_cleaner.output.tail_sol                     20501 non-null float64\n",
      "secondary_cleaner.output.tail_au                      22618 non-null float64\n",
      "secondary_cleaner.state.floatbank2_a_air              22333 non-null float64\n",
      "secondary_cleaner.state.floatbank2_a_level            22591 non-null float64\n",
      "secondary_cleaner.state.floatbank2_b_air              22538 non-null float64\n",
      "secondary_cleaner.state.floatbank2_b_level            22588 non-null float64\n",
      "secondary_cleaner.state.floatbank3_a_air              22585 non-null float64\n",
      "secondary_cleaner.state.floatbank3_a_level            22587 non-null float64\n",
      "secondary_cleaner.state.floatbank3_b_air              22592 non-null float64\n",
      "secondary_cleaner.state.floatbank3_b_level            22590 non-null float64\n",
      "secondary_cleaner.state.floatbank4_a_air              22571 non-null float64\n",
      "secondary_cleaner.state.floatbank4_a_level            22587 non-null float64\n",
      "secondary_cleaner.state.floatbank4_b_air              22608 non-null float64\n",
      "secondary_cleaner.state.floatbank4_b_level            22607 non-null float64\n",
      "secondary_cleaner.state.floatbank5_a_air              22615 non-null float64\n",
      "secondary_cleaner.state.floatbank5_a_level            22615 non-null float64\n",
      "secondary_cleaner.state.floatbank5_b_air              22615 non-null float64\n",
      "secondary_cleaner.state.floatbank5_b_level            22616 non-null float64\n",
      "secondary_cleaner.state.floatbank6_a_air              22597 non-null float64\n",
      "secondary_cleaner.state.floatbank6_a_level            22615 non-null float64\n",
      "dtypes: float64(86), object(1)\n",
      "memory usage: 15.1+ MB\n"
     ]
    }
   ],
   "source": [
    "#data_train.info()\n",
    "#data_test.info()\n",
    "data_full.info()"
   ]
  },
  {
   "cell_type": "code",
   "execution_count": 5,
   "metadata": {},
   "outputs": [],
   "source": [
    "#переименуем названия столбцов\n",
    "for df in [data_train, data_test, data_full]:\n",
    "    columns=df.columns\n",
    "    columns1 = [row.replace('.', '_') for row in columns]\n",
    "    columns2 = [row.replace('primary_cleaner', '1cl') for row in columns1]\n",
    "    columns3 = [row.replace('rougher', '0cl') for row in columns2]\n",
    "    columns4 = [row.replace('secondary_cleaner', '2cl') for row in columns3]\n",
    "    columns5 = [row.replace('floatbank', 'fb') for row in columns4]\n",
    "    columns6 = [row.replace('concentrate', 'con') for row in columns5]\n",
    "    columns7 = [row.replace('input', 'in') for row in columns6]\n",
    "    columns8 = [row.replace('output', 'out') for row in columns7]\n",
    "    columns9 = [row.replace('state', 'st') for row in columns8]\n",
    "    columns10 = [row.replace('calculation', 'calc') for row in columns9]\n",
    "    df.set_axis(columns10, axis='columns', inplace=True)\n",
    "#data_train.info()"
   ]
  },
  {
   "cell_type": "code",
   "execution_count": 6,
   "metadata": {},
   "outputs": [],
   "source": [
    "#признаки \"полезной\" концентрации металлов на разных этапах\n",
    "au_con = ['0cl_in_feed_au', '0cl_out_con_au', '1cl_out_con_au', 'final_out_con_au']\n",
    "ag_con = ['0cl_in_feed_ag', '0cl_out_con_ag', '1cl_out_con_ag', 'final_out_con_ag']\n",
    "pb_con = ['0cl_in_feed_pb', '0cl_out_con_pb', '1cl_out_con_pb', 'final_out_con_pb']\n",
    "legend = ['сырьё', 'после флотации', 'после первичной очистки', 'после вторичной очистки']\n",
    "#признаки концентрации в \"хвостах\" на разных этапах\n",
    "au_tail = ['0cl_out_tail_au', '1cl_out_tail_au', '2cl_out_tail_au', 'final_out_tail_au'] \n",
    "ag_tail = ['0cl_out_tail_au', '1cl_out_tail_au', '2cl_out_tail_au', 'final_out_tail_au'] \n",
    "pb_tail = ['0cl_out_tail_au', '1cl_out_tail_au', '2cl_out_tail_au', 'final_out_tail_au'] \n",
    "legend_tail = ['после флотации', 'после первичной очистки', 'после вторичной очистки', 'финальные хвосты']"
   ]
  },
  {
   "cell_type": "markdown",
   "metadata": {},
   "source": [
    "### Проверка правильности расчета rougher.output.recovery"
   ]
  },
  {
   "cell_type": "code",
   "execution_count": 7,
   "metadata": {
    "scrolled": true
   },
   "outputs": [
    {
     "name": "stdout",
     "output_type": "stream",
     "text": [
      "<class 'pandas.core.frame.DataFrame'>\n",
      "RangeIndex: 16860 entries, 0 to 16859\n",
      "Data columns (total 5 columns):\n",
      "0cl_out_recovery      14287 non-null float64\n",
      "0cl_out_con_au        16778 non-null float64\n",
      "0cl_in_feed_au        16777 non-null float64\n",
      "0cl_out_tail_au       14611 non-null float64\n",
      "0cl_out_recovery_2    14577 non-null float64\n",
      "dtypes: float64(5)\n",
      "memory usage: 658.7 KB\n",
      "\n",
      "<class 'pandas.core.frame.DataFrame'>\n",
      "Int64Index: 14577 entries, 0 to 16859\n",
      "Data columns (total 5 columns):\n",
      "0cl_out_recovery      14287 non-null float64\n",
      "0cl_out_con_au        14577 non-null float64\n",
      "0cl_in_feed_au        14577 non-null float64\n",
      "0cl_out_tail_au       14577 non-null float64\n",
      "0cl_out_recovery_2    14577 non-null float64\n",
      "dtypes: float64(5)\n",
      "memory usage: 683.3 KB\n",
      "Нет первоначального расчета rougher.output.recovery\n"
     ]
    },
    {
     "data": {
      "text/html": [
       "<div>\n",
       "<style scoped>\n",
       "    .dataframe tbody tr th:only-of-type {\n",
       "        vertical-align: middle;\n",
       "    }\n",
       "\n",
       "    .dataframe tbody tr th {\n",
       "        vertical-align: top;\n",
       "    }\n",
       "\n",
       "    .dataframe thead th {\n",
       "        text-align: right;\n",
       "    }\n",
       "</style>\n",
       "<table border=\"1\" class=\"dataframe\">\n",
       "  <thead>\n",
       "    <tr style=\"text-align: right;\">\n",
       "      <th></th>\n",
       "      <th>8627</th>\n",
       "      <th>15632</th>\n",
       "      <th>7850</th>\n",
       "      <th>16326</th>\n",
       "      <th>9225</th>\n",
       "    </tr>\n",
       "  </thead>\n",
       "  <tbody>\n",
       "    <tr>\n",
       "      <td>0cl_out_recovery</td>\n",
       "      <td>NaN</td>\n",
       "      <td>NaN</td>\n",
       "      <td>NaN</td>\n",
       "      <td>NaN</td>\n",
       "      <td>NaN</td>\n",
       "    </tr>\n",
       "    <tr>\n",
       "      <td>0cl_out_con_au</td>\n",
       "      <td>21.930976</td>\n",
       "      <td>0.010000</td>\n",
       "      <td>5.275005</td>\n",
       "      <td>0.010000</td>\n",
       "      <td>0.163636</td>\n",
       "    </tr>\n",
       "    <tr>\n",
       "      <td>0cl_in_feed_au</td>\n",
       "      <td>4.131633</td>\n",
       "      <td>9.081602</td>\n",
       "      <td>6.840172</td>\n",
       "      <td>8.552027</td>\n",
       "      <td>8.644782</td>\n",
       "    </tr>\n",
       "    <tr>\n",
       "      <td>0cl_out_tail_au</td>\n",
       "      <td>4.418794</td>\n",
       "      <td>1.566207</td>\n",
       "      <td>0.956113</td>\n",
       "      <td>1.677022</td>\n",
       "      <td>2.315261</td>\n",
       "    </tr>\n",
       "    <tr>\n",
       "      <td>0cl_out_recovery_2</td>\n",
       "      <td>-8.704029</td>\n",
       "      <td>-0.531768</td>\n",
       "      <td>105.065591</td>\n",
       "      <td>-0.482239</td>\n",
       "      <td>-5.568374</td>\n",
       "    </tr>\n",
       "  </tbody>\n",
       "</table>\n",
       "</div>"
      ],
      "text/plain": [
       "                        8627      15632       7850      16326     9225 \n",
       "0cl_out_recovery          NaN       NaN         NaN       NaN       NaN\n",
       "0cl_out_con_au      21.930976  0.010000    5.275005  0.010000  0.163636\n",
       "0cl_in_feed_au       4.131633  9.081602    6.840172  8.552027  8.644782\n",
       "0cl_out_tail_au      4.418794  1.566207    0.956113  1.677022  2.315261\n",
       "0cl_out_recovery_2  -8.704029 -0.531768  105.065591 -0.482239 -5.568374"
      ]
     },
     "metadata": {},
     "output_type": "display_data"
    },
    {
     "data": {
      "text/html": [
       "<div>\n",
       "<style scoped>\n",
       "    .dataframe tbody tr th:only-of-type {\n",
       "        vertical-align: middle;\n",
       "    }\n",
       "\n",
       "    .dataframe tbody tr th {\n",
       "        vertical-align: top;\n",
       "    }\n",
       "\n",
       "    .dataframe thead th {\n",
       "        text-align: right;\n",
       "    }\n",
       "</style>\n",
       "<table border=\"1\" class=\"dataframe\">\n",
       "  <thead>\n",
       "    <tr style=\"text-align: right;\">\n",
       "      <th></th>\n",
       "      <th>8375</th>\n",
       "      <th>16740</th>\n",
       "      <th>14233</th>\n",
       "      <th>3776</th>\n",
       "      <th>7206</th>\n",
       "    </tr>\n",
       "  </thead>\n",
       "  <tbody>\n",
       "    <tr>\n",
       "      <td>0cl_out_recovery</td>\n",
       "      <td>80.534223</td>\n",
       "      <td>92.847961</td>\n",
       "      <td>91.626293</td>\n",
       "      <td>72.348255</td>\n",
       "      <td>99.024954</td>\n",
       "    </tr>\n",
       "    <tr>\n",
       "      <td>0cl_out_recovery_2</td>\n",
       "      <td>80.534223</td>\n",
       "      <td>92.847961</td>\n",
       "      <td>91.626293</td>\n",
       "      <td>72.348255</td>\n",
       "      <td>99.024954</td>\n",
       "    </tr>\n",
       "  </tbody>\n",
       "</table>\n",
       "</div>"
      ],
      "text/plain": [
       "                        8375       16740      14233      3776       7206 \n",
       "0cl_out_recovery    80.534223  92.847961  91.626293  72.348255  99.024954\n",
       "0cl_out_recovery_2  80.534223  92.847961  91.626293  72.348255  99.024954"
      ]
     },
     "metadata": {},
     "output_type": "display_data"
    },
    {
     "name": "stdout",
     "output_type": "stream",
     "text": [
      "9.444891926100695e-15\n"
     ]
    }
   ],
   "source": [
    "#вынесем необходимые данные в отдельный df\n",
    "data_MAE = data_train.loc[:, ['0cl_out_recovery', '0cl_out_con_au', '0cl_in_feed_au', '0cl_out_tail_au']]\n",
    "\n",
    "_c1 = data_MAE['0cl_out_con_au']\n",
    "_f1 = data_MAE['0cl_in_feed_au']\n",
    "_t1 = data_MAE['0cl_out_tail_au']\n",
    "data_MAE['0cl_out_recovery_2'] = _c1*(_f1-_t1)/(_f1*(_c1-_t1))*100\n",
    "\n",
    "data_MAE.info()\n",
    "\n",
    "#удалим строки где нет возможности расчитать rougher.output.recovery\n",
    "data_MAE.dropna(subset=['0cl_out_recovery_2'], inplace=True) \n",
    "print()\n",
    "data_MAE.info()\n",
    "\n",
    "print('Нет первоначального расчета rougher.output.recovery')\n",
    "display(data_MAE[data_MAE['0cl_out_recovery']!=data_MAE['0cl_out_recovery']].sample(5).T)\n",
    "\n",
    "data_MAE.dropna(inplace=True)\n",
    "\n",
    "display(data_MAE.loc[:, ['0cl_out_recovery', '0cl_out_recovery_2']].sample(5).T)\n",
    "MAE = mean_absolute_error(data_MAE['0cl_out_recovery'], data_MAE['0cl_out_recovery_2'])\n",
    "print(MAE)"
   ]
  },
  {
   "cell_type": "markdown",
   "metadata": {},
   "source": [
    "### Проверка правильности расчета final.output.recovery"
   ]
  },
  {
   "cell_type": "code",
   "execution_count": 8,
   "metadata": {},
   "outputs": [
    {
     "name": "stdout",
     "output_type": "stream",
     "text": [
      "<class 'pandas.core.frame.DataFrame'>\n",
      "RangeIndex: 16860 entries, 0 to 16859\n",
      "Data columns (total 5 columns):\n",
      "final_out_recovery      15339 non-null float64\n",
      "final_out_con_au        16789 non-null float64\n",
      "0cl_in_feed_au          16777 non-null float64\n",
      "final_out_tail_au       16794 non-null float64\n",
      "final_out_recovery_2    15582 non-null float64\n",
      "dtypes: float64(5)\n",
      "memory usage: 658.7 KB\n",
      "\n",
      "<class 'pandas.core.frame.DataFrame'>\n",
      "Int64Index: 15582 entries, 0 to 16859\n",
      "Data columns (total 5 columns):\n",
      "final_out_recovery      15339 non-null float64\n",
      "final_out_con_au        15582 non-null float64\n",
      "0cl_in_feed_au          15582 non-null float64\n",
      "final_out_tail_au       15582 non-null float64\n",
      "final_out_recovery_2    15582 non-null float64\n",
      "dtypes: float64(5)\n",
      "memory usage: 730.4 KB\n",
      "Нет первоначального расчета final_out_recovery\n"
     ]
    },
    {
     "data": {
      "text/html": [
       "<div>\n",
       "<style scoped>\n",
       "    .dataframe tbody tr th:only-of-type {\n",
       "        vertical-align: middle;\n",
       "    }\n",
       "\n",
       "    .dataframe tbody tr th {\n",
       "        vertical-align: top;\n",
       "    }\n",
       "\n",
       "    .dataframe thead th {\n",
       "        text-align: right;\n",
       "    }\n",
       "</style>\n",
       "<table border=\"1\" class=\"dataframe\">\n",
       "  <thead>\n",
       "    <tr style=\"text-align: right;\">\n",
       "      <th></th>\n",
       "      <th>14272</th>\n",
       "      <th>433</th>\n",
       "      <th>1266</th>\n",
       "      <th>2414</th>\n",
       "      <th>3047</th>\n",
       "    </tr>\n",
       "  </thead>\n",
       "  <tbody>\n",
       "    <tr>\n",
       "      <td>final_out_recovery</td>\n",
       "      <td>NaN</td>\n",
       "      <td>NaN</td>\n",
       "      <td>NaN</td>\n",
       "      <td>NaN</td>\n",
       "      <td>NaN</td>\n",
       "    </tr>\n",
       "    <tr>\n",
       "      <td>final_out_con_au</td>\n",
       "      <td>49.400415</td>\n",
       "      <td>35.686803</td>\n",
       "      <td>40.434038</td>\n",
       "      <td>37.937991</td>\n",
       "      <td>14.620255</td>\n",
       "    </tr>\n",
       "    <tr>\n",
       "      <td>0cl_in_feed_au</td>\n",
       "      <td>0.239341</td>\n",
       "      <td>6.484205</td>\n",
       "      <td>1.970067</td>\n",
       "      <td>4.623858</td>\n",
       "      <td>0.000000</td>\n",
       "    </tr>\n",
       "    <tr>\n",
       "      <td>final_out_tail_au</td>\n",
       "      <td>1.010667</td>\n",
       "      <td>6.693746</td>\n",
       "      <td>3.266619</td>\n",
       "      <td>5.248643</td>\n",
       "      <td>1.581447</td>\n",
       "    </tr>\n",
       "    <tr>\n",
       "      <td>final_out_recovery_2</td>\n",
       "      <td>-329.002118</td>\n",
       "      <td>-3.977653</td>\n",
       "      <td>-71.596799</td>\n",
       "      <td>-15.681739</td>\n",
       "      <td>-inf</td>\n",
       "    </tr>\n",
       "  </tbody>\n",
       "</table>\n",
       "</div>"
      ],
      "text/plain": [
       "                           14272      433        1266       2414       3047 \n",
       "final_out_recovery           NaN        NaN        NaN        NaN        NaN\n",
       "final_out_con_au       49.400415  35.686803  40.434038  37.937991  14.620255\n",
       "0cl_in_feed_au          0.239341   6.484205   1.970067   4.623858   0.000000\n",
       "final_out_tail_au       1.010667   6.693746   3.266619   5.248643   1.581447\n",
       "final_out_recovery_2 -329.002118  -3.977653 -71.596799 -15.681739       -inf"
      ]
     },
     "metadata": {},
     "output_type": "display_data"
    },
    {
     "data": {
      "text/html": [
       "<div>\n",
       "<style scoped>\n",
       "    .dataframe tbody tr th:only-of-type {\n",
       "        vertical-align: middle;\n",
       "    }\n",
       "\n",
       "    .dataframe tbody tr th {\n",
       "        vertical-align: top;\n",
       "    }\n",
       "\n",
       "    .dataframe thead th {\n",
       "        text-align: right;\n",
       "    }\n",
       "</style>\n",
       "<table border=\"1\" class=\"dataframe\">\n",
       "  <thead>\n",
       "    <tr style=\"text-align: right;\">\n",
       "      <th></th>\n",
       "      <th>14444</th>\n",
       "      <th>3698</th>\n",
       "      <th>1013</th>\n",
       "      <th>15179</th>\n",
       "      <th>15480</th>\n",
       "    </tr>\n",
       "  </thead>\n",
       "  <tbody>\n",
       "    <tr>\n",
       "      <td>final_out_recovery</td>\n",
       "      <td>73.152444</td>\n",
       "      <td>70.800956</td>\n",
       "      <td>72.203529</td>\n",
       "      <td>68.51174</td>\n",
       "      <td>79.2711</td>\n",
       "    </tr>\n",
       "    <tr>\n",
       "      <td>final_out_recovery_2</td>\n",
       "      <td>73.152444</td>\n",
       "      <td>70.800956</td>\n",
       "      <td>72.203529</td>\n",
       "      <td>68.51174</td>\n",
       "      <td>79.2711</td>\n",
       "    </tr>\n",
       "  </tbody>\n",
       "</table>\n",
       "</div>"
      ],
      "text/plain": [
       "                          14444      3698       1013      15179    15480\n",
       "final_out_recovery    73.152444  70.800956  72.203529  68.51174  79.2711\n",
       "final_out_recovery_2  73.152444  70.800956  72.203529  68.51174  79.2711"
      ]
     },
     "metadata": {},
     "output_type": "display_data"
    },
    {
     "name": "stdout",
     "output_type": "stream",
     "text": [
      "8.158251945945868e-15\n"
     ]
    }
   ],
   "source": [
    "#вынесем необходимые данные в отдельный df\n",
    "data_MAE_2 = data_train.loc[:, ['final_out_recovery', 'final_out_con_au', '0cl_in_feed_au', 'final_out_tail_au']]\n",
    "\n",
    "_c2 = data_MAE_2['final_out_con_au'] \n",
    "_f2 = data_MAE_2['0cl_in_feed_au']\n",
    "_t2 = data_MAE_2['final_out_tail_au']\n",
    "data_MAE_2['final_out_recovery_2'] = _c2*(_f2-_t2)/(_f2*(_c2-_t2))*100\n",
    "\n",
    "data_MAE_2.info()\n",
    "\n",
    "#удалим строки где нет возможности расчитать rougher.output.recovery\n",
    "data_MAE_2.dropna(subset=['final_out_recovery_2'], inplace=True) \n",
    "print()\n",
    "data_MAE_2.info()\n",
    "\n",
    "print('Нет первоначального расчета final_out_recovery')\n",
    "display(data_MAE_2[data_MAE_2['final_out_recovery']!=data_MAE_2['final_out_recovery']].sample(5).T)\n",
    "\n",
    "data_MAE_2.dropna(inplace=True)\n",
    "\n",
    "display(data_MAE_2.loc[:, ['final_out_recovery', 'final_out_recovery_2']].sample(5).T)\n",
    "MAE_2 = mean_absolute_error(data_MAE_2['final_out_recovery'], data_MAE_2['final_out_recovery_2'])\n",
    "print(MAE_2)"
   ]
  },
  {
   "cell_type": "code",
   "execution_count": 9,
   "metadata": {
    "scrolled": true
   },
   "outputs": [
    {
     "data": {
      "text/html": [
       "<div>\n",
       "<style scoped>\n",
       "    .dataframe tbody tr th:only-of-type {\n",
       "        vertical-align: middle;\n",
       "    }\n",
       "\n",
       "    .dataframe tbody tr th {\n",
       "        vertical-align: top;\n",
       "    }\n",
       "\n",
       "    .dataframe thead th {\n",
       "        text-align: right;\n",
       "    }\n",
       "</style>\n",
       "<table border=\"1\" class=\"dataframe\">\n",
       "  <thead>\n",
       "    <tr style=\"text-align: right;\">\n",
       "      <th></th>\n",
       "      <th>2579</th>\n",
       "      <th>1804</th>\n",
       "      <th>2026</th>\n",
       "      <th>4127</th>\n",
       "      <th>1797</th>\n",
       "      <th>12255</th>\n",
       "      <th>5875</th>\n",
       "      <th>16024</th>\n",
       "      <th>7579</th>\n",
       "      <th>2075</th>\n",
       "      <th>12323</th>\n",
       "      <th>7518</th>\n",
       "      <th>12588</th>\n",
       "      <th>8100</th>\n",
       "      <th>13472</th>\n",
       "    </tr>\n",
       "  </thead>\n",
       "  <tbody>\n",
       "    <tr>\n",
       "      <td>0cl_in_feed_au</td>\n",
       "      <td>0.0</td>\n",
       "      <td>0.0</td>\n",
       "      <td>0.0</td>\n",
       "      <td>0.0</td>\n",
       "      <td>0.0</td>\n",
       "      <td>12.433451</td>\n",
       "      <td>0.0</td>\n",
       "      <td>6.371596</td>\n",
       "      <td>0.0</td>\n",
       "      <td>7.078153</td>\n",
       "      <td>8.639433</td>\n",
       "      <td>0.0</td>\n",
       "      <td>0.01</td>\n",
       "      <td>0.000000</td>\n",
       "      <td>0.01</td>\n",
       "    </tr>\n",
       "    <tr>\n",
       "      <td>0cl_out_con_au</td>\n",
       "      <td>0.0</td>\n",
       "      <td>0.0</td>\n",
       "      <td>0.0</td>\n",
       "      <td>0.0</td>\n",
       "      <td>0.0</td>\n",
       "      <td>0.000000</td>\n",
       "      <td>0.0</td>\n",
       "      <td>0.010000</td>\n",
       "      <td>0.0</td>\n",
       "      <td>0.000000</td>\n",
       "      <td>0.000000</td>\n",
       "      <td>0.0</td>\n",
       "      <td>0.01</td>\n",
       "      <td>0.000000</td>\n",
       "      <td>0.01</td>\n",
       "    </tr>\n",
       "    <tr>\n",
       "      <td>1cl_out_con_au</td>\n",
       "      <td>0.0</td>\n",
       "      <td>0.0</td>\n",
       "      <td>0.0</td>\n",
       "      <td>0.0</td>\n",
       "      <td>0.0</td>\n",
       "      <td>31.806635</td>\n",
       "      <td>0.0</td>\n",
       "      <td>25.630426</td>\n",
       "      <td>0.0</td>\n",
       "      <td>34.261161</td>\n",
       "      <td>42.628299</td>\n",
       "      <td>0.0</td>\n",
       "      <td>0.01</td>\n",
       "      <td>0.000000</td>\n",
       "      <td>0.01</td>\n",
       "    </tr>\n",
       "    <tr>\n",
       "      <td>final_out_con_au</td>\n",
       "      <td>0.0</td>\n",
       "      <td>0.0</td>\n",
       "      <td>0.0</td>\n",
       "      <td>0.0</td>\n",
       "      <td>0.0</td>\n",
       "      <td>44.487885</td>\n",
       "      <td>0.0</td>\n",
       "      <td>46.923911</td>\n",
       "      <td>0.0</td>\n",
       "      <td>43.384395</td>\n",
       "      <td>49.403479</td>\n",
       "      <td>0.0</td>\n",
       "      <td>0.01</td>\n",
       "      <td>3.768342</td>\n",
       "      <td>0.01</td>\n",
       "    </tr>\n",
       "  </tbody>\n",
       "</table>\n",
       "</div>"
      ],
      "text/plain": [
       "                  2579   1804   2026   4127   1797       12255  5875   \\\n",
       "0cl_in_feed_au      0.0    0.0    0.0    0.0    0.0  12.433451    0.0   \n",
       "0cl_out_con_au      0.0    0.0    0.0    0.0    0.0   0.000000    0.0   \n",
       "1cl_out_con_au      0.0    0.0    0.0    0.0    0.0  31.806635    0.0   \n",
       "final_out_con_au    0.0    0.0    0.0    0.0    0.0  44.487885    0.0   \n",
       "\n",
       "                      16024  7579       2075       12323  7518   12588  \\\n",
       "0cl_in_feed_au     6.371596    0.0   7.078153   8.639433    0.0   0.01   \n",
       "0cl_out_con_au     0.010000    0.0   0.000000   0.000000    0.0   0.01   \n",
       "1cl_out_con_au    25.630426    0.0  34.261161  42.628299    0.0   0.01   \n",
       "final_out_con_au  46.923911    0.0  43.384395  49.403479    0.0   0.01   \n",
       "\n",
       "                     8100   13472  \n",
       "0cl_in_feed_au    0.000000   0.01  \n",
       "0cl_out_con_au    0.000000   0.01  \n",
       "1cl_out_con_au    0.000000   0.01  \n",
       "final_out_con_au  3.768342   0.01  "
      ]
     },
     "metadata": {},
     "output_type": "display_data"
    },
    {
     "data": {
      "text/html": [
       "<div>\n",
       "<style scoped>\n",
       "    .dataframe tbody tr th:only-of-type {\n",
       "        vertical-align: middle;\n",
       "    }\n",
       "\n",
       "    .dataframe tbody tr th {\n",
       "        vertical-align: top;\n",
       "    }\n",
       "\n",
       "    .dataframe thead th {\n",
       "        text-align: right;\n",
       "    }\n",
       "</style>\n",
       "<table border=\"1\" class=\"dataframe\">\n",
       "  <thead>\n",
       "    <tr style=\"text-align: right;\">\n",
       "      <th></th>\n",
       "      <th>16639</th>\n",
       "      <th>16500</th>\n",
       "      <th>11577</th>\n",
       "      <th>8653</th>\n",
       "      <th>3048</th>\n",
       "      <th>5388</th>\n",
       "      <th>14276</th>\n",
       "      <th>2583</th>\n",
       "      <th>4126</th>\n",
       "      <th>15584</th>\n",
       "      <th>813</th>\n",
       "      <th>16212</th>\n",
       "      <th>2581</th>\n",
       "      <th>2328</th>\n",
       "      <th>13508</th>\n",
       "    </tr>\n",
       "  </thead>\n",
       "  <tbody>\n",
       "    <tr>\n",
       "      <td>0cl_in_feed_au</td>\n",
       "      <td>7.560704</td>\n",
       "      <td>0.01</td>\n",
       "      <td>0.0</td>\n",
       "      <td>0.0</td>\n",
       "      <td>0.0</td>\n",
       "      <td>0.0</td>\n",
       "      <td>0.761151</td>\n",
       "      <td>0.0</td>\n",
       "      <td>0.0</td>\n",
       "      <td>4.060212</td>\n",
       "      <td>0.255631</td>\n",
       "      <td>0.01</td>\n",
       "      <td>0.0</td>\n",
       "      <td>1.033221</td>\n",
       "      <td>0.01</td>\n",
       "    </tr>\n",
       "    <tr>\n",
       "      <td>0cl_out_con_au</td>\n",
       "      <td>20.738483</td>\n",
       "      <td>0.01</td>\n",
       "      <td>0.0</td>\n",
       "      <td>0.0</td>\n",
       "      <td>0.0</td>\n",
       "      <td>0.0</td>\n",
       "      <td>16.917793</td>\n",
       "      <td>0.0</td>\n",
       "      <td>0.0</td>\n",
       "      <td>11.363451</td>\n",
       "      <td>15.543751</td>\n",
       "      <td>0.01</td>\n",
       "      <td>0.0</td>\n",
       "      <td>0.570819</td>\n",
       "      <td>0.01</td>\n",
       "    </tr>\n",
       "    <tr>\n",
       "      <td>1cl_out_con_au</td>\n",
       "      <td>0.010000</td>\n",
       "      <td>0.01</td>\n",
       "      <td>0.0</td>\n",
       "      <td>0.0</td>\n",
       "      <td>0.0</td>\n",
       "      <td>0.0</td>\n",
       "      <td>0.010000</td>\n",
       "      <td>0.0</td>\n",
       "      <td>0.0</td>\n",
       "      <td>0.010000</td>\n",
       "      <td>0.000000</td>\n",
       "      <td>0.01</td>\n",
       "      <td>0.0</td>\n",
       "      <td>0.713426</td>\n",
       "      <td>0.01</td>\n",
       "    </tr>\n",
       "    <tr>\n",
       "      <td>final_out_con_au</td>\n",
       "      <td>45.881426</td>\n",
       "      <td>0.01</td>\n",
       "      <td>0.0</td>\n",
       "      <td>0.0</td>\n",
       "      <td>0.0</td>\n",
       "      <td>0.0</td>\n",
       "      <td>46.489701</td>\n",
       "      <td>0.0</td>\n",
       "      <td>0.0</td>\n",
       "      <td>37.012913</td>\n",
       "      <td>38.920218</td>\n",
       "      <td>0.01</td>\n",
       "      <td>0.0</td>\n",
       "      <td>7.148353</td>\n",
       "      <td>0.01</td>\n",
       "    </tr>\n",
       "  </tbody>\n",
       "</table>\n",
       "</div>"
      ],
      "text/plain": [
       "                      16639  16500  11577  8653   3048   5388       14276  \\\n",
       "0cl_in_feed_au     7.560704   0.01    0.0    0.0    0.0    0.0   0.761151   \n",
       "0cl_out_con_au    20.738483   0.01    0.0    0.0    0.0    0.0  16.917793   \n",
       "1cl_out_con_au     0.010000   0.01    0.0    0.0    0.0    0.0   0.010000   \n",
       "final_out_con_au  45.881426   0.01    0.0    0.0    0.0    0.0  46.489701   \n",
       "\n",
       "                  2583   4126       15584      813    16212  2581      2328   \\\n",
       "0cl_in_feed_au      0.0    0.0   4.060212   0.255631   0.01    0.0  1.033221   \n",
       "0cl_out_con_au      0.0    0.0  11.363451  15.543751   0.01    0.0  0.570819   \n",
       "1cl_out_con_au      0.0    0.0   0.010000   0.000000   0.01    0.0  0.713426   \n",
       "final_out_con_au    0.0    0.0  37.012913  38.920218   0.01    0.0  7.148353   \n",
       "\n",
       "                  13508  \n",
       "0cl_in_feed_au     0.01  \n",
       "0cl_out_con_au     0.01  \n",
       "1cl_out_con_au     0.01  \n",
       "final_out_con_au   0.01  "
      ]
     },
     "metadata": {},
     "output_type": "display_data"
    },
    {
     "data": {
      "text/html": [
       "<div>\n",
       "<style scoped>\n",
       "    .dataframe tbody tr th:only-of-type {\n",
       "        vertical-align: middle;\n",
       "    }\n",
       "\n",
       "    .dataframe tbody tr th {\n",
       "        vertical-align: top;\n",
       "    }\n",
       "\n",
       "    .dataframe thead th {\n",
       "        text-align: right;\n",
       "    }\n",
       "</style>\n",
       "<table border=\"1\" class=\"dataframe\">\n",
       "  <thead>\n",
       "    <tr style=\"text-align: right;\">\n",
       "      <th></th>\n",
       "      <th>7540</th>\n",
       "      <th>16252</th>\n",
       "      <th>5905</th>\n",
       "      <th>12036</th>\n",
       "      <th>11557</th>\n",
       "      <th>12024</th>\n",
       "      <th>13522</th>\n",
       "      <th>6927</th>\n",
       "      <th>1986</th>\n",
       "      <th>4942</th>\n",
       "      <th>11466</th>\n",
       "      <th>4079</th>\n",
       "      <th>13506</th>\n",
       "      <th>8736</th>\n",
       "      <th>13475</th>\n",
       "    </tr>\n",
       "  </thead>\n",
       "  <tbody>\n",
       "    <tr>\n",
       "      <td>0cl_in_feed_au</td>\n",
       "      <td>0.0</td>\n",
       "      <td>0.01</td>\n",
       "      <td>0.0</td>\n",
       "      <td>0.0</td>\n",
       "      <td>0.0</td>\n",
       "      <td>0.0</td>\n",
       "      <td>0.01</td>\n",
       "      <td>9.844394</td>\n",
       "      <td>0.0</td>\n",
       "      <td>0.0</td>\n",
       "      <td>0.0</td>\n",
       "      <td>0.0</td>\n",
       "      <td>0.01</td>\n",
       "      <td>0.0</td>\n",
       "      <td>0.01</td>\n",
       "    </tr>\n",
       "    <tr>\n",
       "      <td>0cl_out_con_au</td>\n",
       "      <td>0.0</td>\n",
       "      <td>0.01</td>\n",
       "      <td>0.0</td>\n",
       "      <td>0.0</td>\n",
       "      <td>0.0</td>\n",
       "      <td>0.0</td>\n",
       "      <td>0.01</td>\n",
       "      <td>24.621715</td>\n",
       "      <td>0.0</td>\n",
       "      <td>0.0</td>\n",
       "      <td>0.0</td>\n",
       "      <td>0.0</td>\n",
       "      <td>0.01</td>\n",
       "      <td>0.0</td>\n",
       "      <td>0.01</td>\n",
       "    </tr>\n",
       "    <tr>\n",
       "      <td>1cl_out_con_au</td>\n",
       "      <td>0.0</td>\n",
       "      <td>0.01</td>\n",
       "      <td>0.0</td>\n",
       "      <td>0.0</td>\n",
       "      <td>0.0</td>\n",
       "      <td>0.0</td>\n",
       "      <td>0.01</td>\n",
       "      <td>36.979106</td>\n",
       "      <td>0.0</td>\n",
       "      <td>0.0</td>\n",
       "      <td>0.0</td>\n",
       "      <td>0.0</td>\n",
       "      <td>0.01</td>\n",
       "      <td>0.0</td>\n",
       "      <td>0.01</td>\n",
       "    </tr>\n",
       "    <tr>\n",
       "      <td>final_out_con_au</td>\n",
       "      <td>0.0</td>\n",
       "      <td>0.01</td>\n",
       "      <td>0.0</td>\n",
       "      <td>0.0</td>\n",
       "      <td>0.0</td>\n",
       "      <td>0.0</td>\n",
       "      <td>0.01</td>\n",
       "      <td>0.000000</td>\n",
       "      <td>0.0</td>\n",
       "      <td>0.0</td>\n",
       "      <td>0.0</td>\n",
       "      <td>0.0</td>\n",
       "      <td>0.01</td>\n",
       "      <td>0.0</td>\n",
       "      <td>0.01</td>\n",
       "    </tr>\n",
       "  </tbody>\n",
       "</table>\n",
       "</div>"
      ],
      "text/plain": [
       "                  7540   16252  5905   12036  11557  12024  13522      6927   \\\n",
       "0cl_in_feed_au      0.0   0.01    0.0    0.0    0.0    0.0   0.01   9.844394   \n",
       "0cl_out_con_au      0.0   0.01    0.0    0.0    0.0    0.0   0.01  24.621715   \n",
       "1cl_out_con_au      0.0   0.01    0.0    0.0    0.0    0.0   0.01  36.979106   \n",
       "final_out_con_au    0.0   0.01    0.0    0.0    0.0    0.0   0.01   0.000000   \n",
       "\n",
       "                  1986   4942   11466  4079   13506  8736   13475  \n",
       "0cl_in_feed_au      0.0    0.0    0.0    0.0   0.01    0.0   0.01  \n",
       "0cl_out_con_au      0.0    0.0    0.0    0.0   0.01    0.0   0.01  \n",
       "1cl_out_con_au      0.0    0.0    0.0    0.0   0.01    0.0   0.01  \n",
       "final_out_con_au    0.0    0.0    0.0    0.0   0.01    0.0   0.01  "
      ]
     },
     "metadata": {},
     "output_type": "display_data"
    }
   ],
   "source": [
    "#Посмотрим на низкие значения концентрации на разных этапах\n",
    "display(data_train[data_train['0cl_out_con_au']<2][au_con].sample(15).T)\n",
    "display(data_train[data_train['1cl_out_con_au']<2][au_con].sample(15).T)\n",
    "display(data_train[data_train['final_out_con_au']<2][au_con].sample(15).T)"
   ]
  },
  {
   "cell_type": "markdown",
   "metadata": {},
   "source": [
    "Расчет rougher.output.recovery и final.output.recovery в исходных данных произведен правильно, но есть строки с отсутствующими значениями которые можно \"досчитать\" после заполнения ошибок (нули и околонулевые значения) в \"столбцах-родителях\"."
   ]
  },
  {
   "cell_type": "markdown",
   "metadata": {},
   "source": [
    "### Анализ признаков, недоступных в тестовой выборке."
   ]
  },
  {
   "cell_type": "code",
   "execution_count": 10,
   "metadata": {},
   "outputs": [
    {
     "name": "stdout",
     "output_type": "stream",
     "text": [
      "<class 'pandas.core.frame.DataFrame'>\n",
      "RangeIndex: 16860 entries, 0 to 16859\n",
      "Data columns (total 34 columns):\n",
      "final_out_con_ag                    16788 non-null float64\n",
      "final_out_con_pb                    16788 non-null float64\n",
      "final_out_con_sol                   16490 non-null float64\n",
      "final_out_con_au                    16789 non-null float64\n",
      "final_out_recovery                  15339 non-null float64\n",
      "final_out_tail_ag                   16794 non-null float64\n",
      "final_out_tail_pb                   16677 non-null float64\n",
      "final_out_tail_sol                  16715 non-null float64\n",
      "final_out_tail_au                   16794 non-null float64\n",
      "1cl_out_con_ag                      16778 non-null float64\n",
      "1cl_out_con_pb                      16502 non-null float64\n",
      "1cl_out_con_sol                     16224 non-null float64\n",
      "1cl_out_con_au                      16778 non-null float64\n",
      "1cl_out_tail_ag                     16777 non-null float64\n",
      "1cl_out_tail_pb                     16761 non-null float64\n",
      "1cl_out_tail_sol                    16579 non-null float64\n",
      "1cl_out_tail_au                     16777 non-null float64\n",
      "0cl_calc_sulfate_to_au_con          16833 non-null float64\n",
      "0cl_calc_fb10_sulfate_to_au_feed    16833 non-null float64\n",
      "0cl_calc_fb11_sulfate_to_au_feed    16833 non-null float64\n",
      "0cl_calc_au_pb_ratio                15618 non-null float64\n",
      "0cl_out_con_ag                      16778 non-null float64\n",
      "0cl_out_con_pb                      16778 non-null float64\n",
      "0cl_out_con_sol                     16698 non-null float64\n",
      "0cl_out_con_au                      16778 non-null float64\n",
      "0cl_out_recovery                    14287 non-null float64\n",
      "0cl_out_tail_ag                     14610 non-null float64\n",
      "0cl_out_tail_pb                     16778 non-null float64\n",
      "0cl_out_tail_sol                    14611 non-null float64\n",
      "0cl_out_tail_au                     14611 non-null float64\n",
      "2cl_out_tail_ag                     16776 non-null float64\n",
      "2cl_out_tail_pb                     16764 non-null float64\n",
      "2cl_out_tail_sol                    14874 non-null float64\n",
      "2cl_out_tail_au                     16778 non-null float64\n",
      "dtypes: float64(34)\n",
      "memory usage: 4.4 MB\n"
     ]
    }
   ],
   "source": [
    "data_targ = data_train.copy()\n",
    "\n",
    "for col in data_train.columns:\n",
    "    if col in data_test.columns:\n",
    "        del data_targ[col]\n",
    "    \n",
    "data_targ.info()"
   ]
  },
  {
   "cell_type": "markdown",
   "metadata": {},
   "source": [
    "В тестовой выборке отсутствуют признаки, значения которых нельзя установить/получить до начала или в процессе обработки руды.  "
   ]
  },
  {
   "cell_type": "markdown",
   "metadata": {},
   "source": [
    "### Выводы по данным"
   ]
  },
  {
   "cell_type": "markdown",
   "metadata": {},
   "source": [
    "Столбец date - перевести в формат DateTime  \n",
    "Есть 0 и околонулевые значения в столбцах со значениями концентраций (\"con\" в названии). Вероятно связано с остановкой и запуском оборудования (возможно на профилактику/регламентные работы или из-за отсутствия сырья).  \n",
    "Часть отсутствующих значений recovery можно рассчитать после заполнения столбцов \"родителей\"."
   ]
  },
  {
   "cell_type": "markdown",
   "metadata": {},
   "source": [
    "## Подготовка данных  \n",
    "[Таблица имен DataFrame](#DataFrame_names)"
   ]
  },
  {
   "cell_type": "markdown",
   "metadata": {},
   "source": []
  },
  {
   "cell_type": "code",
   "execution_count": null,
   "metadata": {},
   "outputs": [],
   "source": []
  },
  {
   "cell_type": "markdown",
   "metadata": {},
   "source": [
    "### Тип данных"
   ]
  },
  {
   "cell_type": "code",
   "execution_count": 11,
   "metadata": {},
   "outputs": [],
   "source": [
    "# переведем date в datetime\n",
    "for df in [data_train, data_test, data_full]:\n",
    "    df['date'] = pd.to_datetime(df['date'])\n",
    "    "
   ]
  },
  {
   "cell_type": "markdown",
   "metadata": {},
   "source": [
    "### Замена пропусков интерполяцией"
   ]
  },
  {
   "cell_type": "code",
   "execution_count": 12,
   "metadata": {
    "scrolled": false
   },
   "outputs": [
    {
     "data": {
      "text/html": [
       "<div>\n",
       "<style scoped>\n",
       "    .dataframe tbody tr th:only-of-type {\n",
       "        vertical-align: middle;\n",
       "    }\n",
       "\n",
       "    .dataframe tbody tr th {\n",
       "        vertical-align: top;\n",
       "    }\n",
       "\n",
       "    .dataframe thead th {\n",
       "        text-align: right;\n",
       "    }\n",
       "</style>\n",
       "<table border=\"1\" class=\"dataframe\">\n",
       "  <thead>\n",
       "    <tr style=\"text-align: right;\">\n",
       "      <th></th>\n",
       "      <th>1937</th>\n",
       "      <th>16162</th>\n",
       "      <th>1947</th>\n",
       "      <th>1965</th>\n",
       "      <th>1943</th>\n",
       "      <th>1312</th>\n",
       "      <th>1933</th>\n",
       "      <th>1953</th>\n",
       "      <th>8772</th>\n",
       "      <th>1972</th>\n",
       "      <th>1952</th>\n",
       "      <th>1963</th>\n",
       "      <th>1960</th>\n",
       "      <th>1976</th>\n",
       "      <th>16154</th>\n",
       "    </tr>\n",
       "  </thead>\n",
       "  <tbody>\n",
       "    <tr>\n",
       "      <td>0cl_out_tail_au</td>\n",
       "      <td>NaN</td>\n",
       "      <td>NaN</td>\n",
       "      <td>NaN</td>\n",
       "      <td>NaN</td>\n",
       "      <td>NaN</td>\n",
       "      <td>NaN</td>\n",
       "      <td>NaN</td>\n",
       "      <td>NaN</td>\n",
       "      <td>NaN</td>\n",
       "      <td>NaN</td>\n",
       "      <td>NaN</td>\n",
       "      <td>NaN</td>\n",
       "      <td>NaN</td>\n",
       "      <td>NaN</td>\n",
       "      <td>NaN</td>\n",
       "    </tr>\n",
       "    <tr>\n",
       "      <td>1cl_out_tail_au</td>\n",
       "      <td>NaN</td>\n",
       "      <td>NaN</td>\n",
       "      <td>NaN</td>\n",
       "      <td>NaN</td>\n",
       "      <td>NaN</td>\n",
       "      <td>NaN</td>\n",
       "      <td>NaN</td>\n",
       "      <td>NaN</td>\n",
       "      <td>NaN</td>\n",
       "      <td>NaN</td>\n",
       "      <td>NaN</td>\n",
       "      <td>NaN</td>\n",
       "      <td>NaN</td>\n",
       "      <td>NaN</td>\n",
       "      <td>NaN</td>\n",
       "    </tr>\n",
       "    <tr>\n",
       "      <td>2cl_out_tail_au</td>\n",
       "      <td>NaN</td>\n",
       "      <td>NaN</td>\n",
       "      <td>NaN</td>\n",
       "      <td>NaN</td>\n",
       "      <td>NaN</td>\n",
       "      <td>NaN</td>\n",
       "      <td>NaN</td>\n",
       "      <td>NaN</td>\n",
       "      <td>NaN</td>\n",
       "      <td>NaN</td>\n",
       "      <td>NaN</td>\n",
       "      <td>NaN</td>\n",
       "      <td>NaN</td>\n",
       "      <td>NaN</td>\n",
       "      <td>NaN</td>\n",
       "    </tr>\n",
       "    <tr>\n",
       "      <td>final_out_tail_au</td>\n",
       "      <td>NaN</td>\n",
       "      <td>0.0</td>\n",
       "      <td>NaN</td>\n",
       "      <td>NaN</td>\n",
       "      <td>NaN</td>\n",
       "      <td>NaN</td>\n",
       "      <td>NaN</td>\n",
       "      <td>NaN</td>\n",
       "      <td>0.0</td>\n",
       "      <td>NaN</td>\n",
       "      <td>NaN</td>\n",
       "      <td>NaN</td>\n",
       "      <td>NaN</td>\n",
       "      <td>NaN</td>\n",
       "      <td>NaN</td>\n",
       "    </tr>\n",
       "  </tbody>\n",
       "</table>\n",
       "</div>"
      ],
      "text/plain": [
       "                   1937   16162  1947   1965   1943   1312   1933   1953   \\\n",
       "0cl_out_tail_au      NaN    NaN    NaN    NaN    NaN    NaN    NaN    NaN   \n",
       "1cl_out_tail_au      NaN    NaN    NaN    NaN    NaN    NaN    NaN    NaN   \n",
       "2cl_out_tail_au      NaN    NaN    NaN    NaN    NaN    NaN    NaN    NaN   \n",
       "final_out_tail_au    NaN    0.0    NaN    NaN    NaN    NaN    NaN    NaN   \n",
       "\n",
       "                   8772   1972   1952   1963   1960   1976   16154  \n",
       "0cl_out_tail_au      NaN    NaN    NaN    NaN    NaN    NaN    NaN  \n",
       "1cl_out_tail_au      NaN    NaN    NaN    NaN    NaN    NaN    NaN  \n",
       "2cl_out_tail_au      NaN    NaN    NaN    NaN    NaN    NaN    NaN  \n",
       "final_out_tail_au    0.0    NaN    NaN    NaN    NaN    NaN    NaN  "
      ]
     },
     "metadata": {},
     "output_type": "display_data"
    }
   ],
   "source": [
    "#поищем NaN\n",
    "#display(data_train[data_train['0cl_out_con_au']!=data_train['0cl_out_con_au']][au_con].sample(15).T)\n",
    "display(data_train[data_train['2cl_out_tail_au']!=data_train['2cl_out_tail_au']][au_tail].sample(15).T)"
   ]
  },
  {
   "cell_type": "code",
   "execution_count": 13,
   "metadata": {},
   "outputs": [
    {
     "data": {
      "text/plain": [
       "0"
      ]
     },
     "execution_count": 13,
     "metadata": {},
     "output_type": "execute_result"
    }
   ],
   "source": [
    "#попробуем интерполяцию\n",
    "data_train_int = data_train.interpolate()\n",
    "data_train_int.isna().sum().sum()"
   ]
  },
  {
   "cell_type": "code",
   "execution_count": 14,
   "metadata": {},
   "outputs": [
    {
     "data": {
      "text/html": [
       "<div>\n",
       "<style scoped>\n",
       "    .dataframe tbody tr th:only-of-type {\n",
       "        vertical-align: middle;\n",
       "    }\n",
       "\n",
       "    .dataframe tbody tr th {\n",
       "        vertical-align: top;\n",
       "    }\n",
       "\n",
       "    .dataframe thead th {\n",
       "        text-align: right;\n",
       "    }\n",
       "</style>\n",
       "<table border=\"1\" class=\"dataframe\">\n",
       "  <thead>\n",
       "    <tr style=\"text-align: right;\">\n",
       "      <th></th>\n",
       "      <th>16143</th>\n",
       "      <th>16144</th>\n",
       "      <th>16145</th>\n",
       "      <th>16146</th>\n",
       "      <th>16147</th>\n",
       "      <th>16148</th>\n",
       "      <th>16149</th>\n",
       "      <th>16150</th>\n",
       "      <th>16151</th>\n",
       "      <th>16152</th>\n",
       "      <th>16153</th>\n",
       "      <th>16154</th>\n",
       "    </tr>\n",
       "  </thead>\n",
       "  <tbody>\n",
       "    <tr>\n",
       "      <td>0cl_in_feed_au</td>\n",
       "      <td>7.410750</td>\n",
       "      <td>NaN</td>\n",
       "      <td>NaN</td>\n",
       "      <td>NaN</td>\n",
       "      <td>NaN</td>\n",
       "      <td>NaN</td>\n",
       "      <td>NaN</td>\n",
       "      <td>NaN</td>\n",
       "      <td>NaN</td>\n",
       "      <td>NaN</td>\n",
       "      <td>NaN</td>\n",
       "      <td>NaN</td>\n",
       "    </tr>\n",
       "    <tr>\n",
       "      <td>0cl_out_con_au</td>\n",
       "      <td>15.715523</td>\n",
       "      <td>NaN</td>\n",
       "      <td>NaN</td>\n",
       "      <td>NaN</td>\n",
       "      <td>NaN</td>\n",
       "      <td>NaN</td>\n",
       "      <td>NaN</td>\n",
       "      <td>NaN</td>\n",
       "      <td>NaN</td>\n",
       "      <td>NaN</td>\n",
       "      <td>NaN</td>\n",
       "      <td>NaN</td>\n",
       "    </tr>\n",
       "    <tr>\n",
       "      <td>1cl_out_con_au</td>\n",
       "      <td>0.010000</td>\n",
       "      <td>NaN</td>\n",
       "      <td>NaN</td>\n",
       "      <td>NaN</td>\n",
       "      <td>NaN</td>\n",
       "      <td>NaN</td>\n",
       "      <td>NaN</td>\n",
       "      <td>NaN</td>\n",
       "      <td>NaN</td>\n",
       "      <td>NaN</td>\n",
       "      <td>NaN</td>\n",
       "      <td>NaN</td>\n",
       "    </tr>\n",
       "    <tr>\n",
       "      <td>final_out_con_au</td>\n",
       "      <td>42.417690</td>\n",
       "      <td>42.41769</td>\n",
       "      <td>42.41769</td>\n",
       "      <td>42.41769</td>\n",
       "      <td>42.41769</td>\n",
       "      <td>42.41769</td>\n",
       "      <td>42.41769</td>\n",
       "      <td>42.41769</td>\n",
       "      <td>42.41769</td>\n",
       "      <td>NaN</td>\n",
       "      <td>NaN</td>\n",
       "      <td>NaN</td>\n",
       "    </tr>\n",
       "  </tbody>\n",
       "</table>\n",
       "</div>"
      ],
      "text/plain": [
       "                      16143     16144     16145     16146     16147     16148  \\\n",
       "0cl_in_feed_au     7.410750       NaN       NaN       NaN       NaN       NaN   \n",
       "0cl_out_con_au    15.715523       NaN       NaN       NaN       NaN       NaN   \n",
       "1cl_out_con_au     0.010000       NaN       NaN       NaN       NaN       NaN   \n",
       "final_out_con_au  42.417690  42.41769  42.41769  42.41769  42.41769  42.41769   \n",
       "\n",
       "                     16149     16150     16151  16152  16153  16154  \n",
       "0cl_in_feed_au         NaN       NaN       NaN    NaN    NaN    NaN  \n",
       "0cl_out_con_au         NaN       NaN       NaN    NaN    NaN    NaN  \n",
       "1cl_out_con_au         NaN       NaN       NaN    NaN    NaN    NaN  \n",
       "final_out_con_au  42.41769  42.41769  42.41769    NaN    NaN    NaN  "
      ]
     },
     "metadata": {},
     "output_type": "display_data"
    },
    {
     "data": {
      "text/html": [
       "<div>\n",
       "<style scoped>\n",
       "    .dataframe tbody tr th:only-of-type {\n",
       "        vertical-align: middle;\n",
       "    }\n",
       "\n",
       "    .dataframe tbody tr th {\n",
       "        vertical-align: top;\n",
       "    }\n",
       "\n",
       "    .dataframe thead th {\n",
       "        text-align: right;\n",
       "    }\n",
       "</style>\n",
       "<table border=\"1\" class=\"dataframe\">\n",
       "  <thead>\n",
       "    <tr style=\"text-align: right;\">\n",
       "      <th></th>\n",
       "      <th>16143</th>\n",
       "      <th>16144</th>\n",
       "      <th>16145</th>\n",
       "      <th>16146</th>\n",
       "      <th>16147</th>\n",
       "      <th>16148</th>\n",
       "      <th>16149</th>\n",
       "      <th>16150</th>\n",
       "      <th>16151</th>\n",
       "      <th>16152</th>\n",
       "      <th>16153</th>\n",
       "      <th>16154</th>\n",
       "    </tr>\n",
       "  </thead>\n",
       "  <tbody>\n",
       "    <tr>\n",
       "      <td>0cl_in_feed_au</td>\n",
       "      <td>7.410750</td>\n",
       "      <td>6.802123</td>\n",
       "      <td>6.193496</td>\n",
       "      <td>5.584868</td>\n",
       "      <td>4.976241</td>\n",
       "      <td>4.367614</td>\n",
       "      <td>3.758987</td>\n",
       "      <td>3.150360</td>\n",
       "      <td>2.541733</td>\n",
       "      <td>1.933105</td>\n",
       "      <td>1.324478</td>\n",
       "      <td>0.715851</td>\n",
       "    </tr>\n",
       "    <tr>\n",
       "      <td>0cl_out_con_au</td>\n",
       "      <td>15.715523</td>\n",
       "      <td>14.423923</td>\n",
       "      <td>13.132323</td>\n",
       "      <td>11.840723</td>\n",
       "      <td>10.549123</td>\n",
       "      <td>9.257523</td>\n",
       "      <td>7.965923</td>\n",
       "      <td>6.674323</td>\n",
       "      <td>5.382724</td>\n",
       "      <td>4.091124</td>\n",
       "      <td>2.799524</td>\n",
       "      <td>1.507924</td>\n",
       "    </tr>\n",
       "    <tr>\n",
       "      <td>1cl_out_con_au</td>\n",
       "      <td>0.010000</td>\n",
       "      <td>0.010000</td>\n",
       "      <td>0.010000</td>\n",
       "      <td>0.010000</td>\n",
       "      <td>0.010000</td>\n",
       "      <td>0.010000</td>\n",
       "      <td>0.010000</td>\n",
       "      <td>0.010000</td>\n",
       "      <td>0.010000</td>\n",
       "      <td>0.010000</td>\n",
       "      <td>0.010000</td>\n",
       "      <td>0.010000</td>\n",
       "    </tr>\n",
       "    <tr>\n",
       "      <td>final_out_con_au</td>\n",
       "      <td>42.417690</td>\n",
       "      <td>42.417690</td>\n",
       "      <td>42.417690</td>\n",
       "      <td>42.417690</td>\n",
       "      <td>42.417690</td>\n",
       "      <td>42.417690</td>\n",
       "      <td>42.417690</td>\n",
       "      <td>42.417690</td>\n",
       "      <td>42.417690</td>\n",
       "      <td>31.955045</td>\n",
       "      <td>21.492401</td>\n",
       "      <td>11.029756</td>\n",
       "    </tr>\n",
       "  </tbody>\n",
       "</table>\n",
       "</div>"
      ],
      "text/plain": [
       "                      16143      16144      16145      16146      16147  \\\n",
       "0cl_in_feed_au     7.410750   6.802123   6.193496   5.584868   4.976241   \n",
       "0cl_out_con_au    15.715523  14.423923  13.132323  11.840723  10.549123   \n",
       "1cl_out_con_au     0.010000   0.010000   0.010000   0.010000   0.010000   \n",
       "final_out_con_au  42.417690  42.417690  42.417690  42.417690  42.417690   \n",
       "\n",
       "                      16148      16149      16150      16151      16152  \\\n",
       "0cl_in_feed_au     4.367614   3.758987   3.150360   2.541733   1.933105   \n",
       "0cl_out_con_au     9.257523   7.965923   6.674323   5.382724   4.091124   \n",
       "1cl_out_con_au     0.010000   0.010000   0.010000   0.010000   0.010000   \n",
       "final_out_con_au  42.417690  42.417690  42.417690  42.417690  31.955045   \n",
       "\n",
       "                      16153      16154  \n",
       "0cl_in_feed_au     1.324478   0.715851  \n",
       "0cl_out_con_au     2.799524   1.507924  \n",
       "1cl_out_con_au     0.010000   0.010000  \n",
       "final_out_con_au  21.492401  11.029756  "
      ]
     },
     "metadata": {},
     "output_type": "display_data"
    }
   ],
   "source": [
    "display(data_train[16143:16155][au_con].T)\n",
    "display(data_train_int[16143:16155][au_con].T)"
   ]
  },
  {
   "cell_type": "code",
   "execution_count": 15,
   "metadata": {
    "scrolled": true
   },
   "outputs": [
    {
     "data": {
      "text/html": [
       "<div>\n",
       "<style scoped>\n",
       "    .dataframe tbody tr th:only-of-type {\n",
       "        vertical-align: middle;\n",
       "    }\n",
       "\n",
       "    .dataframe tbody tr th {\n",
       "        vertical-align: top;\n",
       "    }\n",
       "\n",
       "    .dataframe thead th {\n",
       "        text-align: right;\n",
       "    }\n",
       "</style>\n",
       "<table border=\"1\" class=\"dataframe\">\n",
       "  <thead>\n",
       "    <tr style=\"text-align: right;\">\n",
       "      <th></th>\n",
       "      <th>8814</th>\n",
       "      <th>8815</th>\n",
       "      <th>8816</th>\n",
       "      <th>8817</th>\n",
       "      <th>8818</th>\n",
       "      <th>8819</th>\n",
       "      <th>8820</th>\n",
       "      <th>8821</th>\n",
       "      <th>8822</th>\n",
       "      <th>8823</th>\n",
       "      <th>8824</th>\n",
       "      <th>8825</th>\n",
       "      <th>8826</th>\n",
       "    </tr>\n",
       "  </thead>\n",
       "  <tbody>\n",
       "    <tr>\n",
       "      <td>0cl_out_tail_au</td>\n",
       "      <td>2.315710</td>\n",
       "      <td>2.460800</td>\n",
       "      <td>2.840179</td>\n",
       "      <td>NaN</td>\n",
       "      <td>NaN</td>\n",
       "      <td>NaN</td>\n",
       "      <td>NaN</td>\n",
       "      <td>NaN</td>\n",
       "      <td>NaN</td>\n",
       "      <td>NaN</td>\n",
       "      <td>NaN</td>\n",
       "      <td>NaN</td>\n",
       "      <td>4.188127</td>\n",
       "    </tr>\n",
       "    <tr>\n",
       "      <td>1cl_out_tail_au</td>\n",
       "      <td>5.366262</td>\n",
       "      <td>3.955477</td>\n",
       "      <td>3.202375</td>\n",
       "      <td>3.532983</td>\n",
       "      <td>1.789070</td>\n",
       "      <td>0.0</td>\n",
       "      <td>7.172451</td>\n",
       "      <td>5.864628</td>\n",
       "      <td>6.461328</td>\n",
       "      <td>5.793215</td>\n",
       "      <td>4.359085</td>\n",
       "      <td>4.958875</td>\n",
       "      <td>13.050508</td>\n",
       "    </tr>\n",
       "    <tr>\n",
       "      <td>2cl_out_tail_au</td>\n",
       "      <td>7.877863</td>\n",
       "      <td>6.591340</td>\n",
       "      <td>5.628685</td>\n",
       "      <td>4.650195</td>\n",
       "      <td>2.126977</td>\n",
       "      <td>0.0</td>\n",
       "      <td>2.914524</td>\n",
       "      <td>5.318778</td>\n",
       "      <td>5.390911</td>\n",
       "      <td>7.262666</td>\n",
       "      <td>4.963057</td>\n",
       "      <td>4.798860</td>\n",
       "      <td>8.757024</td>\n",
       "    </tr>\n",
       "    <tr>\n",
       "      <td>final_out_tail_au</td>\n",
       "      <td>3.902528</td>\n",
       "      <td>3.601310</td>\n",
       "      <td>3.400009</td>\n",
       "      <td>4.825114</td>\n",
       "      <td>1.863401</td>\n",
       "      <td>0.0</td>\n",
       "      <td>0.000000</td>\n",
       "      <td>1.766515</td>\n",
       "      <td>4.034610</td>\n",
       "      <td>4.652444</td>\n",
       "      <td>3.884315</td>\n",
       "      <td>3.936809</td>\n",
       "      <td>5.554988</td>\n",
       "    </tr>\n",
       "  </tbody>\n",
       "</table>\n",
       "</div>"
      ],
      "text/plain": [
       "                       8814      8815      8816      8817      8818  8819  \\\n",
       "0cl_out_tail_au    2.315710  2.460800  2.840179       NaN       NaN   NaN   \n",
       "1cl_out_tail_au    5.366262  3.955477  3.202375  3.532983  1.789070   0.0   \n",
       "2cl_out_tail_au    7.877863  6.591340  5.628685  4.650195  2.126977   0.0   \n",
       "final_out_tail_au  3.902528  3.601310  3.400009  4.825114  1.863401   0.0   \n",
       "\n",
       "                       8820      8821      8822      8823      8824      8825  \\\n",
       "0cl_out_tail_au         NaN       NaN       NaN       NaN       NaN       NaN   \n",
       "1cl_out_tail_au    7.172451  5.864628  6.461328  5.793215  4.359085  4.958875   \n",
       "2cl_out_tail_au    2.914524  5.318778  5.390911  7.262666  4.963057  4.798860   \n",
       "final_out_tail_au  0.000000  1.766515  4.034610  4.652444  3.884315  3.936809   \n",
       "\n",
       "                        8826  \n",
       "0cl_out_tail_au     4.188127  \n",
       "1cl_out_tail_au    13.050508  \n",
       "2cl_out_tail_au     8.757024  \n",
       "final_out_tail_au   5.554988  "
      ]
     },
     "metadata": {},
     "output_type": "display_data"
    },
    {
     "data": {
      "text/html": [
       "<div>\n",
       "<style scoped>\n",
       "    .dataframe tbody tr th:only-of-type {\n",
       "        vertical-align: middle;\n",
       "    }\n",
       "\n",
       "    .dataframe tbody tr th {\n",
       "        vertical-align: top;\n",
       "    }\n",
       "\n",
       "    .dataframe thead th {\n",
       "        text-align: right;\n",
       "    }\n",
       "</style>\n",
       "<table border=\"1\" class=\"dataframe\">\n",
       "  <thead>\n",
       "    <tr style=\"text-align: right;\">\n",
       "      <th></th>\n",
       "      <th>8814</th>\n",
       "      <th>8815</th>\n",
       "      <th>8816</th>\n",
       "      <th>8817</th>\n",
       "      <th>8818</th>\n",
       "      <th>8819</th>\n",
       "      <th>8820</th>\n",
       "      <th>8821</th>\n",
       "      <th>8822</th>\n",
       "      <th>8823</th>\n",
       "      <th>8824</th>\n",
       "      <th>8825</th>\n",
       "      <th>8826</th>\n",
       "    </tr>\n",
       "  </thead>\n",
       "  <tbody>\n",
       "    <tr>\n",
       "      <td>0cl_out_tail_au</td>\n",
       "      <td>2.315710</td>\n",
       "      <td>2.460800</td>\n",
       "      <td>2.840179</td>\n",
       "      <td>2.974974</td>\n",
       "      <td>3.109769</td>\n",
       "      <td>3.244563</td>\n",
       "      <td>3.379358</td>\n",
       "      <td>3.514153</td>\n",
       "      <td>3.648948</td>\n",
       "      <td>3.783742</td>\n",
       "      <td>3.918537</td>\n",
       "      <td>4.053332</td>\n",
       "      <td>4.188127</td>\n",
       "    </tr>\n",
       "    <tr>\n",
       "      <td>1cl_out_tail_au</td>\n",
       "      <td>5.366262</td>\n",
       "      <td>3.955477</td>\n",
       "      <td>3.202375</td>\n",
       "      <td>3.532983</td>\n",
       "      <td>1.789070</td>\n",
       "      <td>0.000000</td>\n",
       "      <td>7.172451</td>\n",
       "      <td>5.864628</td>\n",
       "      <td>6.461328</td>\n",
       "      <td>5.793215</td>\n",
       "      <td>4.359085</td>\n",
       "      <td>4.958875</td>\n",
       "      <td>13.050508</td>\n",
       "    </tr>\n",
       "    <tr>\n",
       "      <td>2cl_out_tail_au</td>\n",
       "      <td>7.877863</td>\n",
       "      <td>6.591340</td>\n",
       "      <td>5.628685</td>\n",
       "      <td>4.650195</td>\n",
       "      <td>2.126977</td>\n",
       "      <td>0.000000</td>\n",
       "      <td>2.914524</td>\n",
       "      <td>5.318778</td>\n",
       "      <td>5.390911</td>\n",
       "      <td>7.262666</td>\n",
       "      <td>4.963057</td>\n",
       "      <td>4.798860</td>\n",
       "      <td>8.757024</td>\n",
       "    </tr>\n",
       "    <tr>\n",
       "      <td>final_out_tail_au</td>\n",
       "      <td>3.902528</td>\n",
       "      <td>3.601310</td>\n",
       "      <td>3.400009</td>\n",
       "      <td>4.825114</td>\n",
       "      <td>1.863401</td>\n",
       "      <td>0.000000</td>\n",
       "      <td>0.000000</td>\n",
       "      <td>1.766515</td>\n",
       "      <td>4.034610</td>\n",
       "      <td>4.652444</td>\n",
       "      <td>3.884315</td>\n",
       "      <td>3.936809</td>\n",
       "      <td>5.554988</td>\n",
       "    </tr>\n",
       "  </tbody>\n",
       "</table>\n",
       "</div>"
      ],
      "text/plain": [
       "                       8814      8815      8816      8817      8818      8819  \\\n",
       "0cl_out_tail_au    2.315710  2.460800  2.840179  2.974974  3.109769  3.244563   \n",
       "1cl_out_tail_au    5.366262  3.955477  3.202375  3.532983  1.789070  0.000000   \n",
       "2cl_out_tail_au    7.877863  6.591340  5.628685  4.650195  2.126977  0.000000   \n",
       "final_out_tail_au  3.902528  3.601310  3.400009  4.825114  1.863401  0.000000   \n",
       "\n",
       "                       8820      8821      8822      8823      8824      8825  \\\n",
       "0cl_out_tail_au    3.379358  3.514153  3.648948  3.783742  3.918537  4.053332   \n",
       "1cl_out_tail_au    7.172451  5.864628  6.461328  5.793215  4.359085  4.958875   \n",
       "2cl_out_tail_au    2.914524  5.318778  5.390911  7.262666  4.963057  4.798860   \n",
       "final_out_tail_au  0.000000  1.766515  4.034610  4.652444  3.884315  3.936809   \n",
       "\n",
       "                        8826  \n",
       "0cl_out_tail_au     4.188127  \n",
       "1cl_out_tail_au    13.050508  \n",
       "2cl_out_tail_au     8.757024  \n",
       "final_out_tail_au   5.554988  "
      ]
     },
     "metadata": {},
     "output_type": "display_data"
    }
   ],
   "source": [
    "display(data_train[8814:8827][au_tail].T)\n",
    "display(data_train_int[8814:8827][au_tail].T)"
   ]
  },
  {
   "cell_type": "code",
   "execution_count": 16,
   "metadata": {},
   "outputs": [],
   "source": [
    "#print(data_train_int[16130:16134]['0cl_out_recovery'])"
   ]
  },
  {
   "cell_type": "code",
   "execution_count": 17,
   "metadata": {},
   "outputs": [],
   "source": [
    "#Значения recovery в data_train_int заменим на расчетные\n",
    "#Отказался. Из-за нуля в знаменателе в 0cl_out_recovery и и final_out_recovery появились NaN - поковыряю позже\n",
    "#  \n",
    "#_c1 = data_train_int['0cl_out_con_au']\n",
    "#_f1 = data_train_int['0cl_in_feed_au']\n",
    "#_t1 = data_train_int['0cl_out_tail_au']\n",
    "#data_train_int['0cl_out_recovery'] = _c1*(_f1-_t1)/(_f1*(_c1-_t1))*100\n",
    "\n",
    "#_c2 = data_train_int['final_out_con_au'] \n",
    "#_f2 = data_train_int['0cl_in_feed_au']\n",
    "#_t2 = data_train_int['final_out_tail_au']\n",
    "#data_train_int['final_out_recovery'] = _c2*(_f2-_t2)/(_f2*(_c2-_t2))*100\n",
    "\n",
    "#data_train_int.isna().sum().sum()\n",
    "\n",
    "#data_train_int[['0cl_out_recovery', 'final_out_recovery']].describe()"
   ]
  },
  {
   "cell_type": "code",
   "execution_count": 18,
   "metadata": {},
   "outputs": [],
   "source": [
    "#print(data_train[16130:16134]['0cl_out_recovery'])\n",
    "#print(data_train_int[16130:16134]['0cl_out_recovery'])"
   ]
  },
  {
   "cell_type": "code",
   "execution_count": 19,
   "metadata": {},
   "outputs": [],
   "source": [
    "#data_train_int.info()"
   ]
  },
  {
   "cell_type": "markdown",
   "metadata": {},
   "source": [
    "Есть строки где концентрация на разных этапах падает до 0 и затем скачет обратно до ожидаемых значений - вероятнее всего ошибки (16143 концентрация золота)(уточнить).  \n",
    "Есть столбцы в которых значение не меняется от строки к строке - скорее всего ошибки (final_out_con_au строки 16143-16156)(уточнить)  \n",
    "Есть строки с неожиданными нулями (0 концентрация золота после 1, 2 и финальная для 8819. при этом соседи не нулевые)"
   ]
  },
  {
   "cell_type": "markdown",
   "metadata": {},
   "source": [
    "### Замена пропусков нулями"
   ]
  },
  {
   "cell_type": "code",
   "execution_count": 20,
   "metadata": {},
   "outputs": [],
   "source": [
    "data_train_fillna0 = data_train.fillna(0.000000000001)"
   ]
  },
  {
   "cell_type": "markdown",
   "metadata": {},
   "source": [
    "### Удаление пропусков"
   ]
  },
  {
   "cell_type": "code",
   "execution_count": 21,
   "metadata": {
    "scrolled": true
   },
   "outputs": [
    {
     "name": "stdout",
     "output_type": "stream",
     "text": [
      "16860\n",
      "11017\n"
     ]
    }
   ],
   "source": [
    "print(len(data_train.index))\n",
    "data_train_dropNA = data_train.dropna()\n",
    "print(len(data_train_dropNA.index))"
   ]
  },
  {
   "cell_type": "markdown",
   "metadata": {},
   "source": [
    "Теряем 5843 строки (34,7%)"
   ]
  },
  {
   "cell_type": "markdown",
   "metadata": {},
   "source": [
    "## Анализ данных\n",
    "2. Проанализируйте данные\n",
    "2.1. Посмотрите, как меняется концентрация металлов (Au, Ag, Pb) на\n",
    "различных этапах очистки. Опишите выводы.\n",
    "2.2. Сравните распределения размеров гранул сырья на обучающей и\n",
    "тестовой выборках. Если распределения сильно отличаются друг от друга,\n",
    "оценка модели будет неправильной.\n",
    "2.3. Исследуйте суммарную концентрацию всех веществ на разных\n",
    "стадиях: в сырье, в черновом и финальном концентратах. Заметили\n",
    "аномальные значения в суммарном распределении или нет? Если они\n",
    "есть, стоит ли их удалять из обеих выборок? Опишите выводы и удалите\n",
    "аномалии.\n"
   ]
  },
  {
   "cell_type": "markdown",
   "metadata": {},
   "source": [
    "### Сравнение концентрации металлов (Au, Ag, Pb) на различных этапах очистки"
   ]
  },
  {
   "cell_type": "markdown",
   "metadata": {},
   "source": [
    "#### Золото"
   ]
  },
  {
   "cell_type": "code",
   "execution_count": 22,
   "metadata": {},
   "outputs": [
    {
     "data": {
      "text/html": [
       "<div>\n",
       "<style scoped>\n",
       "    .dataframe tbody tr th:only-of-type {\n",
       "        vertical-align: middle;\n",
       "    }\n",
       "\n",
       "    .dataframe tbody tr th {\n",
       "        vertical-align: top;\n",
       "    }\n",
       "\n",
       "    .dataframe thead th {\n",
       "        text-align: right;\n",
       "    }\n",
       "</style>\n",
       "<table border=\"1\" class=\"dataframe\">\n",
       "  <thead>\n",
       "    <tr style=\"text-align: right;\">\n",
       "      <th></th>\n",
       "      <th>2789</th>\n",
       "      <th>11232</th>\n",
       "      <th>16195</th>\n",
       "      <th>12746</th>\n",
       "      <th>5184</th>\n",
       "      <th>2370</th>\n",
       "      <th>7729</th>\n",
       "      <th>9005</th>\n",
       "      <th>1440</th>\n",
       "      <th>16268</th>\n",
       "    </tr>\n",
       "  </thead>\n",
       "  <tbody>\n",
       "    <tr>\n",
       "      <td>0cl_in_feed_au</td>\n",
       "      <td>6.839362</td>\n",
       "      <td>0.0</td>\n",
       "      <td>0.01</td>\n",
       "      <td>8.405001</td>\n",
       "      <td>11.146019</td>\n",
       "      <td>12.410583</td>\n",
       "      <td>7.692260</td>\n",
       "      <td>9.504517</td>\n",
       "      <td>7.442383</td>\n",
       "      <td>0.01</td>\n",
       "    </tr>\n",
       "    <tr>\n",
       "      <td>0cl_out_con_au</td>\n",
       "      <td>22.180288</td>\n",
       "      <td>0.0</td>\n",
       "      <td>0.01</td>\n",
       "      <td>19.350232</td>\n",
       "      <td>20.631438</td>\n",
       "      <td>23.375210</td>\n",
       "      <td>21.656407</td>\n",
       "      <td>21.104379</td>\n",
       "      <td>20.220193</td>\n",
       "      <td>0.01</td>\n",
       "    </tr>\n",
       "    <tr>\n",
       "      <td>1cl_out_con_au</td>\n",
       "      <td>34.579023</td>\n",
       "      <td>0.0</td>\n",
       "      <td>0.01</td>\n",
       "      <td>30.703889</td>\n",
       "      <td>30.895151</td>\n",
       "      <td>28.914507</td>\n",
       "      <td>35.359486</td>\n",
       "      <td>31.484645</td>\n",
       "      <td>43.272081</td>\n",
       "      <td>0.01</td>\n",
       "    </tr>\n",
       "    <tr>\n",
       "      <td>final_out_con_au</td>\n",
       "      <td>43.166265</td>\n",
       "      <td>0.0</td>\n",
       "      <td>0.01</td>\n",
       "      <td>44.767936</td>\n",
       "      <td>42.484026</td>\n",
       "      <td>36.077076</td>\n",
       "      <td>46.767164</td>\n",
       "      <td>40.529398</td>\n",
       "      <td>50.256024</td>\n",
       "      <td>0.01</td>\n",
       "    </tr>\n",
       "  </tbody>\n",
       "</table>\n",
       "</div>"
      ],
      "text/plain": [
       "                      2789   11232  16195      12746      5184       2370   \\\n",
       "0cl_in_feed_au     6.839362    0.0   0.01   8.405001  11.146019  12.410583   \n",
       "0cl_out_con_au    22.180288    0.0   0.01  19.350232  20.631438  23.375210   \n",
       "1cl_out_con_au    34.579023    0.0   0.01  30.703889  30.895151  28.914507   \n",
       "final_out_con_au  43.166265    0.0   0.01  44.767936  42.484026  36.077076   \n",
       "\n",
       "                      7729       9005       1440   16268  \n",
       "0cl_in_feed_au     7.692260   9.504517   7.442383   0.01  \n",
       "0cl_out_con_au    21.656407  21.104379  20.220193   0.01  \n",
       "1cl_out_con_au    35.359486  31.484645  43.272081   0.01  \n",
       "final_out_con_au  46.767164  40.529398  50.256024   0.01  "
      ]
     },
     "metadata": {},
     "output_type": "display_data"
    }
   ],
   "source": [
    "display(data_train_int.loc[:, au_con].sample(10).T)"
   ]
  },
  {
   "cell_type": "code",
   "execution_count": 23,
   "metadata": {},
   "outputs": [
    {
     "data": {
      "text/plain": [
       "0cl_in_feed_au       7.140138\n",
       "0cl_out_con_au      17.327961\n",
       "1cl_out_con_au      29.032274\n",
       "final_out_con_au    39.320397\n",
       "dtype: float64"
      ]
     },
     "metadata": {},
     "output_type": "display_data"
    }
   ],
   "source": [
    "display(data_train_int[au_con].mean())"
   ]
  },
  {
   "cell_type": "code",
   "execution_count": 24,
   "metadata": {},
   "outputs": [
    {
     "data": {
      "image/png": "[encoded data removed]",
      "text/plain": [
       "<Figure size 1008x432 with 1 Axes>"
      ]
     },
     "metadata": {
      "needs_background": "light"
     },
     "output_type": "display_data"
    }
   ],
   "source": [
    "data_train_int[au_con].plot.hist(bins=100, edgecolor = 'black', ylim=(0, 2200), figsize=(14, 6), grid=True, alpha = 0.4)\n",
    "plt.title('распределение содержания золота в сырье/концентрате по этапам очистки'); \n",
    "plt.ylabel('Количество измерений, шт.')\n",
    "plt.xlabel('Содержание золота, %')\n",
    "plt.legend(legend);"
   ]
  },
  {
   "cell_type": "code",
   "execution_count": 25,
   "metadata": {
    "scrolled": false
   },
   "outputs": [
    {
     "data": {
      "image/png": "[encoded data removed]",
      "text/plain": [
       "<Figure size 1008x432 with 1 Axes>"
      ]
     },
     "metadata": {
      "needs_background": "light"
     },
     "output_type": "display_data"
    }
   ],
   "source": [
    "data_train_int[au_tail].plot(\n",
    "    kind='hist', histtype='step', range=(0, 8), bins=100, ylim=(0, 900), figsize=(14, 6), grid=True)\n",
    "plt.title('распределение содержания золота в \"хвостах\" по этапам очистки'); \n",
    "plt.ylabel('Количество измерений, шт.')\n",
    "plt.xlabel('Содержание золота, %')\n",
    "plt.legend(legend_tail);"
   ]
  },
  {
   "cell_type": "code",
   "execution_count": 26,
   "metadata": {},
   "outputs": [
    {
     "data": {
      "text/html": [
       "<div>\n",
       "<style scoped>\n",
       "    .dataframe tbody tr th:only-of-type {\n",
       "        vertical-align: middle;\n",
       "    }\n",
       "\n",
       "    .dataframe tbody tr th {\n",
       "        vertical-align: top;\n",
       "    }\n",
       "\n",
       "    .dataframe thead th {\n",
       "        text-align: right;\n",
       "    }\n",
       "</style>\n",
       "<table border=\"1\" class=\"dataframe\">\n",
       "  <thead>\n",
       "    <tr style=\"text-align: right;\">\n",
       "      <th></th>\n",
       "      <th>4422</th>\n",
       "      <th>13245</th>\n",
       "      <th>5511</th>\n",
       "      <th>8784</th>\n",
       "      <th>4291</th>\n",
       "      <th>7875</th>\n",
       "      <th>12327</th>\n",
       "      <th>3765</th>\n",
       "      <th>5815</th>\n",
       "      <th>9433</th>\n",
       "    </tr>\n",
       "  </thead>\n",
       "  <tbody>\n",
       "    <tr>\n",
       "      <td>0cl_out_tail_au</td>\n",
       "      <td>1.942228</td>\n",
       "      <td>1.229107</td>\n",
       "      <td>2.340626</td>\n",
       "      <td>2.758131</td>\n",
       "      <td>2.041408</td>\n",
       "      <td>1.314213</td>\n",
       "      <td>0.880058</td>\n",
       "      <td>2.070572</td>\n",
       "      <td>1.126244</td>\n",
       "      <td>2.077013</td>\n",
       "    </tr>\n",
       "    <tr>\n",
       "      <td>1cl_out_tail_au</td>\n",
       "      <td>5.315449</td>\n",
       "      <td>3.612458</td>\n",
       "      <td>7.432769</td>\n",
       "      <td>0.000000</td>\n",
       "      <td>4.169209</td>\n",
       "      <td>3.623234</td>\n",
       "      <td>3.307579</td>\n",
       "      <td>3.591682</td>\n",
       "      <td>0.000000</td>\n",
       "      <td>2.996555</td>\n",
       "    </tr>\n",
       "    <tr>\n",
       "      <td>2cl_out_tail_au</td>\n",
       "      <td>5.837715</td>\n",
       "      <td>4.932608</td>\n",
       "      <td>5.857387</td>\n",
       "      <td>0.000000</td>\n",
       "      <td>4.485944</td>\n",
       "      <td>4.115889</td>\n",
       "      <td>4.930595</td>\n",
       "      <td>3.493340</td>\n",
       "      <td>0.000000</td>\n",
       "      <td>4.530227</td>\n",
       "    </tr>\n",
       "    <tr>\n",
       "      <td>final_out_tail_au</td>\n",
       "      <td>3.397705</td>\n",
       "      <td>2.242824</td>\n",
       "      <td>4.638625</td>\n",
       "      <td>0.000000</td>\n",
       "      <td>2.555962</td>\n",
       "      <td>2.511804</td>\n",
       "      <td>2.395597</td>\n",
       "      <td>2.588519</td>\n",
       "      <td>0.000000</td>\n",
       "      <td>3.113340</td>\n",
       "    </tr>\n",
       "  </tbody>\n",
       "</table>\n",
       "</div>"
      ],
      "text/plain": [
       "                      4422      13245     5511      8784      4291      7875   \\\n",
       "0cl_out_tail_au    1.942228  1.229107  2.340626  2.758131  2.041408  1.314213   \n",
       "1cl_out_tail_au    5.315449  3.612458  7.432769  0.000000  4.169209  3.623234   \n",
       "2cl_out_tail_au    5.837715  4.932608  5.857387  0.000000  4.485944  4.115889   \n",
       "final_out_tail_au  3.397705  2.242824  4.638625  0.000000  2.555962  2.511804   \n",
       "\n",
       "                      12327     3765      5815      9433   \n",
       "0cl_out_tail_au    0.880058  2.070572  1.126244  2.077013  \n",
       "1cl_out_tail_au    3.307579  3.591682  0.000000  2.996555  \n",
       "2cl_out_tail_au    4.930595  3.493340  0.000000  4.530227  \n",
       "final_out_tail_au  2.395597  2.588519  0.000000  3.113340  "
      ]
     },
     "metadata": {},
     "output_type": "display_data"
    }
   ],
   "source": [
    "display(data_train_int.loc[:, au_tail].sample(10).T)"
   ]
  },
  {
   "cell_type": "code",
   "execution_count": 27,
   "metadata": {},
   "outputs": [
    {
     "data": {
      "text/plain": [
       "0cl_out_tail_au      1.841012\n",
       "1cl_out_tail_au      3.577243\n",
       "2cl_out_tail_au      3.919292\n",
       "final_out_tail_au    2.677748\n",
       "dtype: float64"
      ]
     },
     "metadata": {},
     "output_type": "display_data"
    }
   ],
   "source": [
    "display(data_train_int[au_tail].mean())"
   ]
  },
  {
   "cell_type": "markdown",
   "metadata": {},
   "source": [
    "#### Серебро"
   ]
  },
  {
   "cell_type": "code",
   "execution_count": 28,
   "metadata": {},
   "outputs": [
    {
     "data": {
      "text/html": [
       "<div>\n",
       "<style scoped>\n",
       "    .dataframe tbody tr th:only-of-type {\n",
       "        vertical-align: middle;\n",
       "    }\n",
       "\n",
       "    .dataframe tbody tr th {\n",
       "        vertical-align: top;\n",
       "    }\n",
       "\n",
       "    .dataframe thead th {\n",
       "        text-align: right;\n",
       "    }\n",
       "</style>\n",
       "<table border=\"1\" class=\"dataframe\">\n",
       "  <thead>\n",
       "    <tr style=\"text-align: right;\">\n",
       "      <th></th>\n",
       "      <th>8745</th>\n",
       "      <th>4515</th>\n",
       "      <th>15701</th>\n",
       "      <th>571</th>\n",
       "      <th>5248</th>\n",
       "      <th>584</th>\n",
       "      <th>16382</th>\n",
       "      <th>579</th>\n",
       "      <th>7792</th>\n",
       "      <th>12855</th>\n",
       "    </tr>\n",
       "  </thead>\n",
       "  <tbody>\n",
       "    <tr>\n",
       "      <td>0cl_in_feed_ag</td>\n",
       "      <td>0.0</td>\n",
       "      <td>10.248085</td>\n",
       "      <td>7.011112</td>\n",
       "      <td>7.202856</td>\n",
       "      <td>10.902107</td>\n",
       "      <td>7.539320</td>\n",
       "      <td>9.579468</td>\n",
       "      <td>7.028660</td>\n",
       "      <td>8.786378</td>\n",
       "      <td>11.560803</td>\n",
       "    </tr>\n",
       "    <tr>\n",
       "      <td>0cl_out_con_ag</td>\n",
       "      <td>0.0</td>\n",
       "      <td>14.588197</td>\n",
       "      <td>10.041291</td>\n",
       "      <td>12.134399</td>\n",
       "      <td>13.116654</td>\n",
       "      <td>11.941328</td>\n",
       "      <td>13.437094</td>\n",
       "      <td>11.439199</td>\n",
       "      <td>0.000000</td>\n",
       "      <td>14.187555</td>\n",
       "    </tr>\n",
       "    <tr>\n",
       "      <td>1cl_out_con_ag</td>\n",
       "      <td>0.0</td>\n",
       "      <td>9.901842</td>\n",
       "      <td>2.570989</td>\n",
       "      <td>6.804341</td>\n",
       "      <td>10.700237</td>\n",
       "      <td>7.211219</td>\n",
       "      <td>10.391362</td>\n",
       "      <td>7.093680</td>\n",
       "      <td>7.980084</td>\n",
       "      <td>11.069292</td>\n",
       "    </tr>\n",
       "    <tr>\n",
       "      <td>final_out_con_ag</td>\n",
       "      <td>0.0</td>\n",
       "      <td>5.820282</td>\n",
       "      <td>3.360278</td>\n",
       "      <td>4.929387</td>\n",
       "      <td>7.048234</td>\n",
       "      <td>5.046043</td>\n",
       "      <td>3.910870</td>\n",
       "      <td>5.202097</td>\n",
       "      <td>5.406896</td>\n",
       "      <td>9.222741</td>\n",
       "    </tr>\n",
       "  </tbody>\n",
       "</table>\n",
       "</div>"
      ],
      "text/plain": [
       "                  8745       4515       15701      571        5248   \\\n",
       "0cl_in_feed_ag      0.0  10.248085   7.011112   7.202856  10.902107   \n",
       "0cl_out_con_ag      0.0  14.588197  10.041291  12.134399  13.116654   \n",
       "1cl_out_con_ag      0.0   9.901842   2.570989   6.804341  10.700237   \n",
       "final_out_con_ag    0.0   5.820282   3.360278   4.929387   7.048234   \n",
       "\n",
       "                      584        16382      579       7792       12855  \n",
       "0cl_in_feed_ag     7.539320   9.579468   7.028660  8.786378  11.560803  \n",
       "0cl_out_con_ag    11.941328  13.437094  11.439199  0.000000  14.187555  \n",
       "1cl_out_con_ag     7.211219  10.391362   7.093680  7.980084  11.069292  \n",
       "final_out_con_ag   5.046043   3.910870   5.202097  5.406896   9.222741  "
      ]
     },
     "metadata": {},
     "output_type": "display_data"
    }
   ],
   "source": [
    "display(data_train_int.loc[:, ag_con].sample(10).T)"
   ]
  },
  {
   "cell_type": "code",
   "execution_count": 29,
   "metadata": {
    "scrolled": true
   },
   "outputs": [
    {
     "data": {
      "text/plain": [
       "0cl_in_feed_ag       7.799291\n",
       "0cl_out_con_ag      10.535823\n",
       "1cl_out_con_ag       7.388568\n",
       "final_out_con_ag     4.699864\n",
       "dtype: float64"
      ]
     },
     "metadata": {},
     "output_type": "display_data"
    }
   ],
   "source": [
    "display(data_train_int[ag_con].mean())"
   ]
  },
  {
   "cell_type": "markdown",
   "metadata": {},
   "source": [
    "#### Свинец"
   ]
  },
  {
   "cell_type": "code",
   "execution_count": 30,
   "metadata": {},
   "outputs": [
    {
     "data": {
      "text/html": [
       "<div>\n",
       "<style scoped>\n",
       "    .dataframe tbody tr th:only-of-type {\n",
       "        vertical-align: middle;\n",
       "    }\n",
       "\n",
       "    .dataframe tbody tr th {\n",
       "        vertical-align: top;\n",
       "    }\n",
       "\n",
       "    .dataframe thead th {\n",
       "        text-align: right;\n",
       "    }\n",
       "</style>\n",
       "<table border=\"1\" class=\"dataframe\">\n",
       "  <thead>\n",
       "    <tr style=\"text-align: right;\">\n",
       "      <th></th>\n",
       "      <th>13506</th>\n",
       "      <th>7339</th>\n",
       "      <th>15852</th>\n",
       "      <th>6048</th>\n",
       "      <th>10013</th>\n",
       "      <th>15417</th>\n",
       "      <th>11598</th>\n",
       "      <th>15995</th>\n",
       "      <th>5585</th>\n",
       "      <th>299</th>\n",
       "    </tr>\n",
       "  </thead>\n",
       "  <tbody>\n",
       "    <tr>\n",
       "      <td>0cl_in_feed_pb</td>\n",
       "      <td>0.01</td>\n",
       "      <td>2.504619</td>\n",
       "      <td>3.290061</td>\n",
       "      <td>3.931889</td>\n",
       "      <td>3.209179</td>\n",
       "      <td>3.085215</td>\n",
       "      <td>0.000000</td>\n",
       "      <td>4.463144</td>\n",
       "      <td>1.661736</td>\n",
       "      <td>3.372971</td>\n",
       "    </tr>\n",
       "    <tr>\n",
       "      <td>0cl_out_con_pb</td>\n",
       "      <td>0.01</td>\n",
       "      <td>6.964922</td>\n",
       "      <td>10.225571</td>\n",
       "      <td>8.023506</td>\n",
       "      <td>7.854360</td>\n",
       "      <td>10.461074</td>\n",
       "      <td>0.000000</td>\n",
       "      <td>10.600605</td>\n",
       "      <td>5.507229</td>\n",
       "      <td>7.723799</td>\n",
       "    </tr>\n",
       "    <tr>\n",
       "      <td>1cl_out_con_pb</td>\n",
       "      <td>0.01</td>\n",
       "      <td>9.815143</td>\n",
       "      <td>13.713056</td>\n",
       "      <td>11.476950</td>\n",
       "      <td>10.118753</td>\n",
       "      <td>14.183786</td>\n",
       "      <td>11.391515</td>\n",
       "      <td>13.473033</td>\n",
       "      <td>6.519456</td>\n",
       "      <td>8.375980</td>\n",
       "    </tr>\n",
       "    <tr>\n",
       "      <td>final_out_con_pb</td>\n",
       "      <td>0.01</td>\n",
       "      <td>9.670406</td>\n",
       "      <td>12.042569</td>\n",
       "      <td>9.999349</td>\n",
       "      <td>10.106512</td>\n",
       "      <td>12.133247</td>\n",
       "      <td>9.718661</td>\n",
       "      <td>9.383790</td>\n",
       "      <td>6.652998</td>\n",
       "      <td>10.450073</td>\n",
       "    </tr>\n",
       "  </tbody>\n",
       "</table>\n",
       "</div>"
      ],
      "text/plain": [
       "                  13506     7339       15852      6048       10013      15417  \\\n",
       "0cl_in_feed_pb     0.01  2.504619   3.290061   3.931889   3.209179   3.085215   \n",
       "0cl_out_con_pb     0.01  6.964922  10.225571   8.023506   7.854360  10.461074   \n",
       "1cl_out_con_pb     0.01  9.815143  13.713056  11.476950  10.118753  14.183786   \n",
       "final_out_con_pb   0.01  9.670406  12.042569   9.999349  10.106512  12.133247   \n",
       "\n",
       "                      11598      15995     5585       299    \n",
       "0cl_in_feed_pb     0.000000   4.463144  1.661736   3.372971  \n",
       "0cl_out_con_pb     0.000000  10.600605  5.507229   7.723799  \n",
       "1cl_out_con_pb    11.391515  13.473033  6.519456   8.375980  \n",
       "final_out_con_pb   9.718661   9.383790  6.652998  10.450073  "
      ]
     },
     "metadata": {},
     "output_type": "display_data"
    }
   ],
   "source": [
    "display(data_train_int.loc[:, pb_con].sample(10).T)"
   ]
  },
  {
   "cell_type": "code",
   "execution_count": 31,
   "metadata": {},
   "outputs": [
    {
     "data": {
      "text/plain": [
       "0cl_in_feed_pb      3.187377\n",
       "0cl_out_con_pb      6.854436\n",
       "1cl_out_con_pb      8.506197\n",
       "final_out_con_pb    9.080430\n",
       "dtype: float64"
      ]
     },
     "metadata": {},
     "output_type": "display_data"
    }
   ],
   "source": [
    "display(data_train_int[pb_con].mean())"
   ]
  },
  {
   "cell_type": "markdown",
   "metadata": {},
   "source": [
    "Концентрация золота с каждым этапом растет на 10-12%, что на выходе позволяет увеличить его содержание до 40-50%. При этом содержание серебра после флотации немного возрастает, а далее падает, а свинец значительно прибавляет на флотации и немного после 1 и 2 очистки.   \n",
    "Процентное содержание золота в \"хвостах\" около 1-5%. Наибольшие потери (относительные) на вторичной очистке."
   ]
  },
  {
   "cell_type": "markdown",
   "metadata": {},
   "source": [
    "### Сравнение распределения размеров гранул сырья на обучающей и тестовой выборках"
   ]
  },
  {
   "cell_type": "code",
   "execution_count": 32,
   "metadata": {},
   "outputs": [
    {
     "data": {
      "image/png": "[encoded data removed]",
      "text/plain": [
       "<Figure size 1008x432 with 1 Axes>"
      ]
     },
     "metadata": {
      "needs_background": "light"
     },
     "output_type": "display_data"
    }
   ],
   "source": [
    "data_train_int['1cl_in_feed_size'].plot.hist(range=(5, 10), bins=50, figsize=(14, 6), density=True, alpha = 0.6)\n",
    "data_test['1cl_in_feed_size'].plot.hist(range=(5, 10), bins=50, figsize=(14, 6), density=True, alpha = 0.6)\n",
    "plt.title('Распределение размера гранул сырья в тренировочной и тестовой выборках (нормированное)'); \n",
    "plt.ylabel('Частота')\n",
    "plt.xlabel('Размер гранул сырья');"
   ]
  },
  {
   "cell_type": "markdown",
   "metadata": {},
   "source": [
    "Распределения схожи. Выборка корректна."
   ]
  },
  {
   "cell_type": "markdown",
   "metadata": {},
   "source": [
    "### Исследование суммарных концентраций веществ на разных стадиях"
   ]
  },
  {
   "cell_type": "markdown",
   "metadata": {},
   "source": [
    "Исследуйте суммарную концентрацию всех веществ на разных\n",
    "стадиях: в сырье, в черновом и финальном концентратах. Заметили\n",
    "аномальные значения в суммарном распределении или нет? Если они\n",
    "есть, стоит ли их удалять из обеих выборок? Опишите выводы и удалите\n",
    "аномалии."
   ]
  },
  {
   "cell_type": "code",
   "execution_count": 33,
   "metadata": {},
   "outputs": [],
   "source": [
    "data_train_int['0cl_sum'] = data_train_int['0cl_in_feed_ag']\n",
    "for col in ['0cl_in_feed_pb', '0cl_in_feed_sol', '0cl_in_feed_au']:\n",
    "    data_train_int['0cl_sum'] += data_train_int[col]\n",
    "    \n",
    "data_train_int['1cl_sum'] = data_train_int['1cl_out_con_ag']\n",
    "for col in ['1cl_out_con_pb', '1cl_out_con_sol', '1cl_out_con_au']:\n",
    "    data_train_int['1cl_sum'] += data_train_int[col]\n",
    "\n",
    "data_train_int['final_sum'] = data_train_int['final_out_con_ag']\n",
    "for col in ['final_out_con_pb', 'final_out_con_sol', 'final_out_con_au']:\n",
    "    data_train_int['final_sum'] += data_train_int[col]\n",
    "\n",
    "sum_con = ['0cl_sum', '1cl_sum', 'final_sum']"
   ]
  },
  {
   "cell_type": "code",
   "execution_count": 34,
   "metadata": {
    "scrolled": true
   },
   "outputs": [
    {
     "data": {
      "text/html": [
       "<div>\n",
       "<style scoped>\n",
       "    .dataframe tbody tr th:only-of-type {\n",
       "        vertical-align: middle;\n",
       "    }\n",
       "\n",
       "    .dataframe tbody tr th {\n",
       "        vertical-align: top;\n",
       "    }\n",
       "\n",
       "    .dataframe thead th {\n",
       "        text-align: right;\n",
       "    }\n",
       "</style>\n",
       "<table border=\"1\" class=\"dataframe\">\n",
       "  <thead>\n",
       "    <tr style=\"text-align: right;\">\n",
       "      <th></th>\n",
       "      <th>0cl_sum</th>\n",
       "      <th>1cl_sum</th>\n",
       "      <th>final_sum</th>\n",
       "    </tr>\n",
       "  </thead>\n",
       "  <tbody>\n",
       "    <tr>\n",
       "      <td>count</td>\n",
       "      <td>16860.000000</td>\n",
       "      <td>16860.000000</td>\n",
       "      <td>16860.000000</td>\n",
       "    </tr>\n",
       "    <tr>\n",
       "      <td>mean</td>\n",
       "      <td>50.437052</td>\n",
       "      <td>53.904050</td>\n",
       "      <td>61.284125</td>\n",
       "    </tr>\n",
       "    <tr>\n",
       "      <td>std</td>\n",
       "      <td>18.150602</td>\n",
       "      <td>20.549105</td>\n",
       "      <td>21.669294</td>\n",
       "    </tr>\n",
       "    <tr>\n",
       "      <td>min</td>\n",
       "      <td>0.000000</td>\n",
       "      <td>0.000000</td>\n",
       "      <td>0.000000</td>\n",
       "    </tr>\n",
       "    <tr>\n",
       "      <td>25%</td>\n",
       "      <td>50.255223</td>\n",
       "      <td>55.023514</td>\n",
       "      <td>66.533865</td>\n",
       "    </tr>\n",
       "    <tr>\n",
       "      <td>50%</td>\n",
       "      <td>55.772467</td>\n",
       "      <td>61.075012</td>\n",
       "      <td>68.802985</td>\n",
       "    </tr>\n",
       "    <tr>\n",
       "      <td>75%</td>\n",
       "      <td>60.258431</td>\n",
       "      <td>64.859092</td>\n",
       "      <td>70.693809</td>\n",
       "    </tr>\n",
       "    <tr>\n",
       "      <td>max</td>\n",
       "      <td>76.024095</td>\n",
       "      <td>76.918076</td>\n",
       "      <td>80.210644</td>\n",
       "    </tr>\n",
       "  </tbody>\n",
       "</table>\n",
       "</div>"
      ],
      "text/plain": [
       "            0cl_sum       1cl_sum     final_sum\n",
       "count  16860.000000  16860.000000  16860.000000\n",
       "mean      50.437052     53.904050     61.284125\n",
       "std       18.150602     20.549105     21.669294\n",
       "min        0.000000      0.000000      0.000000\n",
       "25%       50.255223     55.023514     66.533865\n",
       "50%       55.772467     61.075012     68.802985\n",
       "75%       60.258431     64.859092     70.693809\n",
       "max       76.024095     76.918076     80.210644"
      ]
     },
     "execution_count": 34,
     "metadata": {},
     "output_type": "execute_result"
    }
   ],
   "source": [
    "data_train_int[sum_con].describe()"
   ]
  },
  {
   "cell_type": "code",
   "execution_count": 35,
   "metadata": {},
   "outputs": [
    {
     "data": {
      "image/png": "[encoded data removed]",
      "text/plain": [
       "<Figure size 1008x432 with 1 Axes>"
      ]
     },
     "metadata": {
      "needs_background": "light"
     },
     "output_type": "display_data"
    }
   ],
   "source": [
    "data_train_int[sum_con].boxplot(figsize=(14, 6));"
   ]
  },
  {
   "cell_type": "code",
   "execution_count": 36,
   "metadata": {},
   "outputs": [
    {
     "data": {
      "image/png": "[encoded data removed]",
      "text/plain": [
       "<Figure size 1008x432 with 1 Axes>"
      ]
     },
     "metadata": {
      "needs_background": "light"
     },
     "output_type": "display_data"
    }
   ],
   "source": [
    "data_train_int[sum_con].plot.hist(bins=80, figsize=(14, 6), alpha = 0.6, density=True)\n",
    "plt.title('Распределение суммарной концентрации веществ на выходе по этапам очистки (нормированное)'); \n",
    "plt.ylabel('Частота')\n",
    "plt.xlabel('Суммарная концентрация, %')\n",
    "plt.legend(['после флотации', 'после первичной очистки', 'финальная']);"
   ]
  },
  {
   "cell_type": "code",
   "execution_count": 37,
   "metadata": {
    "scrolled": false
   },
   "outputs": [],
   "source": [
    "#data_train_int_min = data_train_int[\n",
    "#    (data_train_int['0cl_sum']<1) | (data_train_int['1cl_sum']<1) | (data_train_int['final_sum']<1)]\n",
    "#data_train_int_min[sum_con].plot.hist(bins=80, figsize=(14, 6), alpha = 0.8);"
   ]
  },
  {
   "cell_type": "markdown",
   "metadata": {},
   "source": [
    "Вероятно суммарные значения концентрации металлов < 0,05 являются выбросами. Также считаю что целевая концентрация (0cl_in_feed_ag, 0cl_out_con_ag, 1cl_out_con_ag, final_out_con_ag) ниже 0,05 (%) является ошибкой оборудования и только внесет \"шум\" при обучении модели."
   ]
  },
  {
   "cell_type": "markdown",
   "metadata": {},
   "source": [
    "## Удаление выбросов\n",
    "[Таблица имен DataFrame](#DataFrame_names) "
   ]
  },
  {
   "cell_type": "markdown",
   "metadata": {},
   "source": [
    "<div class=\"alert alert-block alert-info\">\n",
    "Модель должна предсказать \"кошку/собаку\" (данные  обычного технологического процесса). А в обучающей и тестовой выборках попадаются \"жирафы\" (простой оборудования/ регламентные работы/ выходные и праздники). Цели найти \"жирафов\" нет - поэтому при обучении и в тесте признаки \"жирафов\" не нужны!"
   ]
  },
  {
   "cell_type": "markdown",
   "metadata": {},
   "source": [
    "### В тренировочных данных"
   ]
  },
  {
   "cell_type": "markdown",
   "metadata": {},
   "source": [
    "#### Не удаляем"
   ]
  },
  {
   "cell_type": "code",
   "execution_count": 38,
   "metadata": {},
   "outputs": [],
   "source": [
    "data_train_int_nodrop = data_train_int.copy()\n",
    "data_train_fillna0_nodrop = data_train_fillna0.copy()\n",
    "data_train_dropNA_nodrop = data_train_dropNA.copy()"
   ]
  },
  {
   "cell_type": "markdown",
   "metadata": {},
   "source": [
    "#### Удаляем строки с концентрацией < 0.05"
   ]
  },
  {
   "cell_type": "markdown",
   "metadata": {},
   "source": [
    "<div class=\"alert alert-block alert-info\">\n",
    "0.05 выбран из-за наличия в данных не толлько 0 но и 0.01"
   ]
  },
  {
   "cell_type": "code",
   "execution_count": 39,
   "metadata": {},
   "outputs": [
    {
     "name": "stdout",
     "output_type": "stream",
     "text": [
      "16860\n",
      "15418\n",
      "15418\n",
      "-1442\n"
     ]
    }
   ],
   "source": [
    "#data_train_int \n",
    "#удаляем строки с суммарной концентрацией < 0.05 \n",
    "con_threshold = 0.05\n",
    "print(len(data_train_int.index))\n",
    "data_train_int_drop1 = data_train_int[(data_train_int['0cl_sum']>con_threshold) | \n",
    "                                      (data_train_int['1cl_sum']>con_threshold) | \n",
    "                                      (data_train_int['final_sum']>con_threshold)]\n",
    "print(len(data_train_int_drop1.index))\n",
    "\n",
    "#удаляем строки с концентрацией золота по этапам < 0.05 - не нужно т.к. все такие строки отсеялись в предыдущей ячейке\n",
    "data_train_int_drop2 = data_train_int_drop1[(data_train_int_drop1['0cl_in_feed_au']>con_threshold) | \n",
    "                                            (data_train_int_drop1['0cl_out_con_au']>con_threshold) | \n",
    "                                            (data_train_int_drop1['1cl_out_con_au']>con_threshold) | \n",
    "                                            (data_train_int_drop1['final_out_con_au']>con_threshold)]\n",
    "print(len(data_train_int_drop2.index))\n",
    "print(len(data_train_int_drop2.index)-len(data_train_int.index))"
   ]
  },
  {
   "cell_type": "code",
   "execution_count": 40,
   "metadata": {},
   "outputs": [
    {
     "name": "stdout",
     "output_type": "stream",
     "text": [
      "16860\n",
      "15405\n",
      "-1455\n"
     ]
    }
   ],
   "source": [
    "#data_train_fillna0\n",
    "#удаляем строки с концентрацией золота по этапам < 0.05 \n",
    "print(len(data_train_fillna0.index))\n",
    "data_train_fillna0_drop2 = data_train_fillna0[(data_train_fillna0['0cl_in_feed_au']>con_threshold) | \n",
    "                                              (data_train_fillna0['0cl_out_con_au']>con_threshold) | \n",
    "                                              (data_train_fillna0['1cl_out_con_au']>con_threshold) | \n",
    "                                              (data_train_fillna0['final_out_con_au']>con_threshold)]\n",
    "print(len(data_train_fillna0_drop2.index))\n",
    "print(len(data_train_fillna0_drop2.index)-len(data_train_fillna0.index))"
   ]
  },
  {
   "cell_type": "code",
   "execution_count": 41,
   "metadata": {},
   "outputs": [
    {
     "name": "stdout",
     "output_type": "stream",
     "text": [
      "11017\n",
      "11017\n",
      "0\n"
     ]
    }
   ],
   "source": [
    "#data_train_dropNA\n",
    "#удаляем строки с концентрацией золота по этапам < 0.05 \n",
    "print(len(data_train_dropNA.index))\n",
    "data_train_dropNA_drop2 = data_train_dropNA[(data_train_dropNA['0cl_in_feed_au']>con_threshold) | \n",
    "                                            (data_train_dropNA['0cl_out_con_au']>con_threshold) | \n",
    "                                            (data_train_dropNA['1cl_out_con_au']>con_threshold) | \n",
    "                                            (data_train_dropNA['final_out_con_au']>con_threshold)]\n",
    "print(len(data_train_dropNA_drop2.index))\n",
    "print(data_train_dropNA_drop2['0cl_in_feed_au'].count()-data_train_dropNA['0cl_in_feed_au'].count())"
   ]
  },
  {
   "cell_type": "code",
   "execution_count": 42,
   "metadata": {
    "scrolled": false
   },
   "outputs": [],
   "source": [
    "#data_test.info()"
   ]
  },
  {
   "cell_type": "markdown",
   "metadata": {},
   "source": [
    "#### Удаляем строки с концентрацией == 0"
   ]
  },
  {
   "cell_type": "markdown",
   "metadata": {},
   "source": [
    "### В тестовых данных ????"
   ]
  },
  {
   "cell_type": "markdown",
   "metadata": {},
   "source": [
    "#### Удаляем NaN"
   ]
  },
  {
   "cell_type": "markdown",
   "metadata": {},
   "source": [
    "#### Заполняем NaN нулями"
   ]
  },
  {
   "cell_type": "markdown",
   "metadata": {},
   "source": [
    "#### Удаляем строки с концентрацией во входящем сырье < 0.05 и заполняем NaN интерполяцией"
   ]
  },
  {
   "cell_type": "code",
   "execution_count": 43,
   "metadata": {},
   "outputs": [
    {
     "name": "stdout",
     "output_type": "stream",
     "text": [
      "5856\n",
      "5471\n"
     ]
    }
   ],
   "source": [
    "print(len(data_test.index))\n",
    "data_test_drop = data_test[(data_test['0cl_in_feed_au']>con_threshold) | \n",
    "                           (data_test['0cl_in_feed_pb']>con_threshold) |\n",
    "                           (data_test['0cl_in_feed_ag']>con_threshold) |\n",
    "                           (data_test['0cl_in_feed_sol']>con_threshold)]\n",
    "print(len(data_test_drop.index))"
   ]
  },
  {
   "cell_type": "code",
   "execution_count": 44,
   "metadata": {},
   "outputs": [
    {
     "data": {
      "text/plain": [
       "192"
      ]
     },
     "execution_count": 44,
     "metadata": {},
     "output_type": "execute_result"
    }
   ],
   "source": [
    "data_test_drop.isna().sum().sum()"
   ]
  },
  {
   "cell_type": "code",
   "execution_count": 45,
   "metadata": {},
   "outputs": [],
   "source": [
    "data_test_drop = data_test_drop.interpolate()"
   ]
  },
  {
   "cell_type": "markdown",
   "metadata": {},
   "source": []
  },
  {
   "cell_type": "markdown",
   "metadata": {},
   "source": [
    "На удалении выбросов теряем: \n",
    "* тренировочная выборка - 1442 строки (8.5%) (суммарные концентрации и концентрации золота на каждом этапе <= 0.05)\n",
    "* тестовая выборка - (369) строк (6.6%) (концентрации в cырье <= 0.05) \n",
    "\n",
    "192 пропуска в тестовой выборке заполнено интерполяцией"
   ]
  },
  {
   "cell_type": "markdown",
   "metadata": {},
   "source": [
    "### Выбор и масштабирование признаков"
   ]
  },
  {
   "cell_type": "code",
   "execution_count": 46,
   "metadata": {},
   "outputs": [],
   "source": [
    "#проиндексируем датой - не понял как обращаться по Datetime индексу\n",
    "#for df in [data_train_int_drop2, data_test_drop2, data_full]:\n",
    "#    df.index = df['date']\n",
    "#    df.index.name = None\n",
    "#\n",
    "#target_test = data_full[features_test.index]"
   ]
  },
  {
   "cell_type": "code",
   "execution_count": 47,
   "metadata": {},
   "outputs": [],
   "source": [
    "#Столбцы признаков\n",
    "features = data_test_drop.drop(['date'], axis='columns').columns #только столбцы которые есть в тестовой выборке\n",
    "targets = ['0cl_out_recovery', 'final_out_recovery']"
   ]
  },
  {
   "cell_type": "code",
   "execution_count": 48,
   "metadata": {},
   "outputs": [],
   "source": [
    "scaler = StandardScaler()\n",
    "#numeric = list(data_test_drop.drop(['date'], axis='columns').columns)\n",
    "scaler.fit(data_train_int_drop2[features])\n",
    "\n",
    "data_train_int_drop2[features] = scaler.transform(data_train_int_drop2[features])\n",
    "data_test_drop[features] = scaler.transform(data_test_drop[features])"
   ]
  },
  {
   "cell_type": "code",
   "execution_count": 49,
   "metadata": {},
   "outputs": [],
   "source": [
    "#Разделим тренировочную выборку на features и target\n",
    "features_train = data_train_int_drop2[features].values\n",
    "target_train = data_train_int_drop2[targets].values"
   ]
  },
  {
   "cell_type": "markdown",
   "metadata": {},
   "source": [
    "## Функция для вычисления sMAPE"
   ]
  },
  {
   "cell_type": "code",
   "execution_count": 50,
   "metadata": {},
   "outputs": [],
   "source": [
    "def smape_calc(targets, predictions):\n",
    "    \n",
    "    sm_r = 0\n",
    "    sm_f = 0\n",
    "    length = targets.shape[0]\n",
    "    smape_val = 0\n",
    "    \n",
    "    for i in range(length):\n",
    "        \n",
    "        rrt = targets[i][0]#recovery rouger target\n",
    "        rrp = predictions[i][0]#recovery rouger predicted\n",
    "        sm_r += abs(rrt-rrp)/(abs(rrt)+abs(rrp))\n",
    "        \n",
    "        rft = targets[i][1] #recovery final target\n",
    "        rfp = predictions[i][1] #recovery final predicted\n",
    "        sm_f += abs(rft-rfp)/(abs(rft)+abs(rfp))\n",
    "        \n",
    "        smape_val = (2*0.25*sm_r+2*0.75*sm_f)/length\n",
    "    return smape_val"
   ]
  },
  {
   "cell_type": "markdown",
   "metadata": {},
   "source": [
    "## Обучение и проверка моделей\n",
    "3. Постройте модель\n",
    "3.1. Напишите функцию для вычисления итоговой sMAPE.\n",
    "3.2. Обучите разные модели и оцените их качество кросс-валидацией.\n",
    "Выберите лучшую модель и проверьте её на тестовой выборке. Опишите\n",
    "выводы.\n",
    "\n",
    "Вам пригодятся формулы метрик качества: см. пдф или распечатку\n"
   ]
  },
  {
   "cell_type": "code",
   "execution_count": 51,
   "metadata": {},
   "outputs": [],
   "source": [
    "N = 5\n",
    "kfold = KFold(n_splits=N, random_state=123, shuffle=True)\n",
    "#train_test_indexes = kfold.split(features_train)"
   ]
  },
  {
   "cell_type": "markdown",
   "metadata": {},
   "source": [
    "### Линейная регрессия"
   ]
  },
  {
   "cell_type": "code",
   "execution_count": 52,
   "metadata": {
    "scrolled": true
   },
   "outputs": [
    {
     "name": "stdout",
     "output_type": "stream",
     "text": [
      "0.11519261243682183\n"
     ]
    }
   ],
   "source": [
    "model1 = LinearRegression()\n",
    "cv_smape = 0\n",
    "\n",
    "for train_folds_indexes, test_fold_indexes in kfold.split(features_train):\n",
    "    model1.fit(features_train[train_folds_indexes], target_train[train_folds_indexes])\n",
    "    predictions_train = model1.predict(features_train[test_fold_indexes])\n",
    "    sm = smape_calc(target_train[test_fold_indexes], predictions_train)\n",
    "    cv_smape += sm/N\n",
    "print(cv_smape)"
   ]
  },
  {
   "cell_type": "code",
   "execution_count": 53,
   "metadata": {},
   "outputs": [],
   "source": [
    "model2 = LinearRegression()"
   ]
  },
  {
   "cell_type": "code",
   "execution_count": 54,
   "metadata": {},
   "outputs": [],
   "source": [
    "smape_score = make_scorer(smape_calc, greater_is_better=True)"
   ]
  },
  {
   "cell_type": "code",
   "execution_count": 55,
   "metadata": {
    "scrolled": true
   },
   "outputs": [
    {
     "name": "stdout",
     "output_type": "stream",
     "text": [
      "0.11519261243682184\n"
     ]
    }
   ],
   "source": [
    "cv2_smape = cross_val_score(model2, features_train, target_train, cv=kfold, scoring=smape_score)\n",
    "print(cv2_smape.mean())"
   ]
  },
  {
   "cell_type": "markdown",
   "metadata": {},
   "source": [
    "### Дерево решений"
   ]
  },
  {
   "cell_type": "code",
   "execution_count": 56,
   "metadata": {},
   "outputs": [],
   "source": [
    "model3 = DecisionTreeRegressor()"
   ]
  },
  {
   "cell_type": "code",
   "execution_count": 57,
   "metadata": {},
   "outputs": [],
   "source": [
    "parametrs = { 'max_depth': [2, 3, 4], #, 8, 12, 16\n",
    "              'min_samples_leaf': [2, 8, 12, 16], #24\n",
    "              'min_samples_split': [2, 4, 6, 8] }"
   ]
  },
  {
   "cell_type": "code",
   "execution_count": 58,
   "metadata": {},
   "outputs": [],
   "source": [
    "#import warnings\n",
    "#warnings.filterwarnings('ignore', category=DeprecationWarning)\n",
    "#warnings.filterwarnings('ignore', category=RuntimeWarning)"
   ]
  },
  {
   "cell_type": "code",
   "execution_count": 59,
   "metadata": {},
   "outputs": [
    {
     "name": "stderr",
     "output_type": "stream",
     "text": [
      "/opt/conda/lib/python3.7/site-packages/ipykernel_launcher.py:12: RuntimeWarning: invalid value encountered in double_scalars\n",
      "  if sys.path[0] == '':\n",
      "/opt/conda/lib/python3.7/site-packages/ipykernel_launcher.py:12: RuntimeWarning: invalid value encountered in double_scalars\n",
      "  if sys.path[0] == '':\n",
      "/opt/conda/lib/python3.7/site-packages/ipykernel_launcher.py:12: RuntimeWarning: invalid value encountered in double_scalars\n",
      "  if sys.path[0] == '':\n",
      "/opt/conda/lib/python3.7/site-packages/ipykernel_launcher.py:12: RuntimeWarning: invalid value encountered in double_scalars\n",
      "  if sys.path[0] == '':\n",
      "/opt/conda/lib/python3.7/site-packages/ipykernel_launcher.py:12: RuntimeWarning: invalid value encountered in double_scalars\n",
      "  if sys.path[0] == '':\n",
      "/opt/conda/lib/python3.7/site-packages/ipykernel_launcher.py:12: RuntimeWarning: invalid value encountered in double_scalars\n",
      "  if sys.path[0] == '':\n",
      "/opt/conda/lib/python3.7/site-packages/ipykernel_launcher.py:12: RuntimeWarning: invalid value encountered in double_scalars\n",
      "  if sys.path[0] == '':\n",
      "/opt/conda/lib/python3.7/site-packages/ipykernel_launcher.py:12: RuntimeWarning: invalid value encountered in double_scalars\n",
      "  if sys.path[0] == '':\n",
      "/opt/conda/lib/python3.7/site-packages/ipykernel_launcher.py:12: RuntimeWarning: invalid value encountered in double_scalars\n",
      "  if sys.path[0] == '':\n",
      "/opt/conda/lib/python3.7/site-packages/ipykernel_launcher.py:12: RuntimeWarning: invalid value encountered in double_scalars\n",
      "  if sys.path[0] == '':\n",
      "/opt/conda/lib/python3.7/site-packages/ipykernel_launcher.py:12: RuntimeWarning: invalid value encountered in double_scalars\n",
      "  if sys.path[0] == '':\n",
      "/opt/conda/lib/python3.7/site-packages/ipykernel_launcher.py:12: RuntimeWarning: invalid value encountered in double_scalars\n",
      "  if sys.path[0] == '':\n",
      "/opt/conda/lib/python3.7/site-packages/ipykernel_launcher.py:12: RuntimeWarning: invalid value encountered in double_scalars\n",
      "  if sys.path[0] == '':\n",
      "/opt/conda/lib/python3.7/site-packages/ipykernel_launcher.py:12: RuntimeWarning: invalid value encountered in double_scalars\n",
      "  if sys.path[0] == '':\n",
      "/opt/conda/lib/python3.7/site-packages/ipykernel_launcher.py:12: RuntimeWarning: invalid value encountered in double_scalars\n",
      "  if sys.path[0] == '':\n",
      "/opt/conda/lib/python3.7/site-packages/ipykernel_launcher.py:12: RuntimeWarning: invalid value encountered in double_scalars\n",
      "  if sys.path[0] == '':\n",
      "/opt/conda/lib/python3.7/site-packages/ipykernel_launcher.py:12: RuntimeWarning: invalid value encountered in double_scalars\n",
      "  if sys.path[0] == '':\n",
      "/opt/conda/lib/python3.7/site-packages/ipykernel_launcher.py:12: RuntimeWarning: invalid value encountered in double_scalars\n",
      "  if sys.path[0] == '':\n",
      "/opt/conda/lib/python3.7/site-packages/ipykernel_launcher.py:12: RuntimeWarning: invalid value encountered in double_scalars\n",
      "  if sys.path[0] == '':\n",
      "/opt/conda/lib/python3.7/site-packages/ipykernel_launcher.py:12: RuntimeWarning: invalid value encountered in double_scalars\n",
      "  if sys.path[0] == '':\n",
      "/opt/conda/lib/python3.7/site-packages/ipykernel_launcher.py:12: RuntimeWarning: invalid value encountered in double_scalars\n",
      "  if sys.path[0] == '':\n",
      "/opt/conda/lib/python3.7/site-packages/ipykernel_launcher.py:12: RuntimeWarning: invalid value encountered in double_scalars\n",
      "  if sys.path[0] == '':\n",
      "/opt/conda/lib/python3.7/site-packages/ipykernel_launcher.py:12: RuntimeWarning: invalid value encountered in double_scalars\n",
      "  if sys.path[0] == '':\n",
      "/opt/conda/lib/python3.7/site-packages/ipykernel_launcher.py:12: RuntimeWarning: invalid value encountered in double_scalars\n",
      "  if sys.path[0] == '':\n",
      "/opt/conda/lib/python3.7/site-packages/ipykernel_launcher.py:12: RuntimeWarning: invalid value encountered in double_scalars\n",
      "  if sys.path[0] == '':\n",
      "/opt/conda/lib/python3.7/site-packages/ipykernel_launcher.py:12: RuntimeWarning: invalid value encountered in double_scalars\n",
      "  if sys.path[0] == '':\n",
      "/opt/conda/lib/python3.7/site-packages/ipykernel_launcher.py:12: RuntimeWarning: invalid value encountered in double_scalars\n",
      "  if sys.path[0] == '':\n",
      "/opt/conda/lib/python3.7/site-packages/ipykernel_launcher.py:12: RuntimeWarning: invalid value encountered in double_scalars\n",
      "  if sys.path[0] == '':\n",
      "/opt/conda/lib/python3.7/site-packages/ipykernel_launcher.py:12: RuntimeWarning: invalid value encountered in double_scalars\n",
      "  if sys.path[0] == '':\n",
      "/opt/conda/lib/python3.7/site-packages/ipykernel_launcher.py:12: RuntimeWarning: invalid value encountered in double_scalars\n",
      "  if sys.path[0] == '':\n",
      "/opt/conda/lib/python3.7/site-packages/ipykernel_launcher.py:12: RuntimeWarning: invalid value encountered in double_scalars\n",
      "  if sys.path[0] == '':\n",
      "/opt/conda/lib/python3.7/site-packages/ipykernel_launcher.py:12: RuntimeWarning: invalid value encountered in double_scalars\n",
      "  if sys.path[0] == '':\n",
      "/opt/conda/lib/python3.7/site-packages/ipykernel_launcher.py:12: RuntimeWarning: invalid value encountered in double_scalars\n",
      "  if sys.path[0] == '':\n",
      "/opt/conda/lib/python3.7/site-packages/ipykernel_launcher.py:12: RuntimeWarning: invalid value encountered in double_scalars\n",
      "  if sys.path[0] == '':\n",
      "/opt/conda/lib/python3.7/site-packages/ipykernel_launcher.py:12: RuntimeWarning: invalid value encountered in double_scalars\n",
      "  if sys.path[0] == '':\n",
      "/opt/conda/lib/python3.7/site-packages/ipykernel_launcher.py:12: RuntimeWarning: invalid value encountered in double_scalars\n",
      "  if sys.path[0] == '':\n",
      "/opt/conda/lib/python3.7/site-packages/ipykernel_launcher.py:12: RuntimeWarning: invalid value encountered in double_scalars\n",
      "  if sys.path[0] == '':\n",
      "/opt/conda/lib/python3.7/site-packages/ipykernel_launcher.py:12: RuntimeWarning: invalid value encountered in double_scalars\n",
      "  if sys.path[0] == '':\n",
      "/opt/conda/lib/python3.7/site-packages/ipykernel_launcher.py:12: RuntimeWarning: invalid value encountered in double_scalars\n",
      "  if sys.path[0] == '':\n",
      "/opt/conda/lib/python3.7/site-packages/ipykernel_launcher.py:12: RuntimeWarning: invalid value encountered in double_scalars\n",
      "  if sys.path[0] == '':\n",
      "/opt/conda/lib/python3.7/site-packages/sklearn/model_selection/_search.py:813: DeprecationWarning: The default of the `iid` parameter will change from True to False in version 0.22 and will be removed in 0.24. This will change numeric results when test-set sizes are unequal.\n",
      "  DeprecationWarning)\n"
     ]
    },
    {
     "data": {
      "text/plain": [
       "GridSearchCV(cv=KFold(n_splits=5, random_state=123, shuffle=True),\n",
       "             error_score='raise-deprecating',\n",
       "             estimator=DecisionTreeRegressor(criterion='mse', max_depth=None,\n",
       "                                             max_features=None,\n",
       "                                             max_leaf_nodes=None,\n",
       "                                             min_impurity_decrease=0.0,\n",
       "                                             min_impurity_split=None,\n",
       "                                             min_samples_leaf=1,\n",
       "                                             min_samples_split=2,\n",
       "                                             min_weight_fraction_leaf=0.0,\n",
       "                                             presort=False, random_state=None,\n",
       "                                             splitter='best'),\n",
       "             iid='warn', n_jobs=None,\n",
       "             param_grid={'max_depth': [2, 3, 4],\n",
       "                         'min_samples_leaf': [2, 8, 12, 16],\n",
       "                         'min_samples_split': [2, 4, 6, 8]},\n",
       "             pre_dispatch='2*n_jobs', refit=True, return_train_score=False,\n",
       "             scoring=make_scorer(smape_calc), verbose=0)"
      ]
     },
     "execution_count": 59,
     "metadata": {},
     "output_type": "execute_result"
    }
   ],
   "source": [
    "grid = GridSearchCV(model3, parametrs, cv=kfold, scoring=smape_score)\n",
    "grid.fit(features_train, target_train)"
   ]
  },
  {
   "cell_type": "markdown",
   "metadata": {},
   "source": [
    "###### Насколько понимаю предупреждение не критическое, но на всякий случай не прячу."
   ]
  },
  {
   "cell_type": "code",
   "execution_count": 60,
   "metadata": {},
   "outputs": [
    {
     "name": "stdout",
     "output_type": "stream",
     "text": [
      "{'max_depth': 2, 'min_samples_leaf': 8, 'min_samples_split': 8}\n"
     ]
    }
   ],
   "source": [
    "params = grid.best_params_ #{'max_depth': 2, 'min_samples_leaf': 8, 'min_samples_split': 8}\n",
    "print(params)"
   ]
  },
  {
   "cell_type": "code",
   "execution_count": 61,
   "metadata": {
    "scrolled": true
   },
   "outputs": [
    {
     "name": "stdout",
     "output_type": "stream",
     "text": [
      "0.12271777803527747\n"
     ]
    }
   ],
   "source": [
    "model3 = DecisionTreeRegressor().set_params(**params)\n",
    "cv3_smape = cross_val_score(model3, features_train, target_train, cv=kfold, scoring=smape_score)\n",
    "print(cv3_smape.mean())"
   ]
  },
  {
   "cell_type": "markdown",
   "metadata": {},
   "source": [
    "### Случайный лес"
   ]
  },
  {
   "cell_type": "code",
   "execution_count": 62,
   "metadata": {},
   "outputs": [],
   "source": [
    "model4 = RandomForestRegressor()"
   ]
  },
  {
   "cell_type": "code",
   "execution_count": 63,
   "metadata": {},
   "outputs": [],
   "source": [
    "parametrs = { 'max_depth': [2, 3, 4],\n",
    "              'min_samples_leaf': [8, 12, 16, 20],\n",
    "              'min_samples_split': [4, 8, 16],\n",
    "              'n_estimators': [2, 4, 10]}"
   ]
  },
  {
   "cell_type": "code",
   "execution_count": 64,
   "metadata": {
    "scrolled": true
   },
   "outputs": [
    {
     "name": "stderr",
     "output_type": "stream",
     "text": [
      "/opt/conda/lib/python3.7/site-packages/ipykernel_launcher.py:12: RuntimeWarning: invalid value encountered in double_scalars\n",
      "  if sys.path[0] == '':\n",
      "/opt/conda/lib/python3.7/site-packages/ipykernel_launcher.py:12: RuntimeWarning: invalid value encountered in double_scalars\n",
      "  if sys.path[0] == '':\n",
      "/opt/conda/lib/python3.7/site-packages/ipykernel_launcher.py:12: RuntimeWarning: invalid value encountered in double_scalars\n",
      "  if sys.path[0] == '':\n",
      "/opt/conda/lib/python3.7/site-packages/ipykernel_launcher.py:12: RuntimeWarning: invalid value encountered in double_scalars\n",
      "  if sys.path[0] == '':\n",
      "/opt/conda/lib/python3.7/site-packages/ipykernel_launcher.py:12: RuntimeWarning: invalid value encountered in double_scalars\n",
      "  if sys.path[0] == '':\n",
      "/opt/conda/lib/python3.7/site-packages/ipykernel_launcher.py:12: RuntimeWarning: invalid value encountered in double_scalars\n",
      "  if sys.path[0] == '':\n",
      "/opt/conda/lib/python3.7/site-packages/ipykernel_launcher.py:12: RuntimeWarning: invalid value encountered in double_scalars\n",
      "  if sys.path[0] == '':\n",
      "/opt/conda/lib/python3.7/site-packages/ipykernel_launcher.py:12: RuntimeWarning: invalid value encountered in double_scalars\n",
      "  if sys.path[0] == '':\n",
      "/opt/conda/lib/python3.7/site-packages/ipykernel_launcher.py:12: RuntimeWarning: invalid value encountered in double_scalars\n",
      "  if sys.path[0] == '':\n",
      "/opt/conda/lib/python3.7/site-packages/ipykernel_launcher.py:12: RuntimeWarning: invalid value encountered in double_scalars\n",
      "  if sys.path[0] == '':\n",
      "/opt/conda/lib/python3.7/site-packages/ipykernel_launcher.py:12: RuntimeWarning: invalid value encountered in double_scalars\n",
      "  if sys.path[0] == '':\n",
      "/opt/conda/lib/python3.7/site-packages/ipykernel_launcher.py:12: RuntimeWarning: invalid value encountered in double_scalars\n",
      "  if sys.path[0] == '':\n",
      "/opt/conda/lib/python3.7/site-packages/ipykernel_launcher.py:12: RuntimeWarning: invalid value encountered in double_scalars\n",
      "  if sys.path[0] == '':\n",
      "/opt/conda/lib/python3.7/site-packages/ipykernel_launcher.py:12: RuntimeWarning: invalid value encountered in double_scalars\n",
      "  if sys.path[0] == '':\n",
      "/opt/conda/lib/python3.7/site-packages/ipykernel_launcher.py:12: RuntimeWarning: invalid value encountered in double_scalars\n",
      "  if sys.path[0] == '':\n",
      "/opt/conda/lib/python3.7/site-packages/ipykernel_launcher.py:12: RuntimeWarning: invalid value encountered in double_scalars\n",
      "  if sys.path[0] == '':\n",
      "/opt/conda/lib/python3.7/site-packages/ipykernel_launcher.py:12: RuntimeWarning: invalid value encountered in double_scalars\n",
      "  if sys.path[0] == '':\n",
      "/opt/conda/lib/python3.7/site-packages/ipykernel_launcher.py:12: RuntimeWarning: invalid value encountered in double_scalars\n",
      "  if sys.path[0] == '':\n",
      "/opt/conda/lib/python3.7/site-packages/ipykernel_launcher.py:12: RuntimeWarning: invalid value encountered in double_scalars\n",
      "  if sys.path[0] == '':\n",
      "/opt/conda/lib/python3.7/site-packages/ipykernel_launcher.py:12: RuntimeWarning: invalid value encountered in double_scalars\n",
      "  if sys.path[0] == '':\n",
      "/opt/conda/lib/python3.7/site-packages/ipykernel_launcher.py:12: RuntimeWarning: invalid value encountered in double_scalars\n",
      "  if sys.path[0] == '':\n",
      "/opt/conda/lib/python3.7/site-packages/ipykernel_launcher.py:12: RuntimeWarning: invalid value encountered in double_scalars\n",
      "  if sys.path[0] == '':\n",
      "/opt/conda/lib/python3.7/site-packages/ipykernel_launcher.py:12: RuntimeWarning: invalid value encountered in double_scalars\n",
      "  if sys.path[0] == '':\n",
      "/opt/conda/lib/python3.7/site-packages/ipykernel_launcher.py:12: RuntimeWarning: invalid value encountered in double_scalars\n",
      "  if sys.path[0] == '':\n",
      "/opt/conda/lib/python3.7/site-packages/ipykernel_launcher.py:12: RuntimeWarning: invalid value encountered in double_scalars\n",
      "  if sys.path[0] == '':\n",
      "/opt/conda/lib/python3.7/site-packages/ipykernel_launcher.py:12: RuntimeWarning: invalid value encountered in double_scalars\n",
      "  if sys.path[0] == '':\n",
      "/opt/conda/lib/python3.7/site-packages/ipykernel_launcher.py:12: RuntimeWarning: invalid value encountered in double_scalars\n",
      "  if sys.path[0] == '':\n",
      "/opt/conda/lib/python3.7/site-packages/ipykernel_launcher.py:12: RuntimeWarning: invalid value encountered in double_scalars\n",
      "  if sys.path[0] == '':\n",
      "/opt/conda/lib/python3.7/site-packages/ipykernel_launcher.py:12: RuntimeWarning: invalid value encountered in double_scalars\n",
      "  if sys.path[0] == '':\n",
      "/opt/conda/lib/python3.7/site-packages/ipykernel_launcher.py:12: RuntimeWarning: invalid value encountered in double_scalars\n",
      "  if sys.path[0] == '':\n",
      "/opt/conda/lib/python3.7/site-packages/ipykernel_launcher.py:12: RuntimeWarning: invalid value encountered in double_scalars\n",
      "  if sys.path[0] == '':\n",
      "/opt/conda/lib/python3.7/site-packages/ipykernel_launcher.py:12: RuntimeWarning: invalid value encountered in double_scalars\n",
      "  if sys.path[0] == '':\n",
      "/opt/conda/lib/python3.7/site-packages/ipykernel_launcher.py:12: RuntimeWarning: invalid value encountered in double_scalars\n",
      "  if sys.path[0] == '':\n",
      "/opt/conda/lib/python3.7/site-packages/sklearn/model_selection/_search.py:813: DeprecationWarning: The default of the `iid` parameter will change from True to False in version 0.22 and will be removed in 0.24. This will change numeric results when test-set sizes are unequal.\n",
      "  DeprecationWarning)\n"
     ]
    },
    {
     "data": {
      "text/plain": [
       "GridSearchCV(cv=KFold(n_splits=5, random_state=123, shuffle=True),\n",
       "             error_score='raise-deprecating',\n",
       "             estimator=RandomForestRegressor(bootstrap=True, criterion='mse',\n",
       "                                             max_depth=None,\n",
       "                                             max_features='auto',\n",
       "                                             max_leaf_nodes=None,\n",
       "                                             min_impurity_decrease=0.0,\n",
       "                                             min_impurity_split=None,\n",
       "                                             min_samples_leaf=1,\n",
       "                                             min_samples_split=2,\n",
       "                                             min_weight_fraction_leaf=0.0,\n",
       "                                             n_estimators='warn', n_jobs=None,\n",
       "                                             oob_score=False, random_state=None,\n",
       "                                             verbose=0, warm_start=False),\n",
       "             iid='warn', n_jobs=None,\n",
       "             param_grid={'max_depth': [2, 3, 4],\n",
       "                         'min_samples_leaf': [8, 12, 16, 20],\n",
       "                         'min_samples_split': [4, 8, 16],\n",
       "                         'n_estimators': [2, 4, 10]},\n",
       "             pre_dispatch='2*n_jobs', refit=True, return_train_score=False,\n",
       "             scoring=make_scorer(smape_calc), verbose=0)"
      ]
     },
     "execution_count": 64,
     "metadata": {},
     "output_type": "execute_result"
    }
   ],
   "source": [
    "grid2 = GridSearchCV(model4, parametrs, cv=kfold, scoring=smape_score)\n",
    "grid2.fit(features_train, target_train)"
   ]
  },
  {
   "cell_type": "code",
   "execution_count": 65,
   "metadata": {},
   "outputs": [
    {
     "name": "stdout",
     "output_type": "stream",
     "text": [
      "{'max_depth': 2, 'min_samples_leaf': 8, 'min_samples_split': 8, 'n_estimators': 2}\n"
     ]
    }
   ],
   "source": [
    "params2 = grid2.best_params_ #{'max_depth': 2, 'min_samples_leaf': 16, 'min_samples_split': 4, 'n_estimators': 4}\n",
    "print(params2)"
   ]
  },
  {
   "cell_type": "code",
   "execution_count": 66,
   "metadata": {
    "scrolled": true
   },
   "outputs": [
    {
     "name": "stdout",
     "output_type": "stream",
     "text": [
      "0.12272362318222804\n"
     ]
    }
   ],
   "source": [
    "model4 = RandomForestRegressor().set_params(**params2)\n",
    "cv4_smape = cross_val_score(model4, features_train, target_train, cv=kfold, scoring=smape_score)\n",
    "print(cv4_smape.mean())"
   ]
  },
  {
   "cell_type": "markdown",
   "metadata": {},
   "source": [
    "### DummyRegressor"
   ]
  },
  {
   "cell_type": "code",
   "execution_count": 67,
   "metadata": {},
   "outputs": [
    {
     "name": "stdout",
     "output_type": "stream",
     "text": [
      "0.1296145100266361\n"
     ]
    }
   ],
   "source": [
    "model5 = DummyRegressor(strategy='median').fit(features_train, target_train)\n",
    "cv5_smape = cross_val_score(model5, features_train, target_train, cv=kfold, scoring=smape_score)\n",
    "print(cv5_smape.mean())"
   ]
  },
  {
   "cell_type": "markdown",
   "metadata": {},
   "source": [
    "### Сравнение моделей"
   ]
  },
  {
   "cell_type": "code",
   "execution_count": 68,
   "metadata": {},
   "outputs": [
    {
     "name": "stdout",
     "output_type": "stream",
     "text": [
      "Модель: model2 (линейная регрессия), итоговое sMAPE: 0.115\n",
      "Модель: model3 (дерево решений), итоговое sMAPE: 0.123\n",
      "                лучшие параметры: {'max_depth': 2, 'min_samples_leaf': 8, 'min_samples_split': 8}\n",
      "Модель: model4 (случайный лес), итоговое sMAPE: 0.123\n",
      "                лучшие параметры: {'max_depth': 2, 'min_samples_leaf': 8, 'min_samples_split': 8, 'n_estimators': 2}\n",
      "Модель: model5 (DummyRegressor), итоговое sMAPE: 0.130\n"
     ]
    }
   ],
   "source": [
    "print('Модель: model2 (линейная регрессия), итоговое sMAPE: %.3f' %(cv2_smape.mean()))\n",
    "print('Модель: model3 (дерево решений), итоговое sMAPE: %.3f' %cv3_smape.mean())\n",
    "print('                лучшие параметры:', params)\n",
    "print('Модель: model4 (случайный лес), итоговое sMAPE: %.3f' %cv4_smape.mean())\n",
    "print('                лучшие параметры:', params2)\n",
    "print('Модель: model5 (DummyRegressor), итоговое sMAPE: %.3f' %cv5_smape.mean())"
   ]
  },
  {
   "cell_type": "markdown",
   "metadata": {},
   "source": [
    "Показатели до масштабирования:\n",
    "* Модель: model2 (линейная регрессия), итоговое sMAPE: 0.115  \n",
    "* Модель: model3 (дерево решений), итоговое sMAPE: 0.123  \n",
    "                  лучшие параметры: {'max_depth': 2, 'min_samples_leaf': 24, 'min_samples_split': 8}\n",
    "* Модель: model4 (случайный лес), итоговое sMAPE: 0.121  \n",
    "                  лучшие параметры: {'max_depth': 2, 'min_samples_leaf': 32, 'min_samples_split': 16, 'n_estimators': 4}"
   ]
  },
  {
   "cell_type": "markdown",
   "metadata": {},
   "source": [
    "Наилучшее значение sMAPE (11,5%) у линейной регресии. Результаты \"дерева\" и \"леса\" - 12,3% и 12,1% соответственно. При предсказании медианного значения метрика незначительно хуже - 13,0%. Вероятно можно добиться лучших показателей для \"деревянных\" моделей более глубоким перебором гиперпараметров, но это требует более серьезных вычислительных мощностей. Также прирост метрики возможен за счет более качественной предобработки, но необходимо более серьезное понимание технологического процесса (взаимодействие с техническими специалистами заказчика). Масштабирование признаков прироста не дало."
   ]
  },
  {
   "cell_type": "markdown",
   "metadata": {},
   "source": [
    "## Проверка на тестовой выборке"
   ]
  },
  {
   "cell_type": "code",
   "execution_count": 69,
   "metadata": {
    "scrolled": false
   },
   "outputs": [],
   "source": [
    "#data_test_drop.info()"
   ]
  },
  {
   "cell_type": "code",
   "execution_count": 70,
   "metadata": {},
   "outputs": [],
   "source": [
    "data_test_drop_merge = data_test_drop.merge(\n",
    "    data_full[['date', '0cl_out_recovery', 'final_out_recovery']], on='date', how='left')"
   ]
  },
  {
   "cell_type": "code",
   "execution_count": 71,
   "metadata": {},
   "outputs": [],
   "source": [
    "#data_test_drop_merge.isna().sum()"
   ]
  },
  {
   "cell_type": "markdown",
   "metadata": {},
   "source": [
    "Из data_full в data_test_drop_merge попали пропуски (в целевых столбцах). Взять их значения негде (заполнять интерполяцией или другим способом - не правильно) поэтому удаляем."
   ]
  },
  {
   "cell_type": "code",
   "execution_count": 72,
   "metadata": {
    "scrolled": false
   },
   "outputs": [
    {
     "name": "stdout",
     "output_type": "stream",
     "text": [
      "5471\n",
      "5290\n"
     ]
    }
   ],
   "source": [
    "print(data_test_drop_merge['date'].count())\n",
    "data_test_drop_merge_drop = data_test_drop_merge.dropna()\n",
    "print(data_test_drop_merge_drop['date'].count())"
   ]
  },
  {
   "cell_type": "markdown",
   "metadata": {},
   "source": [
    "Удаляем еще 181 строку (3,1% от первоначального количества)."
   ]
  },
  {
   "cell_type": "code",
   "execution_count": 73,
   "metadata": {},
   "outputs": [],
   "source": [
    "features_test = data_test_drop_merge_drop[features].values\n",
    "target_test = data_test_drop_merge_drop[targets].values"
   ]
  },
  {
   "cell_type": "code",
   "execution_count": 74,
   "metadata": {},
   "outputs": [
    {
     "name": "stdout",
     "output_type": "stream",
     "text": [
      "Модель: model1 (линейная регрессия), итоговое sMAPE на тестовой выборке: 0.102\n"
     ]
    }
   ],
   "source": [
    "predictions_test = model1.predict(features_test)\n",
    "test_sMAPE = smape_calc(target_test, predictions_test)\n",
    "print('Модель: model1 (линейная регрессия), итоговое sMAPE на тестовой выборке: %.3f' %test_sMAPE)"
   ]
  },
  {
   "cell_type": "code",
   "execution_count": 75,
   "metadata": {},
   "outputs": [
    {
     "name": "stdout",
     "output_type": "stream",
     "text": [
      "0.09151913059672938\n"
     ]
    }
   ],
   "source": [
    "cv7_smape = cross_val_score(model5, features_test, target_test, cv=5, scoring=smape_score)\n",
    "print(cv7_smape.mean())"
   ]
  },
  {
   "cell_type": "markdown",
   "metadata": {},
   "source": [
    "## Выводы"
   ]
  },
  {
   "cell_type": "markdown",
   "metadata": {},
   "source": [
    "<div class=\"alert alert-block alert-info\">\n",
    "На прербор всех вариантов очистки тренироочных/тестовых данных не хватило задора. Надеюсь что цели проекта \"закрыты\"! "
   ]
  },
  {
   "cell_type": "markdown",
   "metadata": {},
   "source": [
    "Линейная регрессия позволила получить итоговое sMAPE на тестовой выборке равное 10,2%, при этом DummyRegressor предсказывает лучше. Для улучшения метрики моделей необходимо рассмотреть следующие действия: \n",
    "* выбор оптимального варианта очистки тренироочных/тестовых данных\n",
    "* построение отдельных предсказательных моделей для rouger output recovery и final output recovery \n",
    "* работа с признаками (выбор наиболее значимых признаков, очистка от выбросов) для каждой модели\n",
    "* более серьезная работа с гиперпараметрами \"деревянных\" моделей"
   ]
  },
  {
   "cell_type": "code",
   "execution_count": null,
   "metadata": {},
   "outputs": [],
   "source": []
  }
 ],
 "metadata": {
  "kernelspec": {
   "display_name": "Python 3",
   "language": "python",
   "name": "python3"
  },
  "language_info": {
   "codemirror_mode": {
    "name": "ipython",
    "version": 3
   },
   "file_extension": ".py",
   "mimetype": "text/x-python",
   "name": "python",
   "nbconvert_exporter": "python",
   "pygments_lexer": "ipython3",
   "version": "3.7.8"
  },
  "toc": {
   "base_numbering": 1,
   "nav_menu": {
    "height": "386px",
    "width": "404px"
   },
   "number_sections": true,
   "sideBar": true,
   "skip_h1_title": true,
   "title_cell": "Table of Contents",
   "title_sidebar": "Contents",
   "toc_cell": false,
   "toc_position": {},
   "toc_section_display": true,
   "toc_window_display": false
  }
 },
 "nbformat": 4,
 "nbformat_minor": 2
}
