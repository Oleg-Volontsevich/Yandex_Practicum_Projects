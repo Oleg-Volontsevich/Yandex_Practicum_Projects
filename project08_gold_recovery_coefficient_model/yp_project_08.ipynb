{
 "cells": [
  {
   "cell_type": "markdown",
   "metadata": {},
   "source": [
    "Привет, меня зовут Артем Хуршудов. Сегодня я проверю твой проект.\n",
    "<br> Дальнейшее общение будет происходить на \"ты\" если это не вызывает никаких проблем.\n",
    "<br> Желательно реагировать на каждый мой комментарий ('исправил', 'не понятно как исправить ошибку', ...)\n",
    "<br> Пожалуйста, не удаляй комментарии ревьюера, так как они повышают качество повторного ревью.\n",
    "\n",
    "Комментарии будут в <font color='green'>зеленой</font>, <font color='blue'>синей</font> или <font color='red'>красной</font> рамках:\n",
    "\n",
    "<div class=\"alert alert-block alert-success\">\n",
    "<b>Успех:</b> Если все сделано отлично\n",
    "</div>\n",
    "\n",
    "<div class=\"alert alert-block alert-info\">\n",
    "<b>Совет: </b> Если можно немного улучшить\n",
    "</div>\n",
    "\n",
    "<div class=\"alert alert-block alert-danger\">\n",
    "<b>Ошибка:</b> Если требуются исправления. Работа не может быть принята с красными комментариями.\n",
    "</div>\n",
    "\n",
    "-------------------\n",
    "\n",
    "Будет очень хорошо, если ты будешь помечать свои действия следующим образом:\n",
    "<div class=\"alert alert-block alert-warning\">\n",
    "<b>Комментарий студента:</b> ...\n",
    "</div>\n",
    "\n",
    "<div class=\"alert alert-block alert-warning\">\n",
    "<b>Изменения:</b> Были внесены следующие изменения ...\n",
    "</div>\n",
    "\n",
    "### <font color='orange'>Общее впечатление</font>\n",
    "* Большое спасибо за проделанную работу. Видно, что приложено много усилий.\n",
    "* Выводы и рассуждения получились содержательными, их было интересно читать.\n",
    "* Над этим проектом нужно будет еще немного поработать. Однако, изменения не должны занять много времени.\n",
    "* В работе я оставил несколько советов. Буду рад, если ты учтешь их.\n",
    "* С радостью отвечу на твои вопросы, если они есть. Лучше всего их собрать в следующей ячейке. Жду новую версию проекта."
   ]
  },
  {
   "cell_type": "markdown",
   "metadata": {},
   "source": [
    "### <font color='orange'>Общее впечатление (ревью 2)</font>\n",
    "* После исправлений проект улучшился и теперь он может быть зачтен.\n",
    "* Качество можно улучшить увеличив диапазон подбираемых параметров, но не будем на этом концентрироваться, так как ты сказал, что сейчас не можешь уделить много времени на проект.\n",
    "* Для удобства все новые комментарии обозначены фразой \"ревью 2\".\n",
    "* Удачи в дальнейшем обучении и следующих работах!"
   ]
  },
  {
   "cell_type": "markdown",
   "metadata": {},
   "source": [
    "|  |  |  |\n",
    "| ---: | :--- | :--- |\n",
    "| Проект:| Сборный проект - 2 | 08 |\n",
    "| Срок обучения на момент сдачи: | 4 месяца |\n",
    "\n",
    "# Коэффициент восстановления золота."
   ]
  },
  {
   "cell_type": "markdown",
   "metadata": {},
   "source": [
    "<div class=\"alert alert-block alert-info\">\n",
    "Добрый день reviewer_name. В связи с тем что уже после старта обучения календарь (график) нашей когорты был сдвинут на 1 неделю вперед, а я успел запланировать отпуск, пришлось заранее выпросить задание проекта и получилось позаниматься им раньше других. До ЯП от области IT я был достаточно далёк - поэтому в коде вероятно есть \"детские\" ошибки. Часть инструментов используемых мной пробую впервые. Заранее благодарю за ревью. "
   ]
  },
  {
   "cell_type": "markdown",
   "metadata": {},
   "source": [
    "## Содержание"
   ]
  },
  {
   "cell_type": "markdown",
   "metadata": {},
   "source": [
    "1  Содержание\n",
    "\n",
    "2  Описание проекта и постановка задачи.\n",
    "\n",
    "    2.1  Описание данных.\n",
    "    2.2  Таблица имен DataFrame\n",
    "\n",
    "3  Загрузка и подготовка данных\n",
    "\n",
    "    3.1  Импорт библиотек\n",
    "    3.2  Загрузка данных\n",
    "    3.3  Изучение данных\n",
    "    3.4  Проверка правильности расчета rougher.output.recovery\n",
    "    3.5  Проверка правильности расчета final.output.recovery\n",
    "    3.6  Анализ признаков, недоступных в тестовой выборке.\n",
    "    3.7  Выводы по данным\n",
    "\n",
    "4  Подготовка данных\n",
    "\n",
    "    4.1  Тип данных\n",
    "    4.2  Замена пропусков интерполяцией\n",
    "    4.3  Замена пропусков нулями\n",
    "    4.4  Удаление пропусков\n",
    "\n",
    "5  Анализ данных\n",
    "\n",
    "    5.1  Сравнение концентрации металлов (Au, Ag, Pb) на различных этапах очистки\n",
    "        5.1.1  Золото\n",
    "        5.1.2  Серебро\n",
    "        5.1.3  Свинец\n",
    "    5.2  Сравнение распределения размеров гранул сырья на обучающей и тестовой выборках\n",
    "    5.3  Исследование суммарных концентраций веществ на разных стадиях\n",
    "\n",
    "6  Удаление выбросов\n",
    "\n",
    "    6.1  В тренировочных данных\n",
    "        6.1.1  Не удаляем\n",
    "        6.1.2  Удаляем строки с концентрацией < 0.05\n",
    "        6.1.3  Удаляем строки с концентрацией == 0\n",
    "    6.2  В тестовых данных ????\n",
    "        6.2.1  Удаляем NaN\n",
    "        6.2.2  Заполняем NaN нулями\n",
    "        6.2.3  Удаляем строки с концентрацией во входящем сырье < 0.05 и заполняем NaN интерполяцией\n",
    "    6.3  Выбор и масштабирование признаков\n",
    "\n",
    "7  Функция для вычисления sMAPE\n",
    "8  Обучение и проверка моделей\n",
    "\n",
    "    8.1  Линейная регрессия\n",
    "    8.2  Дерево решений\n",
    "    8.3  Случайный лес\n",
    "    8.4  DummyRegressor\n",
    "    8.5  Сравнение моделей\n",
    "\n",
    "9  Проверка на тестовой выборке\n",
    "10  Выводы"
   ]
  },
  {
   "cell_type": "markdown",
   "metadata": {},
   "source": [
    "## Описание проекта и постановка задачи."
   ]
  },
  {
   "cell_type": "markdown",
   "metadata": {},
   "source": [
    "Подготовьте прототип модели машинного обучения для «Цифры». Компания разрабатывает решения для эффективной работы промышленных предприятий.\n",
    "Модель должна предсказать коэффициент восстановления золота из золотосодержащей руды. В вашем распоряжении данные с параметрами добычи и очистки.\n",
    "Модель поможет оптимизировать производство, чтобы не запускать предприятие с убыточными характеристиками.\n",
    "Вам нужно:\n",
    "* Подготовить данные;\n",
    "* Провести исследовательский анализ данных;\n",
    "* Построить и обучить модель.\n",
    "\n",
    "Чтобы выполнить проект, обращайтесь к библиотекам pandas, matplotlib и sklearn. Вам поможет их документация.\n",
    "Следующий урок посвящён технологическому процессу очистки руды.\n",
    "Решите сами, какие детали нужны для построения модели, а какие — нет."
   ]
  },
  {
   "cell_type": "markdown",
   "metadata": {},
   "source": [
    "### Описание данных."
   ]
  },
  {
   "cell_type": "markdown",
   "metadata": {},
   "source": [
    "Данные находятся в трёх файлах:\n",
    "* gold_recovery_train.csv — обучающая выборка;\n",
    "* gold_recovery_test.csv — тестовая выборка;\n",
    "* gold_recovery_full.csv — исходные данные.\n",
    "\n",
    "Данные индексируются датой и временем получения информации (признак date).  \n",
    "Соседние по времени параметры часто похожи.  \n",
    "Некоторые параметры недоступны, потому что замеряются и/или рассчитываются значительно позже. Из-за этого в тестовой выборке отсутствуют некоторые признаки, которые могут быть в обучающей. Также в тестовом наборе нет целевых признаков.  \n",
    "Исходный датасет содержит обучающую и тестовую выборки со всеми признаками.  \n",
    "В вашем распоряжении сырые данные: их просто выгрузили из хранилища. Прежде чем приступить к построению модели, проверьте по нашей инструкции их на корректность."
   ]
  },
  {
   "cell_type": "markdown",
   "metadata": {},
   "source": [
    "<a name=\"DataFrame_names\"></a>\n",
    "### Таблица имен DataFrame"
   ]
  },
  {
   "cell_type": "markdown",
   "metadata": {},
   "source": [
    "В проекте используются следующие имена для DataFrame:"
   ]
  },
  {
   "cell_type": "markdown",
   "metadata": {},
   "source": [
    "\n",
    "\n",
    "Этап загрузки | Этап замены NaN | Этап удаления выбросов | Количество строк | Доля потерь\n",
    "--- |--- | --- | --- | ---\n",
    " | | | |\n",
    "data_train | data_train_int | data_train_int_nodrop | 16 860 |\n",
    " | | data_train_int_drop2 | 15 418 | (-8.6%)\n",
    " | | | |\n",
    " | data_train_fillna0 | data_train_fillna0_nodrop | 16 860 |\n",
    " | | data_train_fillna0_drop2 | 15 405 | (-8.6%)\n",
    " | | | |\n",
    " | data_train_dropNA | data_train_dropNA_nodrop | 11 017 | (-34.7%)\n",
    " |  | data_train_dropNA_drop2 | 11 017 | (-34.7%)\n",
    " --- |--- | --- | --- | ---\n",
    "data_test | | | 5 856 |\n",
    " | data_test_drop | | 5 471 | (-6.6%)\n",
    " | data_test_drop_merge_drop | | 5 290 | (-9.7%)\n",
    " "
   ]
  },
  {
   "cell_type": "markdown",
   "metadata": {},
   "source": [
    "## Загрузка и подготовка данных\n",
    "* Откройте файлы и изучите их.  \n",
    "  Путь к файлам:\n",
    "  * /datasets/gold_recovery_train.csv.\n",
    "  * /datasets/gold_recovery_test.csv.\n",
    "  * /datasets/gold_recovery_full.csv.  \n",
    "\n",
    "* Проверьте, что эффективность обогащения рассчитана правильно. Вычислите её на обучающей выборке для признака rougher.output.recovery. Найдите MAE между вашими расчётами и значением признака. Опишите выводы.  \n",
    "* Проанализируйте признаки, недоступные в тестовой выборке. Что это за параметры? К какому типу относятся?  \n",
    "* Проведите предобработку данных."
   ]
  },
  {
   "cell_type": "markdown",
   "metadata": {},
   "source": [
    "### Импорт библиотек"
   ]
  },
  {
   "cell_type": "code",
   "execution_count": 1,
   "metadata": {},
   "outputs": [],
   "source": [
    "import pandas as pd\n",
    "import numpy as np\n",
    "import matplotlib.pyplot as plt\n",
    "import seaborn as sns\n",
    "import warnings\n",
    "\n",
    "from IPython.display import display\n",
    "#from scipy import stats as st\n",
    "\n",
    "from sklearn.preprocessing import StandardScaler \n",
    "from sklearn.utils import shuffle\n",
    "from sklearn.model_selection import GridSearchCV, KFold, cross_val_score #, train_test_split\n",
    "from sklearn.tree import DecisionTreeRegressor #,DecisionTreeClassifier, plot_tree\n",
    "from sklearn.ensemble import RandomForestRegressor #RandomForestClassifier\n",
    "from sklearn.linear_model import LinearRegression #,LogisticRegression \n",
    "from sklearn.dummy import DummyRegressor#, DummyClassifier\n",
    "from sklearn.metrics import mean_absolute_error, make_scorer #, mean_squared_error, r2_score, accuracy_score, f1_score, confusion_matrix, roc_auc_score\n"
   ]
  },
  {
   "cell_type": "markdown",
   "metadata": {},
   "source": [
    "<div class=\"alert alert-block alert-success\">\n",
    "<b>Успех:</b> Отлично, что все импорты собраны в первой ячейке ноутбука! Если у того, кто будет запускать твой ноутбук будут отсутствовать некоторые библиотеки, то он это увидит сразу, а не в процессе!\n",
    "</div>"
   ]
  },
  {
   "cell_type": "markdown",
   "metadata": {},
   "source": [
    "### Загрузка данных"
   ]
  },
  {
   "cell_type": "code",
   "execution_count": 2,
   "metadata": {},
   "outputs": [],
   "source": [
    "data_train = pd.read_csv('https://code.s3.yandex.net/datasets/gold_recovery_train.csv')\n",
    "data_test = pd.read_csv('https://code.s3.yandex.net/datasets/gold_recovery_test.csv')\n",
    "data_full = pd.read_csv('https://code.s3.yandex.net/datasets/gold_recovery_full.csv')"
   ]
  },
  {
   "cell_type": "markdown",
   "metadata": {},
   "source": [
    "### Изучение данных"
   ]
  },
  {
   "cell_type": "code",
   "execution_count": 3,
   "metadata": {},
   "outputs": [
    {
     "data": {
      "text/html": [
       "<div>\n",
       "<style scoped>\n",
       "    .dataframe tbody tr th:only-of-type {\n",
       "        vertical-align: middle;\n",
       "    }\n",
       "\n",
       "    .dataframe tbody tr th {\n",
       "        vertical-align: top;\n",
       "    }\n",
       "\n",
       "    .dataframe thead th {\n",
       "        text-align: right;\n",
       "    }\n",
       "</style>\n",
       "<table border=\"1\" class=\"dataframe\">\n",
       "  <thead>\n",
       "    <tr style=\"text-align: right;\">\n",
       "      <th></th>\n",
       "      <th>16857</th>\n",
       "      <th>1508</th>\n",
       "      <th>5452</th>\n",
       "    </tr>\n",
       "  </thead>\n",
       "  <tbody>\n",
       "    <tr>\n",
       "      <td>date</td>\n",
       "      <td>2018-08-18 08:59:59</td>\n",
       "      <td>2016-03-17 20:00:00</td>\n",
       "      <td>2016-08-29 03:59:59</td>\n",
       "    </tr>\n",
       "    <tr>\n",
       "      <td>final.output.concentrate_ag</td>\n",
       "      <td>3.11</td>\n",
       "      <td>4.27652</td>\n",
       "      <td>3.9964</td>\n",
       "    </tr>\n",
       "    <tr>\n",
       "      <td>final.output.concentrate_pb</td>\n",
       "      <td>11.4344</td>\n",
       "      <td>10.7708</td>\n",
       "      <td>10.0578</td>\n",
       "    </tr>\n",
       "    <tr>\n",
       "      <td>final.output.concentrate_sol</td>\n",
       "      <td>6.88601</td>\n",
       "      <td>4.03857</td>\n",
       "      <td>8.10635</td>\n",
       "    </tr>\n",
       "    <tr>\n",
       "      <td>final.output.concentrate_au</td>\n",
       "      <td>46.7957</td>\n",
       "      <td>44.8935</td>\n",
       "      <td>47.2255</td>\n",
       "    </tr>\n",
       "    <tr>\n",
       "      <td>final.output.recovery</td>\n",
       "      <td>67.0022</td>\n",
       "      <td>70.2049</td>\n",
       "      <td>63.4035</td>\n",
       "    </tr>\n",
       "    <tr>\n",
       "      <td>final.output.tail_ag</td>\n",
       "      <td>8.52961</td>\n",
       "      <td>10.9163</td>\n",
       "      <td>8.37903</td>\n",
       "    </tr>\n",
       "    <tr>\n",
       "      <td>final.output.tail_pb</td>\n",
       "      <td>2.91142</td>\n",
       "      <td>1.80013</td>\n",
       "      <td>3.04307</td>\n",
       "    </tr>\n",
       "    <tr>\n",
       "      <td>final.output.tail_sol</td>\n",
       "      <td>11.1151</td>\n",
       "      <td>18.3137</td>\n",
       "      <td>9.20745</td>\n",
       "    </tr>\n",
       "    <tr>\n",
       "      <td>final.output.tail_au</td>\n",
       "      <td>1.59662</td>\n",
       "      <td>3.05989</td>\n",
       "      <td>3.70168</td>\n",
       "    </tr>\n",
       "    <tr>\n",
       "      <td>primary_cleaner.input.sulfate</td>\n",
       "      <td>105.666</td>\n",
       "      <td>148.234</td>\n",
       "      <td>137.208</td>\n",
       "    </tr>\n",
       "    <tr>\n",
       "      <td>primary_cleaner.input.depressant</td>\n",
       "      <td>7.95511</td>\n",
       "      <td>12.0545</td>\n",
       "      <td>7.98149</td>\n",
       "    </tr>\n",
       "    <tr>\n",
       "      <td>primary_cleaner.input.feed_size</td>\n",
       "      <td>6.5</td>\n",
       "      <td>7.24417</td>\n",
       "      <td>8.47</td>\n",
       "    </tr>\n",
       "    <tr>\n",
       "      <td>primary_cleaner.input.xanthate</td>\n",
       "      <td>1.31593</td>\n",
       "      <td>1.00528</td>\n",
       "      <td>0.407864</td>\n",
       "    </tr>\n",
       "    <tr>\n",
       "      <td>primary_cleaner.output.concentrate_ag</td>\n",
       "      <td>7.1289</td>\n",
       "      <td>7.48013</td>\n",
       "      <td>6.42065</td>\n",
       "    </tr>\n",
       "    <tr>\n",
       "      <td>primary_cleaner.output.concentrate_pb</td>\n",
       "      <td>12.6336</td>\n",
       "      <td>7.99072</td>\n",
       "      <td>12.2918</td>\n",
       "    </tr>\n",
       "    <tr>\n",
       "      <td>primary_cleaner.output.concentrate_sol</td>\n",
       "      <td>7.9419</td>\n",
       "      <td>10.7025</td>\n",
       "      <td>11.4949</td>\n",
       "    </tr>\n",
       "    <tr>\n",
       "      <td>primary_cleaner.output.concentrate_au</td>\n",
       "      <td>31.8567</td>\n",
       "      <td>37.224</td>\n",
       "      <td>38.2205</td>\n",
       "    </tr>\n",
       "    <tr>\n",
       "      <td>primary_cleaner.output.tail_ag</td>\n",
       "      <td>22.2981</td>\n",
       "      <td>15.3426</td>\n",
       "      <td>14.4783</td>\n",
       "    </tr>\n",
       "    <tr>\n",
       "      <td>primary_cleaner.output.tail_pb</td>\n",
       "      <td>6.27825</td>\n",
       "      <td>3.36051</td>\n",
       "      <td>2.78351</td>\n",
       "    </tr>\n",
       "    <tr>\n",
       "      <td>primary_cleaner.output.tail_sol</td>\n",
       "      <td>4.45746</td>\n",
       "      <td>8.82386</td>\n",
       "      <td>8.07398</td>\n",
       "    </tr>\n",
       "    <tr>\n",
       "      <td>primary_cleaner.output.tail_au</td>\n",
       "      <td>2.61223</td>\n",
       "      <td>3.51944</td>\n",
       "      <td>5.1993</td>\n",
       "    </tr>\n",
       "    <tr>\n",
       "      <td>primary_cleaner.state.floatbank8_a_air</td>\n",
       "      <td>1649.17</td>\n",
       "      <td>1603.35</td>\n",
       "      <td>1599.25</td>\n",
       "    </tr>\n",
       "    <tr>\n",
       "      <td>primary_cleaner.state.floatbank8_a_level</td>\n",
       "      <td>-399.889</td>\n",
       "      <td>-400.909</td>\n",
       "      <td>-500.174</td>\n",
       "    </tr>\n",
       "    <tr>\n",
       "      <td>primary_cleaner.state.floatbank8_b_air</td>\n",
       "      <td>1649.2</td>\n",
       "      <td>1597.92</td>\n",
       "      <td>1601.85</td>\n",
       "    </tr>\n",
       "    <tr>\n",
       "      <td>primary_cleaner.state.floatbank8_b_level</td>\n",
       "      <td>-399.678</td>\n",
       "      <td>-400.456</td>\n",
       "      <td>-500.233</td>\n",
       "    </tr>\n",
       "    <tr>\n",
       "      <td>primary_cleaner.state.floatbank8_c_air</td>\n",
       "      <td>1647.9</td>\n",
       "      <td>1602.5</td>\n",
       "      <td>1599.47</td>\n",
       "    </tr>\n",
       "    <tr>\n",
       "      <td>primary_cleaner.state.floatbank8_c_level</td>\n",
       "      <td>-399.988</td>\n",
       "      <td>-401.228</td>\n",
       "      <td>-499.806</td>\n",
       "    </tr>\n",
       "    <tr>\n",
       "      <td>primary_cleaner.state.floatbank8_d_air</td>\n",
       "      <td>1649.77</td>\n",
       "      <td>595.969</td>\n",
       "      <td>1599.63</td>\n",
       "    </tr>\n",
       "    <tr>\n",
       "      <td>primary_cleaner.state.floatbank8_d_level</td>\n",
       "      <td>-399.832</td>\n",
       "      <td>-399.479</td>\n",
       "      <td>-500.161</td>\n",
       "    </tr>\n",
       "    <tr>\n",
       "      <td>rougher.calculation.sulfate_to_au_concentrate</td>\n",
       "      <td>44585.2</td>\n",
       "      <td>41829.2</td>\n",
       "      <td>42469.8</td>\n",
       "    </tr>\n",
       "    <tr>\n",
       "      <td>rougher.calculation.floatbank10_sulfate_to_au_feed</td>\n",
       "      <td>2510.81</td>\n",
       "      <td>2598.38</td>\n",
       "      <td>2464.74</td>\n",
       "    </tr>\n",
       "    <tr>\n",
       "      <td>rougher.calculation.floatbank11_sulfate_to_au_feed</td>\n",
       "      <td>2510.14</td>\n",
       "      <td>2597.08</td>\n",
       "      <td>2468.9</td>\n",
       "    </tr>\n",
       "    <tr>\n",
       "      <td>rougher.calculation.au_pb_ratio</td>\n",
       "      <td>1.12564</td>\n",
       "      <td>2.65319</td>\n",
       "      <td>2.18671</td>\n",
       "    </tr>\n",
       "    <tr>\n",
       "      <td>rougher.input.feed_ag</td>\n",
       "      <td>5.97052</td>\n",
       "      <td>9.44751</td>\n",
       "      <td>8.08808</td>\n",
       "    </tr>\n",
       "    <tr>\n",
       "      <td>rougher.input.feed_pb</td>\n",
       "      <td>4.02</td>\n",
       "      <td>3.3351</td>\n",
       "      <td>4.07256</td>\n",
       "    </tr>\n",
       "    <tr>\n",
       "      <td>rougher.input.feed_rate</td>\n",
       "      <td>555.683</td>\n",
       "      <td>529.659</td>\n",
       "      <td>450.675</td>\n",
       "    </tr>\n",
       "    <tr>\n",
       "      <td>rougher.input.feed_size</td>\n",
       "      <td>122.263</td>\n",
       "      <td>47.9743</td>\n",
       "      <td>61.4847</td>\n",
       "    </tr>\n",
       "    <tr>\n",
       "      <td>rougher.input.feed_sol</td>\n",
       "      <td>40.074</td>\n",
       "      <td>33.8186</td>\n",
       "      <td>36.9296</td>\n",
       "    </tr>\n",
       "    <tr>\n",
       "      <td>rougher.input.feed_au</td>\n",
       "      <td>4.52506</td>\n",
       "      <td>8.84866</td>\n",
       "      <td>8.90548</td>\n",
       "    </tr>\n",
       "    <tr>\n",
       "      <td>rougher.input.floatbank10_sulfate</td>\n",
       "      <td>6.58602</td>\n",
       "      <td>11.998</td>\n",
       "      <td>9.99103</td>\n",
       "    </tr>\n",
       "    <tr>\n",
       "      <td>rougher.input.floatbank10_xanthate</td>\n",
       "      <td>9.29961</td>\n",
       "      <td>7.00132</td>\n",
       "      <td>5.7061</td>\n",
       "    </tr>\n",
       "    <tr>\n",
       "      <td>rougher.input.floatbank11_sulfate</td>\n",
       "      <td>6.58413</td>\n",
       "      <td>12.0092</td>\n",
       "      <td>9.99935</td>\n",
       "    </tr>\n",
       "    <tr>\n",
       "      <td>rougher.input.floatbank11_xanthate</td>\n",
       "      <td>9.30013</td>\n",
       "      <td>7.0033</td>\n",
       "      <td>5.69845</td>\n",
       "    </tr>\n",
       "    <tr>\n",
       "      <td>rougher.output.concentrate_ag</td>\n",
       "      <td>8.5235</td>\n",
       "      <td>10.9652</td>\n",
       "      <td>11.5958</td>\n",
       "    </tr>\n",
       "    <tr>\n",
       "      <td>rougher.output.concentrate_pb</td>\n",
       "      <td>8.95513</td>\n",
       "      <td>8.01034</td>\n",
       "      <td>8.06687</td>\n",
       "    </tr>\n",
       "    <tr>\n",
       "      <td>rougher.output.concentrate_sol</td>\n",
       "      <td>22.7865</td>\n",
       "      <td>26.5881</td>\n",
       "      <td>31.2929</td>\n",
       "    </tr>\n",
       "    <tr>\n",
       "      <td>rougher.output.concentrate_au</td>\n",
       "      <td>15.1112</td>\n",
       "      <td>19.8799</td>\n",
       "      <td>22.918</td>\n",
       "    </tr>\n",
       "    <tr>\n",
       "      <td>rougher.output.recovery</td>\n",
       "      <td>88.8906</td>\n",
       "      <td>78.9198</td>\n",
       "      <td>82.2903</td>\n",
       "    </tr>\n",
       "    <tr>\n",
       "      <td>rougher.output.tail_ag</td>\n",
       "      <td>4.05001</td>\n",
       "      <td>7.0165</td>\n",
       "      <td>6.16027</td>\n",
       "    </tr>\n",
       "    <tr>\n",
       "      <td>rougher.output.tail_pb</td>\n",
       "      <td>0.636095</td>\n",
       "      <td>1.0646</td>\n",
       "      <td>0.793668</td>\n",
       "    </tr>\n",
       "    <tr>\n",
       "      <td>rougher.output.tail_sol</td>\n",
       "      <td>18.3231</td>\n",
       "      <td>18.2879</td>\n",
       "      <td>16.1961</td>\n",
       "    </tr>\n",
       "    <tr>\n",
       "      <td>rougher.output.tail_au</td>\n",
       "      <td>0.685059</td>\n",
       "      <td>2.87537</td>\n",
       "      <td>2.31851</td>\n",
       "    </tr>\n",
       "    <tr>\n",
       "      <td>rougher.state.floatbank10_a_air</td>\n",
       "      <td>1204.87</td>\n",
       "      <td>999.746</td>\n",
       "      <td>998.37</td>\n",
       "    </tr>\n",
       "    <tr>\n",
       "      <td>rougher.state.floatbank10_a_level</td>\n",
       "      <td>-299.236</td>\n",
       "      <td>-499.761</td>\n",
       "      <td>-350.4</td>\n",
       "    </tr>\n",
       "    <tr>\n",
       "      <td>rougher.state.floatbank10_b_air</td>\n",
       "      <td>1149.94</td>\n",
       "      <td>1500.3</td>\n",
       "      <td>1348.7</td>\n",
       "    </tr>\n",
       "    <tr>\n",
       "      <td>rougher.state.floatbank10_b_level</td>\n",
       "      <td>-501.718</td>\n",
       "      <td>-499.816</td>\n",
       "      <td>-400.234</td>\n",
       "    </tr>\n",
       "    <tr>\n",
       "      <td>rougher.state.floatbank10_c_air</td>\n",
       "      <td>1049.6</td>\n",
       "      <td>1500.33</td>\n",
       "      <td>1349.52</td>\n",
       "    </tr>\n",
       "    <tr>\n",
       "      <td>rougher.state.floatbank10_c_level</td>\n",
       "      <td>-500.549</td>\n",
       "      <td>-502.125</td>\n",
       "      <td>-399.867</td>\n",
       "    </tr>\n",
       "    <tr>\n",
       "      <td>rougher.state.floatbank10_d_air</td>\n",
       "      <td>952.703</td>\n",
       "      <td>1500.81</td>\n",
       "      <td>1301.87</td>\n",
       "    </tr>\n",
       "    <tr>\n",
       "      <td>rougher.state.floatbank10_d_level</td>\n",
       "      <td>-502.352</td>\n",
       "      <td>-499.843</td>\n",
       "      <td>-399.706</td>\n",
       "    </tr>\n",
       "    <tr>\n",
       "      <td>rougher.state.floatbank10_e_air</td>\n",
       "      <td>849.016</td>\n",
       "      <td>1299.71</td>\n",
       "      <td>1098.87</td>\n",
       "    </tr>\n",
       "    <tr>\n",
       "      <td>rougher.state.floatbank10_e_level</td>\n",
       "      <td>-500.506</td>\n",
       "      <td>-500.269</td>\n",
       "      <td>-399.89</td>\n",
       "    </tr>\n",
       "    <tr>\n",
       "      <td>rougher.state.floatbank10_f_air</td>\n",
       "      <td>850.456</td>\n",
       "      <td>1200.41</td>\n",
       "      <td>949.021</td>\n",
       "    </tr>\n",
       "    <tr>\n",
       "      <td>rougher.state.floatbank10_f_level</td>\n",
       "      <td>-506.898</td>\n",
       "      <td>-500.496</td>\n",
       "      <td>-400.546</td>\n",
       "    </tr>\n",
       "    <tr>\n",
       "      <td>secondary_cleaner.output.tail_ag</td>\n",
       "      <td>0</td>\n",
       "      <td>13.8821</td>\n",
       "      <td>12.762</td>\n",
       "    </tr>\n",
       "    <tr>\n",
       "      <td>secondary_cleaner.output.tail_pb</td>\n",
       "      <td>0</td>\n",
       "      <td>4.8844</td>\n",
       "      <td>5.03911</td>\n",
       "    </tr>\n",
       "    <tr>\n",
       "      <td>secondary_cleaner.output.tail_sol</td>\n",
       "      <td>0</td>\n",
       "      <td>10.7865</td>\n",
       "      <td>8.88084</td>\n",
       "    </tr>\n",
       "    <tr>\n",
       "      <td>secondary_cleaner.output.tail_au</td>\n",
       "      <td>0</td>\n",
       "      <td>2.60296</td>\n",
       "      <td>5.10807</td>\n",
       "    </tr>\n",
       "    <tr>\n",
       "      <td>secondary_cleaner.state.floatbank2_a_air</td>\n",
       "      <td>35.0036</td>\n",
       "      <td>30.0619</td>\n",
       "      <td>25.0268</td>\n",
       "    </tr>\n",
       "    <tr>\n",
       "      <td>secondary_cleaner.state.floatbank2_a_level</td>\n",
       "      <td>-501.084</td>\n",
       "      <td>-499.547</td>\n",
       "      <td>-449.63</td>\n",
       "    </tr>\n",
       "    <tr>\n",
       "      <td>secondary_cleaner.state.floatbank2_b_air</td>\n",
       "      <td>29.9905</td>\n",
       "      <td>27.9804</td>\n",
       "      <td>14.9822</td>\n",
       "    </tr>\n",
       "    <tr>\n",
       "      <td>secondary_cleaner.state.floatbank2_b_level</td>\n",
       "      <td>-611.856</td>\n",
       "      <td>-501.027</td>\n",
       "      <td>-450.113</td>\n",
       "    </tr>\n",
       "    <tr>\n",
       "      <td>secondary_cleaner.state.floatbank3_a_air</td>\n",
       "      <td>25.9484</td>\n",
       "      <td>26.9856</td>\n",
       "      <td>19.9917</td>\n",
       "    </tr>\n",
       "    <tr>\n",
       "      <td>secondary_cleaner.state.floatbank3_a_level</td>\n",
       "      <td>-500.067</td>\n",
       "      <td>-499.566</td>\n",
       "      <td>-450.285</td>\n",
       "    </tr>\n",
       "    <tr>\n",
       "      <td>secondary_cleaner.state.floatbank3_b_air</td>\n",
       "      <td>22.9683</td>\n",
       "      <td>24.9778</td>\n",
       "      <td>16.0249</td>\n",
       "    </tr>\n",
       "    <tr>\n",
       "      <td>secondary_cleaner.state.floatbank3_b_level</td>\n",
       "      <td>-499.839</td>\n",
       "      <td>-499.533</td>\n",
       "      <td>-449.608</td>\n",
       "    </tr>\n",
       "    <tr>\n",
       "      <td>secondary_cleaner.state.floatbank4_a_air</td>\n",
       "      <td>23.0157</td>\n",
       "      <td>12.0223</td>\n",
       "      <td>12.0433</td>\n",
       "    </tr>\n",
       "    <tr>\n",
       "      <td>secondary_cleaner.state.floatbank4_a_level</td>\n",
       "      <td>-501.712</td>\n",
       "      <td>-499.899</td>\n",
       "      <td>-500.415</td>\n",
       "    </tr>\n",
       "    <tr>\n",
       "      <td>secondary_cleaner.state.floatbank4_b_air</td>\n",
       "      <td>19.9512</td>\n",
       "      <td>12.087</td>\n",
       "      <td>8.01733</td>\n",
       "    </tr>\n",
       "    <tr>\n",
       "      <td>secondary_cleaner.state.floatbank4_b_level</td>\n",
       "      <td>-499.857</td>\n",
       "      <td>-500.031</td>\n",
       "      <td>-500.144</td>\n",
       "    </tr>\n",
       "    <tr>\n",
       "      <td>secondary_cleaner.state.floatbank5_a_air</td>\n",
       "      <td>18.0195</td>\n",
       "      <td>12.0297</td>\n",
       "      <td>8.05041</td>\n",
       "    </tr>\n",
       "    <tr>\n",
       "      <td>secondary_cleaner.state.floatbank5_a_level</td>\n",
       "      <td>-500.451</td>\n",
       "      <td>-499.473</td>\n",
       "      <td>-498.321</td>\n",
       "    </tr>\n",
       "    <tr>\n",
       "      <td>secondary_cleaner.state.floatbank5_b_air</td>\n",
       "      <td>13.0234</td>\n",
       "      <td>10.0188</td>\n",
       "      <td>4.99131</td>\n",
       "    </tr>\n",
       "    <tr>\n",
       "      <td>secondary_cleaner.state.floatbank5_b_level</td>\n",
       "      <td>-499.914</td>\n",
       "      <td>-499.898</td>\n",
       "      <td>-500.63</td>\n",
       "    </tr>\n",
       "    <tr>\n",
       "      <td>secondary_cleaner.state.floatbank6_a_air</td>\n",
       "      <td>19.9909</td>\n",
       "      <td>20.0309</td>\n",
       "      <td>24.9796</td>\n",
       "    </tr>\n",
       "    <tr>\n",
       "      <td>secondary_cleaner.state.floatbank6_a_level</td>\n",
       "      <td>-501.518</td>\n",
       "      <td>-499.859</td>\n",
       "      <td>-499.942</td>\n",
       "    </tr>\n",
       "  </tbody>\n",
       "</table>\n",
       "</div>"
      ],
      "text/plain": [
       "                                                                  16857  \\\n",
       "date                                                2018-08-18 08:59:59   \n",
       "final.output.concentrate_ag                                        3.11   \n",
       "final.output.concentrate_pb                                     11.4344   \n",
       "final.output.concentrate_sol                                    6.88601   \n",
       "final.output.concentrate_au                                     46.7957   \n",
       "final.output.recovery                                           67.0022   \n",
       "final.output.tail_ag                                            8.52961   \n",
       "final.output.tail_pb                                            2.91142   \n",
       "final.output.tail_sol                                           11.1151   \n",
       "final.output.tail_au                                            1.59662   \n",
       "primary_cleaner.input.sulfate                                   105.666   \n",
       "primary_cleaner.input.depressant                                7.95511   \n",
       "primary_cleaner.input.feed_size                                     6.5   \n",
       "primary_cleaner.input.xanthate                                  1.31593   \n",
       "primary_cleaner.output.concentrate_ag                            7.1289   \n",
       "primary_cleaner.output.concentrate_pb                           12.6336   \n",
       "primary_cleaner.output.concentrate_sol                           7.9419   \n",
       "primary_cleaner.output.concentrate_au                           31.8567   \n",
       "primary_cleaner.output.tail_ag                                  22.2981   \n",
       "primary_cleaner.output.tail_pb                                  6.27825   \n",
       "primary_cleaner.output.tail_sol                                 4.45746   \n",
       "primary_cleaner.output.tail_au                                  2.61223   \n",
       "primary_cleaner.state.floatbank8_a_air                          1649.17   \n",
       "primary_cleaner.state.floatbank8_a_level                       -399.889   \n",
       "primary_cleaner.state.floatbank8_b_air                           1649.2   \n",
       "primary_cleaner.state.floatbank8_b_level                       -399.678   \n",
       "primary_cleaner.state.floatbank8_c_air                           1647.9   \n",
       "primary_cleaner.state.floatbank8_c_level                       -399.988   \n",
       "primary_cleaner.state.floatbank8_d_air                          1649.77   \n",
       "primary_cleaner.state.floatbank8_d_level                       -399.832   \n",
       "rougher.calculation.sulfate_to_au_concentrate                   44585.2   \n",
       "rougher.calculation.floatbank10_sulfate_to_au_feed              2510.81   \n",
       "rougher.calculation.floatbank11_sulfate_to_au_feed              2510.14   \n",
       "rougher.calculation.au_pb_ratio                                 1.12564   \n",
       "rougher.input.feed_ag                                           5.97052   \n",
       "rougher.input.feed_pb                                              4.02   \n",
       "rougher.input.feed_rate                                         555.683   \n",
       "rougher.input.feed_size                                         122.263   \n",
       "rougher.input.feed_sol                                           40.074   \n",
       "rougher.input.feed_au                                           4.52506   \n",
       "rougher.input.floatbank10_sulfate                               6.58602   \n",
       "rougher.input.floatbank10_xanthate                              9.29961   \n",
       "rougher.input.floatbank11_sulfate                               6.58413   \n",
       "rougher.input.floatbank11_xanthate                              9.30013   \n",
       "rougher.output.concentrate_ag                                    8.5235   \n",
       "rougher.output.concentrate_pb                                   8.95513   \n",
       "rougher.output.concentrate_sol                                  22.7865   \n",
       "rougher.output.concentrate_au                                   15.1112   \n",
       "rougher.output.recovery                                         88.8906   \n",
       "rougher.output.tail_ag                                          4.05001   \n",
       "rougher.output.tail_pb                                         0.636095   \n",
       "rougher.output.tail_sol                                         18.3231   \n",
       "rougher.output.tail_au                                         0.685059   \n",
       "rougher.state.floatbank10_a_air                                 1204.87   \n",
       "rougher.state.floatbank10_a_level                              -299.236   \n",
       "rougher.state.floatbank10_b_air                                 1149.94   \n",
       "rougher.state.floatbank10_b_level                              -501.718   \n",
       "rougher.state.floatbank10_c_air                                  1049.6   \n",
       "rougher.state.floatbank10_c_level                              -500.549   \n",
       "rougher.state.floatbank10_d_air                                 952.703   \n",
       "rougher.state.floatbank10_d_level                              -502.352   \n",
       "rougher.state.floatbank10_e_air                                 849.016   \n",
       "rougher.state.floatbank10_e_level                              -500.506   \n",
       "rougher.state.floatbank10_f_air                                 850.456   \n",
       "rougher.state.floatbank10_f_level                              -506.898   \n",
       "secondary_cleaner.output.tail_ag                                      0   \n",
       "secondary_cleaner.output.tail_pb                                      0   \n",
       "secondary_cleaner.output.tail_sol                                     0   \n",
       "secondary_cleaner.output.tail_au                                      0   \n",
       "secondary_cleaner.state.floatbank2_a_air                        35.0036   \n",
       "secondary_cleaner.state.floatbank2_a_level                     -501.084   \n",
       "secondary_cleaner.state.floatbank2_b_air                        29.9905   \n",
       "secondary_cleaner.state.floatbank2_b_level                     -611.856   \n",
       "secondary_cleaner.state.floatbank3_a_air                        25.9484   \n",
       "secondary_cleaner.state.floatbank3_a_level                     -500.067   \n",
       "secondary_cleaner.state.floatbank3_b_air                        22.9683   \n",
       "secondary_cleaner.state.floatbank3_b_level                     -499.839   \n",
       "secondary_cleaner.state.floatbank4_a_air                        23.0157   \n",
       "secondary_cleaner.state.floatbank4_a_level                     -501.712   \n",
       "secondary_cleaner.state.floatbank4_b_air                        19.9512   \n",
       "secondary_cleaner.state.floatbank4_b_level                     -499.857   \n",
       "secondary_cleaner.state.floatbank5_a_air                        18.0195   \n",
       "secondary_cleaner.state.floatbank5_a_level                     -500.451   \n",
       "secondary_cleaner.state.floatbank5_b_air                        13.0234   \n",
       "secondary_cleaner.state.floatbank5_b_level                     -499.914   \n",
       "secondary_cleaner.state.floatbank6_a_air                        19.9909   \n",
       "secondary_cleaner.state.floatbank6_a_level                     -501.518   \n",
       "\n",
       "                                                                  1508   \\\n",
       "date                                                2016-03-17 20:00:00   \n",
       "final.output.concentrate_ag                                     4.27652   \n",
       "final.output.concentrate_pb                                     10.7708   \n",
       "final.output.concentrate_sol                                    4.03857   \n",
       "final.output.concentrate_au                                     44.8935   \n",
       "final.output.recovery                                           70.2049   \n",
       "final.output.tail_ag                                            10.9163   \n",
       "final.output.tail_pb                                            1.80013   \n",
       "final.output.tail_sol                                           18.3137   \n",
       "final.output.tail_au                                            3.05989   \n",
       "primary_cleaner.input.sulfate                                   148.234   \n",
       "primary_cleaner.input.depressant                                12.0545   \n",
       "primary_cleaner.input.feed_size                                 7.24417   \n",
       "primary_cleaner.input.xanthate                                  1.00528   \n",
       "primary_cleaner.output.concentrate_ag                           7.48013   \n",
       "primary_cleaner.output.concentrate_pb                           7.99072   \n",
       "primary_cleaner.output.concentrate_sol                          10.7025   \n",
       "primary_cleaner.output.concentrate_au                            37.224   \n",
       "primary_cleaner.output.tail_ag                                  15.3426   \n",
       "primary_cleaner.output.tail_pb                                  3.36051   \n",
       "primary_cleaner.output.tail_sol                                 8.82386   \n",
       "primary_cleaner.output.tail_au                                  3.51944   \n",
       "primary_cleaner.state.floatbank8_a_air                          1603.35   \n",
       "primary_cleaner.state.floatbank8_a_level                       -400.909   \n",
       "primary_cleaner.state.floatbank8_b_air                          1597.92   \n",
       "primary_cleaner.state.floatbank8_b_level                       -400.456   \n",
       "primary_cleaner.state.floatbank8_c_air                           1602.5   \n",
       "primary_cleaner.state.floatbank8_c_level                       -401.228   \n",
       "primary_cleaner.state.floatbank8_d_air                          595.969   \n",
       "primary_cleaner.state.floatbank8_d_level                       -399.479   \n",
       "rougher.calculation.sulfate_to_au_concentrate                   41829.2   \n",
       "rougher.calculation.floatbank10_sulfate_to_au_feed              2598.38   \n",
       "rougher.calculation.floatbank11_sulfate_to_au_feed              2597.08   \n",
       "rougher.calculation.au_pb_ratio                                 2.65319   \n",
       "rougher.input.feed_ag                                           9.44751   \n",
       "rougher.input.feed_pb                                            3.3351   \n",
       "rougher.input.feed_rate                                         529.659   \n",
       "rougher.input.feed_size                                         47.9743   \n",
       "rougher.input.feed_sol                                          33.8186   \n",
       "rougher.input.feed_au                                           8.84866   \n",
       "rougher.input.floatbank10_sulfate                                11.998   \n",
       "rougher.input.floatbank10_xanthate                              7.00132   \n",
       "rougher.input.floatbank11_sulfate                               12.0092   \n",
       "rougher.input.floatbank11_xanthate                               7.0033   \n",
       "rougher.output.concentrate_ag                                   10.9652   \n",
       "rougher.output.concentrate_pb                                   8.01034   \n",
       "rougher.output.concentrate_sol                                  26.5881   \n",
       "rougher.output.concentrate_au                                   19.8799   \n",
       "rougher.output.recovery                                         78.9198   \n",
       "rougher.output.tail_ag                                           7.0165   \n",
       "rougher.output.tail_pb                                           1.0646   \n",
       "rougher.output.tail_sol                                         18.2879   \n",
       "rougher.output.tail_au                                          2.87537   \n",
       "rougher.state.floatbank10_a_air                                 999.746   \n",
       "rougher.state.floatbank10_a_level                              -499.761   \n",
       "rougher.state.floatbank10_b_air                                  1500.3   \n",
       "rougher.state.floatbank10_b_level                              -499.816   \n",
       "rougher.state.floatbank10_c_air                                 1500.33   \n",
       "rougher.state.floatbank10_c_level                              -502.125   \n",
       "rougher.state.floatbank10_d_air                                 1500.81   \n",
       "rougher.state.floatbank10_d_level                              -499.843   \n",
       "rougher.state.floatbank10_e_air                                 1299.71   \n",
       "rougher.state.floatbank10_e_level                              -500.269   \n",
       "rougher.state.floatbank10_f_air                                 1200.41   \n",
       "rougher.state.floatbank10_f_level                              -500.496   \n",
       "secondary_cleaner.output.tail_ag                                13.8821   \n",
       "secondary_cleaner.output.tail_pb                                 4.8844   \n",
       "secondary_cleaner.output.tail_sol                               10.7865   \n",
       "secondary_cleaner.output.tail_au                                2.60296   \n",
       "secondary_cleaner.state.floatbank2_a_air                        30.0619   \n",
       "secondary_cleaner.state.floatbank2_a_level                     -499.547   \n",
       "secondary_cleaner.state.floatbank2_b_air                        27.9804   \n",
       "secondary_cleaner.state.floatbank2_b_level                     -501.027   \n",
       "secondary_cleaner.state.floatbank3_a_air                        26.9856   \n",
       "secondary_cleaner.state.floatbank3_a_level                     -499.566   \n",
       "secondary_cleaner.state.floatbank3_b_air                        24.9778   \n",
       "secondary_cleaner.state.floatbank3_b_level                     -499.533   \n",
       "secondary_cleaner.state.floatbank4_a_air                        12.0223   \n",
       "secondary_cleaner.state.floatbank4_a_level                     -499.899   \n",
       "secondary_cleaner.state.floatbank4_b_air                         12.087   \n",
       "secondary_cleaner.state.floatbank4_b_level                     -500.031   \n",
       "secondary_cleaner.state.floatbank5_a_air                        12.0297   \n",
       "secondary_cleaner.state.floatbank5_a_level                     -499.473   \n",
       "secondary_cleaner.state.floatbank5_b_air                        10.0188   \n",
       "secondary_cleaner.state.floatbank5_b_level                     -499.898   \n",
       "secondary_cleaner.state.floatbank6_a_air                        20.0309   \n",
       "secondary_cleaner.state.floatbank6_a_level                     -499.859   \n",
       "\n",
       "                                                                  5452   \n",
       "date                                                2016-08-29 03:59:59  \n",
       "final.output.concentrate_ag                                      3.9964  \n",
       "final.output.concentrate_pb                                     10.0578  \n",
       "final.output.concentrate_sol                                    8.10635  \n",
       "final.output.concentrate_au                                     47.2255  \n",
       "final.output.recovery                                           63.4035  \n",
       "final.output.tail_ag                                            8.37903  \n",
       "final.output.tail_pb                                            3.04307  \n",
       "final.output.tail_sol                                           9.20745  \n",
       "final.output.tail_au                                            3.70168  \n",
       "primary_cleaner.input.sulfate                                   137.208  \n",
       "primary_cleaner.input.depressant                                7.98149  \n",
       "primary_cleaner.input.feed_size                                    8.47  \n",
       "primary_cleaner.input.xanthate                                 0.407864  \n",
       "primary_cleaner.output.concentrate_ag                           6.42065  \n",
       "primary_cleaner.output.concentrate_pb                           12.2918  \n",
       "primary_cleaner.output.concentrate_sol                          11.4949  \n",
       "primary_cleaner.output.concentrate_au                           38.2205  \n",
       "primary_cleaner.output.tail_ag                                  14.4783  \n",
       "primary_cleaner.output.tail_pb                                  2.78351  \n",
       "primary_cleaner.output.tail_sol                                 8.07398  \n",
       "primary_cleaner.output.tail_au                                   5.1993  \n",
       "primary_cleaner.state.floatbank8_a_air                          1599.25  \n",
       "primary_cleaner.state.floatbank8_a_level                       -500.174  \n",
       "primary_cleaner.state.floatbank8_b_air                          1601.85  \n",
       "primary_cleaner.state.floatbank8_b_level                       -500.233  \n",
       "primary_cleaner.state.floatbank8_c_air                          1599.47  \n",
       "primary_cleaner.state.floatbank8_c_level                       -499.806  \n",
       "primary_cleaner.state.floatbank8_d_air                          1599.63  \n",
       "primary_cleaner.state.floatbank8_d_level                       -500.161  \n",
       "rougher.calculation.sulfate_to_au_concentrate                   42469.8  \n",
       "rougher.calculation.floatbank10_sulfate_to_au_feed              2464.74  \n",
       "rougher.calculation.floatbank11_sulfate_to_au_feed               2468.9  \n",
       "rougher.calculation.au_pb_ratio                                 2.18671  \n",
       "rougher.input.feed_ag                                           8.08808  \n",
       "rougher.input.feed_pb                                           4.07256  \n",
       "rougher.input.feed_rate                                         450.675  \n",
       "rougher.input.feed_size                                         61.4847  \n",
       "rougher.input.feed_sol                                          36.9296  \n",
       "rougher.input.feed_au                                           8.90548  \n",
       "rougher.input.floatbank10_sulfate                               9.99103  \n",
       "rougher.input.floatbank10_xanthate                               5.7061  \n",
       "rougher.input.floatbank11_sulfate                               9.99935  \n",
       "rougher.input.floatbank11_xanthate                              5.69845  \n",
       "rougher.output.concentrate_ag                                   11.5958  \n",
       "rougher.output.concentrate_pb                                   8.06687  \n",
       "rougher.output.concentrate_sol                                  31.2929  \n",
       "rougher.output.concentrate_au                                    22.918  \n",
       "rougher.output.recovery                                         82.2903  \n",
       "rougher.output.tail_ag                                          6.16027  \n",
       "rougher.output.tail_pb                                         0.793668  \n",
       "rougher.output.tail_sol                                         16.1961  \n",
       "rougher.output.tail_au                                          2.31851  \n",
       "rougher.state.floatbank10_a_air                                  998.37  \n",
       "rougher.state.floatbank10_a_level                                -350.4  \n",
       "rougher.state.floatbank10_b_air                                  1348.7  \n",
       "rougher.state.floatbank10_b_level                              -400.234  \n",
       "rougher.state.floatbank10_c_air                                 1349.52  \n",
       "rougher.state.floatbank10_c_level                              -399.867  \n",
       "rougher.state.floatbank10_d_air                                 1301.87  \n",
       "rougher.state.floatbank10_d_level                              -399.706  \n",
       "rougher.state.floatbank10_e_air                                 1098.87  \n",
       "rougher.state.floatbank10_e_level                               -399.89  \n",
       "rougher.state.floatbank10_f_air                                 949.021  \n",
       "rougher.state.floatbank10_f_level                              -400.546  \n",
       "secondary_cleaner.output.tail_ag                                 12.762  \n",
       "secondary_cleaner.output.tail_pb                                5.03911  \n",
       "secondary_cleaner.output.tail_sol                               8.88084  \n",
       "secondary_cleaner.output.tail_au                                5.10807  \n",
       "secondary_cleaner.state.floatbank2_a_air                        25.0268  \n",
       "secondary_cleaner.state.floatbank2_a_level                      -449.63  \n",
       "secondary_cleaner.state.floatbank2_b_air                        14.9822  \n",
       "secondary_cleaner.state.floatbank2_b_level                     -450.113  \n",
       "secondary_cleaner.state.floatbank3_a_air                        19.9917  \n",
       "secondary_cleaner.state.floatbank3_a_level                     -450.285  \n",
       "secondary_cleaner.state.floatbank3_b_air                        16.0249  \n",
       "secondary_cleaner.state.floatbank3_b_level                     -449.608  \n",
       "secondary_cleaner.state.floatbank4_a_air                        12.0433  \n",
       "secondary_cleaner.state.floatbank4_a_level                     -500.415  \n",
       "secondary_cleaner.state.floatbank4_b_air                        8.01733  \n",
       "secondary_cleaner.state.floatbank4_b_level                     -500.144  \n",
       "secondary_cleaner.state.floatbank5_a_air                        8.05041  \n",
       "secondary_cleaner.state.floatbank5_a_level                     -498.321  \n",
       "secondary_cleaner.state.floatbank5_b_air                        4.99131  \n",
       "secondary_cleaner.state.floatbank5_b_level                      -500.63  \n",
       "secondary_cleaner.state.floatbank6_a_air                        24.9796  \n",
       "secondary_cleaner.state.floatbank6_a_level                     -499.942  "
      ]
     },
     "metadata": {},
     "output_type": "display_data"
    }
   ],
   "source": [
    "with pd.option_context('display.max_rows', None, 'display.max_columns', 3):\n",
    "    display(data_train.sample(3).T)\n",
    "#display(data_test.sample(3))\n",
    "#display(data_full.sample(3))"
   ]
  },
  {
   "cell_type": "code",
   "execution_count": 4,
   "metadata": {
    "scrolled": true
   },
   "outputs": [
    {
     "name": "stdout",
     "output_type": "stream",
     "text": [
      "<class 'pandas.core.frame.DataFrame'>\n",
      "RangeIndex: 22716 entries, 0 to 22715\n",
      "Data columns (total 87 columns):\n",
      "date                                                  22716 non-null object\n",
      "final.output.concentrate_ag                           22627 non-null float64\n",
      "final.output.concentrate_pb                           22629 non-null float64\n",
      "final.output.concentrate_sol                          22331 non-null float64\n",
      "final.output.concentrate_au                           22630 non-null float64\n",
      "final.output.recovery                                 20753 non-null float64\n",
      "final.output.tail_ag                                  22633 non-null float64\n",
      "final.output.tail_pb                                  22516 non-null float64\n",
      "final.output.tail_sol                                 22445 non-null float64\n",
      "final.output.tail_au                                  22635 non-null float64\n",
      "primary_cleaner.input.sulfate                         21107 non-null float64\n",
      "primary_cleaner.input.depressant                      21170 non-null float64\n",
      "primary_cleaner.input.feed_size                       22716 non-null float64\n",
      "primary_cleaner.input.xanthate                        21565 non-null float64\n",
      "primary_cleaner.output.concentrate_ag                 22618 non-null float64\n",
      "primary_cleaner.output.concentrate_pb                 22268 non-null float64\n",
      "primary_cleaner.output.concentrate_sol                21918 non-null float64\n",
      "primary_cleaner.output.concentrate_au                 22618 non-null float64\n",
      "primary_cleaner.output.tail_ag                        22614 non-null float64\n",
      "primary_cleaner.output.tail_pb                        22594 non-null float64\n",
      "primary_cleaner.output.tail_sol                       22365 non-null float64\n",
      "primary_cleaner.output.tail_au                        22617 non-null float64\n",
      "primary_cleaner.state.floatbank8_a_air                22660 non-null float64\n",
      "primary_cleaner.state.floatbank8_a_level              22667 non-null float64\n",
      "primary_cleaner.state.floatbank8_b_air                22660 non-null float64\n",
      "primary_cleaner.state.floatbank8_b_level              22673 non-null float64\n",
      "primary_cleaner.state.floatbank8_c_air                22662 non-null float64\n",
      "primary_cleaner.state.floatbank8_c_level              22673 non-null float64\n",
      "primary_cleaner.state.floatbank8_d_air                22661 non-null float64\n",
      "primary_cleaner.state.floatbank8_d_level              22673 non-null float64\n",
      "rougher.calculation.sulfate_to_au_concentrate         22672 non-null float64\n",
      "rougher.calculation.floatbank10_sulfate_to_au_feed    22672 non-null float64\n",
      "rougher.calculation.floatbank11_sulfate_to_au_feed    22672 non-null float64\n",
      "rougher.calculation.au_pb_ratio                       21089 non-null float64\n",
      "rougher.input.feed_ag                                 22618 non-null float64\n",
      "rougher.input.feed_pb                                 22472 non-null float64\n",
      "rougher.input.feed_rate                               22163 non-null float64\n",
      "rougher.input.feed_size                               22277 non-null float64\n",
      "rougher.input.feed_sol                                22357 non-null float64\n",
      "rougher.input.feed_au                                 22617 non-null float64\n",
      "rougher.input.floatbank10_sulfate                     21415 non-null float64\n",
      "rougher.input.floatbank10_xanthate                    22247 non-null float64\n",
      "rougher.input.floatbank11_sulfate                     22038 non-null float64\n",
      "rougher.input.floatbank11_xanthate                    20459 non-null float64\n",
      "rougher.output.concentrate_ag                         22618 non-null float64\n",
      "rougher.output.concentrate_pb                         22618 non-null float64\n",
      "rougher.output.concentrate_sol                        22526 non-null float64\n",
      "rougher.output.concentrate_au                         22618 non-null float64\n",
      "rougher.output.recovery                               19597 non-null float64\n",
      "rougher.output.tail_ag                                19979 non-null float64\n",
      "rougher.output.tail_pb                                22618 non-null float64\n",
      "rougher.output.tail_sol                               19980 non-null float64\n",
      "rougher.output.tail_au                                19980 non-null float64\n",
      "rougher.state.floatbank10_a_air                       22646 non-null float64\n",
      "rougher.state.floatbank10_a_level                     22647 non-null float64\n",
      "rougher.state.floatbank10_b_air                       22646 non-null float64\n",
      "rougher.state.floatbank10_b_level                     22647 non-null float64\n",
      "rougher.state.floatbank10_c_air                       22646 non-null float64\n",
      "rougher.state.floatbank10_c_level                     22654 non-null float64\n",
      "rougher.state.floatbank10_d_air                       22641 non-null float64\n",
      "rougher.state.floatbank10_d_level                     22649 non-null float64\n",
      "rougher.state.floatbank10_e_air                       22096 non-null float64\n",
      "rougher.state.floatbank10_e_level                     22649 non-null float64\n",
      "rougher.state.floatbank10_f_air                       22641 non-null float64\n",
      "rougher.state.floatbank10_f_level                     22642 non-null float64\n",
      "secondary_cleaner.output.tail_ag                      22616 non-null float64\n",
      "secondary_cleaner.output.tail_pb                      22600 non-null float64\n",
      "secondary_cleaner.output.tail_sol                     20501 non-null float64\n",
      "secondary_cleaner.output.tail_au                      22618 non-null float64\n",
      "secondary_cleaner.state.floatbank2_a_air              22333 non-null float64\n",
      "secondary_cleaner.state.floatbank2_a_level            22591 non-null float64\n",
      "secondary_cleaner.state.floatbank2_b_air              22538 non-null float64\n",
      "secondary_cleaner.state.floatbank2_b_level            22588 non-null float64\n",
      "secondary_cleaner.state.floatbank3_a_air              22585 non-null float64\n",
      "secondary_cleaner.state.floatbank3_a_level            22587 non-null float64\n",
      "secondary_cleaner.state.floatbank3_b_air              22592 non-null float64\n",
      "secondary_cleaner.state.floatbank3_b_level            22590 non-null float64\n",
      "secondary_cleaner.state.floatbank4_a_air              22571 non-null float64\n",
      "secondary_cleaner.state.floatbank4_a_level            22587 non-null float64\n",
      "secondary_cleaner.state.floatbank4_b_air              22608 non-null float64\n",
      "secondary_cleaner.state.floatbank4_b_level            22607 non-null float64\n",
      "secondary_cleaner.state.floatbank5_a_air              22615 non-null float64\n",
      "secondary_cleaner.state.floatbank5_a_level            22615 non-null float64\n",
      "secondary_cleaner.state.floatbank5_b_air              22615 non-null float64\n",
      "secondary_cleaner.state.floatbank5_b_level            22616 non-null float64\n",
      "secondary_cleaner.state.floatbank6_a_air              22597 non-null float64\n",
      "secondary_cleaner.state.floatbank6_a_level            22615 non-null float64\n",
      "dtypes: float64(86), object(1)\n",
      "memory usage: 15.1+ MB\n"
     ]
    }
   ],
   "source": [
    "#data_train.info()\n",
    "#data_test.info()\n",
    "data_full.info()"
   ]
  },
  {
   "cell_type": "markdown",
   "metadata": {},
   "source": [
    "<div class=\"alert alert-block alert-success\">\n",
    "<b>Успех:</b> Загрузка и первичный осмотр данных проведены хорошо.\n",
    "</div>"
   ]
  },
  {
   "cell_type": "markdown",
   "metadata": {},
   "source": [
    "### Изменение названий столбцов"
   ]
  },
  {
   "cell_type": "code",
   "execution_count": 5,
   "metadata": {},
   "outputs": [],
   "source": [
    "#переименуем названия столбцов\n",
    "for df in [data_train, data_test, data_full]:\n",
    "    columns=df.columns\n",
    "    columns1 = [row.replace('.', '_') for row in columns]\n",
    "    columns2 = [row.replace('primary_cleaner', '1cl') for row in columns1]\n",
    "    columns3 = [row.replace('rougher', '0cl') for row in columns2]\n",
    "    columns4 = [row.replace('secondary_cleaner', '2cl') for row in columns3]\n",
    "    columns5 = [row.replace('floatbank', 'fb') for row in columns4]\n",
    "    columns6 = [row.replace('concentrate', 'con') for row in columns5]\n",
    "    columns7 = [row.replace('input', 'in') for row in columns6]\n",
    "    columns8 = [row.replace('output', 'out') for row in columns7]\n",
    "    columns9 = [row.replace('state', 'st') for row in columns8]\n",
    "    columns10 = [row.replace('calculation', 'calc') for row in columns9]\n",
    "    df.set_axis(columns10, axis='columns', inplace=True)\n",
    "#data_train.info()"
   ]
  },
  {
   "cell_type": "code",
   "execution_count": 6,
   "metadata": {},
   "outputs": [],
   "source": [
    "#признаки \"полезной\" концентрации металлов на разных этапах\n",
    "au_con = ['0cl_in_feed_au', '0cl_out_con_au', '1cl_out_con_au', 'final_out_con_au']\n",
    "ag_con = ['0cl_in_feed_ag', '0cl_out_con_ag', '1cl_out_con_ag', 'final_out_con_ag']\n",
    "pb_con = ['0cl_in_feed_pb', '0cl_out_con_pb', '1cl_out_con_pb', 'final_out_con_pb']\n",
    "legend = ['сырьё', 'после флотации', 'после первичной очистки', 'после вторичной очистки']\n",
    "#признаки концентрации в \"хвостах\" на разных этапах\n",
    "au_tail = ['0cl_out_tail_au', '1cl_out_tail_au', '2cl_out_tail_au', 'final_out_tail_au'] \n",
    "ag_tail = ['0cl_out_tail_au', '1cl_out_tail_au', '2cl_out_tail_au', 'final_out_tail_au'] \n",
    "pb_tail = ['0cl_out_tail_au', '1cl_out_tail_au', '2cl_out_tail_au', 'final_out_tail_au'] \n",
    "legend_tail = ['после флотации', 'после первичной очистки', 'после вторичной очистки', 'финальные хвосты']"
   ]
  },
  {
   "cell_type": "markdown",
   "metadata": {},
   "source": [
    "### Проверка правильности расчета rougher.output.recovery"
   ]
  },
  {
   "cell_type": "code",
   "execution_count": 7,
   "metadata": {
    "scrolled": true
   },
   "outputs": [
    {
     "name": "stdout",
     "output_type": "stream",
     "text": [
      "<class 'pandas.core.frame.DataFrame'>\n",
      "RangeIndex: 16860 entries, 0 to 16859\n",
      "Data columns (total 5 columns):\n",
      "0cl_out_recovery      14287 non-null float64\n",
      "0cl_out_con_au        16778 non-null float64\n",
      "0cl_in_feed_au        16777 non-null float64\n",
      "0cl_out_tail_au       14611 non-null float64\n",
      "0cl_out_recovery_2    14577 non-null float64\n",
      "dtypes: float64(5)\n",
      "memory usage: 658.7 KB\n",
      "\n",
      "<class 'pandas.core.frame.DataFrame'>\n",
      "Int64Index: 14577 entries, 0 to 16859\n",
      "Data columns (total 5 columns):\n",
      "0cl_out_recovery      14287 non-null float64\n",
      "0cl_out_con_au        14577 non-null float64\n",
      "0cl_in_feed_au        14577 non-null float64\n",
      "0cl_out_tail_au       14577 non-null float64\n",
      "0cl_out_recovery_2    14577 non-null float64\n",
      "dtypes: float64(5)\n",
      "memory usage: 683.3 KB\n",
      "Нет первоначального расчета rougher.output.recovery\n"
     ]
    },
    {
     "data": {
      "text/html": [
       "<div>\n",
       "<style scoped>\n",
       "    .dataframe tbody tr th:only-of-type {\n",
       "        vertical-align: middle;\n",
       "    }\n",
       "\n",
       "    .dataframe tbody tr th {\n",
       "        vertical-align: top;\n",
       "    }\n",
       "\n",
       "    .dataframe thead th {\n",
       "        text-align: right;\n",
       "    }\n",
       "</style>\n",
       "<table border=\"1\" class=\"dataframe\">\n",
       "  <thead>\n",
       "    <tr style=\"text-align: right;\">\n",
       "      <th></th>\n",
       "      <th>12297</th>\n",
       "      <th>11374</th>\n",
       "      <th>2051</th>\n",
       "      <th>13221</th>\n",
       "      <th>14066</th>\n",
       "    </tr>\n",
       "  </thead>\n",
       "  <tbody>\n",
       "    <tr>\n",
       "      <td>0cl_out_recovery</td>\n",
       "      <td>NaN</td>\n",
       "      <td>NaN</td>\n",
       "      <td>NaN</td>\n",
       "      <td>NaN</td>\n",
       "      <td>NaN</td>\n",
       "    </tr>\n",
       "    <tr>\n",
       "      <td>0cl_out_con_au</td>\n",
       "      <td>1.947857</td>\n",
       "      <td>8.584450</td>\n",
       "      <td>1.072534</td>\n",
       "      <td>8.989922</td>\n",
       "      <td>0.010000</td>\n",
       "    </tr>\n",
       "    <tr>\n",
       "      <td>0cl_in_feed_au</td>\n",
       "      <td>7.957904</td>\n",
       "      <td>9.640173</td>\n",
       "      <td>5.632335</td>\n",
       "      <td>11.617720</td>\n",
       "      <td>8.529353</td>\n",
       "    </tr>\n",
       "    <tr>\n",
       "      <td>0cl_out_tail_au</td>\n",
       "      <td>1.406891</td>\n",
       "      <td>1.732163</td>\n",
       "      <td>1.840819</td>\n",
       "      <td>1.798941</td>\n",
       "      <td>1.346981</td>\n",
       "    </tr>\n",
       "    <tr>\n",
       "      <td>0cl_out_recovery_2</td>\n",
       "      <td>296.412670</td>\n",
       "      <td>102.768334</td>\n",
       "      <td>-93.975129</td>\n",
       "      <td>105.658480</td>\n",
       "      <td>-0.629835</td>\n",
       "    </tr>\n",
       "  </tbody>\n",
       "</table>\n",
       "</div>"
      ],
      "text/plain": [
       "                         12297       11374      2051        13221     14066\n",
       "0cl_out_recovery           NaN         NaN        NaN         NaN       NaN\n",
       "0cl_out_con_au        1.947857    8.584450   1.072534    8.989922  0.010000\n",
       "0cl_in_feed_au        7.957904    9.640173   5.632335   11.617720  8.529353\n",
       "0cl_out_tail_au       1.406891    1.732163   1.840819    1.798941  1.346981\n",
       "0cl_out_recovery_2  296.412670  102.768334 -93.975129  105.658480 -0.629835"
      ]
     },
     "metadata": {},
     "output_type": "display_data"
    },
    {
     "data": {
      "text/html": [
       "<div>\n",
       "<style scoped>\n",
       "    .dataframe tbody tr th:only-of-type {\n",
       "        vertical-align: middle;\n",
       "    }\n",
       "\n",
       "    .dataframe tbody tr th {\n",
       "        vertical-align: top;\n",
       "    }\n",
       "\n",
       "    .dataframe thead th {\n",
       "        text-align: right;\n",
       "    }\n",
       "</style>\n",
       "<table border=\"1\" class=\"dataframe\">\n",
       "  <thead>\n",
       "    <tr style=\"text-align: right;\">\n",
       "      <th></th>\n",
       "      <th>15760</th>\n",
       "      <th>3762</th>\n",
       "      <th>1586</th>\n",
       "      <th>9153</th>\n",
       "      <th>6839</th>\n",
       "    </tr>\n",
       "  </thead>\n",
       "  <tbody>\n",
       "    <tr>\n",
       "      <td>0cl_out_recovery</td>\n",
       "      <td>90.644148</td>\n",
       "      <td>76.430311</td>\n",
       "      <td>81.994956</td>\n",
       "      <td>84.63787</td>\n",
       "      <td>92.995831</td>\n",
       "    </tr>\n",
       "    <tr>\n",
       "      <td>0cl_out_recovery_2</td>\n",
       "      <td>90.644148</td>\n",
       "      <td>76.430311</td>\n",
       "      <td>81.994956</td>\n",
       "      <td>84.63787</td>\n",
       "      <td>92.995831</td>\n",
       "    </tr>\n",
       "  </tbody>\n",
       "</table>\n",
       "</div>"
      ],
      "text/plain": [
       "                        15760      3762       1586      9153       6839 \n",
       "0cl_out_recovery    90.644148  76.430311  81.994956  84.63787  92.995831\n",
       "0cl_out_recovery_2  90.644148  76.430311  81.994956  84.63787  92.995831"
      ]
     },
     "metadata": {},
     "output_type": "display_data"
    },
    {
     "name": "stdout",
     "output_type": "stream",
     "text": [
      "9.444891926100695e-15\n"
     ]
    }
   ],
   "source": [
    "#вынесем необходимые данные в отдельный df\n",
    "data_MAE = data_train.loc[:, ['0cl_out_recovery', '0cl_out_con_au', '0cl_in_feed_au', '0cl_out_tail_au']]\n",
    "\n",
    "_c1 = data_MAE['0cl_out_con_au']\n",
    "_f1 = data_MAE['0cl_in_feed_au']\n",
    "_t1 = data_MAE['0cl_out_tail_au']\n",
    "data_MAE['0cl_out_recovery_2'] = _c1*(_f1-_t1)/(_f1*(_c1-_t1))*100\n",
    "\n",
    "data_MAE.info()\n",
    "\n",
    "#удалим строки где нет возможности расчитать rougher.output.recovery\n",
    "data_MAE.dropna(subset=['0cl_out_recovery_2'], inplace=True) \n",
    "print()\n",
    "data_MAE.info()\n",
    "\n",
    "print('Нет первоначального расчета rougher.output.recovery')\n",
    "display(data_MAE[data_MAE['0cl_out_recovery']!=data_MAE['0cl_out_recovery']].sample(5).T)\n",
    "\n",
    "data_MAE.dropna(inplace=True)\n",
    "\n",
    "display(data_MAE.loc[:, ['0cl_out_recovery', '0cl_out_recovery_2']].sample(5).T)\n",
    "MAE = mean_absolute_error(data_MAE['0cl_out_recovery'], data_MAE['0cl_out_recovery_2'])\n",
    "print(MAE)"
   ]
  },
  {
   "cell_type": "markdown",
   "metadata": {},
   "source": [
    "### Проверка правильности расчета final.output.recovery"
   ]
  },
  {
   "cell_type": "code",
   "execution_count": 8,
   "metadata": {},
   "outputs": [
    {
     "name": "stdout",
     "output_type": "stream",
     "text": [
      "<class 'pandas.core.frame.DataFrame'>\n",
      "RangeIndex: 16860 entries, 0 to 16859\n",
      "Data columns (total 5 columns):\n",
      "final_out_recovery      15339 non-null float64\n",
      "final_out_con_au        16789 non-null float64\n",
      "0cl_in_feed_au          16777 non-null float64\n",
      "final_out_tail_au       16794 non-null float64\n",
      "final_out_recovery_2    15582 non-null float64\n",
      "dtypes: float64(5)\n",
      "memory usage: 658.7 KB\n",
      "\n",
      "<class 'pandas.core.frame.DataFrame'>\n",
      "Int64Index: 15582 entries, 0 to 16859\n",
      "Data columns (total 5 columns):\n",
      "final_out_recovery      15339 non-null float64\n",
      "final_out_con_au        15582 non-null float64\n",
      "0cl_in_feed_au          15582 non-null float64\n",
      "final_out_tail_au       15582 non-null float64\n",
      "final_out_recovery_2    15582 non-null float64\n",
      "dtypes: float64(5)\n",
      "memory usage: 730.4 KB\n",
      "Нет первоначального расчета final_out_recovery\n"
     ]
    },
    {
     "data": {
      "text/html": [
       "<div>\n",
       "<style scoped>\n",
       "    .dataframe tbody tr th:only-of-type {\n",
       "        vertical-align: middle;\n",
       "    }\n",
       "\n",
       "    .dataframe tbody tr th {\n",
       "        vertical-align: top;\n",
       "    }\n",
       "\n",
       "    .dataframe thead th {\n",
       "        text-align: right;\n",
       "    }\n",
       "</style>\n",
       "<table border=\"1\" class=\"dataframe\">\n",
       "  <thead>\n",
       "    <tr style=\"text-align: right;\">\n",
       "      <th></th>\n",
       "      <th>14284</th>\n",
       "      <th>15831</th>\n",
       "      <th>16057</th>\n",
       "      <th>1269</th>\n",
       "      <th>11623</th>\n",
       "    </tr>\n",
       "  </thead>\n",
       "  <tbody>\n",
       "    <tr>\n",
       "      <td>final_out_recovery</td>\n",
       "      <td>NaN</td>\n",
       "      <td>NaN</td>\n",
       "      <td>NaN</td>\n",
       "      <td>NaN</td>\n",
       "      <td>NaN</td>\n",
       "    </tr>\n",
       "    <tr>\n",
       "      <td>final_out_con_au</td>\n",
       "      <td>49.742839</td>\n",
       "      <td>3.577464</td>\n",
       "      <td>0.010000</td>\n",
       "      <td>40.531541</td>\n",
       "      <td>44.359797</td>\n",
       "    </tr>\n",
       "    <tr>\n",
       "      <td>0cl_in_feed_au</td>\n",
       "      <td>0.371753</td>\n",
       "      <td>4.452606</td>\n",
       "      <td>5.226926</td>\n",
       "      <td>1.873394</td>\n",
       "      <td>0.000000</td>\n",
       "    </tr>\n",
       "    <tr>\n",
       "      <td>final_out_tail_au</td>\n",
       "      <td>0.497018</td>\n",
       "      <td>1.942975</td>\n",
       "      <td>0.116038</td>\n",
       "      <td>2.374945</td>\n",
       "      <td>3.820770</td>\n",
       "    </tr>\n",
       "    <tr>\n",
       "      <td>final_out_recovery_2</td>\n",
       "      <td>-34.035889</td>\n",
       "      <td>123.364123</td>\n",
       "      <td>-9.221261</td>\n",
       "      <td>-28.438691</td>\n",
       "      <td>-inf</td>\n",
       "    </tr>\n",
       "  </tbody>\n",
       "</table>\n",
       "</div>"
      ],
      "text/plain": [
       "                          14284       15831     16057      1269       11623\n",
       "final_out_recovery          NaN         NaN       NaN        NaN        NaN\n",
       "final_out_con_au      49.742839    3.577464  0.010000  40.531541  44.359797\n",
       "0cl_in_feed_au         0.371753    4.452606  5.226926   1.873394   0.000000\n",
       "final_out_tail_au      0.497018    1.942975  0.116038   2.374945   3.820770\n",
       "final_out_recovery_2 -34.035889  123.364123 -9.221261 -28.438691       -inf"
      ]
     },
     "metadata": {},
     "output_type": "display_data"
    },
    {
     "data": {
      "text/html": [
       "<div>\n",
       "<style scoped>\n",
       "    .dataframe tbody tr th:only-of-type {\n",
       "        vertical-align: middle;\n",
       "    }\n",
       "\n",
       "    .dataframe tbody tr th {\n",
       "        vertical-align: top;\n",
       "    }\n",
       "\n",
       "    .dataframe thead th {\n",
       "        text-align: right;\n",
       "    }\n",
       "</style>\n",
       "<table border=\"1\" class=\"dataframe\">\n",
       "  <thead>\n",
       "    <tr style=\"text-align: right;\">\n",
       "      <th></th>\n",
       "      <th>14317</th>\n",
       "      <th>4790</th>\n",
       "      <th>2851</th>\n",
       "      <th>12062</th>\n",
       "      <th>5192</th>\n",
       "    </tr>\n",
       "  </thead>\n",
       "  <tbody>\n",
       "    <tr>\n",
       "      <td>final_out_recovery</td>\n",
       "      <td>75.434473</td>\n",
       "      <td>65.239637</td>\n",
       "      <td>62.230986</td>\n",
       "      <td>57.027708</td>\n",
       "      <td>67.408578</td>\n",
       "    </tr>\n",
       "    <tr>\n",
       "      <td>final_out_recovery_2</td>\n",
       "      <td>75.434473</td>\n",
       "      <td>65.239637</td>\n",
       "      <td>62.230986</td>\n",
       "      <td>57.027708</td>\n",
       "      <td>67.408578</td>\n",
       "    </tr>\n",
       "  </tbody>\n",
       "</table>\n",
       "</div>"
      ],
      "text/plain": [
       "                          14317      4790       2851       12062      5192 \n",
       "final_out_recovery    75.434473  65.239637  62.230986  57.027708  67.408578\n",
       "final_out_recovery_2  75.434473  65.239637  62.230986  57.027708  67.408578"
      ]
     },
     "metadata": {},
     "output_type": "display_data"
    },
    {
     "name": "stdout",
     "output_type": "stream",
     "text": [
      "8.158251945945868e-15\n"
     ]
    }
   ],
   "source": [
    "#вынесем необходимые данные в отдельный df\n",
    "data_MAE_2 = data_train.loc[:, ['final_out_recovery', 'final_out_con_au', '0cl_in_feed_au', 'final_out_tail_au']]\n",
    "\n",
    "_c2 = data_MAE_2['final_out_con_au'] \n",
    "_f2 = data_MAE_2['0cl_in_feed_au']\n",
    "_t2 = data_MAE_2['final_out_tail_au']\n",
    "data_MAE_2['final_out_recovery_2'] = _c2*(_f2-_t2)/(_f2*(_c2-_t2))*100\n",
    "\n",
    "data_MAE_2.info()\n",
    "\n",
    "#удалим строки где нет возможности расчитать rougher.output.recovery\n",
    "data_MAE_2.dropna(subset=['final_out_recovery_2'], inplace=True) \n",
    "print()\n",
    "data_MAE_2.info()\n",
    "\n",
    "print('Нет первоначального расчета final_out_recovery')\n",
    "display(data_MAE_2[data_MAE_2['final_out_recovery']!=data_MAE_2['final_out_recovery']].sample(5).T)\n",
    "\n",
    "data_MAE_2.dropna(inplace=True)\n",
    "\n",
    "display(data_MAE_2.loc[:, ['final_out_recovery', 'final_out_recovery_2']].sample(5).T)\n",
    "MAE_2 = mean_absolute_error(data_MAE_2['final_out_recovery'], data_MAE_2['final_out_recovery_2'])\n",
    "print(MAE_2)"
   ]
  },
  {
   "cell_type": "markdown",
   "metadata": {},
   "source": [
    "<div class=\"alert alert-block alert-success\">\n",
    "<b>Успех:</b> Эта проверка реализована абсолютно верно, молодец!\n",
    "</div>"
   ]
  },
  {
   "cell_type": "code",
   "execution_count": 9,
   "metadata": {
    "scrolled": true
   },
   "outputs": [
    {
     "data": {
      "text/html": [
       "<div>\n",
       "<style scoped>\n",
       "    .dataframe tbody tr th:only-of-type {\n",
       "        vertical-align: middle;\n",
       "    }\n",
       "\n",
       "    .dataframe tbody tr th {\n",
       "        vertical-align: top;\n",
       "    }\n",
       "\n",
       "    .dataframe thead th {\n",
       "        text-align: right;\n",
       "    }\n",
       "</style>\n",
       "<table border=\"1\" class=\"dataframe\">\n",
       "  <thead>\n",
       "    <tr style=\"text-align: right;\">\n",
       "      <th></th>\n",
       "      <th>13500</th>\n",
       "      <th>11573</th>\n",
       "      <th>8758</th>\n",
       "      <th>13477</th>\n",
       "      <th>16471</th>\n",
       "      <th>3079</th>\n",
       "      <th>4121</th>\n",
       "      <th>14590</th>\n",
       "      <th>7541</th>\n",
       "      <th>12057</th>\n",
       "      <th>8760</th>\n",
       "      <th>12047</th>\n",
       "      <th>11969</th>\n",
       "      <th>5925</th>\n",
       "      <th>4955</th>\n",
       "    </tr>\n",
       "  </thead>\n",
       "  <tbody>\n",
       "    <tr>\n",
       "      <td>0cl_in_feed_au</td>\n",
       "      <td>0.01</td>\n",
       "      <td>0.0</td>\n",
       "      <td>0.0</td>\n",
       "      <td>0.01</td>\n",
       "      <td>0.01</td>\n",
       "      <td>6.700573</td>\n",
       "      <td>0.0</td>\n",
       "      <td>0.01</td>\n",
       "      <td>0.0</td>\n",
       "      <td>0.260124</td>\n",
       "      <td>0.0</td>\n",
       "      <td>0.0</td>\n",
       "      <td>0.0</td>\n",
       "      <td>0.0</td>\n",
       "      <td>0.0</td>\n",
       "    </tr>\n",
       "    <tr>\n",
       "      <td>0cl_out_con_au</td>\n",
       "      <td>0.01</td>\n",
       "      <td>0.0</td>\n",
       "      <td>0.0</td>\n",
       "      <td>0.01</td>\n",
       "      <td>0.01</td>\n",
       "      <td>1.343274</td>\n",
       "      <td>0.0</td>\n",
       "      <td>0.01</td>\n",
       "      <td>0.0</td>\n",
       "      <td>0.000000</td>\n",
       "      <td>0.0</td>\n",
       "      <td>0.0</td>\n",
       "      <td>0.0</td>\n",
       "      <td>0.0</td>\n",
       "      <td>0.0</td>\n",
       "    </tr>\n",
       "    <tr>\n",
       "      <td>1cl_out_con_au</td>\n",
       "      <td>0.01</td>\n",
       "      <td>0.0</td>\n",
       "      <td>0.0</td>\n",
       "      <td>0.01</td>\n",
       "      <td>0.01</td>\n",
       "      <td>36.849534</td>\n",
       "      <td>0.0</td>\n",
       "      <td>0.01</td>\n",
       "      <td>0.0</td>\n",
       "      <td>0.000000</td>\n",
       "      <td>0.0</td>\n",
       "      <td>0.0</td>\n",
       "      <td>0.0</td>\n",
       "      <td>0.0</td>\n",
       "      <td>0.0</td>\n",
       "    </tr>\n",
       "    <tr>\n",
       "      <td>final_out_con_au</td>\n",
       "      <td>0.01</td>\n",
       "      <td>0.0</td>\n",
       "      <td>0.0</td>\n",
       "      <td>0.01</td>\n",
       "      <td>0.01</td>\n",
       "      <td>0.000000</td>\n",
       "      <td>0.0</td>\n",
       "      <td>0.01</td>\n",
       "      <td>0.0</td>\n",
       "      <td>0.000000</td>\n",
       "      <td>0.0</td>\n",
       "      <td>0.0</td>\n",
       "      <td>0.0</td>\n",
       "      <td>0.0</td>\n",
       "      <td>0.0</td>\n",
       "    </tr>\n",
       "  </tbody>\n",
       "</table>\n",
       "</div>"
      ],
      "text/plain": [
       "                  13500  11573  8758   13477  16471      3079   4121   14590  \\\n",
       "0cl_in_feed_au     0.01    0.0    0.0   0.01   0.01   6.700573    0.0   0.01   \n",
       "0cl_out_con_au     0.01    0.0    0.0   0.01   0.01   1.343274    0.0   0.01   \n",
       "1cl_out_con_au     0.01    0.0    0.0   0.01   0.01  36.849534    0.0   0.01   \n",
       "final_out_con_au   0.01    0.0    0.0   0.01   0.01   0.000000    0.0   0.01   \n",
       "\n",
       "                  7541      12057  8760   12047  11969  5925   4955   \n",
       "0cl_in_feed_au      0.0  0.260124    0.0    0.0    0.0    0.0    0.0  \n",
       "0cl_out_con_au      0.0  0.000000    0.0    0.0    0.0    0.0    0.0  \n",
       "1cl_out_con_au      0.0  0.000000    0.0    0.0    0.0    0.0    0.0  \n",
       "final_out_con_au    0.0  0.000000    0.0    0.0    0.0    0.0    0.0  "
      ]
     },
     "metadata": {},
     "output_type": "display_data"
    },
    {
     "data": {
      "text/html": [
       "<div>\n",
       "<style scoped>\n",
       "    .dataframe tbody tr th:only-of-type {\n",
       "        vertical-align: middle;\n",
       "    }\n",
       "\n",
       "    .dataframe tbody tr th {\n",
       "        vertical-align: top;\n",
       "    }\n",
       "\n",
       "    .dataframe thead th {\n",
       "        text-align: right;\n",
       "    }\n",
       "</style>\n",
       "<table border=\"1\" class=\"dataframe\">\n",
       "  <thead>\n",
       "    <tr style=\"text-align: right;\">\n",
       "      <th></th>\n",
       "      <th>11035</th>\n",
       "      <th>16243</th>\n",
       "      <th>5831</th>\n",
       "      <th>1787</th>\n",
       "      <th>4044</th>\n",
       "      <th>11985</th>\n",
       "      <th>11489</th>\n",
       "      <th>4114</th>\n",
       "      <th>12280</th>\n",
       "      <th>2418</th>\n",
       "      <th>13537</th>\n",
       "      <th>6912</th>\n",
       "      <th>6753</th>\n",
       "      <th>12070</th>\n",
       "      <th>12044</th>\n",
       "    </tr>\n",
       "  </thead>\n",
       "  <tbody>\n",
       "    <tr>\n",
       "      <td>0cl_in_feed_au</td>\n",
       "      <td>7.071902</td>\n",
       "      <td>0.01</td>\n",
       "      <td>0.0</td>\n",
       "      <td>0.0</td>\n",
       "      <td>0.0</td>\n",
       "      <td>0.0</td>\n",
       "      <td>0.0</td>\n",
       "      <td>0.0</td>\n",
       "      <td>9.153538</td>\n",
       "      <td>0.0</td>\n",
       "      <td>0.01</td>\n",
       "      <td>0.0</td>\n",
       "      <td>11.506071</td>\n",
       "      <td>12.088189</td>\n",
       "      <td>0.0</td>\n",
       "    </tr>\n",
       "    <tr>\n",
       "      <td>0cl_out_con_au</td>\n",
       "      <td>20.930668</td>\n",
       "      <td>0.01</td>\n",
       "      <td>0.0</td>\n",
       "      <td>0.0</td>\n",
       "      <td>0.0</td>\n",
       "      <td>0.0</td>\n",
       "      <td>0.0</td>\n",
       "      <td>0.0</td>\n",
       "      <td>23.410939</td>\n",
       "      <td>0.0</td>\n",
       "      <td>0.01</td>\n",
       "      <td>0.0</td>\n",
       "      <td>21.741299</td>\n",
       "      <td>19.971302</td>\n",
       "      <td>0.0</td>\n",
       "    </tr>\n",
       "    <tr>\n",
       "      <td>1cl_out_con_au</td>\n",
       "      <td>0.000000</td>\n",
       "      <td>0.01</td>\n",
       "      <td>0.0</td>\n",
       "      <td>0.0</td>\n",
       "      <td>0.0</td>\n",
       "      <td>0.0</td>\n",
       "      <td>0.0</td>\n",
       "      <td>0.0</td>\n",
       "      <td>0.000000</td>\n",
       "      <td>0.0</td>\n",
       "      <td>0.01</td>\n",
       "      <td>0.0</td>\n",
       "      <td>0.737878</td>\n",
       "      <td>0.000000</td>\n",
       "      <td>0.0</td>\n",
       "    </tr>\n",
       "    <tr>\n",
       "      <td>final_out_con_au</td>\n",
       "      <td>48.720661</td>\n",
       "      <td>0.01</td>\n",
       "      <td>0.0</td>\n",
       "      <td>0.0</td>\n",
       "      <td>0.0</td>\n",
       "      <td>0.0</td>\n",
       "      <td>0.0</td>\n",
       "      <td>0.0</td>\n",
       "      <td>47.283620</td>\n",
       "      <td>0.0</td>\n",
       "      <td>0.01</td>\n",
       "      <td>0.0</td>\n",
       "      <td>43.035463</td>\n",
       "      <td>46.458319</td>\n",
       "      <td>0.0</td>\n",
       "    </tr>\n",
       "  </tbody>\n",
       "</table>\n",
       "</div>"
      ],
      "text/plain": [
       "                      11035  16243  5831   1787   4044   11985  11489  4114   \\\n",
       "0cl_in_feed_au     7.071902   0.01    0.0    0.0    0.0    0.0    0.0    0.0   \n",
       "0cl_out_con_au    20.930668   0.01    0.0    0.0    0.0    0.0    0.0    0.0   \n",
       "1cl_out_con_au     0.000000   0.01    0.0    0.0    0.0    0.0    0.0    0.0   \n",
       "final_out_con_au  48.720661   0.01    0.0    0.0    0.0    0.0    0.0    0.0   \n",
       "\n",
       "                      12280  2418   13537  6912       6753       12070  12044  \n",
       "0cl_in_feed_au     9.153538    0.0   0.01    0.0  11.506071  12.088189    0.0  \n",
       "0cl_out_con_au    23.410939    0.0   0.01    0.0  21.741299  19.971302    0.0  \n",
       "1cl_out_con_au     0.000000    0.0   0.01    0.0   0.737878   0.000000    0.0  \n",
       "final_out_con_au  47.283620    0.0   0.01    0.0  43.035463  46.458319    0.0  "
      ]
     },
     "metadata": {},
     "output_type": "display_data"
    },
    {
     "data": {
      "text/html": [
       "<div>\n",
       "<style scoped>\n",
       "    .dataframe tbody tr th:only-of-type {\n",
       "        vertical-align: middle;\n",
       "    }\n",
       "\n",
       "    .dataframe tbody tr th {\n",
       "        vertical-align: top;\n",
       "    }\n",
       "\n",
       "    .dataframe thead th {\n",
       "        text-align: right;\n",
       "    }\n",
       "</style>\n",
       "<table border=\"1\" class=\"dataframe\">\n",
       "  <thead>\n",
       "    <tr style=\"text-align: right;\">\n",
       "      <th></th>\n",
       "      <th>14580</th>\n",
       "      <th>5036</th>\n",
       "      <th>12647</th>\n",
       "      <th>1318</th>\n",
       "      <th>11587</th>\n",
       "      <th>16246</th>\n",
       "      <th>4046</th>\n",
       "      <th>2587</th>\n",
       "      <th>2003</th>\n",
       "      <th>11502</th>\n",
       "      <th>8689</th>\n",
       "      <th>121</th>\n",
       "      <th>4951</th>\n",
       "      <th>1826</th>\n",
       "      <th>5858</th>\n",
       "    </tr>\n",
       "  </thead>\n",
       "  <tbody>\n",
       "    <tr>\n",
       "      <td>0cl_in_feed_au</td>\n",
       "      <td>0.01</td>\n",
       "      <td>4.759512</td>\n",
       "      <td>0.01</td>\n",
       "      <td>4.054293</td>\n",
       "      <td>5.980887</td>\n",
       "      <td>0.01</td>\n",
       "      <td>0.0</td>\n",
       "      <td>0.0</td>\n",
       "      <td>0.0</td>\n",
       "      <td>0.0</td>\n",
       "      <td>0.0</td>\n",
       "      <td>0.0</td>\n",
       "      <td>0.0</td>\n",
       "      <td>0.0</td>\n",
       "      <td>0.0</td>\n",
       "    </tr>\n",
       "    <tr>\n",
       "      <td>0cl_out_con_au</td>\n",
       "      <td>0.01</td>\n",
       "      <td>6.760127</td>\n",
       "      <td>0.01</td>\n",
       "      <td>18.285246</td>\n",
       "      <td>0.000000</td>\n",
       "      <td>0.01</td>\n",
       "      <td>0.0</td>\n",
       "      <td>0.0</td>\n",
       "      <td>0.0</td>\n",
       "      <td>0.0</td>\n",
       "      <td>0.0</td>\n",
       "      <td>0.0</td>\n",
       "      <td>0.0</td>\n",
       "      <td>0.0</td>\n",
       "      <td>0.0</td>\n",
       "    </tr>\n",
       "    <tr>\n",
       "      <td>1cl_out_con_au</td>\n",
       "      <td>0.01</td>\n",
       "      <td>0.000000</td>\n",
       "      <td>0.01</td>\n",
       "      <td>0.000000</td>\n",
       "      <td>34.558594</td>\n",
       "      <td>0.01</td>\n",
       "      <td>0.0</td>\n",
       "      <td>0.0</td>\n",
       "      <td>0.0</td>\n",
       "      <td>0.0</td>\n",
       "      <td>0.0</td>\n",
       "      <td>0.0</td>\n",
       "      <td>0.0</td>\n",
       "      <td>0.0</td>\n",
       "      <td>0.0</td>\n",
       "    </tr>\n",
       "    <tr>\n",
       "      <td>final_out_con_au</td>\n",
       "      <td>0.01</td>\n",
       "      <td>0.000000</td>\n",
       "      <td>0.01</td>\n",
       "      <td>0.000000</td>\n",
       "      <td>0.000000</td>\n",
       "      <td>0.01</td>\n",
       "      <td>0.0</td>\n",
       "      <td>0.0</td>\n",
       "      <td>0.0</td>\n",
       "      <td>0.0</td>\n",
       "      <td>0.0</td>\n",
       "      <td>0.0</td>\n",
       "      <td>0.0</td>\n",
       "      <td>0.0</td>\n",
       "      <td>0.0</td>\n",
       "    </tr>\n",
       "  </tbody>\n",
       "</table>\n",
       "</div>"
      ],
      "text/plain": [
       "                  14580     5036   12647      1318       11587  16246  4046   \\\n",
       "0cl_in_feed_au     0.01  4.759512   0.01   4.054293   5.980887   0.01    0.0   \n",
       "0cl_out_con_au     0.01  6.760127   0.01  18.285246   0.000000   0.01    0.0   \n",
       "1cl_out_con_au     0.01  0.000000   0.01   0.000000  34.558594   0.01    0.0   \n",
       "final_out_con_au   0.01  0.000000   0.01   0.000000   0.000000   0.01    0.0   \n",
       "\n",
       "                  2587   2003   11502  8689   121    4951   1826   5858   \n",
       "0cl_in_feed_au      0.0    0.0    0.0    0.0    0.0    0.0    0.0    0.0  \n",
       "0cl_out_con_au      0.0    0.0    0.0    0.0    0.0    0.0    0.0    0.0  \n",
       "1cl_out_con_au      0.0    0.0    0.0    0.0    0.0    0.0    0.0    0.0  \n",
       "final_out_con_au    0.0    0.0    0.0    0.0    0.0    0.0    0.0    0.0  "
      ]
     },
     "metadata": {},
     "output_type": "display_data"
    }
   ],
   "source": [
    "#Посмотрим на низкие значения концентрации на разных этапах\n",
    "display(data_train[data_train['0cl_out_con_au']<2][au_con].sample(15).T)\n",
    "display(data_train[data_train['1cl_out_con_au']<2][au_con].sample(15).T)\n",
    "display(data_train[data_train['final_out_con_au']<2][au_con].sample(15).T)"
   ]
  },
  {
   "cell_type": "markdown",
   "metadata": {},
   "source": [
    "Расчет rougher.output.recovery и final.output.recovery в исходных данных произведен правильно, но есть строки с отсутствующими значениями которые можно \"досчитать\" после заполнения ошибок (нули и околонулевые значения) в \"столбцах-родителях\"."
   ]
  },
  {
   "cell_type": "markdown",
   "metadata": {},
   "source": [
    "### Анализ признаков, недоступных в тестовой выборке."
   ]
  },
  {
   "cell_type": "code",
   "execution_count": 10,
   "metadata": {
    "scrolled": true
   },
   "outputs": [
    {
     "name": "stdout",
     "output_type": "stream",
     "text": [
      "<class 'pandas.core.frame.DataFrame'>\n",
      "RangeIndex: 16860 entries, 0 to 16859\n",
      "Data columns (total 34 columns):\n",
      "final_out_con_ag                    16788 non-null float64\n",
      "final_out_con_pb                    16788 non-null float64\n",
      "final_out_con_sol                   16490 non-null float64\n",
      "final_out_con_au                    16789 non-null float64\n",
      "final_out_recovery                  15339 non-null float64\n",
      "final_out_tail_ag                   16794 non-null float64\n",
      "final_out_tail_pb                   16677 non-null float64\n",
      "final_out_tail_sol                  16715 non-null float64\n",
      "final_out_tail_au                   16794 non-null float64\n",
      "1cl_out_con_ag                      16778 non-null float64\n",
      "1cl_out_con_pb                      16502 non-null float64\n",
      "1cl_out_con_sol                     16224 non-null float64\n",
      "1cl_out_con_au                      16778 non-null float64\n",
      "1cl_out_tail_ag                     16777 non-null float64\n",
      "1cl_out_tail_pb                     16761 non-null float64\n",
      "1cl_out_tail_sol                    16579 non-null float64\n",
      "1cl_out_tail_au                     16777 non-null float64\n",
      "0cl_calc_sulfate_to_au_con          16833 non-null float64\n",
      "0cl_calc_fb10_sulfate_to_au_feed    16833 non-null float64\n",
      "0cl_calc_fb11_sulfate_to_au_feed    16833 non-null float64\n",
      "0cl_calc_au_pb_ratio                15618 non-null float64\n",
      "0cl_out_con_ag                      16778 non-null float64\n",
      "0cl_out_con_pb                      16778 non-null float64\n",
      "0cl_out_con_sol                     16698 non-null float64\n",
      "0cl_out_con_au                      16778 non-null float64\n",
      "0cl_out_recovery                    14287 non-null float64\n",
      "0cl_out_tail_ag                     14610 non-null float64\n",
      "0cl_out_tail_pb                     16778 non-null float64\n",
      "0cl_out_tail_sol                    14611 non-null float64\n",
      "0cl_out_tail_au                     14611 non-null float64\n",
      "2cl_out_tail_ag                     16776 non-null float64\n",
      "2cl_out_tail_pb                     16764 non-null float64\n",
      "2cl_out_tail_sol                    14874 non-null float64\n",
      "2cl_out_tail_au                     16778 non-null float64\n",
      "dtypes: float64(34)\n",
      "memory usage: 4.4 MB\n"
     ]
    }
   ],
   "source": [
    "data_targ = data_train.copy()\n",
    "\n",
    "for col in data_train.columns:\n",
    "    if col in data_test.columns:\n",
    "        del data_targ[col]\n",
    "    \n",
    "data_targ.info()"
   ]
  },
  {
   "cell_type": "markdown",
   "metadata": {},
   "source": [
    "В тестовой выборке отсутствуют признаки, значения которых нельзя установить/получить до начала или в процессе обработки руды.  "
   ]
  },
  {
   "cell_type": "markdown",
   "metadata": {},
   "source": [
    "<div class=\"alert alert-block alert-success\">\n",
    "<b>Успех:</b> Согласен.\n",
    "</div>"
   ]
  },
  {
   "cell_type": "markdown",
   "metadata": {},
   "source": [
    "### Выводы по данным"
   ]
  },
  {
   "cell_type": "markdown",
   "metadata": {},
   "source": [
    "Столбец date - перевести в формат DateTime  \n",
    "Есть 0 и околонулевые значения в столбцах со значениями концентраций (\"con\" в названии). Вероятно связано с остановкой и запуском оборудования (возможно на профилактику/регламентные работы или из-за отсутствия сырья).  \n",
    "Часть отсутствующих значений recovery можно рассчитать после заполнения столбцов \"родителей\"."
   ]
  },
  {
   "cell_type": "markdown",
   "metadata": {},
   "source": [
    "## Подготовка данных  \n",
    "[Таблица имен DataFrame](#DataFrame_names)"
   ]
  },
  {
   "cell_type": "markdown",
   "metadata": {},
   "source": [
    "### Тип данных"
   ]
  },
  {
   "cell_type": "code",
   "execution_count": 11,
   "metadata": {},
   "outputs": [],
   "source": [
    "# переведем date в datetime\n",
    "for df in [data_train, data_test, data_full]:\n",
    "    df['date'] = pd.to_datetime(df['date'])\n",
    "    "
   ]
  },
  {
   "cell_type": "markdown",
   "metadata": {},
   "source": [
    "### Замена пропусков интерполяцией"
   ]
  },
  {
   "cell_type": "code",
   "execution_count": 12,
   "metadata": {
    "scrolled": false
   },
   "outputs": [
    {
     "data": {
      "text/html": [
       "<div>\n",
       "<style scoped>\n",
       "    .dataframe tbody tr th:only-of-type {\n",
       "        vertical-align: middle;\n",
       "    }\n",
       "\n",
       "    .dataframe tbody tr th {\n",
       "        vertical-align: top;\n",
       "    }\n",
       "\n",
       "    .dataframe thead th {\n",
       "        text-align: right;\n",
       "    }\n",
       "</style>\n",
       "<table border=\"1\" class=\"dataframe\">\n",
       "  <thead>\n",
       "    <tr style=\"text-align: right;\">\n",
       "      <th></th>\n",
       "      <th>1930</th>\n",
       "      <th>1936</th>\n",
       "      <th>1966</th>\n",
       "      <th>1974</th>\n",
       "      <th>1968</th>\n",
       "      <th>8725</th>\n",
       "      <th>1934</th>\n",
       "      <th>16163</th>\n",
       "      <th>10407</th>\n",
       "      <th>1972</th>\n",
       "      <th>1962</th>\n",
       "      <th>1945</th>\n",
       "      <th>16164</th>\n",
       "      <th>1943</th>\n",
       "      <th>1952</th>\n",
       "    </tr>\n",
       "  </thead>\n",
       "  <tbody>\n",
       "    <tr>\n",
       "      <td>0cl_out_tail_au</td>\n",
       "      <td>NaN</td>\n",
       "      <td>NaN</td>\n",
       "      <td>NaN</td>\n",
       "      <td>NaN</td>\n",
       "      <td>NaN</td>\n",
       "      <td>NaN</td>\n",
       "      <td>NaN</td>\n",
       "      <td>NaN</td>\n",
       "      <td>NaN</td>\n",
       "      <td>NaN</td>\n",
       "      <td>NaN</td>\n",
       "      <td>NaN</td>\n",
       "      <td>NaN</td>\n",
       "      <td>NaN</td>\n",
       "      <td>NaN</td>\n",
       "    </tr>\n",
       "    <tr>\n",
       "      <td>1cl_out_tail_au</td>\n",
       "      <td>NaN</td>\n",
       "      <td>NaN</td>\n",
       "      <td>NaN</td>\n",
       "      <td>NaN</td>\n",
       "      <td>NaN</td>\n",
       "      <td>NaN</td>\n",
       "      <td>NaN</td>\n",
       "      <td>NaN</td>\n",
       "      <td>NaN</td>\n",
       "      <td>NaN</td>\n",
       "      <td>NaN</td>\n",
       "      <td>NaN</td>\n",
       "      <td>NaN</td>\n",
       "      <td>NaN</td>\n",
       "      <td>NaN</td>\n",
       "    </tr>\n",
       "    <tr>\n",
       "      <td>2cl_out_tail_au</td>\n",
       "      <td>NaN</td>\n",
       "      <td>NaN</td>\n",
       "      <td>NaN</td>\n",
       "      <td>NaN</td>\n",
       "      <td>NaN</td>\n",
       "      <td>NaN</td>\n",
       "      <td>NaN</td>\n",
       "      <td>NaN</td>\n",
       "      <td>NaN</td>\n",
       "      <td>NaN</td>\n",
       "      <td>NaN</td>\n",
       "      <td>NaN</td>\n",
       "      <td>NaN</td>\n",
       "      <td>NaN</td>\n",
       "      <td>NaN</td>\n",
       "    </tr>\n",
       "    <tr>\n",
       "      <td>final_out_tail_au</td>\n",
       "      <td>NaN</td>\n",
       "      <td>NaN</td>\n",
       "      <td>NaN</td>\n",
       "      <td>NaN</td>\n",
       "      <td>NaN</td>\n",
       "      <td>0.0</td>\n",
       "      <td>NaN</td>\n",
       "      <td>0.0</td>\n",
       "      <td>2.593327</td>\n",
       "      <td>NaN</td>\n",
       "      <td>NaN</td>\n",
       "      <td>NaN</td>\n",
       "      <td>0.0</td>\n",
       "      <td>NaN</td>\n",
       "      <td>NaN</td>\n",
       "    </tr>\n",
       "  </tbody>\n",
       "</table>\n",
       "</div>"
      ],
      "text/plain": [
       "                   1930   1936   1966   1974   1968   8725   1934   16163  \\\n",
       "0cl_out_tail_au      NaN    NaN    NaN    NaN    NaN    NaN    NaN    NaN   \n",
       "1cl_out_tail_au      NaN    NaN    NaN    NaN    NaN    NaN    NaN    NaN   \n",
       "2cl_out_tail_au      NaN    NaN    NaN    NaN    NaN    NaN    NaN    NaN   \n",
       "final_out_tail_au    NaN    NaN    NaN    NaN    NaN    0.0    NaN    0.0   \n",
       "\n",
       "                      10407  1972   1962   1945   16164  1943   1952   \n",
       "0cl_out_tail_au         NaN    NaN    NaN    NaN    NaN    NaN    NaN  \n",
       "1cl_out_tail_au         NaN    NaN    NaN    NaN    NaN    NaN    NaN  \n",
       "2cl_out_tail_au         NaN    NaN    NaN    NaN    NaN    NaN    NaN  \n",
       "final_out_tail_au  2.593327    NaN    NaN    NaN    0.0    NaN    NaN  "
      ]
     },
     "metadata": {},
     "output_type": "display_data"
    }
   ],
   "source": [
    "#поищем NaN\n",
    "#display(data_train[data_train['0cl_out_con_au']!=data_train['0cl_out_con_au']][au_con].sample(15).T)\n",
    "display(data_train[data_train['2cl_out_tail_au']!=data_train['2cl_out_tail_au']][au_tail].sample(15).T)"
   ]
  },
  {
   "cell_type": "code",
   "execution_count": 13,
   "metadata": {},
   "outputs": [
    {
     "data": {
      "text/plain": [
       "0"
      ]
     },
     "execution_count": 13,
     "metadata": {},
     "output_type": "execute_result"
    }
   ],
   "source": [
    "#попробуем интерполяцию\n",
    "data_train_int = data_train.interpolate()\n",
    "data_train_int.isna().sum().sum()"
   ]
  },
  {
   "cell_type": "markdown",
   "metadata": {},
   "source": [
    "<div class=\"alert alert-block alert-success\">\n",
    "<b>Успех:</b> Исходя из данных, заполнить таким способом – отличное решение!\n",
    "</div>"
   ]
  },
  {
   "cell_type": "markdown",
   "metadata": {},
   "source": [
    "<div class=\"alert alert-block alert-info\">\n",
    "<b>Совет: </b> Однако, я бы удалил строки, в которых есть пропуски в целевых колонках. Так было бы безопаснее.\n",
    "</div>"
   ]
  },
  {
   "cell_type": "markdown",
   "metadata": {},
   "source": [
    "Изменения: Были внесены следующие изменения ... "
   ]
  },
  {
   "cell_type": "code",
   "execution_count": 14,
   "metadata": {},
   "outputs": [
    {
     "data": {
      "text/html": [
       "<div>\n",
       "<style scoped>\n",
       "    .dataframe tbody tr th:only-of-type {\n",
       "        vertical-align: middle;\n",
       "    }\n",
       "\n",
       "    .dataframe tbody tr th {\n",
       "        vertical-align: top;\n",
       "    }\n",
       "\n",
       "    .dataframe thead th {\n",
       "        text-align: right;\n",
       "    }\n",
       "</style>\n",
       "<table border=\"1\" class=\"dataframe\">\n",
       "  <thead>\n",
       "    <tr style=\"text-align: right;\">\n",
       "      <th></th>\n",
       "      <th>16143</th>\n",
       "      <th>16144</th>\n",
       "      <th>16145</th>\n",
       "      <th>16146</th>\n",
       "      <th>16147</th>\n",
       "      <th>16148</th>\n",
       "      <th>16149</th>\n",
       "      <th>16150</th>\n",
       "      <th>16151</th>\n",
       "      <th>16152</th>\n",
       "      <th>16153</th>\n",
       "      <th>16154</th>\n",
       "    </tr>\n",
       "  </thead>\n",
       "  <tbody>\n",
       "    <tr>\n",
       "      <td>0cl_in_feed_au</td>\n",
       "      <td>7.410750</td>\n",
       "      <td>NaN</td>\n",
       "      <td>NaN</td>\n",
       "      <td>NaN</td>\n",
       "      <td>NaN</td>\n",
       "      <td>NaN</td>\n",
       "      <td>NaN</td>\n",
       "      <td>NaN</td>\n",
       "      <td>NaN</td>\n",
       "      <td>NaN</td>\n",
       "      <td>NaN</td>\n",
       "      <td>NaN</td>\n",
       "    </tr>\n",
       "    <tr>\n",
       "      <td>0cl_out_con_au</td>\n",
       "      <td>15.715523</td>\n",
       "      <td>NaN</td>\n",
       "      <td>NaN</td>\n",
       "      <td>NaN</td>\n",
       "      <td>NaN</td>\n",
       "      <td>NaN</td>\n",
       "      <td>NaN</td>\n",
       "      <td>NaN</td>\n",
       "      <td>NaN</td>\n",
       "      <td>NaN</td>\n",
       "      <td>NaN</td>\n",
       "      <td>NaN</td>\n",
       "    </tr>\n",
       "    <tr>\n",
       "      <td>1cl_out_con_au</td>\n",
       "      <td>0.010000</td>\n",
       "      <td>NaN</td>\n",
       "      <td>NaN</td>\n",
       "      <td>NaN</td>\n",
       "      <td>NaN</td>\n",
       "      <td>NaN</td>\n",
       "      <td>NaN</td>\n",
       "      <td>NaN</td>\n",
       "      <td>NaN</td>\n",
       "      <td>NaN</td>\n",
       "      <td>NaN</td>\n",
       "      <td>NaN</td>\n",
       "    </tr>\n",
       "    <tr>\n",
       "      <td>final_out_con_au</td>\n",
       "      <td>42.417690</td>\n",
       "      <td>42.41769</td>\n",
       "      <td>42.41769</td>\n",
       "      <td>42.41769</td>\n",
       "      <td>42.41769</td>\n",
       "      <td>42.41769</td>\n",
       "      <td>42.41769</td>\n",
       "      <td>42.41769</td>\n",
       "      <td>42.41769</td>\n",
       "      <td>NaN</td>\n",
       "      <td>NaN</td>\n",
       "      <td>NaN</td>\n",
       "    </tr>\n",
       "  </tbody>\n",
       "</table>\n",
       "</div>"
      ],
      "text/plain": [
       "                      16143     16144     16145     16146     16147     16148  \\\n",
       "0cl_in_feed_au     7.410750       NaN       NaN       NaN       NaN       NaN   \n",
       "0cl_out_con_au    15.715523       NaN       NaN       NaN       NaN       NaN   \n",
       "1cl_out_con_au     0.010000       NaN       NaN       NaN       NaN       NaN   \n",
       "final_out_con_au  42.417690  42.41769  42.41769  42.41769  42.41769  42.41769   \n",
       "\n",
       "                     16149     16150     16151  16152  16153  16154  \n",
       "0cl_in_feed_au         NaN       NaN       NaN    NaN    NaN    NaN  \n",
       "0cl_out_con_au         NaN       NaN       NaN    NaN    NaN    NaN  \n",
       "1cl_out_con_au         NaN       NaN       NaN    NaN    NaN    NaN  \n",
       "final_out_con_au  42.41769  42.41769  42.41769    NaN    NaN    NaN  "
      ]
     },
     "metadata": {},
     "output_type": "display_data"
    },
    {
     "data": {
      "text/html": [
       "<div>\n",
       "<style scoped>\n",
       "    .dataframe tbody tr th:only-of-type {\n",
       "        vertical-align: middle;\n",
       "    }\n",
       "\n",
       "    .dataframe tbody tr th {\n",
       "        vertical-align: top;\n",
       "    }\n",
       "\n",
       "    .dataframe thead th {\n",
       "        text-align: right;\n",
       "    }\n",
       "</style>\n",
       "<table border=\"1\" class=\"dataframe\">\n",
       "  <thead>\n",
       "    <tr style=\"text-align: right;\">\n",
       "      <th></th>\n",
       "      <th>16143</th>\n",
       "      <th>16144</th>\n",
       "      <th>16145</th>\n",
       "      <th>16146</th>\n",
       "      <th>16147</th>\n",
       "      <th>16148</th>\n",
       "      <th>16149</th>\n",
       "      <th>16150</th>\n",
       "      <th>16151</th>\n",
       "      <th>16152</th>\n",
       "      <th>16153</th>\n",
       "      <th>16154</th>\n",
       "    </tr>\n",
       "  </thead>\n",
       "  <tbody>\n",
       "    <tr>\n",
       "      <td>0cl_in_feed_au</td>\n",
       "      <td>7.410750</td>\n",
       "      <td>6.802123</td>\n",
       "      <td>6.193496</td>\n",
       "      <td>5.584868</td>\n",
       "      <td>4.976241</td>\n",
       "      <td>4.367614</td>\n",
       "      <td>3.758987</td>\n",
       "      <td>3.150360</td>\n",
       "      <td>2.541733</td>\n",
       "      <td>1.933105</td>\n",
       "      <td>1.324478</td>\n",
       "      <td>0.715851</td>\n",
       "    </tr>\n",
       "    <tr>\n",
       "      <td>0cl_out_con_au</td>\n",
       "      <td>15.715523</td>\n",
       "      <td>14.423923</td>\n",
       "      <td>13.132323</td>\n",
       "      <td>11.840723</td>\n",
       "      <td>10.549123</td>\n",
       "      <td>9.257523</td>\n",
       "      <td>7.965923</td>\n",
       "      <td>6.674323</td>\n",
       "      <td>5.382724</td>\n",
       "      <td>4.091124</td>\n",
       "      <td>2.799524</td>\n",
       "      <td>1.507924</td>\n",
       "    </tr>\n",
       "    <tr>\n",
       "      <td>1cl_out_con_au</td>\n",
       "      <td>0.010000</td>\n",
       "      <td>0.010000</td>\n",
       "      <td>0.010000</td>\n",
       "      <td>0.010000</td>\n",
       "      <td>0.010000</td>\n",
       "      <td>0.010000</td>\n",
       "      <td>0.010000</td>\n",
       "      <td>0.010000</td>\n",
       "      <td>0.010000</td>\n",
       "      <td>0.010000</td>\n",
       "      <td>0.010000</td>\n",
       "      <td>0.010000</td>\n",
       "    </tr>\n",
       "    <tr>\n",
       "      <td>final_out_con_au</td>\n",
       "      <td>42.417690</td>\n",
       "      <td>42.417690</td>\n",
       "      <td>42.417690</td>\n",
       "      <td>42.417690</td>\n",
       "      <td>42.417690</td>\n",
       "      <td>42.417690</td>\n",
       "      <td>42.417690</td>\n",
       "      <td>42.417690</td>\n",
       "      <td>42.417690</td>\n",
       "      <td>31.955045</td>\n",
       "      <td>21.492401</td>\n",
       "      <td>11.029756</td>\n",
       "    </tr>\n",
       "  </tbody>\n",
       "</table>\n",
       "</div>"
      ],
      "text/plain": [
       "                      16143      16144      16145      16146      16147  \\\n",
       "0cl_in_feed_au     7.410750   6.802123   6.193496   5.584868   4.976241   \n",
       "0cl_out_con_au    15.715523  14.423923  13.132323  11.840723  10.549123   \n",
       "1cl_out_con_au     0.010000   0.010000   0.010000   0.010000   0.010000   \n",
       "final_out_con_au  42.417690  42.417690  42.417690  42.417690  42.417690   \n",
       "\n",
       "                      16148      16149      16150      16151      16152  \\\n",
       "0cl_in_feed_au     4.367614   3.758987   3.150360   2.541733   1.933105   \n",
       "0cl_out_con_au     9.257523   7.965923   6.674323   5.382724   4.091124   \n",
       "1cl_out_con_au     0.010000   0.010000   0.010000   0.010000   0.010000   \n",
       "final_out_con_au  42.417690  42.417690  42.417690  42.417690  31.955045   \n",
       "\n",
       "                      16153      16154  \n",
       "0cl_in_feed_au     1.324478   0.715851  \n",
       "0cl_out_con_au     2.799524   1.507924  \n",
       "1cl_out_con_au     0.010000   0.010000  \n",
       "final_out_con_au  21.492401  11.029756  "
      ]
     },
     "metadata": {},
     "output_type": "display_data"
    }
   ],
   "source": [
    "display(data_train[16143:16155][au_con].T)\n",
    "display(data_train_int[16143:16155][au_con].T)"
   ]
  },
  {
   "cell_type": "code",
   "execution_count": 15,
   "metadata": {
    "scrolled": true
   },
   "outputs": [
    {
     "data": {
      "text/html": [
       "<div>\n",
       "<style scoped>\n",
       "    .dataframe tbody tr th:only-of-type {\n",
       "        vertical-align: middle;\n",
       "    }\n",
       "\n",
       "    .dataframe tbody tr th {\n",
       "        vertical-align: top;\n",
       "    }\n",
       "\n",
       "    .dataframe thead th {\n",
       "        text-align: right;\n",
       "    }\n",
       "</style>\n",
       "<table border=\"1\" class=\"dataframe\">\n",
       "  <thead>\n",
       "    <tr style=\"text-align: right;\">\n",
       "      <th></th>\n",
       "      <th>8814</th>\n",
       "      <th>8815</th>\n",
       "      <th>8816</th>\n",
       "      <th>8817</th>\n",
       "      <th>8818</th>\n",
       "      <th>8819</th>\n",
       "      <th>8820</th>\n",
       "      <th>8821</th>\n",
       "      <th>8822</th>\n",
       "      <th>8823</th>\n",
       "      <th>8824</th>\n",
       "      <th>8825</th>\n",
       "      <th>8826</th>\n",
       "    </tr>\n",
       "  </thead>\n",
       "  <tbody>\n",
       "    <tr>\n",
       "      <td>0cl_out_tail_au</td>\n",
       "      <td>2.315710</td>\n",
       "      <td>2.460800</td>\n",
       "      <td>2.840179</td>\n",
       "      <td>NaN</td>\n",
       "      <td>NaN</td>\n",
       "      <td>NaN</td>\n",
       "      <td>NaN</td>\n",
       "      <td>NaN</td>\n",
       "      <td>NaN</td>\n",
       "      <td>NaN</td>\n",
       "      <td>NaN</td>\n",
       "      <td>NaN</td>\n",
       "      <td>4.188127</td>\n",
       "    </tr>\n",
       "    <tr>\n",
       "      <td>1cl_out_tail_au</td>\n",
       "      <td>5.366262</td>\n",
       "      <td>3.955477</td>\n",
       "      <td>3.202375</td>\n",
       "      <td>3.532983</td>\n",
       "      <td>1.789070</td>\n",
       "      <td>0.0</td>\n",
       "      <td>7.172451</td>\n",
       "      <td>5.864628</td>\n",
       "      <td>6.461328</td>\n",
       "      <td>5.793215</td>\n",
       "      <td>4.359085</td>\n",
       "      <td>4.958875</td>\n",
       "      <td>13.050508</td>\n",
       "    </tr>\n",
       "    <tr>\n",
       "      <td>2cl_out_tail_au</td>\n",
       "      <td>7.877863</td>\n",
       "      <td>6.591340</td>\n",
       "      <td>5.628685</td>\n",
       "      <td>4.650195</td>\n",
       "      <td>2.126977</td>\n",
       "      <td>0.0</td>\n",
       "      <td>2.914524</td>\n",
       "      <td>5.318778</td>\n",
       "      <td>5.390911</td>\n",
       "      <td>7.262666</td>\n",
       "      <td>4.963057</td>\n",
       "      <td>4.798860</td>\n",
       "      <td>8.757024</td>\n",
       "    </tr>\n",
       "    <tr>\n",
       "      <td>final_out_tail_au</td>\n",
       "      <td>3.902528</td>\n",
       "      <td>3.601310</td>\n",
       "      <td>3.400009</td>\n",
       "      <td>4.825114</td>\n",
       "      <td>1.863401</td>\n",
       "      <td>0.0</td>\n",
       "      <td>0.000000</td>\n",
       "      <td>1.766515</td>\n",
       "      <td>4.034610</td>\n",
       "      <td>4.652444</td>\n",
       "      <td>3.884315</td>\n",
       "      <td>3.936809</td>\n",
       "      <td>5.554988</td>\n",
       "    </tr>\n",
       "  </tbody>\n",
       "</table>\n",
       "</div>"
      ],
      "text/plain": [
       "                       8814      8815      8816      8817      8818  8819  \\\n",
       "0cl_out_tail_au    2.315710  2.460800  2.840179       NaN       NaN   NaN   \n",
       "1cl_out_tail_au    5.366262  3.955477  3.202375  3.532983  1.789070   0.0   \n",
       "2cl_out_tail_au    7.877863  6.591340  5.628685  4.650195  2.126977   0.0   \n",
       "final_out_tail_au  3.902528  3.601310  3.400009  4.825114  1.863401   0.0   \n",
       "\n",
       "                       8820      8821      8822      8823      8824      8825  \\\n",
       "0cl_out_tail_au         NaN       NaN       NaN       NaN       NaN       NaN   \n",
       "1cl_out_tail_au    7.172451  5.864628  6.461328  5.793215  4.359085  4.958875   \n",
       "2cl_out_tail_au    2.914524  5.318778  5.390911  7.262666  4.963057  4.798860   \n",
       "final_out_tail_au  0.000000  1.766515  4.034610  4.652444  3.884315  3.936809   \n",
       "\n",
       "                        8826  \n",
       "0cl_out_tail_au     4.188127  \n",
       "1cl_out_tail_au    13.050508  \n",
       "2cl_out_tail_au     8.757024  \n",
       "final_out_tail_au   5.554988  "
      ]
     },
     "metadata": {},
     "output_type": "display_data"
    },
    {
     "data": {
      "text/html": [
       "<div>\n",
       "<style scoped>\n",
       "    .dataframe tbody tr th:only-of-type {\n",
       "        vertical-align: middle;\n",
       "    }\n",
       "\n",
       "    .dataframe tbody tr th {\n",
       "        vertical-align: top;\n",
       "    }\n",
       "\n",
       "    .dataframe thead th {\n",
       "        text-align: right;\n",
       "    }\n",
       "</style>\n",
       "<table border=\"1\" class=\"dataframe\">\n",
       "  <thead>\n",
       "    <tr style=\"text-align: right;\">\n",
       "      <th></th>\n",
       "      <th>8814</th>\n",
       "      <th>8815</th>\n",
       "      <th>8816</th>\n",
       "      <th>8817</th>\n",
       "      <th>8818</th>\n",
       "      <th>8819</th>\n",
       "      <th>8820</th>\n",
       "      <th>8821</th>\n",
       "      <th>8822</th>\n",
       "      <th>8823</th>\n",
       "      <th>8824</th>\n",
       "      <th>8825</th>\n",
       "      <th>8826</th>\n",
       "    </tr>\n",
       "  </thead>\n",
       "  <tbody>\n",
       "    <tr>\n",
       "      <td>0cl_out_tail_au</td>\n",
       "      <td>2.315710</td>\n",
       "      <td>2.460800</td>\n",
       "      <td>2.840179</td>\n",
       "      <td>2.974974</td>\n",
       "      <td>3.109769</td>\n",
       "      <td>3.244563</td>\n",
       "      <td>3.379358</td>\n",
       "      <td>3.514153</td>\n",
       "      <td>3.648948</td>\n",
       "      <td>3.783742</td>\n",
       "      <td>3.918537</td>\n",
       "      <td>4.053332</td>\n",
       "      <td>4.188127</td>\n",
       "    </tr>\n",
       "    <tr>\n",
       "      <td>1cl_out_tail_au</td>\n",
       "      <td>5.366262</td>\n",
       "      <td>3.955477</td>\n",
       "      <td>3.202375</td>\n",
       "      <td>3.532983</td>\n",
       "      <td>1.789070</td>\n",
       "      <td>0.000000</td>\n",
       "      <td>7.172451</td>\n",
       "      <td>5.864628</td>\n",
       "      <td>6.461328</td>\n",
       "      <td>5.793215</td>\n",
       "      <td>4.359085</td>\n",
       "      <td>4.958875</td>\n",
       "      <td>13.050508</td>\n",
       "    </tr>\n",
       "    <tr>\n",
       "      <td>2cl_out_tail_au</td>\n",
       "      <td>7.877863</td>\n",
       "      <td>6.591340</td>\n",
       "      <td>5.628685</td>\n",
       "      <td>4.650195</td>\n",
       "      <td>2.126977</td>\n",
       "      <td>0.000000</td>\n",
       "      <td>2.914524</td>\n",
       "      <td>5.318778</td>\n",
       "      <td>5.390911</td>\n",
       "      <td>7.262666</td>\n",
       "      <td>4.963057</td>\n",
       "      <td>4.798860</td>\n",
       "      <td>8.757024</td>\n",
       "    </tr>\n",
       "    <tr>\n",
       "      <td>final_out_tail_au</td>\n",
       "      <td>3.902528</td>\n",
       "      <td>3.601310</td>\n",
       "      <td>3.400009</td>\n",
       "      <td>4.825114</td>\n",
       "      <td>1.863401</td>\n",
       "      <td>0.000000</td>\n",
       "      <td>0.000000</td>\n",
       "      <td>1.766515</td>\n",
       "      <td>4.034610</td>\n",
       "      <td>4.652444</td>\n",
       "      <td>3.884315</td>\n",
       "      <td>3.936809</td>\n",
       "      <td>5.554988</td>\n",
       "    </tr>\n",
       "  </tbody>\n",
       "</table>\n",
       "</div>"
      ],
      "text/plain": [
       "                       8814      8815      8816      8817      8818      8819  \\\n",
       "0cl_out_tail_au    2.315710  2.460800  2.840179  2.974974  3.109769  3.244563   \n",
       "1cl_out_tail_au    5.366262  3.955477  3.202375  3.532983  1.789070  0.000000   \n",
       "2cl_out_tail_au    7.877863  6.591340  5.628685  4.650195  2.126977  0.000000   \n",
       "final_out_tail_au  3.902528  3.601310  3.400009  4.825114  1.863401  0.000000   \n",
       "\n",
       "                       8820      8821      8822      8823      8824      8825  \\\n",
       "0cl_out_tail_au    3.379358  3.514153  3.648948  3.783742  3.918537  4.053332   \n",
       "1cl_out_tail_au    7.172451  5.864628  6.461328  5.793215  4.359085  4.958875   \n",
       "2cl_out_tail_au    2.914524  5.318778  5.390911  7.262666  4.963057  4.798860   \n",
       "final_out_tail_au  0.000000  1.766515  4.034610  4.652444  3.884315  3.936809   \n",
       "\n",
       "                        8826  \n",
       "0cl_out_tail_au     4.188127  \n",
       "1cl_out_tail_au    13.050508  \n",
       "2cl_out_tail_au     8.757024  \n",
       "final_out_tail_au   5.554988  "
      ]
     },
     "metadata": {},
     "output_type": "display_data"
    }
   ],
   "source": [
    "display(data_train[8814:8827][au_tail].T)\n",
    "display(data_train_int[8814:8827][au_tail].T)"
   ]
  },
  {
   "cell_type": "code",
   "execution_count": 16,
   "metadata": {},
   "outputs": [],
   "source": [
    "#print(data_train_int[16130:16134]['0cl_out_recovery'])"
   ]
  },
  {
   "cell_type": "code",
   "execution_count": 17,
   "metadata": {},
   "outputs": [],
   "source": [
    "#Значения recovery в data_train_int заменим на расчетные\n",
    "#Отказался. Из-за нуля в знаменателе в 0cl_out_recovery и и final_out_recovery появились NaN - поковыряю позже\n",
    "#  \n",
    "#_c1 = data_train_int['0cl_out_con_au']\n",
    "#_f1 = data_train_int['0cl_in_feed_au']\n",
    "#_t1 = data_train_int['0cl_out_tail_au']\n",
    "#data_train_int['0cl_out_recovery'] = _c1*(_f1-_t1)/(_f1*(_c1-_t1))*100\n",
    "\n",
    "#_c2 = data_train_int['final_out_con_au'] \n",
    "#_f2 = data_train_int['0cl_in_feed_au']\n",
    "#_t2 = data_train_int['final_out_tail_au']\n",
    "#data_train_int['final_out_recovery'] = _c2*(_f2-_t2)/(_f2*(_c2-_t2))*100\n",
    "\n",
    "#data_train_int.isna().sum().sum()\n",
    "\n",
    "#data_train_int[['0cl_out_recovery', 'final_out_recovery']].describe()"
   ]
  },
  {
   "cell_type": "code",
   "execution_count": 18,
   "metadata": {},
   "outputs": [],
   "source": [
    "#print(data_train[16130:16134]['0cl_out_recovery'])\n",
    "#print(data_train_int[16130:16134]['0cl_out_recovery'])"
   ]
  },
  {
   "cell_type": "code",
   "execution_count": 19,
   "metadata": {},
   "outputs": [],
   "source": [
    "#data_train_int.info()"
   ]
  },
  {
   "cell_type": "markdown",
   "metadata": {},
   "source": [
    "Есть строки где концентрация на разных этапах падает до 0 и затем скачет обратно до ожидаемых значений - вероятнее всего ошибки (16143 концентрация золота)(уточнить).  \n",
    "Есть столбцы в которых значение не меняется от строки к строке - скорее всего ошибки (final_out_con_au строки 16143-16156)(уточнить)  \n",
    "Есть строки с неожиданными нулями (0 концентрация золота после 1, 2 и финальная для 8819. при этом соседи не нулевые)"
   ]
  },
  {
   "cell_type": "markdown",
   "metadata": {},
   "source": [
    "### Замена пропусков нулями"
   ]
  },
  {
   "cell_type": "code",
   "execution_count": 20,
   "metadata": {},
   "outputs": [],
   "source": [
    "data_train_fillna0 = data_train.fillna(0.000000000001)"
   ]
  },
  {
   "cell_type": "markdown",
   "metadata": {},
   "source": [
    "<div class=\"alert alert-block alert-info\">\n",
    "<b>Совет: </b> Вот это не очень хорошее решение, так как сильно нарушается распределение данных.\n",
    "</div>"
   ]
  },
  {
   "cell_type": "markdown",
   "metadata": {},
   "source": [
    "### Удаление пропусков"
   ]
  },
  {
   "cell_type": "code",
   "execution_count": 21,
   "metadata": {
    "scrolled": true
   },
   "outputs": [
    {
     "name": "stdout",
     "output_type": "stream",
     "text": [
      "16860\n",
      "11017\n"
     ]
    }
   ],
   "source": [
    "print(len(data_train.index))\n",
    "data_train_dropNA = data_train.dropna()\n",
    "print(len(data_train_dropNA.index))"
   ]
  },
  {
   "cell_type": "markdown",
   "metadata": {},
   "source": [
    "Теряем 5843 строки (34,7%)"
   ]
  },
  {
   "cell_type": "markdown",
   "metadata": {},
   "source": [
    "## Анализ данных\n",
    "\n",
    "* Посмотрите, как меняется концентрация металлов (Au, Ag, Pb) на различных этапах очистки. Опишите выводы.\n",
    "* Сравните распределения размеров гранул сырья на обучающей и тестовой выборках. Если распределения сильно отличаются друг от друга, оценка модели будет неправильной.\n",
    "* Исследуйте суммарную концентрацию всех веществ на разных стадиях: в сырье, в черновом и финальном концентратах. Заметили аномальные значения в суммарном распределении или нет? Если они есть, стоит ли их удалять из обеих выборок? Опишите выводы и удалите аномалии.\n"
   ]
  },
  {
   "cell_type": "markdown",
   "metadata": {},
   "source": [
    "### Сравнение концентрации металлов (Au, Ag, Pb) на различных этапах очистки"
   ]
  },
  {
   "cell_type": "markdown",
   "metadata": {},
   "source": [
    "#### Золото"
   ]
  },
  {
   "cell_type": "code",
   "execution_count": 22,
   "metadata": {},
   "outputs": [
    {
     "data": {
      "text/html": [
       "<div>\n",
       "<style scoped>\n",
       "    .dataframe tbody tr th:only-of-type {\n",
       "        vertical-align: middle;\n",
       "    }\n",
       "\n",
       "    .dataframe tbody tr th {\n",
       "        vertical-align: top;\n",
       "    }\n",
       "\n",
       "    .dataframe thead th {\n",
       "        text-align: right;\n",
       "    }\n",
       "</style>\n",
       "<table border=\"1\" class=\"dataframe\">\n",
       "  <thead>\n",
       "    <tr style=\"text-align: right;\">\n",
       "      <th></th>\n",
       "      <th>1085</th>\n",
       "      <th>14776</th>\n",
       "      <th>16459</th>\n",
       "      <th>13118</th>\n",
       "      <th>14510</th>\n",
       "      <th>14948</th>\n",
       "      <th>13091</th>\n",
       "      <th>4787</th>\n",
       "      <th>14370</th>\n",
       "      <th>7740</th>\n",
       "    </tr>\n",
       "  </thead>\n",
       "  <tbody>\n",
       "    <tr>\n",
       "      <td>0cl_in_feed_au</td>\n",
       "      <td>7.928397</td>\n",
       "      <td>7.372236</td>\n",
       "      <td>8.041758</td>\n",
       "      <td>8.870079</td>\n",
       "      <td>8.475917</td>\n",
       "      <td>7.365627</td>\n",
       "      <td>3.243952</td>\n",
       "      <td>8.112804</td>\n",
       "      <td>5.521916</td>\n",
       "      <td>8.006366</td>\n",
       "    </tr>\n",
       "    <tr>\n",
       "      <td>0cl_out_con_au</td>\n",
       "      <td>21.465885</td>\n",
       "      <td>18.014883</td>\n",
       "      <td>20.048270</td>\n",
       "      <td>21.614377</td>\n",
       "      <td>18.955689</td>\n",
       "      <td>18.863840</td>\n",
       "      <td>19.213141</td>\n",
       "      <td>0.000000</td>\n",
       "      <td>12.639205</td>\n",
       "      <td>20.762308</td>\n",
       "    </tr>\n",
       "    <tr>\n",
       "      <td>1cl_out_con_au</td>\n",
       "      <td>35.796792</td>\n",
       "      <td>31.451842</td>\n",
       "      <td>31.288971</td>\n",
       "      <td>35.588533</td>\n",
       "      <td>36.249936</td>\n",
       "      <td>33.124628</td>\n",
       "      <td>35.077840</td>\n",
       "      <td>36.232472</td>\n",
       "      <td>35.717718</td>\n",
       "      <td>31.371996</td>\n",
       "    </tr>\n",
       "    <tr>\n",
       "      <td>final_out_con_au</td>\n",
       "      <td>45.773311</td>\n",
       "      <td>45.024060</td>\n",
       "      <td>46.583657</td>\n",
       "      <td>43.547704</td>\n",
       "      <td>47.076679</td>\n",
       "      <td>43.987858</td>\n",
       "      <td>43.788845</td>\n",
       "      <td>44.064508</td>\n",
       "      <td>48.987251</td>\n",
       "      <td>45.639062</td>\n",
       "    </tr>\n",
       "  </tbody>\n",
       "</table>\n",
       "</div>"
      ],
      "text/plain": [
       "                      1085       14776      16459      13118      14510  \\\n",
       "0cl_in_feed_au     7.928397   7.372236   8.041758   8.870079   8.475917   \n",
       "0cl_out_con_au    21.465885  18.014883  20.048270  21.614377  18.955689   \n",
       "1cl_out_con_au    35.796792  31.451842  31.288971  35.588533  36.249936   \n",
       "final_out_con_au  45.773311  45.024060  46.583657  43.547704  47.076679   \n",
       "\n",
       "                      14948      13091      4787       14370      7740   \n",
       "0cl_in_feed_au     7.365627   3.243952   8.112804   5.521916   8.006366  \n",
       "0cl_out_con_au    18.863840  19.213141   0.000000  12.639205  20.762308  \n",
       "1cl_out_con_au    33.124628  35.077840  36.232472  35.717718  31.371996  \n",
       "final_out_con_au  43.987858  43.788845  44.064508  48.987251  45.639062  "
      ]
     },
     "metadata": {},
     "output_type": "display_data"
    }
   ],
   "source": [
    "display(data_train_int.loc[:, au_con].sample(10).T)"
   ]
  },
  {
   "cell_type": "code",
   "execution_count": 23,
   "metadata": {},
   "outputs": [
    {
     "data": {
      "text/plain": [
       "0cl_in_feed_au       7.140138\n",
       "0cl_out_con_au      17.327961\n",
       "1cl_out_con_au      29.032274\n",
       "final_out_con_au    39.320397\n",
       "dtype: float64"
      ]
     },
     "metadata": {},
     "output_type": "display_data"
    }
   ],
   "source": [
    "display(data_train_int[au_con].mean())"
   ]
  },
  {
   "cell_type": "code",
   "execution_count": 24,
   "metadata": {},
   "outputs": [
    {
     "data": {
      "image/png": "[encoded data removed]",
      "text/plain": [
       "<Figure size 1008x432 with 1 Axes>"
      ]
     },
     "metadata": {
      "needs_background": "light"
     },
     "output_type": "display_data"
    }
   ],
   "source": [
    "data_train_int[au_con].plot.hist(bins=100, edgecolor = 'black', ylim=(0, 2200), figsize=(14, 6), grid=True, alpha = 0.4)\n",
    "plt.title('распределение содержания золота в сырье/концентрате по этапам очистки'); \n",
    "plt.ylabel('Количество измерений, шт.')\n",
    "plt.xlabel('Содержание золота, %')\n",
    "plt.legend(legend);"
   ]
  },
  {
   "cell_type": "code",
   "execution_count": 25,
   "metadata": {
    "scrolled": false
   },
   "outputs": [
    {
     "data": {
      "image/png": "[encoded data removed]",
      "text/plain": [
       "<Figure size 1008x432 with 1 Axes>"
      ]
     },
     "metadata": {
      "needs_background": "light"
     },
     "output_type": "display_data"
    }
   ],
   "source": [
    "data_train_int[au_tail].plot(\n",
    "    kind='hist', histtype='step', range=(0, 8), bins=100, ylim=(0, 900), figsize=(14, 6), grid=True)\n",
    "plt.title('распределение содержания золота в \"хвостах\" по этапам очистки'); \n",
    "plt.ylabel('Количество измерений, шт.')\n",
    "plt.xlabel('Содержание золота, %')\n",
    "plt.legend(legend_tail);"
   ]
  },
  {
   "cell_type": "code",
   "execution_count": 26,
   "metadata": {},
   "outputs": [
    {
     "data": {
      "text/html": [
       "<div>\n",
       "<style scoped>\n",
       "    .dataframe tbody tr th:only-of-type {\n",
       "        vertical-align: middle;\n",
       "    }\n",
       "\n",
       "    .dataframe tbody tr th {\n",
       "        vertical-align: top;\n",
       "    }\n",
       "\n",
       "    .dataframe thead th {\n",
       "        text-align: right;\n",
       "    }\n",
       "</style>\n",
       "<table border=\"1\" class=\"dataframe\">\n",
       "  <thead>\n",
       "    <tr style=\"text-align: right;\">\n",
       "      <th></th>\n",
       "      <th>1979</th>\n",
       "      <th>5444</th>\n",
       "      <th>4248</th>\n",
       "      <th>14709</th>\n",
       "      <th>14659</th>\n",
       "      <th>9657</th>\n",
       "      <th>15334</th>\n",
       "      <th>7</th>\n",
       "      <th>4943</th>\n",
       "      <th>11663</th>\n",
       "    </tr>\n",
       "  </thead>\n",
       "  <tbody>\n",
       "    <tr>\n",
       "      <td>0cl_out_tail_au</td>\n",
       "      <td>1.450255</td>\n",
       "      <td>2.233660</td>\n",
       "      <td>2.278065</td>\n",
       "      <td>1.754036</td>\n",
       "      <td>2.032237</td>\n",
       "      <td>1.818240</td>\n",
       "      <td>0.893626</td>\n",
       "      <td>1.116110</td>\n",
       "      <td>4.121033</td>\n",
       "      <td>1.946963</td>\n",
       "    </tr>\n",
       "    <tr>\n",
       "      <td>1cl_out_tail_au</td>\n",
       "      <td>0.000000</td>\n",
       "      <td>4.624466</td>\n",
       "      <td>4.593904</td>\n",
       "      <td>1.858440</td>\n",
       "      <td>2.050853</td>\n",
       "      <td>3.864837</td>\n",
       "      <td>3.490472</td>\n",
       "      <td>2.112025</td>\n",
       "      <td>0.000000</td>\n",
       "      <td>3.740045</td>\n",
       "    </tr>\n",
       "    <tr>\n",
       "      <td>2cl_out_tail_au</td>\n",
       "      <td>0.000000</td>\n",
       "      <td>4.373923</td>\n",
       "      <td>4.808660</td>\n",
       "      <td>4.414643</td>\n",
       "      <td>5.127831</td>\n",
       "      <td>6.234069</td>\n",
       "      <td>3.685362</td>\n",
       "      <td>2.192197</td>\n",
       "      <td>0.000000</td>\n",
       "      <td>7.619604</td>\n",
       "    </tr>\n",
       "    <tr>\n",
       "      <td>final_out_tail_au</td>\n",
       "      <td>0.000000</td>\n",
       "      <td>3.489066</td>\n",
       "      <td>2.942355</td>\n",
       "      <td>2.699133</td>\n",
       "      <td>2.782655</td>\n",
       "      <td>3.078148</td>\n",
       "      <td>1.517274</td>\n",
       "      <td>2.143437</td>\n",
       "      <td>0.000000</td>\n",
       "      <td>6.400777</td>\n",
       "    </tr>\n",
       "  </tbody>\n",
       "</table>\n",
       "</div>"
      ],
      "text/plain": [
       "                      1979      5444      4248      14709     14659     9657   \\\n",
       "0cl_out_tail_au    1.450255  2.233660  2.278065  1.754036  2.032237  1.818240   \n",
       "1cl_out_tail_au    0.000000  4.624466  4.593904  1.858440  2.050853  3.864837   \n",
       "2cl_out_tail_au    0.000000  4.373923  4.808660  4.414643  5.127831  6.234069   \n",
       "final_out_tail_au  0.000000  3.489066  2.942355  2.699133  2.782655  3.078148   \n",
       "\n",
       "                      15334     7         4943      11663  \n",
       "0cl_out_tail_au    0.893626  1.116110  4.121033  1.946963  \n",
       "1cl_out_tail_au    3.490472  2.112025  0.000000  3.740045  \n",
       "2cl_out_tail_au    3.685362  2.192197  0.000000  7.619604  \n",
       "final_out_tail_au  1.517274  2.143437  0.000000  6.400777  "
      ]
     },
     "metadata": {},
     "output_type": "display_data"
    }
   ],
   "source": [
    "display(data_train_int.loc[:, au_tail].sample(10).T)"
   ]
  },
  {
   "cell_type": "code",
   "execution_count": 27,
   "metadata": {},
   "outputs": [
    {
     "data": {
      "text/plain": [
       "0cl_out_tail_au      1.841012\n",
       "1cl_out_tail_au      3.577243\n",
       "2cl_out_tail_au      3.919292\n",
       "final_out_tail_au    2.677748\n",
       "dtype: float64"
      ]
     },
     "metadata": {},
     "output_type": "display_data"
    }
   ],
   "source": [
    "display(data_train_int[au_tail].mean())"
   ]
  },
  {
   "cell_type": "markdown",
   "metadata": {},
   "source": [
    "#### Серебро"
   ]
  },
  {
   "cell_type": "code",
   "execution_count": 28,
   "metadata": {},
   "outputs": [
    {
     "data": {
      "text/html": [
       "<div>\n",
       "<style scoped>\n",
       "    .dataframe tbody tr th:only-of-type {\n",
       "        vertical-align: middle;\n",
       "    }\n",
       "\n",
       "    .dataframe tbody tr th {\n",
       "        vertical-align: top;\n",
       "    }\n",
       "\n",
       "    .dataframe thead th {\n",
       "        text-align: right;\n",
       "    }\n",
       "</style>\n",
       "<table border=\"1\" class=\"dataframe\">\n",
       "  <thead>\n",
       "    <tr style=\"text-align: right;\">\n",
       "      <th></th>\n",
       "      <th>8814</th>\n",
       "      <th>12336</th>\n",
       "      <th>11149</th>\n",
       "      <th>16402</th>\n",
       "      <th>9427</th>\n",
       "      <th>13751</th>\n",
       "      <th>7648</th>\n",
       "      <th>14813</th>\n",
       "      <th>7004</th>\n",
       "      <th>11748</th>\n",
       "    </tr>\n",
       "  </thead>\n",
       "  <tbody>\n",
       "    <tr>\n",
       "      <td>0cl_in_feed_ag</td>\n",
       "      <td>9.159747</td>\n",
       "      <td>8.449823</td>\n",
       "      <td>6.108363</td>\n",
       "      <td>9.870863</td>\n",
       "      <td>8.512701</td>\n",
       "      <td>7.074823</td>\n",
       "      <td>8.688517</td>\n",
       "      <td>6.073631</td>\n",
       "      <td>10.139525</td>\n",
       "      <td>9.322236</td>\n",
       "    </tr>\n",
       "    <tr>\n",
       "      <td>0cl_out_con_ag</td>\n",
       "      <td>13.250348</td>\n",
       "      <td>0.000000</td>\n",
       "      <td>9.931045</td>\n",
       "      <td>11.280417</td>\n",
       "      <td>11.274176</td>\n",
       "      <td>11.333720</td>\n",
       "      <td>11.362826</td>\n",
       "      <td>15.630830</td>\n",
       "      <td>13.159715</td>\n",
       "      <td>13.628456</td>\n",
       "    </tr>\n",
       "    <tr>\n",
       "      <td>1cl_out_con_ag</td>\n",
       "      <td>12.758502</td>\n",
       "      <td>8.425708</td>\n",
       "      <td>8.309854</td>\n",
       "      <td>10.597001</td>\n",
       "      <td>8.273773</td>\n",
       "      <td>7.844917</td>\n",
       "      <td>9.430816</td>\n",
       "      <td>7.648507</td>\n",
       "      <td>8.096389</td>\n",
       "      <td>9.736590</td>\n",
       "    </tr>\n",
       "    <tr>\n",
       "      <td>final_out_con_ag</td>\n",
       "      <td>12.328067</td>\n",
       "      <td>5.211642</td>\n",
       "      <td>3.840292</td>\n",
       "      <td>3.868798</td>\n",
       "      <td>5.229160</td>\n",
       "      <td>4.087663</td>\n",
       "      <td>5.042768</td>\n",
       "      <td>5.057524</td>\n",
       "      <td>5.503762</td>\n",
       "      <td>5.595595</td>\n",
       "    </tr>\n",
       "  </tbody>\n",
       "</table>\n",
       "</div>"
      ],
      "text/plain": [
       "                      8814      12336     11149      16402      9427   \\\n",
       "0cl_in_feed_ag     9.159747  8.449823  6.108363   9.870863   8.512701   \n",
       "0cl_out_con_ag    13.250348  0.000000  9.931045  11.280417  11.274176   \n",
       "1cl_out_con_ag    12.758502  8.425708  8.309854  10.597001   8.273773   \n",
       "final_out_con_ag  12.328067  5.211642  3.840292   3.868798   5.229160   \n",
       "\n",
       "                      13751      7648       14813      7004       11748  \n",
       "0cl_in_feed_ag     7.074823   8.688517   6.073631  10.139525   9.322236  \n",
       "0cl_out_con_ag    11.333720  11.362826  15.630830  13.159715  13.628456  \n",
       "1cl_out_con_ag     7.844917   9.430816   7.648507   8.096389   9.736590  \n",
       "final_out_con_ag   4.087663   5.042768   5.057524   5.503762   5.595595  "
      ]
     },
     "metadata": {},
     "output_type": "display_data"
    }
   ],
   "source": [
    "display(data_train_int.loc[:, ag_con].sample(10).T)"
   ]
  },
  {
   "cell_type": "code",
   "execution_count": 29,
   "metadata": {
    "scrolled": true
   },
   "outputs": [
    {
     "data": {
      "text/plain": [
       "0cl_in_feed_ag       7.799291\n",
       "0cl_out_con_ag      10.535823\n",
       "1cl_out_con_ag       7.388568\n",
       "final_out_con_ag     4.699864\n",
       "dtype: float64"
      ]
     },
     "metadata": {},
     "output_type": "display_data"
    }
   ],
   "source": [
    "display(data_train_int[ag_con].mean())"
   ]
  },
  {
   "cell_type": "markdown",
   "metadata": {},
   "source": [
    "#### Свинец"
   ]
  },
  {
   "cell_type": "code",
   "execution_count": 30,
   "metadata": {},
   "outputs": [
    {
     "data": {
      "text/html": [
       "<div>\n",
       "<style scoped>\n",
       "    .dataframe tbody tr th:only-of-type {\n",
       "        vertical-align: middle;\n",
       "    }\n",
       "\n",
       "    .dataframe tbody tr th {\n",
       "        vertical-align: top;\n",
       "    }\n",
       "\n",
       "    .dataframe thead th {\n",
       "        text-align: right;\n",
       "    }\n",
       "</style>\n",
       "<table border=\"1\" class=\"dataframe\">\n",
       "  <thead>\n",
       "    <tr style=\"text-align: right;\">\n",
       "      <th></th>\n",
       "      <th>16705</th>\n",
       "      <th>13394</th>\n",
       "      <th>14873</th>\n",
       "      <th>427</th>\n",
       "      <th>7402</th>\n",
       "      <th>12894</th>\n",
       "      <th>8961</th>\n",
       "      <th>5210</th>\n",
       "      <th>14186</th>\n",
       "      <th>7897</th>\n",
       "    </tr>\n",
       "  </thead>\n",
       "  <tbody>\n",
       "    <tr>\n",
       "      <td>0cl_in_feed_pb</td>\n",
       "      <td>6.599920</td>\n",
       "      <td>3.763548</td>\n",
       "      <td>3.071391</td>\n",
       "      <td>2.512987</td>\n",
       "      <td>2.647539</td>\n",
       "      <td>5.706672</td>\n",
       "      <td>4.585484</td>\n",
       "      <td>4.425430</td>\n",
       "      <td>4.107335</td>\n",
       "      <td>3.662177</td>\n",
       "    </tr>\n",
       "    <tr>\n",
       "      <td>0cl_out_con_pb</td>\n",
       "      <td>9.609241</td>\n",
       "      <td>7.883299</td>\n",
       "      <td>6.288986</td>\n",
       "      <td>8.703047</td>\n",
       "      <td>6.749073</td>\n",
       "      <td>8.677132</td>\n",
       "      <td>8.746124</td>\n",
       "      <td>6.552314</td>\n",
       "      <td>8.946854</td>\n",
       "      <td>8.891473</td>\n",
       "    </tr>\n",
       "    <tr>\n",
       "      <td>1cl_out_con_pb</td>\n",
       "      <td>11.241582</td>\n",
       "      <td>9.660304</td>\n",
       "      <td>9.142924</td>\n",
       "      <td>8.624906</td>\n",
       "      <td>9.906592</td>\n",
       "      <td>10.775128</td>\n",
       "      <td>11.102108</td>\n",
       "      <td>11.911699</td>\n",
       "      <td>12.710149</td>\n",
       "      <td>9.245758</td>\n",
       "    </tr>\n",
       "    <tr>\n",
       "      <td>final_out_con_pb</td>\n",
       "      <td>9.211801</td>\n",
       "      <td>8.854844</td>\n",
       "      <td>7.682502</td>\n",
       "      <td>11.463984</td>\n",
       "      <td>10.619372</td>\n",
       "      <td>10.152350</td>\n",
       "      <td>11.803774</td>\n",
       "      <td>9.785603</td>\n",
       "      <td>12.134459</td>\n",
       "      <td>10.423449</td>\n",
       "    </tr>\n",
       "  </tbody>\n",
       "</table>\n",
       "</div>"
      ],
      "text/plain": [
       "                      16705     13394     14873      427        7402   \\\n",
       "0cl_in_feed_pb     6.599920  3.763548  3.071391   2.512987   2.647539   \n",
       "0cl_out_con_pb     9.609241  7.883299  6.288986   8.703047   6.749073   \n",
       "1cl_out_con_pb    11.241582  9.660304  9.142924   8.624906   9.906592   \n",
       "final_out_con_pb   9.211801  8.854844  7.682502  11.463984  10.619372   \n",
       "\n",
       "                      12894      8961       5210       14186      7897   \n",
       "0cl_in_feed_pb     5.706672   4.585484   4.425430   4.107335   3.662177  \n",
       "0cl_out_con_pb     8.677132   8.746124   6.552314   8.946854   8.891473  \n",
       "1cl_out_con_pb    10.775128  11.102108  11.911699  12.710149   9.245758  \n",
       "final_out_con_pb  10.152350  11.803774   9.785603  12.134459  10.423449  "
      ]
     },
     "metadata": {},
     "output_type": "display_data"
    }
   ],
   "source": [
    "display(data_train_int.loc[:, pb_con].sample(10).T)"
   ]
  },
  {
   "cell_type": "code",
   "execution_count": 31,
   "metadata": {},
   "outputs": [
    {
     "data": {
      "text/plain": [
       "0cl_in_feed_pb      3.187377\n",
       "0cl_out_con_pb      6.854436\n",
       "1cl_out_con_pb      8.506197\n",
       "final_out_con_pb    9.080430\n",
       "dtype: float64"
      ]
     },
     "metadata": {},
     "output_type": "display_data"
    }
   ],
   "source": [
    "display(data_train_int[pb_con].mean())"
   ]
  },
  {
   "cell_type": "markdown",
   "metadata": {},
   "source": [
    "Концентрация золота с каждым этапом растет на 10-12%, что на выходе позволяет увеличить его содержание до 40-50%. При этом содержание серебра после флотации немного возрастает, а далее падает, а свинец значительно прибавляет на флотации и немного после 1 и 2 очистки.   \n",
    "Процентное содержание золота в \"хвостах\" около 1-5%. Наибольшие потери (относительные) на вторичной очистке."
   ]
  },
  {
   "cell_type": "markdown",
   "metadata": {},
   "source": [
    "<div class=\"alert alert-block alert-success\">\n",
    "<b>Успех:</b> Гистограммы получились отлично, с наблюдениями согласен.\n",
    "</div>"
   ]
  },
  {
   "cell_type": "markdown",
   "metadata": {},
   "source": [
    "<div class=\"alert alert-block alert-info\">\n",
    "<b>Совет: </b> Желательно было для каждого металла нарисовать похожие графики.\n",
    "</div>"
   ]
  },
  {
   "cell_type": "markdown",
   "metadata": {},
   "source": [
    "<div class=\"alert alert-block alert-warning\">\n",
    "<b>Комментарий студента:</b> ... Принято. В первоначальном варианте все графики строил - красивой информативной картинки не получил - поэтому решил оставить только золото.\n",
    "</div>"
   ]
  },
  {
   "cell_type": "markdown",
   "metadata": {},
   "source": [
    "### Сравнение распределения размеров гранул сырья на обучающей и тестовой выборках"
   ]
  },
  {
   "cell_type": "code",
   "execution_count": 32,
   "metadata": {},
   "outputs": [
    {
     "data": {
      "image/png": "[encoded data removed]",
      "text/plain": [
       "<Figure size 1008x432 with 1 Axes>"
      ]
     },
     "metadata": {
      "needs_background": "light"
     },
     "output_type": "display_data"
    }
   ],
   "source": [
    "data_train_int['1cl_in_feed_size'].plot.hist(range=(5, 10), bins=50, figsize=(14, 6), density=True, alpha = 0.6)\n",
    "data_test['1cl_in_feed_size'].plot.hist(range=(5, 10), bins=50, figsize=(14, 6), density=True, alpha = 0.6)\n",
    "plt.title('Распределение размера гранул сырья в тренировочной и тестовой выборках (нормированное)'); \n",
    "plt.ylabel('Частота')\n",
    "plt.xlabel('Размер гранул сырья');"
   ]
  },
  {
   "cell_type": "markdown",
   "metadata": {},
   "source": [
    "Распределения схожи. Выборка корректна."
   ]
  },
  {
   "cell_type": "markdown",
   "metadata": {},
   "source": [
    "<div class=\"alert alert-block alert-success\">\n",
    "<b>Успех:</b> Отлично, что ты перешел к частоте. Согалсен, что распределения походи.\n",
    "</div>"
   ]
  },
  {
   "cell_type": "markdown",
   "metadata": {},
   "source": [
    "### Исследование суммарных концентраций веществ на разных стадиях"
   ]
  },
  {
   "cell_type": "markdown",
   "metadata": {},
   "source": [
    "Исследуйте суммарную концентрацию всех веществ на разных\n",
    "стадиях: в сырье, в черновом и финальном концентратах. Заметили\n",
    "аномальные значения в суммарном распределении или нет? Если они\n",
    "есть, стоит ли их удалять из обеих выборок? Опишите выводы и удалите\n",
    "аномалии."
   ]
  },
  {
   "cell_type": "code",
   "execution_count": 33,
   "metadata": {},
   "outputs": [],
   "source": [
    "data_train_int['0cl_sum'] = data_train_int['0cl_in_feed_ag']\n",
    "for col in ['0cl_in_feed_pb', '0cl_in_feed_sol', '0cl_in_feed_au']:\n",
    "    data_train_int['0cl_sum'] += data_train_int[col]\n",
    "    \n",
    "data_train_int['1cl_sum'] = data_train_int['1cl_out_con_ag']\n",
    "for col in ['1cl_out_con_pb', '1cl_out_con_sol', '1cl_out_con_au']:\n",
    "    data_train_int['1cl_sum'] += data_train_int[col]\n",
    "\n",
    "data_train_int['final_sum'] = data_train_int['final_out_con_ag']\n",
    "for col in ['final_out_con_pb', 'final_out_con_sol', 'final_out_con_au']:\n",
    "    data_train_int['final_sum'] += data_train_int[col]\n",
    "\n",
    "sum_con = ['0cl_sum', '1cl_sum', 'final_sum']"
   ]
  },
  {
   "cell_type": "code",
   "execution_count": 34,
   "metadata": {
    "scrolled": true
   },
   "outputs": [
    {
     "data": {
      "text/html": [
       "<div>\n",
       "<style scoped>\n",
       "    .dataframe tbody tr th:only-of-type {\n",
       "        vertical-align: middle;\n",
       "    }\n",
       "\n",
       "    .dataframe tbody tr th {\n",
       "        vertical-align: top;\n",
       "    }\n",
       "\n",
       "    .dataframe thead th {\n",
       "        text-align: right;\n",
       "    }\n",
       "</style>\n",
       "<table border=\"1\" class=\"dataframe\">\n",
       "  <thead>\n",
       "    <tr style=\"text-align: right;\">\n",
       "      <th></th>\n",
       "      <th>0cl_sum</th>\n",
       "      <th>1cl_sum</th>\n",
       "      <th>final_sum</th>\n",
       "    </tr>\n",
       "  </thead>\n",
       "  <tbody>\n",
       "    <tr>\n",
       "      <td>count</td>\n",
       "      <td>16860.000000</td>\n",
       "      <td>16860.000000</td>\n",
       "      <td>16860.000000</td>\n",
       "    </tr>\n",
       "    <tr>\n",
       "      <td>mean</td>\n",
       "      <td>50.437052</td>\n",
       "      <td>53.904050</td>\n",
       "      <td>61.284125</td>\n",
       "    </tr>\n",
       "    <tr>\n",
       "      <td>std</td>\n",
       "      <td>18.150602</td>\n",
       "      <td>20.549105</td>\n",
       "      <td>21.669294</td>\n",
       "    </tr>\n",
       "    <tr>\n",
       "      <td>min</td>\n",
       "      <td>0.000000</td>\n",
       "      <td>0.000000</td>\n",
       "      <td>0.000000</td>\n",
       "    </tr>\n",
       "    <tr>\n",
       "      <td>25%</td>\n",
       "      <td>50.255223</td>\n",
       "      <td>55.023514</td>\n",
       "      <td>66.533865</td>\n",
       "    </tr>\n",
       "    <tr>\n",
       "      <td>50%</td>\n",
       "      <td>55.772467</td>\n",
       "      <td>61.075012</td>\n",
       "      <td>68.802985</td>\n",
       "    </tr>\n",
       "    <tr>\n",
       "      <td>75%</td>\n",
       "      <td>60.258431</td>\n",
       "      <td>64.859092</td>\n",
       "      <td>70.693809</td>\n",
       "    </tr>\n",
       "    <tr>\n",
       "      <td>max</td>\n",
       "      <td>76.024095</td>\n",
       "      <td>76.918076</td>\n",
       "      <td>80.210644</td>\n",
       "    </tr>\n",
       "  </tbody>\n",
       "</table>\n",
       "</div>"
      ],
      "text/plain": [
       "            0cl_sum       1cl_sum     final_sum\n",
       "count  16860.000000  16860.000000  16860.000000\n",
       "mean      50.437052     53.904050     61.284125\n",
       "std       18.150602     20.549105     21.669294\n",
       "min        0.000000      0.000000      0.000000\n",
       "25%       50.255223     55.023514     66.533865\n",
       "50%       55.772467     61.075012     68.802985\n",
       "75%       60.258431     64.859092     70.693809\n",
       "max       76.024095     76.918076     80.210644"
      ]
     },
     "execution_count": 34,
     "metadata": {},
     "output_type": "execute_result"
    }
   ],
   "source": [
    "data_train_int[sum_con].describe()"
   ]
  },
  {
   "cell_type": "code",
   "execution_count": 35,
   "metadata": {},
   "outputs": [
    {
     "data": {
      "image/png": "[encoded data removed]",
      "text/plain": [
       "<Figure size 1008x432 with 1 Axes>"
      ]
     },
     "metadata": {
      "needs_background": "light"
     },
     "output_type": "display_data"
    }
   ],
   "source": [
    "data_train_int[sum_con].boxplot(figsize=(14, 6));"
   ]
  },
  {
   "cell_type": "code",
   "execution_count": 36,
   "metadata": {},
   "outputs": [
    {
     "data": {
      "image/png": "[encoded data removed]",
      "text/plain": [
       "<Figure size 1008x432 with 1 Axes>"
      ]
     },
     "metadata": {
      "needs_background": "light"
     },
     "output_type": "display_data"
    }
   ],
   "source": [
    "data_train_int[sum_con].plot.hist(bins=80, figsize=(14, 6), alpha = 0.6, density=True)\n",
    "plt.title('Распределение суммарной концентрации веществ на выходе по этапам очистки (нормированное)'); \n",
    "plt.ylabel('Частота')\n",
    "plt.xlabel('Суммарная концентрация, %')\n",
    "plt.legend(['после флотации', 'после первичной очистки', 'финальная']);"
   ]
  },
  {
   "cell_type": "code",
   "execution_count": 37,
   "metadata": {
    "scrolled": false
   },
   "outputs": [],
   "source": [
    "#data_train_int_min = data_train_int[\n",
    "#    (data_train_int['0cl_sum']<1) | (data_train_int['1cl_sum']<1) | (data_train_int['final_sum']<1)]\n",
    "#data_train_int_min[sum_con].plot.hist(bins=80, figsize=(14, 6), alpha = 0.8);"
   ]
  },
  {
   "cell_type": "markdown",
   "metadata": {},
   "source": [
    "Вероятно суммарные значения концентрации металлов < 0,05 являются выбросами. Также считаю что целевая концентрация (0cl_in_feed_ag, 0cl_out_con_ag, 1cl_out_con_ag, final_out_con_ag) ниже 0,05 (%) является ошибкой оборудования и только внесет \"шум\" при обучении модели."
   ]
  },
  {
   "cell_type": "markdown",
   "metadata": {},
   "source": [
    "## Удаление выбросов\n",
    "[Таблица имен DataFrame](#DataFrame_names) "
   ]
  },
  {
   "cell_type": "markdown",
   "metadata": {},
   "source": [
    "<div class=\"alert alert-block alert-info\">\n",
    "Модель должна предсказать \"кошку/собаку\" (данные  обычного технологического процесса). А в обучающей и тестовой выборках попадаются \"жирафы\" (простой оборудования/ регламентные работы/ выходные и праздники). Цели найти \"жирафов\" нет - поэтому при обучении и в тесте признаки \"жирафов\" не нужны!"
   ]
  },
  {
   "cell_type": "markdown",
   "metadata": {},
   "source": [
    "### В тренировочных данных"
   ]
  },
  {
   "cell_type": "markdown",
   "metadata": {},
   "source": [
    "#### Не удаляем"
   ]
  },
  {
   "cell_type": "code",
   "execution_count": 38,
   "metadata": {},
   "outputs": [],
   "source": [
    "data_train_int_nodrop = data_train_int.copy()\n",
    "data_train_fillna0_nodrop = data_train_fillna0.copy()\n",
    "data_train_dropNA_nodrop = data_train_dropNA.copy()"
   ]
  },
  {
   "cell_type": "markdown",
   "metadata": {},
   "source": [
    "#### Удаляем строки с концентрацией < 0.05"
   ]
  },
  {
   "cell_type": "markdown",
   "metadata": {},
   "source": [
    "<div class=\"alert alert-block alert-info\">\n",
    "0.05 выбран из-за наличия в данных не толлько 0 но и 0.01"
   ]
  },
  {
   "cell_type": "code",
   "execution_count": 39,
   "metadata": {},
   "outputs": [
    {
     "name": "stdout",
     "output_type": "stream",
     "text": [
      "16860\n",
      "15418\n",
      "15418\n",
      "-1442\n"
     ]
    }
   ],
   "source": [
    "#data_train_int \n",
    "#удаляем строки с суммарной концентрацией < 0.05 \n",
    "con_threshold = 0.05\n",
    "print(len(data_train_int.index))\n",
    "data_train_int_drop1 = data_train_int[(data_train_int['0cl_sum']>con_threshold) | \n",
    "                                      (data_train_int['1cl_sum']>con_threshold) | \n",
    "                                      (data_train_int['final_sum']>con_threshold)]\n",
    "print(len(data_train_int_drop1.index))\n",
    "\n",
    "#удаляем строки с концентрацией золота по этапам < 0.05 - не нужно т.к. все такие строки отсеялись в предыдущей ячейке\n",
    "data_train_int_drop2 = data_train_int_drop1[(data_train_int_drop1['0cl_in_feed_au']>con_threshold) | \n",
    "                                            (data_train_int_drop1['0cl_out_con_au']>con_threshold) | \n",
    "                                            (data_train_int_drop1['1cl_out_con_au']>con_threshold) | \n",
    "                                            (data_train_int_drop1['final_out_con_au']>con_threshold)]\n",
    "print(len(data_train_int_drop2.index))\n",
    "print(len(data_train_int_drop2.index)-len(data_train_int.index))"
   ]
  },
  {
   "cell_type": "code",
   "execution_count": 40,
   "metadata": {},
   "outputs": [
    {
     "name": "stdout",
     "output_type": "stream",
     "text": [
      "16860\n",
      "15405\n",
      "-1455\n"
     ]
    }
   ],
   "source": [
    "#data_train_fillna0\n",
    "#удаляем строки с концентрацией золота по этапам < 0.05 \n",
    "print(len(data_train_fillna0.index))\n",
    "data_train_fillna0_drop2 = data_train_fillna0[(data_train_fillna0['0cl_in_feed_au']>con_threshold) | \n",
    "                                              (data_train_fillna0['0cl_out_con_au']>con_threshold) | \n",
    "                                              (data_train_fillna0['1cl_out_con_au']>con_threshold) | \n",
    "                                              (data_train_fillna0['final_out_con_au']>con_threshold)]\n",
    "print(len(data_train_fillna0_drop2.index))\n",
    "print(len(data_train_fillna0_drop2.index)-len(data_train_fillna0.index))"
   ]
  },
  {
   "cell_type": "code",
   "execution_count": 41,
   "metadata": {},
   "outputs": [
    {
     "name": "stdout",
     "output_type": "stream",
     "text": [
      "11017\n",
      "11017\n",
      "0\n"
     ]
    }
   ],
   "source": [
    "#data_train_dropNA\n",
    "#удаляем строки с концентрацией золота по этапам < 0.05 \n",
    "print(len(data_train_dropNA.index))\n",
    "data_train_dropNA_drop2 = data_train_dropNA[(data_train_dropNA['0cl_in_feed_au']>con_threshold) | \n",
    "                                            (data_train_dropNA['0cl_out_con_au']>con_threshold) | \n",
    "                                            (data_train_dropNA['1cl_out_con_au']>con_threshold) | \n",
    "                                            (data_train_dropNA['final_out_con_au']>con_threshold)]\n",
    "print(len(data_train_dropNA_drop2.index))\n",
    "print(data_train_dropNA_drop2['0cl_in_feed_au'].count()-data_train_dropNA['0cl_in_feed_au'].count())"
   ]
  },
  {
   "cell_type": "code",
   "execution_count": 42,
   "metadata": {
    "scrolled": false
   },
   "outputs": [],
   "source": [
    "#data_test.info()"
   ]
  },
  {
   "cell_type": "markdown",
   "metadata": {},
   "source": [
    "#### Удаляем строки с концентрацией == 0"
   ]
  },
  {
   "cell_type": "markdown",
   "metadata": {},
   "source": [
    "<div class=\"alert alert-block alert-success\">\n",
    "<b>Успех:</b> Выбросы удалены абсолютно верно!\n",
    "</div>"
   ]
  },
  {
   "cell_type": "markdown",
   "metadata": {},
   "source": [
    "### В тестовых данных ????"
   ]
  },
  {
   "cell_type": "markdown",
   "metadata": {},
   "source": [
    "#### Удаляем NaN"
   ]
  },
  {
   "cell_type": "markdown",
   "metadata": {},
   "source": [
    "#### Заполняем NaN нулями"
   ]
  },
  {
   "cell_type": "markdown",
   "metadata": {},
   "source": [
    "#### Удаляем строки с концентрацией во входящем сырье < 0.05 и заполняем NaN интерполяцией"
   ]
  },
  {
   "cell_type": "code",
   "execution_count": 43,
   "metadata": {},
   "outputs": [
    {
     "name": "stdout",
     "output_type": "stream",
     "text": [
      "5856\n",
      "5471\n"
     ]
    }
   ],
   "source": [
    "print(len(data_test.index))\n",
    "data_test_drop = data_test[(data_test['0cl_in_feed_au']>con_threshold) | \n",
    "                           (data_test['0cl_in_feed_pb']>con_threshold) |\n",
    "                           (data_test['0cl_in_feed_ag']>con_threshold) |\n",
    "                           (data_test['0cl_in_feed_sol']>con_threshold)]\n",
    "print(len(data_test_drop.index))"
   ]
  },
  {
   "cell_type": "code",
   "execution_count": 44,
   "metadata": {},
   "outputs": [
    {
     "data": {
      "text/plain": [
       "192"
      ]
     },
     "execution_count": 44,
     "metadata": {},
     "output_type": "execute_result"
    }
   ],
   "source": [
    "data_test_drop.isna().sum().sum()"
   ]
  },
  {
   "cell_type": "code",
   "execution_count": 45,
   "metadata": {},
   "outputs": [],
   "source": [
    "data_test_drop = data_test_drop.interpolate()"
   ]
  },
  {
   "cell_type": "markdown",
   "metadata": {},
   "source": [
    "На удалении выбросов теряем: \n",
    "* тренировочная выборка - 1442 строки (8.5%) (суммарные концентрации и концентрации золота на каждом этапе <= 0.05)\n",
    "* тестовая выборка - (369) строк (6.6%) (концентрации в cырье <= 0.05) \n",
    "\n",
    "192 пропуска в тестовой выборке заполнено интерполяцией"
   ]
  },
  {
   "cell_type": "markdown",
   "metadata": {},
   "source": [
    "<div class=\"alert alert-block alert-success\">\n",
    "<b>Успех:</b> В тестовой тоже их нужно удалить, так как вероятнее всего эти пропуски связаны с поломкой оборудования.\n",
    "</div>"
   ]
  },
  {
   "cell_type": "markdown",
   "metadata": {},
   "source": [
    "### Выбор и масштабирование признаков"
   ]
  },
  {
   "cell_type": "code",
   "execution_count": 46,
   "metadata": {},
   "outputs": [],
   "source": [
    "#проиндексируем датой - не понял как обращаться по Datetime индексу\n",
    "#for df in [data_train_int_drop2, data_test_drop2, data_full]:\n",
    "#    df.index = df['date']\n",
    "#    df.index.name = None\n",
    "#\n",
    "#target_test = data_full[features_test.index]"
   ]
  },
  {
   "cell_type": "code",
   "execution_count": 47,
   "metadata": {},
   "outputs": [],
   "source": [
    "#Столбцы признаков\n",
    "features = data_test_drop.drop(['date'], axis='columns').columns #только столбцы которые есть в тестовой выборке\n",
    "targets = ['0cl_out_recovery', 'final_out_recovery']\n",
    "\n",
    "#список вариантов для обучающей выборки\n",
    "data_list = [data_train_int_nodrop, data_train_int_drop2, \n",
    "             data_train_fillna0_nodrop, data_train_fillna0_drop2,\n",
    "             data_train_dropNA_nodrop, data_train_dropNA_drop2]\n",
    "\n",
    "#имена\n",
    "data_train_int_nodrop.name = 'data_train_int_nodrop'\n",
    "data_train_int_drop2.name = 'data_train_int_drop2'\n",
    "data_train_fillna0_nodrop.name = 'data_train_fillna0_nodrop'\n",
    "data_train_fillna0_drop2.name = 'data_train_fillna0_drop2'\n",
    "data_train_dropNA_nodrop.name = 'data_train_dropNA_nodrop'\n",
    "data_train_dropNA_drop2.name = 'data_train_dropNA_drop2'"
   ]
  },
  {
   "cell_type": "code",
   "execution_count": 48,
   "metadata": {},
   "outputs": [],
   "source": [
    "scaler = StandardScaler()\n",
    "\n",
    "scaler.fit(data_train[features])\n",
    "\n",
    "data_test_drop[features] = scaler.transform(data_test_drop[features])"
   ]
  },
  {
   "cell_type": "code",
   "execution_count": 49,
   "metadata": {},
   "outputs": [],
   "source": [
    "#from pandas.core.common import SettingWithCopyWarning\n",
    "#warnings.simplefilter(action=\"ignore\", category=SettingWithCopyWarning)"
   ]
  },
  {
   "cell_type": "code",
   "execution_count": 50,
   "metadata": {
    "scrolled": false
   },
   "outputs": [
    {
     "name": "stdout",
     "output_type": "stream",
     "text": [
      "data_train_int_nodrop\n",
      "7.140137643569603\n",
      "-0.010186281753507448\n",
      "\n",
      "data_train_int_drop2\n",
      "7.807711808967437\n",
      "0.2121884130695875\n",
      "\n",
      "data_train_fillna0_nodrop\n",
      "7.135416422354436\n",
      "-0.011758961137062538\n",
      "\n",
      "data_train_fillna0_drop2\n",
      "7.809136701134115\n"
     ]
    },
    {
     "name": "stderr",
     "output_type": "stream",
     "text": [
      "/opt/conda/lib/python3.7/site-packages/ipykernel_launcher.py:15: SettingWithCopyWarning: \n",
      "A value is trying to be set on a copy of a slice from a DataFrame.\n",
      "Try using .loc[row_indexer,col_indexer] = value instead\n",
      "\n",
      "See the caveats in the documentation: http://pandas.pydata.org/pandas-docs/stable/user_guide/indexing.html#returning-a-view-versus-a-copy\n",
      "  from ipykernel import kernelapp as app\n",
      "/opt/conda/lib/python3.7/site-packages/pandas/core/indexing.py:494: SettingWithCopyWarning: \n",
      "A value is trying to be set on a copy of a slice from a DataFrame.\n",
      "Try using .loc[row_indexer,col_indexer] = value instead\n",
      "\n",
      "See the caveats in the documentation: http://pandas.pydata.org/pandas-docs/stable/user_guide/indexing.html#returning-a-view-versus-a-copy\n",
      "  self.obj[item] = s\n"
     ]
    },
    {
     "name": "stdout",
     "output_type": "stream",
     "text": [
      "0.21266305690265416\n",
      "\n",
      "data_train_dropNA_nodrop\n",
      "8.107739070690842\n",
      "0.3121300738206299\n",
      "\n",
      "data_train_dropNA_drop2\n",
      "8.107739070690842\n",
      "0.3121300738206299\n",
      "\n"
     ]
    }
   ],
   "source": [
    "data_list = [data_train_int_nodrop, data_train_int_drop2, \n",
    "             data_train_fillna0_nodrop, data_train_fillna0_drop2,\n",
    "             data_train_dropNA_nodrop, data_train_dropNA_drop2]\n",
    "\n",
    "data_train_int_nodrop.name = 'data_train_int_nodrop'\n",
    "data_train_int_drop2.name = 'data_train_int_drop2'\n",
    "data_train_fillna0_nodrop.name = 'data_train_fillna0_nodrop'\n",
    "data_train_fillna0_drop2.name = 'data_train_fillna0_drop2'\n",
    "data_train_dropNA_nodrop.name = 'data_train_dropNA_nodrop'\n",
    "data_train_dropNA_drop2.name = 'data_train_dropNA_drop2'\n",
    "\n",
    "for d in data_list:\n",
    "    print(d.name)\n",
    "    print(d['0cl_in_feed_au'].mean())\n",
    "    d[features] = scaler.transform(d[features])\n",
    "    print(d['0cl_in_feed_au'].mean())\n",
    "    print()\n"
   ]
  },
  {
   "cell_type": "markdown",
   "metadata": {},
   "source": [
    "<div class=\"alert alert-block alert-info\">\n",
    "Насколько понимаю предупреждение можно проигнорировать, но на всякий случай не прячу."
   ]
  },
  {
   "cell_type": "markdown",
   "metadata": {},
   "source": [
    "<div class=\"alert alert-block alert-success\">\n",
    "<b>Успех:</b> Да, это предупреждение можно проигнорировать, это видно по тому, что среднее до и после отличается. Радует, что ты не забыл про нормализацию данных.\n",
    "</div>"
   ]
  },
  {
   "cell_type": "code",
   "execution_count": 51,
   "metadata": {},
   "outputs": [],
   "source": [
    "#Тоже самое сделал циклом\n",
    "\n",
    "#data_train_int_nodrop[features] = scaler.transform(data_train_int_nodrop[features])\n",
    "#data_train_int_drop2[features] = scaler.transform(data_train_int_drop2[features])\n",
    "\n",
    "#data_train_fillna0_nodrop[features] = scaler.transform(data_train_fillna0_nodrop[features])\n",
    "#data_train_fillna0_drop2[features] = scaler.transform(data_train_fillna0_drop2[features])\n",
    "\n",
    "#data_train_dropNA_nodrop[features] = scaler.transform(data_train_dropNA_nodrop[features])\n",
    "#data_train_dropNA_drop2[features] = scaler.transform(data_train_dropNA_drop2[features])"
   ]
  },
  {
   "cell_type": "markdown",
   "metadata": {},
   "source": [
    "#Разделим тренировочную выборку на features и target\n",
    "features_train = data_train_dropNA_drop2[features].values #БЫЛО data_train_int_drop2\n",
    "target_train = data_train_dropNA_drop2[targets].values"
   ]
  },
  {
   "cell_type": "markdown",
   "metadata": {},
   "source": [
    "## Функция для вычисления sMAPE"
   ]
  },
  {
   "cell_type": "markdown",
   "metadata": {},
   "source": [
    "* Напишите функцию для вычисления итоговой sMAPE."
   ]
  },
  {
   "cell_type": "markdown",
   "metadata": {},
   "source": [
    "<div class=\"alert alert-block alert-info\">\n",
    "<b>Совет: </b> С numpy array или pandas Series можно работать вот так: `y_true - y_pred`. Результатом будет массив разностей. Используя это знание постарайся избавиться от циклов в функции выше.\n",
    "</div>"
   ]
  },
  {
   "cell_type": "markdown",
   "metadata": {},
   "source": [
    "<div class=\"alert alert-block alert-warning\">\n",
    "<b>Комментарий студента:</b> Пока не дожал...\n",
    "</div>"
   ]
  },
  {
   "cell_type": "markdown",
   "metadata": {},
   "source": [
    "<div class=\"alert alert-block alert-info\">\n",
    "<b>Код ревьюера (ревью 2). </b> Попробую показать на прмиере:\n",
    "</div>"
   ]
  },
  {
   "cell_type": "code",
   "execution_count": 2,
   "metadata": {},
   "outputs": [
    {
     "name": "stdout",
     "output_type": "stream",
     "text": [
      "0   -2\n",
      "1   -2\n",
      "2    2\n",
      "3   -3\n",
      "dtype: int64\n",
      "--------------------\n",
      "0    2\n",
      "1    2\n",
      "2    2\n",
      "3    3\n",
      "dtype: int64\n",
      "--------------------\n",
      "0    0.333333\n",
      "1    0.500000\n",
      "2    3.000000\n",
      "3    0.571429\n",
      "dtype: float64\n",
      "--------------------\n"
     ]
    }
   ],
   "source": [
    "import pandas as pd\n",
    "\n",
    "arr1 = pd.Series([1, 2, 3, 4])\n",
    "arr2 = pd.Series([3, 4, 1, 7])\n",
    "\n",
    "print(arr1 - arr2)\n",
    "print('-' * 20)\n",
    "\n",
    "print((arr1 - arr2).abs())\n",
    "print('-' * 20)\n",
    "\n",
    "print(arr1/arr2)\n",
    "print('-' * 20)"
   ]
  },
  {
   "cell_type": "markdown",
   "metadata": {},
   "source": [
    "<div class=\"alert alert-block alert-info\">\n",
    "<b>Конец кода ревьюера (ревью 2). </b>\n",
    "</div>"
   ]
  },
  {
   "cell_type": "code",
   "execution_count": 52,
   "metadata": {},
   "outputs": [],
   "source": [
    "#Было\n",
    "\n",
    "def smape_calc(targets, predictions):\n",
    "    \n",
    "    sm_r = 0\n",
    "    sm_f = 0\n",
    "    length = targets.shape[0]\n",
    "    smape_val = 0\n",
    "    \n",
    "    for i in range(length):\n",
    "        \n",
    "        rrt = targets[i][0]#recovery rouger target\n",
    "        rrp = predictions[i][0]#recovery rouger predicted\n",
    "        sm_r += abs(rrt-rrp)/(abs(rrt)+abs(rrp))\n",
    "        \n",
    "        rft = targets[i][1] #recovery final target\n",
    "        rfp = predictions[i][1] #recovery final predicted\n",
    "        sm_f += abs(rft-rfp)/(abs(rft)+abs(rfp))\n",
    "        \n",
    "        smape_val = (2*0.25*sm_r+2*0.75*sm_f)/length\n",
    "    return smape_val"
   ]
  },
  {
   "cell_type": "code",
   "execution_count": 53,
   "metadata": {},
   "outputs": [],
   "source": [
    "# Стало\n",
    "\n",
    "#def smape_calc(targets, predictions):\n",
    "    \n",
    "#    rrt = targets[:][0]#recovery rouger target\n",
    "#    rrp = predictions[:][0]#recovery rouger predicted\n",
    "#    sm_r = abs(rrt-rrp)/(abs(rrt)+abs(rrp))\n",
    "        \n",
    "#    rft = targets[:][1] #recovery final target\n",
    "#    rfp = predictions[:][1] #recovery final predicted\n",
    "#    sm_f = abs(rft-rfp)/(abs(rft)+abs(rfp))\n",
    "        \n",
    "#    smape_val = (2*0.25*sm_r+2*0.75*sm_f).mean()\n",
    "#    return smape_val"
   ]
  },
  {
   "cell_type": "markdown",
   "metadata": {},
   "source": [
    "## Обучение и проверка моделей\n",
    "* Обучите разные модели и оцените их качество кросс-валидацией. Выберите лучшую модель и проверьте её на тестовой выборке. Опишите выводы."
   ]
  },
  {
   "cell_type": "code",
   "execution_count": 54,
   "metadata": {},
   "outputs": [],
   "source": [
    "N = 5\n",
    "kfold = KFold(n_splits=N, random_state=123, shuffle=True)\n",
    "#train_test_indexes = kfold.split(features_train)"
   ]
  },
  {
   "cell_type": "markdown",
   "metadata": {},
   "source": [
    "<div class=\"alert alert-block alert-danger\">\n",
    "<b>Ошибка:</b> Скорер определен неверно, так как greater_is_better должно быть равно False. Мы ведь минимизируем нашу метрику.\n",
    "</div>"
   ]
  },
  {
   "cell_type": "markdown",
   "metadata": {},
   "source": [
    "<div class=\"alert alert-block alert-info\">\n",
    "<b>Совет: </b> В sklearn принято, что оценка - это то, что нужно максимизировать. SMAPE - функция потерь для минимизации, поэтому мы меняем знак внутри поиска. Получается, что максимизация -Х эквивалентно минимизации самого Х.\n",
    "</div>"
   ]
  },
  {
   "cell_type": "markdown",
   "metadata": {},
   "source": [
    "<div class=\"alert alert-block alert-warning\">\n",
    "<b>Комментарий студента:</b> К сожалению сейчас уделить много времени проекту не могу, а сходу разобраться не получилось. \n",
    "</div>"
   ]
  },
  {
   "cell_type": "code",
   "execution_count": null,
   "metadata": {},
   "outputs": [],
   "source": [
    "#Было\n",
    "#smape_score = make_scorer(smape_calc, greater_is_better=True)\n",
    "\n",
    "#Стало\n",
    "smape_score = make_scorer(smape_calc, greater_is_better=False)"
   ]
  },
  {
   "cell_type": "markdown",
   "metadata": {},
   "source": [
    "<div class=\"alert alert-block alert-warning\">\n",
    "<b>Комментарий студента:</b> Не могу понять почему с greater_is_better=False smape_score получаются отрицательными...\n",
    "</div>"
   ]
  },
  {
   "cell_type": "markdown",
   "metadata": {},
   "source": [
    "<div class=\"alert alert-block alert-info\">\n",
    "\n",
    "<b>Совет (ревью 2): </b> Я отразил это в совете выше. Это просто сделано для удобства в самой билиотеке. Ты можешь использовать функцию \"abs()\" и работать с положительными значениями.\n",
    "    <br><br> Если подробнее, то когда мы раньше подбирали параметры вручную, например accuracy, то писали вот такое сравнение: `if acc > best_acc: best_acc = acc`. Аналогичным образом происходит и в sklearn. В данном случае нашу метрику(SMAPE) нужно минимизировать (`if smape < best_smape: ...`) и чтобы не переписывать везде знаки \"больше\" на знаки \"меньше\" решили добавить знак минус в самое метрики и тогда все стало ОК.\n",
    "</div>"
   ]
  },
  {
   "cell_type": "markdown",
   "metadata": {},
   "source": [
    "### Линейная регрессия"
   ]
  },
  {
   "cell_type": "code",
   "execution_count": 56,
   "metadata": {},
   "outputs": [
    {
     "name": "stdout",
     "output_type": "stream",
     "text": [
      "Линейная регрессия\n",
      "sMAPE: 0.150 тренировочная выборка: data_train_int_nodrop\n",
      "sMAPE: 0.115 тренировочная выборка: data_train_int_drop2\n",
      "sMAPE: 0.338 тренировочная выборка: data_train_fillna0_nodrop\n",
      "sMAPE: 0.193 тренировочная выборка: data_train_fillna0_drop2\n",
      "sMAPE: 0.078 тренировочная выборка: data_train_dropNA_nodrop\n",
      "sMAPE: 0.078 тренировочная выборка: data_train_dropNA_drop2\n"
     ]
    }
   ],
   "source": [
    "model2 = LinearRegression()\n",
    "\n",
    "cv2_smape = 0\n",
    "\n",
    "print('Линейная регрессия')\n",
    "for d in data_list:\n",
    "    cv2_smape = (cross_val_score(model2, d[features].values, d[targets].values, cv=kfold, scoring=smape_score))\n",
    "    print('sMAPE: %.3f' %(-cv2_smape.mean()), 'тренировочная выборка:', d.name)"
   ]
  },
  {
   "cell_type": "markdown",
   "metadata": {},
   "source": [
    "Линейная регрессия\n",
    "* sMAPE: 0.150 тренировочная выборка: data_train_int_nodrop\n",
    "* sMAPE: 0.115 тренировочная выборка: data_train_int_drop2\n",
    "* sMAPE: 0.338 тренировочная выборка: data_train_fillna0_nodrop\n",
    "* sMAPE: 0.193 тренировочная выборка: data_train_fillna0_drop2\n",
    "* sMAPE: 0.078 тренировочная выборка: data_train_dropNA_nodrop\n",
    "* sMAPE: 0.078 тренировочная выборка: data_train_dropNA_drop2"
   ]
  },
  {
   "cell_type": "markdown",
   "metadata": {},
   "source": [
    "### Дерево решений"
   ]
  },
  {
   "cell_type": "code",
   "execution_count": 57,
   "metadata": {},
   "outputs": [],
   "source": [
    "#warnings.filterwarnings('ignore', category=DeprecationWarning)\n",
    "#warnings.filterwarnings('ignore', category=RuntimeWarning)"
   ]
  },
  {
   "cell_type": "markdown",
   "metadata": {},
   "source": [
    "<div class=\"alert alert-block alert-info\">\n",
    "Насколько понимаю предупреждения можно проигнорировать, но на всякий случай не прячу. К тому же по ним можно оценивать прогресс."
   ]
  },
  {
   "cell_type": "code",
   "execution_count": null,
   "metadata": {},
   "outputs": [
    {
     "name": "stdout",
     "output_type": "stream",
     "text": [
      "Дерево решений\n",
      "sMAPE: -0.139 выборка: data_train_int_nodrop параметры: {'max_depth': 4, 'min_samples_leaf': 2, 'min_samples_split': 6}\n"
     ]
    },
    {
     "name": "stderr",
     "output_type": "stream",
     "text": [
      "/opt/conda/lib/python3.7/site-packages/ipykernel_launcher.py:14: RuntimeWarning: invalid value encountered in double_scalars\n",
      "  \n",
      "/opt/conda/lib/python3.7/site-packages/ipykernel_launcher.py:14: RuntimeWarning: invalid value encountered in double_scalars\n",
      "  \n",
      "/opt/conda/lib/python3.7/site-packages/ipykernel_launcher.py:14: RuntimeWarning: invalid value encountered in double_scalars\n",
      "  \n"
     ]
    }
   ],
   "source": [
    "cv3_smape = 0\n",
    "\n",
    "model3 = DecisionTreeRegressor()\n",
    "\n",
    "parametrs = { 'max_depth': [2, 3, 4], #, 8, 12, 16\n",
    "              'min_samples_leaf': [2, 8, 12, 16], #24\n",
    "              'min_samples_split': [2, 4, 6, 8] }\n",
    "\n",
    "print('Дерево решений')\n",
    "for d in data_list:\n",
    "    grid3 = GridSearchCV(model3, parametrs, cv=kfold, scoring=smape_score)\n",
    "    grid3.fit(d[features].values, d[targets].values)\n",
    "    params = grid3.best_params_\n",
    "    model3 = DecisionTreeRegressor().set_params(**params)\n",
    "    cv3_smape = cross_val_score(model3, d[features].values, d[targets].values, cv=kfold, scoring=smape_score)\n",
    "    print('sMAPE: %.3f' %cv3_smape.mean(), 'выборка:', d.name, 'параметры:', params)"
   ]
  },
  {
   "cell_type": "code",
   "execution_count": null,
   "metadata": {},
   "outputs": [],
   "source": []
  },
  {
   "cell_type": "code",
   "execution_count": null,
   "metadata": {},
   "outputs": [],
   "source": []
  },
  {
   "cell_type": "code",
   "execution_count": null,
   "metadata": {},
   "outputs": [],
   "source": []
  },
  {
   "cell_type": "markdown",
   "metadata": {},
   "source": [
    "<div class=\"alert alert-block alert-info\">\n",
    "\n",
    "<b>Совет: </b> В качестве скора на валидации можно использовать `grid3.best_score_`.\n",
    "</div>"
   ]
  },
  {
   "cell_type": "code",
   "execution_count": null,
   "metadata": {},
   "outputs": [],
   "source": [
    "#Было\n",
    "cv3_smape = 0\n",
    "\n",
    "model3 = DecisionTreeRegressor()\n",
    "\n",
    "parametrs = { 'max_depth': [2, 3, 4], #, 8, 12, 16\n",
    "              'min_samples_leaf': [2, 8, 12, 16], #24\n",
    "              'min_samples_split': [2, 4, 6, 8] }\n",
    "\n",
    "print('Дерево решений')\n",
    "for d in data_list:\n",
    "    grid3 = GridSearchCV(model3, parametrs, cv=kfold, scoring=smape_score)\n",
    "    grid3.fit(d[features].values, d[targets].values)\n",
    "    params = grid3.best_params_\n",
    "    model3 = DecisionTreeRegressor().set_params(**params)\n",
    "    cv3_smape = cross_val_score(model3, d[features].values, d[targets].values, cv=kfold, scoring=smape_score)\n",
    "    print('sMAPE: %.3f' %cv3_smape.mean(), 'выборка:', d.name, 'параметры:', params)"
   ]
  },
  {
   "cell_type": "code",
   "execution_count": null,
   "metadata": {},
   "outputs": [],
   "source": [
    "cv3_smape = 0\n",
    "\n",
    "model3 = DecisionTreeRegressor()\n",
    "\n",
    "parametrs = { 'max_depth': [2, 3, 4], #, 8, 12, 16\n",
    "              'min_samples_leaf': [2, 8, 12, 16], #24\n",
    "              'min_samples_split': [2, 4, 6, 8] }\n",
    "\n",
    "print('Дерево решений')\n",
    "for d in data_list:\n",
    "    grid3 = GridSearchCV(model3, parametrs, cv=kfold, scoring=smape_score)\n",
    "    grid3.fit(d[features].values, d[targets].values)\n",
    "    params = grid3.best_params_\n",
    "    model3 = DecisionTreeRegressor().set_params(**params)\n",
    "    score_3 = grid3.best_score_\n",
    "    print('sMAPE: %.3f' %score_3, 'выборка:', d.name, 'параметры:', params)"
   ]
  },
  {
   "cell_type": "markdown",
   "metadata": {},
   "source": [
    "Дерево решений  \n",
    "* sMAPE: 0.155 выборка: data_train_int_nodrop     параметры: {'max_depth': 2, 'min_samples_leaf': 8, 'min_samples_split': 6}\n",
    "* sMAPE: 0.123 выборка: data_train_int_drop2      параметры: {'max_depth': 2, 'min_samples_leaf': 8, 'min_samples_split': 6}\n",
    "* sMAPE: 0.329 выборка: data_train_fillna0_nodrop параметры: {'max_depth': 2, 'min_samples_leaf': 2, 'min_samples_split': 6}\n",
    "* sMAPE: 0.200 выборка: data_train_fillna0_drop2  параметры: {'max_depth': 2, 'min_samples_leaf': 8, 'min_samples_split': 8}\n",
    "* sMAPE: 0.088 выборка: data_train_dropNA_nodrop  параметры: {'max_depth': 2, 'min_samples_leaf': 16, 'min_samples_split': 2}\n",
    "* sMAPE: 0.088 выборка: data_train_dropNA_drop2   параметры: {'max_depth': 2, 'min_samples_leaf': 2, 'min_samples_split': 8}"
   ]
  },
  {
   "cell_type": "markdown",
   "metadata": {},
   "source": [
    "### Случайный лес"
   ]
  },
  {
   "cell_type": "code",
   "execution_count": null,
   "metadata": {},
   "outputs": [],
   "source": [
    "cv4_smape = 0\n",
    "\n",
    "model4 = RandomForestRegressor()\n",
    "\n",
    "parametrs = { 'max_depth': [2, 3, 4],\n",
    "              'min_samples_leaf': [8, 12, 16, 20],\n",
    "              'min_samples_split': [4, 8, 16],\n",
    "              'n_estimators': [2, 4, 10]}\n",
    "\n",
    "print('Случайный лес')\n",
    "for d in data_list:\n",
    "    grid = GridSearchCV(model4, parametrs, cv=kfold, scoring=smape_score)\n",
    "    grid.fit(d[features].values, d[targets].values)\n",
    "    params = grid.best_params_\n",
    "    model4 = RandomForestRegressor().set_params(**params)\n",
    "    cv4_smape = cross_val_score(model4, d[features].values, d[targets].values, cv=kfold, scoring=smape_score)\n",
    "    print('sMAPE: %.3f' %cv4_smape.mean(), 'выборка:', d.name, 'параметры:', params)"
   ]
  },
  {
   "cell_type": "markdown",
   "metadata": {},
   "source": [
    "Случайный лес  \n",
    "* sMAPE: 0.155 выборка: data_train_int_nodrop параметры: {'max_depth': 2, 'min_samples_leaf': 8, 'min_samples_split': 4, 'n_estimators': 2}\n",
    "* sMAPE: 0.122 выборка: data_train_int_drop2 параметры: {'max_depth': 2, 'min_samples_leaf': 8, 'min_samples_split': 16, 'n_estimators': 2}\n",
    "* sMAPE: 0.327 выборка: data_train_fillna0_nodrop параметры: {'max_depth': 2, 'min_samples_leaf': 20, 'min_samples_split': 16, 'n_estimators': 2}\n",
    "* sMAPE: 0.198 выборка: data_train_fillna0_drop2 параметры: {'max_depth': 2, 'min_samples_leaf': 16, 'min_samples_split': 4, 'n_estimators': 2}\n",
    "* sMAPE: 0.088 выборка: data_train_dropNA_nodrop параметры: {'max_depth': 2, 'min_samples_leaf': 8, 'min_samples_split': 8, 'n_estimators': 2}\n",
    "* sMAPE: 0.087 выборка: data_train_dropNA_drop2 параметры: {'max_depth': 2, 'min_samples_leaf': 8, 'min_samples_split': 4, 'n_estimators': 2}"
   ]
  },
  {
   "cell_type": "markdown",
   "metadata": {},
   "source": [
    "<div class=\"alert alert-block alert-danger\">\n",
    "<b>Ошибка:</b> Результаты получились некорретными из-за ошибки в определении скорера. Однако, в остальном, все сделано отлично!\n",
    "</div>"
   ]
  },
  {
   "cell_type": "markdown",
   "metadata": {},
   "source": [
    "### DummyRegressor"
   ]
  },
  {
   "cell_type": "code",
   "execution_count": null,
   "metadata": {},
   "outputs": [],
   "source": [
    "print('DummyRegressor')\n",
    "for d in data_list:\n",
    "    model5 = DummyRegressor(strategy='median').fit(d[features].values, d[targets].values)\n",
    "    cv5_smape = cross_val_score(model5, d[features].values, d[targets].values, cv=kfold, scoring=smape_score)\n",
    "    print('sMAPE: %.3f' %cv5_smape.mean(), 'выборка:', d.name)"
   ]
  },
  {
   "cell_type": "markdown",
   "metadata": {},
   "source": [
    "DummyRegressor\n",
    "* sMAPE: 0.169 выборка: data_train_int_nodrop\n",
    "* sMAPE: 0.130 выборка: data_train_int_drop2\n",
    "* sMAPE: 0.322 выборка: data_train_fillna0_nodrop\n",
    "* sMAPE: 0.189 выборка: data_train_fillna0_drop2\n",
    "* sMAPE: 0.098 выборка: data_train_dropNA_nodrop\n",
    "* sMAPE: 0.098 выборка: data_train_dropNA_drop2\n"
   ]
  },
  {
   "cell_type": "markdown",
   "metadata": {},
   "source": [
    "<div class=\"alert alert-block alert-success\">\n",
    "<b>Успех:</b> Радует, что ты не забыл про dummy модель.\n",
    "</div>"
   ]
  },
  {
   "cell_type": "markdown",
   "metadata": {},
   "source": [
    "### Сравнение моделей"
   ]
  },
  {
   "cell_type": "markdown",
   "metadata": {},
   "source": [
    "Получили следующие результаты:\n",
    "\n",
    "Модель | Линейная регрессия | Дерево решений | Случайный лес | DummyRegressor | ! | Среднее по выборке\n",
    "--- |--- | --- | --- | --- | --- | ---\n",
    "data_train_int_nodrop     | 15,0 | 15,5 | 15,5 | 16,9 | ! | 15,7\n",
    "data_train_int_drop2      | 11,5 | 12,3 | 12,2 | 13,0 | ! | 12,3\n",
    "data_train_fillna0_nodrop | 33,8 | 32,9 | 32,7 | 32,2 | ! | 32,9\n",
    "data_train_fillna0_drop2  | 19,3 | 20,0 | 19,8 | 18,9 | ! | 19,5\n",
    "data_train_dropNA_nodrop  | 7,8 | 8,8 | 8,8 | 9,8 | ! | 8,8\n",
    "data_train_dropNA_drop2   | 7,8 | 8,8 | 8,7 | 9,8 | ! | 8,8\n",
    "--- |--- | --- | --- | --- | --- | ---\n",
    "Среднее по модели: | 15.9 | 16.4 | 16.3 | 16.8 | ! | \n",
    "\n"
   ]
  },
  {
   "cell_type": "markdown",
   "metadata": {},
   "source": [
    "## Проверка на тестовой выборке"
   ]
  },
  {
   "cell_type": "code",
   "execution_count": null,
   "metadata": {
    "scrolled": true
   },
   "outputs": [],
   "source": [
    "data_test_drop.info()"
   ]
  },
  {
   "cell_type": "code",
   "execution_count": null,
   "metadata": {},
   "outputs": [],
   "source": [
    "data_test_drop_merge = data_test_drop.merge(\n",
    "    data_full[['date', '0cl_out_recovery', 'final_out_recovery']], on='date', how='left')"
   ]
  },
  {
   "cell_type": "markdown",
   "metadata": {},
   "source": [
    "<div class=\"alert alert-block alert-success\">\n",
    "<b>Успех:</b> Отлично, что объединение проводилось по дате.\n",
    "</div>"
   ]
  },
  {
   "cell_type": "code",
   "execution_count": null,
   "metadata": {},
   "outputs": [],
   "source": [
    "#data_test_drop_merge.isna().sum()"
   ]
  },
  {
   "cell_type": "markdown",
   "metadata": {},
   "source": [
    "Из data_full в data_test_drop_merge попали пропуски (в целевых столбцах). Взять их значения негде (заполнять интерполяцией или другим способом - не правильно) поэтому удаляем."
   ]
  },
  {
   "cell_type": "code",
   "execution_count": null,
   "metadata": {
    "scrolled": false
   },
   "outputs": [],
   "source": [
    "print(data_test_drop_merge['date'].count())\n",
    "data_test_drop_merge_drop = data_test_drop_merge.dropna()\n",
    "print(data_test_drop_merge_drop['date'].count())"
   ]
  },
  {
   "cell_type": "markdown",
   "metadata": {},
   "source": [
    "Удаляем еще 181 строку (3,1% от первоначального количества)."
   ]
  },
  {
   "cell_type": "code",
   "execution_count": null,
   "metadata": {},
   "outputs": [],
   "source": [
    "features_test = data_test_drop_merge_drop[features].values\n",
    "target_test = data_test_drop_merge_drop[targets].values"
   ]
  },
  {
   "cell_type": "code",
   "execution_count": null,
   "metadata": {},
   "outputs": [],
   "source": [
    "model2 = LinearRegression()\n",
    "model2.fit(data_train_dropNA_drop2[features].values, data_train_dropNA_drop2[targets].values)\n",
    "predictions_test = model2.predict(features_test)\n",
    "test_sMAPE = smape_calc(target_test, predictions_test)\n",
    "print('Модель: model2 (линейная регрессия обученная на data_train_dropNA_nodrop)')\n",
    "print('Итоговое sMAPE на тестовой выборке: %.4f' %test_sMAPE)"
   ]
  },
  {
   "cell_type": "code",
   "execution_count": null,
   "metadata": {},
   "outputs": [],
   "source": [
    "model5 = DummyRegressor(strategy='median').fit(data_train_dropNA_drop2[features].values, data_train_dropNA_drop2[targets].values)\n",
    "predictions_test = model5.predict(features_test)\n",
    "test_sMAPE = smape_calc(target_test, predictions_test)\n",
    "print('Модель: model5 (DummyRegressor)')\n",
    "print('Итоговое sMAPE на тестовой выборке: %.4f' %test_sMAPE)"
   ]
  },
  {
   "cell_type": "markdown",
   "metadata": {},
   "source": [
    "<div class=\"alert alert-block alert-success\">\n",
    "<b>Успех:</b> Тестирование было сделано верно.\n",
    "</div>"
   ]
  },
  {
   "cell_type": "markdown",
   "metadata": {},
   "source": [
    "## Выводы"
   ]
  },
  {
   "cell_type": "markdown",
   "metadata": {},
   "source": [
    "Линейная регрессия позволила получить итоговое sMAPE на тестовой выборке равное 9,6%, при этом метрика у DummyRegressor почти такая-же. Для улучшения метрики моделей необходимо рассмотреть следующие действия: \n",
    "* выбор оптимального варианта очистки тренироочных/тестовых данных\n",
    "* построение отдельных предсказательных моделей для rouger output recovery и final output recovery \n",
    "* работа с признаками (выбор наиболее значимых признаков, очистка от выбросов) для каждой модели\n",
    "* более серьезная работа с гиперпараметрами \"деревянных\" моделей"
   ]
  },
  {
   "cell_type": "markdown",
   "metadata": {},
   "source": [
    "<div class=\"alert alert-block alert-info\">\n",
    "На прербор всех вариантов очистки тренироочных/тестовых данных не хватило задора. Надеюсь что цели проекта \"закрыты\"! "
   ]
  }
 ],
 "metadata": {
  "kernelspec": {
   "display_name": "Python 3",
   "language": "python",
   "name": "python3"
  },
  "language_info": {
   "codemirror_mode": {
    "name": "ipython",
    "version": 3
   },
   "file_extension": ".py",
   "mimetype": "text/x-python",
   "name": "python",
   "nbconvert_exporter": "python",
   "pygments_lexer": "ipython3",
   "version": "3.8.5"
  },
  "toc": {
   "base_numbering": 1,
   "nav_menu": {
    "height": "386px",
    "width": "404px"
   },
   "number_sections": true,
   "sideBar": true,
   "skip_h1_title": true,
   "title_cell": "Table of Contents",
   "title_sidebar": "Contents",
   "toc_cell": false,
   "toc_position": {},
   "toc_section_display": true,
   "toc_window_display": true
  }
 },
 "nbformat": 4,
 "nbformat_minor": 2
}
