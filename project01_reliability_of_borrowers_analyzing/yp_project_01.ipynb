{
 "cells": [
  {
   "cell_type": "markdown",
   "metadata": {},
   "source": [
    "# Проект 1.\n",
    "# Исследование надёжности заёмщиков."
   ]
  },
  {
   "cell_type": "markdown",
   "metadata": {},
   "source": [
    "<a name=\"1\"></a>\n",
    "# Содержание/план"
   ]
  },
  {
   "cell_type": "markdown",
   "metadata": {},
   "source": [
    "1  [Описание проекта и постановка задачи.](#1)\n",
    "\n",
    "2  [Импорт библиотек, загрузка данных, изучение данных.](#2)\n",
    "\n",
    "3  [Предобработка данных](#3)\n",
    "\n",
    "* 3.1  [Импорт библиотек, загрузка данных, изучение данных.](#31)\n",
    "* 3.2  [Изучение и подготовка данных.](#32)\n",
    "  * 3.2.1  [data_arc — данные об электродах](#321)\n",
    "  * 3.2.2  [data_bulk — данные о подаче сыпучих материалов (объём)](#322)\n",
    "  * 3.2.3  [data_bulk_time — данные о подаче сыпучих материалов (время)](#323)\n",
    "  * 3.2.4  [data_gas — данные о продувке сплава газом](#324)\n",
    "  * 3.2.5  [data_temp — результаты измерения температуры](#325)\n",
    "  * 3.2.6  [data_wire — данные о проволочных материалах (объём)](#326)\n",
    "  * 3.2.7  [data_wire_time — данные о проволочных материалах (время)](#327)\n",
    "* 3.3  [Удаление данных с ошибками.](#33)\n",
    "* 3.4  [Создание дополнительных признаков.](#34)\n",
    "  * 3.4.1  [Температура](#341)\n",
    "  * 3.4.2  [Нагревание](#342)\n",
    "  * 3.4.3  [Добавление сыпучих и проволочных материалов](#343)\n",
    "\n",
    "4  [Исследовательский анализ данных](#4)\n",
    "\n",
    "* 4.1  [Температура.](#41)\n",
    "  * 4.1.1  [Начальные данные](#411)\n",
    "  * 4.1.2  [Измененные данные](#412)\n",
    "* 4.2  [Нагревание.](#42)\n",
    "* 4.3  [Добавление сыпучих и проволочных материалов, продувка.](#43)\n",
    "\n",
    "5  [Подготовка к обучению.](#5)\n",
    "\n",
    "* 5.1  [Объединение таблиц.](#51)\n",
    "* 5.2  [Выявление корреляции.](#52)\n",
    "\n",
    "6  [Обучение и проверка моделей.](#6)\n",
    "\n",
    "* 6.1  [Подготовка к обучению.](#61)\n",
    "* 6.2  [LinearRegression.](#62)\n",
    "* 6.3  [DecisionTreeRegressor.](#63)\n",
    "* 6.4  [RandomForestRegressor.](#64)\n",
    "* 6.5  [LightGBM.](#65)\n",
    "* 6.6  [CatBoost.](#66)\n",
    "* 6.7  [Сравнение моделей.](#67)\n",
    "    \n",
    "7  [Общий вывод.](#7)"
   ]
  },
  {
   "cell_type": "markdown",
   "metadata": {},
   "source": [
    "<a name=\"1\"></a>\n",
    "## Описание проекта и постановка задачи."
   ]
  },
  {
   "cell_type": "markdown",
   "metadata": {},
   "source": [
    "Заказчик — кредитный отдел банка. Нужно разобраться, влияет ли семейное положение и количество детей клиента на факт погашения кредита в срок. Входные данные от банка — статистика о платёжеспособности клиентов.\n",
    "\n",
    "Результаты исследования будут учтены при построении модели **кредитного скоринга** — специальной системы, которая оценивает способность потенциального заёмщика вернуть кредит банку."
   ]
  },
  {
   "cell_type": "markdown",
   "metadata": {},
   "source": [
    "Описание данных:\n",
    "*    children — количество детей в семье\n",
    "*    days_employed — общий трудовой стаж в днях\n",
    "*    dob_years — возраст клиента в годах\n",
    "*    education — уровень образования клиента\n",
    "*    education_id — идентификатор уровня образования\n",
    "*    family_status — семейное положение\n",
    "*    family_status_id — идентификатор семейного положения\n",
    "*    gender — пол клиента\n",
    "*    income_type — тип занятости\n",
    "*    debt — имел ли задолженность по возврату кредитов\n",
    "*    total_income — ежемесячный доход\n",
    "*    purpose — цель получения кредита"
   ]
  },
  {
   "cell_type": "markdown",
   "metadata": {},
   "source": [
    "<a name=\"2\"></a>\n",
    "## Импорт библиотек, загрузка данных, изучение данных. "
   ]
  },
  {
   "cell_type": "code",
   "execution_count": null,
   "metadata": {},
   "outputs": [],
   "source": [
    "import pandas as pd\n",
    "from pymystem3 import Mystem"
   ]
  },
  {
   "cell_type": "code",
   "execution_count": null,
   "metadata": {},
   "outputs": [],
   "source": [
    "#функция для приведения стажа к единому виду\n",
    "def days_years_employed (days_employed): #возвращает значения в годах стажа\n",
    "    '''\n",
    "    принимает значение стажа в \n",
    "    '''\n",
    "    \n",
    "        if days_employed>36500:          #если значение больше 36500 дней то считаем что оно указано в часах\n",
    "            return (days_employed)/(365*24)\n",
    "        return abs(days_employed/(365))"
   ]
  },
  {
   "cell_type": "code",
   "execution_count": 2,
   "metadata": {},
   "outputs": [],
   "source": [
    "data=pd.read_csv('data.csv')"
   ]
  },
  {
   "cell_type": "code",
   "execution_count": null,
   "metadata": {},
   "outputs": [],
   "source": []
  },
  {
   "cell_type": "code",
   "execution_count": 3,
   "metadata": {
    "scrolled": true
   },
   "outputs": [
    {
     "name": "stdout",
     "output_type": "stream",
     "text": [
      "<class 'pandas.core.frame.DataFrame'>\n",
      "RangeIndex: 21525 entries, 0 to 21524\n",
      "Data columns (total 12 columns):\n",
      " #   Column            Non-Null Count  Dtype  \n",
      "---  ------            --------------  -----  \n",
      " 0   children          21525 non-null  int64  \n",
      " 1   days_employed     19351 non-null  float64\n",
      " 2   dob_years         21525 non-null  int64  \n",
      " 3   education         21525 non-null  object \n",
      " 4   education_id      21525 non-null  int64  \n",
      " 5   family_status     21525 non-null  object \n",
      " 6   family_status_id  21525 non-null  int64  \n",
      " 7   gender            21525 non-null  object \n",
      " 8   income_type       21525 non-null  object \n",
      " 9   debt              21525 non-null  int64  \n",
      " 10  total_income      19351 non-null  float64\n",
      " 11  purpose           21525 non-null  object \n",
      "dtypes: float64(2), int64(5), object(5)\n",
      "memory usage: 2.0+ MB\n",
      "\n",
      "количество отрицательных значений days_employed: 15906\n",
      "\n",
      "какие значения в \"children\"\n",
      " 0     14149\n",
      " 1      4818\n",
      " 2      2055\n",
      " 3       330\n",
      " 20       76\n",
      "-1        47\n",
      " 4        41\n",
      " 5         9\n",
      "Name: children, dtype: int64\n",
      "\n",
      "какие значения в \"gender\"\n",
      "F      14236\n",
      "M       7288\n",
      "XNA        1\n",
      "Name: gender, dtype: int64\n",
      "\n",
      "количество нулевых значений возраста: 101\n",
      "\n",
      "какие значения в \"income_type\"\n",
      "сотрудник          11064\n",
      "компаньон           5064\n",
      "пенсионер           3836\n",
      "госслужащий         1453\n",
      "предприниматель        2\n",
      "безработный            2\n",
      "студент                1\n",
      "в декрете              1\n",
      "Name: income_type, dtype: int64\n",
      "\n",
      "NaN в 10% строк\n"
     ]
    }
   ],
   "source": [
    "data.info()\n",
    "\n",
    "#сколько отрицательных значений в days_employed? ->  15906\n",
    "print()\n",
    "print('количество отрицательных значений days_employed:', len(data[data['days_employed']<0]))\n",
    "\n",
    "\n",
    "\n",
    "\n",
    "data['years_employed']=data['days_employed'].apply(days_years_employed) #добавляю столбец со стажем в годах\n",
    "\n",
    "#какие значения в 'children'?\n",
    "print()\n",
    "print('какие значения в \"children\"')\n",
    "print(data['children'].value_counts())\n",
    "\n",
    "data['children']=abs(data['children']) #меняю значение 'children' с -1 на 1\n",
    "data['children']=data['children'].replace(20, 2) #меняю значение 'children' с 20 на 2\n",
    "\n",
    "#Какие значения в 'gender'?\n",
    "print()\n",
    "print('какие значения в \"gender\"')\n",
    "print(data['gender'].value_counts())\n",
    "data=data[data['gender']!='XNA'] #удаляю строку с гендером XNA\n",
    "\n",
    "#сколько нулевых значений возраста? ->    101\n",
    "print()\n",
    "print('количество нулевых значений возраста:', data[data['dob_years'] == 0]['dob_years'].count())\n",
    "\n",
    "data=data[data['dob_years']!=0] #удаляю строки с 0 возрастом т.к. их меньше 0,5%\n",
    "\n",
    "#какие значения в 'income_type'? -> 4 малочисленные группы: предприниматель, безработный, студент, в декрете.\n",
    "print()\n",
    "print('какие значения в \"income_type\"')\n",
    "print(data['income_type'].value_counts())\n",
    "\n",
    "data=data[data['income_type']!='предприниматель']#удаляю малочисленные группы 'income_type'\n",
    "data=data[data['income_type']!='безработный']    #удаляю малочисленные группы 'income_type'\n",
    "data=data[data['income_type']!='студент']        #удаляю малочисленные группы 'income_type'\n",
    "data=data[data['income_type']!='в декрете']      #удаляю малочисленные группы 'income_type'\n",
    "\n",
    "#какая доля строк с NaN? ->   10%\n",
    "print()\n",
    "nan_days_employed=data[data['days_employed'].isna()==True] #пропуски в days_employed совпадают с пропусками в total_income\n",
    "nan_total_income=data[data['total_income'].isna()==True] #пропуски в total_income совпадают с пропусками в days_employed\n",
    "print('NaN в {:.0%} строк'.format(len(nan_days_employed)/len(data))) \n",
    "\n",
    "#не связаны ли пропуски с типом занятости? возможно стаж и зарплата не указана для определенной группы -> нет\n",
    "#print(data['income_type'].value_counts()) #подсчет всех типов занятости\n",
    "#print(nan_total_income['income_type'].value_counts()) # 4 разных типов занятости для пропусков по доходу в месяц\n",
    "#print(nan_days_employed['dob_years'].value_counts()) # много разных возрастов для пропусков по трудовому стажу\n",
    "\n",
    "data.drop(['days_employed'], axis='columns', inplace=True) #удаляю столбец 'days_employed'\n",
    "data.drop(['education_id'], axis='columns', inplace=True) #удаляю столбец 'education_id'\n",
    "data.drop(['family_status_id'], axis='columns', inplace=True) #удаляю столбец 'family_status_id'"
   ]
  },
  {
   "cell_type": "markdown",
   "metadata": {},
   "source": [
    "<div class=\"alert alert-block alert-danger\">\n",
    "<h2>Комментарий от ревьювера (недочет, который нужно доработать)</h2> \n",
    "    \n",
    "Выводы есть, а отображения на экране нет)\n",
    "    \n",
    "1. Стоит выводить на экран, все что ты исследуешь, заказчику тоже захочется посмотреть) Скажем так, какие ваши доказательства?\n",
    "    \n",
    "2. Наши проекты очень приближены к реальным. У аналитиков есть тактя поговорка, что работа аналитика заканчивается только тогда, когда начальник говорит \"хватит\") Завтра тебе дадут задание исследовать зависимость пенсионеров, что будешь делать) \n",
    "    \n",
    "3. Если ты не используешь какой либо код, не стоит его комментировать - просто удали, чтоб он не \"шумел\")\n",
    "    \n",
    "4. Используй метод info(), для отображения общей информации о таблице, это очень удобно)\n",
    "    \n",
    "5. Для замен отрицательных на положительные есть  https://pythonz.net/references/named/abs/    \n"
   ]
  },
  {
   "cell_type": "markdown",
   "metadata": {},
   "source": [
    "<div class=\"alert alert-block alert-info\">\n",
    "<b>КОММЕНТАРИЙ ОТ УЧЕНИКА: </b>\n",
    "Доработал.\n",
    "</div>"
   ]
  },
  {
   "cell_type": "markdown",
   "metadata": {},
   "source": [
    "### Вывод"
   ]
  },
  {
   "cell_type": "markdown",
   "metadata": {},
   "source": [
    "Необходима предобработка. Названия столбцов однотипные, для удобной работы замены не требуют. Входные данные \"сырые\": разнородные('education'), есть пропуски('days_employed', 'total_income'), нулевые значения ('dob_years') и некорректно заполненные ('children', 'days_employed'), часть значений в столбце 'days_employed' (для пенсионеров) вероятно имеет значения трудовой стаж в днях*24, а остальные данные имеют отрицательные значения. Трудовой стаж удобнее анализировать в годах а не в днях. Данные о трудовом стаже собраны в новый столбец 'years_employed' (трудовой стаж в годах), столбец 'days_employed' удалил. В столбце 'children' есть значения \"-1\" (либо клиенты \"должны\" кому-то ребенка (например Prawo niespodzianki как у Сапковского) либо ошибка знака) - заменил на 1 и значения \"20\" (вероятно ошибка порядка) - заменил на 2. Удалил 4 малочисленные группы из 'income_type'."
   ]
  },
  {
   "cell_type": "markdown",
   "metadata": {},
   "source": [
    "<div class=\"alert alert-block alert-success\">\n",
    "<h2>Комментарий от ревьювера V2</h2> \n",
    "\n",
    "Отлично)"
   ]
  },
  {
   "cell_type": "markdown",
   "metadata": {},
   "source": [
    "### Шаг 2. Предобработка данных"
   ]
  },
  {
   "cell_type": "markdown",
   "metadata": {},
   "source": [
    "### Обработка пропусков"
   ]
  },
  {
   "cell_type": "code",
   "execution_count": 4,
   "metadata": {
    "scrolled": true
   },
   "outputs": [],
   "source": [
    "#блок обрабатывает пропуски в 'total_income' и 'years_employed'\n",
    "nan_colomn='total_income'      #переменная задает столбец с пропуском\n",
    "group_colomn='income_type'     #переменная задает столбец по которому будем группировать для поиска медианы\n",
    "y=data.groupby(group_colomn)[nan_colomn].median() #series со значениями медиан по группе\n",
    "\n",
    "def median_groupby(row):       #функция получает строку\n",
    "    try:\n",
    "        x=row[group_colomn]    #выдергиваем значение столбца группировки в строке\n",
    "        z=y[x]                 #получаю значение медианы из series для нужной группы\n",
    "        return z               #возвращает значение медианы для нужной группы\n",
    "    except:\n",
    "        return 'error z'\n",
    "\n",
    "#Заполняю 'total_income' медианой соответствующей возрастной группы\n",
    "data[nan_colomn]=data[nan_colomn].fillna(data.apply(median_groupby, axis=1))  \n",
    "\n",
    "#Заполняю 'years_employed' медианой соответствующего типа занятости\n",
    "nan_colomn='years_employed'    #переменная задает столбец с пропуском\n",
    "group_colomn='dob_years'       #переменная задает столбец по которому будем группировать для поиска медианы\n",
    "y=data.groupby(group_colomn)[nan_colomn].median() #series со значениями медиан по группе\n",
    "data[nan_colomn]=data[nan_colomn].fillna(data.apply(median_groupby, axis=1))\n",
    "\n"
   ]
  },
  {
   "cell_type": "markdown",
   "metadata": {},
   "source": [
    "### Вывод"
   ]
  },
  {
   "cell_type": "markdown",
   "metadata": {},
   "source": [
    "Пропуски в столбцах 'days_employed' (трудовой стаж) и 'total_income' (доход в месяц) составляют 10% и носят случайный характер. Значения трудового стажа заполнил медианой соответствующей возрастной группы, значения дохода - медианой соответствующего типа занятости (заполнение медианой соответствующего уровня образования на конечные результаты влияет незначительно)."
   ]
  },
  {
   "cell_type": "markdown",
   "metadata": {},
   "source": [
    "<div class=\"alert alert-block alert-success\">\n",
    "<h2>Комментарий от ревьювера (все здОрово)</h2> \n",
    "    \n",
    "Отличная замена. Использование функций - это очень хорошая практика, пригодится в реальной работе. Тип зароботка - пожалуй, самая правильная категория, молодец)\n",
    "</div>"
   ]
  },
  {
   "cell_type": "markdown",
   "metadata": {},
   "source": [
    "### Замена типа данных"
   ]
  },
  {
   "cell_type": "code",
   "execution_count": 5,
   "metadata": {},
   "outputs": [],
   "source": [
    "#меняю столбец 'years_employed' и 'total_income' на целочисленный методом astype т.к. он более универсальный чем to_numeric\n",
    "data['years_employed']=data['years_employed'].astype('int64') \n",
    "data['total_income']=data['total_income'].astype('int64')"
   ]
  },
  {
   "cell_type": "markdown",
   "metadata": {},
   "source": [
    "### Вывод"
   ]
  },
  {
   "cell_type": "markdown",
   "metadata": {},
   "source": [
    "Стаж и доход перевел в целочисленные значения."
   ]
  },
  {
   "cell_type": "markdown",
   "metadata": {},
   "source": [
    "## Обработка дубликатов"
   ]
  },
  {
   "cell_type": "code",
   "execution_count": 6,
   "metadata": {
    "scrolled": true
   },
   "outputs": [],
   "source": [
    "#привожу данные в столбце 'education' к нижнему регистру\n",
    "data['education']=data['education'].str.lower()\n",
    "\n",
    "data=data.drop_duplicates().reset_index(drop=True) #удаляю дубликаты"
   ]
  },
  {
   "cell_type": "markdown",
   "metadata": {},
   "source": [
    "### Вывод"
   ]
  },
  {
   "cell_type": "markdown",
   "metadata": {},
   "source": [
    "Данные в столбце 'education' записаны разнородно (с использованием ВЕРХНЕГО нижнего и Смешанного регистра). Привел к нижнему регистру. Удалил дубликаты. Частично дубликаты связаны с наличием одинаковых строк с различными вариантами написания в столбце 'education', природа остальных не ясна. "
   ]
  },
  {
   "cell_type": "markdown",
   "metadata": {},
   "source": [
    "<div class=\"alert alert-block alert-warning\">\n",
    "<h2>Комментарий от ревьювера (принимаем к размышлению)</h2> \n",
    "\n",
    "В принципе, верно) Обрати внимание, что у нас в таблице нет уникальный айдишников, либо других идентификационных параметров. Такие дубликаты могут быть случаным совпадением)\n",
    "</div>"
   ]
  },
  {
   "cell_type": "markdown",
   "metadata": {},
   "source": [
    "<div class=\"alert alert-block alert-info\">\n",
    "<b>КОММЕНТАРИЙ ОТ УЧЕНИКА: </b>\n",
    "Согласен. Буду учитывать.\n",
    "</div>"
   ]
  },
  {
   "cell_type": "markdown",
   "metadata": {},
   "source": [
    "### Лемматизация"
   ]
  },
  {
   "cell_type": "code",
   "execution_count": null,
   "metadata": {},
   "outputs": [],
   "source": [
    "#лемматизирую, \"склеиваю\", отбрасываю \\n\n",
    "m=Mystem()\n",
    "\n",
    "data['purpose_lemm']=data['purpose'].apply(m.lemmatize).str.join('').str.strip()\n",
    "\n",
    "print(data['purpose_lemm'].value_counts()) #4 цели: автомобиль, свадьба, недвижимость / жилье, образование"
   ]
  },
  {
   "cell_type": "markdown",
   "metadata": {},
   "source": [
    "### Вывод"
   ]
  },
  {
   "cell_type": "markdown",
   "metadata": {},
   "source": [
    "Данные содержат всего 4 цели получения кредита: автомобиль, свадьба, недвижимость / жилье, образование"
   ]
  },
  {
   "cell_type": "markdown",
   "metadata": {},
   "source": [
    "<div class=\"alert alert-block alert-success\">\n",
    "<h2>Комментарий от ревьювера (все здОрово)</h2> \n",
    "    \n",
    "Молодец, очень элегантное решение. Самая сложная часть решена на отлично, выше всяких похвал)\n",
    "</div>"
   ]
  },
  {
   "cell_type": "markdown",
   "metadata": {},
   "source": [
    "### Категоризация данных"
   ]
  },
  {
   "cell_type": "code",
   "execution_count": null,
   "metadata": {},
   "outputs": [],
   "source": [
    "#Функция возвращает категорию цели кредита\n",
    "def purpose_groups (row):\n",
    "    if 'автомобиль' in row:\n",
    "        return 'автомобиль'\n",
    "    if 'свадьба' in row:\n",
    "        return 'свадьба'\n",
    "    if 'недвижимость' in row:\n",
    "        return 'недвижимость'\n",
    "    if 'жилье' in row:\n",
    "        return 'недвижимость'\n",
    "    if 'образование' in row:\n",
    "        return 'образование'\n",
    "    return 'УТОЧНИТЬ'\n",
    "\n",
    "data['purpose_group']=data['purpose_lemm'].apply(purpose_groups)\n",
    "\n",
    "data.drop(['purpose'], axis='columns', inplace=True) #удаляю столбец 'purpose'\n",
    "data.drop(['purpose_lemm'], axis='columns', inplace=True) #удаляю столбец 'purpose_lemm'\n",
    "\n",
    "#определяю 25, 50, 75 процентили 'total_income'\n",
    "#quantile25=data['total_income'].quantile(0.25) # -> 107629.0\n",
    "#quantile50=data['total_income'].quantile(0.50) # -> 142594.0\n",
    "#quantile75=data['total_income'].quantile(0.75) # -> 195826.25\n",
    "\n",
    "#Функция возвращает категорию дохода\n",
    "def total_income_groups (x):\n",
    "    try:\n",
    "        if x>200000:\n",
    "            return 'более 200 тыс./мес.'\n",
    "        if x>150000:\n",
    "            return '150-200 тыс./мес.'\n",
    "        if x>100000:\n",
    "            return '100-150 тыс./мес.'\n",
    "        if x<=100000:\n",
    "            return 'менее 100 тыс./мес.'\n",
    "    except:\n",
    "        return 'ERROR'\n",
    "\n",
    "#добавляем столбец с уровнем дохода\n",
    "data['income_group']=data['total_income'].apply(total_income_groups)"
   ]
  },
  {
   "cell_type": "markdown",
   "metadata": {},
   "source": [
    "### Вывод"
   ]
  },
  {
   "cell_type": "markdown",
   "metadata": {},
   "source": [
    "Добавил столбец 'purpose_group' - категория цели кредита. Разбил заемщиков на 4 категории по уровню дохода, добавил категорию в столбец 'income_group'."
   ]
  },
  {
   "cell_type": "markdown",
   "metadata": {},
   "source": [
    "<div class=\"alert alert-block alert-success\">\n",
    "<h2>Комментарий от ревьювера (все здОрово)</h2> \n",
    "    \n",
    "Класс- категоризация - супер)\n",
    "</div>"
   ]
  },
  {
   "cell_type": "markdown",
   "metadata": {},
   "source": [
    "<div class=\"alert alert-block alert-warning\">\n",
    "<h2>Комментарий от ревьювера (принимаем к размышлению)</h2> \n",
    "\n",
    "Замечательная часть - все верно, расчеты проведены на высоком уровне, только старайся значения не хардкорить. Ты прописываешь цифры напрямую, и если поменять датасет, код придется переписывать. Но если использовать квантили в самой функции - то это автоматизирует процесс, можно будет не переписывать код при замене данных)\n",
    "</div>"
   ]
  },
  {
   "cell_type": "markdown",
   "metadata": {},
   "source": [
    "<div class=\"alert alert-block alert-info\">\n",
    "<b>КОММЕНТАРИЙ ОТ УЧЕНИКА: </b>\n",
    "Изначально разделял на 4 группы по квантилям, но в этом случае надо вводить \"относительные\" категории дахода (низкий, ниже среднего, выше среднего, высокий) и при оценке дохода потенциального заемщика относить его к одной из этих категорий.\n",
    "    Выбрал категоризацию в абсолютных значениях а не в относительных.\n",
    "</div>"
   ]
  },
  {
   "cell_type": "markdown",
   "metadata": {},
   "source": [
    "<div class=\"alert alert-block alert-success\">\n",
    "<h2>Комментарий от ревьювера V2</h2> \n",
    "\n",
    "Точно)"
   ]
  },
  {
   "cell_type": "markdown",
   "metadata": {},
   "source": [
    "### Шаг 3. Ответьте на вопросы"
   ]
  },
  {
   "cell_type": "markdown",
   "metadata": {},
   "source": [
    "- Есть ли зависимость между наличием детей и возвратом кредита в срок?"
   ]
  },
  {
   "cell_type": "code",
   "execution_count": null,
   "metadata": {},
   "outputs": [],
   "source": [
    "#средний % должников\n",
    "debtall=data['debt'].sum()/data['debt'].count()\n",
    "print('% должников по всему датасету: {:.2%}'.format(debtall))\n",
    "\n",
    "#% должников среди бездетных\n",
    "debtchildfree=data[data['children']==0]['debt'].sum()/data[data['children']==0]['debt'].count()\n",
    "print('% должников среди бездетных: {:.2%}'.format(debtchildfree))\n",
    "\n",
    "#средний % должников среди заемщиков с детьми\n",
    "debtchild=data[data['children']!=0]['debt'].sum()/data[data['children']!=0]['debt'].count()\n",
    "print('% должников среди заемщиков с детьми: {:.2%}'.format(debtchild))\n",
    "print()\n",
    "\n",
    "#% должников в зависимости от количества детей\n",
    "print('% должников в зависимости от количества детей:')\n",
    "childrendebt=data.groupby('children')['debt'].agg(['sum', 'count'])\n",
    "childrendebt['debt%']=childrendebt['sum']/childrendebt['count']*100\n",
    "print(childrendebt)\n"
   ]
  },
  {
   "cell_type": "markdown",
   "metadata": {},
   "source": [
    "### Вывод"
   ]
  },
  {
   "cell_type": "markdown",
   "metadata": {},
   "source": [
    "Наличие детей (вне зависимости от их количества) увеличивает вероятность возникновения задолженности по кредиту. "
   ]
  },
  {
   "cell_type": "markdown",
   "metadata": {},
   "source": [
    "- Есть ли зависимость между семейным положением и возвратом кредита в срок?"
   ]
  },
  {
   "cell_type": "code",
   "execution_count": null,
   "metadata": {},
   "outputs": [],
   "source": [
    "#% должников в зависимости от семейного положения\n",
    "print('% должников в зависимости от семейного положения:')\n",
    "familydebt=data.groupby('family_status')['debt'].agg(['sum', 'count'])\n",
    "familydebt['debt%']=familydebt['sum']/familydebt['count']*100\n",
    "print(familydebt.sort_values(by='debt%'))"
   ]
  },
  {
   "cell_type": "markdown",
   "metadata": {},
   "source": [
    "### Вывод"
   ]
  },
  {
   "cell_type": "markdown",
   "metadata": {},
   "source": [
    "Наиболее добросовестные заемщики - бывшие ранее в браке и находящиеся сейчас в официальном браке. Риск невозврата кредита для холостых, а также заемщиков с неоформленными супружескими отношениями возрастает."
   ]
  },
  {
   "cell_type": "markdown",
   "metadata": {},
   "source": [
    "- Есть ли зависимость между уровнем дохода и возвратом кредита в срок?"
   ]
  },
  {
   "cell_type": "code",
   "execution_count": null,
   "metadata": {},
   "outputs": [],
   "source": [
    "#% должников в зависимости от уровня дохода\n",
    "print('% должников в зависимости от уровня дохода:')\n",
    "incomedebt=data.groupby('income_group')['debt'].agg(['sum', 'count'])\n",
    "incomedebt['debt%']=incomedebt['sum']/incomedebt['count']*100\n",
    "print(incomedebt.sort_values(by='debt%'))"
   ]
  },
  {
   "cell_type": "markdown",
   "metadata": {},
   "source": [
    "### Вывод"
   ]
  },
  {
   "cell_type": "markdown",
   "metadata": {},
   "source": [
    "Наиболее дисциплинированы заемщики с доходом свыше 200 тыс./мес., а также категория с доходом менее 100 тыс./мес (возможно связано с меньшим размером кредита). Риск невозврата для средних категорий возрастает."
   ]
  },
  {
   "cell_type": "markdown",
   "metadata": {},
   "source": [
    "- Как разные цели кредита влияют на его возврат в срок?"
   ]
  },
  {
   "cell_type": "code",
   "execution_count": null,
   "metadata": {},
   "outputs": [],
   "source": [
    "#% должников в зависимости от цели кредита\n",
    "print('% должников в зависимости от цели кредита:')\n",
    "purposedebt=data.groupby('purpose_group')['debt'].agg(['sum', 'count'])\n",
    "purposedebt['debt%']=purposedebt['sum']/purposedebt['count']*100\n",
    "print(purposedebt.sort_values(by='debt%'))"
   ]
  },
  {
   "cell_type": "markdown",
   "metadata": {},
   "source": [
    "### Вывод"
   ]
  },
  {
   "cell_type": "markdown",
   "metadata": {},
   "source": [
    "Наименьший риск в категории кредитов на недвижимость, наибольший у автокредитов и кредитов на образование."
   ]
  },
  {
   "cell_type": "markdown",
   "metadata": {},
   "source": [
    "<div class=\"alert alert-block alert-danger\">\n",
    "<h2>Комментарий от ревьювера (недочет, который нужно доработать)</h2> \n",
    "    \n",
    "Супер, ты прекрасно освоил группировки и сложные расчеты) Хочу обратить внимание на очень лаконичные выводы, замечательные рассуждения, грамотный код)\n",
    "    \n",
    "Я обратил внимание, что в своем исследовании ты не используешь сводные таблицы. А это очень важный и популярный инструмент, без которого в реальной работе просто никуда) Давай исследуем зависимости при помощи сводных таблиц. Пускай в индексах у нас будет категория, а в столбцах - число заемщиков в данной категории, число должников и процент должников. Не посчитай это придиркой, но мн важно видеть, что ты освоил сводные таблицы,дальше без них ну никак)\n",
    "</div>"
   ]
  },
  {
   "cell_type": "markdown",
   "metadata": {},
   "source": [
    "<div class=\"alert alert-block alert-info\">\n",
    "<b>КОММЕНТАРИЙ ОТ УЧЕНИКА: </b>\n",
    "Спасибо. Теоретическая часть не дала полного представления о возможностях сводных таблиц - поэтому не было понимания как их использовать в исследовании. Применил ниже.\n",
    "</div>"
   ]
  },
  {
   "cell_type": "code",
   "execution_count": null,
   "metadata": {
    "scrolled": true
   },
   "outputs": [],
   "source": [
    "data_pivot=data.pivot_table(index = ['family_status'], columns= 'gender', values= 'debt', aggfunc=['count', 'sum', 'mean'])\n",
    "print(data_pivot)\n",
    "print()\n",
    "data_pivot2=data.pivot_table(index = ['income_type'], values= 'debt', aggfunc=['count', 'sum', 'mean'])\n",
    "print(data_pivot2)"
   ]
  },
  {
   "cell_type": "markdown",
   "metadata": {},
   "source": [
    "<div class=\"alert alert-block alert-success\">\n",
    "<h2>Комментарий от ревьювера V2</h2> \n",
    "\n",
    "Шикарно)"
   ]
  },
  {
   "cell_type": "markdown",
   "metadata": {},
   "source": [
    "### Вывод"
   ]
  },
  {
   "cell_type": "markdown",
   "metadata": {},
   "source": [
    "Риски по группам с различным семейным положением значительно отличаются в зависимости от пола заемщика. Это необходимо учитывать."
   ]
  },
  {
   "cell_type": "markdown",
   "metadata": {},
   "source": [
    "### Шаг 4. Общий вывод"
   ]
  },
  {
   "cell_type": "markdown",
   "metadata": {},
   "source": [
    "Исследование показало что статистика о платежеспособности клиентов может быть использована для построения модели кредитного скоринга. \n",
    "_____\n",
    "Информация о заемщике влияет на риски в следующем по значимости порядке: \n",
    "\n",
    "* ##### семейное положение\n",
    "Наиболее добросовестные заемщики - бывшие ранее в браке и находящиеся сейчас в официальном браке. Риск невозврата кредита для холостых, а также заемщиков с неоформленными супружескими отношениями возрастает.\n",
    "* ##### наличие детей\n",
    "Наличие детей (вне зависимости от их количества) увеличивает вероятность возникновения задолженности по кредиту.\n",
    "* ##### цель получения кредита\n",
    "Наименьший риск в категории кредитов на недвижимость, наибольший у автокредитов и кредитов на образование.\n",
    "* ##### уровень дохода \n",
    "Наиболее дисциплинированы заемщики с доходом свыше 200 тыс./мес., а также категория с доходом менее 100 тыс./мес (возможно связано с меньшим размером кредита). Риск невозврата для средних категорий возрастает.\n",
    "\n",
    "Также необходимо принимать во внимание прочую информацию о клиенте (к примеру статистика по группам значительно отличается для мужчин и для женщин)."
   ]
  },
  {
   "cell_type": "markdown",
   "metadata": {},
   "source": [
    "<div class=\"alert alert-block alert-warning\">\n",
    "<h2>Комментарий от ревьювера (принимаем к размышлению)</h2> \n",
    "\n",
    "Старайся делать более развернутые выводы, заказчики очень большой упор делают на финальный вывод, и хотят видеть в ней ну прям всю информацию)\n",
    "</div>"
   ]
  },
  {
   "cell_type": "markdown",
   "metadata": {},
   "source": [
    "<div class=\"alert alert-block alert-info\">\n",
    "<b>КОММЕНТАРИЙ ОТ УЧЕНИКА: </b>\n",
    "поправил, спасибо.\n",
    "</div>"
   ]
  },
  {
   "cell_type": "markdown",
   "metadata": {},
   "source": [
    "## <span style=\"color:magenta\">В заключении)</span>\n",
    "\n",
    "Мне очень понравилась твоя работа! Все рассуждения верные. Очень логичные и осмысленные. Ничего лишнего, все по полкам. \n",
    "\n",
    "Ты показываешь хорошее владение всем изучаемым в модуле материалом. Уверенно пользуешься pandas, строишь отличные наглядные таблички. Делаешь четкие обоснованные выводы.\n",
    "\n",
    "Поисправляй недочеты (оформление, предобработка и сводные таблицы), и проект будет просто класс!\n",
    "\n",
    "Короче, молодец! Жду твоих исправлений)\n",
    "\n",
    "<img src=\"https://avatars.mds.yandex.net/get-pdb/2402172/12f53009-3c0e-4655-87c6-606d139bbf8e/s1200?webp=false\" width=\"300\">"
   ]
  },
  {
   "cell_type": "markdown",
   "metadata": {},
   "source": [
    "### Чек-лист готовности проекта\n",
    "\n",
    "Поставьте 'x' в выполненных пунктах. Далее нажмите Shift+Enter."
   ]
  },
  {
   "cell_type": "markdown",
   "metadata": {},
   "source": [
    "- [x]  открыт файл;\n",
    "- [x]  файл изучен;\n",
    "- [x]  определены пропущенные значения;\n",
    "- [x]  заполнены пропущенные значения;\n",
    "- [x]  есть пояснение, какие пропущенные значения обнаружены;\n",
    "- [x]  описаны возможные причины появления пропусков в данных;\n",
    "- [x]  объяснено, по какому принципу заполнены пропуски;\n",
    "- [x]  заменен вещественный тип данных на целочисленный;\n",
    "- [x]  есть пояснение, какой метод используется для изменения типа данных и почему;\n",
    "- [x]  удалены дубликаты;\n",
    "- [x]  есть пояснение, какой метод используется для поиска и удаления дубликатов;\n",
    "- [x]  описаны возможные причины появления дубликатов в данных;\n",
    "- [x]  выделены леммы в значениях столбца с целями получения кредита;\n",
    "- [x]  описан процесс лемматизации;\n",
    "- [x]  данные категоризированы;\n",
    "- [x]  есть объяснение принципа категоризации данных;\n",
    "- [x]  есть ответ на вопрос: \"Есть ли зависимость между наличием детей и возвратом кредита в срок?\";\n",
    "- [x]  есть ответ на вопрос: \"Есть ли зависимость между семейным положением и возвратом кредита в срок?\";\n",
    "- [x]  есть ответ на вопрос: \"Есть ли зависимость между уровнем дохода и возвратом кредита в срок?\";\n",
    "- [x]  есть ответ на вопрос: \"Как разные цели кредита влияют на его возврат в срок?\";\n",
    "- [x]  в каждом этапе есть выводы;\n",
    "- [x]  есть общий вывод."
   ]
  }
 ],
 "metadata": {
  "kernelspec": {
   "display_name": "Python 3",
   "language": "python",
   "name": "python3"
  },
  "language_info": {
   "codemirror_mode": {
    "name": "ipython",
    "version": 3
   },
   "file_extension": ".py",
   "mimetype": "text/x-python",
   "name": "python",
   "nbconvert_exporter": "python",
   "pygments_lexer": "ipython3",
   "version": "3.8.5"
  },
  "toc": {
   "base_numbering": "1",
   "nav_menu": {
    "height": "777px",
    "width": "623px"
   },
   "number_sections": true,
   "sideBar": true,
   "skip_h1_title": true,
   "title_cell": "Table of Contents",
   "title_sidebar": "Contents",
   "toc_cell": false,
   "toc_position": {},
   "toc_section_display": true,
   "toc_window_display": true
  }
 },
 "nbformat": 4,
 "nbformat_minor": 2
}
