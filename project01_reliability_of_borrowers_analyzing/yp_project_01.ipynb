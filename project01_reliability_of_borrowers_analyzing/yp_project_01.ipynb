{
 "cells": [
  {
   "cell_type": "markdown",
   "metadata": {},
   "source": [
    "|  |  |  |\n",
    "| ---: | :--- | :--- |\n",
    "| Курс:| Предобработка данных | 01 |\n",
    "| Срок обучения на момент сдачи: | 2 недели |\n",
    "\n",
    "\n",
    "# Исследование надёжности заёмщиков"
   ]
  },
  {
   "cell_type": "markdown",
   "metadata": {},
   "source": [
    "Заказчик — кредитный отдел банка. Нужно разобраться, влияет ли семейное положение и количество детей клиента на факт погашения кредита в срок. Входные данные от банка — статистика о платёжеспособности клиентов.\n",
    "\n",
    "Результаты исследования будут учтены при построении модели **кредитного скоринга** — специальной системы, которая оценивает способность потенциального заёмщика вернуть кредит банку."
   ]
  },
  {
   "cell_type": "markdown",
   "metadata": {},
   "source": [
    "# Содержание/план"
   ]
  },
  {
   "cell_type": "markdown",
   "metadata": {},
   "source": [
    "1  [Вводные данные и постановка задачи](#1)\n",
    "\n",
    "2  [Импорт библиотек, загрузка данных, изучение данных](#2)\n",
    "\n",
    "3  [Предобработка данных](#3)\n",
    "\n",
    "* 3.1  [Устранение ошибок](#31)\n",
    "* 3.2  [Обработка пропусков](#32)\n",
    "* 3.3  [Замена типа данных](#33)\n",
    "* 3.4  [Обработка дубликатов](#34)\n",
    "\n",
    "4  [Лемматизация целей кредита](#4)\n",
    "\n",
    "5  [Категоризация данных](#5)\n",
    "\n",
    "6  [Ответы на вопросы задачи](#6)\n",
    "\n",
    "7  [Общий вывод](#7)"
   ]
  },
  {
   "cell_type": "markdown",
   "metadata": {},
   "source": [
    "<a name=\"1\"></a>\n",
    "## Вводные данные и постановка задачи"
   ]
  },
  {
   "cell_type": "markdown",
   "metadata": {},
   "source": [
    "Описание данных:\n",
    "*    children — количество детей в семье\n",
    "*    days_employed — общий трудовой стаж в днях\n",
    "*    dob_years — возраст клиента в годах\n",
    "*    education — уровень образования клиента\n",
    "*    education_id — идентификатор уровня образования\n",
    "*    family_status — семейное положение\n",
    "*    family_status_id — идентификатор семейного положения\n",
    "*    gender — пол клиента\n",
    "*    income_type — тип занятости\n",
    "*    debt — имел ли задолженность по возврату кредитов\n",
    "*    total_income — ежемесячный доход\n",
    "*    purpose — цель получения кредита"
   ]
  },
  {
   "cell_type": "markdown",
   "metadata": {},
   "source": [
    "Ответьте на вопросы:\n",
    "\n",
    "*   Есть ли зависимость между наличием детей и возвратом кредита в срок?\n",
    "*   Есть ли зависимость между семейным положением и возвратом кредита в срок?\n",
    "*   Есть ли зависимость между уровнем дохода и возвратом кредита в срок?\n",
    "*   Как разные цели кредита влияют на его возврат в срок?"
   ]
  },
  {
   "cell_type": "markdown",
   "metadata": {},
   "source": [
    "<a name=\"2\"></a>\n",
    "## Импорт библиотек, загрузка данных, изучение данных "
   ]
  },
  {
   "cell_type": "code",
   "execution_count": 1,
   "metadata": {},
   "outputs": [],
   "source": [
    "#pip install jupyter_contrib_nbextensions #для включения навигации\n",
    "#pip install autopep8 #для включения автопроверки соответствия кода pep8"
   ]
  },
  {
   "cell_type": "code",
   "execution_count": 2,
   "metadata": {},
   "outputs": [],
   "source": [
    "import pandas as pd\n",
    "from IPython.display import display\n",
    "from pymystem3 import Mystem"
   ]
  },
  {
   "cell_type": "code",
   "execution_count": 3,
   "metadata": {},
   "outputs": [],
   "source": [
    "data=pd.read_csv('/datasets/data.csv')"
   ]
  },
  {
   "cell_type": "code",
   "execution_count": 4,
   "metadata": {
    "scrolled": true
   },
   "outputs": [
    {
     "name": "stdout",
     "output_type": "stream",
     "text": [
      "<class 'pandas.core.frame.DataFrame'>\n",
      "RangeIndex: 21525 entries, 0 to 21524\n",
      "Data columns (total 12 columns):\n",
      "children            21525 non-null int64\n",
      "days_employed       19351 non-null float64\n",
      "dob_years           21525 non-null int64\n",
      "education           21525 non-null object\n",
      "education_id        21525 non-null int64\n",
      "family_status       21525 non-null object\n",
      "family_status_id    21525 non-null int64\n",
      "gender              21525 non-null object\n",
      "income_type         21525 non-null object\n",
      "debt                21525 non-null int64\n",
      "total_income        19351 non-null float64\n",
      "purpose             21525 non-null object\n",
      "dtypes: float64(2), int64(5), object(5)\n",
      "memory usage: 2.0+ MB\n"
     ]
    },
    {
     "data": {
      "text/html": [
       "<div>\n",
       "<style scoped>\n",
       "    .dataframe tbody tr th:only-of-type {\n",
       "        vertical-align: middle;\n",
       "    }\n",
       "\n",
       "    .dataframe tbody tr th {\n",
       "        vertical-align: top;\n",
       "    }\n",
       "\n",
       "    .dataframe thead th {\n",
       "        text-align: right;\n",
       "    }\n",
       "</style>\n",
       "<table border=\"1\" class=\"dataframe\">\n",
       "  <thead>\n",
       "    <tr style=\"text-align: right;\">\n",
       "      <th></th>\n",
       "      <th>children</th>\n",
       "      <th>days_employed</th>\n",
       "      <th>dob_years</th>\n",
       "      <th>education</th>\n",
       "      <th>education_id</th>\n",
       "      <th>family_status</th>\n",
       "      <th>family_status_id</th>\n",
       "      <th>gender</th>\n",
       "      <th>income_type</th>\n",
       "      <th>debt</th>\n",
       "      <th>total_income</th>\n",
       "      <th>purpose</th>\n",
       "    </tr>\n",
       "  </thead>\n",
       "  <tbody>\n",
       "    <tr>\n",
       "      <td>0</td>\n",
       "      <td>1</td>\n",
       "      <td>-8437.673028</td>\n",
       "      <td>42</td>\n",
       "      <td>высшее</td>\n",
       "      <td>0</td>\n",
       "      <td>женат / замужем</td>\n",
       "      <td>0</td>\n",
       "      <td>F</td>\n",
       "      <td>сотрудник</td>\n",
       "      <td>0</td>\n",
       "      <td>253875.639453</td>\n",
       "      <td>покупка жилья</td>\n",
       "    </tr>\n",
       "    <tr>\n",
       "      <td>1</td>\n",
       "      <td>1</td>\n",
       "      <td>-4024.803754</td>\n",
       "      <td>36</td>\n",
       "      <td>среднее</td>\n",
       "      <td>1</td>\n",
       "      <td>женат / замужем</td>\n",
       "      <td>0</td>\n",
       "      <td>F</td>\n",
       "      <td>сотрудник</td>\n",
       "      <td>0</td>\n",
       "      <td>112080.014102</td>\n",
       "      <td>приобретение автомобиля</td>\n",
       "    </tr>\n",
       "    <tr>\n",
       "      <td>2</td>\n",
       "      <td>0</td>\n",
       "      <td>-5623.422610</td>\n",
       "      <td>33</td>\n",
       "      <td>Среднее</td>\n",
       "      <td>1</td>\n",
       "      <td>женат / замужем</td>\n",
       "      <td>0</td>\n",
       "      <td>M</td>\n",
       "      <td>сотрудник</td>\n",
       "      <td>0</td>\n",
       "      <td>145885.952297</td>\n",
       "      <td>покупка жилья</td>\n",
       "    </tr>\n",
       "    <tr>\n",
       "      <td>3</td>\n",
       "      <td>3</td>\n",
       "      <td>-4124.747207</td>\n",
       "      <td>32</td>\n",
       "      <td>среднее</td>\n",
       "      <td>1</td>\n",
       "      <td>женат / замужем</td>\n",
       "      <td>0</td>\n",
       "      <td>M</td>\n",
       "      <td>сотрудник</td>\n",
       "      <td>0</td>\n",
       "      <td>267628.550329</td>\n",
       "      <td>дополнительное образование</td>\n",
       "    </tr>\n",
       "    <tr>\n",
       "      <td>4</td>\n",
       "      <td>0</td>\n",
       "      <td>340266.072047</td>\n",
       "      <td>53</td>\n",
       "      <td>среднее</td>\n",
       "      <td>1</td>\n",
       "      <td>гражданский брак</td>\n",
       "      <td>1</td>\n",
       "      <td>F</td>\n",
       "      <td>пенсионер</td>\n",
       "      <td>0</td>\n",
       "      <td>158616.077870</td>\n",
       "      <td>сыграть свадьбу</td>\n",
       "    </tr>\n",
       "  </tbody>\n",
       "</table>\n",
       "</div>"
      ],
      "text/plain": [
       "   children  days_employed  dob_years education  education_id  \\\n",
       "0         1   -8437.673028         42    высшее             0   \n",
       "1         1   -4024.803754         36   среднее             1   \n",
       "2         0   -5623.422610         33   Среднее             1   \n",
       "3         3   -4124.747207         32   среднее             1   \n",
       "4         0  340266.072047         53   среднее             1   \n",
       "\n",
       "      family_status  family_status_id gender income_type  debt   total_income  \\\n",
       "0   женат / замужем                 0      F   сотрудник     0  253875.639453   \n",
       "1   женат / замужем                 0      F   сотрудник     0  112080.014102   \n",
       "2   женат / замужем                 0      M   сотрудник     0  145885.952297   \n",
       "3   женат / замужем                 0      M   сотрудник     0  267628.550329   \n",
       "4  гражданский брак                 1      F   пенсионер     0  158616.077870   \n",
       "\n",
       "                      purpose  \n",
       "0               покупка жилья  \n",
       "1     приобретение автомобиля  \n",
       "2               покупка жилья  \n",
       "3  дополнительное образование  \n",
       "4             сыграть свадьбу  "
      ]
     },
     "metadata": {},
     "output_type": "display_data"
    },
    {
     "name": "stdout",
     "output_type": "stream",
     "text": [
      "           children  days_employed     dob_years  education_id  \\\n",
      "count  21525.000000   19351.000000  21525.000000  21525.000000   \n",
      "mean       0.538908   63046.497661     43.293380      0.817236   \n",
      "std        1.381587  140827.311974     12.574584      0.548138   \n",
      "min       -1.000000  -18388.949901      0.000000      0.000000   \n",
      "25%        0.000000   -2747.423625     33.000000      1.000000   \n",
      "50%        0.000000   -1203.369529     42.000000      1.000000   \n",
      "75%        1.000000    -291.095954     53.000000      1.000000   \n",
      "max       20.000000  401755.400475     75.000000      4.000000   \n",
      "\n",
      "       family_status_id          debt  total_income  \n",
      "count      21525.000000  21525.000000  1.935100e+04  \n",
      "mean           0.972544      0.080883  1.674223e+05  \n",
      "std            1.420324      0.272661  1.029716e+05  \n",
      "min            0.000000      0.000000  2.066726e+04  \n",
      "25%            0.000000      0.000000  1.030532e+05  \n",
      "50%            0.000000      0.000000  1.450179e+05  \n",
      "75%            1.000000      0.000000  2.034351e+05  \n",
      "max            4.000000      1.000000  2.265604e+06  \n",
      "\n",
      "children\n",
      " 0     14149\n",
      " 1      4818\n",
      " 2      2055\n",
      " 3       330\n",
      " 20       76\n",
      "-1        47\n",
      " 4        41\n",
      " 5         9\n",
      "Name: children, dtype: int64\n",
      "\n",
      "dob_years\n",
      "35    617\n",
      "40    609\n",
      "41    607\n",
      "34    603\n",
      "38    598\n",
      "42    597\n",
      "33    581\n",
      "39    573\n",
      "31    560\n",
      "36    555\n",
      "44    547\n",
      "29    545\n",
      "30    540\n",
      "48    538\n",
      "37    537\n",
      "50    514\n",
      "43    513\n",
      "32    510\n",
      "49    508\n",
      "28    503\n",
      "45    497\n",
      "27    493\n",
      "56    487\n",
      "52    484\n",
      "47    480\n",
      "54    479\n",
      "46    475\n",
      "58    461\n",
      "57    460\n",
      "53    459\n",
      "51    448\n",
      "59    444\n",
      "55    443\n",
      "26    408\n",
      "60    377\n",
      "25    357\n",
      "61    355\n",
      "62    352\n",
      "63    269\n",
      "64    265\n",
      "24    264\n",
      "23    254\n",
      "65    194\n",
      "66    183\n",
      "22    183\n",
      "67    167\n",
      "21    111\n",
      "0     101\n",
      "68     99\n",
      "69     85\n",
      "70     65\n",
      "71     58\n",
      "20     51\n",
      "72     33\n",
      "19     14\n",
      "73      8\n",
      "74      6\n",
      "75      1\n",
      "Name: dob_years, dtype: int64\n",
      "\n",
      "education\n",
      "среднее                13750\n",
      "высшее                  4718\n",
      "СРЕДНЕЕ                  772\n",
      "Среднее                  711\n",
      "неоконченное высшее      668\n",
      "ВЫСШЕЕ                   274\n",
      "Высшее                   268\n",
      "начальное                250\n",
      "Неоконченное высшее       47\n",
      "НЕОКОНЧЕННОЕ ВЫСШЕЕ       29\n",
      "НАЧАЛЬНОЕ                 17\n",
      "Начальное                 15\n",
      "ученая степень             4\n",
      "Ученая степень             1\n",
      "УЧЕНАЯ СТЕПЕНЬ             1\n",
      "Name: education, dtype: int64\n",
      "\n",
      "family_status\n",
      "женат / замужем          12380\n",
      "гражданский брак          4177\n",
      "Не женат / не замужем     2813\n",
      "в разводе                 1195\n",
      "вдовец / вдова             960\n",
      "Name: family_status, dtype: int64\n",
      "\n",
      "gender\n",
      "F      14236\n",
      "M       7288\n",
      "XNA        1\n",
      "Name: gender, dtype: int64\n",
      "\n",
      "income_type\n",
      "сотрудник          11119\n",
      "компаньон           5085\n",
      "пенсионер           3856\n",
      "госслужащий         1459\n",
      "безработный            2\n",
      "предприниматель        2\n",
      "студент                1\n",
      "в декрете              1\n",
      "Name: income_type, dtype: int64\n",
      "\n",
      "purpose\n",
      "свадьба                                   797\n",
      "на проведение свадьбы                     777\n",
      "сыграть свадьбу                           774\n",
      "операции с недвижимостью                  676\n",
      "покупка коммерческой недвижимости         664\n",
      "операции с жильем                         653\n",
      "покупка жилья для сдачи                   653\n",
      "операции с коммерческой недвижимостью     651\n",
      "жилье                                     647\n",
      "покупка жилья                             647\n",
      "покупка жилья для семьи                   641\n",
      "строительство собственной недвижимости    635\n",
      "недвижимость                              634\n",
      "операции со своей недвижимостью           630\n",
      "строительство жилой недвижимости          626\n",
      "покупка недвижимости                      624\n",
      "строительство недвижимости                620\n",
      "покупка своего жилья                      620\n",
      "ремонт жилью                              612\n",
      "покупка жилой недвижимости                607\n",
      "на покупку своего автомобиля              505\n",
      "заняться высшим образованием              496\n",
      "автомобиль                                495\n",
      "сделка с подержанным автомобилем          489\n",
      "свой автомобиль                           480\n",
      "на покупку подержанного автомобиля        479\n",
      "автомобили                                478\n",
      "на покупку автомобиля                     472\n",
      "дополнительное образование                462\n",
      "приобретение автомобиля                   462\n",
      "сделка с автомобилем                      455\n",
      "высшее образование                        453\n",
      "получение дополнительного образования     447\n",
      "образование                               447\n",
      "получение образования                     443\n",
      "профильное образование                    436\n",
      "получение высшего образования             426\n",
      "заняться образованием                     412\n",
      "Name: purpose, dtype: int64\n",
      "\n",
      "количество отрицательных значений days_employed: 15906\n",
      "\n",
      "количество нулевых значений возраста: 101\n"
     ]
    }
   ],
   "source": [
    "data.info()\n",
    "\n",
    "display(data.head(5))\n",
    "\n",
    "print(data.describe())\n",
    "print()\n",
    "\n",
    "for col in ['children', 'dob_years', 'education', 'family_status', 'gender', 'income_type', 'purpose']:\n",
    "    print(col)\n",
    "    print(data[col].value_counts())\n",
    "    print()\n",
    "\n",
    "print('количество отрицательных значений days_employed:', len(data[data['days_employed']<0]))\n",
    "print()\n",
    "\n",
    "print('количество нулевых значений возраста:', data[data['dob_years'] == 0]['dob_years'].count())"
   ]
  },
  {
   "cell_type": "markdown",
   "metadata": {},
   "source": [
    "**Вывод по данным:**\n",
    "\n",
    "Необходима предобработка. Названия столбцов однотипные, для удобной работы замены не требуют. \n",
    "\n",
    "Входные данные \"сырые\": \n",
    "* Часть значений в столбце 'days_employed' (для пенсионеров) вероятно имеет значения трудовой стаж в днях*24, а остальные данные имеют отрицательные значения.Трудовой стаж удобнее анализировать в годах.\n",
    "* В столбце 'children' есть значения \"-1\" (вероятно ошибка знака) и значения \"20\" (вероятно ошибка порядка).\n",
    "* Значение XNA в 'gender' встречается 1 раз.\n",
    "* Есть малочисленные группы в 'income_type' (6 значений).\n",
    "* В 'education' разный регистр.\n",
    "* Есть пропуски ('days_employed', 'total_income').\n",
    "* Есть ошибочные нулевые значения ('dob_years').\n",
    "\n",
    "Данные о трудовом стаже собраны в новый столбец 'years_employed' (трудовой стаж в годах), столбец 'days_employed' удалил. . Удалил 4 малочисленные группы из 'income_type'."
   ]
  },
  {
   "cell_type": "markdown",
   "metadata": {},
   "source": [
    "<a name=\"3\"></a>\n",
    "## Предобработка данных"
   ]
  },
  {
   "cell_type": "markdown",
   "metadata": {},
   "source": [
    "<a name=\"31\"></a>\n",
    "### Устранение ошибок"
   ]
  },
  {
   "cell_type": "code",
   "execution_count": 5,
   "metadata": {},
   "outputs": [],
   "source": [
    "#функция для приведения стажа к единому виду\n",
    "def days_years_employed (days_employed):\n",
    "    '''\n",
    "    принимает значение стажа и возвращает в годах\n",
    "    если значение больше 36500 дней то считаем что оно указано в часах иначе в днях\n",
    "    ''' \n",
    "    if days_employed>36500:\n",
    "        return (days_employed)/(365*24)\n",
    "    return abs(days_employed/(365))"
   ]
  },
  {
   "cell_type": "code",
   "execution_count": 6,
   "metadata": {},
   "outputs": [],
   "source": [
    "#удаляю строки с 0 возрастом (меньше 0,5%)\n",
    "data = data[data['dob_years']!=0] \n",
    "\n",
    "#удаляю малочисленные группы 'income_type'\n",
    "data = data[(data['income_type']!='предприниматель') & (data['income_type']!='безработный') & (\n",
    "    data['income_type']!='студент') & (data['income_type']!='в декрете')]\n",
    "\n",
    "#добавляю столбец со стажем в годах\n",
    "data['years_employed'] = data['days_employed'].apply(days_years_employed)\n",
    "\n",
    "#меняю значение 'children' с -1 на 1 и 20 на 2\n",
    "data['children'] = abs(data['children'])\n",
    "data['children'] = data['children'].replace(20, 2)\n",
    "\n",
    "#удаляю единичное значение 'gender' XNA\n",
    "data=data[data['gender']!='XNA'] \n",
    "\n",
    "#удаляю столбцы 'days_employed', 'education_id', 'family_status_id'\n",
    "data.drop(['days_employed', 'education_id', 'family_status_id'], axis='columns', inplace=True)\n",
    "\n",
    "#привожу данные в столбце 'education' к нижнему регистру\n",
    "data['education']=data['education'].str.lower()"
   ]
  },
  {
   "cell_type": "markdown",
   "metadata": {},
   "source": [
    "<a name=\"32\"></a>\n",
    "### Обработка пропусков"
   ]
  },
  {
   "cell_type": "code",
   "execution_count": 7,
   "metadata": {
    "scrolled": true
   },
   "outputs": [
    {
     "name": "stdout",
     "output_type": "stream",
     "text": [
      "NaN в 10% строк\n"
     ]
    }
   ],
   "source": [
    "nan_years_employed = data[data['years_employed'].isna()==True] #пропуски в years_employed\n",
    "nan_total_income = data[data['total_income'].isna()==True] #пропуски в total_income\n",
    "print('NaN в {:.0%} строк'.format(len(nan_years_employed)/len(data))) "
   ]
  },
  {
   "cell_type": "code",
   "execution_count": 8,
   "metadata": {
    "scrolled": true
   },
   "outputs": [],
   "source": [
    "def median_groupby(row):\n",
    "    '''\n",
    "    функция для заполнения пропусков в столбце медианами по группе \n",
    "    \n",
    "    получает строку, выдергивает значение столбца группировки (group_colomn) \n",
    "    возвращает значение соответствующей ему медианы\n",
    "    \n",
    "    До использования необходимо определить:\n",
    "    nan_col - переменная задает столбец с пропуском\n",
    "    group_col - переменная задает столбец с признаком по которому будем группировать для поиска медианы\n",
    "    median_series - series со значениями медиан по группе\n",
    "    '''\n",
    "    try:\n",
    "        group_col_value = row[group_col]\n",
    "        median_value = median_series[group_col_value]\n",
    "        return median_value\n",
    "    except:\n",
    "        return 'error median_value'\n",
    "\n",
    "#блок обрабатывает пропуски в 'total_income' и 'years_employed'\n",
    "    \n",
    "#Заполняю пропуски в доходах ('total_income') медианой соответствующего типа занятости ('income_type')\n",
    "nan_col = 'total_income' #столбец с пропуском\n",
    "group_col = 'income_type'   #столбец по которому будут сгруппированы данные для поиска медианы\n",
    "median_series = data.groupby(group_col)[nan_col].median() #series со значениями медиан по группе\n",
    "data[nan_col] = data[nan_col].fillna(data.apply(median_groupby, axis=1))  \n",
    "\n",
    "#Заполняю пропуски в стаже 'years_employed' медианой соответствующего возраста\n",
    "nan_col = 'years_employed' #столбец с пропуском\n",
    "group_col = 'dob_years'    #столбец по которому будем группировать для поиска медианы\n",
    "median_series = data.groupby(group_col)[nan_col].median() #series со значениями медиан по группе\n",
    "data[nan_col] = data[nan_col].fillna(data.apply(median_groupby, axis=1))"
   ]
  },
  {
   "cell_type": "markdown",
   "metadata": {},
   "source": [
    "<a name=\"33\"></a>\n",
    "### Замена типа данных"
   ]
  },
  {
   "cell_type": "code",
   "execution_count": 9,
   "metadata": {},
   "outputs": [],
   "source": [
    "#меняю столбец 'years_employed' и 'total_income' на целочисленный\n",
    "data['years_employed'] = data['years_employed'].astype('int64') \n",
    "data['total_income'] = data['total_income'].astype('int64')"
   ]
  },
  {
   "cell_type": "markdown",
   "metadata": {},
   "source": [
    "<a name=\"34\"></a>\n",
    "### Обработка дубликатов"
   ]
  },
  {
   "cell_type": "code",
   "execution_count": 10,
   "metadata": {
    "scrolled": true
   },
   "outputs": [],
   "source": [
    "data = data.drop_duplicates().reset_index(drop=True) #удаляю дубликаты"
   ]
  },
  {
   "cell_type": "markdown",
   "metadata": {},
   "source": [
    "**Вывод:**\n",
    "\n",
    "Данные в столбце 'education' привел к нижнему регистру. \n",
    "\n",
    "Строк с NaN - 10% (возможно данные из другого источника или сбой). Пропущенные значения трудового стажа заполнил медианой соответствующей возрастной группы, значения дохода - медианой соответствующего типа занятости (заполнение медианой соответствующего уровня образования на конечные результаты влияет незначительно).\n",
    "\n",
    "Удалил дубликаты. Частично дубликаты связаны с наличием одинаковых строк с различными вариантами написания в столбце 'education', природа остальных не ясна. Т.к. в данных нет уникальных id заемщиков то среди удаленных дубликатов могли попасться совпадающие для разных людей значения, но такая вероятность крайне мала."
   ]
  },
  {
   "cell_type": "markdown",
   "metadata": {},
   "source": [
    "<a name=\"4\"></a>\n",
    "## Лемматизация целей кредита"
   ]
  },
  {
   "cell_type": "code",
   "execution_count": 11,
   "metadata": {},
   "outputs": [
    {
     "name": "stdout",
     "output_type": "stream",
     "text": [
      "автомобиль                                965\n",
      "свадьба                                   786\n",
      "на проведение свадьба                     763\n",
      "сыграть свадьба                           760\n",
      "операция с недвижимость                   672\n",
      "покупка коммерческий недвижимость         658\n",
      "операция с коммерческий недвижимость      648\n",
      "покупка жилье для сдача                   648\n",
      "операция с жилье                          646\n",
      "покупка жилье                             640\n",
      "жилье                                     640\n",
      "покупка жилье для семья                   637\n",
      "строительство собственный недвижимость    632\n",
      "недвижимость                              629\n",
      "операция со свой недвижимость             627\n",
      "строительство жилой недвижимость          621\n",
      "покупка свой жилье                        619\n",
      "строительство недвижимость                619\n",
      "покупка недвижимость                      617\n",
      "ремонт жилье                              604\n",
      "покупка жилой недвижимость                602\n",
      "на покупка свой автомобиль                502\n",
      "заниматься высокий образование            493\n",
      "сделка с подержанный автомобиль           484\n",
      "на покупка подержать автомобиль           478\n",
      "свой автомобиль                           475\n",
      "на покупка автомобиль                     466\n",
      "приобретение автомобиль                   459\n",
      "дополнительный образование                458\n",
      "сделка с автомобиль                       454\n",
      "высокий образование                       449\n",
      "образование                               444\n",
      "получение дополнительный образование      444\n",
      "получение образование                     441\n",
      "профильный образование                    435\n",
      "получение высокий образование             424\n",
      "заниматься образование                    407\n",
      "Name: purpose_lemm, dtype: int64\n"
     ]
    }
   ],
   "source": [
    "#лемматизирую, \"склеиваю\", отбрасываю \\n\n",
    "m=Mystem()\n",
    "\n",
    "data['purpose_lemm']=data['purpose'].apply(m.lemmatize).str.join('').str.strip()\n",
    "\n",
    "print(data['purpose_lemm'].value_counts()) #4 цели: автомобиль, свадьба, недвижимость / жилье, образование"
   ]
  },
  {
   "cell_type": "markdown",
   "metadata": {},
   "source": [
    "**Вывод**\n",
    "Цели можно разделить на 4 категории: автомобиль, свадьба, недвижимость / жилье, образование"
   ]
  },
  {
   "cell_type": "markdown",
   "metadata": {},
   "source": [
    "<a name=\"5\"></a>\n",
    "## Категоризация данных"
   ]
  },
  {
   "cell_type": "code",
   "execution_count": 12,
   "metadata": {},
   "outputs": [
    {
     "name": "stdout",
     "output_type": "stream",
     "text": [
      "недвижимость    10759\n",
      "автомобиль       4283\n",
      "образование      3995\n",
      "свадьба          2309\n",
      "Name: purpose_group, dtype: int64\n"
     ]
    }
   ],
   "source": [
    "#Функция возвращает категорию цели кредита\n",
    "def purpose_groups (row):\n",
    "    if 'автомобиль' in row:\n",
    "        return 'автомобиль'\n",
    "    if 'свадьба' in row:\n",
    "        return 'свадьба'\n",
    "    if 'недвижимость' in row:\n",
    "        return 'недвижимость'\n",
    "    if 'жилье' in row:\n",
    "        return 'недвижимость'\n",
    "    if 'образование' in row:\n",
    "        return 'образование'\n",
    "    return 'УТОЧНИТЬ'\n",
    "\n",
    "data['purpose_group'] = data['purpose_lemm'].apply(purpose_groups)\n",
    "data.drop(['purpose', 'purpose_lemm'], axis='columns', inplace=True) \n",
    "print(data['purpose_group'].value_counts())"
   ]
  },
  {
   "cell_type": "code",
   "execution_count": 13,
   "metadata": {},
   "outputs": [
    {
     "name": "stdout",
     "output_type": "stream",
     "text": [
      "107663.25 142594.0 195751.75\n"
     ]
    }
   ],
   "source": [
    "#определяю 25, 50, 75 процентили 'total_income'\n",
    "q25 = data['total_income'].quantile(0.25)\n",
    "q50 = data['total_income'].quantile(0.50)\n",
    "q75 = data['total_income'].quantile(0.75)\n",
    "print(q25, q50, q75)"
   ]
  },
  {
   "cell_type": "code",
   "execution_count": 14,
   "metadata": {},
   "outputs": [],
   "source": [
    "#Функция возвращает категорию дохода\n",
    "def total_income_groups (x):\n",
    "    try:\n",
    "        if x>200000:\n",
    "            return 'более 200 тыс./мес.'\n",
    "        if x>150000:\n",
    "            return '150-200 тыс./мес.'\n",
    "        if x>100000:\n",
    "            return '100-150 тыс./мес.'\n",
    "        if x<=100000:\n",
    "            return 'менее 100 тыс./мес.'\n",
    "    except:\n",
    "        return 'ERROR'\n",
    "\n",
    "#добавляем столбец с уровнем дохода\n",
    "data['income_group']=data['total_income'].apply(total_income_groups)"
   ]
  },
  {
   "cell_type": "markdown",
   "metadata": {},
   "source": [
    "**Вывод**\n",
    "* Добавил столбец 'purpose_group' - категория цели кредита. \n",
    "* Разбил заемщиков на 4 категории по уровню дохода (в абсолютных величинах), добавил категорию в столбец 'income_group'."
   ]
  },
  {
   "cell_type": "markdown",
   "metadata": {},
   "source": [
    "<a name=\"6\"></a>\n",
    "## Ответы на вопросы задачи"
   ]
  },
  {
   "cell_type": "markdown",
   "metadata": {},
   "source": [
    "- Есть ли зависимость между наличием детей и возвратом кредита в срок?"
   ]
  },
  {
   "cell_type": "code",
   "execution_count": 15,
   "metadata": {},
   "outputs": [
    {
     "name": "stdout",
     "output_type": "stream",
     "text": [
      "% должников по всему датасету: 8.11%\n",
      "% должников среди бездетных: 7.55%\n",
      "% должников среди заемщиков с детьми: 9.18%\n",
      "\n",
      "% должников в зависимости от количества детей:\n",
      "           sum  count     debt%\n",
      "children                       \n",
      "0         1058  14017  7.547977\n",
      "1          441   4838  9.115337\n",
      "2          201   2113  9.512541\n",
      "3           27    328  8.231707\n",
      "4            4     41  9.756098\n",
      "5            0      9  0.000000\n"
     ]
    }
   ],
   "source": [
    "#средний % должников\n",
    "debtall=data['debt'].sum()/data['debt'].count()\n",
    "print('% должников по всему датасету: {:.2%}'.format(debtall))\n",
    "\n",
    "#% должников среди бездетных\n",
    "debtchildfree=data[data['children']==0]['debt'].sum()/data[data['children']==0]['debt'].count()\n",
    "print('% должников среди бездетных: {:.2%}'.format(debtchildfree))\n",
    "\n",
    "#средний % должников среди заемщиков с детьми\n",
    "debtchild=data[data['children']!=0]['debt'].sum()/data[data['children']!=0]['debt'].count()\n",
    "print('% должников среди заемщиков с детьми: {:.2%}'.format(debtchild))\n",
    "print()\n",
    "\n",
    "#% должников в зависимости от количества детей\n",
    "print('% должников в зависимости от количества детей:')\n",
    "childrendebt=data.groupby('children')['debt'].agg(['sum', 'count'])\n",
    "childrendebt['debt%']=childrendebt['sum']/childrendebt['count']*100\n",
    "print(childrendebt)\n"
   ]
  },
  {
   "cell_type": "markdown",
   "metadata": {},
   "source": [
    "**Вывод:**\n",
    "Наличие детей (вне зависимости от их количества) увеличивает вероятность возникновения задолженности по кредиту. "
   ]
  },
  {
   "cell_type": "markdown",
   "metadata": {},
   "source": [
    "- Есть ли зависимость между семейным положением и возвратом кредита в срок?"
   ]
  },
  {
   "cell_type": "code",
   "execution_count": 16,
   "metadata": {},
   "outputs": [
    {
     "name": "stdout",
     "output_type": "stream",
     "text": [
      "% должников в зависимости от семейного положения:\n",
      "                       sum  count     debt%\n",
      "family_status                              \n",
      "вдовец / вдова          62    954  6.498952\n",
      "в разводе               85   1185  7.172996\n",
      "женат / замужем        925  12287  7.528282\n",
      "гражданский брак       386   4127  9.353041\n",
      "Не женат / не замужем  273   2793  9.774436\n"
     ]
    }
   ],
   "source": [
    "#% должников в зависимости от семейного положения\n",
    "print('% должников в зависимости от семейного положения:')\n",
    "familydebt=data.groupby('family_status')['debt'].agg(['sum', 'count'])\n",
    "familydebt['debt%']=familydebt['sum']/familydebt['count']*100\n",
    "print(familydebt.sort_values(by='debt%'))"
   ]
  },
  {
   "cell_type": "markdown",
   "metadata": {},
   "source": [
    "**Вывод:**\n",
    "Наиболее добросовестные заемщики - бывшие ранее в браке и находящиеся сейчас в официальном браке. Риск невозврата кредита для холостых, а также заемщиков с неоформленными супружескими отношениями возрастает."
   ]
  },
  {
   "cell_type": "markdown",
   "metadata": {},
   "source": [
    "- Есть ли зависимость между уровнем дохода и возвратом кредита в срок?"
   ]
  },
  {
   "cell_type": "code",
   "execution_count": 17,
   "metadata": {},
   "outputs": [
    {
     "name": "stdout",
     "output_type": "stream",
     "text": [
      "% должников в зависимости от уровня дохода:\n",
      "                     sum  count     debt%\n",
      "income_group                             \n",
      "более 200 тыс./мес.  357   5037  7.087552\n",
      "менее 100 тыс./мес.  351   4437  7.910751\n",
      "150-200 тыс./мес.    402   4742  8.477436\n",
      "100-150 тыс./мес.    621   7130  8.709677\n"
     ]
    }
   ],
   "source": [
    "#% должников в зависимости от уровня дохода\n",
    "print('% должников в зависимости от уровня дохода:')\n",
    "incomedebt=data.groupby('income_group')['debt'].agg(['sum', 'count'])\n",
    "incomedebt['debt%']=incomedebt['sum']/incomedebt['count']*100\n",
    "print(incomedebt.sort_values(by='debt%'))"
   ]
  },
  {
   "cell_type": "markdown",
   "metadata": {},
   "source": [
    "**Вывод:** \n",
    "Наиболее дисциплинированы заемщики с доходом свыше 200 тыс./мес., а также категория с доходом менее 100 тыс./мес (возможно связано с меньшим размером кредита). Риск невозврата для средних категорий возрастает."
   ]
  },
  {
   "cell_type": "markdown",
   "metadata": {},
   "source": [
    "- Как разные цели кредита влияют на его возврат в срок?"
   ]
  },
  {
   "cell_type": "code",
   "execution_count": 18,
   "metadata": {},
   "outputs": [
    {
     "name": "stdout",
     "output_type": "stream",
     "text": [
      "% должников в зависимости от цели кредита:\n",
      "               sum  count     debt%\n",
      "purpose_group                      \n",
      "недвижимость   778  10759  7.231155\n",
      "свадьба        184   2309  7.968818\n",
      "образование    370   3995  9.261577\n",
      "автомобиль     399   4283  9.315900\n"
     ]
    }
   ],
   "source": [
    "#% должников в зависимости от цели кредита\n",
    "print('% должников в зависимости от цели кредита:')\n",
    "purposedebt=data.groupby('purpose_group')['debt'].agg(['sum', 'count'])\n",
    "purposedebt['debt%']=purposedebt['sum']/purposedebt['count']*100\n",
    "print(purposedebt.sort_values(by='debt%'))"
   ]
  },
  {
   "cell_type": "markdown",
   "metadata": {},
   "source": [
    "**Вывод:**\n",
    "Наименьший риск в категории кредитов на недвижимость, наибольший у автокредитов и кредитов на образование."
   ]
  },
  {
   "cell_type": "code",
   "execution_count": 19,
   "metadata": {
    "scrolled": true
   },
   "outputs": [
    {
     "data": {
      "text/html": [
       "<div>\n",
       "<style scoped>\n",
       "    .dataframe tbody tr th:only-of-type {\n",
       "        vertical-align: middle;\n",
       "    }\n",
       "\n",
       "    .dataframe tbody tr th {\n",
       "        vertical-align: top;\n",
       "    }\n",
       "\n",
       "    .dataframe thead tr th {\n",
       "        text-align: left;\n",
       "    }\n",
       "\n",
       "    .dataframe thead tr:last-of-type th {\n",
       "        text-align: right;\n",
       "    }\n",
       "</style>\n",
       "<table border=\"1\" class=\"dataframe\">\n",
       "  <thead>\n",
       "    <tr>\n",
       "      <th></th>\n",
       "      <th colspan=\"2\" halign=\"left\">count</th>\n",
       "      <th colspan=\"2\" halign=\"left\">sum</th>\n",
       "      <th colspan=\"2\" halign=\"left\">mean</th>\n",
       "    </tr>\n",
       "    <tr>\n",
       "      <th>gender</th>\n",
       "      <th>F</th>\n",
       "      <th>M</th>\n",
       "      <th>F</th>\n",
       "      <th>M</th>\n",
       "      <th>F</th>\n",
       "      <th>M</th>\n",
       "    </tr>\n",
       "    <tr>\n",
       "      <th>family_status</th>\n",
       "      <th></th>\n",
       "      <th></th>\n",
       "      <th></th>\n",
       "      <th></th>\n",
       "      <th></th>\n",
       "      <th></th>\n",
       "    </tr>\n",
       "  </thead>\n",
       "  <tbody>\n",
       "    <tr>\n",
       "      <td>Не женат / не замужем</td>\n",
       "      <td>1721</td>\n",
       "      <td>1072</td>\n",
       "      <td>118</td>\n",
       "      <td>155</td>\n",
       "      <td>0.068565</td>\n",
       "      <td>0.144590</td>\n",
       "    </tr>\n",
       "    <tr>\n",
       "      <td>в разводе</td>\n",
       "      <td>927</td>\n",
       "      <td>258</td>\n",
       "      <td>61</td>\n",
       "      <td>24</td>\n",
       "      <td>0.065804</td>\n",
       "      <td>0.093023</td>\n",
       "    </tr>\n",
       "    <tr>\n",
       "      <td>вдовец / вдова</td>\n",
       "      <td>899</td>\n",
       "      <td>55</td>\n",
       "      <td>51</td>\n",
       "      <td>11</td>\n",
       "      <td>0.056730</td>\n",
       "      <td>0.200000</td>\n",
       "    </tr>\n",
       "    <tr>\n",
       "      <td>гражданский брак</td>\n",
       "      <td>2827</td>\n",
       "      <td>1300</td>\n",
       "      <td>232</td>\n",
       "      <td>154</td>\n",
       "      <td>0.082066</td>\n",
       "      <td>0.118462</td>\n",
       "    </tr>\n",
       "    <tr>\n",
       "      <td>женат / замужем</td>\n",
       "      <td>7725</td>\n",
       "      <td>4562</td>\n",
       "      <td>526</td>\n",
       "      <td>399</td>\n",
       "      <td>0.068091</td>\n",
       "      <td>0.087462</td>\n",
       "    </tr>\n",
       "  </tbody>\n",
       "</table>\n",
       "</div>"
      ],
      "text/plain": [
       "                      count        sum           mean          \n",
       "gender                    F     M    F    M         F         M\n",
       "family_status                                                  \n",
       "Не женат / не замужем  1721  1072  118  155  0.068565  0.144590\n",
       "в разводе               927   258   61   24  0.065804  0.093023\n",
       "вдовец / вдова          899    55   51   11  0.056730  0.200000\n",
       "гражданский брак       2827  1300  232  154  0.082066  0.118462\n",
       "женат / замужем        7725  4562  526  399  0.068091  0.087462"
      ]
     },
     "metadata": {},
     "output_type": "display_data"
    },
    {
     "name": "stdout",
     "output_type": "stream",
     "text": [
      "\n"
     ]
    },
    {
     "data": {
      "text/html": [
       "<div>\n",
       "<style scoped>\n",
       "    .dataframe tbody tr th:only-of-type {\n",
       "        vertical-align: middle;\n",
       "    }\n",
       "\n",
       "    .dataframe tbody tr th {\n",
       "        vertical-align: top;\n",
       "    }\n",
       "\n",
       "    .dataframe thead tr th {\n",
       "        text-align: left;\n",
       "    }\n",
       "\n",
       "    .dataframe thead tr:last-of-type th {\n",
       "        text-align: right;\n",
       "    }\n",
       "</style>\n",
       "<table border=\"1\" class=\"dataframe\">\n",
       "  <thead>\n",
       "    <tr>\n",
       "      <th></th>\n",
       "      <th>count</th>\n",
       "      <th>sum</th>\n",
       "      <th>mean</th>\n",
       "    </tr>\n",
       "    <tr>\n",
       "      <th></th>\n",
       "      <th>debt</th>\n",
       "      <th>debt</th>\n",
       "      <th>debt</th>\n",
       "    </tr>\n",
       "    <tr>\n",
       "      <th>income_type</th>\n",
       "      <th></th>\n",
       "      <th></th>\n",
       "      <th></th>\n",
       "    </tr>\n",
       "  </thead>\n",
       "  <tbody>\n",
       "    <tr>\n",
       "      <td>госслужащий</td>\n",
       "      <td>1451</td>\n",
       "      <td>86</td>\n",
       "      <td>0.059269</td>\n",
       "    </tr>\n",
       "    <tr>\n",
       "      <td>компаньон</td>\n",
       "      <td>5057</td>\n",
       "      <td>375</td>\n",
       "      <td>0.074155</td>\n",
       "    </tr>\n",
       "    <tr>\n",
       "      <td>пенсионер</td>\n",
       "      <td>3809</td>\n",
       "      <td>215</td>\n",
       "      <td>0.056445</td>\n",
       "    </tr>\n",
       "    <tr>\n",
       "      <td>сотрудник</td>\n",
       "      <td>11029</td>\n",
       "      <td>1055</td>\n",
       "      <td>0.095657</td>\n",
       "    </tr>\n",
       "  </tbody>\n",
       "</table>\n",
       "</div>"
      ],
      "text/plain": [
       "             count   sum      mean\n",
       "              debt  debt      debt\n",
       "income_type                       \n",
       "госслужащий   1451    86  0.059269\n",
       "компаньон     5057   375  0.074155\n",
       "пенсионер     3809   215  0.056445\n",
       "сотрудник    11029  1055  0.095657"
      ]
     },
     "metadata": {},
     "output_type": "display_data"
    }
   ],
   "source": [
    "data_pivot=data.pivot_table(index = ['family_status'], columns= 'gender', values= 'debt', aggfunc=['count', 'sum', 'mean'])\n",
    "display(data_pivot)\n",
    "print()\n",
    "data_pivot2=data.pivot_table(index = ['income_type'], values= 'debt', aggfunc=['count', 'sum', 'mean'])\n",
    "display(data_pivot2)"
   ]
  },
  {
   "cell_type": "markdown",
   "metadata": {},
   "source": [
    "**Вывод:**\n",
    "Риски по группам с различным семейным положением значительно отличаются в зависимости от пола заемщика. Это необходимо учитывать."
   ]
  },
  {
   "cell_type": "markdown",
   "metadata": {},
   "source": [
    "<a name=\"7\"></a>\n",
    "## Общий вывод"
   ]
  },
  {
   "cell_type": "markdown",
   "metadata": {},
   "source": [
    "Исследование показало что статистика о платежеспособности клиентов может быть использована для построения модели кредитного скоринга. \n",
    "_____\n",
    "Информация о заемщике влияет на риски в следующем по значимости порядке: \n",
    "\n",
    "**семейное положение**  \n",
    "Наиболее добросовестные заемщики - бывшие ранее в браке и находящиеся сейчас в официальном браке. Риск невозврата кредита для холостых, а также заемщиков с неоформленными супружескими отношениями возрастает.\n",
    "\n",
    "**наличие детей**  \n",
    "Наличие детей (вне зависимости от их количества) увеличивает вероятность возникновения задолженности по кредиту.\n",
    "\n",
    "**цель получения кредита**  \n",
    "Наименьший риск в категории кредитов на недвижимость, наибольший у автокредитов и кредитов на образование.\n",
    "\n",
    "**уровень дохода**  \n",
    "Наиболее дисциплинированы заемщики с доходом свыше 200 тыс./мес., а также категория с доходом менее 100 тыс./мес (возможно связано с меньшим размером кредита). Риск невозврата для средних категорий возрастает.\n",
    "\n",
    "Также необходимо принимать во внимание прочую информацию о клиенте (к примеру статистика по группам значительно отличается для мужчин и для женщин)."
   ]
  },
  {
   "cell_type": "markdown",
   "metadata": {},
   "source": [
    "- [x]  открыт файл;\n",
    "- [x]  файл изучен;\n",
    "- [x]  определены пропущенные значения;\n",
    "- [x]  заполнены пропущенные значения;\n",
    "- [x]  есть пояснение, какие пропущенные значения обнаружены;\n",
    "- [x]  описаны возможные причины появления пропусков в данных;\n",
    "- [x]  объяснено, по какому принципу заполнены пропуски;\n",
    "- [x]  заменен вещественный тип данных на целочисленный;\n",
    "- [x]  есть пояснение, какой метод используется для изменения типа данных и почему;\n",
    "- [x]  удалены дубликаты;\n",
    "- [x]  есть пояснение, какой метод используется для поиска и удаления дубликатов;\n",
    "- [x]  описаны возможные причины появления дубликатов в данных;\n",
    "- [x]  выделены леммы в значениях столбца с целями получения кредита;\n",
    "- [x]  описан процесс лемматизации;\n",
    "- [x]  данные категоризированы;\n",
    "- [x]  есть объяснение принципа категоризации данных;\n",
    "- [x]  есть ответ на вопрос: \"Есть ли зависимость между наличием детей и возвратом кредита в срок?\";\n",
    "- [x]  есть ответ на вопрос: \"Есть ли зависимость между семейным положением и возвратом кредита в срок?\";\n",
    "- [x]  есть ответ на вопрос: \"Есть ли зависимость между уровнем дохода и возвратом кредита в срок?\";\n",
    "- [x]  есть ответ на вопрос: \"Как разные цели кредита влияют на его возврат в срок?\";\n",
    "- [x]  в каждом этапе есть выводы;\n",
    "- [x]  есть общий вывод."
   ]
  }
 ],
 "metadata": {
  "ExecuteTimeLog": [
   {
    "duration": 989,
    "start_time": "2021-08-04T09:51:47.049Z"
   },
   {
    "duration": 2087,
    "start_time": "2021-08-04T09:51:48.041Z"
   },
   {
    "duration": -47,
    "start_time": "2021-08-04T09:51:50.179Z"
   },
   {
    "duration": -61,
    "start_time": "2021-08-04T09:51:50.194Z"
   },
   {
    "duration": -65,
    "start_time": "2021-08-04T09:51:50.200Z"
   },
   {
    "duration": -75,
    "start_time": "2021-08-04T09:51:50.212Z"
   },
   {
    "duration": -89,
    "start_time": "2021-08-04T09:51:50.227Z"
   },
   {
    "duration": -103,
    "start_time": "2021-08-04T09:51:50.243Z"
   },
   {
    "duration": -108,
    "start_time": "2021-08-04T09:51:50.250Z"
   },
   {
    "duration": -123,
    "start_time": "2021-08-04T09:51:50.267Z"
   },
   {
    "duration": -134,
    "start_time": "2021-08-04T09:51:50.280Z"
   },
   {
    "duration": -145,
    "start_time": "2021-08-04T09:51:50.293Z"
   },
   {
    "duration": -152,
    "start_time": "2021-08-04T09:51:50.301Z"
   },
   {
    "duration": -161,
    "start_time": "2021-08-04T09:51:50.312Z"
   },
   {
    "duration": -172,
    "start_time": "2021-08-04T09:51:50.324Z"
   },
   {
    "duration": -174,
    "start_time": "2021-08-04T09:51:50.328Z"
   },
   {
    "duration": -179,
    "start_time": "2021-08-04T09:51:50.335Z"
   },
   {
    "duration": -191,
    "start_time": "2021-08-04T09:51:50.348Z"
   },
   {
    "duration": 62,
    "start_time": "2021-08-04T09:52:49.885Z"
   },
   {
    "duration": 126,
    "start_time": "2021-08-04T09:52:53.144Z"
   },
   {
    "duration": 724,
    "start_time": "2021-08-04T09:52:59.900Z"
   },
   {
    "duration": 64,
    "start_time": "2021-08-04T09:53:00.627Z"
   },
   {
    "duration": 157,
    "start_time": "2021-08-04T09:53:00.694Z"
   },
   {
    "duration": 6,
    "start_time": "2021-08-04T09:53:00.861Z"
   },
   {
    "duration": 102,
    "start_time": "2021-08-04T09:53:00.871Z"
   },
   {
    "duration": 13,
    "start_time": "2021-08-04T09:53:00.976Z"
   },
   {
    "duration": 1227,
    "start_time": "2021-08-04T09:53:00.991Z"
   },
   {
    "duration": 6,
    "start_time": "2021-08-04T09:53:02.221Z"
   },
   {
    "duration": 85,
    "start_time": "2021-08-04T09:53:02.229Z"
   },
   {
    "duration": 4805,
    "start_time": "2021-08-04T09:53:02.316Z"
   },
   {
    "duration": 38,
    "start_time": "2021-08-04T09:53:07.124Z"
   },
   {
    "duration": 11,
    "start_time": "2021-08-04T09:53:07.164Z"
   },
   {
    "duration": 15,
    "start_time": "2021-08-04T09:53:07.177Z"
   },
   {
    "duration": 67,
    "start_time": "2021-08-04T09:53:07.195Z"
   },
   {
    "duration": 16,
    "start_time": "2021-08-04T09:53:07.264Z"
   },
   {
    "duration": 15,
    "start_time": "2021-08-04T09:53:07.282Z"
   },
   {
    "duration": 15,
    "start_time": "2021-08-04T09:53:07.299Z"
   },
   {
    "duration": 135,
    "start_time": "2021-08-04T09:53:07.316Z"
   },
   {
    "duration": 741,
    "start_time": "2021-08-04T09:55:09.507Z"
   },
   {
    "duration": 62,
    "start_time": "2021-08-04T09:55:10.251Z"
   },
   {
    "duration": 121,
    "start_time": "2021-08-04T09:55:10.316Z"
   },
   {
    "duration": 22,
    "start_time": "2021-08-04T09:55:10.440Z"
   },
   {
    "duration": 61,
    "start_time": "2021-08-04T09:55:10.464Z"
   },
   {
    "duration": 10,
    "start_time": "2021-08-04T09:55:10.527Z"
   },
   {
    "duration": 1248,
    "start_time": "2021-08-04T09:55:10.539Z"
   },
   {
    "duration": 8,
    "start_time": "2021-08-04T09:55:11.792Z"
   },
   {
    "duration": 59,
    "start_time": "2021-08-04T09:55:11.803Z"
   },
   {
    "duration": 4754,
    "start_time": "2021-08-04T09:55:11.865Z"
   },
   {
    "duration": 43,
    "start_time": "2021-08-04T09:55:16.621Z"
   },
   {
    "duration": 13,
    "start_time": "2021-08-04T09:55:16.667Z"
   },
   {
    "duration": 14,
    "start_time": "2021-08-04T09:55:16.683Z"
   },
   {
    "duration": 83,
    "start_time": "2021-08-04T09:55:16.699Z"
   },
   {
    "duration": 16,
    "start_time": "2021-08-04T09:55:16.784Z"
   },
   {
    "duration": 15,
    "start_time": "2021-08-04T09:55:16.802Z"
   },
   {
    "duration": 43,
    "start_time": "2021-08-04T09:55:16.820Z"
   },
   {
    "duration": 131,
    "start_time": "2021-08-04T09:55:16.865Z"
   },
   {
    "duration": 797,
    "start_time": "2021-08-04T09:57:56.329Z"
   },
   {
    "duration": 67,
    "start_time": "2021-08-04T09:57:57.129Z"
   },
   {
    "duration": 127,
    "start_time": "2021-08-04T09:57:57.199Z"
   },
   {
    "duration": 5,
    "start_time": "2021-08-04T09:57:57.328Z"
   },
   {
    "duration": 75,
    "start_time": "2021-08-04T09:57:57.336Z"
   },
   {
    "duration": 15,
    "start_time": "2021-08-04T09:57:57.413Z"
   },
   {
    "duration": 1288,
    "start_time": "2021-08-04T09:57:57.431Z"
   },
   {
    "duration": 6,
    "start_time": "2021-08-04T09:57:58.722Z"
   },
   {
    "duration": 47,
    "start_time": "2021-08-04T09:57:58.731Z"
   },
   {
    "duration": 4771,
    "start_time": "2021-08-04T09:57:58.780Z"
   },
   {
    "duration": 37,
    "start_time": "2021-08-04T09:58:03.553Z"
   },
   {
    "duration": 32,
    "start_time": "2021-08-04T09:58:03.592Z"
   },
   {
    "duration": 26,
    "start_time": "2021-08-04T09:58:03.627Z"
   },
   {
    "duration": 93,
    "start_time": "2021-08-04T09:58:03.656Z"
   },
   {
    "duration": 16,
    "start_time": "2021-08-04T09:58:03.751Z"
   },
   {
    "duration": 36,
    "start_time": "2021-08-04T09:58:03.770Z"
   },
   {
    "duration": 56,
    "start_time": "2021-08-04T09:58:03.809Z"
   },
   {
    "duration": 123,
    "start_time": "2021-08-04T09:58:03.868Z"
   },
   {
    "duration": 3,
    "start_time": "2021-08-16T10:13:41.442Z"
   },
   {
    "duration": 744,
    "start_time": "2021-08-16T10:13:41.450Z"
   },
   {
    "duration": 2285,
    "start_time": "2021-08-16T10:13:42.196Z"
   },
   {
    "duration": -588,
    "start_time": "2021-08-16T10:13:45.074Z"
   },
   {
    "duration": -604,
    "start_time": "2021-08-16T10:13:45.092Z"
   },
   {
    "duration": -613,
    "start_time": "2021-08-16T10:13:45.102Z"
   },
   {
    "duration": -627,
    "start_time": "2021-08-16T10:13:45.117Z"
   },
   {
    "duration": -638,
    "start_time": "2021-08-16T10:13:45.130Z"
   },
   {
    "duration": -651,
    "start_time": "2021-08-16T10:13:45.144Z"
   },
   {
    "duration": -657,
    "start_time": "2021-08-16T10:13:45.152Z"
   },
   {
    "duration": -667,
    "start_time": "2021-08-16T10:13:45.163Z"
   },
   {
    "duration": -682,
    "start_time": "2021-08-16T10:13:45.179Z"
   },
   {
    "duration": -693,
    "start_time": "2021-08-16T10:13:45.192Z"
   },
   {
    "duration": -699,
    "start_time": "2021-08-16T10:13:45.199Z"
   },
   {
    "duration": -710,
    "start_time": "2021-08-16T10:13:45.211Z"
   },
   {
    "duration": -716,
    "start_time": "2021-08-16T10:13:45.219Z"
   },
   {
    "duration": -730,
    "start_time": "2021-08-16T10:13:45.234Z"
   },
   {
    "duration": -738,
    "start_time": "2021-08-16T10:13:45.244Z"
   },
   {
    "duration": -747,
    "start_time": "2021-08-16T10:13:45.254Z"
   },
   {
    "duration": 4,
    "start_time": "2021-08-16T10:14:26.441Z"
   },
   {
    "duration": 733,
    "start_time": "2021-08-16T10:14:26.447Z"
   },
   {
    "duration": 66,
    "start_time": "2021-08-16T10:14:27.183Z"
   },
   {
    "duration": 124,
    "start_time": "2021-08-16T10:14:27.255Z"
   },
   {
    "duration": 7,
    "start_time": "2021-08-16T10:14:27.382Z"
   },
   {
    "duration": 83,
    "start_time": "2021-08-16T10:14:27.394Z"
   },
   {
    "duration": 13,
    "start_time": "2021-08-16T10:14:27.480Z"
   },
   {
    "duration": 1234,
    "start_time": "2021-08-16T10:14:27.495Z"
   },
   {
    "duration": 6,
    "start_time": "2021-08-16T10:14:28.731Z"
   },
   {
    "duration": 39,
    "start_time": "2021-08-16T10:14:28.740Z"
   },
   {
    "duration": 4445,
    "start_time": "2021-08-16T10:14:28.782Z"
   },
   {
    "duration": 43,
    "start_time": "2021-08-16T10:14:33.230Z"
   },
   {
    "duration": 10,
    "start_time": "2021-08-16T10:14:33.276Z"
   },
   {
    "duration": 16,
    "start_time": "2021-08-16T10:14:33.289Z"
   },
   {
    "duration": 77,
    "start_time": "2021-08-16T10:14:33.307Z"
   },
   {
    "duration": 16,
    "start_time": "2021-08-16T10:14:33.386Z"
   },
   {
    "duration": 17,
    "start_time": "2021-08-16T10:14:33.405Z"
   },
   {
    "duration": 37,
    "start_time": "2021-08-16T10:14:33.425Z"
   },
   {
    "duration": 135,
    "start_time": "2021-08-16T10:14:33.465Z"
   }
  ],
  "kernelspec": {
   "display_name": "Python 3",
   "language": "python",
   "name": "python3"
  },
  "language_info": {
   "codemirror_mode": {
    "name": "ipython",
    "version": 3
   },
   "file_extension": ".py",
   "mimetype": "text/x-python",
   "name": "python",
   "nbconvert_exporter": "python",
   "pygments_lexer": "ipython3",
   "version": "3.7.8"
  },
  "toc": {
   "base_numbering": "1",
   "nav_menu": {
    "height": "777px",
    "width": "623px"
   },
   "number_sections": true,
   "sideBar": true,
   "skip_h1_title": true,
   "title_cell": "Table of Contents",
   "title_sidebar": "Contents",
   "toc_cell": false,
   "toc_position": {
    "height": "calc(100% - 180px)",
    "left": "10px",
    "top": "150px",
    "width": "384px"
   },
   "toc_section_display": true,
   "toc_window_display": true
  }
 },
 "nbformat": 4,
 "nbformat_minor": 2
}
