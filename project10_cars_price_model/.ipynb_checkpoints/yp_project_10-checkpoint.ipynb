{
 "cells": [
  {
   "cell_type": "markdown",
   "metadata": {},
   "source": [
    "|  |  |  |\n",
    "| ---: | :--- | :--- |\n",
    "| Курс:| Численные методы | 10 |\n",
    "| Срок обучения на момент сдачи: | 5 месяцев |\n",
    "\n",
    "\n",
    "# Определение стоимости автомобилей\n",
    "\n",
    "Сервис по продаже автомобилей с пробегом «Не бит, не крашен» разрабатывает приложение для привлечения новых клиентов. В нём можно быстро узнать рыночную стоимость своего автомобиля. В вашем распоряжении исторические данные: технические характеристики, комплектации и цены автомобилей. Вам нужно построить модель для определения стоимости. \n",
    "\n",
    "Заказчику важны:\n",
    "\n",
    "- качество предсказания;\n",
    "- скорость предсказания;\n",
    "- время обучения."
   ]
  },
  {
   "cell_type": "markdown",
   "metadata": {},
   "source": [
    "# Содержание\n",
    "\n",
    "1  [Описание проекта и постановка задачи](#1)\n",
    "\n",
    "*    1.1  [Описание данных](#11)\n",
    "*    1.2  [Инструкция по выполнению проекта](#12)\n",
    "\n",
    "2  [Загрузка и подготовка данных](#2)\n",
    "\n",
    "*    2.1  [Загрузка и знакомство с данными](#21)\n",
    "*    2.2  [Обработка дубликатов](#22)\n",
    "*    2.3  [Пропуски в модели автомобиля](#23)\n",
    "*    2.4  [Нулевая цена](#24)\n",
    "*    2.5  [Недостоверная дата регистрации](#25)\n",
    "*    2.6  [Удаление неинформативных признаков](#26)\n",
    "*    2.7  [Недостоверная мощность](#27)\n",
    "*    2.8  [Заполнение пропусков](#28)\n",
    "*    2.9  [Корреляция](#29)\n",
    "*    2.10  [Итого](#210)\n",
    "\n",
    "3  [Обучение моделей](#3)\n",
    "\n",
    "*    3.1  [LightGBM](#31)\n",
    "*    3.2  [\"Деревянные\" модели](#32)\n",
    "*    3.3  [Линейная регрессия](#33)\n",
    "\n",
    "4  [Сравнение моделей на этапе обучения](#4)\n",
    "\n",
    "5  [Тестирование моделей](#5)"
   ]
  },
  {
   "cell_type": "markdown",
   "metadata": {},
   "source": [
    "<a name=\"1\"></a>\n",
    "## Описание проекта и постановка задачи"
   ]
  },
  {
   "cell_type": "markdown",
   "metadata": {},
   "source": [
    "<a name=\"11\"></a>\n",
    "### Описание данных\n",
    "\n",
    "**Признаки**\n",
    "\n",
    "*    DateCrawled — дата скачивания анкеты из базы\n",
    "*    VehicleType — тип автомобильного кузова\n",
    "*    RegistrationYear — год регистрации автомобиля\n",
    "*    Gearbox — тип коробки передач\n",
    "*    Power — мощность (л. с.)\n",
    "*    Model — модель автомобиля\n",
    "*    Kilometer — пробег (км)\n",
    "*    RegistrationMonth — месяц регистрации автомобиля\n",
    "*    FuelType — тип топлива\n",
    "*    Brand — марка автомобиля\n",
    "*    NotRepaired — была машина в ремонте или нет\n",
    "*    DateCreated — дата создания анкеты\n",
    "*    NumberOfPictures — количество фотографий автомобиля\n",
    "*    PostalCode — почтовый индекс владельца анкеты (пользователя)\n",
    "*    LastSeen — дата последней активности пользователя\n",
    "\n",
    "**Целевой признак**\n",
    "\n",
    "*    Price — цена (евро)"
   ]
  },
  {
   "cell_type": "markdown",
   "metadata": {},
   "source": [
    "<a name=\"12\"></a>\n",
    "### Инструкция по выполнению проекта\n",
    "\n",
    "Чтобы усилить исследование, не ограничивайтесь градиентным бустингом. Попробуйте более простые модели — иногда они работают лучше. Это редкие случаи, которые легко пропустить, если всегда применять только бустинг. Поэкспериментируйте и сравните характеристики моделей: скорость работы, точность результата.\n",
    "\n",
    "*    Загрузите и подготовьте данные.\n",
    "*    Обучите разные модели. Для каждой попробуйте различные гиперпараметры.\n",
    "*    Проанализируйте скорость работы и качество моделей.\n",
    "\n",
    "Примечания:\n",
    "\n",
    "*    Для оценки качества моделей применяйте метрику RMSE.\n",
    "*    Самостоятельно освойте библиотеку LightGBM и её средствами постройте модели градиентного бустинга.\n",
    "*    Поскольку модель градиентного бустинга может обучаться долго, измените у неё только два-три параметра."
   ]
  },
  {
   "cell_type": "markdown",
   "metadata": {},
   "source": [
    "<a name=\"2\"></a>\n",
    "## Загрузка и подготовка данных"
   ]
  },
  {
   "cell_type": "markdown",
   "metadata": {},
   "source": [
    "<a name=\"21\"></a>\n",
    "### Загрузка и знакомство с данными"
   ]
  },
  {
   "cell_type": "code",
   "execution_count": 1,
   "metadata": {},
   "outputs": [],
   "source": [
    "import pandas as pd\n",
    "import numpy as np\n",
    "import matplotlib.pyplot as plt\n",
    "import seaborn as sns\n",
    "import warnings\n",
    "import datetime\n",
    "\n",
    "from IPython.display import display\n",
    "\n",
    "from sklearn.preprocessing import StandardScaler \n",
    "from sklearn.utils import shuffle\n",
    "from sklearn.model_selection import GridSearchCV, KFold, cross_val_score, train_test_split\n",
    "from sklearn.tree import DecisionTreeRegressor\n",
    "from sklearn.ensemble import RandomForestRegressor\n",
    "from sklearn.linear_model import LinearRegression\n",
    "from sklearn.dummy import DummyRegressor\n",
    "from sklearn.metrics import mean_squared_error\n",
    "\n",
    "from lightgbm import LGBMRegressor"
   ]
  },
  {
   "cell_type": "code",
   "execution_count": 2,
   "metadata": {},
   "outputs": [],
   "source": [
    "def median_groupby(row):       \n",
    "    '''функция для заполнения пропусков в столбце медианами по группе \n",
    "    получает строку, выдергивает значение столбца группировки (group_colomn) \n",
    "    возвращает значение соответствующей ему медианы\n",
    "    \n",
    "    До использования необходимо определить:\n",
    "    nan_colomn - переменная задает столбец с пропуском\n",
    "    group_colomn - переменная задает столбец с признаком по которому будем группировать для поиска медианы\n",
    "    median_series - series со значениями медиан по группе\n",
    "    '''\n",
    "    try:\n",
    "        row_group_value = row[group_colomn]\n",
    "        group_median = median_series[row_group_value]\n",
    "        return group_median\n",
    "    except:\n",
    "        return 'error group_median'"
   ]
  },
  {
   "cell_type": "code",
   "execution_count": 3,
   "metadata": {},
   "outputs": [],
   "source": [
    "data = pd.read_csv('autos.csv')"
   ]
  },
  {
   "cell_type": "code",
   "execution_count": 4,
   "metadata": {},
   "outputs": [
    {
     "name": "stdout",
     "output_type": "stream",
     "text": [
      "<class 'pandas.core.frame.DataFrame'>\n",
      "RangeIndex: 354369 entries, 0 to 354368\n",
      "Data columns (total 16 columns):\n",
      " #   Column             Non-Null Count   Dtype \n",
      "---  ------             --------------   ----- \n",
      " 0   DateCrawled        354369 non-null  object\n",
      " 1   Price              354369 non-null  int64 \n",
      " 2   VehicleType        316879 non-null  object\n",
      " 3   RegistrationYear   354369 non-null  int64 \n",
      " 4   Gearbox            334536 non-null  object\n",
      " 5   Power              354369 non-null  int64 \n",
      " 6   Model              334664 non-null  object\n",
      " 7   Kilometer          354369 non-null  int64 \n",
      " 8   RegistrationMonth  354369 non-null  int64 \n",
      " 9   FuelType           321474 non-null  object\n",
      " 10  Brand              354369 non-null  object\n",
      " 11  NotRepaired        283215 non-null  object\n",
      " 12  DateCreated        354369 non-null  object\n",
      " 13  NumberOfPictures   354369 non-null  int64 \n",
      " 14  PostalCode         354369 non-null  int64 \n",
      " 15  LastSeen           354369 non-null  object\n",
      "dtypes: int64(7), object(9)\n",
      "memory usage: 43.3+ MB\n"
     ]
    }
   ],
   "source": [
    "data.info()"
   ]
  },
  {
   "cell_type": "code",
   "execution_count": 5,
   "metadata": {
    "scrolled": true
   },
   "outputs": [
    {
     "data": {
      "text/html": [
       "<div>\n",
       "<style scoped>\n",
       "    .dataframe tbody tr th:only-of-type {\n",
       "        vertical-align: middle;\n",
       "    }\n",
       "\n",
       "    .dataframe tbody tr th {\n",
       "        vertical-align: top;\n",
       "    }\n",
       "\n",
       "    .dataframe thead th {\n",
       "        text-align: right;\n",
       "    }\n",
       "</style>\n",
       "<table border=\"1\" class=\"dataframe\">\n",
       "  <thead>\n",
       "    <tr style=\"text-align: right;\">\n",
       "      <th></th>\n",
       "      <th>70124</th>\n",
       "      <th>305353</th>\n",
       "      <th>98207</th>\n",
       "      <th>294877</th>\n",
       "      <th>300525</th>\n",
       "    </tr>\n",
       "  </thead>\n",
       "  <tbody>\n",
       "    <tr>\n",
       "      <th>DateCrawled</th>\n",
       "      <td>2016-03-16 12:55:41</td>\n",
       "      <td>2016-03-12 10:52:13</td>\n",
       "      <td>2016-03-26 11:49:17</td>\n",
       "      <td>2016-03-21 15:54:05</td>\n",
       "      <td>2016-04-04 16:53:51</td>\n",
       "    </tr>\n",
       "    <tr>\n",
       "      <th>Price</th>\n",
       "      <td>350</td>\n",
       "      <td>4500</td>\n",
       "      <td>6700</td>\n",
       "      <td>3499</td>\n",
       "      <td>500</td>\n",
       "    </tr>\n",
       "    <tr>\n",
       "      <th>VehicleType</th>\n",
       "      <td>other</td>\n",
       "      <td>wagon</td>\n",
       "      <td>coupe</td>\n",
       "      <td>wagon</td>\n",
       "      <td>wagon</td>\n",
       "    </tr>\n",
       "    <tr>\n",
       "      <th>RegistrationYear</th>\n",
       "      <td>1996</td>\n",
       "      <td>2008</td>\n",
       "      <td>2011</td>\n",
       "      <td>2001</td>\n",
       "      <td>1997</td>\n",
       "    </tr>\n",
       "    <tr>\n",
       "      <th>Gearbox</th>\n",
       "      <td>manual</td>\n",
       "      <td>manual</td>\n",
       "      <td>auto</td>\n",
       "      <td>manual</td>\n",
       "      <td>manual</td>\n",
       "    </tr>\n",
       "    <tr>\n",
       "      <th>Power</th>\n",
       "      <td>102</td>\n",
       "      <td>105</td>\n",
       "      <td>71</td>\n",
       "      <td>150</td>\n",
       "      <td>110</td>\n",
       "    </tr>\n",
       "    <tr>\n",
       "      <th>Model</th>\n",
       "      <td>3er</td>\n",
       "      <td>golf</td>\n",
       "      <td>fortwo</td>\n",
       "      <td>a4</td>\n",
       "      <td>a4</td>\n",
       "    </tr>\n",
       "    <tr>\n",
       "      <th>Kilometer</th>\n",
       "      <td>150000</td>\n",
       "      <td>150000</td>\n",
       "      <td>40000</td>\n",
       "      <td>150000</td>\n",
       "      <td>150000</td>\n",
       "    </tr>\n",
       "    <tr>\n",
       "      <th>RegistrationMonth</th>\n",
       "      <td>3</td>\n",
       "      <td>9</td>\n",
       "      <td>3</td>\n",
       "      <td>11</td>\n",
       "      <td>2</td>\n",
       "    </tr>\n",
       "    <tr>\n",
       "      <th>FuelType</th>\n",
       "      <td>petrol</td>\n",
       "      <td>gasoline</td>\n",
       "      <td>petrol</td>\n",
       "      <td>petrol</td>\n",
       "      <td>gasoline</td>\n",
       "    </tr>\n",
       "    <tr>\n",
       "      <th>Brand</th>\n",
       "      <td>bmw</td>\n",
       "      <td>volkswagen</td>\n",
       "      <td>smart</td>\n",
       "      <td>audi</td>\n",
       "      <td>audi</td>\n",
       "    </tr>\n",
       "    <tr>\n",
       "      <th>NotRepaired</th>\n",
       "      <td>yes</td>\n",
       "      <td>no</td>\n",
       "      <td>no</td>\n",
       "      <td>no</td>\n",
       "      <td>yes</td>\n",
       "    </tr>\n",
       "    <tr>\n",
       "      <th>DateCreated</th>\n",
       "      <td>2016-03-16 00:00:00</td>\n",
       "      <td>2016-03-12 00:00:00</td>\n",
       "      <td>2016-03-26 00:00:00</td>\n",
       "      <td>2016-03-21 00:00:00</td>\n",
       "      <td>2016-04-04 00:00:00</td>\n",
       "    </tr>\n",
       "    <tr>\n",
       "      <th>NumberOfPictures</th>\n",
       "      <td>0</td>\n",
       "      <td>0</td>\n",
       "      <td>0</td>\n",
       "      <td>0</td>\n",
       "      <td>0</td>\n",
       "    </tr>\n",
       "    <tr>\n",
       "      <th>PostalCode</th>\n",
       "      <td>13467</td>\n",
       "      <td>27232</td>\n",
       "      <td>88634</td>\n",
       "      <td>72108</td>\n",
       "      <td>72488</td>\n",
       "    </tr>\n",
       "    <tr>\n",
       "      <th>LastSeen</th>\n",
       "      <td>2016-03-16 13:42:27</td>\n",
       "      <td>2016-03-13 01:46:41</td>\n",
       "      <td>2016-03-26 11:49:17</td>\n",
       "      <td>2016-04-06 14:44:42</td>\n",
       "      <td>2016-04-06 18:46:41</td>\n",
       "    </tr>\n",
       "  </tbody>\n",
       "</table>\n",
       "</div>"
      ],
      "text/plain": [
       "                                70124                305353  \\\n",
       "DateCrawled        2016-03-16 12:55:41  2016-03-12 10:52:13   \n",
       "Price                              350                 4500   \n",
       "VehicleType                      other                wagon   \n",
       "RegistrationYear                  1996                 2008   \n",
       "Gearbox                         manual               manual   \n",
       "Power                              102                  105   \n",
       "Model                              3er                 golf   \n",
       "Kilometer                       150000               150000   \n",
       "RegistrationMonth                    3                    9   \n",
       "FuelType                        petrol             gasoline   \n",
       "Brand                              bmw           volkswagen   \n",
       "NotRepaired                        yes                   no   \n",
       "DateCreated        2016-03-16 00:00:00  2016-03-12 00:00:00   \n",
       "NumberOfPictures                     0                    0   \n",
       "PostalCode                       13467                27232   \n",
       "LastSeen           2016-03-16 13:42:27  2016-03-13 01:46:41   \n",
       "\n",
       "                                98207                294877  \\\n",
       "DateCrawled        2016-03-26 11:49:17  2016-03-21 15:54:05   \n",
       "Price                             6700                 3499   \n",
       "VehicleType                      coupe                wagon   \n",
       "RegistrationYear                  2011                 2001   \n",
       "Gearbox                           auto               manual   \n",
       "Power                               71                  150   \n",
       "Model                           fortwo                   a4   \n",
       "Kilometer                        40000               150000   \n",
       "RegistrationMonth                    3                   11   \n",
       "FuelType                        petrol               petrol   \n",
       "Brand                            smart                 audi   \n",
       "NotRepaired                         no                   no   \n",
       "DateCreated        2016-03-26 00:00:00  2016-03-21 00:00:00   \n",
       "NumberOfPictures                     0                    0   \n",
       "PostalCode                       88634                72108   \n",
       "LastSeen           2016-03-26 11:49:17  2016-04-06 14:44:42   \n",
       "\n",
       "                                300525  \n",
       "DateCrawled        2016-04-04 16:53:51  \n",
       "Price                              500  \n",
       "VehicleType                      wagon  \n",
       "RegistrationYear                  1997  \n",
       "Gearbox                         manual  \n",
       "Power                              110  \n",
       "Model                               a4  \n",
       "Kilometer                       150000  \n",
       "RegistrationMonth                    2  \n",
       "FuelType                      gasoline  \n",
       "Brand                             audi  \n",
       "NotRepaired                        yes  \n",
       "DateCreated        2016-04-04 00:00:00  \n",
       "NumberOfPictures                     0  \n",
       "PostalCode                       72488  \n",
       "LastSeen           2016-04-06 18:46:41  "
      ]
     },
     "metadata": {},
     "output_type": "display_data"
    }
   ],
   "source": [
    "display(data.sample(5).T)"
   ]
  },
  {
   "cell_type": "markdown",
   "metadata": {},
   "source": [
    "<a name=\"22\"></a>\n",
    "### Обработка дубликатов"
   ]
  },
  {
   "cell_type": "code",
   "execution_count": 6,
   "metadata": {
    "scrolled": false
   },
   "outputs": [
    {
     "name": "stdout",
     "output_type": "stream",
     "text": [
      "Количесто дубликатов: 4\n"
     ]
    }
   ],
   "source": [
    "print('Количесто дубликатов:', data.duplicated().sum())"
   ]
  },
  {
   "cell_type": "markdown",
   "metadata": {},
   "source": [
    "С учетом полей с датами вероятность случайного совпадения строк очень мала. Удаляем."
   ]
  },
  {
   "cell_type": "code",
   "execution_count": 7,
   "metadata": {},
   "outputs": [],
   "source": [
    "data = data.drop_duplicates()"
   ]
  },
  {
   "cell_type": "markdown",
   "metadata": {},
   "source": [
    "<a name=\"23\"></a>\n",
    "### Пропуски в модели автомобиля"
   ]
  },
  {
   "cell_type": "markdown",
   "metadata": {},
   "source": [
    "Пропуски в столбце 'Model' заполним значением 'unknown'."
   ]
  },
  {
   "cell_type": "code",
   "execution_count": 8,
   "metadata": {},
   "outputs": [],
   "source": [
    "data['Model'] = data['Model'].fillna('unknown')"
   ]
  },
  {
   "cell_type": "markdown",
   "metadata": {},
   "source": [
    "Модель без марки автомобиля не всегда дает однозначную информацию о том что это за авто (встречаются совпадения наименований модели).\n",
    "\n",
    "В модельном ряде большинства брендов есть как \"недорогие\" так и \"премиальные\" (дорогие) модели.\n",
    "\n",
    "Таким образом значения 'Brand' и 'Model' будет корректно учитывать в связке."
   ]
  },
  {
   "cell_type": "code",
   "execution_count": 9,
   "metadata": {},
   "outputs": [],
   "source": [
    "#\"соберем\" марку и модель автомобиля в 1 признак\n",
    "data['Brand_Model'] = data['Brand'] + '_' + data['Model']"
   ]
  },
  {
   "cell_type": "code",
   "execution_count": 10,
   "metadata": {},
   "outputs": [],
   "source": [
    "#display(data.sample(5).T)"
   ]
  },
  {
   "cell_type": "markdown",
   "metadata": {},
   "source": [
    "<a name=\"24\"></a>\n",
    "### Нулевая цена"
   ]
  },
  {
   "cell_type": "code",
   "execution_count": 11,
   "metadata": {
    "scrolled": true
   },
   "outputs": [
    {
     "data": {
      "text/plain": [
       "count    354365.000000\n",
       "mean       4416.679830\n",
       "std        4514.176349\n",
       "min           0.000000\n",
       "25%        1050.000000\n",
       "50%        2700.000000\n",
       "75%        6400.000000\n",
       "max       20000.000000\n",
       "Name: Price, dtype: float64"
      ]
     },
     "execution_count": 11,
     "metadata": {},
     "output_type": "execute_result"
    }
   ],
   "source": [
    "data['Price'].describe()"
   ]
  },
  {
   "cell_type": "code",
   "execution_count": 12,
   "metadata": {},
   "outputs": [
    {
     "data": {
      "image/png": "[encoded data removed]",
      "text/plain": [
       "<Figure size 1008x432 with 1 Axes>"
      ]
     },
     "metadata": {
      "needs_background": "light"
     },
     "output_type": "display_data"
    }
   ],
   "source": [
    "data['Price'].plot.hist(bins=100, edgecolor = 'black', figsize=(14, 6), grid=True, color='gold')\n",
    "plt.title('Распределение цены', fontsize=20)\n",
    "plt.ylabel('Частота', fontsize=16)\n",
    "plt.xlabel('Цена, евро', fontsize=16);"
   ]
  },
  {
   "cell_type": "code",
   "execution_count": 13,
   "metadata": {},
   "outputs": [
    {
     "data": {
      "image/png": "[encoded data removed]",
      "text/plain": [
       "<Figure size 1008x432 with 1 Axes>"
      ]
     },
     "metadata": {
      "needs_background": "light"
     },
     "output_type": "display_data"
    }
   ],
   "source": [
    "data['Price'][data['Price']<=1000].plot.hist(bins=20, edgecolor = 'black', figsize=(14, 6), grid=True, color='gold')\n",
    "plt.title('Распределение цены до 1000 евро', fontsize=20) \n",
    "plt.ylabel('Частота', fontsize=16)\n",
    "plt.xlabel('Цена, евро', fontsize=16);"
   ]
  },
  {
   "cell_type": "code",
   "execution_count": 14,
   "metadata": {
    "scrolled": true
   },
   "outputs": [
    {
     "name": "stdout",
     "output_type": "stream",
     "text": [
      "количество автомобилей с 0 ценой:\n",
      "10772\n",
      "доля автомобилей с 0 ценой:\n",
      "0.030398035923412302\n"
     ]
    }
   ],
   "source": [
    "print('количество автомобилей с 0 ценой:')\n",
    "print(len(data[data['Price']==0]))\n",
    "print('доля автомобилей с 0 ценой:')\n",
    "print(len(data[data['Price']==0])/len(data))"
   ]
  },
  {
   "cell_type": "code",
   "execution_count": 15,
   "metadata": {},
   "outputs": [
    {
     "data": {
      "text/plain": [
       "count    354365.000000\n",
       "mean       4416.679830\n",
       "std        4514.176349\n",
       "min           0.000000\n",
       "25%        1050.000000\n",
       "50%        2700.000000\n",
       "75%        6400.000000\n",
       "max       20000.000000\n",
       "Name: Price, dtype: float64"
      ]
     },
     "execution_count": 15,
     "metadata": {},
     "output_type": "execute_result"
    }
   ],
   "source": [
    "data['Price'].describe()"
   ]
  },
  {
   "cell_type": "markdown",
   "metadata": {},
   "source": [
    "Судя по почтовым индексам и маркам автомобилей сервис работает с объявлениями центральной европы (в основном Германия). Продажа автомобилей там вероятно имеет свои особенности. Возможно нулевая цена при продаже указана для старых/неисправных автомобилей, которые выгоднее отдать даром чем утилизировать. Необходимы комментарии заказчика. \n",
    "\n",
    "А возможно такая цена - просто ошибка при заполнении формы объявления. На данный момент правильнее удалить строки с нулевой ценой. "
   ]
  },
  {
   "cell_type": "code",
   "execution_count": 16,
   "metadata": {},
   "outputs": [],
   "source": [
    "data = data[data['Price']>0]"
   ]
  },
  {
   "cell_type": "code",
   "execution_count": 17,
   "metadata": {
    "scrolled": true
   },
   "outputs": [
    {
     "name": "stdout",
     "output_type": "stream",
     "text": [
      "количество автомобилей с ценой < 50 евро:\n",
      "1651\n",
      "доля автомобилей с ценой < 50 евро:\n",
      "0.00480510371282302\n"
     ]
    }
   ],
   "source": [
    "print('количество автомобилей с ценой < 50 евро:')\n",
    "print(len(data[data['Price']<50]))\n",
    "print('доля автомобилей с ценой < 50 евро:')\n",
    "print(len(data[data['Price']<50])/len(data))"
   ]
  },
  {
   "cell_type": "code",
   "execution_count": 18,
   "metadata": {
    "scrolled": true
   },
   "outputs": [
    {
     "data": {
      "text/plain": [
       "count    341942.000000\n",
       "mean       4577.108556\n",
       "std        4514.861088\n",
       "min          50.000000\n",
       "25%        1200.000000\n",
       "50%        2900.000000\n",
       "75%        6500.000000\n",
       "max       20000.000000\n",
       "Name: Price, dtype: float64"
      ]
     },
     "execution_count": 18,
     "metadata": {},
     "output_type": "execute_result"
    }
   ],
   "source": [
    "#удаляем строки с ценой менее 50 евро\n",
    "data = data[data['Price']>=50]\n",
    "data['Price'].describe()"
   ]
  },
  {
   "cell_type": "markdown",
   "metadata": {},
   "source": [
    "Отсеяли объявления с нулевой ценой. 10772 строки - около 3%.  \n",
    "Также объявления с ценой менее 50 евро (около 4,5 тыс. руб.) вероятно являются недостоверными даже для старого или аварийного автомобиля. Удалили 1651 строку - около 0,5%"
   ]
  },
  {
   "cell_type": "markdown",
   "metadata": {},
   "source": [
    "<a name=\"25\"></a>\n",
    "### Недостоверная дата регистрации"
   ]
  },
  {
   "cell_type": "code",
   "execution_count": 19,
   "metadata": {
    "scrolled": false
   },
   "outputs": [
    {
     "name": "stdout",
     "output_type": "stream",
     "text": [
      "2000    22818\n",
      "1999    21896\n",
      "2005    21404\n",
      "2006    19650\n",
      "2001    19591\n",
      "        ...  \n",
      "2200        1\n",
      "1931        1\n",
      "1927        1\n",
      "1925        1\n",
      "4100        1\n",
      "Name: RegistrationYear, Length: 139, dtype: int64\n",
      "3     33749\n",
      "0     32067\n",
      "6     30753\n",
      "4     28627\n",
      "5     28445\n",
      "7     26605\n",
      "10    25568\n",
      "11    23719\n",
      "12    23702\n",
      "9     23326\n",
      "1     22551\n",
      "8     22077\n",
      "2     20753\n",
      "Name: RegistrationMonth, dtype: int64\n"
     ]
    }
   ],
   "source": [
    "print(data['RegistrationYear'].value_counts())\n",
    "print(data['RegistrationMonth'].value_counts())"
   ]
  },
  {
   "cell_type": "markdown",
   "metadata": {},
   "source": [
    "Присутствуют недостоверные значения RegistrationYear, а также RegistrationMonth == 0."
   ]
  },
  {
   "cell_type": "code",
   "execution_count": 20,
   "metadata": {
    "scrolled": true
   },
   "outputs": [
    {
     "name": "stdout",
     "output_type": "stream",
     "text": [
      "количество автомобилей с недостоверным годом выпуска:\n",
      "235\n",
      "доля автомобилей с недостоверным годом выпуска:\n",
      "0.0006872510542723619\n"
     ]
    }
   ],
   "source": [
    "print('количество автомобилей с недостоверным годом выпуска:')\n",
    "print(len(data[(data['RegistrationYear']<1950) | (data['RegistrationYear']>2021)]))\n",
    "print('доля автомобилей с недостоверным годом выпуска:')\n",
    "print(len(data[(data['RegistrationYear']<1950) | (data['RegistrationYear']>2021)])/len(data))"
   ]
  },
  {
   "cell_type": "code",
   "execution_count": 21,
   "metadata": {},
   "outputs": [],
   "source": [
    "#удалим строки с неправильным годом регистрации\n",
    "data = data[(data['RegistrationYear']>=1950) | (data['RegistrationYear']<=2021)]"
   ]
  },
  {
   "cell_type": "code",
   "execution_count": 22,
   "metadata": {},
   "outputs": [],
   "source": [
    "#\"соберем\" дату регистрации (RegistrationYear и RegistrationMonth) в 1 признак\n",
    "data['HowOld_Month'] = 2021*12 - data['RegistrationYear']*12 - data['RegistrationMonth'] #Возраст автомобиля в месяцах"
   ]
  },
  {
   "cell_type": "markdown",
   "metadata": {},
   "source": [
    "Удалили 265 строк (0,08%). Признаки RegistrationYear и RegistrationMonth собраны в один: RegistrationYearMonth."
   ]
  },
  {
   "cell_type": "markdown",
   "metadata": {},
   "source": [
    "<a name=\"26\"></a>\n",
    "### Удаление неинформативных признаков"
   ]
  },
  {
   "cell_type": "code",
   "execution_count": 23,
   "metadata": {},
   "outputs": [],
   "source": [
    "#удалим неинформативные признаки\n",
    "data = data.drop(['DateCrawled', 'DateCreated', 'LastSeen', 'PostalCode', 'NumberOfPictures', # не несут пользы\n",
    "                  'RegistrationMonth', 'RegistrationYear', # собраны в 1 признак\n",
    "                  'Model', 'Brand'], axis=1) # собраны в 1 признак"
   ]
  },
  {
   "cell_type": "markdown",
   "metadata": {},
   "source": [
    "<a name=\"27\"></a>\n",
    "### Недостоверная мощность"
   ]
  },
  {
   "cell_type": "code",
   "execution_count": 24,
   "metadata": {},
   "outputs": [
    {
     "data": {
      "text/plain": [
       "count    341942.000000\n",
       "mean        111.206713\n",
       "std         188.254677\n",
       "min           0.000000\n",
       "25%          69.000000\n",
       "50%         105.000000\n",
       "75%         143.000000\n",
       "max       20000.000000\n",
       "Name: Power, dtype: float64"
      ]
     },
     "execution_count": 24,
     "metadata": {},
     "output_type": "execute_result"
    }
   ],
   "source": [
    "data['Power'].describe()"
   ]
  },
  {
   "cell_type": "code",
   "execution_count": 25,
   "metadata": {},
   "outputs": [
    {
     "name": "stdout",
     "output_type": "stream",
     "text": [
      "0.995 квантиль 334.0\n"
     ]
    }
   ],
   "source": [
    "print('0.995 квантиль', data['Power'].quantile(.995))"
   ]
  },
  {
   "cell_type": "code",
   "execution_count": 26,
   "metadata": {
    "scrolled": false
   },
   "outputs": [
    {
     "data": {
      "image/png": "[encoded data removed]",
      "text/plain": [
       "<Figure size 1008x432 with 1 Axes>"
      ]
     },
     "metadata": {
      "needs_background": "light"
     },
     "output_type": "display_data"
    }
   ],
   "source": [
    "data['Power'][data['Power']<=350].plot.hist(\n",
    "    bins=100, edgecolor = 'black', figsize=(14, 6), grid=True, alpha = 0.4)\n",
    "plt.title('распределение мощности до 350 л/с', fontsize=20)\n",
    "plt.ylabel('Частота', fontsize=16)\n",
    "plt.xlabel('Мощность, л/с', fontsize=16);"
   ]
  },
  {
   "cell_type": "code",
   "execution_count": 27,
   "metadata": {
    "scrolled": false
   },
   "outputs": [
    {
     "data": {
      "text/html": [
       "<div>\n",
       "<style scoped>\n",
       "    .dataframe tbody tr th:only-of-type {\n",
       "        vertical-align: middle;\n",
       "    }\n",
       "\n",
       "    .dataframe tbody tr th {\n",
       "        vertical-align: top;\n",
       "    }\n",
       "\n",
       "    .dataframe thead th {\n",
       "        text-align: right;\n",
       "    }\n",
       "</style>\n",
       "<table border=\"1\" class=\"dataframe\">\n",
       "  <thead>\n",
       "    <tr style=\"text-align: right;\">\n",
       "      <th></th>\n",
       "      <th>335613</th>\n",
       "      <th>13952</th>\n",
       "      <th>197898</th>\n",
       "      <th>221544</th>\n",
       "      <th>324049</th>\n",
       "      <th>282202</th>\n",
       "    </tr>\n",
       "  </thead>\n",
       "  <tbody>\n",
       "    <tr>\n",
       "      <th>Price</th>\n",
       "      <td>1100</td>\n",
       "      <td>840</td>\n",
       "      <td>4590</td>\n",
       "      <td>1300</td>\n",
       "      <td>8750</td>\n",
       "      <td>4650</td>\n",
       "    </tr>\n",
       "    <tr>\n",
       "      <th>VehicleType</th>\n",
       "      <td>small</td>\n",
       "      <td>small</td>\n",
       "      <td>suv</td>\n",
       "      <td>bus</td>\n",
       "      <td>convertible</td>\n",
       "      <td>small</td>\n",
       "    </tr>\n",
       "    <tr>\n",
       "      <th>Gearbox</th>\n",
       "      <td>manual</td>\n",
       "      <td>manual</td>\n",
       "      <td>manual</td>\n",
       "      <td>manual</td>\n",
       "      <td>manual</td>\n",
       "      <td>auto</td>\n",
       "    </tr>\n",
       "    <tr>\n",
       "      <th>Power</th>\n",
       "      <td>34</td>\n",
       "      <td>34</td>\n",
       "      <td>18</td>\n",
       "      <td>20</td>\n",
       "      <td>8</td>\n",
       "      <td>6</td>\n",
       "    </tr>\n",
       "    <tr>\n",
       "      <th>Kilometer</th>\n",
       "      <td>5000</td>\n",
       "      <td>10000</td>\n",
       "      <td>10000</td>\n",
       "      <td>150000</td>\n",
       "      <td>5000</td>\n",
       "      <td>20000</td>\n",
       "    </tr>\n",
       "    <tr>\n",
       "      <th>FuelType</th>\n",
       "      <td>petrol</td>\n",
       "      <td>petrol</td>\n",
       "      <td>gasoline</td>\n",
       "      <td>NaN</td>\n",
       "      <td>petrol</td>\n",
       "      <td>petrol</td>\n",
       "    </tr>\n",
       "    <tr>\n",
       "      <th>NotRepaired</th>\n",
       "      <td>NaN</td>\n",
       "      <td>yes</td>\n",
       "      <td>no</td>\n",
       "      <td>yes</td>\n",
       "      <td>no</td>\n",
       "      <td>no</td>\n",
       "    </tr>\n",
       "    <tr>\n",
       "      <th>Brand_Model</th>\n",
       "      <td>volkswagen_kaefer</td>\n",
       "      <td>volkswagen_kaefer</td>\n",
       "      <td>sonstige_autos_unknown</td>\n",
       "      <td>volkswagen_transporter</td>\n",
       "      <td>citroen_c3</td>\n",
       "      <td>sonstige_autos_unknown</td>\n",
       "    </tr>\n",
       "    <tr>\n",
       "      <th>HowOld_Month</th>\n",
       "      <td>456</td>\n",
       "      <td>537</td>\n",
       "      <td>117</td>\n",
       "      <td>334</td>\n",
       "      <td>1175</td>\n",
       "      <td>251</td>\n",
       "    </tr>\n",
       "  </tbody>\n",
       "</table>\n",
       "</div>"
      ],
      "text/plain": [
       "                         335613             13952                   197898  \\\n",
       "Price                      1100                840                    4590   \n",
       "VehicleType               small              small                     suv   \n",
       "Gearbox                  manual             manual                  manual   \n",
       "Power                        34                 34                      18   \n",
       "Kilometer                  5000              10000                   10000   \n",
       "FuelType                 petrol             petrol                gasoline   \n",
       "NotRepaired                 NaN                yes                      no   \n",
       "Brand_Model   volkswagen_kaefer  volkswagen_kaefer  sonstige_autos_unknown   \n",
       "HowOld_Month                456                537                     117   \n",
       "\n",
       "                              221544       324049                  282202  \n",
       "Price                           1300         8750                    4650  \n",
       "VehicleType                      bus  convertible                   small  \n",
       "Gearbox                       manual       manual                    auto  \n",
       "Power                             20            8                       6  \n",
       "Kilometer                     150000         5000                   20000  \n",
       "FuelType                         NaN       petrol                  petrol  \n",
       "NotRepaired                      yes           no                      no  \n",
       "Brand_Model   volkswagen_transporter   citroen_c3  sonstige_autos_unknown  \n",
       "HowOld_Month                     334         1175                     251  "
      ]
     },
     "metadata": {},
     "output_type": "display_data"
    }
   ],
   "source": [
    "#посмотрим на автомобили с мощностью от 1 до 40 л/с\n",
    "display(data[(data['Power']<40) & (data['Power']>0)].sample(6).T)"
   ]
  },
  {
   "cell_type": "markdown",
   "metadata": {},
   "source": [
    "Похоже на правду. Среди объявлений есть маломощные атомобили типа trabant"
   ]
  },
  {
   "cell_type": "code",
   "execution_count": 28,
   "metadata": {},
   "outputs": [
    {
     "data": {
      "image/png": "[encoded data removed]",
      "text/plain": [
       "<Figure size 1008x432 with 1 Axes>"
      ]
     },
     "metadata": {
      "needs_background": "light"
     },
     "output_type": "display_data"
    }
   ],
   "source": [
    "data['Power'][(data['Power']>350) & (data['Power']<=500)].plot.hist(\n",
    "    bins=100, edgecolor = 'black', figsize=(14, 6), grid=True, alpha = 0.4)\n",
    "plt.title('распределение мощности от 350 до 500 л/с', fontsize=20)\n",
    "plt.ylabel('Частота', fontsize=16)\n",
    "plt.xlabel('Мощность, л/с', fontsize=16);"
   ]
  },
  {
   "cell_type": "code",
   "execution_count": 29,
   "metadata": {
    "scrolled": false
   },
   "outputs": [
    {
     "name": "stdout",
     "output_type": "stream",
     "text": [
      "724\n"
     ]
    },
    {
     "data": {
      "text/html": [
       "<div>\n",
       "<style scoped>\n",
       "    .dataframe tbody tr th:only-of-type {\n",
       "        vertical-align: middle;\n",
       "    }\n",
       "\n",
       "    .dataframe tbody tr th {\n",
       "        vertical-align: top;\n",
       "    }\n",
       "\n",
       "    .dataframe thead th {\n",
       "        text-align: right;\n",
       "    }\n",
       "</style>\n",
       "<table border=\"1\" class=\"dataframe\">\n",
       "  <thead>\n",
       "    <tr style=\"text-align: right;\">\n",
       "      <th></th>\n",
       "      <th>78201</th>\n",
       "      <th>220054</th>\n",
       "      <th>216387</th>\n",
       "      <th>248352</th>\n",
       "      <th>136194</th>\n",
       "      <th>14962</th>\n",
       "      <th>129565</th>\n",
       "    </tr>\n",
       "  </thead>\n",
       "  <tbody>\n",
       "    <tr>\n",
       "      <th>Price</th>\n",
       "      <td>18700</td>\n",
       "      <td>17299</td>\n",
       "      <td>12500</td>\n",
       "      <td>15800</td>\n",
       "      <td>17500</td>\n",
       "      <td>10550</td>\n",
       "      <td>13900</td>\n",
       "    </tr>\n",
       "    <tr>\n",
       "      <th>VehicleType</th>\n",
       "      <td>suv</td>\n",
       "      <td>suv</td>\n",
       "      <td>small</td>\n",
       "      <td>wagon</td>\n",
       "      <td>sedan</td>\n",
       "      <td>coupe</td>\n",
       "      <td>sedan</td>\n",
       "    </tr>\n",
       "    <tr>\n",
       "      <th>Gearbox</th>\n",
       "      <td>auto</td>\n",
       "      <td>auto</td>\n",
       "      <td>manual</td>\n",
       "      <td>auto</td>\n",
       "      <td>auto</td>\n",
       "      <td>manual</td>\n",
       "      <td>manual</td>\n",
       "    </tr>\n",
       "    <tr>\n",
       "      <th>Power</th>\n",
       "      <td>450</td>\n",
       "      <td>450</td>\n",
       "      <td>500</td>\n",
       "      <td>450</td>\n",
       "      <td>431</td>\n",
       "      <td>379</td>\n",
       "      <td>400</td>\n",
       "    </tr>\n",
       "    <tr>\n",
       "      <th>Kilometer</th>\n",
       "      <td>125000</td>\n",
       "      <td>150000</td>\n",
       "      <td>100000</td>\n",
       "      <td>150000</td>\n",
       "      <td>125000</td>\n",
       "      <td>40000</td>\n",
       "      <td>150000</td>\n",
       "    </tr>\n",
       "    <tr>\n",
       "      <th>FuelType</th>\n",
       "      <td>petrol</td>\n",
       "      <td>lpg</td>\n",
       "      <td>petrol</td>\n",
       "      <td>petrol</td>\n",
       "      <td>petrol</td>\n",
       "      <td>petrol</td>\n",
       "      <td>petrol</td>\n",
       "    </tr>\n",
       "    <tr>\n",
       "      <th>NotRepaired</th>\n",
       "      <td>no</td>\n",
       "      <td>no</td>\n",
       "      <td>no</td>\n",
       "      <td>no</td>\n",
       "      <td>no</td>\n",
       "      <td>no</td>\n",
       "      <td>no</td>\n",
       "    </tr>\n",
       "    <tr>\n",
       "      <th>Brand_Model</th>\n",
       "      <td>porsche_cayenne</td>\n",
       "      <td>porsche_cayenne</td>\n",
       "      <td>audi_a3</td>\n",
       "      <td>audi_other</td>\n",
       "      <td>chrysler_300c</td>\n",
       "      <td>audi_tt</td>\n",
       "      <td>bmw_m_reihe</td>\n",
       "    </tr>\n",
       "    <tr>\n",
       "      <th>HowOld_Month</th>\n",
       "      <td>207</td>\n",
       "      <td>197</td>\n",
       "      <td>226</td>\n",
       "      <td>216</td>\n",
       "      <td>170</td>\n",
       "      <td>260</td>\n",
       "      <td>248</td>\n",
       "    </tr>\n",
       "  </tbody>\n",
       "</table>\n",
       "</div>"
      ],
      "text/plain": [
       "                       78201            220054   216387      248352  \\\n",
       "Price                   18700            17299    12500       15800   \n",
       "VehicleType               suv              suv    small       wagon   \n",
       "Gearbox                  auto             auto   manual        auto   \n",
       "Power                     450              450      500         450   \n",
       "Kilometer              125000           150000   100000      150000   \n",
       "FuelType               petrol              lpg   petrol      petrol   \n",
       "NotRepaired                no               no       no          no   \n",
       "Brand_Model   porsche_cayenne  porsche_cayenne  audi_a3  audi_other   \n",
       "HowOld_Month              207              197      226         216   \n",
       "\n",
       "                     136194   14962        129565  \n",
       "Price                 17500    10550        13900  \n",
       "VehicleType           sedan    coupe        sedan  \n",
       "Gearbox                auto   manual       manual  \n",
       "Power                   431      379          400  \n",
       "Kilometer            125000    40000       150000  \n",
       "FuelType             petrol   petrol       petrol  \n",
       "NotRepaired              no       no           no  \n",
       "Brand_Model   chrysler_300c  audi_tt  bmw_m_reihe  \n",
       "HowOld_Month            170      260          248  "
      ]
     },
     "metadata": {},
     "output_type": "display_data"
    }
   ],
   "source": [
    "#посмотрим на автомобили с мощностью от 350 л/с до 500 л/с\n",
    "print(len(data[(data['Power']>350) & (data['Power']<=500)]))\n",
    "display(data[(data['Power']>350) & (data['Power']<=500)].sample(7).T)"
   ]
  },
  {
   "cell_type": "markdown",
   "metadata": {},
   "source": [
    "Похоже на правду (в списке в основном porsche, bmw, mercedes_benz и т.п., хотя встречаются и неправдоподобные volkswagen golf 365 л/с) "
   ]
  },
  {
   "cell_type": "code",
   "execution_count": 30,
   "metadata": {
    "scrolled": false
   },
   "outputs": [
    {
     "name": "stdout",
     "output_type": "stream",
     "text": [
      "количество автомобилей с мощностью свыше 500 л.с.:\n",
      "422\n",
      "доля автомобилей с мощностью свыше 500 л.с.:\n",
      "0.0012341274251188798\n"
     ]
    },
    {
     "data": {
      "text/html": [
       "<div>\n",
       "<style scoped>\n",
       "    .dataframe tbody tr th:only-of-type {\n",
       "        vertical-align: middle;\n",
       "    }\n",
       "\n",
       "    .dataframe tbody tr th {\n",
       "        vertical-align: top;\n",
       "    }\n",
       "\n",
       "    .dataframe thead th {\n",
       "        text-align: right;\n",
       "    }\n",
       "</style>\n",
       "<table border=\"1\" class=\"dataframe\">\n",
       "  <thead>\n",
       "    <tr style=\"text-align: right;\">\n",
       "      <th></th>\n",
       "      <th>77779</th>\n",
       "      <th>143053</th>\n",
       "      <th>148727</th>\n",
       "      <th>331252</th>\n",
       "      <th>297505</th>\n",
       "      <th>123019</th>\n",
       "      <th>249332</th>\n",
       "    </tr>\n",
       "  </thead>\n",
       "  <tbody>\n",
       "    <tr>\n",
       "      <th>Price</th>\n",
       "      <td>850</td>\n",
       "      <td>120</td>\n",
       "      <td>2300</td>\n",
       "      <td>4600</td>\n",
       "      <td>650</td>\n",
       "      <td>950</td>\n",
       "      <td>2600</td>\n",
       "    </tr>\n",
       "    <tr>\n",
       "      <th>VehicleType</th>\n",
       "      <td>sedan</td>\n",
       "      <td>small</td>\n",
       "      <td>NaN</td>\n",
       "      <td>small</td>\n",
       "      <td>small</td>\n",
       "      <td>small</td>\n",
       "      <td>sedan</td>\n",
       "    </tr>\n",
       "    <tr>\n",
       "      <th>Gearbox</th>\n",
       "      <td>manual</td>\n",
       "      <td>manual</td>\n",
       "      <td>manual</td>\n",
       "      <td>manual</td>\n",
       "      <td>manual</td>\n",
       "      <td>manual</td>\n",
       "      <td>auto</td>\n",
       "    </tr>\n",
       "    <tr>\n",
       "      <th>Power</th>\n",
       "      <td>12510</td>\n",
       "      <td>5815</td>\n",
       "      <td>1300</td>\n",
       "      <td>601</td>\n",
       "      <td>1299</td>\n",
       "      <td>7508</td>\n",
       "      <td>1595</td>\n",
       "    </tr>\n",
       "    <tr>\n",
       "      <th>Kilometer</th>\n",
       "      <td>30000</td>\n",
       "      <td>150000</td>\n",
       "      <td>125000</td>\n",
       "      <td>80000</td>\n",
       "      <td>150000</td>\n",
       "      <td>150000</td>\n",
       "      <td>5000</td>\n",
       "    </tr>\n",
       "    <tr>\n",
       "      <th>FuelType</th>\n",
       "      <td>NaN</td>\n",
       "      <td>petrol</td>\n",
       "      <td>lpg</td>\n",
       "      <td>petrol</td>\n",
       "      <td>petrol</td>\n",
       "      <td>NaN</td>\n",
       "      <td>petrol</td>\n",
       "    </tr>\n",
       "    <tr>\n",
       "      <th>NotRepaired</th>\n",
       "      <td>no</td>\n",
       "      <td>yes</td>\n",
       "      <td>no</td>\n",
       "      <td>no</td>\n",
       "      <td>NaN</td>\n",
       "      <td>no</td>\n",
       "      <td>no</td>\n",
       "    </tr>\n",
       "    <tr>\n",
       "      <th>Brand_Model</th>\n",
       "      <td>opel_astra</td>\n",
       "      <td>renault_twingo</td>\n",
       "      <td>mitsubishi_other</td>\n",
       "      <td>volkswagen_polo</td>\n",
       "      <td>ford_ka</td>\n",
       "      <td>opel_astra</td>\n",
       "      <td>volkswagen_golf</td>\n",
       "    </tr>\n",
       "    <tr>\n",
       "      <th>HowOld_Month</th>\n",
       "      <td>242</td>\n",
       "      <td>291</td>\n",
       "      <td>54</td>\n",
       "      <td>155</td>\n",
       "      <td>248</td>\n",
       "      <td>276</td>\n",
       "      <td>234</td>\n",
       "    </tr>\n",
       "  </tbody>\n",
       "</table>\n",
       "</div>"
      ],
      "text/plain": [
       "                  77779           143053            148727           331252  \\\n",
       "Price                850             120              2300             4600   \n",
       "VehicleType        sedan           small               NaN            small   \n",
       "Gearbox           manual          manual            manual           manual   \n",
       "Power              12510            5815              1300              601   \n",
       "Kilometer          30000          150000            125000            80000   \n",
       "FuelType             NaN          petrol               lpg           petrol   \n",
       "NotRepaired           no             yes                no               no   \n",
       "Brand_Model   opel_astra  renault_twingo  mitsubishi_other  volkswagen_polo   \n",
       "HowOld_Month         242             291                54              155   \n",
       "\n",
       "               297505      123019           249332  \n",
       "Price             650         950             2600  \n",
       "VehicleType     small       small            sedan  \n",
       "Gearbox        manual      manual             auto  \n",
       "Power            1299        7508             1595  \n",
       "Kilometer      150000      150000             5000  \n",
       "FuelType       petrol         NaN           petrol  \n",
       "NotRepaired       NaN          no               no  \n",
       "Brand_Model   ford_ka  opel_astra  volkswagen_golf  \n",
       "HowOld_Month      248         276              234  "
      ]
     },
     "metadata": {},
     "output_type": "display_data"
    }
   ],
   "source": [
    "#посмотрим на автомобили с мощностью свыше 500 л/с\n",
    "print('количество автомобилей с мощностью свыше 500 л.с.:')\n",
    "print(len(data[data['Power']>500]))\n",
    "print('доля автомобилей с мощностью свыше 500 л.с.:')\n",
    "print(len(data[data['Power']>500])/len(data))\n",
    "display(data[data['Power']>500].sample(7).T)"
   ]
  },
  {
   "cell_type": "markdown",
   "metadata": {},
   "source": [
    "Тут уже совсем неверотные мощности. Т.к. в выборке предсталены автомобили стоимостью до 20000 евро (около 1,8 млн. руб.) можем считать что мощность свыше 500 л./с указана ошибочно."
   ]
  },
  {
   "cell_type": "code",
   "execution_count": 31,
   "metadata": {},
   "outputs": [],
   "source": [
    "#в Power оставляем значения в диапазоне 1-500 л.с. Остальным присваиваем NaN\n",
    "data['Power'] = data['Power'].where(data['Power']!=0, np.NaN)\n",
    "data['Power'] = data['Power'].where(data['Power']<=500, np.NaN)"
   ]
  },
  {
   "cell_type": "markdown",
   "metadata": {},
   "source": [
    "<a name=\"28\"></a>\n",
    "### Заполнение пропусков"
   ]
  },
  {
   "cell_type": "code",
   "execution_count": 32,
   "metadata": {},
   "outputs": [],
   "source": [
    "nan_colomn = 'Power'             #переменная задает столбец с пропуском\n",
    "group_colomn = 'Brand_Model'     #переменная задает столбец по которому будем группировать для поиска медианы\n",
    "median_series = data.groupby(group_colomn)[nan_colomn].median() #series со значениями медиан по группе\n",
    "\n",
    "#Заполняем 'Power' медианой соответствующей марки/модели\n",
    "data[nan_colomn] = data[nan_colomn].fillna(data.apply(median_groupby, axis=1))"
   ]
  },
  {
   "cell_type": "code",
   "execution_count": 33,
   "metadata": {},
   "outputs": [
    {
     "data": {
      "text/html": [
       "<div>\n",
       "<style scoped>\n",
       "    .dataframe tbody tr th:only-of-type {\n",
       "        vertical-align: middle;\n",
       "    }\n",
       "\n",
       "    .dataframe tbody tr th {\n",
       "        vertical-align: top;\n",
       "    }\n",
       "\n",
       "    .dataframe thead th {\n",
       "        text-align: right;\n",
       "    }\n",
       "</style>\n",
       "<table border=\"1\" class=\"dataframe\">\n",
       "  <thead>\n",
       "    <tr style=\"text-align: right;\">\n",
       "      <th></th>\n",
       "      <th>234296</th>\n",
       "    </tr>\n",
       "  </thead>\n",
       "  <tbody>\n",
       "    <tr>\n",
       "      <th>Price</th>\n",
       "      <td>3800</td>\n",
       "    </tr>\n",
       "    <tr>\n",
       "      <th>VehicleType</th>\n",
       "      <td>wagon</td>\n",
       "    </tr>\n",
       "    <tr>\n",
       "      <th>Gearbox</th>\n",
       "      <td>manual</td>\n",
       "    </tr>\n",
       "    <tr>\n",
       "      <th>Power</th>\n",
       "      <td>NaN</td>\n",
       "    </tr>\n",
       "    <tr>\n",
       "      <th>Kilometer</th>\n",
       "      <td>30000</td>\n",
       "    </tr>\n",
       "    <tr>\n",
       "      <th>FuelType</th>\n",
       "      <td>gasoline</td>\n",
       "    </tr>\n",
       "    <tr>\n",
       "      <th>NotRepaired</th>\n",
       "      <td>NaN</td>\n",
       "    </tr>\n",
       "    <tr>\n",
       "      <th>Brand_Model</th>\n",
       "      <td>land_rover_serie_1</td>\n",
       "    </tr>\n",
       "    <tr>\n",
       "      <th>HowOld_Month</th>\n",
       "      <td>516</td>\n",
       "    </tr>\n",
       "  </tbody>\n",
       "</table>\n",
       "</div>"
      ],
      "text/plain": [
       "                          234296\n",
       "Price                       3800\n",
       "VehicleType                wagon\n",
       "Gearbox                   manual\n",
       "Power                        NaN\n",
       "Kilometer                  30000\n",
       "FuelType                gasoline\n",
       "NotRepaired                  NaN\n",
       "Brand_Model   land_rover_serie_1\n",
       "HowOld_Month                 516"
      ]
     },
     "metadata": {},
     "output_type": "display_data"
    }
   ],
   "source": [
    "display(data[data['Power'].isna()==True].T)"
   ]
  },
  {
   "cell_type": "code",
   "execution_count": 34,
   "metadata": {},
   "outputs": [],
   "source": [
    "#удаляем одну строку для которой не нашлось медианы\n",
    "data = data.dropna(subset = ['Power'])"
   ]
  },
  {
   "cell_type": "code",
   "execution_count": 35,
   "metadata": {},
   "outputs": [],
   "source": [
    "#data['Power'].plot.hist(bins=100, edgecolor = 'black', figsize=(14, 6), grid=True, alpha = 0.4);"
   ]
  },
  {
   "cell_type": "code",
   "execution_count": 36,
   "metadata": {},
   "outputs": [],
   "source": [
    "#оставшиеся пропуски в категориальных столбцах (VehicleType, Gearbox, FuelType, NotRepaired) заполним строкой 'unknown' \n",
    "data = data.fillna('unknown')"
   ]
  },
  {
   "cell_type": "code",
   "execution_count": 37,
   "metadata": {},
   "outputs": [],
   "source": [
    "data['Power'] = data['Power'].astype('int')"
   ]
  },
  {
   "cell_type": "code",
   "execution_count": 38,
   "metadata": {
    "scrolled": true
   },
   "outputs": [
    {
     "name": "stdout",
     "output_type": "stream",
     "text": [
      "<class 'pandas.core.frame.DataFrame'>\n",
      "Int64Index: 341941 entries, 0 to 354368\n",
      "Data columns (total 9 columns):\n",
      " #   Column        Non-Null Count   Dtype \n",
      "---  ------        --------------   ----- \n",
      " 0   Price         341941 non-null  int64 \n",
      " 1   VehicleType   341941 non-null  object\n",
      " 2   Gearbox       341941 non-null  object\n",
      " 3   Power         341941 non-null  int32 \n",
      " 4   Kilometer     341941 non-null  int64 \n",
      " 5   FuelType      341941 non-null  object\n",
      " 6   NotRepaired   341941 non-null  object\n",
      " 7   Brand_Model   341941 non-null  object\n",
      " 8   HowOld_Month  341941 non-null  int64 \n",
      "dtypes: int32(1), int64(3), object(5)\n",
      "memory usage: 24.8+ MB\n"
     ]
    }
   ],
   "source": [
    "data.info()"
   ]
  },
  {
   "cell_type": "markdown",
   "metadata": {},
   "source": [
    "<a name=\"29\"></a>\n",
    "### Корреляция"
   ]
  },
  {
   "cell_type": "code",
   "execution_count": 39,
   "metadata": {},
   "outputs": [
    {
     "data": {
      "text/plain": [
       "<AxesSubplot:>"
      ]
     },
     "execution_count": 39,
     "metadata": {},
     "output_type": "execute_result"
    },
    {
     "data": {
      "image/png": "[encoded data removed]",
      "text/plain": [
       "<Figure size 1008x432 with 2 Axes>"
      ]
     },
     "metadata": {
      "needs_background": "light"
     },
     "output_type": "display_data"
    }
   ],
   "source": [
    "fig, ax = plt.subplots(figsize=(14,6))\n",
    "sns.heatmap(data.corr(), annot = True, vmin=-1, vmax=1, center= 0, cmap= 'coolwarm', fmt='.2g')"
   ]
  },
  {
   "cell_type": "markdown",
   "metadata": {},
   "source": [
    "<a name=\"210\"></a>\n",
    "### Итого"
   ]
  },
  {
   "cell_type": "markdown",
   "metadata": {},
   "source": [
    "Из 354369 строк осталось 341941."
   ]
  },
  {
   "cell_type": "code",
   "execution_count": 40,
   "metadata": {},
   "outputs": [
    {
     "data": {
      "text/plain": [
       "0.035070787794643433"
      ]
     },
     "execution_count": 40,
     "metadata": {},
     "output_type": "execute_result"
    }
   ],
   "source": [
    "(354369 - 341941)/354369"
   ]
  },
  {
   "cell_type": "markdown",
   "metadata": {},
   "source": [
    "На очистке потеряли 3,5%. В основном за счет некорректной цены."
   ]
  },
  {
   "cell_type": "markdown",
   "metadata": {},
   "source": [
    "<a name=\"3\"></a>\n",
    "## Обучение моделей"
   ]
  },
  {
   "cell_type": "code",
   "execution_count": 41,
   "metadata": {},
   "outputs": [],
   "source": [
    "kfold = KFold(n_splits=5, random_state=123, shuffle=True)"
   ]
  },
  {
   "cell_type": "markdown",
   "metadata": {},
   "source": [
    "<a name=\"31\"></a>\n",
    "### LightGBM"
   ]
  },
  {
   "cell_type": "markdown",
   "metadata": {},
   "source": [
    "Для работы алгоритма с категориальными признаками необходимо передать соответствующим столбцам тип 'category'"
   ]
  },
  {
   "cell_type": "code",
   "execution_count": 42,
   "metadata": {},
   "outputs": [],
   "source": [
    "data_2 = data.copy(deep=True)"
   ]
  },
  {
   "cell_type": "code",
   "execution_count": 43,
   "metadata": {},
   "outputs": [],
   "source": [
    "#изменим тип категорийных столбцов с object на category\n",
    "cat_col = data_2.select_dtypes(include='object').columns\n",
    "for col in cat_col:\n",
    "    data_2[col] = data_2[col].astype('category')\n",
    "#data_2.info()"
   ]
  },
  {
   "cell_type": "code",
   "execution_count": 44,
   "metadata": {},
   "outputs": [],
   "source": [
    "features_train_2, features_test_2, target_train_2, target_test_2 = train_test_split(\n",
    "    data_2.drop(['Price'], axis=1), data_2['Price'], test_size=0.2, random_state=123)"
   ]
  },
  {
   "cell_type": "code",
   "execution_count": 45,
   "metadata": {},
   "outputs": [
    {
     "name": "stdout",
     "output_type": "stream",
     "text": [
      "Модель: model_2 (LGBMRegressor),            rmse(евро): 1584   время работы(сек.): 752\n",
      "Параметры: {'boosting_type': 'gbdt', 'max_depth': 18, 'metric': 'rmse', 'n_estimators': 1000}\n"
     ]
    }
   ],
   "source": [
    "beg_time = datetime.datetime.now()\n",
    "model_2 = LGBMRegressor()\n",
    "\n",
    "parametrs = { 'metric': ['rmse'],\n",
    "              'boosting_type': ['gbdt'], #, 'dart']\n",
    "              'n_estimators': [500, 750, 1000],\n",
    "              'max_depth': [-1, 10, 18, 26] }\n",
    "\n",
    "grid = GridSearchCV(model_2, parametrs, cv=kfold, scoring='neg_mean_absolute_error')\n",
    "grid.fit(features_train_2, target_train_2)\n",
    "params = grid.best_params_\n",
    "model_2 = LGBMRegressor().set_params(**params)\n",
    "negmse = cross_val_score(model_2, features_train_2, target_train_2, cv=kfold, scoring='neg_mean_squared_error')\n",
    "\n",
    "model_2.name = 'model_2 (LGBMRegressor),         '\n",
    "model_2.rmse = np.sqrt(-negmse.mean())\n",
    "model_2.time = (datetime.datetime.now()-beg_time).seconds\n",
    "model_2.params = params\n",
    "\n",
    "print('Модель:', model_2.name, '  rmse(евро): %.0f' %model_2.rmse, '  время работы(сек.):',model_2.time)\n",
    "print('Параметры:', model_2.params)"
   ]
  },
  {
   "cell_type": "markdown",
   "metadata": {},
   "source": [
    "<a name=\"32\"></a>\n",
    "### \"Деревянные\" модели"
   ]
  },
  {
   "cell_type": "markdown",
   "metadata": {},
   "source": [
    "Для деревянных моделей необходимо закодировать категориальные столбцы"
   ]
  },
  {
   "cell_type": "code",
   "execution_count": 46,
   "metadata": {},
   "outputs": [],
   "source": [
    "data_3 = data.copy(deep=True)"
   ]
  },
  {
   "cell_type": "code",
   "execution_count": 47,
   "metadata": {},
   "outputs": [],
   "source": [
    "data_3_beg_time = datetime.datetime.now() #учтем время на подготовку признаков\n",
    "\n",
    "data_3 = pd.get_dummies(data_3, drop_first=True)\n",
    "#print(data.head(3))\n",
    "#print(data.info())\n",
    "\n",
    "data_3.time = (datetime.datetime.now()-data_3_beg_time).seconds"
   ]
  },
  {
   "cell_type": "code",
   "execution_count": 48,
   "metadata": {},
   "outputs": [],
   "source": [
    "features_train_3, features_test_3, target_train_3, target_test_3 = train_test_split(\n",
    "    data_3.drop(['Price'], axis=1), data_3['Price'], test_size=0.2, random_state=123)"
   ]
  },
  {
   "cell_type": "code",
   "execution_count": 49,
   "metadata": {},
   "outputs": [
    {
     "name": "stdout",
     "output_type": "stream",
     "text": [
      "Модель: model_3 (DecisionTreeRegressor),    rmse(евро): 1841   время работы(сек.): 2063\n",
      "Параметры: {'max_depth': None, 'max_features': 'auto', 'min_samples_split': 50}\n"
     ]
    }
   ],
   "source": [
    "beg_time = datetime.datetime.now()\n",
    "model_3 = DecisionTreeRegressor()\n",
    "\n",
    "parametrs = { 'max_features' : [\"auto\", \"sqrt\", \"log2\"],\n",
    "              'min_samples_split': [2, 10, 50, 100], \n",
    "              'max_depth': [None, 24, 32]}\n",
    "\n",
    "grid = GridSearchCV(model_3, parametrs, cv=kfold, scoring='neg_mean_absolute_error')\n",
    "grid.fit(features_train_3, target_train_3)\n",
    "params = grid.best_params_\n",
    "model_3 = DecisionTreeRegressor().set_params(**params)\n",
    "negmse = cross_val_score(model_3, features_train_3, target_train_3, cv=kfold, scoring='neg_mean_squared_error')\n",
    "\n",
    "model_3.name = 'model_3 (DecisionTreeRegressor), '\n",
    "model_3.rmse = np.sqrt(-negmse.mean())\n",
    "model_3.time = (datetime.datetime.now()-beg_time).seconds + data_3.time\n",
    "model_3.params = params\n",
    "\n",
    "print('Модель:', model_3.name, '  rmse(евро): %.0f' %model_3.rmse, '  время работы(сек.):',model_3.time)\n",
    "print('Параметры:', params)"
   ]
  },
  {
   "cell_type": "code",
   "execution_count": 50,
   "metadata": {},
   "outputs": [
    {
     "name": "stdout",
     "output_type": "stream",
     "text": [
      "Модель: model_4 (RandomForestRegressor),    rmse(евро): 1679   время работы(сек.): 3616\n",
      "Параметры: {'max_depth': None, 'n_estimators': 20}\n"
     ]
    }
   ],
   "source": [
    "beg_time = datetime.datetime.now()\n",
    "model_4 = RandomForestRegressor()\n",
    "\n",
    "parametrs = { 'n_estimators': [10, 20],\n",
    "#              'max_features' : [\"auto\", \"sqrt\", \"log2\"],\n",
    "#              'min_samples_split': [2, 4, 6, 8] \n",
    "              'max_depth': [None]}\n",
    "\n",
    "grid = GridSearchCV(model_4, parametrs, cv=kfold, scoring='neg_mean_absolute_error')\n",
    "grid.fit(features_train_3, target_train_3)\n",
    "params = grid.best_params_\n",
    "model_4 = RandomForestRegressor().set_params(**params)\n",
    "negmse = cross_val_score(model_4, features_train_3, target_train_3, cv=kfold, scoring='neg_mean_squared_error')\n",
    "\n",
    "model_4.name = 'model_4 (RandomForestRegressor), '\n",
    "model_4.rmse = np.sqrt(-negmse.mean())\n",
    "model_4.time = (datetime.datetime.now()-beg_time).seconds + data_3.time\n",
    "model_4.params = params\n",
    "\n",
    "print('Модель:', model_4.name, '  rmse(евро): %.0f' %model_4.rmse, '  время работы(сек.):',model_4.time)\n",
    "print('Параметры:', params)"
   ]
  },
  {
   "cell_type": "markdown",
   "metadata": {},
   "source": [
    "<a name=\"33\"></a>\n",
    "### Линейная регрессия"
   ]
  },
  {
   "cell_type": "code",
   "execution_count": 51,
   "metadata": {},
   "outputs": [],
   "source": [
    "data_4 = data.copy(deep=True)"
   ]
  },
  {
   "cell_type": "code",
   "execution_count": 52,
   "metadata": {},
   "outputs": [
    {
     "name": "stdout",
     "output_type": "stream",
     "text": [
      "<class 'pandas.core.frame.DataFrame'>\n",
      "Int64Index: 341941 entries, 0 to 354368\n",
      "Data columns (total 9 columns):\n",
      " #   Column        Non-Null Count   Dtype \n",
      "---  ------        --------------   ----- \n",
      " 0   Price         341941 non-null  int64 \n",
      " 1   VehicleType   341941 non-null  object\n",
      " 2   Gearbox       341941 non-null  object\n",
      " 3   Power         341941 non-null  int32 \n",
      " 4   Kilometer     341941 non-null  int64 \n",
      " 5   FuelType      341941 non-null  object\n",
      " 6   NotRepaired   341941 non-null  object\n",
      " 7   Brand_Model   341941 non-null  object\n",
      " 8   HowOld_Month  341941 non-null  int64 \n",
      "dtypes: int32(1), int64(3), object(5)\n",
      "memory usage: 24.8+ MB\n"
     ]
    }
   ],
   "source": [
    "data_4.info()"
   ]
  },
  {
   "cell_type": "code",
   "execution_count": 53,
   "metadata": {
    "scrolled": true
   },
   "outputs": [],
   "source": [
    "#Создадим новые признаки и заполним их медианами соответствующих категорий\n",
    "#cat_col = data_4.select_dtypes(include='object').columns\n",
    "data_4_beg_time = datetime.datetime.now() #учтем время на подготовку признаков\n",
    "\n",
    "for col in cat_col:\n",
    "    nan_colomn = col + '_MeanPrice'\n",
    "    group_colomn = col\n",
    "    median_series = data_2.groupby(group_colomn)['Price'].median()\n",
    "    \n",
    "    data_4[nan_colomn] = np.NaN\n",
    "    data_4[nan_colomn] = data_4[nan_colomn].fillna(data_4.apply(median_groupby, axis=1))\n",
    "    \n",
    "    data_4 = data_4.drop([col], axis=1)\n",
    "    data_4[nan_colomn] = data_4[nan_colomn].astype('int')\n",
    "    \n",
    "data_4.time = (datetime.datetime.now()-data_4_beg_time).seconds"
   ]
  },
  {
   "cell_type": "code",
   "execution_count": 54,
   "metadata": {},
   "outputs": [
    {
     "name": "stdout",
     "output_type": "stream",
     "text": [
      "<class 'pandas.core.frame.DataFrame'>\n",
      "Int64Index: 341941 entries, 0 to 354368\n",
      "Data columns (total 9 columns):\n",
      " #   Column                 Non-Null Count   Dtype\n",
      "---  ------                 --------------   -----\n",
      " 0   Price                  341941 non-null  int64\n",
      " 1   Power                  341941 non-null  int32\n",
      " 2   Kilometer              341941 non-null  int64\n",
      " 3   HowOld_Month           341941 non-null  int64\n",
      " 4   VehicleType_MeanPrice  341941 non-null  int32\n",
      " 5   Gearbox_MeanPrice      341941 non-null  int32\n",
      " 6   FuelType_MeanPrice     341941 non-null  int32\n",
      " 7   NotRepaired_MeanPrice  341941 non-null  int32\n",
      " 8   Brand_Model_MeanPrice  341941 non-null  int32\n",
      "dtypes: int32(6), int64(3)\n",
      "memory usage: 18.3 MB\n"
     ]
    }
   ],
   "source": [
    "data_4.info()"
   ]
  },
  {
   "cell_type": "code",
   "execution_count": 55,
   "metadata": {},
   "outputs": [
    {
     "data": {
      "text/plain": [
       "<AxesSubplot:>"
      ]
     },
     "execution_count": 55,
     "metadata": {},
     "output_type": "execute_result"
    },
    {
     "data": {
      "image/png": "[encoded data removed]",
      "text/plain": [
       "<Figure size 1008x432 with 2 Axes>"
      ]
     },
     "metadata": {
      "needs_background": "light"
     },
     "output_type": "display_data"
    }
   ],
   "source": [
    "fig, ax = plt.subplots(figsize=(14,6))\n",
    "sns.heatmap(data_4.corr(), annot = True, vmin=-1, vmax=1, center= 0, cmap= 'coolwarm', fmt='.2g')"
   ]
  },
  {
   "cell_type": "code",
   "execution_count": 56,
   "metadata": {},
   "outputs": [],
   "source": [
    "features_train_4, features_test_4, target_train_4, target_test_4 = train_test_split(\n",
    "    data_4.drop(['Price'], axis=1), data_4['Price'], test_size=0.2, random_state=123)"
   ]
  },
  {
   "cell_type": "code",
   "execution_count": 57,
   "metadata": {},
   "outputs": [],
   "source": [
    "#Нормализуем\n",
    "scaler = StandardScaler()\n",
    "scaler.fit(features_train_4)\n",
    "features_train_4 = scaler.transform(features_train_4)\n",
    "features_test_4 = scaler.transform(features_test_4)"
   ]
  },
  {
   "cell_type": "code",
   "execution_count": 58,
   "metadata": {},
   "outputs": [
    {
     "name": "stdout",
     "output_type": "stream",
     "text": [
      "Модель: model_5 (LinearRegression),         rmse(евро): 2973   время работы(сек.): 63\n"
     ]
    }
   ],
   "source": [
    "beg_time = datetime.datetime.now()\n",
    "model_5 = LinearRegression()\n",
    "\n",
    "negmse = cross_val_score(model_5, features_train_4, target_train_4, cv=kfold, scoring='neg_mean_squared_error')\n",
    "\n",
    "model_5.name = 'model_5 (LinearRegression),      '\n",
    "model_5.rmse = np.sqrt(-negmse.mean())\n",
    "model_5.time = (datetime.datetime.now()-beg_time).seconds + data_4.time\n",
    "\n",
    "print('Модель:', model_5.name, '  rmse(евро): %.0f' %model_5.rmse, '  время работы(сек.):',model_5.time)"
   ]
  },
  {
   "cell_type": "markdown",
   "metadata": {},
   "source": [
    "<a name=\"4\"></a>\n",
    "## Сравнение моделей на этапе обучения"
   ]
  },
  {
   "cell_type": "code",
   "execution_count": 59,
   "metadata": {},
   "outputs": [
    {
     "name": "stdout",
     "output_type": "stream",
     "text": [
      "Модель: model_2 (LGBMRegressor),            train rmse(евро): 1584   время на подготовку (сек.): 752\n",
      "Модель: model_3 (DecisionTreeRegressor),    train rmse(евро): 1841   время на подготовку (сек.): 2063\n",
      "Модель: model_4 (RandomForestRegressor),    train rmse(евро): 1679   время на подготовку (сек.): 3616\n",
      "Модель: model_5 (LinearRegression),         train rmse(евро): 2973   время на подготовку (сек.): 63\n"
     ]
    }
   ],
   "source": [
    "model_list = [model_2, model_3, model_4, model_5]\n",
    "for model in model_list:\n",
    "    print('Модель:', model.name, '  train rmse(евро): %.0f' %model.rmse, '  время на подготовку (сек.):',model.time)"
   ]
  },
  {
   "cell_type": "markdown",
   "metadata": {},
   "source": [
    "<a name=\"5\"></a>\n",
    "## Тестирование моделей"
   ]
  },
  {
   "cell_type": "code",
   "execution_count": 60,
   "metadata": {},
   "outputs": [],
   "source": [
    "beg_time = datetime.datetime.now()\n",
    "model_2.fit(features_train_2, target_train_2)\n",
    "model_2.fit_time = (datetime.datetime.now()-beg_time).seconds\n",
    "\n",
    "beg_time = datetime.datetime.now()\n",
    "model_2.predicted = model_2.predict(features_test_2)\n",
    "model_2.pred_time = (datetime.datetime.now()-beg_time).microseconds/1000\n",
    "\n",
    "model_2.test_rmse = mean_squared_error(target_test_2, model_2.predicted, squared=False)"
   ]
  },
  {
   "cell_type": "code",
   "execution_count": 61,
   "metadata": {},
   "outputs": [],
   "source": [
    "beg_time = datetime.datetime.now()\n",
    "model_3.fit(features_train_3, target_train_3)\n",
    "model_3.fit_time = (datetime.datetime.now()-beg_time).seconds\n",
    "\n",
    "beg_time = datetime.datetime.now()\n",
    "model_3.predicted = model_3.predict(features_test_3)\n",
    "model_3.pred_time = (datetime.datetime.now()-beg_time).microseconds/1000\n",
    "\n",
    "model_3.test_rmse = mean_squared_error(target_test_3, model_3.predicted, squared=False)"
   ]
  },
  {
   "cell_type": "code",
   "execution_count": 62,
   "metadata": {},
   "outputs": [],
   "source": [
    "beg_time = datetime.datetime.now()\n",
    "model_4.fit(features_train_3, target_train_3)\n",
    "model_4.fit_time = (datetime.datetime.now()-beg_time).seconds\n",
    "\n",
    "beg_time = datetime.datetime.now()\n",
    "model_4.predicted = model_4.predict(features_test_3)\n",
    "model_4.pred_time = (datetime.datetime.now()-beg_time).microseconds/1000\n",
    "\n",
    "model_4.test_rmse = mean_squared_error(target_test_3, model_4.predicted, squared=False)"
   ]
  },
  {
   "cell_type": "code",
   "execution_count": 63,
   "metadata": {},
   "outputs": [],
   "source": [
    "beg_time = datetime.datetime.now()\n",
    "model_5.fit(features_train_4, target_train_4)\n",
    "model_5.fit_time = (datetime.datetime.now()-beg_time).seconds\n",
    "\n",
    "beg_time = datetime.datetime.now()\n",
    "model_5.predicted = model_5.predict(features_test_4)\n",
    "model_5.pred_time = (datetime.datetime.now()-beg_time).microseconds/1000\n",
    "\n",
    "model_5.test_rmse = mean_squared_error(target_test_4, model_5.predicted, squared=False)"
   ]
  },
  {
   "cell_type": "code",
   "execution_count": 64,
   "metadata": {},
   "outputs": [],
   "source": [
    "#Соберем все характеристики в df\n",
    "a={}\n",
    "for i in model_list:\n",
    "    b={}    \n",
    "    b['model']=(i.name[9:]).rpartition(')')[0]\n",
    "    b['train_rmse_euro']=i.rmse.astype(int)\n",
    "    b['tuning_time_s']=i.time\n",
    "    b['fit_time_s']=i.fit_time\n",
    "    b['predict_time_ms']=i.pred_time\n",
    "    b['test_rmse_euro']=i.test_rmse.astype(int)\n",
    "    a[i.name[0:7]] = b\n",
    "\n",
    "final_table = pd.DataFrame(a)"
   ]
  },
  {
   "cell_type": "code",
   "execution_count": 65,
   "metadata": {
    "scrolled": false
   },
   "outputs": [
    {
     "data": {
      "text/html": [
       "<div>\n",
       "<style scoped>\n",
       "    .dataframe tbody tr th:only-of-type {\n",
       "        vertical-align: middle;\n",
       "    }\n",
       "\n",
       "    .dataframe tbody tr th {\n",
       "        vertical-align: top;\n",
       "    }\n",
       "\n",
       "    .dataframe thead th {\n",
       "        text-align: right;\n",
       "    }\n",
       "</style>\n",
       "<table border=\"1\" class=\"dataframe\">\n",
       "  <thead>\n",
       "    <tr style=\"text-align: right;\">\n",
       "      <th></th>\n",
       "      <th>model</th>\n",
       "      <th>train_rmse_euro</th>\n",
       "      <th>tuning_time_s</th>\n",
       "      <th>fit_time_s</th>\n",
       "      <th>predict_time_ms</th>\n",
       "      <th>test_rmse_euro</th>\n",
       "    </tr>\n",
       "  </thead>\n",
       "  <tbody>\n",
       "    <tr>\n",
       "      <th>model_2</th>\n",
       "      <td>LGBMRegressor</td>\n",
       "      <td>1583</td>\n",
       "      <td>752</td>\n",
       "      <td>14</td>\n",
       "      <td>377.236</td>\n",
       "      <td>1581</td>\n",
       "    </tr>\n",
       "    <tr>\n",
       "      <th>model_3</th>\n",
       "      <td>DecisionTreeRegressor</td>\n",
       "      <td>1841</td>\n",
       "      <td>2063</td>\n",
       "      <td>26</td>\n",
       "      <td>472.246</td>\n",
       "      <td>1829</td>\n",
       "    </tr>\n",
       "    <tr>\n",
       "      <th>model_4</th>\n",
       "      <td>RandomForestRegressor</td>\n",
       "      <td>1678</td>\n",
       "      <td>3616</td>\n",
       "      <td>343</td>\n",
       "      <td>916.387</td>\n",
       "      <td>1674</td>\n",
       "    </tr>\n",
       "    <tr>\n",
       "      <th>model_5</th>\n",
       "      <td>LinearRegression</td>\n",
       "      <td>2973</td>\n",
       "      <td>63</td>\n",
       "      <td>0</td>\n",
       "      <td>0</td>\n",
       "      <td>2984</td>\n",
       "    </tr>\n",
       "  </tbody>\n",
       "</table>\n",
       "</div>"
      ],
      "text/plain": [
       "                         model train_rmse_euro tuning_time_s fit_time_s  \\\n",
       "model_2          LGBMRegressor            1583           752         14   \n",
       "model_3  DecisionTreeRegressor            1841          2063         26   \n",
       "model_4  RandomForestRegressor            1678          3616        343   \n",
       "model_5       LinearRegression            2973            63          0   \n",
       "\n",
       "        predict_time_ms test_rmse_euro  \n",
       "model_2         377.236           1581  \n",
       "model_3         472.246           1829  \n",
       "model_4         916.387           1674  \n",
       "model_5               0           2984  "
      ]
     },
     "metadata": {},
     "output_type": "display_data"
    }
   ],
   "source": [
    "display(final_table.T)"
   ]
  },
  {
   "cell_type": "markdown",
   "metadata": {},
   "source": [
    "Меньше всего ошибается LGBM (в среднем на 1581 евро), метрика \"случайного леса\" на 6% хуже (1674 евро). При этом подготовка и обучение LGBM происходит значительно быстрее. Точность дерева и линейной регресии (по преобразованным признакам) ниже.  \n",
    "\n",
    "При более серьезном подборе параметров а также при увеличении количества деревьев RandomForest возможно незначительное улучшение качества предсказаний. "
   ]
  },
  {
   "cell_type": "markdown",
   "metadata": {},
   "source": [
    "**Чек-лист проверки**\n",
    "\n",
    "- [x]  Jupyter Notebook открыт\n",
    "- [x]  Весь код выполняется без ошибок\n",
    "- [x]  Ячейки с кодом расположены в порядке исполнения\n",
    "- [x]  Выполнена загрузка и подготовка данных\n",
    "- [x]  Выполнено обучение моделей\n",
    "- [x]  Есть анализ скорости работы и качества моделей"
   ]
  }
 ],
 "metadata": {
  "kernelspec": {
   "display_name": "Python 3",
   "language": "python",
   "name": "python3"
  },
  "language_info": {
   "codemirror_mode": {
    "name": "ipython",
    "version": 3
   },
   "file_extension": ".py",
   "mimetype": "text/x-python",
   "name": "python",
   "nbconvert_exporter": "python",
   "pygments_lexer": "ipython3",
   "version": "3.8.5"
  },
  "toc": {
   "base_numbering": 1,
   "nav_menu": {
    "height": "611px",
    "width": "578px"
   },
   "number_sections": true,
   "sideBar": true,
   "skip_h1_title": true,
   "title_cell": "Table of Contents",
   "title_sidebar": "Contents",
   "toc_cell": false,
   "toc_position": {},
   "toc_section_display": true,
   "toc_window_display": true
  }
 },
 "nbformat": 4,
 "nbformat_minor": 2
}
