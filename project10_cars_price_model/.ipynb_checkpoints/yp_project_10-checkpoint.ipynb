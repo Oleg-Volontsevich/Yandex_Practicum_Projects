{
 "cells": [
  {
   "cell_type": "markdown",
   "metadata": {},
   "source": [
    "Привет, меня зовут Люман Аблаев. Сегодня я проверю твой проект.\n",
    "<br> Дальнейшее общение будет происходить на \"ты\" если это не вызывает никаких проблем.\n",
    "<br> Желательно реагировать на каждый мой комментарий ('исправил', 'не понятно как исправить ошибку', ...)\n",
    "<br> Пожалуйста, не удаляй комментарии ревьюера, так как они повышают качество повторного ревью.\n",
    "\n",
    "Комментарии будут в <font color='green'>зеленой</font>, <font color='blue'>синей</font> или <font color='red'>красной</font> рамках:\n",
    "\n",
    "<div class=\"alert alert-block alert-success\">\n",
    "<b>Успех:</b> Если все сделано отлично\n",
    "</div>\n",
    "\n",
    "<div class=\"alert alert-block alert-info\">\n",
    "<b>Совет: </b> Если можно немного улучшить\n",
    "</div>\n",
    "\n",
    "<div class=\"alert alert-block alert-danger\">\n",
    "<b>Ошибка:</b> Если требуются исправления. Работа не может быть принята с красными комментариями.\n",
    "</div>\n",
    "\n",
    "\n",
    "<font color='orange' style='font-size:24px; font-weight:bold'>Общее впечатление</font>\n",
    "* Спасибо за то, что прислал такую хорошую работу, она сделана очень качественно!\n",
    "* Проект, достаточно аккуратный - приятно проверять такие работы. \n",
    "* Хорошее орофмление выводов, функций и таблиц, делают твою работу очень читабельной.\n",
    "- С радостью принимаю твою работу и желаю удачи в дальнейшем обучении!\n",
    "- Продолжай в том же духе, у тебя большой потенциал.\n"
   ]
  },
  {
   "cell_type": "markdown",
   "metadata": {},
   "source": [
    "|  |  |  |\n",
    "| ---: | :--- | :--- |\n",
    "| Курс:| Численные методы | 10 |\n",
    "| Срок обучения на момент сдачи: | 5 месяцев |\n",
    "\n",
    "\n",
    "# Определение стоимости автомобилей"
   ]
  },
  {
   "cell_type": "code",
   "execution_count": null,
   "metadata": {},
   "outputs": [],
   "source": []
  },
  {
   "cell_type": "markdown",
   "metadata": {},
   "source": [
    "## Содержание"
   ]
  },
  {
   "cell_type": "markdown",
   "metadata": {},
   "source": [
    "## Описание проекта и постановка задачи."
   ]
  },
  {
   "cell_type": "markdown",
   "metadata": {},
   "source": [
    "### Описание и цели проекта.\n",
    "Сервис по продаже автомобилей с пробегом «Не бит, не крашен» разрабатывает приложение для привлечения новых клиентов. В нём можно быстро узнать рыночную стоимость своего автомобиля. В вашем распоряжении исторические данные: технические характеристики, комплектации и цены автомобилей. Вам нужно построить модель для определения стоимости. \n",
    "\n",
    "Заказчику важны:\n",
    "\n",
    "- качество предсказания;\n",
    "- скорость предсказания;\n",
    "- время обучения."
   ]
  },
  {
   "cell_type": "markdown",
   "metadata": {},
   "source": [
    "### Инструкция по выполнению проекта\n",
    "Чтобы усилить исследование, не ограничивайтесь градиентным бустингом. Попробуйте более простые модели — иногда они работают лучше. Это редкие случаи, которые легко пропустить, если всегда применять только бустинг. Поэкспериментируйте и сравните характеристики моделей: скорость работы, точность результата.\n",
    "\n",
    "    Загрузите и подготовьте данные.\n",
    "    Обучите разные модели. Для каждой попробуйте различные гиперпараметры.\n",
    "    Проанализируйте скорость работы и качество моделей.\n",
    "\n",
    "Примечания:\n",
    "\n",
    "    Для оценки качества моделей применяйте метрику RMSE.\n",
    "    Самостоятельно освойте библиотеку LightGBM и её средствами постройте модели градиентного бустинга.\n",
    "    Время выполнения ячейки кода Jupyter Notebook можно получить специальной командой. Найдите её.\n",
    "    Поскольку модель градиентного бустинга может обучаться долго, измените у неё только два-три параметра.\n",
    "    Если перестанет работать Jupyter Notebook, удалите лишние переменные оператором del:"
   ]
  },
  {
   "cell_type": "markdown",
   "metadata": {},
   "source": [
    "### Описание данных\n",
    "Данные находятся в файле /datasets/autos.csv. Скачать датасет.\n",
    "\n",
    "Признак | Описание\n",
    ":--- |:--- \n",
    "DateCrawled| дата скачивания анкеты из базы\n",
    "VehicleType | тип автомобильного кузова\n",
    "RegistrationYear | год регистрации автомобиля\n",
    "Gearbox | тип коробки передач\n",
    "Power | мощность (л. с.)\n",
    "Model | модель автомобиля\n",
    "Kilometer | пробег (км)\n",
    "RegistrationMonth | месяц регистрации автомобиля\n",
    "FuelType | тип топлива\n",
    "Brand | марка автомобиля\n",
    "NotRepaired | была машина в ремонте или нет\n",
    "DateCreated | дата создания анкеты\n",
    "NumberOfPictures | количество фотографий автомобиля\n",
    "PostalCode | почтовый индекс владельца анкеты (пользователя)\n",
    "LastSeen | дата последней активности пользователя  \n",
    "------------------------------- |------------------------------------------------------------------------------- \n",
    "Целевой признак | Описание\n",
    "Price | цена (евро)"
   ]
  },
  {
   "cell_type": "markdown",
   "metadata": {},
   "source": [
    "<div class=\"alert alert-block alert-success\">\n",
    "<b>Успех:</b>  Спасибо за подробное описание проекта.\n",
    "</div>"
   ]
  },
  {
   "cell_type": "markdown",
   "metadata": {},
   "source": [
    "## Предобработка данных"
   ]
  },
  {
   "cell_type": "markdown",
   "metadata": {},
   "source": [
    "### Импорт"
   ]
  },
  {
   "cell_type": "code",
   "execution_count": 1,
   "metadata": {},
   "outputs": [],
   "source": [
    "#pip install catboost"
   ]
  },
  {
   "cell_type": "code",
   "execution_count": 2,
   "metadata": {},
   "outputs": [],
   "source": [
    "import pandas as pd\n",
    "import numpy as np\n",
    "import matplotlib.pyplot as plt\n",
    "import seaborn as sns\n",
    "import warnings\n",
    "import datetime\n",
    "\n",
    "from IPython.display import display\n",
    "#from scipy import stats as st\n",
    "\n",
    "from sklearn.preprocessing import StandardScaler \n",
    "from sklearn.utils import shuffle\n",
    "from sklearn.model_selection import GridSearchCV, KFold, cross_val_score, train_test_split\n",
    "from sklearn.tree import DecisionTreeRegressor #,DecisionTreeClassifier, plot_tree\n",
    "from sklearn.ensemble import RandomForestRegressor #,RandomForestClassifier\n",
    "from sklearn.linear_model import LinearRegression #,LogisticRegression \n",
    "from sklearn.dummy import DummyRegressor#, DummyClassifier\n",
    "from sklearn.metrics import mean_squared_error#, make_scorer, mean_absolute_error, r2_score, accuracy_score, f1_score, confusion_matrix, roc_auc_score\n",
    "\n",
    "from catboost import CatBoostRegressor #,CatBoostClassifier\n",
    "\n",
    "from lightgbm import LGBMRegressor #,LGBMClassifier"
   ]
  },
  {
   "cell_type": "markdown",
   "metadata": {},
   "source": [
    "<div class=\"alert alert-block alert-success\">\n",
    "<b>Успех:</b>  Молодец, что собираешь все импорты в начале проекта\n",
    "</div>"
   ]
  },
  {
   "cell_type": "code",
   "execution_count": 3,
   "metadata": {},
   "outputs": [],
   "source": [
    "def median_groupby(row):       \n",
    "    '''функция для заполнения пропусков в столбце медианами по группе \n",
    "    получает строку, выдергивает значение столбца группировки (group_colomn) \n",
    "    возвращает значение соответствующей ему медианы\n",
    "    \n",
    "    До использования необходимо определить:\n",
    "    nan_colomn - переменная задает столбец с пропуском\n",
    "    group_colomn - переменная задает столбец с признаком по которому будем группировать для поиска медианы\n",
    "    median_series - series со значениями медиан по группе\n",
    "    '''\n",
    "    try:\n",
    "        row_group_value = row[group_colomn]\n",
    "        group_median = median_series[row_group_value]\n",
    "        return group_median\n",
    "    except:\n",
    "        return 'error group_median'"
   ]
  },
  {
   "cell_type": "markdown",
   "metadata": {},
   "source": [
    "<div class=\"alert alert-block alert-success\">\n",
    "<b>Успех:</b>  Хороший помощник\n",
    "</div>"
   ]
  },
  {
   "cell_type": "code",
   "execution_count": 4,
   "metadata": {},
   "outputs": [],
   "source": [
    "data = pd.read_csv('https://code.s3.yandex.net/datasets/autos.csv')"
   ]
  },
  {
   "cell_type": "code",
   "execution_count": 5,
   "metadata": {},
   "outputs": [
    {
     "name": "stdout",
     "output_type": "stream",
     "text": [
      "<class 'pandas.core.frame.DataFrame'>\n",
      "RangeIndex: 354369 entries, 0 to 354368\n",
      "Data columns (total 16 columns):\n",
      " #   Column             Non-Null Count   Dtype \n",
      "---  ------             --------------   ----- \n",
      " 0   DateCrawled        354369 non-null  object\n",
      " 1   Price              354369 non-null  int64 \n",
      " 2   VehicleType        316879 non-null  object\n",
      " 3   RegistrationYear   354369 non-null  int64 \n",
      " 4   Gearbox            334536 non-null  object\n",
      " 5   Power              354369 non-null  int64 \n",
      " 6   Model              334664 non-null  object\n",
      " 7   Kilometer          354369 non-null  int64 \n",
      " 8   RegistrationMonth  354369 non-null  int64 \n",
      " 9   FuelType           321474 non-null  object\n",
      " 10  Brand              354369 non-null  object\n",
      " 11  NotRepaired        283215 non-null  object\n",
      " 12  DateCreated        354369 non-null  object\n",
      " 13  NumberOfPictures   354369 non-null  int64 \n",
      " 14  PostalCode         354369 non-null  int64 \n",
      " 15  LastSeen           354369 non-null  object\n",
      "dtypes: int64(7), object(9)\n",
      "memory usage: 43.3+ MB\n"
     ]
    }
   ],
   "source": [
    "data.info()"
   ]
  },
  {
   "cell_type": "code",
   "execution_count": 6,
   "metadata": {
    "scrolled": true
   },
   "outputs": [
    {
     "data": {
      "text/html": [
       "<div>\n",
       "<style scoped>\n",
       "    .dataframe tbody tr th:only-of-type {\n",
       "        vertical-align: middle;\n",
       "    }\n",
       "\n",
       "    .dataframe tbody tr th {\n",
       "        vertical-align: top;\n",
       "    }\n",
       "\n",
       "    .dataframe thead th {\n",
       "        text-align: right;\n",
       "    }\n",
       "</style>\n",
       "<table border=\"1\" class=\"dataframe\">\n",
       "  <thead>\n",
       "    <tr style=\"text-align: right;\">\n",
       "      <th></th>\n",
       "      <th>272874</th>\n",
       "      <th>341116</th>\n",
       "      <th>60509</th>\n",
       "      <th>255489</th>\n",
       "      <th>321900</th>\n",
       "    </tr>\n",
       "  </thead>\n",
       "  <tbody>\n",
       "    <tr>\n",
       "      <th>DateCrawled</th>\n",
       "      <td>2016-03-11 13:38:13</td>\n",
       "      <td>2016-04-04 11:52:09</td>\n",
       "      <td>2016-03-29 00:51:07</td>\n",
       "      <td>2016-04-03 19:48:27</td>\n",
       "      <td>2016-03-13 08:46:38</td>\n",
       "    </tr>\n",
       "    <tr>\n",
       "      <th>Price</th>\n",
       "      <td>120</td>\n",
       "      <td>4800</td>\n",
       "      <td>1300</td>\n",
       "      <td>12500</td>\n",
       "      <td>1400</td>\n",
       "    </tr>\n",
       "    <tr>\n",
       "      <th>VehicleType</th>\n",
       "      <td>NaN</td>\n",
       "      <td>sedan</td>\n",
       "      <td>sedan</td>\n",
       "      <td>bus</td>\n",
       "      <td>sedan</td>\n",
       "    </tr>\n",
       "    <tr>\n",
       "      <th>RegistrationYear</th>\n",
       "      <td>2010</td>\n",
       "      <td>1999</td>\n",
       "      <td>1998</td>\n",
       "      <td>1976</td>\n",
       "      <td>1995</td>\n",
       "    </tr>\n",
       "    <tr>\n",
       "      <th>Gearbox</th>\n",
       "      <td>NaN</td>\n",
       "      <td>auto</td>\n",
       "      <td>NaN</td>\n",
       "      <td>manual</td>\n",
       "      <td>auto</td>\n",
       "    </tr>\n",
       "    <tr>\n",
       "      <th>Power</th>\n",
       "      <td>0</td>\n",
       "      <td>306</td>\n",
       "      <td>0</td>\n",
       "      <td>50</td>\n",
       "      <td>136</td>\n",
       "    </tr>\n",
       "    <tr>\n",
       "      <th>Model</th>\n",
       "      <td>3er</td>\n",
       "      <td>s_klasse</td>\n",
       "      <td>passat</td>\n",
       "      <td>transporter</td>\n",
       "      <td>omega</td>\n",
       "    </tr>\n",
       "    <tr>\n",
       "      <th>Kilometer</th>\n",
       "      <td>5000</td>\n",
       "      <td>150000</td>\n",
       "      <td>150000</td>\n",
       "      <td>70000</td>\n",
       "      <td>150000</td>\n",
       "    </tr>\n",
       "    <tr>\n",
       "      <th>RegistrationMonth</th>\n",
       "      <td>0</td>\n",
       "      <td>1</td>\n",
       "      <td>4</td>\n",
       "      <td>3</td>\n",
       "      <td>0</td>\n",
       "    </tr>\n",
       "    <tr>\n",
       "      <th>FuelType</th>\n",
       "      <td>NaN</td>\n",
       "      <td>petrol</td>\n",
       "      <td>petrol</td>\n",
       "      <td>petrol</td>\n",
       "      <td>petrol</td>\n",
       "    </tr>\n",
       "    <tr>\n",
       "      <th>Brand</th>\n",
       "      <td>bmw</td>\n",
       "      <td>mercedes_benz</td>\n",
       "      <td>volkswagen</td>\n",
       "      <td>volkswagen</td>\n",
       "      <td>opel</td>\n",
       "    </tr>\n",
       "    <tr>\n",
       "      <th>NotRepaired</th>\n",
       "      <td>NaN</td>\n",
       "      <td>NaN</td>\n",
       "      <td>no</td>\n",
       "      <td>no</td>\n",
       "      <td>NaN</td>\n",
       "    </tr>\n",
       "    <tr>\n",
       "      <th>DateCreated</th>\n",
       "      <td>2016-03-11 00:00:00</td>\n",
       "      <td>2016-04-04 00:00:00</td>\n",
       "      <td>2016-03-28 00:00:00</td>\n",
       "      <td>2016-04-03 00:00:00</td>\n",
       "      <td>2016-03-13 00:00:00</td>\n",
       "    </tr>\n",
       "    <tr>\n",
       "      <th>NumberOfPictures</th>\n",
       "      <td>0</td>\n",
       "      <td>0</td>\n",
       "      <td>0</td>\n",
       "      <td>0</td>\n",
       "      <td>0</td>\n",
       "    </tr>\n",
       "    <tr>\n",
       "      <th>PostalCode</th>\n",
       "      <td>35282</td>\n",
       "      <td>67547</td>\n",
       "      <td>46485</td>\n",
       "      <td>64289</td>\n",
       "      <td>1877</td>\n",
       "    </tr>\n",
       "    <tr>\n",
       "      <th>LastSeen</th>\n",
       "      <td>2016-04-07 08:17:01</td>\n",
       "      <td>2016-04-06 12:47:05</td>\n",
       "      <td>2016-04-05 14:16:27</td>\n",
       "      <td>2016-04-05 20:45:02</td>\n",
       "      <td>2016-04-06 13:46:49</td>\n",
       "    </tr>\n",
       "  </tbody>\n",
       "</table>\n",
       "</div>"
      ],
      "text/plain": [
       "                                272874               341116  \\\n",
       "DateCrawled        2016-03-11 13:38:13  2016-04-04 11:52:09   \n",
       "Price                              120                 4800   \n",
       "VehicleType                        NaN                sedan   \n",
       "RegistrationYear                  2010                 1999   \n",
       "Gearbox                            NaN                 auto   \n",
       "Power                                0                  306   \n",
       "Model                              3er             s_klasse   \n",
       "Kilometer                         5000               150000   \n",
       "RegistrationMonth                    0                    1   \n",
       "FuelType                           NaN               petrol   \n",
       "Brand                              bmw        mercedes_benz   \n",
       "NotRepaired                        NaN                  NaN   \n",
       "DateCreated        2016-03-11 00:00:00  2016-04-04 00:00:00   \n",
       "NumberOfPictures                     0                    0   \n",
       "PostalCode                       35282                67547   \n",
       "LastSeen           2016-04-07 08:17:01  2016-04-06 12:47:05   \n",
       "\n",
       "                                60509                255489  \\\n",
       "DateCrawled        2016-03-29 00:51:07  2016-04-03 19:48:27   \n",
       "Price                             1300                12500   \n",
       "VehicleType                      sedan                  bus   \n",
       "RegistrationYear                  1998                 1976   \n",
       "Gearbox                            NaN               manual   \n",
       "Power                                0                   50   \n",
       "Model                           passat          transporter   \n",
       "Kilometer                       150000                70000   \n",
       "RegistrationMonth                    4                    3   \n",
       "FuelType                        petrol               petrol   \n",
       "Brand                       volkswagen           volkswagen   \n",
       "NotRepaired                         no                   no   \n",
       "DateCreated        2016-03-28 00:00:00  2016-04-03 00:00:00   \n",
       "NumberOfPictures                     0                    0   \n",
       "PostalCode                       46485                64289   \n",
       "LastSeen           2016-04-05 14:16:27  2016-04-05 20:45:02   \n",
       "\n",
       "                                321900  \n",
       "DateCrawled        2016-03-13 08:46:38  \n",
       "Price                             1400  \n",
       "VehicleType                      sedan  \n",
       "RegistrationYear                  1995  \n",
       "Gearbox                           auto  \n",
       "Power                              136  \n",
       "Model                            omega  \n",
       "Kilometer                       150000  \n",
       "RegistrationMonth                    0  \n",
       "FuelType                        petrol  \n",
       "Brand                             opel  \n",
       "NotRepaired                        NaN  \n",
       "DateCreated        2016-03-13 00:00:00  \n",
       "NumberOfPictures                     0  \n",
       "PostalCode                        1877  \n",
       "LastSeen           2016-04-06 13:46:49  "
      ]
     },
     "metadata": {},
     "output_type": "display_data"
    }
   ],
   "source": [
    "display(data.sample(5).T)"
   ]
  },
  {
   "cell_type": "markdown",
   "metadata": {},
   "source": [
    "<div class=\"alert alert-block alert-success\">\n",
    "<b>Успех:</b>  Загрузка данных и первичный анализ сделаны корректно\n",
    "</div>"
   ]
  },
  {
   "cell_type": "markdown",
   "metadata": {},
   "source": [
    "### Дубликаты"
   ]
  },
  {
   "cell_type": "code",
   "execution_count": 7,
   "metadata": {
    "scrolled": false
   },
   "outputs": [
    {
     "name": "stdout",
     "output_type": "stream",
     "text": [
      "Количесто дубликатов: 4\n"
     ]
    }
   ],
   "source": [
    "print('Количесто дубликатов:', data.duplicated().sum())"
   ]
  },
  {
   "cell_type": "code",
   "execution_count": 8,
   "metadata": {},
   "outputs": [],
   "source": [
    "#С учетом полей с датами вероятность случайного совпадения строк очень мала.\n",
    "data = data.drop_duplicates()"
   ]
  },
  {
   "cell_type": "markdown",
   "metadata": {},
   "source": [
    "### Пропуски в модели автомобиля"
   ]
  },
  {
   "cell_type": "code",
   "execution_count": 9,
   "metadata": {},
   "outputs": [],
   "source": [
    "data['Model'] = data['Model'].fillna('unknown')"
   ]
  },
  {
   "cell_type": "code",
   "execution_count": 10,
   "metadata": {},
   "outputs": [],
   "source": [
    "#\"соберем\" марку и модель автомобиля (Brand и Model) в 1 признак\n",
    "data['Brand_Model'] = data['Brand'] + '_' + data['Model']"
   ]
  },
  {
   "cell_type": "code",
   "execution_count": 11,
   "metadata": {},
   "outputs": [],
   "source": [
    "#display(data.sample(5).T)"
   ]
  },
  {
   "cell_type": "markdown",
   "metadata": {},
   "source": [
    "<div class=\"alert alert-block alert-success\">\n",
    "<b>Успех:</b>  Интересная идея, посмотрим что из этого выйдет.\n",
    "</div>"
   ]
  },
  {
   "cell_type": "markdown",
   "metadata": {},
   "source": [
    "### Нулевая цена"
   ]
  },
  {
   "cell_type": "code",
   "execution_count": 12,
   "metadata": {
    "scrolled": true
   },
   "outputs": [
    {
     "data": {
      "text/plain": [
       "count    354365.000000\n",
       "mean       4416.679830\n",
       "std        4514.176349\n",
       "min           0.000000\n",
       "25%        1050.000000\n",
       "50%        2700.000000\n",
       "75%        6400.000000\n",
       "max       20000.000000\n",
       "Name: Price, dtype: float64"
      ]
     },
     "execution_count": 12,
     "metadata": {},
     "output_type": "execute_result"
    }
   ],
   "source": [
    "data['Price'].describe()"
   ]
  },
  {
   "cell_type": "code",
   "execution_count": 13,
   "metadata": {},
   "outputs": [
    {
     "data": {
      "image/png": "[encoded data removed]",
      "text/plain": [
       "<Figure size 1008x432 with 1 Axes>"
      ]
     },
     "metadata": {
      "needs_background": "light"
     },
     "output_type": "display_data"
    }
   ],
   "source": [
    "data['Price'].plot.hist(bins=100, edgecolor = 'black', figsize=(14, 6), grid=True, color='gold')\n",
    "plt.title('Распределение цены'); \n",
    "plt.ylabel('Количество автомобилей, шт.')\n",
    "plt.xlabel('Цена, евро');"
   ]
  },
  {
   "cell_type": "code",
   "execution_count": 14,
   "metadata": {},
   "outputs": [
    {
     "data": {
      "image/png": "[encoded data removed]",
      "text/plain": [
       "<Figure size 1008x432 with 1 Axes>"
      ]
     },
     "metadata": {
      "needs_background": "light"
     },
     "output_type": "display_data"
    }
   ],
   "source": [
    "data['Price'][data['Price']<=1000].plot.hist(bins=100, edgecolor = 'black', figsize=(14, 6), grid=True, color='gold')\n",
    "plt.title('Распределение цены до 1000 евро'); \n",
    "plt.ylabel('Количество автомобилей, шт.')\n",
    "plt.xlabel('Цена, евро');"
   ]
  },
  {
   "cell_type": "code",
   "execution_count": 15,
   "metadata": {
    "scrolled": true
   },
   "outputs": [
    {
     "name": "stdout",
     "output_type": "stream",
     "text": [
      "количество автомобилей с 0 ценой:\n",
      "10772\n",
      "доля автомобилей с 0 ценой:\n",
      "0.030398035923412302\n"
     ]
    }
   ],
   "source": [
    "print('количество автомобилей с 0 ценой:')\n",
    "print(len(data[data['Price']==0]))\n",
    "print('доля автомобилей с 0 ценой:')\n",
    "print(len(data[data['Price']==0])/len(data))"
   ]
  },
  {
   "cell_type": "code",
   "execution_count": 16,
   "metadata": {},
   "outputs": [
    {
     "data": {
      "text/plain": [
       "count    354365.000000\n",
       "mean       4416.679830\n",
       "std        4514.176349\n",
       "min           0.000000\n",
       "25%        1050.000000\n",
       "50%        2700.000000\n",
       "75%        6400.000000\n",
       "max       20000.000000\n",
       "Name: Price, dtype: float64"
      ]
     },
     "execution_count": 16,
     "metadata": {},
     "output_type": "execute_result"
    }
   ],
   "source": [
    "data['Price'].describe()"
   ]
  },
  {
   "cell_type": "code",
   "execution_count": 17,
   "metadata": {},
   "outputs": [],
   "source": [
    "#удаляем строки с 0 ценой\n",
    "data = data[data['Price']>0]"
   ]
  },
  {
   "cell_type": "code",
   "execution_count": 18,
   "metadata": {
    "scrolled": true
   },
   "outputs": [
    {
     "name": "stdout",
     "output_type": "stream",
     "text": [
      "количество автомобилей с ценой < 50 евро:\n",
      "1651\n",
      "доля автомобилей с ценой < 50 евро:\n",
      "0.00480510371282302\n"
     ]
    }
   ],
   "source": [
    "print('количество автомобилей с ценой < 50 евро:')\n",
    "print(len(data[data['Price']<50]))\n",
    "print('доля автомобилей с ценой < 50 евро:')\n",
    "print(len(data[data['Price']<50])/len(data))"
   ]
  },
  {
   "cell_type": "code",
   "execution_count": 19,
   "metadata": {
    "scrolled": true
   },
   "outputs": [
    {
     "data": {
      "text/plain": [
       "count    341942.000000\n",
       "mean       4577.108556\n",
       "std        4514.861088\n",
       "min          50.000000\n",
       "25%        1200.000000\n",
       "50%        2900.000000\n",
       "75%        6500.000000\n",
       "max       20000.000000\n",
       "Name: Price, dtype: float64"
      ]
     },
     "execution_count": 19,
     "metadata": {},
     "output_type": "execute_result"
    }
   ],
   "source": [
    "#удаляем строки с ценой менее 50 евро\n",
    "data = data[data['Price']>=50]\n",
    "data['Price'].describe()"
   ]
  },
  {
   "cell_type": "markdown",
   "metadata": {},
   "source": [
    "<div class=\"alert alert-block alert-info\">\n",
    "<b>Совет:</b> Самое интересное, что на нескольких сайтов по продажам подержанных автомобилей в Германии (страну можно определить по почтовым индексам, большинство из них из Германии) показало, что цены начинаются действительно с 0 и 1 евро, но это единичные объявления и не понятно, то ли это ошибка при заполнении формы, то ли машины на металлолом. Поэтому я тоже все-таки склоняюсь к тому, чтобы избавиться от таких данных\n",
    "</div> "
   ]
  },
  {
   "cell_type": "markdown",
   "metadata": {},
   "source": [
    "Отсеяли объявления с нулевой ценой. 10772 строки - около 3%.  \n",
    "Также объявления с ценой менее 50 евро (около 4,5 тыс. руб.) вероятно являются недостоверными даже для старого или аварийного автомобиля. Удалили 1651 строку - около 0,5%"
   ]
  },
  {
   "cell_type": "markdown",
   "metadata": {},
   "source": [
    "### Недостоверная дата регистрации."
   ]
  },
  {
   "cell_type": "code",
   "execution_count": 20,
   "metadata": {
    "scrolled": false
   },
   "outputs": [
    {
     "name": "stdout",
     "output_type": "stream",
     "text": [
      "2000    22818\n",
      "1999    21896\n",
      "2005    21404\n",
      "2006    19650\n",
      "2001    19591\n",
      "        ...  \n",
      "2200        1\n",
      "1931        1\n",
      "1927        1\n",
      "1925        1\n",
      "4100        1\n",
      "Name: RegistrationYear, Length: 139, dtype: int64\n",
      "3     33749\n",
      "0     32067\n",
      "6     30753\n",
      "4     28627\n",
      "5     28445\n",
      "7     26605\n",
      "10    25568\n",
      "11    23719\n",
      "12    23702\n",
      "9     23326\n",
      "1     22551\n",
      "8     22077\n",
      "2     20753\n",
      "Name: RegistrationMonth, dtype: int64\n"
     ]
    }
   ],
   "source": [
    "print(data['RegistrationYear'].value_counts())\n",
    "print(data['RegistrationMonth'].value_counts())"
   ]
  },
  {
   "cell_type": "markdown",
   "metadata": {},
   "source": [
    "Присутствуют недостоверные значения RegistrationYear, а также RegistrationMonth == 0."
   ]
  },
  {
   "cell_type": "code",
   "execution_count": 21,
   "metadata": {
    "scrolled": true
   },
   "outputs": [
    {
     "name": "stdout",
     "output_type": "stream",
     "text": [
      "количество автомобилей с недостоверным годом выпуска:\n",
      "235\n",
      "доля автомобилей с недостоверным годом выпуска:\n",
      "0.0006872510542723619\n"
     ]
    }
   ],
   "source": [
    "print('количество автомобилей с недостоверным годом выпуска:')\n",
    "print(len(data[(data['RegistrationYear']<1950) | (data['RegistrationYear']>2021)]))\n",
    "print('доля автомобилей с недостоверным годом выпуска:')\n",
    "print(len(data[(data['RegistrationYear']<1950) | (data['RegistrationYear']>2021)])/len(data))"
   ]
  },
  {
   "cell_type": "code",
   "execution_count": 22,
   "metadata": {},
   "outputs": [],
   "source": [
    "#удалим строки с неправильным годом регистрации\n",
    "data = data[(data['RegistrationYear']>=1950) | (data['RegistrationYear']<=2021)]"
   ]
  },
  {
   "cell_type": "code",
   "execution_count": 23,
   "metadata": {},
   "outputs": [],
   "source": [
    "#\"соберем\" дату регистрации (RegistrationYear и RegistrationMonth) в 1 признак\n",
    "data['HowOld_Month'] = 2021*12 - data['RegistrationYear']*12 - data['RegistrationMonth'] #Возраст автомобиля в месяцах"
   ]
  },
  {
   "cell_type": "markdown",
   "metadata": {},
   "source": [
    "Удалили 265 строк (0,08%). Признаки RegistrationYear и RegistrationMonth собраны в один: RegistrationYearMonth."
   ]
  },
  {
   "cell_type": "code",
   "execution_count": 24,
   "metadata": {},
   "outputs": [],
   "source": [
    "#data['NumberOfPictures'].describe()"
   ]
  },
  {
   "cell_type": "markdown",
   "metadata": {},
   "source": [
    "<div class=\"alert alert-block alert-success\">\n",
    "<b>Успех:</b> С датой все хорошо\n",
    "</div>"
   ]
  },
  {
   "cell_type": "markdown",
   "metadata": {},
   "source": [
    "### Удаление неинформативных признаков"
   ]
  },
  {
   "cell_type": "code",
   "execution_count": 25,
   "metadata": {},
   "outputs": [],
   "source": [
    "#удалим неинформативные признаки\n",
    "data = data.drop(['DateCrawled', 'DateCreated', 'LastSeen', 'PostalCode', 'NumberOfPictures', #не несут полезной информации\n",
    "                  'RegistrationMonth', 'RegistrationYear', #собраны в 1 признак\n",
    "                  'Model', 'Brand'], axis=1) #собраны в 1 признак"
   ]
  },
  {
   "cell_type": "markdown",
   "metadata": {},
   "source": [
    "<div class=\"alert alert-block alert-success\">\n",
    "<b>Успех:</b>  Удалить неинформативные признаки - хорошее решение.\n",
    "</div>"
   ]
  },
  {
   "cell_type": "markdown",
   "metadata": {},
   "source": [
    "### Недостоверная мощность"
   ]
  },
  {
   "cell_type": "code",
   "execution_count": 26,
   "metadata": {},
   "outputs": [
    {
     "data": {
      "text/plain": [
       "count    341942.000000\n",
       "mean        111.206713\n",
       "std         188.254677\n",
       "min           0.000000\n",
       "25%          69.000000\n",
       "50%         105.000000\n",
       "75%         143.000000\n",
       "max       20000.000000\n",
       "Name: Power, dtype: float64"
      ]
     },
     "execution_count": 26,
     "metadata": {},
     "output_type": "execute_result"
    }
   ],
   "source": [
    "data['Power'].describe()"
   ]
  },
  {
   "cell_type": "code",
   "execution_count": 27,
   "metadata": {},
   "outputs": [
    {
     "name": "stdout",
     "output_type": "stream",
     "text": [
      "0.995 квантиль 334.0\n"
     ]
    }
   ],
   "source": [
    "print('0.995 квантиль', data['Power'].quantile(.995))"
   ]
  },
  {
   "cell_type": "code",
   "execution_count": 28,
   "metadata": {
    "scrolled": false
   },
   "outputs": [
    {
     "data": {
      "image/png": "[encoded data removed]",
      "text/plain": [
       "<Figure size 1008x432 with 1 Axes>"
      ]
     },
     "metadata": {
      "needs_background": "light"
     },
     "output_type": "display_data"
    }
   ],
   "source": [
    "data['Power'][data['Power']<=350].plot.hist(\n",
    "    bins=100, edgecolor = 'black', figsize=(14, 6), grid=True, alpha = 0.4)\n",
    "plt.title('распределение мощности до 350 л/с'); \n",
    "plt.ylabel('Количество автомобилей, шт.')\n",
    "plt.xlabel('Мощность, л/с');"
   ]
  },
  {
   "cell_type": "code",
   "execution_count": 29,
   "metadata": {
    "scrolled": false
   },
   "outputs": [
    {
     "data": {
      "text/html": [
       "<div>\n",
       "<style scoped>\n",
       "    .dataframe tbody tr th:only-of-type {\n",
       "        vertical-align: middle;\n",
       "    }\n",
       "\n",
       "    .dataframe tbody tr th {\n",
       "        vertical-align: top;\n",
       "    }\n",
       "\n",
       "    .dataframe thead th {\n",
       "        text-align: right;\n",
       "    }\n",
       "</style>\n",
       "<table border=\"1\" class=\"dataframe\">\n",
       "  <thead>\n",
       "    <tr style=\"text-align: right;\">\n",
       "      <th></th>\n",
       "      <th>233653</th>\n",
       "      <th>253058</th>\n",
       "      <th>349031</th>\n",
       "      <th>51368</th>\n",
       "      <th>311308</th>\n",
       "      <th>62821</th>\n",
       "    </tr>\n",
       "  </thead>\n",
       "  <tbody>\n",
       "    <tr>\n",
       "      <th>Price</th>\n",
       "      <td>7600</td>\n",
       "      <td>550</td>\n",
       "      <td>1000</td>\n",
       "      <td>399</td>\n",
       "      <td>1800</td>\n",
       "      <td>2999</td>\n",
       "    </tr>\n",
       "    <tr>\n",
       "      <th>VehicleType</th>\n",
       "      <td>small</td>\n",
       "      <td>sedan</td>\n",
       "      <td>sedan</td>\n",
       "      <td>wagon</td>\n",
       "      <td>NaN</td>\n",
       "      <td>sedan</td>\n",
       "    </tr>\n",
       "    <tr>\n",
       "      <th>Gearbox</th>\n",
       "      <td>manual</td>\n",
       "      <td>manual</td>\n",
       "      <td>manual</td>\n",
       "      <td>manual</td>\n",
       "      <td>auto</td>\n",
       "      <td>manual</td>\n",
       "    </tr>\n",
       "    <tr>\n",
       "      <th>Power</th>\n",
       "      <td>27</td>\n",
       "      <td>26</td>\n",
       "      <td>26</td>\n",
       "      <td>26</td>\n",
       "      <td>5</td>\n",
       "      <td>27</td>\n",
       "    </tr>\n",
       "    <tr>\n",
       "      <th>Kilometer</th>\n",
       "      <td>70000</td>\n",
       "      <td>150000</td>\n",
       "      <td>80000</td>\n",
       "      <td>80000</td>\n",
       "      <td>50000</td>\n",
       "      <td>80000</td>\n",
       "    </tr>\n",
       "    <tr>\n",
       "      <th>FuelType</th>\n",
       "      <td>petrol</td>\n",
       "      <td>petrol</td>\n",
       "      <td>petrol</td>\n",
       "      <td>petrol</td>\n",
       "      <td>petrol</td>\n",
       "      <td>other</td>\n",
       "    </tr>\n",
       "    <tr>\n",
       "      <th>NotRepaired</th>\n",
       "      <td>no</td>\n",
       "      <td>NaN</td>\n",
       "      <td>NaN</td>\n",
       "      <td>NaN</td>\n",
       "      <td>NaN</td>\n",
       "      <td>no</td>\n",
       "    </tr>\n",
       "    <tr>\n",
       "      <th>Brand_Model</th>\n",
       "      <td>citroen_other</td>\n",
       "      <td>trabant_601</td>\n",
       "      <td>trabant_601</td>\n",
       "      <td>trabant_601</td>\n",
       "      <td>sonstige_autos_unknown</td>\n",
       "      <td>trabant_601</td>\n",
       "    </tr>\n",
       "    <tr>\n",
       "      <th>HowOld_Month</th>\n",
       "      <td>403</td>\n",
       "      <td>571</td>\n",
       "      <td>380</td>\n",
       "      <td>403</td>\n",
       "      <td>252</td>\n",
       "      <td>397</td>\n",
       "    </tr>\n",
       "  </tbody>\n",
       "</table>\n",
       "</div>"
      ],
      "text/plain": [
       "                     233653       253058       349031       51368   \\\n",
       "Price                  7600          550         1000          399   \n",
       "VehicleType           small        sedan        sedan        wagon   \n",
       "Gearbox              manual       manual       manual       manual   \n",
       "Power                    27           26           26           26   \n",
       "Kilometer             70000       150000        80000        80000   \n",
       "FuelType             petrol       petrol       petrol       petrol   \n",
       "NotRepaired              no          NaN          NaN          NaN   \n",
       "Brand_Model   citroen_other  trabant_601  trabant_601  trabant_601   \n",
       "HowOld_Month            403          571          380          403   \n",
       "\n",
       "                              311308       62821   \n",
       "Price                           1800         2999  \n",
       "VehicleType                      NaN        sedan  \n",
       "Gearbox                         auto       manual  \n",
       "Power                              5           27  \n",
       "Kilometer                      50000        80000  \n",
       "FuelType                      petrol        other  \n",
       "NotRepaired                      NaN           no  \n",
       "Brand_Model   sonstige_autos_unknown  trabant_601  \n",
       "HowOld_Month                     252          397  "
      ]
     },
     "metadata": {},
     "output_type": "display_data"
    }
   ],
   "source": [
    "#посмотрим на автомобили с мощностью от 1 до 40 л/с\n",
    "display(data[(data['Power']<40) & (data['Power']>0)].sample(6).T)"
   ]
  },
  {
   "cell_type": "markdown",
   "metadata": {},
   "source": [
    "Похоже на правду. Среди объявлений есть маломощные атомобили типа trabant"
   ]
  },
  {
   "cell_type": "code",
   "execution_count": 30,
   "metadata": {},
   "outputs": [
    {
     "data": {
      "image/png": "[encoded data removed]",
      "text/plain": [
       "<Figure size 1008x432 with 1 Axes>"
      ]
     },
     "metadata": {
      "needs_background": "light"
     },
     "output_type": "display_data"
    }
   ],
   "source": [
    "data['Power'][(data['Power']>350) & (data['Power']<=500)].plot.hist(\n",
    "    bins=100, edgecolor = 'black', figsize=(14, 6), grid=True, alpha = 0.4)\n",
    "plt.title('распределение мощности от 350 до 500 л/с'); \n",
    "plt.ylabel('Количество автомобилей, шт.')\n",
    "plt.xlabel('Мощность, л/с');"
   ]
  },
  {
   "cell_type": "code",
   "execution_count": 31,
   "metadata": {
    "scrolled": false
   },
   "outputs": [
    {
     "name": "stdout",
     "output_type": "stream",
     "text": [
      "724\n"
     ]
    },
    {
     "data": {
      "text/html": [
       "<div>\n",
       "<style scoped>\n",
       "    .dataframe tbody tr th:only-of-type {\n",
       "        vertical-align: middle;\n",
       "    }\n",
       "\n",
       "    .dataframe tbody tr th {\n",
       "        vertical-align: top;\n",
       "    }\n",
       "\n",
       "    .dataframe thead th {\n",
       "        text-align: right;\n",
       "    }\n",
       "</style>\n",
       "<table border=\"1\" class=\"dataframe\">\n",
       "  <thead>\n",
       "    <tr style=\"text-align: right;\">\n",
       "      <th></th>\n",
       "      <th>174327</th>\n",
       "      <th>348785</th>\n",
       "      <th>261004</th>\n",
       "      <th>239033</th>\n",
       "      <th>110128</th>\n",
       "      <th>49013</th>\n",
       "      <th>39181</th>\n",
       "    </tr>\n",
       "  </thead>\n",
       "  <tbody>\n",
       "    <tr>\n",
       "      <th>Price</th>\n",
       "      <td>7500</td>\n",
       "      <td>19780</td>\n",
       "      <td>14950</td>\n",
       "      <td>9950</td>\n",
       "      <td>15900</td>\n",
       "      <td>15000</td>\n",
       "      <td>10999</td>\n",
       "    </tr>\n",
       "    <tr>\n",
       "      <th>VehicleType</th>\n",
       "      <td>coupe</td>\n",
       "      <td>wagon</td>\n",
       "      <td>sedan</td>\n",
       "      <td>sedan</td>\n",
       "      <td>sedan</td>\n",
       "      <td>coupe</td>\n",
       "      <td>coupe</td>\n",
       "    </tr>\n",
       "    <tr>\n",
       "      <th>Gearbox</th>\n",
       "      <td>manual</td>\n",
       "      <td>auto</td>\n",
       "      <td>auto</td>\n",
       "      <td>auto</td>\n",
       "      <td>manual</td>\n",
       "      <td>auto</td>\n",
       "      <td>auto</td>\n",
       "    </tr>\n",
       "    <tr>\n",
       "      <th>Power</th>\n",
       "      <td>360</td>\n",
       "      <td>500</td>\n",
       "      <td>445</td>\n",
       "      <td>360</td>\n",
       "      <td>420</td>\n",
       "      <td>355</td>\n",
       "      <td>405</td>\n",
       "    </tr>\n",
       "    <tr>\n",
       "      <th>Kilometer</th>\n",
       "      <td>60000</td>\n",
       "      <td>150000</td>\n",
       "      <td>150000</td>\n",
       "      <td>150000</td>\n",
       "      <td>150000</td>\n",
       "      <td>150000</td>\n",
       "      <td>150000</td>\n",
       "    </tr>\n",
       "    <tr>\n",
       "      <th>FuelType</th>\n",
       "      <td>NaN</td>\n",
       "      <td>petrol</td>\n",
       "      <td>petrol</td>\n",
       "      <td>petrol</td>\n",
       "      <td>petrol</td>\n",
       "      <td>petrol</td>\n",
       "      <td>petrol</td>\n",
       "    </tr>\n",
       "    <tr>\n",
       "      <th>NotRepaired</th>\n",
       "      <td>NaN</td>\n",
       "      <td>no</td>\n",
       "      <td>no</td>\n",
       "      <td>NaN</td>\n",
       "      <td>NaN</td>\n",
       "      <td>no</td>\n",
       "      <td>NaN</td>\n",
       "    </tr>\n",
       "    <tr>\n",
       "      <th>Brand_Model</th>\n",
       "      <td>toyota_other</td>\n",
       "      <td>mercedes_benz_e_klasse</td>\n",
       "      <td>bmw_7er</td>\n",
       "      <td>audi_unknown</td>\n",
       "      <td>audi_other</td>\n",
       "      <td>audi_a3</td>\n",
       "      <td>bmw_3er</td>\n",
       "    </tr>\n",
       "    <tr>\n",
       "      <th>HowOld_Month</th>\n",
       "      <td>264</td>\n",
       "      <td>207</td>\n",
       "      <td>188</td>\n",
       "      <td>226</td>\n",
       "      <td>169</td>\n",
       "      <td>133</td>\n",
       "      <td>161</td>\n",
       "    </tr>\n",
       "  </tbody>\n",
       "</table>\n",
       "</div>"
      ],
      "text/plain": [
       "                    174327                  348785   261004        239033  \\\n",
       "Price                 7500                   19780    14950          9950   \n",
       "VehicleType          coupe                   wagon    sedan         sedan   \n",
       "Gearbox             manual                    auto     auto          auto   \n",
       "Power                  360                     500      445           360   \n",
       "Kilometer            60000                  150000   150000        150000   \n",
       "FuelType               NaN                  petrol   petrol        petrol   \n",
       "NotRepaired            NaN                      no       no           NaN   \n",
       "Brand_Model   toyota_other  mercedes_benz_e_klasse  bmw_7er  audi_unknown   \n",
       "HowOld_Month           264                     207      188           226   \n",
       "\n",
       "                  110128   49013    39181   \n",
       "Price              15900    15000    10999  \n",
       "VehicleType        sedan    coupe    coupe  \n",
       "Gearbox           manual     auto     auto  \n",
       "Power                420      355      405  \n",
       "Kilometer         150000   150000   150000  \n",
       "FuelType          petrol   petrol   petrol  \n",
       "NotRepaired          NaN       no      NaN  \n",
       "Brand_Model   audi_other  audi_a3  bmw_3er  \n",
       "HowOld_Month         169      133      161  "
      ]
     },
     "metadata": {},
     "output_type": "display_data"
    }
   ],
   "source": [
    "#посмотрим на автомобили с мощностью от 350 л/с до 500 л/с\n",
    "print(len(data[(data['Power']>350) & (data['Power']<=500)]))\n",
    "display(data[(data['Power']>350) & (data['Power']<=500)].sample(7).T)"
   ]
  },
  {
   "cell_type": "markdown",
   "metadata": {},
   "source": [
    "Похоже на правду (в списке в основном porsche, bmw, mercedes_benz и т.п., хотя встречаются и неправдоподобные volkswagen golf 365 л/с) "
   ]
  },
  {
   "cell_type": "code",
   "execution_count": 32,
   "metadata": {
    "scrolled": false
   },
   "outputs": [
    {
     "name": "stdout",
     "output_type": "stream",
     "text": [
      "количество автомобилей с мощностью свыше 500 л.с.:\n",
      "422\n",
      "доля автомобилей с мощностью свыше 500 л.с.:\n",
      "0.0012341274251188798\n"
     ]
    },
    {
     "data": {
      "text/html": [
       "<div>\n",
       "<style scoped>\n",
       "    .dataframe tbody tr th:only-of-type {\n",
       "        vertical-align: middle;\n",
       "    }\n",
       "\n",
       "    .dataframe tbody tr th {\n",
       "        vertical-align: top;\n",
       "    }\n",
       "\n",
       "    .dataframe thead th {\n",
       "        text-align: right;\n",
       "    }\n",
       "</style>\n",
       "<table border=\"1\" class=\"dataframe\">\n",
       "  <thead>\n",
       "    <tr style=\"text-align: right;\">\n",
       "      <th></th>\n",
       "      <th>249238</th>\n",
       "      <th>322539</th>\n",
       "      <th>220133</th>\n",
       "      <th>208144</th>\n",
       "      <th>113184</th>\n",
       "      <th>108582</th>\n",
       "      <th>262668</th>\n",
       "    </tr>\n",
       "  </thead>\n",
       "  <tbody>\n",
       "    <tr>\n",
       "      <th>Price</th>\n",
       "      <td>1250</td>\n",
       "      <td>2300</td>\n",
       "      <td>12000</td>\n",
       "      <td>19999</td>\n",
       "      <td>350</td>\n",
       "      <td>17500</td>\n",
       "      <td>2800</td>\n",
       "    </tr>\n",
       "    <tr>\n",
       "      <th>VehicleType</th>\n",
       "      <td>suv</td>\n",
       "      <td>sedan</td>\n",
       "      <td>small</td>\n",
       "      <td>coupe</td>\n",
       "      <td>small</td>\n",
       "      <td>sedan</td>\n",
       "      <td>wagon</td>\n",
       "    </tr>\n",
       "    <tr>\n",
       "      <th>Gearbox</th>\n",
       "      <td>manual</td>\n",
       "      <td>auto</td>\n",
       "      <td>manual</td>\n",
       "      <td>auto</td>\n",
       "      <td>manual</td>\n",
       "      <td>NaN</td>\n",
       "      <td>manual</td>\n",
       "    </tr>\n",
       "    <tr>\n",
       "      <th>Power</th>\n",
       "      <td>645</td>\n",
       "      <td>1005</td>\n",
       "      <td>678</td>\n",
       "      <td>514</td>\n",
       "      <td>5575</td>\n",
       "      <td>507</td>\n",
       "      <td>11025</td>\n",
       "    </tr>\n",
       "    <tr>\n",
       "      <th>Kilometer</th>\n",
       "      <td>150000</td>\n",
       "      <td>150000</td>\n",
       "      <td>30000</td>\n",
       "      <td>150000</td>\n",
       "      <td>150000</td>\n",
       "      <td>150000</td>\n",
       "      <td>150000</td>\n",
       "    </tr>\n",
       "    <tr>\n",
       "      <th>FuelType</th>\n",
       "      <td>petrol</td>\n",
       "      <td>NaN</td>\n",
       "      <td>petrol</td>\n",
       "      <td>petrol</td>\n",
       "      <td>petrol</td>\n",
       "      <td>NaN</td>\n",
       "      <td>gasoline</td>\n",
       "    </tr>\n",
       "    <tr>\n",
       "      <th>NotRepaired</th>\n",
       "      <td>yes</td>\n",
       "      <td>no</td>\n",
       "      <td>no</td>\n",
       "      <td>no</td>\n",
       "      <td>yes</td>\n",
       "      <td>NaN</td>\n",
       "      <td>NaN</td>\n",
       "    </tr>\n",
       "    <tr>\n",
       "      <th>Brand_Model</th>\n",
       "      <td>suzuki_other</td>\n",
       "      <td>volkswagen_golf</td>\n",
       "      <td>fiat_500</td>\n",
       "      <td>mercedes_benz_other</td>\n",
       "      <td>volkswagen_polo</td>\n",
       "      <td>bmw_unknown</td>\n",
       "      <td>volkswagen_passat</td>\n",
       "    </tr>\n",
       "    <tr>\n",
       "      <th>HowOld_Month</th>\n",
       "      <td>403</td>\n",
       "      <td>242</td>\n",
       "      <td>642</td>\n",
       "      <td>161</td>\n",
       "      <td>311</td>\n",
       "      <td>180</td>\n",
       "      <td>270</td>\n",
       "    </tr>\n",
       "  </tbody>\n",
       "</table>\n",
       "</div>"
      ],
      "text/plain": [
       "                    249238           322539    220133               208144  \\\n",
       "Price                 1250             2300     12000                19999   \n",
       "VehicleType            suv            sedan     small                coupe   \n",
       "Gearbox             manual             auto    manual                 auto   \n",
       "Power                  645             1005       678                  514   \n",
       "Kilometer           150000           150000     30000               150000   \n",
       "FuelType            petrol              NaN    petrol               petrol   \n",
       "NotRepaired            yes               no        no                   no   \n",
       "Brand_Model   suzuki_other  volkswagen_golf  fiat_500  mercedes_benz_other   \n",
       "HowOld_Month           403              242       642                  161   \n",
       "\n",
       "                       113184       108582             262668  \n",
       "Price                     350        17500               2800  \n",
       "VehicleType             small        sedan              wagon  \n",
       "Gearbox                manual          NaN             manual  \n",
       "Power                    5575          507              11025  \n",
       "Kilometer              150000       150000             150000  \n",
       "FuelType               petrol          NaN           gasoline  \n",
       "NotRepaired               yes          NaN                NaN  \n",
       "Brand_Model   volkswagen_polo  bmw_unknown  volkswagen_passat  \n",
       "HowOld_Month              311          180                270  "
      ]
     },
     "metadata": {},
     "output_type": "display_data"
    }
   ],
   "source": [
    "#посмотрим на автомобили с мощностью свыше 500 л/с\n",
    "print('количество автомобилей с мощностью свыше 500 л.с.:')\n",
    "print(len(data[data['Power']>500]))\n",
    "print('доля автомобилей с мощностью свыше 500 л.с.:')\n",
    "print(len(data[data['Power']>500])/len(data))\n",
    "display(data[data['Power']>500].sample(7).T)"
   ]
  },
  {
   "cell_type": "markdown",
   "metadata": {},
   "source": [
    "Тут уже совсем неверотные мощности. Т.к. в выборке предсталены автомобили стоимостью до 20000 евро (около 1,8 млн. руб.) можем считать что мощность свыше 500 л./с указана ошибочно."
   ]
  },
  {
   "cell_type": "code",
   "execution_count": 33,
   "metadata": {},
   "outputs": [],
   "source": [
    "#в Power оставляем значения в диапазоне 1-500 л.с. Остальным присваиваем NaN\n",
    "data['Power'] = data['Power'].where(data['Power']!=0, np.NaN)\n",
    "data['Power'] = data['Power'].where(data['Power']<=500, np.NaN)"
   ]
  },
  {
   "cell_type": "markdown",
   "metadata": {},
   "source": [
    "<div class=\"alert alert-block alert-success\">\n",
    "<b>Успех:</b> С мощностью тоже все ок\n",
    "</div>"
   ]
  },
  {
   "cell_type": "markdown",
   "metadata": {},
   "source": [
    "### Заполнение пропусков"
   ]
  },
  {
   "cell_type": "code",
   "execution_count": 34,
   "metadata": {},
   "outputs": [],
   "source": [
    "nan_colomn = 'Power'             #переменная задает столбец с пропуском\n",
    "group_colomn = 'Brand_Model'     #переменная задает столбец по которому будем группировать для поиска медианы\n",
    "median_series = data.groupby(group_colomn)[nan_colomn].median() #series со значениями медиан по группе\n",
    "\n",
    "#Заполняем 'Power' медианой соответствующей марки/модели\n",
    "data[nan_colomn] = data[nan_colomn].fillna(data.apply(median_groupby, axis=1))"
   ]
  },
  {
   "cell_type": "code",
   "execution_count": 35,
   "metadata": {},
   "outputs": [
    {
     "data": {
      "text/html": [
       "<div>\n",
       "<style scoped>\n",
       "    .dataframe tbody tr th:only-of-type {\n",
       "        vertical-align: middle;\n",
       "    }\n",
       "\n",
       "    .dataframe tbody tr th {\n",
       "        vertical-align: top;\n",
       "    }\n",
       "\n",
       "    .dataframe thead th {\n",
       "        text-align: right;\n",
       "    }\n",
       "</style>\n",
       "<table border=\"1\" class=\"dataframe\">\n",
       "  <thead>\n",
       "    <tr style=\"text-align: right;\">\n",
       "      <th></th>\n",
       "      <th>234296</th>\n",
       "    </tr>\n",
       "  </thead>\n",
       "  <tbody>\n",
       "    <tr>\n",
       "      <th>Price</th>\n",
       "      <td>3800</td>\n",
       "    </tr>\n",
       "    <tr>\n",
       "      <th>VehicleType</th>\n",
       "      <td>wagon</td>\n",
       "    </tr>\n",
       "    <tr>\n",
       "      <th>Gearbox</th>\n",
       "      <td>manual</td>\n",
       "    </tr>\n",
       "    <tr>\n",
       "      <th>Power</th>\n",
       "      <td>NaN</td>\n",
       "    </tr>\n",
       "    <tr>\n",
       "      <th>Kilometer</th>\n",
       "      <td>30000</td>\n",
       "    </tr>\n",
       "    <tr>\n",
       "      <th>FuelType</th>\n",
       "      <td>gasoline</td>\n",
       "    </tr>\n",
       "    <tr>\n",
       "      <th>NotRepaired</th>\n",
       "      <td>NaN</td>\n",
       "    </tr>\n",
       "    <tr>\n",
       "      <th>Brand_Model</th>\n",
       "      <td>land_rover_serie_1</td>\n",
       "    </tr>\n",
       "    <tr>\n",
       "      <th>HowOld_Month</th>\n",
       "      <td>516</td>\n",
       "    </tr>\n",
       "  </tbody>\n",
       "</table>\n",
       "</div>"
      ],
      "text/plain": [
       "                          234296\n",
       "Price                       3800\n",
       "VehicleType                wagon\n",
       "Gearbox                   manual\n",
       "Power                        NaN\n",
       "Kilometer                  30000\n",
       "FuelType                gasoline\n",
       "NotRepaired                  NaN\n",
       "Brand_Model   land_rover_serie_1\n",
       "HowOld_Month                 516"
      ]
     },
     "metadata": {},
     "output_type": "display_data"
    }
   ],
   "source": [
    "display(data[data['Power'].isna()==True].T)"
   ]
  },
  {
   "cell_type": "code",
   "execution_count": 36,
   "metadata": {},
   "outputs": [],
   "source": [
    "#удаляем одну строку для которой не нашлось медианы\n",
    "data = data.dropna(subset = ['Power'])"
   ]
  },
  {
   "cell_type": "code",
   "execution_count": 37,
   "metadata": {},
   "outputs": [],
   "source": [
    "#data['Power'].plot.hist(bins=100, edgecolor = 'black', figsize=(14, 6), grid=True, alpha = 0.4);"
   ]
  },
  {
   "cell_type": "code",
   "execution_count": 38,
   "metadata": {},
   "outputs": [],
   "source": [
    "#оставшиеся пропуски в категориальных столбцах (VehicleType, Gearbox, FuelType, NotRepaired) заполним строкой 'unknown' \n",
    "data = data.fillna('unknown')"
   ]
  },
  {
   "cell_type": "code",
   "execution_count": 39,
   "metadata": {},
   "outputs": [],
   "source": [
    "data['Power'] = data['Power'].astype('int')"
   ]
  },
  {
   "cell_type": "code",
   "execution_count": 40,
   "metadata": {
    "scrolled": true
   },
   "outputs": [
    {
     "name": "stdout",
     "output_type": "stream",
     "text": [
      "<class 'pandas.core.frame.DataFrame'>\n",
      "Int64Index: 341941 entries, 0 to 354368\n",
      "Data columns (total 9 columns):\n",
      " #   Column        Non-Null Count   Dtype \n",
      "---  ------        --------------   ----- \n",
      " 0   Price         341941 non-null  int64 \n",
      " 1   VehicleType   341941 non-null  object\n",
      " 2   Gearbox       341941 non-null  object\n",
      " 3   Power         341941 non-null  int32 \n",
      " 4   Kilometer     341941 non-null  int64 \n",
      " 5   FuelType      341941 non-null  object\n",
      " 6   NotRepaired   341941 non-null  object\n",
      " 7   Brand_Model   341941 non-null  object\n",
      " 8   HowOld_Month  341941 non-null  int64 \n",
      "dtypes: int32(1), int64(3), object(5)\n",
      "memory usage: 24.8+ MB\n"
     ]
    }
   ],
   "source": [
    "data.info()"
   ]
  },
  {
   "cell_type": "markdown",
   "metadata": {},
   "source": [
    "<div class=\"alert alert-block alert-success\">\n",
    "<b>Успех:</b>  Пропуски обработаны хорошим способом, я бы поступил аналогично\n",
    "</div>"
   ]
  },
  {
   "cell_type": "markdown",
   "metadata": {},
   "source": [
    "### Корреляция"
   ]
  },
  {
   "cell_type": "code",
   "execution_count": 41,
   "metadata": {},
   "outputs": [
    {
     "data": {
      "text/plain": [
       "<matplotlib.axes._subplots.AxesSubplot at 0x1c4ee7178e0>"
      ]
     },
     "execution_count": 41,
     "metadata": {},
     "output_type": "execute_result"
    },
    {
     "data": {
      "image/png": "[encoded data removed]",
      "text/plain": [
       "<Figure size 1008x432 with 2 Axes>"
      ]
     },
     "metadata": {
      "needs_background": "light"
     },
     "output_type": "display_data"
    }
   ],
   "source": [
    "fig, ax = plt.subplots(figsize=(14,6))\n",
    "sns.heatmap(data.corr(), annot = True, vmin=-1, vmax=1, center= 0, cmap= 'coolwarm', fmt='.2g')"
   ]
  },
  {
   "cell_type": "markdown",
   "metadata": {},
   "source": [
    "### Итого"
   ]
  },
  {
   "cell_type": "markdown",
   "metadata": {},
   "source": [
    "Из 354369 строк осталось 341941."
   ]
  },
  {
   "cell_type": "code",
   "execution_count": 42,
   "metadata": {},
   "outputs": [
    {
     "data": {
      "text/plain": [
       "0.035070787794643433"
      ]
     },
     "execution_count": 42,
     "metadata": {},
     "output_type": "execute_result"
    }
   ],
   "source": [
    "(354369 - 341941)/354369"
   ]
  },
  {
   "cell_type": "markdown",
   "metadata": {},
   "source": [
    "На очистке потеряли 3,5%. В основном за счет некорректной цены."
   ]
  },
  {
   "cell_type": "markdown",
   "metadata": {},
   "source": [
    "<div class=\"alert alert-block alert-success\">\n",
    "<b>Успех:</b>  Довольно, детальная предобработка, молодец\n",
    "</div>"
   ]
  },
  {
   "cell_type": "markdown",
   "metadata": {},
   "source": [
    "## Обучение моделей"
   ]
  },
  {
   "cell_type": "code",
   "execution_count": 43,
   "metadata": {},
   "outputs": [],
   "source": [
    "kfold = KFold(n_splits=5, random_state=123, shuffle=True)"
   ]
  },
  {
   "cell_type": "markdown",
   "metadata": {},
   "source": [
    "### CatBoost"
   ]
  },
  {
   "cell_type": "code",
   "execution_count": 44,
   "metadata": {},
   "outputs": [],
   "source": [
    "'''\n",
    "data_train, data_test = train_test_split(data, test_size=0.2, random_state=123)\n",
    "\n",
    "features_train = data_train.drop(['Price'], axis=1)\n",
    "target_train = data_train['Price']\n",
    "\n",
    "features_test = data_test.drop(['Price'], axis=1)\n",
    "target_test = data_test['Price']\n",
    "''';"
   ]
  },
  {
   "cell_type": "code",
   "execution_count": 45,
   "metadata": {},
   "outputs": [],
   "source": [
    "#\"падает\". Похоже что-то не так с cat_features=cat_col - буду ковырять\n",
    "'''\n",
    "%%time\n",
    "model_0 = CatBoostRegressor(loss_function='RMSE', iterations=50, random_state=123, cat_features=cat_col)\n",
    "model_0.name = 'model_0 (LGBMRegressor), тип: gbdt, n_estimators=50, '\n",
    "\n",
    "negmse = cross_val_score(model_0, features_train, target_train, cv=kfold, scoring='neg_mean_squared_error')\n",
    "\n",
    "model_0.rmse = np.sqrt(-negmse.mean())\n",
    "print('Модель:', model_0.name, 'rmse:', model_0.rmse)\n",
    "''';"
   ]
  },
  {
   "cell_type": "markdown",
   "metadata": {},
   "source": [
    "### LightGBM"
   ]
  },
  {
   "cell_type": "markdown",
   "metadata": {},
   "source": [
    "Для работы алгоритма с категориальными признаками необходимо передать соответствующим столбцам тип 'category'"
   ]
  },
  {
   "cell_type": "code",
   "execution_count": 46,
   "metadata": {},
   "outputs": [],
   "source": [
    "data_2 = data.copy(deep=True)"
   ]
  },
  {
   "cell_type": "code",
   "execution_count": 47,
   "metadata": {},
   "outputs": [],
   "source": [
    "#изменим тип категорийных столбцов с object на category\n",
    "cat_col = data_2.select_dtypes(include='object').columns\n",
    "for col in cat_col:\n",
    "    data_2[col] = data_2[col].astype('category')\n",
    "#data_2.info()"
   ]
  },
  {
   "cell_type": "code",
   "execution_count": 48,
   "metadata": {},
   "outputs": [],
   "source": [
    "features_train_2, features_test_2, target_train_2, target_test_2 = train_test_split(\n",
    "    data_2.drop(['Price'], axis=1), data_2['Price'], test_size=0.2, random_state=123)"
   ]
  },
  {
   "cell_type": "code",
   "execution_count": 49,
   "metadata": {},
   "outputs": [],
   "source": [
    "#Не вышло. \n",
    "# %%time - не возвращает значение\n",
    "# %timeit - сохраняет время работы строки в переменную, но не выполняет присваивание (negmse =) после (modeltime = ) \n",
    "\n",
    "'''\n",
    "model_1 = LGBMRegressor()\n",
    "model_1.name = 'LGBMRegressor'\n",
    "\n",
    "modeltime = %timeit -n1 -r1 -o negmse = cross_val_score(model_1, features_train_2, target_train_2, cv=kfold, scoring='neg_mean_squared_error').mean()\n",
    "model_1.time = modeltime.average\n",
    "\n",
    "model_1.rmse = np.sqrt(-negmse)\n",
    "print('name:', model_1.name, 'rmse:', model_1.rmse, 'modeltime:', model_1.time)\n",
    "''';"
   ]
  },
  {
   "cell_type": "code",
   "execution_count": 50,
   "metadata": {},
   "outputs": [
    {
     "name": "stdout",
     "output_type": "stream",
     "text": [
      "Модель: model_2 (LGBMRegressor),            rmse(евро): 1584   время работы(сек.): 861\n",
      "Параметры: {'boosting_type': 'gbdt', 'max_depth': 18, 'metric': 'rmse', 'n_estimators': 1000}\n"
     ]
    }
   ],
   "source": [
    "beg_time = datetime.datetime.now()\n",
    "model_2 = LGBMRegressor()\n",
    "\n",
    "parametrs = { 'metric': ['rmse'],\n",
    "              'boosting_type': ['gbdt'], #, 'dart']\n",
    "              'n_estimators': [500, 750, 1000],\n",
    "              'max_depth': [-1, 10, 18, 26] }\n",
    "\n",
    "grid = GridSearchCV(model_2, parametrs, cv=kfold, scoring='neg_mean_absolute_error')\n",
    "grid.fit(features_train_2, target_train_2)\n",
    "params = grid.best_params_\n",
    "model_2 = LGBMRegressor().set_params(**params)\n",
    "negmse = cross_val_score(model_2, features_train_2, target_train_2, cv=kfold, scoring='neg_mean_squared_error')\n",
    "\n",
    "model_2.name = 'model_2 (LGBMRegressor),         '\n",
    "model_2.rmse = np.sqrt(-negmse.mean())\n",
    "model_2.time = (datetime.datetime.now()-beg_time).seconds\n",
    "model_2.params = params\n",
    "\n",
    "print('Модель:', model_2.name, '  rmse(евро): %.0f' %model_2.rmse, '  время работы(сек.):',model_2.time)\n",
    "print('Параметры:', model_2.params)"
   ]
  },
  {
   "cell_type": "markdown",
   "metadata": {},
   "source": [
    "### Деревянные модели"
   ]
  },
  {
   "cell_type": "markdown",
   "metadata": {},
   "source": [
    "Для деревянных моделей необходимо закодировать категориальные столбцы"
   ]
  },
  {
   "cell_type": "code",
   "execution_count": 51,
   "metadata": {},
   "outputs": [],
   "source": [
    "data_3 = data.copy(deep=True)"
   ]
  },
  {
   "cell_type": "code",
   "execution_count": 52,
   "metadata": {},
   "outputs": [],
   "source": [
    "data_3_beg_time = datetime.datetime.now() #учтем время на подготовку признаков\n",
    "\n",
    "data_3 = pd.get_dummies(data_3, drop_first=True)\n",
    "#print(data.head(3))\n",
    "#print(data.info())\n",
    "\n",
    "data_3.time = (datetime.datetime.now()-data_3_beg_time).seconds"
   ]
  },
  {
   "cell_type": "code",
   "execution_count": 53,
   "metadata": {},
   "outputs": [],
   "source": [
    "features_train_3, features_test_3, target_train_3, target_test_3 = train_test_split(\n",
    "    data_3.drop(['Price'], axis=1), data_3['Price'], test_size=0.2, random_state=123)"
   ]
  },
  {
   "cell_type": "code",
   "execution_count": 54,
   "metadata": {},
   "outputs": [
    {
     "name": "stdout",
     "output_type": "stream",
     "text": [
      "Модель: model_3 (DecisionTreeRegressor),    rmse(евро): 1841   время работы(сек.): 1918\n",
      "Параметры: {'max_depth': None, 'max_features': 'auto', 'min_samples_split': 50}\n"
     ]
    }
   ],
   "source": [
    "beg_time = datetime.datetime.now()\n",
    "model_3 = DecisionTreeRegressor()\n",
    "\n",
    "parametrs = { 'max_features' : [\"auto\", \"sqrt\", \"log2\"],\n",
    "              'min_samples_split': [2, 10, 50, 100], \n",
    "              'max_depth': [None, 24, 32]}\n",
    "\n",
    "grid = GridSearchCV(model_3, parametrs, cv=kfold, scoring='neg_mean_absolute_error')\n",
    "grid.fit(features_train_3, target_train_3)\n",
    "params = grid.best_params_\n",
    "model_3 = DecisionTreeRegressor().set_params(**params)\n",
    "negmse = cross_val_score(model_3, features_train_3, target_train_3, cv=kfold, scoring='neg_mean_squared_error')\n",
    "\n",
    "model_3.name = 'model_3 (DecisionTreeRegressor), '\n",
    "model_3.rmse = np.sqrt(-negmse.mean())\n",
    "model_3.time = (datetime.datetime.now()-beg_time).seconds + data_3.time\n",
    "model_3.params = params\n",
    "\n",
    "print('Модель:', model_3.name, '  rmse(евро): %.0f' %model_3.rmse, '  время работы(сек.):',model_3.time)\n",
    "print('Параметры:', params)"
   ]
  },
  {
   "cell_type": "code",
   "execution_count": 55,
   "metadata": {},
   "outputs": [
    {
     "name": "stdout",
     "output_type": "stream",
     "text": [
      "Модель: model_4 (RandomForestRegressor),    rmse(евро): 1680   время работы(сек.): 3673\n",
      "Параметры: {'max_depth': None, 'n_estimators': 20}\n"
     ]
    }
   ],
   "source": [
    "beg_time = datetime.datetime.now()\n",
    "model_4 = RandomForestRegressor()\n",
    "\n",
    "parametrs = { 'n_estimators': [10, 20],\n",
    "#              'max_features' : [\"auto\", \"sqrt\", \"log2\"],\n",
    "#              'min_samples_split': [2, 4, 6, 8] \n",
    "              'max_depth': [None]}\n",
    "\n",
    "grid = GridSearchCV(model_4, parametrs, cv=kfold, scoring='neg_mean_absolute_error')\n",
    "grid.fit(features_train_3, target_train_3)\n",
    "params = grid.best_params_\n",
    "model_4 = RandomForestRegressor().set_params(**params)\n",
    "negmse = cross_val_score(model_4, features_train_3, target_train_3, cv=kfold, scoring='neg_mean_squared_error')\n",
    "\n",
    "model_4.name = 'model_4 (RandomForestRegressor), '\n",
    "model_4.rmse = np.sqrt(-negmse.mean())\n",
    "model_4.time = (datetime.datetime.now()-beg_time).seconds + data_3.time\n",
    "model_4.params = params\n",
    "\n",
    "print('Модель:', model_4.name, '  rmse(евро): %.0f' %model_4.rmse, '  время работы(сек.):',model_4.time)\n",
    "print('Параметры:', params)"
   ]
  },
  {
   "cell_type": "markdown",
   "metadata": {},
   "source": [
    "### Линейная регрессия"
   ]
  },
  {
   "cell_type": "code",
   "execution_count": 56,
   "metadata": {},
   "outputs": [],
   "source": [
    "data_4 = data.copy(deep=True)"
   ]
  },
  {
   "cell_type": "code",
   "execution_count": 57,
   "metadata": {},
   "outputs": [
    {
     "name": "stdout",
     "output_type": "stream",
     "text": [
      "<class 'pandas.core.frame.DataFrame'>\n",
      "Int64Index: 341941 entries, 0 to 354368\n",
      "Data columns (total 9 columns):\n",
      " #   Column        Non-Null Count   Dtype \n",
      "---  ------        --------------   ----- \n",
      " 0   Price         341941 non-null  int64 \n",
      " 1   VehicleType   341941 non-null  object\n",
      " 2   Gearbox       341941 non-null  object\n",
      " 3   Power         341941 non-null  int32 \n",
      " 4   Kilometer     341941 non-null  int64 \n",
      " 5   FuelType      341941 non-null  object\n",
      " 6   NotRepaired   341941 non-null  object\n",
      " 7   Brand_Model   341941 non-null  object\n",
      " 8   HowOld_Month  341941 non-null  int64 \n",
      "dtypes: int32(1), int64(3), object(5)\n",
      "memory usage: 24.8+ MB\n"
     ]
    }
   ],
   "source": [
    "data_4.info()"
   ]
  },
  {
   "cell_type": "code",
   "execution_count": 58,
   "metadata": {
    "scrolled": true
   },
   "outputs": [],
   "source": [
    "#Создадим новые признаки и заполним их медианами соответствующих категорий\n",
    "#cat_col = data_4.select_dtypes(include='object').columns\n",
    "data_4_beg_time = datetime.datetime.now() #учтем время на подготовку признаков\n",
    "\n",
    "for col in cat_col:\n",
    "    nan_colomn = col + '_MeanPrice'\n",
    "    group_colomn = col\n",
    "    median_series = data_2.groupby(group_colomn)['Price'].median()\n",
    "    \n",
    "    data_4[nan_colomn] = np.NaN\n",
    "    data_4[nan_colomn] = data_4[nan_colomn].fillna(data_4.apply(median_groupby, axis=1))\n",
    "    \n",
    "    data_4 = data_4.drop([col], axis=1)\n",
    "    data_4[nan_colomn] = data_4[nan_colomn].astype('int')\n",
    "    \n",
    "data_4.time = (datetime.datetime.now()-data_4_beg_time).seconds"
   ]
  },
  {
   "cell_type": "code",
   "execution_count": 59,
   "metadata": {},
   "outputs": [
    {
     "name": "stdout",
     "output_type": "stream",
     "text": [
      "<class 'pandas.core.frame.DataFrame'>\n",
      "Int64Index: 341941 entries, 0 to 354368\n",
      "Data columns (total 9 columns):\n",
      " #   Column                 Non-Null Count   Dtype\n",
      "---  ------                 --------------   -----\n",
      " 0   Price                  341941 non-null  int64\n",
      " 1   Power                  341941 non-null  int32\n",
      " 2   Kilometer              341941 non-null  int64\n",
      " 3   HowOld_Month           341941 non-null  int64\n",
      " 4   VehicleType_MeanPrice  341941 non-null  int32\n",
      " 5   Gearbox_MeanPrice      341941 non-null  int32\n",
      " 6   FuelType_MeanPrice     341941 non-null  int32\n",
      " 7   NotRepaired_MeanPrice  341941 non-null  int32\n",
      " 8   Brand_Model_MeanPrice  341941 non-null  int32\n",
      "dtypes: int32(6), int64(3)\n",
      "memory usage: 18.3 MB\n"
     ]
    }
   ],
   "source": [
    "data_4.info()"
   ]
  },
  {
   "cell_type": "code",
   "execution_count": 60,
   "metadata": {},
   "outputs": [
    {
     "data": {
      "text/plain": [
       "<matplotlib.axes._subplots.AxesSubplot at 0x1c4f0e28ca0>"
      ]
     },
     "execution_count": 60,
     "metadata": {},
     "output_type": "execute_result"
    },
    {
     "data": {
      "image/png": "[encoded data removed]",
      "text/plain": [
       "<Figure size 1008x432 with 2 Axes>"
      ]
     },
     "metadata": {
      "needs_background": "light"
     },
     "output_type": "display_data"
    }
   ],
   "source": [
    "fig, ax = plt.subplots(figsize=(14,6))\n",
    "sns.heatmap(data_4.corr(), annot = True, vmin=-1, vmax=1, center= 0, cmap= 'coolwarm', fmt='.2g')"
   ]
  },
  {
   "cell_type": "code",
   "execution_count": 61,
   "metadata": {},
   "outputs": [],
   "source": [
    "features_train_4, features_test_4, target_train_4, target_test_4 = train_test_split(\n",
    "    data_4.drop(['Price'], axis=1), data_4['Price'], test_size=0.2, random_state=123)"
   ]
  },
  {
   "cell_type": "code",
   "execution_count": 62,
   "metadata": {},
   "outputs": [],
   "source": [
    "#Нормализуем\n",
    "scaler = StandardScaler()\n",
    "scaler.fit(features_train_4)\n",
    "features_train_4 = scaler.transform(features_train_4)\n",
    "features_test_4 = scaler.transform(features_test_4)"
   ]
  },
  {
   "cell_type": "markdown",
   "metadata": {},
   "source": [
    "<div class=\"alert alert-block alert-success\">\n",
    "<b>Успех:</b>  Отлично, что scaler обучен только на трейне\n",
    "</div>"
   ]
  },
  {
   "cell_type": "code",
   "execution_count": 63,
   "metadata": {},
   "outputs": [
    {
     "name": "stdout",
     "output_type": "stream",
     "text": [
      "Модель: model_5 (LinearRegression),         rmse(евро): 2973   время работы(сек.): 752\n"
     ]
    }
   ],
   "source": [
    "beg_time = datetime.datetime.now()\n",
    "model_5 = LinearRegression()\n",
    "\n",
    "negmse = cross_val_score(model_5, features_train_4, target_train_4, cv=kfold, scoring='neg_mean_squared_error')\n",
    "\n",
    "model_5.name = 'model_5 (LinearRegression),      '\n",
    "model_5.rmse = np.sqrt(-negmse.mean())\n",
    "model_5.time = (datetime.datetime.now()-beg_time).seconds + data_4.time\n",
    "\n",
    "print('Модель:', model_5.name, '  rmse(евро): %.0f' %model_5.rmse, '  время работы(сек.):',model_5.time)"
   ]
  },
  {
   "cell_type": "markdown",
   "metadata": {},
   "source": [
    "## Сравнение моделей на этапе обучения"
   ]
  },
  {
   "cell_type": "code",
   "execution_count": 64,
   "metadata": {},
   "outputs": [
    {
     "name": "stdout",
     "output_type": "stream",
     "text": [
      "Модель: model_2 (LGBMRegressor),            train rmse(евро): 1584   время на подготовку (сек.): 861\n",
      "Модель: model_3 (DecisionTreeRegressor),    train rmse(евро): 1841   время на подготовку (сек.): 1918\n",
      "Модель: model_4 (RandomForestRegressor),    train rmse(евро): 1680   время на подготовку (сек.): 3673\n",
      "Модель: model_5 (LinearRegression),         train rmse(евро): 2973   время на подготовку (сек.): 752\n"
     ]
    }
   ],
   "source": [
    "model_list = [model_2, model_3, model_4, model_5]\n",
    "for model in model_list:\n",
    "    print('Модель:', model.name, '  train rmse(евро): %.0f' %model.rmse, '  время на подготовку (сек.):',model.time)"
   ]
  },
  {
   "cell_type": "markdown",
   "metadata": {},
   "source": [
    "<div class=\"alert alert-block alert-success\">\n",
    "<b>Успех:</b> Замечательная работа с моделями. Радует количество использованных моделей. Кросс-валидационные методы корректно использованы"
   ]
  },
  {
   "cell_type": "markdown",
   "metadata": {},
   "source": [
    "## Тестирование моделей"
   ]
  },
  {
   "cell_type": "code",
   "execution_count": 86,
   "metadata": {},
   "outputs": [],
   "source": [
    "beg_time = datetime.datetime.now()\n",
    "model_2.fit(features_train_2, target_train_2)\n",
    "model_2.fit_time = (datetime.datetime.now()-beg_time).seconds\n",
    "\n",
    "beg_time = datetime.datetime.now()\n",
    "model_2.predicted = model_2.predict(features_test_2)\n",
    "model_2.pred_time = (datetime.datetime.now()-beg_time).microseconds/1000\n",
    "\n",
    "model_2.test_rmse = mean_squared_error(target_test_2, model_2.predicted, squared=False)"
   ]
  },
  {
   "cell_type": "code",
   "execution_count": 87,
   "metadata": {},
   "outputs": [],
   "source": [
    "beg_time = datetime.datetime.now()\n",
    "model_3.fit(features_train_3, target_train_3)\n",
    "model_3.fit_time = (datetime.datetime.now()-beg_time).seconds\n",
    "\n",
    "beg_time = datetime.datetime.now()\n",
    "model_3.predicted = model_3.predict(features_test_3)\n",
    "model_3.pred_time = (datetime.datetime.now()-beg_time).microseconds/1000\n",
    "\n",
    "model_3.test_rmse = mean_squared_error(target_test_3, model_3.predicted, squared=False)"
   ]
  },
  {
   "cell_type": "code",
   "execution_count": 88,
   "metadata": {},
   "outputs": [],
   "source": [
    "beg_time = datetime.datetime.now()\n",
    "model_4.fit(features_train_3, target_train_3)\n",
    "model_4.fit_time = (datetime.datetime.now()-beg_time).seconds\n",
    "\n",
    "beg_time = datetime.datetime.now()\n",
    "model_4.predicted = model_4.predict(features_test_3)\n",
    "model_4.pred_time = (datetime.datetime.now()-beg_time).microseconds/1000\n",
    "\n",
    "model_4.test_rmse = mean_squared_error(target_test_3, model_4.predicted, squared=False)"
   ]
  },
  {
   "cell_type": "code",
   "execution_count": 89,
   "metadata": {},
   "outputs": [],
   "source": [
    "beg_time = datetime.datetime.now()\n",
    "model_5.fit(features_train_4, target_train_4)\n",
    "model_5.fit_time = (datetime.datetime.now()-beg_time).seconds\n",
    "\n",
    "beg_time = datetime.datetime.now()\n",
    "model_5.predicted = model_5.predict(features_test_4)\n",
    "model_5.pred_time = (datetime.datetime.now()-beg_time).microseconds/1000\n",
    "\n",
    "model_5.test_rmse = mean_squared_error(target_test_4, model_5.predicted, squared=False)"
   ]
  },
  {
   "cell_type": "code",
   "execution_count": 90,
   "metadata": {},
   "outputs": [],
   "source": [
    "#Соберем все характеристики в df\n",
    "a={}\n",
    "for i in model_list:\n",
    "    b={}    \n",
    "    b['model']=(i.name[9:]).rpartition(')')[0]\n",
    "    b['train_rmse_euro']=i.rmse.astype(int)\n",
    "    b['tuning_time_s']=i.time\n",
    "    b['fit_time_s']=i.fit_time\n",
    "    b['predict_time_ms']=i.pred_time\n",
    "    b['test_rmse_euro']=i.test_rmse.astype(int)\n",
    "    a[i.name[0:7]] = b\n",
    "\n",
    "final_table = pd.DataFrame(a)"
   ]
  },
  {
   "cell_type": "code",
   "execution_count": 91,
   "metadata": {
    "scrolled": false
   },
   "outputs": [
    {
     "data": {
      "text/html": [
       "<div>\n",
       "<style scoped>\n",
       "    .dataframe tbody tr th:only-of-type {\n",
       "        vertical-align: middle;\n",
       "    }\n",
       "\n",
       "    .dataframe tbody tr th {\n",
       "        vertical-align: top;\n",
       "    }\n",
       "\n",
       "    .dataframe thead th {\n",
       "        text-align: right;\n",
       "    }\n",
       "</style>\n",
       "<table border=\"1\" class=\"dataframe\">\n",
       "  <thead>\n",
       "    <tr style=\"text-align: right;\">\n",
       "      <th></th>\n",
       "      <th>model</th>\n",
       "      <th>train_rmse_euro</th>\n",
       "      <th>tuning_time_s</th>\n",
       "      <th>fit_time_s</th>\n",
       "      <th>predict_time_ms</th>\n",
       "      <th>test_rmse_euro</th>\n",
       "    </tr>\n",
       "  </thead>\n",
       "  <tbody>\n",
       "    <tr>\n",
       "      <th>model_2</th>\n",
       "      <td>LGBMRegressor</td>\n",
       "      <td>1583</td>\n",
       "      <td>861</td>\n",
       "      <td>17</td>\n",
       "      <td>643.917</td>\n",
       "      <td>1581</td>\n",
       "    </tr>\n",
       "    <tr>\n",
       "      <th>model_3</th>\n",
       "      <td>DecisionTreeRegressor</td>\n",
       "      <td>1841</td>\n",
       "      <td>1918</td>\n",
       "      <td>30</td>\n",
       "      <td>583.691</td>\n",
       "      <td>1830</td>\n",
       "    </tr>\n",
       "    <tr>\n",
       "      <th>model_4</th>\n",
       "      <td>RandomForestRegressor</td>\n",
       "      <td>1679</td>\n",
       "      <td>3673</td>\n",
       "      <td>362</td>\n",
       "      <td>968.948</td>\n",
       "      <td>1673</td>\n",
       "    </tr>\n",
       "    <tr>\n",
       "      <th>model_5</th>\n",
       "      <td>LinearRegression</td>\n",
       "      <td>2973</td>\n",
       "      <td>752</td>\n",
       "      <td>0</td>\n",
       "      <td>34.261</td>\n",
       "      <td>2984</td>\n",
       "    </tr>\n",
       "  </tbody>\n",
       "</table>\n",
       "</div>"
      ],
      "text/plain": [
       "                         model train_rmse_euro tuning_time_s fit_time_s  \\\n",
       "model_2          LGBMRegressor            1583           861         17   \n",
       "model_3  DecisionTreeRegressor            1841          1918         30   \n",
       "model_4  RandomForestRegressor            1679          3673        362   \n",
       "model_5       LinearRegression            2973           752          0   \n",
       "\n",
       "        predict_time_ms test_rmse_euro  \n",
       "model_2         643.917           1581  \n",
       "model_3         583.691           1830  \n",
       "model_4         968.948           1673  \n",
       "model_5          34.261           2984  "
      ]
     },
     "metadata": {},
     "output_type": "display_data"
    }
   ],
   "source": [
    "display(final_table.T)"
   ]
  },
  {
   "cell_type": "markdown",
   "metadata": {},
   "source": [
    "Меньше всего ошибается LGBM (в среднем на 1582 евро), метрика \"случайного леса\" на 6% хуже (1675 евро). Точность дерева и линейной регресии (по преобразованным признакам) ниже.  \n",
    "При этом подготовка и обучение LGBM происходит значительно быстрее.\n",
    "\n",
    "При более серьезном подборе параметров а также при увеличении количества деревьев RandomForest возможно незначительное улучшение качества предсказаний. "
   ]
  },
  {
   "cell_type": "markdown",
   "metadata": {},
   "source": [
    "<div class=\"alert alert-block alert-success\">\n",
    "<b>Успех:</b> Тестирование проведено корректно, информативная таблица хорошо демонстрирует проделанную работу и полученные результаты! Итоговый вывод логичен, прост и прозрачен."
   ]
  },
  {
   "cell_type": "markdown",
   "metadata": {},
   "source": [
    "## Чек-лист проверки"
   ]
  },
  {
   "cell_type": "markdown",
   "metadata": {},
   "source": [
    "Поставьте 'x' в выполненных пунктах. Далее нажмите Shift+Enter."
   ]
  },
  {
   "cell_type": "markdown",
   "metadata": {},
   "source": [
    "- [x]  Jupyter Notebook открыт\n",
    "- [x]  Весь код выполняется без ошибок\n",
    "- [x]  Ячейки с кодом расположены в порядке исполнения\n",
    "- [x]  Выполнена загрузка и подготовка данных\n",
    "- [x]  Выполнено обучение моделей\n",
    "- [x]  Есть анализ скорости работы и качества моделей"
   ]
  },
  {
   "cell_type": "code",
   "execution_count": null,
   "metadata": {},
   "outputs": [],
   "source": []
  }
 ],
 "metadata": {
  "kernelspec": {
   "display_name": "Python 3",
   "language": "python",
   "name": "python3"
  },
  "language_info": {
   "codemirror_mode": {
    "name": "ipython",
    "version": 3
   },
   "file_extension": ".py",
   "mimetype": "text/x-python",
   "name": "python",
   "nbconvert_exporter": "python",
   "pygments_lexer": "ipython3",
   "version": "3.8.5"
  },
  "toc": {
   "base_numbering": 1,
   "nav_menu": {
    "height": "98px",
    "width": "220px"
   },
   "number_sections": true,
   "sideBar": true,
   "skip_h1_title": true,
   "title_cell": "Table of Contents",
   "title_sidebar": "Contents",
   "toc_cell": false,
   "toc_position": {},
   "toc_section_display": true,
   "toc_window_display": true
  }
 },
 "nbformat": 4,
 "nbformat_minor": 2
}
