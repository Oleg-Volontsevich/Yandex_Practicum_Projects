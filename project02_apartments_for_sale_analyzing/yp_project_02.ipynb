{
 "cells": [
  {
   "cell_type": "markdown",
   "metadata": {},
   "source": [
    "|  |  |  |\n",
    "| ---: | :--- | :--- |\n",
    "| Курс:| Исследовательский анализ данных | 02 |\n",
    "| Срок обучения на момент сдачи: | 4 недели |\n",
    "\n",
    "# Исследование объявлений о продаже квартир\n",
    "\n",
    "В вашем распоряжении данные сервиса Яндекс.Недвижимость — архив объявлений о продаже квартир в Санкт-Петербурге и соседних населённых пунктов за несколько лет. Нужно научиться определять рыночную стоимость объектов недвижимости. Ваша задача — установить параметры. Это позволит построить автоматизированную систему: она отследит аномалии и мошенническую деятельность. \n",
    "\n",
    "По каждой квартире на продажу доступны два вида данных. Первые вписаны пользователем, вторые — получены автоматически на основе картографических данных. Например, расстояние до центра, аэропорта, ближайшего парка и водоёма. "
   ]
  },
  {
   "cell_type": "markdown",
   "metadata": {},
   "source": [
    "# Содержание"
   ]
  },
  {
   "cell_type": "markdown",
   "metadata": {},
   "source": [
    "1  [Вводные данные и постановка задачи](#1)\n",
    "\n",
    "1. Импорт библиотек, изучение информации, определение проблем\n",
    "2. Предобработка:\n",
    "  * ошибки и формат\n",
    "  * Выбросы обозначить как NaN для дальнейшего анализа показателей для NaN и ошибок\n",
    "  * создать столбец с количеством NaN в строке (кроме полей заполняемых автоматически).\n",
    "  * заполнить пропуски где возможно.\n",
    "3. Формирование недостающих столбцов:\n",
    "  * цена за м2\n",
    "  * день недели, месяц и год публикации объявления\n",
    "  * этаж - первый / последний / другой\n",
    "  * отношение жилой к общей и кухни к общей площади\n",
    "4. Анализ\n",
    "  * площадь\n",
    "  * цена\n",
    "  * число комнат\n",
    "  * высота потолков\n",
    "  * время продажи\n",
    "  * этаж\n",
    "  * дата размещения\n",
    "  * населенный пункт\n",
    "  * расстояние до центра\n",
    "4. Ответы на вопросы, выводы"
   ]
  },
  {
   "cell_type": "markdown",
   "metadata": {},
   "source": [
    "<a name=\"1\"></a>\n",
    "## Вводные данные и постановка задачи"
   ]
  },
  {
   "cell_type": "markdown",
   "metadata": {},
   "source": [
    "### Описание данных"
   ]
  },
  {
   "cell_type": "markdown",
   "metadata": {},
   "source": [
    "* total_images         23699 non-null int64    — число фотографий квартиры в объявлении\n",
    "* last_price           23699 non-null float64  — цена на момент снятия с публикации\n",
    "* total_area           23699 non-null float64  — площадь квартиры в квадратных метрах (м²)\n",
    "* first_day_exposition 23699 non-null object   — дата публикации\n",
    "* rooms                23699 non-null int64    — число комнат\n",
    "* ceiling_height       14504 non-null float64  — высота потолков (м)\n",
    "* floors_total         23613 non-null float64  — всего этажей в доме \n",
    "* living_area          21796 non-null float64  — жилая площадь в квадратных метрах(м²)\n",
    "* floor                23699 non-null int64    — этаж\n",
    "* is_apartment         2775  non-null object   — апартаменты (булев тип)\n",
    "* studio               23699 non-null bool     — квартира-студия (булев тип)\n",
    "* open_plan            23699 non-null bool     — свободная планировка (булев тип)\n",
    "* kitchen_area         21421 non-null float64  — площадь кухни в квадратных метрах (м²)\n",
    "* balcony              12180 non-null float64  — число балконов\n",
    "* locality_name        23650 non-null object   — название населённого пункта\n",
    "* airports_nearest     18157 non-null float64  — расстояние до ближайшего аэропорта в метрах (м)\n",
    "* cityCenters_nearest  18180 non-null float64  — расстояние до центра города (м)\n",
    "* parks_around3000     18181 non-null float64  — число парков в радиусе 3 км\n",
    "* parks_nearest        8079  non-null float64  — расстояние до ближайшего парка (м)\n",
    "* ponds_around3000     18181 non-null float64  — число водоёмов в радиусе 3 км\n",
    "* ponds_nearest        9110  non-null float64  — расстояние до ближайшего водоёма (м)\n",
    "* days_exposition      20518 non-null float64  — сколько дней было размещено объявление (от публикации до снятия)"
   ]
  },
  {
   "cell_type": "markdown",
   "metadata": {},
   "source": [
    "### Инструкция по выполнению проекта"
   ]
  },
  {
   "cell_type": "markdown",
   "metadata": {},
   "source": [
    "*В этом проекте задачи сформулированы в виде подробной инструкции.*"
   ]
  },
  {
   "cell_type": "markdown",
   "metadata": {},
   "source": [
    "Шаг 1. Откройте файл с данными и изучите общую информацию\n",
    "\n",
    "Шаг 2. Предобработка данных\n",
    "\n",
    "*    определите и изучите пропущенные значения, где возможно предположите логичную замену.\n",
    "*    приведите данные к нужным типам\n",
    "\n",
    "Шаг 3. Посчитайте и добавьте в таблицу:\n",
    "\n",
    "*    цену квадратного метра;\n",
    "*    день недели, месяц и год публикации объявления;\n",
    "*    этаж квартиры; варианты — первый, последний, другой;\n",
    "*    соотношение жилой и общей площади, а также отношение площади кухни к общей.\n",
    "\n",
    "Шаг 4. Проведите исследовательский анализ данных и выполните инструкции:\n",
    "\n",
    "*    Изучите следующие параметры: площадь, цена, число комнат, высота потолков. Постройте гистограммы для каждого параметра.\n",
    "*    Изучите время продажи квартиры. Постройте гистограмму. Посчитайте среднее и медиану. Опишите, сколько обычно занимает продажа. Когда можно считать, что продажи прошли очень быстро, а когда необычно долго?\n",
    "*    Уберите редкие и выбивающиеся значения. Опишите, какие особенности обнаружили.\n",
    "*    Какие факторы больше всего влияют на стоимость квартиры? Изучите, зависит ли цена от площади, числа комнат, удалённости от центра. Изучите зависимость цены от того, на каком этаже расположена квартира: первом, последнем или другом. Также изучите зависимость от даты размещения: дня недели, месяца и года.\n",
    "*    Выберите 10 населённых пунктов с наибольшим числом объявлений. Посчитайте среднюю цену квадратного метра в этих населённых пунктах. Выделите среди них населённые пункты с самой высокой и низкой стоимостью жилья. Эти данные можно найти по имени в столбце 'locality_name'.\n",
    "*    Изучите предложения квартир: для каждой квартиры есть информация о расстоянии до центра. Выделите квартиры в Санкт-Петербурге ('locality_name'). Ваша задача — выяснить, какая область входит в центр. Создайте столбец с расстоянием до центра в километрах: округлите до целых значений. После этого посчитайте среднюю цену для каждого километра. Постройте график: он должен показывать, как цена зависит от удалённости от центра. Определите границу, где график сильно меняется — это и будет центральная зона.\n",
    "*    Выделите сегмент квартир в центре. Проанализируйте эту территорию и изучите следующие параметры: площадь, цена, число комнат, высота потолков. Также выделите факторы, которые влияют на стоимость квартиры (число комнат, этаж, удалённость от центра, дата размещения объявления). Сделайте выводы. Отличаются ли они от общих выводов по всему городу?\n",
    "\n",
    "Шаг 5. Напишите общий вывод"
   ]
  },
  {
   "cell_type": "markdown",
   "metadata": {},
   "source": [
    "<a name=\"2\"></a>\n",
    "## Импорт библиотек, загрузка и изучение данных"
   ]
  },
  {
   "cell_type": "code",
   "execution_count": 1,
   "metadata": {},
   "outputs": [],
   "source": [
    "import pandas as pd\n",
    "import numpy as np\n",
    "import matplotlib.pyplot as plt\n",
    "from IPython.display import display"
   ]
  },
  {
   "cell_type": "code",
   "execution_count": 2,
   "metadata": {},
   "outputs": [
    {
     "name": "stdout",
     "output_type": "stream",
     "text": [
      "<class 'pandas.core.frame.DataFrame'>\n",
      "RangeIndex: 23699 entries, 0 to 23698\n",
      "Data columns (total 22 columns):\n",
      " #   Column                Non-Null Count  Dtype  \n",
      "---  ------                --------------  -----  \n",
      " 0   total_images          23699 non-null  int64  \n",
      " 1   last_price            23699 non-null  float64\n",
      " 2   total_area            23699 non-null  float64\n",
      " 3   first_day_exposition  23699 non-null  object \n",
      " 4   rooms                 23699 non-null  int64  \n",
      " 5   ceiling_height        14504 non-null  float64\n",
      " 6   floors_total          23613 non-null  float64\n",
      " 7   living_area           21796 non-null  float64\n",
      " 8   floor                 23699 non-null  int64  \n",
      " 9   is_apartment          2775 non-null   object \n",
      " 10  studio                23699 non-null  bool   \n",
      " 11  open_plan             23699 non-null  bool   \n",
      " 12  kitchen_area          21421 non-null  float64\n",
      " 13  balcony               12180 non-null  float64\n",
      " 14  locality_name         23650 non-null  object \n",
      " 15  airports_nearest      18157 non-null  float64\n",
      " 16  cityCenters_nearest   18180 non-null  float64\n",
      " 17  parks_around3000      18181 non-null  float64\n",
      " 18  parks_nearest         8079 non-null   float64\n",
      " 19  ponds_around3000      18181 non-null  float64\n",
      " 20  ponds_nearest         9110 non-null   float64\n",
      " 21  days_exposition       20518 non-null  float64\n",
      "dtypes: bool(2), float64(14), int64(3), object(3)\n",
      "memory usage: 3.7+ MB\n"
     ]
    },
    {
     "data": {
      "text/html": [
       "<div>\n",
       "<style scoped>\n",
       "    .dataframe tbody tr th:only-of-type {\n",
       "        vertical-align: middle;\n",
       "    }\n",
       "\n",
       "    .dataframe tbody tr th {\n",
       "        vertical-align: top;\n",
       "    }\n",
       "\n",
       "    .dataframe thead th {\n",
       "        text-align: right;\n",
       "    }\n",
       "</style>\n",
       "<table border=\"1\" class=\"dataframe\">\n",
       "  <thead>\n",
       "    <tr style=\"text-align: right;\">\n",
       "      <th></th>\n",
       "      <th>total_images</th>\n",
       "      <th>last_price</th>\n",
       "      <th>total_area</th>\n",
       "      <th>first_day_exposition</th>\n",
       "      <th>rooms</th>\n",
       "      <th>ceiling_height</th>\n",
       "      <th>floors_total</th>\n",
       "      <th>living_area</th>\n",
       "      <th>floor</th>\n",
       "      <th>is_apartment</th>\n",
       "      <th>...</th>\n",
       "      <th>kitchen_area</th>\n",
       "      <th>balcony</th>\n",
       "      <th>locality_name</th>\n",
       "      <th>airports_nearest</th>\n",
       "      <th>cityCenters_nearest</th>\n",
       "      <th>parks_around3000</th>\n",
       "      <th>parks_nearest</th>\n",
       "      <th>ponds_around3000</th>\n",
       "      <th>ponds_nearest</th>\n",
       "      <th>days_exposition</th>\n",
       "    </tr>\n",
       "  </thead>\n",
       "  <tbody>\n",
       "    <tr>\n",
       "      <th>0</th>\n",
       "      <td>20</td>\n",
       "      <td>13000000.0</td>\n",
       "      <td>108.0</td>\n",
       "      <td>2019-03-07T00:00:00</td>\n",
       "      <td>3</td>\n",
       "      <td>2.70</td>\n",
       "      <td>16.0</td>\n",
       "      <td>51.0</td>\n",
       "      <td>8</td>\n",
       "      <td>NaN</td>\n",
       "      <td>...</td>\n",
       "      <td>25.0</td>\n",
       "      <td>NaN</td>\n",
       "      <td>Санкт-Петербург</td>\n",
       "      <td>18863.0</td>\n",
       "      <td>16028.0</td>\n",
       "      <td>1.0</td>\n",
       "      <td>482.0</td>\n",
       "      <td>2.0</td>\n",
       "      <td>755.0</td>\n",
       "      <td>NaN</td>\n",
       "    </tr>\n",
       "    <tr>\n",
       "      <th>1</th>\n",
       "      <td>7</td>\n",
       "      <td>3350000.0</td>\n",
       "      <td>40.4</td>\n",
       "      <td>2018-12-04T00:00:00</td>\n",
       "      <td>1</td>\n",
       "      <td>NaN</td>\n",
       "      <td>11.0</td>\n",
       "      <td>18.6</td>\n",
       "      <td>1</td>\n",
       "      <td>NaN</td>\n",
       "      <td>...</td>\n",
       "      <td>11.0</td>\n",
       "      <td>2.0</td>\n",
       "      <td>посёлок Шушары</td>\n",
       "      <td>12817.0</td>\n",
       "      <td>18603.0</td>\n",
       "      <td>0.0</td>\n",
       "      <td>NaN</td>\n",
       "      <td>0.0</td>\n",
       "      <td>NaN</td>\n",
       "      <td>81.0</td>\n",
       "    </tr>\n",
       "    <tr>\n",
       "      <th>2</th>\n",
       "      <td>10</td>\n",
       "      <td>5196000.0</td>\n",
       "      <td>56.0</td>\n",
       "      <td>2015-08-20T00:00:00</td>\n",
       "      <td>2</td>\n",
       "      <td>NaN</td>\n",
       "      <td>5.0</td>\n",
       "      <td>34.3</td>\n",
       "      <td>4</td>\n",
       "      <td>NaN</td>\n",
       "      <td>...</td>\n",
       "      <td>8.3</td>\n",
       "      <td>0.0</td>\n",
       "      <td>Санкт-Петербург</td>\n",
       "      <td>21741.0</td>\n",
       "      <td>13933.0</td>\n",
       "      <td>1.0</td>\n",
       "      <td>90.0</td>\n",
       "      <td>2.0</td>\n",
       "      <td>574.0</td>\n",
       "      <td>558.0</td>\n",
       "    </tr>\n",
       "    <tr>\n",
       "      <th>3</th>\n",
       "      <td>0</td>\n",
       "      <td>64900000.0</td>\n",
       "      <td>159.0</td>\n",
       "      <td>2015-07-24T00:00:00</td>\n",
       "      <td>3</td>\n",
       "      <td>NaN</td>\n",
       "      <td>14.0</td>\n",
       "      <td>NaN</td>\n",
       "      <td>9</td>\n",
       "      <td>NaN</td>\n",
       "      <td>...</td>\n",
       "      <td>NaN</td>\n",
       "      <td>0.0</td>\n",
       "      <td>Санкт-Петербург</td>\n",
       "      <td>28098.0</td>\n",
       "      <td>6800.0</td>\n",
       "      <td>2.0</td>\n",
       "      <td>84.0</td>\n",
       "      <td>3.0</td>\n",
       "      <td>234.0</td>\n",
       "      <td>424.0</td>\n",
       "    </tr>\n",
       "    <tr>\n",
       "      <th>4</th>\n",
       "      <td>2</td>\n",
       "      <td>10000000.0</td>\n",
       "      <td>100.0</td>\n",
       "      <td>2018-06-19T00:00:00</td>\n",
       "      <td>2</td>\n",
       "      <td>3.03</td>\n",
       "      <td>14.0</td>\n",
       "      <td>32.0</td>\n",
       "      <td>13</td>\n",
       "      <td>NaN</td>\n",
       "      <td>...</td>\n",
       "      <td>41.0</td>\n",
       "      <td>NaN</td>\n",
       "      <td>Санкт-Петербург</td>\n",
       "      <td>31856.0</td>\n",
       "      <td>8098.0</td>\n",
       "      <td>2.0</td>\n",
       "      <td>112.0</td>\n",
       "      <td>1.0</td>\n",
       "      <td>48.0</td>\n",
       "      <td>121.0</td>\n",
       "    </tr>\n",
       "  </tbody>\n",
       "</table>\n",
       "<p>5 rows × 22 columns</p>\n",
       "</div>"
      ],
      "text/plain": [
       "   total_images  last_price  total_area first_day_exposition  rooms  \\\n",
       "0            20  13000000.0       108.0  2019-03-07T00:00:00      3   \n",
       "1             7   3350000.0        40.4  2018-12-04T00:00:00      1   \n",
       "2            10   5196000.0        56.0  2015-08-20T00:00:00      2   \n",
       "3             0  64900000.0       159.0  2015-07-24T00:00:00      3   \n",
       "4             2  10000000.0       100.0  2018-06-19T00:00:00      2   \n",
       "\n",
       "   ceiling_height  floors_total  living_area  floor is_apartment  ...  \\\n",
       "0            2.70          16.0         51.0      8          NaN  ...   \n",
       "1             NaN          11.0         18.6      1          NaN  ...   \n",
       "2             NaN           5.0         34.3      4          NaN  ...   \n",
       "3             NaN          14.0          NaN      9          NaN  ...   \n",
       "4            3.03          14.0         32.0     13          NaN  ...   \n",
       "\n",
       "   kitchen_area  balcony    locality_name  airports_nearest  \\\n",
       "0          25.0      NaN  Санкт-Петербург           18863.0   \n",
       "1          11.0      2.0   посёлок Шушары           12817.0   \n",
       "2           8.3      0.0  Санкт-Петербург           21741.0   \n",
       "3           NaN      0.0  Санкт-Петербург           28098.0   \n",
       "4          41.0      NaN  Санкт-Петербург           31856.0   \n",
       "\n",
       "  cityCenters_nearest  parks_around3000  parks_nearest  ponds_around3000  \\\n",
       "0             16028.0               1.0          482.0               2.0   \n",
       "1             18603.0               0.0            NaN               0.0   \n",
       "2             13933.0               1.0           90.0               2.0   \n",
       "3              6800.0               2.0           84.0               3.0   \n",
       "4              8098.0               2.0          112.0               1.0   \n",
       "\n",
       "   ponds_nearest  days_exposition  \n",
       "0          755.0              NaN  \n",
       "1            NaN             81.0  \n",
       "2          574.0            558.0  \n",
       "3          234.0            424.0  \n",
       "4           48.0            121.0  \n",
       "\n",
       "[5 rows x 22 columns]"
      ]
     },
     "metadata": {},
     "output_type": "display_data"
    },
    {
     "name": "stdout",
     "output_type": "stream",
     "text": [
      "\n",
      "дубликатов: 0\n"
     ]
    }
   ],
   "source": [
    "data = pd.read_csv('real_estate_data.csv', sep='\\t') #данные разделены с помощью \\\n",
    "data.info()\n",
    "#data.describe()\n",
    "display(data.head(5))\n",
    "print()\n",
    "print('дубликатов:', data.duplicated().sum())"
   ]
  },
  {
   "cell_type": "markdown",
   "metadata": {},
   "source": [
    "**Предварительный вывод по данным:**"
   ]
  },
  {
   "cell_type": "markdown",
   "metadata": {},
   "source": [
    "Данные \"сырые\", есть пропуски, выбросы. Дубликатов нет. \n",
    "\n",
    "* rooms - 197 строк с rooms=0 часть - студии, часть - со свободной планировкой - вероятно необходимо оставить нулевые значения\n",
    "* living_area - 1903 пропуска. Корректно заполнить нечем. Для формирования столбца living/total_area и последующего анализа строки с пропусками использовать не будем.\n",
    "* kitchen_area - 2278 пропуска. Корректно заполнить нечем. Для формирования столбца kitchen/total_area и последующего анализа строки с пропусками использовать не будем.\n",
    "* Не для всех объектов подтянулись картографические данные: есть пропуски в столбцах: 'airports_nearest', 'cityCenters_nearest', 'parks_around3000', 'ponds_around3000'. \n",
    "* Много пропусков в 'parks_nearest', 'ponds_nearest' - вероятно они обозначают отсутствие парков и водоемов в заданном радиусе от объекта."
   ]
  },
  {
   "cell_type": "markdown",
   "metadata": {},
   "source": [
    "## Предобработка данных"
   ]
  },
  {
   "cell_type": "markdown",
   "metadata": {},
   "source": [
    "### Выявление пропусков и явных выбросов"
   ]
  },
  {
   "cell_type": "markdown",
   "metadata": {},
   "source": [
    "*Часть пропусков не обработана умышленно. Посмотрим выделяются ли объявления с пропусками и ошибками.*"
   ]
  },
  {
   "cell_type": "markdown",
   "metadata": {},
   "source": [
    "**is_apartment**"
   ]
  },
  {
   "cell_type": "code",
   "execution_count": 3,
   "metadata": {},
   "outputs": [
    {
     "name": "stdout",
     "output_type": "stream",
     "text": [
      "Количество пропусков в \"is_apartment\": 20924\n"
     ]
    },
    {
     "data": {
      "text/plain": [
       "False    2725\n",
       "True       50\n",
       "Name: is_apartment, dtype: int64"
      ]
     },
     "execution_count": 3,
     "metadata": {},
     "output_type": "execute_result"
    }
   ],
   "source": [
    "print('Количество пропусков в \"is_apartment\":', data['is_apartment'].isna().sum())\n",
    "data['is_apartment'].value_counts()"
   ]
  },
  {
   "cell_type": "markdown",
   "metadata": {},
   "source": [
    "* 20924 пропусков \n",
    "\n",
    "заполним False т.к. такая важная деталь как нежилой статус объекта скорее всего указана для апартаментов и может быть опущена для жилого фонда."
   ]
  },
  {
   "cell_type": "code",
   "execution_count": 4,
   "metadata": {},
   "outputs": [],
   "source": [
    "data['is_apartment'] = data['is_apartment'].fillna(False) #Апартаменты в пропущенных ячейках = False"
   ]
  },
  {
   "cell_type": "markdown",
   "metadata": {},
   "source": [
    "**balcony**"
   ]
  },
  {
   "cell_type": "code",
   "execution_count": 5,
   "metadata": {},
   "outputs": [
    {
     "name": "stdout",
     "output_type": "stream",
     "text": [
      "Количество пропусков в \"balcony\": 11519\n"
     ]
    },
    {
     "data": {
      "text/plain": [
       "1.0    4195\n",
       "0.0    3758\n",
       "2.0    3659\n",
       "5.0     304\n",
       "4.0     183\n",
       "3.0      81\n",
       "Name: balcony, dtype: int64"
      ]
     },
     "execution_count": 5,
     "metadata": {},
     "output_type": "execute_result"
    }
   ],
   "source": [
    "print('Количество пропусков в \"balcony\":', data['balcony'].isna().sum())\n",
    "data['balcony'].value_counts()"
   ]
  },
  {
   "cell_type": "markdown",
   "metadata": {},
   "source": [
    "* 11519 пропусков - почти половина. Заполним 0 т.к. пропуск вероятно говорит об отсутствии балконов. \n",
    "* встречаются ошибки (например 5 балконов для однокомнатной квартиры с небольшой площадью) \n",
    "\n",
    "значения меняем на NaN для дальнейшего анализа строк с ошибками и пропусками."
   ]
  },
  {
   "cell_type": "code",
   "execution_count": 6,
   "metadata": {},
   "outputs": [],
   "source": [
    "data['balcony'] = data['balcony'].fillna(0)\n",
    "data['balcony'] = data['balcony'].astype('int64') #переведем в int\n",
    "\n",
    "def balcony_range(row):\n",
    "    '''\n",
    "    принимает строку и возвращает NaN если балконов > чем комнат + 1(кухня) \n",
    "    исключения - апартаменты, студии и квартиры больше 100 м2\n",
    "    '''\n",
    "    if row['balcony']>row['rooms']+1 and row['is_apartment']!=True and row['studio']!=True and row['total_area']<100:\n",
    "        return np.NaN\n",
    "    return row['balcony']\n",
    "\n",
    "data['balcony'] = data.apply(balcony_range, axis=1) #присваиваем выбросам в balcony NaN - 292 выброса"
   ]
  },
  {
   "cell_type": "markdown",
   "metadata": {},
   "source": [
    "**ceiling_height**"
   ]
  },
  {
   "cell_type": "code",
   "execution_count": 7,
   "metadata": {},
   "outputs": [
    {
     "name": "stdout",
     "output_type": "stream",
     "text": [
      "Количество пропусков в \"ceiling_height\": 9195\n"
     ]
    },
    {
     "data": {
      "text/plain": [
       "count    14504.000000\n",
       "mean         2.771499\n",
       "std          1.261056\n",
       "min          1.000000\n",
       "25%          2.520000\n",
       "50%          2.650000\n",
       "75%          2.800000\n",
       "max        100.000000\n",
       "Name: ceiling_height, dtype: float64"
      ]
     },
     "execution_count": 7,
     "metadata": {},
     "output_type": "execute_result"
    }
   ],
   "source": [
    "print('Количество пропусков в \"ceiling_height\":', data['ceiling_height'].isna().sum())\n",
    "data['ceiling_height'].describe()"
   ]
  },
  {
   "cell_type": "markdown",
   "metadata": {},
   "source": [
    "* 9195 пропусков \n",
    "* встречаются ошибки (значения <2 или >5)"
   ]
  },
  {
   "cell_type": "markdown",
   "metadata": {},
   "source": [
    "**days_exposition**"
   ]
  },
  {
   "cell_type": "code",
   "execution_count": 8,
   "metadata": {},
   "outputs": [
    {
     "name": "stdout",
     "output_type": "stream",
     "text": [
      "Количество пропусков в \"days_exposition\": 3181\n"
     ]
    },
    {
     "data": {
      "text/plain": [
       "count    20518.000000\n",
       "mean       180.888634\n",
       "std        219.727988\n",
       "min          1.000000\n",
       "25%         45.000000\n",
       "50%         95.000000\n",
       "75%        232.000000\n",
       "max       1580.000000\n",
       "Name: days_exposition, dtype: float64"
      ]
     },
     "execution_count": 8,
     "metadata": {},
     "output_type": "execute_result"
    }
   ],
   "source": [
    "print('Количество пропусков в \"days_exposition\":', data['days_exposition'].isnull().sum())\n",
    "data['days_exposition'].describe()"
   ]
  },
  {
   "cell_type": "markdown",
   "metadata": {},
   "source": [
    "3181 пропуск, а также крайние 4 строки со значением <3 можно удалить."
   ]
  },
  {
   "cell_type": "code",
   "execution_count": 9,
   "metadata": {},
   "outputs": [],
   "source": [
    "data = data.query('days_exposition>2') #удаляем строки со сроком публикации < 3"
   ]
  },
  {
   "cell_type": "markdown",
   "metadata": {},
   "source": [
    "**last_price**"
   ]
  },
  {
   "cell_type": "code",
   "execution_count": 10,
   "metadata": {},
   "outputs": [
    {
     "data": {
      "text/plain": [
       "count    2.051400e+04\n",
       "mean     6.266323e+06\n",
       "std      1.086401e+07\n",
       "min      1.219000e+04\n",
       "25%      3.400000e+06\n",
       "50%      4.500000e+06\n",
       "75%      6.500000e+06\n",
       "max      7.630000e+08\n",
       "Name: last_price, dtype: float64"
      ]
     },
     "execution_count": 10,
     "metadata": {},
     "output_type": "execute_result"
    }
   ],
   "source": [
    "data['last_price'].describe()"
   ]
  },
  {
   "cell_type": "markdown",
   "metadata": {},
   "source": [
    "Явный выброс 12190 - удалить, остальные удобнее анализировать в млн. руб."
   ]
  },
  {
   "cell_type": "code",
   "execution_count": 11,
   "metadata": {},
   "outputs": [],
   "source": [
    "data = data.query('last_price>100000') #удаляем выброс с ценой < 100тыс.\n",
    "data['last_price']/=1000000 #цены в млн. руб."
   ]
  },
  {
   "cell_type": "markdown",
   "metadata": {},
   "source": [
    "**locality_name**"
   ]
  },
  {
   "cell_type": "code",
   "execution_count": 12,
   "metadata": {},
   "outputs": [
    {
     "name": "stdout",
     "output_type": "stream",
     "text": [
      "Количество пропусков в \"locality_name\": 48\n"
     ]
    },
    {
     "data": {
      "text/plain": [
       "Санкт-Петербург      13633\n",
       "посёлок Мурино         517\n",
       "посёлок Шушары         408\n",
       "Всеволожск             339\n",
       "Колпино                308\n",
       "Пушкин                 307\n",
       "посёлок Парголово      302\n",
       "деревня Кудрово        299\n",
       "Гатчина                268\n",
       "Выборг                 208\n",
       "Name: locality_name, dtype: int64"
      ]
     },
     "execution_count": 12,
     "metadata": {},
     "output_type": "execute_result"
    }
   ],
   "source": [
    "print('Количество пропусков в \"locality_name\":', data['locality_name'].isnull().sum())\n",
    "data['locality_name'].value_counts().head(10)"
   ]
  },
  {
   "cell_type": "markdown",
   "metadata": {},
   "source": [
    "49 пропусков - строки необходимо удалить\n",
    "\n",
    "Присутствует разное написание для одного и тогоже населенного пункта: \n",
    "* Мурино/поселок Мурино/посёлок Мурино\n",
    "* Кудрово/деревня Кудрово\n",
    "\n",
    "Для проекта важны только топ-10 поэтому можно \"посмотреть глазами\" только их. Если и есть другие \"задвоенные\" варианты написания то на топ-10 они не повлияют."
   ]
  },
  {
   "cell_type": "code",
   "execution_count": 13,
   "metadata": {},
   "outputs": [],
   "source": [
    "data=data.dropna(subset=['locality_name']) #удаляем строки с пропусками в locality_name\n",
    "\n",
    "data['locality_name']=data['locality_name'].replace('поселок Мурино', 'Мурино') #приводим locality_name к единому виду\n",
    "data['locality_name']=data['locality_name'].replace('посёлок Мурино', 'Мурино')\n",
    "data['locality_name']=data['locality_name'].replace('деревня Кудрово', 'Кудрово')"
   ]
  },
  {
   "cell_type": "markdown",
   "metadata": {},
   "source": [
    "**first_day_exposition** - необходимо перевести в формат даты для дальнейшей обработки"
   ]
  },
  {
   "cell_type": "code",
   "execution_count": 14,
   "metadata": {},
   "outputs": [],
   "source": [
    "data['first_day_exposition']=pd.to_datetime(data['first_day_exposition'], format='%Y.%m.%d')"
   ]
  },
  {
   "cell_type": "markdown",
   "metadata": {},
   "source": [
    "Возможно форма заполнения данных при размещении объявления требует доработки (введение обязательных полей, проверка вводимых значений по формату и диапазону, добавление возможности выбора из списка, автозаполнение)."
   ]
  },
  {
   "cell_type": "markdown",
   "metadata": {},
   "source": [
    "### Добавление новых (расчетных) параметров"
   ]
  },
  {
   "cell_type": "code",
   "execution_count": 15,
   "metadata": {},
   "outputs": [],
   "source": [
    "data['m2_price'] = round(data['last_price']*1000000/data['total_area'])  #стоимость м2"
   ]
  },
  {
   "cell_type": "code",
   "execution_count": 16,
   "metadata": {},
   "outputs": [],
   "source": [
    "data['weekday'] = data['first_day_exposition'].dt.weekday #день недели\n",
    "data['month'] = data['first_day_exposition'].dt.month     #месяц\n",
    "data['year'] = data['first_day_exposition'].dt.year       #год"
   ]
  },
  {
   "cell_type": "code",
   "execution_count": 17,
   "metadata": {},
   "outputs": [],
   "source": [
    "def floor_type(row):\n",
    "    '''\n",
    "    принимает строку, возвращает тип этажа квартиры\n",
    "    '''\n",
    "    try:\n",
    "        if row['floor']==1:\n",
    "            return 'первый'\n",
    "        if row['floors_total']/row['floor']==1:\n",
    "            return 'последний'\n",
    "        return 'другой'\n",
    "    except: \n",
    "        return np.NaN\n",
    "\n",
    "data['floor_type']=data.apply(floor_type, axis=1)"
   ]
  },
  {
   "cell_type": "code",
   "execution_count": 18,
   "metadata": {},
   "outputs": [],
   "source": [
    "def living_total(row):\n",
    "    '''\n",
    "    принимает строку, возвращает соотношение жилой и общей площади\n",
    "    '''\n",
    "    try:\n",
    "        return row['living_area']/row['total_area']\n",
    "    except: \n",
    "        return np.NaN\n",
    "\n",
    "data['living_total']=data.apply(living_total, axis=1)"
   ]
  },
  {
   "cell_type": "code",
   "execution_count": 19,
   "metadata": {},
   "outputs": [],
   "source": [
    "def kitchen_total(row):\n",
    "    '''\n",
    "    принимает строку, возвращает отношение площади кухни к общей площади\n",
    "    '''\n",
    "    try:\n",
    "        return row['kitchen_area']/row['total_area']\n",
    "    except: \n",
    "        return np.NaN\n",
    "\n",
    "data['kitchen_total']=data.apply(kitchen_total, axis=1)"
   ]
  },
  {
   "cell_type": "markdown",
   "metadata": {},
   "source": [
    "Дополнительно можно проанализировать дату снятия объявления."
   ]
  },
  {
   "cell_type": "code",
   "execution_count": 20,
   "metadata": {},
   "outputs": [],
   "source": [
    "#дата снятия объявления\n",
    "data['end_data'] = data['first_day_exposition'] + data['days_exposition'].astype('timedelta64[D]')"
   ]
  },
  {
   "cell_type": "code",
   "execution_count": 21,
   "metadata": {},
   "outputs": [
    {
     "data": {
      "text/html": [
       "<div>\n",
       "<style scoped>\n",
       "    .dataframe tbody tr th:only-of-type {\n",
       "        vertical-align: middle;\n",
       "    }\n",
       "\n",
       "    .dataframe tbody tr th {\n",
       "        vertical-align: top;\n",
       "    }\n",
       "\n",
       "    .dataframe thead th {\n",
       "        text-align: right;\n",
       "    }\n",
       "</style>\n",
       "<table border=\"1\" class=\"dataframe\">\n",
       "  <thead>\n",
       "    <tr style=\"text-align: right;\">\n",
       "      <th></th>\n",
       "      <th>total_images</th>\n",
       "      <th>last_price</th>\n",
       "      <th>total_area</th>\n",
       "      <th>first_day_exposition</th>\n",
       "      <th>rooms</th>\n",
       "      <th>ceiling_height</th>\n",
       "      <th>floors_total</th>\n",
       "      <th>living_area</th>\n",
       "      <th>floor</th>\n",
       "      <th>is_apartment</th>\n",
       "      <th>...</th>\n",
       "      <th>ponds_nearest</th>\n",
       "      <th>days_exposition</th>\n",
       "      <th>m2_price</th>\n",
       "      <th>weekday</th>\n",
       "      <th>month</th>\n",
       "      <th>year</th>\n",
       "      <th>floor_type</th>\n",
       "      <th>living_total</th>\n",
       "      <th>kitchen_total</th>\n",
       "      <th>end_data</th>\n",
       "    </tr>\n",
       "  </thead>\n",
       "  <tbody>\n",
       "    <tr>\n",
       "      <th>1</th>\n",
       "      <td>7</td>\n",
       "      <td>3.350</td>\n",
       "      <td>40.4</td>\n",
       "      <td>2018-12-04</td>\n",
       "      <td>1</td>\n",
       "      <td>NaN</td>\n",
       "      <td>11.0</td>\n",
       "      <td>18.6</td>\n",
       "      <td>1</td>\n",
       "      <td>False</td>\n",
       "      <td>...</td>\n",
       "      <td>NaN</td>\n",
       "      <td>81.0</td>\n",
       "      <td>82921.0</td>\n",
       "      <td>1</td>\n",
       "      <td>12</td>\n",
       "      <td>2018</td>\n",
       "      <td>первый</td>\n",
       "      <td>0.460396</td>\n",
       "      <td>0.272277</td>\n",
       "      <td>2019-02-23</td>\n",
       "    </tr>\n",
       "    <tr>\n",
       "      <th>2</th>\n",
       "      <td>10</td>\n",
       "      <td>5.196</td>\n",
       "      <td>56.0</td>\n",
       "      <td>2015-08-20</td>\n",
       "      <td>2</td>\n",
       "      <td>NaN</td>\n",
       "      <td>5.0</td>\n",
       "      <td>34.3</td>\n",
       "      <td>4</td>\n",
       "      <td>False</td>\n",
       "      <td>...</td>\n",
       "      <td>574.0</td>\n",
       "      <td>558.0</td>\n",
       "      <td>92786.0</td>\n",
       "      <td>3</td>\n",
       "      <td>8</td>\n",
       "      <td>2015</td>\n",
       "      <td>другой</td>\n",
       "      <td>0.612500</td>\n",
       "      <td>0.148214</td>\n",
       "      <td>2017-02-28</td>\n",
       "    </tr>\n",
       "    <tr>\n",
       "      <th>3</th>\n",
       "      <td>0</td>\n",
       "      <td>64.900</td>\n",
       "      <td>159.0</td>\n",
       "      <td>2015-07-24</td>\n",
       "      <td>3</td>\n",
       "      <td>NaN</td>\n",
       "      <td>14.0</td>\n",
       "      <td>NaN</td>\n",
       "      <td>9</td>\n",
       "      <td>False</td>\n",
       "      <td>...</td>\n",
       "      <td>234.0</td>\n",
       "      <td>424.0</td>\n",
       "      <td>408176.0</td>\n",
       "      <td>4</td>\n",
       "      <td>7</td>\n",
       "      <td>2015</td>\n",
       "      <td>другой</td>\n",
       "      <td>NaN</td>\n",
       "      <td>NaN</td>\n",
       "      <td>2016-09-20</td>\n",
       "    </tr>\n",
       "  </tbody>\n",
       "</table>\n",
       "<p>3 rows × 30 columns</p>\n",
       "</div>"
      ],
      "text/plain": [
       "   total_images  last_price  total_area first_day_exposition  rooms  \\\n",
       "1             7       3.350        40.4           2018-12-04      1   \n",
       "2            10       5.196        56.0           2015-08-20      2   \n",
       "3             0      64.900       159.0           2015-07-24      3   \n",
       "\n",
       "   ceiling_height  floors_total  living_area  floor  is_apartment  ...  \\\n",
       "1             NaN          11.0         18.6      1         False  ...   \n",
       "2             NaN           5.0         34.3      4         False  ...   \n",
       "3             NaN          14.0          NaN      9         False  ...   \n",
       "\n",
       "   ponds_nearest  days_exposition  m2_price  weekday month  year  floor_type  \\\n",
       "1            NaN             81.0   82921.0        1    12  2018      первый   \n",
       "2          574.0            558.0   92786.0        3     8  2015      другой   \n",
       "3          234.0            424.0  408176.0        4     7  2015      другой   \n",
       "\n",
       "   living_total  kitchen_total   end_data  \n",
       "1      0.460396       0.272277 2019-02-23  \n",
       "2      0.612500       0.148214 2017-02-28  \n",
       "3           NaN            NaN 2016-09-20  \n",
       "\n",
       "[3 rows x 30 columns]"
      ]
     },
     "execution_count": 21,
     "metadata": {},
     "output_type": "execute_result"
    }
   ],
   "source": [
    "data.head(3)"
   ]
  },
  {
   "cell_type": "markdown",
   "metadata": {},
   "source": [
    "### Изучение площади, цены, числа комнат, высоты потолков"
   ]
  },
  {
   "cell_type": "code",
   "execution_count": 22,
   "metadata": {},
   "outputs": [
    {
     "data": {
      "image/png": "[encoded data removed]",
      "text/plain": [
       "<Figure size 432x288 with 1 Axes>"
      ]
     },
     "metadata": {
      "needs_background": "light"
     },
     "output_type": "display_data"
    },
    {
     "data": {
      "image/png": "[encoded data removed]",
      "text/plain": [
       "<Figure size 432x288 with 1 Axes>"
      ]
     },
     "metadata": {
      "needs_background": "light"
     },
     "output_type": "display_data"
    },
    {
     "data": {
      "image/png": "[encoded data removed]",
      "text/plain": [
       "<Figure size 432x288 with 1 Axes>"
      ]
     },
     "metadata": {
      "needs_background": "light"
     },
     "output_type": "display_data"
    },
    {
     "data": {
      "image/png": "[encoded data removed]",
      "text/plain": [
       "<Figure size 432x288 with 1 Axes>"
      ]
     },
     "metadata": {
      "needs_background": "light"
     },
     "output_type": "display_data"
    }
   ],
   "source": [
    "i=0\n",
    "xlable_list = ['Общая площадь, м2', 'Цена, млн.', 'Кол-во комнат', 'Высота потолков, м2']\n",
    "col_list = ['total_area', 'last_price', 'rooms', 'ceiling_height']\n",
    "\n",
    "for col in col_list:\n",
    "    q99=data[col].quantile(0.99)\n",
    "    data.hist(column=col, bins=50, range=(0, q99))\n",
    "    plt.ylabel('Частота')\n",
    "    plt.xlabel(xlable_list[i])\n",
    "    i+=1\n",
    "    plt.show()"
   ]
  },
  {
   "cell_type": "code",
   "execution_count": 23,
   "metadata": {},
   "outputs": [
    {
     "data": {
      "text/html": [
       "<div>\n",
       "<style scoped>\n",
       "    .dataframe tbody tr th:only-of-type {\n",
       "        vertical-align: middle;\n",
       "    }\n",
       "\n",
       "    .dataframe tbody tr th {\n",
       "        vertical-align: top;\n",
       "    }\n",
       "\n",
       "    .dataframe thead th {\n",
       "        text-align: right;\n",
       "    }\n",
       "</style>\n",
       "<table border=\"1\" class=\"dataframe\">\n",
       "  <thead>\n",
       "    <tr style=\"text-align: right;\">\n",
       "      <th></th>\n",
       "      <th>total_area</th>\n",
       "      <th>last_price</th>\n",
       "      <th>rooms</th>\n",
       "      <th>ceiling_height</th>\n",
       "    </tr>\n",
       "  </thead>\n",
       "  <tbody>\n",
       "    <tr>\n",
       "      <th>count</th>\n",
       "      <td>20465.000000</td>\n",
       "      <td>20465.000000</td>\n",
       "      <td>20465.000000</td>\n",
       "      <td>12033.000000</td>\n",
       "    </tr>\n",
       "    <tr>\n",
       "      <th>mean</th>\n",
       "      <td>58.846030</td>\n",
       "      <td>6.265261</td>\n",
       "      <td>2.023943</td>\n",
       "      <td>2.761522</td>\n",
       "    </tr>\n",
       "    <tr>\n",
       "      <th>std</th>\n",
       "      <td>34.082077</td>\n",
       "      <td>10.874765</td>\n",
       "      <td>1.055077</td>\n",
       "      <td>1.264653</td>\n",
       "    </tr>\n",
       "    <tr>\n",
       "      <th>min</th>\n",
       "      <td>12.000000</td>\n",
       "      <td>0.430000</td>\n",
       "      <td>0.000000</td>\n",
       "      <td>1.000000</td>\n",
       "    </tr>\n",
       "    <tr>\n",
       "      <th>25%</th>\n",
       "      <td>39.500000</td>\n",
       "      <td>3.400000</td>\n",
       "      <td>1.000000</td>\n",
       "      <td>2.520000</td>\n",
       "    </tr>\n",
       "    <tr>\n",
       "      <th>50%</th>\n",
       "      <td>50.800000</td>\n",
       "      <td>4.500000</td>\n",
       "      <td>2.000000</td>\n",
       "      <td>2.650000</td>\n",
       "    </tr>\n",
       "    <tr>\n",
       "      <th>75%</th>\n",
       "      <td>67.800000</td>\n",
       "      <td>6.500000</td>\n",
       "      <td>3.000000</td>\n",
       "      <td>2.800000</td>\n",
       "    </tr>\n",
       "    <tr>\n",
       "      <th>max</th>\n",
       "      <td>900.000000</td>\n",
       "      <td>763.000000</td>\n",
       "      <td>19.000000</td>\n",
       "      <td>100.000000</td>\n",
       "    </tr>\n",
       "  </tbody>\n",
       "</table>\n",
       "</div>"
      ],
      "text/plain": [
       "         total_area    last_price         rooms  ceiling_height\n",
       "count  20465.000000  20465.000000  20465.000000    12033.000000\n",
       "mean      58.846030      6.265261      2.023943        2.761522\n",
       "std       34.082077     10.874765      1.055077        1.264653\n",
       "min       12.000000      0.430000      0.000000        1.000000\n",
       "25%       39.500000      3.400000      1.000000        2.520000\n",
       "50%       50.800000      4.500000      2.000000        2.650000\n",
       "75%       67.800000      6.500000      3.000000        2.800000\n",
       "max      900.000000    763.000000     19.000000      100.000000"
      ]
     },
     "execution_count": 23,
     "metadata": {},
     "output_type": "execute_result"
    }
   ],
   "source": [
    "data_4params = data.loc[:, col_list]\n",
    "data_4params.describe()"
   ]
  },
  {
   "cell_type": "code",
   "execution_count": 24,
   "metadata": {},
   "outputs": [
    {
     "data": {
      "image/png": "[encoded data removed]",
      "text/plain": [
       "<Figure size 1152x108 with 1 Axes>"
      ]
     },
     "metadata": {},
     "output_type": "display_data"
    },
    {
     "data": {
      "image/png": "[encoded data removed]",
      "text/plain": [
       "<Figure size 1152x108 with 1 Axes>"
      ]
     },
     "metadata": {},
     "output_type": "display_data"
    },
    {
     "data": {
      "image/png": "[encoded data removed]",
      "text/plain": [
       "<Figure size 1152x108 with 1 Axes>"
      ]
     },
     "metadata": {},
     "output_type": "display_data"
    },
    {
     "data": {
      "image/png": "[encoded data removed]",
      "text/plain": [
       "<Figure size 1152x108 with 1 Axes>"
      ]
     },
     "metadata": {},
     "output_type": "display_data"
    }
   ],
   "source": [
    "i=0\n",
    "\n",
    "for col in col_list:\n",
    "    data.boxplot(column=col, vert=0, figsize=(16, 1.5))\n",
    "    plt.xlabel(xlable_list[i])\n",
    "    plt.yticks(color='w', rotation=90)\n",
    "    i+=1\n",
    "    plt.show()"
   ]
  },
  {
   "cell_type": "code",
   "execution_count": 25,
   "metadata": {},
   "outputs": [
    {
     "data": {
      "image/png": "[encoded data removed]",
      "text/plain": [
       "<Figure size 1152x108 with 1 Axes>"
      ]
     },
     "metadata": {},
     "output_type": "display_data"
    },
    {
     "data": {
      "image/png": "[encoded data removed]",
      "text/plain": [
       "<Figure size 1152x108 with 1 Axes>"
      ]
     },
     "metadata": {},
     "output_type": "display_data"
    },
    {
     "data": {
      "image/png": "[encoded data removed]",
      "text/plain": [
       "<Figure size 1152x108 with 1 Axes>"
      ]
     },
     "metadata": {},
     "output_type": "display_data"
    },
    {
     "data": {
      "image/png": "[encoded data removed]",
      "text/plain": [
       "<Figure size 1152x108 with 1 Axes>"
      ]
     },
     "metadata": {},
     "output_type": "display_data"
    }
   ],
   "source": [
    "i=0\n",
    "\n",
    "for col in col_list:\n",
    "    q99=data[col].quantile(0.995)\n",
    "    data.boxplot(column=col, vert=0, figsize=(16, 1.5))\n",
    "    plt.xlabel(xlable_list[i])\n",
    "    plt.yticks(color='w', rotation=90)\n",
    "    plt.xlim([0,q99])\n",
    "    i+=1\n",
    "    plt.show()"
   ]
  },
  {
   "cell_type": "markdown",
   "metadata": {},
   "source": [
    "<a name=\"pre\"></a>\n",
    "**Вывод по данным:**\n",
    "\n",
    "Отсекать выбросы по границам \"усов\" или по медиане +/- три межквартильных размаха для данной задачи не целесообразно.\n",
    "\n",
    "Считаю правильным удалить следующие строки:\n",
    "*    цена более 30 млн руб. (дороже - определенно элитное жильё)\n",
    "*    площадь более 300 м2. (для СПб допускаю варианты бывшей коммунальной квартиры такой площади)\n",
    "*    количество комнат не трогаем (также возможна многокомнатная коммуналка)\n",
    "\n",
    "Такая недвижимость относится к элитной и на её стоимость могут сильно влиять не учтенные в данном исследовании параметры.\n",
    "    \n",
    "В столбце с высотой потолков большое количество пропусков - выбросы (меньше 2 или больше 4 метров правильно ,eltn заменить на NaN)."
   ]
  },
  {
   "cell_type": "markdown",
   "metadata": {},
   "source": [
    "### Влияние пропусков и ошибок  "
   ]
  },
  {
   "cell_type": "markdown",
   "metadata": {},
   "source": [
    "Посмотрим как ведут себя объявления с ошибками и пропусками. Для этого выбросы заполним NaN и создадим столбец с соответствующим количеством NaN в строке (не учитывая поля заполняемые автоматически)."
   ]
  },
  {
   "cell_type": "markdown",
   "metadata": {},
   "source": [
    "**Замена ошибочных значений на NaN**"
   ]
  },
  {
   "cell_type": "code",
   "execution_count": 26,
   "metadata": {},
   "outputs": [],
   "source": [
    "data['ceiling_height'] = data['ceiling_height'].where(data['ceiling_height']>2, np.NaN)\n",
    "data['ceiling_height'] = data['ceiling_height'].where(data['ceiling_height']<=4, np.NaN)"
   ]
  },
  {
   "cell_type": "code",
   "execution_count": 27,
   "metadata": {},
   "outputs": [],
   "source": [
    "data2 = data.copy()"
   ]
  },
  {
   "cell_type": "code",
   "execution_count": 28,
   "metadata": {},
   "outputs": [],
   "source": [
    "#количество пропусков и ошибок (кроме обработанных)\n",
    "data2['nan_count'] = data2.loc[:, 'ceiling_height': 'balcony'].isna().sum(axis=1) "
   ]
  },
  {
   "cell_type": "code",
   "execution_count": 29,
   "metadata": {},
   "outputs": [
    {
     "name": "stdout",
     "output_type": "stream",
     "text": [
      "0    10810\n",
      "1     7594\n",
      "2     1170\n",
      "3      862\n",
      "4       29\n",
      "Name: nan_count, dtype: int64\n"
     ]
    },
    {
     "data": {
      "text/html": [
       "<div>\n",
       "<style scoped>\n",
       "    .dataframe tbody tr th:only-of-type {\n",
       "        vertical-align: middle;\n",
       "    }\n",
       "\n",
       "    .dataframe tbody tr th {\n",
       "        vertical-align: top;\n",
       "    }\n",
       "\n",
       "    .dataframe thead th {\n",
       "        text-align: right;\n",
       "    }\n",
       "</style>\n",
       "<table border=\"1\" class=\"dataframe\">\n",
       "  <thead>\n",
       "    <tr style=\"text-align: right;\">\n",
       "      <th></th>\n",
       "      <th>total_images</th>\n",
       "      <th>last_price</th>\n",
       "      <th>total_area</th>\n",
       "      <th>rooms</th>\n",
       "      <th>ceiling_height</th>\n",
       "      <th>floors_total</th>\n",
       "      <th>living_area</th>\n",
       "      <th>floor</th>\n",
       "      <th>kitchen_area</th>\n",
       "      <th>balcony</th>\n",
       "      <th>...</th>\n",
       "      <th>ponds_around3000</th>\n",
       "      <th>ponds_nearest</th>\n",
       "      <th>days_exposition</th>\n",
       "      <th>m2_price</th>\n",
       "      <th>weekday</th>\n",
       "      <th>month</th>\n",
       "      <th>year</th>\n",
       "      <th>living_total</th>\n",
       "      <th>kitchen_total</th>\n",
       "      <th>nan_count</th>\n",
       "    </tr>\n",
       "  </thead>\n",
       "  <tbody>\n",
       "    <tr>\n",
       "      <th>count</th>\n",
       "      <td>20465.000000</td>\n",
       "      <td>20465.000000</td>\n",
       "      <td>20465.000000</td>\n",
       "      <td>20465.000000</td>\n",
       "      <td>11961.000000</td>\n",
       "      <td>20389.000000</td>\n",
       "      <td>18766.000000</td>\n",
       "      <td>20465.000000</td>\n",
       "      <td>18400.000000</td>\n",
       "      <td>20173.000000</td>\n",
       "      <td>...</td>\n",
       "      <td>15819.000000</td>\n",
       "      <td>7868.000000</td>\n",
       "      <td>20465.000000</td>\n",
       "      <td>2.046500e+04</td>\n",
       "      <td>20465.000000</td>\n",
       "      <td>20465.000000</td>\n",
       "      <td>20465.000000</td>\n",
       "      <td>18766.000000</td>\n",
       "      <td>18400.000000</td>\n",
       "      <td>20465.000000</td>\n",
       "    </tr>\n",
       "    <tr>\n",
       "      <th>mean</th>\n",
       "      <td>9.614659</td>\n",
       "      <td>6.265261</td>\n",
       "      <td>58.846030</td>\n",
       "      <td>2.023943</td>\n",
       "      <td>2.714383</td>\n",
       "      <td>10.863554</td>\n",
       "      <td>33.526914</td>\n",
       "      <td>5.987833</td>\n",
       "      <td>10.431172</td>\n",
       "      <td>0.536460</td>\n",
       "      <td>...</td>\n",
       "      <td>0.760541</td>\n",
       "      <td>520.239197</td>\n",
       "      <td>180.796628</td>\n",
       "      <td>9.802646e+04</td>\n",
       "      <td>2.585536</td>\n",
       "      <td>6.588175</td>\n",
       "      <td>2017.217542</td>\n",
       "      <td>0.562714</td>\n",
       "      <td>0.189250</td>\n",
       "      <td>0.617444</td>\n",
       "    </tr>\n",
       "    <tr>\n",
       "      <th>std</th>\n",
       "      <td>5.658544</td>\n",
       "      <td>10.874765</td>\n",
       "      <td>34.082077</td>\n",
       "      <td>1.055077</td>\n",
       "      <td>0.249587</td>\n",
       "      <td>6.649388</td>\n",
       "      <td>21.325337</td>\n",
       "      <td>4.940409</td>\n",
       "      <td>5.673595</td>\n",
       "      <td>0.825987</td>\n",
       "      <td>...</td>\n",
       "      <td>0.931696</td>\n",
       "      <td>277.201914</td>\n",
       "      <td>219.787194</td>\n",
       "      <td>4.773893e+04</td>\n",
       "      <td>1.783379</td>\n",
       "      <td>3.486257</td>\n",
       "      <td>0.965327</td>\n",
       "      <td>0.105347</td>\n",
       "      <td>0.072614</td>\n",
       "      <td>0.787596</td>\n",
       "    </tr>\n",
       "    <tr>\n",
       "      <th>min</th>\n",
       "      <td>0.000000</td>\n",
       "      <td>0.430000</td>\n",
       "      <td>12.000000</td>\n",
       "      <td>0.000000</td>\n",
       "      <td>2.200000</td>\n",
       "      <td>1.000000</td>\n",
       "      <td>2.000000</td>\n",
       "      <td>1.000000</td>\n",
       "      <td>2.000000</td>\n",
       "      <td>0.000000</td>\n",
       "      <td>...</td>\n",
       "      <td>0.000000</td>\n",
       "      <td>13.000000</td>\n",
       "      <td>3.000000</td>\n",
       "      <td>7.963000e+03</td>\n",
       "      <td>0.000000</td>\n",
       "      <td>1.000000</td>\n",
       "      <td>2014.000000</td>\n",
       "      <td>0.021583</td>\n",
       "      <td>0.025381</td>\n",
       "      <td>0.000000</td>\n",
       "    </tr>\n",
       "    <tr>\n",
       "      <th>25%</th>\n",
       "      <td>6.000000</td>\n",
       "      <td>3.400000</td>\n",
       "      <td>39.500000</td>\n",
       "      <td>1.000000</td>\n",
       "      <td>2.520000</td>\n",
       "      <td>5.000000</td>\n",
       "      <td>18.300000</td>\n",
       "      <td>2.000000</td>\n",
       "      <td>7.000000</td>\n",
       "      <td>0.000000</td>\n",
       "      <td>...</td>\n",
       "      <td>0.000000</td>\n",
       "      <td>300.000000</td>\n",
       "      <td>45.000000</td>\n",
       "      <td>7.647100e+04</td>\n",
       "      <td>1.000000</td>\n",
       "      <td>3.000000</td>\n",
       "      <td>2017.000000</td>\n",
       "      <td>0.491935</td>\n",
       "      <td>0.135197</td>\n",
       "      <td>0.000000</td>\n",
       "    </tr>\n",
       "    <tr>\n",
       "      <th>50%</th>\n",
       "      <td>9.000000</td>\n",
       "      <td>4.500000</td>\n",
       "      <td>50.800000</td>\n",
       "      <td>2.000000</td>\n",
       "      <td>2.650000</td>\n",
       "      <td>9.000000</td>\n",
       "      <td>30.000000</td>\n",
       "      <td>4.000000</td>\n",
       "      <td>9.100000</td>\n",
       "      <td>0.000000</td>\n",
       "      <td>...</td>\n",
       "      <td>0.000000</td>\n",
       "      <td>504.000000</td>\n",
       "      <td>95.000000</td>\n",
       "      <td>9.407900e+04</td>\n",
       "      <td>3.000000</td>\n",
       "      <td>7.000000</td>\n",
       "      <td>2017.000000</td>\n",
       "      <td>0.565293</td>\n",
       "      <td>0.175000</td>\n",
       "      <td>0.000000</td>\n",
       "    </tr>\n",
       "    <tr>\n",
       "      <th>75%</th>\n",
       "      <td>14.000000</td>\n",
       "      <td>6.500000</td>\n",
       "      <td>67.800000</td>\n",
       "      <td>3.000000</td>\n",
       "      <td>2.800000</td>\n",
       "      <td>16.000000</td>\n",
       "      <td>41.600000</td>\n",
       "      <td>8.000000</td>\n",
       "      <td>11.922500</td>\n",
       "      <td>1.000000</td>\n",
       "      <td>...</td>\n",
       "      <td>1.000000</td>\n",
       "      <td>731.000000</td>\n",
       "      <td>231.000000</td>\n",
       "      <td>1.121620e+05</td>\n",
       "      <td>4.000000</td>\n",
       "      <td>10.000000</td>\n",
       "      <td>2018.000000</td>\n",
       "      <td>0.635965</td>\n",
       "      <td>0.234375</td>\n",
       "      <td>1.000000</td>\n",
       "    </tr>\n",
       "    <tr>\n",
       "      <th>max</th>\n",
       "      <td>50.000000</td>\n",
       "      <td>763.000000</td>\n",
       "      <td>900.000000</td>\n",
       "      <td>19.000000</td>\n",
       "      <td>4.000000</td>\n",
       "      <td>60.000000</td>\n",
       "      <td>409.700000</td>\n",
       "      <td>33.000000</td>\n",
       "      <td>112.000000</td>\n",
       "      <td>5.000000</td>\n",
       "      <td>...</td>\n",
       "      <td>3.000000</td>\n",
       "      <td>1344.000000</td>\n",
       "      <td>1580.000000</td>\n",
       "      <td>1.907500e+06</td>\n",
       "      <td>6.000000</td>\n",
       "      <td>12.000000</td>\n",
       "      <td>2019.000000</td>\n",
       "      <td>1.000000</td>\n",
       "      <td>0.787879</td>\n",
       "      <td>4.000000</td>\n",
       "    </tr>\n",
       "  </tbody>\n",
       "</table>\n",
       "<p>8 rows × 24 columns</p>\n",
       "</div>"
      ],
      "text/plain": [
       "       total_images    last_price    total_area         rooms  ceiling_height  \\\n",
       "count  20465.000000  20465.000000  20465.000000  20465.000000    11961.000000   \n",
       "mean       9.614659      6.265261     58.846030      2.023943        2.714383   \n",
       "std        5.658544     10.874765     34.082077      1.055077        0.249587   \n",
       "min        0.000000      0.430000     12.000000      0.000000        2.200000   \n",
       "25%        6.000000      3.400000     39.500000      1.000000        2.520000   \n",
       "50%        9.000000      4.500000     50.800000      2.000000        2.650000   \n",
       "75%       14.000000      6.500000     67.800000      3.000000        2.800000   \n",
       "max       50.000000    763.000000    900.000000     19.000000        4.000000   \n",
       "\n",
       "       floors_total   living_area         floor  kitchen_area       balcony  \\\n",
       "count  20389.000000  18766.000000  20465.000000  18400.000000  20173.000000   \n",
       "mean      10.863554     33.526914      5.987833     10.431172      0.536460   \n",
       "std        6.649388     21.325337      4.940409      5.673595      0.825987   \n",
       "min        1.000000      2.000000      1.000000      2.000000      0.000000   \n",
       "25%        5.000000     18.300000      2.000000      7.000000      0.000000   \n",
       "50%        9.000000     30.000000      4.000000      9.100000      0.000000   \n",
       "75%       16.000000     41.600000      8.000000     11.922500      1.000000   \n",
       "max       60.000000    409.700000     33.000000    112.000000      5.000000   \n",
       "\n",
       "       ...  ponds_around3000  ponds_nearest  days_exposition      m2_price  \\\n",
       "count  ...      15819.000000    7868.000000     20465.000000  2.046500e+04   \n",
       "mean   ...          0.760541     520.239197       180.796628  9.802646e+04   \n",
       "std    ...          0.931696     277.201914       219.787194  4.773893e+04   \n",
       "min    ...          0.000000      13.000000         3.000000  7.963000e+03   \n",
       "25%    ...          0.000000     300.000000        45.000000  7.647100e+04   \n",
       "50%    ...          0.000000     504.000000        95.000000  9.407900e+04   \n",
       "75%    ...          1.000000     731.000000       231.000000  1.121620e+05   \n",
       "max    ...          3.000000    1344.000000      1580.000000  1.907500e+06   \n",
       "\n",
       "            weekday         month          year  living_total  kitchen_total  \\\n",
       "count  20465.000000  20465.000000  20465.000000  18766.000000   18400.000000   \n",
       "mean       2.585536      6.588175   2017.217542      0.562714       0.189250   \n",
       "std        1.783379      3.486257      0.965327      0.105347       0.072614   \n",
       "min        0.000000      1.000000   2014.000000      0.021583       0.025381   \n",
       "25%        1.000000      3.000000   2017.000000      0.491935       0.135197   \n",
       "50%        3.000000      7.000000   2017.000000      0.565293       0.175000   \n",
       "75%        4.000000     10.000000   2018.000000      0.635965       0.234375   \n",
       "max        6.000000     12.000000   2019.000000      1.000000       0.787879   \n",
       "\n",
       "          nan_count  \n",
       "count  20465.000000  \n",
       "mean       0.617444  \n",
       "std        0.787596  \n",
       "min        0.000000  \n",
       "25%        0.000000  \n",
       "50%        0.000000  \n",
       "75%        1.000000  \n",
       "max        4.000000  \n",
       "\n",
       "[8 rows x 24 columns]"
      ]
     },
     "metadata": {},
     "output_type": "display_data"
    }
   ],
   "source": [
    "print(data2['nan_count'].value_counts())\n",
    "display(data2.describe())\n",
    "data2['end_data2'] = data2['end_data'].dt.year + (data2['end_data'].dt.month)/12"
   ]
  },
  {
   "cell_type": "code",
   "execution_count": 30,
   "metadata": {},
   "outputs": [
    {
     "data": {
      "image/png": "[encoded data removed]",
      "text/plain": [
       "<Figure size 1152x432 with 1 Axes>"
      ]
     },
     "metadata": {
      "needs_background": "light"
     },
     "output_type": "display_data"
    }
   ],
   "source": [
    "data2.hist(column='end_data2', bins=36, figsize=(16, 6), alpha = 0.6)\n",
    "plt.title('Дата снятия объявления')\n",
    "plt.ylabel('Частота')\n",
    "plt.xlabel('Дата (год)')\n",
    "plt.show()"
   ]
  },
  {
   "cell_type": "code",
   "execution_count": 31,
   "metadata": {
    "scrolled": false
   },
   "outputs": [
    {
     "data": {
      "image/png": "[encoded data removed]",
      "text/plain": [
       "<Figure size 1152x432 with 1 Axes>"
      ]
     },
     "metadata": {
      "needs_background": "light"
     },
     "output_type": "display_data"
    }
   ],
   "source": [
    "for N in range(0, 4):\n",
    "    data3 = data2.loc[data2.loc[:, 'nan_count'] == N]\n",
    "    data3['days_exposition'].plot.hist(bins=100, figsize=(16, 6), alpha = 0.6)\n",
    "plt.title('Срок размещения объявления')\n",
    "plt.ylabel('Частота')\n",
    "plt.xlabel('Продолжительность (дней)')\n",
    "plt.legend(['0 ошибок', '1 ошибка', '2 ошибки', '3 ошибки', '4 ошибки']);"
   ]
  },
  {
   "cell_type": "code",
   "execution_count": 32,
   "metadata": {},
   "outputs": [
    {
     "data": {
      "image/png": "[encoded data removed]",
      "text/plain": [
       "<Figure size 432x288 with 1 Axes>"
      ]
     },
     "metadata": {
      "needs_background": "light"
     },
     "output_type": "display_data"
    },
    {
     "data": {
      "image/png": "[encoded data removed]",
      "text/plain": [
       "<Figure size 432x288 with 1 Axes>"
      ]
     },
     "metadata": {
      "needs_background": "light"
     },
     "output_type": "display_data"
    },
    {
     "data": {
      "image/png": "[encoded data removed]",
      "text/plain": [
       "<Figure size 432x288 with 1 Axes>"
      ]
     },
     "metadata": {
      "needs_background": "light"
     },
     "output_type": "display_data"
    }
   ],
   "source": [
    "data2.pivot_table(index='nan_count', values='days_exposition').plot(grid=True)\n",
    "plt.title('Зависимость среднего срока размещения объявления от количества ошибок в объявлении')\n",
    "plt.ylabel('Срок размещения объявления (дней)')\n",
    "plt.xlabel('Количество ошибок в объявлении')\n",
    "\n",
    "data2.pivot_table(index='nan_count', values='last_price').plot(grid=True)\n",
    "plt.title('Зависимость средней цены объекта от количества ошибок в объявлении')\n",
    "plt.ylabel('Средняя цена объекта (млн руб.)')\n",
    "plt.xlabel('Количество ошибок в объявлении')\n",
    "\n",
    "data2.pivot_table(index='nan_count', values='end_data2').plot(grid=True)\n",
    "plt.title('Зависимость средней даты снятия объявлен6ия от количества ошибок в объявлении')\n",
    "plt.ylabel('Год снятия объявления с публикации')\n",
    "plt.xlabel('Количество ошибок в объявлении');"
   ]
  },
  {
   "cell_type": "markdown",
   "metadata": {},
   "source": [
    "Продолжительность размещения объявления для объектов с ошибками в среднем меньше. При этом не известен результат по объекту (продан, был снят с публикации и размещен повторно без ошибок). \n",
    "\n",
    "0-2 ошибки характерны для квартир стоимостью 6-7 млн., \n",
    "3-4 ошибки для квартир стоимостью 5-6 млн. \n",
    "Внимательность и аккуратность при размещении объявления ниже для менее дорогих объектов.\n",
    "\n",
    "Колличество ошибок в целом с течением врепмени снижается."
   ]
  },
  {
   "cell_type": "markdown",
   "metadata": {},
   "source": [
    "### Продолжительность размещения объявления"
   ]
  },
  {
   "cell_type": "code",
   "execution_count": 33,
   "metadata": {},
   "outputs": [
    {
     "name": "stdout",
     "output_type": "stream",
     "text": [
      "count    20465.000000\n",
      "mean       180.796628\n",
      "std        219.787194\n",
      "min          3.000000\n",
      "25%         45.000000\n",
      "50%         95.000000\n",
      "75%        231.000000\n",
      "max       1580.000000\n",
      "Name: days_exposition, dtype: float64\n",
      "\n"
     ]
    },
    {
     "data": {
      "text/plain": [
       "Text(0.5, 0, 'Продолжительность (дней)')"
      ]
     },
     "execution_count": 33,
     "metadata": {},
     "output_type": "execute_result"
    },
    {
     "data": {
      "image/png": "[encoded data removed]",
      "text/plain": [
       "<Figure size 1152x432 with 1 Axes>"
      ]
     },
     "metadata": {
      "needs_background": "light"
     },
     "output_type": "display_data"
    }
   ],
   "source": [
    "print(data['days_exposition'].describe())#продолжительность размещения объявления от публикации до снятия\n",
    "print()\n",
    "data['days_exposition'].hist(bins=150, range=(0, 600), figsize=(16, 6)); #время продажи\n",
    "plt.title('Продолжительность размещения объявления от публикации до снятия')\n",
    "plt.ylabel('Частота')\n",
    "plt.xlabel('Продолжительность (дней)')"
   ]
  },
  {
   "cell_type": "code",
   "execution_count": 34,
   "metadata": {},
   "outputs": [
    {
     "data": {
      "image/png": "[encoded data removed]",
      "text/plain": [
       "<Figure size 432x288 with 1 Axes>"
      ]
     },
     "metadata": {
      "needs_background": "light"
     },
     "output_type": "display_data"
    }
   ],
   "source": [
    "plt.ylim(0, 600)\n",
    "data.boxplot(column='days_exposition');"
   ]
  },
  {
   "cell_type": "code",
   "execution_count": 35,
   "metadata": {},
   "outputs": [
    {
     "name": "stdout",
     "output_type": "stream",
     "text": [
      "Среднее время продажи: 180.0\n",
      "Медианное время продажи: 95.0\n",
      "продажи быстрее 45.0 дней можно считать быстрыми\n",
      "продажи медленнее 231.0 дней можно считать долгими\n",
      "продажи медленнее 510.0 дней можно считать крайне долгими\n"
     ]
    }
   ],
   "source": [
    "print('Среднее время продажи:', data['days_exposition'].mean()//1)\n",
    "print('Медианное время продажи:', data['days_exposition'].median())\n",
    "print('продажи быстрее', data['days_exposition'].quantile(0.25)//1, 'дней можно считать быстрыми')\n",
    "print('продажи медленнее', data['days_exposition'].quantile(0.75), 'дней можно считать долгими')\n",
    "iqr=data['days_exposition'].quantile(0.75)-data['days_exposition'].quantile(0.25)\n",
    "print('продажи медленнее', data['days_exposition'].quantile(0.75)+1.5*iqr, 'дней можно считать крайне долгими')"
   ]
  },
  {
   "cell_type": "markdown",
   "metadata": {},
   "source": [
    "Наблюдаются отчетливые пики на значениях 45, 60, 90 дней."
   ]
  },
  {
   "cell_type": "markdown",
   "metadata": {},
   "source": [
    "### Удаление нехарактерных объектов\n",
    "\n",
    "В исследуемых данных не учтены такие факторы как наличие подземной парковки, охраняемой территории и прочей инфраструктуры характерной для элитной недвижимости. Удалим объекты по [критериям](#pre) обозначенным ранее:\n",
    "\n",
    "*    цена более 30 млн руб.\n",
    "*    площадь более 300 м2\n",
    "*    высота потолков меньше 2 м. или больше 4 м.\n",
    "*    срок размещения объявления более 500 дней"
   ]
  },
  {
   "cell_type": "code",
   "execution_count": 36,
   "metadata": {},
   "outputs": [
    {
     "name": "stdout",
     "output_type": "stream",
     "text": [
      "Удалили: 1948 строк из 20465 (9.5%)\n"
     ]
    }
   ],
   "source": [
    "data_n = data.query('last_price<30 and total_area<300 and days_exposition<500') \n",
    "loss = len(data)-len(data_n)\n",
    "print('Удалили:', loss, 'строк из', len(data), '({:.1%})'.format(loss/len(data)))"
   ]
  },
  {
   "cell_type": "code",
   "execution_count": 37,
   "metadata": {},
   "outputs": [
    {
     "ename": "SyntaxError",
     "evalue": "invalid syntax (<ipython-input-37-39c1b55e0b9b>, line 1)",
     "output_type": "error",
     "traceback": [
      "\u001b[1;36m  File \u001b[1;32m\"<ipython-input-37-39c1b55e0b9b>\"\u001b[1;36m, line \u001b[1;32m1\u001b[0m\n\u001b[1;33m    Остановился здесь\u001b[0m\n\u001b[1;37m                ^\u001b[0m\n\u001b[1;31mSyntaxError\u001b[0m\u001b[1;31m:\u001b[0m invalid syntax\n"
     ]
    }
   ],
   "source": [
    "Остановился здесь"
   ]
  },
  {
   "cell_type": "markdown",
   "metadata": {},
   "source": [
    "## Исследовательский анализ данных"
   ]
  },
  {
   "cell_type": "markdown",
   "metadata": {},
   "source": [
    "### Какие факторы больше всего влияют на стоимость квартиры?"
   ]
  },
  {
   "cell_type": "markdown",
   "metadata": {},
   "source": [
    "#### Площадь, число комнат, удаленность от центра"
   ]
  },
  {
   "cell_type": "code",
   "execution_count": null,
   "metadata": {},
   "outputs": [],
   "source": [
    "#гексогональный график плотности рассеяния цены от общей площади\n",
    "data_n.plot(x='last_price', y='total_area', kind='hexbin', figsize=(6, 6), sharex=False, grid=True)\n",
    "plt.xlim(1.5, 6)\n",
    "plt.ylim(20, 70);"
   ]
  },
  {
   "cell_type": "code",
   "execution_count": null,
   "metadata": {
    "scrolled": true
   },
   "outputs": [],
   "source": [
    "data_n_small = data_n.loc[:, ['last_price', 'total_area', 'rooms', 'cityCenters_nearest']] #срез по 4 столбцам\n",
    "data_n_small.hist();"
   ]
  },
  {
   "cell_type": "code",
   "execution_count": null,
   "metadata": {
    "scrolled": false
   },
   "outputs": [],
   "source": [
    "pd.plotting.scatter_matrix(data_n_small, figsize=(12, 12));"
   ]
  },
  {
   "cell_type": "code",
   "execution_count": null,
   "metadata": {},
   "outputs": [],
   "source": [
    "data_n_small.corr() "
   ]
  },
  {
   "cell_type": "markdown",
   "metadata": {},
   "source": [
    "* Площадь ожидаемо коррелирует с количеством комнат. Площадь значительно влияет на цену, но необходимо учитывать и прочие факторы. Связь общей стоимости с расстоянием до центра города не очевидна. Вероятно из за большого разброса цен в СПб и других населенных пунктах."
   ]
  },
  {
   "cell_type": "markdown",
   "metadata": {},
   "source": [
    "<div class=\"alert alert-success\">\n",
    "<h2> Комментарий от ревьюера</h2>\n",
    "\n",
    "Хорошо. Но я бы не стала отбрасывать корреляцию с расстоянием до центра, она отрицательная и не совсем маленькая, всё таки взаимосвязь небольшая есть.\n",
    "\n",
    "</div>\n"
   ]
  },
  {
   "cell_type": "code",
   "execution_count": null,
   "metadata": {},
   "outputs": [],
   "source": [
    "#срез по 4 столбцам и locality_name==\"Санкт-Петербург\"\n",
    "data_n_small2=(\n",
    "    data_n.dropna(subset=['cityCenters_nearest']).query('locality_name==\"Санкт-Петербург\"')\n",
    "    .loc[:, ['last_price', 'total_area', 'rooms', 'cityCenters_nearest']]\n",
    ")\n",
    "print(data_n_small2)\n",
    "data_n_small2.info()\n",
    "data_n_small2.corr()"
   ]
  },
  {
   "cell_type": "markdown",
   "metadata": {},
   "source": [
    "* Для отдельных населенных пунктов связь более явная, в т.ч. прослеживается обратная корреляция цены и рассояния до центра."
   ]
  },
  {
   "cell_type": "markdown",
   "metadata": {},
   "source": [
    "<div class=\"alert alert-warning\">\n",
    "<h2> Комментарий от ревьюера</h2>\n",
    "\n",
    "<s>Смотри, ты здесь делаешь срез для Санкт-Петербурга, а не для отдельных населенных пунктов.</s>\n",
    "\n",
    "</div>"
   ]
  },
  {
   "cell_type": "markdown",
   "metadata": {},
   "source": [
    "<div class=\"alert alert-info\" role=\"alert\">\n",
    "Согласен. Правильно будет: \"Для СПб связь более явнвя. В т.ч. прослеживается обратная корреляция цены и рассояния до центра.\"\n",
    "</div>"
   ]
  },
  {
   "cell_type": "markdown",
   "metadata": {},
   "source": [
    "<div class=\"alert alert-success\">\n",
    "<h2> Комментарий от ревьюера v2</h2>\n",
    "\n",
    "Хорошо.\n",
    "\n",
    "</div>"
   ]
  },
  {
   "cell_type": "markdown",
   "metadata": {},
   "source": [
    "#### Этаж, день недели, месяц, год"
   ]
  },
  {
   "cell_type": "code",
   "execution_count": null,
   "metadata": {},
   "outputs": [],
   "source": [
    "data_n[data_n['floor_type']=='другой']['last_price'].plot(\n",
    "    kind='hist', y='last_price', histtype='step', \n",
    "    range=(0, 10), bins=40, linewidth=2, alpha=0.7, label='другой', grid=True, legend=True) #цена другой этаж\n",
    "\n",
    "data_n[data_n['floor_type']=='последний']['last_price'].plot(\n",
    "    kind='hist', y='last_price', histtype='step', \n",
    "    range=(0, 10), bins=40, linewidth=2, alpha=0.7, label='последний', grid=True, legend=True) #цена последний этаж\n",
    "\n",
    "data_n[data_n['floor_type']=='первый']['last_price'].plot(\n",
    "    kind='hist', y='last_price', histtype='step', \n",
    "    range=(0, 10), bins=40, linewidth=2, alpha=0.7, label='первый', grid=True, legend=True) #цена 1 этаж\n",
    "\n",
    "print('жилье до 15млн. и до 120м2')\n",
    "print(data_n.query('last_price<15 and total_area<120').pivot_table(\n",
    "    index='floor_type', values='last_price', aggfunc=('count', 'mean', 'median')))\n",
    "print()\n",
    "print('жилье от 15 до 30 млн и от 120 до 200м2')\n",
    "print(data_n.query('last_price>=15 and total_area>=120').pivot_table(\n",
    "    index='floor_type', values='last_price', aggfunc=('count', 'mean', 'median')))\n"
   ]
  },
  {
   "cell_type": "markdown",
   "metadata": {},
   "source": [
    "* Для объектов до 15млн. и до 120м2 первый этаж в среднем на 26%, а последний на 11% дешевле.\n",
    "* Для объектов от 15млн. и от 120м2 разницы между первым и другими этажами нет, а последний в среднем на 10% ДОРОЖЕ."
   ]
  },
  {
   "cell_type": "markdown",
   "metadata": {},
   "source": [
    "<div class=\"alert alert-success\">\n",
    "<h2> Комментарий от ревьюера</h2>\n",
    "\n",
    "Хорошо, всё верно. Но почему ты решил разделить на две категории квартиры?\n",
    "\n",
    "</div>"
   ]
  },
  {
   "cell_type": "markdown",
   "metadata": {},
   "source": [
    "<div class=\"alert alert-info\" role=\"alert\">\n",
    "Известно что в элитной недвижимости последний этаж считается более дорогим/престижным/статусным. Пентхаусы и т.п. Решил проверить.\n",
    "</div>"
   ]
  },
  {
   "cell_type": "markdown",
   "metadata": {},
   "source": [
    "<div class=\"alert alert-success\">\n",
    "<h2> Комментарий от ревьюера v2</h2>\n",
    "\n",
    "Хорошо, спасибо за пояснения:)\n",
    "\n",
    "</div>"
   ]
  },
  {
   "cell_type": "code",
   "execution_count": null,
   "metadata": {},
   "outputs": [],
   "source": [
    "#Смотрим зависимость от дня недели\n",
    "print(data_n.pivot_table(index='weekday', values='last_price', aggfunc=('count', 'mean', 'median')))\n",
    "data_n.pivot_table(index='weekday', values='last_price', aggfunc=('mean', 'median')).plot(grid=True)"
   ]
  },
  {
   "cell_type": "code",
   "execution_count": null,
   "metadata": {},
   "outputs": [],
   "source": [
    "#проверяем зависимость от месяца\n",
    "print(data_n.pivot_table(index='month', values='last_price', aggfunc=('count', 'mean', 'median')))\n",
    "data_n.pivot_table(index=('month'), values='last_price', aggfunc=('mean', 'median')).plot(grid=True)"
   ]
  },
  {
   "cell_type": "code",
   "execution_count": null,
   "metadata": {},
   "outputs": [],
   "source": [
    "#зависимость от года\n",
    "print(data_n.pivot_table(index='year', values='last_price', aggfunc=('count', 'mean', 'median')))\n",
    "data_n.pivot_table(index='year', values='last_price', aggfunc=('mean', 'median')).plot(grid=True)"
   ]
  },
  {
   "cell_type": "markdown",
   "metadata": {},
   "source": [
    "* В выходной день размещают в 2 раза меньше объявлений по сравнению с будним. Дорогие объекты чаще размещают в субботу.\n",
    "* По году виден спад активности в мае, а также в декабре-январе. Явных колебаний цены не видно.\n",
    "* Средняя цена с 2015 по 2019 гг. сократилась за счет размещения меньшего количества дорогих объектов. "
   ]
  },
  {
   "cell_type": "markdown",
   "metadata": {},
   "source": [
    "<div class=\"alert alert-success\">\n",
    "<h2> Комментарий от ревьюера</h2>\n",
    "\n",
    "Отлично. Здесь еще посоветую масштаб по оси Y сделать от 0, тогда ты увидишь, что явной разности нет.\n",
    "\n",
    "</div>"
   ]
  },
  {
   "cell_type": "markdown",
   "metadata": {},
   "source": [
    "#### Топ-10 населенных пунктов"
   ]
  },
  {
   "cell_type": "code",
   "execution_count": null,
   "metadata": {
    "scrolled": true
   },
   "outputs": [],
   "source": [
    "#собираем таблицу из locality_name с количеством строк и средней ценой м2, сортируем по убыванию количества и оставляем 10\n",
    "top_10=(\n",
    "    data_n.pivot_table(index=['locality_name'], values='m2_price', aggfunc=('count', 'mean'))\n",
    "    .sort_values(by='count', ascending=False).head(10).reset_index()\n",
    ")\n",
    "print(top_10)\n",
    "top_10['mean']=top_10['mean'].astype('int') #отбросим копейки\n",
    "print()\n",
    "top_10=top_10.sort_values(by='mean', ascending=False)  #сортируем по средней цене м2\n",
    "print('Самый дорогой квадратный метр:', top_10.loc[0, 'mean'], 'руб. в', top_10.loc[0, 'locality_name'])\n",
    "print('Самый дешевый квадратный метр из топ-10:', top_10.loc[9, 'mean'], 'руб. в', top_10.loc[9, 'locality_name'])"
   ]
  },
  {
   "cell_type": "markdown",
   "metadata": {},
   "source": [
    "<div class=\"alert alert-success\">\n",
    "<h2> Комментарий от ревьюера</h2>\n",
    "\n",
    "Отлично.\n",
    "\n",
    "</div>"
   ]
  },
  {
   "cell_type": "markdown",
   "metadata": {},
   "source": [
    "### Изучение центра СПб"
   ]
  },
  {
   "cell_type": "code",
   "execution_count": null,
   "metadata": {
    "scrolled": false
   },
   "outputs": [],
   "source": [
    "pd.set_option('mode.chained_assignment', None)\n",
    "data_spb=data_n.query('locality_name==\"Санкт-Петербург\"') #срез по СПб\n",
    "data_spb.dropna(subset=['cityCenters_nearest'], inplace=True)#в 11983-11965=18 пропусков - можно удалить\n",
    "data_spb['cityCenters_km']=data_spb['cityCenters_nearest']/1000 #столбец с расстоянием в км\n",
    "data_spb['cityCenters_km']=data_spb['cityCenters_km'].astype('int') #отбрасываем дробную часть\n",
    "m2_price_km=data_spb.pivot_table(index=['cityCenters_km'], values='m2_price', aggfunc=('count', 'mean')).reset_index()\n",
    "m2_price_km=m2_price_km[m2_price_km['cityCenters_km']<=25]#значений > 25 всего 15 - отбросим их\n",
    "print(m2_price_km)\n",
    "m2_price_km['mean'].plot(kind='bar', grid=True, figsize=(12, 4))\n",
    "plt.ylim(75000, 175000)"
   ]
  },
  {
   "cell_type": "markdown",
   "metadata": {},
   "source": [
    "<div class=\"alert alert-warning\">\n",
    "<h2> Комментарий от ревьюера</h2>\n",
    "\n",
    "<s>Обрати ванимание, красным выделено предупреждение. Я не вижу критичной ошибки в твоём коде. Если не получается его устранить, то можно использовать для его отключения следующий код : `pd.set_option('mode.chained_assignment', None)`.</s>\n",
    "\n",
    "</div>"
   ]
  },
  {
   "cell_type": "markdown",
   "metadata": {},
   "source": [
    "<div class=\"alert alert-info\" role=\"alert\">\n",
    "Спасибо.\n",
    "</div>"
   ]
  },
  {
   "cell_type": "markdown",
   "metadata": {},
   "source": [
    "<div class=\"alert alert-success\">\n",
    "<h2> Комментарий от ревьюера v2</h2>\n",
    "\n",
    "Хорошо. Также этот код удобнее помещать в начале проекта, тогда он будет применятся ко всем ячейкам.\n",
    "\n",
    "</div>"
   ]
  },
  {
   "cell_type": "code",
   "execution_count": null,
   "metadata": {},
   "outputs": [],
   "source": [
    "m2_price_km['count'].plot(kind='bar', grid=True, figsize=(12, 4))"
   ]
  },
  {
   "cell_type": "markdown",
   "metadata": {},
   "source": [
    "Начиная с 8 км. от центра заметно изменение средней цены квадратного метра и значительное увеличение количества объектов. Не ясно почему выбиваются 2 и 3 километровые участки. "
   ]
  },
  {
   "cell_type": "code",
   "execution_count": null,
   "metadata": {},
   "outputs": [],
   "source": [
    "data_spb_center=data.query('locality_name==\"Санкт-Петербург\" and cityCenters_nearest<9000')"
   ]
  },
  {
   "cell_type": "markdown",
   "metadata": {},
   "source": [
    "<div class=\"alert alert-success\">\n",
    "<h2> Комментарий от ревьюера</h2>\n",
    "\n",
    "Отлично, согласна с выбранными границам центра города.\n",
    "\n",
    "</div>"
   ]
  },
  {
   "cell_type": "code",
   "execution_count": null,
   "metadata": {},
   "outputs": [],
   "source": [
    "ax = data_spb.plot(\n",
    "    kind='hist', y='total_area', histtype='step', \n",
    "    range=(0, 200), bins=50, linewidth=2, alpha=0.7, label='площадь СПб', grid=True, legend=True)\n",
    "data_spb_center.plot(\n",
    "    kind='hist', y='total_area', histtype='step', ax=ax,\n",
    "    range=(0, 200), bins=50, linewidth=2, alpha=0.7, label='площадь СПб центр', grid=True, legend=True) #площадь"
   ]
  },
  {
   "cell_type": "code",
   "execution_count": null,
   "metadata": {},
   "outputs": [],
   "source": [
    "ax = data_spb.plot(\n",
    "    kind='hist', y='last_price', histtype='step', \n",
    "    range=(0, 20), bins=50, linewidth=2, alpha=0.7, label='цена СПб', grid=True, legend=True)\n",
    "data_spb_center.plot(\n",
    "    kind='hist', y='last_price', histtype='step', ax=ax,\n",
    "    range=(0, 20), bins=50, linewidth=2, alpha=0.7, label='цена СПб центр', grid=True, legend=True)"
   ]
  },
  {
   "cell_type": "code",
   "execution_count": null,
   "metadata": {},
   "outputs": [],
   "source": [
    "ax = data_spb.plot(\n",
    "    kind='hist', y='rooms', histtype='step', \n",
    "    range=(0, 10), bins=9, linewidth=2, alpha=0.7, label='число комнат СПб', grid=True, legend=True)\n",
    "data_spb_center.plot(\n",
    "    kind='hist', y='rooms', histtype='step', ax=ax,\n",
    "    range=(0, 10), bins=9, linewidth=2, alpha=0.7, label='число комнат СПб центр', grid=True, legend=True)"
   ]
  },
  {
   "cell_type": "markdown",
   "metadata": {},
   "source": [
    "Для центра СПб характерны следующие особенности:\n",
    "* средняя площадь и количество комнат больше\n",
    "* наиболее распространены 1-2 комнатные квартиры\n",
    "* меньше доля студий и апартаментов (0 комнат)\n",
    "* больше многокомнатных квартир"
   ]
  },
  {
   "cell_type": "markdown",
   "metadata": {},
   "source": [
    "<div class=\"alert alert-success\">\n",
    "<h2> Комментарий от ревьюера</h2>\n",
    "\n",
    "Молодец, что решил на одном график совмесить два распределения, так сравнение намного нагляднее. Но старайся различия указывать в цифрах, т.е. на сколько больше площадь и количество комнат и т.д.\n",
    "\n",
    "</div>"
   ]
  },
  {
   "cell_type": "code",
   "execution_count": null,
   "metadata": {},
   "outputs": [],
   "source": [
    "ax = data_spb.plot(\n",
    "    kind='hist', y='ceiling_height', histtype='step', \n",
    "    range=(2, 6), bins=20, linewidth=2, alpha=0.7, label='высота потолков СПб центр', grid=True, legend=True)\n",
    "data_spb_center.plot(\n",
    "    kind='hist', y='ceiling_height', histtype='step', ax=ax,\n",
    "    range=(2, 6), bins=20, linewidth=2, alpha=0.7, label='высота потолков СПб центр', grid=True, legend=True)"
   ]
  },
  {
   "cell_type": "markdown",
   "metadata": {},
   "source": [
    "Потолки выше."
   ]
  },
  {
   "cell_type": "markdown",
   "metadata": {},
   "source": [
    "<div class=\"alert alert-warning\">\n",
    "<h2> Комментарий от ревьюера</h2>\n",
    "\n",
    "Также лучше указать насколько выше.\n",
    "\n",
    "</div>"
   ]
  },
  {
   "cell_type": "code",
   "execution_count": null,
   "metadata": {},
   "outputs": [],
   "source": [
    "#По аналогии с основным фреймом удалим выбивающиеся\n",
    "data_spb_center_n=data_spb_center.query('last_price<30 and total_area<200 and days_exposition<500')"
   ]
  },
  {
   "cell_type": "code",
   "execution_count": null,
   "metadata": {},
   "outputs": [],
   "source": [
    "#гексогональный график плотности рассеяния цены от общей площади для центра СПб.\n",
    "data_spb_center_n.plot(x='last_price', y='total_area', kind='hexbin', figsize=(6, 6), sharex=False, grid=True)\n",
    "plt.xlim(2, 15)\n",
    "plt.ylim(20, 100)"
   ]
  },
  {
   "cell_type": "code",
   "execution_count": null,
   "metadata": {},
   "outputs": [],
   "source": [
    "#гексогональный график плотности рассеяния цены от общей площади по всей выборке\n",
    "data_n.plot(x='last_price', y='total_area', kind='hexbin', figsize=(6, 6), sharex=False, grid=True)\n",
    "plt.xlim(2, 8)\n",
    "plt.ylim(20, 80)"
   ]
  },
  {
   "cell_type": "markdown",
   "metadata": {},
   "source": [
    "Если для всей выборки характерна высокая плотность в области 2,5-4,5 млн. с площадью 30-45м2 то для центра значения распределены более широко за счет увеличения цены и площади."
   ]
  },
  {
   "cell_type": "code",
   "execution_count": null,
   "metadata": {},
   "outputs": [],
   "source": [
    "data_spb_center_n_small=data_n.loc[:, ['last_price', 'total_area', 'rooms', 'cityCenters_nearest']] #срез по 4 столбцам"
   ]
  },
  {
   "cell_type": "code",
   "execution_count": null,
   "metadata": {},
   "outputs": [],
   "source": [
    "pd.plotting.scatter_matrix(data_spb_center_n_small, figsize=(12, 12));"
   ]
  },
  {
   "cell_type": "code",
   "execution_count": null,
   "metadata": {},
   "outputs": [],
   "source": [
    "data_spb_center_n_small.corr()"
   ]
  },
  {
   "cell_type": "markdown",
   "metadata": {},
   "source": [
    "Связь менее очевидная чем для общего массива данных."
   ]
  },
  {
   "cell_type": "markdown",
   "metadata": {},
   "source": [
    "<div class=\"alert alert-warning\">\n",
    "<h2> Комментарий от ревьюера</h2>\n",
    "\n",
    "Здесь тоже лучше подробнее описать полученные закономерности.\n",
    "\n",
    "</div>"
   ]
  },
  {
   "cell_type": "code",
   "execution_count": null,
   "metadata": {},
   "outputs": [],
   "source": [
    "data_spb_center_n[data_spb_center_n['floor_type']=='другой']['last_price'].plot(\n",
    "    kind='hist', y='last_price', histtype='step', \n",
    "    range=(0, 20), bins=40, linewidth=2, alpha=0.7, label='другой', grid=True, legend=True) #цена другой этаж\n",
    "\n",
    "data_spb_center_n[data_spb_center_n['floor_type']=='последний']['last_price'].plot(\n",
    "    kind='hist', y='last_price', histtype='step', \n",
    "    range=(0, 20), bins=40, linewidth=2, alpha=0.7, label='последний', grid=True, legend=True) #цена последний этаж\n",
    "\n",
    "data_spb_center_n[data_spb_center_n['floor_type']=='первый']['last_price'].plot(\n",
    "    kind='hist', y='last_price', histtype='step', \n",
    "    range=(0, 20), bins=40, linewidth=2, alpha=0.7, label='первый', grid=True, legend=True) #цена 1 этаж\n",
    "\n",
    "print('жилье до 15 млн. и до 120 м2')\n",
    "print(data_spb_center_n.query('last_price<15 and total_area<120').pivot_table(\n",
    "    index='floor_type', values='last_price', aggfunc=('count', 'mean', 'median')))\n",
    "print()\n",
    "print('жилье от 15 до 30 млн. и от 120 до 200 м2')\n",
    "print(data_spb_center_n.query('last_price>=15 and total_area>=120').pivot_table(\n",
    "    index='floor_type', values='last_price', aggfunc=('count', 'mean', 'median')))"
   ]
  },
  {
   "cell_type": "markdown",
   "metadata": {},
   "source": [
    "В отличии от общей картины для центра характерны:\n",
    "* цена последнего этажа для объектов до 15 млн. и до 120 м2 сравнима с прочими\n",
    "* цена 1 этажа для объектов от 15 до 30 млн. и от 120 до 200 м2 ВЫШЕ на 3% (возможно связано с влиянием дорогих малоэтажных объектов на выборку)\n",
    "    "
   ]
  },
  {
   "cell_type": "markdown",
   "metadata": {},
   "source": [
    "<div class=\"alert alert-success\">\n",
    "<h2> Комментарий от ревьюера</h2>\n",
    "\n",
    "Отлично.\n",
    "\n",
    "</div>"
   ]
  },
  {
   "cell_type": "code",
   "execution_count": null,
   "metadata": {},
   "outputs": [],
   "source": [
    "#Смотрим зависимость от дня недели в центре СПб\n",
    "print(data_spb_center_n.pivot_table(index='weekday', values='last_price', aggfunc=('count', 'mean', 'median')))\n",
    "data_spb_center_n.pivot_table(index='weekday', values='last_price', aggfunc=('mean', 'median')).plot(grid=True)"
   ]
  },
  {
   "cell_type": "markdown",
   "metadata": {},
   "source": [
    "С уменьшением выборки колебания заметнее, но зависимости не прослеживается."
   ]
  },
  {
   "cell_type": "code",
   "execution_count": null,
   "metadata": {},
   "outputs": [],
   "source": [
    "#проверяем зависимость от месяца в центре СПб\n",
    "print(data_spb_center_n.pivot_table(index='month', values='last_price', aggfunc=('count', 'mean', 'median')))\n",
    "data_n.pivot_table(index=('month'), values='last_price', aggfunc=('mean', 'median')).plot(grid=True)"
   ]
  },
  {
   "cell_type": "markdown",
   "metadata": {},
   "source": [
    "От общей картины не отличается."
   ]
  },
  {
   "cell_type": "code",
   "execution_count": null,
   "metadata": {},
   "outputs": [],
   "source": [
    "#зависимость от года\n",
    "print(data_spb_center_n.pivot_table(index='year', values='last_price', aggfunc=('count', 'mean', 'median')))\n",
    "data_n.pivot_table(index='year', values='last_price', aggfunc=('mean', 'median')).plot(grid=True)"
   ]
  },
  {
   "cell_type": "markdown",
   "metadata": {},
   "source": [
    "Повторяет аналогичный общий график."
   ]
  },
  {
   "cell_type": "markdown",
   "metadata": {},
   "source": [
    "<div class=\"alert alert-success\">\n",
    "<h2> Комментарий от ревьюера</h2>\n",
    "\n",
    "Хорошо.\n",
    "\n",
    "</div>"
   ]
  },
  {
   "cell_type": "markdown",
   "metadata": {},
   "source": [
    "### Шаг 5. Общий вывод"
   ]
  },
  {
   "cell_type": "markdown",
   "metadata": {},
   "source": [
    "Не для всех объектов подтянулись картографические данные: есть пропуски в столбцах: 'airports_nearest', 'cityCenters_nearest', 'parks_around3000', 'ponds_around3000'. Много пропусков в 'parks_nearest', 'ponds_nearest' - вероятно в большинстве случаев они обозначают отсутствие парков и водоемов в заданном радиусе от объекта. Необходимо уточнить механизм получения этих данных. Также в некоторых случаях пропущены locality_name, days_exposition, ceiling_height, floors_total, living_area, kitchen_area, balcony, встречается ошибочное заполнение.\n",
    "Наличие пропусков и ошибок в полях  имеет обратную корреляцию со сроком продажи (с пропусками продаются быстрее). Возможно необходимо доработать форму размещения объявлений.\n",
    "\n",
    "Среднее время продажи (размещения объявления) около полугода. Объявления старше 1-1,5 лет являются аномальными и могут быть мошенническими. Видны странные пики на 30, 45, 60 и 90 дней (срок размещения объявления кратен 30 дням?).\n",
    "\n",
    "Очевидна прямая зависимость цены и площади. Зависимость цены от количества комнат менее явная и является следствием связи количества комнат и площади. Для конкретно выбранного населенного пункта можно проследить обратную зависимость цены от расстояния до центра. \n",
    "\n",
    "Для объектов до 15млн. и до 120м2 первый этаж в среднем на 26% дешевле, а последний на 11% дешевле. Для объектов от 15млн. и от 120м2 разницы между первым и другими этажами нет, а последний в среднем на 10% ДОРОЖЕ.\n",
    "\n",
    "\n",
    "В выходной день размещают в 2 раза меньше объявлений по сравнению с будним. Дорогие объекты чаще размещают в субботу. По году виден спад активности в мае, а также в декабре-январе. Явных колебаний цены не видно. Средняя цена с 2015 по 2019 гг. сократилась за счет размещения меньшего количества дорогих объектов.\n",
    "\n",
    "Самый дорогой квадратный метр: 108291 руб. в Санкт-Петербург\n",
    "Самый дешевый квадратный метр из топ-10: 57010 руб. в Выборг\n",
    "\n",
    "Для СПб Начиная с 8 км. от центра заметно изменение средней цены квадратного метра и значительное увеличение количества объектов.\n",
    "\n",
    "Для центра СПб характерны следующие особенности:\n",
    "* средняя площадь и количество комнат больше\n",
    "* наиболее распространены 1-2 комнатные квартиры\n",
    "* меньше доля студий и апартаментов (0 комнат)\n",
    "* больше многокомнатных квартир\n",
    "* высокие потолки\n",
    "* более равномерный разброс цен и площади квартир\n",
    "* цена последнего этажа для объектов до 15 млн. и до 120 м2 сравнима с прочими\n",
    "* цена 1 этажа для объектов от 15 до 30 млн. и от 120 до 200 м2 ВЫШЕ на 3%\n"
   ]
  },
  {
   "cell_type": "markdown",
   "metadata": {},
   "source": [
    "<div class=\"alert alert-warning\">\n",
    "<h2> Комментарий от ревьюера</h2>\n",
    "\n",
    "Получились хорошие выводы. Но их можно немного дополнить:\n",
    "    \n",
    "* Например уровень зависимости параметров дополнить полученными коэффициентами корреляции.\n",
    "    \n",
    "* А слова `больше/меньше` лучше подстверждать дополнительно цифрами, т.е. насколько меньше, насколько больше (можно также в процентах указать).\n",
    "    \n",
    "* Также лучше укзать типичные параметры квартир, это важно для построения автоматизированной системы, чтобы отследить аномалии и мошенническую деятельность.\n",
    "\n",
    "</div>"
   ]
  },
  {
   "cell_type": "markdown",
   "metadata": {},
   "source": [
    "<div class=\"alert alert-success\">\n",
    "<h2> Комментарий от ревьюера</h2>\n",
    "\n",
    "Спасибо за твой интересный проект!\n",
    "    \n",
    "Ты без проблем находишь пропуски и ошибки в данных, только будь внимательнее при удалении пропусков, учти, что ты удаляешь еще другие столбцы, где есть важная информация. А ошибки иногда можно исправить, поэтому их лучше более подробно изучить.\n",
    "    \n",
    "Ты выбираешь подходящие типы графиков и с помощью них делаешь хорошие выводы, только не забывай про заголовки и подписи осей.\n",
    "    \n",
    "Старайся оставлять больше поясняющих комментариев для распределений.\n",
    "    \n",
    "Ты отлично справился с пояснением полученных коэффициентов корреляции.\n",
    "\n",
    "</div>"
   ]
  },
  {
   "cell_type": "markdown",
   "metadata": {},
   "source": [
    "<div class=\"alert alert-danger\">\n",
    "<h2> Комментарий от ревьюера</h2>\n",
    "\n",
    "<s>Осталось немного доработать проект:\n",
    "1. Не удаляй пропуски в столбце `days_exposition`.\n",
    "2. Дополни пункт построения гистограмм промежуточными выводами.\n",
    "3. Выполни автоматизацию вывода графиков.\n",
    "\n",
    "Я уверенна, ты легко справишься с доработками, жду твоих исправлений:) </s>\n",
    "\n",
    "</div>"
   ]
  },
  {
   "cell_type": "markdown",
   "metadata": {},
   "source": [
    "<div class=\"alert alert-info\" role=\"alert\">\n",
    "Спасибо за комментарии. Критичные учел/устранил. По желтым, с твоего разрешения, не буду доводить до идеала - лучше проверю пару гипотез, возникших после твоих замечаний. Надеюсь к легкой небрежности ты не будешь слишком сурова...\n",
    "</div>"
   ]
  },
  {
   "cell_type": "markdown",
   "metadata": {},
   "source": [
    "<div class=\"alert alert-success\">\n",
    "<h2> Комментарий от ревьюера v2</h2>\n",
    "\n",
    "Спасибо за твои доработки, ты отлично справился с критичными комментариями:)\n",
    "    \n",
    "Так и быть, не буду слишком сурова:) На самом деле всегда даю возможность студентам самостоятельно доработать желтые комментарии, это не страшно:)\n",
    "    \n",
    "Я конечно же принимаю твой проект и желаю удачи в прохождении курса!\n",
    "\n",
    "</div>"
   ]
  },
  {
   "cell_type": "markdown",
   "metadata": {},
   "source": [
    "### Чек-лист готовности проекта\n",
    "\n",
    "Поставьте 'x' в выполненных пунктах. Далее нажмите Shift+Enter."
   ]
  },
  {
   "cell_type": "markdown",
   "metadata": {},
   "source": [
    "- [x]  открыт файл\n",
    "- [x]  файлы изучены (выведены первые строки, метод info())\n",
    "- [x]  определены пропущенные значения\n",
    "- [x]  заполнены пропущенные значения\n",
    "- [x]  есть пояснение, какие пропущенные значения обнаружены\n",
    "- [x]  изменены типы данных\n",
    "- [x]  есть пояснение, в каких столбцах изменены типы и почему\n",
    "- [x]  посчитано и добавлено в таблицу: цена квадратного метра\n",
    "- [x]  посчитано и добавлено в таблицу: день недели, месяц и год публикации объявления\n",
    "- [x]  посчитано и добавлено в таблицу: этаж квартиры; варианты — первый, последний, другой\n",
    "- [x]  посчитано и добавлено в таблицу: соотношение жилой и общей площади, а также отношение площади кухни к общей\n",
    "- [x]  изучены следующие параметры: площадь, цена, число комнат, высота потолков\n",
    "- [x]  построены гистограммы для каждого параметра\n",
    "- [x]  выполнено задание: \"Изучите время продажи квартиры. Постройте гистограмму. Посчитайте среднее и медиану. Опишите, сколько обычно занимает продажа. Когда можно считать, что продажи прошли очень быстро, а когда необычно долго?\"\n",
    "- [x]  выполнено задание: \"Уберите редкие и выбивающиеся значения. Опишите, какие особенности обнаружили.\"\n",
    "- [x]  выполнено задание: \"Какие факторы больше всего влияют на стоимость квартиры? Изучите, зависит ли цена от квадратного метра, числа комнат, этажа (первого или последнего), удалённости от центра. Также изучите зависимость от даты размещения: дня недели, месяца и года. \"Выберите 10 населённых пунктов с наибольшим числом объявлений. Посчитайте среднюю цену квадратного метра в этих населённых пунктах. Выделите населённые пункты с самой высокой и низкой стоимостью жилья. Эти данные можно найти по имени в столбце '*locality_name'*. \"\n",
    "- [x]  выполнено задание: \"Изучите предложения квартир: для каждой квартиры есть информация о расстоянии до центра. Выделите квартиры в Санкт-Петербурге (*'locality_name'*). Ваша задача — выяснить, какая область входит в центр. Создайте столбец с расстоянием до центра в километрах: округлите до целых значений. После этого посчитайте среднюю цену для каждого километра. Постройте график: он должен показывать, как цена зависит от удалённости от центра. Определите границу, где график сильно меняется — это и будет центральная зона. \"\n",
    "- [x]  выполнено задание: \"Выделите сегмент квартир в центре. Проанализируйте эту территорию и изучите следующие параметры: площадь, цена, число комнат, высота потолков. Также выделите факторы, которые влияют на стоимость квартиры (число комнат, этаж, удалённость от центра, дата размещения объявления). Сделайте выводы. Отличаются ли они от общих выводов по всему городу?\"\n",
    "- [x]  в каждом этапе есть выводы\n",
    "- [x]  есть общий вывод"
   ]
  }
 ],
 "metadata": {
  "kernelspec": {
   "display_name": "Python 3",
   "language": "python",
   "name": "python3"
  },
  "language_info": {
   "codemirror_mode": {
    "name": "ipython",
    "version": 3
   },
   "file_extension": ".py",
   "mimetype": "text/x-python",
   "name": "python",
   "nbconvert_exporter": "python",
   "pygments_lexer": "ipython3",
   "version": "3.8.5"
  },
  "toc": {
   "base_numbering": 1,
   "nav_menu": {},
   "number_sections": true,
   "sideBar": true,
   "skip_h1_title": true,
   "title_cell": "Table of Contents",
   "title_sidebar": "Contents",
   "toc_cell": false,
   "toc_position": {
    "height": "calc(100% - 180px)",
    "left": "10px",
    "top": "150px",
    "width": "384px"
   },
   "toc_section_display": true,
   "toc_window_display": true
  }
 },
 "nbformat": 4,
 "nbformat_minor": 2
}
