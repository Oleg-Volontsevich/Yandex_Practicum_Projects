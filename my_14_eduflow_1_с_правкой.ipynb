{
 "cells": [
  {
   "cell_type": "markdown",
   "metadata": {},
   "source": [
    "# Финальный проект. Промышленность. "
   ]
  },
  {
   "cell_type": "markdown",
   "metadata": {},
   "source": [
    "# Дополнительное задание 1"
   ]
  },
  {
   "cell_type": "markdown",
   "metadata": {},
   "source": [
    "Выполните задание\n",
    "\n",
    "Вам поручили изучить характеристики процесса обработки стали. Для каждого значения столбца key найдите:\n",
    "\n",
    "    Длительность времени между первым и последним замером температуры.\n",
    "    Суммарное время нагрева электродами, то есть сумму значений по всем промежуткам между запусками нагрева электродов.\n",
    "    Количество запусков нагрева электродами.\n",
    "    Среднее соотношение потребления активной и реактивной мощности.\n",
    "\n",
    "По всем полученным столбцам вычислите статистики: средние, минимальные и максимальные значения, медиану и величины 25%- и 75%-квартилей."
   ]
  },
  {
   "cell_type": "code",
   "execution_count": 1,
   "metadata": {},
   "outputs": [],
   "source": [
    "import pandas as pd"
   ]
  },
  {
   "cell_type": "code",
   "execution_count": 2,
   "metadata": {},
   "outputs": [],
   "source": [
    "data_arc = pd.read_csv('data_arc.csv')\n",
    "data_temp = pd.read_csv('data_temp.csv')"
   ]
  },
  {
   "cell_type": "markdown",
   "metadata": {},
   "source": [
    "## Длительность времени между первым и последним замером температуры."
   ]
  },
  {
   "cell_type": "code",
   "execution_count": 3,
   "metadata": {},
   "outputs": [],
   "source": [
    "# переведем в формат даты\n",
    "data_temp['Время замера'] = data_temp['Время замера'].astype('datetime64')"
   ]
  },
  {
   "cell_type": "code",
   "execution_count": 4,
   "metadata": {},
   "outputs": [],
   "source": [
    "# Длительность времени между первым и последним замером температуры.\n",
    "\n",
    "# сводная таблица с результатами измерения температуры\n",
    "data_temp_by_key = data_temp.pivot_table(index='key', aggfunc={'Время замера': ('first', 'last')})"
   ]
  },
  {
   "cell_type": "code",
   "execution_count": 5,
   "metadata": {},
   "outputs": [],
   "source": [
    "# избавляемся от мультииндекса и именуем столбцы\n",
    "#data_temp_by_key.columns = data_temp_by_key.columns.droplevel()\n",
    "data_temp_by_key.index.name = None\n",
    "# data_temp_by_key.set_axis(['А/Р сред', 'кол-во нагревов', 'время нагревов сумм'], axis='columns', inplace=True)\n",
    "data_temp_by_key.columns = ['время начальное', 'время конечное']"
   ]
  },
  {
   "cell_type": "code",
   "execution_count": 6,
   "metadata": {},
   "outputs": [
    {
     "data": {
      "text/html": [
       "<div>\n",
       "<style scoped>\n",
       "    .dataframe tbody tr th:only-of-type {\n",
       "        vertical-align: middle;\n",
       "    }\n",
       "\n",
       "    .dataframe tbody tr th {\n",
       "        vertical-align: top;\n",
       "    }\n",
       "\n",
       "    .dataframe thead th {\n",
       "        text-align: right;\n",
       "    }\n",
       "</style>\n",
       "<table border=\"1\" class=\"dataframe\">\n",
       "  <thead>\n",
       "    <tr style=\"text-align: right;\">\n",
       "      <th></th>\n",
       "      <th>время начальное</th>\n",
       "      <th>время конечное</th>\n",
       "    </tr>\n",
       "  </thead>\n",
       "  <tbody>\n",
       "    <tr>\n",
       "      <th>1</th>\n",
       "      <td>2019-05-03 11:16:18</td>\n",
       "      <td>2019-05-03 11:30:39</td>\n",
       "    </tr>\n",
       "    <tr>\n",
       "      <th>2</th>\n",
       "      <td>2019-05-03 11:37:27</td>\n",
       "      <td>2019-05-03 11:59:12</td>\n",
       "    </tr>\n",
       "    <tr>\n",
       "      <th>3</th>\n",
       "      <td>2019-05-03 12:13:17</td>\n",
       "      <td>2019-05-03 12:34:57</td>\n",
       "    </tr>\n",
       "    <tr>\n",
       "      <th>4</th>\n",
       "      <td>2019-05-03 12:52:57</td>\n",
       "      <td>2019-05-03 12:59:25</td>\n",
       "    </tr>\n",
       "    <tr>\n",
       "      <th>5</th>\n",
       "      <td>2019-05-03 13:23:19</td>\n",
       "      <td>2019-05-03 13:36:01</td>\n",
       "    </tr>\n",
       "    <tr>\n",
       "      <th>...</th>\n",
       "      <td>...</td>\n",
       "      <td>...</td>\n",
       "    </tr>\n",
       "    <tr>\n",
       "      <th>3237</th>\n",
       "      <td>2019-08-31 22:44:04</td>\n",
       "      <td>2019-08-31 23:05:43</td>\n",
       "    </tr>\n",
       "    <tr>\n",
       "      <th>3238</th>\n",
       "      <td>2019-08-31 23:30:31</td>\n",
       "      <td>2019-08-31 23:43:00</td>\n",
       "    </tr>\n",
       "    <tr>\n",
       "      <th>3239</th>\n",
       "      <td>2019-09-01 01:31:47</td>\n",
       "      <td>2019-09-01 02:24:15</td>\n",
       "    </tr>\n",
       "    <tr>\n",
       "      <th>3240</th>\n",
       "      <td>2019-09-01 02:39:01</td>\n",
       "      <td>2019-09-01 03:35:16</td>\n",
       "    </tr>\n",
       "    <tr>\n",
       "      <th>3241</th>\n",
       "      <td>2019-09-01 04:03:30</td>\n",
       "      <td>2019-09-01 04:38:08</td>\n",
       "    </tr>\n",
       "  </tbody>\n",
       "</table>\n",
       "<p>3216 rows × 2 columns</p>\n",
       "</div>"
      ],
      "text/plain": [
       "         время начальное      время конечное\n",
       "1    2019-05-03 11:16:18 2019-05-03 11:30:39\n",
       "2    2019-05-03 11:37:27 2019-05-03 11:59:12\n",
       "3    2019-05-03 12:13:17 2019-05-03 12:34:57\n",
       "4    2019-05-03 12:52:57 2019-05-03 12:59:25\n",
       "5    2019-05-03 13:23:19 2019-05-03 13:36:01\n",
       "...                  ...                 ...\n",
       "3237 2019-08-31 22:44:04 2019-08-31 23:05:43\n",
       "3238 2019-08-31 23:30:31 2019-08-31 23:43:00\n",
       "3239 2019-09-01 01:31:47 2019-09-01 02:24:15\n",
       "3240 2019-09-01 02:39:01 2019-09-01 03:35:16\n",
       "3241 2019-09-01 04:03:30 2019-09-01 04:38:08\n",
       "\n",
       "[3216 rows x 2 columns]"
      ]
     },
     "execution_count": 6,
     "metadata": {},
     "output_type": "execute_result"
    }
   ],
   "source": [
    "data_temp_by_key"
   ]
  },
  {
   "cell_type": "code",
   "execution_count": 7,
   "metadata": {},
   "outputs": [],
   "source": [
    "data_temp_by_key['начало-конец измерений'] = (\n",
    "    data_temp_by_key['время конечное'] - data_temp_by_key['время начальное']).astype('int64')/1000000000"
   ]
  },
  {
   "cell_type": "code",
   "execution_count": 8,
   "metadata": {},
   "outputs": [
    {
     "data": {
      "text/plain": [
       "1        861.0\n",
       "2       1305.0\n",
       "3       1300.0\n",
       "4        388.0\n",
       "5        762.0\n",
       "         ...  \n",
       "3237    1299.0\n",
       "3238     749.0\n",
       "3239    3148.0\n",
       "3240    3375.0\n",
       "3241    2078.0\n",
       "Name: начало-конец измерений, Length: 3216, dtype: float64"
      ]
     },
     "execution_count": 8,
     "metadata": {},
     "output_type": "execute_result"
    }
   ],
   "source": [
    "data_temp_by_key['начало-конец измерений']"
   ]
  },
  {
   "cell_type": "code",
   "execution_count": 9,
   "metadata": {},
   "outputs": [
    {
     "data": {
      "text/plain": [
       "count     3216.000000\n",
       "mean      1839.861629\n",
       "std       1246.950298\n",
       "min          0.000000\n",
       "25%       1177.000000\n",
       "50%       1581.000000\n",
       "75%       2235.000000\n",
       "max      23537.000000\n",
       "Name: начало-конец измерений, dtype: float64"
      ]
     },
     "execution_count": 9,
     "metadata": {},
     "output_type": "execute_result"
    }
   ],
   "source": [
    "data_temp_by_key['начало-конец измерений'].describe()"
   ]
  },
  {
   "cell_type": "markdown",
   "metadata": {},
   "source": [
    "## Суммарное время нагрева электродами.\n",
    "* Cумму значений по всем промежуткам между запусками нагрева электродов.\n",
    "* Количество запусков нагрева электродами.\n",
    "* Среднее соотношение потребления активной и реактивной мощности."
   ]
  },
  {
   "cell_type": "code",
   "execution_count": 10,
   "metadata": {},
   "outputs": [],
   "source": [
    "# переведем в формат даты\n",
    "data_arc['Начало нагрева дугой'] = data_arc['Начало нагрева дугой'].astype('datetime64')\n",
    "data_arc['Конец нагрева дугой'] = data_arc['Конец нагрева дугой'].astype('datetime64')"
   ]
  },
  {
   "cell_type": "code",
   "execution_count": 11,
   "metadata": {},
   "outputs": [],
   "source": [
    "# для каждого нагрева посчитаем длительность нагрева и соотношение потребления активной и реактивной мощности\n",
    "data_arc['Длительность нагрева']=(data_arc['Конец нагрева дугой']-data_arc['Начало нагрева дугой']).astype('int64')/1000000000\n",
    "data_arc['А/Р'] = data_arc['Активная мощность']/data_arc['Реактивная мощность']"
   ]
  },
  {
   "cell_type": "code",
   "execution_count": 12,
   "metadata": {},
   "outputs": [],
   "source": [
    "data_arc_by_key = data_arc.pivot_table( index='key', aggfunc={ 'Длительность нагрева': ('sum', 'count'), 'А/Р': 'mean'})"
   ]
  },
  {
   "cell_type": "code",
   "execution_count": 13,
   "metadata": {},
   "outputs": [
    {
     "data": {
      "text/html": [
       "<div>\n",
       "<style scoped>\n",
       "    .dataframe tbody tr th:only-of-type {\n",
       "        vertical-align: middle;\n",
       "    }\n",
       "\n",
       "    .dataframe tbody tr th {\n",
       "        vertical-align: top;\n",
       "    }\n",
       "\n",
       "    .dataframe thead th {\n",
       "        text-align: right;\n",
       "    }\n",
       "</style>\n",
       "<table border=\"1\" class=\"dataframe\">\n",
       "  <thead>\n",
       "    <tr style=\"text-align: right;\">\n",
       "      <th></th>\n",
       "      <th>А/Р сред</th>\n",
       "      <th>кол-во нагревов</th>\n",
       "      <th>время нагревов сумм</th>\n",
       "    </tr>\n",
       "  </thead>\n",
       "  <tbody>\n",
       "    <tr>\n",
       "      <th>1</th>\n",
       "      <td>1.538898</td>\n",
       "      <td>5</td>\n",
       "      <td>1098.0</td>\n",
       "    </tr>\n",
       "    <tr>\n",
       "      <th>2</th>\n",
       "      <td>1.551834</td>\n",
       "      <td>4</td>\n",
       "      <td>811.0</td>\n",
       "    </tr>\n",
       "    <tr>\n",
       "      <th>3</th>\n",
       "      <td>1.583120</td>\n",
       "      <td>5</td>\n",
       "      <td>655.0</td>\n",
       "    </tr>\n",
       "    <tr>\n",
       "      <th>4</th>\n",
       "      <td>1.563487</td>\n",
       "      <td>4</td>\n",
       "      <td>741.0</td>\n",
       "    </tr>\n",
       "    <tr>\n",
       "      <th>5</th>\n",
       "      <td>1.480428</td>\n",
       "      <td>4</td>\n",
       "      <td>869.0</td>\n",
       "    </tr>\n",
       "    <tr>\n",
       "      <th>...</th>\n",
       "      <td>...</td>\n",
       "      <td>...</td>\n",
       "      <td>...</td>\n",
       "    </tr>\n",
       "    <tr>\n",
       "      <th>3237</th>\n",
       "      <td>1.384203</td>\n",
       "      <td>5</td>\n",
       "      <td>909.0</td>\n",
       "    </tr>\n",
       "    <tr>\n",
       "      <th>3238</th>\n",
       "      <td>1.257794</td>\n",
       "      <td>3</td>\n",
       "      <td>546.0</td>\n",
       "    </tr>\n",
       "    <tr>\n",
       "      <th>3239</th>\n",
       "      <td>1.497918</td>\n",
       "      <td>8</td>\n",
       "      <td>1216.0</td>\n",
       "    </tr>\n",
       "    <tr>\n",
       "      <th>3240</th>\n",
       "      <td>1.257343</td>\n",
       "      <td>5</td>\n",
       "      <td>839.0</td>\n",
       "    </tr>\n",
       "    <tr>\n",
       "      <th>3241</th>\n",
       "      <td>1.482661</td>\n",
       "      <td>5</td>\n",
       "      <td>659.0</td>\n",
       "    </tr>\n",
       "  </tbody>\n",
       "</table>\n",
       "<p>3214 rows × 3 columns</p>\n",
       "</div>"
      ],
      "text/plain": [
       "      А/Р сред  кол-во нагревов  время нагревов сумм\n",
       "1     1.538898                5               1098.0\n",
       "2     1.551834                4                811.0\n",
       "3     1.583120                5                655.0\n",
       "4     1.563487                4                741.0\n",
       "5     1.480428                4                869.0\n",
       "...        ...              ...                  ...\n",
       "3237  1.384203                5                909.0\n",
       "3238  1.257794                3                546.0\n",
       "3239  1.497918                8               1216.0\n",
       "3240  1.257343                5                839.0\n",
       "3241  1.482661                5                659.0\n",
       "\n",
       "[3214 rows x 3 columns]"
      ]
     },
     "execution_count": 13,
     "metadata": {},
     "output_type": "execute_result"
    }
   ],
   "source": [
    "# избавляемся от мультииндекса и именуем столбцы\n",
    "#data_arc_by_key.columns = data_arc_by_key.columns.droplevel()\n",
    "data_arc_by_key.index.name = None\n",
    "#data_arc_by_key.set_axis(['А/Р сред', 'кол-во нагревов', 'время нагревов сумм'], axis='columns', inplace=True)\n",
    "data_arc_by_key.columns = ['А/Р сред', 'кол-во нагревов', 'время нагревов сумм']\n",
    "data_arc_by_key"
   ]
  },
  {
   "cell_type": "code",
   "execution_count": 14,
   "metadata": {},
   "outputs": [
    {
     "data": {
      "text/html": [
       "<div>\n",
       "<style scoped>\n",
       "    .dataframe tbody tr th:only-of-type {\n",
       "        vertical-align: middle;\n",
       "    }\n",
       "\n",
       "    .dataframe tbody tr th {\n",
       "        vertical-align: top;\n",
       "    }\n",
       "\n",
       "    .dataframe thead th {\n",
       "        text-align: right;\n",
       "    }\n",
       "</style>\n",
       "<table border=\"1\" class=\"dataframe\">\n",
       "  <thead>\n",
       "    <tr style=\"text-align: right;\">\n",
       "      <th></th>\n",
       "      <th>А/Р сред</th>\n",
       "      <th>кол-во нагревов</th>\n",
       "      <th>время нагревов сумм</th>\n",
       "    </tr>\n",
       "  </thead>\n",
       "  <tbody>\n",
       "    <tr>\n",
       "      <th>count</th>\n",
       "      <td>3214.000000</td>\n",
       "      <td>3214.000000</td>\n",
       "      <td>3214.000000</td>\n",
       "    </tr>\n",
       "    <tr>\n",
       "      <th>mean</th>\n",
       "      <td>1.357452</td>\n",
       "      <td>4.628500</td>\n",
       "      <td>794.579029</td>\n",
       "    </tr>\n",
       "    <tr>\n",
       "      <th>std</th>\n",
       "      <td>0.132824</td>\n",
       "      <td>1.608647</td>\n",
       "      <td>332.448622</td>\n",
       "    </tr>\n",
       "    <tr>\n",
       "      <th>min</th>\n",
       "      <td>0.676106</td>\n",
       "      <td>1.000000</td>\n",
       "      <td>57.000000</td>\n",
       "    </tr>\n",
       "    <tr>\n",
       "      <th>25%</th>\n",
       "      <td>1.292892</td>\n",
       "      <td>4.000000</td>\n",
       "      <td>571.000000</td>\n",
       "    </tr>\n",
       "    <tr>\n",
       "      <th>50%</th>\n",
       "      <td>1.370550</td>\n",
       "      <td>4.000000</td>\n",
       "      <td>770.000000</td>\n",
       "    </tr>\n",
       "    <tr>\n",
       "      <th>75%</th>\n",
       "      <td>1.438292</td>\n",
       "      <td>6.000000</td>\n",
       "      <td>983.000000</td>\n",
       "    </tr>\n",
       "    <tr>\n",
       "      <th>max</th>\n",
       "      <td>1.782164</td>\n",
       "      <td>16.000000</td>\n",
       "      <td>4189.000000</td>\n",
       "    </tr>\n",
       "  </tbody>\n",
       "</table>\n",
       "</div>"
      ],
      "text/plain": [
       "          А/Р сред  кол-во нагревов  время нагревов сумм\n",
       "count  3214.000000      3214.000000          3214.000000\n",
       "mean      1.357452         4.628500           794.579029\n",
       "std       0.132824         1.608647           332.448622\n",
       "min       0.676106         1.000000            57.000000\n",
       "25%       1.292892         4.000000           571.000000\n",
       "50%       1.370550         4.000000           770.000000\n",
       "75%       1.438292         6.000000           983.000000\n",
       "max       1.782164        16.000000          4189.000000"
      ]
     },
     "execution_count": 14,
     "metadata": {},
     "output_type": "execute_result"
    }
   ],
   "source": [
    "data_arc_by_key.describe()"
   ]
  }
 ],
 "metadata": {
  "ExecuteTimeLog": [
   {
    "duration": 1085,
    "start_time": "2021-06-28T11:34:42.893Z"
   },
   {
    "duration": 49,
    "start_time": "2021-06-28T11:34:44.734Z"
   },
   {
    "duration": 16,
    "start_time": "2021-06-28T11:34:45.633Z"
   },
   {
    "duration": 12,
    "start_time": "2021-06-28T11:36:31.350Z"
   },
   {
    "duration": 191,
    "start_time": "2021-06-28T11:43:57.367Z"
   },
   {
    "duration": 12,
    "start_time": "2021-06-28T11:43:58.800Z"
   },
   {
    "duration": 29,
    "start_time": "2021-06-28T11:43:59.754Z"
   },
   {
    "duration": 30,
    "start_time": "2021-06-28T11:44:00.446Z"
   },
   {
    "duration": 15,
    "start_time": "2021-06-28T11:44:01.240Z"
   },
   {
    "duration": 16,
    "start_time": "2021-06-28T11:44:02.160Z"
   },
   {
    "duration": 19,
    "start_time": "2021-06-28T11:44:03.199Z"
   },
   {
    "duration": 21,
    "start_time": "2021-06-28T11:44:04.034Z"
   },
   {
    "duration": 12,
    "start_time": "2021-06-28T12:03:30.845Z"
   },
   {
    "duration": 8,
    "start_time": "2021-06-28T12:06:58.846Z"
   },
   {
    "duration": 15,
    "start_time": "2021-06-28T12:08:44.656Z"
   },
   {
    "duration": 25,
    "start_time": "2021-06-28T12:09:00.248Z"
   },
   {
    "duration": 13,
    "start_time": "2021-06-28T12:21:11.324Z"
   },
   {
    "duration": 15,
    "start_time": "2021-06-28T12:21:45.093Z"
   },
   {
    "duration": 22,
    "start_time": "2021-06-28T12:21:46.421Z"
   },
   {
    "duration": 22,
    "start_time": "2021-06-28T12:21:47.638Z"
   },
   {
    "duration": 13,
    "start_time": "2021-06-28T12:21:48.757Z"
   },
   {
    "duration": 13,
    "start_time": "2021-06-28T12:21:49.781Z"
   },
   {
    "duration": 60,
    "start_time": "2021-06-28T12:21:51.190Z"
   },
   {
    "duration": 20,
    "start_time": "2021-06-28T12:22:01.083Z"
   },
   {
    "duration": 58,
    "start_time": "2021-06-28T12:22:02.349Z"
   },
   {
    "duration": 20,
    "start_time": "2021-06-28T12:22:12.764Z"
   },
   {
    "duration": 15,
    "start_time": "2021-06-28T12:46:45.763Z"
   },
   {
    "duration": 13,
    "start_time": "2021-06-28T12:59:09.335Z"
   },
   {
    "duration": 242,
    "start_time": "2021-06-28T14:18:35.298Z"
   },
   {
    "duration": 275,
    "start_time": "2021-06-28T14:19:45.114Z"
   },
   {
    "duration": 213,
    "start_time": "2021-06-28T14:21:03.554Z"
   },
   {
    "duration": 222,
    "start_time": "2021-06-28T14:22:10.444Z"
   },
   {
    "duration": 1128,
    "start_time": "2021-06-28T14:33:49.860Z"
   },
   {
    "duration": 205,
    "start_time": "2021-06-28T14:33:50.989Z"
   },
   {
    "duration": 19,
    "start_time": "2021-06-28T14:33:51.196Z"
   },
   {
    "duration": 21,
    "start_time": "2021-06-28T14:33:51.216Z"
   },
   {
    "duration": 47,
    "start_time": "2021-06-28T14:33:51.238Z"
   },
   {
    "duration": 11,
    "start_time": "2021-06-28T14:33:51.286Z"
   },
   {
    "duration": 13,
    "start_time": "2021-06-28T14:33:51.299Z"
   },
   {
    "duration": 247,
    "start_time": "2021-06-28T14:33:51.314Z"
   },
   {
    "duration": 213,
    "start_time": "2021-06-28T14:33:51.563Z"
   },
   {
    "duration": 18,
    "start_time": "2021-06-28T14:33:51.784Z"
   },
   {
    "duration": 16,
    "start_time": "2021-06-28T14:33:51.804Z"
   },
   {
    "duration": 469,
    "start_time": "2021-06-28T14:35:17.535Z"
   },
   {
    "duration": 424,
    "start_time": "2021-06-28T14:35:30.135Z"
   },
   {
    "duration": 74,
    "start_time": "2021-06-28T14:36:28.929Z"
   },
   {
    "duration": 219,
    "start_time": "2021-06-28T14:36:42.328Z"
   },
   {
    "duration": 267,
    "start_time": "2021-06-28T14:37:44.538Z"
   },
   {
    "duration": 180,
    "start_time": "2021-06-28T14:38:19.782Z"
   },
   {
    "duration": 425,
    "start_time": "2021-06-28T14:39:46.230Z"
   },
   {
    "duration": 443,
    "start_time": "2021-06-28T14:40:15.917Z"
   },
   {
    "duration": 400,
    "start_time": "2021-06-28T14:44:53.538Z"
   },
   {
    "duration": 408,
    "start_time": "2021-06-28T14:45:42.180Z"
   },
   {
    "duration": 466,
    "start_time": "2021-06-28T14:55:54.569Z"
   },
   {
    "duration": 759,
    "start_time": "2021-06-28T14:57:56.546Z"
   },
   {
    "duration": 803,
    "start_time": "2021-06-28T15:00:36.764Z"
   },
   {
    "duration": 60,
    "start_time": "2021-06-28T15:00:56.645Z"
   },
   {
    "duration": 792,
    "start_time": "2021-06-28T15:01:04.388Z"
   },
   {
    "duration": 873,
    "start_time": "2021-06-28T15:01:21.900Z"
   },
   {
    "duration": 795,
    "start_time": "2021-06-28T15:01:30.125Z"
   },
   {
    "duration": 767,
    "start_time": "2021-06-28T15:02:03.030Z"
   },
   {
    "duration": 778,
    "start_time": "2021-06-28T15:02:11.974Z"
   },
   {
    "duration": 756,
    "start_time": "2021-06-28T15:02:28.367Z"
   },
   {
    "duration": 60,
    "start_time": "2021-06-28T15:48:54.478Z"
   },
   {
    "duration": 783,
    "start_time": "2021-06-28T15:49:05.449Z"
   },
   {
    "duration": 874,
    "start_time": "2021-06-28T15:51:38.285Z"
   },
   {
    "duration": 315,
    "start_time": "2021-06-28T15:51:57.102Z"
   },
   {
    "duration": 185,
    "start_time": "2021-06-28T15:56:39.706Z"
   },
   {
    "duration": 806,
    "start_time": "2021-06-28T15:57:01.134Z"
   },
   {
    "duration": 188,
    "start_time": "2021-06-28T15:58:25.646Z"
   },
   {
    "duration": 202,
    "start_time": "2021-06-28T15:58:40.070Z"
   },
   {
    "duration": 191,
    "start_time": "2021-06-28T16:02:19.763Z"
   },
   {
    "duration": 355,
    "start_time": "2021-06-28T16:02:35.579Z"
   },
   {
    "duration": 371,
    "start_time": "2021-06-28T16:05:16.997Z"
   },
   {
    "duration": 377,
    "start_time": "2021-06-28T16:07:14.958Z"
   },
   {
    "duration": 195,
    "start_time": "2021-06-28T16:07:38.111Z"
   },
   {
    "duration": 364,
    "start_time": "2021-06-28T16:07:51.551Z"
   },
   {
    "duration": 387,
    "start_time": "2021-06-28T16:09:01.113Z"
   },
   {
    "duration": 378,
    "start_time": "2021-06-28T16:12:37.382Z"
   },
   {
    "duration": 472,
    "start_time": "2021-06-28T16:13:26.983Z"
   },
   {
    "duration": 375,
    "start_time": "2021-06-28T19:38:32.003Z"
   },
   {
    "duration": 1553,
    "start_time": "2021-06-28T19:38:45.506Z"
   },
   {
    "duration": 214,
    "start_time": "2021-06-28T19:38:47.062Z"
   },
   {
    "duration": 34,
    "start_time": "2021-06-28T19:38:47.285Z"
   },
   {
    "duration": 38,
    "start_time": "2021-06-28T19:38:47.324Z"
   },
   {
    "duration": 70,
    "start_time": "2021-06-28T19:38:47.365Z"
   },
   {
    "duration": 21,
    "start_time": "2021-06-28T19:38:47.437Z"
   },
   {
    "duration": 66,
    "start_time": "2021-06-28T19:38:47.463Z"
   },
   {
    "duration": 625,
    "start_time": "2021-06-28T19:38:47.532Z"
   },
   {
    "duration": 645,
    "start_time": "2021-06-28T19:38:48.159Z"
   },
   {
    "duration": 41,
    "start_time": "2021-06-28T19:38:48.807Z"
   },
   {
    "duration": 30,
    "start_time": "2021-06-28T19:38:48.850Z"
   },
   {
    "duration": 23,
    "start_time": "2021-06-28T19:45:25.943Z"
   },
   {
    "duration": 24,
    "start_time": "2021-06-28T19:46:06.466Z"
   },
   {
    "duration": 24,
    "start_time": "2021-06-28T19:46:26.210Z"
   },
   {
    "duration": 618,
    "start_time": "2021-06-28T20:12:16.718Z"
   },
   {
    "duration": 630,
    "start_time": "2021-06-28T20:14:22.457Z"
   },
   {
    "duration": 703,
    "start_time": "2021-06-28T20:14:47.999Z"
   },
   {
    "duration": 666,
    "start_time": "2021-06-28T20:15:24.945Z"
   },
   {
    "duration": 874,
    "start_time": "2021-06-28T20:17:15.771Z"
   },
   {
    "duration": 1659,
    "start_time": "2021-06-29T06:04:21.562Z"
   },
   {
    "duration": 201,
    "start_time": "2021-06-29T06:04:23.224Z"
   },
   {
    "duration": 27,
    "start_time": "2021-06-29T06:04:23.428Z"
   },
   {
    "duration": 37,
    "start_time": "2021-06-29T06:04:23.457Z"
   },
   {
    "duration": 38,
    "start_time": "2021-06-29T06:04:23.496Z"
   },
   {
    "duration": 44,
    "start_time": "2021-06-29T06:04:23.537Z"
   },
   {
    "duration": 19,
    "start_time": "2021-06-29T06:04:23.583Z"
   },
   {
    "duration": 62,
    "start_time": "2021-06-29T06:04:23.605Z"
   },
   {
    "duration": 636,
    "start_time": "2021-06-29T06:04:23.669Z"
   },
   {
    "duration": 650,
    "start_time": "2021-06-29T06:04:24.308Z"
   },
   {
    "duration": 35,
    "start_time": "2021-06-29T06:04:24.961Z"
   },
   {
    "duration": 69,
    "start_time": "2021-06-29T06:04:24.999Z"
   },
   {
    "duration": 626,
    "start_time": "2021-06-29T06:05:27.248Z"
   },
   {
    "duration": 566,
    "start_time": "2021-06-29T06:10:27.149Z"
   },
   {
    "duration": 619,
    "start_time": "2021-06-29T06:10:46.722Z"
   },
   {
    "duration": 435,
    "start_time": "2021-06-29T06:11:00.445Z"
   },
   {
    "duration": 616,
    "start_time": "2021-06-29T06:11:12.081Z"
   },
   {
    "duration": 24006,
    "start_time": "2021-06-29T06:11:20.719Z"
   },
   {
    "duration": 570,
    "start_time": "2021-06-29T06:13:10.730Z"
   },
   {
    "duration": 595,
    "start_time": "2021-06-29T08:31:30.576Z"
   },
   {
    "duration": 24,
    "start_time": "2021-06-29T08:33:11.656Z"
   },
   {
    "duration": 27,
    "start_time": "2021-06-29T08:33:35.192Z"
   },
   {
    "duration": 26,
    "start_time": "2021-06-29T08:33:47.771Z"
   },
   {
    "duration": 19,
    "start_time": "2021-06-29T08:34:40.249Z"
   },
   {
    "duration": 20,
    "start_time": "2021-06-29T08:35:00.778Z"
   },
   {
    "duration": 21,
    "start_time": "2021-06-29T08:35:49.395Z"
   },
   {
    "duration": 25,
    "start_time": "2021-06-29T08:36:06.691Z"
   },
   {
    "duration": 23,
    "start_time": "2021-06-29T08:36:18.003Z"
   },
   {
    "duration": 23,
    "start_time": "2021-06-29T08:36:29.244Z"
   },
   {
    "duration": 23,
    "start_time": "2021-06-29T08:36:45.829Z"
   },
   {
    "duration": 24,
    "start_time": "2021-06-29T08:37:10.940Z"
   },
   {
    "duration": 23,
    "start_time": "2021-06-29T08:37:22.803Z"
   },
   {
    "duration": 38,
    "start_time": "2021-06-29T08:42:40.330Z"
   },
   {
    "duration": 362,
    "start_time": "2021-06-30T07:43:44.553Z"
   },
   {
    "duration": 418,
    "start_time": "2021-06-30T07:45:00.350Z"
   },
   {
    "duration": 1505,
    "start_time": "2021-06-30T07:45:07.768Z"
   },
   {
    "duration": 214,
    "start_time": "2021-06-30T07:45:09.276Z"
   },
   {
    "duration": 22,
    "start_time": "2021-06-30T07:45:09.493Z"
   },
   {
    "duration": 38,
    "start_time": "2021-06-30T07:45:09.518Z"
   },
   {
    "duration": 71,
    "start_time": "2021-06-30T07:45:09.559Z"
   },
   {
    "duration": 16,
    "start_time": "2021-06-30T07:45:09.633Z"
   },
   {
    "duration": 25,
    "start_time": "2021-06-30T07:45:09.652Z"
   },
   {
    "duration": 21,
    "start_time": "2021-06-30T07:45:09.727Z"
   },
   {
    "duration": 644,
    "start_time": "2021-06-30T07:45:09.750Z"
   },
   {
    "duration": 605,
    "start_time": "2021-06-30T07:45:10.396Z"
   },
   {
    "duration": 43,
    "start_time": "2021-06-30T07:45:11.003Z"
   },
   {
    "duration": 74,
    "start_time": "2021-06-30T07:45:11.050Z"
   },
   {
    "duration": 421,
    "start_time": "2021-06-30T07:49:11.738Z"
   },
   {
    "duration": 445,
    "start_time": "2021-06-30T07:49:29.594Z"
   },
   {
    "duration": 647,
    "start_time": "2021-06-30T07:49:57.955Z"
   },
   {
    "duration": 597,
    "start_time": "2021-06-30T07:51:11.868Z"
   },
   {
    "duration": 701,
    "start_time": "2021-06-30T07:52:33.158Z"
   },
   {
    "duration": 766,
    "start_time": "2021-06-30T08:07:24.116Z"
   },
   {
    "duration": 593,
    "start_time": "2021-06-30T08:07:33.599Z"
   },
   {
    "duration": 769,
    "start_time": "2021-06-30T08:08:51.212Z"
   },
   {
    "duration": 603,
    "start_time": "2021-06-30T08:09:02.653Z"
   },
   {
    "duration": 321,
    "start_time": "2021-06-30T08:09:48.913Z"
   },
   {
    "duration": 695,
    "start_time": "2021-06-30T08:10:18.075Z"
   },
   {
    "duration": 623,
    "start_time": "2021-06-30T08:11:04.067Z"
   },
   {
    "duration": 788,
    "start_time": "2021-06-30T08:11:33.526Z"
   },
   {
    "duration": 642,
    "start_time": "2021-06-30T08:11:44.964Z"
   },
   {
    "duration": 124,
    "start_time": "2021-06-30T08:12:47.157Z"
   },
   {
    "duration": 122,
    "start_time": "2021-06-30T08:13:25.993Z"
   },
   {
    "duration": 648,
    "start_time": "2021-06-30T08:13:34.480Z"
   },
   {
    "duration": 497,
    "start_time": "2021-06-30T08:13:45.863Z"
   },
   {
    "duration": 499,
    "start_time": "2021-06-30T08:13:59.143Z"
   },
   {
    "duration": 614,
    "start_time": "2021-06-30T08:14:08.766Z"
   },
   {
    "duration": 945,
    "start_time": "2021-06-30T08:14:57.224Z"
   },
   {
    "duration": 1274,
    "start_time": "2021-06-30T08:15:18.993Z"
   },
   {
    "duration": 612,
    "start_time": "2021-06-30T08:20:13.973Z"
   },
   {
    "duration": 552,
    "start_time": "2021-06-30T08:20:53.934Z"
   },
   {
    "duration": 620,
    "start_time": "2021-06-30T08:21:12.582Z"
   },
   {
    "duration": 977,
    "start_time": "2021-06-30T08:21:18.457Z"
   },
   {
    "duration": 995,
    "start_time": "2021-06-30T08:21:28.047Z"
   },
   {
    "duration": 1181,
    "start_time": "2021-06-30T08:21:38.918Z"
   },
   {
    "duration": 1356,
    "start_time": "2021-06-30T08:22:33.282Z"
   },
   {
    "duration": 1055,
    "start_time": "2021-06-30T08:22:42.361Z"
   },
   {
    "duration": 625,
    "start_time": "2021-06-30T08:23:31.638Z"
   },
   {
    "duration": 898,
    "start_time": "2021-06-30T08:23:52.003Z"
   },
   {
    "duration": 620,
    "start_time": "2021-06-30T08:24:29.697Z"
   },
   {
    "duration": 629,
    "start_time": "2021-06-30T08:25:04.202Z"
   },
   {
    "duration": 1043,
    "start_time": "2021-06-30T08:26:57.837Z"
   },
   {
    "duration": 14,
    "start_time": "2021-06-30T08:28:12.720Z"
   },
   {
    "duration": 18,
    "start_time": "2021-06-30T08:29:19.352Z"
   },
   {
    "duration": 32,
    "start_time": "2021-06-30T08:33:06.174Z"
   },
   {
    "duration": 53,
    "start_time": "2021-06-30T08:33:37.285Z"
   },
   {
    "duration": 25,
    "start_time": "2021-06-30T08:34:40.622Z"
   },
   {
    "duration": 30,
    "start_time": "2021-06-30T08:35:28.616Z"
   },
   {
    "duration": 92,
    "start_time": "2021-06-30T08:53:42.886Z"
   },
   {
    "duration": 1639,
    "start_time": "2021-06-30T08:55:47.245Z"
   },
   {
    "duration": 230,
    "start_time": "2021-06-30T08:55:48.887Z"
   },
   {
    "duration": 28,
    "start_time": "2021-06-30T08:55:49.122Z"
   },
   {
    "duration": 48,
    "start_time": "2021-06-30T08:55:49.154Z"
   },
   {
    "duration": 54,
    "start_time": "2021-06-30T08:55:49.206Z"
   },
   {
    "duration": 15,
    "start_time": "2021-06-30T08:55:49.262Z"
   },
   {
    "duration": 56,
    "start_time": "2021-06-30T08:55:49.279Z"
   },
   {
    "duration": 19,
    "start_time": "2021-06-30T08:55:49.339Z"
   },
   {
    "duration": 788,
    "start_time": "2021-06-30T08:55:49.361Z"
   },
   {
    "duration": 575,
    "start_time": "2021-06-30T08:55:50.151Z"
   },
   {
    "duration": 27,
    "start_time": "2021-06-30T08:55:50.728Z"
   },
   {
    "duration": 71,
    "start_time": "2021-06-30T08:55:50.758Z"
   },
   {
    "duration": 26,
    "start_time": "2021-06-30T10:09:10.386Z"
   },
   {
    "duration": 20,
    "start_time": "2021-06-30T10:44:12.903Z"
   },
   {
    "duration": 446,
    "start_time": "2021-06-30T10:50:03.596Z"
   },
   {
    "duration": 5,
    "start_time": "2021-06-30T10:50:10.748Z"
   },
   {
    "duration": 7575,
    "start_time": "2021-06-30T10:50:11.748Z"
   },
   {
    "duration": 30,
    "start_time": "2021-06-30T10:51:51.648Z"
   },
   {
    "duration": 23,
    "start_time": "2021-06-30T10:52:04.422Z"
   },
   {
    "duration": 13,
    "start_time": "2021-06-30T10:52:21.409Z"
   },
   {
    "duration": 6,
    "start_time": "2021-06-30T11:28:39.041Z"
   },
   {
    "duration": 11,
    "start_time": "2021-06-30T11:28:52.568Z"
   },
   {
    "duration": 28,
    "start_time": "2021-06-30T11:40:25.301Z"
   },
   {
    "duration": 26,
    "start_time": "2021-06-30T11:40:44.870Z"
   },
   {
    "duration": 330,
    "start_time": "2021-06-30T11:43:29.344Z"
   },
   {
    "duration": 29,
    "start_time": "2021-06-30T11:44:14.335Z"
   },
   {
    "duration": 27,
    "start_time": "2021-06-30T11:44:55.993Z"
   },
   {
    "duration": 8,
    "start_time": "2021-06-30T11:45:51.346Z"
   },
   {
    "duration": 33,
    "start_time": "2021-06-30T11:46:02.484Z"
   },
   {
    "duration": 28,
    "start_time": "2021-06-30T11:46:18.116Z"
   },
   {
    "duration": 6,
    "start_time": "2021-06-30T11:46:37.737Z"
   },
   {
    "duration": 29,
    "start_time": "2021-06-30T11:46:38.538Z"
   },
   {
    "duration": 6,
    "start_time": "2021-06-30T11:46:53.714Z"
   },
   {
    "duration": 15,
    "start_time": "2021-06-30T11:46:54.298Z"
   },
   {
    "duration": 27,
    "start_time": "2021-06-30T11:46:54.867Z"
   },
   {
    "duration": 646,
    "start_time": "2021-06-30T12:43:14.044Z"
   },
   {
    "duration": 30,
    "start_time": "2021-06-30T13:10:26.420Z"
   },
   {
    "duration": 23,
    "start_time": "2021-06-30T13:24:15.421Z"
   },
   {
    "duration": 1185,
    "start_time": "2021-06-30T13:27:13.868Z"
   },
   {
    "duration": 1370,
    "start_time": "2021-06-30T13:27:37.428Z"
   },
   {
    "duration": 1125,
    "start_time": "2021-06-30T13:30:19.416Z"
   },
   {
    "duration": 977,
    "start_time": "2021-06-30T13:30:38.810Z"
   },
   {
    "duration": 707,
    "start_time": "2021-06-30T13:31:45.084Z"
   },
   {
    "duration": 811,
    "start_time": "2021-06-30T13:32:44.107Z"
   },
   {
    "duration": 704,
    "start_time": "2021-06-30T13:35:42.781Z"
   },
   {
    "duration": 516,
    "start_time": "2021-06-30T13:37:18.561Z"
   },
   {
    "duration": 654,
    "start_time": "2021-06-30T13:37:33.329Z"
   },
   {
    "duration": 653,
    "start_time": "2021-06-30T13:40:50.878Z"
   },
   {
    "duration": 775,
    "start_time": "2021-06-30T13:42:09.349Z"
   },
   {
    "duration": 844,
    "start_time": "2021-06-30T13:42:33.310Z"
   },
   {
    "duration": 645,
    "start_time": "2021-06-30T13:42:36.782Z"
   },
   {
    "duration": 632,
    "start_time": "2021-06-30T13:42:55.792Z"
   },
   {
    "duration": 662,
    "start_time": "2021-06-30T13:45:48.018Z"
   },
   {
    "duration": 36,
    "start_time": "2021-06-30T13:48:35.935Z"
   },
   {
    "duration": 5,
    "start_time": "2021-06-30T13:51:59.591Z"
   },
   {
    "duration": 14,
    "start_time": "2021-06-30T13:52:00.089Z"
   },
   {
    "duration": 34,
    "start_time": "2021-06-30T13:52:00.587Z"
   },
   {
    "duration": 702,
    "start_time": "2021-06-30T13:52:01.233Z"
   },
   {
    "duration": 648,
    "start_time": "2021-06-30T13:52:08.418Z"
   },
   {
    "duration": 7578,
    "start_time": "2021-06-30T13:52:09.890Z"
   },
   {
    "duration": 777,
    "start_time": "2021-06-30T13:52:44.794Z"
   },
   {
    "duration": 231,
    "start_time": "2021-06-30T14:08:30.545Z"
   },
   {
    "duration": 22,
    "start_time": "2021-06-30T14:08:31.964Z"
   },
   {
    "duration": 6,
    "start_time": "2021-06-30T14:08:32.570Z"
   },
   {
    "duration": 24,
    "start_time": "2021-06-30T14:08:33.314Z"
   },
   {
    "duration": 35,
    "start_time": "2021-06-30T14:08:34.082Z"
   },
   {
    "duration": 841,
    "start_time": "2021-06-30T14:08:35.442Z"
   },
   {
    "duration": 6939,
    "start_time": "2021-06-30T14:08:39.530Z"
   },
   {
    "duration": -599,
    "start_time": "2021-06-30T14:08:47.071Z"
   },
   {
    "duration": 621,
    "start_time": "2021-06-30T14:09:01.843Z"
   },
   {
    "duration": 647,
    "start_time": "2021-06-30T14:09:08.955Z"
   },
   {
    "duration": 32,
    "start_time": "2021-06-30T14:09:10.964Z"
   },
   {
    "duration": 43,
    "start_time": "2021-06-30T14:12:31.927Z"
   },
   {
    "duration": 14,
    "start_time": "2021-06-30T14:20:43.391Z"
   },
   {
    "duration": 13,
    "start_time": "2021-06-30T14:40:50.184Z"
   },
   {
    "duration": 312,
    "start_time": "2021-06-30T14:41:48.321Z"
   },
   {
    "duration": 3922,
    "start_time": "2021-06-30T14:42:08.266Z"
   },
   {
    "duration": -590,
    "start_time": "2021-06-30T14:42:12.781Z"
   },
   {
    "duration": 6,
    "start_time": "2021-06-30T14:42:23.369Z"
   },
   {
    "duration": 21,
    "start_time": "2021-06-30T14:42:24.162Z"
   },
   {
    "duration": 31,
    "start_time": "2021-06-30T14:42:52.004Z"
   },
   {
    "duration": 31,
    "start_time": "2021-06-30T14:42:59.061Z"
   },
   {
    "duration": 96,
    "start_time": "2021-06-30T14:46:49.553Z"
   },
   {
    "duration": 13,
    "start_time": "2021-06-30T14:46:55.711Z"
   },
   {
    "duration": 17,
    "start_time": "2021-06-30T15:34:25.468Z"
   },
   {
    "duration": 21,
    "start_time": "2021-06-30T15:35:15.852Z"
   },
   {
    "duration": 28,
    "start_time": "2021-06-30T15:35:58.359Z"
   },
   {
    "duration": 6,
    "start_time": "2021-06-30T15:36:13.532Z"
   },
   {
    "duration": 17,
    "start_time": "2021-06-30T15:36:20.223Z"
   },
   {
    "duration": 10915,
    "start_time": "2021-06-30T15:43:17.852Z"
   },
   {
    "duration": 5,
    "start_time": "2021-06-30T15:44:49.455Z"
   },
   {
    "duration": 18,
    "start_time": "2021-06-30T15:45:57.792Z"
   },
   {
    "duration": 16,
    "start_time": "2021-06-30T15:47:11.675Z"
   },
   {
    "duration": 16,
    "start_time": "2021-06-30T15:47:25.954Z"
   },
   {
    "duration": 17,
    "start_time": "2021-06-30T15:47:48.459Z"
   },
   {
    "duration": 6,
    "start_time": "2021-06-30T15:48:28.044Z"
   },
   {
    "duration": 293,
    "start_time": "2021-06-30T15:49:02.948Z"
   },
   {
    "duration": 15,
    "start_time": "2021-06-30T15:49:25.460Z"
   },
   {
    "duration": 34,
    "start_time": "2021-06-30T15:49:26.125Z"
   },
   {
    "duration": 35,
    "start_time": "2021-06-30T15:50:17.613Z"
   },
   {
    "duration": 658,
    "start_time": "2021-06-30T15:50:18.284Z"
   },
   {
    "duration": 631,
    "start_time": "2021-06-30T15:50:19.157Z"
   },
   {
    "duration": 663,
    "start_time": "2021-06-30T15:50:20.189Z"
   },
   {
    "duration": 57,
    "start_time": "2021-06-30T15:51:23.415Z"
   },
   {
    "duration": 303,
    "start_time": "2021-06-30T15:51:46.224Z"
   },
   {
    "duration": 66,
    "start_time": "2021-06-30T15:51:58.535Z"
   },
   {
    "duration": 68,
    "start_time": "2021-06-30T15:53:07.114Z"
   },
   {
    "duration": 66,
    "start_time": "2021-06-30T15:53:53.634Z"
   },
   {
    "duration": 66,
    "start_time": "2021-06-30T15:54:13.618Z"
   },
   {
    "duration": 117,
    "start_time": "2021-06-30T15:58:07.314Z"
   },
   {
    "duration": 22,
    "start_time": "2021-06-30T16:03:39.509Z"
   },
   {
    "duration": 37,
    "start_time": "2021-06-30T16:07:24.170Z"
   },
   {
    "duration": 17,
    "start_time": "2021-06-30T16:12:14.161Z"
   },
   {
    "duration": 25,
    "start_time": "2021-06-30T16:12:38.098Z"
   },
   {
    "duration": 25,
    "start_time": "2021-06-30T16:13:00.217Z"
   },
   {
    "duration": 23,
    "start_time": "2021-06-30T16:14:30.931Z"
   },
   {
    "duration": 24,
    "start_time": "2021-06-30T16:15:11.653Z"
   },
   {
    "duration": 37,
    "start_time": "2021-06-30T16:22:50.788Z"
   },
   {
    "duration": 24,
    "start_time": "2021-06-30T17:16:58.759Z"
   },
   {
    "duration": 136,
    "start_time": "2021-06-30T17:25:05.441Z"
   },
   {
    "duration": 36,
    "start_time": "2021-06-30T17:25:14.951Z"
   },
   {
    "duration": 35,
    "start_time": "2021-06-30T17:27:02.404Z"
   },
   {
    "duration": 41,
    "start_time": "2021-06-30T17:27:53.766Z"
   },
   {
    "duration": 19,
    "start_time": "2021-06-30T17:28:52.446Z"
   },
   {
    "duration": 7,
    "start_time": "2021-06-30T19:36:52.837Z"
   },
   {
    "duration": 642,
    "start_time": "2021-06-30T19:47:11.215Z"
   },
   {
    "duration": 573,
    "start_time": "2021-06-30T19:47:55.515Z"
   },
   {
    "duration": 28,
    "start_time": "2021-06-30T19:49:54.843Z"
   },
   {
    "duration": 26,
    "start_time": "2021-06-30T19:50:59.661Z"
   },
   {
    "duration": 101,
    "start_time": "2021-06-30T19:51:34.229Z"
   },
   {
    "duration": 29,
    "start_time": "2021-06-30T19:51:53.551Z"
   },
   {
    "duration": 20,
    "start_time": "2021-06-30T19:53:25.040Z"
   },
   {
    "duration": 21,
    "start_time": "2021-06-30T19:55:20.314Z"
   },
   {
    "duration": 12,
    "start_time": "2021-06-30T19:59:23.185Z"
   },
   {
    "duration": 23,
    "start_time": "2021-06-30T20:01:12.215Z"
   },
   {
    "duration": 1570,
    "start_time": "2021-06-30T20:01:49.905Z"
   },
   {
    "duration": 204,
    "start_time": "2021-06-30T20:01:51.478Z"
   },
   {
    "duration": 50,
    "start_time": "2021-06-30T20:01:51.685Z"
   },
   {
    "duration": 20,
    "start_time": "2021-06-30T20:01:51.740Z"
   },
   {
    "duration": 5,
    "start_time": "2021-06-30T20:01:51.764Z"
   },
   {
    "duration": 19,
    "start_time": "2021-06-30T20:01:51.771Z"
   },
   {
    "duration": 34,
    "start_time": "2021-06-30T20:01:51.792Z"
   },
   {
    "duration": 17,
    "start_time": "2021-06-30T20:01:51.830Z"
   },
   {
    "duration": 100,
    "start_time": "2021-06-30T20:01:51.850Z"
   },
   {
    "duration": 780,
    "start_time": "2021-06-30T20:01:51.953Z"
   },
   {
    "duration": 645,
    "start_time": "2021-06-30T20:01:52.736Z"
   },
   {
    "duration": 756,
    "start_time": "2021-06-30T20:01:53.383Z"
   },
   {
    "duration": 121,
    "start_time": "2021-06-30T20:01:54.141Z"
   },
   {
    "duration": 22,
    "start_time": "2021-06-30T20:01:54.265Z"
   },
   {
    "duration": 43,
    "start_time": "2021-06-30T20:01:54.289Z"
   },
   {
    "duration": 34,
    "start_time": "2021-06-30T20:01:54.334Z"
   },
   {
    "duration": 7,
    "start_time": "2021-06-30T20:01:54.370Z"
   },
   {
    "duration": 57,
    "start_time": "2021-06-30T20:01:54.379Z"
   },
   {
    "duration": 20,
    "start_time": "2021-06-30T20:01:54.438Z"
   },
   {
    "duration": 83,
    "start_time": "2021-06-30T20:01:54.461Z"
   },
   {
    "duration": 95,
    "start_time": "2021-06-30T20:01:54.547Z"
   },
   {
    "duration": -375,
    "start_time": "2021-06-30T20:01:55.020Z"
   },
   {
    "duration": -394,
    "start_time": "2021-06-30T20:01:55.040Z"
   },
   {
    "duration": -409,
    "start_time": "2021-06-30T20:01:55.057Z"
   },
   {
    "duration": -416,
    "start_time": "2021-06-30T20:01:55.065Z"
   },
   {
    "duration": -429,
    "start_time": "2021-06-30T20:01:55.080Z"
   },
   {
    "duration": 89,
    "start_time": "2021-06-30T20:07:14.348Z"
   },
   {
    "duration": 12,
    "start_time": "2021-06-30T20:07:23.893Z"
   },
   {
    "duration": 18,
    "start_time": "2021-06-30T20:07:48.896Z"
   },
   {
    "duration": 429,
    "start_time": "2021-06-30T20:09:58.648Z"
   },
   {
    "duration": 16,
    "start_time": "2021-06-30T20:10:20.326Z"
   },
   {
    "duration": 90,
    "start_time": "2021-06-30T20:10:23.112Z"
   },
   {
    "duration": 68,
    "start_time": "2021-06-30T20:13:02.331Z"
   },
   {
    "duration": 64,
    "start_time": "2021-06-30T20:13:10.052Z"
   },
   {
    "duration": 59,
    "start_time": "2021-06-30T20:16:03.582Z"
   },
   {
    "duration": 34,
    "start_time": "2021-06-30T20:19:24.348Z"
   },
   {
    "duration": 304,
    "start_time": "2021-06-30T20:22:10.087Z"
   },
   {
    "duration": 22,
    "start_time": "2021-06-30T20:22:21.830Z"
   },
   {
    "duration": 26,
    "start_time": "2021-06-30T20:24:50.849Z"
   },
   {
    "duration": 1554,
    "start_time": "2021-06-30T20:29:23.322Z"
   },
   {
    "duration": 205,
    "start_time": "2021-06-30T20:29:24.879Z"
   },
   {
    "duration": 49,
    "start_time": "2021-06-30T20:29:25.087Z"
   },
   {
    "duration": 13,
    "start_time": "2021-06-30T20:29:25.139Z"
   },
   {
    "duration": 16,
    "start_time": "2021-06-30T20:29:25.154Z"
   },
   {
    "duration": 24,
    "start_time": "2021-06-30T20:29:25.173Z"
   },
   {
    "duration": 4,
    "start_time": "2021-06-30T20:29:25.200Z"
   },
   {
    "duration": 16,
    "start_time": "2021-06-30T20:29:25.227Z"
   },
   {
    "duration": 94,
    "start_time": "2021-06-30T20:29:25.246Z"
   },
   {
    "duration": 685,
    "start_time": "2021-06-30T20:29:25.343Z"
   },
   {
    "duration": 750,
    "start_time": "2021-06-30T20:29:26.031Z"
   },
   {
    "duration": 772,
    "start_time": "2021-06-30T20:29:26.784Z"
   },
   {
    "duration": 123,
    "start_time": "2021-06-30T20:29:27.559Z"
   },
   {
    "duration": 22,
    "start_time": "2021-06-30T20:29:27.685Z"
   },
   {
    "duration": 519,
    "start_time": "2021-06-30T20:29:27.709Z"
   },
   {
    "duration": -163,
    "start_time": "2021-06-30T20:29:28.394Z"
   },
   {
    "duration": -169,
    "start_time": "2021-06-30T20:29:28.401Z"
   },
   {
    "duration": -181,
    "start_time": "2021-06-30T20:29:28.415Z"
   },
   {
    "duration": -195,
    "start_time": "2021-06-30T20:29:28.430Z"
   },
   {
    "duration": -203,
    "start_time": "2021-06-30T20:29:28.447Z"
   },
   {
    "duration": -210,
    "start_time": "2021-06-30T20:29:28.456Z"
   },
   {
    "duration": -224,
    "start_time": "2021-06-30T20:29:28.471Z"
   },
   {
    "duration": -241,
    "start_time": "2021-06-30T20:29:28.489Z"
   },
   {
    "duration": -257,
    "start_time": "2021-06-30T20:29:28.507Z"
   },
   {
    "duration": -274,
    "start_time": "2021-06-30T20:29:28.525Z"
   },
   {
    "duration": -288,
    "start_time": "2021-06-30T20:29:28.541Z"
   },
   {
    "duration": 23,
    "start_time": "2021-06-30T20:31:30.322Z"
   },
   {
    "duration": 1581,
    "start_time": "2021-06-30T20:32:21.030Z"
   },
   {
    "duration": 210,
    "start_time": "2021-06-30T20:32:22.614Z"
   },
   {
    "duration": 48,
    "start_time": "2021-06-30T20:32:22.827Z"
   },
   {
    "duration": 13,
    "start_time": "2021-06-30T20:32:22.878Z"
   },
   {
    "duration": 4,
    "start_time": "2021-06-30T20:32:22.925Z"
   },
   {
    "duration": 21,
    "start_time": "2021-06-30T20:32:22.932Z"
   },
   {
    "duration": 5,
    "start_time": "2021-06-30T20:32:22.955Z"
   },
   {
    "duration": 61,
    "start_time": "2021-06-30T20:32:22.965Z"
   },
   {
    "duration": 74,
    "start_time": "2021-06-30T20:32:23.029Z"
   },
   {
    "duration": 770,
    "start_time": "2021-06-30T20:32:23.105Z"
   },
   {
    "duration": 660,
    "start_time": "2021-06-30T20:32:23.877Z"
   },
   {
    "duration": 766,
    "start_time": "2021-06-30T20:32:24.540Z"
   },
   {
    "duration": 134,
    "start_time": "2021-06-30T20:32:25.310Z"
   },
   {
    "duration": 22,
    "start_time": "2021-06-30T20:32:25.446Z"
   },
   {
    "duration": 34,
    "start_time": "2021-06-30T20:32:25.470Z"
   },
   {
    "duration": 31,
    "start_time": "2021-06-30T20:32:25.524Z"
   },
   {
    "duration": 81,
    "start_time": "2021-06-30T20:32:25.557Z"
   },
   {
    "duration": 14,
    "start_time": "2021-06-30T20:32:25.641Z"
   },
   {
    "duration": 39,
    "start_time": "2021-06-30T20:32:25.658Z"
   },
   {
    "duration": 56,
    "start_time": "2021-06-30T20:32:25.700Z"
   },
   {
    "duration": 94,
    "start_time": "2021-06-30T20:32:25.759Z"
   },
   {
    "duration": -264,
    "start_time": "2021-06-30T20:32:26.121Z"
   },
   {
    "duration": -271,
    "start_time": "2021-06-30T20:32:26.129Z"
   },
   {
    "duration": -285,
    "start_time": "2021-06-30T20:32:26.145Z"
   },
   {
    "duration": -298,
    "start_time": "2021-06-30T20:32:26.161Z"
   },
   {
    "duration": -312,
    "start_time": "2021-06-30T20:32:26.177Z"
   },
   {
    "duration": 1456,
    "start_time": "2021-07-01T06:05:17.338Z"
   },
   {
    "duration": 184,
    "start_time": "2021-07-01T06:05:18.796Z"
   },
   {
    "duration": 49,
    "start_time": "2021-07-01T06:05:18.984Z"
   },
   {
    "duration": 14,
    "start_time": "2021-07-01T06:05:19.037Z"
   },
   {
    "duration": 34,
    "start_time": "2021-07-01T06:05:19.053Z"
   },
   {
    "duration": 16,
    "start_time": "2021-07-01T06:05:19.089Z"
   },
   {
    "duration": 4,
    "start_time": "2021-07-01T06:05:19.108Z"
   },
   {
    "duration": 18,
    "start_time": "2021-07-01T06:05:19.116Z"
   },
   {
    "duration": 103,
    "start_time": "2021-07-01T06:05:19.137Z"
   },
   {
    "duration": 634,
    "start_time": "2021-07-01T06:05:19.242Z"
   },
   {
    "duration": 598,
    "start_time": "2021-07-01T06:05:19.878Z"
   },
   {
    "duration": 699,
    "start_time": "2021-07-01T06:05:20.478Z"
   },
   {
    "duration": 112,
    "start_time": "2021-07-01T06:05:21.184Z"
   },
   {
    "duration": 21,
    "start_time": "2021-07-01T06:05:21.298Z"
   },
   {
    "duration": 28,
    "start_time": "2021-07-01T06:05:21.321Z"
   },
   {
    "duration": 56,
    "start_time": "2021-07-01T06:05:21.351Z"
   },
   {
    "duration": 49,
    "start_time": "2021-07-01T06:05:21.409Z"
   },
   {
    "duration": 106,
    "start_time": "2021-07-01T06:05:21.460Z"
   },
   {
    "duration": -1094,
    "start_time": "2021-07-01T06:05:22.662Z"
   },
   {
    "duration": -1107,
    "start_time": "2021-07-01T06:05:22.676Z"
   },
   {
    "duration": -1114,
    "start_time": "2021-07-01T06:05:22.685Z"
   },
   {
    "duration": -1119,
    "start_time": "2021-07-01T06:05:22.691Z"
   },
   {
    "duration": -1129,
    "start_time": "2021-07-01T06:05:22.702Z"
   },
   {
    "duration": -1134,
    "start_time": "2021-07-01T06:05:22.709Z"
   },
   {
    "duration": -1145,
    "start_time": "2021-07-01T06:05:22.721Z"
   },
   {
    "duration": -1149,
    "start_time": "2021-07-01T06:05:22.726Z"
   },
   {
    "duration": -1161,
    "start_time": "2021-07-01T06:05:22.740Z"
   },
   {
    "duration": 23,
    "start_time": "2021-07-01T06:06:54.188Z"
   },
   {
    "duration": 14,
    "start_time": "2021-07-01T06:07:57.563Z"
   },
   {
    "duration": 54,
    "start_time": "2021-07-01T06:41:14.998Z"
   },
   {
    "duration": 69,
    "start_time": "2021-07-01T06:41:26.675Z"
   },
   {
    "duration": 54,
    "start_time": "2021-07-01T06:42:05.693Z"
   },
   {
    "duration": 13,
    "start_time": "2021-07-01T06:45:18.141Z"
   },
   {
    "duration": 56,
    "start_time": "2021-07-01T06:45:29.758Z"
   },
   {
    "duration": 140,
    "start_time": "2021-07-01T06:46:27.097Z"
   },
   {
    "duration": 39,
    "start_time": "2021-07-01T06:46:48.535Z"
   },
   {
    "duration": 30,
    "start_time": "2021-07-01T06:46:58.198Z"
   },
   {
    "duration": 35,
    "start_time": "2021-07-01T06:47:30.055Z"
   },
   {
    "duration": 35,
    "start_time": "2021-07-01T06:48:00.691Z"
   },
   {
    "duration": 15,
    "start_time": "2021-07-01T06:49:07.322Z"
   },
   {
    "duration": 88,
    "start_time": "2021-07-01T06:50:08.452Z"
   },
   {
    "duration": 27,
    "start_time": "2021-07-01T06:50:14.588Z"
   },
   {
    "duration": 10,
    "start_time": "2021-07-01T06:51:33.516Z"
   },
   {
    "duration": 12,
    "start_time": "2021-07-01T06:51:49.964Z"
   },
   {
    "duration": 17,
    "start_time": "2021-07-01T06:52:05.228Z"
   },
   {
    "duration": 18,
    "start_time": "2021-07-01T06:53:57.743Z"
   },
   {
    "duration": 16,
    "start_time": "2021-07-01T06:54:51.242Z"
   },
   {
    "duration": 409,
    "start_time": "2021-07-01T06:57:11.020Z"
   },
   {
    "duration": 17,
    "start_time": "2021-07-01T06:57:19.283Z"
   },
   {
    "duration": 277,
    "start_time": "2021-07-01T07:25:21.827Z"
   },
   {
    "duration": 11,
    "start_time": "2021-07-01T07:25:42.561Z"
   },
   {
    "duration": 274,
    "start_time": "2021-07-01T07:25:53.427Z"
   },
   {
    "duration": 263,
    "start_time": "2021-07-01T07:26:13.501Z"
   },
   {
    "duration": 285,
    "start_time": "2021-07-01T07:26:26.883Z"
   },
   {
    "duration": 8,
    "start_time": "2021-07-01T07:27:08.652Z"
   },
   {
    "duration": 5,
    "start_time": "2021-07-01T07:27:31.436Z"
   },
   {
    "duration": 52,
    "start_time": "2021-07-01T07:35:34.175Z"
   },
   {
    "duration": 44,
    "start_time": "2021-07-01T07:36:40.656Z"
   },
   {
    "duration": 51,
    "start_time": "2021-07-01T07:42:07.239Z"
   },
   {
    "duration": 44,
    "start_time": "2021-07-01T07:42:46.545Z"
   },
   {
    "duration": 16,
    "start_time": "2021-07-01T07:43:02.912Z"
   },
   {
    "duration": 37,
    "start_time": "2021-07-01T07:43:19.809Z"
   },
   {
    "duration": 123,
    "start_time": "2021-07-01T07:43:39.435Z"
   },
   {
    "duration": 673,
    "start_time": "2021-07-01T07:48:56.783Z"
   },
   {
    "duration": 671,
    "start_time": "2021-07-01T07:49:57.071Z"
   },
   {
    "duration": 646,
    "start_time": "2021-07-01T07:50:57.330Z"
   },
   {
    "duration": 647,
    "start_time": "2021-07-01T07:51:32.459Z"
   },
   {
    "duration": 653,
    "start_time": "2021-07-01T07:51:33.938Z"
   },
   {
    "duration": 764,
    "start_time": "2021-07-01T07:51:35.314Z"
   },
   {
    "duration": 12,
    "start_time": "2021-07-01T07:55:58.711Z"
   },
   {
    "duration": 10,
    "start_time": "2021-07-01T07:56:10.463Z"
   },
   {
    "duration": 11,
    "start_time": "2021-07-01T07:56:19.976Z"
   },
   {
    "duration": 10,
    "start_time": "2021-07-01T07:57:02.657Z"
   },
   {
    "duration": 17,
    "start_time": "2021-07-01T07:57:03.448Z"
   },
   {
    "duration": 6,
    "start_time": "2021-07-01T07:57:07.577Z"
   },
   {
    "duration": 10,
    "start_time": "2021-07-01T07:57:08.048Z"
   },
   {
    "duration": 22,
    "start_time": "2021-07-01T07:59:21.596Z"
   },
   {
    "duration": 15,
    "start_time": "2021-07-01T07:59:52.100Z"
   },
   {
    "duration": 17,
    "start_time": "2021-07-01T08:00:01.293Z"
   },
   {
    "duration": 301,
    "start_time": "2021-07-01T08:01:38.542Z"
   },
   {
    "duration": 1577,
    "start_time": "2021-07-01T08:01:44.859Z"
   },
   {
    "duration": 198,
    "start_time": "2021-07-01T08:01:46.438Z"
   },
   {
    "duration": 59,
    "start_time": "2021-07-01T08:01:46.639Z"
   },
   {
    "duration": 14,
    "start_time": "2021-07-01T08:01:46.701Z"
   },
   {
    "duration": 6,
    "start_time": "2021-07-01T08:01:46.717Z"
   },
   {
    "duration": 19,
    "start_time": "2021-07-01T08:01:46.726Z"
   },
   {
    "duration": 39,
    "start_time": "2021-07-01T08:01:46.747Z"
   },
   {
    "duration": 32,
    "start_time": "2021-07-01T08:01:46.791Z"
   },
   {
    "duration": 99,
    "start_time": "2021-07-01T08:01:46.827Z"
   },
   {
    "duration": 681,
    "start_time": "2021-07-01T08:01:46.928Z"
   },
   {
    "duration": 680,
    "start_time": "2021-07-01T08:01:47.612Z"
   },
   {
    "duration": 768,
    "start_time": "2021-07-01T08:01:48.295Z"
   },
   {
    "duration": 144,
    "start_time": "2021-07-01T08:01:49.065Z"
   },
   {
    "duration": 20,
    "start_time": "2021-07-01T08:01:49.211Z"
   },
   {
    "duration": 31,
    "start_time": "2021-07-01T08:01:49.234Z"
   },
   {
    "duration": 57,
    "start_time": "2021-07-01T08:01:49.267Z"
   },
   {
    "duration": 85,
    "start_time": "2021-07-01T08:01:49.327Z"
   },
   {
    "duration": 16,
    "start_time": "2021-07-01T08:01:49.415Z"
   },
   {
    "duration": 3,
    "start_time": "2021-07-01T08:01:49.434Z"
   },
   {
    "duration": 84,
    "start_time": "2021-07-01T08:01:49.440Z"
   },
   {
    "duration": 16,
    "start_time": "2021-07-01T08:01:49.526Z"
   },
   {
    "duration": 52,
    "start_time": "2021-07-01T08:01:49.544Z"
   },
   {
    "duration": 5,
    "start_time": "2021-07-01T08:01:49.600Z"
   },
   {
    "duration": 10,
    "start_time": "2021-07-01T08:01:49.608Z"
   },
   {
    "duration": 90,
    "start_time": "2021-07-01T08:01:49.620Z"
   },
   {
    "duration": -1131,
    "start_time": "2021-07-01T08:01:50.844Z"
   },
   {
    "duration": -1153,
    "start_time": "2021-07-01T08:01:50.867Z"
   },
   {
    "duration": -1160,
    "start_time": "2021-07-01T08:01:50.876Z"
   },
   {
    "duration": -1178,
    "start_time": "2021-07-01T08:01:50.895Z"
   },
   {
    "duration": -1192,
    "start_time": "2021-07-01T08:01:50.910Z"
   },
   {
    "duration": -1208,
    "start_time": "2021-07-01T08:01:50.928Z"
   },
   {
    "duration": 85,
    "start_time": "2021-07-01T08:23:42.749Z"
   },
   {
    "duration": 80,
    "start_time": "2021-07-01T08:23:54.952Z"
   },
   {
    "duration": 17,
    "start_time": "2021-07-01T08:25:31.759Z"
   },
   {
    "duration": 95,
    "start_time": "2021-07-01T08:27:47.610Z"
   },
   {
    "duration": 21,
    "start_time": "2021-07-01T08:31:12.526Z"
   },
   {
    "duration": 44,
    "start_time": "2021-07-01T08:45:28.438Z"
   },
   {
    "duration": 53,
    "start_time": "2021-07-01T08:45:32.973Z"
   },
   {
    "duration": 37,
    "start_time": "2021-07-01T08:47:44.599Z"
   },
   {
    "duration": 37,
    "start_time": "2021-07-01T08:47:58.809Z"
   },
   {
    "duration": 14,
    "start_time": "2021-07-01T08:48:26.640Z"
   },
   {
    "duration": 1187,
    "start_time": "2021-07-01T09:10:24.882Z"
   },
   {
    "duration": 632,
    "start_time": "2021-07-01T09:10:45.810Z"
   },
   {
    "duration": 709,
    "start_time": "2021-07-01T09:10:46.826Z"
   },
   {
    "duration": 677,
    "start_time": "2021-07-01T09:10:52.633Z"
   },
   {
    "duration": 1414,
    "start_time": "2021-07-01T09:12:24.902Z"
   },
   {
    "duration": 195,
    "start_time": "2021-07-01T09:12:26.319Z"
   },
   {
    "duration": 56,
    "start_time": "2021-07-01T09:12:26.518Z"
   },
   {
    "duration": 12,
    "start_time": "2021-07-01T09:12:26.577Z"
   },
   {
    "duration": 5,
    "start_time": "2021-07-01T09:12:26.592Z"
   },
   {
    "duration": 21,
    "start_time": "2021-07-01T09:12:26.599Z"
   },
   {
    "duration": 4,
    "start_time": "2021-07-01T09:12:26.623Z"
   },
   {
    "duration": 21,
    "start_time": "2021-07-01T09:12:26.631Z"
   },
   {
    "duration": 88,
    "start_time": "2021-07-01T09:12:26.654Z"
   },
   {
    "duration": 144,
    "start_time": "2021-07-01T09:12:26.744Z"
   },
   {
    "duration": 22,
    "start_time": "2021-07-01T09:12:26.891Z"
   },
   {
    "duration": 27,
    "start_time": "2021-07-01T09:12:26.916Z"
   },
   {
    "duration": 65,
    "start_time": "2021-07-01T09:12:26.945Z"
   },
   {
    "duration": 72,
    "start_time": "2021-07-01T09:12:27.012Z"
   },
   {
    "duration": 16,
    "start_time": "2021-07-01T09:12:27.086Z"
   },
   {
    "duration": 3,
    "start_time": "2021-07-01T09:12:27.105Z"
   },
   {
    "duration": 76,
    "start_time": "2021-07-01T09:12:27.111Z"
   },
   {
    "duration": 15,
    "start_time": "2021-07-01T09:12:27.190Z"
   },
   {
    "duration": 17,
    "start_time": "2021-07-01T09:12:27.207Z"
   },
   {
    "duration": 4,
    "start_time": "2021-07-01T09:12:27.227Z"
   },
   {
    "duration": 50,
    "start_time": "2021-07-01T09:12:27.234Z"
   },
   {
    "duration": 76,
    "start_time": "2021-07-01T09:12:27.286Z"
   },
   {
    "duration": 15,
    "start_time": "2021-07-01T09:12:27.386Z"
   },
   {
    "duration": 24,
    "start_time": "2021-07-01T09:12:27.403Z"
   },
   {
    "duration": 69,
    "start_time": "2021-07-01T09:12:27.429Z"
   },
   {
    "duration": 36,
    "start_time": "2021-07-01T09:12:27.500Z"
   },
   {
    "duration": 45,
    "start_time": "2021-07-01T09:12:27.538Z"
   },
   {
    "duration": 80,
    "start_time": "2021-07-01T09:12:27.586Z"
   },
   {
    "duration": -1051,
    "start_time": "2021-07-01T09:12:28.719Z"
   },
   {
    "duration": -1069,
    "start_time": "2021-07-01T09:12:28.739Z"
   },
   {
    "duration": -1076,
    "start_time": "2021-07-01T09:12:28.747Z"
   },
   {
    "duration": -1085,
    "start_time": "2021-07-01T09:12:28.758Z"
   },
   {
    "duration": -1098,
    "start_time": "2021-07-01T09:12:28.772Z"
   },
   {
    "duration": 10,
    "start_time": "2021-07-01T09:19:10.444Z"
   },
   {
    "duration": 27,
    "start_time": "2021-07-01T09:21:31.439Z"
   },
   {
    "duration": 31,
    "start_time": "2021-07-01T09:25:54.732Z"
   },
   {
    "duration": 31,
    "start_time": "2021-07-01T09:26:35.813Z"
   },
   {
    "duration": 37,
    "start_time": "2021-07-01T09:30:37.188Z"
   },
   {
    "duration": 458,
    "start_time": "2021-07-01T09:41:43.943Z"
   },
   {
    "duration": 8545,
    "start_time": "2021-07-01T09:44:15.017Z"
   },
   {
    "duration": 264,
    "start_time": "2021-07-01T09:48:48.408Z"
   },
   {
    "duration": 138,
    "start_time": "2021-07-01T09:49:11.128Z"
   },
   {
    "duration": 6603,
    "start_time": "2021-07-01T09:51:37.124Z"
   },
   {
    "duration": 1612,
    "start_time": "2021-07-01T09:52:54.880Z"
   },
   {
    "duration": 334,
    "start_time": "2021-07-01T09:52:56.495Z"
   },
   {
    "duration": 55,
    "start_time": "2021-07-01T09:52:56.832Z"
   },
   {
    "duration": 13,
    "start_time": "2021-07-01T09:52:56.890Z"
   },
   {
    "duration": 5,
    "start_time": "2021-07-01T09:52:56.905Z"
   },
   {
    "duration": 16,
    "start_time": "2021-07-01T09:52:56.913Z"
   },
   {
    "duration": 4,
    "start_time": "2021-07-01T09:52:56.932Z"
   },
   {
    "duration": 59,
    "start_time": "2021-07-01T09:52:56.940Z"
   },
   {
    "duration": 80,
    "start_time": "2021-07-01T09:52:57.003Z"
   },
   {
    "duration": 123,
    "start_time": "2021-07-01T09:52:57.085Z"
   },
   {
    "duration": 20,
    "start_time": "2021-07-01T09:52:57.210Z"
   },
   {
    "duration": 26,
    "start_time": "2021-07-01T09:52:57.232Z"
   },
   {
    "duration": 35,
    "start_time": "2021-07-01T09:52:57.284Z"
   },
   {
    "duration": 74,
    "start_time": "2021-07-01T09:52:57.321Z"
   },
   {
    "duration": 17,
    "start_time": "2021-07-01T09:52:57.398Z"
   },
   {
    "duration": 5,
    "start_time": "2021-07-01T09:52:57.418Z"
   },
   {
    "duration": 78,
    "start_time": "2021-07-01T09:52:57.425Z"
   },
   {
    "duration": 15,
    "start_time": "2021-07-01T09:52:57.505Z"
   },
   {
    "duration": 20,
    "start_time": "2021-07-01T09:52:57.522Z"
   },
   {
    "duration": 9,
    "start_time": "2021-07-01T09:52:57.544Z"
   },
   {
    "duration": 9,
    "start_time": "2021-07-01T09:52:57.584Z"
   },
   {
    "duration": 12,
    "start_time": "2021-07-01T09:52:57.595Z"
   },
   {
    "duration": 6330,
    "start_time": "2021-07-01T09:52:57.613Z"
   },
   {
    "duration": 93,
    "start_time": "2021-07-01T09:53:03.945Z"
   },
   {
    "duration": 17,
    "start_time": "2021-07-01T09:53:04.041Z"
   },
   {
    "duration": 22,
    "start_time": "2021-07-01T09:53:04.084Z"
   },
   {
    "duration": 75,
    "start_time": "2021-07-01T09:53:04.108Z"
   },
   {
    "duration": 38,
    "start_time": "2021-07-01T09:53:04.185Z"
   },
   {
    "duration": 12,
    "start_time": "2021-07-01T09:53:04.226Z"
   },
   {
    "duration": 91,
    "start_time": "2021-07-01T09:53:04.240Z"
   },
   {
    "duration": -986,
    "start_time": "2021-07-01T09:53:05.320Z"
   },
   {
    "duration": -1002,
    "start_time": "2021-07-01T09:53:05.337Z"
   },
   {
    "duration": -1017,
    "start_time": "2021-07-01T09:53:05.354Z"
   },
   {
    "duration": -1034,
    "start_time": "2021-07-01T09:53:05.372Z"
   },
   {
    "duration": -1050,
    "start_time": "2021-07-01T09:53:05.390Z"
   },
   {
    "duration": 39,
    "start_time": "2021-07-01T09:54:49.031Z"
   },
   {
    "duration": 32,
    "start_time": "2021-07-01T09:55:18.924Z"
   },
   {
    "duration": 385,
    "start_time": "2021-07-01T10:01:21.675Z"
   },
   {
    "duration": 5,
    "start_time": "2021-07-01T10:02:28.647Z"
   },
   {
    "duration": 9,
    "start_time": "2021-07-01T10:03:00.103Z"
   },
   {
    "duration": 8,
    "start_time": "2021-07-01T10:03:16.339Z"
   },
   {
    "duration": 93,
    "start_time": "2021-07-01T10:04:45.344Z"
   },
   {
    "duration": 9,
    "start_time": "2021-07-01T10:04:58.889Z"
   },
   {
    "duration": 7,
    "start_time": "2021-07-01T10:05:52.257Z"
   },
   {
    "duration": 8,
    "start_time": "2021-07-01T10:06:09.305Z"
   },
   {
    "duration": 35,
    "start_time": "2021-07-01T10:10:06.974Z"
   },
   {
    "duration": 37,
    "start_time": "2021-07-01T10:10:37.585Z"
   },
   {
    "duration": 449,
    "start_time": "2021-07-01T10:11:46.883Z"
   },
   {
    "duration": 337,
    "start_time": "2021-07-01T10:11:58.314Z"
   },
   {
    "duration": 36,
    "start_time": "2021-07-01T10:12:03.731Z"
   },
   {
    "duration": 6909,
    "start_time": "2021-07-01T10:14:18.563Z"
   },
   {
    "duration": 6537,
    "start_time": "2021-07-01T10:17:12.727Z"
   },
   {
    "duration": 1112,
    "start_time": "2021-07-01T10:19:12.297Z"
   },
   {
    "duration": 106,
    "start_time": "2021-07-01T10:19:40.761Z"
   },
   {
    "duration": 1220,
    "start_time": "2021-07-01T10:19:46.641Z"
   },
   {
    "duration": 11,
    "start_time": "2021-07-01T10:21:12.638Z"
   },
   {
    "duration": 34,
    "start_time": "2021-07-01T10:30:13.538Z"
   },
   {
    "duration": 39,
    "start_time": "2021-07-01T10:31:17.288Z"
   },
   {
    "duration": 32,
    "start_time": "2021-07-01T10:34:09.002Z"
   },
   {
    "duration": 27,
    "start_time": "2021-07-01T10:34:46.501Z"
   },
   {
    "duration": 15,
    "start_time": "2021-07-01T10:36:35.341Z"
   },
   {
    "duration": 18,
    "start_time": "2021-07-01T10:37:19.310Z"
   },
   {
    "duration": 15,
    "start_time": "2021-07-01T10:38:45.359Z"
   },
   {
    "duration": 17,
    "start_time": "2021-07-01T10:39:04.102Z"
   },
   {
    "duration": 15,
    "start_time": "2021-07-01T10:52:52.110Z"
   },
   {
    "duration": 12,
    "start_time": "2021-07-01T10:54:11.373Z"
   },
   {
    "duration": 18,
    "start_time": "2021-07-01T10:54:36.998Z"
   },
   {
    "duration": 11,
    "start_time": "2021-07-01T10:55:21.893Z"
   },
   {
    "duration": 1542,
    "start_time": "2021-07-01T10:56:09.673Z"
   },
   {
    "duration": 211,
    "start_time": "2021-07-01T10:56:11.218Z"
   },
   {
    "duration": 57,
    "start_time": "2021-07-01T10:56:11.433Z"
   },
   {
    "duration": 14,
    "start_time": "2021-07-01T10:56:11.493Z"
   },
   {
    "duration": 5,
    "start_time": "2021-07-01T10:56:11.510Z"
   },
   {
    "duration": 23,
    "start_time": "2021-07-01T10:56:11.518Z"
   },
   {
    "duration": 40,
    "start_time": "2021-07-01T10:56:11.543Z"
   },
   {
    "duration": 16,
    "start_time": "2021-07-01T10:56:11.586Z"
   },
   {
    "duration": 92,
    "start_time": "2021-07-01T10:56:11.607Z"
   },
   {
    "duration": 135,
    "start_time": "2021-07-01T10:56:11.702Z"
   },
   {
    "duration": 42,
    "start_time": "2021-07-01T10:56:11.840Z"
   },
   {
    "duration": 23,
    "start_time": "2021-07-01T10:56:11.885Z"
   },
   {
    "duration": 73,
    "start_time": "2021-07-01T10:56:11.911Z"
   },
   {
    "duration": 52,
    "start_time": "2021-07-01T10:56:11.987Z"
   },
   {
    "duration": 46,
    "start_time": "2021-07-01T10:56:12.041Z"
   },
   {
    "duration": 4,
    "start_time": "2021-07-01T10:56:12.089Z"
   },
   {
    "duration": 45,
    "start_time": "2021-07-01T10:56:12.096Z"
   },
   {
    "duration": 16,
    "start_time": "2021-07-01T10:56:12.184Z"
   },
   {
    "duration": 18,
    "start_time": "2021-07-01T10:56:12.202Z"
   },
   {
    "duration": 4,
    "start_time": "2021-07-01T10:56:12.223Z"
   },
   {
    "duration": 54,
    "start_time": "2021-07-01T10:56:12.230Z"
   },
   {
    "duration": 11,
    "start_time": "2021-07-01T10:56:12.287Z"
   },
   {
    "duration": 15,
    "start_time": "2021-07-01T10:56:12.300Z"
   },
   {
    "duration": 11,
    "start_time": "2021-07-01T10:56:12.318Z"
   },
   {
    "duration": 123,
    "start_time": "2021-07-01T10:56:12.332Z"
   },
   {
    "duration": 42,
    "start_time": "2021-07-01T10:56:12.457Z"
   },
   {
    "duration": 22,
    "start_time": "2021-07-01T10:56:12.504Z"
   },
   {
    "duration": 81,
    "start_time": "2021-07-01T10:56:12.529Z"
   },
   {
    "duration": 42,
    "start_time": "2021-07-01T10:56:12.612Z"
   },
   {
    "duration": 15,
    "start_time": "2021-07-01T10:56:12.684Z"
   },
   {
    "duration": 80,
    "start_time": "2021-07-01T10:56:12.702Z"
   },
   {
    "duration": -795,
    "start_time": "2021-07-01T10:56:13.580Z"
   },
   {
    "duration": -809,
    "start_time": "2021-07-01T10:56:13.596Z"
   },
   {
    "duration": -823,
    "start_time": "2021-07-01T10:56:13.612Z"
   },
   {
    "duration": -835,
    "start_time": "2021-07-01T10:56:13.625Z"
   },
   {
    "duration": -849,
    "start_time": "2021-07-01T10:56:13.640Z"
   },
   {
    "duration": -857,
    "start_time": "2021-07-01T10:56:13.649Z"
   },
   {
    "duration": 12,
    "start_time": "2021-07-01T10:56:56.749Z"
   },
   {
    "duration": 9,
    "start_time": "2021-07-01T10:57:48.030Z"
   },
   {
    "duration": 10,
    "start_time": "2021-07-01T10:58:01.685Z"
   },
   {
    "duration": 9,
    "start_time": "2021-07-01T10:58:59.143Z"
   },
   {
    "duration": 9,
    "start_time": "2021-07-01T10:59:34.968Z"
   },
   {
    "duration": 33,
    "start_time": "2021-07-01T11:00:12.904Z"
   },
   {
    "duration": 39,
    "start_time": "2021-07-01T11:01:31.347Z"
   },
   {
    "duration": 10,
    "start_time": "2021-07-01T11:03:12.781Z"
   },
   {
    "duration": 10,
    "start_time": "2021-07-01T11:07:03.675Z"
   },
   {
    "duration": 11,
    "start_time": "2021-07-01T11:07:22.985Z"
   },
   {
    "duration": 9,
    "start_time": "2021-07-01T11:10:28.796Z"
   },
   {
    "duration": 12,
    "start_time": "2021-07-01T11:12:48.615Z"
   },
   {
    "duration": 14,
    "start_time": "2021-07-01T11:12:58.310Z"
   },
   {
    "duration": 13,
    "start_time": "2021-07-01T11:14:31.937Z"
   },
   {
    "duration": 1527,
    "start_time": "2021-07-01T11:19:45.697Z"
   },
   {
    "duration": 194,
    "start_time": "2021-07-01T11:19:47.226Z"
   },
   {
    "duration": 59,
    "start_time": "2021-07-01T11:19:47.424Z"
   },
   {
    "duration": 20,
    "start_time": "2021-07-01T11:19:47.486Z"
   },
   {
    "duration": 11,
    "start_time": "2021-07-01T11:19:47.510Z"
   },
   {
    "duration": 22,
    "start_time": "2021-07-01T11:19:47.524Z"
   },
   {
    "duration": 5,
    "start_time": "2021-07-01T11:19:47.548Z"
   },
   {
    "duration": 16,
    "start_time": "2021-07-01T11:19:47.585Z"
   },
   {
    "duration": 95,
    "start_time": "2021-07-01T11:19:47.604Z"
   },
   {
    "duration": 125,
    "start_time": "2021-07-01T11:19:47.701Z"
   },
   {
    "duration": 21,
    "start_time": "2021-07-01T11:19:47.828Z"
   },
   {
    "duration": 48,
    "start_time": "2021-07-01T11:19:47.851Z"
   },
   {
    "duration": 35,
    "start_time": "2021-07-01T11:19:47.901Z"
   },
   {
    "duration": 75,
    "start_time": "2021-07-01T11:19:47.938Z"
   },
   {
    "duration": 18,
    "start_time": "2021-07-01T11:19:48.015Z"
   },
   {
    "duration": 3,
    "start_time": "2021-07-01T11:19:48.035Z"
   },
   {
    "duration": 76,
    "start_time": "2021-07-01T11:19:48.041Z"
   },
   {
    "duration": 16,
    "start_time": "2021-07-01T11:19:48.119Z"
   },
   {
    "duration": 48,
    "start_time": "2021-07-01T11:19:48.137Z"
   },
   {
    "duration": 5,
    "start_time": "2021-07-01T11:19:48.187Z"
   },
   {
    "duration": 11,
    "start_time": "2021-07-01T11:19:48.195Z"
   },
   {
    "duration": 9,
    "start_time": "2021-07-01T11:19:48.209Z"
   },
   {
    "duration": 11,
    "start_time": "2021-07-01T11:19:48.222Z"
   },
   {
    "duration": 119,
    "start_time": "2021-07-01T11:19:48.236Z"
   },
   {
    "duration": 34,
    "start_time": "2021-07-01T11:19:48.357Z"
   },
   {
    "duration": 21,
    "start_time": "2021-07-01T11:19:48.394Z"
   },
   {
    "duration": 73,
    "start_time": "2021-07-01T11:19:48.417Z"
   },
   {
    "duration": 38,
    "start_time": "2021-07-01T11:19:48.492Z"
   },
   {
    "duration": 12,
    "start_time": "2021-07-01T11:19:48.533Z"
   },
   {
    "duration": 98,
    "start_time": "2021-07-01T11:19:48.547Z"
   },
   {
    "duration": -956,
    "start_time": "2021-07-01T11:19:49.603Z"
   },
   {
    "duration": -975,
    "start_time": "2021-07-01T11:19:49.623Z"
   },
   {
    "duration": -1000,
    "start_time": "2021-07-01T11:19:49.650Z"
   },
   {
    "duration": -1007,
    "start_time": "2021-07-01T11:19:49.658Z"
   },
   {
    "duration": -1013,
    "start_time": "2021-07-01T11:19:49.665Z"
   },
   {
    "duration": -1026,
    "start_time": "2021-07-01T11:19:49.680Z"
   },
   {
    "duration": 1430,
    "start_time": "2021-07-01T11:35:59.121Z"
   },
   {
    "duration": 191,
    "start_time": "2021-07-01T11:36:00.553Z"
   },
   {
    "duration": 58,
    "start_time": "2021-07-01T11:36:00.747Z"
   },
   {
    "duration": 13,
    "start_time": "2021-07-01T11:36:00.808Z"
   },
   {
    "duration": 24,
    "start_time": "2021-07-01T11:36:00.824Z"
   },
   {
    "duration": 29,
    "start_time": "2021-07-01T11:36:00.850Z"
   },
   {
    "duration": 10,
    "start_time": "2021-07-01T11:36:00.881Z"
   },
   {
    "duration": 25,
    "start_time": "2021-07-01T11:36:00.895Z"
   },
   {
    "duration": 85,
    "start_time": "2021-07-01T11:36:00.924Z"
   },
   {
    "duration": 128,
    "start_time": "2021-07-01T11:36:01.012Z"
   },
   {
    "duration": 42,
    "start_time": "2021-07-01T11:36:01.143Z"
   },
   {
    "duration": 24,
    "start_time": "2021-07-01T11:36:01.187Z"
   },
   {
    "duration": 38,
    "start_time": "2021-07-01T11:36:01.213Z"
   },
   {
    "duration": 50,
    "start_time": "2021-07-01T11:36:01.284Z"
   },
   {
    "duration": 16,
    "start_time": "2021-07-01T11:36:01.337Z"
   },
   {
    "duration": 30,
    "start_time": "2021-07-01T11:36:01.355Z"
   },
   {
    "duration": 63,
    "start_time": "2021-07-01T11:36:01.388Z"
   },
   {
    "duration": 32,
    "start_time": "2021-07-01T11:36:01.453Z"
   },
   {
    "duration": 22,
    "start_time": "2021-07-01T11:36:01.488Z"
   },
   {
    "duration": 5,
    "start_time": "2021-07-01T11:36:01.513Z"
   },
   {
    "duration": 15,
    "start_time": "2021-07-01T11:36:01.521Z"
   },
   {
    "duration": 51,
    "start_time": "2021-07-01T11:36:01.538Z"
   },
   {
    "duration": 13,
    "start_time": "2021-07-01T11:36:01.594Z"
   },
   {
    "duration": 105,
    "start_time": "2021-07-01T11:36:01.610Z"
   },
   {
    "duration": 18,
    "start_time": "2021-07-01T11:36:01.718Z"
   },
   {
    "duration": 52,
    "start_time": "2021-07-01T11:36:01.739Z"
   },
   {
    "duration": 46,
    "start_time": "2021-07-01T11:36:01.794Z"
   },
   {
    "duration": 67,
    "start_time": "2021-07-01T11:36:01.843Z"
   },
   {
    "duration": 32,
    "start_time": "2021-07-01T11:36:01.913Z"
   },
   {
    "duration": 628,
    "start_time": "2021-07-01T11:36:01.947Z"
   },
   {
    "duration": 634,
    "start_time": "2021-07-01T11:36:02.577Z"
   },
   {
    "duration": 703,
    "start_time": "2021-07-01T11:36:03.213Z"
   },
   {
    "duration": 36,
    "start_time": "2021-07-01T11:36:03.919Z"
   },
   {
    "duration": 653,
    "start_time": "2021-07-01T11:36:03.957Z"
   },
   {
    "duration": 525,
    "start_time": "2021-07-01T11:36:04.613Z"
   },
   {
    "duration": 1508,
    "start_time": "2021-07-01T11:43:32.917Z"
   },
   {
    "duration": 189,
    "start_time": "2021-07-01T11:43:34.428Z"
   },
   {
    "duration": 60,
    "start_time": "2021-07-01T11:43:34.620Z"
   },
   {
    "duration": 13,
    "start_time": "2021-07-01T11:43:34.683Z"
   },
   {
    "duration": 8,
    "start_time": "2021-07-01T11:43:34.698Z"
   },
   {
    "duration": 25,
    "start_time": "2021-07-01T11:43:34.708Z"
   },
   {
    "duration": 5,
    "start_time": "2021-07-01T11:43:34.736Z"
   },
   {
    "duration": 51,
    "start_time": "2021-07-01T11:43:34.744Z"
   },
   {
    "duration": 86,
    "start_time": "2021-07-01T11:43:34.798Z"
   },
   {
    "duration": 129,
    "start_time": "2021-07-01T11:43:34.887Z"
   },
   {
    "duration": 19,
    "start_time": "2021-07-01T11:43:35.019Z"
   },
   {
    "duration": 46,
    "start_time": "2021-07-01T11:43:35.041Z"
   },
   {
    "duration": 49,
    "start_time": "2021-07-01T11:43:35.089Z"
   },
   {
    "duration": 80,
    "start_time": "2021-07-01T11:43:35.140Z"
   },
   {
    "duration": 16,
    "start_time": "2021-07-01T11:43:35.223Z"
   },
   {
    "duration": 3,
    "start_time": "2021-07-01T11:43:35.242Z"
   },
   {
    "duration": 76,
    "start_time": "2021-07-01T11:43:35.248Z"
   },
   {
    "duration": 15,
    "start_time": "2021-07-01T11:43:35.326Z"
   },
   {
    "duration": 46,
    "start_time": "2021-07-01T11:43:35.344Z"
   },
   {
    "duration": 7,
    "start_time": "2021-07-01T11:43:35.392Z"
   },
   {
    "duration": 13,
    "start_time": "2021-07-01T11:43:35.401Z"
   },
   {
    "duration": 11,
    "start_time": "2021-07-01T11:43:35.417Z"
   },
   {
    "duration": 51,
    "start_time": "2021-07-01T11:43:35.434Z"
   },
   {
    "duration": 74,
    "start_time": "2021-07-01T11:43:35.487Z"
   },
   {
    "duration": 16,
    "start_time": "2021-07-01T11:43:35.583Z"
   },
   {
    "duration": 24,
    "start_time": "2021-07-01T11:43:35.602Z"
   },
   {
    "duration": 75,
    "start_time": "2021-07-01T11:43:35.629Z"
   },
   {
    "duration": 38,
    "start_time": "2021-07-01T11:43:35.706Z"
   },
   {
    "duration": 41,
    "start_time": "2021-07-01T11:43:35.746Z"
   },
   {
    "duration": 638,
    "start_time": "2021-07-01T11:43:35.790Z"
   },
   {
    "duration": 624,
    "start_time": "2021-07-01T11:43:36.430Z"
   },
   {
    "duration": 712,
    "start_time": "2021-07-01T11:43:37.057Z"
   },
   {
    "duration": 46,
    "start_time": "2021-07-01T11:43:37.772Z"
   },
   {
    "duration": 643,
    "start_time": "2021-07-01T11:43:37.821Z"
   },
   {
    "duration": 535,
    "start_time": "2021-07-01T11:43:38.467Z"
   },
   {
    "duration": 467,
    "start_time": "2021-07-01T12:43:36.573Z"
   },
   {
    "duration": 316,
    "start_time": "2021-07-01T12:45:23.344Z"
   },
   {
    "duration": 7,
    "start_time": "2021-07-01T12:51:52.632Z"
   },
   {
    "duration": 6,
    "start_time": "2021-07-01T12:54:39.410Z"
   },
   {
    "duration": 13,
    "start_time": "2021-07-01T12:54:40.161Z"
   },
   {
    "duration": 11,
    "start_time": "2021-07-01T12:55:36.020Z"
   },
   {
    "duration": 12,
    "start_time": "2021-07-01T12:56:52.861Z"
   },
   {
    "duration": 686,
    "start_time": "2021-07-01T13:24:26.745Z"
   },
   {
    "duration": 686,
    "start_time": "2021-07-01T13:26:49.398Z"
   },
   {
    "duration": 30,
    "start_time": "2021-07-01T13:28:13.773Z"
   },
   {
    "duration": 18,
    "start_time": "2021-07-01T13:29:00.993Z"
   },
   {
    "duration": 16,
    "start_time": "2021-07-01T13:29:17.510Z"
   },
   {
    "duration": 33,
    "start_time": "2021-07-01T13:29:28.631Z"
   },
   {
    "duration": 58,
    "start_time": "2021-07-01T13:29:42.983Z"
   },
   {
    "duration": 53,
    "start_time": "2021-07-01T13:29:53.672Z"
   },
   {
    "duration": 55,
    "start_time": "2021-07-01T13:30:08.272Z"
   },
   {
    "duration": 46,
    "start_time": "2021-07-01T13:30:39.232Z"
   },
   {
    "duration": 74,
    "start_time": "2021-07-01T13:34:23.253Z"
   },
   {
    "duration": 76,
    "start_time": "2021-07-01T13:36:39.257Z"
   },
   {
    "duration": 53,
    "start_time": "2021-07-01T13:41:47.640Z"
   },
   {
    "duration": 796,
    "start_time": "2021-07-01T16:43:51.083Z"
   },
   {
    "duration": 809,
    "start_time": "2021-07-01T16:45:56.349Z"
   },
   {
    "duration": 711,
    "start_time": "2021-07-01T16:47:52.840Z"
   },
   {
    "duration": 664,
    "start_time": "2021-07-01T16:47:59.896Z"
   },
   {
    "duration": 503,
    "start_time": "2021-07-01T16:48:36.097Z"
   },
   {
    "duration": 549,
    "start_time": "2021-07-01T16:48:44.377Z"
   },
   {
    "duration": 531,
    "start_time": "2021-07-01T16:48:57.452Z"
   },
   {
    "duration": 665,
    "start_time": "2021-07-01T16:49:08.081Z"
   },
   {
    "duration": 49,
    "start_time": "2021-07-01T16:49:40.267Z"
   },
   {
    "duration": 41,
    "start_time": "2021-07-01T16:50:02.820Z"
   },
   {
    "duration": 13,
    "start_time": "2021-07-01T16:58:09.789Z"
   },
   {
    "duration": 632,
    "start_time": "2021-07-01T17:00:05.159Z"
   },
   {
    "duration": 655,
    "start_time": "2021-07-01T17:01:22.266Z"
   },
   {
    "duration": 17,
    "start_time": "2021-07-01T17:09:01.904Z"
   },
   {
    "duration": 1560,
    "start_time": "2021-07-01T17:10:05.368Z"
   },
   {
    "duration": 190,
    "start_time": "2021-07-01T17:10:06.931Z"
   },
   {
    "duration": 54,
    "start_time": "2021-07-01T17:10:07.124Z"
   },
   {
    "duration": 19,
    "start_time": "2021-07-01T17:10:07.181Z"
   },
   {
    "duration": 12,
    "start_time": "2021-07-01T17:10:07.203Z"
   },
   {
    "duration": 36,
    "start_time": "2021-07-01T17:10:07.218Z"
   },
   {
    "duration": 12,
    "start_time": "2021-07-01T17:10:07.257Z"
   },
   {
    "duration": 23,
    "start_time": "2021-07-01T17:10:07.273Z"
   },
   {
    "duration": 96,
    "start_time": "2021-07-01T17:10:07.300Z"
   },
   {
    "duration": 138,
    "start_time": "2021-07-01T17:10:07.399Z"
   },
   {
    "duration": 21,
    "start_time": "2021-07-01T17:10:07.540Z"
   },
   {
    "duration": 29,
    "start_time": "2021-07-01T17:10:07.584Z"
   },
   {
    "duration": 36,
    "start_time": "2021-07-01T17:10:07.616Z"
   },
   {
    "duration": 82,
    "start_time": "2021-07-01T17:10:07.654Z"
   },
   {
    "duration": 16,
    "start_time": "2021-07-01T17:10:07.738Z"
   },
   {
    "duration": 5,
    "start_time": "2021-07-01T17:10:07.784Z"
   },
   {
    "duration": 46,
    "start_time": "2021-07-01T17:10:07.792Z"
   },
   {
    "duration": 48,
    "start_time": "2021-07-01T17:10:07.840Z"
   },
   {
    "duration": 23,
    "start_time": "2021-07-01T17:10:07.892Z"
   },
   {
    "duration": 10,
    "start_time": "2021-07-01T17:10:07.917Z"
   },
   {
    "duration": 12,
    "start_time": "2021-07-01T17:10:07.930Z"
   },
   {
    "duration": 42,
    "start_time": "2021-07-01T17:10:07.944Z"
   },
   {
    "duration": 15,
    "start_time": "2021-07-01T17:10:07.993Z"
   },
   {
    "duration": 106,
    "start_time": "2021-07-01T17:10:08.011Z"
   },
   {
    "duration": 16,
    "start_time": "2021-07-01T17:10:08.119Z"
   },
   {
    "duration": 46,
    "start_time": "2021-07-01T17:10:08.137Z"
   },
   {
    "duration": 50,
    "start_time": "2021-07-01T17:10:08.187Z"
   },
   {
    "duration": 71,
    "start_time": "2021-07-01T17:10:08.240Z"
   },
   {
    "duration": 5,
    "start_time": "2021-07-01T17:10:08.314Z"
   },
   {
    "duration": 13,
    "start_time": "2021-07-01T17:10:08.321Z"
   },
   {
    "duration": 711,
    "start_time": "2021-07-01T17:10:08.336Z"
   },
   {
    "duration": 672,
    "start_time": "2021-07-01T17:10:09.049Z"
   },
   {
    "duration": 543,
    "start_time": "2021-07-01T17:10:09.724Z"
   },
   {
    "duration": 51,
    "start_time": "2021-07-01T17:10:10.270Z"
   },
   {
    "duration": 658,
    "start_time": "2021-07-01T17:10:10.325Z"
   },
   {
    "duration": 566,
    "start_time": "2021-07-01T17:10:10.985Z"
   },
   {
    "duration": 6986,
    "start_time": "2021-07-01T17:10:11.554Z"
   },
   {
    "duration": -1054,
    "start_time": "2021-07-01T17:10:19.596Z"
   },
   {
    "duration": -1072,
    "start_time": "2021-07-01T17:10:19.616Z"
   },
   {
    "duration": -1081,
    "start_time": "2021-07-01T17:10:19.627Z"
   },
   {
    "duration": -1097,
    "start_time": "2021-07-01T17:10:19.644Z"
   },
   {
    "duration": -1114,
    "start_time": "2021-07-01T17:10:19.663Z"
   },
   {
    "duration": 634,
    "start_time": "2021-07-01T17:11:27.691Z"
   },
   {
    "duration": 16,
    "start_time": "2021-07-01T17:12:26.898Z"
   },
   {
    "duration": 690,
    "start_time": "2021-07-01T17:12:48.510Z"
   },
   {
    "duration": 642,
    "start_time": "2021-07-01T17:14:11.877Z"
   },
   {
    "duration": 14,
    "start_time": "2021-07-01T17:15:01.300Z"
   },
   {
    "duration": 13,
    "start_time": "2021-07-01T17:16:27.351Z"
   },
   {
    "duration": 16,
    "start_time": "2021-07-01T17:18:03.769Z"
   },
   {
    "duration": 16,
    "start_time": "2021-07-01T17:24:44.090Z"
   },
   {
    "duration": 14,
    "start_time": "2021-07-01T17:38:46.866Z"
   },
   {
    "duration": 16,
    "start_time": "2021-07-01T17:38:58.591Z"
   },
   {
    "duration": 12,
    "start_time": "2021-07-01T17:39:14.864Z"
   },
   {
    "duration": 18,
    "start_time": "2021-07-01T17:39:28.374Z"
   },
   {
    "duration": 13,
    "start_time": "2021-07-01T17:42:33.768Z"
   },
   {
    "duration": 13,
    "start_time": "2021-07-01T17:42:53.641Z"
   },
   {
    "duration": 13,
    "start_time": "2021-07-01T17:43:27.058Z"
   },
   {
    "duration": 22,
    "start_time": "2021-07-01T17:44:03.579Z"
   },
   {
    "duration": 10,
    "start_time": "2021-07-01T17:45:49.430Z"
   },
   {
    "duration": 10,
    "start_time": "2021-07-01T17:52:41.300Z"
   },
   {
    "duration": 14,
    "start_time": "2021-07-01T17:53:07.517Z"
   },
   {
    "duration": 260,
    "start_time": "2021-07-01T17:55:08.976Z"
   },
   {
    "duration": 10,
    "start_time": "2021-07-01T17:55:14.654Z"
   },
   {
    "duration": 12,
    "start_time": "2021-07-01T17:57:53.378Z"
   },
   {
    "duration": 10,
    "start_time": "2021-07-01T17:58:16.770Z"
   },
   {
    "duration": 13,
    "start_time": "2021-07-01T17:58:55.315Z"
   },
   {
    "duration": 8,
    "start_time": "2021-07-01T17:58:56.341Z"
   },
   {
    "duration": 84,
    "start_time": "2021-07-01T18:00:46.078Z"
   },
   {
    "duration": 40,
    "start_time": "2021-07-01T18:01:06.871Z"
   },
   {
    "duration": 40,
    "start_time": "2021-07-01T18:01:25.070Z"
   },
   {
    "duration": 9,
    "start_time": "2021-07-01T18:11:34.475Z"
   },
   {
    "duration": 36,
    "start_time": "2021-07-01T18:11:40.867Z"
   },
   {
    "duration": 9,
    "start_time": "2021-07-01T18:13:35.255Z"
   },
   {
    "duration": 31,
    "start_time": "2021-07-01T18:13:43.189Z"
   },
   {
    "duration": 7,
    "start_time": "2021-07-01T18:27:59.806Z"
   },
   {
    "duration": 9,
    "start_time": "2021-07-01T18:28:00.801Z"
   },
   {
    "duration": 12,
    "start_time": "2021-07-01T18:28:07.440Z"
   },
   {
    "duration": 49,
    "start_time": "2021-07-01T18:33:30.990Z"
   },
   {
    "duration": 85,
    "start_time": "2021-07-01T18:35:36.782Z"
   },
   {
    "duration": 1751,
    "start_time": "2021-07-01T18:36:01.274Z"
   },
   {
    "duration": 214,
    "start_time": "2021-07-01T18:36:03.027Z"
   },
   {
    "duration": 78,
    "start_time": "2021-07-01T18:36:03.244Z"
   },
   {
    "duration": 22,
    "start_time": "2021-07-01T18:36:03.325Z"
   },
   {
    "duration": 8,
    "start_time": "2021-07-01T18:36:03.350Z"
   },
   {
    "duration": 46,
    "start_time": "2021-07-01T18:36:03.360Z"
   },
   {
    "duration": 7,
    "start_time": "2021-07-01T18:36:03.409Z"
   },
   {
    "duration": 35,
    "start_time": "2021-07-01T18:36:03.421Z"
   },
   {
    "duration": 102,
    "start_time": "2021-07-01T18:36:03.460Z"
   },
   {
    "duration": 154,
    "start_time": "2021-07-01T18:36:03.565Z"
   },
   {
    "duration": 28,
    "start_time": "2021-07-01T18:36:03.723Z"
   },
   {
    "duration": 56,
    "start_time": "2021-07-01T18:36:03.753Z"
   },
   {
    "duration": 35,
    "start_time": "2021-07-01T18:36:03.811Z"
   },
   {
    "duration": 85,
    "start_time": "2021-07-01T18:36:03.848Z"
   },
   {
    "duration": 17,
    "start_time": "2021-07-01T18:36:03.936Z"
   },
   {
    "duration": 4,
    "start_time": "2021-07-01T18:36:03.955Z"
   },
   {
    "duration": 75,
    "start_time": "2021-07-01T18:36:03.961Z"
   },
   {
    "duration": 57,
    "start_time": "2021-07-01T18:36:04.039Z"
   },
   {
    "duration": 20,
    "start_time": "2021-07-01T18:36:04.099Z"
   },
   {
    "duration": 6,
    "start_time": "2021-07-01T18:36:04.121Z"
   },
   {
    "duration": 11,
    "start_time": "2021-07-01T18:36:04.129Z"
   },
   {
    "duration": 44,
    "start_time": "2021-07-01T18:36:04.143Z"
   },
   {
    "duration": 13,
    "start_time": "2021-07-01T18:36:04.195Z"
   },
   {
    "duration": 119,
    "start_time": "2021-07-01T18:36:04.211Z"
   },
   {
    "duration": 15,
    "start_time": "2021-07-01T18:36:04.333Z"
   },
   {
    "duration": 51,
    "start_time": "2021-07-01T18:36:04.351Z"
   },
   {
    "duration": 45,
    "start_time": "2021-07-01T18:36:04.404Z"
   },
   {
    "duration": 73,
    "start_time": "2021-07-01T18:36:04.451Z"
   },
   {
    "duration": 5,
    "start_time": "2021-07-01T18:36:04.527Z"
   },
   {
    "duration": 14,
    "start_time": "2021-07-01T18:36:04.535Z"
   },
   {
    "duration": 725,
    "start_time": "2021-07-01T18:36:04.587Z"
   },
   {
    "duration": 718,
    "start_time": "2021-07-01T18:36:05.315Z"
   },
   {
    "duration": 552,
    "start_time": "2021-07-01T18:36:06.036Z"
   },
   {
    "duration": 45,
    "start_time": "2021-07-01T18:36:06.592Z"
   },
   {
    "duration": 726,
    "start_time": "2021-07-01T18:36:06.639Z"
   },
   {
    "duration": 539,
    "start_time": "2021-07-01T18:36:07.368Z"
   },
   {
    "duration": 751,
    "start_time": "2021-07-01T18:36:07.909Z"
   },
   {
    "duration": 12,
    "start_time": "2021-07-01T18:36:08.662Z"
   },
   {
    "duration": 18,
    "start_time": "2021-07-01T18:36:08.684Z"
   },
   {
    "duration": 45,
    "start_time": "2021-07-01T18:36:08.705Z"
   },
   {
    "duration": 7,
    "start_time": "2021-07-01T18:36:08.753Z"
   },
   {
    "duration": 65,
    "start_time": "2021-07-01T18:36:08.763Z"
   },
   {
    "duration": 86,
    "start_time": "2021-07-01T18:36:08.830Z"
   },
   {
    "duration": -1019,
    "start_time": "2021-07-01T18:36:09.937Z"
   },
   {
    "duration": -1027,
    "start_time": "2021-07-01T18:36:09.947Z"
   },
   {
    "duration": -1051,
    "start_time": "2021-07-01T18:36:09.972Z"
   },
   {
    "duration": 11,
    "start_time": "2021-07-01T18:51:09.597Z"
   },
   {
    "duration": 1735,
    "start_time": "2021-07-01T18:51:54.103Z"
   },
   {
    "duration": 212,
    "start_time": "2021-07-01T18:51:55.842Z"
   },
   {
    "duration": 69,
    "start_time": "2021-07-01T18:51:56.057Z"
   },
   {
    "duration": 14,
    "start_time": "2021-07-01T18:51:56.130Z"
   },
   {
    "duration": 6,
    "start_time": "2021-07-01T18:51:56.147Z"
   },
   {
    "duration": 42,
    "start_time": "2021-07-01T18:51:56.156Z"
   },
   {
    "duration": 7,
    "start_time": "2021-07-01T18:51:56.201Z"
   },
   {
    "duration": 20,
    "start_time": "2021-07-01T18:51:56.212Z"
   },
   {
    "duration": 106,
    "start_time": "2021-07-01T18:51:56.236Z"
   },
   {
    "duration": 156,
    "start_time": "2021-07-01T18:51:56.345Z"
   },
   {
    "duration": 30,
    "start_time": "2021-07-01T18:51:56.505Z"
   },
   {
    "duration": 62,
    "start_time": "2021-07-01T18:51:56.539Z"
   },
   {
    "duration": 45,
    "start_time": "2021-07-01T18:51:56.604Z"
   },
   {
    "duration": 82,
    "start_time": "2021-07-01T18:51:56.652Z"
   },
   {
    "duration": 21,
    "start_time": "2021-07-01T18:51:56.736Z"
   },
   {
    "duration": 25,
    "start_time": "2021-07-01T18:51:56.759Z"
   },
   {
    "duration": 50,
    "start_time": "2021-07-01T18:51:56.788Z"
   },
   {
    "duration": 53,
    "start_time": "2021-07-01T18:51:56.841Z"
   },
   {
    "duration": 25,
    "start_time": "2021-07-01T18:51:56.898Z"
   },
   {
    "duration": 6,
    "start_time": "2021-07-01T18:51:56.925Z"
   },
   {
    "duration": 9,
    "start_time": "2021-07-01T18:51:56.933Z"
   },
   {
    "duration": 13,
    "start_time": "2021-07-01T18:51:56.984Z"
   },
   {
    "duration": 12,
    "start_time": "2021-07-01T18:51:57.004Z"
   },
   {
    "duration": 128,
    "start_time": "2021-07-01T18:51:57.019Z"
   },
   {
    "duration": 37,
    "start_time": "2021-07-01T18:51:57.150Z"
   },
   {
    "duration": 23,
    "start_time": "2021-07-01T18:51:57.191Z"
   },
   {
    "duration": 101,
    "start_time": "2021-07-01T18:51:57.218Z"
   },
   {
    "duration": 76,
    "start_time": "2021-07-01T18:51:57.322Z"
   },
   {
    "duration": 5,
    "start_time": "2021-07-01T18:51:57.401Z"
   },
   {
    "duration": 13,
    "start_time": "2021-07-01T18:51:57.409Z"
   },
   {
    "duration": 712,
    "start_time": "2021-07-01T18:51:57.425Z"
   },
   {
    "duration": 869,
    "start_time": "2021-07-01T18:51:58.140Z"
   },
   {
    "duration": 602,
    "start_time": "2021-07-01T18:51:59.012Z"
   },
   {
    "duration": 44,
    "start_time": "2021-07-01T18:51:59.616Z"
   },
   {
    "duration": 657,
    "start_time": "2021-07-01T18:51:59.663Z"
   },
   {
    "duration": 545,
    "start_time": "2021-07-01T18:52:00.322Z"
   },
   {
    "duration": 707,
    "start_time": "2021-07-01T18:52:00.870Z"
   },
   {
    "duration": 20,
    "start_time": "2021-07-01T18:52:01.579Z"
   },
   {
    "duration": 33,
    "start_time": "2021-07-01T18:52:01.602Z"
   },
   {
    "duration": 40,
    "start_time": "2021-07-01T18:52:01.637Z"
   },
   {
    "duration": 39,
    "start_time": "2021-07-01T18:52:01.684Z"
   },
   {
    "duration": 91,
    "start_time": "2021-07-01T18:52:01.726Z"
   },
   {
    "duration": 12,
    "start_time": "2021-07-01T18:52:01.820Z"
   },
   {
    "duration": 127,
    "start_time": "2021-07-01T18:52:01.835Z"
   },
   {
    "duration": -903,
    "start_time": "2021-07-01T18:52:02.868Z"
   },
   {
    "duration": -908,
    "start_time": "2021-07-01T18:52:02.876Z"
   },
   {
    "duration": -920,
    "start_time": "2021-07-01T18:52:02.890Z"
   },
   {
    "duration": 7,
    "start_time": "2021-07-01T19:40:34.655Z"
   },
   {
    "duration": 40,
    "start_time": "2021-07-01T19:40:36.639Z"
   },
   {
    "duration": 102,
    "start_time": "2021-07-01T19:42:55.107Z"
   },
   {
    "duration": 18,
    "start_time": "2021-07-01T19:43:05.953Z"
   },
   {
    "duration": 14,
    "start_time": "2021-07-01T19:43:42.674Z"
   },
   {
    "duration": 13,
    "start_time": "2021-07-01T19:44:07.378Z"
   },
   {
    "duration": 7,
    "start_time": "2021-07-01T19:55:45.585Z"
   },
   {
    "duration": 536,
    "start_time": "2021-07-01T19:56:57.068Z"
   },
   {
    "duration": 266,
    "start_time": "2021-07-01T19:57:13.891Z"
   },
   {
    "duration": 272,
    "start_time": "2021-07-01T19:57:19.761Z"
   },
   {
    "duration": 7,
    "start_time": "2021-07-01T19:57:39.657Z"
   },
   {
    "duration": 56,
    "start_time": "2021-07-01T19:59:46.908Z"
   },
   {
    "duration": 11,
    "start_time": "2021-07-01T20:00:02.574Z"
   },
   {
    "duration": 11,
    "start_time": "2021-07-01T20:02:32.663Z"
   },
   {
    "duration": 6,
    "start_time": "2021-07-01T20:04:25.499Z"
   },
   {
    "duration": 7,
    "start_time": "2021-07-01T20:05:11.546Z"
   },
   {
    "duration": 23,
    "start_time": "2021-07-01T20:07:24.725Z"
   },
   {
    "duration": 8,
    "start_time": "2021-07-01T20:07:37.310Z"
   },
   {
    "duration": 11,
    "start_time": "2021-07-01T20:07:49.717Z"
   },
   {
    "duration": 11,
    "start_time": "2021-07-01T20:08:31.498Z"
   },
   {
    "duration": 11,
    "start_time": "2021-07-01T20:11:34.657Z"
   },
   {
    "duration": 13,
    "start_time": "2021-07-01T20:12:08.025Z"
   },
   {
    "duration": 13,
    "start_time": "2021-07-01T20:13:09.213Z"
   },
   {
    "duration": 17,
    "start_time": "2021-07-01T20:13:45.748Z"
   },
   {
    "duration": 17,
    "start_time": "2021-07-01T20:15:11.360Z"
   },
   {
    "duration": 6,
    "start_time": "2021-07-01T20:15:45.230Z"
   },
   {
    "duration": 14,
    "start_time": "2021-07-01T20:17:56.359Z"
   },
   {
    "duration": 1792,
    "start_time": "2021-07-01T20:18:15.849Z"
   },
   {
    "duration": 220,
    "start_time": "2021-07-01T20:18:17.644Z"
   },
   {
    "duration": 70,
    "start_time": "2021-07-01T20:18:17.868Z"
   },
   {
    "duration": 17,
    "start_time": "2021-07-01T20:18:17.941Z"
   },
   {
    "duration": 5,
    "start_time": "2021-07-01T20:18:17.985Z"
   },
   {
    "duration": 38,
    "start_time": "2021-07-01T20:18:17.993Z"
   },
   {
    "duration": 7,
    "start_time": "2021-07-01T20:18:18.034Z"
   },
   {
    "duration": 42,
    "start_time": "2021-07-01T20:18:18.046Z"
   },
   {
    "duration": 73,
    "start_time": "2021-07-01T20:18:18.092Z"
   },
   {
    "duration": 180,
    "start_time": "2021-07-01T20:18:18.167Z"
   },
   {
    "duration": 41,
    "start_time": "2021-07-01T20:18:18.349Z"
   },
   {
    "duration": 39,
    "start_time": "2021-07-01T20:18:18.392Z"
   },
   {
    "duration": 67,
    "start_time": "2021-07-01T20:18:18.434Z"
   },
   {
    "duration": 49,
    "start_time": "2021-07-01T20:18:18.503Z"
   },
   {
    "duration": 51,
    "start_time": "2021-07-01T20:18:18.555Z"
   },
   {
    "duration": 4,
    "start_time": "2021-07-01T20:18:18.608Z"
   },
   {
    "duration": 85,
    "start_time": "2021-07-01T20:18:18.615Z"
   },
   {
    "duration": 16,
    "start_time": "2021-07-01T20:18:18.702Z"
   },
   {
    "duration": 23,
    "start_time": "2021-07-01T20:18:18.721Z"
   },
   {
    "duration": 8,
    "start_time": "2021-07-01T20:18:18.747Z"
   },
   {
    "duration": 8,
    "start_time": "2021-07-01T20:18:18.785Z"
   },
   {
    "duration": 14,
    "start_time": "2021-07-01T20:18:18.797Z"
   },
   {
    "duration": 127,
    "start_time": "2021-07-01T20:18:18.818Z"
   },
   {
    "duration": 17,
    "start_time": "2021-07-01T20:18:18.948Z"
   },
   {
    "duration": 26,
    "start_time": "2021-07-01T20:18:18.983Z"
   },
   {
    "duration": 81,
    "start_time": "2021-07-01T20:18:19.012Z"
   },
   {
    "duration": 38,
    "start_time": "2021-07-01T20:18:19.097Z"
   },
   {
    "duration": 5,
    "start_time": "2021-07-01T20:18:19.138Z"
   },
   {
    "duration": 52,
    "start_time": "2021-07-01T20:18:19.146Z"
   },
   {
    "duration": 740,
    "start_time": "2021-07-01T20:18:19.202Z"
   },
   {
    "duration": 690,
    "start_time": "2021-07-01T20:18:19.945Z"
   },
   {
    "duration": 578,
    "start_time": "2021-07-01T20:18:20.637Z"
   },
   {
    "duration": 40,
    "start_time": "2021-07-01T20:18:21.218Z"
   },
   {
    "duration": 641,
    "start_time": "2021-07-01T20:18:21.261Z"
   },
   {
    "duration": 538,
    "start_time": "2021-07-01T20:18:21.905Z"
   },
   {
    "duration": 756,
    "start_time": "2021-07-01T20:18:22.446Z"
   },
   {
    "duration": 13,
    "start_time": "2021-07-01T20:18:23.205Z"
   },
   {
    "duration": 11,
    "start_time": "2021-07-01T20:18:23.221Z"
   },
   {
    "duration": 62,
    "start_time": "2021-07-01T20:18:23.235Z"
   },
   {
    "duration": 6,
    "start_time": "2021-07-01T20:18:23.300Z"
   },
   {
    "duration": 12,
    "start_time": "2021-07-01T20:18:23.309Z"
   },
   {
    "duration": 69,
    "start_time": "2021-07-01T20:18:23.324Z"
   },
   {
    "duration": 10,
    "start_time": "2021-07-01T20:18:23.396Z"
   },
   {
    "duration": 88,
    "start_time": "2021-07-01T20:18:23.408Z"
   },
   {
    "duration": -968,
    "start_time": "2021-07-01T20:18:24.467Z"
   },
   {
    "duration": -1005,
    "start_time": "2021-07-01T20:18:24.506Z"
   },
   {
    "duration": -1022,
    "start_time": "2021-07-01T20:18:24.525Z"
   },
   {
    "duration": 570,
    "start_time": "2021-07-01T20:27:09.484Z"
   },
   {
    "duration": 260,
    "start_time": "2021-07-01T20:27:13.618Z"
   },
   {
    "duration": 514,
    "start_time": "2021-07-01T20:27:43.634Z"
   },
   {
    "duration": 1818,
    "start_time": "2021-07-01T20:27:55.172Z"
   },
   {
    "duration": 224,
    "start_time": "2021-07-01T20:27:56.994Z"
   },
   {
    "duration": 85,
    "start_time": "2021-07-01T20:27:57.222Z"
   },
   {
    "duration": 17,
    "start_time": "2021-07-01T20:27:57.311Z"
   },
   {
    "duration": 5,
    "start_time": "2021-07-01T20:27:57.330Z"
   },
   {
    "duration": 56,
    "start_time": "2021-07-01T20:27:57.338Z"
   },
   {
    "duration": 9,
    "start_time": "2021-07-01T20:27:57.397Z"
   },
   {
    "duration": 26,
    "start_time": "2021-07-01T20:27:57.412Z"
   },
   {
    "duration": 118,
    "start_time": "2021-07-01T20:27:57.443Z"
   },
   {
    "duration": 160,
    "start_time": "2021-07-01T20:27:57.564Z"
   },
   {
    "duration": 29,
    "start_time": "2021-07-01T20:27:57.726Z"
   },
   {
    "duration": 42,
    "start_time": "2021-07-01T20:27:57.783Z"
   },
   {
    "duration": 79,
    "start_time": "2021-07-01T20:27:57.828Z"
   },
   {
    "duration": 103,
    "start_time": "2021-07-01T20:27:57.910Z"
   },
   {
    "duration": 23,
    "start_time": "2021-07-01T20:27:58.017Z"
   },
   {
    "duration": 5,
    "start_time": "2021-07-01T20:27:58.043Z"
   },
   {
    "duration": 92,
    "start_time": "2021-07-01T20:27:58.051Z"
   },
   {
    "duration": 57,
    "start_time": "2021-07-01T20:27:58.147Z"
   },
   {
    "duration": 23,
    "start_time": "2021-07-01T20:27:58.207Z"
   },
   {
    "duration": 9,
    "start_time": "2021-07-01T20:27:58.233Z"
   },
   {
    "duration": 53,
    "start_time": "2021-07-01T20:27:58.245Z"
   },
   {
    "duration": 9,
    "start_time": "2021-07-01T20:27:58.301Z"
   },
   {
    "duration": 6,
    "start_time": "2021-07-01T20:27:58.317Z"
   },
   {
    "duration": 10,
    "start_time": "2021-07-01T20:27:58.326Z"
   },
   {
    "duration": 119,
    "start_time": "2021-07-01T20:27:58.382Z"
   },
   {
    "duration": 24,
    "start_time": "2021-07-01T20:27:58.505Z"
   },
   {
    "duration": 24,
    "start_time": "2021-07-01T20:27:58.532Z"
   },
   {
    "duration": 70,
    "start_time": "2021-07-01T20:27:58.585Z"
   },
   {
    "duration": 72,
    "start_time": "2021-07-01T20:27:58.658Z"
   },
   {
    "duration": 6,
    "start_time": "2021-07-01T20:27:58.732Z"
   },
   {
    "duration": 48,
    "start_time": "2021-07-01T20:27:58.741Z"
   },
   {
    "duration": 758,
    "start_time": "2021-07-01T20:27:58.793Z"
   },
   {
    "duration": 720,
    "start_time": "2021-07-01T20:27:59.553Z"
   },
   {
    "duration": 654,
    "start_time": "2021-07-01T20:28:00.276Z"
   },
   {
    "duration": 72,
    "start_time": "2021-07-01T20:28:00.933Z"
   },
   {
    "duration": 715,
    "start_time": "2021-07-01T20:28:01.008Z"
   },
   {
    "duration": 647,
    "start_time": "2021-07-01T20:28:01.725Z"
   },
   {
    "duration": 826,
    "start_time": "2021-07-01T20:28:02.383Z"
   },
   {
    "duration": 18,
    "start_time": "2021-07-01T20:28:03.212Z"
   },
   {
    "duration": 10,
    "start_time": "2021-07-01T20:28:03.233Z"
   },
   {
    "duration": 73,
    "start_time": "2021-07-01T20:28:03.246Z"
   },
   {
    "duration": 8,
    "start_time": "2021-07-01T20:28:03.322Z"
   },
   {
    "duration": 19,
    "start_time": "2021-07-01T20:28:03.333Z"
   },
   {
    "duration": 84,
    "start_time": "2021-07-01T20:28:03.355Z"
   },
   {
    "duration": 12,
    "start_time": "2021-07-01T20:28:03.442Z"
   },
   {
    "duration": 90,
    "start_time": "2021-07-01T20:28:03.483Z"
   },
   {
    "duration": -870,
    "start_time": "2021-07-01T20:28:04.446Z"
   },
   {
    "duration": -882,
    "start_time": "2021-07-01T20:28:04.461Z"
   },
   {
    "duration": -890,
    "start_time": "2021-07-01T20:28:04.471Z"
   },
   {
    "duration": 9,
    "start_time": "2021-07-01T20:32:32.926Z"
   },
   {
    "duration": 9,
    "start_time": "2021-07-01T20:33:43.529Z"
   },
   {
    "duration": 10,
    "start_time": "2021-07-01T20:34:50.161Z"
   },
   {
    "duration": 15,
    "start_time": "2021-07-01T20:38:05.830Z"
   },
   {
    "duration": 11,
    "start_time": "2021-07-01T20:38:30.054Z"
   },
   {
    "duration": 9,
    "start_time": "2021-07-01T20:41:13.976Z"
   },
   {
    "duration": 12,
    "start_time": "2021-07-01T20:41:37.042Z"
   },
   {
    "duration": 506,
    "start_time": "2021-07-01T20:42:53.706Z"
   },
   {
    "duration": 14,
    "start_time": "2021-07-01T20:46:17.224Z"
   },
   {
    "duration": 19,
    "start_time": "2021-07-01T20:49:11.267Z"
   },
   {
    "duration": 10,
    "start_time": "2021-07-01T20:49:37.468Z"
   },
   {
    "duration": 14,
    "start_time": "2021-07-01T20:57:03.787Z"
   },
   {
    "duration": 11,
    "start_time": "2021-07-01T20:59:19.423Z"
   },
   {
    "duration": 12,
    "start_time": "2021-07-01T20:59:39.071Z"
   },
   {
    "duration": 3520,
    "start_time": "2021-07-01T21:00:27.496Z"
   },
   {
    "duration": 9,
    "start_time": "2021-07-01T21:00:36.937Z"
   },
   {
    "duration": 19,
    "start_time": "2021-07-01T21:01:20.097Z"
   },
   {
    "duration": 6629,
    "start_time": "2021-07-01T21:02:57.956Z"
   },
   {
    "duration": 18,
    "start_time": "2021-07-01T21:06:36.968Z"
   },
   {
    "duration": 30,
    "start_time": "2021-07-01T21:06:51.488Z"
   },
   {
    "duration": 265,
    "start_time": "2021-07-01T21:07:29.305Z"
   },
   {
    "duration": 22,
    "start_time": "2021-07-01T21:07:48.266Z"
   },
   {
    "duration": 30,
    "start_time": "2021-07-01T21:09:01.883Z"
   },
   {
    "duration": 257,
    "start_time": "2021-07-01T21:14:18.775Z"
   },
   {
    "duration": 255,
    "start_time": "2021-07-01T21:16:54.588Z"
   },
   {
    "duration": 249,
    "start_time": "2021-07-01T21:17:10.996Z"
   },
   {
    "duration": 27,
    "start_time": "2021-07-01T21:17:45.365Z"
   },
   {
    "duration": 1586,
    "start_time": "2021-07-01T21:19:04.961Z"
   },
   {
    "duration": 213,
    "start_time": "2021-07-01T21:19:06.549Z"
   },
   {
    "duration": 60,
    "start_time": "2021-07-01T21:19:06.765Z"
   },
   {
    "duration": 13,
    "start_time": "2021-07-01T21:19:06.829Z"
   },
   {
    "duration": 7,
    "start_time": "2021-07-01T21:19:06.845Z"
   },
   {
    "duration": 48,
    "start_time": "2021-07-01T21:19:06.855Z"
   },
   {
    "duration": 4,
    "start_time": "2021-07-01T21:19:06.906Z"
   },
   {
    "duration": 16,
    "start_time": "2021-07-01T21:19:06.914Z"
   },
   {
    "duration": 105,
    "start_time": "2021-07-01T21:19:06.933Z"
   },
   {
    "duration": 145,
    "start_time": "2021-07-01T21:19:07.040Z"
   },
   {
    "duration": 26,
    "start_time": "2021-07-01T21:19:07.189Z"
   },
   {
    "duration": 26,
    "start_time": "2021-07-01T21:19:07.218Z"
   },
   {
    "duration": 70,
    "start_time": "2021-07-01T21:19:07.246Z"
   },
   {
    "duration": 77,
    "start_time": "2021-07-01T21:19:07.319Z"
   },
   {
    "duration": 19,
    "start_time": "2021-07-01T21:19:07.399Z"
   },
   {
    "duration": 4,
    "start_time": "2021-07-01T21:19:07.421Z"
   },
   {
    "duration": 87,
    "start_time": "2021-07-01T21:19:07.427Z"
   },
   {
    "duration": 16,
    "start_time": "2021-07-01T21:19:07.516Z"
   },
   {
    "duration": 17,
    "start_time": "2021-07-01T21:19:07.534Z"
   },
   {
    "duration": 35,
    "start_time": "2021-07-01T21:19:07.553Z"
   },
   {
    "duration": 9,
    "start_time": "2021-07-01T21:19:07.592Z"
   },
   {
    "duration": 19,
    "start_time": "2021-07-01T21:19:07.603Z"
   },
   {
    "duration": 66,
    "start_time": "2021-07-01T21:19:07.628Z"
   },
   {
    "duration": 104,
    "start_time": "2021-07-01T21:19:07.699Z"
   },
   {
    "duration": 16,
    "start_time": "2021-07-01T21:19:07.805Z"
   },
   {
    "duration": 20,
    "start_time": "2021-07-01T21:19:07.824Z"
   },
   {
    "duration": 81,
    "start_time": "2021-07-01T21:19:07.846Z"
   },
   {
    "duration": 67,
    "start_time": "2021-07-01T21:19:07.930Z"
   },
   {
    "duration": 5,
    "start_time": "2021-07-01T21:19:08.000Z"
   },
   {
    "duration": 15,
    "start_time": "2021-07-01T21:19:08.007Z"
   },
   {
    "duration": 736,
    "start_time": "2021-07-01T21:19:08.025Z"
   },
   {
    "duration": 719,
    "start_time": "2021-07-01T21:19:08.764Z"
   },
   {
    "duration": 574,
    "start_time": "2021-07-01T21:19:09.485Z"
   },
   {
    "duration": 54,
    "start_time": "2021-07-01T21:19:10.061Z"
   },
   {
    "duration": 626,
    "start_time": "2021-07-01T21:19:10.118Z"
   },
   {
    "duration": 541,
    "start_time": "2021-07-01T21:19:10.746Z"
   },
   {
    "duration": 697,
    "start_time": "2021-07-01T21:19:11.292Z"
   },
   {
    "duration": 16,
    "start_time": "2021-07-01T21:19:11.993Z"
   },
   {
    "duration": 17,
    "start_time": "2021-07-01T21:19:12.012Z"
   },
   {
    "duration": 60,
    "start_time": "2021-07-01T21:19:12.032Z"
   },
   {
    "duration": 7,
    "start_time": "2021-07-01T21:19:12.096Z"
   },
   {
    "duration": 14,
    "start_time": "2021-07-01T21:19:12.106Z"
   },
   {
    "duration": 65,
    "start_time": "2021-07-01T21:19:12.123Z"
   },
   {
    "duration": 11,
    "start_time": "2021-07-01T21:19:12.191Z"
   },
   {
    "duration": 94,
    "start_time": "2021-07-01T21:19:12.204Z"
   },
   {
    "duration": -938,
    "start_time": "2021-07-01T21:19:13.238Z"
   },
   {
    "duration": -973,
    "start_time": "2021-07-01T21:19:13.275Z"
   },
   {
    "duration": -992,
    "start_time": "2021-07-01T21:19:13.295Z"
   },
   {
    "duration": 15,
    "start_time": "2021-07-01T21:20:43.665Z"
   },
   {
    "duration": 1707,
    "start_time": "2021-07-01T21:21:46.706Z"
   },
   {
    "duration": 214,
    "start_time": "2021-07-01T21:21:48.415Z"
   },
   {
    "duration": 64,
    "start_time": "2021-07-01T21:21:48.632Z"
   },
   {
    "duration": 22,
    "start_time": "2021-07-01T21:21:48.701Z"
   },
   {
    "duration": 5,
    "start_time": "2021-07-01T21:21:48.726Z"
   },
   {
    "duration": 20,
    "start_time": "2021-07-01T21:21:48.733Z"
   },
   {
    "duration": 6,
    "start_time": "2021-07-01T21:21:48.784Z"
   },
   {
    "duration": 21,
    "start_time": "2021-07-01T21:21:48.795Z"
   },
   {
    "duration": 111,
    "start_time": "2021-07-01T21:21:48.819Z"
   },
   {
    "duration": 151,
    "start_time": "2021-07-01T21:21:48.932Z"
   },
   {
    "duration": 43,
    "start_time": "2021-07-01T21:21:49.089Z"
   },
   {
    "duration": 48,
    "start_time": "2021-07-01T21:21:49.135Z"
   },
   {
    "duration": 46,
    "start_time": "2021-07-01T21:21:49.186Z"
   },
   {
    "duration": 83,
    "start_time": "2021-07-01T21:21:49.235Z"
   },
   {
    "duration": 16,
    "start_time": "2021-07-01T21:21:49.321Z"
   },
   {
    "duration": 4,
    "start_time": "2021-07-01T21:21:49.340Z"
   },
   {
    "duration": 87,
    "start_time": "2021-07-01T21:21:49.346Z"
   },
   {
    "duration": 17,
    "start_time": "2021-07-01T21:21:49.435Z"
   },
   {
    "duration": 51,
    "start_time": "2021-07-01T21:21:49.455Z"
   },
   {
    "duration": 6,
    "start_time": "2021-07-01T21:21:49.508Z"
   },
   {
    "duration": 8,
    "start_time": "2021-07-01T21:21:49.517Z"
   },
   {
    "duration": 16,
    "start_time": "2021-07-01T21:21:49.528Z"
   },
   {
    "duration": 28,
    "start_time": "2021-07-01T21:21:49.590Z"
   },
   {
    "duration": 138,
    "start_time": "2021-07-01T21:21:49.622Z"
   },
   {
    "duration": 36,
    "start_time": "2021-07-01T21:21:49.762Z"
   },
   {
    "duration": 25,
    "start_time": "2021-07-01T21:21:49.802Z"
   },
   {
    "duration": 101,
    "start_time": "2021-07-01T21:21:49.829Z"
   },
   {
    "duration": 73,
    "start_time": "2021-07-01T21:21:49.932Z"
   },
   {
    "duration": 5,
    "start_time": "2021-07-01T21:21:50.008Z"
   },
   {
    "duration": 19,
    "start_time": "2021-07-01T21:21:50.015Z"
   },
   {
    "duration": 715,
    "start_time": "2021-07-01T21:21:50.036Z"
   },
   {
    "duration": 691,
    "start_time": "2021-07-01T21:21:50.754Z"
   },
   {
    "duration": 581,
    "start_time": "2021-07-01T21:21:51.448Z"
   },
   {
    "duration": 67,
    "start_time": "2021-07-01T21:21:52.031Z"
   },
   {
    "duration": 638,
    "start_time": "2021-07-01T21:21:52.101Z"
   },
   {
    "duration": 553,
    "start_time": "2021-07-01T21:21:52.742Z"
   },
   {
    "duration": 677,
    "start_time": "2021-07-01T21:21:53.298Z"
   },
   {
    "duration": 443,
    "start_time": "2021-07-01T21:21:53.982Z"
   },
   {
    "duration": -751,
    "start_time": "2021-07-01T21:21:55.179Z"
   },
   {
    "duration": -759,
    "start_time": "2021-07-01T21:21:55.188Z"
   },
   {
    "duration": -772,
    "start_time": "2021-07-01T21:21:55.203Z"
   },
   {
    "duration": -781,
    "start_time": "2021-07-01T21:21:55.213Z"
   },
   {
    "duration": -795,
    "start_time": "2021-07-01T21:21:55.229Z"
   },
   {
    "duration": -810,
    "start_time": "2021-07-01T21:21:55.245Z"
   },
   {
    "duration": -819,
    "start_time": "2021-07-01T21:21:55.255Z"
   },
   {
    "duration": -835,
    "start_time": "2021-07-01T21:21:55.273Z"
   },
   {
    "duration": -843,
    "start_time": "2021-07-01T21:21:55.282Z"
   },
   {
    "duration": -859,
    "start_time": "2021-07-01T21:21:55.300Z"
   },
   {
    "duration": 25,
    "start_time": "2021-07-01T21:27:37.988Z"
   },
   {
    "duration": 286,
    "start_time": "2021-07-01T21:30:15.493Z"
   },
   {
    "duration": 19,
    "start_time": "2021-07-01T21:31:25.159Z"
   },
   {
    "duration": 20,
    "start_time": "2021-07-01T21:32:59.553Z"
   },
   {
    "duration": 262,
    "start_time": "2021-07-01T21:37:47.175Z"
   },
   {
    "duration": 1602,
    "start_time": "2021-07-01T21:37:54.847Z"
   },
   {
    "duration": 214,
    "start_time": "2021-07-01T21:37:56.452Z"
   },
   {
    "duration": 61,
    "start_time": "2021-07-01T21:37:56.669Z"
   },
   {
    "duration": 14,
    "start_time": "2021-07-01T21:37:56.734Z"
   },
   {
    "duration": 32,
    "start_time": "2021-07-01T21:37:56.751Z"
   },
   {
    "duration": 25,
    "start_time": "2021-07-01T21:37:56.787Z"
   },
   {
    "duration": 5,
    "start_time": "2021-07-01T21:37:56.815Z"
   },
   {
    "duration": 17,
    "start_time": "2021-07-01T21:37:56.824Z"
   },
   {
    "duration": 109,
    "start_time": "2021-07-01T21:37:56.844Z"
   },
   {
    "duration": 147,
    "start_time": "2021-07-01T21:37:56.956Z"
   },
   {
    "duration": 21,
    "start_time": "2021-07-01T21:37:57.106Z"
   },
   {
    "duration": 55,
    "start_time": "2021-07-01T21:37:57.130Z"
   },
   {
    "duration": 39,
    "start_time": "2021-07-01T21:37:57.189Z"
   },
   {
    "duration": 85,
    "start_time": "2021-07-01T21:37:57.230Z"
   },
   {
    "duration": 16,
    "start_time": "2021-07-01T21:37:57.317Z"
   },
   {
    "duration": 4,
    "start_time": "2021-07-01T21:37:57.336Z"
   },
   {
    "duration": 84,
    "start_time": "2021-07-01T21:37:57.342Z"
   },
   {
    "duration": 15,
    "start_time": "2021-07-01T21:37:57.429Z"
   },
   {
    "duration": 52,
    "start_time": "2021-07-01T21:37:57.447Z"
   },
   {
    "duration": 7,
    "start_time": "2021-07-01T21:37:57.502Z"
   },
   {
    "duration": 7,
    "start_time": "2021-07-01T21:37:57.511Z"
   },
   {
    "duration": 17,
    "start_time": "2021-07-01T21:37:57.521Z"
   },
   {
    "duration": 52,
    "start_time": "2021-07-01T21:37:57.543Z"
   },
   {
    "duration": 413,
    "start_time": "2021-07-01T21:37:57.599Z"
   },
   {
    "duration": -842,
    "start_time": "2021-07-01T21:37:58.857Z"
   },
   {
    "duration": -853,
    "start_time": "2021-07-01T21:37:58.869Z"
   },
   {
    "duration": -864,
    "start_time": "2021-07-01T21:37:58.881Z"
   },
   {
    "duration": -881,
    "start_time": "2021-07-01T21:37:58.900Z"
   },
   {
    "duration": -901,
    "start_time": "2021-07-01T21:37:58.921Z"
   },
   {
    "duration": -923,
    "start_time": "2021-07-01T21:37:58.945Z"
   },
   {
    "duration": -948,
    "start_time": "2021-07-01T21:37:58.971Z"
   },
   {
    "duration": -961,
    "start_time": "2021-07-01T21:37:58.985Z"
   },
   {
    "duration": -989,
    "start_time": "2021-07-01T21:37:59.015Z"
   },
   {
    "duration": -1001,
    "start_time": "2021-07-01T21:37:59.028Z"
   },
   {
    "duration": -1023,
    "start_time": "2021-07-01T21:37:59.051Z"
   },
   {
    "duration": -1051,
    "start_time": "2021-07-01T21:37:59.080Z"
   },
   {
    "duration": -1065,
    "start_time": "2021-07-01T21:37:59.096Z"
   },
   {
    "duration": -1086,
    "start_time": "2021-07-01T21:37:59.118Z"
   },
   {
    "duration": -1105,
    "start_time": "2021-07-01T21:37:59.139Z"
   },
   {
    "duration": -1125,
    "start_time": "2021-07-01T21:37:59.161Z"
   },
   {
    "duration": -1137,
    "start_time": "2021-07-01T21:37:59.174Z"
   },
   {
    "duration": -1146,
    "start_time": "2021-07-01T21:37:59.185Z"
   },
   {
    "duration": -1175,
    "start_time": "2021-07-01T21:37:59.215Z"
   },
   {
    "duration": -1185,
    "start_time": "2021-07-01T21:37:59.227Z"
   },
   {
    "duration": -1204,
    "start_time": "2021-07-01T21:37:59.248Z"
   },
   {
    "duration": -1225,
    "start_time": "2021-07-01T21:37:59.270Z"
   },
   {
    "duration": -1249,
    "start_time": "2021-07-01T21:37:59.296Z"
   },
   {
    "duration": -1272,
    "start_time": "2021-07-01T21:37:59.321Z"
   },
   {
    "duration": -1290,
    "start_time": "2021-07-01T21:37:59.340Z"
   },
   {
    "duration": 9,
    "start_time": "2021-07-01T21:38:56.193Z"
   },
   {
    "duration": 20,
    "start_time": "2021-07-01T21:39:22.424Z"
   },
   {
    "duration": 8,
    "start_time": "2021-07-01T21:40:32.226Z"
   },
   {
    "duration": 10,
    "start_time": "2021-07-01T21:40:56.610Z"
   },
   {
    "duration": 11,
    "start_time": "2021-07-01T21:42:14.790Z"
   },
   {
    "duration": 6,
    "start_time": "2021-07-01T21:42:40.487Z"
   },
   {
    "duration": 245,
    "start_time": "2021-07-01T21:46:44.553Z"
   },
   {
    "duration": 11,
    "start_time": "2021-07-01T21:46:59.203Z"
   },
   {
    "duration": 20,
    "start_time": "2021-07-01T21:47:50.893Z"
   },
   {
    "duration": 14,
    "start_time": "2021-07-01T21:48:18.934Z"
   },
   {
    "duration": 10,
    "start_time": "2021-07-01T21:48:53.637Z"
   },
   {
    "duration": 9,
    "start_time": "2021-07-01T21:49:55.151Z"
   },
   {
    "duration": 1638,
    "start_time": "2021-07-01T21:54:51.846Z"
   },
   {
    "duration": 227,
    "start_time": "2021-07-01T21:54:53.488Z"
   },
   {
    "duration": 61,
    "start_time": "2021-07-01T21:54:53.719Z"
   },
   {
    "duration": 18,
    "start_time": "2021-07-01T21:54:53.785Z"
   },
   {
    "duration": 5,
    "start_time": "2021-07-01T21:54:53.807Z"
   },
   {
    "duration": 21,
    "start_time": "2021-07-01T21:54:53.815Z"
   },
   {
    "duration": 44,
    "start_time": "2021-07-01T21:54:53.839Z"
   },
   {
    "duration": 21,
    "start_time": "2021-07-01T21:54:53.888Z"
   },
   {
    "duration": 106,
    "start_time": "2021-07-01T21:54:53.912Z"
   },
   {
    "duration": 133,
    "start_time": "2021-07-01T21:54:54.021Z"
   },
   {
    "duration": 42,
    "start_time": "2021-07-01T21:54:54.156Z"
   },
   {
    "duration": 22,
    "start_time": "2021-07-01T21:54:54.201Z"
   },
   {
    "duration": 68,
    "start_time": "2021-07-01T21:54:54.226Z"
   },
   {
    "duration": 52,
    "start_time": "2021-07-01T21:54:54.301Z"
   },
   {
    "duration": 45,
    "start_time": "2021-07-01T21:54:54.355Z"
   },
   {
    "duration": 4,
    "start_time": "2021-07-01T21:54:54.403Z"
   },
   {
    "duration": 78,
    "start_time": "2021-07-01T21:54:54.410Z"
   },
   {
    "duration": 16,
    "start_time": "2021-07-01T21:54:54.491Z"
   },
   {
    "duration": 19,
    "start_time": "2021-07-01T21:54:54.510Z"
   },
   {
    "duration": 8,
    "start_time": "2021-07-01T21:54:54.531Z"
   },
   {
    "duration": 60,
    "start_time": "2021-07-01T21:54:54.541Z"
   },
   {
    "duration": 18,
    "start_time": "2021-07-01T21:54:54.604Z"
   },
   {
    "duration": 9,
    "start_time": "2021-07-01T21:54:54.628Z"
   },
   {
    "duration": 48,
    "start_time": "2021-07-01T21:54:54.640Z"
   },
   {
    "duration": 11,
    "start_time": "2021-07-01T21:54:54.692Z"
   },
   {
    "duration": 114,
    "start_time": "2021-07-01T21:54:54.706Z"
   },
   {
    "duration": 16,
    "start_time": "2021-07-01T21:54:54.823Z"
   },
   {
    "duration": 44,
    "start_time": "2021-07-01T21:54:54.841Z"
   },
   {
    "duration": 51,
    "start_time": "2021-07-01T21:54:54.888Z"
   },
   {
    "duration": 74,
    "start_time": "2021-07-01T21:54:54.942Z"
   },
   {
    "duration": 6,
    "start_time": "2021-07-01T21:54:55.018Z"
   },
   {
    "duration": 18,
    "start_time": "2021-07-01T21:54:55.027Z"
   },
   {
    "duration": 719,
    "start_time": "2021-07-01T21:54:55.047Z"
   },
   {
    "duration": 714,
    "start_time": "2021-07-01T21:54:55.769Z"
   },
   {
    "duration": 589,
    "start_time": "2021-07-01T21:54:56.486Z"
   },
   {
    "duration": 53,
    "start_time": "2021-07-01T21:54:57.077Z"
   },
   {
    "duration": 670,
    "start_time": "2021-07-01T21:54:57.132Z"
   },
   {
    "duration": 547,
    "start_time": "2021-07-01T21:54:57.805Z"
   },
   {
    "duration": 923,
    "start_time": "2021-07-01T21:54:58.354Z"
   },
   {
    "duration": 458,
    "start_time": "2021-07-01T21:54:59.280Z"
   },
   {
    "duration": -673,
    "start_time": "2021-07-01T21:55:00.413Z"
   },
   {
    "duration": -695,
    "start_time": "2021-07-01T21:55:00.437Z"
   },
   {
    "duration": -709,
    "start_time": "2021-07-01T21:55:00.453Z"
   },
   {
    "duration": -715,
    "start_time": "2021-07-01T21:55:00.460Z"
   },
   {
    "duration": -729,
    "start_time": "2021-07-01T21:55:00.476Z"
   },
   {
    "duration": -735,
    "start_time": "2021-07-01T21:55:00.485Z"
   },
   {
    "duration": -739,
    "start_time": "2021-07-01T21:55:00.491Z"
   },
   {
    "duration": -744,
    "start_time": "2021-07-01T21:55:00.498Z"
   },
   {
    "duration": -758,
    "start_time": "2021-07-01T21:55:00.514Z"
   },
   {
    "duration": -775,
    "start_time": "2021-07-01T21:55:00.533Z"
   },
   {
    "duration": 258,
    "start_time": "2021-07-01T22:06:59.356Z"
   },
   {
    "duration": 92,
    "start_time": "2021-07-01T22:08:04.022Z"
   },
   {
    "duration": 18,
    "start_time": "2021-07-01T22:12:07.690Z"
   },
   {
    "duration": 26,
    "start_time": "2021-07-01T22:16:35.319Z"
   },
   {
    "duration": 26,
    "start_time": "2021-07-01T22:17:17.920Z"
   },
   {
    "duration": 19,
    "start_time": "2021-07-01T22:19:53.589Z"
   },
   {
    "duration": 33,
    "start_time": "2021-07-01T22:25:08.072Z"
   },
   {
    "duration": 13,
    "start_time": "2021-07-01T22:25:48.827Z"
   },
   {
    "duration": 11,
    "start_time": "2021-07-01T22:26:52.746Z"
   },
   {
    "duration": 9,
    "start_time": "2021-07-01T22:27:48.788Z"
   },
   {
    "duration": 7,
    "start_time": "2021-07-01T22:29:25.430Z"
   },
   {
    "duration": 6,
    "start_time": "2021-07-01T22:30:58.902Z"
   },
   {
    "duration": 6,
    "start_time": "2021-07-01T22:31:24.144Z"
   },
   {
    "duration": 7,
    "start_time": "2021-07-01T22:31:54.120Z"
   },
   {
    "duration": 47,
    "start_time": "2021-07-01T22:33:41.642Z"
   },
   {
    "duration": 6,
    "start_time": "2021-07-01T22:33:44.227Z"
   },
   {
    "duration": 46,
    "start_time": "2021-07-01T22:34:18.802Z"
   },
   {
    "duration": 6,
    "start_time": "2021-07-01T22:34:20.268Z"
   },
   {
    "duration": 133,
    "start_time": "2021-07-01T22:34:28.835Z"
   },
   {
    "duration": 7,
    "start_time": "2021-07-01T22:34:34.420Z"
   },
   {
    "duration": 50,
    "start_time": "2021-07-01T22:36:24.781Z"
   },
   {
    "duration": 7,
    "start_time": "2021-07-01T22:36:25.821Z"
   },
   {
    "duration": 13,
    "start_time": "2021-07-01T22:36:50.551Z"
   },
   {
    "duration": 1530,
    "start_time": "2021-07-01T22:37:17.312Z"
   },
   {
    "duration": 218,
    "start_time": "2021-07-01T22:37:18.845Z"
   },
   {
    "duration": 61,
    "start_time": "2021-07-01T22:37:19.066Z"
   },
   {
    "duration": 7,
    "start_time": "2021-07-01T22:37:19.131Z"
   },
   {
    "duration": 13,
    "start_time": "2021-07-01T22:37:19.141Z"
   },
   {
    "duration": 29,
    "start_time": "2021-07-01T22:37:19.157Z"
   },
   {
    "duration": 28,
    "start_time": "2021-07-01T22:37:19.190Z"
   },
   {
    "duration": 5,
    "start_time": "2021-07-01T22:37:19.222Z"
   },
   {
    "duration": 24,
    "start_time": "2021-07-01T22:37:19.230Z"
   },
   {
    "duration": 98,
    "start_time": "2021-07-01T22:37:19.257Z"
   },
   {
    "duration": 149,
    "start_time": "2021-07-01T22:37:19.357Z"
   },
   {
    "duration": 20,
    "start_time": "2021-07-01T22:37:19.508Z"
   },
   {
    "duration": 22,
    "start_time": "2021-07-01T22:37:19.530Z"
   },
   {
    "duration": 41,
    "start_time": "2021-07-01T22:37:19.584Z"
   },
   {
    "duration": 83,
    "start_time": "2021-07-01T22:37:19.628Z"
   },
   {
    "duration": 17,
    "start_time": "2021-07-01T22:37:19.713Z"
   },
   {
    "duration": 4,
    "start_time": "2021-07-01T22:37:19.732Z"
   },
   {
    "duration": 84,
    "start_time": "2021-07-01T22:37:19.738Z"
   },
   {
    "duration": 15,
    "start_time": "2021-07-01T22:37:19.825Z"
   },
   {
    "duration": 45,
    "start_time": "2021-07-01T22:37:19.843Z"
   },
   {
    "duration": 11,
    "start_time": "2021-07-01T22:37:19.893Z"
   },
   {
    "duration": 8,
    "start_time": "2021-07-01T22:37:19.906Z"
   },
   {
    "duration": 14,
    "start_time": "2021-07-01T22:37:19.921Z"
   },
   {
    "duration": 58,
    "start_time": "2021-07-01T22:37:19.938Z"
   },
   {
    "duration": 22,
    "start_time": "2021-07-01T22:37:19.999Z"
   },
   {
    "duration": 9,
    "start_time": "2021-07-01T22:37:20.024Z"
   },
   {
    "duration": 113,
    "start_time": "2021-07-01T22:37:20.036Z"
   },
   {
    "duration": 40,
    "start_time": "2021-07-01T22:37:20.152Z"
   },
   {
    "duration": 22,
    "start_time": "2021-07-01T22:37:20.197Z"
   },
   {
    "duration": 76,
    "start_time": "2021-07-01T22:37:20.223Z"
   },
   {
    "duration": 37,
    "start_time": "2021-07-01T22:37:20.303Z"
   },
   {
    "duration": 5,
    "start_time": "2021-07-01T22:37:20.342Z"
   },
   {
    "duration": 17,
    "start_time": "2021-07-01T22:37:20.383Z"
   },
   {
    "duration": 46,
    "start_time": "2021-07-01T22:37:20.402Z"
   },
   {
    "duration": 38,
    "start_time": "2021-07-01T22:37:20.450Z"
   },
   {
    "duration": 682,
    "start_time": "2021-07-01T22:37:20.491Z"
   },
   {
    "duration": 645,
    "start_time": "2021-07-01T22:37:21.185Z"
   },
   {
    "duration": 564,
    "start_time": "2021-07-01T22:37:21.833Z"
   },
   {
    "duration": 42,
    "start_time": "2021-07-01T22:37:22.401Z"
   },
   {
    "duration": 624,
    "start_time": "2021-07-01T22:37:22.445Z"
   },
   {
    "duration": 536,
    "start_time": "2021-07-01T22:37:23.071Z"
   },
   {
    "duration": 676,
    "start_time": "2021-07-01T22:37:23.610Z"
   },
   {
    "duration": 446,
    "start_time": "2021-07-01T22:37:24.288Z"
   },
   {
    "duration": -653,
    "start_time": "2021-07-01T22:37:25.389Z"
   },
   {
    "duration": -669,
    "start_time": "2021-07-01T22:37:25.407Z"
   },
   {
    "duration": -688,
    "start_time": "2021-07-01T22:37:25.427Z"
   },
   {
    "duration": -696,
    "start_time": "2021-07-01T22:37:25.436Z"
   },
   {
    "duration": -705,
    "start_time": "2021-07-01T22:37:25.447Z"
   },
   {
    "duration": -723,
    "start_time": "2021-07-01T22:37:25.466Z"
   },
   {
    "duration": -743,
    "start_time": "2021-07-01T22:37:25.487Z"
   },
   {
    "duration": -753,
    "start_time": "2021-07-01T22:37:25.498Z"
   },
   {
    "duration": -769,
    "start_time": "2021-07-01T22:37:25.516Z"
   },
   {
    "duration": -785,
    "start_time": "2021-07-01T22:37:25.533Z"
   },
   {
    "duration": 17,
    "start_time": "2021-07-01T22:37:45.877Z"
   },
   {
    "duration": 13,
    "start_time": "2021-07-01T22:37:59.158Z"
   },
   {
    "duration": 12,
    "start_time": "2021-07-01T22:38:09.119Z"
   },
   {
    "duration": 9,
    "start_time": "2021-07-01T22:38:32.125Z"
   },
   {
    "duration": 27,
    "start_time": "2021-07-01T22:38:36.671Z"
   },
   {
    "duration": 9,
    "start_time": "2021-07-01T22:39:07.439Z"
   },
   {
    "duration": 27,
    "start_time": "2021-07-01T22:39:10.809Z"
   },
   {
    "duration": 13,
    "start_time": "2021-07-01T22:40:10.457Z"
   },
   {
    "duration": 6,
    "start_time": "2021-07-01T22:46:39.632Z"
   },
   {
    "duration": 84,
    "start_time": "2021-07-01T22:49:27.779Z"
   },
   {
    "duration": 1686,
    "start_time": "2021-07-01T22:52:56.051Z"
   },
   {
    "duration": 206,
    "start_time": "2021-07-01T22:52:57.740Z"
   },
   {
    "duration": 69,
    "start_time": "2021-07-01T22:52:57.949Z"
   },
   {
    "duration": 6,
    "start_time": "2021-07-01T22:52:58.021Z"
   },
   {
    "duration": 19,
    "start_time": "2021-07-01T22:52:58.030Z"
   },
   {
    "duration": 33,
    "start_time": "2021-07-01T22:52:58.052Z"
   },
   {
    "duration": 22,
    "start_time": "2021-07-01T22:52:58.089Z"
   },
   {
    "duration": 5,
    "start_time": "2021-07-01T22:52:58.115Z"
   },
   {
    "duration": 21,
    "start_time": "2021-07-01T22:52:58.123Z"
   },
   {
    "duration": 112,
    "start_time": "2021-07-01T22:52:58.146Z"
   },
   {
    "duration": 167,
    "start_time": "2021-07-01T22:52:58.261Z"
   },
   {
    "duration": 21,
    "start_time": "2021-07-01T22:52:58.430Z"
   },
   {
    "duration": 67,
    "start_time": "2021-07-01T22:52:58.453Z"
   },
   {
    "duration": 66,
    "start_time": "2021-07-01T22:52:58.522Z"
   },
   {
    "duration": 54,
    "start_time": "2021-07-01T22:52:58.592Z"
   },
   {
    "duration": 40,
    "start_time": "2021-07-01T22:52:58.648Z"
   },
   {
    "duration": 6,
    "start_time": "2021-07-01T22:52:58.691Z"
   },
   {
    "duration": 86,
    "start_time": "2021-07-01T22:52:58.701Z"
   },
   {
    "duration": 18,
    "start_time": "2021-07-01T22:52:58.791Z"
   },
   {
    "duration": 16,
    "start_time": "2021-07-01T22:52:58.812Z"
   },
   {
    "duration": 8,
    "start_time": "2021-07-01T22:52:58.832Z"
   },
   {
    "duration": 8,
    "start_time": "2021-07-01T22:52:58.884Z"
   },
   {
    "duration": 19,
    "start_time": "2021-07-01T22:52:58.902Z"
   },
   {
    "duration": 10,
    "start_time": "2021-07-01T22:52:58.924Z"
   },
   {
    "duration": 72,
    "start_time": "2021-07-01T22:52:58.937Z"
   },
   {
    "duration": 10,
    "start_time": "2021-07-01T22:52:59.012Z"
   },
   {
    "duration": 12,
    "start_time": "2021-07-01T22:52:59.025Z"
   },
   {
    "duration": 6,
    "start_time": "2021-07-01T22:52:59.040Z"
   },
   {
    "duration": 34,
    "start_time": "2021-07-01T22:52:59.084Z"
   },
   {
    "duration": 116,
    "start_time": "2021-07-01T22:52:59.120Z"
   },
   {
    "duration": 18,
    "start_time": "2021-07-01T22:52:59.239Z"
   },
   {
    "duration": 49,
    "start_time": "2021-07-01T22:52:59.260Z"
   },
   {
    "duration": 82,
    "start_time": "2021-07-01T22:52:59.312Z"
   },
   {
    "duration": 40,
    "start_time": "2021-07-01T22:52:59.397Z"
   },
   {
    "duration": 5,
    "start_time": "2021-07-01T22:52:59.440Z"
   },
   {
    "duration": 51,
    "start_time": "2021-07-01T22:52:59.447Z"
   },
   {
    "duration": 107,
    "start_time": "2021-07-01T22:52:59.502Z"
   },
   {
    "duration": -1293,
    "start_time": "2021-07-01T22:53:00.906Z"
   },
   {
    "duration": -1316,
    "start_time": "2021-07-01T22:53:00.931Z"
   },
   {
    "duration": -1333,
    "start_time": "2021-07-01T22:53:00.951Z"
   },
   {
    "duration": -1344,
    "start_time": "2021-07-01T22:53:00.964Z"
   },
   {
    "duration": -1358,
    "start_time": "2021-07-01T22:53:00.980Z"
   },
   {
    "duration": -1367,
    "start_time": "2021-07-01T22:53:00.991Z"
   },
   {
    "duration": -1382,
    "start_time": "2021-07-01T22:53:01.008Z"
   },
   {
    "duration": -1395,
    "start_time": "2021-07-01T22:53:01.024Z"
   },
   {
    "duration": -1414,
    "start_time": "2021-07-01T22:53:01.045Z"
   },
   {
    "duration": -1436,
    "start_time": "2021-07-01T22:53:01.069Z"
   },
   {
    "duration": -1446,
    "start_time": "2021-07-01T22:53:01.081Z"
   },
   {
    "duration": -1471,
    "start_time": "2021-07-01T22:53:01.109Z"
   },
   {
    "duration": -1491,
    "start_time": "2021-07-01T22:53:01.131Z"
   },
   {
    "duration": -1509,
    "start_time": "2021-07-01T22:53:01.151Z"
   },
   {
    "duration": -1529,
    "start_time": "2021-07-01T22:53:01.173Z"
   },
   {
    "duration": -1549,
    "start_time": "2021-07-01T22:53:01.195Z"
   },
   {
    "duration": -1566,
    "start_time": "2021-07-01T22:53:01.215Z"
   },
   {
    "duration": 66,
    "start_time": "2021-07-01T22:54:07.048Z"
   },
   {
    "duration": 1633,
    "start_time": "2021-07-01T22:54:12.668Z"
   },
   {
    "duration": 194,
    "start_time": "2021-07-01T22:54:14.304Z"
   },
   {
    "duration": 54,
    "start_time": "2021-07-01T22:54:14.502Z"
   },
   {
    "duration": 24,
    "start_time": "2021-07-01T22:54:14.559Z"
   },
   {
    "duration": 18,
    "start_time": "2021-07-01T22:54:14.588Z"
   },
   {
    "duration": 4,
    "start_time": "2021-07-01T22:54:14.608Z"
   },
   {
    "duration": 21,
    "start_time": "2021-07-01T22:54:14.615Z"
   },
   {
    "duration": 5,
    "start_time": "2021-07-01T22:54:14.640Z"
   },
   {
    "duration": 24,
    "start_time": "2021-07-01T22:54:14.684Z"
   },
   {
    "duration": 94,
    "start_time": "2021-07-01T22:54:14.710Z"
   },
   {
    "duration": 129,
    "start_time": "2021-07-01T22:54:14.806Z"
   },
   {
    "duration": 20,
    "start_time": "2021-07-01T22:54:14.937Z"
   },
   {
    "duration": 49,
    "start_time": "2021-07-01T22:54:14.959Z"
   },
   {
    "duration": 41,
    "start_time": "2021-07-01T22:54:15.011Z"
   },
   {
    "duration": 79,
    "start_time": "2021-07-01T22:54:15.054Z"
   },
   {
    "duration": 17,
    "start_time": "2021-07-01T22:54:15.136Z"
   },
   {
    "duration": 34,
    "start_time": "2021-07-01T22:54:15.155Z"
   },
   {
    "duration": 48,
    "start_time": "2021-07-01T22:54:15.192Z"
   },
   {
    "duration": 47,
    "start_time": "2021-07-01T22:54:15.243Z"
   },
   {
    "duration": 31,
    "start_time": "2021-07-01T22:54:15.294Z"
   },
   {
    "duration": 8,
    "start_time": "2021-07-01T22:54:15.328Z"
   },
   {
    "duration": 5,
    "start_time": "2021-07-01T22:54:15.339Z"
   },
   {
    "duration": 49,
    "start_time": "2021-07-01T22:54:15.350Z"
   },
   {
    "duration": 10,
    "start_time": "2021-07-01T22:54:15.402Z"
   },
   {
    "duration": 22,
    "start_time": "2021-07-01T22:54:15.414Z"
   },
   {
    "duration": 8,
    "start_time": "2021-07-01T22:54:15.438Z"
   },
   {
    "duration": 19,
    "start_time": "2021-07-01T22:54:15.484Z"
   },
   {
    "duration": 15,
    "start_time": "2021-07-01T22:54:15.505Z"
   },
   {
    "duration": 29,
    "start_time": "2021-07-01T22:54:15.523Z"
   },
   {
    "duration": 105,
    "start_time": "2021-07-01T22:54:15.555Z"
   },
   {
    "duration": 40,
    "start_time": "2021-07-01T22:54:15.663Z"
   },
   {
    "duration": 25,
    "start_time": "2021-07-01T22:54:15.706Z"
   },
   {
    "duration": 76,
    "start_time": "2021-07-01T22:54:15.734Z"
   },
   {
    "duration": 36,
    "start_time": "2021-07-01T22:54:15.813Z"
   },
   {
    "duration": 4,
    "start_time": "2021-07-01T22:54:15.852Z"
   },
   {
    "duration": 18,
    "start_time": "2021-07-01T22:54:15.883Z"
   },
   {
    "duration": 102,
    "start_time": "2021-07-01T22:54:15.903Z"
   },
   {
    "duration": 6,
    "start_time": "2021-07-01T22:54:16.007Z"
   },
   {
    "duration": 15,
    "start_time": "2021-07-01T22:54:16.015Z"
   },
   {
    "duration": 706,
    "start_time": "2021-07-01T22:54:16.032Z"
   },
   {
    "duration": 646,
    "start_time": "2021-07-01T22:54:16.741Z"
   },
   {
    "duration": 566,
    "start_time": "2021-07-01T22:54:17.391Z"
   },
   {
    "duration": 53,
    "start_time": "2021-07-01T22:54:17.959Z"
   },
   {
    "duration": 650,
    "start_time": "2021-07-01T22:54:18.015Z"
   },
   {
    "duration": 555,
    "start_time": "2021-07-01T22:54:18.668Z"
   },
   {
    "duration": 673,
    "start_time": "2021-07-01T22:54:19.226Z"
   },
   {
    "duration": 6,
    "start_time": "2021-07-01T22:54:19.901Z"
   },
   {
    "duration": 11,
    "start_time": "2021-07-01T22:54:19.911Z"
   },
   {
    "duration": 66,
    "start_time": "2021-07-01T22:54:19.925Z"
   },
   {
    "duration": 10,
    "start_time": "2021-07-01T22:54:19.994Z"
   },
   {
    "duration": 101,
    "start_time": "2021-07-01T22:54:20.007Z"
   },
   {
    "duration": -718,
    "start_time": "2021-07-01T22:54:20.828Z"
   },
   {
    "duration": -734,
    "start_time": "2021-07-01T22:54:20.846Z"
   },
   {
    "duration": -751,
    "start_time": "2021-07-01T22:54:20.865Z"
   },
   {
    "duration": 12,
    "start_time": "2021-07-01T22:58:06.163Z"
   },
   {
    "duration": 1548,
    "start_time": "2021-07-01T22:58:22.981Z"
   },
   {
    "duration": 194,
    "start_time": "2021-07-01T22:58:24.532Z"
   },
   {
    "duration": 60,
    "start_time": "2021-07-01T22:58:24.729Z"
   },
   {
    "duration": 9,
    "start_time": "2021-07-01T22:58:24.792Z"
   },
   {
    "duration": 15,
    "start_time": "2021-07-01T22:58:24.804Z"
   },
   {
    "duration": 5,
    "start_time": "2021-07-01T22:58:24.822Z"
   },
   {
    "duration": 55,
    "start_time": "2021-07-01T22:58:24.830Z"
   },
   {
    "duration": 6,
    "start_time": "2021-07-01T22:58:24.888Z"
   },
   {
    "duration": 19,
    "start_time": "2021-07-01T22:58:24.899Z"
   },
   {
    "duration": 99,
    "start_time": "2021-07-01T22:58:24.921Z"
   },
   {
    "duration": 126,
    "start_time": "2021-07-01T22:58:25.023Z"
   },
   {
    "duration": 33,
    "start_time": "2021-07-01T22:58:25.152Z"
   },
   {
    "duration": 27,
    "start_time": "2021-07-01T22:58:25.189Z"
   },
   {
    "duration": 82,
    "start_time": "2021-07-01T22:58:25.219Z"
   },
   {
    "duration": 50,
    "start_time": "2021-07-01T22:58:25.304Z"
   },
   {
    "duration": 44,
    "start_time": "2021-07-01T22:58:25.356Z"
   },
   {
    "duration": 5,
    "start_time": "2021-07-01T22:58:25.402Z"
   },
   {
    "duration": 76,
    "start_time": "2021-07-01T22:58:25.412Z"
   },
   {
    "duration": 18,
    "start_time": "2021-07-01T22:58:25.493Z"
   },
   {
    "duration": 19,
    "start_time": "2021-07-01T22:58:25.514Z"
   },
   {
    "duration": 55,
    "start_time": "2021-07-01T22:58:25.536Z"
   },
   {
    "duration": 6,
    "start_time": "2021-07-01T22:58:25.594Z"
   },
   {
    "duration": 21,
    "start_time": "2021-07-01T22:58:25.603Z"
   },
   {
    "duration": 9,
    "start_time": "2021-07-01T22:58:25.627Z"
   },
   {
    "duration": 58,
    "start_time": "2021-07-01T22:58:25.638Z"
   },
   {
    "duration": 8,
    "start_time": "2021-07-01T22:58:25.698Z"
   },
   {
    "duration": 22,
    "start_time": "2021-07-01T22:58:25.708Z"
   },
   {
    "duration": 10,
    "start_time": "2021-07-01T22:58:25.732Z"
   },
   {
    "duration": 58,
    "start_time": "2021-07-01T22:58:25.744Z"
   },
   {
    "duration": 103,
    "start_time": "2021-07-01T22:58:25.805Z"
   },
   {
    "duration": 18,
    "start_time": "2021-07-01T22:58:25.911Z"
   },
   {
    "duration": 23,
    "start_time": "2021-07-01T22:58:25.932Z"
   },
   {
    "duration": 48,
    "start_time": "2021-07-01T22:58:25.986Z"
   },
   {
    "duration": 69,
    "start_time": "2021-07-01T22:58:26.036Z"
   },
   {
    "duration": 4,
    "start_time": "2021-07-01T22:58:26.108Z"
   },
   {
    "duration": 16,
    "start_time": "2021-07-01T22:58:26.115Z"
   },
   {
    "duration": 96,
    "start_time": "2021-07-01T22:58:26.134Z"
   },
   {
    "duration": 6,
    "start_time": "2021-07-01T22:58:26.232Z"
   },
   {
    "duration": 19,
    "start_time": "2021-07-01T22:58:26.240Z"
   },
   {
    "duration": 726,
    "start_time": "2021-07-01T22:58:26.262Z"
   },
   {
    "duration": 636,
    "start_time": "2021-07-01T22:58:26.992Z"
   },
   {
    "duration": 520,
    "start_time": "2021-07-01T22:58:27.630Z"
   },
   {
    "duration": 55,
    "start_time": "2021-07-01T22:58:28.153Z"
   },
   {
    "duration": 603,
    "start_time": "2021-07-01T22:58:28.210Z"
   },
   {
    "duration": 571,
    "start_time": "2021-07-01T22:58:28.816Z"
   },
   {
    "duration": 756,
    "start_time": "2021-07-01T22:58:29.390Z"
   },
   {
    "duration": 7,
    "start_time": "2021-07-01T22:58:30.148Z"
   },
   {
    "duration": 28,
    "start_time": "2021-07-01T22:58:30.157Z"
   },
   {
    "duration": 46,
    "start_time": "2021-07-01T22:58:30.188Z"
   },
   {
    "duration": 9,
    "start_time": "2021-07-01T22:58:30.236Z"
   },
   {
    "duration": 117,
    "start_time": "2021-07-01T22:58:30.248Z"
   },
   {
    "duration": -691,
    "start_time": "2021-07-01T22:58:31.058Z"
   },
   {
    "duration": -700,
    "start_time": "2021-07-01T22:58:31.069Z"
   },
   {
    "duration": -717,
    "start_time": "2021-07-01T22:58:31.087Z"
   },
   {
    "duration": 1592,
    "start_time": "2021-07-01T23:07:09.773Z"
   },
   {
    "duration": 198,
    "start_time": "2021-07-01T23:07:11.367Z"
   },
   {
    "duration": 61,
    "start_time": "2021-07-01T23:07:11.568Z"
   },
   {
    "duration": 8,
    "start_time": "2021-07-01T23:07:11.633Z"
   },
   {
    "duration": 13,
    "start_time": "2021-07-01T23:07:11.643Z"
   },
   {
    "duration": 7,
    "start_time": "2021-07-01T23:07:11.685Z"
   },
   {
    "duration": 17,
    "start_time": "2021-07-01T23:07:11.696Z"
   },
   {
    "duration": 5,
    "start_time": "2021-07-01T23:07:11.717Z"
   },
   {
    "duration": 19,
    "start_time": "2021-07-01T23:07:11.726Z"
   },
   {
    "duration": 75,
    "start_time": "2021-07-01T23:07:11.785Z"
   },
   {
    "duration": 154,
    "start_time": "2021-07-01T23:07:11.863Z"
   },
   {
    "duration": 20,
    "start_time": "2021-07-01T23:07:12.019Z"
   },
   {
    "duration": 44,
    "start_time": "2021-07-01T23:07:12.041Z"
   },
   {
    "duration": 40,
    "start_time": "2021-07-01T23:07:12.089Z"
   },
   {
    "duration": 87,
    "start_time": "2021-07-01T23:07:12.131Z"
   },
   {
    "duration": 16,
    "start_time": "2021-07-01T23:07:12.220Z"
   },
   {
    "duration": 4,
    "start_time": "2021-07-01T23:07:12.239Z"
   },
   {
    "duration": 76,
    "start_time": "2021-07-01T23:07:12.245Z"
   },
   {
    "duration": 14,
    "start_time": "2021-07-01T23:07:12.324Z"
   },
   {
    "duration": 58,
    "start_time": "2021-07-01T23:07:12.341Z"
   },
   {
    "duration": 9,
    "start_time": "2021-07-01T23:07:12.401Z"
   },
   {
    "duration": 6,
    "start_time": "2021-07-01T23:07:12.412Z"
   },
   {
    "duration": 14,
    "start_time": "2021-07-01T23:07:12.424Z"
   },
   {
    "duration": 44,
    "start_time": "2021-07-01T23:07:12.441Z"
   },
   {
    "duration": 32,
    "start_time": "2021-07-01T23:07:12.489Z"
   },
   {
    "duration": 9,
    "start_time": "2021-07-01T23:07:12.524Z"
   },
   {
    "duration": 57,
    "start_time": "2021-07-01T23:07:12.536Z"
   },
   {
    "duration": 7,
    "start_time": "2021-07-01T23:07:12.597Z"
   },
   {
    "duration": 38,
    "start_time": "2021-07-01T23:07:12.607Z"
   },
   {
    "duration": 109,
    "start_time": "2021-07-01T23:07:12.648Z"
   },
   {
    "duration": 39,
    "start_time": "2021-07-01T23:07:12.760Z"
   },
   {
    "duration": 20,
    "start_time": "2021-07-01T23:07:12.801Z"
   },
   {
    "duration": 80,
    "start_time": "2021-07-01T23:07:12.823Z"
   },
   {
    "duration": 34,
    "start_time": "2021-07-01T23:07:12.905Z"
   },
   {
    "duration": 5,
    "start_time": "2021-07-01T23:07:12.942Z"
   },
   {
    "duration": 47,
    "start_time": "2021-07-01T23:07:12.949Z"
   },
   {
    "duration": 88,
    "start_time": "2021-07-01T23:07:12.999Z"
   },
   {
    "duration": 8,
    "start_time": "2021-07-01T23:07:13.090Z"
   },
   {
    "duration": 12,
    "start_time": "2021-07-01T23:07:13.101Z"
   },
   {
    "duration": 714,
    "start_time": "2021-07-01T23:07:13.115Z"
   },
   {
    "duration": 645,
    "start_time": "2021-07-01T23:07:13.832Z"
   },
   {
    "duration": 537,
    "start_time": "2021-07-01T23:07:14.483Z"
   },
   {
    "duration": 64,
    "start_time": "2021-07-01T23:07:15.023Z"
   },
   {
    "duration": 618,
    "start_time": "2021-07-01T23:07:15.091Z"
   },
   {
    "duration": 571,
    "start_time": "2021-07-01T23:07:15.712Z"
   },
   {
    "duration": 784,
    "start_time": "2021-07-01T23:07:16.287Z"
   },
   {
    "duration": 18,
    "start_time": "2021-07-01T23:07:17.073Z"
   },
   {
    "duration": 12,
    "start_time": "2021-07-01T23:07:17.095Z"
   },
   {
    "duration": 37,
    "start_time": "2021-07-01T23:07:17.110Z"
   },
   {
    "duration": 42,
    "start_time": "2021-07-01T23:07:17.149Z"
   },
   {
    "duration": 86,
    "start_time": "2021-07-01T23:07:17.196Z"
   },
   {
    "duration": -697,
    "start_time": "2021-07-01T23:07:17.984Z"
   },
   {
    "duration": -706,
    "start_time": "2021-07-01T23:07:17.995Z"
   },
   {
    "duration": -721,
    "start_time": "2021-07-01T23:07:18.013Z"
   },
   {
    "duration": 538,
    "start_time": "2021-07-01T23:07:45.091Z"
   },
   {
    "duration": 550,
    "start_time": "2021-07-01T23:08:01.187Z"
   },
   {
    "duration": 1602,
    "start_time": "2021-07-02T08:59:05.654Z"
   },
   {
    "duration": 210,
    "start_time": "2021-07-02T08:59:07.259Z"
   },
   {
    "duration": 61,
    "start_time": "2021-07-02T08:59:07.473Z"
   },
   {
    "duration": 20,
    "start_time": "2021-07-02T08:59:07.537Z"
   },
   {
    "duration": 20,
    "start_time": "2021-07-02T08:59:07.560Z"
   },
   {
    "duration": 5,
    "start_time": "2021-07-02T08:59:07.582Z"
   },
   {
    "duration": 25,
    "start_time": "2021-07-02T08:59:07.590Z"
   },
   {
    "duration": 6,
    "start_time": "2021-07-02T08:59:07.619Z"
   },
   {
    "duration": 37,
    "start_time": "2021-07-02T08:59:07.657Z"
   },
   {
    "duration": 76,
    "start_time": "2021-07-02T08:59:07.697Z"
   },
   {
    "duration": 134,
    "start_time": "2021-07-02T08:59:07.776Z"
   },
   {
    "duration": 22,
    "start_time": "2021-07-02T08:59:07.912Z"
   },
   {
    "duration": 39,
    "start_time": "2021-07-02T08:59:07.937Z"
   },
   {
    "duration": 36,
    "start_time": "2021-07-02T08:59:07.978Z"
   },
   {
    "duration": 82,
    "start_time": "2021-07-02T08:59:08.017Z"
   },
   {
    "duration": 17,
    "start_time": "2021-07-02T08:59:08.102Z"
   },
   {
    "duration": 4,
    "start_time": "2021-07-02T08:59:08.154Z"
   },
   {
    "duration": 60,
    "start_time": "2021-07-02T08:59:08.162Z"
   },
   {
    "duration": 45,
    "start_time": "2021-07-02T08:59:08.226Z"
   },
   {
    "duration": 16,
    "start_time": "2021-07-02T08:59:08.274Z"
   },
   {
    "duration": 7,
    "start_time": "2021-07-02T08:59:08.293Z"
   },
   {
    "duration": 7,
    "start_time": "2021-07-02T08:59:08.302Z"
   },
   {
    "duration": 17,
    "start_time": "2021-07-02T08:59:08.355Z"
   },
   {
    "duration": 10,
    "start_time": "2021-07-02T08:59:08.376Z"
   },
   {
    "duration": 27,
    "start_time": "2021-07-02T08:59:08.388Z"
   },
   {
    "duration": 39,
    "start_time": "2021-07-02T08:59:08.417Z"
   },
   {
    "duration": 15,
    "start_time": "2021-07-02T08:59:08.459Z"
   },
   {
    "duration": 13,
    "start_time": "2021-07-02T08:59:08.477Z"
   },
   {
    "duration": 37,
    "start_time": "2021-07-02T08:59:08.492Z"
   },
   {
    "duration": 101,
    "start_time": "2021-07-02T08:59:08.531Z"
   },
   {
    "duration": 36,
    "start_time": "2021-07-02T08:59:08.634Z"
   },
   {
    "duration": 23,
    "start_time": "2021-07-02T08:59:08.673Z"
   },
   {
    "duration": 79,
    "start_time": "2021-07-02T08:59:08.698Z"
   },
   {
    "duration": 37,
    "start_time": "2021-07-02T08:59:08.780Z"
   },
   {
    "duration": 8,
    "start_time": "2021-07-02T08:59:08.820Z"
   },
   {
    "duration": 12,
    "start_time": "2021-07-02T08:59:08.856Z"
   },
   {
    "duration": 108,
    "start_time": "2021-07-02T08:59:08.871Z"
   },
   {
    "duration": 6,
    "start_time": "2021-07-02T08:59:08.982Z"
   },
   {
    "duration": 23,
    "start_time": "2021-07-02T08:59:08.990Z"
   },
   {
    "duration": 804,
    "start_time": "2021-07-02T08:59:09.016Z"
   },
   {
    "duration": 949,
    "start_time": "2021-07-02T08:59:09.822Z"
   },
   {
    "duration": 588,
    "start_time": "2021-07-02T08:59:10.774Z"
   },
   {
    "duration": 46,
    "start_time": "2021-07-02T08:59:11.365Z"
   },
   {
    "duration": 983,
    "start_time": "2021-07-02T08:59:11.414Z"
   },
   {
    "duration": 700,
    "start_time": "2021-07-02T08:59:12.404Z"
   },
   {
    "duration": 600,
    "start_time": "2021-07-02T08:59:13.107Z"
   },
   {
    "duration": 115,
    "start_time": "2021-07-02T08:59:13.710Z"
   },
   {
    "duration": -1124,
    "start_time": "2021-07-02T08:59:14.951Z"
   },
   {
    "duration": -1137,
    "start_time": "2021-07-02T08:59:14.966Z"
   },
   {
    "duration": -1151,
    "start_time": "2021-07-02T08:59:14.981Z"
   },
   {
    "duration": -1157,
    "start_time": "2021-07-02T08:59:14.989Z"
   },
   {
    "duration": -1171,
    "start_time": "2021-07-02T08:59:15.004Z"
   },
   {
    "duration": -1185,
    "start_time": "2021-07-02T08:59:15.019Z"
   },
   {
    "duration": -1202,
    "start_time": "2021-07-02T08:59:15.037Z"
   },
   {
    "duration": -1216,
    "start_time": "2021-07-02T08:59:15.053Z"
   },
   {
    "duration": 545,
    "start_time": "2021-07-02T09:01:08.460Z"
   },
   {
    "duration": 547,
    "start_time": "2021-07-02T09:01:26.852Z"
   },
   {
    "duration": 534,
    "start_time": "2021-07-02T09:01:47.703Z"
   },
   {
    "duration": 550,
    "start_time": "2021-07-02T09:02:12.900Z"
   },
   {
    "duration": 646,
    "start_time": "2021-07-02T09:02:31.229Z"
   },
   {
    "duration": 537,
    "start_time": "2021-07-02T09:03:02.006Z"
   },
   {
    "duration": 11,
    "start_time": "2021-07-02T09:03:03.222Z"
   },
   {
    "duration": 658,
    "start_time": "2021-07-02T09:03:58.565Z"
   },
   {
    "duration": 1622,
    "start_time": "2021-07-02T09:04:06.973Z"
   },
   {
    "duration": 208,
    "start_time": "2021-07-02T09:04:08.598Z"
   },
   {
    "duration": 60,
    "start_time": "2021-07-02T09:04:08.809Z"
   },
   {
    "duration": 7,
    "start_time": "2021-07-02T09:04:08.872Z"
   },
   {
    "duration": 14,
    "start_time": "2021-07-02T09:04:08.881Z"
   },
   {
    "duration": 5,
    "start_time": "2021-07-02T09:04:08.897Z"
   },
   {
    "duration": 52,
    "start_time": "2021-07-02T09:04:08.905Z"
   },
   {
    "duration": 5,
    "start_time": "2021-07-02T09:04:08.961Z"
   },
   {
    "duration": 20,
    "start_time": "2021-07-02T09:04:08.970Z"
   },
   {
    "duration": 93,
    "start_time": "2021-07-02T09:04:08.992Z"
   },
   {
    "duration": 146,
    "start_time": "2021-07-02T09:04:09.088Z"
   },
   {
    "duration": 38,
    "start_time": "2021-07-02T09:04:09.236Z"
   },
   {
    "duration": 28,
    "start_time": "2021-07-02T09:04:09.277Z"
   },
   {
    "duration": 56,
    "start_time": "2021-07-02T09:04:09.307Z"
   },
   {
    "duration": 52,
    "start_time": "2021-07-02T09:04:09.366Z"
   },
   {
    "duration": 42,
    "start_time": "2021-07-02T09:04:09.420Z"
   },
   {
    "duration": 4,
    "start_time": "2021-07-02T09:04:09.464Z"
   },
   {
    "duration": 48,
    "start_time": "2021-07-02T09:04:09.470Z"
   },
   {
    "duration": 16,
    "start_time": "2021-07-02T09:04:09.555Z"
   },
   {
    "duration": 19,
    "start_time": "2021-07-02T09:04:09.574Z"
   },
   {
    "duration": 11,
    "start_time": "2021-07-02T09:04:09.597Z"
   },
   {
    "duration": 46,
    "start_time": "2021-07-02T09:04:09.611Z"
   },
   {
    "duration": 21,
    "start_time": "2021-07-02T09:04:09.667Z"
   },
   {
    "duration": 13,
    "start_time": "2021-07-02T09:04:09.693Z"
   },
   {
    "duration": 56,
    "start_time": "2021-07-02T09:04:09.708Z"
   },
   {
    "duration": 9,
    "start_time": "2021-07-02T09:04:09.767Z"
   },
   {
    "duration": 14,
    "start_time": "2021-07-02T09:04:09.779Z"
   },
   {
    "duration": 7,
    "start_time": "2021-07-02T09:04:09.796Z"
   },
   {
    "duration": 73,
    "start_time": "2021-07-02T09:04:09.806Z"
   },
   {
    "duration": 108,
    "start_time": "2021-07-02T09:04:09.882Z"
   },
   {
    "duration": 16,
    "start_time": "2021-07-02T09:04:09.992Z"
   },
   {
    "duration": 43,
    "start_time": "2021-07-02T09:04:10.011Z"
   },
   {
    "duration": 49,
    "start_time": "2021-07-02T09:04:10.057Z"
   },
   {
    "duration": 65,
    "start_time": "2021-07-02T09:04:10.108Z"
   },
   {
    "duration": 5,
    "start_time": "2021-07-02T09:04:10.176Z"
   },
   {
    "duration": 14,
    "start_time": "2021-07-02T09:04:10.183Z"
   },
   {
    "duration": 96,
    "start_time": "2021-07-02T09:04:10.200Z"
   },
   {
    "duration": 6,
    "start_time": "2021-07-02T09:04:10.299Z"
   },
   {
    "duration": 29,
    "start_time": "2021-07-02T09:04:10.307Z"
   },
   {
    "duration": 679,
    "start_time": "2021-07-02T09:04:10.338Z"
   },
   {
    "duration": 628,
    "start_time": "2021-07-02T09:04:11.019Z"
   },
   {
    "duration": 619,
    "start_time": "2021-07-02T09:04:11.653Z"
   },
   {
    "duration": 43,
    "start_time": "2021-07-02T09:04:12.275Z"
   },
   {
    "duration": 600,
    "start_time": "2021-07-02T09:04:12.320Z"
   },
   {
    "duration": 523,
    "start_time": "2021-07-02T09:04:12.923Z"
   },
   {
    "duration": 524,
    "start_time": "2021-07-02T09:04:13.448Z"
   },
   {
    "duration": 11,
    "start_time": "2021-07-02T09:04:13.974Z"
   },
   {
    "duration": 102,
    "start_time": "2021-07-02T09:04:13.987Z"
   },
   {
    "duration": -1118,
    "start_time": "2021-07-02T09:04:15.210Z"
   },
   {
    "duration": -1132,
    "start_time": "2021-07-02T09:04:15.226Z"
   },
   {
    "duration": -1167,
    "start_time": "2021-07-02T09:04:15.262Z"
   },
   {
    "duration": -1183,
    "start_time": "2021-07-02T09:04:15.280Z"
   },
   {
    "duration": -1197,
    "start_time": "2021-07-02T09:04:15.295Z"
   },
   {
    "duration": -1213,
    "start_time": "2021-07-02T09:04:15.313Z"
   },
   {
    "duration": -1228,
    "start_time": "2021-07-02T09:04:15.330Z"
   },
   {
    "duration": -1245,
    "start_time": "2021-07-02T09:04:15.349Z"
   },
   {
    "duration": 15,
    "start_time": "2021-07-02T09:08:39.968Z"
   },
   {
    "duration": 37,
    "start_time": "2021-07-02T09:12:48.765Z"
   },
   {
    "duration": 28001,
    "start_time": "2021-07-02T09:21:05.246Z"
   },
   {
    "duration": 35,
    "start_time": "2021-07-02T09:41:55.995Z"
   },
   {
    "duration": 4,
    "start_time": "2021-07-02T09:44:36.533Z"
   },
   {
    "duration": 36,
    "start_time": "2021-07-02T09:44:43.534Z"
   },
   {
    "duration": 8,
    "start_time": "2021-07-02T09:44:46.510Z"
   },
   {
    "duration": 6700,
    "start_time": "2021-07-02T09:45:30.999Z"
   },
   {
    "duration": 6512,
    "start_time": "2021-07-02T09:45:49.799Z"
   },
   {
    "duration": 9,
    "start_time": "2021-07-02T09:46:01.319Z"
   },
   {
    "duration": 8,
    "start_time": "2021-07-02T09:46:14.702Z"
   },
   {
    "duration": 6,
    "start_time": "2021-07-02T09:46:25.361Z"
   },
   {
    "duration": 641,
    "start_time": "2021-07-02T09:47:16.449Z"
   },
   {
    "duration": 546,
    "start_time": "2021-07-02T09:47:40.626Z"
   },
   {
    "duration": 735,
    "start_time": "2021-07-02T09:48:42.035Z"
   },
   {
    "duration": 846,
    "start_time": "2021-07-02T09:49:13.556Z"
   },
   {
    "duration": 387,
    "start_time": "2021-07-02T09:51:25.999Z"
   },
   {
    "duration": 6585,
    "start_time": "2021-07-02T09:53:54.234Z"
   },
   {
    "duration": 513,
    "start_time": "2021-07-02T09:54:47.100Z"
   },
   {
    "duration": 1002,
    "start_time": "2021-07-02T09:55:22.812Z"
   },
   {
    "duration": 1571,
    "start_time": "2021-07-02T09:56:06.631Z"
   },
   {
    "duration": 204,
    "start_time": "2021-07-02T09:56:08.205Z"
   },
   {
    "duration": 58,
    "start_time": "2021-07-02T09:56:08.412Z"
   },
   {
    "duration": 6,
    "start_time": "2021-07-02T09:56:08.473Z"
   },
   {
    "duration": 15,
    "start_time": "2021-07-02T09:56:08.481Z"
   },
   {
    "duration": 6,
    "start_time": "2021-07-02T09:56:08.498Z"
   },
   {
    "duration": 21,
    "start_time": "2021-07-02T09:56:08.506Z"
   },
   {
    "duration": 5,
    "start_time": "2021-07-02T09:56:08.557Z"
   },
   {
    "duration": 22,
    "start_time": "2021-07-02T09:56:08.565Z"
   },
   {
    "duration": 89,
    "start_time": "2021-07-02T09:56:08.590Z"
   },
   {
    "duration": 130,
    "start_time": "2021-07-02T09:56:08.681Z"
   },
   {
    "duration": 40,
    "start_time": "2021-07-02T09:56:08.814Z"
   },
   {
    "duration": 23,
    "start_time": "2021-07-02T09:56:08.857Z"
   },
   {
    "duration": 36,
    "start_time": "2021-07-02T09:56:08.882Z"
   },
   {
    "duration": 77,
    "start_time": "2021-07-02T09:56:08.921Z"
   },
   {
    "duration": 17,
    "start_time": "2021-07-02T09:56:09.001Z"
   },
   {
    "duration": 4,
    "start_time": "2021-07-02T09:56:09.020Z"
   },
   {
    "duration": 45,
    "start_time": "2021-07-02T09:56:09.055Z"
   },
   {
    "duration": 18,
    "start_time": "2021-07-02T09:56:09.103Z"
   },
   {
    "duration": 18,
    "start_time": "2021-07-02T09:56:09.155Z"
   },
   {
    "duration": 13,
    "start_time": "2021-07-02T09:56:09.176Z"
   },
   {
    "duration": 6,
    "start_time": "2021-07-02T09:56:09.193Z"
   },
   {
    "duration": 56,
    "start_time": "2021-07-02T09:56:09.207Z"
   },
   {
    "duration": 10,
    "start_time": "2021-07-02T09:56:09.266Z"
   },
   {
    "duration": 26,
    "start_time": "2021-07-02T09:56:09.279Z"
   },
   {
    "duration": 9,
    "start_time": "2021-07-02T09:56:09.308Z"
   },
   {
    "duration": 50,
    "start_time": "2021-07-02T09:56:09.320Z"
   },
   {
    "duration": 7,
    "start_time": "2021-07-02T09:56:09.372Z"
   },
   {
    "duration": 35,
    "start_time": "2021-07-02T09:56:09.382Z"
   },
   {
    "duration": 102,
    "start_time": "2021-07-02T09:56:09.454Z"
   },
   {
    "duration": 17,
    "start_time": "2021-07-02T09:56:09.559Z"
   },
   {
    "duration": 21,
    "start_time": "2021-07-02T09:56:09.579Z"
   },
   {
    "duration": 79,
    "start_time": "2021-07-02T09:56:09.602Z"
   },
   {
    "duration": 38,
    "start_time": "2021-07-02T09:56:09.683Z"
   },
   {
    "duration": 34,
    "start_time": "2021-07-02T09:56:09.723Z"
   },
   {
    "duration": 12,
    "start_time": "2021-07-02T09:56:09.759Z"
   },
   {
    "duration": 87,
    "start_time": "2021-07-02T09:56:09.774Z"
   },
   {
    "duration": 5,
    "start_time": "2021-07-02T09:56:09.864Z"
   },
   {
    "duration": 22,
    "start_time": "2021-07-02T09:56:09.872Z"
   },
   {
    "duration": 672,
    "start_time": "2021-07-02T09:56:09.896Z"
   },
   {
    "duration": 725,
    "start_time": "2021-07-02T09:56:10.571Z"
   },
   {
    "duration": 522,
    "start_time": "2021-07-02T09:56:11.298Z"
   },
   {
    "duration": 50,
    "start_time": "2021-07-02T09:56:11.822Z"
   },
   {
    "duration": 689,
    "start_time": "2021-07-02T09:56:11.875Z"
   },
   {
    "duration": 525,
    "start_time": "2021-07-02T09:56:12.567Z"
   },
   {
    "duration": 537,
    "start_time": "2021-07-02T09:56:13.094Z"
   },
   {
    "duration": 25,
    "start_time": "2021-07-02T09:56:13.634Z"
   },
   {
    "duration": 84,
    "start_time": "2021-07-02T09:56:13.661Z"
   },
   {
    "duration": -1047,
    "start_time": "2021-07-02T09:56:14.795Z"
   },
   {
    "duration": -1057,
    "start_time": "2021-07-02T09:56:14.807Z"
   },
   {
    "duration": -1075,
    "start_time": "2021-07-02T09:56:14.826Z"
   },
   {
    "duration": -1091,
    "start_time": "2021-07-02T09:56:14.844Z"
   },
   {
    "duration": -1135,
    "start_time": "2021-07-02T09:56:14.890Z"
   },
   {
    "duration": -1152,
    "start_time": "2021-07-02T09:56:14.908Z"
   },
   {
    "duration": -1181,
    "start_time": "2021-07-02T09:56:14.939Z"
   },
   {
    "duration": -1198,
    "start_time": "2021-07-02T09:56:14.957Z"
   },
   {
    "duration": -1214,
    "start_time": "2021-07-02T09:56:14.975Z"
   },
   {
    "duration": -1242,
    "start_time": "2021-07-02T09:56:15.004Z"
   },
   {
    "duration": 758,
    "start_time": "2021-07-02T09:56:20.927Z"
   },
   {
    "duration": 551,
    "start_time": "2021-07-02T09:57:10.120Z"
   },
   {
    "duration": 709,
    "start_time": "2021-07-02T09:57:44.315Z"
   },
   {
    "duration": 657,
    "start_time": "2021-07-02T09:58:46.379Z"
   },
   {
    "duration": 801,
    "start_time": "2021-07-02T10:00:03.902Z"
   },
   {
    "duration": 704,
    "start_time": "2021-07-02T10:00:44.165Z"
   },
   {
    "duration": 705,
    "start_time": "2021-07-02T10:03:41.130Z"
   },
   {
    "duration": 757,
    "start_time": "2021-07-02T10:04:58.650Z"
   },
   {
    "duration": 714,
    "start_time": "2021-07-02T10:05:12.547Z"
   },
   {
    "duration": 1521,
    "start_time": "2021-07-02T10:06:03.089Z"
   },
   {
    "duration": 230,
    "start_time": "2021-07-02T10:06:04.614Z"
   },
   {
    "duration": 61,
    "start_time": "2021-07-02T10:06:04.847Z"
   },
   {
    "duration": 7,
    "start_time": "2021-07-02T10:06:04.912Z"
   },
   {
    "duration": 40,
    "start_time": "2021-07-02T10:06:04.922Z"
   },
   {
    "duration": 7,
    "start_time": "2021-07-02T10:06:04.965Z"
   },
   {
    "duration": 18,
    "start_time": "2021-07-02T10:06:04.974Z"
   },
   {
    "duration": 5,
    "start_time": "2021-07-02T10:06:04.998Z"
   },
   {
    "duration": 60,
    "start_time": "2021-07-02T10:06:05.007Z"
   },
   {
    "duration": 90,
    "start_time": "2021-07-02T10:06:05.070Z"
   },
   {
    "duration": 126,
    "start_time": "2021-07-02T10:06:05.163Z"
   },
   {
    "duration": 21,
    "start_time": "2021-07-02T10:06:05.292Z"
   },
   {
    "duration": 47,
    "start_time": "2021-07-02T10:06:05.316Z"
   },
   {
    "duration": 37,
    "start_time": "2021-07-02T10:06:05.366Z"
   },
   {
    "duration": 80,
    "start_time": "2021-07-02T10:06:05.405Z"
   },
   {
    "duration": 16,
    "start_time": "2021-07-02T10:06:05.487Z"
   },
   {
    "duration": 3,
    "start_time": "2021-07-02T10:06:05.506Z"
   },
   {
    "duration": 98,
    "start_time": "2021-07-02T10:06:05.512Z"
   },
   {
    "duration": 45,
    "start_time": "2021-07-02T10:06:05.613Z"
   },
   {
    "duration": 25,
    "start_time": "2021-07-02T10:06:05.661Z"
   },
   {
    "duration": 9,
    "start_time": "2021-07-02T10:06:05.689Z"
   },
   {
    "duration": 8,
    "start_time": "2021-07-02T10:06:05.701Z"
   },
   {
    "duration": 14,
    "start_time": "2021-07-02T10:06:05.757Z"
   },
   {
    "duration": 15,
    "start_time": "2021-07-02T10:06:05.774Z"
   },
   {
    "duration": 23,
    "start_time": "2021-07-02T10:06:05.792Z"
   },
   {
    "duration": 42,
    "start_time": "2021-07-02T10:06:05.818Z"
   },
   {
    "duration": 17,
    "start_time": "2021-07-02T10:06:05.862Z"
   },
   {
    "duration": 7,
    "start_time": "2021-07-02T10:06:05.881Z"
   },
   {
    "duration": 70,
    "start_time": "2021-07-02T10:06:05.890Z"
   },
   {
    "duration": 102,
    "start_time": "2021-07-02T10:06:05.963Z"
   },
   {
    "duration": 16,
    "start_time": "2021-07-02T10:06:06.067Z"
   },
   {
    "duration": 25,
    "start_time": "2021-07-02T10:06:06.086Z"
   },
   {
    "duration": 81,
    "start_time": "2021-07-02T10:06:06.113Z"
   },
   {
    "duration": 62,
    "start_time": "2021-07-02T10:06:06.196Z"
   },
   {
    "duration": 6,
    "start_time": "2021-07-02T10:06:06.260Z"
   },
   {
    "duration": 14,
    "start_time": "2021-07-02T10:06:06.268Z"
   },
   {
    "duration": 100,
    "start_time": "2021-07-02T10:06:06.285Z"
   },
   {
    "duration": 5,
    "start_time": "2021-07-02T10:06:06.388Z"
   },
   {
    "duration": 13,
    "start_time": "2021-07-02T10:06:06.396Z"
   },
   {
    "duration": 684,
    "start_time": "2021-07-02T10:06:06.412Z"
   },
   {
    "duration": 621,
    "start_time": "2021-07-02T10:06:07.098Z"
   },
   {
    "duration": 513,
    "start_time": "2021-07-02T10:06:07.722Z"
   },
   {
    "duration": 51,
    "start_time": "2021-07-02T10:06:08.237Z"
   },
   {
    "duration": 603,
    "start_time": "2021-07-02T10:06:08.290Z"
   },
   {
    "duration": 552,
    "start_time": "2021-07-02T10:06:08.896Z"
   },
   {
    "duration": 551,
    "start_time": "2021-07-02T10:06:09.450Z"
   },
   {
    "duration": 12,
    "start_time": "2021-07-02T10:06:10.003Z"
   },
   {
    "duration": 92,
    "start_time": "2021-07-02T10:06:10.017Z"
   },
   {
    "duration": -1040,
    "start_time": "2021-07-02T10:06:11.151Z"
   },
   {
    "duration": -1052,
    "start_time": "2021-07-02T10:06:11.164Z"
   },
   {
    "duration": -1068,
    "start_time": "2021-07-02T10:06:11.182Z"
   },
   {
    "duration": -1079,
    "start_time": "2021-07-02T10:06:11.194Z"
   },
   {
    "duration": -1096,
    "start_time": "2021-07-02T10:06:11.212Z"
   },
   {
    "duration": -1112,
    "start_time": "2021-07-02T10:06:11.229Z"
   },
   {
    "duration": -1141,
    "start_time": "2021-07-02T10:06:11.260Z"
   },
   {
    "duration": -1157,
    "start_time": "2021-07-02T10:06:11.277Z"
   },
   {
    "duration": -1174,
    "start_time": "2021-07-02T10:06:11.295Z"
   },
   {
    "duration": -1190,
    "start_time": "2021-07-02T10:06:11.312Z"
   },
   {
    "duration": 685,
    "start_time": "2021-07-02T10:06:14.007Z"
   },
   {
    "duration": 649,
    "start_time": "2021-07-02T10:06:37.119Z"
   },
   {
    "duration": 544,
    "start_time": "2021-07-02T10:07:43.898Z"
   },
   {
    "duration": 549,
    "start_time": "2021-07-02T10:08:24.562Z"
   },
   {
    "duration": 1146,
    "start_time": "2021-07-02T10:10:01.581Z"
   },
   {
    "duration": 33,
    "start_time": "2021-07-02T10:22:36.905Z"
   },
   {
    "duration": 32,
    "start_time": "2021-07-02T10:23:56.380Z"
   },
   {
    "duration": 17,
    "start_time": "2021-07-02T10:24:46.619Z"
   },
   {
    "duration": 13,
    "start_time": "2021-07-02T10:25:07.066Z"
   },
   {
    "duration": 443,
    "start_time": "2021-07-02T10:27:51.880Z"
   },
   {
    "duration": 541,
    "start_time": "2021-07-02T10:28:51.402Z"
   },
   {
    "duration": 471,
    "start_time": "2021-07-02T10:29:30.755Z"
   },
   {
    "duration": 500,
    "start_time": "2021-07-02T10:30:48.525Z"
   },
   {
    "duration": 428,
    "start_time": "2021-07-02T10:31:03.758Z"
   },
   {
    "duration": 421,
    "start_time": "2021-07-02T10:31:34.894Z"
   },
   {
    "duration": 425,
    "start_time": "2021-07-02T10:48:15.173Z"
   },
   {
    "duration": 416,
    "start_time": "2021-07-02T10:48:44.154Z"
   },
   {
    "duration": 417,
    "start_time": "2021-07-02T10:49:46.014Z"
   },
   {
    "duration": 436,
    "start_time": "2021-07-02T10:50:19.182Z"
   },
   {
    "duration": 368,
    "start_time": "2021-07-02T10:50:38.806Z"
   },
   {
    "duration": 13,
    "start_time": "2021-07-02T10:51:16.182Z"
   },
   {
    "duration": 16,
    "start_time": "2021-07-02T10:51:38.119Z"
   },
   {
    "duration": 16,
    "start_time": "2021-07-02T10:52:29.209Z"
   },
   {
    "duration": 378,
    "start_time": "2021-07-02T10:55:43.460Z"
   },
   {
    "duration": 373,
    "start_time": "2021-07-02T10:56:12.357Z"
   },
   {
    "duration": 477,
    "start_time": "2021-07-02T10:58:14.615Z"
   },
   {
    "duration": 415,
    "start_time": "2021-07-02T11:06:51.978Z"
   },
   {
    "duration": 488,
    "start_time": "2021-07-02T11:06:58.599Z"
   },
   {
    "duration": 15,
    "start_time": "2021-07-02T11:18:24.024Z"
   },
   {
    "duration": 1577,
    "start_time": "2021-07-02T11:18:31.311Z"
   },
   {
    "duration": 210,
    "start_time": "2021-07-02T11:18:32.890Z"
   },
   {
    "duration": 60,
    "start_time": "2021-07-02T11:18:33.103Z"
   },
   {
    "duration": 7,
    "start_time": "2021-07-02T11:18:33.166Z"
   },
   {
    "duration": 13,
    "start_time": "2021-07-02T11:18:33.176Z"
   },
   {
    "duration": 4,
    "start_time": "2021-07-02T11:18:33.192Z"
   },
   {
    "duration": 18,
    "start_time": "2021-07-02T11:18:33.198Z"
   },
   {
    "duration": 5,
    "start_time": "2021-07-02T11:18:33.255Z"
   },
   {
    "duration": 22,
    "start_time": "2021-07-02T11:18:33.263Z"
   },
   {
    "duration": 90,
    "start_time": "2021-07-02T11:18:33.287Z"
   },
   {
    "duration": 126,
    "start_time": "2021-07-02T11:18:33.380Z"
   },
   {
    "duration": 21,
    "start_time": "2021-07-02T11:18:33.508Z"
   },
   {
    "duration": 40,
    "start_time": "2021-07-02T11:18:33.531Z"
   },
   {
    "duration": 37,
    "start_time": "2021-07-02T11:18:33.573Z"
   },
   {
    "duration": 82,
    "start_time": "2021-07-02T11:18:33.612Z"
   },
   {
    "duration": 18,
    "start_time": "2021-07-02T11:18:33.696Z"
   },
   {
    "duration": 4,
    "start_time": "2021-07-02T11:18:33.716Z"
   },
   {
    "duration": 69,
    "start_time": "2021-07-02T11:18:33.722Z"
   },
   {
    "duration": 15,
    "start_time": "2021-07-02T11:18:33.793Z"
   },
   {
    "duration": 55,
    "start_time": "2021-07-02T11:18:33.810Z"
   },
   {
    "duration": 7,
    "start_time": "2021-07-02T11:18:33.867Z"
   },
   {
    "duration": 6,
    "start_time": "2021-07-02T11:18:33.877Z"
   },
   {
    "duration": 18,
    "start_time": "2021-07-02T11:18:33.890Z"
   },
   {
    "duration": 45,
    "start_time": "2021-07-02T11:18:33.911Z"
   },
   {
    "duration": 22,
    "start_time": "2021-07-02T11:18:33.959Z"
   },
   {
    "duration": 8,
    "start_time": "2021-07-02T11:18:33.983Z"
   },
   {
    "duration": 14,
    "start_time": "2021-07-02T11:18:33.993Z"
   },
   {
    "duration": 44,
    "start_time": "2021-07-02T11:18:34.010Z"
   },
   {
    "duration": 29,
    "start_time": "2021-07-02T11:18:34.057Z"
   },
   {
    "duration": 103,
    "start_time": "2021-07-02T11:18:34.089Z"
   },
   {
    "duration": 16,
    "start_time": "2021-07-02T11:18:34.194Z"
   },
   {
    "duration": 50,
    "start_time": "2021-07-02T11:18:34.212Z"
   },
   {
    "duration": 45,
    "start_time": "2021-07-02T11:18:34.264Z"
   },
   {
    "duration": 61,
    "start_time": "2021-07-02T11:18:34.311Z"
   },
   {
    "duration": 5,
    "start_time": "2021-07-02T11:18:34.374Z"
   },
   {
    "duration": 19,
    "start_time": "2021-07-02T11:18:34.381Z"
   },
   {
    "duration": 97,
    "start_time": "2021-07-02T11:18:34.402Z"
   },
   {
    "duration": 7,
    "start_time": "2021-07-02T11:18:34.502Z"
   },
   {
    "duration": 13,
    "start_time": "2021-07-02T11:18:34.511Z"
   },
   {
    "duration": 461,
    "start_time": "2021-07-02T11:18:34.527Z"
   },
   {
    "duration": 412,
    "start_time": "2021-07-02T11:18:34.992Z"
   },
   {
    "duration": 415,
    "start_time": "2021-07-02T11:18:35.407Z"
   },
   {
    "duration": 15,
    "start_time": "2021-07-02T11:18:35.825Z"
   },
   {
    "duration": 24,
    "start_time": "2021-07-02T11:18:35.854Z"
   },
   {
    "duration": 14,
    "start_time": "2021-07-02T11:18:35.880Z"
   },
   {
    "duration": 762,
    "start_time": "2021-07-02T11:18:35.897Z"
   },
   {
    "duration": 625,
    "start_time": "2021-07-02T11:18:36.661Z"
   },
   {
    "duration": 505,
    "start_time": "2021-07-02T11:18:37.289Z"
   },
   {
    "duration": 57,
    "start_time": "2021-07-02T11:18:37.797Z"
   },
   {
    "duration": 509,
    "start_time": "2021-07-02T11:18:37.857Z"
   },
   {
    "duration": 521,
    "start_time": "2021-07-02T11:18:38.368Z"
   },
   {
    "duration": 1274,
    "start_time": "2021-07-02T11:18:38.892Z"
   },
   {
    "duration": 536,
    "start_time": "2021-07-02T11:18:40.169Z"
   },
   {
    "duration": 12,
    "start_time": "2021-07-02T11:18:40.707Z"
   },
   {
    "duration": 83,
    "start_time": "2021-07-02T11:18:40.722Z"
   },
   {
    "duration": -940,
    "start_time": "2021-07-02T11:18:41.748Z"
   },
   {
    "duration": -957,
    "start_time": "2021-07-02T11:18:41.767Z"
   },
   {
    "duration": -994,
    "start_time": "2021-07-02T11:18:41.806Z"
   },
   {
    "duration": -1012,
    "start_time": "2021-07-02T11:18:41.826Z"
   },
   {
    "duration": -1029,
    "start_time": "2021-07-02T11:18:41.845Z"
   },
   {
    "duration": -1058,
    "start_time": "2021-07-02T11:18:41.876Z"
   },
   {
    "duration": -1075,
    "start_time": "2021-07-02T11:18:41.895Z"
   },
   {
    "duration": -1102,
    "start_time": "2021-07-02T11:18:41.925Z"
   },
   {
    "duration": -1119,
    "start_time": "2021-07-02T11:18:41.944Z"
   },
   {
    "duration": -1135,
    "start_time": "2021-07-02T11:18:41.962Z"
   },
   {
    "duration": -1160,
    "start_time": "2021-07-02T11:18:41.989Z"
   },
   {
    "duration": 517,
    "start_time": "2021-07-02T11:19:47.456Z"
   },
   {
    "duration": 3,
    "start_time": "2021-07-02T11:34:47.858Z"
   },
   {
    "duration": 23,
    "start_time": "2021-07-02T11:34:50.761Z"
   },
   {
    "duration": 15,
    "start_time": "2021-07-02T11:35:03.577Z"
   },
   {
    "duration": 15,
    "start_time": "2021-07-02T11:36:33.786Z"
   },
   {
    "duration": 381,
    "start_time": "2021-07-02T11:38:23.773Z"
   },
   {
    "duration": 396,
    "start_time": "2021-07-02T11:41:31.737Z"
   },
   {
    "duration": 391,
    "start_time": "2021-07-02T11:43:24.947Z"
   },
   {
    "duration": 421,
    "start_time": "2021-07-02T11:53:02.455Z"
   },
   {
    "duration": 384,
    "start_time": "2021-07-02T11:53:09.324Z"
   },
   {
    "duration": 23,
    "start_time": "2021-07-02T11:53:14.083Z"
   },
   {
    "duration": 714,
    "start_time": "2021-07-02T11:55:49.842Z"
   },
   {
    "duration": 40,
    "start_time": "2021-07-02T11:55:52.574Z"
   },
   {
    "duration": 378,
    "start_time": "2021-07-02T12:03:21.814Z"
   },
   {
    "duration": 25,
    "start_time": "2021-07-02T12:03:24.192Z"
   },
   {
    "duration": 25,
    "start_time": "2021-07-02T12:06:35.170Z"
   },
   {
    "duration": 469,
    "start_time": "2021-07-02T12:13:31.068Z"
   },
   {
    "duration": 1676,
    "start_time": "2021-07-02T12:19:19.743Z"
   },
   {
    "duration": 253,
    "start_time": "2021-07-02T12:19:21.422Z"
   },
   {
    "duration": 60,
    "start_time": "2021-07-02T12:19:21.678Z"
   },
   {
    "duration": 15,
    "start_time": "2021-07-02T12:19:21.741Z"
   },
   {
    "duration": 20,
    "start_time": "2021-07-02T12:19:21.759Z"
   },
   {
    "duration": 26,
    "start_time": "2021-07-02T12:19:21.781Z"
   },
   {
    "duration": 42,
    "start_time": "2021-07-02T12:19:21.809Z"
   },
   {
    "duration": 12,
    "start_time": "2021-07-02T12:19:21.856Z"
   },
   {
    "duration": 48,
    "start_time": "2021-07-02T12:19:21.872Z"
   },
   {
    "duration": 99,
    "start_time": "2021-07-02T12:19:21.923Z"
   },
   {
    "duration": 136,
    "start_time": "2021-07-02T12:19:22.024Z"
   },
   {
    "duration": 25,
    "start_time": "2021-07-02T12:19:22.163Z"
   },
   {
    "duration": 51,
    "start_time": "2021-07-02T12:19:22.190Z"
   },
   {
    "duration": 53,
    "start_time": "2021-07-02T12:19:22.244Z"
   },
   {
    "duration": 61,
    "start_time": "2021-07-02T12:19:22.299Z"
   },
   {
    "duration": 23,
    "start_time": "2021-07-02T12:19:22.363Z"
   },
   {
    "duration": 15,
    "start_time": "2021-07-02T12:19:22.389Z"
   },
   {
    "duration": 77,
    "start_time": "2021-07-02T12:19:22.406Z"
   },
   {
    "duration": 15,
    "start_time": "2021-07-02T12:19:22.486Z"
   },
   {
    "duration": 43,
    "start_time": "2021-07-02T12:19:22.503Z"
   },
   {
    "duration": 23,
    "start_time": "2021-07-02T12:19:22.549Z"
   },
   {
    "duration": 24,
    "start_time": "2021-07-02T12:19:22.575Z"
   },
   {
    "duration": 35,
    "start_time": "2021-07-02T12:19:22.605Z"
   },
   {
    "duration": 23,
    "start_time": "2021-07-02T12:19:22.644Z"
   },
   {
    "duration": 36,
    "start_time": "2021-07-02T12:19:22.670Z"
   },
   {
    "duration": 8,
    "start_time": "2021-07-02T12:19:22.709Z"
   },
   {
    "duration": 26,
    "start_time": "2021-07-02T12:19:22.719Z"
   },
   {
    "duration": 21,
    "start_time": "2021-07-02T12:19:22.748Z"
   },
   {
    "duration": 49,
    "start_time": "2021-07-02T12:19:22.772Z"
   },
   {
    "duration": 82,
    "start_time": "2021-07-02T12:19:22.823Z"
   },
   {
    "duration": 16,
    "start_time": "2021-07-02T12:19:22.907Z"
   },
   {
    "duration": 38,
    "start_time": "2021-07-02T12:19:22.926Z"
   },
   {
    "duration": 69,
    "start_time": "2021-07-02T12:19:22.966Z"
   },
   {
    "duration": 1055,
    "start_time": "2021-07-02T12:19:23.038Z"
   },
   {
    "duration": -1121,
    "start_time": "2021-07-02T12:19:25.218Z"
   },
   {
    "duration": -1139,
    "start_time": "2021-07-02T12:19:25.238Z"
   },
   {
    "duration": -1158,
    "start_time": "2021-07-02T12:19:25.259Z"
   },
   {
    "duration": -1176,
    "start_time": "2021-07-02T12:19:25.279Z"
   },
   {
    "duration": -1193,
    "start_time": "2021-07-02T12:19:25.298Z"
   },
   {
    "duration": -1203,
    "start_time": "2021-07-02T12:19:25.310Z"
   },
   {
    "duration": -1221,
    "start_time": "2021-07-02T12:19:25.330Z"
   },
   {
    "duration": -1241,
    "start_time": "2021-07-02T12:19:25.352Z"
   },
   {
    "duration": -1256,
    "start_time": "2021-07-02T12:19:25.370Z"
   },
   {
    "duration": -1273,
    "start_time": "2021-07-02T12:19:25.389Z"
   },
   {
    "duration": -1291,
    "start_time": "2021-07-02T12:19:25.409Z"
   },
   {
    "duration": -1308,
    "start_time": "2021-07-02T12:19:25.429Z"
   },
   {
    "duration": -1324,
    "start_time": "2021-07-02T12:19:25.447Z"
   },
   {
    "duration": -1335,
    "start_time": "2021-07-02T12:19:25.460Z"
   },
   {
    "duration": -1351,
    "start_time": "2021-07-02T12:19:25.479Z"
   },
   {
    "duration": -1361,
    "start_time": "2021-07-02T12:19:25.491Z"
   },
   {
    "duration": -1377,
    "start_time": "2021-07-02T12:19:25.509Z"
   },
   {
    "duration": -1384,
    "start_time": "2021-07-02T12:19:25.537Z"
   },
   {
    "duration": -1401,
    "start_time": "2021-07-02T12:19:25.557Z"
   },
   {
    "duration": -1418,
    "start_time": "2021-07-02T12:19:25.576Z"
   },
   {
    "duration": -1436,
    "start_time": "2021-07-02T12:19:25.596Z"
   },
   {
    "duration": -1451,
    "start_time": "2021-07-02T12:19:25.613Z"
   },
   {
    "duration": -1462,
    "start_time": "2021-07-02T12:19:25.626Z"
   },
   {
    "duration": -1478,
    "start_time": "2021-07-02T12:19:25.645Z"
   },
   {
    "duration": -1487,
    "start_time": "2021-07-02T12:19:25.657Z"
   },
   {
    "duration": -1503,
    "start_time": "2021-07-02T12:19:25.675Z"
   },
   {
    "duration": -1521,
    "start_time": "2021-07-02T12:19:25.694Z"
   },
   {
    "duration": -1537,
    "start_time": "2021-07-02T12:19:25.712Z"
   },
   {
    "duration": -1548,
    "start_time": "2021-07-02T12:19:25.725Z"
   },
   {
    "duration": -1576,
    "start_time": "2021-07-02T12:19:25.755Z"
   },
   {
    "duration": -1598,
    "start_time": "2021-07-02T12:19:25.778Z"
   },
   {
    "duration": -1614,
    "start_time": "2021-07-02T12:19:25.796Z"
   },
   {
    "duration": -1626,
    "start_time": "2021-07-02T12:19:25.809Z"
   },
   {
    "duration": -1654,
    "start_time": "2021-07-02T12:19:25.838Z"
   },
   {
    "duration": -1673,
    "start_time": "2021-07-02T12:19:25.858Z"
   },
   {
    "duration": -1704,
    "start_time": "2021-07-02T12:19:25.890Z"
   },
   {
    "duration": -1722,
    "start_time": "2021-07-02T12:19:25.910Z"
   },
   {
    "duration": -1748,
    "start_time": "2021-07-02T12:19:25.937Z"
   },
   {
    "duration": -1768,
    "start_time": "2021-07-02T12:19:25.959Z"
   },
   {
    "duration": 1741,
    "start_time": "2021-07-02T12:23:23.894Z"
   },
   {
    "duration": 235,
    "start_time": "2021-07-02T12:23:25.638Z"
   },
   {
    "duration": 77,
    "start_time": "2021-07-02T12:23:25.877Z"
   },
   {
    "duration": 7,
    "start_time": "2021-07-02T12:23:25.958Z"
   },
   {
    "duration": 33,
    "start_time": "2021-07-02T12:23:25.968Z"
   },
   {
    "duration": 20,
    "start_time": "2021-07-02T12:23:26.004Z"
   },
   {
    "duration": 52,
    "start_time": "2021-07-02T12:23:26.027Z"
   },
   {
    "duration": 6,
    "start_time": "2021-07-02T12:23:26.084Z"
   },
   {
    "duration": 36,
    "start_time": "2021-07-02T12:23:26.094Z"
   },
   {
    "duration": 86,
    "start_time": "2021-07-02T12:23:26.133Z"
   },
   {
    "duration": 195,
    "start_time": "2021-07-02T12:23:26.222Z"
   },
   {
    "duration": 46,
    "start_time": "2021-07-02T12:23:26.420Z"
   },
   {
    "duration": 19,
    "start_time": "2021-07-02T12:23:26.470Z"
   },
   {
    "duration": 72,
    "start_time": "2021-07-02T12:23:26.491Z"
   },
   {
    "duration": 106,
    "start_time": "2021-07-02T12:23:26.567Z"
   },
   {
    "duration": 23,
    "start_time": "2021-07-02T12:23:26.676Z"
   },
   {
    "duration": 13,
    "start_time": "2021-07-02T12:23:26.701Z"
   },
   {
    "duration": 76,
    "start_time": "2021-07-02T12:23:26.716Z"
   },
   {
    "duration": 18,
    "start_time": "2021-07-02T12:23:26.795Z"
   },
   {
    "duration": 49,
    "start_time": "2021-07-02T12:23:26.816Z"
   },
   {
    "duration": 9,
    "start_time": "2021-07-02T12:23:26.868Z"
   },
   {
    "duration": 26,
    "start_time": "2021-07-02T12:23:26.879Z"
   },
   {
    "duration": 20,
    "start_time": "2021-07-02T12:23:26.912Z"
   },
   {
    "duration": 32,
    "start_time": "2021-07-02T12:23:26.936Z"
   },
   {
    "duration": 29,
    "start_time": "2021-07-02T12:23:26.971Z"
   },
   {
    "duration": 9,
    "start_time": "2021-07-02T12:23:27.004Z"
   },
   {
    "duration": 43,
    "start_time": "2021-07-02T12:23:27.015Z"
   },
   {
    "duration": 24,
    "start_time": "2021-07-02T12:23:27.061Z"
   },
   {
    "duration": 41,
    "start_time": "2021-07-02T12:23:27.087Z"
   },
   {
    "duration": 89,
    "start_time": "2021-07-02T12:23:27.131Z"
   },
   {
    "duration": 43,
    "start_time": "2021-07-02T12:23:27.223Z"
   },
   {
    "duration": 26,
    "start_time": "2021-07-02T12:23:27.269Z"
   },
   {
    "duration": 75,
    "start_time": "2021-07-02T12:23:27.298Z"
   },
   {
    "duration": 424,
    "start_time": "2021-07-02T12:23:27.377Z"
   },
   {
    "duration": -1366,
    "start_time": "2021-07-02T12:23:29.171Z"
   },
   {
    "duration": -1386,
    "start_time": "2021-07-02T12:23:29.194Z"
   },
   {
    "duration": -1405,
    "start_time": "2021-07-02T12:23:29.215Z"
   },
   {
    "duration": -1424,
    "start_time": "2021-07-02T12:23:29.237Z"
   },
   {
    "duration": -1442,
    "start_time": "2021-07-02T12:23:29.257Z"
   },
   {
    "duration": -1458,
    "start_time": "2021-07-02T12:23:29.276Z"
   },
   {
    "duration": -1469,
    "start_time": "2021-07-02T12:23:29.289Z"
   },
   {
    "duration": -1486,
    "start_time": "2021-07-02T12:23:29.308Z"
   },
   {
    "duration": -1497,
    "start_time": "2021-07-02T12:23:29.321Z"
   },
   {
    "duration": -1512,
    "start_time": "2021-07-02T12:23:29.339Z"
   },
   {
    "duration": -1529,
    "start_time": "2021-07-02T12:23:29.358Z"
   },
   {
    "duration": -1539,
    "start_time": "2021-07-02T12:23:29.370Z"
   },
   {
    "duration": -1556,
    "start_time": "2021-07-02T12:23:29.390Z"
   },
   {
    "duration": -1572,
    "start_time": "2021-07-02T12:23:29.408Z"
   },
   {
    "duration": -1582,
    "start_time": "2021-07-02T12:23:29.420Z"
   },
   {
    "duration": -1602,
    "start_time": "2021-07-02T12:23:29.442Z"
   },
   {
    "duration": -1618,
    "start_time": "2021-07-02T12:23:29.460Z"
   },
   {
    "duration": -1639,
    "start_time": "2021-07-02T12:23:29.482Z"
   },
   {
    "duration": -1647,
    "start_time": "2021-07-02T12:23:29.500Z"
   },
   {
    "duration": -1663,
    "start_time": "2021-07-02T12:23:29.518Z"
   },
   {
    "duration": -1681,
    "start_time": "2021-07-02T12:23:29.538Z"
   },
   {
    "duration": -1699,
    "start_time": "2021-07-02T12:23:29.558Z"
   },
   {
    "duration": -1711,
    "start_time": "2021-07-02T12:23:29.571Z"
   },
   {
    "duration": -1736,
    "start_time": "2021-07-02T12:23:29.598Z"
   },
   {
    "duration": -1755,
    "start_time": "2021-07-02T12:23:29.620Z"
   },
   {
    "duration": -1773,
    "start_time": "2021-07-02T12:23:29.640Z"
   },
   {
    "duration": -1791,
    "start_time": "2021-07-02T12:23:29.659Z"
   },
   {
    "duration": -1802,
    "start_time": "2021-07-02T12:23:29.672Z"
   },
   {
    "duration": -1818,
    "start_time": "2021-07-02T12:23:29.691Z"
   },
   {
    "duration": -1829,
    "start_time": "2021-07-02T12:23:29.703Z"
   },
   {
    "duration": -1858,
    "start_time": "2021-07-02T12:23:29.734Z"
   },
   {
    "duration": -1876,
    "start_time": "2021-07-02T12:23:29.754Z"
   },
   {
    "duration": -1905,
    "start_time": "2021-07-02T12:23:29.785Z"
   },
   {
    "duration": -1924,
    "start_time": "2021-07-02T12:23:29.805Z"
   },
   {
    "duration": -1941,
    "start_time": "2021-07-02T12:23:29.824Z"
   },
   {
    "duration": -1952,
    "start_time": "2021-07-02T12:23:29.837Z"
   },
   {
    "duration": -1979,
    "start_time": "2021-07-02T12:23:29.866Z"
   },
   {
    "duration": -1990,
    "start_time": "2021-07-02T12:23:29.879Z"
   },
   {
    "duration": -2009,
    "start_time": "2021-07-02T12:23:29.900Z"
   },
   {
    "duration": -2030,
    "start_time": "2021-07-02T12:23:29.922Z"
   },
   {
    "duration": 45,
    "start_time": "2021-07-02T12:25:49.037Z"
   },
   {
    "duration": 1911,
    "start_time": "2021-07-02T12:28:38.225Z"
   },
   {
    "duration": 227,
    "start_time": "2021-07-02T12:28:40.139Z"
   },
   {
    "duration": 67,
    "start_time": "2021-07-02T12:28:40.370Z"
   },
   {
    "duration": 8,
    "start_time": "2021-07-02T12:28:40.456Z"
   },
   {
    "duration": 33,
    "start_time": "2021-07-02T12:28:40.467Z"
   },
   {
    "duration": 34,
    "start_time": "2021-07-02T12:28:40.504Z"
   },
   {
    "duration": 54,
    "start_time": "2021-07-02T12:28:40.541Z"
   },
   {
    "duration": 20,
    "start_time": "2021-07-02T12:28:40.599Z"
   },
   {
    "duration": 27,
    "start_time": "2021-07-02T12:28:40.623Z"
   },
   {
    "duration": 151,
    "start_time": "2021-07-02T12:28:40.653Z"
   },
   {
    "duration": 36,
    "start_time": "2021-07-02T12:28:40.807Z"
   },
   {
    "duration": 38,
    "start_time": "2021-07-02T12:28:40.846Z"
   },
   {
    "duration": 67,
    "start_time": "2021-07-02T12:28:40.887Z"
   },
   {
    "duration": 76,
    "start_time": "2021-07-02T12:28:40.958Z"
   },
   {
    "duration": 21,
    "start_time": "2021-07-02T12:28:41.037Z"
   },
   {
    "duration": 5,
    "start_time": "2021-07-02T12:28:41.061Z"
   },
   {
    "duration": 91,
    "start_time": "2021-07-02T12:28:41.069Z"
   },
   {
    "duration": 35,
    "start_time": "2021-07-02T12:28:41.163Z"
   },
   {
    "duration": 23,
    "start_time": "2021-07-02T12:28:41.200Z"
   },
   {
    "duration": 51,
    "start_time": "2021-07-02T12:28:41.227Z"
   },
   {
    "duration": 24,
    "start_time": "2021-07-02T12:28:41.281Z"
   },
   {
    "duration": 39,
    "start_time": "2021-07-02T12:28:41.309Z"
   },
   {
    "duration": 18,
    "start_time": "2021-07-02T12:28:41.356Z"
   },
   {
    "duration": 54,
    "start_time": "2021-07-02T12:28:41.379Z"
   },
   {
    "duration": 11,
    "start_time": "2021-07-02T12:28:41.437Z"
   },
   {
    "duration": 35,
    "start_time": "2021-07-02T12:28:41.450Z"
   },
   {
    "duration": 25,
    "start_time": "2021-07-02T12:28:41.490Z"
   },
   {
    "duration": 45,
    "start_time": "2021-07-02T12:28:41.518Z"
   },
   {
    "duration": 118,
    "start_time": "2021-07-02T12:28:41.566Z"
   },
   {
    "duration": 20,
    "start_time": "2021-07-02T12:28:41.687Z"
   },
   {
    "duration": 28,
    "start_time": "2021-07-02T12:28:41.711Z"
   },
   {
    "duration": 114,
    "start_time": "2021-07-02T12:28:41.742Z"
   },
   {
    "duration": 44,
    "start_time": "2021-07-02T12:28:41.859Z"
   },
   {
    "duration": 6,
    "start_time": "2021-07-02T12:28:41.906Z"
   },
   {
    "duration": 50,
    "start_time": "2021-07-02T12:28:41.916Z"
   },
   {
    "duration": 96,
    "start_time": "2021-07-02T12:28:41.970Z"
   },
   {
    "duration": 8,
    "start_time": "2021-07-02T12:28:42.070Z"
   },
   {
    "duration": 39,
    "start_time": "2021-07-02T12:28:42.081Z"
   },
   {
    "duration": 135,
    "start_time": "2021-07-02T12:28:42.125Z"
   },
   {
    "duration": 8,
    "start_time": "2021-07-02T12:28:42.264Z"
   },
   {
    "duration": 40,
    "start_time": "2021-07-02T12:28:42.276Z"
   },
   {
    "duration": 403,
    "start_time": "2021-07-02T12:28:42.319Z"
   },
   {
    "duration": 609,
    "start_time": "2021-07-02T12:28:42.726Z"
   },
   {
    "duration": 489,
    "start_time": "2021-07-02T12:28:43.338Z"
   },
   {
    "duration": 646,
    "start_time": "2021-07-02T12:28:43.831Z"
   },
   {
    "duration": 601,
    "start_time": "2021-07-02T12:28:44.480Z"
   },
   {
    "duration": 4,
    "start_time": "2021-07-02T12:28:45.084Z"
   },
   {
    "duration": 524,
    "start_time": "2021-07-02T12:28:45.092Z"
   },
   {
    "duration": 37,
    "start_time": "2021-07-02T12:28:45.619Z"
   },
   {
    "duration": 29,
    "start_time": "2021-07-02T12:28:45.659Z"
   },
   {
    "duration": 504,
    "start_time": "2021-07-02T12:28:45.691Z"
   },
   {
    "duration": 977,
    "start_time": "2021-07-02T12:28:46.198Z"
   },
   {
    "duration": 743,
    "start_time": "2021-07-02T12:28:47.178Z"
   },
   {
    "duration": 585,
    "start_time": "2021-07-02T12:28:47.925Z"
   },
   {
    "duration": 75,
    "start_time": "2021-07-02T12:28:48.513Z"
   },
   {
    "duration": 703,
    "start_time": "2021-07-02T12:28:48.591Z"
   },
   {
    "duration": 659,
    "start_time": "2021-07-02T12:28:49.296Z"
   },
   {
    "duration": 1371,
    "start_time": "2021-07-02T12:28:49.958Z"
   },
   {
    "duration": 714,
    "start_time": "2021-07-02T12:28:51.332Z"
   },
   {
    "duration": 15,
    "start_time": "2021-07-02T12:28:52.049Z"
   },
   {
    "duration": 111,
    "start_time": "2021-07-02T12:28:52.067Z"
   },
   {
    "duration": -946,
    "start_time": "2021-07-02T12:28:53.127Z"
   },
   {
    "duration": -957,
    "start_time": "2021-07-02T12:28:53.147Z"
   },
   {
    "duration": -974,
    "start_time": "2021-07-02T12:28:53.166Z"
   },
   {
    "duration": -997,
    "start_time": "2021-07-02T12:28:53.192Z"
   },
   {
    "duration": -1016,
    "start_time": "2021-07-02T12:28:53.213Z"
   },
   {
    "duration": -1023,
    "start_time": "2021-07-02T12:28:53.230Z"
   },
   {
    "duration": -1041,
    "start_time": "2021-07-02T12:28:53.250Z"
   },
   {
    "duration": -1076,
    "start_time": "2021-07-02T12:28:53.287Z"
   },
   {
    "duration": -1094,
    "start_time": "2021-07-02T12:28:53.307Z"
   },
   {
    "duration": -1116,
    "start_time": "2021-07-02T12:28:53.330Z"
   },
   {
    "duration": -1149,
    "start_time": "2021-07-02T12:28:53.365Z"
   },
   {
    "duration": -1164,
    "start_time": "2021-07-02T12:28:53.382Z"
   },
   {
    "duration": -1195,
    "start_time": "2021-07-02T12:28:53.415Z"
   },
   {
    "duration": 43,
    "start_time": "2021-07-02T12:29:35.832Z"
   },
   {
    "duration": 2027,
    "start_time": "2021-07-02T12:30:25.701Z"
   },
   {
    "duration": 258,
    "start_time": "2021-07-02T12:30:27.732Z"
   },
   {
    "duration": 64,
    "start_time": "2021-07-02T12:30:27.993Z"
   },
   {
    "duration": 8,
    "start_time": "2021-07-02T12:30:28.060Z"
   },
   {
    "duration": 23,
    "start_time": "2021-07-02T12:30:28.071Z"
   },
   {
    "duration": 9,
    "start_time": "2021-07-02T12:30:28.097Z"
   },
   {
    "duration": 57,
    "start_time": "2021-07-02T12:30:28.109Z"
   },
   {
    "duration": 7,
    "start_time": "2021-07-02T12:30:28.170Z"
   },
   {
    "duration": 29,
    "start_time": "2021-07-02T12:30:28.181Z"
   },
   {
    "duration": 164,
    "start_time": "2021-07-02T12:30:28.214Z"
   },
   {
    "duration": 22,
    "start_time": "2021-07-02T12:30:28.380Z"
   },
   {
    "duration": 24,
    "start_time": "2021-07-02T12:30:28.405Z"
   },
   {
    "duration": 46,
    "start_time": "2021-07-02T12:30:28.456Z"
   },
   {
    "duration": 91,
    "start_time": "2021-07-02T12:30:28.504Z"
   },
   {
    "duration": 18,
    "start_time": "2021-07-02T12:30:28.598Z"
   },
   {
    "duration": 5,
    "start_time": "2021-07-02T12:30:28.620Z"
   },
   {
    "duration": 55,
    "start_time": "2021-07-02T12:30:28.656Z"
   },
   {
    "duration": 47,
    "start_time": "2021-07-02T12:30:28.714Z"
   },
   {
    "duration": 24,
    "start_time": "2021-07-02T12:30:28.764Z"
   },
   {
    "duration": 9,
    "start_time": "2021-07-02T12:30:28.791Z"
   },
   {
    "duration": 24,
    "start_time": "2021-07-02T12:30:28.802Z"
   },
   {
    "duration": 39,
    "start_time": "2021-07-02T12:30:28.830Z"
   },
   {
    "duration": 18,
    "start_time": "2021-07-02T12:30:28.876Z"
   },
   {
    "duration": 40,
    "start_time": "2021-07-02T12:30:28.899Z"
   },
   {
    "duration": 25,
    "start_time": "2021-07-02T12:30:28.942Z"
   },
   {
    "duration": 33,
    "start_time": "2021-07-02T12:30:28.969Z"
   },
   {
    "duration": 17,
    "start_time": "2021-07-02T12:30:29.005Z"
   },
   {
    "duration": 54,
    "start_time": "2021-07-02T12:30:29.025Z"
   },
   {
    "duration": 141,
    "start_time": "2021-07-02T12:30:29.082Z"
   },
   {
    "duration": 41,
    "start_time": "2021-07-02T12:30:29.226Z"
   },
   {
    "duration": 15,
    "start_time": "2021-07-02T12:30:29.270Z"
   },
   {
    "duration": 88,
    "start_time": "2021-07-02T12:30:29.288Z"
   },
   {
    "duration": 43,
    "start_time": "2021-07-02T12:30:29.378Z"
   },
   {
    "duration": 31,
    "start_time": "2021-07-02T12:30:29.424Z"
   },
   {
    "duration": 30,
    "start_time": "2021-07-02T12:30:29.458Z"
   },
   {
    "duration": 121,
    "start_time": "2021-07-02T12:30:29.491Z"
   },
   {
    "duration": 8,
    "start_time": "2021-07-02T12:30:29.616Z"
   },
   {
    "duration": 31,
    "start_time": "2021-07-02T12:30:29.627Z"
   },
   {
    "duration": 39,
    "start_time": "2021-07-02T12:30:29.661Z"
   },
   {
    "duration": 10,
    "start_time": "2021-07-02T12:30:29.704Z"
   },
   {
    "duration": 39,
    "start_time": "2021-07-02T12:30:29.718Z"
   },
   {
    "duration": 371,
    "start_time": "2021-07-02T12:30:29.760Z"
   },
   {
    "duration": 589,
    "start_time": "2021-07-02T12:30:30.133Z"
   },
   {
    "duration": 476,
    "start_time": "2021-07-02T12:30:30.725Z"
   },
   {
    "duration": 628,
    "start_time": "2021-07-02T12:30:31.204Z"
   },
   {
    "duration": 457,
    "start_time": "2021-07-02T12:30:31.835Z"
   },
   {
    "duration": 4,
    "start_time": "2021-07-02T12:30:32.295Z"
   },
   {
    "duration": 485,
    "start_time": "2021-07-02T12:30:32.303Z"
   },
   {
    "duration": 23,
    "start_time": "2021-07-02T12:30:32.791Z"
   },
   {
    "duration": 45,
    "start_time": "2021-07-02T12:30:32.818Z"
   },
   {
    "duration": 420,
    "start_time": "2021-07-02T12:30:32.866Z"
   },
   {
    "duration": 711,
    "start_time": "2021-07-02T12:30:33.288Z"
   },
   {
    "duration": 666,
    "start_time": "2021-07-02T12:30:34.002Z"
   },
   {
    "duration": 556,
    "start_time": "2021-07-02T12:30:34.670Z"
   },
   {
    "duration": 59,
    "start_time": "2021-07-02T12:30:35.228Z"
   },
   {
    "duration": 565,
    "start_time": "2021-07-02T12:30:35.289Z"
   },
   {
    "duration": 559,
    "start_time": "2021-07-02T12:30:35.858Z"
   },
   {
    "duration": 1321,
    "start_time": "2021-07-02T12:30:36.419Z"
   },
   {
    "duration": 1026,
    "start_time": "2021-07-02T12:30:37.743Z"
   },
   {
    "duration": 15,
    "start_time": "2021-07-02T12:30:38.772Z"
   },
   {
    "duration": 108,
    "start_time": "2021-07-02T12:30:38.790Z"
   },
   {
    "duration": -919,
    "start_time": "2021-07-02T12:30:39.820Z"
   },
   {
    "duration": -941,
    "start_time": "2021-07-02T12:30:39.844Z"
   },
   {
    "duration": -957,
    "start_time": "2021-07-02T12:30:39.862Z"
   },
   {
    "duration": -973,
    "start_time": "2021-07-02T12:30:39.880Z"
   },
   {
    "duration": -999,
    "start_time": "2021-07-02T12:30:39.908Z"
   },
   {
    "duration": -1018,
    "start_time": "2021-07-02T12:30:39.929Z"
   },
   {
    "duration": -1034,
    "start_time": "2021-07-02T12:30:39.948Z"
   },
   {
    "duration": -1052,
    "start_time": "2021-07-02T12:30:39.967Z"
   },
   {
    "duration": -1084,
    "start_time": "2021-07-02T12:30:40.002Z"
   },
   {
    "duration": -1106,
    "start_time": "2021-07-02T12:30:40.026Z"
   },
   {
    "duration": -1126,
    "start_time": "2021-07-02T12:30:40.049Z"
   },
   {
    "duration": -1142,
    "start_time": "2021-07-02T12:30:40.068Z"
   },
   {
    "duration": -1163,
    "start_time": "2021-07-02T12:30:40.091Z"
   },
   {
    "duration": 457,
    "start_time": "2021-07-02T12:50:27.950Z"
   },
   {
    "duration": 40,
    "start_time": "2021-07-02T12:52:13.524Z"
   },
   {
    "duration": 22,
    "start_time": "2021-07-02T12:52:14.958Z"
   },
   {
    "duration": 6,
    "start_time": "2021-07-02T12:56:26.725Z"
   },
   {
    "duration": 6,
    "start_time": "2021-07-02T12:56:27.437Z"
   },
   {
    "duration": 383,
    "start_time": "2021-07-02T12:57:56.687Z"
   },
   {
    "duration": 27,
    "start_time": "2021-07-02T12:58:10.520Z"
   },
   {
    "duration": 32,
    "start_time": "2021-07-02T13:00:35.289Z"
   },
   {
    "duration": 20,
    "start_time": "2021-07-02T13:00:38.012Z"
   },
   {
    "duration": 21,
    "start_time": "2021-07-02T13:03:29.263Z"
   },
   {
    "duration": 38,
    "start_time": "2021-07-02T13:03:30.559Z"
   },
   {
    "duration": 28,
    "start_time": "2021-07-02T13:03:32.671Z"
   },
   {
    "duration": 5,
    "start_time": "2021-07-02T13:16:31.431Z"
   },
   {
    "duration": 27,
    "start_time": "2021-07-02T13:16:32.971Z"
   },
   {
    "duration": 27,
    "start_time": "2021-07-02T13:16:59.410Z"
   },
   {
    "duration": 5,
    "start_time": "2021-07-02T13:22:10.624Z"
   },
   {
    "duration": 4,
    "start_time": "2021-07-02T13:22:12.099Z"
   },
   {
    "duration": 259,
    "start_time": "2021-07-02T13:22:26.303Z"
   },
   {
    "duration": 3,
    "start_time": "2021-07-02T13:22:47.009Z"
   },
   {
    "duration": 35,
    "start_time": "2021-07-02T13:22:51.317Z"
   },
   {
    "duration": 25,
    "start_time": "2021-07-02T13:22:53.096Z"
   },
   {
    "duration": 4,
    "start_time": "2021-07-02T13:22:54.953Z"
   },
   {
    "duration": 3,
    "start_time": "2021-07-02T13:23:00.369Z"
   },
   {
    "duration": 36,
    "start_time": "2021-07-02T13:31:58.332Z"
   },
   {
    "duration": 28,
    "start_time": "2021-07-02T13:31:59.550Z"
   },
   {
    "duration": 4,
    "start_time": "2021-07-02T13:32:39.372Z"
   },
   {
    "duration": 5,
    "start_time": "2021-07-02T13:32:40.372Z"
   },
   {
    "duration": 46,
    "start_time": "2021-07-02T13:33:25.589Z"
   },
   {
    "duration": 35,
    "start_time": "2021-07-02T13:33:26.863Z"
   },
   {
    "duration": 6,
    "start_time": "2021-07-02T13:33:27.893Z"
   },
   {
    "duration": 27,
    "start_time": "2021-07-02T13:33:36.933Z"
   },
   {
    "duration": 5,
    "start_time": "2021-07-02T13:37:34.916Z"
   },
   {
    "duration": 25,
    "start_time": "2021-07-02T13:37:36.524Z"
   },
   {
    "duration": 40,
    "start_time": "2021-07-02T13:39:58.349Z"
   },
   {
    "duration": 28,
    "start_time": "2021-07-02T13:39:59.581Z"
   },
   {
    "duration": 4,
    "start_time": "2021-07-02T13:40:00.708Z"
   },
   {
    "duration": 26,
    "start_time": "2021-07-02T13:40:01.755Z"
   },
   {
    "duration": 38,
    "start_time": "2021-07-02T13:42:30.207Z"
   },
   {
    "duration": 30,
    "start_time": "2021-07-02T13:42:31.760Z"
   },
   {
    "duration": 6,
    "start_time": "2021-07-02T13:42:32.854Z"
   },
   {
    "duration": 23,
    "start_time": "2021-07-02T13:42:33.880Z"
   },
   {
    "duration": 310,
    "start_time": "2021-07-02T13:48:01.254Z"
   },
   {
    "duration": 57,
    "start_time": "2021-07-02T13:48:10.654Z"
   },
   {
    "duration": 29,
    "start_time": "2021-07-02T13:48:11.799Z"
   },
   {
    "duration": 6,
    "start_time": "2021-07-02T13:48:12.567Z"
   },
   {
    "duration": 23,
    "start_time": "2021-07-02T13:48:13.431Z"
   },
   {
    "duration": 288,
    "start_time": "2021-07-02T14:03:46.919Z"
   },
   {
    "duration": 10,
    "start_time": "2021-07-02T14:04:42.651Z"
   },
   {
    "duration": 19,
    "start_time": "2021-07-02T14:04:46.610Z"
   },
   {
    "duration": 14,
    "start_time": "2021-07-02T14:15:40.814Z"
   },
   {
    "duration": 15,
    "start_time": "2021-07-02T14:15:53.198Z"
   },
   {
    "duration": 15,
    "start_time": "2021-07-02T14:18:46.729Z"
   },
   {
    "duration": 16,
    "start_time": "2021-07-02T14:20:18.570Z"
   },
   {
    "duration": 30,
    "start_time": "2021-07-02T14:25:36.994Z"
   },
   {
    "duration": 20,
    "start_time": "2021-07-02T14:25:37.970Z"
   },
   {
    "duration": 775,
    "start_time": "2021-07-02T14:26:00.387Z"
   },
   {
    "duration": 36,
    "start_time": "2021-07-02T14:26:01.360Z"
   },
   {
    "duration": 6,
    "start_time": "2021-07-02T14:30:54.256Z"
   },
   {
    "duration": 449,
    "start_time": "2021-07-02T14:32:08.857Z"
   },
   {
    "duration": 33,
    "start_time": "2021-07-02T14:32:11.986Z"
   },
   {
    "duration": 879,
    "start_time": "2021-07-02T14:34:48.629Z"
   },
   {
    "duration": 36,
    "start_time": "2021-07-02T14:35:01.735Z"
   },
   {
    "duration": 759,
    "start_time": "2021-07-02T15:01:32.330Z"
   },
   {
    "duration": 33,
    "start_time": "2021-07-02T15:01:34.372Z"
   },
   {
    "duration": 20,
    "start_time": "2021-07-02T15:02:04.220Z"
   },
   {
    "duration": 26,
    "start_time": "2021-07-02T15:02:33.428Z"
   },
   {
    "duration": 21,
    "start_time": "2021-07-02T15:02:46.589Z"
   },
   {
    "duration": 1567,
    "start_time": "2021-07-02T15:25:43.046Z"
   },
   {
    "duration": 235,
    "start_time": "2021-07-02T15:25:44.616Z"
   },
   {
    "duration": 59,
    "start_time": "2021-07-02T15:25:44.854Z"
   },
   {
    "duration": 7,
    "start_time": "2021-07-02T15:25:44.916Z"
   },
   {
    "duration": 47,
    "start_time": "2021-07-02T15:25:44.925Z"
   },
   {
    "duration": 5,
    "start_time": "2021-07-02T15:25:44.975Z"
   },
   {
    "duration": 18,
    "start_time": "2021-07-02T15:25:44.983Z"
   },
   {
    "duration": 5,
    "start_time": "2021-07-02T15:25:45.004Z"
   },
   {
    "duration": 63,
    "start_time": "2021-07-02T15:25:45.012Z"
   },
   {
    "duration": 126,
    "start_time": "2021-07-02T15:25:45.078Z"
   },
   {
    "duration": 20,
    "start_time": "2021-07-02T15:25:45.207Z"
   },
   {
    "duration": 28,
    "start_time": "2021-07-02T15:25:45.229Z"
   },
   {
    "duration": 48,
    "start_time": "2021-07-02T15:25:45.260Z"
   },
   {
    "duration": 77,
    "start_time": "2021-07-02T15:25:45.311Z"
   },
   {
    "duration": 16,
    "start_time": "2021-07-02T15:25:45.390Z"
   },
   {
    "duration": 11,
    "start_time": "2021-07-02T15:25:45.408Z"
   },
   {
    "duration": 66,
    "start_time": "2021-07-02T15:25:45.422Z"
   },
   {
    "duration": 15,
    "start_time": "2021-07-02T15:25:45.490Z"
   },
   {
    "duration": 19,
    "start_time": "2021-07-02T15:25:45.507Z"
   },
   {
    "duration": 41,
    "start_time": "2021-07-02T15:25:45.527Z"
   },
   {
    "duration": 11,
    "start_time": "2021-07-02T15:25:45.571Z"
   },
   {
    "duration": 30,
    "start_time": "2021-07-02T15:25:45.585Z"
   },
   {
    "duration": 10,
    "start_time": "2021-07-02T15:25:45.623Z"
   },
   {
    "duration": 23,
    "start_time": "2021-07-02T15:25:45.659Z"
   },
   {
    "duration": 15,
    "start_time": "2021-07-02T15:25:45.684Z"
   },
   {
    "duration": 20,
    "start_time": "2021-07-02T15:25:45.702Z"
   },
   {
    "duration": 18,
    "start_time": "2021-07-02T15:25:45.724Z"
   },
   {
    "duration": 42,
    "start_time": "2021-07-02T15:25:45.745Z"
   },
   {
    "duration": 92,
    "start_time": "2021-07-02T15:25:45.789Z"
   },
   {
    "duration": 16,
    "start_time": "2021-07-02T15:25:45.883Z"
   },
   {
    "duration": 26,
    "start_time": "2021-07-02T15:25:45.902Z"
   },
   {
    "duration": 68,
    "start_time": "2021-07-02T15:25:45.931Z"
   },
   {
    "duration": 59,
    "start_time": "2021-07-02T15:25:46.002Z"
   },
   {
    "duration": 5,
    "start_time": "2021-07-02T15:25:46.064Z"
   },
   {
    "duration": 28,
    "start_time": "2021-07-02T15:25:46.072Z"
   },
   {
    "duration": 85,
    "start_time": "2021-07-02T15:25:46.102Z"
   },
   {
    "duration": 6,
    "start_time": "2021-07-02T15:25:46.190Z"
   },
   {
    "duration": 36,
    "start_time": "2021-07-02T15:25:46.198Z"
   },
   {
    "duration": 36,
    "start_time": "2021-07-02T15:25:46.236Z"
   },
   {
    "duration": 38,
    "start_time": "2021-07-02T15:25:46.274Z"
   },
   {
    "duration": 18,
    "start_time": "2021-07-02T15:25:46.315Z"
   },
   {
    "duration": 27,
    "start_time": "2021-07-02T15:25:46.335Z"
   },
   {
    "duration": 23,
    "start_time": "2021-07-02T15:25:46.365Z"
   },
   {
    "duration": 31,
    "start_time": "2021-07-02T15:25:46.390Z"
   },
   {
    "duration": 21,
    "start_time": "2021-07-02T15:25:46.423Z"
   },
   {
    "duration": 770,
    "start_time": "2021-07-02T15:25:46.446Z"
   },
   {
    "duration": 21,
    "start_time": "2021-07-02T15:25:47.218Z"
   },
   {
    "duration": 16,
    "start_time": "2021-07-02T15:25:47.242Z"
   },
   {
    "duration": 14,
    "start_time": "2021-07-02T15:25:47.261Z"
   },
   {
    "duration": 8,
    "start_time": "2021-07-02T15:25:47.278Z"
   },
   {
    "duration": 395,
    "start_time": "2021-07-02T15:25:47.289Z"
   },
   {
    "duration": 444,
    "start_time": "2021-07-02T15:25:47.687Z"
   },
   {
    "duration": 447,
    "start_time": "2021-07-02T15:25:48.134Z"
   },
   {
    "duration": 498,
    "start_time": "2021-07-02T15:25:48.584Z"
   },
   {
    "duration": 419,
    "start_time": "2021-07-02T15:25:49.086Z"
   },
   {
    "duration": 4,
    "start_time": "2021-07-02T15:25:49.508Z"
   },
   {
    "duration": 391,
    "start_time": "2021-07-02T15:25:49.514Z"
   },
   {
    "duration": 21,
    "start_time": "2021-07-02T15:25:49.908Z"
   },
   {
    "duration": 40,
    "start_time": "2021-07-02T15:25:49.932Z"
   },
   {
    "duration": 405,
    "start_time": "2021-07-02T15:25:49.974Z"
   },
   {
    "duration": 687,
    "start_time": "2021-07-02T15:25:50.382Z"
   },
   {
    "duration": 646,
    "start_time": "2021-07-02T15:25:51.072Z"
   },
   {
    "duration": 538,
    "start_time": "2021-07-02T15:25:51.721Z"
   },
   {
    "duration": 49,
    "start_time": "2021-07-02T15:25:52.261Z"
   },
   {
    "duration": 523,
    "start_time": "2021-07-02T15:25:52.313Z"
   },
   {
    "duration": 541,
    "start_time": "2021-07-02T15:25:52.839Z"
   },
   {
    "duration": 1462,
    "start_time": "2021-07-02T15:25:53.383Z"
   },
   {
    "duration": 557,
    "start_time": "2021-07-02T15:25:54.860Z"
   },
   {
    "duration": 11,
    "start_time": "2021-07-02T15:25:55.420Z"
   },
   {
    "duration": 84,
    "start_time": "2021-07-02T15:25:55.433Z"
   },
   {
    "duration": -706,
    "start_time": "2021-07-02T15:25:56.227Z"
   },
   {
    "duration": -716,
    "start_time": "2021-07-02T15:25:56.239Z"
   },
   {
    "duration": -733,
    "start_time": "2021-07-02T15:25:56.258Z"
   },
   {
    "duration": -752,
    "start_time": "2021-07-02T15:25:56.280Z"
   },
   {
    "duration": -771,
    "start_time": "2021-07-02T15:25:56.301Z"
   },
   {
    "duration": -792,
    "start_time": "2021-07-02T15:25:56.324Z"
   },
   {
    "duration": -812,
    "start_time": "2021-07-02T15:25:56.346Z"
   },
   {
    "duration": -847,
    "start_time": "2021-07-02T15:25:56.383Z"
   },
   {
    "duration": -858,
    "start_time": "2021-07-02T15:25:56.396Z"
   },
   {
    "duration": -884,
    "start_time": "2021-07-02T15:25:56.425Z"
   },
   {
    "duration": -895,
    "start_time": "2021-07-02T15:25:56.438Z"
   },
   {
    "duration": -915,
    "start_time": "2021-07-02T15:25:56.460Z"
   },
   {
    "duration": -935,
    "start_time": "2021-07-02T15:25:56.482Z"
   },
   {
    "duration": 13,
    "start_time": "2021-07-02T15:29:09.957Z"
   },
   {
    "duration": 414,
    "start_time": "2021-07-02T15:29:24.701Z"
   },
   {
    "duration": 752,
    "start_time": "2021-07-02T15:29:40.823Z"
   },
   {
    "duration": 22,
    "start_time": "2021-07-02T15:29:41.578Z"
   },
   {
    "duration": 6,
    "start_time": "2021-07-02T15:29:42.985Z"
   },
   {
    "duration": 19,
    "start_time": "2021-07-02T15:29:43.990Z"
   },
   {
    "duration": 1625,
    "start_time": "2021-07-02T15:35:53.981Z"
   },
   {
    "duration": 230,
    "start_time": "2021-07-02T15:35:55.609Z"
   },
   {
    "duration": 62,
    "start_time": "2021-07-02T15:35:55.842Z"
   },
   {
    "duration": 5,
    "start_time": "2021-07-02T15:35:55.907Z"
   },
   {
    "duration": 17,
    "start_time": "2021-07-02T15:35:55.915Z"
   },
   {
    "duration": 5,
    "start_time": "2021-07-02T15:35:55.960Z"
   },
   {
    "duration": 16,
    "start_time": "2021-07-02T15:35:55.971Z"
   },
   {
    "duration": 6,
    "start_time": "2021-07-02T15:35:55.990Z"
   },
   {
    "duration": 17,
    "start_time": "2021-07-02T15:35:55.998Z"
   },
   {
    "duration": 155,
    "start_time": "2021-07-02T15:35:56.018Z"
   },
   {
    "duration": 23,
    "start_time": "2021-07-02T15:35:56.176Z"
   },
   {
    "duration": 16,
    "start_time": "2021-07-02T15:35:56.202Z"
   },
   {
    "duration": 74,
    "start_time": "2021-07-02T15:35:56.220Z"
   },
   {
    "duration": 80,
    "start_time": "2021-07-02T15:35:56.297Z"
   },
   {
    "duration": 19,
    "start_time": "2021-07-02T15:35:56.380Z"
   },
   {
    "duration": 3,
    "start_time": "2021-07-02T15:35:56.401Z"
   },
   {
    "duration": 87,
    "start_time": "2021-07-02T15:35:56.407Z"
   },
   {
    "duration": 15,
    "start_time": "2021-07-02T15:35:56.496Z"
   },
   {
    "duration": 52,
    "start_time": "2021-07-02T15:35:56.514Z"
   },
   {
    "duration": 9,
    "start_time": "2021-07-02T15:35:56.569Z"
   },
   {
    "duration": 6,
    "start_time": "2021-07-02T15:35:56.580Z"
   },
   {
    "duration": 17,
    "start_time": "2021-07-02T15:35:56.590Z"
   },
   {
    "duration": 12,
    "start_time": "2021-07-02T15:35:56.656Z"
   },
   {
    "duration": 22,
    "start_time": "2021-07-02T15:35:56.674Z"
   },
   {
    "duration": 7,
    "start_time": "2021-07-02T15:35:56.699Z"
   },
   {
    "duration": 58,
    "start_time": "2021-07-02T15:35:56.708Z"
   },
   {
    "duration": 5,
    "start_time": "2021-07-02T15:35:56.770Z"
   },
   {
    "duration": 36,
    "start_time": "2021-07-02T15:35:56.778Z"
   },
   {
    "duration": 105,
    "start_time": "2021-07-02T15:35:56.816Z"
   },
   {
    "duration": 37,
    "start_time": "2021-07-02T15:35:56.924Z"
   },
   {
    "duration": 15,
    "start_time": "2021-07-02T15:35:56.967Z"
   },
   {
    "duration": 81,
    "start_time": "2021-07-02T15:35:56.985Z"
   },
   {
    "duration": 41,
    "start_time": "2021-07-02T15:35:57.069Z"
   },
   {
    "duration": 6,
    "start_time": "2021-07-02T15:35:57.113Z"
   },
   {
    "duration": 14,
    "start_time": "2021-07-02T15:35:57.162Z"
   },
   {
    "duration": 73,
    "start_time": "2021-07-02T15:35:57.179Z"
   },
   {
    "duration": 8,
    "start_time": "2021-07-02T15:35:57.256Z"
   },
   {
    "duration": 11,
    "start_time": "2021-07-02T15:35:57.267Z"
   },
   {
    "duration": 23,
    "start_time": "2021-07-02T15:35:57.280Z"
   },
   {
    "duration": 74,
    "start_time": "2021-07-02T15:35:57.306Z"
   },
   {
    "duration": 18,
    "start_time": "2021-07-02T15:35:57.383Z"
   },
   {
    "duration": 11,
    "start_time": "2021-07-02T15:35:57.404Z"
   },
   {
    "duration": 15,
    "start_time": "2021-07-02T15:35:57.417Z"
   },
   {
    "duration": 35,
    "start_time": "2021-07-02T15:35:57.435Z"
   },
   {
    "duration": 7,
    "start_time": "2021-07-02T15:35:57.472Z"
   },
   {
    "duration": 789,
    "start_time": "2021-07-02T15:35:57.481Z"
   },
   {
    "duration": 23,
    "start_time": "2021-07-02T15:35:58.272Z"
   },
   {
    "duration": 8,
    "start_time": "2021-07-02T15:35:58.298Z"
   },
   {
    "duration": 54,
    "start_time": "2021-07-02T15:35:58.309Z"
   },
   {
    "duration": 9,
    "start_time": "2021-07-02T15:35:58.366Z"
   },
   {
    "duration": 7,
    "start_time": "2021-07-02T15:35:58.377Z"
   },
   {
    "duration": 390,
    "start_time": "2021-07-02T15:35:58.386Z"
   },
   {
    "duration": 566,
    "start_time": "2021-07-02T15:35:58.779Z"
   },
   {
    "duration": 450,
    "start_time": "2021-07-02T15:35:59.354Z"
   },
   {
    "duration": 516,
    "start_time": "2021-07-02T15:35:59.806Z"
   },
   {
    "duration": 434,
    "start_time": "2021-07-02T15:36:00.324Z"
   },
   {
    "duration": 3,
    "start_time": "2021-07-02T15:36:00.761Z"
   },
   {
    "duration": 383,
    "start_time": "2021-07-02T15:36:00.766Z"
   },
   {
    "duration": 26,
    "start_time": "2021-07-02T15:36:01.154Z"
   },
   {
    "duration": 21,
    "start_time": "2021-07-02T15:36:01.182Z"
   },
   {
    "duration": 418,
    "start_time": "2021-07-02T15:36:01.206Z"
   },
   {
    "duration": 705,
    "start_time": "2021-07-02T15:36:01.626Z"
   },
   {
    "duration": 655,
    "start_time": "2021-07-02T15:36:02.333Z"
   },
   {
    "duration": 546,
    "start_time": "2021-07-02T15:36:02.991Z"
   },
   {
    "duration": 52,
    "start_time": "2021-07-02T15:36:03.540Z"
   },
   {
    "duration": 548,
    "start_time": "2021-07-02T15:36:03.594Z"
   },
   {
    "duration": 635,
    "start_time": "2021-07-02T15:36:04.145Z"
   },
   {
    "duration": 1385,
    "start_time": "2021-07-02T15:36:04.787Z"
   },
   {
    "duration": 541,
    "start_time": "2021-07-02T15:36:06.175Z"
   },
   {
    "duration": 13,
    "start_time": "2021-07-02T15:36:06.720Z"
   },
   {
    "duration": 78,
    "start_time": "2021-07-02T15:36:06.736Z"
   },
   {
    "duration": -649,
    "start_time": "2021-07-02T15:36:07.466Z"
   },
   {
    "duration": -715,
    "start_time": "2021-07-02T15:36:07.533Z"
   },
   {
    "duration": -745,
    "start_time": "2021-07-02T15:36:07.564Z"
   },
   {
    "duration": -765,
    "start_time": "2021-07-02T15:36:07.586Z"
   },
   {
    "duration": -784,
    "start_time": "2021-07-02T15:36:07.606Z"
   },
   {
    "duration": -804,
    "start_time": "2021-07-02T15:36:07.627Z"
   },
   {
    "duration": -821,
    "start_time": "2021-07-02T15:36:07.645Z"
   },
   {
    "duration": -838,
    "start_time": "2021-07-02T15:36:07.664Z"
   },
   {
    "duration": -858,
    "start_time": "2021-07-02T15:36:07.685Z"
   },
   {
    "duration": -876,
    "start_time": "2021-07-02T15:36:07.704Z"
   },
   {
    "duration": -890,
    "start_time": "2021-07-02T15:36:07.719Z"
   },
   {
    "duration": -907,
    "start_time": "2021-07-02T15:36:07.738Z"
   },
   {
    "duration": -927,
    "start_time": "2021-07-02T15:36:07.759Z"
   },
   {
    "duration": 567,
    "start_time": "2021-07-02T15:40:27.043Z"
   },
   {
    "duration": 552,
    "start_time": "2021-07-02T15:42:35.174Z"
   },
   {
    "duration": 528,
    "start_time": "2021-07-02T15:43:19.783Z"
   },
   {
    "duration": 591,
    "start_time": "2021-07-02T15:44:04.168Z"
   },
   {
    "duration": 574,
    "start_time": "2021-07-02T15:45:05.449Z"
   },
   {
    "duration": 593,
    "start_time": "2021-07-02T15:50:29.921Z"
   },
   {
    "duration": 3,
    "start_time": "2021-07-02T15:52:06.019Z"
   },
   {
    "duration": 3,
    "start_time": "2021-07-02T15:52:12.706Z"
   },
   {
    "duration": 17,
    "start_time": "2021-07-02T15:54:00.060Z"
   },
   {
    "duration": 3,
    "start_time": "2021-07-02T15:55:47.160Z"
   },
   {
    "duration": 15,
    "start_time": "2021-07-02T16:01:49.988Z"
   },
   {
    "duration": 11,
    "start_time": "2021-07-02T16:02:43.787Z"
   },
   {
    "duration": 1624,
    "start_time": "2021-07-02T16:02:51.679Z"
   },
   {
    "duration": 259,
    "start_time": "2021-07-02T16:02:53.306Z"
   },
   {
    "duration": 101,
    "start_time": "2021-07-02T16:02:53.570Z"
   },
   {
    "duration": 8,
    "start_time": "2021-07-02T16:02:53.675Z"
   },
   {
    "duration": 22,
    "start_time": "2021-07-02T16:02:53.685Z"
   },
   {
    "duration": 5,
    "start_time": "2021-07-02T16:02:53.710Z"
   },
   {
    "duration": 49,
    "start_time": "2021-07-02T16:02:53.718Z"
   },
   {
    "duration": 5,
    "start_time": "2021-07-02T16:02:53.772Z"
   },
   {
    "duration": 26,
    "start_time": "2021-07-02T16:02:53.780Z"
   },
   {
    "duration": 127,
    "start_time": "2021-07-02T16:02:53.809Z"
   },
   {
    "duration": 22,
    "start_time": "2021-07-02T16:02:53.955Z"
   },
   {
    "duration": 13,
    "start_time": "2021-07-02T16:02:53.980Z"
   },
   {
    "duration": 71,
    "start_time": "2021-07-02T16:02:53.995Z"
   },
   {
    "duration": 89,
    "start_time": "2021-07-02T16:02:54.068Z"
   },
   {
    "duration": 40,
    "start_time": "2021-07-02T16:02:54.160Z"
   },
   {
    "duration": 5,
    "start_time": "2021-07-02T16:02:54.204Z"
   },
   {
    "duration": 69,
    "start_time": "2021-07-02T16:02:54.213Z"
   },
   {
    "duration": 15,
    "start_time": "2021-07-02T16:02:54.285Z"
   },
   {
    "duration": 26,
    "start_time": "2021-07-02T16:02:54.303Z"
   },
   {
    "duration": 10,
    "start_time": "2021-07-02T16:02:54.355Z"
   },
   {
    "duration": 5,
    "start_time": "2021-07-02T16:02:54.367Z"
   },
   {
    "duration": 18,
    "start_time": "2021-07-02T16:02:54.374Z"
   },
   {
    "duration": 11,
    "start_time": "2021-07-02T16:02:54.398Z"
   },
   {
    "duration": 59,
    "start_time": "2021-07-02T16:02:54.413Z"
   },
   {
    "duration": 8,
    "start_time": "2021-07-02T16:02:54.474Z"
   },
   {
    "duration": 16,
    "start_time": "2021-07-02T16:02:54.485Z"
   },
   {
    "duration": 10,
    "start_time": "2021-07-02T16:02:54.504Z"
   },
   {
    "duration": 71,
    "start_time": "2021-07-02T16:02:54.517Z"
   },
   {
    "duration": 110,
    "start_time": "2021-07-02T16:02:54.591Z"
   },
   {
    "duration": 17,
    "start_time": "2021-07-02T16:02:54.703Z"
   },
   {
    "duration": 44,
    "start_time": "2021-07-02T16:02:54.724Z"
   },
   {
    "duration": 94,
    "start_time": "2021-07-02T16:02:54.772Z"
   },
   {
    "duration": 85,
    "start_time": "2021-07-02T16:02:54.869Z"
   },
   {
    "duration": 5,
    "start_time": "2021-07-02T16:02:54.957Z"
   },
   {
    "duration": 14,
    "start_time": "2021-07-02T16:02:54.965Z"
   },
   {
    "duration": 140,
    "start_time": "2021-07-02T16:02:54.982Z"
   },
   {
    "duration": 8,
    "start_time": "2021-07-02T16:02:55.126Z"
   },
   {
    "duration": 29,
    "start_time": "2021-07-02T16:02:55.137Z"
   },
   {
    "duration": 36,
    "start_time": "2021-07-02T16:02:55.169Z"
   },
   {
    "duration": 90,
    "start_time": "2021-07-02T16:02:55.208Z"
   },
   {
    "duration": 30,
    "start_time": "2021-07-02T16:02:55.301Z"
   },
   {
    "duration": 23,
    "start_time": "2021-07-02T16:02:55.335Z"
   },
   {
    "duration": 8,
    "start_time": "2021-07-02T16:02:55.361Z"
   },
   {
    "duration": 21,
    "start_time": "2021-07-02T16:02:55.371Z"
   },
   {
    "duration": 7,
    "start_time": "2021-07-02T16:02:55.395Z"
   },
   {
    "duration": 764,
    "start_time": "2021-07-02T16:02:55.405Z"
   },
   {
    "duration": 23,
    "start_time": "2021-07-02T16:02:56.172Z"
   },
   {
    "duration": 7,
    "start_time": "2021-07-02T16:02:56.198Z"
   },
   {
    "duration": 54,
    "start_time": "2021-07-02T16:02:56.207Z"
   },
   {
    "duration": 8,
    "start_time": "2021-07-02T16:02:56.264Z"
   },
   {
    "duration": 8,
    "start_time": "2021-07-02T16:02:56.275Z"
   },
   {
    "duration": 653,
    "start_time": "2021-07-02T16:02:56.285Z"
   },
   {
    "duration": 546,
    "start_time": "2021-07-02T16:02:56.941Z"
   },
   {
    "duration": 4,
    "start_time": "2021-07-02T16:02:57.490Z"
   },
   {
    "duration": 11,
    "start_time": "2021-07-02T16:02:57.497Z"
   },
   {
    "duration": 14,
    "start_time": "2021-07-02T16:02:57.511Z"
   },
   {
    "duration": 52,
    "start_time": "2021-07-02T16:02:57.528Z"
   },
   {
    "duration": 6584,
    "start_time": "2021-07-02T16:02:57.583Z"
   },
   {
    "duration": -583,
    "start_time": "2021-07-02T16:03:04.855Z"
   },
   {
    "duration": -603,
    "start_time": "2021-07-02T16:03:04.877Z"
   },
   {
    "duration": -624,
    "start_time": "2021-07-02T16:03:04.900Z"
   },
   {
    "duration": -646,
    "start_time": "2021-07-02T16:03:04.924Z"
   },
   {
    "duration": -668,
    "start_time": "2021-07-02T16:03:04.949Z"
   },
   {
    "duration": -690,
    "start_time": "2021-07-02T16:03:04.974Z"
   },
   {
    "duration": -710,
    "start_time": "2021-07-02T16:03:04.997Z"
   },
   {
    "duration": -732,
    "start_time": "2021-07-02T16:03:05.021Z"
   },
   {
    "duration": -749,
    "start_time": "2021-07-02T16:03:05.040Z"
   },
   {
    "duration": -810,
    "start_time": "2021-07-02T16:03:05.104Z"
   },
   {
    "duration": -829,
    "start_time": "2021-07-02T16:03:05.125Z"
   },
   {
    "duration": -849,
    "start_time": "2021-07-02T16:03:05.147Z"
   },
   {
    "duration": -864,
    "start_time": "2021-07-02T16:03:05.164Z"
   },
   {
    "duration": -881,
    "start_time": "2021-07-02T16:03:05.183Z"
   },
   {
    "duration": -899,
    "start_time": "2021-07-02T16:03:05.203Z"
   },
   {
    "duration": -927,
    "start_time": "2021-07-02T16:03:05.232Z"
   },
   {
    "duration": -945,
    "start_time": "2021-07-02T16:03:05.251Z"
   },
   {
    "duration": -918,
    "start_time": "2021-07-02T16:03:05.271Z"
   },
   {
    "duration": -934,
    "start_time": "2021-07-02T16:03:05.289Z"
   },
   {
    "duration": -946,
    "start_time": "2021-07-02T16:03:05.302Z"
   },
   {
    "duration": -967,
    "start_time": "2021-07-02T16:03:05.325Z"
   },
   {
    "duration": -978,
    "start_time": "2021-07-02T16:03:05.338Z"
   },
   {
    "duration": -989,
    "start_time": "2021-07-02T16:03:05.350Z"
   },
   {
    "duration": 390,
    "start_time": "2021-07-02T16:03:43.052Z"
   },
   {
    "duration": 34,
    "start_time": "2021-07-02T16:05:09.365Z"
   },
   {
    "duration": 515,
    "start_time": "2021-07-02T16:07:36.601Z"
   },
   {
    "duration": 530,
    "start_time": "2021-07-02T16:07:59.617Z"
   },
   {
    "duration": 512,
    "start_time": "2021-07-02T16:08:32.050Z"
   },
   {
    "duration": 407,
    "start_time": "2021-07-02T16:08:54.730Z"
   },
   {
    "duration": 385,
    "start_time": "2021-07-02T16:09:42.283Z"
   },
   {
    "duration": 33,
    "start_time": "2021-07-02T16:10:36.387Z"
   },
   {
    "duration": 408,
    "start_time": "2021-07-02T16:16:23.828Z"
   },
   {
    "duration": 6183,
    "start_time": "2021-07-02T16:19:17.221Z"
   },
   {
    "duration": 1135,
    "start_time": "2021-07-02T16:20:32.945Z"
   },
   {
    "duration": 1600,
    "start_time": "2021-07-02T16:24:59.031Z"
   },
   {
    "duration": 222,
    "start_time": "2021-07-02T16:25:00.633Z"
   },
   {
    "duration": 67,
    "start_time": "2021-07-02T16:25:00.859Z"
   },
   {
    "duration": 28,
    "start_time": "2021-07-02T16:25:00.928Z"
   },
   {
    "duration": 41,
    "start_time": "2021-07-02T16:25:00.958Z"
   },
   {
    "duration": 33,
    "start_time": "2021-07-02T16:25:01.001Z"
   },
   {
    "duration": 48,
    "start_time": "2021-07-02T16:25:01.037Z"
   },
   {
    "duration": 32,
    "start_time": "2021-07-02T16:25:01.091Z"
   },
   {
    "duration": 60,
    "start_time": "2021-07-02T16:25:01.127Z"
   },
   {
    "duration": 146,
    "start_time": "2021-07-02T16:25:01.190Z"
   },
   {
    "duration": 32,
    "start_time": "2021-07-02T16:25:01.339Z"
   },
   {
    "duration": 43,
    "start_time": "2021-07-02T16:25:01.374Z"
   },
   {
    "duration": 56,
    "start_time": "2021-07-02T16:25:01.420Z"
   },
   {
    "duration": 78,
    "start_time": "2021-07-02T16:25:01.478Z"
   },
   {
    "duration": 16,
    "start_time": "2021-07-02T16:25:01.558Z"
   },
   {
    "duration": 23,
    "start_time": "2021-07-02T16:25:01.577Z"
   },
   {
    "duration": 66,
    "start_time": "2021-07-02T16:25:01.603Z"
   },
   {
    "duration": 16,
    "start_time": "2021-07-02T16:25:01.672Z"
   },
   {
    "duration": 37,
    "start_time": "2021-07-02T16:25:01.690Z"
   },
   {
    "duration": 28,
    "start_time": "2021-07-02T16:25:01.730Z"
   },
   {
    "duration": 26,
    "start_time": "2021-07-02T16:25:01.761Z"
   },
   {
    "duration": 40,
    "start_time": "2021-07-02T16:25:01.790Z"
   },
   {
    "duration": 32,
    "start_time": "2021-07-02T16:25:01.839Z"
   },
   {
    "duration": 78,
    "start_time": "2021-07-02T16:25:01.877Z"
   },
   {
    "duration": 24,
    "start_time": "2021-07-02T16:25:01.958Z"
   },
   {
    "duration": 45,
    "start_time": "2021-07-02T16:25:01.985Z"
   },
   {
    "duration": 29,
    "start_time": "2021-07-02T16:25:02.033Z"
   },
   {
    "duration": 56,
    "start_time": "2021-07-02T16:25:02.065Z"
   },
   {
    "duration": 107,
    "start_time": "2021-07-02T16:25:02.124Z"
   },
   {
    "duration": 32,
    "start_time": "2021-07-02T16:25:02.234Z"
   },
   {
    "duration": 34,
    "start_time": "2021-07-02T16:25:02.268Z"
   },
   {
    "duration": 65,
    "start_time": "2021-07-02T16:25:02.304Z"
   },
   {
    "duration": 45,
    "start_time": "2021-07-02T16:25:02.371Z"
   },
   {
    "duration": 5,
    "start_time": "2021-07-02T16:25:02.418Z"
   },
   {
    "duration": 40,
    "start_time": "2021-07-02T16:25:02.425Z"
   },
   {
    "duration": 75,
    "start_time": "2021-07-02T16:25:02.467Z"
   },
   {
    "duration": 5,
    "start_time": "2021-07-02T16:25:02.545Z"
   },
   {
    "duration": 37,
    "start_time": "2021-07-02T16:25:02.555Z"
   },
   {
    "duration": 43,
    "start_time": "2021-07-02T16:25:02.594Z"
   },
   {
    "duration": 43,
    "start_time": "2021-07-02T16:25:02.640Z"
   },
   {
    "duration": 32,
    "start_time": "2021-07-02T16:25:02.685Z"
   },
   {
    "duration": 34,
    "start_time": "2021-07-02T16:25:02.719Z"
   },
   {
    "duration": 30,
    "start_time": "2021-07-02T16:25:02.756Z"
   },
   {
    "duration": 45,
    "start_time": "2021-07-02T16:25:02.789Z"
   },
   {
    "duration": 35,
    "start_time": "2021-07-02T16:25:02.836Z"
   },
   {
    "duration": 738,
    "start_time": "2021-07-02T16:25:02.874Z"
   },
   {
    "duration": 20,
    "start_time": "2021-07-02T16:25:03.615Z"
   },
   {
    "duration": 27,
    "start_time": "2021-07-02T16:25:03.637Z"
   },
   {
    "duration": 30,
    "start_time": "2021-07-02T16:25:03.666Z"
   },
   {
    "duration": 15,
    "start_time": "2021-07-02T16:25:03.699Z"
   },
   {
    "duration": 18,
    "start_time": "2021-07-02T16:25:03.717Z"
   },
   {
    "duration": 620,
    "start_time": "2021-07-02T16:25:03.738Z"
   },
   {
    "duration": 544,
    "start_time": "2021-07-02T16:25:04.360Z"
   },
   {
    "duration": 3,
    "start_time": "2021-07-02T16:25:04.907Z"
   },
   {
    "duration": 31,
    "start_time": "2021-07-02T16:25:04.913Z"
   },
   {
    "duration": 17,
    "start_time": "2021-07-02T16:25:04.947Z"
   },
   {
    "duration": 65,
    "start_time": "2021-07-02T16:25:04.966Z"
   },
   {
    "duration": 509,
    "start_time": "2021-07-02T16:25:05.033Z"
   },
   {
    "duration": 35,
    "start_time": "2021-07-02T16:25:05.544Z"
   },
   {
    "duration": 1174,
    "start_time": "2021-07-02T16:25:05.582Z"
   },
   {
    "duration": 699,
    "start_time": "2021-07-02T16:25:06.758Z"
   },
   {
    "duration": 659,
    "start_time": "2021-07-02T16:25:07.460Z"
   },
   {
    "duration": 537,
    "start_time": "2021-07-02T16:25:08.121Z"
   },
   {
    "duration": 43,
    "start_time": "2021-07-02T16:25:08.661Z"
   },
   {
    "duration": 566,
    "start_time": "2021-07-02T16:25:08.707Z"
   },
   {
    "duration": 707,
    "start_time": "2021-07-02T16:25:09.276Z"
   },
   {
    "duration": 1395,
    "start_time": "2021-07-02T16:25:09.986Z"
   },
   {
    "duration": 551,
    "start_time": "2021-07-02T16:25:11.388Z"
   },
   {
    "duration": 15,
    "start_time": "2021-07-02T16:25:11.942Z"
   },
   {
    "duration": 99,
    "start_time": "2021-07-02T16:25:11.960Z"
   },
   {
    "duration": -629,
    "start_time": "2021-07-02T16:25:12.691Z"
   },
   {
    "duration": -641,
    "start_time": "2021-07-02T16:25:12.705Z"
   },
   {
    "duration": -659,
    "start_time": "2021-07-02T16:25:12.724Z"
   },
   {
    "duration": -676,
    "start_time": "2021-07-02T16:25:12.743Z"
   },
   {
    "duration": -695,
    "start_time": "2021-07-02T16:25:12.763Z"
   },
   {
    "duration": -711,
    "start_time": "2021-07-02T16:25:12.781Z"
   },
   {
    "duration": -723,
    "start_time": "2021-07-02T16:25:12.794Z"
   },
   {
    "duration": -748,
    "start_time": "2021-07-02T16:25:12.820Z"
   },
   {
    "duration": -766,
    "start_time": "2021-07-02T16:25:12.840Z"
   },
   {
    "duration": -785,
    "start_time": "2021-07-02T16:25:12.860Z"
   },
   {
    "duration": -804,
    "start_time": "2021-07-02T16:25:12.880Z"
   },
   {
    "duration": -821,
    "start_time": "2021-07-02T16:25:12.899Z"
   },
   {
    "duration": -832,
    "start_time": "2021-07-02T16:25:12.911Z"
   },
   {
    "duration": 405,
    "start_time": "2021-07-02T16:26:22.158Z"
   },
   {
    "duration": 1615,
    "start_time": "2021-07-02T16:28:08.695Z"
   },
   {
    "duration": 218,
    "start_time": "2021-07-02T16:28:10.318Z"
   },
   {
    "duration": 62,
    "start_time": "2021-07-02T16:28:10.540Z"
   },
   {
    "duration": 7,
    "start_time": "2021-07-02T16:28:10.605Z"
   },
   {
    "duration": 49,
    "start_time": "2021-07-02T16:28:10.615Z"
   },
   {
    "duration": 35,
    "start_time": "2021-07-02T16:28:10.666Z"
   },
   {
    "duration": 24,
    "start_time": "2021-07-02T16:28:10.705Z"
   },
   {
    "duration": 7,
    "start_time": "2021-07-02T16:28:10.732Z"
   },
   {
    "duration": 35,
    "start_time": "2021-07-02T16:28:10.741Z"
   },
   {
    "duration": 119,
    "start_time": "2021-07-02T16:28:10.779Z"
   },
   {
    "duration": 25,
    "start_time": "2021-07-02T16:28:10.901Z"
   },
   {
    "duration": 43,
    "start_time": "2021-07-02T16:28:10.929Z"
   },
   {
    "duration": 41,
    "start_time": "2021-07-02T16:28:10.974Z"
   },
   {
    "duration": 79,
    "start_time": "2021-07-02T16:28:11.018Z"
   },
   {
    "duration": 17,
    "start_time": "2021-07-02T16:28:11.099Z"
   },
   {
    "duration": 12,
    "start_time": "2021-07-02T16:28:11.118Z"
   },
   {
    "duration": 59,
    "start_time": "2021-07-02T16:28:11.133Z"
   },
   {
    "duration": 14,
    "start_time": "2021-07-02T16:28:11.195Z"
   },
   {
    "duration": 50,
    "start_time": "2021-07-02T16:28:11.213Z"
   },
   {
    "duration": 9,
    "start_time": "2021-07-02T16:28:11.266Z"
   },
   {
    "duration": 21,
    "start_time": "2021-07-02T16:28:11.278Z"
   },
   {
    "duration": 17,
    "start_time": "2021-07-02T16:28:11.307Z"
   },
   {
    "duration": 28,
    "start_time": "2021-07-02T16:28:11.329Z"
   },
   {
    "duration": 33,
    "start_time": "2021-07-02T16:28:11.360Z"
   },
   {
    "duration": 10,
    "start_time": "2021-07-02T16:28:11.396Z"
   },
   {
    "duration": 14,
    "start_time": "2021-07-02T16:28:11.409Z"
   },
   {
    "duration": 6,
    "start_time": "2021-07-02T16:28:11.456Z"
   },
   {
    "duration": 35,
    "start_time": "2021-07-02T16:28:11.465Z"
   },
   {
    "duration": 104,
    "start_time": "2021-07-02T16:28:11.504Z"
   },
   {
    "duration": 16,
    "start_time": "2021-07-02T16:28:11.610Z"
   },
   {
    "duration": 33,
    "start_time": "2021-07-02T16:28:11.629Z"
   },
   {
    "duration": 47,
    "start_time": "2021-07-02T16:28:11.664Z"
   },
   {
    "duration": 73,
    "start_time": "2021-07-02T16:28:11.713Z"
   },
   {
    "duration": 5,
    "start_time": "2021-07-02T16:28:11.789Z"
   },
   {
    "duration": 21,
    "start_time": "2021-07-02T16:28:11.797Z"
   },
   {
    "duration": 91,
    "start_time": "2021-07-02T16:28:11.821Z"
   },
   {
    "duration": 6,
    "start_time": "2021-07-02T16:28:11.914Z"
   },
   {
    "duration": 38,
    "start_time": "2021-07-02T16:28:11.922Z"
   },
   {
    "duration": 24,
    "start_time": "2021-07-02T16:28:11.962Z"
   },
   {
    "duration": 37,
    "start_time": "2021-07-02T16:28:11.988Z"
   },
   {
    "duration": 42,
    "start_time": "2021-07-02T16:28:12.028Z"
   },
   {
    "duration": 6,
    "start_time": "2021-07-02T16:28:12.072Z"
   },
   {
    "duration": 13,
    "start_time": "2021-07-02T16:28:12.081Z"
   },
   {
    "duration": 23,
    "start_time": "2021-07-02T16:28:12.096Z"
   },
   {
    "duration": 32,
    "start_time": "2021-07-02T16:28:12.122Z"
   },
   {
    "duration": 751,
    "start_time": "2021-07-02T16:28:12.157Z"
   },
   {
    "duration": 21,
    "start_time": "2021-07-02T16:28:12.910Z"
   },
   {
    "duration": 24,
    "start_time": "2021-07-02T16:28:12.934Z"
   },
   {
    "duration": 29,
    "start_time": "2021-07-02T16:28:12.962Z"
   },
   {
    "duration": 25,
    "start_time": "2021-07-02T16:28:12.993Z"
   },
   {
    "duration": 23,
    "start_time": "2021-07-02T16:28:13.020Z"
   },
   {
    "duration": 630,
    "start_time": "2021-07-02T16:28:13.045Z"
   },
   {
    "duration": 543,
    "start_time": "2021-07-02T16:28:13.677Z"
   },
   {
    "duration": 3,
    "start_time": "2021-07-02T16:28:14.222Z"
   },
   {
    "duration": 8,
    "start_time": "2021-07-02T16:28:14.228Z"
   },
   {
    "duration": 4,
    "start_time": "2021-07-02T16:28:14.254Z"
   },
   {
    "duration": 35,
    "start_time": "2021-07-02T16:28:14.260Z"
   },
   {
    "duration": 511,
    "start_time": "2021-07-02T16:28:14.298Z"
   },
   {
    "duration": 44,
    "start_time": "2021-07-02T16:28:14.811Z"
   },
   {
    "duration": 1140,
    "start_time": "2021-07-02T16:28:14.858Z"
   },
   {
    "duration": 659,
    "start_time": "2021-07-02T16:28:16.000Z"
   },
   {
    "duration": 631,
    "start_time": "2021-07-02T16:28:16.662Z"
   },
   {
    "duration": 537,
    "start_time": "2021-07-02T16:28:17.295Z"
   },
   {
    "duration": 51,
    "start_time": "2021-07-02T16:28:17.834Z"
   },
   {
    "duration": 603,
    "start_time": "2021-07-02T16:28:17.887Z"
   },
   {
    "duration": 537,
    "start_time": "2021-07-02T16:28:18.492Z"
   },
   {
    "duration": 1020,
    "start_time": "2021-07-02T16:28:19.037Z"
   },
   {
    "duration": 16,
    "start_time": "2021-07-02T16:28:20.061Z"
   },
   {
    "duration": 104,
    "start_time": "2021-07-02T16:28:20.080Z"
   },
   {
    "duration": -613,
    "start_time": "2021-07-02T16:28:20.799Z"
   },
   {
    "duration": -630,
    "start_time": "2021-07-02T16:28:20.818Z"
   },
   {
    "duration": -650,
    "start_time": "2021-07-02T16:28:20.839Z"
   },
   {
    "duration": -679,
    "start_time": "2021-07-02T16:28:20.870Z"
   },
   {
    "duration": -699,
    "start_time": "2021-07-02T16:28:20.892Z"
   },
   {
    "duration": -717,
    "start_time": "2021-07-02T16:28:20.911Z"
   },
   {
    "duration": -729,
    "start_time": "2021-07-02T16:28:20.924Z"
   },
   {
    "duration": -746,
    "start_time": "2021-07-02T16:28:20.943Z"
   },
   {
    "duration": -758,
    "start_time": "2021-07-02T16:28:20.956Z"
   },
   {
    "duration": -785,
    "start_time": "2021-07-02T16:28:20.985Z"
   },
   {
    "duration": -798,
    "start_time": "2021-07-02T16:28:20.999Z"
   },
   {
    "duration": -817,
    "start_time": "2021-07-02T16:28:21.019Z"
   },
   {
    "duration": -838,
    "start_time": "2021-07-02T16:28:21.041Z"
   },
   {
    "duration": 7,
    "start_time": "2021-07-02T16:41:12.059Z"
   },
   {
    "duration": 20,
    "start_time": "2021-07-02T16:41:13.420Z"
   },
   {
    "duration": 35,
    "start_time": "2021-07-02T16:41:40.917Z"
   },
   {
    "duration": 1078,
    "start_time": "2021-07-02T16:43:53.776Z"
   },
   {
    "duration": 662,
    "start_time": "2021-07-02T16:45:08.177Z"
   },
   {
    "duration": 30,
    "start_time": "2021-07-02T16:49:25.062Z"
   },
   {
    "duration": 37,
    "start_time": "2021-07-02T16:54:31.923Z"
   },
   {
    "duration": 8,
    "start_time": "2021-07-02T16:59:46.666Z"
   },
   {
    "duration": 9,
    "start_time": "2021-07-02T17:00:01.745Z"
   },
   {
    "duration": 8,
    "start_time": "2021-07-02T17:05:27.112Z"
   },
   {
    "duration": 14,
    "start_time": "2021-07-02T17:16:23.934Z"
   },
   {
    "duration": 1536,
    "start_time": "2021-07-02T17:18:57.595Z"
   },
   {
    "duration": 206,
    "start_time": "2021-07-02T17:18:59.135Z"
   },
   {
    "duration": 60,
    "start_time": "2021-07-02T17:18:59.344Z"
   },
   {
    "duration": 5,
    "start_time": "2021-07-02T17:18:59.407Z"
   },
   {
    "duration": 39,
    "start_time": "2021-07-02T17:18:59.415Z"
   },
   {
    "duration": 5,
    "start_time": "2021-07-02T17:18:59.457Z"
   },
   {
    "duration": 19,
    "start_time": "2021-07-02T17:18:59.464Z"
   },
   {
    "duration": 6,
    "start_time": "2021-07-02T17:18:59.487Z"
   },
   {
    "duration": 60,
    "start_time": "2021-07-02T17:18:59.497Z"
   },
   {
    "duration": 148,
    "start_time": "2021-07-02T17:18:59.559Z"
   },
   {
    "duration": 44,
    "start_time": "2021-07-02T17:18:59.710Z"
   },
   {
    "duration": 13,
    "start_time": "2021-07-02T17:18:59.757Z"
   },
   {
    "duration": 38,
    "start_time": "2021-07-02T17:18:59.772Z"
   },
   {
    "duration": 94,
    "start_time": "2021-07-02T17:18:59.812Z"
   },
   {
    "duration": 18,
    "start_time": "2021-07-02T17:18:59.909Z"
   },
   {
    "duration": 5,
    "start_time": "2021-07-02T17:18:59.954Z"
   },
   {
    "duration": 46,
    "start_time": "2021-07-02T17:18:59.961Z"
   },
   {
    "duration": 49,
    "start_time": "2021-07-02T17:19:00.009Z"
   },
   {
    "duration": 17,
    "start_time": "2021-07-02T17:19:00.061Z"
   },
   {
    "duration": 8,
    "start_time": "2021-07-02T17:19:00.081Z"
   },
   {
    "duration": 9,
    "start_time": "2021-07-02T17:19:00.091Z"
   },
   {
    "duration": 53,
    "start_time": "2021-07-02T17:19:00.103Z"
   },
   {
    "duration": 10,
    "start_time": "2021-07-02T17:19:00.163Z"
   },
   {
    "duration": 28,
    "start_time": "2021-07-02T17:19:00.177Z"
   },
   {
    "duration": 18,
    "start_time": "2021-07-02T17:19:00.208Z"
   },
   {
    "duration": 41,
    "start_time": "2021-07-02T17:19:00.228Z"
   },
   {
    "duration": 12,
    "start_time": "2021-07-02T17:19:00.271Z"
   },
   {
    "duration": 38,
    "start_time": "2021-07-02T17:19:00.285Z"
   },
   {
    "duration": 92,
    "start_time": "2021-07-02T17:19:00.326Z"
   },
   {
    "duration": 34,
    "start_time": "2021-07-02T17:19:00.421Z"
   },
   {
    "duration": 13,
    "start_time": "2021-07-02T17:19:00.457Z"
   },
   {
    "duration": 89,
    "start_time": "2021-07-02T17:19:00.472Z"
   },
   {
    "duration": 46,
    "start_time": "2021-07-02T17:19:00.564Z"
   },
   {
    "duration": 6,
    "start_time": "2021-07-02T17:19:00.612Z"
   },
   {
    "duration": 47,
    "start_time": "2021-07-02T17:19:00.620Z"
   },
   {
    "duration": 78,
    "start_time": "2021-07-02T17:19:00.669Z"
   },
   {
    "duration": 6,
    "start_time": "2021-07-02T17:19:00.750Z"
   },
   {
    "duration": 18,
    "start_time": "2021-07-02T17:19:00.759Z"
   },
   {
    "duration": 28,
    "start_time": "2021-07-02T17:19:00.779Z"
   },
   {
    "duration": 63,
    "start_time": "2021-07-02T17:19:00.810Z"
   },
   {
    "duration": 19,
    "start_time": "2021-07-02T17:19:00.875Z"
   },
   {
    "duration": 14,
    "start_time": "2021-07-02T17:19:00.896Z"
   },
   {
    "duration": 22,
    "start_time": "2021-07-02T17:19:00.912Z"
   },
   {
    "duration": 24,
    "start_time": "2021-07-02T17:19:00.936Z"
   },
   {
    "duration": 11,
    "start_time": "2021-07-02T17:19:00.963Z"
   },
   {
    "duration": 725,
    "start_time": "2021-07-02T17:19:00.977Z"
   },
   {
    "duration": 21,
    "start_time": "2021-07-02T17:19:01.704Z"
   },
   {
    "duration": 28,
    "start_time": "2021-07-02T17:19:01.727Z"
   },
   {
    "duration": 15,
    "start_time": "2021-07-02T17:19:01.757Z"
   },
   {
    "duration": 29,
    "start_time": "2021-07-02T17:19:01.775Z"
   },
   {
    "duration": 37,
    "start_time": "2021-07-02T17:19:01.806Z"
   },
   {
    "duration": 13,
    "start_time": "2021-07-02T17:19:01.846Z"
   },
   {
    "duration": 39,
    "start_time": "2021-07-02T17:19:01.862Z"
   },
   {
    "duration": 26,
    "start_time": "2021-07-02T17:19:01.903Z"
   },
   {
    "duration": 14,
    "start_time": "2021-07-02T17:19:01.931Z"
   },
   {
    "duration": 615,
    "start_time": "2021-07-02T17:19:01.947Z"
   },
   {
    "duration": 556,
    "start_time": "2021-07-02T17:19:02.564Z"
   },
   {
    "duration": 2,
    "start_time": "2021-07-02T17:19:03.123Z"
   },
   {
    "duration": 21,
    "start_time": "2021-07-02T17:19:03.128Z"
   },
   {
    "duration": 9,
    "start_time": "2021-07-02T17:19:03.152Z"
   },
   {
    "duration": 52,
    "start_time": "2021-07-02T17:19:03.163Z"
   },
   {
    "duration": 481,
    "start_time": "2021-07-02T17:19:03.218Z"
   },
   {
    "duration": 52,
    "start_time": "2021-07-02T17:19:03.702Z"
   },
   {
    "duration": 1104,
    "start_time": "2021-07-02T17:19:03.757Z"
   },
   {
    "duration": 693,
    "start_time": "2021-07-02T17:19:04.864Z"
   },
   {
    "duration": 8,
    "start_time": "2021-07-02T17:19:05.559Z"
   },
   {
    "duration": 669,
    "start_time": "2021-07-02T17:19:05.570Z"
   },
   {
    "duration": 623,
    "start_time": "2021-07-02T17:19:06.255Z"
   },
   {
    "duration": 509,
    "start_time": "2021-07-02T17:19:06.881Z"
   },
   {
    "duration": 62,
    "start_time": "2021-07-02T17:19:07.392Z"
   },
   {
    "duration": 606,
    "start_time": "2021-07-02T17:19:07.457Z"
   },
   {
    "duration": 528,
    "start_time": "2021-07-02T17:19:08.066Z"
   },
   {
    "duration": 546,
    "start_time": "2021-07-02T17:19:08.597Z"
   },
   {
    "duration": 20,
    "start_time": "2021-07-02T17:19:09.146Z"
   },
   {
    "duration": 96,
    "start_time": "2021-07-02T17:19:09.169Z"
   },
   {
    "duration": -561,
    "start_time": "2021-07-02T17:19:09.828Z"
   },
   {
    "duration": -582,
    "start_time": "2021-07-02T17:19:09.851Z"
   },
   {
    "duration": -600,
    "start_time": "2021-07-02T17:19:09.870Z"
   },
   {
    "duration": -619,
    "start_time": "2021-07-02T17:19:09.891Z"
   },
   {
    "duration": -678,
    "start_time": "2021-07-02T17:19:09.951Z"
   },
   {
    "duration": -691,
    "start_time": "2021-07-02T17:19:09.966Z"
   },
   {
    "duration": -727,
    "start_time": "2021-07-02T17:19:10.004Z"
   },
   {
    "duration": -755,
    "start_time": "2021-07-02T17:19:10.033Z"
   },
   {
    "duration": -780,
    "start_time": "2021-07-02T17:19:10.059Z"
   },
   {
    "duration": -801,
    "start_time": "2021-07-02T17:19:10.082Z"
   },
   {
    "duration": -820,
    "start_time": "2021-07-02T17:19:10.102Z"
   },
   {
    "duration": -832,
    "start_time": "2021-07-02T17:19:10.116Z"
   },
   {
    "duration": -853,
    "start_time": "2021-07-02T17:19:10.138Z"
   },
   {
    "duration": 15,
    "start_time": "2021-07-02T17:24:09.829Z"
   },
   {
    "duration": 137,
    "start_time": "2021-07-02T17:26:48.647Z"
   },
   {
    "duration": 13,
    "start_time": "2021-07-02T17:26:56.223Z"
   },
   {
    "duration": 13,
    "start_time": "2021-07-02T17:29:09.954Z"
   },
   {
    "duration": 1119,
    "start_time": "2021-07-02T17:33:56.858Z"
   },
   {
    "duration": 755,
    "start_time": "2021-07-02T17:35:16.158Z"
   },
   {
    "duration": 7,
    "start_time": "2021-07-02T17:36:31.918Z"
   },
   {
    "duration": 6,
    "start_time": "2021-07-02T17:37:45.016Z"
   },
   {
    "duration": 689,
    "start_time": "2021-07-02T17:37:47.656Z"
   },
   {
    "duration": 1591,
    "start_time": "2021-07-02T17:38:06.912Z"
   },
   {
    "duration": 209,
    "start_time": "2021-07-02T17:38:08.506Z"
   },
   {
    "duration": 57,
    "start_time": "2021-07-02T17:38:08.718Z"
   },
   {
    "duration": 6,
    "start_time": "2021-07-02T17:38:08.778Z"
   },
   {
    "duration": 24,
    "start_time": "2021-07-02T17:38:08.786Z"
   },
   {
    "duration": 21,
    "start_time": "2021-07-02T17:38:08.812Z"
   },
   {
    "duration": 25,
    "start_time": "2021-07-02T17:38:08.836Z"
   },
   {
    "duration": 6,
    "start_time": "2021-07-02T17:38:08.865Z"
   },
   {
    "duration": 55,
    "start_time": "2021-07-02T17:38:08.874Z"
   },
   {
    "duration": 146,
    "start_time": "2021-07-02T17:38:08.932Z"
   },
   {
    "duration": 20,
    "start_time": "2021-07-02T17:38:09.081Z"
   },
   {
    "duration": 24,
    "start_time": "2021-07-02T17:38:09.104Z"
   },
   {
    "duration": 61,
    "start_time": "2021-07-02T17:38:09.131Z"
   },
   {
    "duration": 92,
    "start_time": "2021-07-02T17:38:09.195Z"
   },
   {
    "duration": 20,
    "start_time": "2021-07-02T17:38:09.290Z"
   },
   {
    "duration": 6,
    "start_time": "2021-07-02T17:38:09.313Z"
   },
   {
    "duration": 50,
    "start_time": "2021-07-02T17:38:09.354Z"
   },
   {
    "duration": 47,
    "start_time": "2021-07-02T17:38:09.407Z"
   },
   {
    "duration": 22,
    "start_time": "2021-07-02T17:38:09.458Z"
   },
   {
    "duration": 10,
    "start_time": "2021-07-02T17:38:09.483Z"
   },
   {
    "duration": 9,
    "start_time": "2021-07-02T17:38:09.496Z"
   },
   {
    "duration": 57,
    "start_time": "2021-07-02T17:38:09.508Z"
   },
   {
    "duration": 11,
    "start_time": "2021-07-02T17:38:09.571Z"
   },
   {
    "duration": 34,
    "start_time": "2021-07-02T17:38:09.586Z"
   },
   {
    "duration": 7,
    "start_time": "2021-07-02T17:38:09.623Z"
   },
   {
    "duration": 33,
    "start_time": "2021-07-02T17:38:09.632Z"
   },
   {
    "duration": 17,
    "start_time": "2021-07-02T17:38:09.668Z"
   },
   {
    "duration": 33,
    "start_time": "2021-07-02T17:38:09.688Z"
   },
   {
    "duration": 94,
    "start_time": "2021-07-02T17:38:09.724Z"
   },
   {
    "duration": 37,
    "start_time": "2021-07-02T17:38:09.820Z"
   },
   {
    "duration": 22,
    "start_time": "2021-07-02T17:38:09.860Z"
   },
   {
    "duration": 76,
    "start_time": "2021-07-02T17:38:09.885Z"
   },
   {
    "duration": 45,
    "start_time": "2021-07-02T17:38:09.964Z"
   },
   {
    "duration": 5,
    "start_time": "2021-07-02T17:38:10.012Z"
   },
   {
    "duration": 46,
    "start_time": "2021-07-02T17:38:10.020Z"
   },
   {
    "duration": 90,
    "start_time": "2021-07-02T17:38:10.069Z"
   },
   {
    "duration": 8,
    "start_time": "2021-07-02T17:38:10.161Z"
   },
   {
    "duration": 24,
    "start_time": "2021-07-02T17:38:10.172Z"
   },
   {
    "duration": 25,
    "start_time": "2021-07-02T17:38:10.199Z"
   },
   {
    "duration": 40,
    "start_time": "2021-07-02T17:38:10.255Z"
   },
   {
    "duration": 20,
    "start_time": "2021-07-02T17:38:10.298Z"
   },
   {
    "duration": 33,
    "start_time": "2021-07-02T17:38:10.321Z"
   },
   {
    "duration": 21,
    "start_time": "2021-07-02T17:38:10.358Z"
   },
   {
    "duration": 36,
    "start_time": "2021-07-02T17:38:10.382Z"
   },
   {
    "duration": 17,
    "start_time": "2021-07-02T17:38:10.421Z"
   },
   {
    "duration": 722,
    "start_time": "2021-07-02T17:38:10.440Z"
   },
   {
    "duration": 22,
    "start_time": "2021-07-02T17:38:11.164Z"
   },
   {
    "duration": 24,
    "start_time": "2021-07-02T17:38:11.188Z"
   },
   {
    "duration": 24,
    "start_time": "2021-07-02T17:38:11.215Z"
   },
   {
    "duration": 40,
    "start_time": "2021-07-02T17:38:11.242Z"
   },
   {
    "duration": 62,
    "start_time": "2021-07-02T17:38:11.285Z"
   },
   {
    "duration": 675,
    "start_time": "2021-07-02T17:38:11.350Z"
   },
   {
    "duration": 7,
    "start_time": "2021-07-02T17:38:12.028Z"
   },
   {
    "duration": 25,
    "start_time": "2021-07-02T17:38:12.037Z"
   },
   {
    "duration": 36,
    "start_time": "2021-07-02T17:38:12.065Z"
   },
   {
    "duration": 25,
    "start_time": "2021-07-02T17:38:12.103Z"
   },
   {
    "duration": 22,
    "start_time": "2021-07-02T17:38:12.131Z"
   },
   {
    "duration": 31,
    "start_time": "2021-07-02T17:38:12.156Z"
   },
   {
    "duration": 782,
    "start_time": "2021-07-02T17:38:12.190Z"
   },
   {
    "duration": 551,
    "start_time": "2021-07-02T17:38:12.975Z"
   },
   {
    "duration": 3,
    "start_time": "2021-07-02T17:38:13.529Z"
   },
   {
    "duration": 23,
    "start_time": "2021-07-02T17:38:13.534Z"
   },
   {
    "duration": 10,
    "start_time": "2021-07-02T17:38:13.560Z"
   },
   {
    "duration": 41,
    "start_time": "2021-07-02T17:38:13.572Z"
   },
   {
    "duration": 417,
    "start_time": "2021-07-02T17:38:13.616Z"
   },
   {
    "duration": 53,
    "start_time": "2021-07-02T17:38:14.036Z"
   },
   {
    "duration": 1135,
    "start_time": "2021-07-02T17:38:14.092Z"
   },
   {
    "duration": 756,
    "start_time": "2021-07-02T17:38:15.236Z"
   },
   {
    "duration": 626,
    "start_time": "2021-07-02T17:38:15.995Z"
   },
   {
    "duration": 503,
    "start_time": "2021-07-02T17:38:16.624Z"
   },
   {
    "duration": 55,
    "start_time": "2021-07-02T17:38:17.130Z"
   },
   {
    "duration": 614,
    "start_time": "2021-07-02T17:38:17.187Z"
   },
   {
    "duration": 517,
    "start_time": "2021-07-02T17:38:17.803Z"
   },
   {
    "duration": 538,
    "start_time": "2021-07-02T17:38:18.322Z"
   },
   {
    "duration": 11,
    "start_time": "2021-07-02T17:38:18.863Z"
   },
   {
    "duration": 94,
    "start_time": "2021-07-02T17:38:18.876Z"
   },
   {
    "duration": -590,
    "start_time": "2021-07-02T17:38:19.563Z"
   },
   {
    "duration": -612,
    "start_time": "2021-07-02T17:38:19.586Z"
   },
   {
    "duration": -633,
    "start_time": "2021-07-02T17:38:19.609Z"
   },
   {
    "duration": -659,
    "start_time": "2021-07-02T17:38:19.636Z"
   },
   {
    "duration": -683,
    "start_time": "2021-07-02T17:38:19.662Z"
   },
   {
    "duration": -709,
    "start_time": "2021-07-02T17:38:19.689Z"
   },
   {
    "duration": -732,
    "start_time": "2021-07-02T17:38:19.714Z"
   },
   {
    "duration": -754,
    "start_time": "2021-07-02T17:38:19.737Z"
   },
   {
    "duration": -777,
    "start_time": "2021-07-02T17:38:19.762Z"
   },
   {
    "duration": -798,
    "start_time": "2021-07-02T17:38:19.785Z"
   },
   {
    "duration": -822,
    "start_time": "2021-07-02T17:38:19.810Z"
   },
   {
    "duration": -844,
    "start_time": "2021-07-02T17:38:19.834Z"
   },
   {
    "duration": -870,
    "start_time": "2021-07-02T17:38:19.861Z"
   },
   {
    "duration": 6750,
    "start_time": "2021-07-02T17:42:02.675Z"
   },
   {
    "duration": -523,
    "start_time": "2021-07-02T17:42:09.951Z"
   },
   {
    "duration": 5,
    "start_time": "2021-07-02T17:43:12.197Z"
   },
   {
    "duration": 5,
    "start_time": "2021-07-02T17:43:14.132Z"
   },
   {
    "duration": 259,
    "start_time": "2021-07-02T17:43:23.396Z"
   },
   {
    "duration": 6,
    "start_time": "2021-07-02T17:45:43.907Z"
   },
   {
    "duration": 5,
    "start_time": "2021-07-02T17:45:46.475Z"
   },
   {
    "duration": 6,
    "start_time": "2021-07-02T17:46:51.264Z"
   },
   {
    "duration": 11,
    "start_time": "2021-07-02T17:46:52.376Z"
   },
   {
    "duration": 6,
    "start_time": "2021-07-02T17:47:11.547Z"
   },
   {
    "duration": 5,
    "start_time": "2021-07-02T17:47:12.459Z"
   },
   {
    "duration": 1527,
    "start_time": "2021-07-02T17:47:21.880Z"
   },
   {
    "duration": 206,
    "start_time": "2021-07-02T17:47:23.410Z"
   },
   {
    "duration": 57,
    "start_time": "2021-07-02T17:47:23.619Z"
   },
   {
    "duration": 7,
    "start_time": "2021-07-02T17:47:23.679Z"
   },
   {
    "duration": 35,
    "start_time": "2021-07-02T17:47:23.688Z"
   },
   {
    "duration": 14,
    "start_time": "2021-07-02T17:47:23.725Z"
   },
   {
    "duration": 33,
    "start_time": "2021-07-02T17:47:23.742Z"
   },
   {
    "duration": 11,
    "start_time": "2021-07-02T17:47:23.779Z"
   },
   {
    "duration": 31,
    "start_time": "2021-07-02T17:47:23.794Z"
   },
   {
    "duration": 112,
    "start_time": "2021-07-02T17:47:23.827Z"
   },
   {
    "duration": 31,
    "start_time": "2021-07-02T17:47:23.941Z"
   },
   {
    "duration": 22,
    "start_time": "2021-07-02T17:47:23.975Z"
   },
   {
    "duration": 57,
    "start_time": "2021-07-02T17:47:24.000Z"
   },
   {
    "duration": 54,
    "start_time": "2021-07-02T17:47:24.060Z"
   },
   {
    "duration": 39,
    "start_time": "2021-07-02T17:47:24.116Z"
   },
   {
    "duration": 6,
    "start_time": "2021-07-02T17:47:24.157Z"
   },
   {
    "duration": 62,
    "start_time": "2021-07-02T17:47:24.165Z"
   },
   {
    "duration": 17,
    "start_time": "2021-07-02T17:47:24.256Z"
   },
   {
    "duration": 26,
    "start_time": "2021-07-02T17:47:24.276Z"
   },
   {
    "duration": 10,
    "start_time": "2021-07-02T17:47:24.305Z"
   },
   {
    "duration": 40,
    "start_time": "2021-07-02T17:47:24.318Z"
   },
   {
    "duration": 33,
    "start_time": "2021-07-02T17:47:24.361Z"
   },
   {
    "duration": 12,
    "start_time": "2021-07-02T17:47:24.403Z"
   },
   {
    "duration": 45,
    "start_time": "2021-07-02T17:47:24.420Z"
   },
   {
    "duration": 9,
    "start_time": "2021-07-02T17:47:24.468Z"
   },
   {
    "duration": 20,
    "start_time": "2021-07-02T17:47:24.480Z"
   },
   {
    "duration": 15,
    "start_time": "2021-07-02T17:47:24.503Z"
   },
   {
    "duration": 58,
    "start_time": "2021-07-02T17:47:24.521Z"
   },
   {
    "duration": 98,
    "start_time": "2021-07-02T17:47:24.582Z"
   },
   {
    "duration": 17,
    "start_time": "2021-07-02T17:47:24.683Z"
   },
   {
    "duration": 29,
    "start_time": "2021-07-02T17:47:24.702Z"
   },
   {
    "duration": 65,
    "start_time": "2021-07-02T17:47:24.733Z"
   },
   {
    "duration": 67,
    "start_time": "2021-07-02T17:47:24.800Z"
   },
   {
    "duration": 5,
    "start_time": "2021-07-02T17:47:24.870Z"
   },
   {
    "duration": 42,
    "start_time": "2021-07-02T17:47:24.877Z"
   },
   {
    "duration": 75,
    "start_time": "2021-07-02T17:47:24.921Z"
   },
   {
    "duration": 6,
    "start_time": "2021-07-02T17:47:24.999Z"
   },
   {
    "duration": 20,
    "start_time": "2021-07-02T17:47:25.007Z"
   },
   {
    "duration": 47,
    "start_time": "2021-07-02T17:47:25.029Z"
   },
   {
    "duration": 46,
    "start_time": "2021-07-02T17:47:25.079Z"
   },
   {
    "duration": 36,
    "start_time": "2021-07-02T17:47:25.128Z"
   },
   {
    "duration": 12,
    "start_time": "2021-07-02T17:47:25.167Z"
   },
   {
    "duration": 23,
    "start_time": "2021-07-02T17:47:25.181Z"
   },
   {
    "duration": 37,
    "start_time": "2021-07-02T17:47:25.206Z"
   },
   {
    "duration": 9,
    "start_time": "2021-07-02T17:47:25.246Z"
   },
   {
    "duration": 817,
    "start_time": "2021-07-02T17:47:25.258Z"
   },
   {
    "duration": 24,
    "start_time": "2021-07-02T17:47:26.078Z"
   },
   {
    "duration": 7,
    "start_time": "2021-07-02T17:47:26.105Z"
   },
   {
    "duration": 42,
    "start_time": "2021-07-02T17:47:26.115Z"
   },
   {
    "duration": 23,
    "start_time": "2021-07-02T17:47:26.159Z"
   },
   {
    "duration": 36,
    "start_time": "2021-07-02T17:47:26.184Z"
   },
   {
    "duration": 685,
    "start_time": "2021-07-02T17:47:26.222Z"
   },
   {
    "duration": 7,
    "start_time": "2021-07-02T17:47:26.909Z"
   },
   {
    "duration": 11,
    "start_time": "2021-07-02T17:47:26.918Z"
   },
   {
    "duration": 23,
    "start_time": "2021-07-02T17:47:26.932Z"
   },
   {
    "duration": 8,
    "start_time": "2021-07-02T17:47:26.958Z"
   },
   {
    "duration": 29,
    "start_time": "2021-07-02T17:47:26.969Z"
   },
   {
    "duration": 13,
    "start_time": "2021-07-02T17:47:27.001Z"
   },
   {
    "duration": 39,
    "start_time": "2021-07-02T17:47:27.017Z"
   },
   {
    "duration": 652,
    "start_time": "2021-07-02T17:47:27.059Z"
   },
   {
    "duration": 541,
    "start_time": "2021-07-02T17:47:27.713Z"
   },
   {
    "duration": 3,
    "start_time": "2021-07-02T17:47:28.256Z"
   },
   {
    "duration": 8,
    "start_time": "2021-07-02T17:47:28.263Z"
   },
   {
    "duration": 9,
    "start_time": "2021-07-02T17:47:28.273Z"
   },
   {
    "duration": 51,
    "start_time": "2021-07-02T17:47:28.284Z"
   },
   {
    "duration": 417,
    "start_time": "2021-07-02T17:47:28.337Z"
   },
   {
    "duration": 38,
    "start_time": "2021-07-02T17:47:28.757Z"
   },
   {
    "duration": 1317,
    "start_time": "2021-07-02T17:47:28.804Z"
   },
   {
    "duration": 658,
    "start_time": "2021-07-02T17:47:30.124Z"
   },
   {
    "duration": 632,
    "start_time": "2021-07-02T17:47:30.785Z"
   },
   {
    "duration": 509,
    "start_time": "2021-07-02T17:47:31.419Z"
   },
   {
    "duration": 51,
    "start_time": "2021-07-02T17:47:31.930Z"
   },
   {
    "duration": 611,
    "start_time": "2021-07-02T17:47:31.984Z"
   },
   {
    "duration": 514,
    "start_time": "2021-07-02T17:47:32.598Z"
   },
   {
    "duration": 532,
    "start_time": "2021-07-02T17:47:33.115Z"
   },
   {
    "duration": 13,
    "start_time": "2021-07-02T17:47:33.654Z"
   },
   {
    "duration": 93,
    "start_time": "2021-07-02T17:47:33.670Z"
   },
   {
    "duration": -527,
    "start_time": "2021-07-02T17:47:34.292Z"
   },
   {
    "duration": -550,
    "start_time": "2021-07-02T17:47:34.317Z"
   },
   {
    "duration": -629,
    "start_time": "2021-07-02T17:47:34.398Z"
   },
   {
    "duration": -660,
    "start_time": "2021-07-02T17:47:34.430Z"
   },
   {
    "duration": -693,
    "start_time": "2021-07-02T17:47:34.465Z"
   },
   {
    "duration": -721,
    "start_time": "2021-07-02T17:47:34.494Z"
   },
   {
    "duration": -743,
    "start_time": "2021-07-02T17:47:34.518Z"
   },
   {
    "duration": -767,
    "start_time": "2021-07-02T17:47:34.543Z"
   },
   {
    "duration": -790,
    "start_time": "2021-07-02T17:47:34.568Z"
   },
   {
    "duration": -812,
    "start_time": "2021-07-02T17:47:34.591Z"
   },
   {
    "duration": -839,
    "start_time": "2021-07-02T17:47:34.619Z"
   },
   {
    "duration": -863,
    "start_time": "2021-07-02T17:47:34.644Z"
   },
   {
    "duration": -886,
    "start_time": "2021-07-02T17:47:34.669Z"
   },
   {
    "duration": 652,
    "start_time": "2021-07-02T17:50:52.843Z"
   },
   {
    "duration": 10,
    "start_time": "2021-07-02T17:51:33.825Z"
   },
   {
    "duration": 6,
    "start_time": "2021-07-02T17:52:39.667Z"
   },
   {
    "duration": 5,
    "start_time": "2021-07-02T17:52:50.524Z"
   },
   {
    "duration": 397,
    "start_time": "2021-07-02T17:52:51.403Z"
   },
   {
    "duration": 6,
    "start_time": "2021-07-02T17:53:05.452Z"
   },
   {
    "duration": 6,
    "start_time": "2021-07-02T17:53:07.126Z"
   },
   {
    "duration": 6,
    "start_time": "2021-07-02T17:53:14.901Z"
   },
   {
    "duration": 17,
    "start_time": "2021-07-02T17:58:28.432Z"
   }
  ],
  "kernelspec": {
   "display_name": "Python 3",
   "language": "python",
   "name": "python3"
  },
  "language_info": {
   "codemirror_mode": {
    "name": "ipython",
    "version": 3
   },
   "file_extension": ".py",
   "mimetype": "text/x-python",
   "name": "python",
   "nbconvert_exporter": "python",
   "pygments_lexer": "ipython3",
   "version": "3.8.5"
  },
  "toc": {
   "base_numbering": 1,
   "nav_menu": {
    "height": "464px",
    "width": "663px"
   },
   "number_sections": true,
   "sideBar": true,
   "skip_h1_title": true,
   "title_cell": "Table of Contents",
   "title_sidebar": "Contents",
   "toc_cell": false,
   "toc_position": {},
   "toc_section_display": true,
   "toc_window_display": false
  }
 },
 "nbformat": 4,
 "nbformat_minor": 2
}
